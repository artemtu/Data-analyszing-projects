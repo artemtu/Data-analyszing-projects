{
 "cells": [
  {
   "cell_type": "markdown",
   "metadata": {},
   "source": [
    "# Открытие и предобработка данных / Open and prepare the data\n",
    "<a id=\"start\"></a>\n"
   ]
  },
  {
   "cell_type": "code",
   "execution_count": 331,
   "metadata": {},
   "outputs": [],
   "source": [
    "import pandas as pd\n",
    "import numpy as np\n",
    "from matplotlib import pyplot as plt\n",
    "from math import factorial\n",
    "import math\n",
    "from scipy import stats as st\n",
    "from IPython.display import display_html\n",
    "from itertools import chain,cycle"
   ]
  },
  {
   "cell_type": "code",
   "execution_count": 332,
   "metadata": {},
   "outputs": [],
   "source": [
    "df = pd.read_csv('https://code.s3.yandex.net/datasets/games.csv')"
   ]
  },
  {
   "cell_type": "code",
   "execution_count": 333,
   "metadata": {},
   "outputs": [
    {
     "data": {
      "text/html": [
       "<div>\n",
       "<style scoped>\n",
       "    .dataframe tbody tr th:only-of-type {\n",
       "        vertical-align: middle;\n",
       "    }\n",
       "\n",
       "    .dataframe tbody tr th {\n",
       "        vertical-align: top;\n",
       "    }\n",
       "\n",
       "    .dataframe thead th {\n",
       "        text-align: right;\n",
       "    }\n",
       "</style>\n",
       "<table border=\"1\" class=\"dataframe\">\n",
       "  <thead>\n",
       "    <tr style=\"text-align: right;\">\n",
       "      <th></th>\n",
       "      <th>Name</th>\n",
       "      <th>Platform</th>\n",
       "      <th>Year_of_Release</th>\n",
       "      <th>Genre</th>\n",
       "      <th>NA_sales</th>\n",
       "      <th>EU_sales</th>\n",
       "      <th>JP_sales</th>\n",
       "      <th>Other_sales</th>\n",
       "      <th>Critic_Score</th>\n",
       "      <th>User_Score</th>\n",
       "      <th>Rating</th>\n",
       "    </tr>\n",
       "  </thead>\n",
       "  <tbody>\n",
       "    <tr>\n",
       "      <th>0</th>\n",
       "      <td>Wii Sports</td>\n",
       "      <td>Wii</td>\n",
       "      <td>2006.0</td>\n",
       "      <td>Sports</td>\n",
       "      <td>41.36</td>\n",
       "      <td>28.96</td>\n",
       "      <td>3.77</td>\n",
       "      <td>8.45</td>\n",
       "      <td>76.0</td>\n",
       "      <td>8</td>\n",
       "      <td>E</td>\n",
       "    </tr>\n",
       "    <tr>\n",
       "      <th>1</th>\n",
       "      <td>Super Mario Bros.</td>\n",
       "      <td>NES</td>\n",
       "      <td>1985.0</td>\n",
       "      <td>Platform</td>\n",
       "      <td>29.08</td>\n",
       "      <td>3.58</td>\n",
       "      <td>6.81</td>\n",
       "      <td>0.77</td>\n",
       "      <td>NaN</td>\n",
       "      <td>NaN</td>\n",
       "      <td>NaN</td>\n",
       "    </tr>\n",
       "    <tr>\n",
       "      <th>2</th>\n",
       "      <td>Mario Kart Wii</td>\n",
       "      <td>Wii</td>\n",
       "      <td>2008.0</td>\n",
       "      <td>Racing</td>\n",
       "      <td>15.68</td>\n",
       "      <td>12.76</td>\n",
       "      <td>3.79</td>\n",
       "      <td>3.29</td>\n",
       "      <td>82.0</td>\n",
       "      <td>8.3</td>\n",
       "      <td>E</td>\n",
       "    </tr>\n",
       "    <tr>\n",
       "      <th>3</th>\n",
       "      <td>Wii Sports Resort</td>\n",
       "      <td>Wii</td>\n",
       "      <td>2009.0</td>\n",
       "      <td>Sports</td>\n",
       "      <td>15.61</td>\n",
       "      <td>10.93</td>\n",
       "      <td>3.28</td>\n",
       "      <td>2.95</td>\n",
       "      <td>80.0</td>\n",
       "      <td>8</td>\n",
       "      <td>E</td>\n",
       "    </tr>\n",
       "    <tr>\n",
       "      <th>4</th>\n",
       "      <td>Pokemon Red/Pokemon Blue</td>\n",
       "      <td>GB</td>\n",
       "      <td>1996.0</td>\n",
       "      <td>Role-Playing</td>\n",
       "      <td>11.27</td>\n",
       "      <td>8.89</td>\n",
       "      <td>10.22</td>\n",
       "      <td>1.00</td>\n",
       "      <td>NaN</td>\n",
       "      <td>NaN</td>\n",
       "      <td>NaN</td>\n",
       "    </tr>\n",
       "    <tr>\n",
       "      <th>5</th>\n",
       "      <td>Tetris</td>\n",
       "      <td>GB</td>\n",
       "      <td>1989.0</td>\n",
       "      <td>Puzzle</td>\n",
       "      <td>23.20</td>\n",
       "      <td>2.26</td>\n",
       "      <td>4.22</td>\n",
       "      <td>0.58</td>\n",
       "      <td>NaN</td>\n",
       "      <td>NaN</td>\n",
       "      <td>NaN</td>\n",
       "    </tr>\n",
       "    <tr>\n",
       "      <th>6</th>\n",
       "      <td>New Super Mario Bros.</td>\n",
       "      <td>DS</td>\n",
       "      <td>2006.0</td>\n",
       "      <td>Platform</td>\n",
       "      <td>11.28</td>\n",
       "      <td>9.14</td>\n",
       "      <td>6.50</td>\n",
       "      <td>2.88</td>\n",
       "      <td>89.0</td>\n",
       "      <td>8.5</td>\n",
       "      <td>E</td>\n",
       "    </tr>\n",
       "    <tr>\n",
       "      <th>7</th>\n",
       "      <td>Wii Play</td>\n",
       "      <td>Wii</td>\n",
       "      <td>2006.0</td>\n",
       "      <td>Misc</td>\n",
       "      <td>13.96</td>\n",
       "      <td>9.18</td>\n",
       "      <td>2.93</td>\n",
       "      <td>2.84</td>\n",
       "      <td>58.0</td>\n",
       "      <td>6.6</td>\n",
       "      <td>E</td>\n",
       "    </tr>\n",
       "    <tr>\n",
       "      <th>8</th>\n",
       "      <td>New Super Mario Bros. Wii</td>\n",
       "      <td>Wii</td>\n",
       "      <td>2009.0</td>\n",
       "      <td>Platform</td>\n",
       "      <td>14.44</td>\n",
       "      <td>6.94</td>\n",
       "      <td>4.70</td>\n",
       "      <td>2.24</td>\n",
       "      <td>87.0</td>\n",
       "      <td>8.4</td>\n",
       "      <td>E</td>\n",
       "    </tr>\n",
       "    <tr>\n",
       "      <th>9</th>\n",
       "      <td>Duck Hunt</td>\n",
       "      <td>NES</td>\n",
       "      <td>1984.0</td>\n",
       "      <td>Shooter</td>\n",
       "      <td>26.93</td>\n",
       "      <td>0.63</td>\n",
       "      <td>0.28</td>\n",
       "      <td>0.47</td>\n",
       "      <td>NaN</td>\n",
       "      <td>NaN</td>\n",
       "      <td>NaN</td>\n",
       "    </tr>\n",
       "  </tbody>\n",
       "</table>\n",
       "</div>"
      ],
      "text/plain": [
       "                        Name Platform  Year_of_Release         Genre  \\\n",
       "0                 Wii Sports      Wii           2006.0        Sports   \n",
       "1          Super Mario Bros.      NES           1985.0      Platform   \n",
       "2             Mario Kart Wii      Wii           2008.0        Racing   \n",
       "3          Wii Sports Resort      Wii           2009.0        Sports   \n",
       "4   Pokemon Red/Pokemon Blue       GB           1996.0  Role-Playing   \n",
       "5                     Tetris       GB           1989.0        Puzzle   \n",
       "6      New Super Mario Bros.       DS           2006.0      Platform   \n",
       "7                   Wii Play      Wii           2006.0          Misc   \n",
       "8  New Super Mario Bros. Wii      Wii           2009.0      Platform   \n",
       "9                  Duck Hunt      NES           1984.0       Shooter   \n",
       "\n",
       "   NA_sales  EU_sales  JP_sales  Other_sales  Critic_Score User_Score Rating  \n",
       "0     41.36     28.96      3.77         8.45          76.0          8      E  \n",
       "1     29.08      3.58      6.81         0.77           NaN        NaN    NaN  \n",
       "2     15.68     12.76      3.79         3.29          82.0        8.3      E  \n",
       "3     15.61     10.93      3.28         2.95          80.0          8      E  \n",
       "4     11.27      8.89     10.22         1.00           NaN        NaN    NaN  \n",
       "5     23.20      2.26      4.22         0.58           NaN        NaN    NaN  \n",
       "6     11.28      9.14      6.50         2.88          89.0        8.5      E  \n",
       "7     13.96      9.18      2.93         2.84          58.0        6.6      E  \n",
       "8     14.44      6.94      4.70         2.24          87.0        8.4      E  \n",
       "9     26.93      0.63      0.28         0.47           NaN        NaN    NaN  "
      ]
     },
     "execution_count": 333,
     "metadata": {},
     "output_type": "execute_result"
    }
   ],
   "source": [
    "df.head(10)"
   ]
  },
  {
   "cell_type": "code",
   "execution_count": 334,
   "metadata": {},
   "outputs": [
    {
     "name": "stdout",
     "output_type": "stream",
     "text": [
      "<class 'pandas.core.frame.DataFrame'>\n",
      "RangeIndex: 16715 entries, 0 to 16714\n",
      "Data columns (total 11 columns):\n",
      " #   Column           Non-Null Count  Dtype  \n",
      "---  ------           --------------  -----  \n",
      " 0   Name             16713 non-null  object \n",
      " 1   Platform         16715 non-null  object \n",
      " 2   Year_of_Release  16446 non-null  float64\n",
      " 3   Genre            16713 non-null  object \n",
      " 4   NA_sales         16715 non-null  float64\n",
      " 5   EU_sales         16715 non-null  float64\n",
      " 6   JP_sales         16715 non-null  float64\n",
      " 7   Other_sales      16715 non-null  float64\n",
      " 8   Critic_Score     8137 non-null   float64\n",
      " 9   User_Score       10014 non-null  object \n",
      " 10  Rating           9949 non-null   object \n",
      "dtypes: float64(6), object(5)\n",
      "memory usage: 1.4+ MB\n"
     ]
    }
   ],
   "source": [
    "df.info()"
   ]
  },
  {
   "cell_type": "code",
   "execution_count": 335,
   "metadata": {},
   "outputs": [
    {
     "data": {
      "text/html": [
       "<style type=\"text/css\">\n",
       "#T_c96a4_row0_col0, #T_c96a4_row1_col0, #T_c96a4_row3_col0, #T_c96a4_row4_col0, #T_c96a4_row5_col0, #T_c96a4_row6_col0, #T_c96a4_row7_col0 {\n",
       "  background-color: #3b4cc0;\n",
       "  color: #f1f1f1;\n",
       "}\n",
       "#T_c96a4_row2_col0 {\n",
       "  background-color: #445acc;\n",
       "  color: #f1f1f1;\n",
       "}\n",
       "#T_c96a4_row8_col0 {\n",
       "  background-color: #b40426;\n",
       "  color: #f1f1f1;\n",
       "}\n",
       "#T_c96a4_row9_col0 {\n",
       "  background-color: #f18d6f;\n",
       "  color: #f1f1f1;\n",
       "}\n",
       "#T_c96a4_row10_col0 {\n",
       "  background-color: #f08a6c;\n",
       "  color: #f1f1f1;\n",
       "}\n",
       "</style>\n",
       "<table id=\"T_c96a4_\">\n",
       "  <thead>\n",
       "    <tr>\n",
       "      <th class=\"blank level0\" >&nbsp;</th>\n",
       "      <th class=\"col_heading level0 col0\" >0</th>\n",
       "    </tr>\n",
       "  </thead>\n",
       "  <tbody>\n",
       "    <tr>\n",
       "      <th id=\"T_c96a4_level0_row0\" class=\"row_heading level0 row0\" >Name</th>\n",
       "      <td id=\"T_c96a4_row0_col0\" class=\"data row0 col0\" >0.010000</td>\n",
       "    </tr>\n",
       "    <tr>\n",
       "      <th id=\"T_c96a4_level0_row1\" class=\"row_heading level0 row1\" >Platform</th>\n",
       "      <td id=\"T_c96a4_row1_col0\" class=\"data row1 col0\" >0.000000</td>\n",
       "    </tr>\n",
       "    <tr>\n",
       "      <th id=\"T_c96a4_level0_row2\" class=\"row_heading level0 row2\" >Year_of_Release</th>\n",
       "      <td id=\"T_c96a4_row2_col0\" class=\"data row2 col0\" >1.610000</td>\n",
       "    </tr>\n",
       "    <tr>\n",
       "      <th id=\"T_c96a4_level0_row3\" class=\"row_heading level0 row3\" >Genre</th>\n",
       "      <td id=\"T_c96a4_row3_col0\" class=\"data row3 col0\" >0.010000</td>\n",
       "    </tr>\n",
       "    <tr>\n",
       "      <th id=\"T_c96a4_level0_row4\" class=\"row_heading level0 row4\" >NA_sales</th>\n",
       "      <td id=\"T_c96a4_row4_col0\" class=\"data row4 col0\" >0.000000</td>\n",
       "    </tr>\n",
       "    <tr>\n",
       "      <th id=\"T_c96a4_level0_row5\" class=\"row_heading level0 row5\" >EU_sales</th>\n",
       "      <td id=\"T_c96a4_row5_col0\" class=\"data row5 col0\" >0.000000</td>\n",
       "    </tr>\n",
       "    <tr>\n",
       "      <th id=\"T_c96a4_level0_row6\" class=\"row_heading level0 row6\" >JP_sales</th>\n",
       "      <td id=\"T_c96a4_row6_col0\" class=\"data row6 col0\" >0.000000</td>\n",
       "    </tr>\n",
       "    <tr>\n",
       "      <th id=\"T_c96a4_level0_row7\" class=\"row_heading level0 row7\" >Other_sales</th>\n",
       "      <td id=\"T_c96a4_row7_col0\" class=\"data row7 col0\" >0.000000</td>\n",
       "    </tr>\n",
       "    <tr>\n",
       "      <th id=\"T_c96a4_level0_row8\" class=\"row_heading level0 row8\" >Critic_Score</th>\n",
       "      <td id=\"T_c96a4_row8_col0\" class=\"data row8 col0\" >51.320000</td>\n",
       "    </tr>\n",
       "    <tr>\n",
       "      <th id=\"T_c96a4_level0_row9\" class=\"row_heading level0 row9\" >User_Score</th>\n",
       "      <td id=\"T_c96a4_row9_col0\" class=\"data row9 col0\" >40.090000</td>\n",
       "    </tr>\n",
       "    <tr>\n",
       "      <th id=\"T_c96a4_level0_row10\" class=\"row_heading level0 row10\" >Rating</th>\n",
       "      <td id=\"T_c96a4_row10_col0\" class=\"data row10 col0\" >40.480000</td>\n",
       "    </tr>\n",
       "  </tbody>\n",
       "</table>\n"
      ],
      "text/plain": [
       "<pandas.io.formats.style.Styler at 0x7fe5b1360f70>"
      ]
     },
     "execution_count": 335,
     "metadata": {},
     "output_type": "execute_result"
    }
   ],
   "source": [
    "pd.DataFrame(round((df.isna().mean()*100),2)).style.background_gradient('coolwarm') # how many gaps (%)"
   ]
  },
  {
   "cell_type": "code",
   "execution_count": 336,
   "metadata": {},
   "outputs": [],
   "source": [
    "df.columns = df.columns.str.lower() #приводим названия столбцов к нижнему регистру / lower register"
   ]
  },
  {
   "cell_type": "code",
   "execution_count": 337,
   "metadata": {},
   "outputs": [],
   "source": [
    "df = df[df['year_of_release'].notna()] #убираем пропущенные значения по столбцу год / drop gaps in the column"
   ]
  },
  {
   "cell_type": "code",
   "execution_count": 338,
   "metadata": {},
   "outputs": [
    {
     "data": {
      "text/html": [
       "<style type=\"text/css\">\n",
       "#T_12de2_row0_col0, #T_12de2_row1_col0, #T_12de2_row2_col0, #T_12de2_row3_col0, #T_12de2_row4_col0, #T_12de2_row5_col0, #T_12de2_row6_col0, #T_12de2_row7_col0 {\n",
       "  background-color: #3b4cc0;\n",
       "  color: #f1f1f1;\n",
       "}\n",
       "#T_12de2_row8_col0 {\n",
       "  background-color: #b40426;\n",
       "  color: #f1f1f1;\n",
       "}\n",
       "#T_12de2_row9_col0 {\n",
       "  background-color: #f18d6f;\n",
       "  color: #f1f1f1;\n",
       "}\n",
       "#T_12de2_row10_col0 {\n",
       "  background-color: #ef886b;\n",
       "  color: #f1f1f1;\n",
       "}\n",
       "</style>\n",
       "<table id=\"T_12de2_\">\n",
       "  <thead>\n",
       "    <tr>\n",
       "      <th class=\"blank level0\" >&nbsp;</th>\n",
       "      <th class=\"col_heading level0 col0\" >0</th>\n",
       "    </tr>\n",
       "  </thead>\n",
       "  <tbody>\n",
       "    <tr>\n",
       "      <th id=\"T_12de2_level0_row0\" class=\"row_heading level0 row0\" >name</th>\n",
       "      <td id=\"T_12de2_row0_col0\" class=\"data row0 col0\" >0.010000</td>\n",
       "    </tr>\n",
       "    <tr>\n",
       "      <th id=\"T_12de2_level0_row1\" class=\"row_heading level0 row1\" >platform</th>\n",
       "      <td id=\"T_12de2_row1_col0\" class=\"data row1 col0\" >0.000000</td>\n",
       "    </tr>\n",
       "    <tr>\n",
       "      <th id=\"T_12de2_level0_row2\" class=\"row_heading level0 row2\" >year_of_release</th>\n",
       "      <td id=\"T_12de2_row2_col0\" class=\"data row2 col0\" >0.000000</td>\n",
       "    </tr>\n",
       "    <tr>\n",
       "      <th id=\"T_12de2_level0_row3\" class=\"row_heading level0 row3\" >genre</th>\n",
       "      <td id=\"T_12de2_row3_col0\" class=\"data row3 col0\" >0.010000</td>\n",
       "    </tr>\n",
       "    <tr>\n",
       "      <th id=\"T_12de2_level0_row4\" class=\"row_heading level0 row4\" >na_sales</th>\n",
       "      <td id=\"T_12de2_row4_col0\" class=\"data row4 col0\" >0.000000</td>\n",
       "    </tr>\n",
       "    <tr>\n",
       "      <th id=\"T_12de2_level0_row5\" class=\"row_heading level0 row5\" >eu_sales</th>\n",
       "      <td id=\"T_12de2_row5_col0\" class=\"data row5 col0\" >0.000000</td>\n",
       "    </tr>\n",
       "    <tr>\n",
       "      <th id=\"T_12de2_level0_row6\" class=\"row_heading level0 row6\" >jp_sales</th>\n",
       "      <td id=\"T_12de2_row6_col0\" class=\"data row6 col0\" >0.000000</td>\n",
       "    </tr>\n",
       "    <tr>\n",
       "      <th id=\"T_12de2_level0_row7\" class=\"row_heading level0 row7\" >other_sales</th>\n",
       "      <td id=\"T_12de2_row7_col0\" class=\"data row7 col0\" >0.000000</td>\n",
       "    </tr>\n",
       "    <tr>\n",
       "      <th id=\"T_12de2_level0_row8\" class=\"row_heading level0 row8\" >critic_score</th>\n",
       "      <td id=\"T_12de2_row8_col0\" class=\"data row8 col0\" >51.460000</td>\n",
       "    </tr>\n",
       "    <tr>\n",
       "      <th id=\"T_12de2_level0_row9\" class=\"row_heading level0 row9\" >user_score</th>\n",
       "      <td id=\"T_12de2_row9_col0\" class=\"data row9 col0\" >40.170000</td>\n",
       "    </tr>\n",
       "    <tr>\n",
       "      <th id=\"T_12de2_level0_row10\" class=\"row_heading level0 row10\" >rating</th>\n",
       "      <td id=\"T_12de2_row10_col0\" class=\"data row10 col0\" >40.610000</td>\n",
       "    </tr>\n",
       "  </tbody>\n",
       "</table>\n"
      ],
      "text/plain": [
       "<pandas.io.formats.style.Styler at 0x7fe5b1177700>"
      ]
     },
     "execution_count": 338,
     "metadata": {},
     "output_type": "execute_result"
    }
   ],
   "source": [
    "pd.DataFrame(round((df.isna().mean()*100),2)).style.background_gradient('coolwarm') #проверяем внесённые изменения"
   ]
  },
  {
   "cell_type": "code",
   "execution_count": 339,
   "metadata": {},
   "outputs": [],
   "source": [
    "df['year_of_release'] = pd.to_datetime(df['year_of_release'], format='%Y') #меняем тип данных в столбце \"год выпуска\" на формат дата / change format of the column"
   ]
  },
  {
   "cell_type": "code",
   "execution_count": 340,
   "metadata": {},
   "outputs": [
    {
     "name": "stdout",
     "output_type": "stream",
     "text": [
      "<class 'pandas.core.frame.DataFrame'>\n",
      "Int64Index: 16446 entries, 0 to 16714\n",
      "Data columns (total 11 columns):\n",
      " #   Column           Non-Null Count  Dtype         \n",
      "---  ------           --------------  -----         \n",
      " 0   name             16444 non-null  object        \n",
      " 1   platform         16446 non-null  object        \n",
      " 2   year_of_release  16446 non-null  datetime64[ns]\n",
      " 3   genre            16444 non-null  object        \n",
      " 4   na_sales         16446 non-null  float64       \n",
      " 5   eu_sales         16446 non-null  float64       \n",
      " 6   jp_sales         16446 non-null  float64       \n",
      " 7   other_sales      16446 non-null  float64       \n",
      " 8   critic_score     7983 non-null   float64       \n",
      " 9   user_score       9839 non-null   object        \n",
      " 10  rating           9768 non-null   object        \n",
      "dtypes: datetime64[ns](1), float64(5), object(5)\n",
      "memory usage: 1.5+ MB\n"
     ]
    }
   ],
   "source": [
    "df.info() # проверяем внесенные изменения"
   ]
  },
  {
   "cell_type": "code",
   "execution_count": 341,
   "metadata": {},
   "outputs": [],
   "source": [
    "df['year_of_release'] = df['year_of_release'].dt.year"
   ]
  },
  {
   "cell_type": "code",
   "execution_count": 342,
   "metadata": {},
   "outputs": [
    {
     "data": {
      "text/plain": [
       "array(['E', nan, 'M', 'T', 'E10+', 'K-A', 'AO', 'EC', 'RP'], dtype=object)"
      ]
     },
     "execution_count": 342,
     "metadata": {},
     "output_type": "execute_result"
    }
   ],
   "source": [
    "df['rating'].unique() # проверяем уникальные значения возрастного рейтинга "
   ]
  },
  {
   "cell_type": "markdown",
   "metadata": {},
   "source": [
    "**Описание рейтингов**\n",
    "\n",
    "EС - early childhood - «Для детей младшего возраста»: Игра подходит для детей от 3 лет\n",
    "\n",
    "E & K-A - everyone  & Kids to adults (первоначально)- 6+\n",
    "\n",
    "E10+ - everyone 10+ - для 10 лет и старше\n",
    "\n",
    "T - teen - подростки - от 13 лет\n",
    "\n",
    "M - mature - для взрослых - от 17 лет\n",
    "\n",
    "AO - adults only - строго от 18 лет\n",
    "\n",
    "RP - raiting pending - рейтинг ожидается (отправлена заявка)"
   ]
  },
  {
   "cell_type": "code",
   "execution_count": 343,
   "metadata": {},
   "outputs": [],
   "source": [
    "def figure_ratio(row):\n",
    "  if row['rating'] == \"E\" or row['rating'] == \"K-A\":\n",
    "    return 6\n",
    "  if row['rating'] == \"E10+\":\n",
    "    return 10\n",
    "  if row['rating'] == \"M\":\n",
    "    return 17\n",
    "  if row['rating'] == \"T\": \n",
    "    return 13\n",
    "  if row['rating'] == \"AO\":\n",
    "    return 18\n",
    "  if row['rating'] == \"EC\":\n",
    "    return 3\n",
    "  if row['rating'] == \"RP\":\n",
    "    return \"unknown\"\n",
    "df['figure_ratio'] = df.apply(figure_ratio, axis=1)\n",
    "\n",
    "#создаем функцию, с помощью которой выставим числовое значение рейтинга в дополнительном столбце\n",
    "# create a function that add in a new column figure of the age"
   ]
  },
  {
   "cell_type": "code",
   "execution_count": 344,
   "metadata": {},
   "outputs": [],
   "source": [
    "df['figure_ratio'] = df['figure_ratio'].apply(pd.to_numeric, errors='coerce') #приводим данные к числовому формату, опуская ошибки\n",
    "\n",
    "# change the type of data and ignore coerces"
   ]
  },
  {
   "cell_type": "code",
   "execution_count": 345,
   "metadata": {},
   "outputs": [
    {
     "name": "stdout",
     "output_type": "stream",
     "text": [
      "<class 'pandas.core.frame.DataFrame'>\n",
      "Int64Index: 16446 entries, 0 to 16714\n",
      "Data columns (total 12 columns):\n",
      " #   Column           Non-Null Count  Dtype  \n",
      "---  ------           --------------  -----  \n",
      " 0   name             16444 non-null  object \n",
      " 1   platform         16446 non-null  object \n",
      " 2   year_of_release  16446 non-null  int64  \n",
      " 3   genre            16444 non-null  object \n",
      " 4   na_sales         16446 non-null  float64\n",
      " 5   eu_sales         16446 non-null  float64\n",
      " 6   jp_sales         16446 non-null  float64\n",
      " 7   other_sales      16446 non-null  float64\n",
      " 8   critic_score     7983 non-null   float64\n",
      " 9   user_score       9839 non-null   object \n",
      " 10  rating           9768 non-null   object \n",
      " 11  figure_ratio     9767 non-null   float64\n",
      "dtypes: float64(6), int64(1), object(5)\n",
      "memory usage: 1.6+ MB\n"
     ]
    }
   ],
   "source": [
    "df.info() # проверяем как сработала функция"
   ]
  },
  {
   "cell_type": "code",
   "execution_count": 346,
   "metadata": {},
   "outputs": [
    {
     "data": {
      "text/html": [
       "<div>\n",
       "<style scoped>\n",
       "    .dataframe tbody tr th:only-of-type {\n",
       "        vertical-align: middle;\n",
       "    }\n",
       "\n",
       "    .dataframe tbody tr th {\n",
       "        vertical-align: top;\n",
       "    }\n",
       "\n",
       "    .dataframe thead th {\n",
       "        text-align: right;\n",
       "    }\n",
       "</style>\n",
       "<table border=\"1\" class=\"dataframe\">\n",
       "  <thead>\n",
       "    <tr style=\"text-align: right;\">\n",
       "      <th></th>\n",
       "      <th>name</th>\n",
       "      <th>platform</th>\n",
       "      <th>year_of_release</th>\n",
       "      <th>genre</th>\n",
       "      <th>na_sales</th>\n",
       "      <th>eu_sales</th>\n",
       "      <th>jp_sales</th>\n",
       "      <th>other_sales</th>\n",
       "      <th>critic_score</th>\n",
       "      <th>user_score</th>\n",
       "      <th>rating</th>\n",
       "      <th>figure_ratio</th>\n",
       "    </tr>\n",
       "  </thead>\n",
       "  <tbody>\n",
       "    <tr>\n",
       "      <th>0</th>\n",
       "      <td>Wii Sports</td>\n",
       "      <td>Wii</td>\n",
       "      <td>2006</td>\n",
       "      <td>Sports</td>\n",
       "      <td>41.36</td>\n",
       "      <td>28.96</td>\n",
       "      <td>3.77</td>\n",
       "      <td>8.45</td>\n",
       "      <td>76.0</td>\n",
       "      <td>8</td>\n",
       "      <td>E</td>\n",
       "      <td>6.0</td>\n",
       "    </tr>\n",
       "    <tr>\n",
       "      <th>1</th>\n",
       "      <td>Super Mario Bros.</td>\n",
       "      <td>NES</td>\n",
       "      <td>1985</td>\n",
       "      <td>Platform</td>\n",
       "      <td>29.08</td>\n",
       "      <td>3.58</td>\n",
       "      <td>6.81</td>\n",
       "      <td>0.77</td>\n",
       "      <td>NaN</td>\n",
       "      <td>NaN</td>\n",
       "      <td>NaN</td>\n",
       "      <td>NaN</td>\n",
       "    </tr>\n",
       "    <tr>\n",
       "      <th>2</th>\n",
       "      <td>Mario Kart Wii</td>\n",
       "      <td>Wii</td>\n",
       "      <td>2008</td>\n",
       "      <td>Racing</td>\n",
       "      <td>15.68</td>\n",
       "      <td>12.76</td>\n",
       "      <td>3.79</td>\n",
       "      <td>3.29</td>\n",
       "      <td>82.0</td>\n",
       "      <td>8.3</td>\n",
       "      <td>E</td>\n",
       "      <td>6.0</td>\n",
       "    </tr>\n",
       "    <tr>\n",
       "      <th>3</th>\n",
       "      <td>Wii Sports Resort</td>\n",
       "      <td>Wii</td>\n",
       "      <td>2009</td>\n",
       "      <td>Sports</td>\n",
       "      <td>15.61</td>\n",
       "      <td>10.93</td>\n",
       "      <td>3.28</td>\n",
       "      <td>2.95</td>\n",
       "      <td>80.0</td>\n",
       "      <td>8</td>\n",
       "      <td>E</td>\n",
       "      <td>6.0</td>\n",
       "    </tr>\n",
       "    <tr>\n",
       "      <th>4</th>\n",
       "      <td>Pokemon Red/Pokemon Blue</td>\n",
       "      <td>GB</td>\n",
       "      <td>1996</td>\n",
       "      <td>Role-Playing</td>\n",
       "      <td>11.27</td>\n",
       "      <td>8.89</td>\n",
       "      <td>10.22</td>\n",
       "      <td>1.00</td>\n",
       "      <td>NaN</td>\n",
       "      <td>NaN</td>\n",
       "      <td>NaN</td>\n",
       "      <td>NaN</td>\n",
       "    </tr>\n",
       "  </tbody>\n",
       "</table>\n",
       "</div>"
      ],
      "text/plain": [
       "                       name platform  year_of_release         genre  na_sales  \\\n",
       "0                Wii Sports      Wii             2006        Sports     41.36   \n",
       "1         Super Mario Bros.      NES             1985      Platform     29.08   \n",
       "2            Mario Kart Wii      Wii             2008        Racing     15.68   \n",
       "3         Wii Sports Resort      Wii             2009        Sports     15.61   \n",
       "4  Pokemon Red/Pokemon Blue       GB             1996  Role-Playing     11.27   \n",
       "\n",
       "   eu_sales  jp_sales  other_sales  critic_score user_score rating  \\\n",
       "0     28.96      3.77         8.45          76.0          8      E   \n",
       "1      3.58      6.81         0.77           NaN        NaN    NaN   \n",
       "2     12.76      3.79         3.29          82.0        8.3      E   \n",
       "3     10.93      3.28         2.95          80.0          8      E   \n",
       "4      8.89     10.22         1.00           NaN        NaN    NaN   \n",
       "\n",
       "   figure_ratio  \n",
       "0           6.0  \n",
       "1           NaN  \n",
       "2           6.0  \n",
       "3           6.0  \n",
       "4           NaN  "
      ]
     },
     "execution_count": 346,
     "metadata": {},
     "output_type": "execute_result"
    }
   ],
   "source": [
    "df.head(5)# проверяем как сработала функция"
   ]
  },
  {
   "cell_type": "code",
   "execution_count": 347,
   "metadata": {},
   "outputs": [
    {
     "data": {
      "text/plain": [
       "6.0     3924\n",
       "13.0    2905\n",
       "17.0    1536\n",
       "10.0    1393\n",
       "3.0        8\n",
       "18.0       1\n",
       "Name: figure_ratio, dtype: int64"
      ]
     },
     "execution_count": 347,
     "metadata": {},
     "output_type": "execute_result"
    }
   ],
   "source": [
    "df['figure_ratio'].value_counts()"
   ]
  },
  {
   "cell_type": "code",
   "execution_count": 348,
   "metadata": {},
   "outputs": [
    {
     "data": {
      "text/plain": [
       "6679"
      ]
     },
     "execution_count": 348,
     "metadata": {},
     "output_type": "execute_result"
    }
   ],
   "source": [
    "df['figure_ratio'].isna().sum() #проверяем количество пропущенных строк в нашем \"числовом возрастном рейтинге\"\n",
    "\n",
    "# how many gaps in the column"
   ]
  },
  {
   "cell_type": "code",
   "execution_count": 349,
   "metadata": {},
   "outputs": [
    {
     "data": {
      "text/html": [
       "<div>\n",
       "<style scoped>\n",
       "    .dataframe tbody tr th:only-of-type {\n",
       "        vertical-align: middle;\n",
       "    }\n",
       "\n",
       "    .dataframe tbody tr th {\n",
       "        vertical-align: top;\n",
       "    }\n",
       "\n",
       "    .dataframe thead th {\n",
       "        text-align: right;\n",
       "    }\n",
       "</style>\n",
       "<table border=\"1\" class=\"dataframe\">\n",
       "  <thead>\n",
       "    <tr style=\"text-align: right;\">\n",
       "      <th></th>\n",
       "      <th>figure_ratio</th>\n",
       "    </tr>\n",
       "    <tr>\n",
       "      <th>genre</th>\n",
       "      <th></th>\n",
       "    </tr>\n",
       "  </thead>\n",
       "  <tbody>\n",
       "    <tr>\n",
       "      <th>Action</th>\n",
       "      <td>13.0</td>\n",
       "    </tr>\n",
       "    <tr>\n",
       "      <th>Adventure</th>\n",
       "      <td>10.0</td>\n",
       "    </tr>\n",
       "    <tr>\n",
       "      <th>Fighting</th>\n",
       "      <td>13.0</td>\n",
       "    </tr>\n",
       "    <tr>\n",
       "      <th>Misc</th>\n",
       "      <td>6.0</td>\n",
       "    </tr>\n",
       "    <tr>\n",
       "      <th>Platform</th>\n",
       "      <td>6.0</td>\n",
       "    </tr>\n",
       "    <tr>\n",
       "      <th>Puzzle</th>\n",
       "      <td>6.0</td>\n",
       "    </tr>\n",
       "    <tr>\n",
       "      <th>Racing</th>\n",
       "      <td>6.0</td>\n",
       "    </tr>\n",
       "    <tr>\n",
       "      <th>Role-Playing</th>\n",
       "      <td>13.0</td>\n",
       "    </tr>\n",
       "    <tr>\n",
       "      <th>Shooter</th>\n",
       "      <td>17.0</td>\n",
       "    </tr>\n",
       "    <tr>\n",
       "      <th>Simulation</th>\n",
       "      <td>6.0</td>\n",
       "    </tr>\n",
       "    <tr>\n",
       "      <th>Sports</th>\n",
       "      <td>6.0</td>\n",
       "    </tr>\n",
       "    <tr>\n",
       "      <th>Strategy</th>\n",
       "      <td>13.0</td>\n",
       "    </tr>\n",
       "  </tbody>\n",
       "</table>\n",
       "</div>"
      ],
      "text/plain": [
       "              figure_ratio\n",
       "genre                     \n",
       "Action                13.0\n",
       "Adventure             10.0\n",
       "Fighting              13.0\n",
       "Misc                   6.0\n",
       "Platform               6.0\n",
       "Puzzle                 6.0\n",
       "Racing                 6.0\n",
       "Role-Playing          13.0\n",
       "Shooter               17.0\n",
       "Simulation             6.0\n",
       "Sports                 6.0\n",
       "Strategy              13.0"
      ]
     },
     "execution_count": 349,
     "metadata": {},
     "output_type": "execute_result"
    }
   ],
   "source": [
    "df.pivot_table(index='genre', values = 'figure_ratio', aggfunc='median') #получаем сводную таблицу с медианным возрастным рейтингом для жанра\n",
    "\n",
    "# create a pivot table with median age  for genres"
   ]
  },
  {
   "cell_type": "code",
   "execution_count": 350,
   "metadata": {},
   "outputs": [],
   "source": [
    "def no_nan(dataset, category, value):\n",
    "  for type in dataset[category].unique():\n",
    "    dataset.loc[(dataset[value].isna())&(dataset[category]==type), value ] =\\\n",
    "dataset.loc[dataset[category]==type, value].median()\n",
    "no_nan(df, 'genre', 'figure_ratio')\n",
    "\n",
    "#Функция, которая заменяет пропуски в возрастной рейтинге по медиане, в зависимости от жанра\n",
    "# create a function that fill gaps in the median age for genres"
   ]
  },
  {
   "cell_type": "code",
   "execution_count": 351,
   "metadata": {},
   "outputs": [
    {
     "data": {
      "text/plain": [
       "2"
      ]
     },
     "execution_count": 351,
     "metadata": {},
     "output_type": "execute_result"
    }
   ],
   "source": [
    "df['figure_ratio'].isna().sum() # проверяем кол-во пропусков"
   ]
  },
  {
   "cell_type": "code",
   "execution_count": 352,
   "metadata": {},
   "outputs": [
    {
     "data": {
      "text/html": [
       "<div>\n",
       "<style scoped>\n",
       "    .dataframe tbody tr th:only-of-type {\n",
       "        vertical-align: middle;\n",
       "    }\n",
       "\n",
       "    .dataframe tbody tr th {\n",
       "        vertical-align: top;\n",
       "    }\n",
       "\n",
       "    .dataframe thead th {\n",
       "        text-align: right;\n",
       "    }\n",
       "</style>\n",
       "<table border=\"1\" class=\"dataframe\">\n",
       "  <thead>\n",
       "    <tr style=\"text-align: right;\">\n",
       "      <th></th>\n",
       "      <th>name</th>\n",
       "      <th>platform</th>\n",
       "      <th>year_of_release</th>\n",
       "      <th>genre</th>\n",
       "      <th>na_sales</th>\n",
       "      <th>eu_sales</th>\n",
       "      <th>jp_sales</th>\n",
       "      <th>other_sales</th>\n",
       "      <th>critic_score</th>\n",
       "      <th>user_score</th>\n",
       "      <th>rating</th>\n",
       "      <th>figure_ratio</th>\n",
       "    </tr>\n",
       "  </thead>\n",
       "  <tbody>\n",
       "    <tr>\n",
       "      <th>659</th>\n",
       "      <td>NaN</td>\n",
       "      <td>GEN</td>\n",
       "      <td>1993</td>\n",
       "      <td>NaN</td>\n",
       "      <td>1.78</td>\n",
       "      <td>0.53</td>\n",
       "      <td>0.00</td>\n",
       "      <td>0.08</td>\n",
       "      <td>NaN</td>\n",
       "      <td>NaN</td>\n",
       "      <td>NaN</td>\n",
       "      <td>NaN</td>\n",
       "    </tr>\n",
       "    <tr>\n",
       "      <th>14244</th>\n",
       "      <td>NaN</td>\n",
       "      <td>GEN</td>\n",
       "      <td>1993</td>\n",
       "      <td>NaN</td>\n",
       "      <td>0.00</td>\n",
       "      <td>0.00</td>\n",
       "      <td>0.03</td>\n",
       "      <td>0.00</td>\n",
       "      <td>NaN</td>\n",
       "      <td>NaN</td>\n",
       "      <td>NaN</td>\n",
       "      <td>NaN</td>\n",
       "    </tr>\n",
       "  </tbody>\n",
       "</table>\n",
       "</div>"
      ],
      "text/plain": [
       "      name platform  year_of_release genre  na_sales  eu_sales  jp_sales  \\\n",
       "659    NaN      GEN             1993   NaN      1.78      0.53      0.00   \n",
       "14244  NaN      GEN             1993   NaN      0.00      0.00      0.03   \n",
       "\n",
       "       other_sales  critic_score user_score rating  figure_ratio  \n",
       "659           0.08           NaN        NaN    NaN           NaN  \n",
       "14244         0.00           NaN        NaN    NaN           NaN  "
      ]
     },
     "execution_count": 352,
     "metadata": {},
     "output_type": "execute_result"
    }
   ],
   "source": [
    "df.loc[ df['figure_ratio'].isna()] #получаем строки с пропущенными значениями"
   ]
  },
  {
   "cell_type": "code",
   "execution_count": 353,
   "metadata": {},
   "outputs": [
    {
     "name": "stdout",
     "output_type": "stream",
     "text": [
      "<class 'pandas.core.frame.DataFrame'>\n",
      "Int64Index: 16446 entries, 0 to 16714\n",
      "Data columns (total 12 columns):\n",
      " #   Column           Non-Null Count  Dtype  \n",
      "---  ------           --------------  -----  \n",
      " 0   name             16444 non-null  object \n",
      " 1   platform         16446 non-null  object \n",
      " 2   year_of_release  16446 non-null  int64  \n",
      " 3   genre            16444 non-null  object \n",
      " 4   na_sales         16446 non-null  float64\n",
      " 5   eu_sales         16446 non-null  float64\n",
      " 6   jp_sales         16446 non-null  float64\n",
      " 7   other_sales      16446 non-null  float64\n",
      " 8   critic_score     7983 non-null   float64\n",
      " 9   user_score       9839 non-null   object \n",
      " 10  rating           9768 non-null   object \n",
      " 11  figure_ratio     16444 non-null  float64\n",
      "dtypes: float64(6), int64(1), object(5)\n",
      "memory usage: 1.6+ MB\n"
     ]
    }
   ],
   "source": [
    "df.info()"
   ]
  },
  {
   "cell_type": "code",
   "execution_count": 354,
   "metadata": {},
   "outputs": [],
   "source": [
    "df.dropna(subset = ['name'], inplace=True) #удаляем пропущенные значения по столбцу имя / drop gaps"
   ]
  },
  {
   "cell_type": "code",
   "execution_count": 355,
   "metadata": {},
   "outputs": [
    {
     "name": "stdout",
     "output_type": "stream",
     "text": [
      "<class 'pandas.core.frame.DataFrame'>\n",
      "Int64Index: 16444 entries, 0 to 16714\n",
      "Data columns (total 12 columns):\n",
      " #   Column           Non-Null Count  Dtype  \n",
      "---  ------           --------------  -----  \n",
      " 0   name             16444 non-null  object \n",
      " 1   platform         16444 non-null  object \n",
      " 2   year_of_release  16444 non-null  int64  \n",
      " 3   genre            16444 non-null  object \n",
      " 4   na_sales         16444 non-null  float64\n",
      " 5   eu_sales         16444 non-null  float64\n",
      " 6   jp_sales         16444 non-null  float64\n",
      " 7   other_sales      16444 non-null  float64\n",
      " 8   critic_score     7983 non-null   float64\n",
      " 9   user_score       9839 non-null   object \n",
      " 10  rating           9768 non-null   object \n",
      " 11  figure_ratio     16444 non-null  float64\n",
      "dtypes: float64(6), int64(1), object(5)\n",
      "memory usage: 1.6+ MB\n"
     ]
    }
   ],
   "source": [
    "df.info() # проверяем наш датасет"
   ]
  },
  {
   "cell_type": "code",
   "execution_count": 356,
   "metadata": {},
   "outputs": [
    {
     "data": {
      "text/html": [
       "<div>\n",
       "<style scoped>\n",
       "    .dataframe tbody tr th:only-of-type {\n",
       "        vertical-align: middle;\n",
       "    }\n",
       "\n",
       "    .dataframe tbody tr th {\n",
       "        vertical-align: top;\n",
       "    }\n",
       "\n",
       "    .dataframe thead th {\n",
       "        text-align: right;\n",
       "    }\n",
       "</style>\n",
       "<table border=\"1\" class=\"dataframe\">\n",
       "  <thead>\n",
       "    <tr style=\"text-align: right;\">\n",
       "      <th></th>\n",
       "      <th>name</th>\n",
       "      <th>platform</th>\n",
       "      <th>year_of_release</th>\n",
       "      <th>genre</th>\n",
       "      <th>na_sales</th>\n",
       "      <th>eu_sales</th>\n",
       "      <th>jp_sales</th>\n",
       "      <th>other_sales</th>\n",
       "      <th>critic_score</th>\n",
       "      <th>user_score</th>\n",
       "      <th>rating</th>\n",
       "      <th>figure_ratio</th>\n",
       "    </tr>\n",
       "  </thead>\n",
       "  <tbody>\n",
       "    <tr>\n",
       "      <th>0</th>\n",
       "      <td>Wii Sports</td>\n",
       "      <td>Wii</td>\n",
       "      <td>2006</td>\n",
       "      <td>Sports</td>\n",
       "      <td>41.36</td>\n",
       "      <td>28.96</td>\n",
       "      <td>3.77</td>\n",
       "      <td>8.45</td>\n",
       "      <td>76.0</td>\n",
       "      <td>8</td>\n",
       "      <td>E</td>\n",
       "      <td>6.0</td>\n",
       "    </tr>\n",
       "    <tr>\n",
       "      <th>1</th>\n",
       "      <td>Super Mario Bros.</td>\n",
       "      <td>NES</td>\n",
       "      <td>1985</td>\n",
       "      <td>Platform</td>\n",
       "      <td>29.08</td>\n",
       "      <td>3.58</td>\n",
       "      <td>6.81</td>\n",
       "      <td>0.77</td>\n",
       "      <td>NaN</td>\n",
       "      <td>NaN</td>\n",
       "      <td>NaN</td>\n",
       "      <td>6.0</td>\n",
       "    </tr>\n",
       "    <tr>\n",
       "      <th>2</th>\n",
       "      <td>Mario Kart Wii</td>\n",
       "      <td>Wii</td>\n",
       "      <td>2008</td>\n",
       "      <td>Racing</td>\n",
       "      <td>15.68</td>\n",
       "      <td>12.76</td>\n",
       "      <td>3.79</td>\n",
       "      <td>3.29</td>\n",
       "      <td>82.0</td>\n",
       "      <td>8.3</td>\n",
       "      <td>E</td>\n",
       "      <td>6.0</td>\n",
       "    </tr>\n",
       "  </tbody>\n",
       "</table>\n",
       "</div>"
      ],
      "text/plain": [
       "                name platform  year_of_release     genre  na_sales  eu_sales  \\\n",
       "0         Wii Sports      Wii             2006    Sports     41.36     28.96   \n",
       "1  Super Mario Bros.      NES             1985  Platform     29.08      3.58   \n",
       "2     Mario Kart Wii      Wii             2008    Racing     15.68     12.76   \n",
       "\n",
       "   jp_sales  other_sales  critic_score user_score rating  figure_ratio  \n",
       "0      3.77         8.45          76.0          8      E           6.0  \n",
       "1      6.81         0.77           NaN        NaN    NaN           6.0  \n",
       "2      3.79         3.29          82.0        8.3      E           6.0  "
      ]
     },
     "execution_count": 356,
     "metadata": {},
     "output_type": "execute_result"
    }
   ],
   "source": [
    "df.head(3)"
   ]
  },
  {
   "cell_type": "code",
   "execution_count": 357,
   "metadata": {},
   "outputs": [],
   "source": [
    "df['total_sales'] = df['eu_sales'] + df['na_sales'] + df['na_sales'] + df['jp_sales'] + df['other_sales'] #создаем столбец с суммарной выручкой\n",
    "#add a column with summary revenue"
   ]
  },
  {
   "cell_type": "code",
   "execution_count": 358,
   "metadata": {},
   "outputs": [
    {
     "data": {
      "text/html": [
       "<div>\n",
       "<style scoped>\n",
       "    .dataframe tbody tr th:only-of-type {\n",
       "        vertical-align: middle;\n",
       "    }\n",
       "\n",
       "    .dataframe tbody tr th {\n",
       "        vertical-align: top;\n",
       "    }\n",
       "\n",
       "    .dataframe thead th {\n",
       "        text-align: right;\n",
       "    }\n",
       "</style>\n",
       "<table border=\"1\" class=\"dataframe\">\n",
       "  <thead>\n",
       "    <tr style=\"text-align: right;\">\n",
       "      <th></th>\n",
       "      <th>name</th>\n",
       "      <th>platform</th>\n",
       "      <th>year_of_release</th>\n",
       "      <th>genre</th>\n",
       "      <th>na_sales</th>\n",
       "      <th>eu_sales</th>\n",
       "      <th>jp_sales</th>\n",
       "      <th>other_sales</th>\n",
       "      <th>critic_score</th>\n",
       "      <th>user_score</th>\n",
       "      <th>rating</th>\n",
       "      <th>figure_ratio</th>\n",
       "      <th>total_sales</th>\n",
       "    </tr>\n",
       "  </thead>\n",
       "  <tbody>\n",
       "    <tr>\n",
       "      <th>0</th>\n",
       "      <td>Wii Sports</td>\n",
       "      <td>Wii</td>\n",
       "      <td>2006</td>\n",
       "      <td>Sports</td>\n",
       "      <td>41.36</td>\n",
       "      <td>28.96</td>\n",
       "      <td>3.77</td>\n",
       "      <td>8.45</td>\n",
       "      <td>76.0</td>\n",
       "      <td>8</td>\n",
       "      <td>E</td>\n",
       "      <td>6.0</td>\n",
       "      <td>123.90</td>\n",
       "    </tr>\n",
       "    <tr>\n",
       "      <th>1</th>\n",
       "      <td>Super Mario Bros.</td>\n",
       "      <td>NES</td>\n",
       "      <td>1985</td>\n",
       "      <td>Platform</td>\n",
       "      <td>29.08</td>\n",
       "      <td>3.58</td>\n",
       "      <td>6.81</td>\n",
       "      <td>0.77</td>\n",
       "      <td>NaN</td>\n",
       "      <td>NaN</td>\n",
       "      <td>NaN</td>\n",
       "      <td>6.0</td>\n",
       "      <td>69.32</td>\n",
       "    </tr>\n",
       "    <tr>\n",
       "      <th>2</th>\n",
       "      <td>Mario Kart Wii</td>\n",
       "      <td>Wii</td>\n",
       "      <td>2008</td>\n",
       "      <td>Racing</td>\n",
       "      <td>15.68</td>\n",
       "      <td>12.76</td>\n",
       "      <td>3.79</td>\n",
       "      <td>3.29</td>\n",
       "      <td>82.0</td>\n",
       "      <td>8.3</td>\n",
       "      <td>E</td>\n",
       "      <td>6.0</td>\n",
       "      <td>51.20</td>\n",
       "    </tr>\n",
       "  </tbody>\n",
       "</table>\n",
       "</div>"
      ],
      "text/plain": [
       "                name platform  year_of_release     genre  na_sales  eu_sales  \\\n",
       "0         Wii Sports      Wii             2006    Sports     41.36     28.96   \n",
       "1  Super Mario Bros.      NES             1985  Platform     29.08      3.58   \n",
       "2     Mario Kart Wii      Wii             2008    Racing     15.68     12.76   \n",
       "\n",
       "   jp_sales  other_sales  critic_score user_score rating  figure_ratio  \\\n",
       "0      3.77         8.45          76.0          8      E           6.0   \n",
       "1      6.81         0.77           NaN        NaN    NaN           6.0   \n",
       "2      3.79         3.29          82.0        8.3      E           6.0   \n",
       "\n",
       "   total_sales  \n",
       "0       123.90  \n",
       "1        69.32  \n",
       "2        51.20  "
      ]
     },
     "execution_count": 358,
     "metadata": {},
     "output_type": "execute_result"
    }
   ],
   "source": [
    "df.head(3)"
   ]
  },
  {
   "cell_type": "code",
   "execution_count": 359,
   "metadata": {},
   "outputs": [
    {
     "data": {
      "text/plain": [
       "array([76., nan, 82., 80., 89., 58., 87., 91., 61., 97., 95., 77., 88.,\n",
       "       83., 94., 93., 85., 86., 98., 96., 90., 84., 73., 74., 78., 92.,\n",
       "       71., 72., 68., 62., 49., 67., 81., 66., 56., 79., 70., 59., 64.,\n",
       "       75., 60., 63., 69., 50., 25., 42., 44., 55., 48., 57., 29., 47.,\n",
       "       65., 54., 20., 53., 37., 38., 33., 52., 30., 32., 43., 45., 51.,\n",
       "       40., 46., 39., 34., 41., 36., 31., 27., 35., 26., 19., 28., 23.,\n",
       "       24., 21., 17., 13.])"
      ]
     },
     "execution_count": 359,
     "metadata": {},
     "output_type": "execute_result"
    }
   ],
   "source": [
    "df['critic_score'].unique() # проверяем уникальные оценки критиков"
   ]
  },
  {
   "cell_type": "code",
   "execution_count": 360,
   "metadata": {},
   "outputs": [
    {
     "data": {
      "text/plain": [
       "array(['8', nan, '8.3', '8.5', '6.6', '8.4', '8.6', '7.7', '6.3', '7.4',\n",
       "       '8.2', '9', '7.9', '8.1', '8.7', '7.1', '3.4', '5.3', '4.8', '3.2',\n",
       "       '8.9', '6.4', '7.8', '7.5', '2.6', '7.2', '9.2', '7', '7.3', '4.3',\n",
       "       '7.6', '5.7', '5', '9.1', '6.5', 'tbd', '8.8', '6.9', '9.4', '6.8',\n",
       "       '6.1', '6.7', '5.4', '4', '4.9', '4.5', '9.3', '6.2', '4.2', '6',\n",
       "       '3.7', '4.1', '5.8', '5.6', '5.5', '4.4', '4.6', '5.9', '3.9',\n",
       "       '3.1', '2.9', '5.2', '3.3', '4.7', '5.1', '3.5', '2.5', '1.9', '3',\n",
       "       '2.7', '2.2', '2', '9.5', '2.1', '3.6', '2.8', '1.8', '3.8', '0',\n",
       "       '1.6', '9.6', '2.4', '1.7', '1.1', '0.3', '1.5', '0.7', '1.2',\n",
       "       '2.3', '0.5', '1.3', '0.2', '0.6', '1.4', '0.9', '1', '9.7'],\n",
       "      dtype=object)"
      ]
     },
     "execution_count": 360,
     "metadata": {},
     "output_type": "execute_result"
    }
   ],
   "source": [
    "df['user_score'].unique() # проверяем уникальные оценки пользователей"
   ]
  },
  {
   "cell_type": "code",
   "execution_count": 361,
   "metadata": {},
   "outputs": [],
   "source": [
    "critic_score = df[df['critic_score'].isna()] #создаем выборку с пропущенными значениями критиков / create a new variable with gaps in the coumn"
   ]
  },
  {
   "cell_type": "code",
   "execution_count": 362,
   "metadata": {},
   "outputs": [
    {
     "data": {
      "text/html": [
       "<div>\n",
       "<style scoped>\n",
       "    .dataframe tbody tr th:only-of-type {\n",
       "        vertical-align: middle;\n",
       "    }\n",
       "\n",
       "    .dataframe tbody tr th {\n",
       "        vertical-align: top;\n",
       "    }\n",
       "\n",
       "    .dataframe thead th {\n",
       "        text-align: right;\n",
       "    }\n",
       "</style>\n",
       "<table border=\"1\" class=\"dataframe\">\n",
       "  <thead>\n",
       "    <tr style=\"text-align: right;\">\n",
       "      <th></th>\n",
       "      <th>name</th>\n",
       "      <th>platform</th>\n",
       "      <th>year_of_release</th>\n",
       "      <th>genre</th>\n",
       "      <th>na_sales</th>\n",
       "      <th>eu_sales</th>\n",
       "      <th>jp_sales</th>\n",
       "      <th>other_sales</th>\n",
       "      <th>critic_score</th>\n",
       "      <th>user_score</th>\n",
       "      <th>rating</th>\n",
       "      <th>figure_ratio</th>\n",
       "      <th>total_sales</th>\n",
       "    </tr>\n",
       "  </thead>\n",
       "  <tbody>\n",
       "    <tr>\n",
       "      <th>1</th>\n",
       "      <td>Super Mario Bros.</td>\n",
       "      <td>NES</td>\n",
       "      <td>1985</td>\n",
       "      <td>Platform</td>\n",
       "      <td>29.08</td>\n",
       "      <td>3.58</td>\n",
       "      <td>6.81</td>\n",
       "      <td>0.77</td>\n",
       "      <td>NaN</td>\n",
       "      <td>NaN</td>\n",
       "      <td>NaN</td>\n",
       "      <td>6.0</td>\n",
       "      <td>69.32</td>\n",
       "    </tr>\n",
       "    <tr>\n",
       "      <th>4</th>\n",
       "      <td>Pokemon Red/Pokemon Blue</td>\n",
       "      <td>GB</td>\n",
       "      <td>1996</td>\n",
       "      <td>Role-Playing</td>\n",
       "      <td>11.27</td>\n",
       "      <td>8.89</td>\n",
       "      <td>10.22</td>\n",
       "      <td>1.00</td>\n",
       "      <td>NaN</td>\n",
       "      <td>NaN</td>\n",
       "      <td>NaN</td>\n",
       "      <td>13.0</td>\n",
       "      <td>42.65</td>\n",
       "    </tr>\n",
       "    <tr>\n",
       "      <th>5</th>\n",
       "      <td>Tetris</td>\n",
       "      <td>GB</td>\n",
       "      <td>1989</td>\n",
       "      <td>Puzzle</td>\n",
       "      <td>23.20</td>\n",
       "      <td>2.26</td>\n",
       "      <td>4.22</td>\n",
       "      <td>0.58</td>\n",
       "      <td>NaN</td>\n",
       "      <td>NaN</td>\n",
       "      <td>NaN</td>\n",
       "      <td>6.0</td>\n",
       "      <td>53.46</td>\n",
       "    </tr>\n",
       "  </tbody>\n",
       "</table>\n",
       "</div>"
      ],
      "text/plain": [
       "                       name platform  year_of_release         genre  na_sales  \\\n",
       "1         Super Mario Bros.      NES             1985      Platform     29.08   \n",
       "4  Pokemon Red/Pokemon Blue       GB             1996  Role-Playing     11.27   \n",
       "5                    Tetris       GB             1989        Puzzle     23.20   \n",
       "\n",
       "   eu_sales  jp_sales  other_sales  critic_score user_score rating  \\\n",
       "1      3.58      6.81         0.77           NaN        NaN    NaN   \n",
       "4      8.89     10.22         1.00           NaN        NaN    NaN   \n",
       "5      2.26      4.22         0.58           NaN        NaN    NaN   \n",
       "\n",
       "   figure_ratio  total_sales  \n",
       "1           6.0        69.32  \n",
       "4          13.0        42.65  \n",
       "5           6.0        53.46  "
      ]
     },
     "execution_count": 362,
     "metadata": {},
     "output_type": "execute_result"
    }
   ],
   "source": [
    "critic_score.head(3)"
   ]
  },
  {
   "cell_type": "code",
   "execution_count": 363,
   "metadata": {},
   "outputs": [
    {
     "data": {
      "text/plain": [
       "2009    775\n",
       "2010    755\n",
       "2008    712\n",
       "2011    636\n",
       "2007    505\n",
       "2006    386\n",
       "2015    381\n",
       "1998    351\n",
       "2012    332\n",
       "2014    320\n",
       "1999    299\n",
       "2005    284\n",
       "1997    272\n",
       "2013    271\n",
       "2016    270\n",
       "1996    255\n",
       "1995    219\n",
       "2000    207\n",
       "2002    202\n",
       "2004    201\n",
       "2003    190\n",
       "2001    156\n",
       "1994    120\n",
       "1993     60\n",
       "1981     46\n",
       "1992     42\n",
       "1991     41\n",
       "1982     36\n",
       "1986     21\n",
       "1983     17\n",
       "1989     17\n",
       "1990     16\n",
       "1987     16\n",
       "1988     14\n",
       "1984     14\n",
       "1985     13\n",
       "1980      9\n",
       "Name: year_of_release, dtype: int64"
      ]
     },
     "execution_count": 363,
     "metadata": {},
     "output_type": "execute_result"
    }
   ],
   "source": [
    "critic_score['year_of_release'].value_counts() # смотрим на кол-во пропусков по годам / receive summ of gaps in years"
   ]
  },
  {
   "cell_type": "code",
   "execution_count": 364,
   "metadata": {},
   "outputs": [],
   "source": [
    "df['user_score'] = pd.to_numeric(df['user_score'], errors='coerce')"
   ]
  },
  {
   "cell_type": "code",
   "execution_count": 365,
   "metadata": {},
   "outputs": [
    {
     "data": {
      "text/plain": [
       "array([8. , nan, 8.3, 8.5, 6.6, 8.4, 8.6, 7.7, 6.3, 7.4, 8.2, 9. , 7.9,\n",
       "       8.1, 8.7, 7.1, 3.4, 5.3, 4.8, 3.2, 8.9, 6.4, 7.8, 7.5, 2.6, 7.2,\n",
       "       9.2, 7. , 7.3, 4.3, 7.6, 5.7, 5. , 9.1, 6.5, 8.8, 6.9, 9.4, 6.8,\n",
       "       6.1, 6.7, 5.4, 4. , 4.9, 4.5, 9.3, 6.2, 4.2, 6. , 3.7, 4.1, 5.8,\n",
       "       5.6, 5.5, 4.4, 4.6, 5.9, 3.9, 3.1, 2.9, 5.2, 3.3, 4.7, 5.1, 3.5,\n",
       "       2.5, 1.9, 3. , 2.7, 2.2, 2. , 9.5, 2.1, 3.6, 2.8, 1.8, 3.8, 0. ,\n",
       "       1.6, 9.6, 2.4, 1.7, 1.1, 0.3, 1.5, 0.7, 1.2, 2.3, 0.5, 1.3, 0.2,\n",
       "       0.6, 1.4, 0.9, 1. , 9.7])"
      ]
     },
     "execution_count": 365,
     "metadata": {},
     "output_type": "execute_result"
    }
   ],
   "source": [
    "df['user_score'].unique()"
   ]
  },
  {
   "cell_type": "code",
   "execution_count": 366,
   "metadata": {},
   "outputs": [],
   "source": [
    "df['user_score'] = df['user_score'].astype(float) #приводим оценку пользователей к числу / change type in the column"
   ]
  },
  {
   "cell_type": "code",
   "execution_count": 367,
   "metadata": {},
   "outputs": [
    {
     "data": {
      "text/plain": [
       "array([8. , nan, 8.3, 8.5, 6.6, 8.4, 8.6, 7.7, 6.3, 7.4, 8.2, 9. , 7.9,\n",
       "       8.1, 8.7, 7.1, 3.4, 5.3, 4.8, 3.2, 8.9, 6.4, 7.8, 7.5, 2.6, 7.2,\n",
       "       9.2, 7. , 7.3, 4.3, 7.6, 5.7, 5. , 9.1, 6.5, 8.8, 6.9, 9.4, 6.8,\n",
       "       6.1, 6.7, 5.4, 4. , 4.9, 4.5, 9.3, 6.2, 4.2, 6. , 3.7, 4.1, 5.8,\n",
       "       5.6, 5.5, 4.4, 4.6, 5.9, 3.9, 3.1, 2.9, 5.2, 3.3, 4.7, 5.1, 3.5,\n",
       "       2.5, 1.9, 3. , 2.7, 2.2, 2. , 9.5, 2.1, 3.6, 2.8, 1.8, 3.8, 0. ,\n",
       "       1.6, 9.6, 2.4, 1.7, 1.1, 0.3, 1.5, 0.7, 1.2, 2.3, 0.5, 1.3, 0.2,\n",
       "       0.6, 1.4, 0.9, 1. , 9.7])"
      ]
     },
     "execution_count": 367,
     "metadata": {},
     "output_type": "execute_result"
    }
   ],
   "source": [
    "df['user_score'].unique() # проверяем внесенные изменения"
   ]
  },
  {
   "cell_type": "code",
   "execution_count": 368,
   "metadata": {},
   "outputs": [],
   "source": [
    "users_score = df[df['user_score'].isna()] #делаем срез с пропущенными значениями по оценке пользователей / create a new variable with gaps in the coumn"
   ]
  },
  {
   "cell_type": "code",
   "execution_count": 369,
   "metadata": {},
   "outputs": [
    {
     "data": {
      "text/html": [
       "<div>\n",
       "<style scoped>\n",
       "    .dataframe tbody tr th:only-of-type {\n",
       "        vertical-align: middle;\n",
       "    }\n",
       "\n",
       "    .dataframe tbody tr th {\n",
       "        vertical-align: top;\n",
       "    }\n",
       "\n",
       "    .dataframe thead th {\n",
       "        text-align: right;\n",
       "    }\n",
       "</style>\n",
       "<table border=\"1\" class=\"dataframe\">\n",
       "  <thead>\n",
       "    <tr style=\"text-align: right;\">\n",
       "      <th></th>\n",
       "      <th>name</th>\n",
       "      <th>platform</th>\n",
       "      <th>year_of_release</th>\n",
       "      <th>genre</th>\n",
       "      <th>na_sales</th>\n",
       "      <th>eu_sales</th>\n",
       "      <th>jp_sales</th>\n",
       "      <th>other_sales</th>\n",
       "      <th>critic_score</th>\n",
       "      <th>user_score</th>\n",
       "      <th>rating</th>\n",
       "      <th>figure_ratio</th>\n",
       "      <th>total_sales</th>\n",
       "    </tr>\n",
       "  </thead>\n",
       "  <tbody>\n",
       "    <tr>\n",
       "      <th>1</th>\n",
       "      <td>Super Mario Bros.</td>\n",
       "      <td>NES</td>\n",
       "      <td>1985</td>\n",
       "      <td>Platform</td>\n",
       "      <td>29.08</td>\n",
       "      <td>3.58</td>\n",
       "      <td>6.81</td>\n",
       "      <td>0.77</td>\n",
       "      <td>NaN</td>\n",
       "      <td>NaN</td>\n",
       "      <td>NaN</td>\n",
       "      <td>6.0</td>\n",
       "      <td>69.32</td>\n",
       "    </tr>\n",
       "    <tr>\n",
       "      <th>4</th>\n",
       "      <td>Pokemon Red/Pokemon Blue</td>\n",
       "      <td>GB</td>\n",
       "      <td>1996</td>\n",
       "      <td>Role-Playing</td>\n",
       "      <td>11.27</td>\n",
       "      <td>8.89</td>\n",
       "      <td>10.22</td>\n",
       "      <td>1.00</td>\n",
       "      <td>NaN</td>\n",
       "      <td>NaN</td>\n",
       "      <td>NaN</td>\n",
       "      <td>13.0</td>\n",
       "      <td>42.65</td>\n",
       "    </tr>\n",
       "    <tr>\n",
       "      <th>5</th>\n",
       "      <td>Tetris</td>\n",
       "      <td>GB</td>\n",
       "      <td>1989</td>\n",
       "      <td>Puzzle</td>\n",
       "      <td>23.20</td>\n",
       "      <td>2.26</td>\n",
       "      <td>4.22</td>\n",
       "      <td>0.58</td>\n",
       "      <td>NaN</td>\n",
       "      <td>NaN</td>\n",
       "      <td>NaN</td>\n",
       "      <td>6.0</td>\n",
       "      <td>53.46</td>\n",
       "    </tr>\n",
       "    <tr>\n",
       "      <th>9</th>\n",
       "      <td>Duck Hunt</td>\n",
       "      <td>NES</td>\n",
       "      <td>1984</td>\n",
       "      <td>Shooter</td>\n",
       "      <td>26.93</td>\n",
       "      <td>0.63</td>\n",
       "      <td>0.28</td>\n",
       "      <td>0.47</td>\n",
       "      <td>NaN</td>\n",
       "      <td>NaN</td>\n",
       "      <td>NaN</td>\n",
       "      <td>17.0</td>\n",
       "      <td>55.24</td>\n",
       "    </tr>\n",
       "    <tr>\n",
       "      <th>10</th>\n",
       "      <td>Nintendogs</td>\n",
       "      <td>DS</td>\n",
       "      <td>2005</td>\n",
       "      <td>Simulation</td>\n",
       "      <td>9.05</td>\n",
       "      <td>10.95</td>\n",
       "      <td>1.93</td>\n",
       "      <td>2.74</td>\n",
       "      <td>NaN</td>\n",
       "      <td>NaN</td>\n",
       "      <td>NaN</td>\n",
       "      <td>6.0</td>\n",
       "      <td>33.72</td>\n",
       "    </tr>\n",
       "    <tr>\n",
       "      <th>...</th>\n",
       "      <td>...</td>\n",
       "      <td>...</td>\n",
       "      <td>...</td>\n",
       "      <td>...</td>\n",
       "      <td>...</td>\n",
       "      <td>...</td>\n",
       "      <td>...</td>\n",
       "      <td>...</td>\n",
       "      <td>...</td>\n",
       "      <td>...</td>\n",
       "      <td>...</td>\n",
       "      <td>...</td>\n",
       "      <td>...</td>\n",
       "    </tr>\n",
       "    <tr>\n",
       "      <th>16710</th>\n",
       "      <td>Samurai Warriors: Sanada Maru</td>\n",
       "      <td>PS3</td>\n",
       "      <td>2016</td>\n",
       "      <td>Action</td>\n",
       "      <td>0.00</td>\n",
       "      <td>0.00</td>\n",
       "      <td>0.01</td>\n",
       "      <td>0.00</td>\n",
       "      <td>NaN</td>\n",
       "      <td>NaN</td>\n",
       "      <td>NaN</td>\n",
       "      <td>13.0</td>\n",
       "      <td>0.01</td>\n",
       "    </tr>\n",
       "    <tr>\n",
       "      <th>16711</th>\n",
       "      <td>LMA Manager 2007</td>\n",
       "      <td>X360</td>\n",
       "      <td>2006</td>\n",
       "      <td>Sports</td>\n",
       "      <td>0.00</td>\n",
       "      <td>0.01</td>\n",
       "      <td>0.00</td>\n",
       "      <td>0.00</td>\n",
       "      <td>NaN</td>\n",
       "      <td>NaN</td>\n",
       "      <td>NaN</td>\n",
       "      <td>6.0</td>\n",
       "      <td>0.01</td>\n",
       "    </tr>\n",
       "    <tr>\n",
       "      <th>16712</th>\n",
       "      <td>Haitaka no Psychedelica</td>\n",
       "      <td>PSV</td>\n",
       "      <td>2016</td>\n",
       "      <td>Adventure</td>\n",
       "      <td>0.00</td>\n",
       "      <td>0.00</td>\n",
       "      <td>0.01</td>\n",
       "      <td>0.00</td>\n",
       "      <td>NaN</td>\n",
       "      <td>NaN</td>\n",
       "      <td>NaN</td>\n",
       "      <td>10.0</td>\n",
       "      <td>0.01</td>\n",
       "    </tr>\n",
       "    <tr>\n",
       "      <th>16713</th>\n",
       "      <td>Spirits &amp; Spells</td>\n",
       "      <td>GBA</td>\n",
       "      <td>2003</td>\n",
       "      <td>Platform</td>\n",
       "      <td>0.01</td>\n",
       "      <td>0.00</td>\n",
       "      <td>0.00</td>\n",
       "      <td>0.00</td>\n",
       "      <td>NaN</td>\n",
       "      <td>NaN</td>\n",
       "      <td>NaN</td>\n",
       "      <td>6.0</td>\n",
       "      <td>0.02</td>\n",
       "    </tr>\n",
       "    <tr>\n",
       "      <th>16714</th>\n",
       "      <td>Winning Post 8 2016</td>\n",
       "      <td>PSV</td>\n",
       "      <td>2016</td>\n",
       "      <td>Simulation</td>\n",
       "      <td>0.00</td>\n",
       "      <td>0.00</td>\n",
       "      <td>0.01</td>\n",
       "      <td>0.00</td>\n",
       "      <td>NaN</td>\n",
       "      <td>NaN</td>\n",
       "      <td>NaN</td>\n",
       "      <td>6.0</td>\n",
       "      <td>0.01</td>\n",
       "    </tr>\n",
       "  </tbody>\n",
       "</table>\n",
       "<p>8981 rows × 13 columns</p>\n",
       "</div>"
      ],
      "text/plain": [
       "                                name platform  year_of_release         genre  \\\n",
       "1                  Super Mario Bros.      NES             1985      Platform   \n",
       "4           Pokemon Red/Pokemon Blue       GB             1996  Role-Playing   \n",
       "5                             Tetris       GB             1989        Puzzle   \n",
       "9                          Duck Hunt      NES             1984       Shooter   \n",
       "10                        Nintendogs       DS             2005    Simulation   \n",
       "...                              ...      ...              ...           ...   \n",
       "16710  Samurai Warriors: Sanada Maru      PS3             2016        Action   \n",
       "16711               LMA Manager 2007     X360             2006        Sports   \n",
       "16712        Haitaka no Psychedelica      PSV             2016     Adventure   \n",
       "16713               Spirits & Spells      GBA             2003      Platform   \n",
       "16714            Winning Post 8 2016      PSV             2016    Simulation   \n",
       "\n",
       "       na_sales  eu_sales  jp_sales  other_sales  critic_score  user_score  \\\n",
       "1         29.08      3.58      6.81         0.77           NaN         NaN   \n",
       "4         11.27      8.89     10.22         1.00           NaN         NaN   \n",
       "5         23.20      2.26      4.22         0.58           NaN         NaN   \n",
       "9         26.93      0.63      0.28         0.47           NaN         NaN   \n",
       "10         9.05     10.95      1.93         2.74           NaN         NaN   \n",
       "...         ...       ...       ...          ...           ...         ...   \n",
       "16710      0.00      0.00      0.01         0.00           NaN         NaN   \n",
       "16711      0.00      0.01      0.00         0.00           NaN         NaN   \n",
       "16712      0.00      0.00      0.01         0.00           NaN         NaN   \n",
       "16713      0.01      0.00      0.00         0.00           NaN         NaN   \n",
       "16714      0.00      0.00      0.01         0.00           NaN         NaN   \n",
       "\n",
       "      rating  figure_ratio  total_sales  \n",
       "1        NaN           6.0        69.32  \n",
       "4        NaN          13.0        42.65  \n",
       "5        NaN           6.0        53.46  \n",
       "9        NaN          17.0        55.24  \n",
       "10       NaN           6.0        33.72  \n",
       "...      ...           ...          ...  \n",
       "16710    NaN          13.0         0.01  \n",
       "16711    NaN           6.0         0.01  \n",
       "16712    NaN          10.0         0.01  \n",
       "16713    NaN           6.0         0.02  \n",
       "16714    NaN           6.0         0.01  \n",
       "\n",
       "[8981 rows x 13 columns]"
      ]
     },
     "execution_count": 369,
     "metadata": {},
     "output_type": "execute_result"
    }
   ],
   "source": [
    "users_score"
   ]
  },
  {
   "cell_type": "code",
   "execution_count": 370,
   "metadata": {},
   "outputs": [
    {
     "data": {
      "text/plain": [
       "2009    812\n",
       "2010    788\n",
       "2008    766\n",
       "2011    635\n",
       "2007    568\n",
       "2006    454\n",
       "2002    365\n",
       "2005    356\n",
       "1998    348\n",
       "2012    314\n",
       "2015    309\n",
       "1999    307\n",
       "2004    273\n",
       "1997    271\n",
       "2003    259\n",
       "1996    255\n",
       "2014    252\n",
       "2000    243\n",
       "2013    240\n",
       "2016    240\n",
       "2001    225\n",
       "1995    219\n",
       "1994    120\n",
       "1993     60\n",
       "1981     46\n",
       "1992     42\n",
       "1991     41\n",
       "1982     36\n",
       "1986     21\n",
       "1983     17\n",
       "1989     17\n",
       "1990     16\n",
       "1987     16\n",
       "1988     14\n",
       "1984     14\n",
       "1985     13\n",
       "1980      9\n",
       "Name: year_of_release, dtype: int64"
      ]
     },
     "execution_count": 370,
     "metadata": {},
     "output_type": "execute_result"
    }
   ],
   "source": [
    "users_score['year_of_release'].value_counts() # смотрим на кол-во пропусков по годам / receive summ of gaps in years"
   ]
  },
  {
   "cell_type": "code",
   "execution_count": 371,
   "metadata": {},
   "outputs": [],
   "source": [
    "df['critic_score'] = df['critic_score'] / 10 # приводим оценку критиков к 10 бальной шкале / divide critic_score on 10"
   ]
  },
  {
   "cell_type": "code",
   "execution_count": 372,
   "metadata": {},
   "outputs": [],
   "source": [
    "df['critic_score'] = df.groupby([\"genre\", \"platform\"])['critic_score'].transform(lambda x: x.fillna(x.median())) # заполняем пропуски по медиане \n",
    "\n",
    "# fill the gaps on the median"
   ]
  },
  {
   "cell_type": "code",
   "execution_count": 373,
   "metadata": {},
   "outputs": [
    {
     "data": {
      "text/html": [
       "<div>\n",
       "<style scoped>\n",
       "    .dataframe tbody tr th:only-of-type {\n",
       "        vertical-align: middle;\n",
       "    }\n",
       "\n",
       "    .dataframe tbody tr th {\n",
       "        vertical-align: top;\n",
       "    }\n",
       "\n",
       "    .dataframe thead th {\n",
       "        text-align: right;\n",
       "    }\n",
       "</style>\n",
       "<table border=\"1\" class=\"dataframe\">\n",
       "  <thead>\n",
       "    <tr style=\"text-align: right;\">\n",
       "      <th></th>\n",
       "      <th>name</th>\n",
       "      <th>platform</th>\n",
       "      <th>year_of_release</th>\n",
       "      <th>genre</th>\n",
       "      <th>na_sales</th>\n",
       "      <th>eu_sales</th>\n",
       "      <th>jp_sales</th>\n",
       "      <th>other_sales</th>\n",
       "      <th>critic_score</th>\n",
       "      <th>user_score</th>\n",
       "      <th>rating</th>\n",
       "      <th>figure_ratio</th>\n",
       "      <th>total_sales</th>\n",
       "    </tr>\n",
       "  </thead>\n",
       "  <tbody>\n",
       "    <tr>\n",
       "      <th>0</th>\n",
       "      <td>Wii Sports</td>\n",
       "      <td>Wii</td>\n",
       "      <td>2006</td>\n",
       "      <td>Sports</td>\n",
       "      <td>41.36</td>\n",
       "      <td>28.96</td>\n",
       "      <td>3.77</td>\n",
       "      <td>8.45</td>\n",
       "      <td>7.60</td>\n",
       "      <td>8.0</td>\n",
       "      <td>E</td>\n",
       "      <td>6.0</td>\n",
       "      <td>123.90</td>\n",
       "    </tr>\n",
       "    <tr>\n",
       "      <th>1</th>\n",
       "      <td>Super Mario Bros.</td>\n",
       "      <td>NES</td>\n",
       "      <td>1985</td>\n",
       "      <td>Platform</td>\n",
       "      <td>29.08</td>\n",
       "      <td>3.58</td>\n",
       "      <td>6.81</td>\n",
       "      <td>0.77</td>\n",
       "      <td>NaN</td>\n",
       "      <td>NaN</td>\n",
       "      <td>NaN</td>\n",
       "      <td>6.0</td>\n",
       "      <td>69.32</td>\n",
       "    </tr>\n",
       "    <tr>\n",
       "      <th>2</th>\n",
       "      <td>Mario Kart Wii</td>\n",
       "      <td>Wii</td>\n",
       "      <td>2008</td>\n",
       "      <td>Racing</td>\n",
       "      <td>15.68</td>\n",
       "      <td>12.76</td>\n",
       "      <td>3.79</td>\n",
       "      <td>3.29</td>\n",
       "      <td>8.20</td>\n",
       "      <td>8.3</td>\n",
       "      <td>E</td>\n",
       "      <td>6.0</td>\n",
       "      <td>51.20</td>\n",
       "    </tr>\n",
       "    <tr>\n",
       "      <th>3</th>\n",
       "      <td>Wii Sports Resort</td>\n",
       "      <td>Wii</td>\n",
       "      <td>2009</td>\n",
       "      <td>Sports</td>\n",
       "      <td>15.61</td>\n",
       "      <td>10.93</td>\n",
       "      <td>3.28</td>\n",
       "      <td>2.95</td>\n",
       "      <td>8.00</td>\n",
       "      <td>8.0</td>\n",
       "      <td>E</td>\n",
       "      <td>6.0</td>\n",
       "      <td>48.38</td>\n",
       "    </tr>\n",
       "    <tr>\n",
       "      <th>4</th>\n",
       "      <td>Pokemon Red/Pokemon Blue</td>\n",
       "      <td>GB</td>\n",
       "      <td>1996</td>\n",
       "      <td>Role-Playing</td>\n",
       "      <td>11.27</td>\n",
       "      <td>8.89</td>\n",
       "      <td>10.22</td>\n",
       "      <td>1.00</td>\n",
       "      <td>NaN</td>\n",
       "      <td>NaN</td>\n",
       "      <td>NaN</td>\n",
       "      <td>13.0</td>\n",
       "      <td>42.65</td>\n",
       "    </tr>\n",
       "    <tr>\n",
       "      <th>5</th>\n",
       "      <td>Tetris</td>\n",
       "      <td>GB</td>\n",
       "      <td>1989</td>\n",
       "      <td>Puzzle</td>\n",
       "      <td>23.20</td>\n",
       "      <td>2.26</td>\n",
       "      <td>4.22</td>\n",
       "      <td>0.58</td>\n",
       "      <td>NaN</td>\n",
       "      <td>NaN</td>\n",
       "      <td>NaN</td>\n",
       "      <td>6.0</td>\n",
       "      <td>53.46</td>\n",
       "    </tr>\n",
       "    <tr>\n",
       "      <th>6</th>\n",
       "      <td>New Super Mario Bros.</td>\n",
       "      <td>DS</td>\n",
       "      <td>2006</td>\n",
       "      <td>Platform</td>\n",
       "      <td>11.28</td>\n",
       "      <td>9.14</td>\n",
       "      <td>6.50</td>\n",
       "      <td>2.88</td>\n",
       "      <td>8.90</td>\n",
       "      <td>8.5</td>\n",
       "      <td>E</td>\n",
       "      <td>6.0</td>\n",
       "      <td>41.08</td>\n",
       "    </tr>\n",
       "    <tr>\n",
       "      <th>7</th>\n",
       "      <td>Wii Play</td>\n",
       "      <td>Wii</td>\n",
       "      <td>2006</td>\n",
       "      <td>Misc</td>\n",
       "      <td>13.96</td>\n",
       "      <td>9.18</td>\n",
       "      <td>2.93</td>\n",
       "      <td>2.84</td>\n",
       "      <td>5.80</td>\n",
       "      <td>6.6</td>\n",
       "      <td>E</td>\n",
       "      <td>6.0</td>\n",
       "      <td>42.87</td>\n",
       "    </tr>\n",
       "    <tr>\n",
       "      <th>8</th>\n",
       "      <td>New Super Mario Bros. Wii</td>\n",
       "      <td>Wii</td>\n",
       "      <td>2009</td>\n",
       "      <td>Platform</td>\n",
       "      <td>14.44</td>\n",
       "      <td>6.94</td>\n",
       "      <td>4.70</td>\n",
       "      <td>2.24</td>\n",
       "      <td>8.70</td>\n",
       "      <td>8.4</td>\n",
       "      <td>E</td>\n",
       "      <td>6.0</td>\n",
       "      <td>42.76</td>\n",
       "    </tr>\n",
       "    <tr>\n",
       "      <th>9</th>\n",
       "      <td>Duck Hunt</td>\n",
       "      <td>NES</td>\n",
       "      <td>1984</td>\n",
       "      <td>Shooter</td>\n",
       "      <td>26.93</td>\n",
       "      <td>0.63</td>\n",
       "      <td>0.28</td>\n",
       "      <td>0.47</td>\n",
       "      <td>NaN</td>\n",
       "      <td>NaN</td>\n",
       "      <td>NaN</td>\n",
       "      <td>17.0</td>\n",
       "      <td>55.24</td>\n",
       "    </tr>\n",
       "    <tr>\n",
       "      <th>10</th>\n",
       "      <td>Nintendogs</td>\n",
       "      <td>DS</td>\n",
       "      <td>2005</td>\n",
       "      <td>Simulation</td>\n",
       "      <td>9.05</td>\n",
       "      <td>10.95</td>\n",
       "      <td>1.93</td>\n",
       "      <td>2.74</td>\n",
       "      <td>6.55</td>\n",
       "      <td>NaN</td>\n",
       "      <td>NaN</td>\n",
       "      <td>6.0</td>\n",
       "      <td>33.72</td>\n",
       "    </tr>\n",
       "  </tbody>\n",
       "</table>\n",
       "</div>"
      ],
      "text/plain": [
       "                         name platform  year_of_release         genre  \\\n",
       "0                  Wii Sports      Wii             2006        Sports   \n",
       "1           Super Mario Bros.      NES             1985      Platform   \n",
       "2              Mario Kart Wii      Wii             2008        Racing   \n",
       "3           Wii Sports Resort      Wii             2009        Sports   \n",
       "4    Pokemon Red/Pokemon Blue       GB             1996  Role-Playing   \n",
       "5                      Tetris       GB             1989        Puzzle   \n",
       "6       New Super Mario Bros.       DS             2006      Platform   \n",
       "7                    Wii Play      Wii             2006          Misc   \n",
       "8   New Super Mario Bros. Wii      Wii             2009      Platform   \n",
       "9                   Duck Hunt      NES             1984       Shooter   \n",
       "10                 Nintendogs       DS             2005    Simulation   \n",
       "\n",
       "    na_sales  eu_sales  jp_sales  other_sales  critic_score  user_score  \\\n",
       "0      41.36     28.96      3.77         8.45          7.60         8.0   \n",
       "1      29.08      3.58      6.81         0.77           NaN         NaN   \n",
       "2      15.68     12.76      3.79         3.29          8.20         8.3   \n",
       "3      15.61     10.93      3.28         2.95          8.00         8.0   \n",
       "4      11.27      8.89     10.22         1.00           NaN         NaN   \n",
       "5      23.20      2.26      4.22         0.58           NaN         NaN   \n",
       "6      11.28      9.14      6.50         2.88          8.90         8.5   \n",
       "7      13.96      9.18      2.93         2.84          5.80         6.6   \n",
       "8      14.44      6.94      4.70         2.24          8.70         8.4   \n",
       "9      26.93      0.63      0.28         0.47           NaN         NaN   \n",
       "10      9.05     10.95      1.93         2.74          6.55         NaN   \n",
       "\n",
       "   rating  figure_ratio  total_sales  \n",
       "0       E           6.0       123.90  \n",
       "1     NaN           6.0        69.32  \n",
       "2       E           6.0        51.20  \n",
       "3       E           6.0        48.38  \n",
       "4     NaN          13.0        42.65  \n",
       "5     NaN           6.0        53.46  \n",
       "6       E           6.0        41.08  \n",
       "7       E           6.0        42.87  \n",
       "8       E           6.0        42.76  \n",
       "9     NaN          17.0        55.24  \n",
       "10    NaN           6.0        33.72  "
      ]
     },
     "execution_count": 373,
     "metadata": {},
     "output_type": "execute_result"
    }
   ],
   "source": [
    "df.head(11)"
   ]
  },
  {
   "cell_type": "code",
   "execution_count": 374,
   "metadata": {},
   "outputs": [
    {
     "name": "stdout",
     "output_type": "stream",
     "text": [
      "<class 'pandas.core.frame.DataFrame'>\n",
      "Int64Index: 16444 entries, 0 to 16714\n",
      "Data columns (total 13 columns):\n",
      " #   Column           Non-Null Count  Dtype  \n",
      "---  ------           --------------  -----  \n",
      " 0   name             16444 non-null  object \n",
      " 1   platform         16444 non-null  object \n",
      " 2   year_of_release  16444 non-null  int64  \n",
      " 3   genre            16444 non-null  object \n",
      " 4   na_sales         16444 non-null  float64\n",
      " 5   eu_sales         16444 non-null  float64\n",
      " 6   jp_sales         16444 non-null  float64\n",
      " 7   other_sales      16444 non-null  float64\n",
      " 8   critic_score     15333 non-null  float64\n",
      " 9   user_score       7463 non-null   float64\n",
      " 10  rating           9768 non-null   object \n",
      " 11  figure_ratio     16444 non-null  float64\n",
      " 12  total_sales      16444 non-null  float64\n",
      "dtypes: float64(8), int64(1), object(4)\n",
      "memory usage: 1.8+ MB\n"
     ]
    }
   ],
   "source": [
    "df.info() # проверяем результат замены"
   ]
  },
  {
   "cell_type": "code",
   "execution_count": 375,
   "metadata": {},
   "outputs": [],
   "source": [
    "df['user_score'] = df.groupby([\"genre\", \"platform\"])['user_score'].transform(lambda x: x.fillna(x.median())) # заполняем пропуски по медиане\n",
    "\n",
    "# fill the gaps on the median"
   ]
  },
  {
   "cell_type": "code",
   "execution_count": 376,
   "metadata": {},
   "outputs": [
    {
     "data": {
      "text/html": [
       "<div>\n",
       "<style scoped>\n",
       "    .dataframe tbody tr th:only-of-type {\n",
       "        vertical-align: middle;\n",
       "    }\n",
       "\n",
       "    .dataframe tbody tr th {\n",
       "        vertical-align: top;\n",
       "    }\n",
       "\n",
       "    .dataframe thead th {\n",
       "        text-align: right;\n",
       "    }\n",
       "</style>\n",
       "<table border=\"1\" class=\"dataframe\">\n",
       "  <thead>\n",
       "    <tr style=\"text-align: right;\">\n",
       "      <th></th>\n",
       "      <th>name</th>\n",
       "      <th>platform</th>\n",
       "      <th>year_of_release</th>\n",
       "      <th>genre</th>\n",
       "      <th>na_sales</th>\n",
       "      <th>eu_sales</th>\n",
       "      <th>jp_sales</th>\n",
       "      <th>other_sales</th>\n",
       "      <th>critic_score</th>\n",
       "      <th>user_score</th>\n",
       "      <th>rating</th>\n",
       "      <th>figure_ratio</th>\n",
       "      <th>total_sales</th>\n",
       "    </tr>\n",
       "  </thead>\n",
       "  <tbody>\n",
       "    <tr>\n",
       "      <th>0</th>\n",
       "      <td>Wii Sports</td>\n",
       "      <td>Wii</td>\n",
       "      <td>2006</td>\n",
       "      <td>Sports</td>\n",
       "      <td>41.36</td>\n",
       "      <td>28.96</td>\n",
       "      <td>3.77</td>\n",
       "      <td>8.45</td>\n",
       "      <td>7.60</td>\n",
       "      <td>8.0</td>\n",
       "      <td>E</td>\n",
       "      <td>6.0</td>\n",
       "      <td>123.90</td>\n",
       "    </tr>\n",
       "    <tr>\n",
       "      <th>1</th>\n",
       "      <td>Super Mario Bros.</td>\n",
       "      <td>NES</td>\n",
       "      <td>1985</td>\n",
       "      <td>Platform</td>\n",
       "      <td>29.08</td>\n",
       "      <td>3.58</td>\n",
       "      <td>6.81</td>\n",
       "      <td>0.77</td>\n",
       "      <td>NaN</td>\n",
       "      <td>NaN</td>\n",
       "      <td>NaN</td>\n",
       "      <td>6.0</td>\n",
       "      <td>69.32</td>\n",
       "    </tr>\n",
       "    <tr>\n",
       "      <th>2</th>\n",
       "      <td>Mario Kart Wii</td>\n",
       "      <td>Wii</td>\n",
       "      <td>2008</td>\n",
       "      <td>Racing</td>\n",
       "      <td>15.68</td>\n",
       "      <td>12.76</td>\n",
       "      <td>3.79</td>\n",
       "      <td>3.29</td>\n",
       "      <td>8.20</td>\n",
       "      <td>8.3</td>\n",
       "      <td>E</td>\n",
       "      <td>6.0</td>\n",
       "      <td>51.20</td>\n",
       "    </tr>\n",
       "    <tr>\n",
       "      <th>3</th>\n",
       "      <td>Wii Sports Resort</td>\n",
       "      <td>Wii</td>\n",
       "      <td>2009</td>\n",
       "      <td>Sports</td>\n",
       "      <td>15.61</td>\n",
       "      <td>10.93</td>\n",
       "      <td>3.28</td>\n",
       "      <td>2.95</td>\n",
       "      <td>8.00</td>\n",
       "      <td>8.0</td>\n",
       "      <td>E</td>\n",
       "      <td>6.0</td>\n",
       "      <td>48.38</td>\n",
       "    </tr>\n",
       "    <tr>\n",
       "      <th>4</th>\n",
       "      <td>Pokemon Red/Pokemon Blue</td>\n",
       "      <td>GB</td>\n",
       "      <td>1996</td>\n",
       "      <td>Role-Playing</td>\n",
       "      <td>11.27</td>\n",
       "      <td>8.89</td>\n",
       "      <td>10.22</td>\n",
       "      <td>1.00</td>\n",
       "      <td>NaN</td>\n",
       "      <td>NaN</td>\n",
       "      <td>NaN</td>\n",
       "      <td>13.0</td>\n",
       "      <td>42.65</td>\n",
       "    </tr>\n",
       "    <tr>\n",
       "      <th>5</th>\n",
       "      <td>Tetris</td>\n",
       "      <td>GB</td>\n",
       "      <td>1989</td>\n",
       "      <td>Puzzle</td>\n",
       "      <td>23.20</td>\n",
       "      <td>2.26</td>\n",
       "      <td>4.22</td>\n",
       "      <td>0.58</td>\n",
       "      <td>NaN</td>\n",
       "      <td>NaN</td>\n",
       "      <td>NaN</td>\n",
       "      <td>6.0</td>\n",
       "      <td>53.46</td>\n",
       "    </tr>\n",
       "    <tr>\n",
       "      <th>6</th>\n",
       "      <td>New Super Mario Bros.</td>\n",
       "      <td>DS</td>\n",
       "      <td>2006</td>\n",
       "      <td>Platform</td>\n",
       "      <td>11.28</td>\n",
       "      <td>9.14</td>\n",
       "      <td>6.50</td>\n",
       "      <td>2.88</td>\n",
       "      <td>8.90</td>\n",
       "      <td>8.5</td>\n",
       "      <td>E</td>\n",
       "      <td>6.0</td>\n",
       "      <td>41.08</td>\n",
       "    </tr>\n",
       "    <tr>\n",
       "      <th>7</th>\n",
       "      <td>Wii Play</td>\n",
       "      <td>Wii</td>\n",
       "      <td>2006</td>\n",
       "      <td>Misc</td>\n",
       "      <td>13.96</td>\n",
       "      <td>9.18</td>\n",
       "      <td>2.93</td>\n",
       "      <td>2.84</td>\n",
       "      <td>5.80</td>\n",
       "      <td>6.6</td>\n",
       "      <td>E</td>\n",
       "      <td>6.0</td>\n",
       "      <td>42.87</td>\n",
       "    </tr>\n",
       "    <tr>\n",
       "      <th>8</th>\n",
       "      <td>New Super Mario Bros. Wii</td>\n",
       "      <td>Wii</td>\n",
       "      <td>2009</td>\n",
       "      <td>Platform</td>\n",
       "      <td>14.44</td>\n",
       "      <td>6.94</td>\n",
       "      <td>4.70</td>\n",
       "      <td>2.24</td>\n",
       "      <td>8.70</td>\n",
       "      <td>8.4</td>\n",
       "      <td>E</td>\n",
       "      <td>6.0</td>\n",
       "      <td>42.76</td>\n",
       "    </tr>\n",
       "    <tr>\n",
       "      <th>9</th>\n",
       "      <td>Duck Hunt</td>\n",
       "      <td>NES</td>\n",
       "      <td>1984</td>\n",
       "      <td>Shooter</td>\n",
       "      <td>26.93</td>\n",
       "      <td>0.63</td>\n",
       "      <td>0.28</td>\n",
       "      <td>0.47</td>\n",
       "      <td>NaN</td>\n",
       "      <td>NaN</td>\n",
       "      <td>NaN</td>\n",
       "      <td>17.0</td>\n",
       "      <td>55.24</td>\n",
       "    </tr>\n",
       "    <tr>\n",
       "      <th>10</th>\n",
       "      <td>Nintendogs</td>\n",
       "      <td>DS</td>\n",
       "      <td>2005</td>\n",
       "      <td>Simulation</td>\n",
       "      <td>9.05</td>\n",
       "      <td>10.95</td>\n",
       "      <td>1.93</td>\n",
       "      <td>2.74</td>\n",
       "      <td>6.55</td>\n",
       "      <td>7.3</td>\n",
       "      <td>NaN</td>\n",
       "      <td>6.0</td>\n",
       "      <td>33.72</td>\n",
       "    </tr>\n",
       "  </tbody>\n",
       "</table>\n",
       "</div>"
      ],
      "text/plain": [
       "                         name platform  year_of_release         genre  \\\n",
       "0                  Wii Sports      Wii             2006        Sports   \n",
       "1           Super Mario Bros.      NES             1985      Platform   \n",
       "2              Mario Kart Wii      Wii             2008        Racing   \n",
       "3           Wii Sports Resort      Wii             2009        Sports   \n",
       "4    Pokemon Red/Pokemon Blue       GB             1996  Role-Playing   \n",
       "5                      Tetris       GB             1989        Puzzle   \n",
       "6       New Super Mario Bros.       DS             2006      Platform   \n",
       "7                    Wii Play      Wii             2006          Misc   \n",
       "8   New Super Mario Bros. Wii      Wii             2009      Platform   \n",
       "9                   Duck Hunt      NES             1984       Shooter   \n",
       "10                 Nintendogs       DS             2005    Simulation   \n",
       "\n",
       "    na_sales  eu_sales  jp_sales  other_sales  critic_score  user_score  \\\n",
       "0      41.36     28.96      3.77         8.45          7.60         8.0   \n",
       "1      29.08      3.58      6.81         0.77           NaN         NaN   \n",
       "2      15.68     12.76      3.79         3.29          8.20         8.3   \n",
       "3      15.61     10.93      3.28         2.95          8.00         8.0   \n",
       "4      11.27      8.89     10.22         1.00           NaN         NaN   \n",
       "5      23.20      2.26      4.22         0.58           NaN         NaN   \n",
       "6      11.28      9.14      6.50         2.88          8.90         8.5   \n",
       "7      13.96      9.18      2.93         2.84          5.80         6.6   \n",
       "8      14.44      6.94      4.70         2.24          8.70         8.4   \n",
       "9      26.93      0.63      0.28         0.47           NaN         NaN   \n",
       "10      9.05     10.95      1.93         2.74          6.55         7.3   \n",
       "\n",
       "   rating  figure_ratio  total_sales  \n",
       "0       E           6.0       123.90  \n",
       "1     NaN           6.0        69.32  \n",
       "2       E           6.0        51.20  \n",
       "3       E           6.0        48.38  \n",
       "4     NaN          13.0        42.65  \n",
       "5     NaN           6.0        53.46  \n",
       "6       E           6.0        41.08  \n",
       "7       E           6.0        42.87  \n",
       "8       E           6.0        42.76  \n",
       "9     NaN          17.0        55.24  \n",
       "10    NaN           6.0        33.72  "
      ]
     },
     "execution_count": 376,
     "metadata": {},
     "output_type": "execute_result"
    }
   ],
   "source": [
    "df.head(11)"
   ]
  },
  {
   "cell_type": "code",
   "execution_count": 377,
   "metadata": {},
   "outputs": [
    {
     "name": "stdout",
     "output_type": "stream",
     "text": [
      "<class 'pandas.core.frame.DataFrame'>\n",
      "Int64Index: 16444 entries, 0 to 16714\n",
      "Data columns (total 13 columns):\n",
      " #   Column           Non-Null Count  Dtype  \n",
      "---  ------           --------------  -----  \n",
      " 0   name             16444 non-null  object \n",
      " 1   platform         16444 non-null  object \n",
      " 2   year_of_release  16444 non-null  int64  \n",
      " 3   genre            16444 non-null  object \n",
      " 4   na_sales         16444 non-null  float64\n",
      " 5   eu_sales         16444 non-null  float64\n",
      " 6   jp_sales         16444 non-null  float64\n",
      " 7   other_sales      16444 non-null  float64\n",
      " 8   critic_score     15333 non-null  float64\n",
      " 9   user_score       15340 non-null  float64\n",
      " 10  rating           9768 non-null   object \n",
      " 11  figure_ratio     16444 non-null  float64\n",
      " 12  total_sales      16444 non-null  float64\n",
      "dtypes: float64(8), int64(1), object(4)\n",
      "memory usage: 1.8+ MB\n"
     ]
    }
   ],
   "source": [
    "df.info() # проверяем результат замены"
   ]
  },
  {
   "cell_type": "code",
   "execution_count": 378,
   "metadata": {},
   "outputs": [
    {
     "data": {
      "text/html": [
       "<style type=\"text/css\">\n",
       "#T_0924e_row0_col0, #T_0924e_row1_col0, #T_0924e_row2_col0, #T_0924e_row3_col0, #T_0924e_row4_col0, #T_0924e_row5_col0, #T_0924e_row6_col0, #T_0924e_row7_col0, #T_0924e_row11_col0, #T_0924e_row12_col0 {\n",
       "  background-color: #3b4cc0;\n",
       "  color: #f1f1f1;\n",
       "}\n",
       "#T_0924e_row8_col0, #T_0924e_row9_col0 {\n",
       "  background-color: #6f92f3;\n",
       "  color: #f1f1f1;\n",
       "}\n",
       "#T_0924e_row10_col0 {\n",
       "  background-color: #b40426;\n",
       "  color: #f1f1f1;\n",
       "}\n",
       "</style>\n",
       "<table id=\"T_0924e_\">\n",
       "  <thead>\n",
       "    <tr>\n",
       "      <th class=\"blank level0\" >&nbsp;</th>\n",
       "      <th class=\"col_heading level0 col0\" >0</th>\n",
       "    </tr>\n",
       "  </thead>\n",
       "  <tbody>\n",
       "    <tr>\n",
       "      <th id=\"T_0924e_level0_row0\" class=\"row_heading level0 row0\" >name</th>\n",
       "      <td id=\"T_0924e_row0_col0\" class=\"data row0 col0\" >0.000000</td>\n",
       "    </tr>\n",
       "    <tr>\n",
       "      <th id=\"T_0924e_level0_row1\" class=\"row_heading level0 row1\" >platform</th>\n",
       "      <td id=\"T_0924e_row1_col0\" class=\"data row1 col0\" >0.000000</td>\n",
       "    </tr>\n",
       "    <tr>\n",
       "      <th id=\"T_0924e_level0_row2\" class=\"row_heading level0 row2\" >year_of_release</th>\n",
       "      <td id=\"T_0924e_row2_col0\" class=\"data row2 col0\" >0.000000</td>\n",
       "    </tr>\n",
       "    <tr>\n",
       "      <th id=\"T_0924e_level0_row3\" class=\"row_heading level0 row3\" >genre</th>\n",
       "      <td id=\"T_0924e_row3_col0\" class=\"data row3 col0\" >0.000000</td>\n",
       "    </tr>\n",
       "    <tr>\n",
       "      <th id=\"T_0924e_level0_row4\" class=\"row_heading level0 row4\" >na_sales</th>\n",
       "      <td id=\"T_0924e_row4_col0\" class=\"data row4 col0\" >0.000000</td>\n",
       "    </tr>\n",
       "    <tr>\n",
       "      <th id=\"T_0924e_level0_row5\" class=\"row_heading level0 row5\" >eu_sales</th>\n",
       "      <td id=\"T_0924e_row5_col0\" class=\"data row5 col0\" >0.000000</td>\n",
       "    </tr>\n",
       "    <tr>\n",
       "      <th id=\"T_0924e_level0_row6\" class=\"row_heading level0 row6\" >jp_sales</th>\n",
       "      <td id=\"T_0924e_row6_col0\" class=\"data row6 col0\" >0.000000</td>\n",
       "    </tr>\n",
       "    <tr>\n",
       "      <th id=\"T_0924e_level0_row7\" class=\"row_heading level0 row7\" >other_sales</th>\n",
       "      <td id=\"T_0924e_row7_col0\" class=\"data row7 col0\" >0.000000</td>\n",
       "    </tr>\n",
       "    <tr>\n",
       "      <th id=\"T_0924e_level0_row8\" class=\"row_heading level0 row8\" >critic_score</th>\n",
       "      <td id=\"T_0924e_row8_col0\" class=\"data row8 col0\" >6.760000</td>\n",
       "    </tr>\n",
       "    <tr>\n",
       "      <th id=\"T_0924e_level0_row9\" class=\"row_heading level0 row9\" >user_score</th>\n",
       "      <td id=\"T_0924e_row9_col0\" class=\"data row9 col0\" >6.710000</td>\n",
       "    </tr>\n",
       "    <tr>\n",
       "      <th id=\"T_0924e_level0_row10\" class=\"row_heading level0 row10\" >rating</th>\n",
       "      <td id=\"T_0924e_row10_col0\" class=\"data row10 col0\" >40.600000</td>\n",
       "    </tr>\n",
       "    <tr>\n",
       "      <th id=\"T_0924e_level0_row11\" class=\"row_heading level0 row11\" >figure_ratio</th>\n",
       "      <td id=\"T_0924e_row11_col0\" class=\"data row11 col0\" >0.000000</td>\n",
       "    </tr>\n",
       "    <tr>\n",
       "      <th id=\"T_0924e_level0_row12\" class=\"row_heading level0 row12\" >total_sales</th>\n",
       "      <td id=\"T_0924e_row12_col0\" class=\"data row12 col0\" >0.000000</td>\n",
       "    </tr>\n",
       "  </tbody>\n",
       "</table>\n"
      ],
      "text/plain": [
       "<pandas.io.formats.style.Styler at 0x7fe5b13b4310>"
      ]
     },
     "execution_count": 378,
     "metadata": {},
     "output_type": "execute_result"
    }
   ],
   "source": [
    "pd.DataFrame(round((df.isna().mean()*100),2)).style.background_gradient('coolwarm')"
   ]
  },
  {
   "cell_type": "markdown",
   "metadata": {},
   "source": [
    "1. We changed some data types in columns: date, user_score, critic_score and rating.\n",
    "2. Add a new column with figure_ratio because ESRB was alphabetic\n",
    "3. Searched the gaps: 1,6% in the year_of_release - we dropped it; created the function, and filled the gaps in figure_ratio on the median count of the genre; 40 and 50% in the columns user_score and critic_score, and decided to fill the gaps on the median count of the platform and genre\n"
   ]
  },
  {
   "cell_type": "markdown",
   "metadata": {},
   "source": [
    "# Исследовательский анализ / Investigation of the data\n",
    "<a id=\"discovery\"></a>\n"
   ]
  },
  {
   "cell_type": "code",
   "execution_count": 379,
   "metadata": {},
   "outputs": [],
   "source": [
    "count_games = df.pivot_table(index='year_of_release', values='name', aggfunc='count').sort_values(by='name', ascending=False) # смотрим на количество игр по годам\n",
    "# create a pivot table with count of the games in years"
   ]
  },
  {
   "cell_type": "code",
   "execution_count": 380,
   "metadata": {},
   "outputs": [
    {
     "data": {
      "text/html": [
       "<div>\n",
       "<style scoped>\n",
       "    .dataframe tbody tr th:only-of-type {\n",
       "        vertical-align: middle;\n",
       "    }\n",
       "\n",
       "    .dataframe tbody tr th {\n",
       "        vertical-align: top;\n",
       "    }\n",
       "\n",
       "    .dataframe thead th {\n",
       "        text-align: right;\n",
       "    }\n",
       "</style>\n",
       "<table border=\"1\" class=\"dataframe\">\n",
       "  <thead>\n",
       "    <tr style=\"text-align: right;\">\n",
       "      <th></th>\n",
       "      <th>name</th>\n",
       "    </tr>\n",
       "    <tr>\n",
       "      <th>year_of_release</th>\n",
       "      <th></th>\n",
       "    </tr>\n",
       "  </thead>\n",
       "  <tbody>\n",
       "    <tr>\n",
       "      <th>2008</th>\n",
       "      <td>1427</td>\n",
       "    </tr>\n",
       "    <tr>\n",
       "      <th>2009</th>\n",
       "      <td>1426</td>\n",
       "    </tr>\n",
       "    <tr>\n",
       "      <th>2010</th>\n",
       "      <td>1255</td>\n",
       "    </tr>\n",
       "    <tr>\n",
       "      <th>2007</th>\n",
       "      <td>1197</td>\n",
       "    </tr>\n",
       "    <tr>\n",
       "      <th>2011</th>\n",
       "      <td>1136</td>\n",
       "    </tr>\n",
       "    <tr>\n",
       "      <th>2006</th>\n",
       "      <td>1006</td>\n",
       "    </tr>\n",
       "    <tr>\n",
       "      <th>2005</th>\n",
       "      <td>939</td>\n",
       "    </tr>\n",
       "    <tr>\n",
       "      <th>2002</th>\n",
       "      <td>829</td>\n",
       "    </tr>\n",
       "    <tr>\n",
       "      <th>2003</th>\n",
       "      <td>775</td>\n",
       "    </tr>\n",
       "    <tr>\n",
       "      <th>2004</th>\n",
       "      <td>762</td>\n",
       "    </tr>\n",
       "    <tr>\n",
       "      <th>2012</th>\n",
       "      <td>653</td>\n",
       "    </tr>\n",
       "    <tr>\n",
       "      <th>2015</th>\n",
       "      <td>606</td>\n",
       "    </tr>\n",
       "    <tr>\n",
       "      <th>2014</th>\n",
       "      <td>581</td>\n",
       "    </tr>\n",
       "    <tr>\n",
       "      <th>2013</th>\n",
       "      <td>544</td>\n",
       "    </tr>\n",
       "    <tr>\n",
       "      <th>2016</th>\n",
       "      <td>502</td>\n",
       "    </tr>\n",
       "    <tr>\n",
       "      <th>2001</th>\n",
       "      <td>482</td>\n",
       "    </tr>\n",
       "    <tr>\n",
       "      <th>1998</th>\n",
       "      <td>379</td>\n",
       "    </tr>\n",
       "    <tr>\n",
       "      <th>2000</th>\n",
       "      <td>350</td>\n",
       "    </tr>\n",
       "    <tr>\n",
       "      <th>1999</th>\n",
       "      <td>338</td>\n",
       "    </tr>\n",
       "    <tr>\n",
       "      <th>1997</th>\n",
       "      <td>289</td>\n",
       "    </tr>\n",
       "    <tr>\n",
       "      <th>1996</th>\n",
       "      <td>263</td>\n",
       "    </tr>\n",
       "    <tr>\n",
       "      <th>1995</th>\n",
       "      <td>219</td>\n",
       "    </tr>\n",
       "    <tr>\n",
       "      <th>1994</th>\n",
       "      <td>121</td>\n",
       "    </tr>\n",
       "    <tr>\n",
       "      <th>1993</th>\n",
       "      <td>60</td>\n",
       "    </tr>\n",
       "    <tr>\n",
       "      <th>1981</th>\n",
       "      <td>46</td>\n",
       "    </tr>\n",
       "    <tr>\n",
       "      <th>1992</th>\n",
       "      <td>43</td>\n",
       "    </tr>\n",
       "    <tr>\n",
       "      <th>1991</th>\n",
       "      <td>41</td>\n",
       "    </tr>\n",
       "    <tr>\n",
       "      <th>1982</th>\n",
       "      <td>36</td>\n",
       "    </tr>\n",
       "    <tr>\n",
       "      <th>1986</th>\n",
       "      <td>21</td>\n",
       "    </tr>\n",
       "    <tr>\n",
       "      <th>1989</th>\n",
       "      <td>17</td>\n",
       "    </tr>\n",
       "    <tr>\n",
       "      <th>1983</th>\n",
       "      <td>17</td>\n",
       "    </tr>\n",
       "    <tr>\n",
       "      <th>1990</th>\n",
       "      <td>16</td>\n",
       "    </tr>\n",
       "    <tr>\n",
       "      <th>1987</th>\n",
       "      <td>16</td>\n",
       "    </tr>\n",
       "    <tr>\n",
       "      <th>1988</th>\n",
       "      <td>15</td>\n",
       "    </tr>\n",
       "    <tr>\n",
       "      <th>1985</th>\n",
       "      <td>14</td>\n",
       "    </tr>\n",
       "    <tr>\n",
       "      <th>1984</th>\n",
       "      <td>14</td>\n",
       "    </tr>\n",
       "    <tr>\n",
       "      <th>1980</th>\n",
       "      <td>9</td>\n",
       "    </tr>\n",
       "  </tbody>\n",
       "</table>\n",
       "</div>"
      ],
      "text/plain": [
       "                 name\n",
       "year_of_release      \n",
       "2008             1427\n",
       "2009             1426\n",
       "2010             1255\n",
       "2007             1197\n",
       "2011             1136\n",
       "2006             1006\n",
       "2005              939\n",
       "2002              829\n",
       "2003              775\n",
       "2004              762\n",
       "2012              653\n",
       "2015              606\n",
       "2014              581\n",
       "2013              544\n",
       "2016              502\n",
       "2001              482\n",
       "1998              379\n",
       "2000              350\n",
       "1999              338\n",
       "1997              289\n",
       "1996              263\n",
       "1995              219\n",
       "1994              121\n",
       "1993               60\n",
       "1981               46\n",
       "1992               43\n",
       "1991               41\n",
       "1982               36\n",
       "1986               21\n",
       "1989               17\n",
       "1983               17\n",
       "1990               16\n",
       "1987               16\n",
       "1988               15\n",
       "1985               14\n",
       "1984               14\n",
       "1980                9"
      ]
     },
     "execution_count": 380,
     "metadata": {},
     "output_type": "execute_result"
    }
   ],
   "source": [
    "count_games"
   ]
  },
  {
   "cell_type": "code",
   "execution_count": 381,
   "metadata": {},
   "outputs": [],
   "source": [
    "total_platform = df.pivot_table(index=['platform'], values='total_sales', aggfunc='sum').sort_values(by='total_sales', ascending=False) # формируем сводную таблицу с продажами по платформам\n",
    "# create a pivot table with total sales on platforms"
   ]
  },
  {
   "cell_type": "code",
   "execution_count": 382,
   "metadata": {},
   "outputs": [
    {
     "data": {
      "text/html": [
       "<div>\n",
       "<style scoped>\n",
       "    .dataframe tbody tr th:only-of-type {\n",
       "        vertical-align: middle;\n",
       "    }\n",
       "\n",
       "    .dataframe tbody tr th {\n",
       "        vertical-align: top;\n",
       "    }\n",
       "\n",
       "    .dataframe thead th {\n",
       "        text-align: right;\n",
       "    }\n",
       "</style>\n",
       "<table border=\"1\" class=\"dataframe\">\n",
       "  <thead>\n",
       "    <tr style=\"text-align: right;\">\n",
       "      <th></th>\n",
       "      <th>total_sales</th>\n",
       "    </tr>\n",
       "    <tr>\n",
       "      <th>platform</th>\n",
       "      <th></th>\n",
       "    </tr>\n",
       "  </thead>\n",
       "  <tbody>\n",
       "    <tr>\n",
       "      <th>PS2</th>\n",
       "      <td>1806.48</td>\n",
       "    </tr>\n",
       "    <tr>\n",
       "      <th>X360</th>\n",
       "      <td>1556.98</td>\n",
       "    </tr>\n",
       "    <tr>\n",
       "      <th>Wii</th>\n",
       "      <td>1378.05</td>\n",
       "    </tr>\n",
       "    <tr>\n",
       "      <th>PS3</th>\n",
       "      <td>1321.47</td>\n",
       "    </tr>\n",
       "    <tr>\n",
       "      <th>DS</th>\n",
       "      <td>1183.09</td>\n",
       "    </tr>\n",
       "    <tr>\n",
       "      <th>PS</th>\n",
       "      <td>1062.30</td>\n",
       "    </tr>\n",
       "    <tr>\n",
       "      <th>GBA</th>\n",
       "      <td>497.00</td>\n",
       "    </tr>\n",
       "    <tr>\n",
       "      <th>XB</th>\n",
       "      <td>433.63</td>\n",
       "    </tr>\n",
       "    <tr>\n",
       "      <th>PS4</th>\n",
       "      <td>422.88</td>\n",
       "    </tr>\n",
       "    <tr>\n",
       "      <th>PSP</th>\n",
       "      <td>396.80</td>\n",
       "    </tr>\n",
       "    <tr>\n",
       "      <th>NES</th>\n",
       "      <td>376.99</td>\n",
       "    </tr>\n",
       "    <tr>\n",
       "      <th>GB</th>\n",
       "      <td>368.07</td>\n",
       "    </tr>\n",
       "    <tr>\n",
       "      <th>N64</th>\n",
       "      <td>356.92</td>\n",
       "    </tr>\n",
       "    <tr>\n",
       "      <th>PC</th>\n",
       "      <td>349.10</td>\n",
       "    </tr>\n",
       "    <tr>\n",
       "      <th>3DS</th>\n",
       "      <td>340.46</td>\n",
       "    </tr>\n",
       "    <tr>\n",
       "      <th>GC</th>\n",
       "      <td>328.67</td>\n",
       "    </tr>\n",
       "    <tr>\n",
       "      <th>SNES</th>\n",
       "      <td>261.27</td>\n",
       "    </tr>\n",
       "    <tr>\n",
       "      <th>XOne</th>\n",
       "      <td>252.44</td>\n",
       "    </tr>\n",
       "    <tr>\n",
       "      <th>2600</th>\n",
       "      <td>167.26</td>\n",
       "    </tr>\n",
       "    <tr>\n",
       "      <th>WiiU</th>\n",
       "      <td>120.29</td>\n",
       "    </tr>\n",
       "    <tr>\n",
       "      <th>PSV</th>\n",
       "      <td>66.28</td>\n",
       "    </tr>\n",
       "    <tr>\n",
       "      <th>GEN</th>\n",
       "      <td>47.62</td>\n",
       "    </tr>\n",
       "    <tr>\n",
       "      <th>SAT</th>\n",
       "      <td>34.31</td>\n",
       "    </tr>\n",
       "    <tr>\n",
       "      <th>DC</th>\n",
       "      <td>21.38</td>\n",
       "    </tr>\n",
       "    <tr>\n",
       "      <th>SCD</th>\n",
       "      <td>2.86</td>\n",
       "    </tr>\n",
       "    <tr>\n",
       "      <th>NG</th>\n",
       "      <td>1.44</td>\n",
       "    </tr>\n",
       "    <tr>\n",
       "      <th>WS</th>\n",
       "      <td>1.42</td>\n",
       "    </tr>\n",
       "    <tr>\n",
       "      <th>TG16</th>\n",
       "      <td>0.16</td>\n",
       "    </tr>\n",
       "    <tr>\n",
       "      <th>3DO</th>\n",
       "      <td>0.10</td>\n",
       "    </tr>\n",
       "    <tr>\n",
       "      <th>GG</th>\n",
       "      <td>0.04</td>\n",
       "    </tr>\n",
       "    <tr>\n",
       "      <th>PCFX</th>\n",
       "      <td>0.03</td>\n",
       "    </tr>\n",
       "  </tbody>\n",
       "</table>\n",
       "</div>"
      ],
      "text/plain": [
       "          total_sales\n",
       "platform             \n",
       "PS2           1806.48\n",
       "X360          1556.98\n",
       "Wii           1378.05\n",
       "PS3           1321.47\n",
       "DS            1183.09\n",
       "PS            1062.30\n",
       "GBA            497.00\n",
       "XB             433.63\n",
       "PS4            422.88\n",
       "PSP            396.80\n",
       "NES            376.99\n",
       "GB             368.07\n",
       "N64            356.92\n",
       "PC             349.10\n",
       "3DS            340.46\n",
       "GC             328.67\n",
       "SNES           261.27\n",
       "XOne           252.44\n",
       "2600           167.26\n",
       "WiiU           120.29\n",
       "PSV             66.28\n",
       "GEN             47.62\n",
       "SAT             34.31\n",
       "DC              21.38\n",
       "SCD              2.86\n",
       "NG               1.44\n",
       "WS               1.42\n",
       "TG16             0.16\n",
       "3DO              0.10\n",
       "GG               0.04\n",
       "PCFX             0.03"
      ]
     },
     "execution_count": 382,
     "metadata": {},
     "output_type": "execute_result"
    }
   ],
   "source": [
    "total_platform"
   ]
  },
  {
   "cell_type": "code",
   "execution_count": 383,
   "metadata": {},
   "outputs": [],
   "source": [
    "total_platform = total_platform[ total_platform['total_sales'] > 100] # оставляем платформы с суммарными продажами более 100"
   ]
  },
  {
   "cell_type": "code",
   "execution_count": 384,
   "metadata": {},
   "outputs": [
    {
     "data": {
      "text/html": [
       "<div>\n",
       "<style scoped>\n",
       "    .dataframe tbody tr th:only-of-type {\n",
       "        vertical-align: middle;\n",
       "    }\n",
       "\n",
       "    .dataframe tbody tr th {\n",
       "        vertical-align: top;\n",
       "    }\n",
       "\n",
       "    .dataframe thead th {\n",
       "        text-align: right;\n",
       "    }\n",
       "</style>\n",
       "<table border=\"1\" class=\"dataframe\">\n",
       "  <thead>\n",
       "    <tr style=\"text-align: right;\">\n",
       "      <th></th>\n",
       "      <th>total_sales</th>\n",
       "    </tr>\n",
       "    <tr>\n",
       "      <th>platform</th>\n",
       "      <th></th>\n",
       "    </tr>\n",
       "  </thead>\n",
       "  <tbody>\n",
       "    <tr>\n",
       "      <th>PS2</th>\n",
       "      <td>1806.48</td>\n",
       "    </tr>\n",
       "    <tr>\n",
       "      <th>X360</th>\n",
       "      <td>1556.98</td>\n",
       "    </tr>\n",
       "    <tr>\n",
       "      <th>Wii</th>\n",
       "      <td>1378.05</td>\n",
       "    </tr>\n",
       "    <tr>\n",
       "      <th>PS3</th>\n",
       "      <td>1321.47</td>\n",
       "    </tr>\n",
       "    <tr>\n",
       "      <th>DS</th>\n",
       "      <td>1183.09</td>\n",
       "    </tr>\n",
       "    <tr>\n",
       "      <th>PS</th>\n",
       "      <td>1062.30</td>\n",
       "    </tr>\n",
       "    <tr>\n",
       "      <th>GBA</th>\n",
       "      <td>497.00</td>\n",
       "    </tr>\n",
       "    <tr>\n",
       "      <th>XB</th>\n",
       "      <td>433.63</td>\n",
       "    </tr>\n",
       "    <tr>\n",
       "      <th>PS4</th>\n",
       "      <td>422.88</td>\n",
       "    </tr>\n",
       "    <tr>\n",
       "      <th>PSP</th>\n",
       "      <td>396.80</td>\n",
       "    </tr>\n",
       "    <tr>\n",
       "      <th>NES</th>\n",
       "      <td>376.99</td>\n",
       "    </tr>\n",
       "    <tr>\n",
       "      <th>GB</th>\n",
       "      <td>368.07</td>\n",
       "    </tr>\n",
       "    <tr>\n",
       "      <th>N64</th>\n",
       "      <td>356.92</td>\n",
       "    </tr>\n",
       "    <tr>\n",
       "      <th>PC</th>\n",
       "      <td>349.10</td>\n",
       "    </tr>\n",
       "    <tr>\n",
       "      <th>3DS</th>\n",
       "      <td>340.46</td>\n",
       "    </tr>\n",
       "    <tr>\n",
       "      <th>GC</th>\n",
       "      <td>328.67</td>\n",
       "    </tr>\n",
       "    <tr>\n",
       "      <th>SNES</th>\n",
       "      <td>261.27</td>\n",
       "    </tr>\n",
       "    <tr>\n",
       "      <th>XOne</th>\n",
       "      <td>252.44</td>\n",
       "    </tr>\n",
       "    <tr>\n",
       "      <th>2600</th>\n",
       "      <td>167.26</td>\n",
       "    </tr>\n",
       "    <tr>\n",
       "      <th>WiiU</th>\n",
       "      <td>120.29</td>\n",
       "    </tr>\n",
       "  </tbody>\n",
       "</table>\n",
       "</div>"
      ],
      "text/plain": [
       "          total_sales\n",
       "platform             \n",
       "PS2           1806.48\n",
       "X360          1556.98\n",
       "Wii           1378.05\n",
       "PS3           1321.47\n",
       "DS            1183.09\n",
       "PS            1062.30\n",
       "GBA            497.00\n",
       "XB             433.63\n",
       "PS4            422.88\n",
       "PSP            396.80\n",
       "NES            376.99\n",
       "GB             368.07\n",
       "N64            356.92\n",
       "PC             349.10\n",
       "3DS            340.46\n",
       "GC             328.67\n",
       "SNES           261.27\n",
       "XOne           252.44\n",
       "2600           167.26\n",
       "WiiU           120.29"
      ]
     },
     "execution_count": 384,
     "metadata": {},
     "output_type": "execute_result"
    }
   ],
   "source": [
    "total_platform"
   ]
  },
  {
   "cell_type": "code",
   "execution_count": 385,
   "metadata": {},
   "outputs": [],
   "source": [
    "popular_platforms = df "
   ]
  },
  {
   "cell_type": "markdown",
   "metadata": {},
   "source": [
    "<div class=\"alert alert-success\">\n",
    "<h3>Комментарий ревьюера</h3>\n",
    "\n",
    "Это кстати не копия, а ссылка, если ты сделаешь изменения в `popular_platforms`, они будут видны и в df, чтобы сделать копию, надо `popular_platforms = df.copy()`\n",
    "</div>"
   ]
  },
  {
   "cell_type": "code",
   "execution_count": 386,
   "metadata": {},
   "outputs": [
    {
     "data": {
      "image/png": "[encoded data removed]",
      "text/plain": [
       "<Figure size 432x288 with 1 Axes>"
      ]
     },
     "metadata": {
      "needs_background": "light"
     },
     "output_type": "display_data"
    },
    {
     "data": {
      "image/png": "[encoded data removed]",
      "text/plain": [
       "<Figure size 432x288 with 1 Axes>"
      ]
     },
     "metadata": {
      "needs_background": "light"
     },
     "output_type": "display_data"
    },
    {
     "data": {
      "image/png": "[encoded data removed]",
      "text/plain": [
       "<Figure size 432x288 with 1 Axes>"
      ]
     },
     "metadata": {
      "needs_background": "light"
     },
     "output_type": "display_data"
    },
    {
     "data": {
      "image/png": "[encoded data removed]",
      "text/plain": [
       "<Figure size 432x288 with 1 Axes>"
      ]
     },
     "metadata": {
      "needs_background": "light"
     },
     "output_type": "display_data"
    },
    {
     "data": {
      "image/png": "[encoded data removed]",
      "text/plain": [
       "<Figure size 432x288 with 1 Axes>"
      ]
     },
     "metadata": {
      "needs_background": "light"
     },
     "output_type": "display_data"
    },
    {
     "data": {
      "image/png": "[encoded data removed]",
      "text/plain": [
       "<Figure size 432x288 with 1 Axes>"
      ]
     },
     "metadata": {
      "needs_background": "light"
     },
     "output_type": "display_data"
    },
    {
     "data": {
      "image/png": "[encoded data removed]",
      "text/plain": [
       "<Figure size 432x288 with 1 Axes>"
      ]
     },
     "metadata": {
      "needs_background": "light"
     },
     "output_type": "display_data"
    },
    {
     "data": {
      "image/png": "[encoded data removed]",
      "text/plain": [
       "<Figure size 432x288 with 1 Axes>"
      ]
     },
     "metadata": {
      "needs_background": "light"
     },
     "output_type": "display_data"
    },
    {
     "data": {
      "image/png": "[encoded data removed]",
      "text/plain": [
       "<Figure size 432x288 with 1 Axes>"
      ]
     },
     "metadata": {
      "needs_background": "light"
     },
     "output_type": "display_data"
    },
    {
     "data": {
      "image/png": "[encoded data removed]",
      "text/plain": [
       "<Figure size 432x288 with 1 Axes>"
      ]
     },
     "metadata": {
      "needs_background": "light"
     },
     "output_type": "display_data"
    },
    {
     "data": {
      "image/png": "[encoded data removed]",
      "text/plain": [
       "<Figure size 432x288 with 1 Axes>"
      ]
     },
     "metadata": {
      "needs_background": "light"
     },
     "output_type": "display_data"
    },
    {
     "data": {
      "image/png": "[encoded data removed]",
      "text/plain": [
       "<Figure size 432x288 with 1 Axes>"
      ]
     },
     "metadata": {
      "needs_background": "light"
     },
     "output_type": "display_data"
    },
    {
     "data": {
      "image/png": "[encoded data removed]",
      "text/plain": [
       "<Figure size 432x288 with 1 Axes>"
      ]
     },
     "metadata": {
      "needs_background": "light"
     },
     "output_type": "display_data"
    },
    {
     "data": {
      "image/png": "[encoded data removed]",
      "text/plain": [
       "<Figure size 432x288 with 1 Axes>"
      ]
     },
     "metadata": {
      "needs_background": "light"
     },
     "output_type": "display_data"
    },
    {
     "data": {
      "image/png": "[encoded data removed]",
      "text/plain": [
       "<Figure size 432x288 with 1 Axes>"
      ]
     },
     "metadata": {
      "needs_background": "light"
     },
     "output_type": "display_data"
    },
    {
     "data": {
      "image/png": "[encoded data removed]",
      "text/plain": [
       "<Figure size 432x288 with 1 Axes>"
      ]
     },
     "metadata": {
      "needs_background": "light"
     },
     "output_type": "display_data"
    },
    {
     "data": {
      "image/png": "[encoded data removed]",
      "text/plain": [
       "<Figure size 432x288 with 1 Axes>"
      ]
     },
     "metadata": {
      "needs_background": "light"
     },
     "output_type": "display_data"
    },
    {
     "data": {
      "image/png": "[encoded data removed]",
      "text/plain": [
       "<Figure size 432x288 with 1 Axes>"
      ]
     },
     "metadata": {
      "needs_background": "light"
     },
     "output_type": "display_data"
    },
    {
     "data": {
      "image/png": "[encoded data removed]",
      "text/plain": [
       "<Figure size 432x288 with 1 Axes>"
      ]
     },
     "metadata": {
      "needs_background": "light"
     },
     "output_type": "display_data"
    },
    {
     "data": {
      "image/png": "[encoded data removed]",
      "text/plain": [
       "<Figure size 432x288 with 1 Axes>"
      ]
     },
     "metadata": {
      "needs_background": "light"
     },
     "output_type": "display_data"
    }
   ],
   "source": [
    "for platform in total_platform.index:\n",
    "  popular_platforms.query('platform == @platform').pivot_table(index='year_of_release', values='total_sales', aggfunc='sum').plot(\n",
    "      title = platform\n",
    "  )\n",
    "# функция, которая строит график только с популярными платформами"
   ]
  },
  {
   "cell_type": "code",
   "execution_count": 387,
   "metadata": {},
   "outputs": [],
   "source": [
    "actual_data = popular_platforms.query('(year_of_release > 2012)') #оставляем данные после 2012 г / query the data on a criterion"
   ]
  },
  {
   "cell_type": "code",
   "execution_count": 388,
   "metadata": {},
   "outputs": [
    {
     "name": "stdout",
     "output_type": "stream",
     "text": [
      "<class 'pandas.core.frame.DataFrame'>\n",
      "Int64Index: 2233 entries, 16 to 16714\n",
      "Data columns (total 13 columns):\n",
      " #   Column           Non-Null Count  Dtype  \n",
      "---  ------           --------------  -----  \n",
      " 0   name             2233 non-null   object \n",
      " 1   platform         2233 non-null   object \n",
      " 2   year_of_release  2233 non-null   int64  \n",
      " 3   genre            2233 non-null   object \n",
      " 4   na_sales         2233 non-null   float64\n",
      " 5   eu_sales         2233 non-null   float64\n",
      " 6   jp_sales         2233 non-null   float64\n",
      " 7   other_sales      2233 non-null   float64\n",
      " 8   critic_score     2223 non-null   float64\n",
      " 9   user_score       2230 non-null   float64\n",
      " 10  rating           1256 non-null   object \n",
      " 11  figure_ratio     2233 non-null   float64\n",
      " 12  total_sales      2233 non-null   float64\n",
      "dtypes: float64(8), int64(1), object(4)\n",
      "memory usage: 244.2+ KB\n"
     ]
    }
   ],
   "source": [
    "actual_data.info()"
   ]
  },
  {
   "cell_type": "code",
   "execution_count": 389,
   "metadata": {},
   "outputs": [
    {
     "data": {
      "text/html": [
       "<div>\n",
       "<style scoped>\n",
       "    .dataframe tbody tr th:only-of-type {\n",
       "        vertical-align: middle;\n",
       "    }\n",
       "\n",
       "    .dataframe tbody tr th {\n",
       "        vertical-align: top;\n",
       "    }\n",
       "\n",
       "    .dataframe thead th {\n",
       "        text-align: right;\n",
       "    }\n",
       "</style>\n",
       "<table border=\"1\" class=\"dataframe\">\n",
       "  <thead>\n",
       "    <tr style=\"text-align: right;\">\n",
       "      <th></th>\n",
       "      <th>name</th>\n",
       "      <th>platform</th>\n",
       "      <th>year_of_release</th>\n",
       "      <th>genre</th>\n",
       "      <th>na_sales</th>\n",
       "      <th>eu_sales</th>\n",
       "      <th>jp_sales</th>\n",
       "      <th>other_sales</th>\n",
       "      <th>critic_score</th>\n",
       "      <th>user_score</th>\n",
       "      <th>rating</th>\n",
       "      <th>figure_ratio</th>\n",
       "      <th>total_sales</th>\n",
       "    </tr>\n",
       "  </thead>\n",
       "  <tbody>\n",
       "    <tr>\n",
       "      <th>16</th>\n",
       "      <td>Grand Theft Auto V</td>\n",
       "      <td>PS3</td>\n",
       "      <td>2013</td>\n",
       "      <td>Action</td>\n",
       "      <td>7.02</td>\n",
       "      <td>9.09</td>\n",
       "      <td>0.98</td>\n",
       "      <td>3.96</td>\n",
       "      <td>9.7</td>\n",
       "      <td>8.2</td>\n",
       "      <td>M</td>\n",
       "      <td>17.0</td>\n",
       "      <td>28.07</td>\n",
       "    </tr>\n",
       "    <tr>\n",
       "      <th>23</th>\n",
       "      <td>Grand Theft Auto V</td>\n",
       "      <td>X360</td>\n",
       "      <td>2013</td>\n",
       "      <td>Action</td>\n",
       "      <td>9.66</td>\n",
       "      <td>5.14</td>\n",
       "      <td>0.06</td>\n",
       "      <td>1.41</td>\n",
       "      <td>9.7</td>\n",
       "      <td>8.1</td>\n",
       "      <td>M</td>\n",
       "      <td>17.0</td>\n",
       "      <td>25.93</td>\n",
       "    </tr>\n",
       "    <tr>\n",
       "      <th>31</th>\n",
       "      <td>Call of Duty: Black Ops 3</td>\n",
       "      <td>PS4</td>\n",
       "      <td>2015</td>\n",
       "      <td>Shooter</td>\n",
       "      <td>6.03</td>\n",
       "      <td>5.86</td>\n",
       "      <td>0.36</td>\n",
       "      <td>2.38</td>\n",
       "      <td>7.6</td>\n",
       "      <td>6.9</td>\n",
       "      <td>NaN</td>\n",
       "      <td>17.0</td>\n",
       "      <td>20.66</td>\n",
       "    </tr>\n",
       "    <tr>\n",
       "      <th>33</th>\n",
       "      <td>Pokemon X/Pokemon Y</td>\n",
       "      <td>3DS</td>\n",
       "      <td>2013</td>\n",
       "      <td>Role-Playing</td>\n",
       "      <td>5.28</td>\n",
       "      <td>4.19</td>\n",
       "      <td>4.35</td>\n",
       "      <td>0.78</td>\n",
       "      <td>7.4</td>\n",
       "      <td>7.8</td>\n",
       "      <td>NaN</td>\n",
       "      <td>13.0</td>\n",
       "      <td>19.88</td>\n",
       "    </tr>\n",
       "    <tr>\n",
       "      <th>42</th>\n",
       "      <td>Grand Theft Auto V</td>\n",
       "      <td>PS4</td>\n",
       "      <td>2014</td>\n",
       "      <td>Action</td>\n",
       "      <td>3.96</td>\n",
       "      <td>6.31</td>\n",
       "      <td>0.38</td>\n",
       "      <td>1.97</td>\n",
       "      <td>9.7</td>\n",
       "      <td>8.3</td>\n",
       "      <td>M</td>\n",
       "      <td>17.0</td>\n",
       "      <td>16.58</td>\n",
       "    </tr>\n",
       "  </tbody>\n",
       "</table>\n",
       "</div>"
      ],
      "text/plain": [
       "                         name platform  year_of_release         genre  \\\n",
       "16         Grand Theft Auto V      PS3             2013        Action   \n",
       "23         Grand Theft Auto V     X360             2013        Action   \n",
       "31  Call of Duty: Black Ops 3      PS4             2015       Shooter   \n",
       "33        Pokemon X/Pokemon Y      3DS             2013  Role-Playing   \n",
       "42         Grand Theft Auto V      PS4             2014        Action   \n",
       "\n",
       "    na_sales  eu_sales  jp_sales  other_sales  critic_score  user_score  \\\n",
       "16      7.02      9.09      0.98         3.96           9.7         8.2   \n",
       "23      9.66      5.14      0.06         1.41           9.7         8.1   \n",
       "31      6.03      5.86      0.36         2.38           7.6         6.9   \n",
       "33      5.28      4.19      4.35         0.78           7.4         7.8   \n",
       "42      3.96      6.31      0.38         1.97           9.7         8.3   \n",
       "\n",
       "   rating  figure_ratio  total_sales  \n",
       "16      M          17.0        28.07  \n",
       "23      M          17.0        25.93  \n",
       "31    NaN          17.0        20.66  \n",
       "33    NaN          13.0        19.88  \n",
       "42      M          17.0        16.58  "
      ]
     },
     "execution_count": 389,
     "metadata": {},
     "output_type": "execute_result"
    }
   ],
   "source": [
    "actual_data.head(5)"
   ]
  },
  {
   "cell_type": "code",
   "execution_count": 390,
   "metadata": {},
   "outputs": [
    {
     "data": {
      "text/plain": [
       "array(['PS3', 'X360', 'PS4', '3DS', 'XOne', 'WiiU', 'Wii', 'PC', 'PSV',\n",
       "       'DS', 'PSP'], dtype=object)"
      ]
     },
     "execution_count": 390,
     "metadata": {},
     "output_type": "execute_result"
    }
   ],
   "source": [
    "actual_data['platform'].unique()"
   ]
  },
  {
   "cell_type": "code",
   "execution_count": 391,
   "metadata": {},
   "outputs": [],
   "source": [
    "profitable_platforms = actual_data.query('( platform == [\"PS4\", \"3DS\", \"XOne\"])')  # оставляем потенциально прибыльные платформы/ query the data on profitable platforms"
   ]
  },
  {
   "cell_type": "code",
   "execution_count": 392,
   "metadata": {},
   "outputs": [
    {
     "data": {
      "text/html": [
       "<div>\n",
       "<style scoped>\n",
       "    .dataframe tbody tr th:only-of-type {\n",
       "        vertical-align: middle;\n",
       "    }\n",
       "\n",
       "    .dataframe tbody tr th {\n",
       "        vertical-align: top;\n",
       "    }\n",
       "\n",
       "    .dataframe thead th {\n",
       "        text-align: right;\n",
       "    }\n",
       "</style>\n",
       "<table border=\"1\" class=\"dataframe\">\n",
       "  <thead>\n",
       "    <tr style=\"text-align: right;\">\n",
       "      <th></th>\n",
       "      <th>name</th>\n",
       "      <th>platform</th>\n",
       "      <th>year_of_release</th>\n",
       "      <th>genre</th>\n",
       "      <th>na_sales</th>\n",
       "      <th>eu_sales</th>\n",
       "      <th>jp_sales</th>\n",
       "      <th>other_sales</th>\n",
       "      <th>critic_score</th>\n",
       "      <th>user_score</th>\n",
       "      <th>rating</th>\n",
       "      <th>figure_ratio</th>\n",
       "      <th>total_sales</th>\n",
       "    </tr>\n",
       "  </thead>\n",
       "  <tbody>\n",
       "    <tr>\n",
       "      <th>31</th>\n",
       "      <td>Call of Duty: Black Ops 3</td>\n",
       "      <td>PS4</td>\n",
       "      <td>2015</td>\n",
       "      <td>Shooter</td>\n",
       "      <td>6.03</td>\n",
       "      <td>5.86</td>\n",
       "      <td>0.36</td>\n",
       "      <td>2.38</td>\n",
       "      <td>7.60</td>\n",
       "      <td>6.9</td>\n",
       "      <td>NaN</td>\n",
       "      <td>17.0</td>\n",
       "      <td>20.66</td>\n",
       "    </tr>\n",
       "    <tr>\n",
       "      <th>33</th>\n",
       "      <td>Pokemon X/Pokemon Y</td>\n",
       "      <td>3DS</td>\n",
       "      <td>2013</td>\n",
       "      <td>Role-Playing</td>\n",
       "      <td>5.28</td>\n",
       "      <td>4.19</td>\n",
       "      <td>4.35</td>\n",
       "      <td>0.78</td>\n",
       "      <td>7.40</td>\n",
       "      <td>7.8</td>\n",
       "      <td>NaN</td>\n",
       "      <td>13.0</td>\n",
       "      <td>19.88</td>\n",
       "    </tr>\n",
       "    <tr>\n",
       "      <th>42</th>\n",
       "      <td>Grand Theft Auto V</td>\n",
       "      <td>PS4</td>\n",
       "      <td>2014</td>\n",
       "      <td>Action</td>\n",
       "      <td>3.96</td>\n",
       "      <td>6.31</td>\n",
       "      <td>0.38</td>\n",
       "      <td>1.97</td>\n",
       "      <td>9.70</td>\n",
       "      <td>8.3</td>\n",
       "      <td>M</td>\n",
       "      <td>17.0</td>\n",
       "      <td>16.58</td>\n",
       "    </tr>\n",
       "    <tr>\n",
       "      <th>47</th>\n",
       "      <td>Pokemon Omega Ruby/Pokemon Alpha Sapphire</td>\n",
       "      <td>3DS</td>\n",
       "      <td>2014</td>\n",
       "      <td>Role-Playing</td>\n",
       "      <td>4.35</td>\n",
       "      <td>3.49</td>\n",
       "      <td>3.10</td>\n",
       "      <td>0.74</td>\n",
       "      <td>7.40</td>\n",
       "      <td>7.8</td>\n",
       "      <td>NaN</td>\n",
       "      <td>13.0</td>\n",
       "      <td>16.03</td>\n",
       "    </tr>\n",
       "    <tr>\n",
       "      <th>77</th>\n",
       "      <td>FIFA 16</td>\n",
       "      <td>PS4</td>\n",
       "      <td>2015</td>\n",
       "      <td>Sports</td>\n",
       "      <td>1.12</td>\n",
       "      <td>6.12</td>\n",
       "      <td>0.06</td>\n",
       "      <td>1.28</td>\n",
       "      <td>8.20</td>\n",
       "      <td>4.3</td>\n",
       "      <td>E</td>\n",
       "      <td>6.0</td>\n",
       "      <td>9.70</td>\n",
       "    </tr>\n",
       "    <tr>\n",
       "      <th>...</th>\n",
       "      <td>...</td>\n",
       "      <td>...</td>\n",
       "      <td>...</td>\n",
       "      <td>...</td>\n",
       "      <td>...</td>\n",
       "      <td>...</td>\n",
       "      <td>...</td>\n",
       "      <td>...</td>\n",
       "      <td>...</td>\n",
       "      <td>...</td>\n",
       "      <td>...</td>\n",
       "      <td>...</td>\n",
       "      <td>...</td>\n",
       "    </tr>\n",
       "    <tr>\n",
       "      <th>16648</th>\n",
       "      <td>Mushi Bugyou</td>\n",
       "      <td>3DS</td>\n",
       "      <td>2013</td>\n",
       "      <td>Action</td>\n",
       "      <td>0.00</td>\n",
       "      <td>0.00</td>\n",
       "      <td>0.01</td>\n",
       "      <td>0.00</td>\n",
       "      <td>6.25</td>\n",
       "      <td>6.8</td>\n",
       "      <td>NaN</td>\n",
       "      <td>13.0</td>\n",
       "      <td>0.01</td>\n",
       "    </tr>\n",
       "    <tr>\n",
       "      <th>16660</th>\n",
       "      <td>Prison Architect</td>\n",
       "      <td>XOne</td>\n",
       "      <td>2016</td>\n",
       "      <td>Action</td>\n",
       "      <td>0.01</td>\n",
       "      <td>0.00</td>\n",
       "      <td>0.00</td>\n",
       "      <td>0.00</td>\n",
       "      <td>7.40</td>\n",
       "      <td>6.7</td>\n",
       "      <td>NaN</td>\n",
       "      <td>13.0</td>\n",
       "      <td>0.02</td>\n",
       "    </tr>\n",
       "    <tr>\n",
       "      <th>16668</th>\n",
       "      <td>Fujiko F. Fujio Characters: Great Assembly! Sl...</td>\n",
       "      <td>3DS</td>\n",
       "      <td>2014</td>\n",
       "      <td>Action</td>\n",
       "      <td>0.00</td>\n",
       "      <td>0.00</td>\n",
       "      <td>0.01</td>\n",
       "      <td>0.00</td>\n",
       "      <td>6.25</td>\n",
       "      <td>6.8</td>\n",
       "      <td>NaN</td>\n",
       "      <td>13.0</td>\n",
       "      <td>0.01</td>\n",
       "    </tr>\n",
       "    <tr>\n",
       "      <th>16672</th>\n",
       "      <td>Metal Gear Solid V: The Definitive Experience</td>\n",
       "      <td>XOne</td>\n",
       "      <td>2016</td>\n",
       "      <td>Action</td>\n",
       "      <td>0.01</td>\n",
       "      <td>0.00</td>\n",
       "      <td>0.00</td>\n",
       "      <td>0.00</td>\n",
       "      <td>7.40</td>\n",
       "      <td>6.8</td>\n",
       "      <td>M</td>\n",
       "      <td>17.0</td>\n",
       "      <td>0.02</td>\n",
       "    </tr>\n",
       "    <tr>\n",
       "      <th>16677</th>\n",
       "      <td>Aikatsu Stars! My Special Appeal</td>\n",
       "      <td>3DS</td>\n",
       "      <td>2016</td>\n",
       "      <td>Action</td>\n",
       "      <td>0.00</td>\n",
       "      <td>0.00</td>\n",
       "      <td>0.01</td>\n",
       "      <td>0.00</td>\n",
       "      <td>6.25</td>\n",
       "      <td>6.8</td>\n",
       "      <td>NaN</td>\n",
       "      <td>13.0</td>\n",
       "      <td>0.01</td>\n",
       "    </tr>\n",
       "  </tbody>\n",
       "</table>\n",
       "<p>942 rows × 13 columns</p>\n",
       "</div>"
      ],
      "text/plain": [
       "                                                    name platform  \\\n",
       "31                             Call of Duty: Black Ops 3      PS4   \n",
       "33                                   Pokemon X/Pokemon Y      3DS   \n",
       "42                                    Grand Theft Auto V      PS4   \n",
       "47             Pokemon Omega Ruby/Pokemon Alpha Sapphire      3DS   \n",
       "77                                               FIFA 16      PS4   \n",
       "...                                                  ...      ...   \n",
       "16648                                       Mushi Bugyou      3DS   \n",
       "16660                                   Prison Architect     XOne   \n",
       "16668  Fujiko F. Fujio Characters: Great Assembly! Sl...      3DS   \n",
       "16672      Metal Gear Solid V: The Definitive Experience     XOne   \n",
       "16677                   Aikatsu Stars! My Special Appeal      3DS   \n",
       "\n",
       "       year_of_release         genre  na_sales  eu_sales  jp_sales  \\\n",
       "31                2015       Shooter      6.03      5.86      0.36   \n",
       "33                2013  Role-Playing      5.28      4.19      4.35   \n",
       "42                2014        Action      3.96      6.31      0.38   \n",
       "47                2014  Role-Playing      4.35      3.49      3.10   \n",
       "77                2015        Sports      1.12      6.12      0.06   \n",
       "...                ...           ...       ...       ...       ...   \n",
       "16648             2013        Action      0.00      0.00      0.01   \n",
       "16660             2016        Action      0.01      0.00      0.00   \n",
       "16668             2014        Action      0.00      0.00      0.01   \n",
       "16672             2016        Action      0.01      0.00      0.00   \n",
       "16677             2016        Action      0.00      0.00      0.01   \n",
       "\n",
       "       other_sales  critic_score  user_score rating  figure_ratio  total_sales  \n",
       "31            2.38          7.60         6.9    NaN          17.0        20.66  \n",
       "33            0.78          7.40         7.8    NaN          13.0        19.88  \n",
       "42            1.97          9.70         8.3      M          17.0        16.58  \n",
       "47            0.74          7.40         7.8    NaN          13.0        16.03  \n",
       "77            1.28          8.20         4.3      E           6.0         9.70  \n",
       "...            ...           ...         ...    ...           ...          ...  \n",
       "16648         0.00          6.25         6.8    NaN          13.0         0.01  \n",
       "16660         0.00          7.40         6.7    NaN          13.0         0.02  \n",
       "16668         0.00          6.25         6.8    NaN          13.0         0.01  \n",
       "16672         0.00          7.40         6.8      M          17.0         0.02  \n",
       "16677         0.00          6.25         6.8    NaN          13.0         0.01  \n",
       "\n",
       "[942 rows x 13 columns]"
      ]
     },
     "execution_count": 392,
     "metadata": {},
     "output_type": "execute_result"
    }
   ],
   "source": [
    "profitable_platforms"
   ]
  },
  {
   "cell_type": "code",
   "execution_count": 393,
   "metadata": {},
   "outputs": [],
   "source": [
    "top3_platforms = profitable_platforms.pivot_table(index=['platform'], values='total_sales', aggfunc='sum') # топ-3 прибыльные платформы"
   ]
  },
  {
   "cell_type": "code",
   "execution_count": 394,
   "metadata": {},
   "outputs": [
    {
     "data": {
      "text/html": [
       "<div>\n",
       "<style scoped>\n",
       "    .dataframe tbody tr th:only-of-type {\n",
       "        vertical-align: middle;\n",
       "    }\n",
       "\n",
       "    .dataframe tbody tr th {\n",
       "        vertical-align: top;\n",
       "    }\n",
       "\n",
       "    .dataframe thead th {\n",
       "        text-align: right;\n",
       "    }\n",
       "</style>\n",
       "<table border=\"1\" class=\"dataframe\">\n",
       "  <thead>\n",
       "    <tr style=\"text-align: right;\">\n",
       "      <th></th>\n",
       "      <th>total_sales</th>\n",
       "    </tr>\n",
       "    <tr>\n",
       "      <th>platform</th>\n",
       "      <th></th>\n",
       "    </tr>\n",
       "  </thead>\n",
       "  <tbody>\n",
       "    <tr>\n",
       "      <th>3DS</th>\n",
       "      <td>181.45</td>\n",
       "    </tr>\n",
       "    <tr>\n",
       "      <th>PS4</th>\n",
       "      <td>422.88</td>\n",
       "    </tr>\n",
       "    <tr>\n",
       "      <th>XOne</th>\n",
       "      <td>252.44</td>\n",
       "    </tr>\n",
       "  </tbody>\n",
       "</table>\n",
       "</div>"
      ],
      "text/plain": [
       "          total_sales\n",
       "platform             \n",
       "3DS            181.45\n",
       "PS4            422.88\n",
       "XOne           252.44"
      ]
     },
     "execution_count": 394,
     "metadata": {},
     "output_type": "execute_result"
    }
   ],
   "source": [
    "top3_platforms"
   ]
  },
  {
   "cell_type": "code",
   "execution_count": 395,
   "metadata": {},
   "outputs": [],
   "source": [
    "top3_plat_genre = profitable_platforms.pivot_table(index=['platform', 'genre'], values='total_sales', aggfunc='sum') # топ-3 прибыльные платформы по жанрам"
   ]
  },
  {
   "cell_type": "code",
   "execution_count": 396,
   "metadata": {},
   "outputs": [
    {
     "data": {
      "text/html": [
       "<div>\n",
       "<style scoped>\n",
       "    .dataframe tbody tr th:only-of-type {\n",
       "        vertical-align: middle;\n",
       "    }\n",
       "\n",
       "    .dataframe tbody tr th {\n",
       "        vertical-align: top;\n",
       "    }\n",
       "\n",
       "    .dataframe thead th {\n",
       "        text-align: right;\n",
       "    }\n",
       "</style>\n",
       "<table border=\"1\" class=\"dataframe\">\n",
       "  <thead>\n",
       "    <tr style=\"text-align: right;\">\n",
       "      <th></th>\n",
       "      <th></th>\n",
       "      <th>total_sales</th>\n",
       "    </tr>\n",
       "    <tr>\n",
       "      <th>platform</th>\n",
       "      <th>genre</th>\n",
       "      <th></th>\n",
       "    </tr>\n",
       "  </thead>\n",
       "  <tbody>\n",
       "    <tr>\n",
       "      <th rowspan=\"11\" valign=\"top\">3DS</th>\n",
       "      <th>Action</th>\n",
       "      <td>42.64</td>\n",
       "    </tr>\n",
       "    <tr>\n",
       "      <th>Adventure</th>\n",
       "      <td>3.99</td>\n",
       "    </tr>\n",
       "    <tr>\n",
       "      <th>Fighting</th>\n",
       "      <td>11.60</td>\n",
       "    </tr>\n",
       "    <tr>\n",
       "      <th>Misc</th>\n",
       "      <td>8.34</td>\n",
       "    </tr>\n",
       "    <tr>\n",
       "      <th>Platform</th>\n",
       "      <td>12.20</td>\n",
       "    </tr>\n",
       "    <tr>\n",
       "      <th>Puzzle</th>\n",
       "      <td>1.94</td>\n",
       "    </tr>\n",
       "    <tr>\n",
       "      <th>Role-Playing</th>\n",
       "      <td>85.79</td>\n",
       "    </tr>\n",
       "    <tr>\n",
       "      <th>Shooter</th>\n",
       "      <td>0.06</td>\n",
       "    </tr>\n",
       "    <tr>\n",
       "      <th>Simulation</th>\n",
       "      <td>11.25</td>\n",
       "    </tr>\n",
       "    <tr>\n",
       "      <th>Sports</th>\n",
       "      <td>2.06</td>\n",
       "    </tr>\n",
       "    <tr>\n",
       "      <th>Strategy</th>\n",
       "      <td>1.58</td>\n",
       "    </tr>\n",
       "    <tr>\n",
       "      <th rowspan=\"12\" valign=\"top\">PS4</th>\n",
       "      <th>Action</th>\n",
       "      <td>128.93</td>\n",
       "    </tr>\n",
       "    <tr>\n",
       "      <th>Adventure</th>\n",
       "      <td>8.29</td>\n",
       "    </tr>\n",
       "    <tr>\n",
       "      <th>Fighting</th>\n",
       "      <td>12.25</td>\n",
       "    </tr>\n",
       "    <tr>\n",
       "      <th>Misc</th>\n",
       "      <td>11.33</td>\n",
       "    </tr>\n",
       "    <tr>\n",
       "      <th>Platform</th>\n",
       "      <td>10.14</td>\n",
       "    </tr>\n",
       "    <tr>\n",
       "      <th>Puzzle</th>\n",
       "      <td>0.02</td>\n",
       "    </tr>\n",
       "    <tr>\n",
       "      <th>Racing</th>\n",
       "      <td>14.75</td>\n",
       "    </tr>\n",
       "    <tr>\n",
       "      <th>Role-Playing</th>\n",
       "      <td>38.33</td>\n",
       "    </tr>\n",
       "    <tr>\n",
       "      <th>Shooter</th>\n",
       "      <td>121.22</td>\n",
       "    </tr>\n",
       "    <tr>\n",
       "      <th>Simulation</th>\n",
       "      <td>1.44</td>\n",
       "    </tr>\n",
       "    <tr>\n",
       "      <th>Sports</th>\n",
       "      <td>75.39</td>\n",
       "    </tr>\n",
       "    <tr>\n",
       "      <th>Strategy</th>\n",
       "      <td>0.79</td>\n",
       "    </tr>\n",
       "    <tr>\n",
       "      <th rowspan=\"11\" valign=\"top\">XOne</th>\n",
       "      <th>Action</th>\n",
       "      <td>58.68</td>\n",
       "    </tr>\n",
       "    <tr>\n",
       "      <th>Adventure</th>\n",
       "      <td>3.95</td>\n",
       "    </tr>\n",
       "    <tr>\n",
       "      <th>Fighting</th>\n",
       "      <td>4.10</td>\n",
       "    </tr>\n",
       "    <tr>\n",
       "      <th>Misc</th>\n",
       "      <td>12.20</td>\n",
       "    </tr>\n",
       "    <tr>\n",
       "      <th>Platform</th>\n",
       "      <td>1.44</td>\n",
       "    </tr>\n",
       "    <tr>\n",
       "      <th>Racing</th>\n",
       "      <td>14.15</td>\n",
       "    </tr>\n",
       "    <tr>\n",
       "      <th>Role-Playing</th>\n",
       "      <td>16.70</td>\n",
       "    </tr>\n",
       "    <tr>\n",
       "      <th>Shooter</th>\n",
       "      <td>97.19</td>\n",
       "    </tr>\n",
       "    <tr>\n",
       "      <th>Simulation</th>\n",
       "      <td>1.01</td>\n",
       "    </tr>\n",
       "    <tr>\n",
       "      <th>Sports</th>\n",
       "      <td>42.33</td>\n",
       "    </tr>\n",
       "    <tr>\n",
       "      <th>Strategy</th>\n",
       "      <td>0.69</td>\n",
       "    </tr>\n",
       "  </tbody>\n",
       "</table>\n",
       "</div>"
      ],
      "text/plain": [
       "                       total_sales\n",
       "platform genre                    \n",
       "3DS      Action              42.64\n",
       "         Adventure            3.99\n",
       "         Fighting            11.60\n",
       "         Misc                 8.34\n",
       "         Platform            12.20\n",
       "         Puzzle               1.94\n",
       "         Role-Playing        85.79\n",
       "         Shooter              0.06\n",
       "         Simulation          11.25\n",
       "         Sports               2.06\n",
       "         Strategy             1.58\n",
       "PS4      Action             128.93\n",
       "         Adventure            8.29\n",
       "         Fighting            12.25\n",
       "         Misc                11.33\n",
       "         Platform            10.14\n",
       "         Puzzle               0.02\n",
       "         Racing              14.75\n",
       "         Role-Playing        38.33\n",
       "         Shooter            121.22\n",
       "         Simulation           1.44\n",
       "         Sports              75.39\n",
       "         Strategy             0.79\n",
       "XOne     Action              58.68\n",
       "         Adventure            3.95\n",
       "         Fighting             4.10\n",
       "         Misc                12.20\n",
       "         Platform             1.44\n",
       "         Racing              14.15\n",
       "         Role-Playing        16.70\n",
       "         Shooter             97.19\n",
       "         Simulation           1.01\n",
       "         Sports              42.33\n",
       "         Strategy             0.69"
      ]
     },
     "execution_count": 396,
     "metadata": {},
     "output_type": "execute_result"
    }
   ],
   "source": [
    "top3_plat_genre"
   ]
  },
  {
   "cell_type": "code",
   "execution_count": 397,
   "metadata": {},
   "outputs": [
    {
     "data": {
      "image/png": "[encoded data removed]",
      "text/plain": [
       "<Figure size 432x288 with 1 Axes>"
      ]
     },
     "metadata": {
      "needs_background": "light"
     },
     "output_type": "display_data"
    }
   ],
   "source": [
    "top3_plat_genre.query('(platform == \"3DS\")').boxplot() # ящик с усами для ПК\n",
    "plt.title('3DS')\n",
    "plt.show()"
   ]
  },
  {
   "cell_type": "code",
   "execution_count": 398,
   "metadata": {},
   "outputs": [
    {
     "data": {
      "image/png": "[encoded data removed]",
      "text/plain": [
       "<Figure size 432x288 with 1 Axes>"
      ]
     },
     "metadata": {
      "needs_background": "light"
     },
     "output_type": "display_data"
    }
   ],
   "source": [
    "top3_plat_genre.query('(platform == \"PS4\")').boxplot()# ящик с усами для PS4\n",
    "plt.title('PS4')\n",
    "plt.show()"
   ]
  },
  {
   "cell_type": "code",
   "execution_count": 399,
   "metadata": {},
   "outputs": [
    {
     "data": {
      "image/png": "[encoded data removed]",
      "text/plain": [
       "<Figure size 432x288 with 1 Axes>"
      ]
     },
     "metadata": {
      "needs_background": "light"
     },
     "output_type": "display_data"
    }
   ],
   "source": [
    "top3_plat_genre.query('(platform == \"XOne\")').boxplot() # ящик с усами для XOne\n",
    "plt.title('XOne')\n",
    "plt.show()"
   ]
  },
  {
   "cell_type": "code",
   "execution_count": 400,
   "metadata": {},
   "outputs": [],
   "source": [
    "ps4 = profitable_platforms.query('(platform == \"PS4\")') #срез по PS4"
   ]
  },
  {
   "cell_type": "code",
   "execution_count": 401,
   "metadata": {},
   "outputs": [
    {
     "data": {
      "image/png": "[encoded data removed]",
      "text/plain": [
       "<Figure size 432x288 with 1 Axes>"
      ]
     },
     "metadata": {
      "needs_background": "light"
     },
     "output_type": "display_data"
    }
   ],
   "source": [
    "ps4.plot(x='critic_score', y='total_sales', kind='scatter') #диаграмма рассеяния по PS4. Оценка критиков\n",
    "plt.title('critic_score_ PS4')\n",
    "plt.show()"
   ]
  },
  {
   "cell_type": "code",
   "execution_count": 402,
   "metadata": {},
   "outputs": [
    {
     "data": {
      "image/png": "[encoded data removed]",
      "text/plain": [
       "<Figure size 432x288 with 1 Axes>"
      ]
     },
     "metadata": {
      "needs_background": "light"
     },
     "output_type": "display_data"
    }
   ],
   "source": [
    "ps4.plot(x='user_score', y='total_sales', kind='scatter')#диаграмма рассеяния по PS4. Оценка пользователей\n",
    "plt.title('user_score_ PS4')\n",
    "plt.show()"
   ]
  },
  {
   "cell_type": "code",
   "execution_count": 403,
   "metadata": {},
   "outputs": [
    {
     "data": {
      "text/html": [
       "<style type=\"text/css\">\n",
       "#T_ae33b_row0_col0, #T_ae33b_row1_col1, #T_ae33b_row2_col2, #T_ae33b_row3_col3, #T_ae33b_row4_col4, #T_ae33b_row4_col8, #T_ae33b_row5_col5, #T_ae33b_row6_col6, #T_ae33b_row7_col7, #T_ae33b_row8_col4, #T_ae33b_row8_col8 {\n",
       "  background-color: #b40426;\n",
       "  color: #f1f1f1;\n",
       "}\n",
       "#T_ae33b_row0_col1, #T_ae33b_row0_col2, #T_ae33b_row0_col3, #T_ae33b_row0_col4, #T_ae33b_row0_col5, #T_ae33b_row0_col7, #T_ae33b_row0_col8, #T_ae33b_row1_col0, #T_ae33b_row2_col6 {\n",
       "  background-color: #3b4cc0;\n",
       "  color: #f1f1f1;\n",
       "}\n",
       "#T_ae33b_row0_col6 {\n",
       "  background-color: #7da0f9;\n",
       "  color: #f1f1f1;\n",
       "}\n",
       "#T_ae33b_row1_col2 {\n",
       "  background-color: #e97a5f;\n",
       "  color: #f1f1f1;\n",
       "}\n",
       "#T_ae33b_row1_col3 {\n",
       "  background-color: #dddcdc;\n",
       "  color: #000000;\n",
       "}\n",
       "#T_ae33b_row1_col4, #T_ae33b_row2_col4, #T_ae33b_row4_col1, #T_ae33b_row4_col2 {\n",
       "  background-color: #c43032;\n",
       "  color: #f1f1f1;\n",
       "}\n",
       "#T_ae33b_row1_col5 {\n",
       "  background-color: #a9c6fd;\n",
       "  color: #000000;\n",
       "}\n",
       "#T_ae33b_row1_col6 {\n",
       "  background-color: #4257c9;\n",
       "  color: #f1f1f1;\n",
       "}\n",
       "#T_ae33b_row1_col7 {\n",
       "  background-color: #6e90f2;\n",
       "  color: #f1f1f1;\n",
       "}\n",
       "#T_ae33b_row1_col8, #T_ae33b_row8_col1 {\n",
       "  background-color: #c0282f;\n",
       "  color: #f1f1f1;\n",
       "}\n",
       "#T_ae33b_row2_col0 {\n",
       "  background-color: #445acc;\n",
       "  color: #f1f1f1;\n",
       "}\n",
       "#T_ae33b_row2_col1 {\n",
       "  background-color: #e8765c;\n",
       "  color: #f1f1f1;\n",
       "}\n",
       "#T_ae33b_row2_col3 {\n",
       "  background-color: #dbdcde;\n",
       "  color: #000000;\n",
       "}\n",
       "#T_ae33b_row2_col5, #T_ae33b_row5_col3, #T_ae33b_row6_col0 {\n",
       "  background-color: #a1c0ff;\n",
       "  color: #000000;\n",
       "}\n",
       "#T_ae33b_row2_col7 {\n",
       "  background-color: #5d7ce6;\n",
       "  color: #f1f1f1;\n",
       "}\n",
       "#T_ae33b_row2_col8, #T_ae33b_row8_col2 {\n",
       "  background-color: #ca3b37;\n",
       "  color: #f1f1f1;\n",
       "}\n",
       "#T_ae33b_row3_col0, #T_ae33b_row6_col1 {\n",
       "  background-color: #6a8bef;\n",
       "  color: #f1f1f1;\n",
       "}\n",
       "#T_ae33b_row3_col1 {\n",
       "  background-color: #eed0c0;\n",
       "  color: #000000;\n",
       "}\n",
       "#T_ae33b_row3_col2 {\n",
       "  background-color: #ead4c8;\n",
       "  color: #000000;\n",
       "}\n",
       "#T_ae33b_row3_col4 {\n",
       "  background-color: #f1cdba;\n",
       "  color: #000000;\n",
       "}\n",
       "#T_ae33b_row3_col5 {\n",
       "  background-color: #93b5fe;\n",
       "  color: #000000;\n",
       "}\n",
       "#T_ae33b_row3_col6 {\n",
       "  background-color: #81a4fb;\n",
       "  color: #f1f1f1;\n",
       "}\n",
       "#T_ae33b_row3_col7 {\n",
       "  background-color: #85a8fc;\n",
       "  color: #f1f1f1;\n",
       "}\n",
       "#T_ae33b_row3_col8 {\n",
       "  background-color: #f3c7b1;\n",
       "  color: #000000;\n",
       "}\n",
       "#T_ae33b_row4_col0, #T_ae33b_row4_col6 {\n",
       "  background-color: #3d50c3;\n",
       "  color: #f1f1f1;\n",
       "}\n",
       "#T_ae33b_row4_col3 {\n",
       "  background-color: #e3d9d3;\n",
       "  color: #000000;\n",
       "}\n",
       "#T_ae33b_row4_col5 {\n",
       "  background-color: #abc8fd;\n",
       "  color: #000000;\n",
       "}\n",
       "#T_ae33b_row4_col7 {\n",
       "  background-color: #688aef;\n",
       "  color: #f1f1f1;\n",
       "}\n",
       "#T_ae33b_row5_col0 {\n",
       "  background-color: #799cf8;\n",
       "  color: #f1f1f1;\n",
       "}\n",
       "#T_ae33b_row5_col1, #T_ae33b_row5_col4 {\n",
       "  background-color: #d2dbe8;\n",
       "  color: #000000;\n",
       "}\n",
       "#T_ae33b_row5_col2 {\n",
       "  background-color: #c7d7f0;\n",
       "  color: #000000;\n",
       "}\n",
       "#T_ae33b_row5_col6 {\n",
       "  background-color: #ead5c9;\n",
       "  color: #000000;\n",
       "}\n",
       "#T_ae33b_row5_col7 {\n",
       "  background-color: #5875e1;\n",
       "  color: #f1f1f1;\n",
       "}\n",
       "#T_ae33b_row5_col8 {\n",
       "  background-color: #d4dbe6;\n",
       "  color: #000000;\n",
       "}\n",
       "#T_ae33b_row6_col2 {\n",
       "  background-color: #5977e3;\n",
       "  color: #f1f1f1;\n",
       "}\n",
       "#T_ae33b_row6_col3, #T_ae33b_row6_col7 {\n",
       "  background-color: #7a9df8;\n",
       "  color: #f1f1f1;\n",
       "}\n",
       "#T_ae33b_row6_col4 {\n",
       "  background-color: #6282ea;\n",
       "  color: #f1f1f1;\n",
       "}\n",
       "#T_ae33b_row6_col5 {\n",
       "  background-color: #e1dad6;\n",
       "  color: #000000;\n",
       "}\n",
       "#T_ae33b_row6_col8 {\n",
       "  background-color: #6687ed;\n",
       "  color: #f1f1f1;\n",
       "}\n",
       "#T_ae33b_row7_col0 {\n",
       "  background-color: #80a3fa;\n",
       "  color: #f1f1f1;\n",
       "}\n",
       "#T_ae33b_row7_col1, #T_ae33b_row8_col5 {\n",
       "  background-color: #adc9fd;\n",
       "  color: #000000;\n",
       "}\n",
       "#T_ae33b_row7_col2 {\n",
       "  background-color: #97b8ff;\n",
       "  color: #000000;\n",
       "}\n",
       "#T_ae33b_row7_col3 {\n",
       "  background-color: #9abbff;\n",
       "  color: #000000;\n",
       "}\n",
       "#T_ae33b_row7_col4 {\n",
       "  background-color: #a6c4fe;\n",
       "  color: #000000;\n",
       "}\n",
       "#T_ae33b_row7_col5 {\n",
       "  background-color: #5f7fe8;\n",
       "  color: #f1f1f1;\n",
       "}\n",
       "#T_ae33b_row7_col6 {\n",
       "  background-color: #96b7ff;\n",
       "  color: #000000;\n",
       "}\n",
       "#T_ae33b_row7_col8 {\n",
       "  background-color: #aac7fd;\n",
       "  color: #000000;\n",
       "}\n",
       "#T_ae33b_row8_col0 {\n",
       "  background-color: #3c4ec2;\n",
       "  color: #f1f1f1;\n",
       "}\n",
       "#T_ae33b_row8_col3 {\n",
       "  background-color: #e9d5cb;\n",
       "  color: #000000;\n",
       "}\n",
       "#T_ae33b_row8_col6 {\n",
       "  background-color: #3f53c6;\n",
       "  color: #f1f1f1;\n",
       "}\n",
       "#T_ae33b_row8_col7 {\n",
       "  background-color: #6b8df0;\n",
       "  color: #f1f1f1;\n",
       "}\n",
       "</style>\n",
       "<table id=\"T_ae33b_\">\n",
       "  <thead>\n",
       "    <tr>\n",
       "      <th class=\"blank level0\" >&nbsp;</th>\n",
       "      <th class=\"col_heading level0 col0\" >year_of_release</th>\n",
       "      <th class=\"col_heading level0 col1\" >na_sales</th>\n",
       "      <th class=\"col_heading level0 col2\" >eu_sales</th>\n",
       "      <th class=\"col_heading level0 col3\" >jp_sales</th>\n",
       "      <th class=\"col_heading level0 col4\" >other_sales</th>\n",
       "      <th class=\"col_heading level0 col5\" >critic_score</th>\n",
       "      <th class=\"col_heading level0 col6\" >user_score</th>\n",
       "      <th class=\"col_heading level0 col7\" >figure_ratio</th>\n",
       "      <th class=\"col_heading level0 col8\" >total_sales</th>\n",
       "    </tr>\n",
       "  </thead>\n",
       "  <tbody>\n",
       "    <tr>\n",
       "      <th id=\"T_ae33b_level0_row0\" class=\"row_heading level0 row0\" >year_of_release</th>\n",
       "      <td id=\"T_ae33b_row0_col0\" class=\"data row0 col0\" >1.000000</td>\n",
       "      <td id=\"T_ae33b_row0_col1\" class=\"data row0 col1\" >-0.248961</td>\n",
       "      <td id=\"T_ae33b_row0_col2\" class=\"data row0 col2\" >-0.208306</td>\n",
       "      <td id=\"T_ae33b_row0_col3\" class=\"data row0 col3\" >-0.060993</td>\n",
       "      <td id=\"T_ae33b_row0_col4\" class=\"data row0 col4\" >-0.234796</td>\n",
       "      <td id=\"T_ae33b_row0_col5\" class=\"data row0 col5\" >-0.006545</td>\n",
       "      <td id=\"T_ae33b_row0_col6\" class=\"data row0 col6\" >0.134362</td>\n",
       "      <td id=\"T_ae33b_row0_col7\" class=\"data row0 col7\" >0.017889</td>\n",
       "      <td id=\"T_ae33b_row0_col8\" class=\"data row0 col8\" >-0.242162</td>\n",
       "    </tr>\n",
       "    <tr>\n",
       "      <th id=\"T_ae33b_level0_row1\" class=\"row_heading level0 row1\" >na_sales</th>\n",
       "      <td id=\"T_ae33b_row1_col0\" class=\"data row1 col0\" >-0.248961</td>\n",
       "      <td id=\"T_ae33b_row1_col1\" class=\"data row1 col1\" >1.000000</td>\n",
       "      <td id=\"T_ae33b_row1_col2\" class=\"data row1 col2\" >0.785362</td>\n",
       "      <td id=\"T_ae33b_row1_col3\" class=\"data row1 col3\" >0.472981</td>\n",
       "      <td id=\"T_ae33b_row1_col4\" class=\"data row1 col4\" >0.944259</td>\n",
       "      <td id=\"T_ae33b_row1_col5\" class=\"data row1 col5\" >0.326009</td>\n",
       "      <td id=\"T_ae33b_row1_col6\" class=\"data row1 col6\" >-0.061622</td>\n",
       "      <td id=\"T_ae33b_row1_col7\" class=\"data row1 col7\" >0.176532</td>\n",
       "      <td id=\"T_ae33b_row1_col8\" class=\"data row1 col8\" >0.960859</td>\n",
       "    </tr>\n",
       "    <tr>\n",
       "      <th id=\"T_ae33b_level0_row2\" class=\"row_heading level0 row2\" >eu_sales</th>\n",
       "      <td id=\"T_ae33b_row2_col0\" class=\"data row2 col0\" >-0.208306</td>\n",
       "      <td id=\"T_ae33b_row2_col1\" class=\"data row2 col1\" >0.785362</td>\n",
       "      <td id=\"T_ae33b_row2_col2\" class=\"data row2 col2\" >1.000000</td>\n",
       "      <td id=\"T_ae33b_row2_col3\" class=\"data row2 col3\" >0.464563</td>\n",
       "      <td id=\"T_ae33b_row2_col4\" class=\"data row2 col4\" >0.944698</td>\n",
       "      <td id=\"T_ae33b_row2_col5\" class=\"data row2 col5\" >0.302911</td>\n",
       "      <td id=\"T_ae33b_row2_col6\" class=\"data row2 col6\" >-0.087532</td>\n",
       "      <td id=\"T_ae33b_row2_col7\" class=\"data row2 col7\" >0.129081</td>\n",
       "      <td id=\"T_ae33b_row2_col8\" class=\"data row2 col8\" >0.925242</td>\n",
       "    </tr>\n",
       "    <tr>\n",
       "      <th id=\"T_ae33b_level0_row3\" class=\"row_heading level0 row3\" >jp_sales</th>\n",
       "      <td id=\"T_ae33b_row3_col0\" class=\"data row3 col0\" >-0.060993</td>\n",
       "      <td id=\"T_ae33b_row3_col1\" class=\"data row3 col1\" >0.472981</td>\n",
       "      <td id=\"T_ae33b_row3_col2\" class=\"data row3 col2\" >0.464563</td>\n",
       "      <td id=\"T_ae33b_row3_col3\" class=\"data row3 col3\" >1.000000</td>\n",
       "      <td id=\"T_ae33b_row3_col4\" class=\"data row3 col4\" >0.496467</td>\n",
       "      <td id=\"T_ae33b_row3_col5\" class=\"data row3 col5\" >0.262591</td>\n",
       "      <td id=\"T_ae33b_row3_col6\" class=\"data row3 col6\" >0.150307</td>\n",
       "      <td id=\"T_ae33b_row3_col7\" class=\"data row3 col7\" >0.242291</td>\n",
       "      <td id=\"T_ae33b_row3_col8\" class=\"data row3 col8\" >0.520067</td>\n",
       "    </tr>\n",
       "    <tr>\n",
       "      <th id=\"T_ae33b_level0_row4\" class=\"row_heading level0 row4\" >other_sales</th>\n",
       "      <td id=\"T_ae33b_row4_col0\" class=\"data row4 col0\" >-0.234796</td>\n",
       "      <td id=\"T_ae33b_row4_col1\" class=\"data row4 col1\" >0.944259</td>\n",
       "      <td id=\"T_ae33b_row4_col2\" class=\"data row4 col2\" >0.944698</td>\n",
       "      <td id=\"T_ae33b_row4_col3\" class=\"data row4 col3\" >0.496467</td>\n",
       "      <td id=\"T_ae33b_row4_col4\" class=\"data row4 col4\" >1.000000</td>\n",
       "      <td id=\"T_ae33b_row4_col5\" class=\"data row4 col5\" >0.332535</td>\n",
       "      <td id=\"T_ae33b_row4_col6\" class=\"data row4 col6\" >-0.076034</td>\n",
       "      <td id=\"T_ae33b_row4_col7\" class=\"data row4 col7\" >0.161109</td>\n",
       "      <td id=\"T_ae33b_row4_col8\" class=\"data row4 col8\" >0.997834</td>\n",
       "    </tr>\n",
       "    <tr>\n",
       "      <th id=\"T_ae33b_level0_row5\" class=\"row_heading level0 row5\" >critic_score</th>\n",
       "      <td id=\"T_ae33b_row5_col0\" class=\"data row5 col0\" >-0.006545</td>\n",
       "      <td id=\"T_ae33b_row5_col1\" class=\"data row5 col1\" >0.326009</td>\n",
       "      <td id=\"T_ae33b_row5_col2\" class=\"data row5 col2\" >0.302911</td>\n",
       "      <td id=\"T_ae33b_row5_col3\" class=\"data row5 col3\" >0.262591</td>\n",
       "      <td id=\"T_ae33b_row5_col4\" class=\"data row5 col4\" >0.332535</td>\n",
       "      <td id=\"T_ae33b_row5_col5\" class=\"data row5 col5\" >1.000000</td>\n",
       "      <td id=\"T_ae33b_row5_col6\" class=\"data row5 col6\" >0.515543</td>\n",
       "      <td id=\"T_ae33b_row5_col7\" class=\"data row5 col7\" >0.113153</td>\n",
       "      <td id=\"T_ae33b_row5_col8\" class=\"data row5 col8\" >0.337203</td>\n",
       "    </tr>\n",
       "    <tr>\n",
       "      <th id=\"T_ae33b_level0_row6\" class=\"row_heading level0 row6\" >user_score</th>\n",
       "      <td id=\"T_ae33b_row6_col0\" class=\"data row6 col0\" >0.134362</td>\n",
       "      <td id=\"T_ae33b_row6_col1\" class=\"data row6 col1\" >-0.061622</td>\n",
       "      <td id=\"T_ae33b_row6_col2\" class=\"data row6 col2\" >-0.087532</td>\n",
       "      <td id=\"T_ae33b_row6_col3\" class=\"data row6 col3\" >0.150307</td>\n",
       "      <td id=\"T_ae33b_row6_col4\" class=\"data row6 col4\" >-0.076034</td>\n",
       "      <td id=\"T_ae33b_row6_col5\" class=\"data row6 col5\" >0.515543</td>\n",
       "      <td id=\"T_ae33b_row6_col6\" class=\"data row6 col6\" >1.000000</td>\n",
       "      <td id=\"T_ae33b_row6_col7\" class=\"data row6 col7\" >0.212906</td>\n",
       "      <td id=\"T_ae33b_row6_col8\" class=\"data row6 col8\" >-0.070255</td>\n",
       "    </tr>\n",
       "    <tr>\n",
       "      <th id=\"T_ae33b_level0_row7\" class=\"row_heading level0 row7\" >figure_ratio</th>\n",
       "      <td id=\"T_ae33b_row7_col0\" class=\"data row7 col0\" >0.017889</td>\n",
       "      <td id=\"T_ae33b_row7_col1\" class=\"data row7 col1\" >0.176532</td>\n",
       "      <td id=\"T_ae33b_row7_col2\" class=\"data row7 col2\" >0.129081</td>\n",
       "      <td id=\"T_ae33b_row7_col3\" class=\"data row7 col3\" >0.242291</td>\n",
       "      <td id=\"T_ae33b_row7_col4\" class=\"data row7 col4\" >0.161109</td>\n",
       "      <td id=\"T_ae33b_row7_col5\" class=\"data row7 col5\" >0.113153</td>\n",
       "      <td id=\"T_ae33b_row7_col6\" class=\"data row7 col6\" >0.212906</td>\n",
       "      <td id=\"T_ae33b_row7_col7\" class=\"data row7 col7\" >1.000000</td>\n",
       "      <td id=\"T_ae33b_row7_col8\" class=\"data row7 col8\" >0.170454</td>\n",
       "    </tr>\n",
       "    <tr>\n",
       "      <th id=\"T_ae33b_level0_row8\" class=\"row_heading level0 row8\" >total_sales</th>\n",
       "      <td id=\"T_ae33b_row8_col0\" class=\"data row8 col0\" >-0.242162</td>\n",
       "      <td id=\"T_ae33b_row8_col1\" class=\"data row8 col1\" >0.960859</td>\n",
       "      <td id=\"T_ae33b_row8_col2\" class=\"data row8 col2\" >0.925242</td>\n",
       "      <td id=\"T_ae33b_row8_col3\" class=\"data row8 col3\" >0.520067</td>\n",
       "      <td id=\"T_ae33b_row8_col4\" class=\"data row8 col4\" >0.997834</td>\n",
       "      <td id=\"T_ae33b_row8_col5\" class=\"data row8 col5\" >0.337203</td>\n",
       "      <td id=\"T_ae33b_row8_col6\" class=\"data row8 col6\" >-0.070255</td>\n",
       "      <td id=\"T_ae33b_row8_col7\" class=\"data row8 col7\" >0.170454</td>\n",
       "      <td id=\"T_ae33b_row8_col8\" class=\"data row8 col8\" >1.000000</td>\n",
       "    </tr>\n",
       "  </tbody>\n",
       "</table>\n"
      ],
      "text/plain": [
       "<pandas.io.formats.style.Styler at 0x7fe5b52fdc70>"
      ]
     },
     "execution_count": 403,
     "metadata": {},
     "output_type": "execute_result"
    }
   ],
   "source": [
    "ps4.corr().style.background_gradient('coolwarm') #корреляция по PS4"
   ]
  },
  {
   "cell_type": "code",
   "execution_count": 404,
   "metadata": {},
   "outputs": [
    {
     "data": {
      "text/html": [
       "<style type=\"text/css\">\n",
       "#T_b862d_row0_col0, #T_b862d_row1_col1, #T_b862d_row2_col2, #T_b862d_row3_col3, #T_b862d_row4_col4, #T_b862d_row5_col5, #T_b862d_row6_col6, #T_b862d_row7_col7, #T_b862d_row8_col8 {\n",
       "  background-color: #b40426;\n",
       "  color: #f1f1f1;\n",
       "}\n",
       "#T_b862d_row0_col1, #T_b862d_row0_col2, #T_b862d_row0_col3, #T_b862d_row0_col4, #T_b862d_row0_col8, #T_b862d_row2_col0, #T_b862d_row2_col7, #T_b862d_row7_col5, #T_b862d_row7_col6 {\n",
       "  background-color: #3b4cc0;\n",
       "  color: #f1f1f1;\n",
       "}\n",
       "#T_b862d_row0_col5 {\n",
       "  background-color: #445acc;\n",
       "  color: #f1f1f1;\n",
       "}\n",
       "#T_b862d_row0_col6 {\n",
       "  background-color: #4055c8;\n",
       "  color: #f1f1f1;\n",
       "}\n",
       "#T_b862d_row0_col7, #T_b862d_row5_col0 {\n",
       "  background-color: #5a78e4;\n",
       "  color: #f1f1f1;\n",
       "}\n",
       "#T_b862d_row1_col0 {\n",
       "  background-color: #455cce;\n",
       "  color: #f1f1f1;\n",
       "}\n",
       "#T_b862d_row1_col2 {\n",
       "  background-color: #ca3b37;\n",
       "  color: #f1f1f1;\n",
       "}\n",
       "#T_b862d_row1_col3 {\n",
       "  background-color: #f7b99e;\n",
       "  color: #000000;\n",
       "}\n",
       "#T_b862d_row1_col4, #T_b862d_row4_col1 {\n",
       "  background-color: #b50927;\n",
       "  color: #f1f1f1;\n",
       "}\n",
       "#T_b862d_row1_col5, #T_b862d_row4_col5, #T_b862d_row6_col8 {\n",
       "  background-color: #7ea1fa;\n",
       "  color: #f1f1f1;\n",
       "}\n",
       "#T_b862d_row1_col6, #T_b862d_row7_col4 {\n",
       "  background-color: #516ddb;\n",
       "  color: #f1f1f1;\n",
       "}\n",
       "#T_b862d_row1_col7, #T_b862d_row4_col6 {\n",
       "  background-color: #4f69d9;\n",
       "  color: #f1f1f1;\n",
       "}\n",
       "#T_b862d_row1_col8, #T_b862d_row4_col8, #T_b862d_row8_col1, #T_b862d_row8_col4 {\n",
       "  background-color: #be242e;\n",
       "  color: #f1f1f1;\n",
       "}\n",
       "#T_b862d_row2_col1 {\n",
       "  background-color: #cb3e38;\n",
       "  color: #f1f1f1;\n",
       "}\n",
       "#T_b862d_row2_col3 {\n",
       "  background-color: #f7bca1;\n",
       "  color: #000000;\n",
       "}\n",
       "#T_b862d_row2_col4, #T_b862d_row4_col2 {\n",
       "  background-color: #c12b30;\n",
       "  color: #f1f1f1;\n",
       "}\n",
       "#T_b862d_row2_col5 {\n",
       "  background-color: #779af7;\n",
       "  color: #f1f1f1;\n",
       "}\n",
       "#T_b862d_row2_col6 {\n",
       "  background-color: #465ecf;\n",
       "  color: #f1f1f1;\n",
       "}\n",
       "#T_b862d_row2_col8 {\n",
       "  background-color: #c83836;\n",
       "  color: #f1f1f1;\n",
       "}\n",
       "#T_b862d_row3_col0, #T_b862d_row4_col7 {\n",
       "  background-color: #485fd1;\n",
       "  color: #f1f1f1;\n",
       "}\n",
       "#T_b862d_row3_col1, #T_b862d_row4_col3 {\n",
       "  background-color: #f7b89c;\n",
       "  color: #000000;\n",
       "}\n",
       "#T_b862d_row3_col2, #T_b862d_row6_col5 {\n",
       "  background-color: #f7b79b;\n",
       "  color: #000000;\n",
       "}\n",
       "#T_b862d_row3_col4 {\n",
       "  background-color: #f7b599;\n",
       "  color: #000000;\n",
       "}\n",
       "#T_b862d_row3_col5, #T_b862d_row6_col3 {\n",
       "  background-color: #81a4fb;\n",
       "  color: #f1f1f1;\n",
       "}\n",
       "#T_b862d_row3_col6, #T_b862d_row7_col8 {\n",
       "  background-color: #5f7fe8;\n",
       "  color: #f1f1f1;\n",
       "}\n",
       "#T_b862d_row3_col7 {\n",
       "  background-color: #7295f4;\n",
       "  color: #f1f1f1;\n",
       "}\n",
       "#T_b862d_row3_col8 {\n",
       "  background-color: #e97a5f;\n",
       "  color: #f1f1f1;\n",
       "}\n",
       "#T_b862d_row4_col0 {\n",
       "  background-color: #4358cb;\n",
       "  color: #f1f1f1;\n",
       "}\n",
       "#T_b862d_row5_col1, #T_b862d_row5_col3 {\n",
       "  background-color: #89acfd;\n",
       "  color: #000000;\n",
       "}\n",
       "#T_b862d_row5_col2, #T_b862d_row5_col4 {\n",
       "  background-color: #8caffe;\n",
       "  color: #000000;\n",
       "}\n",
       "#T_b862d_row5_col6 {\n",
       "  background-color: #f5c0a7;\n",
       "  color: #000000;\n",
       "}\n",
       "#T_b862d_row5_col7 {\n",
       "  background-color: #3f53c6;\n",
       "  color: #f1f1f1;\n",
       "}\n",
       "#T_b862d_row5_col8 {\n",
       "  background-color: #92b4fe;\n",
       "  color: #000000;\n",
       "}\n",
       "#T_b862d_row6_col0 {\n",
       "  background-color: #7093f3;\n",
       "  color: #f1f1f1;\n",
       "}\n",
       "#T_b862d_row6_col1, #T_b862d_row6_col2, #T_b862d_row6_col4, #T_b862d_row7_col3 {\n",
       "  background-color: #7699f6;\n",
       "  color: #f1f1f1;\n",
       "}\n",
       "#T_b862d_row6_col7 {\n",
       "  background-color: #5977e3;\n",
       "  color: #f1f1f1;\n",
       "}\n",
       "#T_b862d_row7_col0 {\n",
       "  background-color: #6b8df0;\n",
       "  color: #f1f1f1;\n",
       "}\n",
       "#T_b862d_row7_col1, #T_b862d_row8_col7 {\n",
       "  background-color: #5572df;\n",
       "  color: #f1f1f1;\n",
       "}\n",
       "#T_b862d_row7_col2 {\n",
       "  background-color: #4b64d5;\n",
       "  color: #f1f1f1;\n",
       "}\n",
       "#T_b862d_row8_col0 {\n",
       "  background-color: #4257c9;\n",
       "  color: #f1f1f1;\n",
       "}\n",
       "#T_b862d_row8_col2 {\n",
       "  background-color: #c73635;\n",
       "  color: #f1f1f1;\n",
       "}\n",
       "#T_b862d_row8_col3 {\n",
       "  background-color: #ea7b60;\n",
       "  color: #f1f1f1;\n",
       "}\n",
       "#T_b862d_row8_col5 {\n",
       "  background-color: #84a7fc;\n",
       "  color: #f1f1f1;\n",
       "}\n",
       "#T_b862d_row8_col6 {\n",
       "  background-color: #5673e0;\n",
       "  color: #f1f1f1;\n",
       "}\n",
       "</style>\n",
       "<table id=\"T_b862d_\">\n",
       "  <thead>\n",
       "    <tr>\n",
       "      <th class=\"blank level0\" >&nbsp;</th>\n",
       "      <th class=\"col_heading level0 col0\" >year_of_release</th>\n",
       "      <th class=\"col_heading level0 col1\" >na_sales</th>\n",
       "      <th class=\"col_heading level0 col2\" >eu_sales</th>\n",
       "      <th class=\"col_heading level0 col3\" >jp_sales</th>\n",
       "      <th class=\"col_heading level0 col4\" >other_sales</th>\n",
       "      <th class=\"col_heading level0 col5\" >critic_score</th>\n",
       "      <th class=\"col_heading level0 col6\" >user_score</th>\n",
       "      <th class=\"col_heading level0 col7\" >figure_ratio</th>\n",
       "      <th class=\"col_heading level0 col8\" >total_sales</th>\n",
       "    </tr>\n",
       "  </thead>\n",
       "  <tbody>\n",
       "    <tr>\n",
       "      <th id=\"T_b862d_level0_row0\" class=\"row_heading level0 row0\" >year_of_release</th>\n",
       "      <td id=\"T_b862d_row0_col0\" class=\"data row0 col0\" >1.000000</td>\n",
       "      <td id=\"T_b862d_row0_col1\" class=\"data row0 col1\" >-0.075933</td>\n",
       "      <td id=\"T_b862d_row0_col2\" class=\"data row0 col2\" >-0.115177</td>\n",
       "      <td id=\"T_b862d_row0_col3\" class=\"data row0 col3\" >-0.063487</td>\n",
       "      <td id=\"T_b862d_row0_col4\" class=\"data row0 col4\" >-0.083695</td>\n",
       "      <td id=\"T_b862d_row0_col5\" class=\"data row0 col5\" >0.000496</td>\n",
       "      <td id=\"T_b862d_row0_col6\" class=\"data row0 col6\" >0.073662</td>\n",
       "      <td id=\"T_b862d_row0_col7\" class=\"data row0 col7\" >0.056501</td>\n",
       "      <td id=\"T_b862d_row0_col8\" class=\"data row0 col8\" >-0.087376</td>\n",
       "    </tr>\n",
       "    <tr>\n",
       "      <th id=\"T_b862d_level0_row1\" class=\"row_heading level0 row1\" >na_sales</th>\n",
       "      <td id=\"T_b862d_row1_col0\" class=\"data row1 col0\" >-0.075933</td>\n",
       "      <td id=\"T_b862d_row1_col1\" class=\"data row1 col1\" >1.000000</td>\n",
       "      <td id=\"T_b862d_row1_col2\" class=\"data row1 col2\" >0.931893</td>\n",
       "      <td id=\"T_b862d_row1_col3\" class=\"data row1 col3\" >0.641878</td>\n",
       "      <td id=\"T_b862d_row1_col4\" class=\"data row1 col4\" >0.993708</td>\n",
       "      <td id=\"T_b862d_row1_col5\" class=\"data row1 col5\" >0.182959</td>\n",
       "      <td id=\"T_b862d_row1_col6\" class=\"data row1 col6\" >0.122705</td>\n",
       "      <td id=\"T_b862d_row1_col7\" class=\"data row1 col7\" >0.019229</td>\n",
       "      <td id=\"T_b862d_row1_col8\" class=\"data row1 col8\" >0.966692</td>\n",
       "    </tr>\n",
       "    <tr>\n",
       "      <th id=\"T_b862d_level0_row2\" class=\"row_heading level0 row2\" >eu_sales</th>\n",
       "      <td id=\"T_b862d_row2_col0\" class=\"data row2 col0\" >-0.115177</td>\n",
       "      <td id=\"T_b862d_row2_col1\" class=\"data row2 col1\" >0.931893</td>\n",
       "      <td id=\"T_b862d_row2_col2\" class=\"data row2 col2\" >1.000000</td>\n",
       "      <td id=\"T_b862d_row2_col3\" class=\"data row2 col3\" >0.633982</td>\n",
       "      <td id=\"T_b862d_row2_col4\" class=\"data row2 col4\" >0.958274</td>\n",
       "      <td id=\"T_b862d_row2_col5\" class=\"data row2 col5\" >0.162367</td>\n",
       "      <td id=\"T_b862d_row2_col6\" class=\"data row2 col6\" >0.092734</td>\n",
       "      <td id=\"T_b862d_row2_col7\" class=\"data row2 col7\" >-0.050795</td>\n",
       "      <td id=\"T_b862d_row2_col8\" class=\"data row2 col8\" >0.940178</td>\n",
       "    </tr>\n",
       "    <tr>\n",
       "      <th id=\"T_b862d_level0_row3\" class=\"row_heading level0 row3\" >jp_sales</th>\n",
       "      <td id=\"T_b862d_row3_col0\" class=\"data row3 col0\" >-0.063487</td>\n",
       "      <td id=\"T_b862d_row3_col1\" class=\"data row3 col1\" >0.641878</td>\n",
       "      <td id=\"T_b862d_row3_col2\" class=\"data row3 col2\" >0.633982</td>\n",
       "      <td id=\"T_b862d_row3_col3\" class=\"data row3 col3\" >1.000000</td>\n",
       "      <td id=\"T_b862d_row3_col4\" class=\"data row3 col4\" >0.645306</td>\n",
       "      <td id=\"T_b862d_row3_col5\" class=\"data row3 col5\" >0.190594</td>\n",
       "      <td id=\"T_b862d_row3_col6\" class=\"data row3 col6\" >0.166936</td>\n",
       "      <td id=\"T_b862d_row3_col7\" class=\"data row3 col7\" >0.132795</td>\n",
       "      <td id=\"T_b862d_row3_col8\" class=\"data row3 col8\" >0.807492</td>\n",
       "    </tr>\n",
       "    <tr>\n",
       "      <th id=\"T_b862d_level0_row4\" class=\"row_heading level0 row4\" >other_sales</th>\n",
       "      <td id=\"T_b862d_row4_col0\" class=\"data row4 col0\" >-0.083695</td>\n",
       "      <td id=\"T_b862d_row4_col1\" class=\"data row4 col1\" >0.993708</td>\n",
       "      <td id=\"T_b862d_row4_col2\" class=\"data row4 col2\" >0.958274</td>\n",
       "      <td id=\"T_b862d_row4_col3\" class=\"data row4 col3\" >0.645306</td>\n",
       "      <td id=\"T_b862d_row4_col4\" class=\"data row4 col4\" >1.000000</td>\n",
       "      <td id=\"T_b862d_row4_col5\" class=\"data row4 col5\" >0.183678</td>\n",
       "      <td id=\"T_b862d_row4_col6\" class=\"data row4 col6\" >0.117286</td>\n",
       "      <td id=\"T_b862d_row4_col7\" class=\"data row4 col7\" >-0.002470</td>\n",
       "      <td id=\"T_b862d_row4_col8\" class=\"data row4 col8\" >0.970043</td>\n",
       "    </tr>\n",
       "    <tr>\n",
       "      <th id=\"T_b862d_level0_row5\" class=\"row_heading level0 row5\" >critic_score</th>\n",
       "      <td id=\"T_b862d_row5_col0\" class=\"data row5 col0\" >0.000496</td>\n",
       "      <td id=\"T_b862d_row5_col1\" class=\"data row5 col1\" >0.182959</td>\n",
       "      <td id=\"T_b862d_row5_col2\" class=\"data row5 col2\" >0.162367</td>\n",
       "      <td id=\"T_b862d_row5_col3\" class=\"data row5 col3\" >0.190594</td>\n",
       "      <td id=\"T_b862d_row5_col4\" class=\"data row5 col4\" >0.183678</td>\n",
       "      <td id=\"T_b862d_row5_col5\" class=\"data row5 col5\" >1.000000</td>\n",
       "      <td id=\"T_b862d_row5_col6\" class=\"data row5 col6\" >0.657205</td>\n",
       "      <td id=\"T_b862d_row5_col7\" class=\"data row5 col7\" >-0.033485</td>\n",
       "      <td id=\"T_b862d_row5_col8\" class=\"data row5 col8\" >0.197583</td>\n",
       "    </tr>\n",
       "    <tr>\n",
       "      <th id=\"T_b862d_level0_row6\" class=\"row_heading level0 row6\" >user_score</th>\n",
       "      <td id=\"T_b862d_row6_col0\" class=\"data row6 col0\" >0.073662</td>\n",
       "      <td id=\"T_b862d_row6_col1\" class=\"data row6 col1\" >0.122705</td>\n",
       "      <td id=\"T_b862d_row6_col2\" class=\"data row6 col2\" >0.092734</td>\n",
       "      <td id=\"T_b862d_row6_col3\" class=\"data row6 col3\" >0.166936</td>\n",
       "      <td id=\"T_b862d_row6_col4\" class=\"data row6 col4\" >0.117286</td>\n",
       "      <td id=\"T_b862d_row6_col5\" class=\"data row6 col5\" >0.657205</td>\n",
       "      <td id=\"T_b862d_row6_col6\" class=\"data row6 col6\" >1.000000</td>\n",
       "      <td id=\"T_b862d_row6_col7\" class=\"data row6 col7\" >0.052351</td>\n",
       "      <td id=\"T_b862d_row6_col8\" class=\"data row6 col8\" >0.140870</td>\n",
       "    </tr>\n",
       "    <tr>\n",
       "      <th id=\"T_b862d_level0_row7\" class=\"row_heading level0 row7\" >figure_ratio</th>\n",
       "      <td id=\"T_b862d_row7_col0\" class=\"data row7 col0\" >0.056501</td>\n",
       "      <td id=\"T_b862d_row7_col1\" class=\"data row7 col1\" >0.019229</td>\n",
       "      <td id=\"T_b862d_row7_col2\" class=\"data row7 col2\" >-0.050795</td>\n",
       "      <td id=\"T_b862d_row7_col3\" class=\"data row7 col3\" >0.132795</td>\n",
       "      <td id=\"T_b862d_row7_col4\" class=\"data row7 col4\" >-0.002470</td>\n",
       "      <td id=\"T_b862d_row7_col5\" class=\"data row7 col5\" >-0.033485</td>\n",
       "      <td id=\"T_b862d_row7_col6\" class=\"data row7 col6\" >0.052351</td>\n",
       "      <td id=\"T_b862d_row7_col7\" class=\"data row7 col7\" >1.000000</td>\n",
       "      <td id=\"T_b862d_row7_col8\" class=\"data row7 col8\" >0.040290</td>\n",
       "    </tr>\n",
       "    <tr>\n",
       "      <th id=\"T_b862d_level0_row8\" class=\"row_heading level0 row8\" >total_sales</th>\n",
       "      <td id=\"T_b862d_row8_col0\" class=\"data row8 col0\" >-0.087376</td>\n",
       "      <td id=\"T_b862d_row8_col1\" class=\"data row8 col1\" >0.966692</td>\n",
       "      <td id=\"T_b862d_row8_col2\" class=\"data row8 col2\" >0.940178</td>\n",
       "      <td id=\"T_b862d_row8_col3\" class=\"data row8 col3\" >0.807492</td>\n",
       "      <td id=\"T_b862d_row8_col4\" class=\"data row8 col4\" >0.970043</td>\n",
       "      <td id=\"T_b862d_row8_col5\" class=\"data row8 col5\" >0.197583</td>\n",
       "      <td id=\"T_b862d_row8_col6\" class=\"data row8 col6\" >0.140870</td>\n",
       "      <td id=\"T_b862d_row8_col7\" class=\"data row8 col7\" >0.040290</td>\n",
       "      <td id=\"T_b862d_row8_col8\" class=\"data row8 col8\" >1.000000</td>\n",
       "    </tr>\n",
       "  </tbody>\n",
       "</table>\n"
      ],
      "text/plain": [
       "<pandas.io.formats.style.Styler at 0x7fe5b540dee0>"
      ]
     },
     "execution_count": 404,
     "metadata": {},
     "output_type": "execute_result"
    }
   ],
   "source": [
    "ds = profitable_platforms.query('(platform == \"3DS\")') #срез по 3DS и корреляция\n",
    "ds.corr().style.background_gradient('coolwarm')"
   ]
  },
  {
   "cell_type": "code",
   "execution_count": 405,
   "metadata": {},
   "outputs": [
    {
     "data": {
      "text/html": [
       "<style type=\"text/css\">\n",
       "#T_68bfa_row0_col0, #T_68bfa_row1_col1, #T_68bfa_row2_col2, #T_68bfa_row3_col3, #T_68bfa_row4_col4, #T_68bfa_row4_col8, #T_68bfa_row5_col5, #T_68bfa_row6_col6, #T_68bfa_row7_col7, #T_68bfa_row8_col4, #T_68bfa_row8_col8 {\n",
       "  background-color: #b40426;\n",
       "  color: #f1f1f1;\n",
       "}\n",
       "#T_68bfa_row0_col1, #T_68bfa_row0_col2, #T_68bfa_row0_col3, #T_68bfa_row0_col4, #T_68bfa_row0_col5, #T_68bfa_row0_col7, #T_68bfa_row0_col8, #T_68bfa_row1_col0, #T_68bfa_row1_col6, #T_68bfa_row4_col0, #T_68bfa_row4_col6, #T_68bfa_row8_col0, #T_68bfa_row8_col6 {\n",
       "  background-color: #3b4cc0;\n",
       "  color: #f1f1f1;\n",
       "}\n",
       "#T_68bfa_row0_col6 {\n",
       "  background-color: #6180e9;\n",
       "  color: #f1f1f1;\n",
       "}\n",
       "#T_68bfa_row1_col2 {\n",
       "  background-color: #ed8366;\n",
       "  color: #f1f1f1;\n",
       "}\n",
       "#T_68bfa_row1_col3 {\n",
       "  background-color: #dadce0;\n",
       "  color: #000000;\n",
       "}\n",
       "#T_68bfa_row1_col4, #T_68bfa_row1_col8, #T_68bfa_row4_col1, #T_68bfa_row8_col1 {\n",
       "  background-color: #b70d28;\n",
       "  color: #f1f1f1;\n",
       "}\n",
       "#T_68bfa_row1_col5, #T_68bfa_row5_col0, #T_68bfa_row7_col0 {\n",
       "  background-color: #8fb1fe;\n",
       "  color: #000000;\n",
       "}\n",
       "#T_68bfa_row1_col7 {\n",
       "  background-color: #6c8ff1;\n",
       "  color: #f1f1f1;\n",
       "}\n",
       "#T_68bfa_row2_col0 {\n",
       "  background-color: #455cce;\n",
       "  color: #f1f1f1;\n",
       "}\n",
       "#T_68bfa_row2_col1 {\n",
       "  background-color: #ec7f63;\n",
       "  color: #f1f1f1;\n",
       "}\n",
       "#T_68bfa_row2_col3 {\n",
       "  background-color: #d9dce1;\n",
       "  color: #000000;\n",
       "}\n",
       "#T_68bfa_row2_col4, #T_68bfa_row2_col8 {\n",
       "  background-color: #dc5d4a;\n",
       "  color: #f1f1f1;\n",
       "}\n",
       "#T_68bfa_row2_col5 {\n",
       "  background-color: #92b4fe;\n",
       "  color: #000000;\n",
       "}\n",
       "#T_68bfa_row2_col6 {\n",
       "  background-color: #3d50c3;\n",
       "  color: #f1f1f1;\n",
       "}\n",
       "#T_68bfa_row2_col7 {\n",
       "  background-color: #5470de;\n",
       "  color: #f1f1f1;\n",
       "}\n",
       "#T_68bfa_row3_col0 {\n",
       "  background-color: #5673e0;\n",
       "  color: #f1f1f1;\n",
       "}\n",
       "#T_68bfa_row3_col1 {\n",
       "  background-color: #e6d7cf;\n",
       "  color: #000000;\n",
       "}\n",
       "#T_68bfa_row3_col2 {\n",
       "  background-color: #e0dbd8;\n",
       "  color: #000000;\n",
       "}\n",
       "#T_68bfa_row3_col4, #T_68bfa_row3_col8 {\n",
       "  background-color: #ead5c9;\n",
       "  color: #000000;\n",
       "}\n",
       "#T_68bfa_row3_col5 {\n",
       "  background-color: #5f7fe8;\n",
       "  color: #f1f1f1;\n",
       "}\n",
       "#T_68bfa_row3_col6 {\n",
       "  background-color: #6282ea;\n",
       "  color: #f1f1f1;\n",
       "}\n",
       "#T_68bfa_row3_col7 {\n",
       "  background-color: #536edd;\n",
       "  color: #f1f1f1;\n",
       "}\n",
       "#T_68bfa_row4_col2, #T_68bfa_row8_col2 {\n",
       "  background-color: #dd5f4b;\n",
       "  color: #f1f1f1;\n",
       "}\n",
       "#T_68bfa_row4_col3 {\n",
       "  background-color: #dedcdb;\n",
       "  color: #000000;\n",
       "}\n",
       "#T_68bfa_row4_col5, #T_68bfa_row5_col3 {\n",
       "  background-color: #96b7ff;\n",
       "  color: #000000;\n",
       "}\n",
       "#T_68bfa_row4_col7, #T_68bfa_row8_col7 {\n",
       "  background-color: #6a8bef;\n",
       "  color: #f1f1f1;\n",
       "}\n",
       "#T_68bfa_row5_col1 {\n",
       "  background-color: #cdd9ec;\n",
       "  color: #000000;\n",
       "}\n",
       "#T_68bfa_row5_col2 {\n",
       "  background-color: #cad8ef;\n",
       "  color: #000000;\n",
       "}\n",
       "#T_68bfa_row5_col4, #T_68bfa_row5_col8 {\n",
       "  background-color: #d2dbe8;\n",
       "  color: #000000;\n",
       "}\n",
       "#T_68bfa_row5_col6 {\n",
       "  background-color: #d5dbe5;\n",
       "  color: #000000;\n",
       "}\n",
       "#T_68bfa_row5_col7 {\n",
       "  background-color: #4961d2;\n",
       "  color: #f1f1f1;\n",
       "}\n",
       "#T_68bfa_row6_col0 {\n",
       "  background-color: #89acfd;\n",
       "  color: #000000;\n",
       "}\n",
       "#T_68bfa_row6_col1, #T_68bfa_row6_col4, #T_68bfa_row6_col8 {\n",
       "  background-color: #6485ec;\n",
       "  color: #f1f1f1;\n",
       "}\n",
       "#T_68bfa_row6_col2 {\n",
       "  background-color: #5d7ce6;\n",
       "  color: #f1f1f1;\n",
       "}\n",
       "#T_68bfa_row6_col3 {\n",
       "  background-color: #6f92f3;\n",
       "  color: #f1f1f1;\n",
       "}\n",
       "#T_68bfa_row6_col5 {\n",
       "  background-color: #bcd2f7;\n",
       "  color: #000000;\n",
       "}\n",
       "#T_68bfa_row6_col7 {\n",
       "  background-color: #4e68d8;\n",
       "  color: #f1f1f1;\n",
       "}\n",
       "#T_68bfa_row7_col1 {\n",
       "  background-color: #b7cff9;\n",
       "  color: #000000;\n",
       "}\n",
       "#T_68bfa_row7_col2 {\n",
       "  background-color: #9bbcff;\n",
       "  color: #000000;\n",
       "}\n",
       "#T_68bfa_row7_col3 {\n",
       "  background-color: #8badfd;\n",
       "  color: #000000;\n",
       "}\n",
       "#T_68bfa_row7_col4, #T_68bfa_row7_col8 {\n",
       "  background-color: #b6cefa;\n",
       "  color: #000000;\n",
       "}\n",
       "#T_68bfa_row7_col5 {\n",
       "  background-color: #4a63d3;\n",
       "  color: #f1f1f1;\n",
       "}\n",
       "#T_68bfa_row7_col6 {\n",
       "  background-color: #7a9df8;\n",
       "  color: #f1f1f1;\n",
       "}\n",
       "#T_68bfa_row8_col3 {\n",
       "  background-color: #dfdbd9;\n",
       "  color: #000000;\n",
       "}\n",
       "#T_68bfa_row8_col5 {\n",
       "  background-color: #94b6ff;\n",
       "  color: #000000;\n",
       "}\n",
       "</style>\n",
       "<table id=\"T_68bfa_\">\n",
       "  <thead>\n",
       "    <tr>\n",
       "      <th class=\"blank level0\" >&nbsp;</th>\n",
       "      <th class=\"col_heading level0 col0\" >year_of_release</th>\n",
       "      <th class=\"col_heading level0 col1\" >na_sales</th>\n",
       "      <th class=\"col_heading level0 col2\" >eu_sales</th>\n",
       "      <th class=\"col_heading level0 col3\" >jp_sales</th>\n",
       "      <th class=\"col_heading level0 col4\" >other_sales</th>\n",
       "      <th class=\"col_heading level0 col5\" >critic_score</th>\n",
       "      <th class=\"col_heading level0 col6\" >user_score</th>\n",
       "      <th class=\"col_heading level0 col7\" >figure_ratio</th>\n",
       "      <th class=\"col_heading level0 col8\" >total_sales</th>\n",
       "    </tr>\n",
       "  </thead>\n",
       "  <tbody>\n",
       "    <tr>\n",
       "      <th id=\"T_68bfa_level0_row0\" class=\"row_heading level0 row0\" >year_of_release</th>\n",
       "      <td id=\"T_68bfa_row0_col0\" class=\"data row0 col0\" >1.000000</td>\n",
       "      <td id=\"T_68bfa_row0_col1\" class=\"data row0 col1\" >-0.242667</td>\n",
       "      <td id=\"T_68bfa_row0_col2\" class=\"data row0 col2\" >-0.194925</td>\n",
       "      <td id=\"T_68bfa_row0_col3\" class=\"data row0 col3\" >-0.127050</td>\n",
       "      <td id=\"T_68bfa_row0_col4\" class=\"data row0 col4\" >-0.243414</td>\n",
       "      <td id=\"T_68bfa_row0_col5\" class=\"data row0 col5\" >0.073555</td>\n",
       "      <td id=\"T_68bfa_row0_col6\" class=\"data row0 col6\" >0.057571</td>\n",
       "      <td id=\"T_68bfa_row0_col7\" class=\"data row0 col7\" >0.075782</td>\n",
       "      <td id=\"T_68bfa_row0_col8\" class=\"data row0 col8\" >-0.242192</td>\n",
       "    </tr>\n",
       "    <tr>\n",
       "      <th id=\"T_68bfa_level0_row1\" class=\"row_heading level0 row1\" >na_sales</th>\n",
       "      <td id=\"T_68bfa_row1_col0\" class=\"data row1 col0\" >-0.242667</td>\n",
       "      <td id=\"T_68bfa_row1_col1\" class=\"data row1 col1\" >1.000000</td>\n",
       "      <td id=\"T_68bfa_row1_col2\" class=\"data row1 col2\" >0.765367</td>\n",
       "      <td id=\"T_68bfa_row1_col3\" class=\"data row1 col3\" >0.425725</td>\n",
       "      <td id=\"T_68bfa_row1_col4\" class=\"data row1 col4\" >0.988088</td>\n",
       "      <td id=\"T_68bfa_row1_col5\" class=\"data row1 col5\" >0.309746</td>\n",
       "      <td id=\"T_68bfa_row1_col6\" class=\"data row1 col6\" >-0.073930</td>\n",
       "      <td id=\"T_68bfa_row1_col7\" class=\"data row1 col7\" >0.221817</td>\n",
       "      <td id=\"T_68bfa_row1_col8\" class=\"data row1 col8\" >0.988518</td>\n",
       "    </tr>\n",
       "    <tr>\n",
       "      <th id=\"T_68bfa_level0_row2\" class=\"row_heading level0 row2\" >eu_sales</th>\n",
       "      <td id=\"T_68bfa_row2_col0\" class=\"data row2 col0\" >-0.194925</td>\n",
       "      <td id=\"T_68bfa_row2_col1\" class=\"data row2 col1\" >0.765367</td>\n",
       "      <td id=\"T_68bfa_row2_col2\" class=\"data row2 col2\" >1.000000</td>\n",
       "      <td id=\"T_68bfa_row2_col3\" class=\"data row2 col3\" >0.421071</td>\n",
       "      <td id=\"T_68bfa_row2_col4\" class=\"data row2 col4\" >0.852986</td>\n",
       "      <td id=\"T_68bfa_row2_col5\" class=\"data row2 col5\" >0.318707</td>\n",
       "      <td id=\"T_68bfa_row2_col6\" class=\"data row2 col6\" >-0.064056</td>\n",
       "      <td id=\"T_68bfa_row2_col7\" class=\"data row2 col7\" >0.152269</td>\n",
       "      <td id=\"T_68bfa_row2_col8\" class=\"data row2 col8\" >0.853804</td>\n",
       "    </tr>\n",
       "    <tr>\n",
       "      <th id=\"T_68bfa_level0_row3\" class=\"row_heading level0 row3\" >jp_sales</th>\n",
       "      <td id=\"T_68bfa_row3_col0\" class=\"data row3 col0\" >-0.127050</td>\n",
       "      <td id=\"T_68bfa_row3_col1\" class=\"data row3 col1\" >0.425725</td>\n",
       "      <td id=\"T_68bfa_row3_col2\" class=\"data row3 col2\" >0.421071</td>\n",
       "      <td id=\"T_68bfa_row3_col3\" class=\"data row3 col3\" >1.000000</td>\n",
       "      <td id=\"T_68bfa_row3_col4\" class=\"data row3 col4\" >0.441717</td>\n",
       "      <td id=\"T_68bfa_row3_col5\" class=\"data row3 col5\" >0.183483</td>\n",
       "      <td id=\"T_68bfa_row3_col6\" class=\"data row3 col6\" >0.061996</td>\n",
       "      <td id=\"T_68bfa_row3_col7\" class=\"data row3 col7\" >0.148212</td>\n",
       "      <td id=\"T_68bfa_row3_col8\" class=\"data row3 col8\" >0.445604</td>\n",
       "    </tr>\n",
       "    <tr>\n",
       "      <th id=\"T_68bfa_level0_row4\" class=\"row_heading level0 row4\" >other_sales</th>\n",
       "      <td id=\"T_68bfa_row4_col0\" class=\"data row4 col0\" >-0.243414</td>\n",
       "      <td id=\"T_68bfa_row4_col1\" class=\"data row4 col1\" >0.988088</td>\n",
       "      <td id=\"T_68bfa_row4_col2\" class=\"data row4 col2\" >0.852986</td>\n",
       "      <td id=\"T_68bfa_row4_col3\" class=\"data row4 col3\" >0.441717</td>\n",
       "      <td id=\"T_68bfa_row4_col4\" class=\"data row4 col4\" >1.000000</td>\n",
       "      <td id=\"T_68bfa_row4_col5\" class=\"data row4 col5\" >0.327218</td>\n",
       "      <td id=\"T_68bfa_row4_col6\" class=\"data row4 col6\" >-0.074258</td>\n",
       "      <td id=\"T_68bfa_row4_col7\" class=\"data row4 col7\" >0.216051</td>\n",
       "      <td id=\"T_68bfa_row4_col8\" class=\"data row4 col8\" >0.999508</td>\n",
       "    </tr>\n",
       "    <tr>\n",
       "      <th id=\"T_68bfa_level0_row5\" class=\"row_heading level0 row5\" >critic_score</th>\n",
       "      <td id=\"T_68bfa_row5_col0\" class=\"data row5 col0\" >0.073555</td>\n",
       "      <td id=\"T_68bfa_row5_col1\" class=\"data row5 col1\" >0.309746</td>\n",
       "      <td id=\"T_68bfa_row5_col2\" class=\"data row5 col2\" >0.318707</td>\n",
       "      <td id=\"T_68bfa_row5_col3\" class=\"data row5 col3\" >0.183483</td>\n",
       "      <td id=\"T_68bfa_row5_col4\" class=\"data row5 col4\" >0.327218</td>\n",
       "      <td id=\"T_68bfa_row5_col5\" class=\"data row5 col5\" >1.000000</td>\n",
       "      <td id=\"T_68bfa_row5_col6\" class=\"data row5 col6\" >0.432166</td>\n",
       "      <td id=\"T_68bfa_row5_col7\" class=\"data row5 col7\" >0.120957</td>\n",
       "      <td id=\"T_68bfa_row5_col8\" class=\"data row5 col8\" >0.325573</td>\n",
       "    </tr>\n",
       "    <tr>\n",
       "      <th id=\"T_68bfa_level0_row6\" class=\"row_heading level0 row6\" >user_score</th>\n",
       "      <td id=\"T_68bfa_row6_col0\" class=\"data row6 col0\" >0.057571</td>\n",
       "      <td id=\"T_68bfa_row6_col1\" class=\"data row6 col1\" >-0.073930</td>\n",
       "      <td id=\"T_68bfa_row6_col2\" class=\"data row6 col2\" >-0.064056</td>\n",
       "      <td id=\"T_68bfa_row6_col3\" class=\"data row6 col3\" >0.061996</td>\n",
       "      <td id=\"T_68bfa_row6_col4\" class=\"data row6 col4\" >-0.074258</td>\n",
       "      <td id=\"T_68bfa_row6_col5\" class=\"data row6 col5\" >0.432166</td>\n",
       "      <td id=\"T_68bfa_row6_col6\" class=\"data row6 col6\" >1.000000</td>\n",
       "      <td id=\"T_68bfa_row6_col7\" class=\"data row6 col7\" >0.136554</td>\n",
       "      <td id=\"T_68bfa_row6_col8\" class=\"data row6 col8\" >-0.074509</td>\n",
       "    </tr>\n",
       "    <tr>\n",
       "      <th id=\"T_68bfa_level0_row7\" class=\"row_heading level0 row7\" >figure_ratio</th>\n",
       "      <td id=\"T_68bfa_row7_col0\" class=\"data row7 col0\" >0.075782</td>\n",
       "      <td id=\"T_68bfa_row7_col1\" class=\"data row7 col1\" >0.221817</td>\n",
       "      <td id=\"T_68bfa_row7_col2\" class=\"data row7 col2\" >0.152269</td>\n",
       "      <td id=\"T_68bfa_row7_col3\" class=\"data row7 col3\" >0.148212</td>\n",
       "      <td id=\"T_68bfa_row7_col4\" class=\"data row7 col4\" >0.216051</td>\n",
       "      <td id=\"T_68bfa_row7_col5\" class=\"data row7 col5\" >0.120957</td>\n",
       "      <td id=\"T_68bfa_row7_col6\" class=\"data row7 col6\" >0.136554</td>\n",
       "      <td id=\"T_68bfa_row7_col7\" class=\"data row7 col7\" >1.000000</td>\n",
       "      <td id=\"T_68bfa_row7_col8\" class=\"data row7 col8\" >0.215397</td>\n",
       "    </tr>\n",
       "    <tr>\n",
       "      <th id=\"T_68bfa_level0_row8\" class=\"row_heading level0 row8\" >total_sales</th>\n",
       "      <td id=\"T_68bfa_row8_col0\" class=\"data row8 col0\" >-0.242192</td>\n",
       "      <td id=\"T_68bfa_row8_col1\" class=\"data row8 col1\" >0.988518</td>\n",
       "      <td id=\"T_68bfa_row8_col2\" class=\"data row8 col2\" >0.853804</td>\n",
       "      <td id=\"T_68bfa_row8_col3\" class=\"data row8 col3\" >0.445604</td>\n",
       "      <td id=\"T_68bfa_row8_col4\" class=\"data row8 col4\" >0.999508</td>\n",
       "      <td id=\"T_68bfa_row8_col5\" class=\"data row8 col5\" >0.325573</td>\n",
       "      <td id=\"T_68bfa_row8_col6\" class=\"data row8 col6\" >-0.074509</td>\n",
       "      <td id=\"T_68bfa_row8_col7\" class=\"data row8 col7\" >0.215397</td>\n",
       "      <td id=\"T_68bfa_row8_col8\" class=\"data row8 col8\" >1.000000</td>\n",
       "    </tr>\n",
       "  </tbody>\n",
       "</table>\n"
      ],
      "text/plain": [
       "<pandas.io.formats.style.Styler at 0x7fe5b5429a00>"
      ]
     },
     "execution_count": 405,
     "metadata": {},
     "output_type": "execute_result"
    }
   ],
   "source": [
    "xbox = profitable_platforms.query('(platform == \"XOne\")') # cрез по Xone и корреляция\n",
    "xbox.corr().style.background_gradient('coolwarm')"
   ]
  },
  {
   "cell_type": "code",
   "execution_count": 406,
   "metadata": {},
   "outputs": [
    {
     "data": {
      "text/html": [
       "<div>\n",
       "<style scoped>\n",
       "    .dataframe tbody tr th:only-of-type {\n",
       "        vertical-align: middle;\n",
       "    }\n",
       "\n",
       "    .dataframe tbody tr th {\n",
       "        vertical-align: top;\n",
       "    }\n",
       "\n",
       "    .dataframe thead th {\n",
       "        text-align: right;\n",
       "    }\n",
       "</style>\n",
       "<table border=\"1\" class=\"dataframe\">\n",
       "  <thead>\n",
       "    <tr style=\"text-align: right;\">\n",
       "      <th></th>\n",
       "      <th>total_sales</th>\n",
       "    </tr>\n",
       "    <tr>\n",
       "      <th>genre</th>\n",
       "      <th></th>\n",
       "    </tr>\n",
       "  </thead>\n",
       "  <tbody>\n",
       "    <tr>\n",
       "      <th>Action</th>\n",
       "      <td>230.25</td>\n",
       "    </tr>\n",
       "    <tr>\n",
       "      <th>Shooter</th>\n",
       "      <td>218.47</td>\n",
       "    </tr>\n",
       "    <tr>\n",
       "      <th>Role-Playing</th>\n",
       "      <td>140.82</td>\n",
       "    </tr>\n",
       "    <tr>\n",
       "      <th>Sports</th>\n",
       "      <td>119.78</td>\n",
       "    </tr>\n",
       "    <tr>\n",
       "      <th>Misc</th>\n",
       "      <td>31.87</td>\n",
       "    </tr>\n",
       "    <tr>\n",
       "      <th>Racing</th>\n",
       "      <td>28.90</td>\n",
       "    </tr>\n",
       "    <tr>\n",
       "      <th>Fighting</th>\n",
       "      <td>27.95</td>\n",
       "    </tr>\n",
       "    <tr>\n",
       "      <th>Platform</th>\n",
       "      <td>23.78</td>\n",
       "    </tr>\n",
       "    <tr>\n",
       "      <th>Adventure</th>\n",
       "      <td>16.23</td>\n",
       "    </tr>\n",
       "    <tr>\n",
       "      <th>Simulation</th>\n",
       "      <td>13.70</td>\n",
       "    </tr>\n",
       "    <tr>\n",
       "      <th>Strategy</th>\n",
       "      <td>3.06</td>\n",
       "    </tr>\n",
       "    <tr>\n",
       "      <th>Puzzle</th>\n",
       "      <td>1.96</td>\n",
       "    </tr>\n",
       "  </tbody>\n",
       "</table>\n",
       "</div>"
      ],
      "text/plain": [
       "              total_sales\n",
       "genre                    \n",
       "Action             230.25\n",
       "Shooter            218.47\n",
       "Role-Playing       140.82\n",
       "Sports             119.78\n",
       "Misc                31.87\n",
       "Racing              28.90\n",
       "Fighting            27.95\n",
       "Platform            23.78\n",
       "Adventure           16.23\n",
       "Simulation          13.70\n",
       "Strategy             3.06\n",
       "Puzzle               1.96"
      ]
     },
     "execution_count": 406,
     "metadata": {},
     "output_type": "execute_result"
    }
   ],
   "source": [
    "profitable_platforms.pivot_table(index=['genre'], values='total_sales', aggfunc='sum').sort_values(by='total_sales', ascending=False) #сводная таблица прибыльных платформ по жанрам"
   ]
  },
  {
   "cell_type": "markdown",
   "metadata": {},
   "source": [
    "1. We analyzed the number of games over the years, dropped the data before 2012\n",
    "2. New platforms appear in four-six years\n",
    "4. The most profitable platforms: PS4, Xbox One, 3DS\n",
    "5. We can see the correlation between sales and critic's scores, but user's scores don't impact on that\n",
    "6. TOP-3 genres: shooter, action and sport"
   ]
  },
  {
   "cell_type": "markdown",
   "metadata": {},
   "source": [
    "# Портреты пользователей / User portraits\n",
    "<a id=\"portrets\"></a>\n"
   ]
  },
  {
   "cell_type": "code",
   "execution_count": 407,
   "metadata": {},
   "outputs": [],
   "source": [
    "na_sales = actual_data.pivot_table(index=['platform'], values=['na_sales'] , aggfunc='sum').sort_values(by ='na_sales',ascending=False).head(5) #сводная таблица по Северной Америке с самыми популярными платформами"
   ]
  },
  {
   "cell_type": "code",
   "execution_count": 408,
   "metadata": {},
   "outputs": [],
   "source": [
    "na_sales['prop'] = na_sales['na_sales'] / na_sales['na_sales'].sum() * 100"
   ]
  },
  {
   "cell_type": "code",
   "execution_count": 409,
   "metadata": {},
   "outputs": [
    {
     "data": {
      "text/html": [
       "<div>\n",
       "<style scoped>\n",
       "    .dataframe tbody tr th:only-of-type {\n",
       "        vertical-align: middle;\n",
       "    }\n",
       "\n",
       "    .dataframe tbody tr th {\n",
       "        vertical-align: top;\n",
       "    }\n",
       "\n",
       "    .dataframe thead th {\n",
       "        text-align: right;\n",
       "    }\n",
       "</style>\n",
       "<table border=\"1\" class=\"dataframe\">\n",
       "  <thead>\n",
       "    <tr style=\"text-align: right;\">\n",
       "      <th></th>\n",
       "      <th>na_sales</th>\n",
       "      <th>prop</th>\n",
       "    </tr>\n",
       "    <tr>\n",
       "      <th>platform</th>\n",
       "      <th></th>\n",
       "      <th></th>\n",
       "    </tr>\n",
       "  </thead>\n",
       "  <tbody>\n",
       "    <tr>\n",
       "      <th>PS4</th>\n",
       "      <td>108.74</td>\n",
       "      <td>28.228026</td>\n",
       "    </tr>\n",
       "    <tr>\n",
       "      <th>XOne</th>\n",
       "      <td>93.12</td>\n",
       "      <td>24.173200</td>\n",
       "    </tr>\n",
       "    <tr>\n",
       "      <th>X360</th>\n",
       "      <td>81.66</td>\n",
       "      <td>21.198276</td>\n",
       "    </tr>\n",
       "    <tr>\n",
       "      <th>PS3</th>\n",
       "      <td>63.50</td>\n",
       "      <td>16.484087</td>\n",
       "    </tr>\n",
       "    <tr>\n",
       "      <th>3DS</th>\n",
       "      <td>38.20</td>\n",
       "      <td>9.916411</td>\n",
       "    </tr>\n",
       "  </tbody>\n",
       "</table>\n",
       "</div>"
      ],
      "text/plain": [
       "          na_sales       prop\n",
       "platform                     \n",
       "PS4         108.74  28.228026\n",
       "XOne         93.12  24.173200\n",
       "X360         81.66  21.198276\n",
       "PS3          63.50  16.484087\n",
       "3DS          38.20   9.916411"
      ]
     },
     "execution_count": 409,
     "metadata": {},
     "output_type": "execute_result"
    }
   ],
   "source": [
    "na_sales"
   ]
  },
  {
   "cell_type": "code",
   "execution_count": 410,
   "metadata": {},
   "outputs": [],
   "source": [
    "eu_sales = actual_data.pivot_table(index=['platform'], values=['eu_sales'] , aggfunc='sum').sort_values(by ='eu_sales',ascending=False).head(5)#сводная таблица по Европе с самыми популярными платформами"
   ]
  },
  {
   "cell_type": "code",
   "execution_count": 411,
   "metadata": {},
   "outputs": [],
   "source": [
    "eu_sales['prop'] = eu_sales['eu_sales'] /  eu_sales['eu_sales'].sum() * 100"
   ]
  },
  {
   "cell_type": "code",
   "execution_count": 412,
   "metadata": {},
   "outputs": [
    {
     "data": {
      "text/html": [
       "<div>\n",
       "<style scoped>\n",
       "    .dataframe tbody tr th:only-of-type {\n",
       "        vertical-align: middle;\n",
       "    }\n",
       "\n",
       "    .dataframe tbody tr th {\n",
       "        vertical-align: top;\n",
       "    }\n",
       "\n",
       "    .dataframe thead th {\n",
       "        text-align: right;\n",
       "    }\n",
       "</style>\n",
       "<table border=\"1\" class=\"dataframe\">\n",
       "  <thead>\n",
       "    <tr style=\"text-align: right;\">\n",
       "      <th></th>\n",
       "      <th>eu_sales</th>\n",
       "      <th>prop</th>\n",
       "    </tr>\n",
       "    <tr>\n",
       "      <th>platform</th>\n",
       "      <th></th>\n",
       "      <th></th>\n",
       "    </tr>\n",
       "  </thead>\n",
       "  <tbody>\n",
       "    <tr>\n",
       "      <th>PS4</th>\n",
       "      <td>141.09</td>\n",
       "      <td>42.246310</td>\n",
       "    </tr>\n",
       "    <tr>\n",
       "      <th>PS3</th>\n",
       "      <td>67.81</td>\n",
       "      <td>20.304219</td>\n",
       "    </tr>\n",
       "    <tr>\n",
       "      <th>XOne</th>\n",
       "      <td>51.59</td>\n",
       "      <td>15.447495</td>\n",
       "    </tr>\n",
       "    <tr>\n",
       "      <th>X360</th>\n",
       "      <td>42.52</td>\n",
       "      <td>12.731682</td>\n",
       "    </tr>\n",
       "    <tr>\n",
       "      <th>3DS</th>\n",
       "      <td>30.96</td>\n",
       "      <td>9.270294</td>\n",
       "    </tr>\n",
       "  </tbody>\n",
       "</table>\n",
       "</div>"
      ],
      "text/plain": [
       "          eu_sales       prop\n",
       "platform                     \n",
       "PS4         141.09  42.246310\n",
       "PS3          67.81  20.304219\n",
       "XOne         51.59  15.447495\n",
       "X360         42.52  12.731682\n",
       "3DS          30.96   9.270294"
      ]
     },
     "execution_count": 412,
     "metadata": {},
     "output_type": "execute_result"
    }
   ],
   "source": [
    "eu_sales"
   ]
  },
  {
   "cell_type": "code",
   "execution_count": 413,
   "metadata": {},
   "outputs": [],
   "source": [
    "jp_sales = actual_data.pivot_table(index=['platform'], values=['jp_sales'] , aggfunc='sum').sort_values(by ='jp_sales',ascending=False).head(5)#сводная таблица по Японии с самыми популярными платформами"
   ]
  },
  {
   "cell_type": "code",
   "execution_count": 414,
   "metadata": {},
   "outputs": [],
   "source": [
    "jp_sales['prop'] = jp_sales['jp_sales'] /jp_sales['jp_sales'].sum() * 100"
   ]
  },
  {
   "cell_type": "code",
   "execution_count": 415,
   "metadata": {},
   "outputs": [
    {
     "data": {
      "text/html": [
       "<div>\n",
       "<style scoped>\n",
       "    .dataframe tbody tr th:only-of-type {\n",
       "        vertical-align: middle;\n",
       "    }\n",
       "\n",
       "    .dataframe tbody tr th {\n",
       "        vertical-align: top;\n",
       "    }\n",
       "\n",
       "    .dataframe thead th {\n",
       "        text-align: right;\n",
       "    }\n",
       "</style>\n",
       "<table border=\"1\" class=\"dataframe\">\n",
       "  <thead>\n",
       "    <tr style=\"text-align: right;\">\n",
       "      <th></th>\n",
       "      <th>jp_sales</th>\n",
       "      <th>prop</th>\n",
       "    </tr>\n",
       "    <tr>\n",
       "      <th>platform</th>\n",
       "      <th></th>\n",
       "      <th></th>\n",
       "    </tr>\n",
       "  </thead>\n",
       "  <tbody>\n",
       "    <tr>\n",
       "      <th>3DS</th>\n",
       "      <td>67.81</td>\n",
       "      <td>49.644923</td>\n",
       "    </tr>\n",
       "    <tr>\n",
       "      <th>PS3</th>\n",
       "      <td>23.35</td>\n",
       "      <td>17.094956</td>\n",
       "    </tr>\n",
       "    <tr>\n",
       "      <th>PSV</th>\n",
       "      <td>18.59</td>\n",
       "      <td>13.610074</td>\n",
       "    </tr>\n",
       "    <tr>\n",
       "      <th>PS4</th>\n",
       "      <td>15.96</td>\n",
       "      <td>11.684604</td>\n",
       "    </tr>\n",
       "    <tr>\n",
       "      <th>WiiU</th>\n",
       "      <td>10.88</td>\n",
       "      <td>7.965444</td>\n",
       "    </tr>\n",
       "  </tbody>\n",
       "</table>\n",
       "</div>"
      ],
      "text/plain": [
       "          jp_sales       prop\n",
       "platform                     \n",
       "3DS          67.81  49.644923\n",
       "PS3          23.35  17.094956\n",
       "PSV          18.59  13.610074\n",
       "PS4          15.96  11.684604\n",
       "WiiU         10.88   7.965444"
      ]
     },
     "execution_count": 415,
     "metadata": {},
     "output_type": "execute_result"
    }
   ],
   "source": [
    "jp_sales"
   ]
  },
  {
   "cell_type": "code",
   "execution_count": 416,
   "metadata": {},
   "outputs": [],
   "source": [
    "other_sales = actual_data.pivot_table(index=['platform'], values=['other_sales'] , aggfunc='sum').sort_values(by ='other_sales',ascending=False).head(5)#сводная таблица по другим странам с самыми популярными платформами"
   ]
  },
  {
   "cell_type": "code",
   "execution_count": 417,
   "metadata": {},
   "outputs": [],
   "source": [
    "other_sales['prop'] = other_sales['other_sales'] / other_sales['other_sales'].sum() * 100"
   ]
  },
  {
   "cell_type": "code",
   "execution_count": 418,
   "metadata": {},
   "outputs": [
    {
     "data": {
      "text/html": [
       "<div>\n",
       "<style scoped>\n",
       "    .dataframe tbody tr th:only-of-type {\n",
       "        vertical-align: middle;\n",
       "    }\n",
       "\n",
       "    .dataframe tbody tr th {\n",
       "        vertical-align: top;\n",
       "    }\n",
       "\n",
       "    .dataframe thead th {\n",
       "        text-align: right;\n",
       "    }\n",
       "</style>\n",
       "<table border=\"1\" class=\"dataframe\">\n",
       "  <thead>\n",
       "    <tr style=\"text-align: right;\">\n",
       "      <th></th>\n",
       "      <th>other_sales</th>\n",
       "      <th>prop</th>\n",
       "    </tr>\n",
       "    <tr>\n",
       "      <th>platform</th>\n",
       "      <th></th>\n",
       "      <th></th>\n",
       "    </tr>\n",
       "  </thead>\n",
       "  <tbody>\n",
       "    <tr>\n",
       "      <th>PS4</th>\n",
       "      <td>48.35</td>\n",
       "      <td>44.859900</td>\n",
       "    </tr>\n",
       "    <tr>\n",
       "      <th>PS3</th>\n",
       "      <td>26.77</td>\n",
       "      <td>24.837632</td>\n",
       "    </tr>\n",
       "    <tr>\n",
       "      <th>XOne</th>\n",
       "      <td>14.27</td>\n",
       "      <td>13.239933</td>\n",
       "    </tr>\n",
       "    <tr>\n",
       "      <th>X360</th>\n",
       "      <td>12.11</td>\n",
       "      <td>11.235851</td>\n",
       "    </tr>\n",
       "    <tr>\n",
       "      <th>3DS</th>\n",
       "      <td>6.28</td>\n",
       "      <td>5.826684</td>\n",
       "    </tr>\n",
       "  </tbody>\n",
       "</table>\n",
       "</div>"
      ],
      "text/plain": [
       "          other_sales       prop\n",
       "platform                        \n",
       "PS4             48.35  44.859900\n",
       "PS3             26.77  24.837632\n",
       "XOne            14.27  13.239933\n",
       "X360            12.11  11.235851\n",
       "3DS              6.28   5.826684"
      ]
     },
     "execution_count": 418,
     "metadata": {},
     "output_type": "execute_result"
    }
   ],
   "source": [
    "other_sales"
   ]
  },
  {
   "cell_type": "code",
   "execution_count": 419,
   "metadata": {},
   "outputs": [],
   "source": [
    "def display_side_by_side(*args,titles=cycle([''])):\n",
    "    html_str=''\n",
    "    for df,title in zip(args, chain(titles,cycle(['</br>'])) ):\n",
    "        html_str+='<th style=\"text-align:center\"><td style=\"vertical-align:top\">'\n",
    "        html_str+=f'<h2>{title}</h2>'\n",
    "        html_str+=df.to_html().replace('table','table style=\"display:inline\"')\n",
    "        html_str+='</td></th>'\n",
    "    display_html(html_str,raw=True)"
   ]
  },
  {
   "cell_type": "code",
   "execution_count": 420,
   "metadata": {},
   "outputs": [
    {
     "data": {
      "text/html": [
       "<th style=\"text-align:center\"><td style=\"vertical-align:top\"><h2>na_sales</h2><table style=\"display:inline\" border=\"1\" class=\"dataframe\">\n",
       "  <thead>\n",
       "    <tr style=\"text-align: right;\">\n",
       "      <th></th>\n",
       "      <th>na_sales</th>\n",
       "      <th>prop</th>\n",
       "    </tr>\n",
       "    <tr>\n",
       "      <th>platform</th>\n",
       "      <th></th>\n",
       "      <th></th>\n",
       "    </tr>\n",
       "  </thead>\n",
       "  <tbody>\n",
       "    <tr>\n",
       "      <th>PS4</th>\n",
       "      <td>108.74</td>\n",
       "      <td>28.228026</td>\n",
       "    </tr>\n",
       "    <tr>\n",
       "      <th>XOne</th>\n",
       "      <td>93.12</td>\n",
       "      <td>24.173200</td>\n",
       "    </tr>\n",
       "    <tr>\n",
       "      <th>X360</th>\n",
       "      <td>81.66</td>\n",
       "      <td>21.198276</td>\n",
       "    </tr>\n",
       "    <tr>\n",
       "      <th>PS3</th>\n",
       "      <td>63.50</td>\n",
       "      <td>16.484087</td>\n",
       "    </tr>\n",
       "    <tr>\n",
       "      <th>3DS</th>\n",
       "      <td>38.20</td>\n",
       "      <td>9.916411</td>\n",
       "    </tr>\n",
       "  </tbody>\n",
       "</table style=\"display:inline\"></td></th><th style=\"text-align:center\"><td style=\"vertical-align:top\"><h2>eu_sales</h2><table style=\"display:inline\" border=\"1\" class=\"dataframe\">\n",
       "  <thead>\n",
       "    <tr style=\"text-align: right;\">\n",
       "      <th></th>\n",
       "      <th>eu_sales</th>\n",
       "      <th>prop</th>\n",
       "    </tr>\n",
       "    <tr>\n",
       "      <th>platform</th>\n",
       "      <th></th>\n",
       "      <th></th>\n",
       "    </tr>\n",
       "  </thead>\n",
       "  <tbody>\n",
       "    <tr>\n",
       "      <th>PS4</th>\n",
       "      <td>141.09</td>\n",
       "      <td>42.246310</td>\n",
       "    </tr>\n",
       "    <tr>\n",
       "      <th>PS3</th>\n",
       "      <td>67.81</td>\n",
       "      <td>20.304219</td>\n",
       "    </tr>\n",
       "    <tr>\n",
       "      <th>XOne</th>\n",
       "      <td>51.59</td>\n",
       "      <td>15.447495</td>\n",
       "    </tr>\n",
       "    <tr>\n",
       "      <th>X360</th>\n",
       "      <td>42.52</td>\n",
       "      <td>12.731682</td>\n",
       "    </tr>\n",
       "    <tr>\n",
       "      <th>3DS</th>\n",
       "      <td>30.96</td>\n",
       "      <td>9.270294</td>\n",
       "    </tr>\n",
       "  </tbody>\n",
       "</table style=\"display:inline\"></td></th><th style=\"text-align:center\"><td style=\"vertical-align:top\"><h2>jp_sales</h2><table style=\"display:inline\" border=\"1\" class=\"dataframe\">\n",
       "  <thead>\n",
       "    <tr style=\"text-align: right;\">\n",
       "      <th></th>\n",
       "      <th>jp_sales</th>\n",
       "      <th>prop</th>\n",
       "    </tr>\n",
       "    <tr>\n",
       "      <th>platform</th>\n",
       "      <th></th>\n",
       "      <th></th>\n",
       "    </tr>\n",
       "  </thead>\n",
       "  <tbody>\n",
       "    <tr>\n",
       "      <th>3DS</th>\n",
       "      <td>67.81</td>\n",
       "      <td>49.644923</td>\n",
       "    </tr>\n",
       "    <tr>\n",
       "      <th>PS3</th>\n",
       "      <td>23.35</td>\n",
       "      <td>17.094956</td>\n",
       "    </tr>\n",
       "    <tr>\n",
       "      <th>PSV</th>\n",
       "      <td>18.59</td>\n",
       "      <td>13.610074</td>\n",
       "    </tr>\n",
       "    <tr>\n",
       "      <th>PS4</th>\n",
       "      <td>15.96</td>\n",
       "      <td>11.684604</td>\n",
       "    </tr>\n",
       "    <tr>\n",
       "      <th>WiiU</th>\n",
       "      <td>10.88</td>\n",
       "      <td>7.965444</td>\n",
       "    </tr>\n",
       "  </tbody>\n",
       "</table style=\"display:inline\"></td></th><th style=\"text-align:center\"><td style=\"vertical-align:top\"><h2>other_sales</h2><table style=\"display:inline\" border=\"1\" class=\"dataframe\">\n",
       "  <thead>\n",
       "    <tr style=\"text-align: right;\">\n",
       "      <th></th>\n",
       "      <th>other_sales</th>\n",
       "      <th>prop</th>\n",
       "    </tr>\n",
       "    <tr>\n",
       "      <th>platform</th>\n",
       "      <th></th>\n",
       "      <th></th>\n",
       "    </tr>\n",
       "  </thead>\n",
       "  <tbody>\n",
       "    <tr>\n",
       "      <th>PS4</th>\n",
       "      <td>48.35</td>\n",
       "      <td>44.859900</td>\n",
       "    </tr>\n",
       "    <tr>\n",
       "      <th>PS3</th>\n",
       "      <td>26.77</td>\n",
       "      <td>24.837632</td>\n",
       "    </tr>\n",
       "    <tr>\n",
       "      <th>XOne</th>\n",
       "      <td>14.27</td>\n",
       "      <td>13.239933</td>\n",
       "    </tr>\n",
       "    <tr>\n",
       "      <th>X360</th>\n",
       "      <td>12.11</td>\n",
       "      <td>11.235851</td>\n",
       "    </tr>\n",
       "    <tr>\n",
       "      <th>3DS</th>\n",
       "      <td>6.28</td>\n",
       "      <td>5.826684</td>\n",
       "    </tr>\n",
       "  </tbody>\n",
       "</table style=\"display:inline\"></td></th>"
      ]
     },
     "metadata": {},
     "output_type": "display_data"
    }
   ],
   "source": [
    "display_side_by_side(na_sales,eu_sales,jp_sales, other_sales, titles=['na_sales','eu_sales', 'jp_sales', 'other_sales'])"
   ]
  },
  {
   "cell_type": "code",
   "execution_count": 421,
   "metadata": {},
   "outputs": [
    {
     "data": {
      "text/html": [
       "<div>\n",
       "<style scoped>\n",
       "    .dataframe tbody tr th:only-of-type {\n",
       "        vertical-align: middle;\n",
       "    }\n",
       "\n",
       "    .dataframe tbody tr th {\n",
       "        vertical-align: top;\n",
       "    }\n",
       "\n",
       "    .dataframe thead th {\n",
       "        text-align: right;\n",
       "    }\n",
       "</style>\n",
       "<table border=\"1\" class=\"dataframe\">\n",
       "  <thead>\n",
       "    <tr style=\"text-align: right;\">\n",
       "      <th></th>\n",
       "      <th>eu_sales</th>\n",
       "    </tr>\n",
       "    <tr>\n",
       "      <th>genre</th>\n",
       "      <th></th>\n",
       "    </tr>\n",
       "  </thead>\n",
       "  <tbody>\n",
       "    <tr>\n",
       "      <th>Action</th>\n",
       "      <td>118.13</td>\n",
       "    </tr>\n",
       "    <tr>\n",
       "      <th>Shooter</th>\n",
       "      <td>87.86</td>\n",
       "    </tr>\n",
       "    <tr>\n",
       "      <th>Sports</th>\n",
       "      <td>60.52</td>\n",
       "    </tr>\n",
       "    <tr>\n",
       "      <th>Role-Playing</th>\n",
       "      <td>36.97</td>\n",
       "    </tr>\n",
       "    <tr>\n",
       "      <th>Racing</th>\n",
       "      <td>20.19</td>\n",
       "    </tr>\n",
       "  </tbody>\n",
       "</table>\n",
       "</div>"
      ],
      "text/plain": [
       "              eu_sales\n",
       "genre                 \n",
       "Action          118.13\n",
       "Shooter          87.86\n",
       "Sports           60.52\n",
       "Role-Playing     36.97\n",
       "Racing           20.19"
      ]
     },
     "execution_count": 421,
     "metadata": {},
     "output_type": "execute_result"
    }
   ],
   "source": [
    "eu_genre = actual_data.pivot_table(index='genre', values='eu_sales', aggfunc='sum').sort_values(by='eu_sales', ascending=False).head(5)\n",
    "eu_genre\n",
    "# cамые популярные жанры в Европе"
   ]
  },
  {
   "cell_type": "code",
   "execution_count": 422,
   "metadata": {},
   "outputs": [
    {
     "data": {
      "text/html": [
       "<div>\n",
       "<style scoped>\n",
       "    .dataframe tbody tr th:only-of-type {\n",
       "        vertical-align: middle;\n",
       "    }\n",
       "\n",
       "    .dataframe tbody tr th {\n",
       "        vertical-align: top;\n",
       "    }\n",
       "\n",
       "    .dataframe thead th {\n",
       "        text-align: right;\n",
       "    }\n",
       "</style>\n",
       "<table border=\"1\" class=\"dataframe\">\n",
       "  <thead>\n",
       "    <tr style=\"text-align: right;\">\n",
       "      <th></th>\n",
       "      <th>na_sales</th>\n",
       "    </tr>\n",
       "    <tr>\n",
       "      <th>genre</th>\n",
       "      <th></th>\n",
       "    </tr>\n",
       "  </thead>\n",
       "  <tbody>\n",
       "    <tr>\n",
       "      <th>Action</th>\n",
       "      <td>126.05</td>\n",
       "    </tr>\n",
       "    <tr>\n",
       "      <th>Shooter</th>\n",
       "      <td>109.74</td>\n",
       "    </tr>\n",
       "    <tr>\n",
       "      <th>Sports</th>\n",
       "      <td>65.27</td>\n",
       "    </tr>\n",
       "    <tr>\n",
       "      <th>Role-Playing</th>\n",
       "      <td>46.40</td>\n",
       "    </tr>\n",
       "    <tr>\n",
       "      <th>Misc</th>\n",
       "      <td>27.49</td>\n",
       "    </tr>\n",
       "  </tbody>\n",
       "</table>\n",
       "</div>"
      ],
      "text/plain": [
       "              na_sales\n",
       "genre                 \n",
       "Action          126.05\n",
       "Shooter         109.74\n",
       "Sports           65.27\n",
       "Role-Playing     46.40\n",
       "Misc             27.49"
      ]
     },
     "execution_count": 422,
     "metadata": {},
     "output_type": "execute_result"
    }
   ],
   "source": [
    "na_genre = actual_data.pivot_table(index='genre', values='na_sales', aggfunc='sum').sort_values(by='na_sales', ascending=False).head(5)\n",
    "na_genre\n",
    "# cамые популярные жанры в Cеверной Америке"
   ]
  },
  {
   "cell_type": "code",
   "execution_count": 423,
   "metadata": {},
   "outputs": [
    {
     "data": {
      "text/html": [
       "<div>\n",
       "<style scoped>\n",
       "    .dataframe tbody tr th:only-of-type {\n",
       "        vertical-align: middle;\n",
       "    }\n",
       "\n",
       "    .dataframe tbody tr th {\n",
       "        vertical-align: top;\n",
       "    }\n",
       "\n",
       "    .dataframe thead th {\n",
       "        text-align: right;\n",
       "    }\n",
       "</style>\n",
       "<table border=\"1\" class=\"dataframe\">\n",
       "  <thead>\n",
       "    <tr style=\"text-align: right;\">\n",
       "      <th></th>\n",
       "      <th>jp_sales</th>\n",
       "    </tr>\n",
       "    <tr>\n",
       "      <th>genre</th>\n",
       "      <th></th>\n",
       "    </tr>\n",
       "  </thead>\n",
       "  <tbody>\n",
       "    <tr>\n",
       "      <th>Role-Playing</th>\n",
       "      <td>51.04</td>\n",
       "    </tr>\n",
       "    <tr>\n",
       "      <th>Action</th>\n",
       "      <td>40.49</td>\n",
       "    </tr>\n",
       "    <tr>\n",
       "      <th>Misc</th>\n",
       "      <td>9.20</td>\n",
       "    </tr>\n",
       "    <tr>\n",
       "      <th>Fighting</th>\n",
       "      <td>7.65</td>\n",
       "    </tr>\n",
       "    <tr>\n",
       "      <th>Shooter</th>\n",
       "      <td>6.61</td>\n",
       "    </tr>\n",
       "  </tbody>\n",
       "</table>\n",
       "</div>"
      ],
      "text/plain": [
       "              jp_sales\n",
       "genre                 \n",
       "Role-Playing     51.04\n",
       "Action           40.49\n",
       "Misc              9.20\n",
       "Fighting          7.65\n",
       "Shooter           6.61"
      ]
     },
     "execution_count": 423,
     "metadata": {},
     "output_type": "execute_result"
    }
   ],
   "source": [
    "jp_genres = actual_data.pivot_table(index='genre', values='jp_sales', aggfunc='sum').sort_values(by='jp_sales', ascending=False).head(5)\n",
    "jp_genres\n",
    "#Самые популярные жанры в Японии"
   ]
  },
  {
   "cell_type": "code",
   "execution_count": 424,
   "metadata": {},
   "outputs": [
    {
     "data": {
      "text/html": [
       "<div>\n",
       "<style scoped>\n",
       "    .dataframe tbody tr th:only-of-type {\n",
       "        vertical-align: middle;\n",
       "    }\n",
       "\n",
       "    .dataframe tbody tr th {\n",
       "        vertical-align: top;\n",
       "    }\n",
       "\n",
       "    .dataframe thead th {\n",
       "        text-align: right;\n",
       "    }\n",
       "</style>\n",
       "<table border=\"1\" class=\"dataframe\">\n",
       "  <thead>\n",
       "    <tr style=\"text-align: right;\">\n",
       "      <th></th>\n",
       "      <th>other_sales</th>\n",
       "    </tr>\n",
       "    <tr>\n",
       "      <th>genre</th>\n",
       "      <th></th>\n",
       "    </tr>\n",
       "  </thead>\n",
       "  <tbody>\n",
       "    <tr>\n",
       "      <th>Action</th>\n",
       "      <td>37.20</td>\n",
       "    </tr>\n",
       "    <tr>\n",
       "      <th>Shooter</th>\n",
       "      <td>28.77</td>\n",
       "    </tr>\n",
       "    <tr>\n",
       "      <th>Sports</th>\n",
       "      <td>19.45</td>\n",
       "    </tr>\n",
       "    <tr>\n",
       "      <th>Role-Playing</th>\n",
       "      <td>11.48</td>\n",
       "    </tr>\n",
       "    <tr>\n",
       "      <th>Misc</th>\n",
       "      <td>6.09</td>\n",
       "    </tr>\n",
       "  </tbody>\n",
       "</table>\n",
       "</div>"
      ],
      "text/plain": [
       "              other_sales\n",
       "genre                    \n",
       "Action              37.20\n",
       "Shooter             28.77\n",
       "Sports              19.45\n",
       "Role-Playing        11.48\n",
       "Misc                 6.09"
      ]
     },
     "execution_count": 424,
     "metadata": {},
     "output_type": "execute_result"
    }
   ],
   "source": [
    "other_genre =  actual_data.pivot_table(index='genre', values='other_sales', aggfunc='sum').sort_values(by='other_sales', ascending=False).head(5)\n",
    "other_genre\n",
    "#Самые популярные жанры в других странах"
   ]
  },
  {
   "cell_type": "code",
   "execution_count": 425,
   "metadata": {},
   "outputs": [
    {
     "data": {
      "text/html": [
       "<th style=\"text-align:center\"><td style=\"vertical-align:top\"><h2>eu_genre</h2><table style=\"display:inline\" border=\"1\" class=\"dataframe\">\n",
       "  <thead>\n",
       "    <tr style=\"text-align: right;\">\n",
       "      <th></th>\n",
       "      <th>eu_sales</th>\n",
       "    </tr>\n",
       "    <tr>\n",
       "      <th>genre</th>\n",
       "      <th></th>\n",
       "    </tr>\n",
       "  </thead>\n",
       "  <tbody>\n",
       "    <tr>\n",
       "      <th>Action</th>\n",
       "      <td>118.13</td>\n",
       "    </tr>\n",
       "    <tr>\n",
       "      <th>Shooter</th>\n",
       "      <td>87.86</td>\n",
       "    </tr>\n",
       "    <tr>\n",
       "      <th>Sports</th>\n",
       "      <td>60.52</td>\n",
       "    </tr>\n",
       "    <tr>\n",
       "      <th>Role-Playing</th>\n",
       "      <td>36.97</td>\n",
       "    </tr>\n",
       "    <tr>\n",
       "      <th>Racing</th>\n",
       "      <td>20.19</td>\n",
       "    </tr>\n",
       "  </tbody>\n",
       "</table style=\"display:inline\"></td></th><th style=\"text-align:center\"><td style=\"vertical-align:top\"><h2>na_genre</h2><table style=\"display:inline\" border=\"1\" class=\"dataframe\">\n",
       "  <thead>\n",
       "    <tr style=\"text-align: right;\">\n",
       "      <th></th>\n",
       "      <th>na_sales</th>\n",
       "    </tr>\n",
       "    <tr>\n",
       "      <th>genre</th>\n",
       "      <th></th>\n",
       "    </tr>\n",
       "  </thead>\n",
       "  <tbody>\n",
       "    <tr>\n",
       "      <th>Action</th>\n",
       "      <td>126.05</td>\n",
       "    </tr>\n",
       "    <tr>\n",
       "      <th>Shooter</th>\n",
       "      <td>109.74</td>\n",
       "    </tr>\n",
       "    <tr>\n",
       "      <th>Sports</th>\n",
       "      <td>65.27</td>\n",
       "    </tr>\n",
       "    <tr>\n",
       "      <th>Role-Playing</th>\n",
       "      <td>46.40</td>\n",
       "    </tr>\n",
       "    <tr>\n",
       "      <th>Misc</th>\n",
       "      <td>27.49</td>\n",
       "    </tr>\n",
       "  </tbody>\n",
       "</table style=\"display:inline\"></td></th><th style=\"text-align:center\"><td style=\"vertical-align:top\"><h2>jp_genres</h2><table style=\"display:inline\" border=\"1\" class=\"dataframe\">\n",
       "  <thead>\n",
       "    <tr style=\"text-align: right;\">\n",
       "      <th></th>\n",
       "      <th>jp_sales</th>\n",
       "    </tr>\n",
       "    <tr>\n",
       "      <th>genre</th>\n",
       "      <th></th>\n",
       "    </tr>\n",
       "  </thead>\n",
       "  <tbody>\n",
       "    <tr>\n",
       "      <th>Role-Playing</th>\n",
       "      <td>51.04</td>\n",
       "    </tr>\n",
       "    <tr>\n",
       "      <th>Action</th>\n",
       "      <td>40.49</td>\n",
       "    </tr>\n",
       "    <tr>\n",
       "      <th>Misc</th>\n",
       "      <td>9.20</td>\n",
       "    </tr>\n",
       "    <tr>\n",
       "      <th>Fighting</th>\n",
       "      <td>7.65</td>\n",
       "    </tr>\n",
       "    <tr>\n",
       "      <th>Shooter</th>\n",
       "      <td>6.61</td>\n",
       "    </tr>\n",
       "  </tbody>\n",
       "</table style=\"display:inline\"></td></th><th style=\"text-align:center\"><td style=\"vertical-align:top\"><h2>other_genre</h2><table style=\"display:inline\" border=\"1\" class=\"dataframe\">\n",
       "  <thead>\n",
       "    <tr style=\"text-align: right;\">\n",
       "      <th></th>\n",
       "      <th>other_sales</th>\n",
       "    </tr>\n",
       "    <tr>\n",
       "      <th>genre</th>\n",
       "      <th></th>\n",
       "    </tr>\n",
       "  </thead>\n",
       "  <tbody>\n",
       "    <tr>\n",
       "      <th>Action</th>\n",
       "      <td>37.20</td>\n",
       "    </tr>\n",
       "    <tr>\n",
       "      <th>Shooter</th>\n",
       "      <td>28.77</td>\n",
       "    </tr>\n",
       "    <tr>\n",
       "      <th>Sports</th>\n",
       "      <td>19.45</td>\n",
       "    </tr>\n",
       "    <tr>\n",
       "      <th>Role-Playing</th>\n",
       "      <td>11.48</td>\n",
       "    </tr>\n",
       "    <tr>\n",
       "      <th>Misc</th>\n",
       "      <td>6.09</td>\n",
       "    </tr>\n",
       "  </tbody>\n",
       "</table style=\"display:inline\"></td></th>"
      ]
     },
     "metadata": {},
     "output_type": "display_data"
    }
   ],
   "source": [
    "display_side_by_side(eu_genre,na_genre,jp_genres, other_genre, titles=['eu_genre','na_genre', 'jp_genres', 'other_genre'])"
   ]
  },
  {
   "cell_type": "code",
   "execution_count": 426,
   "metadata": {},
   "outputs": [],
   "source": [
    "figure_rat = actual_data.pivot_table(index='genre', values='figure_ratio', aggfunc='median').astype(int) #сводная таблица со средним ограничением возрастного рейтинга по жанрам"
   ]
  },
  {
   "cell_type": "code",
   "execution_count": 427,
   "metadata": {},
   "outputs": [
    {
     "data": {
      "text/html": [
       "<div>\n",
       "<style scoped>\n",
       "    .dataframe tbody tr th:only-of-type {\n",
       "        vertical-align: middle;\n",
       "    }\n",
       "\n",
       "    .dataframe tbody tr th {\n",
       "        vertical-align: top;\n",
       "    }\n",
       "\n",
       "    .dataframe thead th {\n",
       "        text-align: right;\n",
       "    }\n",
       "</style>\n",
       "<table border=\"1\" class=\"dataframe\">\n",
       "  <thead>\n",
       "    <tr style=\"text-align: right;\">\n",
       "      <th></th>\n",
       "      <th>figure_ratio</th>\n",
       "    </tr>\n",
       "    <tr>\n",
       "      <th>genre</th>\n",
       "      <th></th>\n",
       "    </tr>\n",
       "  </thead>\n",
       "  <tbody>\n",
       "    <tr>\n",
       "      <th>Action</th>\n",
       "      <td>13</td>\n",
       "    </tr>\n",
       "    <tr>\n",
       "      <th>Adventure</th>\n",
       "      <td>10</td>\n",
       "    </tr>\n",
       "    <tr>\n",
       "      <th>Fighting</th>\n",
       "      <td>13</td>\n",
       "    </tr>\n",
       "    <tr>\n",
       "      <th>Misc</th>\n",
       "      <td>6</td>\n",
       "    </tr>\n",
       "    <tr>\n",
       "      <th>Platform</th>\n",
       "      <td>10</td>\n",
       "    </tr>\n",
       "    <tr>\n",
       "      <th>Puzzle</th>\n",
       "      <td>6</td>\n",
       "    </tr>\n",
       "    <tr>\n",
       "      <th>Racing</th>\n",
       "      <td>6</td>\n",
       "    </tr>\n",
       "    <tr>\n",
       "      <th>Role-Playing</th>\n",
       "      <td>13</td>\n",
       "    </tr>\n",
       "    <tr>\n",
       "      <th>Shooter</th>\n",
       "      <td>17</td>\n",
       "    </tr>\n",
       "    <tr>\n",
       "      <th>Simulation</th>\n",
       "      <td>6</td>\n",
       "    </tr>\n",
       "    <tr>\n",
       "      <th>Sports</th>\n",
       "      <td>6</td>\n",
       "    </tr>\n",
       "    <tr>\n",
       "      <th>Strategy</th>\n",
       "      <td>13</td>\n",
       "    </tr>\n",
       "  </tbody>\n",
       "</table>\n",
       "</div>"
      ],
      "text/plain": [
       "              figure_ratio\n",
       "genre                     \n",
       "Action                  13\n",
       "Adventure               10\n",
       "Fighting                13\n",
       "Misc                     6\n",
       "Platform                10\n",
       "Puzzle                   6\n",
       "Racing                   6\n",
       "Role-Playing            13\n",
       "Shooter                 17\n",
       "Simulation               6\n",
       "Sports                   6\n",
       "Strategy                13"
      ]
     },
     "execution_count": 427,
     "metadata": {},
     "output_type": "execute_result"
    }
   ],
   "source": [
    "figure_rat"
   ]
  },
  {
   "cell_type": "code",
   "execution_count": 428,
   "metadata": {},
   "outputs": [],
   "source": [
    "na_sales_new = profitable_platforms[['na_sales', 'figure_ratio']]\n",
    "na_sales_corr = na_sales_new.pivot_table(index='figure_ratio', values='na_sales', aggfunc='sum').sort_values(by='na_sales', ascending=False)"
   ]
  },
  {
   "cell_type": "code",
   "execution_count": 429,
   "metadata": {},
   "outputs": [],
   "source": [
    "eu_sales_new = profitable_platforms[['eu_sales', 'figure_ratio']]\n",
    "eu_sales_corr = eu_sales_new.pivot_table(index='figure_ratio', values='eu_sales', aggfunc='sum').sort_values(by='eu_sales', ascending=False)"
   ]
  },
  {
   "cell_type": "code",
   "execution_count": 430,
   "metadata": {},
   "outputs": [],
   "source": [
    "jp_sales_new = profitable_platforms[['jp_sales', 'figure_ratio']]\n",
    "jp_sales_corr = jp_sales_new.pivot_table(index='figure_ratio', values='jp_sales', aggfunc='sum').sort_values(by='jp_sales', ascending=False)"
   ]
  },
  {
   "cell_type": "code",
   "execution_count": 431,
   "metadata": {},
   "outputs": [],
   "source": [
    "other_sales_new = profitable_platforms[['other_sales', 'figure_ratio']]\n",
    "other_sales_corr = other_sales_new.pivot_table(index='figure_ratio', values='other_sales', aggfunc='sum').sort_values(by='other_sales', ascending=False)"
   ]
  },
  {
   "cell_type": "code",
   "execution_count": 432,
   "metadata": {},
   "outputs": [
    {
     "data": {
      "text/html": [
       "<th style=\"text-align:center\"><td style=\"vertical-align:top\"><h2>na_sales_corr</h2><table style=\"display:inline\" border=\"1\" class=\"dataframe\">\n",
       "  <thead>\n",
       "    <tr style=\"text-align: right;\">\n",
       "      <th></th>\n",
       "      <th>na_sales</th>\n",
       "    </tr>\n",
       "    <tr>\n",
       "      <th>figure_ratio</th>\n",
       "      <th></th>\n",
       "    </tr>\n",
       "  </thead>\n",
       "  <tbody>\n",
       "    <tr>\n",
       "      <th>17.0</th>\n",
       "      <td>105.57</td>\n",
       "    </tr>\n",
       "    <tr>\n",
       "      <th>13.0</th>\n",
       "      <td>62.42</td>\n",
       "    </tr>\n",
       "    <tr>\n",
       "      <th>6.0</th>\n",
       "      <td>47.99</td>\n",
       "    </tr>\n",
       "    <tr>\n",
       "      <th>10.0</th>\n",
       "      <td>24.08</td>\n",
       "    </tr>\n",
       "  </tbody>\n",
       "</table style=\"display:inline\"></td></th><th style=\"text-align:center\"><td style=\"vertical-align:top\"><h2>eu_sales_corr</h2><table style=\"display:inline\" border=\"1\" class=\"dataframe\">\n",
       "  <thead>\n",
       "    <tr style=\"text-align: right;\">\n",
       "      <th></th>\n",
       "      <th>eu_sales</th>\n",
       "    </tr>\n",
       "    <tr>\n",
       "      <th>figure_ratio</th>\n",
       "      <th></th>\n",
       "    </tr>\n",
       "  </thead>\n",
       "  <tbody>\n",
       "    <tr>\n",
       "      <th>17.0</th>\n",
       "      <td>96.32</td>\n",
       "    </tr>\n",
       "    <tr>\n",
       "      <th>6.0</th>\n",
       "      <td>57.57</td>\n",
       "    </tr>\n",
       "    <tr>\n",
       "      <th>13.0</th>\n",
       "      <td>51.21</td>\n",
       "    </tr>\n",
       "    <tr>\n",
       "      <th>10.0</th>\n",
       "      <td>18.54</td>\n",
       "    </tr>\n",
       "  </tbody>\n",
       "</table style=\"display:inline\"></td></th><th style=\"text-align:center\"><td style=\"vertical-align:top\"><h2>jp_sales_corr</h2><table style=\"display:inline\" border=\"1\" class=\"dataframe\">\n",
       "  <thead>\n",
       "    <tr style=\"text-align: right;\">\n",
       "      <th></th>\n",
       "      <th>jp_sales</th>\n",
       "    </tr>\n",
       "    <tr>\n",
       "      <th>figure_ratio</th>\n",
       "      <th></th>\n",
       "    </tr>\n",
       "  </thead>\n",
       "  <tbody>\n",
       "    <tr>\n",
       "      <th>13.0</th>\n",
       "      <td>56.75</td>\n",
       "    </tr>\n",
       "    <tr>\n",
       "      <th>6.0</th>\n",
       "      <td>15.42</td>\n",
       "    </tr>\n",
       "    <tr>\n",
       "      <th>17.0</th>\n",
       "      <td>7.14</td>\n",
       "    </tr>\n",
       "    <tr>\n",
       "      <th>10.0</th>\n",
       "      <td>4.80</td>\n",
       "    </tr>\n",
       "  </tbody>\n",
       "</table style=\"display:inline\"></td></th><th style=\"text-align:center\"><td style=\"vertical-align:top\"><h2>other_sales_corr</h2><table style=\"display:inline\" border=\"1\" class=\"dataframe\">\n",
       "  <thead>\n",
       "    <tr style=\"text-align: right;\">\n",
       "      <th></th>\n",
       "      <th>other_sales</th>\n",
       "    </tr>\n",
       "    <tr>\n",
       "      <th>figure_ratio</th>\n",
       "      <th></th>\n",
       "    </tr>\n",
       "  </thead>\n",
       "  <tbody>\n",
       "    <tr>\n",
       "      <th>17.0</th>\n",
       "      <td>31.48</td>\n",
       "    </tr>\n",
       "    <tr>\n",
       "      <th>13.0</th>\n",
       "      <td>16.51</td>\n",
       "    </tr>\n",
       "    <tr>\n",
       "      <th>6.0</th>\n",
       "      <td>14.83</td>\n",
       "    </tr>\n",
       "    <tr>\n",
       "      <th>10.0</th>\n",
       "      <td>6.08</td>\n",
       "    </tr>\n",
       "  </tbody>\n",
       "</table style=\"display:inline\"></td></th>"
      ]
     },
     "metadata": {},
     "output_type": "display_data"
    }
   ],
   "source": [
    "display_side_by_side(na_sales_corr,eu_sales_corr,jp_sales_corr, other_sales_corr, titles=['na_sales_corr','eu_sales_corr', 'jp_sales_corr', 'other_sales_corr'])"
   ]
  },
  {
   "cell_type": "markdown",
   "metadata": {},
   "source": [
    "1. Results in North America almost with the list of profitable platforms. European citizens prefer PS; Japan prefer Nintendo, other countries just copy the Europe model\n",
    "2. Top-3 genres from NA, EU and other countries are shooters, actions and sports. Japan prefer role-playing games\n",
    "3. Age censure is similar to NA and other countries. Japan showed good results in games for children, Europe on the first plays - games for adult"
   ]
  },
  {
   "cell_type": "markdown",
   "metadata": {},
   "source": [
    "# Проверка гипотез / Check out hypotheses\n",
    "<a id=\"hyp\"></a>"
   ]
  },
  {
   "cell_type": "code",
   "execution_count": 433,
   "metadata": {},
   "outputs": [],
   "source": [
    "pc_hyp = actual_data.query('(platform == \"PC\")') #cрез по платформе PC"
   ]
  },
  {
   "cell_type": "code",
   "execution_count": 434,
   "metadata": {},
   "outputs": [],
   "source": [
    "xone_hyp  = actual_data.query('(platform == \"XOne\")') #cрез по платформе Xbox One"
   ]
  },
  {
   "cell_type": "markdown",
   "metadata": {},
   "source": [
    "Н0 - средние пользовательские рейтинги ПК и Xbox One равны / The mean user ratio between Xbox One and PC is the same\n",
    "\n",
    "H1 - средние пользовательские рейтинги ПК и Xbox One НЕ равны The mean user ratio between Xbox One and PC isn't the same"
   ]
  },
  {
   "cell_type": "code",
   "execution_count": 435,
   "metadata": {},
   "outputs": [
    {
     "name": "stdout",
     "output_type": "stream",
     "text": [
      "p-значение: 0.3534918848669636\n",
      "Не получилось отвергнуть нулевую гипотезу / coudnt reject H0\n"
     ]
    }
   ],
   "source": [
    "alpha = 0.05  \n",
    "results = st.ttest_ind(pc_hyp['user_score'] , xone_hyp['user_score'])\n",
    "\n",
    "print('p-значение:', results.pvalue)\n",
    "\n",
    "if results.pvalue < alpha:\n",
    "    print('Отвергаем нулевую гипотезу / reject H0')\n",
    "else:\n",
    "    print('Не получилось отвергнуть нулевую гипотезу / coudnt reject H0')"
   ]
  },
  {
   "cell_type": "code",
   "execution_count": 436,
   "metadata": {},
   "outputs": [],
   "source": [
    "action = actual_data.query('(genre == \"Action\")') #срез по жанру экшен"
   ]
  },
  {
   "cell_type": "code",
   "execution_count": 437,
   "metadata": {},
   "outputs": [],
   "source": [
    "sport = actual_data.query('(genre == \"Sports\")')#срез по жанру спорт"
   ]
  },
  {
   "cell_type": "markdown",
   "metadata": {},
   "source": [
    "Н0 - средние пользовательские рейтинги жанров экшен и спорт равны / The mean user ratio between 'Action' and 'Sports' the same\n",
    "\n",
    "\n",
    "H1 - средние пользовательские рейтинги жанров экшен и спорт НЕ равны / The mean user ratio between 'Action' and 'Sports' isn't the same\n"
   ]
  },
  {
   "cell_type": "code",
   "execution_count": 438,
   "metadata": {},
   "outputs": [
    {
     "name": "stdout",
     "output_type": "stream",
     "text": [
      "p-значение: 8.590101836267864e-48\n",
      "Отвергаем нулевую гипотезу / reject H0\n"
     ]
    }
   ],
   "source": [
    "alpha = 0.05  \n",
    "results = st.ttest_ind(action['user_score'] , sport['user_score'], nan_policy='propagate')\n",
    "\n",
    "print('p-значение:', results.pvalue)\n",
    "\n",
    "if results.pvalue < alpha:\n",
    "    print('Отвергаем нулевую гипотезу / reject H0')\n",
    "else:\n",
    "    print('Не получилось отвергнуть нулевую гипотезу / coudnt reject H0')"
   ]
  },
  {
   "cell_type": "markdown",
   "metadata": {},
   "source": [
    "1. The mean user ratio between Xbox One and PC is the same \n",
    "2. The mean user ratio between 'Action' and 'Sports' isn't the same"
   ]
  }
 ],
 "metadata": {
  "ExecuteTimeLog": [
   {
    "duration": 5,
    "start_time": "2021-10-09T13:31:09.621Z"
   },
   {
    "duration": 3,
    "start_time": "2021-10-09T13:31:17.291Z"
   },
   {
    "duration": 1319,
    "start_time": "2021-10-09T13:44:53.057Z"
   },
   {
    "duration": 182,
    "start_time": "2021-10-09T13:45:34.703Z"
   },
   {
    "duration": 26,
    "start_time": "2021-10-09T13:45:49.208Z"
   },
   {
    "duration": 14,
    "start_time": "2021-10-09T13:45:56.264Z"
   },
   {
    "duration": 565,
    "start_time": "2021-10-09T13:46:02.121Z"
   },
   {
    "duration": 5,
    "start_time": "2021-10-09T13:46:14.791Z"
   },
   {
    "duration": 10,
    "start_time": "2021-10-09T13:46:19.336Z"
   },
   {
    "duration": 4,
    "start_time": "2021-10-09T13:46:24.271Z"
   },
   {
    "duration": 8,
    "start_time": "2021-10-09T13:46:24.696Z"
   },
   {
    "duration": 28,
    "start_time": "2021-10-09T13:46:30.975Z"
   },
   {
    "duration": 10,
    "start_time": "2021-10-09T13:46:55.288Z"
   },
   {
    "duration": 16,
    "start_time": "2021-10-09T13:47:00.527Z"
   },
   {
    "duration": 8,
    "start_time": "2021-10-09T13:50:25.494Z"
   },
   {
    "duration": 7,
    "start_time": "2021-10-09T13:50:31.035Z"
   },
   {
    "duration": 916,
    "start_time": "2021-10-09T13:52:17.815Z"
   },
   {
    "duration": 1005,
    "start_time": "2021-10-09T13:52:52.870Z"
   },
   {
    "duration": 926,
    "start_time": "2021-10-09T13:52:55.137Z"
   },
   {
    "duration": 17,
    "start_time": "2021-10-09T13:52:59.799Z"
   },
   {
    "duration": 20,
    "start_time": "2021-10-09T13:53:18.557Z"
   },
   {
    "duration": 20,
    "start_time": "2021-10-09T13:53:26.998Z"
   },
   {
    "duration": 10,
    "start_time": "2021-10-09T13:53:34.437Z"
   },
   {
    "duration": 7,
    "start_time": "2021-10-09T13:54:12.453Z"
   },
   {
    "duration": 447,
    "start_time": "2021-10-09T13:54:59.949Z"
   },
   {
    "duration": 267,
    "start_time": "2021-10-09T13:55:21.798Z"
   },
   {
    "duration": 456,
    "start_time": "2021-10-09T13:56:59.997Z"
   },
   {
    "duration": 927,
    "start_time": "2021-10-09T13:57:18.240Z"
   },
   {
    "duration": 17,
    "start_time": "2021-10-09T13:57:19.244Z"
   },
   {
    "duration": 19,
    "start_time": "2021-10-09T13:57:27.918Z"
   },
   {
    "duration": 8,
    "start_time": "2021-10-09T13:57:29.148Z"
   },
   {
    "duration": 7,
    "start_time": "2021-10-09T13:57:30.428Z"
   },
   {
    "duration": 19,
    "start_time": "2021-10-09T13:57:31.445Z"
   },
   {
    "duration": 939,
    "start_time": "2021-10-09T13:58:12.237Z"
   },
   {
    "duration": 216,
    "start_time": "2021-10-09T13:58:20.484Z"
   },
   {
    "duration": 15,
    "start_time": "2021-10-09T13:58:21.188Z"
   },
   {
    "duration": 13,
    "start_time": "2021-10-09T13:58:24.910Z"
   },
   {
    "duration": 20,
    "start_time": "2021-10-09T13:58:25.525Z"
   },
   {
    "duration": 8,
    "start_time": "2021-10-09T13:58:27.205Z"
   },
   {
    "duration": 6,
    "start_time": "2021-10-09T13:58:29.036Z"
   },
   {
    "duration": 20,
    "start_time": "2021-10-09T13:58:30.236Z"
   },
   {
    "duration": 9,
    "start_time": "2021-10-09T13:58:54.468Z"
   },
   {
    "duration": 7,
    "start_time": "2021-10-09T13:58:55.396Z"
   },
   {
    "duration": 20,
    "start_time": "2021-10-09T13:58:57.268Z"
   },
   {
    "duration": 20,
    "start_time": "2021-10-09T13:59:07.180Z"
   },
   {
    "duration": 21,
    "start_time": "2021-10-09T14:00:34.572Z"
   },
   {
    "duration": 84,
    "start_time": "2021-10-09T14:01:05.507Z"
   },
   {
    "duration": 6,
    "start_time": "2021-10-09T14:01:09.924Z"
   },
   {
    "duration": 19,
    "start_time": "2021-10-09T14:01:53.771Z"
   },
   {
    "duration": 14,
    "start_time": "2021-10-09T14:02:20.448Z"
   },
   {
    "duration": 11,
    "start_time": "2021-10-09T14:02:32.843Z"
   },
   {
    "duration": 20,
    "start_time": "2021-10-09T14:02:55.219Z"
   },
   {
    "duration": 19,
    "start_time": "2021-10-09T14:03:09.371Z"
   },
   {
    "duration": 6,
    "start_time": "2021-10-09T14:05:37.234Z"
   },
   {
    "duration": 20,
    "start_time": "2021-10-09T14:05:55.162Z"
   },
   {
    "duration": 7,
    "start_time": "2021-10-09T14:07:05.438Z"
   },
   {
    "duration": 7,
    "start_time": "2021-10-09T14:07:11.162Z"
   },
   {
    "duration": 11,
    "start_time": "2021-10-09T14:07:17.762Z"
   },
   {
    "duration": 9,
    "start_time": "2021-10-09T14:07:34.802Z"
   },
   {
    "duration": 6,
    "start_time": "2021-10-09T14:07:43.342Z"
   },
   {
    "duration": 7,
    "start_time": "2021-10-09T14:07:47.454Z"
   },
   {
    "duration": 7,
    "start_time": "2021-10-09T14:07:52.282Z"
   },
   {
    "duration": 11,
    "start_time": "2021-10-09T14:07:59.188Z"
   },
   {
    "duration": 44,
    "start_time": "2021-10-09T14:08:02.819Z"
   },
   {
    "duration": 9,
    "start_time": "2021-10-09T14:08:08.916Z"
   },
   {
    "duration": 1089,
    "start_time": "2021-10-11T08:21:46.856Z"
   },
   {
    "duration": 193,
    "start_time": "2021-10-11T08:21:47.947Z"
   },
   {
    "duration": 16,
    "start_time": "2021-10-11T08:21:48.142Z"
   },
   {
    "duration": 12,
    "start_time": "2021-10-11T08:21:48.160Z"
   },
   {
    "duration": 405,
    "start_time": "2021-10-11T08:21:48.173Z"
   },
   {
    "duration": 4,
    "start_time": "2021-10-11T08:21:48.580Z"
   },
   {
    "duration": 9,
    "start_time": "2021-10-11T08:21:48.585Z"
   },
   {
    "duration": 18,
    "start_time": "2021-10-11T08:21:48.597Z"
   },
   {
    "duration": 6,
    "start_time": "2021-10-11T08:21:48.617Z"
   },
   {
    "duration": 32,
    "start_time": "2021-10-11T08:21:48.625Z"
   },
   {
    "duration": 4,
    "start_time": "2021-10-11T08:21:48.659Z"
   },
   {
    "duration": 6,
    "start_time": "2021-10-11T08:21:48.665Z"
   },
   {
    "duration": 557,
    "start_time": "2021-10-11T08:21:48.672Z"
   },
   {
    "duration": 135,
    "start_time": "2021-10-11T08:21:49.231Z"
   },
   {
    "duration": 11,
    "start_time": "2021-10-11T08:21:49.367Z"
   },
   {
    "duration": 12,
    "start_time": "2021-10-11T08:21:49.380Z"
   },
   {
    "duration": 10,
    "start_time": "2021-10-11T08:21:49.393Z"
   },
   {
    "duration": 4,
    "start_time": "2021-10-11T08:21:49.405Z"
   },
   {
    "duration": 50,
    "start_time": "2021-10-11T08:21:49.410Z"
   },
   {
    "duration": 53,
    "start_time": "2021-10-11T08:21:49.461Z"
   },
   {
    "duration": 4,
    "start_time": "2021-10-11T08:21:49.516Z"
   },
   {
    "duration": 34,
    "start_time": "2021-10-11T08:21:49.522Z"
   },
   {
    "duration": 11,
    "start_time": "2021-10-11T08:21:49.559Z"
   },
   {
    "duration": 9,
    "start_time": "2021-10-11T08:21:49.572Z"
   },
   {
    "duration": 9,
    "start_time": "2021-10-11T08:21:49.582Z"
   },
   {
    "duration": 11,
    "start_time": "2021-10-11T08:21:49.593Z"
   },
   {
    "duration": 43,
    "start_time": "2021-10-11T08:21:49.606Z"
   },
   {
    "duration": 12,
    "start_time": "2021-10-11T08:21:49.651Z"
   },
   {
    "duration": 10,
    "start_time": "2021-10-11T08:21:49.665Z"
   },
   {
    "duration": 7,
    "start_time": "2021-10-11T08:21:49.676Z"
   },
   {
    "duration": 15,
    "start_time": "2021-10-11T08:21:49.685Z"
   },
   {
    "duration": 8,
    "start_time": "2021-10-11T08:21:49.702Z"
   },
   {
    "duration": 10,
    "start_time": "2021-10-11T08:21:49.711Z"
   },
   {
    "duration": 28,
    "start_time": "2021-10-11T08:21:49.723Z"
   },
   {
    "duration": 7,
    "start_time": "2021-10-11T08:21:49.752Z"
   },
   {
    "duration": 14,
    "start_time": "2021-10-11T08:21:49.760Z"
   },
   {
    "duration": 21,
    "start_time": "2021-10-11T08:21:49.776Z"
   },
   {
    "duration": 12,
    "start_time": "2021-10-11T08:21:49.800Z"
   },
   {
    "duration": 3,
    "start_time": "2021-10-11T08:26:54.635Z"
   },
   {
    "duration": 155,
    "start_time": "2021-10-11T08:27:17.259Z"
   },
   {
    "duration": 15,
    "start_time": "2021-10-11T08:27:25.643Z"
   },
   {
    "duration": 9,
    "start_time": "2021-10-11T08:27:47.595Z"
   },
   {
    "duration": 146,
    "start_time": "2021-10-11T08:28:14.827Z"
   },
   {
    "duration": 16,
    "start_time": "2021-10-11T08:28:21.939Z"
   },
   {
    "duration": 10,
    "start_time": "2021-10-11T08:28:27.803Z"
   },
   {
    "duration": 10,
    "start_time": "2021-10-11T08:28:45.740Z"
   },
   {
    "duration": 17,
    "start_time": "2021-10-11T08:28:55.707Z"
   },
   {
    "duration": 63,
    "start_time": "2021-10-11T08:55:08.267Z"
   },
   {
    "duration": 10,
    "start_time": "2021-10-11T09:01:44.962Z"
   },
   {
    "duration": 7,
    "start_time": "2021-10-11T09:01:52.515Z"
   },
   {
    "duration": 11,
    "start_time": "2021-10-11T09:02:23.697Z"
   },
   {
    "duration": 8,
    "start_time": "2021-10-11T09:02:26.354Z"
   },
   {
    "duration": 10,
    "start_time": "2021-10-11T09:04:06.298Z"
   },
   {
    "duration": 10,
    "start_time": "2021-10-11T09:06:38.562Z"
   },
   {
    "duration": 8,
    "start_time": "2021-10-11T09:06:42.528Z"
   },
   {
    "duration": 12,
    "start_time": "2021-10-11T09:07:10.643Z"
   },
   {
    "duration": 8,
    "start_time": "2021-10-11T09:07:12.693Z"
   },
   {
    "duration": 325,
    "start_time": "2021-10-11T09:10:08.136Z"
   },
   {
    "duration": 4,
    "start_time": "2021-10-11T09:14:57.375Z"
   },
   {
    "duration": 4,
    "start_time": "2021-10-11T09:15:21.318Z"
   },
   {
    "duration": 3,
    "start_time": "2021-10-11T09:15:50.566Z"
   },
   {
    "duration": 4,
    "start_time": "2021-10-11T09:15:57.014Z"
   },
   {
    "duration": 4,
    "start_time": "2021-10-11T09:16:15.158Z"
   },
   {
    "duration": 9,
    "start_time": "2021-10-11T09:16:31.461Z"
   },
   {
    "duration": 1056,
    "start_time": "2021-10-11T09:16:46.389Z"
   },
   {
    "duration": 166,
    "start_time": "2021-10-11T09:16:47.448Z"
   },
   {
    "duration": 17,
    "start_time": "2021-10-11T09:16:47.617Z"
   },
   {
    "duration": 35,
    "start_time": "2021-10-11T09:16:47.635Z"
   },
   {
    "duration": 426,
    "start_time": "2021-10-11T09:16:47.672Z"
   },
   {
    "duration": 4,
    "start_time": "2021-10-11T09:16:48.100Z"
   },
   {
    "duration": 20,
    "start_time": "2021-10-11T09:16:48.106Z"
   },
   {
    "duration": 30,
    "start_time": "2021-10-11T09:16:48.128Z"
   },
   {
    "duration": 22,
    "start_time": "2021-10-11T09:16:48.161Z"
   },
   {
    "duration": 16,
    "start_time": "2021-10-11T09:16:48.185Z"
   },
   {
    "duration": 19,
    "start_time": "2021-10-11T09:16:48.203Z"
   },
   {
    "duration": 15,
    "start_time": "2021-10-11T09:16:48.224Z"
   },
   {
    "duration": 550,
    "start_time": "2021-10-11T09:16:48.241Z"
   },
   {
    "duration": 140,
    "start_time": "2021-10-11T09:16:48.793Z"
   },
   {
    "duration": 15,
    "start_time": "2021-10-11T09:16:48.935Z"
   },
   {
    "duration": 17,
    "start_time": "2021-10-11T09:16:48.953Z"
   },
   {
    "duration": 11,
    "start_time": "2021-10-11T09:16:48.971Z"
   },
   {
    "duration": 7,
    "start_time": "2021-10-11T09:16:48.983Z"
   },
   {
    "duration": 33,
    "start_time": "2021-10-11T09:16:48.991Z"
   },
   {
    "duration": 68,
    "start_time": "2021-10-11T09:16:49.026Z"
   },
   {
    "duration": 5,
    "start_time": "2021-10-11T09:16:49.096Z"
   },
   {
    "duration": 24,
    "start_time": "2021-10-11T09:16:49.103Z"
   },
   {
    "duration": 24,
    "start_time": "2021-10-11T09:16:49.129Z"
   },
   {
    "duration": 9,
    "start_time": "2021-10-11T09:16:49.155Z"
   },
   {
    "duration": 30,
    "start_time": "2021-10-11T09:16:49.166Z"
   },
   {
    "duration": 23,
    "start_time": "2021-10-11T09:16:49.198Z"
   },
   {
    "duration": 17,
    "start_time": "2021-10-11T09:16:49.225Z"
   },
   {
    "duration": 24,
    "start_time": "2021-10-11T09:16:49.244Z"
   },
   {
    "duration": 25,
    "start_time": "2021-10-11T09:16:49.270Z"
   },
   {
    "duration": 20,
    "start_time": "2021-10-11T09:16:49.296Z"
   },
   {
    "duration": 28,
    "start_time": "2021-10-11T09:16:49.317Z"
   },
   {
    "duration": 24,
    "start_time": "2021-10-11T09:16:49.346Z"
   },
   {
    "duration": 12,
    "start_time": "2021-10-11T09:16:49.371Z"
   },
   {
    "duration": 22,
    "start_time": "2021-10-11T09:16:49.384Z"
   },
   {
    "duration": 25,
    "start_time": "2021-10-11T09:16:49.407Z"
   },
   {
    "duration": 18,
    "start_time": "2021-10-11T09:16:49.434Z"
   },
   {
    "duration": 47,
    "start_time": "2021-10-11T09:16:49.454Z"
   },
   {
    "duration": 16,
    "start_time": "2021-10-11T09:16:49.503Z"
   },
   {
    "duration": 32,
    "start_time": "2021-10-11T09:16:49.521Z"
   },
   {
    "duration": 169,
    "start_time": "2021-10-11T09:16:49.555Z"
   },
   {
    "duration": 15,
    "start_time": "2021-10-11T09:16:49.725Z"
   },
   {
    "duration": 29,
    "start_time": "2021-10-11T09:16:49.749Z"
   },
   {
    "duration": 162,
    "start_time": "2021-10-11T09:16:49.779Z"
   },
   {
    "duration": 14,
    "start_time": "2021-10-11T09:16:49.943Z"
   },
   {
    "duration": 34,
    "start_time": "2021-10-11T09:16:49.959Z"
   },
   {
    "duration": 23,
    "start_time": "2021-10-11T09:16:49.995Z"
   },
   {
    "duration": 21,
    "start_time": "2021-10-11T09:16:50.020Z"
   },
   {
    "duration": 20,
    "start_time": "2021-10-11T09:16:50.042Z"
   },
   {
    "duration": 42,
    "start_time": "2021-10-11T09:16:50.063Z"
   },
   {
    "duration": 27,
    "start_time": "2021-10-11T09:16:50.107Z"
   },
   {
    "duration": 12,
    "start_time": "2021-10-11T09:16:50.136Z"
   },
   {
    "duration": 22,
    "start_time": "2021-10-11T09:16:50.150Z"
   },
   {
    "duration": 13,
    "start_time": "2021-10-11T09:16:50.174Z"
   },
   {
    "duration": 34,
    "start_time": "2021-10-11T09:16:50.189Z"
   },
   {
    "duration": 7,
    "start_time": "2021-10-11T09:16:55.415Z"
   },
   {
    "duration": 4,
    "start_time": "2021-10-11T09:17:16.774Z"
   },
   {
    "duration": 3,
    "start_time": "2021-10-11T09:17:17.293Z"
   },
   {
    "duration": 5,
    "start_time": "2021-10-11T09:17:19.550Z"
   },
   {
    "duration": 7,
    "start_time": "2021-10-11T09:17:20.822Z"
   },
   {
    "duration": 6,
    "start_time": "2021-10-11T09:17:27.637Z"
   },
   {
    "duration": 10,
    "start_time": "2021-10-11T09:25:22.915Z"
   },
   {
    "duration": 8,
    "start_time": "2021-10-11T09:25:23.811Z"
   },
   {
    "duration": 6,
    "start_time": "2021-10-11T09:25:24.811Z"
   },
   {
    "duration": 5,
    "start_time": "2021-10-11T09:25:35.443Z"
   },
   {
    "duration": 4,
    "start_time": "2021-10-11T09:25:37.347Z"
   },
   {
    "duration": 8,
    "start_time": "2021-10-11T09:25:37.806Z"
   },
   {
    "duration": 6,
    "start_time": "2021-10-11T09:25:42.709Z"
   },
   {
    "duration": 5,
    "start_time": "2021-10-11T09:28:55.365Z"
   },
   {
    "duration": 10,
    "start_time": "2021-10-11T09:29:02.251Z"
   },
   {
    "duration": 4,
    "start_time": "2021-10-11T09:29:07.419Z"
   },
   {
    "duration": 5,
    "start_time": "2021-10-11T09:29:11.844Z"
   },
   {
    "duration": 6,
    "start_time": "2021-10-11T09:29:14.146Z"
   },
   {
    "duration": 290,
    "start_time": "2021-10-11T09:29:46.010Z"
   },
   {
    "duration": 6117,
    "start_time": "2021-10-11T09:29:51.268Z"
   },
   {
    "duration": -37,
    "start_time": "2021-10-11T09:29:57.424Z"
   },
   {
    "duration": 5,
    "start_time": "2021-10-11T09:30:18.034Z"
   },
   {
    "duration": 6,
    "start_time": "2021-10-11T09:30:18.930Z"
   },
   {
    "duration": 4,
    "start_time": "2021-10-11T09:30:29.194Z"
   },
   {
    "duration": 6,
    "start_time": "2021-10-11T09:30:29.594Z"
   },
   {
    "duration": 204,
    "start_time": "2021-10-11T09:57:07.948Z"
   },
   {
    "duration": 1095,
    "start_time": "2021-10-11T09:57:25.369Z"
   },
   {
    "duration": 141,
    "start_time": "2021-10-11T09:57:26.466Z"
   },
   {
    "duration": 21,
    "start_time": "2021-10-11T09:57:26.609Z"
   },
   {
    "duration": 15,
    "start_time": "2021-10-11T09:57:26.632Z"
   },
   {
    "duration": 624,
    "start_time": "2021-10-11T09:57:26.649Z"
   },
   {
    "duration": 3,
    "start_time": "2021-10-11T09:57:27.275Z"
   },
   {
    "duration": 27,
    "start_time": "2021-10-11T09:57:27.280Z"
   },
   {
    "duration": 29,
    "start_time": "2021-10-11T09:57:27.310Z"
   },
   {
    "duration": 20,
    "start_time": "2021-10-11T09:57:27.341Z"
   },
   {
    "duration": 27,
    "start_time": "2021-10-11T09:57:27.363Z"
   },
   {
    "duration": 21,
    "start_time": "2021-10-11T09:57:27.391Z"
   },
   {
    "duration": 36,
    "start_time": "2021-10-11T09:57:27.414Z"
   },
   {
    "duration": 554,
    "start_time": "2021-10-11T09:57:27.452Z"
   },
   {
    "duration": 154,
    "start_time": "2021-10-11T09:57:28.008Z"
   },
   {
    "duration": 12,
    "start_time": "2021-10-11T09:57:28.164Z"
   },
   {
    "duration": 28,
    "start_time": "2021-10-11T09:57:28.178Z"
   },
   {
    "duration": 30,
    "start_time": "2021-10-11T09:57:28.208Z"
   },
   {
    "duration": 18,
    "start_time": "2021-10-11T09:57:28.240Z"
   },
   {
    "duration": 32,
    "start_time": "2021-10-11T09:57:28.260Z"
   },
   {
    "duration": 54,
    "start_time": "2021-10-11T09:57:28.294Z"
   },
   {
    "duration": 5,
    "start_time": "2021-10-11T09:57:28.350Z"
   },
   {
    "duration": 26,
    "start_time": "2021-10-11T09:57:28.356Z"
   },
   {
    "duration": 20,
    "start_time": "2021-10-11T09:57:28.386Z"
   },
   {
    "duration": 15,
    "start_time": "2021-10-11T09:57:28.409Z"
   },
   {
    "duration": 29,
    "start_time": "2021-10-11T09:57:28.426Z"
   },
   {
    "duration": 25,
    "start_time": "2021-10-11T09:57:28.457Z"
   },
   {
    "duration": 11,
    "start_time": "2021-10-11T09:57:28.484Z"
   },
   {
    "duration": 28,
    "start_time": "2021-10-11T09:57:28.497Z"
   },
   {
    "duration": 33,
    "start_time": "2021-10-11T09:57:28.527Z"
   },
   {
    "duration": 19,
    "start_time": "2021-10-11T09:57:28.562Z"
   },
   {
    "duration": 25,
    "start_time": "2021-10-11T09:57:28.582Z"
   },
   {
    "duration": 24,
    "start_time": "2021-10-11T09:57:28.609Z"
   },
   {
    "duration": 13,
    "start_time": "2021-10-11T09:57:28.635Z"
   },
   {
    "duration": 28,
    "start_time": "2021-10-11T09:57:28.649Z"
   },
   {
    "duration": 24,
    "start_time": "2021-10-11T09:57:28.678Z"
   },
   {
    "duration": 26,
    "start_time": "2021-10-11T09:57:28.703Z"
   },
   {
    "duration": 21,
    "start_time": "2021-10-11T09:57:28.731Z"
   },
   {
    "duration": 30,
    "start_time": "2021-10-11T09:57:28.754Z"
   },
   {
    "duration": 23,
    "start_time": "2021-10-11T09:57:28.785Z"
   },
   {
    "duration": 169,
    "start_time": "2021-10-11T09:57:28.810Z"
   },
   {
    "duration": 14,
    "start_time": "2021-10-11T09:57:28.981Z"
   },
   {
    "duration": 17,
    "start_time": "2021-10-11T09:57:28.997Z"
   },
   {
    "duration": 175,
    "start_time": "2021-10-11T09:57:29.016Z"
   },
   {
    "duration": 16,
    "start_time": "2021-10-11T09:57:29.193Z"
   },
   {
    "duration": 36,
    "start_time": "2021-10-11T09:57:29.210Z"
   },
   {
    "duration": 39,
    "start_time": "2021-10-11T09:57:29.247Z"
   },
   {
    "duration": 9,
    "start_time": "2021-10-11T09:57:29.288Z"
   },
   {
    "duration": 23,
    "start_time": "2021-10-11T09:57:29.299Z"
   },
   {
    "duration": 37,
    "start_time": "2021-10-11T09:57:29.324Z"
   },
   {
    "duration": 17,
    "start_time": "2021-10-11T09:57:29.362Z"
   },
   {
    "duration": 27,
    "start_time": "2021-10-11T09:57:29.381Z"
   },
   {
    "duration": 40,
    "start_time": "2021-10-11T09:57:29.410Z"
   },
   {
    "duration": 24,
    "start_time": "2021-10-11T09:57:29.452Z"
   },
   {
    "duration": 3737,
    "start_time": "2021-10-11T09:57:29.478Z"
   },
   {
    "duration": 8,
    "start_time": "2021-10-11T10:07:05.981Z"
   },
   {
    "duration": 10,
    "start_time": "2021-10-11T10:07:28.877Z"
   },
   {
    "duration": 13,
    "start_time": "2021-10-11T10:07:35.157Z"
   },
   {
    "duration": 6,
    "start_time": "2021-10-11T10:07:43.101Z"
   },
   {
    "duration": 8,
    "start_time": "2021-10-11T10:08:02.021Z"
   },
   {
    "duration": 6,
    "start_time": "2021-10-11T10:08:14.941Z"
   },
   {
    "duration": 22,
    "start_time": "2021-10-11T10:08:19.765Z"
   },
   {
    "duration": 13,
    "start_time": "2021-10-11T10:08:43.797Z"
   },
   {
    "duration": 10,
    "start_time": "2021-10-11T10:09:25.917Z"
   },
   {
    "duration": 7,
    "start_time": "2021-10-11T10:09:28.885Z"
   },
   {
    "duration": 12,
    "start_time": "2021-10-11T10:10:17.749Z"
   },
   {
    "duration": 9,
    "start_time": "2021-10-11T10:10:21.045Z"
   },
   {
    "duration": 144,
    "start_time": "2021-10-11T10:10:41.045Z"
   },
   {
    "duration": 157,
    "start_time": "2021-10-11T10:10:53.382Z"
   },
   {
    "duration": 127,
    "start_time": "2021-10-11T10:11:02.589Z"
   },
   {
    "duration": 5,
    "start_time": "2021-10-11T10:12:35.957Z"
   },
   {
    "duration": 351,
    "start_time": "2021-10-11T10:12:41.100Z"
   },
   {
    "duration": 286,
    "start_time": "2021-10-11T10:13:35.196Z"
   },
   {
    "duration": 32,
    "start_time": "2021-10-11T10:13:42.637Z"
   },
   {
    "duration": 34,
    "start_time": "2021-10-11T10:14:24.116Z"
   },
   {
    "duration": 32,
    "start_time": "2021-10-11T10:14:47.012Z"
   },
   {
    "duration": 37,
    "start_time": "2021-10-11T10:15:02.364Z"
   },
   {
    "duration": 14,
    "start_time": "2021-10-11T10:15:20.788Z"
   },
   {
    "duration": 11,
    "start_time": "2021-10-11T10:26:10.697Z"
   },
   {
    "duration": 5,
    "start_time": "2021-10-11T10:26:15.600Z"
   },
   {
    "duration": 8,
    "start_time": "2021-10-11T10:26:21.025Z"
   },
   {
    "duration": 11,
    "start_time": "2021-10-11T10:26:48.713Z"
   },
   {
    "duration": 4,
    "start_time": "2021-10-11T10:26:53.329Z"
   },
   {
    "duration": 7,
    "start_time": "2021-10-11T10:26:59.057Z"
   },
   {
    "duration": 11,
    "start_time": "2021-10-11T10:27:23.432Z"
   },
   {
    "duration": 5,
    "start_time": "2021-10-11T10:27:28.185Z"
   },
   {
    "duration": 7,
    "start_time": "2021-10-11T10:27:31.705Z"
   },
   {
    "duration": 11,
    "start_time": "2021-10-11T10:27:58.137Z"
   },
   {
    "duration": 4,
    "start_time": "2021-10-11T10:28:03.241Z"
   },
   {
    "duration": 7,
    "start_time": "2021-10-11T10:28:06.952Z"
   },
   {
    "duration": 15,
    "start_time": "2021-10-11T10:28:42.543Z"
   },
   {
    "duration": 13,
    "start_time": "2021-10-11T10:29:05.472Z"
   },
   {
    "duration": 14,
    "start_time": "2021-10-11T10:29:32.560Z"
   },
   {
    "duration": 14,
    "start_time": "2021-10-11T10:29:54.266Z"
   },
   {
    "duration": 11,
    "start_time": "2021-10-11T10:30:48.713Z"
   },
   {
    "duration": 7,
    "start_time": "2021-10-11T10:30:55.224Z"
   },
   {
    "duration": 495,
    "start_time": "2021-10-11T10:31:15.892Z"
   },
   {
    "duration": 7,
    "start_time": "2021-10-11T10:31:26.135Z"
   },
   {
    "duration": 6,
    "start_time": "2021-10-11T10:31:34.840Z"
   },
   {
    "duration": 10,
    "start_time": "2021-10-11T10:31:42.962Z"
   },
   {
    "duration": 5,
    "start_time": "2021-10-11T10:31:55.456Z"
   },
   {
    "duration": 6,
    "start_time": "2021-10-11T10:46:29.099Z"
   },
   {
    "duration": 5,
    "start_time": "2021-10-11T10:46:59.203Z"
   },
   {
    "duration": 6,
    "start_time": "2021-10-11T10:46:59.403Z"
   },
   {
    "duration": 6,
    "start_time": "2021-10-11T10:49:12.868Z"
   },
   {
    "duration": 6,
    "start_time": "2021-10-11T10:49:29.970Z"
   },
   {
    "duration": 6,
    "start_time": "2021-10-11T10:49:45.987Z"
   },
   {
    "duration": 5,
    "start_time": "2021-10-11T10:50:43.179Z"
   },
   {
    "duration": 1102,
    "start_time": "2021-10-11T19:17:21.752Z"
   },
   {
    "duration": 857,
    "start_time": "2021-10-11T19:17:27.622Z"
   },
   {
    "duration": 170,
    "start_time": "2021-10-11T19:17:28.481Z"
   },
   {
    "duration": 16,
    "start_time": "2021-10-11T19:17:28.653Z"
   },
   {
    "duration": 10,
    "start_time": "2021-10-11T19:17:28.671Z"
   },
   {
    "duration": 1107,
    "start_time": "2021-10-11T19:17:28.683Z"
   },
   {
    "duration": 4,
    "start_time": "2021-10-11T19:17:29.792Z"
   },
   {
    "duration": 8,
    "start_time": "2021-10-11T19:17:29.798Z"
   },
   {
    "duration": 19,
    "start_time": "2021-10-11T19:17:29.807Z"
   },
   {
    "duration": 7,
    "start_time": "2021-10-11T19:17:29.830Z"
   },
   {
    "duration": 37,
    "start_time": "2021-10-11T19:17:29.840Z"
   },
   {
    "duration": 5,
    "start_time": "2021-10-11T19:17:29.879Z"
   },
   {
    "duration": 7,
    "start_time": "2021-10-11T19:17:29.886Z"
   },
   {
    "duration": 594,
    "start_time": "2021-10-11T19:17:29.895Z"
   },
   {
    "duration": 139,
    "start_time": "2021-10-11T19:17:30.491Z"
   },
   {
    "duration": 10,
    "start_time": "2021-10-11T19:17:30.632Z"
   },
   {
    "duration": 12,
    "start_time": "2021-10-11T19:17:30.644Z"
   },
   {
    "duration": 26,
    "start_time": "2021-10-11T19:17:30.658Z"
   },
   {
    "duration": 21,
    "start_time": "2021-10-11T19:17:30.686Z"
   },
   {
    "duration": 32,
    "start_time": "2021-10-11T19:17:30.709Z"
   },
   {
    "duration": 63,
    "start_time": "2021-10-11T19:17:30.742Z"
   },
   {
    "duration": 4,
    "start_time": "2021-10-11T19:17:30.807Z"
   },
   {
    "duration": 21,
    "start_time": "2021-10-11T19:17:30.812Z"
   },
   {
    "duration": 16,
    "start_time": "2021-10-11T19:17:30.835Z"
   },
   {
    "duration": 8,
    "start_time": "2021-10-11T19:17:30.852Z"
   },
   {
    "duration": 18,
    "start_time": "2021-10-11T19:17:30.861Z"
   },
   {
    "duration": 11,
    "start_time": "2021-10-11T19:17:30.881Z"
   },
   {
    "duration": 4,
    "start_time": "2021-10-11T19:17:30.897Z"
   },
   {
    "duration": 13,
    "start_time": "2021-10-11T19:17:30.904Z"
   },
   {
    "duration": 5,
    "start_time": "2021-10-11T19:17:30.918Z"
   },
   {
    "duration": 10,
    "start_time": "2021-10-11T19:17:30.925Z"
   },
   {
    "duration": 41,
    "start_time": "2021-10-11T19:17:30.936Z"
   },
   {
    "duration": 17,
    "start_time": "2021-10-11T19:17:30.979Z"
   },
   {
    "duration": 14,
    "start_time": "2021-10-11T19:17:30.998Z"
   },
   {
    "duration": 26,
    "start_time": "2021-10-11T19:17:31.014Z"
   },
   {
    "duration": 22,
    "start_time": "2021-10-11T19:17:31.042Z"
   },
   {
    "duration": 12,
    "start_time": "2021-10-11T19:17:31.066Z"
   },
   {
    "duration": 20,
    "start_time": "2021-10-11T19:17:31.080Z"
   },
   {
    "duration": 8,
    "start_time": "2021-10-11T19:17:31.102Z"
   },
   {
    "duration": 11,
    "start_time": "2021-10-11T19:17:31.111Z"
   },
   {
    "duration": 155,
    "start_time": "2021-10-11T19:17:31.124Z"
   },
   {
    "duration": 14,
    "start_time": "2021-10-11T19:17:31.280Z"
   },
   {
    "duration": 13,
    "start_time": "2021-10-11T19:17:31.296Z"
   },
   {
    "duration": 165,
    "start_time": "2021-10-11T19:17:31.311Z"
   },
   {
    "duration": 15,
    "start_time": "2021-10-11T19:17:31.478Z"
   },
   {
    "duration": 19,
    "start_time": "2021-10-11T19:17:31.495Z"
   },
   {
    "duration": 16,
    "start_time": "2021-10-11T19:17:31.516Z"
   },
   {
    "duration": 23,
    "start_time": "2021-10-11T19:17:31.534Z"
   },
   {
    "duration": 6,
    "start_time": "2021-10-11T19:17:31.559Z"
   },
   {
    "duration": 10,
    "start_time": "2021-10-11T19:17:31.576Z"
   },
   {
    "duration": 11,
    "start_time": "2021-10-11T19:17:31.588Z"
   },
   {
    "duration": 6,
    "start_time": "2021-10-11T19:17:31.601Z"
   },
   {
    "duration": 9,
    "start_time": "2021-10-11T19:17:31.609Z"
   },
   {
    "duration": 6,
    "start_time": "2021-10-11T19:17:31.620Z"
   },
   {
    "duration": 3532,
    "start_time": "2021-10-11T19:17:31.628Z"
   },
   {
    "duration": 1060,
    "start_time": "2021-10-11T19:17:35.162Z"
   },
   {
    "duration": 6,
    "start_time": "2021-10-11T19:17:36.224Z"
   },
   {
    "duration": 10,
    "start_time": "2021-10-11T19:17:36.231Z"
   },
   {
    "duration": 42,
    "start_time": "2021-10-11T19:17:36.242Z"
   },
   {
    "duration": 4,
    "start_time": "2021-10-11T19:17:36.286Z"
   },
   {
    "duration": 5,
    "start_time": "2021-10-11T19:17:36.292Z"
   },
   {
    "duration": 20,
    "start_time": "2021-10-11T19:17:36.299Z"
   },
   {
    "duration": 60,
    "start_time": "2021-10-11T19:17:36.321Z"
   },
   {
    "duration": 8,
    "start_time": "2021-10-11T19:17:36.383Z"
   },
   {
    "duration": 13,
    "start_time": "2021-10-11T19:17:36.393Z"
   },
   {
    "duration": 9,
    "start_time": "2021-10-11T19:17:36.408Z"
   },
   {
    "duration": 192,
    "start_time": "2021-10-11T19:17:36.419Z"
   },
   {
    "duration": 141,
    "start_time": "2021-10-11T19:17:36.613Z"
   },
   {
    "duration": 141,
    "start_time": "2021-10-11T19:17:36.756Z"
   },
   {
    "duration": 5,
    "start_time": "2021-10-11T19:17:36.899Z"
   },
   {
    "duration": 316,
    "start_time": "2021-10-11T19:17:36.906Z"
   },
   {
    "duration": 275,
    "start_time": "2021-10-11T19:17:37.225Z"
   },
   {
    "duration": 165,
    "start_time": "2021-10-11T19:17:37.502Z"
   },
   {
    "duration": 37,
    "start_time": "2021-10-11T19:17:37.669Z"
   },
   {
    "duration": 32,
    "start_time": "2021-10-11T19:17:37.708Z"
   },
   {
    "duration": 12,
    "start_time": "2021-10-11T19:17:37.741Z"
   },
   {
    "duration": 10,
    "start_time": "2021-10-11T19:17:37.777Z"
   },
   {
    "duration": 4,
    "start_time": "2021-10-11T19:17:37.789Z"
   },
   {
    "duration": 9,
    "start_time": "2021-10-11T19:17:37.794Z"
   },
   {
    "duration": 13,
    "start_time": "2021-10-11T19:17:37.804Z"
   },
   {
    "duration": 5,
    "start_time": "2021-10-11T19:17:37.818Z"
   },
   {
    "duration": 6,
    "start_time": "2021-10-11T19:17:37.828Z"
   },
   {
    "duration": 41,
    "start_time": "2021-10-11T19:17:37.836Z"
   },
   {
    "duration": 4,
    "start_time": "2021-10-11T19:17:37.879Z"
   },
   {
    "duration": 9,
    "start_time": "2021-10-11T19:17:37.884Z"
   },
   {
    "duration": 12,
    "start_time": "2021-10-11T19:17:37.895Z"
   },
   {
    "duration": 4,
    "start_time": "2021-10-11T19:17:37.908Z"
   },
   {
    "duration": 9,
    "start_time": "2021-10-11T19:17:37.913Z"
   },
   {
    "duration": 13,
    "start_time": "2021-10-11T19:17:37.923Z"
   },
   {
    "duration": 38,
    "start_time": "2021-10-11T19:17:37.938Z"
   },
   {
    "duration": 14,
    "start_time": "2021-10-11T19:17:37.978Z"
   },
   {
    "duration": 14,
    "start_time": "2021-10-11T19:17:37.994Z"
   },
   {
    "duration": 10,
    "start_time": "2021-10-11T19:17:38.009Z"
   },
   {
    "duration": 11,
    "start_time": "2021-10-11T19:17:38.021Z"
   },
   {
    "duration": 7,
    "start_time": "2021-10-11T19:17:38.033Z"
   },
   {
    "duration": 5,
    "start_time": "2021-10-11T19:17:38.077Z"
   },
   {
    "duration": 12,
    "start_time": "2021-10-11T19:17:38.084Z"
   },
   {
    "duration": 10,
    "start_time": "2021-10-11T19:17:38.098Z"
   },
   {
    "duration": 7,
    "start_time": "2021-10-11T19:17:38.110Z"
   },
   {
    "duration": 6,
    "start_time": "2021-10-11T19:17:38.118Z"
   },
   {
    "duration": 5,
    "start_time": "2021-10-11T19:17:38.125Z"
   },
   {
    "duration": 5,
    "start_time": "2021-10-11T19:17:38.132Z"
   },
   {
    "duration": 6,
    "start_time": "2021-10-11T19:17:38.138Z"
   },
   {
    "duration": 33,
    "start_time": "2021-10-11T19:17:38.145Z"
   },
   {
    "duration": 649,
    "start_time": "2021-10-11T19:18:55.113Z"
   },
   {
    "duration": 108,
    "start_time": "2021-10-11T19:24:51.531Z"
   },
   {
    "duration": 1001,
    "start_time": "2021-10-11T20:41:04.015Z"
   },
   {
    "duration": 230,
    "start_time": "2021-10-11T20:41:16.008Z"
   },
   {
    "duration": 265,
    "start_time": "2021-10-11T20:41:16.306Z"
   },
   {
    "duration": 1086,
    "start_time": "2021-10-11T20:41:28.632Z"
   },
   {
    "duration": 116,
    "start_time": "2021-10-11T20:41:29.720Z"
   },
   {
    "duration": 16,
    "start_time": "2021-10-11T20:41:29.838Z"
   },
   {
    "duration": 10,
    "start_time": "2021-10-11T20:41:29.856Z"
   },
   {
    "duration": 576,
    "start_time": "2021-10-11T20:41:29.868Z"
   },
   {
    "duration": 5,
    "start_time": "2021-10-11T20:41:30.447Z"
   },
   {
    "duration": 23,
    "start_time": "2021-10-11T20:41:30.454Z"
   },
   {
    "duration": 33,
    "start_time": "2021-10-11T20:41:30.481Z"
   },
   {
    "duration": 9,
    "start_time": "2021-10-11T20:41:30.518Z"
   },
   {
    "duration": 33,
    "start_time": "2021-10-11T20:41:30.530Z"
   },
   {
    "duration": 14,
    "start_time": "2021-10-11T20:41:30.566Z"
   },
   {
    "duration": 18,
    "start_time": "2021-10-11T20:41:30.582Z"
   },
   {
    "duration": 557,
    "start_time": "2021-10-11T20:41:30.602Z"
   },
   {
    "duration": 136,
    "start_time": "2021-10-11T20:41:31.161Z"
   },
   {
    "duration": 11,
    "start_time": "2021-10-11T20:41:31.299Z"
   },
   {
    "duration": 37,
    "start_time": "2021-10-11T20:41:31.312Z"
   },
   {
    "duration": 30,
    "start_time": "2021-10-11T20:41:31.351Z"
   },
   {
    "duration": 23,
    "start_time": "2021-10-11T20:41:31.383Z"
   },
   {
    "duration": 48,
    "start_time": "2021-10-11T20:41:31.408Z"
   },
   {
    "duration": 62,
    "start_time": "2021-10-11T20:41:31.458Z"
   },
   {
    "duration": 6,
    "start_time": "2021-10-11T20:41:31.521Z"
   },
   {
    "duration": 25,
    "start_time": "2021-10-11T20:41:31.529Z"
   },
   {
    "duration": 14,
    "start_time": "2021-10-11T20:41:31.559Z"
   },
   {
    "duration": 23,
    "start_time": "2021-10-11T20:41:31.577Z"
   },
   {
    "duration": 28,
    "start_time": "2021-10-11T20:41:31.602Z"
   },
   {
    "duration": 24,
    "start_time": "2021-10-11T20:41:31.633Z"
   },
   {
    "duration": 46,
    "start_time": "2021-10-11T20:41:31.659Z"
   },
   {
    "duration": 61,
    "start_time": "2021-10-11T20:41:31.707Z"
   },
   {
    "duration": 21,
    "start_time": "2021-10-11T20:41:31.770Z"
   },
   {
    "duration": 16,
    "start_time": "2021-10-11T20:41:31.793Z"
   },
   {
    "duration": 25,
    "start_time": "2021-10-11T20:41:31.811Z"
   },
   {
    "duration": 12,
    "start_time": "2021-10-11T20:41:31.838Z"
   },
   {
    "duration": 13,
    "start_time": "2021-10-11T20:41:31.852Z"
   },
   {
    "duration": 12,
    "start_time": "2021-10-11T20:41:31.867Z"
   },
   {
    "duration": 14,
    "start_time": "2021-10-11T20:41:31.881Z"
   },
   {
    "duration": 14,
    "start_time": "2021-10-11T20:41:31.897Z"
   },
   {
    "duration": 37,
    "start_time": "2021-10-11T20:41:31.914Z"
   },
   {
    "duration": 25,
    "start_time": "2021-10-11T20:41:31.953Z"
   },
   {
    "duration": 4,
    "start_time": "2021-10-11T20:41:31.981Z"
   },
   {
    "duration": 157,
    "start_time": "2021-10-11T20:41:31.987Z"
   },
   {
    "duration": 16,
    "start_time": "2021-10-11T20:41:32.146Z"
   },
   {
    "duration": 23,
    "start_time": "2021-10-11T20:41:32.164Z"
   },
   {
    "duration": 187,
    "start_time": "2021-10-11T20:41:32.188Z"
   },
   {
    "duration": 15,
    "start_time": "2021-10-11T20:41:32.377Z"
   },
   {
    "duration": 20,
    "start_time": "2021-10-11T20:41:32.393Z"
   },
   {
    "duration": 28,
    "start_time": "2021-10-11T20:41:32.416Z"
   },
   {
    "duration": 11,
    "start_time": "2021-10-11T20:41:32.446Z"
   },
   {
    "duration": 13,
    "start_time": "2021-10-11T20:41:32.458Z"
   },
   {
    "duration": 22,
    "start_time": "2021-10-11T20:41:32.473Z"
   },
   {
    "duration": 16,
    "start_time": "2021-10-11T20:41:32.497Z"
   },
   {
    "duration": 9,
    "start_time": "2021-10-11T20:41:32.515Z"
   },
   {
    "duration": 19,
    "start_time": "2021-10-11T20:41:32.525Z"
   },
   {
    "duration": 6,
    "start_time": "2021-10-11T20:41:32.545Z"
   },
   {
    "duration": 3730,
    "start_time": "2021-10-11T20:41:32.552Z"
   },
   {
    "duration": 1397,
    "start_time": "2021-10-11T20:41:36.284Z"
   },
   {
    "duration": 8,
    "start_time": "2021-10-11T20:41:37.684Z"
   },
   {
    "duration": 54,
    "start_time": "2021-10-11T20:41:37.694Z"
   },
   {
    "duration": 30,
    "start_time": "2021-10-11T20:41:37.751Z"
   },
   {
    "duration": 60,
    "start_time": "2021-10-11T20:41:37.784Z"
   },
   {
    "duration": 7,
    "start_time": "2021-10-11T20:41:37.847Z"
   },
   {
    "duration": 45,
    "start_time": "2021-10-11T20:41:37.857Z"
   },
   {
    "duration": 43,
    "start_time": "2021-10-11T20:41:37.905Z"
   },
   {
    "duration": 8,
    "start_time": "2021-10-11T20:41:37.951Z"
   },
   {
    "duration": 26,
    "start_time": "2021-10-11T20:41:37.961Z"
   },
   {
    "duration": 12,
    "start_time": "2021-10-11T20:41:37.989Z"
   },
   {
    "duration": 233,
    "start_time": "2021-10-11T20:41:38.003Z"
   },
   {
    "duration": 226,
    "start_time": "2021-10-11T20:41:38.239Z"
   },
   {
    "duration": 219,
    "start_time": "2021-10-11T20:41:38.474Z"
   },
   {
    "duration": 8,
    "start_time": "2021-10-11T20:41:38.696Z"
   },
   {
    "duration": 383,
    "start_time": "2021-10-11T20:41:38.706Z"
   },
   {
    "duration": 285,
    "start_time": "2021-10-11T20:41:39.091Z"
   },
   {
    "duration": 34,
    "start_time": "2021-10-11T20:41:39.378Z"
   },
   {
    "duration": 62,
    "start_time": "2021-10-11T20:41:39.414Z"
   },
   {
    "duration": 68,
    "start_time": "2021-10-11T20:41:39.478Z"
   },
   {
    "duration": 20,
    "start_time": "2021-10-11T20:41:39.548Z"
   },
   {
    "duration": 18,
    "start_time": "2021-10-11T20:41:39.571Z"
   },
   {
    "duration": 15,
    "start_time": "2021-10-11T20:41:39.591Z"
   },
   {
    "duration": 21,
    "start_time": "2021-10-11T20:41:39.608Z"
   },
   {
    "duration": 19,
    "start_time": "2021-10-11T20:41:39.631Z"
   },
   {
    "duration": 13,
    "start_time": "2021-10-11T20:41:39.651Z"
   },
   {
    "duration": 9,
    "start_time": "2021-10-11T20:41:39.666Z"
   },
   {
    "duration": 15,
    "start_time": "2021-10-11T20:41:39.677Z"
   },
   {
    "duration": 6,
    "start_time": "2021-10-11T20:41:39.694Z"
   },
   {
    "duration": 12,
    "start_time": "2021-10-11T20:41:39.701Z"
   },
   {
    "duration": 29,
    "start_time": "2021-10-11T20:41:39.715Z"
   },
   {
    "duration": 4,
    "start_time": "2021-10-11T20:41:39.746Z"
   },
   {
    "duration": 9,
    "start_time": "2021-10-11T20:41:39.752Z"
   },
   {
    "duration": 21,
    "start_time": "2021-10-11T20:41:39.762Z"
   },
   {
    "duration": 13,
    "start_time": "2021-10-11T20:41:39.785Z"
   },
   {
    "duration": 14,
    "start_time": "2021-10-11T20:41:39.800Z"
   },
   {
    "duration": 40,
    "start_time": "2021-10-11T20:41:39.816Z"
   },
   {
    "duration": 16,
    "start_time": "2021-10-11T20:41:39.858Z"
   },
   {
    "duration": 20,
    "start_time": "2021-10-11T20:41:39.875Z"
   },
   {
    "duration": 6,
    "start_time": "2021-10-11T20:41:39.897Z"
   },
   {
    "duration": 17,
    "start_time": "2021-10-11T20:41:39.905Z"
   },
   {
    "duration": 16,
    "start_time": "2021-10-11T20:41:39.924Z"
   },
   {
    "duration": 7,
    "start_time": "2021-10-11T20:41:39.942Z"
   },
   {
    "duration": 18,
    "start_time": "2021-10-11T20:41:39.951Z"
   },
   {
    "duration": 19,
    "start_time": "2021-10-11T20:41:39.972Z"
   },
   {
    "duration": 24,
    "start_time": "2021-10-11T20:41:39.993Z"
   },
   {
    "duration": 24,
    "start_time": "2021-10-11T20:41:40.019Z"
   },
   {
    "duration": 11,
    "start_time": "2021-10-11T20:41:40.045Z"
   },
   {
    "duration": 12,
    "start_time": "2021-10-11T20:41:40.059Z"
   },
   {
    "duration": 304,
    "start_time": "2021-10-12T08:40:18.451Z"
   },
   {
    "duration": 1336,
    "start_time": "2021-10-12T08:48:36.019Z"
   },
   {
    "duration": 373,
    "start_time": "2021-10-12T08:48:38.312Z"
   },
   {
    "duration": 25,
    "start_time": "2021-10-12T08:48:38.688Z"
   },
   {
    "duration": 16,
    "start_time": "2021-10-12T08:48:38.716Z"
   },
   {
    "duration": 578,
    "start_time": "2021-10-12T08:48:38.825Z"
   },
   {
    "duration": 4,
    "start_time": "2021-10-12T08:48:39.406Z"
   },
   {
    "duration": 10,
    "start_time": "2021-10-12T08:48:39.414Z"
   },
   {
    "duration": 55,
    "start_time": "2021-10-12T08:48:39.428Z"
   },
   {
    "duration": 10,
    "start_time": "2021-10-12T08:48:39.530Z"
   },
   {
    "duration": 15,
    "start_time": "2021-10-12T08:48:39.696Z"
   },
   {
    "duration": 7,
    "start_time": "2021-10-12T08:48:39.864Z"
   },
   {
    "duration": 8,
    "start_time": "2021-10-12T08:48:40.047Z"
   },
   {
    "duration": 943,
    "start_time": "2021-10-12T08:48:40.391Z"
   },
   {
    "duration": 222,
    "start_time": "2021-10-12T08:48:41.336Z"
   },
   {
    "duration": 20,
    "start_time": "2021-10-12T08:48:41.561Z"
   },
   {
    "duration": 21,
    "start_time": "2021-10-12T08:48:41.583Z"
   },
   {
    "duration": 12,
    "start_time": "2021-10-12T08:48:41.606Z"
   },
   {
    "duration": 6,
    "start_time": "2021-10-12T08:48:41.620Z"
   },
   {
    "duration": 58,
    "start_time": "2021-10-12T08:48:41.628Z"
   },
   {
    "duration": 85,
    "start_time": "2021-10-12T08:48:41.821Z"
   },
   {
    "duration": 7,
    "start_time": "2021-10-12T08:48:42.214Z"
   },
   {
    "duration": 19,
    "start_time": "2021-10-12T08:48:42.401Z"
   },
   {
    "duration": 13,
    "start_time": "2021-10-12T08:48:42.583Z"
   },
   {
    "duration": 14,
    "start_time": "2021-10-12T08:48:42.767Z"
   },
   {
    "duration": 14,
    "start_time": "2021-10-12T08:48:42.959Z"
   },
   {
    "duration": 20,
    "start_time": "2021-10-12T08:48:43.143Z"
   },
   {
    "duration": 6,
    "start_time": "2021-10-12T08:48:43.335Z"
   },
   {
    "duration": 20,
    "start_time": "2021-10-12T08:48:43.520Z"
   },
   {
    "duration": 7,
    "start_time": "2021-10-12T08:48:43.699Z"
   },
   {
    "duration": 8,
    "start_time": "2021-10-12T08:48:44.279Z"
   },
   {
    "duration": 11,
    "start_time": "2021-10-12T08:48:44.479Z"
   },
   {
    "duration": 8,
    "start_time": "2021-10-12T08:48:44.663Z"
   },
   {
    "duration": 5,
    "start_time": "2021-10-12T08:48:45.120Z"
   },
   {
    "duration": 6,
    "start_time": "2021-10-12T08:48:45.462Z"
   },
   {
    "duration": 8,
    "start_time": "2021-10-12T08:48:45.669Z"
   },
   {
    "duration": 11,
    "start_time": "2021-10-12T08:48:45.850Z"
   },
   {
    "duration": 32,
    "start_time": "2021-10-12T08:48:46.240Z"
   },
   {
    "duration": 8,
    "start_time": "2021-10-12T08:48:46.423Z"
   },
   {
    "duration": 5,
    "start_time": "2021-10-12T08:48:46.599Z"
   },
   {
    "duration": 266,
    "start_time": "2021-10-12T08:48:46.783Z"
   },
   {
    "duration": 24,
    "start_time": "2021-10-12T08:48:47.424Z"
   },
   {
    "duration": 13,
    "start_time": "2021-10-12T08:48:47.663Z"
   },
   {
    "duration": 274,
    "start_time": "2021-10-12T08:48:47.864Z"
   },
   {
    "duration": 32,
    "start_time": "2021-10-12T08:48:48.141Z"
   },
   {
    "duration": 15,
    "start_time": "2021-10-12T08:48:48.412Z"
   },
   {
    "duration": 26,
    "start_time": "2021-10-12T08:48:48.599Z"
   },
   {
    "duration": 15,
    "start_time": "2021-10-12T08:48:49.382Z"
   },
   {
    "duration": 10,
    "start_time": "2021-10-12T08:48:49.569Z"
   },
   {
    "duration": 14,
    "start_time": "2021-10-12T08:48:49.752Z"
   },
   {
    "duration": 11,
    "start_time": "2021-10-12T08:48:50.071Z"
   },
   {
    "duration": 5,
    "start_time": "2021-10-12T08:48:50.264Z"
   },
   {
    "duration": 10,
    "start_time": "2021-10-12T08:48:50.647Z"
   },
   {
    "duration": 4,
    "start_time": "2021-10-12T08:48:51.215Z"
   },
   {
    "duration": 6054,
    "start_time": "2021-10-12T08:48:51.775Z"
   },
   {
    "duration": 2113,
    "start_time": "2021-10-12T08:48:57.832Z"
   },
   {
    "duration": 25,
    "start_time": "2021-10-12T08:48:59.948Z"
   },
   {
    "duration": 12,
    "start_time": "2021-10-12T08:48:59.976Z"
   },
   {
    "duration": 79,
    "start_time": "2021-10-12T08:48:59.990Z"
   },
   {
    "duration": 6,
    "start_time": "2021-10-12T08:49:00.071Z"
   },
   {
    "duration": 9,
    "start_time": "2021-10-12T08:49:00.079Z"
   },
   {
    "duration": 91,
    "start_time": "2021-10-12T08:49:00.092Z"
   },
   {
    "duration": 14,
    "start_time": "2021-10-12T08:49:00.293Z"
   },
   {
    "duration": 9,
    "start_time": "2021-10-12T08:49:00.705Z"
   },
   {
    "duration": 16,
    "start_time": "2021-10-12T08:49:01.203Z"
   },
   {
    "duration": 13,
    "start_time": "2021-10-12T08:49:02.661Z"
   },
   {
    "duration": 221,
    "start_time": "2021-10-12T08:49:02.984Z"
   },
   {
    "duration": 236,
    "start_time": "2021-10-12T08:49:03.751Z"
   },
   {
    "duration": 232,
    "start_time": "2021-10-12T08:49:03.990Z"
   },
   {
    "duration": 8,
    "start_time": "2021-10-12T08:49:04.447Z"
   },
   {
    "duration": 439,
    "start_time": "2021-10-12T08:49:05.791Z"
   },
   {
    "duration": 393,
    "start_time": "2021-10-12T08:49:11.271Z"
   },
   {
    "duration": 59,
    "start_time": "2021-10-12T08:49:11.668Z"
   },
   {
    "duration": 63,
    "start_time": "2021-10-12T08:49:13.247Z"
   },
   {
    "duration": 65,
    "start_time": "2021-10-12T08:49:14.032Z"
   },
   {
    "duration": 21,
    "start_time": "2021-10-12T08:49:14.936Z"
   },
   {
    "duration": 15,
    "start_time": "2021-10-12T08:49:18.086Z"
   },
   {
    "duration": 6,
    "start_time": "2021-10-12T08:49:18.503Z"
   },
   {
    "duration": 9,
    "start_time": "2021-10-12T08:49:20.410Z"
   },
   {
    "duration": 14,
    "start_time": "2021-10-12T08:49:21.319Z"
   },
   {
    "duration": 6,
    "start_time": "2021-10-12T08:49:21.503Z"
   },
   {
    "duration": 15,
    "start_time": "2021-10-12T08:49:42.128Z"
   },
   {
    "duration": 6,
    "start_time": "2021-10-12T08:49:42.504Z"
   },
   {
    "duration": 9,
    "start_time": "2021-10-12T08:49:43.735Z"
   },
   {
    "duration": 16,
    "start_time": "2021-10-12T08:49:47.128Z"
   },
   {
    "duration": 6,
    "start_time": "2021-10-12T08:49:54.705Z"
   },
   {
    "duration": 9,
    "start_time": "2021-10-12T08:49:55.168Z"
   },
   {
    "duration": 15,
    "start_time": "2021-10-12T08:49:57.545Z"
   },
   {
    "duration": 5,
    "start_time": "2021-10-12T08:50:04.608Z"
   },
   {
    "duration": 10,
    "start_time": "2021-10-12T08:50:05.047Z"
   },
   {
    "duration": 16,
    "start_time": "2021-10-12T08:50:08.025Z"
   },
   {
    "duration": 6,
    "start_time": "2021-10-12T08:50:15.403Z"
   },
   {
    "duration": 11,
    "start_time": "2021-10-12T08:50:15.872Z"
   },
   {
    "duration": 462,
    "start_time": "2021-10-12T08:50:25.193Z"
   },
   {
    "duration": 5,
    "start_time": "2021-10-12T08:50:36.888Z"
   },
   {
    "duration": 12,
    "start_time": "2021-10-12T08:50:37.408Z"
   },
   {
    "duration": 96,
    "start_time": "2021-10-12T09:00:01.828Z"
   },
   {
    "duration": 79,
    "start_time": "2021-10-12T09:00:04.171Z"
   },
   {
    "duration": 102,
    "start_time": "2021-10-12T09:00:07.275Z"
   },
   {
    "duration": 7,
    "start_time": "2021-10-12T09:04:12.973Z"
   },
   {
    "duration": 32,
    "start_time": "2021-10-12T09:04:13.559Z"
   },
   {
    "duration": 14,
    "start_time": "2021-10-12T09:04:17.990Z"
   },
   {
    "duration": 8,
    "start_time": "2021-10-12T09:04:18.655Z"
   },
   {
    "duration": 17,
    "start_time": "2021-10-12T09:04:24.644Z"
   },
   {
    "duration": 14,
    "start_time": "2021-10-12T09:04:25.460Z"
   },
   {
    "duration": 213,
    "start_time": "2021-10-12T09:04:37.473Z"
   },
   {
    "duration": 217,
    "start_time": "2021-10-12T09:04:40.324Z"
   },
   {
    "duration": 229,
    "start_time": "2021-10-12T09:04:41.596Z"
   },
   {
    "duration": 370,
    "start_time": "2021-10-12T09:04:45.972Z"
   },
   {
    "duration": 8,
    "start_time": "2021-10-12T09:04:49.723Z"
   },
   {
    "duration": 385,
    "start_time": "2021-10-12T09:04:53.908Z"
   },
   {
    "duration": 411,
    "start_time": "2021-10-12T09:04:56.419Z"
   },
   {
    "duration": 59,
    "start_time": "2021-10-12T09:05:03.161Z"
   },
   {
    "duration": 63,
    "start_time": "2021-10-12T09:05:27.870Z"
   },
   {
    "duration": 82,
    "start_time": "2021-10-12T09:05:27.937Z"
   },
   {
    "duration": 65,
    "start_time": "2021-10-12T09:05:33.330Z"
   },
   {
    "duration": 59,
    "start_time": "2021-10-12T09:05:35.060Z"
   },
   {
    "duration": 66,
    "start_time": "2021-10-12T09:05:37.013Z"
   },
   {
    "duration": 21,
    "start_time": "2021-10-12T09:05:38.740Z"
   },
   {
    "duration": 17,
    "start_time": "2021-10-12T09:05:53.562Z"
   },
   {
    "duration": 6,
    "start_time": "2021-10-12T09:05:54.347Z"
   },
   {
    "duration": 10,
    "start_time": "2021-10-12T09:05:55.666Z"
   },
   {
    "duration": 16,
    "start_time": "2021-10-12T09:05:58.196Z"
   },
   {
    "duration": 6,
    "start_time": "2021-10-12T09:05:58.547Z"
   },
   {
    "duration": 10,
    "start_time": "2021-10-12T09:05:58.723Z"
   },
   {
    "duration": 15,
    "start_time": "2021-10-12T09:05:59.259Z"
   },
   {
    "duration": 6,
    "start_time": "2021-10-12T09:05:59.771Z"
   },
   {
    "duration": 12,
    "start_time": "2021-10-12T09:06:00.156Z"
   },
   {
    "duration": 16,
    "start_time": "2021-10-12T09:06:00.655Z"
   },
   {
    "duration": 7,
    "start_time": "2021-10-12T09:06:01.011Z"
   },
   {
    "duration": 11,
    "start_time": "2021-10-12T09:06:01.579Z"
   },
   {
    "duration": 6,
    "start_time": "2021-10-12T09:06:02.011Z"
   },
   {
    "duration": 13,
    "start_time": "2021-10-12T09:06:03.268Z"
   },
   {
    "duration": 22,
    "start_time": "2021-10-12T09:06:10.699Z"
   },
   {
    "duration": 22,
    "start_time": "2021-10-12T09:06:11.347Z"
   },
   {
    "duration": 22,
    "start_time": "2021-10-12T09:06:13.171Z"
   },
   {
    "duration": 22,
    "start_time": "2021-10-12T09:06:14.194Z"
   },
   {
    "duration": 13,
    "start_time": "2021-10-12T09:07:14.196Z"
   },
   {
    "duration": 14,
    "start_time": "2021-10-12T09:08:15.395Z"
   },
   {
    "duration": 10,
    "start_time": "2021-10-12T09:08:16.666Z"
   },
   {
    "duration": 299,
    "start_time": "2021-10-12T09:28:07.358Z"
   },
   {
    "duration": 49,
    "start_time": "2021-10-12T09:28:11.390Z"
   },
   {
    "duration": 10,
    "start_time": "2021-10-12T09:28:11.926Z"
   },
   {
    "duration": 16,
    "start_time": "2021-10-12T09:29:02.521Z"
   },
   {
    "duration": 17,
    "start_time": "2021-10-12T09:29:02.973Z"
   },
   {
    "duration": 16,
    "start_time": "2021-10-12T09:29:03.357Z"
   },
   {
    "duration": 18,
    "start_time": "2021-10-12T09:29:03.775Z"
   },
   {
    "duration": 11,
    "start_time": "2021-10-12T09:29:04.341Z"
   },
   {
    "duration": 15,
    "start_time": "2021-10-12T09:34:42.453Z"
   },
   {
    "duration": 16,
    "start_time": "2021-10-12T09:34:56.011Z"
   },
   {
    "duration": 15,
    "start_time": "2021-10-12T09:35:08.836Z"
   },
   {
    "duration": 15,
    "start_time": "2021-10-12T09:35:18.803Z"
   },
   {
    "duration": 11,
    "start_time": "2021-10-12T09:35:19.259Z"
   },
   {
    "duration": 66,
    "start_time": "2021-10-12T09:45:21.049Z"
   },
   {
    "duration": 99,
    "start_time": "2021-10-12T09:47:44.593Z"
   },
   {
    "duration": 486,
    "start_time": "2021-10-12T09:51:29.751Z"
   }
  ],
  "kernelspec": {
   "display_name": "Python 3 (ipykernel)",
   "language": "python",
   "name": "python3"
  },
  "language_info": {
   "codemirror_mode": {
    "name": "ipython",
    "version": 3
   },
   "file_extension": ".py",
   "mimetype": "text/x-python",
   "name": "python",
   "nbconvert_exporter": "python",
   "pygments_lexer": "ipython3",
   "version": "3.9.7"
  },
  "toc": {
   "base_numbering": 1,
   "nav_menu": {},
   "number_sections": true,
   "sideBar": true,
   "skip_h1_title": true,
   "title_cell": "Table of Contents",
   "title_sidebar": "Contents",
   "toc_cell": false,
   "toc_position": {},
   "toc_section_display": true,
   "toc_window_display": false
  }
 },
 "nbformat": 4,
 "nbformat_minor": 2
}
