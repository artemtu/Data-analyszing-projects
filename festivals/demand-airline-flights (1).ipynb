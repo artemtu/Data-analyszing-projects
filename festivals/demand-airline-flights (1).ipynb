{
 "cells": [
  {
   "cell_type": "markdown",
   "metadata": {},
   "source": [
    "# Demand for airline flights"
   ]
  },
  {
   "cell_type": "code",
   "execution_count": 1,
   "metadata": {},
   "outputs": [],
   "source": [
    "import pandas as pd\n",
    "import numpy as np\n",
    "from matplotlib import pyplot as plt\n",
    "from math import factorial\n",
    "import math\n",
    "from scipy import stats as st\n",
    "from IPython.display import display_html\n",
    "from itertools import chain,cycle\n",
    "import seaborn as sns\n"
   ]
  },
  {
   "cell_type": "code",
   "execution_count": 2,
   "metadata": {},
   "outputs": [],
   "source": [
    "flights_aircrafts = pd.read_csv('https://code.s3.yandex.net/datasets/query_1.csv')\n",
    "    \n",
    "cities = pd.read_csv('https://code.s3.yandex.net/datasets/query_3.csv')"
   ]
  },
  {
   "cell_type": "code",
   "execution_count": 3,
   "metadata": {},
   "outputs": [
    {
     "data": {
      "text/html": [
       "<div>\n",
       "<style scoped>\n",
       "    .dataframe tbody tr th:only-of-type {\n",
       "        vertical-align: middle;\n",
       "    }\n",
       "\n",
       "    .dataframe tbody tr th {\n",
       "        vertical-align: top;\n",
       "    }\n",
       "\n",
       "    .dataframe thead th {\n",
       "        text-align: right;\n",
       "    }\n",
       "</style>\n",
       "<table border=\"1\" class=\"dataframe\">\n",
       "  <thead>\n",
       "    <tr style=\"text-align: right;\">\n",
       "      <th></th>\n",
       "      <th>model</th>\n",
       "      <th>flights_amount</th>\n",
       "    </tr>\n",
       "  </thead>\n",
       "  <tbody>\n",
       "    <tr>\n",
       "      <th>0</th>\n",
       "      <td>Airbus A319-100</td>\n",
       "      <td>607</td>\n",
       "    </tr>\n",
       "    <tr>\n",
       "      <th>1</th>\n",
       "      <td>Airbus A321-200</td>\n",
       "      <td>960</td>\n",
       "    </tr>\n",
       "    <tr>\n",
       "      <th>2</th>\n",
       "      <td>Boeing 737-300</td>\n",
       "      <td>630</td>\n",
       "    </tr>\n",
       "    <tr>\n",
       "      <th>3</th>\n",
       "      <td>Boeing 767-300</td>\n",
       "      <td>600</td>\n",
       "    </tr>\n",
       "    <tr>\n",
       "      <th>4</th>\n",
       "      <td>Boeing 777-300</td>\n",
       "      <td>300</td>\n",
       "    </tr>\n",
       "    <tr>\n",
       "      <th>5</th>\n",
       "      <td>Bombardier CRJ-200</td>\n",
       "      <td>4446</td>\n",
       "    </tr>\n",
       "    <tr>\n",
       "      <th>6</th>\n",
       "      <td>Cessna 208 Caravan</td>\n",
       "      <td>4557</td>\n",
       "    </tr>\n",
       "    <tr>\n",
       "      <th>7</th>\n",
       "      <td>Sukhoi SuperJet-100</td>\n",
       "      <td>4185</td>\n",
       "    </tr>\n",
       "  </tbody>\n",
       "</table>\n",
       "</div>"
      ],
      "text/plain": [
       "                 model  flights_amount\n",
       "0      Airbus A319-100             607\n",
       "1      Airbus A321-200             960\n",
       "2       Boeing 737-300             630\n",
       "3       Boeing 767-300             600\n",
       "4       Boeing 777-300             300\n",
       "5   Bombardier CRJ-200            4446\n",
       "6   Cessna 208 Caravan            4557\n",
       "7  Sukhoi SuperJet-100            4185"
      ]
     },
     "execution_count": 3,
     "metadata": {},
     "output_type": "execute_result"
    }
   ],
   "source": [
    "flights_aircrafts"
   ]
  },
  {
   "cell_type": "code",
   "execution_count": 4,
   "metadata": {},
   "outputs": [
    {
     "name": "stdout",
     "output_type": "stream",
     "text": [
      "<class 'pandas.core.frame.DataFrame'>\n",
      "RangeIndex: 8 entries, 0 to 7\n",
      "Data columns (total 2 columns):\n",
      " #   Column          Non-Null Count  Dtype \n",
      "---  ------          --------------  ----- \n",
      " 0   model           8 non-null      object\n",
      " 1   flights_amount  8 non-null      int64 \n",
      "dtypes: int64(1), object(1)\n",
      "memory usage: 256.0+ bytes\n"
     ]
    }
   ],
   "source": [
    "flights_aircrafts.info()"
   ]
  },
  {
   "cell_type": "code",
   "execution_count": 5,
   "metadata": {},
   "outputs": [
    {
     "data": {
      "text/html": [
       "<div>\n",
       "<style scoped>\n",
       "    .dataframe tbody tr th:only-of-type {\n",
       "        vertical-align: middle;\n",
       "    }\n",
       "\n",
       "    .dataframe tbody tr th {\n",
       "        vertical-align: top;\n",
       "    }\n",
       "\n",
       "    .dataframe thead th {\n",
       "        text-align: right;\n",
       "    }\n",
       "</style>\n",
       "<table border=\"1\" class=\"dataframe\">\n",
       "  <thead>\n",
       "    <tr style=\"text-align: right;\">\n",
       "      <th></th>\n",
       "      <th>city</th>\n",
       "      <th>average_flights</th>\n",
       "    </tr>\n",
       "  </thead>\n",
       "  <tbody>\n",
       "    <tr>\n",
       "      <th>0</th>\n",
       "      <td>Абакан</td>\n",
       "      <td>3.870968</td>\n",
       "    </tr>\n",
       "    <tr>\n",
       "      <th>1</th>\n",
       "      <td>Анадырь</td>\n",
       "      <td>1.000000</td>\n",
       "    </tr>\n",
       "    <tr>\n",
       "      <th>2</th>\n",
       "      <td>Анапа</td>\n",
       "      <td>2.161290</td>\n",
       "    </tr>\n",
       "    <tr>\n",
       "      <th>3</th>\n",
       "      <td>Архангельск</td>\n",
       "      <td>5.354839</td>\n",
       "    </tr>\n",
       "    <tr>\n",
       "      <th>4</th>\n",
       "      <td>Астрахань</td>\n",
       "      <td>2.451613</td>\n",
       "    </tr>\n",
       "    <tr>\n",
       "      <th>...</th>\n",
       "      <td>...</td>\n",
       "      <td>...</td>\n",
       "    </tr>\n",
       "    <tr>\n",
       "      <th>96</th>\n",
       "      <td>Чита</td>\n",
       "      <td>1.580645</td>\n",
       "    </tr>\n",
       "    <tr>\n",
       "      <th>97</th>\n",
       "      <td>Элиста</td>\n",
       "      <td>4.870968</td>\n",
       "    </tr>\n",
       "    <tr>\n",
       "      <th>98</th>\n",
       "      <td>Южно-Сахалинск</td>\n",
       "      <td>4.290323</td>\n",
       "    </tr>\n",
       "    <tr>\n",
       "      <th>99</th>\n",
       "      <td>Якутск</td>\n",
       "      <td>2.741935</td>\n",
       "    </tr>\n",
       "    <tr>\n",
       "      <th>100</th>\n",
       "      <td>Ярославль</td>\n",
       "      <td>1.322581</td>\n",
       "    </tr>\n",
       "  </tbody>\n",
       "</table>\n",
       "<p>101 rows × 2 columns</p>\n",
       "</div>"
      ],
      "text/plain": [
       "               city  average_flights\n",
       "0            Абакан         3.870968\n",
       "1           Анадырь         1.000000\n",
       "2             Анапа         2.161290\n",
       "3       Архангельск         5.354839\n",
       "4         Астрахань         2.451613\n",
       "..              ...              ...\n",
       "96             Чита         1.580645\n",
       "97           Элиста         4.870968\n",
       "98   Южно-Сахалинск         4.290323\n",
       "99           Якутск         2.741935\n",
       "100       Ярославль         1.322581\n",
       "\n",
       "[101 rows x 2 columns]"
      ]
     },
     "execution_count": 5,
     "metadata": {},
     "output_type": "execute_result"
    }
   ],
   "source": [
    "cities"
   ]
  },
  {
   "cell_type": "code",
   "execution_count": 6,
   "metadata": {
    "scrolled": true
   },
   "outputs": [
    {
     "name": "stdout",
     "output_type": "stream",
     "text": [
      "<class 'pandas.core.frame.DataFrame'>\n",
      "RangeIndex: 101 entries, 0 to 100\n",
      "Data columns (total 2 columns):\n",
      " #   Column           Non-Null Count  Dtype  \n",
      "---  ------           --------------  -----  \n",
      " 0   city             101 non-null    object \n",
      " 1   average_flights  101 non-null    float64\n",
      "dtypes: float64(1), object(1)\n",
      "memory usage: 1.7+ KB\n"
     ]
    }
   ],
   "source": [
    "cities.info()"
   ]
  },
  {
   "cell_type": "code",
   "execution_count": 7,
   "metadata": {},
   "outputs": [
    {
     "data": {
      "text/plain": [
       "array(['Абакан', 'Анадырь', 'Анапа', 'Архангельск', 'Астрахань',\n",
       "       'Барнаул', 'Белгород', 'Белоярский', 'Благовещенск', 'Братск',\n",
       "       'Брянск', 'Бугульма', 'Владивосток', 'Владикавказ', 'Волгоград',\n",
       "       'Воркута', 'Воронеж', 'Геленджик', 'Горно-Алтайск', 'Грозный',\n",
       "       'Екатеринбург', 'Иваново', 'Ижевск', 'Иркутск', 'Йошкар-Ола',\n",
       "       'Казань', 'Калининград', 'Калуга', 'Кемерово', 'Киров', 'Когалым',\n",
       "       'Комсомольск-на-Амуре', 'Краснодар', 'Красноярск', 'Курган',\n",
       "       'Курск', 'Кызыл', 'Липецк', 'Магадан', 'Магнитогорск', 'Махачкала',\n",
       "       'Минеральные Воды', 'Мирный', 'Москва', 'Мурманск', 'Надым',\n",
       "       'Нальчик', 'Нарьян-Мар', 'Нерюнгри', 'Нефтеюганск',\n",
       "       'Нижневартовск', 'Нижнекамск', 'Нижний Новгород', 'Новокузнецк',\n",
       "       'Новосибирск', 'Новый Уренгой', 'Норильск', 'Ноябрьск', 'Нягань',\n",
       "       'Омск', 'Оренбург', 'Орск', 'Пенза', 'Пермь', 'Петрозаводск',\n",
       "       'Петропавловск-Камчатский', 'Псков', 'Ростов-на-Дону', 'Салехард',\n",
       "       'Самара', 'Санкт-Петербург', 'Саранск', 'Саратов', 'Советский',\n",
       "       'Сочи', 'Ставрополь', 'Стрежевой', 'Сургут', 'Сыктывкар', 'Тамбов',\n",
       "       'Томск', 'Тюмень', 'Удачный', 'Улан-Удэ', 'Ульяновск', 'Урай',\n",
       "       'Усинск', 'Усть-Илимск', 'Усть-Кут', 'Уфа', 'Ухта', 'Хабаровск',\n",
       "       'Ханты-Мансийск', 'Чебоксары', 'Челябинск', 'Череповец', 'Чита',\n",
       "       'Элиста', 'Южно-Сахалинск', 'Якутск', 'Ярославль'], dtype=object)"
      ]
     },
     "execution_count": 7,
     "metadata": {},
     "output_type": "execute_result"
    }
   ],
   "source": [
    "cities['city'].unique()"
   ]
  },
  {
   "cell_type": "code",
   "execution_count": 8,
   "metadata": {},
   "outputs": [],
   "source": [
    "top_cities = cities.sort_values(by='average_flights', ascending=False).head(10)"
   ]
  },
  {
   "cell_type": "code",
   "execution_count": 9,
   "metadata": {},
   "outputs": [
    {
     "data": {
      "text/html": [
       "<div>\n",
       "<style scoped>\n",
       "    .dataframe tbody tr th:only-of-type {\n",
       "        vertical-align: middle;\n",
       "    }\n",
       "\n",
       "    .dataframe tbody tr th {\n",
       "        vertical-align: top;\n",
       "    }\n",
       "\n",
       "    .dataframe thead th {\n",
       "        text-align: right;\n",
       "    }\n",
       "</style>\n",
       "<table border=\"1\" class=\"dataframe\">\n",
       "  <thead>\n",
       "    <tr style=\"text-align: right;\">\n",
       "      <th></th>\n",
       "      <th>city</th>\n",
       "      <th>average_flights</th>\n",
       "    </tr>\n",
       "  </thead>\n",
       "  <tbody>\n",
       "    <tr>\n",
       "      <th>43</th>\n",
       "      <td>Москва</td>\n",
       "      <td>129.774194</td>\n",
       "    </tr>\n",
       "    <tr>\n",
       "      <th>70</th>\n",
       "      <td>Санкт-Петербург</td>\n",
       "      <td>31.161290</td>\n",
       "    </tr>\n",
       "    <tr>\n",
       "      <th>54</th>\n",
       "      <td>Новосибирск</td>\n",
       "      <td>17.322581</td>\n",
       "    </tr>\n",
       "    <tr>\n",
       "      <th>33</th>\n",
       "      <td>Красноярск</td>\n",
       "      <td>11.580645</td>\n",
       "    </tr>\n",
       "    <tr>\n",
       "      <th>20</th>\n",
       "      <td>Екатеринбург</td>\n",
       "      <td>11.322581</td>\n",
       "    </tr>\n",
       "    <tr>\n",
       "      <th>67</th>\n",
       "      <td>Ростов-на-Дону</td>\n",
       "      <td>10.193548</td>\n",
       "    </tr>\n",
       "    <tr>\n",
       "      <th>63</th>\n",
       "      <td>Пермь</td>\n",
       "      <td>10.129032</td>\n",
       "    </tr>\n",
       "    <tr>\n",
       "      <th>10</th>\n",
       "      <td>Брянск</td>\n",
       "      <td>10.000000</td>\n",
       "    </tr>\n",
       "    <tr>\n",
       "      <th>74</th>\n",
       "      <td>Сочи</td>\n",
       "      <td>9.612903</td>\n",
       "    </tr>\n",
       "    <tr>\n",
       "      <th>84</th>\n",
       "      <td>Ульяновск</td>\n",
       "      <td>9.580645</td>\n",
       "    </tr>\n",
       "  </tbody>\n",
       "</table>\n",
       "</div>"
      ],
      "text/plain": [
       "               city  average_flights\n",
       "43           Москва       129.774194\n",
       "70  Санкт-Петербург        31.161290\n",
       "54      Новосибирск        17.322581\n",
       "33       Красноярск        11.580645\n",
       "20     Екатеринбург        11.322581\n",
       "67   Ростов-на-Дону        10.193548\n",
       "63            Пермь        10.129032\n",
       "10           Брянск        10.000000\n",
       "74             Сочи         9.612903\n",
       "84        Ульяновск         9.580645"
      ]
     },
     "execution_count": 9,
     "metadata": {},
     "output_type": "execute_result"
    }
   ],
   "source": [
    "top_cities"
   ]
  },
  {
   "cell_type": "code",
   "execution_count": 10,
   "metadata": {},
   "outputs": [
    {
     "data": {
      "image/png": "[encoded data removed]",
      "text/plain": [
       "<Figure size 1368x720 with 1 Axes>"
      ]
     },
     "metadata": {},
     "output_type": "display_data"
    }
   ],
   "source": [
    "sns.set(rc={'figure.figsize':(19,10)})\n",
    "sns.barplot(x=\"model\", y=\"flights_amount\", data=flights_aircrafts).set(title='The most popular aircraft')\n",
    "plt.show()"
   ]
  },
  {
   "cell_type": "code",
   "execution_count": 11,
   "metadata": {},
   "outputs": [
    {
     "data": {
      "image/png": "[encoded data removed]",
      "text/plain": [
       "<Figure size 720x720 with 1 Axes>"
      ]
     },
     "metadata": {},
     "output_type": "display_data"
    }
   ],
   "source": [
    "cities.plot(y='average_flights', x='city', xlim=(0,60), ylim=(0,40), figsize=(10,10))\n",
    "plt.title('Average flights in cities')\n",
    "plt.show()"
   ]
  },
  {
   "cell_type": "code",
   "execution_count": 12,
   "metadata": {},
   "outputs": [
    {
     "data": {
      "image/png": "[encoded data removed]",
      "text/plain": [
       "<Figure size 1080x864 with 1 Axes>"
      ]
     },
     "metadata": {},
     "output_type": "display_data"
    }
   ],
   "source": [
    "sns.set(rc={'figure.figsize':(15,12)})\n",
    "sns.barplot(x=\"city\", y=\"average_flights\", data=top_cities).set(title='The most popular cities')\n",
    "plt.show()"
   ]
  },
  {
   "cell_type": "markdown",
   "metadata": {},
   "source": [
    "**Conclusion**\n",
    "1. The most popular aircraft - two passengers and one is a jet\n",
    "2. The most popular cities are Moscow and Saint Petersburg."
   ]
  }
 ],
 "metadata": {
  "ExecuteTimeLog": [
   {
    "duration": 1112,
    "start_time": "2021-11-09T10:12:34.245Z"
   },
   {
    "duration": 459,
    "start_time": "2021-11-09T10:20:07.914Z"
   },
   {
    "duration": 11,
    "start_time": "2021-11-09T10:20:12.081Z"
   },
   {
    "duration": 10,
    "start_time": "2021-11-09T10:20:18.985Z"
   },
   {
    "duration": 6,
    "start_time": "2021-11-09T11:26:48.075Z"
   },
   {
    "duration": 7,
    "start_time": "2021-11-09T11:27:04.683Z"
   },
   {
    "duration": 4,
    "start_time": "2021-11-09T11:28:27.419Z"
   },
   {
    "duration": 9,
    "start_time": "2021-11-09T11:28:33.356Z"
   },
   {
    "duration": 4,
    "start_time": "2021-11-09T11:28:45.578Z"
   },
   {
    "duration": 8,
    "start_time": "2021-11-09T11:28:47.394Z"
   },
   {
    "duration": 489,
    "start_time": "2021-11-09T11:38:26.648Z"
   },
   {
    "duration": 398,
    "start_time": "2021-11-09T11:38:34.863Z"
   },
   {
    "duration": 420,
    "start_time": "2021-11-09T11:39:08.787Z"
   },
   {
    "duration": 179,
    "start_time": "2021-11-09T11:39:17.554Z"
   },
   {
    "duration": 361,
    "start_time": "2021-11-09T11:39:32.839Z"
   },
   {
    "duration": 341,
    "start_time": "2021-11-09T11:40:11.720Z"
   },
   {
    "duration": 84,
    "start_time": "2021-11-09T11:41:19.471Z"
   },
   {
    "duration": 104,
    "start_time": "2021-11-09T11:41:22.214Z"
   },
   {
    "duration": 186,
    "start_time": "2021-11-09T11:42:30.870Z"
   },
   {
    "duration": 455,
    "start_time": "2021-11-09T11:42:46.087Z"
   },
   {
    "duration": 375,
    "start_time": "2021-11-09T11:43:01.870Z"
   },
   {
    "duration": 745,
    "start_time": "2021-11-09T11:43:37.398Z"
   },
   {
    "duration": 78,
    "start_time": "2021-11-09T11:43:46.005Z"
   },
   {
    "duration": 400,
    "start_time": "2021-11-09T11:43:47.902Z"
   },
   {
    "duration": 341,
    "start_time": "2021-11-09T11:45:25.509Z"
   },
   {
    "duration": 456,
    "start_time": "2021-11-09T11:45:40.613Z"
   },
   {
    "duration": 429,
    "start_time": "2021-11-09T11:50:27.476Z"
   },
   {
    "duration": 274,
    "start_time": "2021-11-09T11:51:24.741Z"
   },
   {
    "duration": 336,
    "start_time": "2021-11-09T11:51:34.883Z"
   },
   {
    "duration": 384,
    "start_time": "2021-11-09T11:51:46.259Z"
   },
   {
    "duration": 286,
    "start_time": "2021-11-09T11:51:53.355Z"
   },
   {
    "duration": 270,
    "start_time": "2021-11-09T11:52:07.243Z"
   },
   {
    "duration": 375,
    "start_time": "2021-11-09T11:52:10.682Z"
   },
   {
    "duration": 222,
    "start_time": "2021-11-09T12:06:33.071Z"
   },
   {
    "duration": 255,
    "start_time": "2021-11-09T12:07:36.158Z"
   },
   {
    "duration": 346,
    "start_time": "2021-11-09T12:07:53.274Z"
   },
   {
    "duration": 641,
    "start_time": "2021-11-09T12:11:38.445Z"
   },
   {
    "duration": 237,
    "start_time": "2021-11-09T12:11:42.477Z"
   },
   {
    "duration": 254,
    "start_time": "2021-11-09T12:11:48.934Z"
   },
   {
    "duration": 233,
    "start_time": "2021-11-09T12:11:55.701Z"
   },
   {
    "duration": 252,
    "start_time": "2021-11-09T12:12:02.438Z"
   },
   {
    "duration": 239,
    "start_time": "2021-11-09T12:12:29.085Z"
   },
   {
    "duration": 585,
    "start_time": "2021-11-09T12:12:43.901Z"
   },
   {
    "duration": 587,
    "start_time": "2021-11-09T12:13:37.994Z"
   },
   {
    "duration": 605,
    "start_time": "2021-11-09T12:13:47.733Z"
   },
   {
    "duration": 628,
    "start_time": "2021-11-09T12:13:52.149Z"
   },
   {
    "duration": 254,
    "start_time": "2021-11-09T12:14:06.293Z"
   },
   {
    "duration": -531,
    "start_time": "2021-11-09T12:15:28.326Z"
   },
   {
    "duration": 6234,
    "start_time": "2021-11-09T12:15:31.484Z"
   },
   {
    "duration": 7460,
    "start_time": "2021-11-09T12:15:53.678Z"
   },
   {
    "duration": 1089,
    "start_time": "2021-11-09T12:16:27.084Z"
   },
   {
    "duration": 4011,
    "start_time": "2021-11-09T12:16:36.220Z"
   },
   {
    "duration": 12024,
    "start_time": "2021-11-09T12:16:53.164Z"
   },
   {
    "duration": 641,
    "start_time": "2021-11-09T12:17:27.036Z"
   },
   {
    "duration": 647,
    "start_time": "2021-11-09T12:17:38.316Z"
   },
   {
    "duration": 654,
    "start_time": "2021-11-09T12:17:55.011Z"
   },
   {
    "duration": 629,
    "start_time": "2021-11-09T12:18:06.035Z"
   },
   {
    "duration": 667,
    "start_time": "2021-11-09T12:18:14.020Z"
   },
   {
    "duration": 618,
    "start_time": "2021-11-09T12:18:31.787Z"
   },
   {
    "duration": 376,
    "start_time": "2021-11-09T12:18:43.819Z"
   },
   {
    "duration": 614,
    "start_time": "2021-11-09T12:18:54.989Z"
   },
   {
    "duration": 594,
    "start_time": "2021-11-09T12:20:00.883Z"
   },
   {
    "duration": 409,
    "start_time": "2021-11-09T12:22:53.290Z"
   },
   {
    "duration": 247,
    "start_time": "2021-11-09T12:23:12.730Z"
   },
   {
    "duration": 365,
    "start_time": "2021-11-09T12:23:27.746Z"
   },
   {
    "duration": 359,
    "start_time": "2021-11-09T12:23:41.737Z"
   },
   {
    "duration": 223,
    "start_time": "2021-11-09T12:23:58.929Z"
   },
   {
    "duration": 2215,
    "start_time": "2021-11-09T12:24:05.826Z"
   },
   {
    "duration": 759,
    "start_time": "2021-11-09T12:24:17.865Z"
   },
   {
    "duration": 9960,
    "start_time": "2021-11-09T12:24:25.881Z"
   },
   {
    "duration": 1113,
    "start_time": "2021-11-09T12:24:44.513Z"
   },
   {
    "duration": 478,
    "start_time": "2021-11-09T12:27:29.712Z"
   },
   {
    "duration": 630,
    "start_time": "2021-11-09T12:28:58.320Z"
   },
   {
    "duration": 939,
    "start_time": "2021-11-09T12:29:09.151Z"
   },
   {
    "duration": 883,
    "start_time": "2021-11-09T12:29:17.783Z"
   },
   {
    "duration": 341,
    "start_time": "2021-11-09T12:29:31.088Z"
   },
   {
    "duration": 359,
    "start_time": "2021-11-09T12:30:26.408Z"
   },
   {
    "duration": 5,
    "start_time": "2021-11-09T12:30:45.465Z"
   },
   {
    "duration": 634,
    "start_time": "2021-11-09T12:34:57.209Z"
   },
   {
    "duration": 632,
    "start_time": "2021-11-09T12:35:08.752Z"
   },
   {
    "duration": 428,
    "start_time": "2021-11-09T12:35:13.438Z"
   },
   {
    "duration": 677,
    "start_time": "2021-11-09T12:35:20.654Z"
   },
   {
    "duration": 857,
    "start_time": "2021-11-09T12:35:34.165Z"
   },
   {
    "duration": 460,
    "start_time": "2021-11-09T12:35:48.830Z"
   },
   {
    "duration": 244,
    "start_time": "2021-11-09T12:37:01.302Z"
   },
   {
    "duration": 565,
    "start_time": "2021-11-09T12:37:17.716Z"
   },
   {
    "duration": 491,
    "start_time": "2021-11-09T12:37:21.805Z"
   },
   {
    "duration": 466,
    "start_time": "2021-11-09T12:37:25.181Z"
   },
   {
    "duration": 447,
    "start_time": "2021-11-09T12:37:50.573Z"
   },
   {
    "duration": 703,
    "start_time": "2021-11-09T12:37:58.116Z"
   },
   {
    "duration": 532,
    "start_time": "2021-11-09T12:38:04.236Z"
   },
   {
    "duration": 2043,
    "start_time": "2021-11-09T12:38:09.525Z"
   },
   {
    "duration": 412,
    "start_time": "2021-11-09T12:38:16.197Z"
   },
   {
    "duration": 1868,
    "start_time": "2021-11-09T12:38:19.996Z"
   },
   {
    "duration": 770,
    "start_time": "2021-11-09T12:38:21.917Z"
   },
   {
    "duration": 401,
    "start_time": "2021-11-09T12:44:45.179Z"
   },
   {
    "duration": 400,
    "start_time": "2021-11-09T12:45:02.003Z"
   },
   {
    "duration": 362,
    "start_time": "2021-11-09T12:45:43.028Z"
   },
   {
    "duration": 67,
    "start_time": "2021-11-09T12:45:59.171Z"
   },
   {
    "duration": 391,
    "start_time": "2021-11-09T12:46:02.987Z"
   },
   {
    "duration": 200,
    "start_time": "2021-11-09T12:46:11.154Z"
   },
   {
    "duration": 707,
    "start_time": "2021-11-09T12:46:16.963Z"
   },
   {
    "duration": 208,
    "start_time": "2021-11-09T12:46:24.291Z"
   },
   {
    "duration": 277,
    "start_time": "2021-11-09T12:46:33.602Z"
   },
   {
    "duration": 1115,
    "start_time": "2021-11-09T12:46:40.077Z"
   },
   {
    "duration": 9758,
    "start_time": "2021-11-09T12:46:44.411Z"
   },
   {
    "duration": 3076,
    "start_time": "2021-11-09T12:47:05.819Z"
   },
   {
    "duration": 3198,
    "start_time": "2021-11-09T12:47:20.602Z"
   },
   {
    "duration": 752,
    "start_time": "2021-11-09T12:47:33.522Z"
   },
   {
    "duration": 788,
    "start_time": "2021-11-09T12:47:44.826Z"
   },
   {
    "duration": 746,
    "start_time": "2021-11-09T12:47:53.122Z"
   },
   {
    "duration": 743,
    "start_time": "2021-11-09T12:48:00.307Z"
   },
   {
    "duration": 753,
    "start_time": "2021-11-09T12:48:07.210Z"
   },
   {
    "duration": 761,
    "start_time": "2021-11-09T12:48:12.610Z"
   },
   {
    "duration": 751,
    "start_time": "2021-11-09T12:48:15.666Z"
   },
   {
    "duration": 745,
    "start_time": "2021-11-09T12:48:19.569Z"
   },
   {
    "duration": 252,
    "start_time": "2021-11-09T12:48:25.986Z"
   },
   {
    "duration": 269,
    "start_time": "2021-11-09T12:48:40.762Z"
   },
   {
    "duration": 248,
    "start_time": "2021-11-09T12:48:44.026Z"
   },
   {
    "duration": 261,
    "start_time": "2021-11-09T12:48:49.706Z"
   },
   {
    "duration": 668,
    "start_time": "2021-11-09T12:48:58.393Z"
   },
   {
    "duration": 254,
    "start_time": "2021-11-09T12:49:04.377Z"
   },
   {
    "duration": 640,
    "start_time": "2021-11-09T12:49:06.908Z"
   },
   {
    "duration": 1137,
    "start_time": "2021-11-09T12:49:12.209Z"
   },
   {
    "duration": 260,
    "start_time": "2021-11-09T12:49:18.761Z"
   },
   {
    "duration": 278,
    "start_time": "2021-11-09T12:49:30.889Z"
   },
   {
    "duration": 283,
    "start_time": "2021-11-09T12:49:39.553Z"
   },
   {
    "duration": 279,
    "start_time": "2021-11-09T12:49:42.129Z"
   },
   {
    "duration": 255,
    "start_time": "2021-11-09T12:49:45.673Z"
   },
   {
    "duration": 280,
    "start_time": "2021-11-09T12:49:50.865Z"
   },
   {
    "duration": 403,
    "start_time": "2021-11-09T12:50:55.801Z"
   },
   {
    "duration": 303,
    "start_time": "2021-11-09T12:51:03.729Z"
   },
   {
    "duration": 645,
    "start_time": "2021-11-09T12:51:08.392Z"
   },
   {
    "duration": 501,
    "start_time": "2021-11-09T12:51:14.257Z"
   },
   {
    "duration": 430,
    "start_time": "2021-11-09T12:51:20.986Z"
   },
   {
    "duration": 378,
    "start_time": "2021-11-09T12:51:44.065Z"
   },
   {
    "duration": 11,
    "start_time": "2021-11-09T12:56:10.537Z"
   },
   {
    "duration": 9,
    "start_time": "2021-11-09T12:56:21.111Z"
   },
   {
    "duration": 3123,
    "start_time": "2021-11-09T18:17:35.087Z"
   },
   {
    "duration": 370,
    "start_time": "2021-11-09T18:17:38.214Z"
   },
   {
    "duration": 18,
    "start_time": "2021-11-09T18:17:38.588Z"
   },
   {
    "duration": 11,
    "start_time": "2021-11-09T18:17:38.610Z"
   },
   {
    "duration": 15,
    "start_time": "2021-11-09T18:17:38.683Z"
   },
   {
    "duration": 10,
    "start_time": "2021-11-09T18:17:38.701Z"
   },
   {
    "duration": 73,
    "start_time": "2021-11-09T18:17:38.714Z"
   },
   {
    "duration": 7,
    "start_time": "2021-11-09T18:17:38.790Z"
   },
   {
    "duration": 14,
    "start_time": "2021-11-09T18:17:38.801Z"
   },
   {
    "duration": 1498,
    "start_time": "2021-11-09T18:17:38.818Z"
   },
   {
    "duration": 882,
    "start_time": "2021-11-09T18:17:40.318Z"
   },
   {
    "duration": 1282,
    "start_time": "2021-11-09T18:17:41.203Z"
   }
  ],
  "kernelspec": {
   "display_name": "Python 3 (ipykernel)",
   "language": "python",
   "name": "python3"
  },
  "language_info": {
   "codemirror_mode": {
    "name": "ipython",
    "version": 3
   },
   "file_extension": ".py",
   "mimetype": "text/x-python",
   "name": "python",
   "nbconvert_exporter": "python",
   "pygments_lexer": "ipython3",
   "version": "3.9.7"
  },
  "toc": {
   "base_numbering": 1,
   "nav_menu": {},
   "number_sections": true,
   "sideBar": true,
   "skip_h1_title": true,
   "title_cell": "Table of Contents",
   "title_sidebar": "Contents",
   "toc_cell": false,
   "toc_position": {},
   "toc_section_display": true,
   "toc_window_display": false
  }
 },
 "nbformat": 4,
 "nbformat_minor": 2
}
