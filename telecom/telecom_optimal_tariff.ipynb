{
  "cells": [
    {
      "cell_type": "markdown",
      "metadata": {
        "id": "view-in-github",
        "colab_type": "text"
      },
      "source": [
        "<a href=\"https://colab.research.google.com/github/artemtu/projects-by-artemtu/blob/main/telecom_optimal_tariff.ipynb\" target=\"_parent\"><img src=\"https://colab.research.google.com/assets/colab-badge.svg\" alt=\"Open In Colab\"/></a>"
      ]
    },
    {
      "cell_type": "markdown",
      "metadata": {
        "id": "iaF1TVHhGWL_"
      },
      "source": [
        "# Определение перспективного тарифа для телеком-компании \"Мегалайн\""
      ]
    },
    {
      "cell_type": "markdown",
      "metadata": {
        "id": "9waG_YsGGWME"
      },
      "source": [
        "# Открытие и предобработка данных / Check out of data\n",
        "<a id=\"start\"></a>\n"
      ]
    },
    {
      "cell_type": "code",
      "execution_count": 2,
      "metadata": {
        "id": "eg-fH6aoGWMF"
      },
      "outputs": [],
      "source": [
        "import pandas as pd\n",
        "import numpy as np\n",
        "from matplotlib import pyplot as plt\n",
        "from math import factorial\n",
        "import math\n",
        "from scipy import stats as st"
      ]
    },
    {
      "cell_type": "code",
      "execution_count": 3,
      "metadata": {
        "id": "SYGt2pvoGWMI"
      },
      "outputs": [],
      "source": [
        "calls = pd.read_csv('/content/drive/MyDrive/Pandas_files/my_projects/telecom/calls.csv')\n",
        "internet =  pd.read_csv('/content/drive/MyDrive/Pandas_files/my_projects/telecom/internet.csv')\n",
        "tarrifs =  pd.read_csv('/content/drive/MyDrive/Pandas_files/my_projects/telecom/tariffs.csv')\n",
        "users =  pd.read_csv('/content/drive/MyDrive/Pandas_files/my_projects/telecom/users.csv')\n",
        "messages = pd.read_csv('/content/drive/MyDrive/Pandas_files/my_projects/telecom/messages.csv')"
      ]
    },
    {
      "cell_type": "code",
      "execution_count": 4,
      "metadata": {
        "colab": {
          "base_uri": "https://localhost:8080/",
          "height": 520
        },
        "id": "3CBw3F7nGWMI",
        "outputId": "eafeb65c-9e78-41b1-bec7-c7955fd5ca4f"
      },
      "outputs": [
        {
          "output_type": "execute_result",
          "data": {
            "text/plain": [
              "         id   call_date  duration  user_id\n",
              "0    1000_0  2018-07-25      0.00     1000\n",
              "1    1000_1  2018-08-17      0.00     1000\n",
              "2    1000_2  2018-06-11      2.85     1000\n",
              "3    1000_3  2018-09-21     13.80     1000\n",
              "4    1000_4  2018-12-15      5.18     1000\n",
              "5    1000_5  2018-11-02      0.00     1000\n",
              "6    1000_6  2018-10-18      0.00     1000\n",
              "7    1000_7  2018-08-22     18.31     1000\n",
              "8    1000_8  2018-09-15     18.44     1000\n",
              "9    1000_9  2018-08-15      0.00     1000\n",
              "10  1000_10  2018-08-22      5.03     1000\n",
              "11  1000_11  2018-05-28     18.82     1000\n",
              "12  1000_12  2018-07-05      2.02     1000\n",
              "13  1000_13  2018-09-29      7.15     1000\n",
              "14  1000_14  2018-12-11      9.13     1000"
            ],
            "text/html": [
              "\n",
              "  <div id=\"df-e8fd6160-3cc2-4774-8c4d-ed68ff2c5e60\">\n",
              "    <div class=\"colab-df-container\">\n",
              "      <div>\n",
              "<style scoped>\n",
              "    .dataframe tbody tr th:only-of-type {\n",
              "        vertical-align: middle;\n",
              "    }\n",
              "\n",
              "    .dataframe tbody tr th {\n",
              "        vertical-align: top;\n",
              "    }\n",
              "\n",
              "    .dataframe thead th {\n",
              "        text-align: right;\n",
              "    }\n",
              "</style>\n",
              "<table border=\"1\" class=\"dataframe\">\n",
              "  <thead>\n",
              "    <tr style=\"text-align: right;\">\n",
              "      <th></th>\n",
              "      <th>id</th>\n",
              "      <th>call_date</th>\n",
              "      <th>duration</th>\n",
              "      <th>user_id</th>\n",
              "    </tr>\n",
              "  </thead>\n",
              "  <tbody>\n",
              "    <tr>\n",
              "      <th>0</th>\n",
              "      <td>1000_0</td>\n",
              "      <td>2018-07-25</td>\n",
              "      <td>0.00</td>\n",
              "      <td>1000</td>\n",
              "    </tr>\n",
              "    <tr>\n",
              "      <th>1</th>\n",
              "      <td>1000_1</td>\n",
              "      <td>2018-08-17</td>\n",
              "      <td>0.00</td>\n",
              "      <td>1000</td>\n",
              "    </tr>\n",
              "    <tr>\n",
              "      <th>2</th>\n",
              "      <td>1000_2</td>\n",
              "      <td>2018-06-11</td>\n",
              "      <td>2.85</td>\n",
              "      <td>1000</td>\n",
              "    </tr>\n",
              "    <tr>\n",
              "      <th>3</th>\n",
              "      <td>1000_3</td>\n",
              "      <td>2018-09-21</td>\n",
              "      <td>13.80</td>\n",
              "      <td>1000</td>\n",
              "    </tr>\n",
              "    <tr>\n",
              "      <th>4</th>\n",
              "      <td>1000_4</td>\n",
              "      <td>2018-12-15</td>\n",
              "      <td>5.18</td>\n",
              "      <td>1000</td>\n",
              "    </tr>\n",
              "    <tr>\n",
              "      <th>5</th>\n",
              "      <td>1000_5</td>\n",
              "      <td>2018-11-02</td>\n",
              "      <td>0.00</td>\n",
              "      <td>1000</td>\n",
              "    </tr>\n",
              "    <tr>\n",
              "      <th>6</th>\n",
              "      <td>1000_6</td>\n",
              "      <td>2018-10-18</td>\n",
              "      <td>0.00</td>\n",
              "      <td>1000</td>\n",
              "    </tr>\n",
              "    <tr>\n",
              "      <th>7</th>\n",
              "      <td>1000_7</td>\n",
              "      <td>2018-08-22</td>\n",
              "      <td>18.31</td>\n",
              "      <td>1000</td>\n",
              "    </tr>\n",
              "    <tr>\n",
              "      <th>8</th>\n",
              "      <td>1000_8</td>\n",
              "      <td>2018-09-15</td>\n",
              "      <td>18.44</td>\n",
              "      <td>1000</td>\n",
              "    </tr>\n",
              "    <tr>\n",
              "      <th>9</th>\n",
              "      <td>1000_9</td>\n",
              "      <td>2018-08-15</td>\n",
              "      <td>0.00</td>\n",
              "      <td>1000</td>\n",
              "    </tr>\n",
              "    <tr>\n",
              "      <th>10</th>\n",
              "      <td>1000_10</td>\n",
              "      <td>2018-08-22</td>\n",
              "      <td>5.03</td>\n",
              "      <td>1000</td>\n",
              "    </tr>\n",
              "    <tr>\n",
              "      <th>11</th>\n",
              "      <td>1000_11</td>\n",
              "      <td>2018-05-28</td>\n",
              "      <td>18.82</td>\n",
              "      <td>1000</td>\n",
              "    </tr>\n",
              "    <tr>\n",
              "      <th>12</th>\n",
              "      <td>1000_12</td>\n",
              "      <td>2018-07-05</td>\n",
              "      <td>2.02</td>\n",
              "      <td>1000</td>\n",
              "    </tr>\n",
              "    <tr>\n",
              "      <th>13</th>\n",
              "      <td>1000_13</td>\n",
              "      <td>2018-09-29</td>\n",
              "      <td>7.15</td>\n",
              "      <td>1000</td>\n",
              "    </tr>\n",
              "    <tr>\n",
              "      <th>14</th>\n",
              "      <td>1000_14</td>\n",
              "      <td>2018-12-11</td>\n",
              "      <td>9.13</td>\n",
              "      <td>1000</td>\n",
              "    </tr>\n",
              "  </tbody>\n",
              "</table>\n",
              "</div>\n",
              "      <button class=\"colab-df-convert\" onclick=\"convertToInteractive('df-e8fd6160-3cc2-4774-8c4d-ed68ff2c5e60')\"\n",
              "              title=\"Convert this dataframe to an interactive table.\"\n",
              "              style=\"display:none;\">\n",
              "        \n",
              "  <svg xmlns=\"http://www.w3.org/2000/svg\" height=\"24px\"viewBox=\"0 0 24 24\"\n",
              "       width=\"24px\">\n",
              "    <path d=\"M0 0h24v24H0V0z\" fill=\"none\"/>\n",
              "    <path d=\"M18.56 5.44l.94 2.06.94-2.06 2.06-.94-2.06-.94-.94-2.06-.94 2.06-2.06.94zm-11 1L8.5 8.5l.94-2.06 2.06-.94-2.06-.94L8.5 2.5l-.94 2.06-2.06.94zm10 10l.94 2.06.94-2.06 2.06-.94-2.06-.94-.94-2.06-.94 2.06-2.06.94z\"/><path d=\"M17.41 7.96l-1.37-1.37c-.4-.4-.92-.59-1.43-.59-.52 0-1.04.2-1.43.59L10.3 9.45l-7.72 7.72c-.78.78-.78 2.05 0 2.83L4 21.41c.39.39.9.59 1.41.59.51 0 1.02-.2 1.41-.59l7.78-7.78 2.81-2.81c.8-.78.8-2.07 0-2.86zM5.41 20L4 18.59l7.72-7.72 1.47 1.35L5.41 20z\"/>\n",
              "  </svg>\n",
              "      </button>\n",
              "      \n",
              "  <style>\n",
              "    .colab-df-container {\n",
              "      display:flex;\n",
              "      flex-wrap:wrap;\n",
              "      gap: 12px;\n",
              "    }\n",
              "\n",
              "    .colab-df-convert {\n",
              "      background-color: #E8F0FE;\n",
              "      border: none;\n",
              "      border-radius: 50%;\n",
              "      cursor: pointer;\n",
              "      display: none;\n",
              "      fill: #1967D2;\n",
              "      height: 32px;\n",
              "      padding: 0 0 0 0;\n",
              "      width: 32px;\n",
              "    }\n",
              "\n",
              "    .colab-df-convert:hover {\n",
              "      background-color: #E2EBFA;\n",
              "      box-shadow: 0px 1px 2px rgba(60, 64, 67, 0.3), 0px 1px 3px 1px rgba(60, 64, 67, 0.15);\n",
              "      fill: #174EA6;\n",
              "    }\n",
              "\n",
              "    [theme=dark] .colab-df-convert {\n",
              "      background-color: #3B4455;\n",
              "      fill: #D2E3FC;\n",
              "    }\n",
              "\n",
              "    [theme=dark] .colab-df-convert:hover {\n",
              "      background-color: #434B5C;\n",
              "      box-shadow: 0px 1px 3px 1px rgba(0, 0, 0, 0.15);\n",
              "      filter: drop-shadow(0px 1px 2px rgba(0, 0, 0, 0.3));\n",
              "      fill: #FFFFFF;\n",
              "    }\n",
              "  </style>\n",
              "\n",
              "      <script>\n",
              "        const buttonEl =\n",
              "          document.querySelector('#df-e8fd6160-3cc2-4774-8c4d-ed68ff2c5e60 button.colab-df-convert');\n",
              "        buttonEl.style.display =\n",
              "          google.colab.kernel.accessAllowed ? 'block' : 'none';\n",
              "\n",
              "        async function convertToInteractive(key) {\n",
              "          const element = document.querySelector('#df-e8fd6160-3cc2-4774-8c4d-ed68ff2c5e60');\n",
              "          const dataTable =\n",
              "            await google.colab.kernel.invokeFunction('convertToInteractive',\n",
              "                                                     [key], {});\n",
              "          if (!dataTable) return;\n",
              "\n",
              "          const docLinkHtml = 'Like what you see? Visit the ' +\n",
              "            '<a target=\"_blank\" href=https://colab.research.google.com/notebooks/data_table.ipynb>data table notebook</a>'\n",
              "            + ' to learn more about interactive tables.';\n",
              "          element.innerHTML = '';\n",
              "          dataTable['output_type'] = 'display_data';\n",
              "          await google.colab.output.renderOutput(dataTable, element);\n",
              "          const docLink = document.createElement('div');\n",
              "          docLink.innerHTML = docLinkHtml;\n",
              "          element.appendChild(docLink);\n",
              "        }\n",
              "      </script>\n",
              "    </div>\n",
              "  </div>\n",
              "  "
            ]
          },
          "metadata": {},
          "execution_count": 4
        }
      ],
      "source": [
        "calls.head(15)"
      ]
    },
    {
      "cell_type": "code",
      "execution_count": 5,
      "metadata": {
        "scrolled": false,
        "colab": {
          "base_uri": "https://localhost:8080/"
        },
        "id": "KECxRk54GWMK",
        "outputId": "ba9fdc27-22cd-4b13-f88f-73b15d935c53"
      },
      "outputs": [
        {
          "output_type": "stream",
          "name": "stdout",
          "text": [
            "<class 'pandas.core.frame.DataFrame'>\n",
            "RangeIndex: 202607 entries, 0 to 202606\n",
            "Data columns (total 4 columns):\n",
            " #   Column     Non-Null Count   Dtype  \n",
            "---  ------     --------------   -----  \n",
            " 0   id         202607 non-null  object \n",
            " 1   call_date  202607 non-null  object \n",
            " 2   duration   202607 non-null  float64\n",
            " 3   user_id    202607 non-null  int64  \n",
            "dtypes: float64(1), int64(1), object(2)\n",
            "memory usage: 6.2+ MB\n"
          ]
        }
      ],
      "source": [
        "calls.info()"
      ]
    },
    {
      "cell_type": "code",
      "execution_count": 6,
      "metadata": {
        "id": "WkosXOiyGWMK"
      },
      "outputs": [],
      "source": [
        "calls['call_date'] = calls['call_date'].apply(pd.to_datetime) # change format to date"
      ]
    },
    {
      "cell_type": "code",
      "execution_count": 7,
      "metadata": {
        "scrolled": false,
        "colab": {
          "base_uri": "https://localhost:8080/"
        },
        "id": "gNWd6T6nGWMK",
        "outputId": "4b643143-8281-4c8b-cd8d-0c2eeebea7c7"
      },
      "outputs": [
        {
          "output_type": "stream",
          "name": "stdout",
          "text": [
            "<class 'pandas.core.frame.DataFrame'>\n",
            "RangeIndex: 202607 entries, 0 to 202606\n",
            "Data columns (total 4 columns):\n",
            " #   Column     Non-Null Count   Dtype         \n",
            "---  ------     --------------   -----         \n",
            " 0   id         202607 non-null  object        \n",
            " 1   call_date  202607 non-null  datetime64[ns]\n",
            " 2   duration   202607 non-null  float64       \n",
            " 3   user_id    202607 non-null  int64         \n",
            "dtypes: datetime64[ns](1), float64(1), int64(1), object(1)\n",
            "memory usage: 6.2+ MB\n"
          ]
        }
      ],
      "source": [
        "calls.info()"
      ]
    },
    {
      "cell_type": "code",
      "execution_count": 8,
      "metadata": {
        "id": "pqz24Xf0GWML"
      },
      "outputs": [],
      "source": [
        "calls['month'] = calls['call_date'].dt.month #добавляем столбец с номером месяца / add a column with number of month"
      ]
    },
    {
      "cell_type": "code",
      "execution_count": 9,
      "metadata": {
        "colab": {
          "base_uri": "https://localhost:8080/",
          "height": 206
        },
        "id": "pgvTf8XIGWML",
        "outputId": "05d1b7e2-9952-4837-a48d-3a48b8c2faaf"
      },
      "outputs": [
        {
          "output_type": "execute_result",
          "data": {
            "text/plain": [
              "       id  call_date  duration  user_id  month\n",
              "0  1000_0 2018-07-25      0.00     1000      7\n",
              "1  1000_1 2018-08-17      0.00     1000      8\n",
              "2  1000_2 2018-06-11      2.85     1000      6\n",
              "3  1000_3 2018-09-21     13.80     1000      9\n",
              "4  1000_4 2018-12-15      5.18     1000     12"
            ],
            "text/html": [
              "\n",
              "  <div id=\"df-b6e35c29-0b58-4c39-aff2-6365f3137c06\">\n",
              "    <div class=\"colab-df-container\">\n",
              "      <div>\n",
              "<style scoped>\n",
              "    .dataframe tbody tr th:only-of-type {\n",
              "        vertical-align: middle;\n",
              "    }\n",
              "\n",
              "    .dataframe tbody tr th {\n",
              "        vertical-align: top;\n",
              "    }\n",
              "\n",
              "    .dataframe thead th {\n",
              "        text-align: right;\n",
              "    }\n",
              "</style>\n",
              "<table border=\"1\" class=\"dataframe\">\n",
              "  <thead>\n",
              "    <tr style=\"text-align: right;\">\n",
              "      <th></th>\n",
              "      <th>id</th>\n",
              "      <th>call_date</th>\n",
              "      <th>duration</th>\n",
              "      <th>user_id</th>\n",
              "      <th>month</th>\n",
              "    </tr>\n",
              "  </thead>\n",
              "  <tbody>\n",
              "    <tr>\n",
              "      <th>0</th>\n",
              "      <td>1000_0</td>\n",
              "      <td>2018-07-25</td>\n",
              "      <td>0.00</td>\n",
              "      <td>1000</td>\n",
              "      <td>7</td>\n",
              "    </tr>\n",
              "    <tr>\n",
              "      <th>1</th>\n",
              "      <td>1000_1</td>\n",
              "      <td>2018-08-17</td>\n",
              "      <td>0.00</td>\n",
              "      <td>1000</td>\n",
              "      <td>8</td>\n",
              "    </tr>\n",
              "    <tr>\n",
              "      <th>2</th>\n",
              "      <td>1000_2</td>\n",
              "      <td>2018-06-11</td>\n",
              "      <td>2.85</td>\n",
              "      <td>1000</td>\n",
              "      <td>6</td>\n",
              "    </tr>\n",
              "    <tr>\n",
              "      <th>3</th>\n",
              "      <td>1000_3</td>\n",
              "      <td>2018-09-21</td>\n",
              "      <td>13.80</td>\n",
              "      <td>1000</td>\n",
              "      <td>9</td>\n",
              "    </tr>\n",
              "    <tr>\n",
              "      <th>4</th>\n",
              "      <td>1000_4</td>\n",
              "      <td>2018-12-15</td>\n",
              "      <td>5.18</td>\n",
              "      <td>1000</td>\n",
              "      <td>12</td>\n",
              "    </tr>\n",
              "  </tbody>\n",
              "</table>\n",
              "</div>\n",
              "      <button class=\"colab-df-convert\" onclick=\"convertToInteractive('df-b6e35c29-0b58-4c39-aff2-6365f3137c06')\"\n",
              "              title=\"Convert this dataframe to an interactive table.\"\n",
              "              style=\"display:none;\">\n",
              "        \n",
              "  <svg xmlns=\"http://www.w3.org/2000/svg\" height=\"24px\"viewBox=\"0 0 24 24\"\n",
              "       width=\"24px\">\n",
              "    <path d=\"M0 0h24v24H0V0z\" fill=\"none\"/>\n",
              "    <path d=\"M18.56 5.44l.94 2.06.94-2.06 2.06-.94-2.06-.94-.94-2.06-.94 2.06-2.06.94zm-11 1L8.5 8.5l.94-2.06 2.06-.94-2.06-.94L8.5 2.5l-.94 2.06-2.06.94zm10 10l.94 2.06.94-2.06 2.06-.94-2.06-.94-.94-2.06-.94 2.06-2.06.94z\"/><path d=\"M17.41 7.96l-1.37-1.37c-.4-.4-.92-.59-1.43-.59-.52 0-1.04.2-1.43.59L10.3 9.45l-7.72 7.72c-.78.78-.78 2.05 0 2.83L4 21.41c.39.39.9.59 1.41.59.51 0 1.02-.2 1.41-.59l7.78-7.78 2.81-2.81c.8-.78.8-2.07 0-2.86zM5.41 20L4 18.59l7.72-7.72 1.47 1.35L5.41 20z\"/>\n",
              "  </svg>\n",
              "      </button>\n",
              "      \n",
              "  <style>\n",
              "    .colab-df-container {\n",
              "      display:flex;\n",
              "      flex-wrap:wrap;\n",
              "      gap: 12px;\n",
              "    }\n",
              "\n",
              "    .colab-df-convert {\n",
              "      background-color: #E8F0FE;\n",
              "      border: none;\n",
              "      border-radius: 50%;\n",
              "      cursor: pointer;\n",
              "      display: none;\n",
              "      fill: #1967D2;\n",
              "      height: 32px;\n",
              "      padding: 0 0 0 0;\n",
              "      width: 32px;\n",
              "    }\n",
              "\n",
              "    .colab-df-convert:hover {\n",
              "      background-color: #E2EBFA;\n",
              "      box-shadow: 0px 1px 2px rgba(60, 64, 67, 0.3), 0px 1px 3px 1px rgba(60, 64, 67, 0.15);\n",
              "      fill: #174EA6;\n",
              "    }\n",
              "\n",
              "    [theme=dark] .colab-df-convert {\n",
              "      background-color: #3B4455;\n",
              "      fill: #D2E3FC;\n",
              "    }\n",
              "\n",
              "    [theme=dark] .colab-df-convert:hover {\n",
              "      background-color: #434B5C;\n",
              "      box-shadow: 0px 1px 3px 1px rgba(0, 0, 0, 0.15);\n",
              "      filter: drop-shadow(0px 1px 2px rgba(0, 0, 0, 0.3));\n",
              "      fill: #FFFFFF;\n",
              "    }\n",
              "  </style>\n",
              "\n",
              "      <script>\n",
              "        const buttonEl =\n",
              "          document.querySelector('#df-b6e35c29-0b58-4c39-aff2-6365f3137c06 button.colab-df-convert');\n",
              "        buttonEl.style.display =\n",
              "          google.colab.kernel.accessAllowed ? 'block' : 'none';\n",
              "\n",
              "        async function convertToInteractive(key) {\n",
              "          const element = document.querySelector('#df-b6e35c29-0b58-4c39-aff2-6365f3137c06');\n",
              "          const dataTable =\n",
              "            await google.colab.kernel.invokeFunction('convertToInteractive',\n",
              "                                                     [key], {});\n",
              "          if (!dataTable) return;\n",
              "\n",
              "          const docLinkHtml = 'Like what you see? Visit the ' +\n",
              "            '<a target=\"_blank\" href=https://colab.research.google.com/notebooks/data_table.ipynb>data table notebook</a>'\n",
              "            + ' to learn more about interactive tables.';\n",
              "          element.innerHTML = '';\n",
              "          dataTable['output_type'] = 'display_data';\n",
              "          await google.colab.output.renderOutput(dataTable, element);\n",
              "          const docLink = document.createElement('div');\n",
              "          docLink.innerHTML = docLinkHtml;\n",
              "          element.appendChild(docLink);\n",
              "        }\n",
              "      </script>\n",
              "    </div>\n",
              "  </div>\n",
              "  "
            ]
          },
          "metadata": {},
          "execution_count": 9
        }
      ],
      "source": [
        "calls.head(5)"
      ]
    },
    {
      "cell_type": "code",
      "execution_count": 10,
      "metadata": {
        "id": "108l3s8PGWMM"
      },
      "outputs": [],
      "source": [
        "calls['duration'] = np.ceil(calls['duration']).astype(int) #производим округление до целого числа в большую сторону / rounding number to the ceil"
      ]
    },
    {
      "cell_type": "code",
      "execution_count": 11,
      "metadata": {
        "id": "wFYyn8TnGWMM"
      },
      "outputs": [],
      "source": [
        "calls['id'] = calls['id'].astype(int) #изменяем тип значения / change type"
      ]
    },
    {
      "cell_type": "code",
      "execution_count": 12,
      "metadata": {
        "colab": {
          "base_uri": "https://localhost:8080/",
          "height": 206
        },
        "id": "u9LiGueWGWMN",
        "outputId": "42b78a13-2b77-4258-e0a4-9f9797d6b4f7"
      },
      "outputs": [
        {
          "output_type": "execute_result",
          "data": {
            "text/plain": [
              "      id  call_date  duration  user_id  month\n",
              "0  10000 2018-07-25         0     1000      7\n",
              "1  10001 2018-08-17         0     1000      8\n",
              "2  10002 2018-06-11         3     1000      6\n",
              "3  10003 2018-09-21        14     1000      9\n",
              "4  10004 2018-12-15         6     1000     12"
            ],
            "text/html": [
              "\n",
              "  <div id=\"df-4b992720-e240-409d-97c3-d68225cbe571\">\n",
              "    <div class=\"colab-df-container\">\n",
              "      <div>\n",
              "<style scoped>\n",
              "    .dataframe tbody tr th:only-of-type {\n",
              "        vertical-align: middle;\n",
              "    }\n",
              "\n",
              "    .dataframe tbody tr th {\n",
              "        vertical-align: top;\n",
              "    }\n",
              "\n",
              "    .dataframe thead th {\n",
              "        text-align: right;\n",
              "    }\n",
              "</style>\n",
              "<table border=\"1\" class=\"dataframe\">\n",
              "  <thead>\n",
              "    <tr style=\"text-align: right;\">\n",
              "      <th></th>\n",
              "      <th>id</th>\n",
              "      <th>call_date</th>\n",
              "      <th>duration</th>\n",
              "      <th>user_id</th>\n",
              "      <th>month</th>\n",
              "    </tr>\n",
              "  </thead>\n",
              "  <tbody>\n",
              "    <tr>\n",
              "      <th>0</th>\n",
              "      <td>10000</td>\n",
              "      <td>2018-07-25</td>\n",
              "      <td>0</td>\n",
              "      <td>1000</td>\n",
              "      <td>7</td>\n",
              "    </tr>\n",
              "    <tr>\n",
              "      <th>1</th>\n",
              "      <td>10001</td>\n",
              "      <td>2018-08-17</td>\n",
              "      <td>0</td>\n",
              "      <td>1000</td>\n",
              "      <td>8</td>\n",
              "    </tr>\n",
              "    <tr>\n",
              "      <th>2</th>\n",
              "      <td>10002</td>\n",
              "      <td>2018-06-11</td>\n",
              "      <td>3</td>\n",
              "      <td>1000</td>\n",
              "      <td>6</td>\n",
              "    </tr>\n",
              "    <tr>\n",
              "      <th>3</th>\n",
              "      <td>10003</td>\n",
              "      <td>2018-09-21</td>\n",
              "      <td>14</td>\n",
              "      <td>1000</td>\n",
              "      <td>9</td>\n",
              "    </tr>\n",
              "    <tr>\n",
              "      <th>4</th>\n",
              "      <td>10004</td>\n",
              "      <td>2018-12-15</td>\n",
              "      <td>6</td>\n",
              "      <td>1000</td>\n",
              "      <td>12</td>\n",
              "    </tr>\n",
              "  </tbody>\n",
              "</table>\n",
              "</div>\n",
              "      <button class=\"colab-df-convert\" onclick=\"convertToInteractive('df-4b992720-e240-409d-97c3-d68225cbe571')\"\n",
              "              title=\"Convert this dataframe to an interactive table.\"\n",
              "              style=\"display:none;\">\n",
              "        \n",
              "  <svg xmlns=\"http://www.w3.org/2000/svg\" height=\"24px\"viewBox=\"0 0 24 24\"\n",
              "       width=\"24px\">\n",
              "    <path d=\"M0 0h24v24H0V0z\" fill=\"none\"/>\n",
              "    <path d=\"M18.56 5.44l.94 2.06.94-2.06 2.06-.94-2.06-.94-.94-2.06-.94 2.06-2.06.94zm-11 1L8.5 8.5l.94-2.06 2.06-.94-2.06-.94L8.5 2.5l-.94 2.06-2.06.94zm10 10l.94 2.06.94-2.06 2.06-.94-2.06-.94-.94-2.06-.94 2.06-2.06.94z\"/><path d=\"M17.41 7.96l-1.37-1.37c-.4-.4-.92-.59-1.43-.59-.52 0-1.04.2-1.43.59L10.3 9.45l-7.72 7.72c-.78.78-.78 2.05 0 2.83L4 21.41c.39.39.9.59 1.41.59.51 0 1.02-.2 1.41-.59l7.78-7.78 2.81-2.81c.8-.78.8-2.07 0-2.86zM5.41 20L4 18.59l7.72-7.72 1.47 1.35L5.41 20z\"/>\n",
              "  </svg>\n",
              "      </button>\n",
              "      \n",
              "  <style>\n",
              "    .colab-df-container {\n",
              "      display:flex;\n",
              "      flex-wrap:wrap;\n",
              "      gap: 12px;\n",
              "    }\n",
              "\n",
              "    .colab-df-convert {\n",
              "      background-color: #E8F0FE;\n",
              "      border: none;\n",
              "      border-radius: 50%;\n",
              "      cursor: pointer;\n",
              "      display: none;\n",
              "      fill: #1967D2;\n",
              "      height: 32px;\n",
              "      padding: 0 0 0 0;\n",
              "      width: 32px;\n",
              "    }\n",
              "\n",
              "    .colab-df-convert:hover {\n",
              "      background-color: #E2EBFA;\n",
              "      box-shadow: 0px 1px 2px rgba(60, 64, 67, 0.3), 0px 1px 3px 1px rgba(60, 64, 67, 0.15);\n",
              "      fill: #174EA6;\n",
              "    }\n",
              "\n",
              "    [theme=dark] .colab-df-convert {\n",
              "      background-color: #3B4455;\n",
              "      fill: #D2E3FC;\n",
              "    }\n",
              "\n",
              "    [theme=dark] .colab-df-convert:hover {\n",
              "      background-color: #434B5C;\n",
              "      box-shadow: 0px 1px 3px 1px rgba(0, 0, 0, 0.15);\n",
              "      filter: drop-shadow(0px 1px 2px rgba(0, 0, 0, 0.3));\n",
              "      fill: #FFFFFF;\n",
              "    }\n",
              "  </style>\n",
              "\n",
              "      <script>\n",
              "        const buttonEl =\n",
              "          document.querySelector('#df-4b992720-e240-409d-97c3-d68225cbe571 button.colab-df-convert');\n",
              "        buttonEl.style.display =\n",
              "          google.colab.kernel.accessAllowed ? 'block' : 'none';\n",
              "\n",
              "        async function convertToInteractive(key) {\n",
              "          const element = document.querySelector('#df-4b992720-e240-409d-97c3-d68225cbe571');\n",
              "          const dataTable =\n",
              "            await google.colab.kernel.invokeFunction('convertToInteractive',\n",
              "                                                     [key], {});\n",
              "          if (!dataTable) return;\n",
              "\n",
              "          const docLinkHtml = 'Like what you see? Visit the ' +\n",
              "            '<a target=\"_blank\" href=https://colab.research.google.com/notebooks/data_table.ipynb>data table notebook</a>'\n",
              "            + ' to learn more about interactive tables.';\n",
              "          element.innerHTML = '';\n",
              "          dataTable['output_type'] = 'display_data';\n",
              "          await google.colab.output.renderOutput(dataTable, element);\n",
              "          const docLink = document.createElement('div');\n",
              "          docLink.innerHTML = docLinkHtml;\n",
              "          element.appendChild(docLink);\n",
              "        }\n",
              "      </script>\n",
              "    </div>\n",
              "  </div>\n",
              "  "
            ]
          },
          "metadata": {},
          "execution_count": 12
        }
      ],
      "source": [
        "calls.head(5)"
      ]
    },
    {
      "cell_type": "code",
      "execution_count": 13,
      "metadata": {
        "scrolled": false,
        "colab": {
          "base_uri": "https://localhost:8080/"
        },
        "id": "C9JC3TH3GWMN",
        "outputId": "ffcc9f9c-e6ad-48b7-8956-b62f5127cb72"
      },
      "outputs": [
        {
          "output_type": "stream",
          "name": "stdout",
          "text": [
            "<class 'pandas.core.frame.DataFrame'>\n",
            "RangeIndex: 202607 entries, 0 to 202606\n",
            "Data columns (total 5 columns):\n",
            " #   Column     Non-Null Count   Dtype         \n",
            "---  ------     --------------   -----         \n",
            " 0   id         202607 non-null  int64         \n",
            " 1   call_date  202607 non-null  datetime64[ns]\n",
            " 2   duration   202607 non-null  int64         \n",
            " 3   user_id    202607 non-null  int64         \n",
            " 4   month      202607 non-null  int64         \n",
            "dtypes: datetime64[ns](1), int64(4)\n",
            "memory usage: 7.7 MB\n"
          ]
        }
      ],
      "source": [
        "calls.info() "
      ]
    },
    {
      "cell_type": "code",
      "execution_count": 14,
      "metadata": {
        "colab": {
          "base_uri": "https://localhost:8080/",
          "height": 206
        },
        "id": "suFb7vZdGWMO",
        "outputId": "9a4938b5-94c0-4309-a6f3-f57631fe0de4"
      },
      "outputs": [
        {
          "output_type": "execute_result",
          "data": {
            "text/plain": [
              "   Unnamed: 0      id  mb_used session_date  user_id\n",
              "0           0  1000_0   112.95   2018-11-25     1000\n",
              "1           1  1000_1  1052.81   2018-09-07     1000\n",
              "2           2  1000_2  1197.26   2018-06-25     1000\n",
              "3           3  1000_3   550.27   2018-08-22     1000\n",
              "4           4  1000_4   302.56   2018-09-24     1000"
            ],
            "text/html": [
              "\n",
              "  <div id=\"df-c02c1263-d84f-42f1-9382-99e4d5dd3eb4\">\n",
              "    <div class=\"colab-df-container\">\n",
              "      <div>\n",
              "<style scoped>\n",
              "    .dataframe tbody tr th:only-of-type {\n",
              "        vertical-align: middle;\n",
              "    }\n",
              "\n",
              "    .dataframe tbody tr th {\n",
              "        vertical-align: top;\n",
              "    }\n",
              "\n",
              "    .dataframe thead th {\n",
              "        text-align: right;\n",
              "    }\n",
              "</style>\n",
              "<table border=\"1\" class=\"dataframe\">\n",
              "  <thead>\n",
              "    <tr style=\"text-align: right;\">\n",
              "      <th></th>\n",
              "      <th>Unnamed: 0</th>\n",
              "      <th>id</th>\n",
              "      <th>mb_used</th>\n",
              "      <th>session_date</th>\n",
              "      <th>user_id</th>\n",
              "    </tr>\n",
              "  </thead>\n",
              "  <tbody>\n",
              "    <tr>\n",
              "      <th>0</th>\n",
              "      <td>0</td>\n",
              "      <td>1000_0</td>\n",
              "      <td>112.95</td>\n",
              "      <td>2018-11-25</td>\n",
              "      <td>1000</td>\n",
              "    </tr>\n",
              "    <tr>\n",
              "      <th>1</th>\n",
              "      <td>1</td>\n",
              "      <td>1000_1</td>\n",
              "      <td>1052.81</td>\n",
              "      <td>2018-09-07</td>\n",
              "      <td>1000</td>\n",
              "    </tr>\n",
              "    <tr>\n",
              "      <th>2</th>\n",
              "      <td>2</td>\n",
              "      <td>1000_2</td>\n",
              "      <td>1197.26</td>\n",
              "      <td>2018-06-25</td>\n",
              "      <td>1000</td>\n",
              "    </tr>\n",
              "    <tr>\n",
              "      <th>3</th>\n",
              "      <td>3</td>\n",
              "      <td>1000_3</td>\n",
              "      <td>550.27</td>\n",
              "      <td>2018-08-22</td>\n",
              "      <td>1000</td>\n",
              "    </tr>\n",
              "    <tr>\n",
              "      <th>4</th>\n",
              "      <td>4</td>\n",
              "      <td>1000_4</td>\n",
              "      <td>302.56</td>\n",
              "      <td>2018-09-24</td>\n",
              "      <td>1000</td>\n",
              "    </tr>\n",
              "  </tbody>\n",
              "</table>\n",
              "</div>\n",
              "      <button class=\"colab-df-convert\" onclick=\"convertToInteractive('df-c02c1263-d84f-42f1-9382-99e4d5dd3eb4')\"\n",
              "              title=\"Convert this dataframe to an interactive table.\"\n",
              "              style=\"display:none;\">\n",
              "        \n",
              "  <svg xmlns=\"http://www.w3.org/2000/svg\" height=\"24px\"viewBox=\"0 0 24 24\"\n",
              "       width=\"24px\">\n",
              "    <path d=\"M0 0h24v24H0V0z\" fill=\"none\"/>\n",
              "    <path d=\"M18.56 5.44l.94 2.06.94-2.06 2.06-.94-2.06-.94-.94-2.06-.94 2.06-2.06.94zm-11 1L8.5 8.5l.94-2.06 2.06-.94-2.06-.94L8.5 2.5l-.94 2.06-2.06.94zm10 10l.94 2.06.94-2.06 2.06-.94-2.06-.94-.94-2.06-.94 2.06-2.06.94z\"/><path d=\"M17.41 7.96l-1.37-1.37c-.4-.4-.92-.59-1.43-.59-.52 0-1.04.2-1.43.59L10.3 9.45l-7.72 7.72c-.78.78-.78 2.05 0 2.83L4 21.41c.39.39.9.59 1.41.59.51 0 1.02-.2 1.41-.59l7.78-7.78 2.81-2.81c.8-.78.8-2.07 0-2.86zM5.41 20L4 18.59l7.72-7.72 1.47 1.35L5.41 20z\"/>\n",
              "  </svg>\n",
              "      </button>\n",
              "      \n",
              "  <style>\n",
              "    .colab-df-container {\n",
              "      display:flex;\n",
              "      flex-wrap:wrap;\n",
              "      gap: 12px;\n",
              "    }\n",
              "\n",
              "    .colab-df-convert {\n",
              "      background-color: #E8F0FE;\n",
              "      border: none;\n",
              "      border-radius: 50%;\n",
              "      cursor: pointer;\n",
              "      display: none;\n",
              "      fill: #1967D2;\n",
              "      height: 32px;\n",
              "      padding: 0 0 0 0;\n",
              "      width: 32px;\n",
              "    }\n",
              "\n",
              "    .colab-df-convert:hover {\n",
              "      background-color: #E2EBFA;\n",
              "      box-shadow: 0px 1px 2px rgba(60, 64, 67, 0.3), 0px 1px 3px 1px rgba(60, 64, 67, 0.15);\n",
              "      fill: #174EA6;\n",
              "    }\n",
              "\n",
              "    [theme=dark] .colab-df-convert {\n",
              "      background-color: #3B4455;\n",
              "      fill: #D2E3FC;\n",
              "    }\n",
              "\n",
              "    [theme=dark] .colab-df-convert:hover {\n",
              "      background-color: #434B5C;\n",
              "      box-shadow: 0px 1px 3px 1px rgba(0, 0, 0, 0.15);\n",
              "      filter: drop-shadow(0px 1px 2px rgba(0, 0, 0, 0.3));\n",
              "      fill: #FFFFFF;\n",
              "    }\n",
              "  </style>\n",
              "\n",
              "      <script>\n",
              "        const buttonEl =\n",
              "          document.querySelector('#df-c02c1263-d84f-42f1-9382-99e4d5dd3eb4 button.colab-df-convert');\n",
              "        buttonEl.style.display =\n",
              "          google.colab.kernel.accessAllowed ? 'block' : 'none';\n",
              "\n",
              "        async function convertToInteractive(key) {\n",
              "          const element = document.querySelector('#df-c02c1263-d84f-42f1-9382-99e4d5dd3eb4');\n",
              "          const dataTable =\n",
              "            await google.colab.kernel.invokeFunction('convertToInteractive',\n",
              "                                                     [key], {});\n",
              "          if (!dataTable) return;\n",
              "\n",
              "          const docLinkHtml = 'Like what you see? Visit the ' +\n",
              "            '<a target=\"_blank\" href=https://colab.research.google.com/notebooks/data_table.ipynb>data table notebook</a>'\n",
              "            + ' to learn more about interactive tables.';\n",
              "          element.innerHTML = '';\n",
              "          dataTable['output_type'] = 'display_data';\n",
              "          await google.colab.output.renderOutput(dataTable, element);\n",
              "          const docLink = document.createElement('div');\n",
              "          docLink.innerHTML = docLinkHtml;\n",
              "          element.appendChild(docLink);\n",
              "        }\n",
              "      </script>\n",
              "    </div>\n",
              "  </div>\n",
              "  "
            ]
          },
          "metadata": {},
          "execution_count": 14
        }
      ],
      "source": [
        "internet.head(5)"
      ]
    },
    {
      "cell_type": "code",
      "execution_count": 15,
      "metadata": {
        "scrolled": false,
        "colab": {
          "base_uri": "https://localhost:8080/"
        },
        "id": "EO_Tm4dmGWMP",
        "outputId": "11d757bc-2e38-4fdd-804a-a1a3b97d3ff9"
      },
      "outputs": [
        {
          "output_type": "stream",
          "name": "stdout",
          "text": [
            "<class 'pandas.core.frame.DataFrame'>\n",
            "RangeIndex: 149396 entries, 0 to 149395\n",
            "Data columns (total 5 columns):\n",
            " #   Column        Non-Null Count   Dtype  \n",
            "---  ------        --------------   -----  \n",
            " 0   Unnamed: 0    149396 non-null  int64  \n",
            " 1   id            149396 non-null  object \n",
            " 2   mb_used       149396 non-null  float64\n",
            " 3   session_date  149396 non-null  object \n",
            " 4   user_id       149396 non-null  int64  \n",
            "dtypes: float64(1), int64(2), object(2)\n",
            "memory usage: 5.7+ MB\n"
          ]
        }
      ],
      "source": [
        "internet.info() "
      ]
    },
    {
      "cell_type": "code",
      "execution_count": 16,
      "metadata": {
        "colab": {
          "base_uri": "https://localhost:8080/"
        },
        "id": "sbdPyQwTGWMP",
        "outputId": "0b3b5b0b-47b6-4aee-d941-4ce58ecf5427"
      },
      "outputs": [
        {
          "output_type": "stream",
          "name": "stderr",
          "text": [
            "/usr/local/lib/python3.7/dist-packages/ipykernel_launcher.py:1: FutureWarning: In a future version of pandas all arguments of DataFrame.drop except for the argument 'labels' will be keyword-only\n",
            "  \"\"\"Entry point for launching an IPython kernel.\n"
          ]
        }
      ],
      "source": [
        "internet = internet.drop('Unnamed: 0', 1) #удаляем лишний столбец / drop a useless column"
      ]
    },
    {
      "cell_type": "code",
      "execution_count": 17,
      "metadata": {
        "scrolled": false,
        "colab": {
          "base_uri": "https://localhost:8080/"
        },
        "id": "UMh5okEWGWMQ",
        "outputId": "b68add07-96aa-4223-fc6e-7d0e4be4417c"
      },
      "outputs": [
        {
          "output_type": "stream",
          "name": "stdout",
          "text": [
            "<class 'pandas.core.frame.DataFrame'>\n",
            "RangeIndex: 149396 entries, 0 to 149395\n",
            "Data columns (total 4 columns):\n",
            " #   Column        Non-Null Count   Dtype  \n",
            "---  ------        --------------   -----  \n",
            " 0   id            149396 non-null  object \n",
            " 1   mb_used       149396 non-null  float64\n",
            " 2   session_date  149396 non-null  object \n",
            " 3   user_id       149396 non-null  int64  \n",
            "dtypes: float64(1), int64(1), object(2)\n",
            "memory usage: 4.6+ MB\n"
          ]
        }
      ],
      "source": [
        "internet.info()"
      ]
    },
    {
      "cell_type": "code",
      "execution_count": 18,
      "metadata": {
        "id": "p9lSS15kGWMQ"
      },
      "outputs": [],
      "source": [
        "internet['session_date'] = internet['session_date'].apply(pd.to_datetime) #приводим значения к формату дат / change format to datetime"
      ]
    },
    {
      "cell_type": "code",
      "execution_count": 19,
      "metadata": {
        "colab": {
          "base_uri": "https://localhost:8080/",
          "height": 206
        },
        "id": "DEs4b63jGWMQ",
        "outputId": "0d1bc514-3986-40ad-a2b3-36cf3dc3cf40"
      },
      "outputs": [
        {
          "output_type": "execute_result",
          "data": {
            "text/plain": [
              "       id  mb_used session_date  user_id\n",
              "0  1000_0   112.95   2018-11-25     1000\n",
              "1  1000_1  1052.81   2018-09-07     1000\n",
              "2  1000_2  1197.26   2018-06-25     1000\n",
              "3  1000_3   550.27   2018-08-22     1000\n",
              "4  1000_4   302.56   2018-09-24     1000"
            ],
            "text/html": [
              "\n",
              "  <div id=\"df-3dd0460d-34b8-44ea-ba13-d6fb61d006b7\">\n",
              "    <div class=\"colab-df-container\">\n",
              "      <div>\n",
              "<style scoped>\n",
              "    .dataframe tbody tr th:only-of-type {\n",
              "        vertical-align: middle;\n",
              "    }\n",
              "\n",
              "    .dataframe tbody tr th {\n",
              "        vertical-align: top;\n",
              "    }\n",
              "\n",
              "    .dataframe thead th {\n",
              "        text-align: right;\n",
              "    }\n",
              "</style>\n",
              "<table border=\"1\" class=\"dataframe\">\n",
              "  <thead>\n",
              "    <tr style=\"text-align: right;\">\n",
              "      <th></th>\n",
              "      <th>id</th>\n",
              "      <th>mb_used</th>\n",
              "      <th>session_date</th>\n",
              "      <th>user_id</th>\n",
              "    </tr>\n",
              "  </thead>\n",
              "  <tbody>\n",
              "    <tr>\n",
              "      <th>0</th>\n",
              "      <td>1000_0</td>\n",
              "      <td>112.95</td>\n",
              "      <td>2018-11-25</td>\n",
              "      <td>1000</td>\n",
              "    </tr>\n",
              "    <tr>\n",
              "      <th>1</th>\n",
              "      <td>1000_1</td>\n",
              "      <td>1052.81</td>\n",
              "      <td>2018-09-07</td>\n",
              "      <td>1000</td>\n",
              "    </tr>\n",
              "    <tr>\n",
              "      <th>2</th>\n",
              "      <td>1000_2</td>\n",
              "      <td>1197.26</td>\n",
              "      <td>2018-06-25</td>\n",
              "      <td>1000</td>\n",
              "    </tr>\n",
              "    <tr>\n",
              "      <th>3</th>\n",
              "      <td>1000_3</td>\n",
              "      <td>550.27</td>\n",
              "      <td>2018-08-22</td>\n",
              "      <td>1000</td>\n",
              "    </tr>\n",
              "    <tr>\n",
              "      <th>4</th>\n",
              "      <td>1000_4</td>\n",
              "      <td>302.56</td>\n",
              "      <td>2018-09-24</td>\n",
              "      <td>1000</td>\n",
              "    </tr>\n",
              "  </tbody>\n",
              "</table>\n",
              "</div>\n",
              "      <button class=\"colab-df-convert\" onclick=\"convertToInteractive('df-3dd0460d-34b8-44ea-ba13-d6fb61d006b7')\"\n",
              "              title=\"Convert this dataframe to an interactive table.\"\n",
              "              style=\"display:none;\">\n",
              "        \n",
              "  <svg xmlns=\"http://www.w3.org/2000/svg\" height=\"24px\"viewBox=\"0 0 24 24\"\n",
              "       width=\"24px\">\n",
              "    <path d=\"M0 0h24v24H0V0z\" fill=\"none\"/>\n",
              "    <path d=\"M18.56 5.44l.94 2.06.94-2.06 2.06-.94-2.06-.94-.94-2.06-.94 2.06-2.06.94zm-11 1L8.5 8.5l.94-2.06 2.06-.94-2.06-.94L8.5 2.5l-.94 2.06-2.06.94zm10 10l.94 2.06.94-2.06 2.06-.94-2.06-.94-.94-2.06-.94 2.06-2.06.94z\"/><path d=\"M17.41 7.96l-1.37-1.37c-.4-.4-.92-.59-1.43-.59-.52 0-1.04.2-1.43.59L10.3 9.45l-7.72 7.72c-.78.78-.78 2.05 0 2.83L4 21.41c.39.39.9.59 1.41.59.51 0 1.02-.2 1.41-.59l7.78-7.78 2.81-2.81c.8-.78.8-2.07 0-2.86zM5.41 20L4 18.59l7.72-7.72 1.47 1.35L5.41 20z\"/>\n",
              "  </svg>\n",
              "      </button>\n",
              "      \n",
              "  <style>\n",
              "    .colab-df-container {\n",
              "      display:flex;\n",
              "      flex-wrap:wrap;\n",
              "      gap: 12px;\n",
              "    }\n",
              "\n",
              "    .colab-df-convert {\n",
              "      background-color: #E8F0FE;\n",
              "      border: none;\n",
              "      border-radius: 50%;\n",
              "      cursor: pointer;\n",
              "      display: none;\n",
              "      fill: #1967D2;\n",
              "      height: 32px;\n",
              "      padding: 0 0 0 0;\n",
              "      width: 32px;\n",
              "    }\n",
              "\n",
              "    .colab-df-convert:hover {\n",
              "      background-color: #E2EBFA;\n",
              "      box-shadow: 0px 1px 2px rgba(60, 64, 67, 0.3), 0px 1px 3px 1px rgba(60, 64, 67, 0.15);\n",
              "      fill: #174EA6;\n",
              "    }\n",
              "\n",
              "    [theme=dark] .colab-df-convert {\n",
              "      background-color: #3B4455;\n",
              "      fill: #D2E3FC;\n",
              "    }\n",
              "\n",
              "    [theme=dark] .colab-df-convert:hover {\n",
              "      background-color: #434B5C;\n",
              "      box-shadow: 0px 1px 3px 1px rgba(0, 0, 0, 0.15);\n",
              "      filter: drop-shadow(0px 1px 2px rgba(0, 0, 0, 0.3));\n",
              "      fill: #FFFFFF;\n",
              "    }\n",
              "  </style>\n",
              "\n",
              "      <script>\n",
              "        const buttonEl =\n",
              "          document.querySelector('#df-3dd0460d-34b8-44ea-ba13-d6fb61d006b7 button.colab-df-convert');\n",
              "        buttonEl.style.display =\n",
              "          google.colab.kernel.accessAllowed ? 'block' : 'none';\n",
              "\n",
              "        async function convertToInteractive(key) {\n",
              "          const element = document.querySelector('#df-3dd0460d-34b8-44ea-ba13-d6fb61d006b7');\n",
              "          const dataTable =\n",
              "            await google.colab.kernel.invokeFunction('convertToInteractive',\n",
              "                                                     [key], {});\n",
              "          if (!dataTable) return;\n",
              "\n",
              "          const docLinkHtml = 'Like what you see? Visit the ' +\n",
              "            '<a target=\"_blank\" href=https://colab.research.google.com/notebooks/data_table.ipynb>data table notebook</a>'\n",
              "            + ' to learn more about interactive tables.';\n",
              "          element.innerHTML = '';\n",
              "          dataTable['output_type'] = 'display_data';\n",
              "          await google.colab.output.renderOutput(dataTable, element);\n",
              "          const docLink = document.createElement('div');\n",
              "          docLink.innerHTML = docLinkHtml;\n",
              "          element.appendChild(docLink);\n",
              "        }\n",
              "      </script>\n",
              "    </div>\n",
              "  </div>\n",
              "  "
            ]
          },
          "metadata": {},
          "execution_count": 19
        }
      ],
      "source": [
        "internet.head(5)"
      ]
    },
    {
      "cell_type": "code",
      "execution_count": 20,
      "metadata": {
        "id": "bao42aDBGWMR"
      },
      "outputs": [],
      "source": [
        "internet['month'] = internet['session_date'].dt.month # добавляем столбец с номером месяца / add a column with nubmer of the month"
      ]
    },
    {
      "cell_type": "code",
      "execution_count": 21,
      "metadata": {
        "colab": {
          "base_uri": "https://localhost:8080/",
          "height": 206
        },
        "id": "31GsHiLFGWMR",
        "outputId": "cb57d1ad-ed30-47a9-ce12-4c24ead8286a"
      },
      "outputs": [
        {
          "output_type": "execute_result",
          "data": {
            "text/plain": [
              "       id  mb_used session_date  user_id  month\n",
              "0  1000_0   112.95   2018-11-25     1000     11\n",
              "1  1000_1  1052.81   2018-09-07     1000      9\n",
              "2  1000_2  1197.26   2018-06-25     1000      6\n",
              "3  1000_3   550.27   2018-08-22     1000      8\n",
              "4  1000_4   302.56   2018-09-24     1000      9"
            ],
            "text/html": [
              "\n",
              "  <div id=\"df-f3bc3ff2-2cd0-44f4-b635-6df78449ef0f\">\n",
              "    <div class=\"colab-df-container\">\n",
              "      <div>\n",
              "<style scoped>\n",
              "    .dataframe tbody tr th:only-of-type {\n",
              "        vertical-align: middle;\n",
              "    }\n",
              "\n",
              "    .dataframe tbody tr th {\n",
              "        vertical-align: top;\n",
              "    }\n",
              "\n",
              "    .dataframe thead th {\n",
              "        text-align: right;\n",
              "    }\n",
              "</style>\n",
              "<table border=\"1\" class=\"dataframe\">\n",
              "  <thead>\n",
              "    <tr style=\"text-align: right;\">\n",
              "      <th></th>\n",
              "      <th>id</th>\n",
              "      <th>mb_used</th>\n",
              "      <th>session_date</th>\n",
              "      <th>user_id</th>\n",
              "      <th>month</th>\n",
              "    </tr>\n",
              "  </thead>\n",
              "  <tbody>\n",
              "    <tr>\n",
              "      <th>0</th>\n",
              "      <td>1000_0</td>\n",
              "      <td>112.95</td>\n",
              "      <td>2018-11-25</td>\n",
              "      <td>1000</td>\n",
              "      <td>11</td>\n",
              "    </tr>\n",
              "    <tr>\n",
              "      <th>1</th>\n",
              "      <td>1000_1</td>\n",
              "      <td>1052.81</td>\n",
              "      <td>2018-09-07</td>\n",
              "      <td>1000</td>\n",
              "      <td>9</td>\n",
              "    </tr>\n",
              "    <tr>\n",
              "      <th>2</th>\n",
              "      <td>1000_2</td>\n",
              "      <td>1197.26</td>\n",
              "      <td>2018-06-25</td>\n",
              "      <td>1000</td>\n",
              "      <td>6</td>\n",
              "    </tr>\n",
              "    <tr>\n",
              "      <th>3</th>\n",
              "      <td>1000_3</td>\n",
              "      <td>550.27</td>\n",
              "      <td>2018-08-22</td>\n",
              "      <td>1000</td>\n",
              "      <td>8</td>\n",
              "    </tr>\n",
              "    <tr>\n",
              "      <th>4</th>\n",
              "      <td>1000_4</td>\n",
              "      <td>302.56</td>\n",
              "      <td>2018-09-24</td>\n",
              "      <td>1000</td>\n",
              "      <td>9</td>\n",
              "    </tr>\n",
              "  </tbody>\n",
              "</table>\n",
              "</div>\n",
              "      <button class=\"colab-df-convert\" onclick=\"convertToInteractive('df-f3bc3ff2-2cd0-44f4-b635-6df78449ef0f')\"\n",
              "              title=\"Convert this dataframe to an interactive table.\"\n",
              "              style=\"display:none;\">\n",
              "        \n",
              "  <svg xmlns=\"http://www.w3.org/2000/svg\" height=\"24px\"viewBox=\"0 0 24 24\"\n",
              "       width=\"24px\">\n",
              "    <path d=\"M0 0h24v24H0V0z\" fill=\"none\"/>\n",
              "    <path d=\"M18.56 5.44l.94 2.06.94-2.06 2.06-.94-2.06-.94-.94-2.06-.94 2.06-2.06.94zm-11 1L8.5 8.5l.94-2.06 2.06-.94-2.06-.94L8.5 2.5l-.94 2.06-2.06.94zm10 10l.94 2.06.94-2.06 2.06-.94-2.06-.94-.94-2.06-.94 2.06-2.06.94z\"/><path d=\"M17.41 7.96l-1.37-1.37c-.4-.4-.92-.59-1.43-.59-.52 0-1.04.2-1.43.59L10.3 9.45l-7.72 7.72c-.78.78-.78 2.05 0 2.83L4 21.41c.39.39.9.59 1.41.59.51 0 1.02-.2 1.41-.59l7.78-7.78 2.81-2.81c.8-.78.8-2.07 0-2.86zM5.41 20L4 18.59l7.72-7.72 1.47 1.35L5.41 20z\"/>\n",
              "  </svg>\n",
              "      </button>\n",
              "      \n",
              "  <style>\n",
              "    .colab-df-container {\n",
              "      display:flex;\n",
              "      flex-wrap:wrap;\n",
              "      gap: 12px;\n",
              "    }\n",
              "\n",
              "    .colab-df-convert {\n",
              "      background-color: #E8F0FE;\n",
              "      border: none;\n",
              "      border-radius: 50%;\n",
              "      cursor: pointer;\n",
              "      display: none;\n",
              "      fill: #1967D2;\n",
              "      height: 32px;\n",
              "      padding: 0 0 0 0;\n",
              "      width: 32px;\n",
              "    }\n",
              "\n",
              "    .colab-df-convert:hover {\n",
              "      background-color: #E2EBFA;\n",
              "      box-shadow: 0px 1px 2px rgba(60, 64, 67, 0.3), 0px 1px 3px 1px rgba(60, 64, 67, 0.15);\n",
              "      fill: #174EA6;\n",
              "    }\n",
              "\n",
              "    [theme=dark] .colab-df-convert {\n",
              "      background-color: #3B4455;\n",
              "      fill: #D2E3FC;\n",
              "    }\n",
              "\n",
              "    [theme=dark] .colab-df-convert:hover {\n",
              "      background-color: #434B5C;\n",
              "      box-shadow: 0px 1px 3px 1px rgba(0, 0, 0, 0.15);\n",
              "      filter: drop-shadow(0px 1px 2px rgba(0, 0, 0, 0.3));\n",
              "      fill: #FFFFFF;\n",
              "    }\n",
              "  </style>\n",
              "\n",
              "      <script>\n",
              "        const buttonEl =\n",
              "          document.querySelector('#df-f3bc3ff2-2cd0-44f4-b635-6df78449ef0f button.colab-df-convert');\n",
              "        buttonEl.style.display =\n",
              "          google.colab.kernel.accessAllowed ? 'block' : 'none';\n",
              "\n",
              "        async function convertToInteractive(key) {\n",
              "          const element = document.querySelector('#df-f3bc3ff2-2cd0-44f4-b635-6df78449ef0f');\n",
              "          const dataTable =\n",
              "            await google.colab.kernel.invokeFunction('convertToInteractive',\n",
              "                                                     [key], {});\n",
              "          if (!dataTable) return;\n",
              "\n",
              "          const docLinkHtml = 'Like what you see? Visit the ' +\n",
              "            '<a target=\"_blank\" href=https://colab.research.google.com/notebooks/data_table.ipynb>data table notebook</a>'\n",
              "            + ' to learn more about interactive tables.';\n",
              "          element.innerHTML = '';\n",
              "          dataTable['output_type'] = 'display_data';\n",
              "          await google.colab.output.renderOutput(dataTable, element);\n",
              "          const docLink = document.createElement('div');\n",
              "          docLink.innerHTML = docLinkHtml;\n",
              "          element.appendChild(docLink);\n",
              "        }\n",
              "      </script>\n",
              "    </div>\n",
              "  </div>\n",
              "  "
            ]
          },
          "metadata": {},
          "execution_count": 21
        }
      ],
      "source": [
        "internet.head(5)"
      ]
    },
    {
      "cell_type": "code",
      "execution_count": 22,
      "metadata": {
        "colab": {
          "base_uri": "https://localhost:8080/",
          "height": 112
        },
        "id": "_PhrT55IGWMR",
        "outputId": "38fbd9b6-9563-45e8-8b32-e22733760a39"
      },
      "outputs": [
        {
          "output_type": "execute_result",
          "data": {
            "text/plain": [
              "   messages_included  mb_per_month_included  minutes_included  \\\n",
              "0                 50                  15360               500   \n",
              "1               1000                  30720              3000   \n",
              "\n",
              "   rub_monthly_fee  rub_per_gb  rub_per_message  rub_per_minute tariff_name  \n",
              "0              550         200                3               3       smart  \n",
              "1             1950         150                1               1       ultra  "
            ],
            "text/html": [
              "\n",
              "  <div id=\"df-c5d20d52-c18e-4248-8fb1-288588a35afb\">\n",
              "    <div class=\"colab-df-container\">\n",
              "      <div>\n",
              "<style scoped>\n",
              "    .dataframe tbody tr th:only-of-type {\n",
              "        vertical-align: middle;\n",
              "    }\n",
              "\n",
              "    .dataframe tbody tr th {\n",
              "        vertical-align: top;\n",
              "    }\n",
              "\n",
              "    .dataframe thead th {\n",
              "        text-align: right;\n",
              "    }\n",
              "</style>\n",
              "<table border=\"1\" class=\"dataframe\">\n",
              "  <thead>\n",
              "    <tr style=\"text-align: right;\">\n",
              "      <th></th>\n",
              "      <th>messages_included</th>\n",
              "      <th>mb_per_month_included</th>\n",
              "      <th>minutes_included</th>\n",
              "      <th>rub_monthly_fee</th>\n",
              "      <th>rub_per_gb</th>\n",
              "      <th>rub_per_message</th>\n",
              "      <th>rub_per_minute</th>\n",
              "      <th>tariff_name</th>\n",
              "    </tr>\n",
              "  </thead>\n",
              "  <tbody>\n",
              "    <tr>\n",
              "      <th>0</th>\n",
              "      <td>50</td>\n",
              "      <td>15360</td>\n",
              "      <td>500</td>\n",
              "      <td>550</td>\n",
              "      <td>200</td>\n",
              "      <td>3</td>\n",
              "      <td>3</td>\n",
              "      <td>smart</td>\n",
              "    </tr>\n",
              "    <tr>\n",
              "      <th>1</th>\n",
              "      <td>1000</td>\n",
              "      <td>30720</td>\n",
              "      <td>3000</td>\n",
              "      <td>1950</td>\n",
              "      <td>150</td>\n",
              "      <td>1</td>\n",
              "      <td>1</td>\n",
              "      <td>ultra</td>\n",
              "    </tr>\n",
              "  </tbody>\n",
              "</table>\n",
              "</div>\n",
              "      <button class=\"colab-df-convert\" onclick=\"convertToInteractive('df-c5d20d52-c18e-4248-8fb1-288588a35afb')\"\n",
              "              title=\"Convert this dataframe to an interactive table.\"\n",
              "              style=\"display:none;\">\n",
              "        \n",
              "  <svg xmlns=\"http://www.w3.org/2000/svg\" height=\"24px\"viewBox=\"0 0 24 24\"\n",
              "       width=\"24px\">\n",
              "    <path d=\"M0 0h24v24H0V0z\" fill=\"none\"/>\n",
              "    <path d=\"M18.56 5.44l.94 2.06.94-2.06 2.06-.94-2.06-.94-.94-2.06-.94 2.06-2.06.94zm-11 1L8.5 8.5l.94-2.06 2.06-.94-2.06-.94L8.5 2.5l-.94 2.06-2.06.94zm10 10l.94 2.06.94-2.06 2.06-.94-2.06-.94-.94-2.06-.94 2.06-2.06.94z\"/><path d=\"M17.41 7.96l-1.37-1.37c-.4-.4-.92-.59-1.43-.59-.52 0-1.04.2-1.43.59L10.3 9.45l-7.72 7.72c-.78.78-.78 2.05 0 2.83L4 21.41c.39.39.9.59 1.41.59.51 0 1.02-.2 1.41-.59l7.78-7.78 2.81-2.81c.8-.78.8-2.07 0-2.86zM5.41 20L4 18.59l7.72-7.72 1.47 1.35L5.41 20z\"/>\n",
              "  </svg>\n",
              "      </button>\n",
              "      \n",
              "  <style>\n",
              "    .colab-df-container {\n",
              "      display:flex;\n",
              "      flex-wrap:wrap;\n",
              "      gap: 12px;\n",
              "    }\n",
              "\n",
              "    .colab-df-convert {\n",
              "      background-color: #E8F0FE;\n",
              "      border: none;\n",
              "      border-radius: 50%;\n",
              "      cursor: pointer;\n",
              "      display: none;\n",
              "      fill: #1967D2;\n",
              "      height: 32px;\n",
              "      padding: 0 0 0 0;\n",
              "      width: 32px;\n",
              "    }\n",
              "\n",
              "    .colab-df-convert:hover {\n",
              "      background-color: #E2EBFA;\n",
              "      box-shadow: 0px 1px 2px rgba(60, 64, 67, 0.3), 0px 1px 3px 1px rgba(60, 64, 67, 0.15);\n",
              "      fill: #174EA6;\n",
              "    }\n",
              "\n",
              "    [theme=dark] .colab-df-convert {\n",
              "      background-color: #3B4455;\n",
              "      fill: #D2E3FC;\n",
              "    }\n",
              "\n",
              "    [theme=dark] .colab-df-convert:hover {\n",
              "      background-color: #434B5C;\n",
              "      box-shadow: 0px 1px 3px 1px rgba(0, 0, 0, 0.15);\n",
              "      filter: drop-shadow(0px 1px 2px rgba(0, 0, 0, 0.3));\n",
              "      fill: #FFFFFF;\n",
              "    }\n",
              "  </style>\n",
              "\n",
              "      <script>\n",
              "        const buttonEl =\n",
              "          document.querySelector('#df-c5d20d52-c18e-4248-8fb1-288588a35afb button.colab-df-convert');\n",
              "        buttonEl.style.display =\n",
              "          google.colab.kernel.accessAllowed ? 'block' : 'none';\n",
              "\n",
              "        async function convertToInteractive(key) {\n",
              "          const element = document.querySelector('#df-c5d20d52-c18e-4248-8fb1-288588a35afb');\n",
              "          const dataTable =\n",
              "            await google.colab.kernel.invokeFunction('convertToInteractive',\n",
              "                                                     [key], {});\n",
              "          if (!dataTable) return;\n",
              "\n",
              "          const docLinkHtml = 'Like what you see? Visit the ' +\n",
              "            '<a target=\"_blank\" href=https://colab.research.google.com/notebooks/data_table.ipynb>data table notebook</a>'\n",
              "            + ' to learn more about interactive tables.';\n",
              "          element.innerHTML = '';\n",
              "          dataTable['output_type'] = 'display_data';\n",
              "          await google.colab.output.renderOutput(dataTable, element);\n",
              "          const docLink = document.createElement('div');\n",
              "          docLink.innerHTML = docLinkHtml;\n",
              "          element.appendChild(docLink);\n",
              "        }\n",
              "      </script>\n",
              "    </div>\n",
              "  </div>\n",
              "  "
            ]
          },
          "metadata": {},
          "execution_count": 22
        }
      ],
      "source": [
        "tarrifs "
      ]
    },
    {
      "cell_type": "code",
      "execution_count": 23,
      "metadata": {
        "scrolled": false,
        "colab": {
          "base_uri": "https://localhost:8080/"
        },
        "id": "K-Mt0slxGWMR",
        "outputId": "c59b5cf3-0557-4b51-9c73-178b6a7ac354"
      },
      "outputs": [
        {
          "output_type": "stream",
          "name": "stdout",
          "text": [
            "<class 'pandas.core.frame.DataFrame'>\n",
            "RangeIndex: 2 entries, 0 to 1\n",
            "Data columns (total 8 columns):\n",
            " #   Column                 Non-Null Count  Dtype \n",
            "---  ------                 --------------  ----- \n",
            " 0   messages_included      2 non-null      int64 \n",
            " 1   mb_per_month_included  2 non-null      int64 \n",
            " 2   minutes_included       2 non-null      int64 \n",
            " 3   rub_monthly_fee        2 non-null      int64 \n",
            " 4   rub_per_gb             2 non-null      int64 \n",
            " 5   rub_per_message        2 non-null      int64 \n",
            " 6   rub_per_minute         2 non-null      int64 \n",
            " 7   tariff_name            2 non-null      object\n",
            "dtypes: int64(7), object(1)\n",
            "memory usage: 256.0+ bytes\n"
          ]
        }
      ],
      "source": [
        "tarrifs.info()"
      ]
    },
    {
      "cell_type": "code",
      "execution_count": 24,
      "metadata": {
        "colab": {
          "base_uri": "https://localhost:8080/",
          "height": 206
        },
        "id": "rq5FQ_69GWMS",
        "outputId": "5321f387-2650-45c1-ff6e-3c14846ec73a"
      },
      "outputs": [
        {
          "output_type": "execute_result",
          "data": {
            "text/plain": [
              "   user_id  age churn_date         city first_name  last_name    reg_date  \\\n",
              "0     1000   52        NaN    Краснодар     Рафаил  Верещагин  2018-05-25   \n",
              "1     1001   41        NaN       Москва       Иван       Ежов  2018-11-01   \n",
              "2     1002   59        NaN  Стерлитамак    Евгений  Абрамович  2018-06-17   \n",
              "3     1003   23        NaN       Москва      Белла   Белякова  2018-08-17   \n",
              "4     1004   68        NaN  Новокузнецк    Татьяна   Авдеенко  2018-05-14   \n",
              "\n",
              "  tariff  \n",
              "0  ultra  \n",
              "1  smart  \n",
              "2  smart  \n",
              "3  ultra  \n",
              "4  ultra  "
            ],
            "text/html": [
              "\n",
              "  <div id=\"df-9b78a45c-33e6-4086-b13c-3e36228c2ae3\">\n",
              "    <div class=\"colab-df-container\">\n",
              "      <div>\n",
              "<style scoped>\n",
              "    .dataframe tbody tr th:only-of-type {\n",
              "        vertical-align: middle;\n",
              "    }\n",
              "\n",
              "    .dataframe tbody tr th {\n",
              "        vertical-align: top;\n",
              "    }\n",
              "\n",
              "    .dataframe thead th {\n",
              "        text-align: right;\n",
              "    }\n",
              "</style>\n",
              "<table border=\"1\" class=\"dataframe\">\n",
              "  <thead>\n",
              "    <tr style=\"text-align: right;\">\n",
              "      <th></th>\n",
              "      <th>user_id</th>\n",
              "      <th>age</th>\n",
              "      <th>churn_date</th>\n",
              "      <th>city</th>\n",
              "      <th>first_name</th>\n",
              "      <th>last_name</th>\n",
              "      <th>reg_date</th>\n",
              "      <th>tariff</th>\n",
              "    </tr>\n",
              "  </thead>\n",
              "  <tbody>\n",
              "    <tr>\n",
              "      <th>0</th>\n",
              "      <td>1000</td>\n",
              "      <td>52</td>\n",
              "      <td>NaN</td>\n",
              "      <td>Краснодар</td>\n",
              "      <td>Рафаил</td>\n",
              "      <td>Верещагин</td>\n",
              "      <td>2018-05-25</td>\n",
              "      <td>ultra</td>\n",
              "    </tr>\n",
              "    <tr>\n",
              "      <th>1</th>\n",
              "      <td>1001</td>\n",
              "      <td>41</td>\n",
              "      <td>NaN</td>\n",
              "      <td>Москва</td>\n",
              "      <td>Иван</td>\n",
              "      <td>Ежов</td>\n",
              "      <td>2018-11-01</td>\n",
              "      <td>smart</td>\n",
              "    </tr>\n",
              "    <tr>\n",
              "      <th>2</th>\n",
              "      <td>1002</td>\n",
              "      <td>59</td>\n",
              "      <td>NaN</td>\n",
              "      <td>Стерлитамак</td>\n",
              "      <td>Евгений</td>\n",
              "      <td>Абрамович</td>\n",
              "      <td>2018-06-17</td>\n",
              "      <td>smart</td>\n",
              "    </tr>\n",
              "    <tr>\n",
              "      <th>3</th>\n",
              "      <td>1003</td>\n",
              "      <td>23</td>\n",
              "      <td>NaN</td>\n",
              "      <td>Москва</td>\n",
              "      <td>Белла</td>\n",
              "      <td>Белякова</td>\n",
              "      <td>2018-08-17</td>\n",
              "      <td>ultra</td>\n",
              "    </tr>\n",
              "    <tr>\n",
              "      <th>4</th>\n",
              "      <td>1004</td>\n",
              "      <td>68</td>\n",
              "      <td>NaN</td>\n",
              "      <td>Новокузнецк</td>\n",
              "      <td>Татьяна</td>\n",
              "      <td>Авдеенко</td>\n",
              "      <td>2018-05-14</td>\n",
              "      <td>ultra</td>\n",
              "    </tr>\n",
              "  </tbody>\n",
              "</table>\n",
              "</div>\n",
              "      <button class=\"colab-df-convert\" onclick=\"convertToInteractive('df-9b78a45c-33e6-4086-b13c-3e36228c2ae3')\"\n",
              "              title=\"Convert this dataframe to an interactive table.\"\n",
              "              style=\"display:none;\">\n",
              "        \n",
              "  <svg xmlns=\"http://www.w3.org/2000/svg\" height=\"24px\"viewBox=\"0 0 24 24\"\n",
              "       width=\"24px\">\n",
              "    <path d=\"M0 0h24v24H0V0z\" fill=\"none\"/>\n",
              "    <path d=\"M18.56 5.44l.94 2.06.94-2.06 2.06-.94-2.06-.94-.94-2.06-.94 2.06-2.06.94zm-11 1L8.5 8.5l.94-2.06 2.06-.94-2.06-.94L8.5 2.5l-.94 2.06-2.06.94zm10 10l.94 2.06.94-2.06 2.06-.94-2.06-.94-.94-2.06-.94 2.06-2.06.94z\"/><path d=\"M17.41 7.96l-1.37-1.37c-.4-.4-.92-.59-1.43-.59-.52 0-1.04.2-1.43.59L10.3 9.45l-7.72 7.72c-.78.78-.78 2.05 0 2.83L4 21.41c.39.39.9.59 1.41.59.51 0 1.02-.2 1.41-.59l7.78-7.78 2.81-2.81c.8-.78.8-2.07 0-2.86zM5.41 20L4 18.59l7.72-7.72 1.47 1.35L5.41 20z\"/>\n",
              "  </svg>\n",
              "      </button>\n",
              "      \n",
              "  <style>\n",
              "    .colab-df-container {\n",
              "      display:flex;\n",
              "      flex-wrap:wrap;\n",
              "      gap: 12px;\n",
              "    }\n",
              "\n",
              "    .colab-df-convert {\n",
              "      background-color: #E8F0FE;\n",
              "      border: none;\n",
              "      border-radius: 50%;\n",
              "      cursor: pointer;\n",
              "      display: none;\n",
              "      fill: #1967D2;\n",
              "      height: 32px;\n",
              "      padding: 0 0 0 0;\n",
              "      width: 32px;\n",
              "    }\n",
              "\n",
              "    .colab-df-convert:hover {\n",
              "      background-color: #E2EBFA;\n",
              "      box-shadow: 0px 1px 2px rgba(60, 64, 67, 0.3), 0px 1px 3px 1px rgba(60, 64, 67, 0.15);\n",
              "      fill: #174EA6;\n",
              "    }\n",
              "\n",
              "    [theme=dark] .colab-df-convert {\n",
              "      background-color: #3B4455;\n",
              "      fill: #D2E3FC;\n",
              "    }\n",
              "\n",
              "    [theme=dark] .colab-df-convert:hover {\n",
              "      background-color: #434B5C;\n",
              "      box-shadow: 0px 1px 3px 1px rgba(0, 0, 0, 0.15);\n",
              "      filter: drop-shadow(0px 1px 2px rgba(0, 0, 0, 0.3));\n",
              "      fill: #FFFFFF;\n",
              "    }\n",
              "  </style>\n",
              "\n",
              "      <script>\n",
              "        const buttonEl =\n",
              "          document.querySelector('#df-9b78a45c-33e6-4086-b13c-3e36228c2ae3 button.colab-df-convert');\n",
              "        buttonEl.style.display =\n",
              "          google.colab.kernel.accessAllowed ? 'block' : 'none';\n",
              "\n",
              "        async function convertToInteractive(key) {\n",
              "          const element = document.querySelector('#df-9b78a45c-33e6-4086-b13c-3e36228c2ae3');\n",
              "          const dataTable =\n",
              "            await google.colab.kernel.invokeFunction('convertToInteractive',\n",
              "                                                     [key], {});\n",
              "          if (!dataTable) return;\n",
              "\n",
              "          const docLinkHtml = 'Like what you see? Visit the ' +\n",
              "            '<a target=\"_blank\" href=https://colab.research.google.com/notebooks/data_table.ipynb>data table notebook</a>'\n",
              "            + ' to learn more about interactive tables.';\n",
              "          element.innerHTML = '';\n",
              "          dataTable['output_type'] = 'display_data';\n",
              "          await google.colab.output.renderOutput(dataTable, element);\n",
              "          const docLink = document.createElement('div');\n",
              "          docLink.innerHTML = docLinkHtml;\n",
              "          element.appendChild(docLink);\n",
              "        }\n",
              "      </script>\n",
              "    </div>\n",
              "  </div>\n",
              "  "
            ]
          },
          "metadata": {},
          "execution_count": 24
        }
      ],
      "source": [
        "users.head(5)"
      ]
    },
    {
      "cell_type": "code",
      "execution_count": 25,
      "metadata": {
        "id": "KSP5s_7yGWMS"
      },
      "outputs": [],
      "source": [
        "users['full_name'] = users['first_name'] + ' ' + users['last_name'] # добавляем стобец с именем и фамилией, чтобы проверить на наличие дубликатов / add a column with the name and surname for the checking duplicates"
      ]
    },
    {
      "cell_type": "code",
      "execution_count": 26,
      "metadata": {
        "colab": {
          "base_uri": "https://localhost:8080/"
        },
        "id": "rjyK9y9YGWMS",
        "outputId": "7731cf54-b8d8-44ce-8361-3ba2a7a7e2b5"
      },
      "outputs": [
        {
          "output_type": "execute_result",
          "data": {
            "text/plain": [
              "0"
            ]
          },
          "metadata": {},
          "execution_count": 26
        }
      ],
      "source": [
        "users['full_name'].duplicated().sum() # проверяем наличие дубликатов по ФИ / check out duplicates for the full name"
      ]
    },
    {
      "cell_type": "code",
      "execution_count": 27,
      "metadata": {
        "scrolled": false,
        "colab": {
          "base_uri": "https://localhost:8080/"
        },
        "id": "MWtaY4v8GWMT",
        "outputId": "f90c7be7-adb3-448a-d4c9-be66384af267"
      },
      "outputs": [
        {
          "output_type": "execute_result",
          "data": {
            "text/plain": [
              "array([52, 41, 59, 23, 68, 67, 21, 65, 63, 24, 26, 44, 38, 36, 64, 58, 73,\n",
              "       71, 61, 72, 42, 56, 32, 62, 20, 51, 28, 66, 31, 37, 47, 40, 69, 48,\n",
              "       33, 39, 43, 46, 45, 55, 53, 34, 49, 25, 18, 70, 50, 19, 54, 60, 29,\n",
              "       27, 74, 22, 30, 75, 57, 35])"
            ]
          },
          "metadata": {},
          "execution_count": 27
        }
      ],
      "source": [
        "users['age'].unique() # проверяем возраст"
      ]
    },
    {
      "cell_type": "code",
      "execution_count": 28,
      "metadata": {
        "scrolled": false,
        "colab": {
          "base_uri": "https://localhost:8080/"
        },
        "id": "Reog3DZUGWMT",
        "outputId": "be7ac947-c3d2-4347-a20e-75e339a8e440"
      },
      "outputs": [
        {
          "output_type": "execute_result",
          "data": {
            "text/plain": [
              "array(['Краснодар', 'Москва', 'Стерлитамак', 'Новокузнецк',\n",
              "       'Набережные Челны', 'Ульяновск', 'Челябинск', 'Пермь', 'Тюмень',\n",
              "       'Самара', 'Санкт-Петербург', 'Иваново', 'Чебоксары', 'Омск', 'Уфа',\n",
              "       'Томск', 'Чита', 'Мурманск', 'Петрозаводск', 'Тверь',\n",
              "       'Екатеринбург', 'Махачкала', 'Вологда', 'Череповец', 'Ярославль',\n",
              "       'Сочи', 'Хабаровск', 'Ставрополь', 'Рязань', 'Улан-Удэ', 'Тула',\n",
              "       'Саратов', 'Ростов-на-Дону', 'Казань', 'Иркутск', 'Курск',\n",
              "       'Калуга', 'Якутск', 'Астрахань', 'Химки', 'Владикавказ',\n",
              "       'Волгоград', 'Саранск', 'Ижевск', 'Новосибирск', 'Брянск',\n",
              "       'Тольятти', 'Нижний Тагил', 'Орёл', 'Белгород', 'Воронеж',\n",
              "       'Волжский', 'Курган', 'Барнаул', 'Красноярск', 'Архангельск',\n",
              "       'Липецк', 'Кемерово', 'Киров', 'Сургут', 'Пенза', 'Магнитогорск',\n",
              "       'Нижний Новгород', 'Кострома', 'Владивосток', 'Тамбов', 'Балашиха',\n",
              "       'Севастополь', 'Калининград', 'Оренбург', 'Смоленск',\n",
              "       'Нижневартовск', 'Владимир', 'Новороссийск', 'Грозный', 'Подольск'],\n",
              "      dtype=object)"
            ]
          },
          "metadata": {},
          "execution_count": 28
        }
      ],
      "source": [
        "users['city'].unique() # проверяем уникальное значение городов / check out unique cities"
      ]
    },
    {
      "cell_type": "code",
      "execution_count": 29,
      "metadata": {
        "scrolled": false,
        "colab": {
          "base_uri": "https://localhost:8080/"
        },
        "id": "LozX_EssGWMT",
        "outputId": "68f08d1e-83ba-4f8f-f29f-5aa4238f36fc"
      },
      "outputs": [
        {
          "output_type": "stream",
          "name": "stdout",
          "text": [
            "<class 'pandas.core.frame.DataFrame'>\n",
            "RangeIndex: 500 entries, 0 to 499\n",
            "Data columns (total 9 columns):\n",
            " #   Column      Non-Null Count  Dtype \n",
            "---  ------      --------------  ----- \n",
            " 0   user_id     500 non-null    int64 \n",
            " 1   age         500 non-null    int64 \n",
            " 2   churn_date  38 non-null     object\n",
            " 3   city        500 non-null    object\n",
            " 4   first_name  500 non-null    object\n",
            " 5   last_name   500 non-null    object\n",
            " 6   reg_date    500 non-null    object\n",
            " 7   tariff      500 non-null    object\n",
            " 8   full_name   500 non-null    object\n",
            "dtypes: int64(2), object(7)\n",
            "memory usage: 35.3+ KB\n"
          ]
        }
      ],
      "source": [
        "users.info() "
      ]
    },
    {
      "cell_type": "code",
      "execution_count": 30,
      "metadata": {
        "id": "q5tCm1TrGWMT"
      },
      "outputs": [],
      "source": [
        "users[['churn_date', 'reg_date' ]] = users[['churn_date', 'reg_date' ]].apply(pd.to_datetime) #приводим значения к дате / change format to date\n"
      ]
    },
    {
      "cell_type": "code",
      "execution_count": 31,
      "metadata": {
        "scrolled": false,
        "colab": {
          "base_uri": "https://localhost:8080/"
        },
        "id": "Cv8_Mtg7GWMT",
        "outputId": "9db40ae7-cd8a-4a80-a229-a273dae6bd29"
      },
      "outputs": [
        {
          "output_type": "stream",
          "name": "stdout",
          "text": [
            "<class 'pandas.core.frame.DataFrame'>\n",
            "RangeIndex: 500 entries, 0 to 499\n",
            "Data columns (total 9 columns):\n",
            " #   Column      Non-Null Count  Dtype         \n",
            "---  ------      --------------  -----         \n",
            " 0   user_id     500 non-null    int64         \n",
            " 1   age         500 non-null    int64         \n",
            " 2   churn_date  38 non-null     datetime64[ns]\n",
            " 3   city        500 non-null    object        \n",
            " 4   first_name  500 non-null    object        \n",
            " 5   last_name   500 non-null    object        \n",
            " 6   reg_date    500 non-null    datetime64[ns]\n",
            " 7   tariff      500 non-null    object        \n",
            " 8   full_name   500 non-null    object        \n",
            "dtypes: datetime64[ns](2), int64(2), object(5)\n",
            "memory usage: 35.3+ KB\n"
          ]
        }
      ],
      "source": [
        "users.info() # проверяем внесенные изменения"
      ]
    },
    {
      "cell_type": "code",
      "execution_count": 32,
      "metadata": {
        "colab": {
          "base_uri": "https://localhost:8080/",
          "height": 206
        },
        "id": "xiFptC8GGWMU",
        "outputId": "a5d777be-c7c7-41ef-caa1-7b0d214ef3eb"
      },
      "outputs": [
        {
          "output_type": "execute_result",
          "data": {
            "text/plain": [
              "       id message_date  user_id\n",
              "0  1000_0   2018-06-27     1000\n",
              "1  1000_1   2018-10-08     1000\n",
              "2  1000_2   2018-08-04     1000\n",
              "3  1000_3   2018-06-16     1000\n",
              "4  1000_4   2018-12-05     1000"
            ],
            "text/html": [
              "\n",
              "  <div id=\"df-a531609e-6230-4d4f-b36f-8c0fbd56c3ed\">\n",
              "    <div class=\"colab-df-container\">\n",
              "      <div>\n",
              "<style scoped>\n",
              "    .dataframe tbody tr th:only-of-type {\n",
              "        vertical-align: middle;\n",
              "    }\n",
              "\n",
              "    .dataframe tbody tr th {\n",
              "        vertical-align: top;\n",
              "    }\n",
              "\n",
              "    .dataframe thead th {\n",
              "        text-align: right;\n",
              "    }\n",
              "</style>\n",
              "<table border=\"1\" class=\"dataframe\">\n",
              "  <thead>\n",
              "    <tr style=\"text-align: right;\">\n",
              "      <th></th>\n",
              "      <th>id</th>\n",
              "      <th>message_date</th>\n",
              "      <th>user_id</th>\n",
              "    </tr>\n",
              "  </thead>\n",
              "  <tbody>\n",
              "    <tr>\n",
              "      <th>0</th>\n",
              "      <td>1000_0</td>\n",
              "      <td>2018-06-27</td>\n",
              "      <td>1000</td>\n",
              "    </tr>\n",
              "    <tr>\n",
              "      <th>1</th>\n",
              "      <td>1000_1</td>\n",
              "      <td>2018-10-08</td>\n",
              "      <td>1000</td>\n",
              "    </tr>\n",
              "    <tr>\n",
              "      <th>2</th>\n",
              "      <td>1000_2</td>\n",
              "      <td>2018-08-04</td>\n",
              "      <td>1000</td>\n",
              "    </tr>\n",
              "    <tr>\n",
              "      <th>3</th>\n",
              "      <td>1000_3</td>\n",
              "      <td>2018-06-16</td>\n",
              "      <td>1000</td>\n",
              "    </tr>\n",
              "    <tr>\n",
              "      <th>4</th>\n",
              "      <td>1000_4</td>\n",
              "      <td>2018-12-05</td>\n",
              "      <td>1000</td>\n",
              "    </tr>\n",
              "  </tbody>\n",
              "</table>\n",
              "</div>\n",
              "      <button class=\"colab-df-convert\" onclick=\"convertToInteractive('df-a531609e-6230-4d4f-b36f-8c0fbd56c3ed')\"\n",
              "              title=\"Convert this dataframe to an interactive table.\"\n",
              "              style=\"display:none;\">\n",
              "        \n",
              "  <svg xmlns=\"http://www.w3.org/2000/svg\" height=\"24px\"viewBox=\"0 0 24 24\"\n",
              "       width=\"24px\">\n",
              "    <path d=\"M0 0h24v24H0V0z\" fill=\"none\"/>\n",
              "    <path d=\"M18.56 5.44l.94 2.06.94-2.06 2.06-.94-2.06-.94-.94-2.06-.94 2.06-2.06.94zm-11 1L8.5 8.5l.94-2.06 2.06-.94-2.06-.94L8.5 2.5l-.94 2.06-2.06.94zm10 10l.94 2.06.94-2.06 2.06-.94-2.06-.94-.94-2.06-.94 2.06-2.06.94z\"/><path d=\"M17.41 7.96l-1.37-1.37c-.4-.4-.92-.59-1.43-.59-.52 0-1.04.2-1.43.59L10.3 9.45l-7.72 7.72c-.78.78-.78 2.05 0 2.83L4 21.41c.39.39.9.59 1.41.59.51 0 1.02-.2 1.41-.59l7.78-7.78 2.81-2.81c.8-.78.8-2.07 0-2.86zM5.41 20L4 18.59l7.72-7.72 1.47 1.35L5.41 20z\"/>\n",
              "  </svg>\n",
              "      </button>\n",
              "      \n",
              "  <style>\n",
              "    .colab-df-container {\n",
              "      display:flex;\n",
              "      flex-wrap:wrap;\n",
              "      gap: 12px;\n",
              "    }\n",
              "\n",
              "    .colab-df-convert {\n",
              "      background-color: #E8F0FE;\n",
              "      border: none;\n",
              "      border-radius: 50%;\n",
              "      cursor: pointer;\n",
              "      display: none;\n",
              "      fill: #1967D2;\n",
              "      height: 32px;\n",
              "      padding: 0 0 0 0;\n",
              "      width: 32px;\n",
              "    }\n",
              "\n",
              "    .colab-df-convert:hover {\n",
              "      background-color: #E2EBFA;\n",
              "      box-shadow: 0px 1px 2px rgba(60, 64, 67, 0.3), 0px 1px 3px 1px rgba(60, 64, 67, 0.15);\n",
              "      fill: #174EA6;\n",
              "    }\n",
              "\n",
              "    [theme=dark] .colab-df-convert {\n",
              "      background-color: #3B4455;\n",
              "      fill: #D2E3FC;\n",
              "    }\n",
              "\n",
              "    [theme=dark] .colab-df-convert:hover {\n",
              "      background-color: #434B5C;\n",
              "      box-shadow: 0px 1px 3px 1px rgba(0, 0, 0, 0.15);\n",
              "      filter: drop-shadow(0px 1px 2px rgba(0, 0, 0, 0.3));\n",
              "      fill: #FFFFFF;\n",
              "    }\n",
              "  </style>\n",
              "\n",
              "      <script>\n",
              "        const buttonEl =\n",
              "          document.querySelector('#df-a531609e-6230-4d4f-b36f-8c0fbd56c3ed button.colab-df-convert');\n",
              "        buttonEl.style.display =\n",
              "          google.colab.kernel.accessAllowed ? 'block' : 'none';\n",
              "\n",
              "        async function convertToInteractive(key) {\n",
              "          const element = document.querySelector('#df-a531609e-6230-4d4f-b36f-8c0fbd56c3ed');\n",
              "          const dataTable =\n",
              "            await google.colab.kernel.invokeFunction('convertToInteractive',\n",
              "                                                     [key], {});\n",
              "          if (!dataTable) return;\n",
              "\n",
              "          const docLinkHtml = 'Like what you see? Visit the ' +\n",
              "            '<a target=\"_blank\" href=https://colab.research.google.com/notebooks/data_table.ipynb>data table notebook</a>'\n",
              "            + ' to learn more about interactive tables.';\n",
              "          element.innerHTML = '';\n",
              "          dataTable['output_type'] = 'display_data';\n",
              "          await google.colab.output.renderOutput(dataTable, element);\n",
              "          const docLink = document.createElement('div');\n",
              "          docLink.innerHTML = docLinkHtml;\n",
              "          element.appendChild(docLink);\n",
              "        }\n",
              "      </script>\n",
              "    </div>\n",
              "  </div>\n",
              "  "
            ]
          },
          "metadata": {},
          "execution_count": 32
        }
      ],
      "source": [
        "messages.head(5)"
      ]
    },
    {
      "cell_type": "code",
      "execution_count": 33,
      "metadata": {
        "id": "s3CuuN8dGWMU"
      },
      "outputs": [],
      "source": [
        "messages['message_date'] = messages['message_date'].apply(pd.to_datetime) # приводим значения к формату дата / change format to date"
      ]
    },
    {
      "cell_type": "code",
      "execution_count": 34,
      "metadata": {
        "id": "-eYtOvrrGWMU"
      },
      "outputs": [],
      "source": [
        "messages['month'] = messages['message_date'].dt.month # добавляем столбец с номером месяца / add a column with number of month"
      ]
    },
    {
      "cell_type": "code",
      "execution_count": 35,
      "metadata": {
        "scrolled": false,
        "colab": {
          "base_uri": "https://localhost:8080/"
        },
        "id": "0dtuK_gfGWMU",
        "outputId": "16345c6c-8157-45b2-a5fe-95389c7480bf"
      },
      "outputs": [
        {
          "output_type": "stream",
          "name": "stdout",
          "text": [
            "<class 'pandas.core.frame.DataFrame'>\n",
            "RangeIndex: 123036 entries, 0 to 123035\n",
            "Data columns (total 4 columns):\n",
            " #   Column        Non-Null Count   Dtype         \n",
            "---  ------        --------------   -----         \n",
            " 0   id            123036 non-null  object        \n",
            " 1   message_date  123036 non-null  datetime64[ns]\n",
            " 2   user_id       123036 non-null  int64         \n",
            " 3   month         123036 non-null  int64         \n",
            "dtypes: datetime64[ns](1), int64(2), object(1)\n",
            "memory usage: 3.8+ MB\n"
          ]
        }
      ],
      "source": [
        "messages.info() # проверяем внесенные изменения"
      ]
    },
    {
      "cell_type": "markdown",
      "source": [
        "We discovered the data and checked out duplicates, transformed columns to the necessary type"
      ],
      "metadata": {
        "id": "1UJau31O58C1"
      }
    },
    {
      "cell_type": "markdown",
      "metadata": {
        "id": "oxbltMXUGWMV"
      },
      "source": [
        "# Объединение таблиц / Join tables\n",
        "\n",
        "\n",
        "\n",
        "<a id=\"join\"></a>"
      ]
    },
    {
      "cell_type": "code",
      "execution_count": 36,
      "metadata": {
        "colab": {
          "base_uri": "https://localhost:8080/",
          "height": 454
        },
        "id": "LSaLb29tGWMV",
        "outputId": "dc028142-6328-4ba5-9119-e7b4499c2f08"
      },
      "outputs": [
        {
          "output_type": "execute_result",
          "data": {
            "text/plain": [
              "           id\n",
              "user_id      \n",
              "1000      496\n",
              "1002       70\n",
              "1003      380\n",
              "1004     1192\n",
              "1005      552\n",
              "...       ...\n",
              "1495      340\n",
              "1496      468\n",
              "1497       51\n",
              "1498      168\n",
              "1499      184\n",
              "\n",
              "[426 rows x 1 columns]"
            ],
            "text/html": [
              "\n",
              "  <div id=\"df-fa132132-bd5c-4e82-8197-55e4ebd1398e\">\n",
              "    <div class=\"colab-df-container\">\n",
              "      <div>\n",
              "<style scoped>\n",
              "    .dataframe tbody tr th:only-of-type {\n",
              "        vertical-align: middle;\n",
              "    }\n",
              "\n",
              "    .dataframe tbody tr th {\n",
              "        vertical-align: top;\n",
              "    }\n",
              "\n",
              "    .dataframe thead th {\n",
              "        text-align: right;\n",
              "    }\n",
              "</style>\n",
              "<table border=\"1\" class=\"dataframe\">\n",
              "  <thead>\n",
              "    <tr style=\"text-align: right;\">\n",
              "      <th></th>\n",
              "      <th>id</th>\n",
              "    </tr>\n",
              "    <tr>\n",
              "      <th>user_id</th>\n",
              "      <th></th>\n",
              "    </tr>\n",
              "  </thead>\n",
              "  <tbody>\n",
              "    <tr>\n",
              "      <th>1000</th>\n",
              "      <td>496</td>\n",
              "    </tr>\n",
              "    <tr>\n",
              "      <th>1002</th>\n",
              "      <td>70</td>\n",
              "    </tr>\n",
              "    <tr>\n",
              "      <th>1003</th>\n",
              "      <td>380</td>\n",
              "    </tr>\n",
              "    <tr>\n",
              "      <th>1004</th>\n",
              "      <td>1192</td>\n",
              "    </tr>\n",
              "    <tr>\n",
              "      <th>1005</th>\n",
              "      <td>552</td>\n",
              "    </tr>\n",
              "    <tr>\n",
              "      <th>...</th>\n",
              "      <td>...</td>\n",
              "    </tr>\n",
              "    <tr>\n",
              "      <th>1495</th>\n",
              "      <td>340</td>\n",
              "    </tr>\n",
              "    <tr>\n",
              "      <th>1496</th>\n",
              "      <td>468</td>\n",
              "    </tr>\n",
              "    <tr>\n",
              "      <th>1497</th>\n",
              "      <td>51</td>\n",
              "    </tr>\n",
              "    <tr>\n",
              "      <th>1498</th>\n",
              "      <td>168</td>\n",
              "    </tr>\n",
              "    <tr>\n",
              "      <th>1499</th>\n",
              "      <td>184</td>\n",
              "    </tr>\n",
              "  </tbody>\n",
              "</table>\n",
              "<p>426 rows × 1 columns</p>\n",
              "</div>\n",
              "      <button class=\"colab-df-convert\" onclick=\"convertToInteractive('df-fa132132-bd5c-4e82-8197-55e4ebd1398e')\"\n",
              "              title=\"Convert this dataframe to an interactive table.\"\n",
              "              style=\"display:none;\">\n",
              "        \n",
              "  <svg xmlns=\"http://www.w3.org/2000/svg\" height=\"24px\"viewBox=\"0 0 24 24\"\n",
              "       width=\"24px\">\n",
              "    <path d=\"M0 0h24v24H0V0z\" fill=\"none\"/>\n",
              "    <path d=\"M18.56 5.44l.94 2.06.94-2.06 2.06-.94-2.06-.94-.94-2.06-.94 2.06-2.06.94zm-11 1L8.5 8.5l.94-2.06 2.06-.94-2.06-.94L8.5 2.5l-.94 2.06-2.06.94zm10 10l.94 2.06.94-2.06 2.06-.94-2.06-.94-.94-2.06-.94 2.06-2.06.94z\"/><path d=\"M17.41 7.96l-1.37-1.37c-.4-.4-.92-.59-1.43-.59-.52 0-1.04.2-1.43.59L10.3 9.45l-7.72 7.72c-.78.78-.78 2.05 0 2.83L4 21.41c.39.39.9.59 1.41.59.51 0 1.02-.2 1.41-.59l7.78-7.78 2.81-2.81c.8-.78.8-2.07 0-2.86zM5.41 20L4 18.59l7.72-7.72 1.47 1.35L5.41 20z\"/>\n",
              "  </svg>\n",
              "      </button>\n",
              "      \n",
              "  <style>\n",
              "    .colab-df-container {\n",
              "      display:flex;\n",
              "      flex-wrap:wrap;\n",
              "      gap: 12px;\n",
              "    }\n",
              "\n",
              "    .colab-df-convert {\n",
              "      background-color: #E8F0FE;\n",
              "      border: none;\n",
              "      border-radius: 50%;\n",
              "      cursor: pointer;\n",
              "      display: none;\n",
              "      fill: #1967D2;\n",
              "      height: 32px;\n",
              "      padding: 0 0 0 0;\n",
              "      width: 32px;\n",
              "    }\n",
              "\n",
              "    .colab-df-convert:hover {\n",
              "      background-color: #E2EBFA;\n",
              "      box-shadow: 0px 1px 2px rgba(60, 64, 67, 0.3), 0px 1px 3px 1px rgba(60, 64, 67, 0.15);\n",
              "      fill: #174EA6;\n",
              "    }\n",
              "\n",
              "    [theme=dark] .colab-df-convert {\n",
              "      background-color: #3B4455;\n",
              "      fill: #D2E3FC;\n",
              "    }\n",
              "\n",
              "    [theme=dark] .colab-df-convert:hover {\n",
              "      background-color: #434B5C;\n",
              "      box-shadow: 0px 1px 3px 1px rgba(0, 0, 0, 0.15);\n",
              "      filter: drop-shadow(0px 1px 2px rgba(0, 0, 0, 0.3));\n",
              "      fill: #FFFFFF;\n",
              "    }\n",
              "  </style>\n",
              "\n",
              "      <script>\n",
              "        const buttonEl =\n",
              "          document.querySelector('#df-fa132132-bd5c-4e82-8197-55e4ebd1398e button.colab-df-convert');\n",
              "        buttonEl.style.display =\n",
              "          google.colab.kernel.accessAllowed ? 'block' : 'none';\n",
              "\n",
              "        async function convertToInteractive(key) {\n",
              "          const element = document.querySelector('#df-fa132132-bd5c-4e82-8197-55e4ebd1398e');\n",
              "          const dataTable =\n",
              "            await google.colab.kernel.invokeFunction('convertToInteractive',\n",
              "                                                     [key], {});\n",
              "          if (!dataTable) return;\n",
              "\n",
              "          const docLinkHtml = 'Like what you see? Visit the ' +\n",
              "            '<a target=\"_blank\" href=https://colab.research.google.com/notebooks/data_table.ipynb>data table notebook</a>'\n",
              "            + ' to learn more about interactive tables.';\n",
              "          element.innerHTML = '';\n",
              "          dataTable['output_type'] = 'display_data';\n",
              "          await google.colab.output.renderOutput(dataTable, element);\n",
              "          const docLink = document.createElement('div');\n",
              "          docLink.innerHTML = docLinkHtml;\n",
              "          element.appendChild(docLink);\n",
              "        }\n",
              "      </script>\n",
              "    </div>\n",
              "  </div>\n",
              "  "
            ]
          },
          "metadata": {},
          "execution_count": 36
        }
      ],
      "source": [
        "messages.pivot_table(index='user_id', values='id', aggfunc='count')#формируем сводную таблицу с кол-вом отправленных смс / pivot table with quantity of sent SMS"
      ]
    },
    {
      "cell_type": "code",
      "execution_count": 37,
      "metadata": {
        "id": "eEmYT32aGWMX"
      },
      "outputs": [],
      "source": [
        "c1 = calls.pivot_table(index=['user_id', 'month'], values='duration', aggfunc='sum') # формируем сводную таблицу по ID и месяцам / create a pivot table on ID and month"
      ]
    },
    {
      "cell_type": "code",
      "execution_count": 38,
      "metadata": {
        "colab": {
          "base_uri": "https://localhost:8080/",
          "height": 454
        },
        "id": "1DlNIv_5GWMX",
        "outputId": "b879a851-7ea7-4b49-fa6b-a8d5945086af"
      },
      "outputs": [
        {
          "output_type": "execute_result",
          "data": {
            "text/plain": [
              "               duration\n",
              "user_id month          \n",
              "1000    5           159\n",
              "        6           172\n",
              "        7           340\n",
              "        8           408\n",
              "        9           466\n",
              "...                 ...\n",
              "1498    10          247\n",
              "1499    9            70\n",
              "        10          449\n",
              "        11          612\n",
              "        12          492\n",
              "\n",
              "[3174 rows x 1 columns]"
            ],
            "text/html": [
              "\n",
              "  <div id=\"df-d5316625-b76d-4fb6-9a0b-9ad1baf24311\">\n",
              "    <div class=\"colab-df-container\">\n",
              "      <div>\n",
              "<style scoped>\n",
              "    .dataframe tbody tr th:only-of-type {\n",
              "        vertical-align: middle;\n",
              "    }\n",
              "\n",
              "    .dataframe tbody tr th {\n",
              "        vertical-align: top;\n",
              "    }\n",
              "\n",
              "    .dataframe thead th {\n",
              "        text-align: right;\n",
              "    }\n",
              "</style>\n",
              "<table border=\"1\" class=\"dataframe\">\n",
              "  <thead>\n",
              "    <tr style=\"text-align: right;\">\n",
              "      <th></th>\n",
              "      <th></th>\n",
              "      <th>duration</th>\n",
              "    </tr>\n",
              "    <tr>\n",
              "      <th>user_id</th>\n",
              "      <th>month</th>\n",
              "      <th></th>\n",
              "    </tr>\n",
              "  </thead>\n",
              "  <tbody>\n",
              "    <tr>\n",
              "      <th rowspan=\"5\" valign=\"top\">1000</th>\n",
              "      <th>5</th>\n",
              "      <td>159</td>\n",
              "    </tr>\n",
              "    <tr>\n",
              "      <th>6</th>\n",
              "      <td>172</td>\n",
              "    </tr>\n",
              "    <tr>\n",
              "      <th>7</th>\n",
              "      <td>340</td>\n",
              "    </tr>\n",
              "    <tr>\n",
              "      <th>8</th>\n",
              "      <td>408</td>\n",
              "    </tr>\n",
              "    <tr>\n",
              "      <th>9</th>\n",
              "      <td>466</td>\n",
              "    </tr>\n",
              "    <tr>\n",
              "      <th>...</th>\n",
              "      <th>...</th>\n",
              "      <td>...</td>\n",
              "    </tr>\n",
              "    <tr>\n",
              "      <th>1498</th>\n",
              "      <th>10</th>\n",
              "      <td>247</td>\n",
              "    </tr>\n",
              "    <tr>\n",
              "      <th rowspan=\"4\" valign=\"top\">1499</th>\n",
              "      <th>9</th>\n",
              "      <td>70</td>\n",
              "    </tr>\n",
              "    <tr>\n",
              "      <th>10</th>\n",
              "      <td>449</td>\n",
              "    </tr>\n",
              "    <tr>\n",
              "      <th>11</th>\n",
              "      <td>612</td>\n",
              "    </tr>\n",
              "    <tr>\n",
              "      <th>12</th>\n",
              "      <td>492</td>\n",
              "    </tr>\n",
              "  </tbody>\n",
              "</table>\n",
              "<p>3174 rows × 1 columns</p>\n",
              "</div>\n",
              "      <button class=\"colab-df-convert\" onclick=\"convertToInteractive('df-d5316625-b76d-4fb6-9a0b-9ad1baf24311')\"\n",
              "              title=\"Convert this dataframe to an interactive table.\"\n",
              "              style=\"display:none;\">\n",
              "        \n",
              "  <svg xmlns=\"http://www.w3.org/2000/svg\" height=\"24px\"viewBox=\"0 0 24 24\"\n",
              "       width=\"24px\">\n",
              "    <path d=\"M0 0h24v24H0V0z\" fill=\"none\"/>\n",
              "    <path d=\"M18.56 5.44l.94 2.06.94-2.06 2.06-.94-2.06-.94-.94-2.06-.94 2.06-2.06.94zm-11 1L8.5 8.5l.94-2.06 2.06-.94-2.06-.94L8.5 2.5l-.94 2.06-2.06.94zm10 10l.94 2.06.94-2.06 2.06-.94-2.06-.94-.94-2.06-.94 2.06-2.06.94z\"/><path d=\"M17.41 7.96l-1.37-1.37c-.4-.4-.92-.59-1.43-.59-.52 0-1.04.2-1.43.59L10.3 9.45l-7.72 7.72c-.78.78-.78 2.05 0 2.83L4 21.41c.39.39.9.59 1.41.59.51 0 1.02-.2 1.41-.59l7.78-7.78 2.81-2.81c.8-.78.8-2.07 0-2.86zM5.41 20L4 18.59l7.72-7.72 1.47 1.35L5.41 20z\"/>\n",
              "  </svg>\n",
              "      </button>\n",
              "      \n",
              "  <style>\n",
              "    .colab-df-container {\n",
              "      display:flex;\n",
              "      flex-wrap:wrap;\n",
              "      gap: 12px;\n",
              "    }\n",
              "\n",
              "    .colab-df-convert {\n",
              "      background-color: #E8F0FE;\n",
              "      border: none;\n",
              "      border-radius: 50%;\n",
              "      cursor: pointer;\n",
              "      display: none;\n",
              "      fill: #1967D2;\n",
              "      height: 32px;\n",
              "      padding: 0 0 0 0;\n",
              "      width: 32px;\n",
              "    }\n",
              "\n",
              "    .colab-df-convert:hover {\n",
              "      background-color: #E2EBFA;\n",
              "      box-shadow: 0px 1px 2px rgba(60, 64, 67, 0.3), 0px 1px 3px 1px rgba(60, 64, 67, 0.15);\n",
              "      fill: #174EA6;\n",
              "    }\n",
              "\n",
              "    [theme=dark] .colab-df-convert {\n",
              "      background-color: #3B4455;\n",
              "      fill: #D2E3FC;\n",
              "    }\n",
              "\n",
              "    [theme=dark] .colab-df-convert:hover {\n",
              "      background-color: #434B5C;\n",
              "      box-shadow: 0px 1px 3px 1px rgba(0, 0, 0, 0.15);\n",
              "      filter: drop-shadow(0px 1px 2px rgba(0, 0, 0, 0.3));\n",
              "      fill: #FFFFFF;\n",
              "    }\n",
              "  </style>\n",
              "\n",
              "      <script>\n",
              "        const buttonEl =\n",
              "          document.querySelector('#df-d5316625-b76d-4fb6-9a0b-9ad1baf24311 button.colab-df-convert');\n",
              "        buttonEl.style.display =\n",
              "          google.colab.kernel.accessAllowed ? 'block' : 'none';\n",
              "\n",
              "        async function convertToInteractive(key) {\n",
              "          const element = document.querySelector('#df-d5316625-b76d-4fb6-9a0b-9ad1baf24311');\n",
              "          const dataTable =\n",
              "            await google.colab.kernel.invokeFunction('convertToInteractive',\n",
              "                                                     [key], {});\n",
              "          if (!dataTable) return;\n",
              "\n",
              "          const docLinkHtml = 'Like what you see? Visit the ' +\n",
              "            '<a target=\"_blank\" href=https://colab.research.google.com/notebooks/data_table.ipynb>data table notebook</a>'\n",
              "            + ' to learn more about interactive tables.';\n",
              "          element.innerHTML = '';\n",
              "          dataTable['output_type'] = 'display_data';\n",
              "          await google.colab.output.renderOutput(dataTable, element);\n",
              "          const docLink = document.createElement('div');\n",
              "          docLink.innerHTML = docLinkHtml;\n",
              "          element.appendChild(docLink);\n",
              "        }\n",
              "      </script>\n",
              "    </div>\n",
              "  </div>\n",
              "  "
            ]
          },
          "metadata": {},
          "execution_count": 38
        }
      ],
      "source": [
        "c1"
      ]
    },
    {
      "cell_type": "code",
      "execution_count": 39,
      "metadata": {
        "id": "I4kCkE_9GWMX"
      },
      "outputs": [],
      "source": [
        "m1 = messages.pivot_table(index=['user_id', 'month'],values='id' ,aggfunc='count') # формируем сводную таблицу по ID и месяцам / create a pivot table on ID and month"
      ]
    },
    {
      "cell_type": "code",
      "execution_count": 40,
      "metadata": {
        "colab": {
          "base_uri": "https://localhost:8080/",
          "height": 454
        },
        "id": "tC4f1JCKGWMY",
        "outputId": "90b9e6d2-68a2-4c02-f717-590248544d15"
      },
      "outputs": [
        {
          "output_type": "execute_result",
          "data": {
            "text/plain": [
              "               id\n",
              "user_id month    \n",
              "1000    5      22\n",
              "        6      60\n",
              "        7      75\n",
              "        8      81\n",
              "        9      57\n",
              "...            ..\n",
              "1498    10     42\n",
              "1499    9      11\n",
              "        10     48\n",
              "        11     59\n",
              "        12     66\n",
              "\n",
              "[2717 rows x 1 columns]"
            ],
            "text/html": [
              "\n",
              "  <div id=\"df-d1c642c2-42fd-4742-a8c6-e2bbd1d8dec6\">\n",
              "    <div class=\"colab-df-container\">\n",
              "      <div>\n",
              "<style scoped>\n",
              "    .dataframe tbody tr th:only-of-type {\n",
              "        vertical-align: middle;\n",
              "    }\n",
              "\n",
              "    .dataframe tbody tr th {\n",
              "        vertical-align: top;\n",
              "    }\n",
              "\n",
              "    .dataframe thead th {\n",
              "        text-align: right;\n",
              "    }\n",
              "</style>\n",
              "<table border=\"1\" class=\"dataframe\">\n",
              "  <thead>\n",
              "    <tr style=\"text-align: right;\">\n",
              "      <th></th>\n",
              "      <th></th>\n",
              "      <th>id</th>\n",
              "    </tr>\n",
              "    <tr>\n",
              "      <th>user_id</th>\n",
              "      <th>month</th>\n",
              "      <th></th>\n",
              "    </tr>\n",
              "  </thead>\n",
              "  <tbody>\n",
              "    <tr>\n",
              "      <th rowspan=\"5\" valign=\"top\">1000</th>\n",
              "      <th>5</th>\n",
              "      <td>22</td>\n",
              "    </tr>\n",
              "    <tr>\n",
              "      <th>6</th>\n",
              "      <td>60</td>\n",
              "    </tr>\n",
              "    <tr>\n",
              "      <th>7</th>\n",
              "      <td>75</td>\n",
              "    </tr>\n",
              "    <tr>\n",
              "      <th>8</th>\n",
              "      <td>81</td>\n",
              "    </tr>\n",
              "    <tr>\n",
              "      <th>9</th>\n",
              "      <td>57</td>\n",
              "    </tr>\n",
              "    <tr>\n",
              "      <th>...</th>\n",
              "      <th>...</th>\n",
              "      <td>...</td>\n",
              "    </tr>\n",
              "    <tr>\n",
              "      <th>1498</th>\n",
              "      <th>10</th>\n",
              "      <td>42</td>\n",
              "    </tr>\n",
              "    <tr>\n",
              "      <th rowspan=\"4\" valign=\"top\">1499</th>\n",
              "      <th>9</th>\n",
              "      <td>11</td>\n",
              "    </tr>\n",
              "    <tr>\n",
              "      <th>10</th>\n",
              "      <td>48</td>\n",
              "    </tr>\n",
              "    <tr>\n",
              "      <th>11</th>\n",
              "      <td>59</td>\n",
              "    </tr>\n",
              "    <tr>\n",
              "      <th>12</th>\n",
              "      <td>66</td>\n",
              "    </tr>\n",
              "  </tbody>\n",
              "</table>\n",
              "<p>2717 rows × 1 columns</p>\n",
              "</div>\n",
              "      <button class=\"colab-df-convert\" onclick=\"convertToInteractive('df-d1c642c2-42fd-4742-a8c6-e2bbd1d8dec6')\"\n",
              "              title=\"Convert this dataframe to an interactive table.\"\n",
              "              style=\"display:none;\">\n",
              "        \n",
              "  <svg xmlns=\"http://www.w3.org/2000/svg\" height=\"24px\"viewBox=\"0 0 24 24\"\n",
              "       width=\"24px\">\n",
              "    <path d=\"M0 0h24v24H0V0z\" fill=\"none\"/>\n",
              "    <path d=\"M18.56 5.44l.94 2.06.94-2.06 2.06-.94-2.06-.94-.94-2.06-.94 2.06-2.06.94zm-11 1L8.5 8.5l.94-2.06 2.06-.94-2.06-.94L8.5 2.5l-.94 2.06-2.06.94zm10 10l.94 2.06.94-2.06 2.06-.94-2.06-.94-.94-2.06-.94 2.06-2.06.94z\"/><path d=\"M17.41 7.96l-1.37-1.37c-.4-.4-.92-.59-1.43-.59-.52 0-1.04.2-1.43.59L10.3 9.45l-7.72 7.72c-.78.78-.78 2.05 0 2.83L4 21.41c.39.39.9.59 1.41.59.51 0 1.02-.2 1.41-.59l7.78-7.78 2.81-2.81c.8-.78.8-2.07 0-2.86zM5.41 20L4 18.59l7.72-7.72 1.47 1.35L5.41 20z\"/>\n",
              "  </svg>\n",
              "      </button>\n",
              "      \n",
              "  <style>\n",
              "    .colab-df-container {\n",
              "      display:flex;\n",
              "      flex-wrap:wrap;\n",
              "      gap: 12px;\n",
              "    }\n",
              "\n",
              "    .colab-df-convert {\n",
              "      background-color: #E8F0FE;\n",
              "      border: none;\n",
              "      border-radius: 50%;\n",
              "      cursor: pointer;\n",
              "      display: none;\n",
              "      fill: #1967D2;\n",
              "      height: 32px;\n",
              "      padding: 0 0 0 0;\n",
              "      width: 32px;\n",
              "    }\n",
              "\n",
              "    .colab-df-convert:hover {\n",
              "      background-color: #E2EBFA;\n",
              "      box-shadow: 0px 1px 2px rgba(60, 64, 67, 0.3), 0px 1px 3px 1px rgba(60, 64, 67, 0.15);\n",
              "      fill: #174EA6;\n",
              "    }\n",
              "\n",
              "    [theme=dark] .colab-df-convert {\n",
              "      background-color: #3B4455;\n",
              "      fill: #D2E3FC;\n",
              "    }\n",
              "\n",
              "    [theme=dark] .colab-df-convert:hover {\n",
              "      background-color: #434B5C;\n",
              "      box-shadow: 0px 1px 3px 1px rgba(0, 0, 0, 0.15);\n",
              "      filter: drop-shadow(0px 1px 2px rgba(0, 0, 0, 0.3));\n",
              "      fill: #FFFFFF;\n",
              "    }\n",
              "  </style>\n",
              "\n",
              "      <script>\n",
              "        const buttonEl =\n",
              "          document.querySelector('#df-d1c642c2-42fd-4742-a8c6-e2bbd1d8dec6 button.colab-df-convert');\n",
              "        buttonEl.style.display =\n",
              "          google.colab.kernel.accessAllowed ? 'block' : 'none';\n",
              "\n",
              "        async function convertToInteractive(key) {\n",
              "          const element = document.querySelector('#df-d1c642c2-42fd-4742-a8c6-e2bbd1d8dec6');\n",
              "          const dataTable =\n",
              "            await google.colab.kernel.invokeFunction('convertToInteractive',\n",
              "                                                     [key], {});\n",
              "          if (!dataTable) return;\n",
              "\n",
              "          const docLinkHtml = 'Like what you see? Visit the ' +\n",
              "            '<a target=\"_blank\" href=https://colab.research.google.com/notebooks/data_table.ipynb>data table notebook</a>'\n",
              "            + ' to learn more about interactive tables.';\n",
              "          element.innerHTML = '';\n",
              "          dataTable['output_type'] = 'display_data';\n",
              "          await google.colab.output.renderOutput(dataTable, element);\n",
              "          const docLink = document.createElement('div');\n",
              "          docLink.innerHTML = docLinkHtml;\n",
              "          element.appendChild(docLink);\n",
              "        }\n",
              "      </script>\n",
              "    </div>\n",
              "  </div>\n",
              "  "
            ]
          },
          "metadata": {},
          "execution_count": 40
        }
      ],
      "source": [
        "m1"
      ]
    },
    {
      "cell_type": "code",
      "execution_count": 41,
      "metadata": {
        "id": "P0rxCOdiGWMY"
      },
      "outputs": [],
      "source": [
        "internet1 = internet.pivot_table(index=['user_id', 'month'], values='mb_used', aggfunc='sum')# формируем сводную таблицу по ID и месяцам / create a pivot table on ID and month"
      ]
    },
    {
      "cell_type": "code",
      "execution_count": 42,
      "metadata": {
        "colab": {
          "base_uri": "https://localhost:8080/",
          "height": 454
        },
        "id": "jC2cIsNaGWMY",
        "outputId": "53aa4011-fa32-42d3-d4e7-d0781f368e6a"
      },
      "outputs": [
        {
          "output_type": "execute_result",
          "data": {
            "text/plain": [
              "                mb_used\n",
              "user_id month          \n",
              "1000    5       2253.49\n",
              "        6      23233.77\n",
              "        7      14003.64\n",
              "        8      14055.93\n",
              "        9      14568.91\n",
              "...                 ...\n",
              "1498    10     20579.36\n",
              "1499    9       1845.75\n",
              "        10     17788.51\n",
              "        11     17963.31\n",
              "        12     13055.58\n",
              "\n",
              "[3203 rows x 1 columns]"
            ],
            "text/html": [
              "\n",
              "  <div id=\"df-1c4a6227-b6ed-45f4-85b1-67ed1ddb793c\">\n",
              "    <div class=\"colab-df-container\">\n",
              "      <div>\n",
              "<style scoped>\n",
              "    .dataframe tbody tr th:only-of-type {\n",
              "        vertical-align: middle;\n",
              "    }\n",
              "\n",
              "    .dataframe tbody tr th {\n",
              "        vertical-align: top;\n",
              "    }\n",
              "\n",
              "    .dataframe thead th {\n",
              "        text-align: right;\n",
              "    }\n",
              "</style>\n",
              "<table border=\"1\" class=\"dataframe\">\n",
              "  <thead>\n",
              "    <tr style=\"text-align: right;\">\n",
              "      <th></th>\n",
              "      <th></th>\n",
              "      <th>mb_used</th>\n",
              "    </tr>\n",
              "    <tr>\n",
              "      <th>user_id</th>\n",
              "      <th>month</th>\n",
              "      <th></th>\n",
              "    </tr>\n",
              "  </thead>\n",
              "  <tbody>\n",
              "    <tr>\n",
              "      <th rowspan=\"5\" valign=\"top\">1000</th>\n",
              "      <th>5</th>\n",
              "      <td>2253.49</td>\n",
              "    </tr>\n",
              "    <tr>\n",
              "      <th>6</th>\n",
              "      <td>23233.77</td>\n",
              "    </tr>\n",
              "    <tr>\n",
              "      <th>7</th>\n",
              "      <td>14003.64</td>\n",
              "    </tr>\n",
              "    <tr>\n",
              "      <th>8</th>\n",
              "      <td>14055.93</td>\n",
              "    </tr>\n",
              "    <tr>\n",
              "      <th>9</th>\n",
              "      <td>14568.91</td>\n",
              "    </tr>\n",
              "    <tr>\n",
              "      <th>...</th>\n",
              "      <th>...</th>\n",
              "      <td>...</td>\n",
              "    </tr>\n",
              "    <tr>\n",
              "      <th>1498</th>\n",
              "      <th>10</th>\n",
              "      <td>20579.36</td>\n",
              "    </tr>\n",
              "    <tr>\n",
              "      <th rowspan=\"4\" valign=\"top\">1499</th>\n",
              "      <th>9</th>\n",
              "      <td>1845.75</td>\n",
              "    </tr>\n",
              "    <tr>\n",
              "      <th>10</th>\n",
              "      <td>17788.51</td>\n",
              "    </tr>\n",
              "    <tr>\n",
              "      <th>11</th>\n",
              "      <td>17963.31</td>\n",
              "    </tr>\n",
              "    <tr>\n",
              "      <th>12</th>\n",
              "      <td>13055.58</td>\n",
              "    </tr>\n",
              "  </tbody>\n",
              "</table>\n",
              "<p>3203 rows × 1 columns</p>\n",
              "</div>\n",
              "      <button class=\"colab-df-convert\" onclick=\"convertToInteractive('df-1c4a6227-b6ed-45f4-85b1-67ed1ddb793c')\"\n",
              "              title=\"Convert this dataframe to an interactive table.\"\n",
              "              style=\"display:none;\">\n",
              "        \n",
              "  <svg xmlns=\"http://www.w3.org/2000/svg\" height=\"24px\"viewBox=\"0 0 24 24\"\n",
              "       width=\"24px\">\n",
              "    <path d=\"M0 0h24v24H0V0z\" fill=\"none\"/>\n",
              "    <path d=\"M18.56 5.44l.94 2.06.94-2.06 2.06-.94-2.06-.94-.94-2.06-.94 2.06-2.06.94zm-11 1L8.5 8.5l.94-2.06 2.06-.94-2.06-.94L8.5 2.5l-.94 2.06-2.06.94zm10 10l.94 2.06.94-2.06 2.06-.94-2.06-.94-.94-2.06-.94 2.06-2.06.94z\"/><path d=\"M17.41 7.96l-1.37-1.37c-.4-.4-.92-.59-1.43-.59-.52 0-1.04.2-1.43.59L10.3 9.45l-7.72 7.72c-.78.78-.78 2.05 0 2.83L4 21.41c.39.39.9.59 1.41.59.51 0 1.02-.2 1.41-.59l7.78-7.78 2.81-2.81c.8-.78.8-2.07 0-2.86zM5.41 20L4 18.59l7.72-7.72 1.47 1.35L5.41 20z\"/>\n",
              "  </svg>\n",
              "      </button>\n",
              "      \n",
              "  <style>\n",
              "    .colab-df-container {\n",
              "      display:flex;\n",
              "      flex-wrap:wrap;\n",
              "      gap: 12px;\n",
              "    }\n",
              "\n",
              "    .colab-df-convert {\n",
              "      background-color: #E8F0FE;\n",
              "      border: none;\n",
              "      border-radius: 50%;\n",
              "      cursor: pointer;\n",
              "      display: none;\n",
              "      fill: #1967D2;\n",
              "      height: 32px;\n",
              "      padding: 0 0 0 0;\n",
              "      width: 32px;\n",
              "    }\n",
              "\n",
              "    .colab-df-convert:hover {\n",
              "      background-color: #E2EBFA;\n",
              "      box-shadow: 0px 1px 2px rgba(60, 64, 67, 0.3), 0px 1px 3px 1px rgba(60, 64, 67, 0.15);\n",
              "      fill: #174EA6;\n",
              "    }\n",
              "\n",
              "    [theme=dark] .colab-df-convert {\n",
              "      background-color: #3B4455;\n",
              "      fill: #D2E3FC;\n",
              "    }\n",
              "\n",
              "    [theme=dark] .colab-df-convert:hover {\n",
              "      background-color: #434B5C;\n",
              "      box-shadow: 0px 1px 3px 1px rgba(0, 0, 0, 0.15);\n",
              "      filter: drop-shadow(0px 1px 2px rgba(0, 0, 0, 0.3));\n",
              "      fill: #FFFFFF;\n",
              "    }\n",
              "  </style>\n",
              "\n",
              "      <script>\n",
              "        const buttonEl =\n",
              "          document.querySelector('#df-1c4a6227-b6ed-45f4-85b1-67ed1ddb793c button.colab-df-convert');\n",
              "        buttonEl.style.display =\n",
              "          google.colab.kernel.accessAllowed ? 'block' : 'none';\n",
              "\n",
              "        async function convertToInteractive(key) {\n",
              "          const element = document.querySelector('#df-1c4a6227-b6ed-45f4-85b1-67ed1ddb793c');\n",
              "          const dataTable =\n",
              "            await google.colab.kernel.invokeFunction('convertToInteractive',\n",
              "                                                     [key], {});\n",
              "          if (!dataTable) return;\n",
              "\n",
              "          const docLinkHtml = 'Like what you see? Visit the ' +\n",
              "            '<a target=\"_blank\" href=https://colab.research.google.com/notebooks/data_table.ipynb>data table notebook</a>'\n",
              "            + ' to learn more about interactive tables.';\n",
              "          element.innerHTML = '';\n",
              "          dataTable['output_type'] = 'display_data';\n",
              "          await google.colab.output.renderOutput(dataTable, element);\n",
              "          const docLink = document.createElement('div');\n",
              "          docLink.innerHTML = docLinkHtml;\n",
              "          element.appendChild(docLink);\n",
              "        }\n",
              "      </script>\n",
              "    </div>\n",
              "  </div>\n",
              "  "
            ]
          },
          "metadata": {},
          "execution_count": 42
        }
      ],
      "source": [
        "internet1"
      ]
    },
    {
      "cell_type": "code",
      "execution_count": 43,
      "metadata": {
        "id": "nTNveSQDGWMY"
      },
      "outputs": [],
      "source": [
        "internet1['gb_used'] =np.ceil(internet1['mb_used'] / 1024) # add a new column with Gb"
      ]
    },
    {
      "cell_type": "code",
      "execution_count": 44,
      "metadata": {
        "colab": {
          "base_uri": "https://localhost:8080/"
        },
        "id": "IEJqCbfkGWMZ",
        "outputId": "7925b619-0f49-4a91-8092-7aecb7575a6b"
      },
      "outputs": [
        {
          "output_type": "stream",
          "name": "stderr",
          "text": [
            "/usr/local/lib/python3.7/dist-packages/ipykernel_launcher.py:1: FutureWarning: In a future version of pandas all arguments of DataFrame.drop except for the argument 'labels' will be keyword-only\n",
            "  \"\"\"Entry point for launching an IPython kernel.\n"
          ]
        }
      ],
      "source": [
        "internet1 = internet1.drop('mb_used', 1) # drop the column with Mb"
      ]
    },
    {
      "cell_type": "code",
      "execution_count": 45,
      "metadata": {
        "colab": {
          "base_uri": "https://localhost:8080/",
          "height": 454
        },
        "id": "LM2V6zxDGWMZ",
        "outputId": "69d1d51d-d826-4240-8d55-3c250acd4511"
      },
      "outputs": [
        {
          "output_type": "execute_result",
          "data": {
            "text/plain": [
              "               gb_used\n",
              "user_id month         \n",
              "1000    5          3.0\n",
              "        6         23.0\n",
              "        7         14.0\n",
              "        8         14.0\n",
              "        9         15.0\n",
              "...                ...\n",
              "1498    10        21.0\n",
              "1499    9          2.0\n",
              "        10        18.0\n",
              "        11        18.0\n",
              "        12        13.0\n",
              "\n",
              "[3203 rows x 1 columns]"
            ],
            "text/html": [
              "\n",
              "  <div id=\"df-6936ae41-d849-476b-9589-4cf21b8cbfcc\">\n",
              "    <div class=\"colab-df-container\">\n",
              "      <div>\n",
              "<style scoped>\n",
              "    .dataframe tbody tr th:only-of-type {\n",
              "        vertical-align: middle;\n",
              "    }\n",
              "\n",
              "    .dataframe tbody tr th {\n",
              "        vertical-align: top;\n",
              "    }\n",
              "\n",
              "    .dataframe thead th {\n",
              "        text-align: right;\n",
              "    }\n",
              "</style>\n",
              "<table border=\"1\" class=\"dataframe\">\n",
              "  <thead>\n",
              "    <tr style=\"text-align: right;\">\n",
              "      <th></th>\n",
              "      <th></th>\n",
              "      <th>gb_used</th>\n",
              "    </tr>\n",
              "    <tr>\n",
              "      <th>user_id</th>\n",
              "      <th>month</th>\n",
              "      <th></th>\n",
              "    </tr>\n",
              "  </thead>\n",
              "  <tbody>\n",
              "    <tr>\n",
              "      <th rowspan=\"5\" valign=\"top\">1000</th>\n",
              "      <th>5</th>\n",
              "      <td>3.0</td>\n",
              "    </tr>\n",
              "    <tr>\n",
              "      <th>6</th>\n",
              "      <td>23.0</td>\n",
              "    </tr>\n",
              "    <tr>\n",
              "      <th>7</th>\n",
              "      <td>14.0</td>\n",
              "    </tr>\n",
              "    <tr>\n",
              "      <th>8</th>\n",
              "      <td>14.0</td>\n",
              "    </tr>\n",
              "    <tr>\n",
              "      <th>9</th>\n",
              "      <td>15.0</td>\n",
              "    </tr>\n",
              "    <tr>\n",
              "      <th>...</th>\n",
              "      <th>...</th>\n",
              "      <td>...</td>\n",
              "    </tr>\n",
              "    <tr>\n",
              "      <th>1498</th>\n",
              "      <th>10</th>\n",
              "      <td>21.0</td>\n",
              "    </tr>\n",
              "    <tr>\n",
              "      <th rowspan=\"4\" valign=\"top\">1499</th>\n",
              "      <th>9</th>\n",
              "      <td>2.0</td>\n",
              "    </tr>\n",
              "    <tr>\n",
              "      <th>10</th>\n",
              "      <td>18.0</td>\n",
              "    </tr>\n",
              "    <tr>\n",
              "      <th>11</th>\n",
              "      <td>18.0</td>\n",
              "    </tr>\n",
              "    <tr>\n",
              "      <th>12</th>\n",
              "      <td>13.0</td>\n",
              "    </tr>\n",
              "  </tbody>\n",
              "</table>\n",
              "<p>3203 rows × 1 columns</p>\n",
              "</div>\n",
              "      <button class=\"colab-df-convert\" onclick=\"convertToInteractive('df-6936ae41-d849-476b-9589-4cf21b8cbfcc')\"\n",
              "              title=\"Convert this dataframe to an interactive table.\"\n",
              "              style=\"display:none;\">\n",
              "        \n",
              "  <svg xmlns=\"http://www.w3.org/2000/svg\" height=\"24px\"viewBox=\"0 0 24 24\"\n",
              "       width=\"24px\">\n",
              "    <path d=\"M0 0h24v24H0V0z\" fill=\"none\"/>\n",
              "    <path d=\"M18.56 5.44l.94 2.06.94-2.06 2.06-.94-2.06-.94-.94-2.06-.94 2.06-2.06.94zm-11 1L8.5 8.5l.94-2.06 2.06-.94-2.06-.94L8.5 2.5l-.94 2.06-2.06.94zm10 10l.94 2.06.94-2.06 2.06-.94-2.06-.94-.94-2.06-.94 2.06-2.06.94z\"/><path d=\"M17.41 7.96l-1.37-1.37c-.4-.4-.92-.59-1.43-.59-.52 0-1.04.2-1.43.59L10.3 9.45l-7.72 7.72c-.78.78-.78 2.05 0 2.83L4 21.41c.39.39.9.59 1.41.59.51 0 1.02-.2 1.41-.59l7.78-7.78 2.81-2.81c.8-.78.8-2.07 0-2.86zM5.41 20L4 18.59l7.72-7.72 1.47 1.35L5.41 20z\"/>\n",
              "  </svg>\n",
              "      </button>\n",
              "      \n",
              "  <style>\n",
              "    .colab-df-container {\n",
              "      display:flex;\n",
              "      flex-wrap:wrap;\n",
              "      gap: 12px;\n",
              "    }\n",
              "\n",
              "    .colab-df-convert {\n",
              "      background-color: #E8F0FE;\n",
              "      border: none;\n",
              "      border-radius: 50%;\n",
              "      cursor: pointer;\n",
              "      display: none;\n",
              "      fill: #1967D2;\n",
              "      height: 32px;\n",
              "      padding: 0 0 0 0;\n",
              "      width: 32px;\n",
              "    }\n",
              "\n",
              "    .colab-df-convert:hover {\n",
              "      background-color: #E2EBFA;\n",
              "      box-shadow: 0px 1px 2px rgba(60, 64, 67, 0.3), 0px 1px 3px 1px rgba(60, 64, 67, 0.15);\n",
              "      fill: #174EA6;\n",
              "    }\n",
              "\n",
              "    [theme=dark] .colab-df-convert {\n",
              "      background-color: #3B4455;\n",
              "      fill: #D2E3FC;\n",
              "    }\n",
              "\n",
              "    [theme=dark] .colab-df-convert:hover {\n",
              "      background-color: #434B5C;\n",
              "      box-shadow: 0px 1px 3px 1px rgba(0, 0, 0, 0.15);\n",
              "      filter: drop-shadow(0px 1px 2px rgba(0, 0, 0, 0.3));\n",
              "      fill: #FFFFFF;\n",
              "    }\n",
              "  </style>\n",
              "\n",
              "      <script>\n",
              "        const buttonEl =\n",
              "          document.querySelector('#df-6936ae41-d849-476b-9589-4cf21b8cbfcc button.colab-df-convert');\n",
              "        buttonEl.style.display =\n",
              "          google.colab.kernel.accessAllowed ? 'block' : 'none';\n",
              "\n",
              "        async function convertToInteractive(key) {\n",
              "          const element = document.querySelector('#df-6936ae41-d849-476b-9589-4cf21b8cbfcc');\n",
              "          const dataTable =\n",
              "            await google.colab.kernel.invokeFunction('convertToInteractive',\n",
              "                                                     [key], {});\n",
              "          if (!dataTable) return;\n",
              "\n",
              "          const docLinkHtml = 'Like what you see? Visit the ' +\n",
              "            '<a target=\"_blank\" href=https://colab.research.google.com/notebooks/data_table.ipynb>data table notebook</a>'\n",
              "            + ' to learn more about interactive tables.';\n",
              "          element.innerHTML = '';\n",
              "          dataTable['output_type'] = 'display_data';\n",
              "          await google.colab.output.renderOutput(dataTable, element);\n",
              "          const docLink = document.createElement('div');\n",
              "          docLink.innerHTML = docLinkHtml;\n",
              "          element.appendChild(docLink);\n",
              "        }\n",
              "      </script>\n",
              "    </div>\n",
              "  </div>\n",
              "  "
            ]
          },
          "metadata": {},
          "execution_count": 45
        }
      ],
      "source": [
        "internet1"
      ]
    },
    {
      "cell_type": "code",
      "execution_count": 46,
      "metadata": {
        "id": "4GlDFEQBGWMZ"
      },
      "outputs": [],
      "source": [
        "users = users[['user_id', 'tariff', 'city']]# оставляем нужные столбцы в таблице users / take necessary columns"
      ]
    },
    {
      "cell_type": "code",
      "execution_count": 47,
      "metadata": {
        "id": "3fLzKTvLGWMZ"
      },
      "outputs": [],
      "source": [
        "piv = c1.join(m1, how='outer') #соединяем звонки и смс / join tables: calls and SMS"
      ]
    },
    {
      "cell_type": "code",
      "execution_count": 48,
      "metadata": {
        "colab": {
          "base_uri": "https://localhost:8080/",
          "height": 454
        },
        "id": "WGmg2bOyGWMZ",
        "outputId": "64cc0940-671f-4f2b-e6dc-5f290d4e18f7"
      },
      "outputs": [
        {
          "output_type": "execute_result",
          "data": {
            "text/plain": [
              "               duration    id\n",
              "user_id month                \n",
              "1000    5         159.0  22.0\n",
              "        6         172.0  60.0\n",
              "        7         340.0  75.0\n",
              "        8         408.0  81.0\n",
              "        9         466.0  57.0\n",
              "...                 ...   ...\n",
              "1498    10        247.0  42.0\n",
              "1499    9          70.0  11.0\n",
              "        10        449.0  48.0\n",
              "        11        612.0  59.0\n",
              "        12        492.0  66.0\n",
              "\n",
              "[3213 rows x 2 columns]"
            ],
            "text/html": [
              "\n",
              "  <div id=\"df-da84e260-2a91-4fcc-8832-bdc8d2d7baa0\">\n",
              "    <div class=\"colab-df-container\">\n",
              "      <div>\n",
              "<style scoped>\n",
              "    .dataframe tbody tr th:only-of-type {\n",
              "        vertical-align: middle;\n",
              "    }\n",
              "\n",
              "    .dataframe tbody tr th {\n",
              "        vertical-align: top;\n",
              "    }\n",
              "\n",
              "    .dataframe thead th {\n",
              "        text-align: right;\n",
              "    }\n",
              "</style>\n",
              "<table border=\"1\" class=\"dataframe\">\n",
              "  <thead>\n",
              "    <tr style=\"text-align: right;\">\n",
              "      <th></th>\n",
              "      <th></th>\n",
              "      <th>duration</th>\n",
              "      <th>id</th>\n",
              "    </tr>\n",
              "    <tr>\n",
              "      <th>user_id</th>\n",
              "      <th>month</th>\n",
              "      <th></th>\n",
              "      <th></th>\n",
              "    </tr>\n",
              "  </thead>\n",
              "  <tbody>\n",
              "    <tr>\n",
              "      <th rowspan=\"5\" valign=\"top\">1000</th>\n",
              "      <th>5</th>\n",
              "      <td>159.0</td>\n",
              "      <td>22.0</td>\n",
              "    </tr>\n",
              "    <tr>\n",
              "      <th>6</th>\n",
              "      <td>172.0</td>\n",
              "      <td>60.0</td>\n",
              "    </tr>\n",
              "    <tr>\n",
              "      <th>7</th>\n",
              "      <td>340.0</td>\n",
              "      <td>75.0</td>\n",
              "    </tr>\n",
              "    <tr>\n",
              "      <th>8</th>\n",
              "      <td>408.0</td>\n",
              "      <td>81.0</td>\n",
              "    </tr>\n",
              "    <tr>\n",
              "      <th>9</th>\n",
              "      <td>466.0</td>\n",
              "      <td>57.0</td>\n",
              "    </tr>\n",
              "    <tr>\n",
              "      <th>...</th>\n",
              "      <th>...</th>\n",
              "      <td>...</td>\n",
              "      <td>...</td>\n",
              "    </tr>\n",
              "    <tr>\n",
              "      <th>1498</th>\n",
              "      <th>10</th>\n",
              "      <td>247.0</td>\n",
              "      <td>42.0</td>\n",
              "    </tr>\n",
              "    <tr>\n",
              "      <th rowspan=\"4\" valign=\"top\">1499</th>\n",
              "      <th>9</th>\n",
              "      <td>70.0</td>\n",
              "      <td>11.0</td>\n",
              "    </tr>\n",
              "    <tr>\n",
              "      <th>10</th>\n",
              "      <td>449.0</td>\n",
              "      <td>48.0</td>\n",
              "    </tr>\n",
              "    <tr>\n",
              "      <th>11</th>\n",
              "      <td>612.0</td>\n",
              "      <td>59.0</td>\n",
              "    </tr>\n",
              "    <tr>\n",
              "      <th>12</th>\n",
              "      <td>492.0</td>\n",
              "      <td>66.0</td>\n",
              "    </tr>\n",
              "  </tbody>\n",
              "</table>\n",
              "<p>3213 rows × 2 columns</p>\n",
              "</div>\n",
              "      <button class=\"colab-df-convert\" onclick=\"convertToInteractive('df-da84e260-2a91-4fcc-8832-bdc8d2d7baa0')\"\n",
              "              title=\"Convert this dataframe to an interactive table.\"\n",
              "              style=\"display:none;\">\n",
              "        \n",
              "  <svg xmlns=\"http://www.w3.org/2000/svg\" height=\"24px\"viewBox=\"0 0 24 24\"\n",
              "       width=\"24px\">\n",
              "    <path d=\"M0 0h24v24H0V0z\" fill=\"none\"/>\n",
              "    <path d=\"M18.56 5.44l.94 2.06.94-2.06 2.06-.94-2.06-.94-.94-2.06-.94 2.06-2.06.94zm-11 1L8.5 8.5l.94-2.06 2.06-.94-2.06-.94L8.5 2.5l-.94 2.06-2.06.94zm10 10l.94 2.06.94-2.06 2.06-.94-2.06-.94-.94-2.06-.94 2.06-2.06.94z\"/><path d=\"M17.41 7.96l-1.37-1.37c-.4-.4-.92-.59-1.43-.59-.52 0-1.04.2-1.43.59L10.3 9.45l-7.72 7.72c-.78.78-.78 2.05 0 2.83L4 21.41c.39.39.9.59 1.41.59.51 0 1.02-.2 1.41-.59l7.78-7.78 2.81-2.81c.8-.78.8-2.07 0-2.86zM5.41 20L4 18.59l7.72-7.72 1.47 1.35L5.41 20z\"/>\n",
              "  </svg>\n",
              "      </button>\n",
              "      \n",
              "  <style>\n",
              "    .colab-df-container {\n",
              "      display:flex;\n",
              "      flex-wrap:wrap;\n",
              "      gap: 12px;\n",
              "    }\n",
              "\n",
              "    .colab-df-convert {\n",
              "      background-color: #E8F0FE;\n",
              "      border: none;\n",
              "      border-radius: 50%;\n",
              "      cursor: pointer;\n",
              "      display: none;\n",
              "      fill: #1967D2;\n",
              "      height: 32px;\n",
              "      padding: 0 0 0 0;\n",
              "      width: 32px;\n",
              "    }\n",
              "\n",
              "    .colab-df-convert:hover {\n",
              "      background-color: #E2EBFA;\n",
              "      box-shadow: 0px 1px 2px rgba(60, 64, 67, 0.3), 0px 1px 3px 1px rgba(60, 64, 67, 0.15);\n",
              "      fill: #174EA6;\n",
              "    }\n",
              "\n",
              "    [theme=dark] .colab-df-convert {\n",
              "      background-color: #3B4455;\n",
              "      fill: #D2E3FC;\n",
              "    }\n",
              "\n",
              "    [theme=dark] .colab-df-convert:hover {\n",
              "      background-color: #434B5C;\n",
              "      box-shadow: 0px 1px 3px 1px rgba(0, 0, 0, 0.15);\n",
              "      filter: drop-shadow(0px 1px 2px rgba(0, 0, 0, 0.3));\n",
              "      fill: #FFFFFF;\n",
              "    }\n",
              "  </style>\n",
              "\n",
              "      <script>\n",
              "        const buttonEl =\n",
              "          document.querySelector('#df-da84e260-2a91-4fcc-8832-bdc8d2d7baa0 button.colab-df-convert');\n",
              "        buttonEl.style.display =\n",
              "          google.colab.kernel.accessAllowed ? 'block' : 'none';\n",
              "\n",
              "        async function convertToInteractive(key) {\n",
              "          const element = document.querySelector('#df-da84e260-2a91-4fcc-8832-bdc8d2d7baa0');\n",
              "          const dataTable =\n",
              "            await google.colab.kernel.invokeFunction('convertToInteractive',\n",
              "                                                     [key], {});\n",
              "          if (!dataTable) return;\n",
              "\n",
              "          const docLinkHtml = 'Like what you see? Visit the ' +\n",
              "            '<a target=\"_blank\" href=https://colab.research.google.com/notebooks/data_table.ipynb>data table notebook</a>'\n",
              "            + ' to learn more about interactive tables.';\n",
              "          element.innerHTML = '';\n",
              "          dataTable['output_type'] = 'display_data';\n",
              "          await google.colab.output.renderOutput(dataTable, element);\n",
              "          const docLink = document.createElement('div');\n",
              "          docLink.innerHTML = docLinkHtml;\n",
              "          element.appendChild(docLink);\n",
              "        }\n",
              "      </script>\n",
              "    </div>\n",
              "  </div>\n",
              "  "
            ]
          },
          "metadata": {},
          "execution_count": 48
        }
      ],
      "source": [
        "piv"
      ]
    },
    {
      "cell_type": "code",
      "execution_count": 49,
      "metadata": {
        "id": "z3R_kei0GWMa"
      },
      "outputs": [],
      "source": [
        "piv1 = piv.join(internet1, how='outer') # добавляем данные по интернету к сводной таблице / join the data of the internet"
      ]
    },
    {
      "cell_type": "code",
      "execution_count": 50,
      "metadata": {
        "colab": {
          "base_uri": "https://localhost:8080/",
          "height": 454
        },
        "id": "qJNUNz32GWMa",
        "outputId": "bbb7413a-c320-4728-c241-b9513f947ff9"
      },
      "outputs": [
        {
          "output_type": "execute_result",
          "data": {
            "text/plain": [
              "               duration    id  gb_used\n",
              "user_id month                         \n",
              "1000    5         159.0  22.0      3.0\n",
              "        6         172.0  60.0     23.0\n",
              "        7         340.0  75.0     14.0\n",
              "        8         408.0  81.0     14.0\n",
              "        9         466.0  57.0     15.0\n",
              "...                 ...   ...      ...\n",
              "1498    10        247.0  42.0     21.0\n",
              "1499    9          70.0  11.0      2.0\n",
              "        10        449.0  48.0     18.0\n",
              "        11        612.0  59.0     18.0\n",
              "        12        492.0  66.0     13.0\n",
              "\n",
              "[3214 rows x 3 columns]"
            ],
            "text/html": [
              "\n",
              "  <div id=\"df-70f6e17b-8d98-472a-871b-e22738f04d99\">\n",
              "    <div class=\"colab-df-container\">\n",
              "      <div>\n",
              "<style scoped>\n",
              "    .dataframe tbody tr th:only-of-type {\n",
              "        vertical-align: middle;\n",
              "    }\n",
              "\n",
              "    .dataframe tbody tr th {\n",
              "        vertical-align: top;\n",
              "    }\n",
              "\n",
              "    .dataframe thead th {\n",
              "        text-align: right;\n",
              "    }\n",
              "</style>\n",
              "<table border=\"1\" class=\"dataframe\">\n",
              "  <thead>\n",
              "    <tr style=\"text-align: right;\">\n",
              "      <th></th>\n",
              "      <th></th>\n",
              "      <th>duration</th>\n",
              "      <th>id</th>\n",
              "      <th>gb_used</th>\n",
              "    </tr>\n",
              "    <tr>\n",
              "      <th>user_id</th>\n",
              "      <th>month</th>\n",
              "      <th></th>\n",
              "      <th></th>\n",
              "      <th></th>\n",
              "    </tr>\n",
              "  </thead>\n",
              "  <tbody>\n",
              "    <tr>\n",
              "      <th rowspan=\"5\" valign=\"top\">1000</th>\n",
              "      <th>5</th>\n",
              "      <td>159.0</td>\n",
              "      <td>22.0</td>\n",
              "      <td>3.0</td>\n",
              "    </tr>\n",
              "    <tr>\n",
              "      <th>6</th>\n",
              "      <td>172.0</td>\n",
              "      <td>60.0</td>\n",
              "      <td>23.0</td>\n",
              "    </tr>\n",
              "    <tr>\n",
              "      <th>7</th>\n",
              "      <td>340.0</td>\n",
              "      <td>75.0</td>\n",
              "      <td>14.0</td>\n",
              "    </tr>\n",
              "    <tr>\n",
              "      <th>8</th>\n",
              "      <td>408.0</td>\n",
              "      <td>81.0</td>\n",
              "      <td>14.0</td>\n",
              "    </tr>\n",
              "    <tr>\n",
              "      <th>9</th>\n",
              "      <td>466.0</td>\n",
              "      <td>57.0</td>\n",
              "      <td>15.0</td>\n",
              "    </tr>\n",
              "    <tr>\n",
              "      <th>...</th>\n",
              "      <th>...</th>\n",
              "      <td>...</td>\n",
              "      <td>...</td>\n",
              "      <td>...</td>\n",
              "    </tr>\n",
              "    <tr>\n",
              "      <th>1498</th>\n",
              "      <th>10</th>\n",
              "      <td>247.0</td>\n",
              "      <td>42.0</td>\n",
              "      <td>21.0</td>\n",
              "    </tr>\n",
              "    <tr>\n",
              "      <th rowspan=\"4\" valign=\"top\">1499</th>\n",
              "      <th>9</th>\n",
              "      <td>70.0</td>\n",
              "      <td>11.0</td>\n",
              "      <td>2.0</td>\n",
              "    </tr>\n",
              "    <tr>\n",
              "      <th>10</th>\n",
              "      <td>449.0</td>\n",
              "      <td>48.0</td>\n",
              "      <td>18.0</td>\n",
              "    </tr>\n",
              "    <tr>\n",
              "      <th>11</th>\n",
              "      <td>612.0</td>\n",
              "      <td>59.0</td>\n",
              "      <td>18.0</td>\n",
              "    </tr>\n",
              "    <tr>\n",
              "      <th>12</th>\n",
              "      <td>492.0</td>\n",
              "      <td>66.0</td>\n",
              "      <td>13.0</td>\n",
              "    </tr>\n",
              "  </tbody>\n",
              "</table>\n",
              "<p>3214 rows × 3 columns</p>\n",
              "</div>\n",
              "      <button class=\"colab-df-convert\" onclick=\"convertToInteractive('df-70f6e17b-8d98-472a-871b-e22738f04d99')\"\n",
              "              title=\"Convert this dataframe to an interactive table.\"\n",
              "              style=\"display:none;\">\n",
              "        \n",
              "  <svg xmlns=\"http://www.w3.org/2000/svg\" height=\"24px\"viewBox=\"0 0 24 24\"\n",
              "       width=\"24px\">\n",
              "    <path d=\"M0 0h24v24H0V0z\" fill=\"none\"/>\n",
              "    <path d=\"M18.56 5.44l.94 2.06.94-2.06 2.06-.94-2.06-.94-.94-2.06-.94 2.06-2.06.94zm-11 1L8.5 8.5l.94-2.06 2.06-.94-2.06-.94L8.5 2.5l-.94 2.06-2.06.94zm10 10l.94 2.06.94-2.06 2.06-.94-2.06-.94-.94-2.06-.94 2.06-2.06.94z\"/><path d=\"M17.41 7.96l-1.37-1.37c-.4-.4-.92-.59-1.43-.59-.52 0-1.04.2-1.43.59L10.3 9.45l-7.72 7.72c-.78.78-.78 2.05 0 2.83L4 21.41c.39.39.9.59 1.41.59.51 0 1.02-.2 1.41-.59l7.78-7.78 2.81-2.81c.8-.78.8-2.07 0-2.86zM5.41 20L4 18.59l7.72-7.72 1.47 1.35L5.41 20z\"/>\n",
              "  </svg>\n",
              "      </button>\n",
              "      \n",
              "  <style>\n",
              "    .colab-df-container {\n",
              "      display:flex;\n",
              "      flex-wrap:wrap;\n",
              "      gap: 12px;\n",
              "    }\n",
              "\n",
              "    .colab-df-convert {\n",
              "      background-color: #E8F0FE;\n",
              "      border: none;\n",
              "      border-radius: 50%;\n",
              "      cursor: pointer;\n",
              "      display: none;\n",
              "      fill: #1967D2;\n",
              "      height: 32px;\n",
              "      padding: 0 0 0 0;\n",
              "      width: 32px;\n",
              "    }\n",
              "\n",
              "    .colab-df-convert:hover {\n",
              "      background-color: #E2EBFA;\n",
              "      box-shadow: 0px 1px 2px rgba(60, 64, 67, 0.3), 0px 1px 3px 1px rgba(60, 64, 67, 0.15);\n",
              "      fill: #174EA6;\n",
              "    }\n",
              "\n",
              "    [theme=dark] .colab-df-convert {\n",
              "      background-color: #3B4455;\n",
              "      fill: #D2E3FC;\n",
              "    }\n",
              "\n",
              "    [theme=dark] .colab-df-convert:hover {\n",
              "      background-color: #434B5C;\n",
              "      box-shadow: 0px 1px 3px 1px rgba(0, 0, 0, 0.15);\n",
              "      filter: drop-shadow(0px 1px 2px rgba(0, 0, 0, 0.3));\n",
              "      fill: #FFFFFF;\n",
              "    }\n",
              "  </style>\n",
              "\n",
              "      <script>\n",
              "        const buttonEl =\n",
              "          document.querySelector('#df-70f6e17b-8d98-472a-871b-e22738f04d99 button.colab-df-convert');\n",
              "        buttonEl.style.display =\n",
              "          google.colab.kernel.accessAllowed ? 'block' : 'none';\n",
              "\n",
              "        async function convertToInteractive(key) {\n",
              "          const element = document.querySelector('#df-70f6e17b-8d98-472a-871b-e22738f04d99');\n",
              "          const dataTable =\n",
              "            await google.colab.kernel.invokeFunction('convertToInteractive',\n",
              "                                                     [key], {});\n",
              "          if (!dataTable) return;\n",
              "\n",
              "          const docLinkHtml = 'Like what you see? Visit the ' +\n",
              "            '<a target=\"_blank\" href=https://colab.research.google.com/notebooks/data_table.ipynb>data table notebook</a>'\n",
              "            + ' to learn more about interactive tables.';\n",
              "          element.innerHTML = '';\n",
              "          dataTable['output_type'] = 'display_data';\n",
              "          await google.colab.output.renderOutput(dataTable, element);\n",
              "          const docLink = document.createElement('div');\n",
              "          docLink.innerHTML = docLinkHtml;\n",
              "          element.appendChild(docLink);\n",
              "        }\n",
              "      </script>\n",
              "    </div>\n",
              "  </div>\n",
              "  "
            ]
          },
          "metadata": {},
          "execution_count": 50
        }
      ],
      "source": [
        "piv1 # смотрим на результат"
      ]
    },
    {
      "cell_type": "code",
      "execution_count": 51,
      "metadata": {
        "id": "l8QOyByMGWMa"
      },
      "outputs": [],
      "source": [
        "df1 = piv1.merge(users,on='user_id', how='left').set_axis(piv1.index, inplace=False)#добавляем данные по пользователям / add the data on users"
      ]
    },
    {
      "cell_type": "code",
      "execution_count": 52,
      "metadata": {
        "colab": {
          "base_uri": "https://localhost:8080/",
          "height": 454
        },
        "id": "75gaufF2GWMa",
        "outputId": "5fe86fe5-63d6-469b-c4d6-689eea665b19"
      },
      "outputs": [
        {
          "output_type": "execute_result",
          "data": {
            "text/plain": [
              "               user_id  duration    id  gb_used tariff         city\n",
              "user_id month                                                      \n",
              "1000    5         1000     159.0  22.0      3.0  ultra    Краснодар\n",
              "        6         1000     172.0  60.0     23.0  ultra    Краснодар\n",
              "        7         1000     340.0  75.0     14.0  ultra    Краснодар\n",
              "        8         1000     408.0  81.0     14.0  ultra    Краснодар\n",
              "        9         1000     466.0  57.0     15.0  ultra    Краснодар\n",
              "...                ...       ...   ...      ...    ...          ...\n",
              "1498    10        1498     247.0  42.0     21.0  smart  Владикавказ\n",
              "1499    9         1499      70.0  11.0      2.0  smart        Пермь\n",
              "        10        1499     449.0  48.0     18.0  smart        Пермь\n",
              "        11        1499     612.0  59.0     18.0  smart        Пермь\n",
              "        12        1499     492.0  66.0     13.0  smart        Пермь\n",
              "\n",
              "[3214 rows x 6 columns]"
            ],
            "text/html": [
              "\n",
              "  <div id=\"df-47a49f96-e3df-48a4-8573-3958fb3d256e\">\n",
              "    <div class=\"colab-df-container\">\n",
              "      <div>\n",
              "<style scoped>\n",
              "    .dataframe tbody tr th:only-of-type {\n",
              "        vertical-align: middle;\n",
              "    }\n",
              "\n",
              "    .dataframe tbody tr th {\n",
              "        vertical-align: top;\n",
              "    }\n",
              "\n",
              "    .dataframe thead th {\n",
              "        text-align: right;\n",
              "    }\n",
              "</style>\n",
              "<table border=\"1\" class=\"dataframe\">\n",
              "  <thead>\n",
              "    <tr style=\"text-align: right;\">\n",
              "      <th></th>\n",
              "      <th></th>\n",
              "      <th>user_id</th>\n",
              "      <th>duration</th>\n",
              "      <th>id</th>\n",
              "      <th>gb_used</th>\n",
              "      <th>tariff</th>\n",
              "      <th>city</th>\n",
              "    </tr>\n",
              "    <tr>\n",
              "      <th>user_id</th>\n",
              "      <th>month</th>\n",
              "      <th></th>\n",
              "      <th></th>\n",
              "      <th></th>\n",
              "      <th></th>\n",
              "      <th></th>\n",
              "      <th></th>\n",
              "    </tr>\n",
              "  </thead>\n",
              "  <tbody>\n",
              "    <tr>\n",
              "      <th rowspan=\"5\" valign=\"top\">1000</th>\n",
              "      <th>5</th>\n",
              "      <td>1000</td>\n",
              "      <td>159.0</td>\n",
              "      <td>22.0</td>\n",
              "      <td>3.0</td>\n",
              "      <td>ultra</td>\n",
              "      <td>Краснодар</td>\n",
              "    </tr>\n",
              "    <tr>\n",
              "      <th>6</th>\n",
              "      <td>1000</td>\n",
              "      <td>172.0</td>\n",
              "      <td>60.0</td>\n",
              "      <td>23.0</td>\n",
              "      <td>ultra</td>\n",
              "      <td>Краснодар</td>\n",
              "    </tr>\n",
              "    <tr>\n",
              "      <th>7</th>\n",
              "      <td>1000</td>\n",
              "      <td>340.0</td>\n",
              "      <td>75.0</td>\n",
              "      <td>14.0</td>\n",
              "      <td>ultra</td>\n",
              "      <td>Краснодар</td>\n",
              "    </tr>\n",
              "    <tr>\n",
              "      <th>8</th>\n",
              "      <td>1000</td>\n",
              "      <td>408.0</td>\n",
              "      <td>81.0</td>\n",
              "      <td>14.0</td>\n",
              "      <td>ultra</td>\n",
              "      <td>Краснодар</td>\n",
              "    </tr>\n",
              "    <tr>\n",
              "      <th>9</th>\n",
              "      <td>1000</td>\n",
              "      <td>466.0</td>\n",
              "      <td>57.0</td>\n",
              "      <td>15.0</td>\n",
              "      <td>ultra</td>\n",
              "      <td>Краснодар</td>\n",
              "    </tr>\n",
              "    <tr>\n",
              "      <th>...</th>\n",
              "      <th>...</th>\n",
              "      <td>...</td>\n",
              "      <td>...</td>\n",
              "      <td>...</td>\n",
              "      <td>...</td>\n",
              "      <td>...</td>\n",
              "      <td>...</td>\n",
              "    </tr>\n",
              "    <tr>\n",
              "      <th>1498</th>\n",
              "      <th>10</th>\n",
              "      <td>1498</td>\n",
              "      <td>247.0</td>\n",
              "      <td>42.0</td>\n",
              "      <td>21.0</td>\n",
              "      <td>smart</td>\n",
              "      <td>Владикавказ</td>\n",
              "    </tr>\n",
              "    <tr>\n",
              "      <th rowspan=\"4\" valign=\"top\">1499</th>\n",
              "      <th>9</th>\n",
              "      <td>1499</td>\n",
              "      <td>70.0</td>\n",
              "      <td>11.0</td>\n",
              "      <td>2.0</td>\n",
              "      <td>smart</td>\n",
              "      <td>Пермь</td>\n",
              "    </tr>\n",
              "    <tr>\n",
              "      <th>10</th>\n",
              "      <td>1499</td>\n",
              "      <td>449.0</td>\n",
              "      <td>48.0</td>\n",
              "      <td>18.0</td>\n",
              "      <td>smart</td>\n",
              "      <td>Пермь</td>\n",
              "    </tr>\n",
              "    <tr>\n",
              "      <th>11</th>\n",
              "      <td>1499</td>\n",
              "      <td>612.0</td>\n",
              "      <td>59.0</td>\n",
              "      <td>18.0</td>\n",
              "      <td>smart</td>\n",
              "      <td>Пермь</td>\n",
              "    </tr>\n",
              "    <tr>\n",
              "      <th>12</th>\n",
              "      <td>1499</td>\n",
              "      <td>492.0</td>\n",
              "      <td>66.0</td>\n",
              "      <td>13.0</td>\n",
              "      <td>smart</td>\n",
              "      <td>Пермь</td>\n",
              "    </tr>\n",
              "  </tbody>\n",
              "</table>\n",
              "<p>3214 rows × 6 columns</p>\n",
              "</div>\n",
              "      <button class=\"colab-df-convert\" onclick=\"convertToInteractive('df-47a49f96-e3df-48a4-8573-3958fb3d256e')\"\n",
              "              title=\"Convert this dataframe to an interactive table.\"\n",
              "              style=\"display:none;\">\n",
              "        \n",
              "  <svg xmlns=\"http://www.w3.org/2000/svg\" height=\"24px\"viewBox=\"0 0 24 24\"\n",
              "       width=\"24px\">\n",
              "    <path d=\"M0 0h24v24H0V0z\" fill=\"none\"/>\n",
              "    <path d=\"M18.56 5.44l.94 2.06.94-2.06 2.06-.94-2.06-.94-.94-2.06-.94 2.06-2.06.94zm-11 1L8.5 8.5l.94-2.06 2.06-.94-2.06-.94L8.5 2.5l-.94 2.06-2.06.94zm10 10l.94 2.06.94-2.06 2.06-.94-2.06-.94-.94-2.06-.94 2.06-2.06.94z\"/><path d=\"M17.41 7.96l-1.37-1.37c-.4-.4-.92-.59-1.43-.59-.52 0-1.04.2-1.43.59L10.3 9.45l-7.72 7.72c-.78.78-.78 2.05 0 2.83L4 21.41c.39.39.9.59 1.41.59.51 0 1.02-.2 1.41-.59l7.78-7.78 2.81-2.81c.8-.78.8-2.07 0-2.86zM5.41 20L4 18.59l7.72-7.72 1.47 1.35L5.41 20z\"/>\n",
              "  </svg>\n",
              "      </button>\n",
              "      \n",
              "  <style>\n",
              "    .colab-df-container {\n",
              "      display:flex;\n",
              "      flex-wrap:wrap;\n",
              "      gap: 12px;\n",
              "    }\n",
              "\n",
              "    .colab-df-convert {\n",
              "      background-color: #E8F0FE;\n",
              "      border: none;\n",
              "      border-radius: 50%;\n",
              "      cursor: pointer;\n",
              "      display: none;\n",
              "      fill: #1967D2;\n",
              "      height: 32px;\n",
              "      padding: 0 0 0 0;\n",
              "      width: 32px;\n",
              "    }\n",
              "\n",
              "    .colab-df-convert:hover {\n",
              "      background-color: #E2EBFA;\n",
              "      box-shadow: 0px 1px 2px rgba(60, 64, 67, 0.3), 0px 1px 3px 1px rgba(60, 64, 67, 0.15);\n",
              "      fill: #174EA6;\n",
              "    }\n",
              "\n",
              "    [theme=dark] .colab-df-convert {\n",
              "      background-color: #3B4455;\n",
              "      fill: #D2E3FC;\n",
              "    }\n",
              "\n",
              "    [theme=dark] .colab-df-convert:hover {\n",
              "      background-color: #434B5C;\n",
              "      box-shadow: 0px 1px 3px 1px rgba(0, 0, 0, 0.15);\n",
              "      filter: drop-shadow(0px 1px 2px rgba(0, 0, 0, 0.3));\n",
              "      fill: #FFFFFF;\n",
              "    }\n",
              "  </style>\n",
              "\n",
              "      <script>\n",
              "        const buttonEl =\n",
              "          document.querySelector('#df-47a49f96-e3df-48a4-8573-3958fb3d256e button.colab-df-convert');\n",
              "        buttonEl.style.display =\n",
              "          google.colab.kernel.accessAllowed ? 'block' : 'none';\n",
              "\n",
              "        async function convertToInteractive(key) {\n",
              "          const element = document.querySelector('#df-47a49f96-e3df-48a4-8573-3958fb3d256e');\n",
              "          const dataTable =\n",
              "            await google.colab.kernel.invokeFunction('convertToInteractive',\n",
              "                                                     [key], {});\n",
              "          if (!dataTable) return;\n",
              "\n",
              "          const docLinkHtml = 'Like what you see? Visit the ' +\n",
              "            '<a target=\"_blank\" href=https://colab.research.google.com/notebooks/data_table.ipynb>data table notebook</a>'\n",
              "            + ' to learn more about interactive tables.';\n",
              "          element.innerHTML = '';\n",
              "          dataTable['output_type'] = 'display_data';\n",
              "          await google.colab.output.renderOutput(dataTable, element);\n",
              "          const docLink = document.createElement('div');\n",
              "          docLink.innerHTML = docLinkHtml;\n",
              "          element.appendChild(docLink);\n",
              "        }\n",
              "      </script>\n",
              "    </div>\n",
              "  </div>\n",
              "  "
            ]
          },
          "metadata": {},
          "execution_count": 52
        }
      ],
      "source": [
        "df1"
      ]
    },
    {
      "cell_type": "code",
      "execution_count": 53,
      "metadata": {
        "colab": {
          "base_uri": "https://localhost:8080/",
          "height": 112
        },
        "id": "ox3agY-HGWMb",
        "outputId": "824ce50c-f185-431f-aad6-a8eada85ab01"
      },
      "outputs": [
        {
          "output_type": "execute_result",
          "data": {
            "text/plain": [
              "   messages_included  mb_per_month_included  minutes_included  \\\n",
              "0                 50                  15360               500   \n",
              "1               1000                  30720              3000   \n",
              "\n",
              "   rub_monthly_fee  rub_per_gb  rub_per_message  rub_per_minute tariff_name  \n",
              "0              550         200                3               3       smart  \n",
              "1             1950         150                1               1       ultra  "
            ],
            "text/html": [
              "\n",
              "  <div id=\"df-4825dae4-7eab-4514-9d29-fb725507b879\">\n",
              "    <div class=\"colab-df-container\">\n",
              "      <div>\n",
              "<style scoped>\n",
              "    .dataframe tbody tr th:only-of-type {\n",
              "        vertical-align: middle;\n",
              "    }\n",
              "\n",
              "    .dataframe tbody tr th {\n",
              "        vertical-align: top;\n",
              "    }\n",
              "\n",
              "    .dataframe thead th {\n",
              "        text-align: right;\n",
              "    }\n",
              "</style>\n",
              "<table border=\"1\" class=\"dataframe\">\n",
              "  <thead>\n",
              "    <tr style=\"text-align: right;\">\n",
              "      <th></th>\n",
              "      <th>messages_included</th>\n",
              "      <th>mb_per_month_included</th>\n",
              "      <th>minutes_included</th>\n",
              "      <th>rub_monthly_fee</th>\n",
              "      <th>rub_per_gb</th>\n",
              "      <th>rub_per_message</th>\n",
              "      <th>rub_per_minute</th>\n",
              "      <th>tariff_name</th>\n",
              "    </tr>\n",
              "  </thead>\n",
              "  <tbody>\n",
              "    <tr>\n",
              "      <th>0</th>\n",
              "      <td>50</td>\n",
              "      <td>15360</td>\n",
              "      <td>500</td>\n",
              "      <td>550</td>\n",
              "      <td>200</td>\n",
              "      <td>3</td>\n",
              "      <td>3</td>\n",
              "      <td>smart</td>\n",
              "    </tr>\n",
              "    <tr>\n",
              "      <th>1</th>\n",
              "      <td>1000</td>\n",
              "      <td>30720</td>\n",
              "      <td>3000</td>\n",
              "      <td>1950</td>\n",
              "      <td>150</td>\n",
              "      <td>1</td>\n",
              "      <td>1</td>\n",
              "      <td>ultra</td>\n",
              "    </tr>\n",
              "  </tbody>\n",
              "</table>\n",
              "</div>\n",
              "      <button class=\"colab-df-convert\" onclick=\"convertToInteractive('df-4825dae4-7eab-4514-9d29-fb725507b879')\"\n",
              "              title=\"Convert this dataframe to an interactive table.\"\n",
              "              style=\"display:none;\">\n",
              "        \n",
              "  <svg xmlns=\"http://www.w3.org/2000/svg\" height=\"24px\"viewBox=\"0 0 24 24\"\n",
              "       width=\"24px\">\n",
              "    <path d=\"M0 0h24v24H0V0z\" fill=\"none\"/>\n",
              "    <path d=\"M18.56 5.44l.94 2.06.94-2.06 2.06-.94-2.06-.94-.94-2.06-.94 2.06-2.06.94zm-11 1L8.5 8.5l.94-2.06 2.06-.94-2.06-.94L8.5 2.5l-.94 2.06-2.06.94zm10 10l.94 2.06.94-2.06 2.06-.94-2.06-.94-.94-2.06-.94 2.06-2.06.94z\"/><path d=\"M17.41 7.96l-1.37-1.37c-.4-.4-.92-.59-1.43-.59-.52 0-1.04.2-1.43.59L10.3 9.45l-7.72 7.72c-.78.78-.78 2.05 0 2.83L4 21.41c.39.39.9.59 1.41.59.51 0 1.02-.2 1.41-.59l7.78-7.78 2.81-2.81c.8-.78.8-2.07 0-2.86zM5.41 20L4 18.59l7.72-7.72 1.47 1.35L5.41 20z\"/>\n",
              "  </svg>\n",
              "      </button>\n",
              "      \n",
              "  <style>\n",
              "    .colab-df-container {\n",
              "      display:flex;\n",
              "      flex-wrap:wrap;\n",
              "      gap: 12px;\n",
              "    }\n",
              "\n",
              "    .colab-df-convert {\n",
              "      background-color: #E8F0FE;\n",
              "      border: none;\n",
              "      border-radius: 50%;\n",
              "      cursor: pointer;\n",
              "      display: none;\n",
              "      fill: #1967D2;\n",
              "      height: 32px;\n",
              "      padding: 0 0 0 0;\n",
              "      width: 32px;\n",
              "    }\n",
              "\n",
              "    .colab-df-convert:hover {\n",
              "      background-color: #E2EBFA;\n",
              "      box-shadow: 0px 1px 2px rgba(60, 64, 67, 0.3), 0px 1px 3px 1px rgba(60, 64, 67, 0.15);\n",
              "      fill: #174EA6;\n",
              "    }\n",
              "\n",
              "    [theme=dark] .colab-df-convert {\n",
              "      background-color: #3B4455;\n",
              "      fill: #D2E3FC;\n",
              "    }\n",
              "\n",
              "    [theme=dark] .colab-df-convert:hover {\n",
              "      background-color: #434B5C;\n",
              "      box-shadow: 0px 1px 3px 1px rgba(0, 0, 0, 0.15);\n",
              "      filter: drop-shadow(0px 1px 2px rgba(0, 0, 0, 0.3));\n",
              "      fill: #FFFFFF;\n",
              "    }\n",
              "  </style>\n",
              "\n",
              "      <script>\n",
              "        const buttonEl =\n",
              "          document.querySelector('#df-4825dae4-7eab-4514-9d29-fb725507b879 button.colab-df-convert');\n",
              "        buttonEl.style.display =\n",
              "          google.colab.kernel.accessAllowed ? 'block' : 'none';\n",
              "\n",
              "        async function convertToInteractive(key) {\n",
              "          const element = document.querySelector('#df-4825dae4-7eab-4514-9d29-fb725507b879');\n",
              "          const dataTable =\n",
              "            await google.colab.kernel.invokeFunction('convertToInteractive',\n",
              "                                                     [key], {});\n",
              "          if (!dataTable) return;\n",
              "\n",
              "          const docLinkHtml = 'Like what you see? Visit the ' +\n",
              "            '<a target=\"_blank\" href=https://colab.research.google.com/notebooks/data_table.ipynb>data table notebook</a>'\n",
              "            + ' to learn more about interactive tables.';\n",
              "          element.innerHTML = '';\n",
              "          dataTable['output_type'] = 'display_data';\n",
              "          await google.colab.output.renderOutput(dataTable, element);\n",
              "          const docLink = document.createElement('div');\n",
              "          docLink.innerHTML = docLinkHtml;\n",
              "          element.appendChild(docLink);\n",
              "        }\n",
              "      </script>\n",
              "    </div>\n",
              "  </div>\n",
              "  "
            ]
          },
          "metadata": {},
          "execution_count": 53
        }
      ],
      "source": [
        "tarrifs"
      ]
    },
    {
      "cell_type": "code",
      "execution_count": 54,
      "metadata": {
        "id": "ap10vOBhGWMb"
      },
      "outputs": [],
      "source": [
        "tarrifs = tarrifs.rename(columns={'tariff_name': 'tariff'}) #переименовываем столбец / rename the column"
      ]
    },
    {
      "cell_type": "code",
      "execution_count": 55,
      "metadata": {
        "colab": {
          "base_uri": "https://localhost:8080/",
          "height": 112
        },
        "id": "R0vyb9QkGWMb",
        "outputId": "abcf6708-0a4e-4aa1-d333-030ac2ba8153"
      },
      "outputs": [
        {
          "output_type": "execute_result",
          "data": {
            "text/plain": [
              "   messages_included  mb_per_month_included  minutes_included  \\\n",
              "0                 50                  15360               500   \n",
              "1               1000                  30720              3000   \n",
              "\n",
              "   rub_monthly_fee  rub_per_gb  rub_per_message  rub_per_minute tariff  \n",
              "0              550         200                3               3  smart  \n",
              "1             1950         150                1               1  ultra  "
            ],
            "text/html": [
              "\n",
              "  <div id=\"df-b1bc6137-467b-4d54-a58d-a0d4f2bac39b\">\n",
              "    <div class=\"colab-df-container\">\n",
              "      <div>\n",
              "<style scoped>\n",
              "    .dataframe tbody tr th:only-of-type {\n",
              "        vertical-align: middle;\n",
              "    }\n",
              "\n",
              "    .dataframe tbody tr th {\n",
              "        vertical-align: top;\n",
              "    }\n",
              "\n",
              "    .dataframe thead th {\n",
              "        text-align: right;\n",
              "    }\n",
              "</style>\n",
              "<table border=\"1\" class=\"dataframe\">\n",
              "  <thead>\n",
              "    <tr style=\"text-align: right;\">\n",
              "      <th></th>\n",
              "      <th>messages_included</th>\n",
              "      <th>mb_per_month_included</th>\n",
              "      <th>minutes_included</th>\n",
              "      <th>rub_monthly_fee</th>\n",
              "      <th>rub_per_gb</th>\n",
              "      <th>rub_per_message</th>\n",
              "      <th>rub_per_minute</th>\n",
              "      <th>tariff</th>\n",
              "    </tr>\n",
              "  </thead>\n",
              "  <tbody>\n",
              "    <tr>\n",
              "      <th>0</th>\n",
              "      <td>50</td>\n",
              "      <td>15360</td>\n",
              "      <td>500</td>\n",
              "      <td>550</td>\n",
              "      <td>200</td>\n",
              "      <td>3</td>\n",
              "      <td>3</td>\n",
              "      <td>smart</td>\n",
              "    </tr>\n",
              "    <tr>\n",
              "      <th>1</th>\n",
              "      <td>1000</td>\n",
              "      <td>30720</td>\n",
              "      <td>3000</td>\n",
              "      <td>1950</td>\n",
              "      <td>150</td>\n",
              "      <td>1</td>\n",
              "      <td>1</td>\n",
              "      <td>ultra</td>\n",
              "    </tr>\n",
              "  </tbody>\n",
              "</table>\n",
              "</div>\n",
              "      <button class=\"colab-df-convert\" onclick=\"convertToInteractive('df-b1bc6137-467b-4d54-a58d-a0d4f2bac39b')\"\n",
              "              title=\"Convert this dataframe to an interactive table.\"\n",
              "              style=\"display:none;\">\n",
              "        \n",
              "  <svg xmlns=\"http://www.w3.org/2000/svg\" height=\"24px\"viewBox=\"0 0 24 24\"\n",
              "       width=\"24px\">\n",
              "    <path d=\"M0 0h24v24H0V0z\" fill=\"none\"/>\n",
              "    <path d=\"M18.56 5.44l.94 2.06.94-2.06 2.06-.94-2.06-.94-.94-2.06-.94 2.06-2.06.94zm-11 1L8.5 8.5l.94-2.06 2.06-.94-2.06-.94L8.5 2.5l-.94 2.06-2.06.94zm10 10l.94 2.06.94-2.06 2.06-.94-2.06-.94-.94-2.06-.94 2.06-2.06.94z\"/><path d=\"M17.41 7.96l-1.37-1.37c-.4-.4-.92-.59-1.43-.59-.52 0-1.04.2-1.43.59L10.3 9.45l-7.72 7.72c-.78.78-.78 2.05 0 2.83L4 21.41c.39.39.9.59 1.41.59.51 0 1.02-.2 1.41-.59l7.78-7.78 2.81-2.81c.8-.78.8-2.07 0-2.86zM5.41 20L4 18.59l7.72-7.72 1.47 1.35L5.41 20z\"/>\n",
              "  </svg>\n",
              "      </button>\n",
              "      \n",
              "  <style>\n",
              "    .colab-df-container {\n",
              "      display:flex;\n",
              "      flex-wrap:wrap;\n",
              "      gap: 12px;\n",
              "    }\n",
              "\n",
              "    .colab-df-convert {\n",
              "      background-color: #E8F0FE;\n",
              "      border: none;\n",
              "      border-radius: 50%;\n",
              "      cursor: pointer;\n",
              "      display: none;\n",
              "      fill: #1967D2;\n",
              "      height: 32px;\n",
              "      padding: 0 0 0 0;\n",
              "      width: 32px;\n",
              "    }\n",
              "\n",
              "    .colab-df-convert:hover {\n",
              "      background-color: #E2EBFA;\n",
              "      box-shadow: 0px 1px 2px rgba(60, 64, 67, 0.3), 0px 1px 3px 1px rgba(60, 64, 67, 0.15);\n",
              "      fill: #174EA6;\n",
              "    }\n",
              "\n",
              "    [theme=dark] .colab-df-convert {\n",
              "      background-color: #3B4455;\n",
              "      fill: #D2E3FC;\n",
              "    }\n",
              "\n",
              "    [theme=dark] .colab-df-convert:hover {\n",
              "      background-color: #434B5C;\n",
              "      box-shadow: 0px 1px 3px 1px rgba(0, 0, 0, 0.15);\n",
              "      filter: drop-shadow(0px 1px 2px rgba(0, 0, 0, 0.3));\n",
              "      fill: #FFFFFF;\n",
              "    }\n",
              "  </style>\n",
              "\n",
              "      <script>\n",
              "        const buttonEl =\n",
              "          document.querySelector('#df-b1bc6137-467b-4d54-a58d-a0d4f2bac39b button.colab-df-convert');\n",
              "        buttonEl.style.display =\n",
              "          google.colab.kernel.accessAllowed ? 'block' : 'none';\n",
              "\n",
              "        async function convertToInteractive(key) {\n",
              "          const element = document.querySelector('#df-b1bc6137-467b-4d54-a58d-a0d4f2bac39b');\n",
              "          const dataTable =\n",
              "            await google.colab.kernel.invokeFunction('convertToInteractive',\n",
              "                                                     [key], {});\n",
              "          if (!dataTable) return;\n",
              "\n",
              "          const docLinkHtml = 'Like what you see? Visit the ' +\n",
              "            '<a target=\"_blank\" href=https://colab.research.google.com/notebooks/data_table.ipynb>data table notebook</a>'\n",
              "            + ' to learn more about interactive tables.';\n",
              "          element.innerHTML = '';\n",
              "          dataTable['output_type'] = 'display_data';\n",
              "          await google.colab.output.renderOutput(dataTable, element);\n",
              "          const docLink = document.createElement('div');\n",
              "          docLink.innerHTML = docLinkHtml;\n",
              "          element.appendChild(docLink);\n",
              "        }\n",
              "      </script>\n",
              "    </div>\n",
              "  </div>\n",
              "  "
            ]
          },
          "metadata": {},
          "execution_count": 55
        }
      ],
      "source": [
        "tarrifs"
      ]
    },
    {
      "cell_type": "code",
      "execution_count": 56,
      "metadata": {
        "id": "GgEjZPTnGWMb"
      },
      "outputs": [],
      "source": [
        "df = df1.merge(tarrifs, on='tariff', how='left').set_axis(piv1.index, inplace=False) #добавляем информацию по тарифам в общую сводную таблицу / join the tariff"
      ]
    },
    {
      "cell_type": "code",
      "execution_count": 57,
      "metadata": {
        "colab": {
          "base_uri": "https://localhost:8080/",
          "height": 518
        },
        "id": "RufiOkyIGWMb",
        "outputId": "9a0e43f7-5e8f-461a-acf6-8d08d1b1eac7"
      },
      "outputs": [
        {
          "output_type": "execute_result",
          "data": {
            "text/plain": [
              "               user_id  duration    id  gb_used tariff         city  \\\n",
              "user_id month                                                         \n",
              "1000    5         1000     159.0  22.0      3.0  ultra    Краснодар   \n",
              "        6         1000     172.0  60.0     23.0  ultra    Краснодар   \n",
              "        7         1000     340.0  75.0     14.0  ultra    Краснодар   \n",
              "        8         1000     408.0  81.0     14.0  ultra    Краснодар   \n",
              "        9         1000     466.0  57.0     15.0  ultra    Краснодар   \n",
              "...                ...       ...   ...      ...    ...          ...   \n",
              "1498    10        1498     247.0  42.0     21.0  smart  Владикавказ   \n",
              "1499    9         1499      70.0  11.0      2.0  smart        Пермь   \n",
              "        10        1499     449.0  48.0     18.0  smart        Пермь   \n",
              "        11        1499     612.0  59.0     18.0  smart        Пермь   \n",
              "        12        1499     492.0  66.0     13.0  smart        Пермь   \n",
              "\n",
              "               messages_included  mb_per_month_included  minutes_included  \\\n",
              "user_id month                                                               \n",
              "1000    5                   1000                  30720              3000   \n",
              "        6                   1000                  30720              3000   \n",
              "        7                   1000                  30720              3000   \n",
              "        8                   1000                  30720              3000   \n",
              "        9                   1000                  30720              3000   \n",
              "...                          ...                    ...               ...   \n",
              "1498    10                    50                  15360               500   \n",
              "1499    9                     50                  15360               500   \n",
              "        10                    50                  15360               500   \n",
              "        11                    50                  15360               500   \n",
              "        12                    50                  15360               500   \n",
              "\n",
              "               rub_monthly_fee  rub_per_gb  rub_per_message  rub_per_minute  \n",
              "user_id month                                                                \n",
              "1000    5                 1950         150                1               1  \n",
              "        6                 1950         150                1               1  \n",
              "        7                 1950         150                1               1  \n",
              "        8                 1950         150                1               1  \n",
              "        9                 1950         150                1               1  \n",
              "...                        ...         ...              ...             ...  \n",
              "1498    10                 550         200                3               3  \n",
              "1499    9                  550         200                3               3  \n",
              "        10                 550         200                3               3  \n",
              "        11                 550         200                3               3  \n",
              "        12                 550         200                3               3  \n",
              "\n",
              "[3214 rows x 13 columns]"
            ],
            "text/html": [
              "\n",
              "  <div id=\"df-38d868a6-909a-490e-a2bc-20bd10c3f114\">\n",
              "    <div class=\"colab-df-container\">\n",
              "      <div>\n",
              "<style scoped>\n",
              "    .dataframe tbody tr th:only-of-type {\n",
              "        vertical-align: middle;\n",
              "    }\n",
              "\n",
              "    .dataframe tbody tr th {\n",
              "        vertical-align: top;\n",
              "    }\n",
              "\n",
              "    .dataframe thead th {\n",
              "        text-align: right;\n",
              "    }\n",
              "</style>\n",
              "<table border=\"1\" class=\"dataframe\">\n",
              "  <thead>\n",
              "    <tr style=\"text-align: right;\">\n",
              "      <th></th>\n",
              "      <th></th>\n",
              "      <th>user_id</th>\n",
              "      <th>duration</th>\n",
              "      <th>id</th>\n",
              "      <th>gb_used</th>\n",
              "      <th>tariff</th>\n",
              "      <th>city</th>\n",
              "      <th>messages_included</th>\n",
              "      <th>mb_per_month_included</th>\n",
              "      <th>minutes_included</th>\n",
              "      <th>rub_monthly_fee</th>\n",
              "      <th>rub_per_gb</th>\n",
              "      <th>rub_per_message</th>\n",
              "      <th>rub_per_minute</th>\n",
              "    </tr>\n",
              "    <tr>\n",
              "      <th>user_id</th>\n",
              "      <th>month</th>\n",
              "      <th></th>\n",
              "      <th></th>\n",
              "      <th></th>\n",
              "      <th></th>\n",
              "      <th></th>\n",
              "      <th></th>\n",
              "      <th></th>\n",
              "      <th></th>\n",
              "      <th></th>\n",
              "      <th></th>\n",
              "      <th></th>\n",
              "      <th></th>\n",
              "      <th></th>\n",
              "    </tr>\n",
              "  </thead>\n",
              "  <tbody>\n",
              "    <tr>\n",
              "      <th rowspan=\"5\" valign=\"top\">1000</th>\n",
              "      <th>5</th>\n",
              "      <td>1000</td>\n",
              "      <td>159.0</td>\n",
              "      <td>22.0</td>\n",
              "      <td>3.0</td>\n",
              "      <td>ultra</td>\n",
              "      <td>Краснодар</td>\n",
              "      <td>1000</td>\n",
              "      <td>30720</td>\n",
              "      <td>3000</td>\n",
              "      <td>1950</td>\n",
              "      <td>150</td>\n",
              "      <td>1</td>\n",
              "      <td>1</td>\n",
              "    </tr>\n",
              "    <tr>\n",
              "      <th>6</th>\n",
              "      <td>1000</td>\n",
              "      <td>172.0</td>\n",
              "      <td>60.0</td>\n",
              "      <td>23.0</td>\n",
              "      <td>ultra</td>\n",
              "      <td>Краснодар</td>\n",
              "      <td>1000</td>\n",
              "      <td>30720</td>\n",
              "      <td>3000</td>\n",
              "      <td>1950</td>\n",
              "      <td>150</td>\n",
              "      <td>1</td>\n",
              "      <td>1</td>\n",
              "    </tr>\n",
              "    <tr>\n",
              "      <th>7</th>\n",
              "      <td>1000</td>\n",
              "      <td>340.0</td>\n",
              "      <td>75.0</td>\n",
              "      <td>14.0</td>\n",
              "      <td>ultra</td>\n",
              "      <td>Краснодар</td>\n",
              "      <td>1000</td>\n",
              "      <td>30720</td>\n",
              "      <td>3000</td>\n",
              "      <td>1950</td>\n",
              "      <td>150</td>\n",
              "      <td>1</td>\n",
              "      <td>1</td>\n",
              "    </tr>\n",
              "    <tr>\n",
              "      <th>8</th>\n",
              "      <td>1000</td>\n",
              "      <td>408.0</td>\n",
              "      <td>81.0</td>\n",
              "      <td>14.0</td>\n",
              "      <td>ultra</td>\n",
              "      <td>Краснодар</td>\n",
              "      <td>1000</td>\n",
              "      <td>30720</td>\n",
              "      <td>3000</td>\n",
              "      <td>1950</td>\n",
              "      <td>150</td>\n",
              "      <td>1</td>\n",
              "      <td>1</td>\n",
              "    </tr>\n",
              "    <tr>\n",
              "      <th>9</th>\n",
              "      <td>1000</td>\n",
              "      <td>466.0</td>\n",
              "      <td>57.0</td>\n",
              "      <td>15.0</td>\n",
              "      <td>ultra</td>\n",
              "      <td>Краснодар</td>\n",
              "      <td>1000</td>\n",
              "      <td>30720</td>\n",
              "      <td>3000</td>\n",
              "      <td>1950</td>\n",
              "      <td>150</td>\n",
              "      <td>1</td>\n",
              "      <td>1</td>\n",
              "    </tr>\n",
              "    <tr>\n",
              "      <th>...</th>\n",
              "      <th>...</th>\n",
              "      <td>...</td>\n",
              "      <td>...</td>\n",
              "      <td>...</td>\n",
              "      <td>...</td>\n",
              "      <td>...</td>\n",
              "      <td>...</td>\n",
              "      <td>...</td>\n",
              "      <td>...</td>\n",
              "      <td>...</td>\n",
              "      <td>...</td>\n",
              "      <td>...</td>\n",
              "      <td>...</td>\n",
              "      <td>...</td>\n",
              "    </tr>\n",
              "    <tr>\n",
              "      <th>1498</th>\n",
              "      <th>10</th>\n",
              "      <td>1498</td>\n",
              "      <td>247.0</td>\n",
              "      <td>42.0</td>\n",
              "      <td>21.0</td>\n",
              "      <td>smart</td>\n",
              "      <td>Владикавказ</td>\n",
              "      <td>50</td>\n",
              "      <td>15360</td>\n",
              "      <td>500</td>\n",
              "      <td>550</td>\n",
              "      <td>200</td>\n",
              "      <td>3</td>\n",
              "      <td>3</td>\n",
              "    </tr>\n",
              "    <tr>\n",
              "      <th rowspan=\"4\" valign=\"top\">1499</th>\n",
              "      <th>9</th>\n",
              "      <td>1499</td>\n",
              "      <td>70.0</td>\n",
              "      <td>11.0</td>\n",
              "      <td>2.0</td>\n",
              "      <td>smart</td>\n",
              "      <td>Пермь</td>\n",
              "      <td>50</td>\n",
              "      <td>15360</td>\n",
              "      <td>500</td>\n",
              "      <td>550</td>\n",
              "      <td>200</td>\n",
              "      <td>3</td>\n",
              "      <td>3</td>\n",
              "    </tr>\n",
              "    <tr>\n",
              "      <th>10</th>\n",
              "      <td>1499</td>\n",
              "      <td>449.0</td>\n",
              "      <td>48.0</td>\n",
              "      <td>18.0</td>\n",
              "      <td>smart</td>\n",
              "      <td>Пермь</td>\n",
              "      <td>50</td>\n",
              "      <td>15360</td>\n",
              "      <td>500</td>\n",
              "      <td>550</td>\n",
              "      <td>200</td>\n",
              "      <td>3</td>\n",
              "      <td>3</td>\n",
              "    </tr>\n",
              "    <tr>\n",
              "      <th>11</th>\n",
              "      <td>1499</td>\n",
              "      <td>612.0</td>\n",
              "      <td>59.0</td>\n",
              "      <td>18.0</td>\n",
              "      <td>smart</td>\n",
              "      <td>Пермь</td>\n",
              "      <td>50</td>\n",
              "      <td>15360</td>\n",
              "      <td>500</td>\n",
              "      <td>550</td>\n",
              "      <td>200</td>\n",
              "      <td>3</td>\n",
              "      <td>3</td>\n",
              "    </tr>\n",
              "    <tr>\n",
              "      <th>12</th>\n",
              "      <td>1499</td>\n",
              "      <td>492.0</td>\n",
              "      <td>66.0</td>\n",
              "      <td>13.0</td>\n",
              "      <td>smart</td>\n",
              "      <td>Пермь</td>\n",
              "      <td>50</td>\n",
              "      <td>15360</td>\n",
              "      <td>500</td>\n",
              "      <td>550</td>\n",
              "      <td>200</td>\n",
              "      <td>3</td>\n",
              "      <td>3</td>\n",
              "    </tr>\n",
              "  </tbody>\n",
              "</table>\n",
              "<p>3214 rows × 13 columns</p>\n",
              "</div>\n",
              "      <button class=\"colab-df-convert\" onclick=\"convertToInteractive('df-38d868a6-909a-490e-a2bc-20bd10c3f114')\"\n",
              "              title=\"Convert this dataframe to an interactive table.\"\n",
              "              style=\"display:none;\">\n",
              "        \n",
              "  <svg xmlns=\"http://www.w3.org/2000/svg\" height=\"24px\"viewBox=\"0 0 24 24\"\n",
              "       width=\"24px\">\n",
              "    <path d=\"M0 0h24v24H0V0z\" fill=\"none\"/>\n",
              "    <path d=\"M18.56 5.44l.94 2.06.94-2.06 2.06-.94-2.06-.94-.94-2.06-.94 2.06-2.06.94zm-11 1L8.5 8.5l.94-2.06 2.06-.94-2.06-.94L8.5 2.5l-.94 2.06-2.06.94zm10 10l.94 2.06.94-2.06 2.06-.94-2.06-.94-.94-2.06-.94 2.06-2.06.94z\"/><path d=\"M17.41 7.96l-1.37-1.37c-.4-.4-.92-.59-1.43-.59-.52 0-1.04.2-1.43.59L10.3 9.45l-7.72 7.72c-.78.78-.78 2.05 0 2.83L4 21.41c.39.39.9.59 1.41.59.51 0 1.02-.2 1.41-.59l7.78-7.78 2.81-2.81c.8-.78.8-2.07 0-2.86zM5.41 20L4 18.59l7.72-7.72 1.47 1.35L5.41 20z\"/>\n",
              "  </svg>\n",
              "      </button>\n",
              "      \n",
              "  <style>\n",
              "    .colab-df-container {\n",
              "      display:flex;\n",
              "      flex-wrap:wrap;\n",
              "      gap: 12px;\n",
              "    }\n",
              "\n",
              "    .colab-df-convert {\n",
              "      background-color: #E8F0FE;\n",
              "      border: none;\n",
              "      border-radius: 50%;\n",
              "      cursor: pointer;\n",
              "      display: none;\n",
              "      fill: #1967D2;\n",
              "      height: 32px;\n",
              "      padding: 0 0 0 0;\n",
              "      width: 32px;\n",
              "    }\n",
              "\n",
              "    .colab-df-convert:hover {\n",
              "      background-color: #E2EBFA;\n",
              "      box-shadow: 0px 1px 2px rgba(60, 64, 67, 0.3), 0px 1px 3px 1px rgba(60, 64, 67, 0.15);\n",
              "      fill: #174EA6;\n",
              "    }\n",
              "\n",
              "    [theme=dark] .colab-df-convert {\n",
              "      background-color: #3B4455;\n",
              "      fill: #D2E3FC;\n",
              "    }\n",
              "\n",
              "    [theme=dark] .colab-df-convert:hover {\n",
              "      background-color: #434B5C;\n",
              "      box-shadow: 0px 1px 3px 1px rgba(0, 0, 0, 0.15);\n",
              "      filter: drop-shadow(0px 1px 2px rgba(0, 0, 0, 0.3));\n",
              "      fill: #FFFFFF;\n",
              "    }\n",
              "  </style>\n",
              "\n",
              "      <script>\n",
              "        const buttonEl =\n",
              "          document.querySelector('#df-38d868a6-909a-490e-a2bc-20bd10c3f114 button.colab-df-convert');\n",
              "        buttonEl.style.display =\n",
              "          google.colab.kernel.accessAllowed ? 'block' : 'none';\n",
              "\n",
              "        async function convertToInteractive(key) {\n",
              "          const element = document.querySelector('#df-38d868a6-909a-490e-a2bc-20bd10c3f114');\n",
              "          const dataTable =\n",
              "            await google.colab.kernel.invokeFunction('convertToInteractive',\n",
              "                                                     [key], {});\n",
              "          if (!dataTable) return;\n",
              "\n",
              "          const docLinkHtml = 'Like what you see? Visit the ' +\n",
              "            '<a target=\"_blank\" href=https://colab.research.google.com/notebooks/data_table.ipynb>data table notebook</a>'\n",
              "            + ' to learn more about interactive tables.';\n",
              "          element.innerHTML = '';\n",
              "          dataTable['output_type'] = 'display_data';\n",
              "          await google.colab.output.renderOutput(dataTable, element);\n",
              "          const docLink = document.createElement('div');\n",
              "          docLink.innerHTML = docLinkHtml;\n",
              "          element.appendChild(docLink);\n",
              "        }\n",
              "      </script>\n",
              "    </div>\n",
              "  </div>\n",
              "  "
            ]
          },
          "metadata": {},
          "execution_count": 57
        }
      ],
      "source": [
        "df"
      ]
    },
    {
      "cell_type": "code",
      "execution_count": 58,
      "metadata": {
        "id": "o29pN9EnGWMc"
      },
      "outputs": [],
      "source": [
        "df = df.rename(columns={'id': 'sent_mess'}) #переименовываем столбец с кол-вом отправленных смс / rename columns"
      ]
    },
    {
      "cell_type": "code",
      "execution_count": 59,
      "metadata": {
        "colab": {
          "base_uri": "https://localhost:8080/"
        },
        "id": "zCFFIMfPGWMc",
        "outputId": "5839824c-090f-47d8-94a3-f732f3db7735"
      },
      "outputs": [
        {
          "output_type": "stream",
          "name": "stdout",
          "text": [
            "<class 'pandas.core.frame.DataFrame'>\n",
            "MultiIndex: 3214 entries, (1000, 5) to (1499, 12)\n",
            "Data columns (total 13 columns):\n",
            " #   Column                 Non-Null Count  Dtype  \n",
            "---  ------                 --------------  -----  \n",
            " 0   user_id                3214 non-null   int64  \n",
            " 1   duration               3174 non-null   float64\n",
            " 2   sent_mess              2717 non-null   float64\n",
            " 3   gb_used                3203 non-null   float64\n",
            " 4   tariff                 3214 non-null   object \n",
            " 5   city                   3214 non-null   object \n",
            " 6   messages_included      3214 non-null   int64  \n",
            " 7   mb_per_month_included  3214 non-null   int64  \n",
            " 8   minutes_included       3214 non-null   int64  \n",
            " 9   rub_monthly_fee        3214 non-null   int64  \n",
            " 10  rub_per_gb             3214 non-null   int64  \n",
            " 11  rub_per_message        3214 non-null   int64  \n",
            " 12  rub_per_minute         3214 non-null   int64  \n",
            "dtypes: float64(3), int64(8), object(2)\n",
            "memory usage: 356.4+ KB\n"
          ]
        }
      ],
      "source": [
        "df.info()"
      ]
    },
    {
      "cell_type": "code",
      "execution_count": 60,
      "metadata": {
        "id": "3EKdTQdGGWMc"
      },
      "outputs": [],
      "source": [
        "df = df.fillna(0) #заменяем все пропущенные значения на нуль / fill the gaps"
      ]
    },
    {
      "cell_type": "code",
      "execution_count": 61,
      "metadata": {
        "colab": {
          "base_uri": "https://localhost:8080/"
        },
        "id": "Q6_A13TCGWMd",
        "outputId": "9aa1d7a9-b96a-4253-c275-0118382de5e9"
      },
      "outputs": [
        {
          "output_type": "stream",
          "name": "stdout",
          "text": [
            "<class 'pandas.core.frame.DataFrame'>\n",
            "MultiIndex: 3214 entries, (1000, 5) to (1499, 12)\n",
            "Data columns (total 13 columns):\n",
            " #   Column                 Non-Null Count  Dtype  \n",
            "---  ------                 --------------  -----  \n",
            " 0   user_id                3214 non-null   int64  \n",
            " 1   duration               3214 non-null   float64\n",
            " 2   sent_mess              3214 non-null   float64\n",
            " 3   gb_used                3214 non-null   float64\n",
            " 4   tariff                 3214 non-null   object \n",
            " 5   city                   3214 non-null   object \n",
            " 6   messages_included      3214 non-null   int64  \n",
            " 7   mb_per_month_included  3214 non-null   int64  \n",
            " 8   minutes_included       3214 non-null   int64  \n",
            " 9   rub_monthly_fee        3214 non-null   int64  \n",
            " 10  rub_per_gb             3214 non-null   int64  \n",
            " 11  rub_per_message        3214 non-null   int64  \n",
            " 12  rub_per_minute         3214 non-null   int64  \n",
            "dtypes: float64(3), int64(8), object(2)\n",
            "memory usage: 356.4+ KB\n"
          ]
        }
      ],
      "source": [
        "df.info() #проверяем внесенные изменения"
      ]
    },
    {
      "cell_type": "code",
      "execution_count": 62,
      "metadata": {
        "id": "kiIkUGS9GWMd"
      },
      "outputs": [],
      "source": [
        "df['mb_per_month_included'] = df['mb_per_month_included'] / 1024 #вычисляем кол-во гб в тарифе / transform Mb to Gb in the column"
      ]
    },
    {
      "cell_type": "code",
      "execution_count": 63,
      "metadata": {
        "id": "ZB64YJ1oGWMe"
      },
      "outputs": [],
      "source": [
        "df = df.rename(columns={'mb_per_month_included': 'gb_per_month_included'}) #переименовываем столбец / rename the column"
      ]
    },
    {
      "cell_type": "code",
      "execution_count": 64,
      "metadata": {
        "colab": {
          "base_uri": "https://localhost:8080/",
          "height": 238
        },
        "id": "Ds3o1NyfGWMe",
        "outputId": "0ca35b79-a77f-41f2-ea3c-3c8adcb05d15"
      },
      "outputs": [
        {
          "output_type": "execute_result",
          "data": {
            "text/plain": [
              "               user_id  duration  sent_mess  gb_used tariff       city  \\\n",
              "user_id month                                                            \n",
              "1000    5         1000     159.0       22.0      3.0  ultra  Краснодар   \n",
              "        6         1000     172.0       60.0     23.0  ultra  Краснодар   \n",
              "        7         1000     340.0       75.0     14.0  ultra  Краснодар   \n",
              "\n",
              "               messages_included  gb_per_month_included  minutes_included  \\\n",
              "user_id month                                                               \n",
              "1000    5                   1000                   30.0              3000   \n",
              "        6                   1000                   30.0              3000   \n",
              "        7                   1000                   30.0              3000   \n",
              "\n",
              "               rub_monthly_fee  rub_per_gb  rub_per_message  rub_per_minute  \n",
              "user_id month                                                                \n",
              "1000    5                 1950         150                1               1  \n",
              "        6                 1950         150                1               1  \n",
              "        7                 1950         150                1               1  "
            ],
            "text/html": [
              "\n",
              "  <div id=\"df-53a9b7d2-7505-4bc8-9c9b-b3aff0fe5e95\">\n",
              "    <div class=\"colab-df-container\">\n",
              "      <div>\n",
              "<style scoped>\n",
              "    .dataframe tbody tr th:only-of-type {\n",
              "        vertical-align: middle;\n",
              "    }\n",
              "\n",
              "    .dataframe tbody tr th {\n",
              "        vertical-align: top;\n",
              "    }\n",
              "\n",
              "    .dataframe thead th {\n",
              "        text-align: right;\n",
              "    }\n",
              "</style>\n",
              "<table border=\"1\" class=\"dataframe\">\n",
              "  <thead>\n",
              "    <tr style=\"text-align: right;\">\n",
              "      <th></th>\n",
              "      <th></th>\n",
              "      <th>user_id</th>\n",
              "      <th>duration</th>\n",
              "      <th>sent_mess</th>\n",
              "      <th>gb_used</th>\n",
              "      <th>tariff</th>\n",
              "      <th>city</th>\n",
              "      <th>messages_included</th>\n",
              "      <th>gb_per_month_included</th>\n",
              "      <th>minutes_included</th>\n",
              "      <th>rub_monthly_fee</th>\n",
              "      <th>rub_per_gb</th>\n",
              "      <th>rub_per_message</th>\n",
              "      <th>rub_per_minute</th>\n",
              "    </tr>\n",
              "    <tr>\n",
              "      <th>user_id</th>\n",
              "      <th>month</th>\n",
              "      <th></th>\n",
              "      <th></th>\n",
              "      <th></th>\n",
              "      <th></th>\n",
              "      <th></th>\n",
              "      <th></th>\n",
              "      <th></th>\n",
              "      <th></th>\n",
              "      <th></th>\n",
              "      <th></th>\n",
              "      <th></th>\n",
              "      <th></th>\n",
              "      <th></th>\n",
              "    </tr>\n",
              "  </thead>\n",
              "  <tbody>\n",
              "    <tr>\n",
              "      <th rowspan=\"3\" valign=\"top\">1000</th>\n",
              "      <th>5</th>\n",
              "      <td>1000</td>\n",
              "      <td>159.0</td>\n",
              "      <td>22.0</td>\n",
              "      <td>3.0</td>\n",
              "      <td>ultra</td>\n",
              "      <td>Краснодар</td>\n",
              "      <td>1000</td>\n",
              "      <td>30.0</td>\n",
              "      <td>3000</td>\n",
              "      <td>1950</td>\n",
              "      <td>150</td>\n",
              "      <td>1</td>\n",
              "      <td>1</td>\n",
              "    </tr>\n",
              "    <tr>\n",
              "      <th>6</th>\n",
              "      <td>1000</td>\n",
              "      <td>172.0</td>\n",
              "      <td>60.0</td>\n",
              "      <td>23.0</td>\n",
              "      <td>ultra</td>\n",
              "      <td>Краснодар</td>\n",
              "      <td>1000</td>\n",
              "      <td>30.0</td>\n",
              "      <td>3000</td>\n",
              "      <td>1950</td>\n",
              "      <td>150</td>\n",
              "      <td>1</td>\n",
              "      <td>1</td>\n",
              "    </tr>\n",
              "    <tr>\n",
              "      <th>7</th>\n",
              "      <td>1000</td>\n",
              "      <td>340.0</td>\n",
              "      <td>75.0</td>\n",
              "      <td>14.0</td>\n",
              "      <td>ultra</td>\n",
              "      <td>Краснодар</td>\n",
              "      <td>1000</td>\n",
              "      <td>30.0</td>\n",
              "      <td>3000</td>\n",
              "      <td>1950</td>\n",
              "      <td>150</td>\n",
              "      <td>1</td>\n",
              "      <td>1</td>\n",
              "    </tr>\n",
              "  </tbody>\n",
              "</table>\n",
              "</div>\n",
              "      <button class=\"colab-df-convert\" onclick=\"convertToInteractive('df-53a9b7d2-7505-4bc8-9c9b-b3aff0fe5e95')\"\n",
              "              title=\"Convert this dataframe to an interactive table.\"\n",
              "              style=\"display:none;\">\n",
              "        \n",
              "  <svg xmlns=\"http://www.w3.org/2000/svg\" height=\"24px\"viewBox=\"0 0 24 24\"\n",
              "       width=\"24px\">\n",
              "    <path d=\"M0 0h24v24H0V0z\" fill=\"none\"/>\n",
              "    <path d=\"M18.56 5.44l.94 2.06.94-2.06 2.06-.94-2.06-.94-.94-2.06-.94 2.06-2.06.94zm-11 1L8.5 8.5l.94-2.06 2.06-.94-2.06-.94L8.5 2.5l-.94 2.06-2.06.94zm10 10l.94 2.06.94-2.06 2.06-.94-2.06-.94-.94-2.06-.94 2.06-2.06.94z\"/><path d=\"M17.41 7.96l-1.37-1.37c-.4-.4-.92-.59-1.43-.59-.52 0-1.04.2-1.43.59L10.3 9.45l-7.72 7.72c-.78.78-.78 2.05 0 2.83L4 21.41c.39.39.9.59 1.41.59.51 0 1.02-.2 1.41-.59l7.78-7.78 2.81-2.81c.8-.78.8-2.07 0-2.86zM5.41 20L4 18.59l7.72-7.72 1.47 1.35L5.41 20z\"/>\n",
              "  </svg>\n",
              "      </button>\n",
              "      \n",
              "  <style>\n",
              "    .colab-df-container {\n",
              "      display:flex;\n",
              "      flex-wrap:wrap;\n",
              "      gap: 12px;\n",
              "    }\n",
              "\n",
              "    .colab-df-convert {\n",
              "      background-color: #E8F0FE;\n",
              "      border: none;\n",
              "      border-radius: 50%;\n",
              "      cursor: pointer;\n",
              "      display: none;\n",
              "      fill: #1967D2;\n",
              "      height: 32px;\n",
              "      padding: 0 0 0 0;\n",
              "      width: 32px;\n",
              "    }\n",
              "\n",
              "    .colab-df-convert:hover {\n",
              "      background-color: #E2EBFA;\n",
              "      box-shadow: 0px 1px 2px rgba(60, 64, 67, 0.3), 0px 1px 3px 1px rgba(60, 64, 67, 0.15);\n",
              "      fill: #174EA6;\n",
              "    }\n",
              "\n",
              "    [theme=dark] .colab-df-convert {\n",
              "      background-color: #3B4455;\n",
              "      fill: #D2E3FC;\n",
              "    }\n",
              "\n",
              "    [theme=dark] .colab-df-convert:hover {\n",
              "      background-color: #434B5C;\n",
              "      box-shadow: 0px 1px 3px 1px rgba(0, 0, 0, 0.15);\n",
              "      filter: drop-shadow(0px 1px 2px rgba(0, 0, 0, 0.3));\n",
              "      fill: #FFFFFF;\n",
              "    }\n",
              "  </style>\n",
              "\n",
              "      <script>\n",
              "        const buttonEl =\n",
              "          document.querySelector('#df-53a9b7d2-7505-4bc8-9c9b-b3aff0fe5e95 button.colab-df-convert');\n",
              "        buttonEl.style.display =\n",
              "          google.colab.kernel.accessAllowed ? 'block' : 'none';\n",
              "\n",
              "        async function convertToInteractive(key) {\n",
              "          const element = document.querySelector('#df-53a9b7d2-7505-4bc8-9c9b-b3aff0fe5e95');\n",
              "          const dataTable =\n",
              "            await google.colab.kernel.invokeFunction('convertToInteractive',\n",
              "                                                     [key], {});\n",
              "          if (!dataTable) return;\n",
              "\n",
              "          const docLinkHtml = 'Like what you see? Visit the ' +\n",
              "            '<a target=\"_blank\" href=https://colab.research.google.com/notebooks/data_table.ipynb>data table notebook</a>'\n",
              "            + ' to learn more about interactive tables.';\n",
              "          element.innerHTML = '';\n",
              "          dataTable['output_type'] = 'display_data';\n",
              "          await google.colab.output.renderOutput(dataTable, element);\n",
              "          const docLink = document.createElement('div');\n",
              "          docLink.innerHTML = docLinkHtml;\n",
              "          element.appendChild(docLink);\n",
              "        }\n",
              "      </script>\n",
              "    </div>\n",
              "  </div>\n",
              "  "
            ]
          },
          "metadata": {},
          "execution_count": 64
        }
      ],
      "source": [
        "df.head(3)"
      ]
    },
    {
      "cell_type": "code",
      "execution_count": 65,
      "metadata": {
        "id": "hKUx4O9NGWMf"
      },
      "outputs": [],
      "source": [
        "df['over_duration'] = df['duration'] -  df['minutes_included'] \n",
        "df['over_internet'] = df['gb_used'] -  df['gb_per_month_included'] \n",
        "df['over_sms'] = df['sent_mess'] -  df['messages_included'] "
      ]
    },
    {
      "cell_type": "code",
      "execution_count": 66,
      "metadata": {
        "id": "LDz7Eq6zGWMf"
      },
      "outputs": [],
      "source": [
        "def got_revenue(row):\n",
        "    revenue_by_min = 0\n",
        "    revenue_by_messages = 0\n",
        "    revenue_mb = 0\n",
        "\n",
        "    if row['over_duration'] > 0:\n",
        "      revenue_by_min = row['over_duration'] * row['rub_per_minute']\n",
        "    if row['over_internet'] > 0:\n",
        "      revenue_mb = row['over_internet'] * row['rub_per_gb']\n",
        "    if row['over_sms'] > 0:\n",
        "      revenue_by_messages = row['over_sms'] * row['rub_per_message'] \n",
        "    return revenue_by_min + revenue_mb + revenue_by_messages\n",
        "df['got_revenue'] = df.apply(got_revenue, axis=1)\n",
        "\n",
        "#функция, которая посчитает выручку от тех, кто перерасходовал ту или иную опцию в тарифе \n",
        "#create a function that counts revenue from users who used an extra tariff"
      ]
    },
    {
      "cell_type": "code",
      "execution_count": 67,
      "metadata": {
        "colab": {
          "base_uri": "https://localhost:8080/",
          "height": 518
        },
        "id": "zSMJEXnLGWMf",
        "outputId": "bca3f3fe-90ca-407b-e8a2-aaefc680e610"
      },
      "outputs": [
        {
          "output_type": "execute_result",
          "data": {
            "text/plain": [
              "               user_id  duration  sent_mess  gb_used tariff         city  \\\n",
              "user_id month                                                              \n",
              "1000    5         1000     159.0       22.0      3.0  ultra    Краснодар   \n",
              "        6         1000     172.0       60.0     23.0  ultra    Краснодар   \n",
              "        7         1000     340.0       75.0     14.0  ultra    Краснодар   \n",
              "        8         1000     408.0       81.0     14.0  ultra    Краснодар   \n",
              "        9         1000     466.0       57.0     15.0  ultra    Краснодар   \n",
              "...                ...       ...        ...      ...    ...          ...   \n",
              "1498    10        1498     247.0       42.0     21.0  smart  Владикавказ   \n",
              "1499    9         1499      70.0       11.0      2.0  smart        Пермь   \n",
              "        10        1499     449.0       48.0     18.0  smart        Пермь   \n",
              "        11        1499     612.0       59.0     18.0  smart        Пермь   \n",
              "        12        1499     492.0       66.0     13.0  smart        Пермь   \n",
              "\n",
              "               messages_included  gb_per_month_included  minutes_included  \\\n",
              "user_id month                                                               \n",
              "1000    5                   1000                   30.0              3000   \n",
              "        6                   1000                   30.0              3000   \n",
              "        7                   1000                   30.0              3000   \n",
              "        8                   1000                   30.0              3000   \n",
              "        9                   1000                   30.0              3000   \n",
              "...                          ...                    ...               ...   \n",
              "1498    10                    50                   15.0               500   \n",
              "1499    9                     50                   15.0               500   \n",
              "        10                    50                   15.0               500   \n",
              "        11                    50                   15.0               500   \n",
              "        12                    50                   15.0               500   \n",
              "\n",
              "               rub_monthly_fee  rub_per_gb  rub_per_message  rub_per_minute  \\\n",
              "user_id month                                                                 \n",
              "1000    5                 1950         150                1               1   \n",
              "        6                 1950         150                1               1   \n",
              "        7                 1950         150                1               1   \n",
              "        8                 1950         150                1               1   \n",
              "        9                 1950         150                1               1   \n",
              "...                        ...         ...              ...             ...   \n",
              "1498    10                 550         200                3               3   \n",
              "1499    9                  550         200                3               3   \n",
              "        10                 550         200                3               3   \n",
              "        11                 550         200                3               3   \n",
              "        12                 550         200                3               3   \n",
              "\n",
              "               over_duration  over_internet  over_sms  got_revenue  \n",
              "user_id month                                                       \n",
              "1000    5            -2841.0          -27.0    -978.0          0.0  \n",
              "        6            -2828.0           -7.0    -940.0          0.0  \n",
              "        7            -2660.0          -16.0    -925.0          0.0  \n",
              "        8            -2592.0          -16.0    -919.0          0.0  \n",
              "        9            -2534.0          -15.0    -943.0          0.0  \n",
              "...                      ...            ...       ...          ...  \n",
              "1498    10            -253.0            6.0      -8.0       1200.0  \n",
              "1499    9             -430.0          -13.0     -39.0          0.0  \n",
              "        10             -51.0            3.0      -2.0        600.0  \n",
              "        11             112.0            3.0       9.0        963.0  \n",
              "        12              -8.0           -2.0      16.0         48.0  \n",
              "\n",
              "[3214 rows x 17 columns]"
            ],
            "text/html": [
              "\n",
              "  <div id=\"df-b37f5619-0706-4e2e-b83b-12f13727d70d\">\n",
              "    <div class=\"colab-df-container\">\n",
              "      <div>\n",
              "<style scoped>\n",
              "    .dataframe tbody tr th:only-of-type {\n",
              "        vertical-align: middle;\n",
              "    }\n",
              "\n",
              "    .dataframe tbody tr th {\n",
              "        vertical-align: top;\n",
              "    }\n",
              "\n",
              "    .dataframe thead th {\n",
              "        text-align: right;\n",
              "    }\n",
              "</style>\n",
              "<table border=\"1\" class=\"dataframe\">\n",
              "  <thead>\n",
              "    <tr style=\"text-align: right;\">\n",
              "      <th></th>\n",
              "      <th></th>\n",
              "      <th>user_id</th>\n",
              "      <th>duration</th>\n",
              "      <th>sent_mess</th>\n",
              "      <th>gb_used</th>\n",
              "      <th>tariff</th>\n",
              "      <th>city</th>\n",
              "      <th>messages_included</th>\n",
              "      <th>gb_per_month_included</th>\n",
              "      <th>minutes_included</th>\n",
              "      <th>rub_monthly_fee</th>\n",
              "      <th>rub_per_gb</th>\n",
              "      <th>rub_per_message</th>\n",
              "      <th>rub_per_minute</th>\n",
              "      <th>over_duration</th>\n",
              "      <th>over_internet</th>\n",
              "      <th>over_sms</th>\n",
              "      <th>got_revenue</th>\n",
              "    </tr>\n",
              "    <tr>\n",
              "      <th>user_id</th>\n",
              "      <th>month</th>\n",
              "      <th></th>\n",
              "      <th></th>\n",
              "      <th></th>\n",
              "      <th></th>\n",
              "      <th></th>\n",
              "      <th></th>\n",
              "      <th></th>\n",
              "      <th></th>\n",
              "      <th></th>\n",
              "      <th></th>\n",
              "      <th></th>\n",
              "      <th></th>\n",
              "      <th></th>\n",
              "      <th></th>\n",
              "      <th></th>\n",
              "      <th></th>\n",
              "      <th></th>\n",
              "    </tr>\n",
              "  </thead>\n",
              "  <tbody>\n",
              "    <tr>\n",
              "      <th rowspan=\"5\" valign=\"top\">1000</th>\n",
              "      <th>5</th>\n",
              "      <td>1000</td>\n",
              "      <td>159.0</td>\n",
              "      <td>22.0</td>\n",
              "      <td>3.0</td>\n",
              "      <td>ultra</td>\n",
              "      <td>Краснодар</td>\n",
              "      <td>1000</td>\n",
              "      <td>30.0</td>\n",
              "      <td>3000</td>\n",
              "      <td>1950</td>\n",
              "      <td>150</td>\n",
              "      <td>1</td>\n",
              "      <td>1</td>\n",
              "      <td>-2841.0</td>\n",
              "      <td>-27.0</td>\n",
              "      <td>-978.0</td>\n",
              "      <td>0.0</td>\n",
              "    </tr>\n",
              "    <tr>\n",
              "      <th>6</th>\n",
              "      <td>1000</td>\n",
              "      <td>172.0</td>\n",
              "      <td>60.0</td>\n",
              "      <td>23.0</td>\n",
              "      <td>ultra</td>\n",
              "      <td>Краснодар</td>\n",
              "      <td>1000</td>\n",
              "      <td>30.0</td>\n",
              "      <td>3000</td>\n",
              "      <td>1950</td>\n",
              "      <td>150</td>\n",
              "      <td>1</td>\n",
              "      <td>1</td>\n",
              "      <td>-2828.0</td>\n",
              "      <td>-7.0</td>\n",
              "      <td>-940.0</td>\n",
              "      <td>0.0</td>\n",
              "    </tr>\n",
              "    <tr>\n",
              "      <th>7</th>\n",
              "      <td>1000</td>\n",
              "      <td>340.0</td>\n",
              "      <td>75.0</td>\n",
              "      <td>14.0</td>\n",
              "      <td>ultra</td>\n",
              "      <td>Краснодар</td>\n",
              "      <td>1000</td>\n",
              "      <td>30.0</td>\n",
              "      <td>3000</td>\n",
              "      <td>1950</td>\n",
              "      <td>150</td>\n",
              "      <td>1</td>\n",
              "      <td>1</td>\n",
              "      <td>-2660.0</td>\n",
              "      <td>-16.0</td>\n",
              "      <td>-925.0</td>\n",
              "      <td>0.0</td>\n",
              "    </tr>\n",
              "    <tr>\n",
              "      <th>8</th>\n",
              "      <td>1000</td>\n",
              "      <td>408.0</td>\n",
              "      <td>81.0</td>\n",
              "      <td>14.0</td>\n",
              "      <td>ultra</td>\n",
              "      <td>Краснодар</td>\n",
              "      <td>1000</td>\n",
              "      <td>30.0</td>\n",
              "      <td>3000</td>\n",
              "      <td>1950</td>\n",
              "      <td>150</td>\n",
              "      <td>1</td>\n",
              "      <td>1</td>\n",
              "      <td>-2592.0</td>\n",
              "      <td>-16.0</td>\n",
              "      <td>-919.0</td>\n",
              "      <td>0.0</td>\n",
              "    </tr>\n",
              "    <tr>\n",
              "      <th>9</th>\n",
              "      <td>1000</td>\n",
              "      <td>466.0</td>\n",
              "      <td>57.0</td>\n",
              "      <td>15.0</td>\n",
              "      <td>ultra</td>\n",
              "      <td>Краснодар</td>\n",
              "      <td>1000</td>\n",
              "      <td>30.0</td>\n",
              "      <td>3000</td>\n",
              "      <td>1950</td>\n",
              "      <td>150</td>\n",
              "      <td>1</td>\n",
              "      <td>1</td>\n",
              "      <td>-2534.0</td>\n",
              "      <td>-15.0</td>\n",
              "      <td>-943.0</td>\n",
              "      <td>0.0</td>\n",
              "    </tr>\n",
              "    <tr>\n",
              "      <th>...</th>\n",
              "      <th>...</th>\n",
              "      <td>...</td>\n",
              "      <td>...</td>\n",
              "      <td>...</td>\n",
              "      <td>...</td>\n",
              "      <td>...</td>\n",
              "      <td>...</td>\n",
              "      <td>...</td>\n",
              "      <td>...</td>\n",
              "      <td>...</td>\n",
              "      <td>...</td>\n",
              "      <td>...</td>\n",
              "      <td>...</td>\n",
              "      <td>...</td>\n",
              "      <td>...</td>\n",
              "      <td>...</td>\n",
              "      <td>...</td>\n",
              "      <td>...</td>\n",
              "    </tr>\n",
              "    <tr>\n",
              "      <th>1498</th>\n",
              "      <th>10</th>\n",
              "      <td>1498</td>\n",
              "      <td>247.0</td>\n",
              "      <td>42.0</td>\n",
              "      <td>21.0</td>\n",
              "      <td>smart</td>\n",
              "      <td>Владикавказ</td>\n",
              "      <td>50</td>\n",
              "      <td>15.0</td>\n",
              "      <td>500</td>\n",
              "      <td>550</td>\n",
              "      <td>200</td>\n",
              "      <td>3</td>\n",
              "      <td>3</td>\n",
              "      <td>-253.0</td>\n",
              "      <td>6.0</td>\n",
              "      <td>-8.0</td>\n",
              "      <td>1200.0</td>\n",
              "    </tr>\n",
              "    <tr>\n",
              "      <th rowspan=\"4\" valign=\"top\">1499</th>\n",
              "      <th>9</th>\n",
              "      <td>1499</td>\n",
              "      <td>70.0</td>\n",
              "      <td>11.0</td>\n",
              "      <td>2.0</td>\n",
              "      <td>smart</td>\n",
              "      <td>Пермь</td>\n",
              "      <td>50</td>\n",
              "      <td>15.0</td>\n",
              "      <td>500</td>\n",
              "      <td>550</td>\n",
              "      <td>200</td>\n",
              "      <td>3</td>\n",
              "      <td>3</td>\n",
              "      <td>-430.0</td>\n",
              "      <td>-13.0</td>\n",
              "      <td>-39.0</td>\n",
              "      <td>0.0</td>\n",
              "    </tr>\n",
              "    <tr>\n",
              "      <th>10</th>\n",
              "      <td>1499</td>\n",
              "      <td>449.0</td>\n",
              "      <td>48.0</td>\n",
              "      <td>18.0</td>\n",
              "      <td>smart</td>\n",
              "      <td>Пермь</td>\n",
              "      <td>50</td>\n",
              "      <td>15.0</td>\n",
              "      <td>500</td>\n",
              "      <td>550</td>\n",
              "      <td>200</td>\n",
              "      <td>3</td>\n",
              "      <td>3</td>\n",
              "      <td>-51.0</td>\n",
              "      <td>3.0</td>\n",
              "      <td>-2.0</td>\n",
              "      <td>600.0</td>\n",
              "    </tr>\n",
              "    <tr>\n",
              "      <th>11</th>\n",
              "      <td>1499</td>\n",
              "      <td>612.0</td>\n",
              "      <td>59.0</td>\n",
              "      <td>18.0</td>\n",
              "      <td>smart</td>\n",
              "      <td>Пермь</td>\n",
              "      <td>50</td>\n",
              "      <td>15.0</td>\n",
              "      <td>500</td>\n",
              "      <td>550</td>\n",
              "      <td>200</td>\n",
              "      <td>3</td>\n",
              "      <td>3</td>\n",
              "      <td>112.0</td>\n",
              "      <td>3.0</td>\n",
              "      <td>9.0</td>\n",
              "      <td>963.0</td>\n",
              "    </tr>\n",
              "    <tr>\n",
              "      <th>12</th>\n",
              "      <td>1499</td>\n",
              "      <td>492.0</td>\n",
              "      <td>66.0</td>\n",
              "      <td>13.0</td>\n",
              "      <td>smart</td>\n",
              "      <td>Пермь</td>\n",
              "      <td>50</td>\n",
              "      <td>15.0</td>\n",
              "      <td>500</td>\n",
              "      <td>550</td>\n",
              "      <td>200</td>\n",
              "      <td>3</td>\n",
              "      <td>3</td>\n",
              "      <td>-8.0</td>\n",
              "      <td>-2.0</td>\n",
              "      <td>16.0</td>\n",
              "      <td>48.0</td>\n",
              "    </tr>\n",
              "  </tbody>\n",
              "</table>\n",
              "<p>3214 rows × 17 columns</p>\n",
              "</div>\n",
              "      <button class=\"colab-df-convert\" onclick=\"convertToInteractive('df-b37f5619-0706-4e2e-b83b-12f13727d70d')\"\n",
              "              title=\"Convert this dataframe to an interactive table.\"\n",
              "              style=\"display:none;\">\n",
              "        \n",
              "  <svg xmlns=\"http://www.w3.org/2000/svg\" height=\"24px\"viewBox=\"0 0 24 24\"\n",
              "       width=\"24px\">\n",
              "    <path d=\"M0 0h24v24H0V0z\" fill=\"none\"/>\n",
              "    <path d=\"M18.56 5.44l.94 2.06.94-2.06 2.06-.94-2.06-.94-.94-2.06-.94 2.06-2.06.94zm-11 1L8.5 8.5l.94-2.06 2.06-.94-2.06-.94L8.5 2.5l-.94 2.06-2.06.94zm10 10l.94 2.06.94-2.06 2.06-.94-2.06-.94-.94-2.06-.94 2.06-2.06.94z\"/><path d=\"M17.41 7.96l-1.37-1.37c-.4-.4-.92-.59-1.43-.59-.52 0-1.04.2-1.43.59L10.3 9.45l-7.72 7.72c-.78.78-.78 2.05 0 2.83L4 21.41c.39.39.9.59 1.41.59.51 0 1.02-.2 1.41-.59l7.78-7.78 2.81-2.81c.8-.78.8-2.07 0-2.86zM5.41 20L4 18.59l7.72-7.72 1.47 1.35L5.41 20z\"/>\n",
              "  </svg>\n",
              "      </button>\n",
              "      \n",
              "  <style>\n",
              "    .colab-df-container {\n",
              "      display:flex;\n",
              "      flex-wrap:wrap;\n",
              "      gap: 12px;\n",
              "    }\n",
              "\n",
              "    .colab-df-convert {\n",
              "      background-color: #E8F0FE;\n",
              "      border: none;\n",
              "      border-radius: 50%;\n",
              "      cursor: pointer;\n",
              "      display: none;\n",
              "      fill: #1967D2;\n",
              "      height: 32px;\n",
              "      padding: 0 0 0 0;\n",
              "      width: 32px;\n",
              "    }\n",
              "\n",
              "    .colab-df-convert:hover {\n",
              "      background-color: #E2EBFA;\n",
              "      box-shadow: 0px 1px 2px rgba(60, 64, 67, 0.3), 0px 1px 3px 1px rgba(60, 64, 67, 0.15);\n",
              "      fill: #174EA6;\n",
              "    }\n",
              "\n",
              "    [theme=dark] .colab-df-convert {\n",
              "      background-color: #3B4455;\n",
              "      fill: #D2E3FC;\n",
              "    }\n",
              "\n",
              "    [theme=dark] .colab-df-convert:hover {\n",
              "      background-color: #434B5C;\n",
              "      box-shadow: 0px 1px 3px 1px rgba(0, 0, 0, 0.15);\n",
              "      filter: drop-shadow(0px 1px 2px rgba(0, 0, 0, 0.3));\n",
              "      fill: #FFFFFF;\n",
              "    }\n",
              "  </style>\n",
              "\n",
              "      <script>\n",
              "        const buttonEl =\n",
              "          document.querySelector('#df-b37f5619-0706-4e2e-b83b-12f13727d70d button.colab-df-convert');\n",
              "        buttonEl.style.display =\n",
              "          google.colab.kernel.accessAllowed ? 'block' : 'none';\n",
              "\n",
              "        async function convertToInteractive(key) {\n",
              "          const element = document.querySelector('#df-b37f5619-0706-4e2e-b83b-12f13727d70d');\n",
              "          const dataTable =\n",
              "            await google.colab.kernel.invokeFunction('convertToInteractive',\n",
              "                                                     [key], {});\n",
              "          if (!dataTable) return;\n",
              "\n",
              "          const docLinkHtml = 'Like what you see? Visit the ' +\n",
              "            '<a target=\"_blank\" href=https://colab.research.google.com/notebooks/data_table.ipynb>data table notebook</a>'\n",
              "            + ' to learn more about interactive tables.';\n",
              "          element.innerHTML = '';\n",
              "          dataTable['output_type'] = 'display_data';\n",
              "          await google.colab.output.renderOutput(dataTable, element);\n",
              "          const docLink = document.createElement('div');\n",
              "          docLink.innerHTML = docLinkHtml;\n",
              "          element.appendChild(docLink);\n",
              "        }\n",
              "      </script>\n",
              "    </div>\n",
              "  </div>\n",
              "  "
            ]
          },
          "metadata": {},
          "execution_count": 67
        }
      ],
      "source": [
        "df"
      ]
    },
    {
      "cell_type": "code",
      "execution_count": 68,
      "metadata": {
        "id": "rSu4ObQpGWMg"
      },
      "outputs": [],
      "source": [
        "df['total_revenue'] = df['rub_monthly_fee'] + df['got_revenue'] #считаем итоговую выручку от каждого пользователя в месяц / count sum of revenue from every user"
      ]
    },
    {
      "cell_type": "code",
      "execution_count": 69,
      "metadata": {
        "colab": {
          "base_uri": "https://localhost:8080/",
          "height": 518
        },
        "id": "HAv2rap6GWMg",
        "outputId": "05a7d1d7-4b0f-4592-95b4-2ced9cd41708"
      },
      "outputs": [
        {
          "output_type": "execute_result",
          "data": {
            "text/plain": [
              "               user_id  duration  sent_mess  gb_used tariff         city  \\\n",
              "user_id month                                                              \n",
              "1000    5         1000     159.0       22.0      3.0  ultra    Краснодар   \n",
              "        6         1000     172.0       60.0     23.0  ultra    Краснодар   \n",
              "        7         1000     340.0       75.0     14.0  ultra    Краснодар   \n",
              "        8         1000     408.0       81.0     14.0  ultra    Краснодар   \n",
              "        9         1000     466.0       57.0     15.0  ultra    Краснодар   \n",
              "...                ...       ...        ...      ...    ...          ...   \n",
              "1498    10        1498     247.0       42.0     21.0  smart  Владикавказ   \n",
              "1499    9         1499      70.0       11.0      2.0  smart        Пермь   \n",
              "        10        1499     449.0       48.0     18.0  smart        Пермь   \n",
              "        11        1499     612.0       59.0     18.0  smart        Пермь   \n",
              "        12        1499     492.0       66.0     13.0  smart        Пермь   \n",
              "\n",
              "               messages_included  gb_per_month_included  minutes_included  \\\n",
              "user_id month                                                               \n",
              "1000    5                   1000                   30.0              3000   \n",
              "        6                   1000                   30.0              3000   \n",
              "        7                   1000                   30.0              3000   \n",
              "        8                   1000                   30.0              3000   \n",
              "        9                   1000                   30.0              3000   \n",
              "...                          ...                    ...               ...   \n",
              "1498    10                    50                   15.0               500   \n",
              "1499    9                     50                   15.0               500   \n",
              "        10                    50                   15.0               500   \n",
              "        11                    50                   15.0               500   \n",
              "        12                    50                   15.0               500   \n",
              "\n",
              "               rub_monthly_fee  rub_per_gb  rub_per_message  rub_per_minute  \\\n",
              "user_id month                                                                 \n",
              "1000    5                 1950         150                1               1   \n",
              "        6                 1950         150                1               1   \n",
              "        7                 1950         150                1               1   \n",
              "        8                 1950         150                1               1   \n",
              "        9                 1950         150                1               1   \n",
              "...                        ...         ...              ...             ...   \n",
              "1498    10                 550         200                3               3   \n",
              "1499    9                  550         200                3               3   \n",
              "        10                 550         200                3               3   \n",
              "        11                 550         200                3               3   \n",
              "        12                 550         200                3               3   \n",
              "\n",
              "               over_duration  over_internet  over_sms  got_revenue  \\\n",
              "user_id month                                                        \n",
              "1000    5            -2841.0          -27.0    -978.0          0.0   \n",
              "        6            -2828.0           -7.0    -940.0          0.0   \n",
              "        7            -2660.0          -16.0    -925.0          0.0   \n",
              "        8            -2592.0          -16.0    -919.0          0.0   \n",
              "        9            -2534.0          -15.0    -943.0          0.0   \n",
              "...                      ...            ...       ...          ...   \n",
              "1498    10            -253.0            6.0      -8.0       1200.0   \n",
              "1499    9             -430.0          -13.0     -39.0          0.0   \n",
              "        10             -51.0            3.0      -2.0        600.0   \n",
              "        11             112.0            3.0       9.0        963.0   \n",
              "        12              -8.0           -2.0      16.0         48.0   \n",
              "\n",
              "               total_revenue  \n",
              "user_id month                 \n",
              "1000    5             1950.0  \n",
              "        6             1950.0  \n",
              "        7             1950.0  \n",
              "        8             1950.0  \n",
              "        9             1950.0  \n",
              "...                      ...  \n",
              "1498    10            1750.0  \n",
              "1499    9              550.0  \n",
              "        10            1150.0  \n",
              "        11            1513.0  \n",
              "        12             598.0  \n",
              "\n",
              "[3214 rows x 18 columns]"
            ],
            "text/html": [
              "\n",
              "  <div id=\"df-919c3c5b-62fe-44e5-a28c-76171445d31a\">\n",
              "    <div class=\"colab-df-container\">\n",
              "      <div>\n",
              "<style scoped>\n",
              "    .dataframe tbody tr th:only-of-type {\n",
              "        vertical-align: middle;\n",
              "    }\n",
              "\n",
              "    .dataframe tbody tr th {\n",
              "        vertical-align: top;\n",
              "    }\n",
              "\n",
              "    .dataframe thead th {\n",
              "        text-align: right;\n",
              "    }\n",
              "</style>\n",
              "<table border=\"1\" class=\"dataframe\">\n",
              "  <thead>\n",
              "    <tr style=\"text-align: right;\">\n",
              "      <th></th>\n",
              "      <th></th>\n",
              "      <th>user_id</th>\n",
              "      <th>duration</th>\n",
              "      <th>sent_mess</th>\n",
              "      <th>gb_used</th>\n",
              "      <th>tariff</th>\n",
              "      <th>city</th>\n",
              "      <th>messages_included</th>\n",
              "      <th>gb_per_month_included</th>\n",
              "      <th>minutes_included</th>\n",
              "      <th>rub_monthly_fee</th>\n",
              "      <th>rub_per_gb</th>\n",
              "      <th>rub_per_message</th>\n",
              "      <th>rub_per_minute</th>\n",
              "      <th>over_duration</th>\n",
              "      <th>over_internet</th>\n",
              "      <th>over_sms</th>\n",
              "      <th>got_revenue</th>\n",
              "      <th>total_revenue</th>\n",
              "    </tr>\n",
              "    <tr>\n",
              "      <th>user_id</th>\n",
              "      <th>month</th>\n",
              "      <th></th>\n",
              "      <th></th>\n",
              "      <th></th>\n",
              "      <th></th>\n",
              "      <th></th>\n",
              "      <th></th>\n",
              "      <th></th>\n",
              "      <th></th>\n",
              "      <th></th>\n",
              "      <th></th>\n",
              "      <th></th>\n",
              "      <th></th>\n",
              "      <th></th>\n",
              "      <th></th>\n",
              "      <th></th>\n",
              "      <th></th>\n",
              "      <th></th>\n",
              "      <th></th>\n",
              "    </tr>\n",
              "  </thead>\n",
              "  <tbody>\n",
              "    <tr>\n",
              "      <th rowspan=\"5\" valign=\"top\">1000</th>\n",
              "      <th>5</th>\n",
              "      <td>1000</td>\n",
              "      <td>159.0</td>\n",
              "      <td>22.0</td>\n",
              "      <td>3.0</td>\n",
              "      <td>ultra</td>\n",
              "      <td>Краснодар</td>\n",
              "      <td>1000</td>\n",
              "      <td>30.0</td>\n",
              "      <td>3000</td>\n",
              "      <td>1950</td>\n",
              "      <td>150</td>\n",
              "      <td>1</td>\n",
              "      <td>1</td>\n",
              "      <td>-2841.0</td>\n",
              "      <td>-27.0</td>\n",
              "      <td>-978.0</td>\n",
              "      <td>0.0</td>\n",
              "      <td>1950.0</td>\n",
              "    </tr>\n",
              "    <tr>\n",
              "      <th>6</th>\n",
              "      <td>1000</td>\n",
              "      <td>172.0</td>\n",
              "      <td>60.0</td>\n",
              "      <td>23.0</td>\n",
              "      <td>ultra</td>\n",
              "      <td>Краснодар</td>\n",
              "      <td>1000</td>\n",
              "      <td>30.0</td>\n",
              "      <td>3000</td>\n",
              "      <td>1950</td>\n",
              "      <td>150</td>\n",
              "      <td>1</td>\n",
              "      <td>1</td>\n",
              "      <td>-2828.0</td>\n",
              "      <td>-7.0</td>\n",
              "      <td>-940.0</td>\n",
              "      <td>0.0</td>\n",
              "      <td>1950.0</td>\n",
              "    </tr>\n",
              "    <tr>\n",
              "      <th>7</th>\n",
              "      <td>1000</td>\n",
              "      <td>340.0</td>\n",
              "      <td>75.0</td>\n",
              "      <td>14.0</td>\n",
              "      <td>ultra</td>\n",
              "      <td>Краснодар</td>\n",
              "      <td>1000</td>\n",
              "      <td>30.0</td>\n",
              "      <td>3000</td>\n",
              "      <td>1950</td>\n",
              "      <td>150</td>\n",
              "      <td>1</td>\n",
              "      <td>1</td>\n",
              "      <td>-2660.0</td>\n",
              "      <td>-16.0</td>\n",
              "      <td>-925.0</td>\n",
              "      <td>0.0</td>\n",
              "      <td>1950.0</td>\n",
              "    </tr>\n",
              "    <tr>\n",
              "      <th>8</th>\n",
              "      <td>1000</td>\n",
              "      <td>408.0</td>\n",
              "      <td>81.0</td>\n",
              "      <td>14.0</td>\n",
              "      <td>ultra</td>\n",
              "      <td>Краснодар</td>\n",
              "      <td>1000</td>\n",
              "      <td>30.0</td>\n",
              "      <td>3000</td>\n",
              "      <td>1950</td>\n",
              "      <td>150</td>\n",
              "      <td>1</td>\n",
              "      <td>1</td>\n",
              "      <td>-2592.0</td>\n",
              "      <td>-16.0</td>\n",
              "      <td>-919.0</td>\n",
              "      <td>0.0</td>\n",
              "      <td>1950.0</td>\n",
              "    </tr>\n",
              "    <tr>\n",
              "      <th>9</th>\n",
              "      <td>1000</td>\n",
              "      <td>466.0</td>\n",
              "      <td>57.0</td>\n",
              "      <td>15.0</td>\n",
              "      <td>ultra</td>\n",
              "      <td>Краснодар</td>\n",
              "      <td>1000</td>\n",
              "      <td>30.0</td>\n",
              "      <td>3000</td>\n",
              "      <td>1950</td>\n",
              "      <td>150</td>\n",
              "      <td>1</td>\n",
              "      <td>1</td>\n",
              "      <td>-2534.0</td>\n",
              "      <td>-15.0</td>\n",
              "      <td>-943.0</td>\n",
              "      <td>0.0</td>\n",
              "      <td>1950.0</td>\n",
              "    </tr>\n",
              "    <tr>\n",
              "      <th>...</th>\n",
              "      <th>...</th>\n",
              "      <td>...</td>\n",
              "      <td>...</td>\n",
              "      <td>...</td>\n",
              "      <td>...</td>\n",
              "      <td>...</td>\n",
              "      <td>...</td>\n",
              "      <td>...</td>\n",
              "      <td>...</td>\n",
              "      <td>...</td>\n",
              "      <td>...</td>\n",
              "      <td>...</td>\n",
              "      <td>...</td>\n",
              "      <td>...</td>\n",
              "      <td>...</td>\n",
              "      <td>...</td>\n",
              "      <td>...</td>\n",
              "      <td>...</td>\n",
              "      <td>...</td>\n",
              "    </tr>\n",
              "    <tr>\n",
              "      <th>1498</th>\n",
              "      <th>10</th>\n",
              "      <td>1498</td>\n",
              "      <td>247.0</td>\n",
              "      <td>42.0</td>\n",
              "      <td>21.0</td>\n",
              "      <td>smart</td>\n",
              "      <td>Владикавказ</td>\n",
              "      <td>50</td>\n",
              "      <td>15.0</td>\n",
              "      <td>500</td>\n",
              "      <td>550</td>\n",
              "      <td>200</td>\n",
              "      <td>3</td>\n",
              "      <td>3</td>\n",
              "      <td>-253.0</td>\n",
              "      <td>6.0</td>\n",
              "      <td>-8.0</td>\n",
              "      <td>1200.0</td>\n",
              "      <td>1750.0</td>\n",
              "    </tr>\n",
              "    <tr>\n",
              "      <th rowspan=\"4\" valign=\"top\">1499</th>\n",
              "      <th>9</th>\n",
              "      <td>1499</td>\n",
              "      <td>70.0</td>\n",
              "      <td>11.0</td>\n",
              "      <td>2.0</td>\n",
              "      <td>smart</td>\n",
              "      <td>Пермь</td>\n",
              "      <td>50</td>\n",
              "      <td>15.0</td>\n",
              "      <td>500</td>\n",
              "      <td>550</td>\n",
              "      <td>200</td>\n",
              "      <td>3</td>\n",
              "      <td>3</td>\n",
              "      <td>-430.0</td>\n",
              "      <td>-13.0</td>\n",
              "      <td>-39.0</td>\n",
              "      <td>0.0</td>\n",
              "      <td>550.0</td>\n",
              "    </tr>\n",
              "    <tr>\n",
              "      <th>10</th>\n",
              "      <td>1499</td>\n",
              "      <td>449.0</td>\n",
              "      <td>48.0</td>\n",
              "      <td>18.0</td>\n",
              "      <td>smart</td>\n",
              "      <td>Пермь</td>\n",
              "      <td>50</td>\n",
              "      <td>15.0</td>\n",
              "      <td>500</td>\n",
              "      <td>550</td>\n",
              "      <td>200</td>\n",
              "      <td>3</td>\n",
              "      <td>3</td>\n",
              "      <td>-51.0</td>\n",
              "      <td>3.0</td>\n",
              "      <td>-2.0</td>\n",
              "      <td>600.0</td>\n",
              "      <td>1150.0</td>\n",
              "    </tr>\n",
              "    <tr>\n",
              "      <th>11</th>\n",
              "      <td>1499</td>\n",
              "      <td>612.0</td>\n",
              "      <td>59.0</td>\n",
              "      <td>18.0</td>\n",
              "      <td>smart</td>\n",
              "      <td>Пермь</td>\n",
              "      <td>50</td>\n",
              "      <td>15.0</td>\n",
              "      <td>500</td>\n",
              "      <td>550</td>\n",
              "      <td>200</td>\n",
              "      <td>3</td>\n",
              "      <td>3</td>\n",
              "      <td>112.0</td>\n",
              "      <td>3.0</td>\n",
              "      <td>9.0</td>\n",
              "      <td>963.0</td>\n",
              "      <td>1513.0</td>\n",
              "    </tr>\n",
              "    <tr>\n",
              "      <th>12</th>\n",
              "      <td>1499</td>\n",
              "      <td>492.0</td>\n",
              "      <td>66.0</td>\n",
              "      <td>13.0</td>\n",
              "      <td>smart</td>\n",
              "      <td>Пермь</td>\n",
              "      <td>50</td>\n",
              "      <td>15.0</td>\n",
              "      <td>500</td>\n",
              "      <td>550</td>\n",
              "      <td>200</td>\n",
              "      <td>3</td>\n",
              "      <td>3</td>\n",
              "      <td>-8.0</td>\n",
              "      <td>-2.0</td>\n",
              "      <td>16.0</td>\n",
              "      <td>48.0</td>\n",
              "      <td>598.0</td>\n",
              "    </tr>\n",
              "  </tbody>\n",
              "</table>\n",
              "<p>3214 rows × 18 columns</p>\n",
              "</div>\n",
              "      <button class=\"colab-df-convert\" onclick=\"convertToInteractive('df-919c3c5b-62fe-44e5-a28c-76171445d31a')\"\n",
              "              title=\"Convert this dataframe to an interactive table.\"\n",
              "              style=\"display:none;\">\n",
              "        \n",
              "  <svg xmlns=\"http://www.w3.org/2000/svg\" height=\"24px\"viewBox=\"0 0 24 24\"\n",
              "       width=\"24px\">\n",
              "    <path d=\"M0 0h24v24H0V0z\" fill=\"none\"/>\n",
              "    <path d=\"M18.56 5.44l.94 2.06.94-2.06 2.06-.94-2.06-.94-.94-2.06-.94 2.06-2.06.94zm-11 1L8.5 8.5l.94-2.06 2.06-.94-2.06-.94L8.5 2.5l-.94 2.06-2.06.94zm10 10l.94 2.06.94-2.06 2.06-.94-2.06-.94-.94-2.06-.94 2.06-2.06.94z\"/><path d=\"M17.41 7.96l-1.37-1.37c-.4-.4-.92-.59-1.43-.59-.52 0-1.04.2-1.43.59L10.3 9.45l-7.72 7.72c-.78.78-.78 2.05 0 2.83L4 21.41c.39.39.9.59 1.41.59.51 0 1.02-.2 1.41-.59l7.78-7.78 2.81-2.81c.8-.78.8-2.07 0-2.86zM5.41 20L4 18.59l7.72-7.72 1.47 1.35L5.41 20z\"/>\n",
              "  </svg>\n",
              "      </button>\n",
              "      \n",
              "  <style>\n",
              "    .colab-df-container {\n",
              "      display:flex;\n",
              "      flex-wrap:wrap;\n",
              "      gap: 12px;\n",
              "    }\n",
              "\n",
              "    .colab-df-convert {\n",
              "      background-color: #E8F0FE;\n",
              "      border: none;\n",
              "      border-radius: 50%;\n",
              "      cursor: pointer;\n",
              "      display: none;\n",
              "      fill: #1967D2;\n",
              "      height: 32px;\n",
              "      padding: 0 0 0 0;\n",
              "      width: 32px;\n",
              "    }\n",
              "\n",
              "    .colab-df-convert:hover {\n",
              "      background-color: #E2EBFA;\n",
              "      box-shadow: 0px 1px 2px rgba(60, 64, 67, 0.3), 0px 1px 3px 1px rgba(60, 64, 67, 0.15);\n",
              "      fill: #174EA6;\n",
              "    }\n",
              "\n",
              "    [theme=dark] .colab-df-convert {\n",
              "      background-color: #3B4455;\n",
              "      fill: #D2E3FC;\n",
              "    }\n",
              "\n",
              "    [theme=dark] .colab-df-convert:hover {\n",
              "      background-color: #434B5C;\n",
              "      box-shadow: 0px 1px 3px 1px rgba(0, 0, 0, 0.15);\n",
              "      filter: drop-shadow(0px 1px 2px rgba(0, 0, 0, 0.3));\n",
              "      fill: #FFFFFF;\n",
              "    }\n",
              "  </style>\n",
              "\n",
              "      <script>\n",
              "        const buttonEl =\n",
              "          document.querySelector('#df-919c3c5b-62fe-44e5-a28c-76171445d31a button.colab-df-convert');\n",
              "        buttonEl.style.display =\n",
              "          google.colab.kernel.accessAllowed ? 'block' : 'none';\n",
              "\n",
              "        async function convertToInteractive(key) {\n",
              "          const element = document.querySelector('#df-919c3c5b-62fe-44e5-a28c-76171445d31a');\n",
              "          const dataTable =\n",
              "            await google.colab.kernel.invokeFunction('convertToInteractive',\n",
              "                                                     [key], {});\n",
              "          if (!dataTable) return;\n",
              "\n",
              "          const docLinkHtml = 'Like what you see? Visit the ' +\n",
              "            '<a target=\"_blank\" href=https://colab.research.google.com/notebooks/data_table.ipynb>data table notebook</a>'\n",
              "            + ' to learn more about interactive tables.';\n",
              "          element.innerHTML = '';\n",
              "          dataTable['output_type'] = 'display_data';\n",
              "          await google.colab.output.renderOutput(dataTable, element);\n",
              "          const docLink = document.createElement('div');\n",
              "          docLink.innerHTML = docLinkHtml;\n",
              "          element.appendChild(docLink);\n",
              "        }\n",
              "      </script>\n",
              "    </div>\n",
              "  </div>\n",
              "  "
            ]
          },
          "metadata": {},
          "execution_count": 69
        }
      ],
      "source": [
        "df"
      ]
    },
    {
      "cell_type": "markdown",
      "source": [
        "We prepared the final table to analyze"
      ],
      "metadata": {
        "id": "4KZ6-7si802Y"
      }
    },
    {
      "cell_type": "markdown",
      "metadata": {
        "id": "zX_9etreGWMl"
      },
      "source": [
        "# Среднее значение, стандартное отклонение и графики / Mean , standard deviation and graphics\n",
        "<a id=\"plot\"></a>"
      ]
    },
    {
      "cell_type": "code",
      "execution_count": 70,
      "metadata": {
        "id": "RUdcRj7zGWMm"
      },
      "outputs": [],
      "source": [
        "mean_std = df.pivot_table(index='tariff', values=['duration', 'sent_mess', 'gb_used'], aggfunc=['mean', 'std' , 'var']) #делаем сводную таблицу со средним значением и стандартным отклонением / create a pivot table with mean and std diversion"
      ]
    },
    {
      "cell_type": "code",
      "execution_count": 71,
      "metadata": {
        "colab": {
          "base_uri": "https://localhost:8080/",
          "height": 174
        },
        "id": "kdaOnynxGWMn",
        "outputId": "a539d8d6-806b-4de2-db61-daae08c3a290"
      },
      "outputs": [
        {
          "output_type": "execute_result",
          "data": {
            "text/plain": [
              "              mean                               std                       \\\n",
              "          duration    gb_used  sent_mess    duration   gb_used  sent_mess   \n",
              "tariff                                                                      \n",
              "smart   417.934948  16.328847  33.384029  190.313730  5.747061  28.227876   \n",
              "ultra   526.623350  19.494416  49.363452  317.606098  9.853511  47.804457   \n",
              "\n",
              "                  var                          \n",
              "             duration    gb_used    sent_mess  \n",
              "tariff                                         \n",
              "smart    36219.315784  33.028705   796.812958  \n",
              "ultra   100873.633397  97.091686  2285.266143  "
            ],
            "text/html": [
              "\n",
              "  <div id=\"df-e17d738a-54b2-4b31-8728-8980c036c888\">\n",
              "    <div class=\"colab-df-container\">\n",
              "      <div>\n",
              "<style scoped>\n",
              "    .dataframe tbody tr th:only-of-type {\n",
              "        vertical-align: middle;\n",
              "    }\n",
              "\n",
              "    .dataframe tbody tr th {\n",
              "        vertical-align: top;\n",
              "    }\n",
              "\n",
              "    .dataframe thead tr th {\n",
              "        text-align: left;\n",
              "    }\n",
              "\n",
              "    .dataframe thead tr:last-of-type th {\n",
              "        text-align: right;\n",
              "    }\n",
              "</style>\n",
              "<table border=\"1\" class=\"dataframe\">\n",
              "  <thead>\n",
              "    <tr>\n",
              "      <th></th>\n",
              "      <th colspan=\"3\" halign=\"left\">mean</th>\n",
              "      <th colspan=\"3\" halign=\"left\">std</th>\n",
              "      <th colspan=\"3\" halign=\"left\">var</th>\n",
              "    </tr>\n",
              "    <tr>\n",
              "      <th></th>\n",
              "      <th>duration</th>\n",
              "      <th>gb_used</th>\n",
              "      <th>sent_mess</th>\n",
              "      <th>duration</th>\n",
              "      <th>gb_used</th>\n",
              "      <th>sent_mess</th>\n",
              "      <th>duration</th>\n",
              "      <th>gb_used</th>\n",
              "      <th>sent_mess</th>\n",
              "    </tr>\n",
              "    <tr>\n",
              "      <th>tariff</th>\n",
              "      <th></th>\n",
              "      <th></th>\n",
              "      <th></th>\n",
              "      <th></th>\n",
              "      <th></th>\n",
              "      <th></th>\n",
              "      <th></th>\n",
              "      <th></th>\n",
              "      <th></th>\n",
              "    </tr>\n",
              "  </thead>\n",
              "  <tbody>\n",
              "    <tr>\n",
              "      <th>smart</th>\n",
              "      <td>417.934948</td>\n",
              "      <td>16.328847</td>\n",
              "      <td>33.384029</td>\n",
              "      <td>190.313730</td>\n",
              "      <td>5.747061</td>\n",
              "      <td>28.227876</td>\n",
              "      <td>36219.315784</td>\n",
              "      <td>33.028705</td>\n",
              "      <td>796.812958</td>\n",
              "    </tr>\n",
              "    <tr>\n",
              "      <th>ultra</th>\n",
              "      <td>526.623350</td>\n",
              "      <td>19.494416</td>\n",
              "      <td>49.363452</td>\n",
              "      <td>317.606098</td>\n",
              "      <td>9.853511</td>\n",
              "      <td>47.804457</td>\n",
              "      <td>100873.633397</td>\n",
              "      <td>97.091686</td>\n",
              "      <td>2285.266143</td>\n",
              "    </tr>\n",
              "  </tbody>\n",
              "</table>\n",
              "</div>\n",
              "      <button class=\"colab-df-convert\" onclick=\"convertToInteractive('df-e17d738a-54b2-4b31-8728-8980c036c888')\"\n",
              "              title=\"Convert this dataframe to an interactive table.\"\n",
              "              style=\"display:none;\">\n",
              "        \n",
              "  <svg xmlns=\"http://www.w3.org/2000/svg\" height=\"24px\"viewBox=\"0 0 24 24\"\n",
              "       width=\"24px\">\n",
              "    <path d=\"M0 0h24v24H0V0z\" fill=\"none\"/>\n",
              "    <path d=\"M18.56 5.44l.94 2.06.94-2.06 2.06-.94-2.06-.94-.94-2.06-.94 2.06-2.06.94zm-11 1L8.5 8.5l.94-2.06 2.06-.94-2.06-.94L8.5 2.5l-.94 2.06-2.06.94zm10 10l.94 2.06.94-2.06 2.06-.94-2.06-.94-.94-2.06-.94 2.06-2.06.94z\"/><path d=\"M17.41 7.96l-1.37-1.37c-.4-.4-.92-.59-1.43-.59-.52 0-1.04.2-1.43.59L10.3 9.45l-7.72 7.72c-.78.78-.78 2.05 0 2.83L4 21.41c.39.39.9.59 1.41.59.51 0 1.02-.2 1.41-.59l7.78-7.78 2.81-2.81c.8-.78.8-2.07 0-2.86zM5.41 20L4 18.59l7.72-7.72 1.47 1.35L5.41 20z\"/>\n",
              "  </svg>\n",
              "      </button>\n",
              "      \n",
              "  <style>\n",
              "    .colab-df-container {\n",
              "      display:flex;\n",
              "      flex-wrap:wrap;\n",
              "      gap: 12px;\n",
              "    }\n",
              "\n",
              "    .colab-df-convert {\n",
              "      background-color: #E8F0FE;\n",
              "      border: none;\n",
              "      border-radius: 50%;\n",
              "      cursor: pointer;\n",
              "      display: none;\n",
              "      fill: #1967D2;\n",
              "      height: 32px;\n",
              "      padding: 0 0 0 0;\n",
              "      width: 32px;\n",
              "    }\n",
              "\n",
              "    .colab-df-convert:hover {\n",
              "      background-color: #E2EBFA;\n",
              "      box-shadow: 0px 1px 2px rgba(60, 64, 67, 0.3), 0px 1px 3px 1px rgba(60, 64, 67, 0.15);\n",
              "      fill: #174EA6;\n",
              "    }\n",
              "\n",
              "    [theme=dark] .colab-df-convert {\n",
              "      background-color: #3B4455;\n",
              "      fill: #D2E3FC;\n",
              "    }\n",
              "\n",
              "    [theme=dark] .colab-df-convert:hover {\n",
              "      background-color: #434B5C;\n",
              "      box-shadow: 0px 1px 3px 1px rgba(0, 0, 0, 0.15);\n",
              "      filter: drop-shadow(0px 1px 2px rgba(0, 0, 0, 0.3));\n",
              "      fill: #FFFFFF;\n",
              "    }\n",
              "  </style>\n",
              "\n",
              "      <script>\n",
              "        const buttonEl =\n",
              "          document.querySelector('#df-e17d738a-54b2-4b31-8728-8980c036c888 button.colab-df-convert');\n",
              "        buttonEl.style.display =\n",
              "          google.colab.kernel.accessAllowed ? 'block' : 'none';\n",
              "\n",
              "        async function convertToInteractive(key) {\n",
              "          const element = document.querySelector('#df-e17d738a-54b2-4b31-8728-8980c036c888');\n",
              "          const dataTable =\n",
              "            await google.colab.kernel.invokeFunction('convertToInteractive',\n",
              "                                                     [key], {});\n",
              "          if (!dataTable) return;\n",
              "\n",
              "          const docLinkHtml = 'Like what you see? Visit the ' +\n",
              "            '<a target=\"_blank\" href=https://colab.research.google.com/notebooks/data_table.ipynb>data table notebook</a>'\n",
              "            + ' to learn more about interactive tables.';\n",
              "          element.innerHTML = '';\n",
              "          dataTable['output_type'] = 'display_data';\n",
              "          await google.colab.output.renderOutput(dataTable, element);\n",
              "          const docLink = document.createElement('div');\n",
              "          docLink.innerHTML = docLinkHtml;\n",
              "          element.appendChild(docLink);\n",
              "        }\n",
              "      </script>\n",
              "    </div>\n",
              "  </div>\n",
              "  "
            ]
          },
          "metadata": {},
          "execution_count": 71
        }
      ],
      "source": [
        "mean_std "
      ]
    },
    {
      "cell_type": "code",
      "execution_count": 72,
      "metadata": {
        "id": "IfAAvjYwGWMo"
      },
      "outputs": [],
      "source": [
        "smart = df.loc[df['tariff'] == 'smart'] #выделяем данные из общего датасета в отдельную таблицу / query the data on necessary tariff"
      ]
    },
    {
      "cell_type": "code",
      "execution_count": 73,
      "metadata": {
        "id": "tj9kdDoFGWMo"
      },
      "outputs": [],
      "source": [
        "smart = smart[['duration', 'sent_mess', 'gb_used']] #оставляем нужные столбцы для анализа / cut only useful columns"
      ]
    },
    {
      "cell_type": "code",
      "execution_count": 74,
      "metadata": {
        "colab": {
          "base_uri": "https://localhost:8080/"
        },
        "id": "mJvBlp-dGWMo",
        "outputId": "dad66f5b-8fc7-4af9-f0e6-3f1afd7c17b0"
      },
      "outputs": [
        {
          "output_type": "stream",
          "name": "stdout",
          "text": [
            "<class 'pandas.core.frame.DataFrame'>\n",
            "MultiIndex: 2229 entries, (1001, 11) to (1499, 12)\n",
            "Data columns (total 3 columns):\n",
            " #   Column     Non-Null Count  Dtype  \n",
            "---  ------     --------------  -----  \n",
            " 0   duration   2229 non-null   float64\n",
            " 1   sent_mess  2229 non-null   float64\n",
            " 2   gb_used    2229 non-null   float64\n",
            "dtypes: float64(3)\n",
            "memory usage: 79.3 KB\n"
          ]
        }
      ],
      "source": [
        "smart.info() # проверяем инфо "
      ]
    },
    {
      "cell_type": "code",
      "execution_count": 94,
      "metadata": {
        "colab": {
          "base_uri": "https://localhost:8080/",
          "height": 281
        },
        "id": "Dk-9bcNOGWMo",
        "outputId": "7baf33c1-325d-4fba-bbb8-e76be8e43a52"
      },
      "outputs": [
        {
          "output_type": "display_data",
          "data": {
            "text/plain": [
              "<Figure size 432x288 with 1 Axes>"
            ],
            "image/png": "[encoded data removed]"
          },
          "metadata": {
            "needs_background": "light"
          }
        }
      ],
      "source": [
        "np.std(smart, ddof=1).plot(kind='kde') #строим график стандартного отклонения / create a graphic with std diversion\n",
        "plt.title('std diversion for \"smart\"')\n",
        "plt.show()"
      ]
    },
    {
      "cell_type": "code",
      "execution_count": 118,
      "metadata": {
        "colab": {
          "base_uri": "https://localhost:8080/",
          "height": 827
        },
        "id": "x6a1Bd7TGWMo",
        "outputId": "5b966c80-316d-42e8-96c1-cf862ac9e826"
      },
      "outputs": [
        {
          "output_type": "display_data",
          "data": {
            "text/plain": [
              "<Figure size 432x288 with 1 Axes>"
            ],
            "image/png": "[encoded data removed]"
          },
          "metadata": {
            "needs_background": "light"
          }
        },
        {
          "output_type": "display_data",
          "data": {
            "text/plain": [
              "<Figure size 432x288 with 1 Axes>"
            ],
            "image/png": "[encoded data removed]"
          },
          "metadata": {
            "needs_background": "light"
          }
        },
        {
          "output_type": "display_data",
          "data": {
            "text/plain": [
              "<Figure size 432x288 with 1 Axes>"
            ],
            "image/png": "[encoded data removed]"
          },
          "metadata": {
            "needs_background": "light"
          }
        },
        {
          "output_type": "execute_result",
          "data": {
            "text/plain": [
              "['duration', 'sent_mess', 'gb_used']"
            ]
          },
          "metadata": {},
          "execution_count": 118
        }
      ],
      "source": [
        "smart_list = ['duration', 'sent_mess', 'gb_used']\n",
        "for column in smart_list:\n",
        "  smart[column].plot(\n",
        "      kind = \"kde\",\n",
        "      ),\n",
        "  plt.title(label=column)\n",
        "  plt.show()\n",
        "smart_list\n",
        "\n",
        "# функция, которая строит гистрограммы по длительности звонков, отпр. смс и использованных ГБ\n",
        "# a function that creates graphics on duration calls, sent SMS, used Gb"
      ]
    },
    {
      "cell_type": "code",
      "execution_count": 77,
      "metadata": {
        "id": "oj3KUWecGWMp"
      },
      "outputs": [],
      "source": [
        "ultra = df.loc[df['tariff'] == 'ultra']\n",
        "ultra = ultra[['duration', 'sent_mess', 'gb_used']]\n",
        "\n",
        "#создаем отдельный фрейм по тарифу ультра, оставляем только нужные столбцы\n",
        "# query the data on \"ultra\" and take necessary columns"
      ]
    },
    {
      "cell_type": "code",
      "execution_count": 78,
      "metadata": {
        "colab": {
          "base_uri": "https://localhost:8080/",
          "height": 868
        },
        "id": "3as24O0yGWMp",
        "outputId": "28648556-4365-4172-d11f-418eb670583c"
      },
      "outputs": [
        {
          "output_type": "display_data",
          "data": {
            "text/plain": [
              "<Figure size 432x288 with 1 Axes>"
            ],
            "image/png": "[encoded data removed]"
          },
          "metadata": {
            "needs_background": "light"
          }
        },
        {
          "output_type": "display_data",
          "data": {
            "text/plain": [
              "<Figure size 432x288 with 1 Axes>"
            ],
            "image/png": "[encoded data removed]"
          },
          "metadata": {
            "needs_background": "light"
          }
        },
        {
          "output_type": "display_data",
          "data": {
            "text/plain": [
              "<Figure size 432x288 with 1 Axes>"
            ],
            "image/png": "[encoded data removed]"
          },
          "metadata": {
            "needs_background": "light"
          }
        },
        {
          "output_type": "execute_result",
          "data": {
            "text/plain": [
              "['duration', 'sent_mess', 'gb_used']"
            ]
          },
          "metadata": {},
          "execution_count": 78
        }
      ],
      "source": [
        "ultra_list = ['duration', 'sent_mess', 'gb_used']\n",
        "for column in ultra_list:\n",
        "  ultra[column].plot(\n",
        "      kind = \"kde\",\n",
        "     )\n",
        "  plt.title(\"График по \" + str(column))\n",
        "  plt.xlabel(\"количество\")\n",
        "  plt.ylabel(\"частота\")\n",
        "  plt.show()\n",
        "ultra_list\n",
        "\n",
        "#функция, которые строит график распределения для длительности звонков, отпр. смс и потраченных ГБ\n",
        "# a function that creates graphics on duration calls, sent SMS, used Gb"
      ]
    },
    {
      "cell_type": "code",
      "execution_count": 121,
      "metadata": {
        "colab": {
          "base_uri": "https://localhost:8080/",
          "height": 281
        },
        "id": "9RKJqT6NGWMp",
        "outputId": "fdb9b85d-5eeb-4fb7-f229-319e9c397abc"
      },
      "outputs": [
        {
          "output_type": "display_data",
          "data": {
            "text/plain": [
              "<Figure size 432x288 with 1 Axes>"
            ],
            "image/png": "[encoded data removed]"
          },
          "metadata": {
            "needs_background": "light"
          }
        }
      ],
      "source": [
        "np.std(ultra, ddof=1).plot(kind='kde'), plt.title(\"График по std ultra\" ) #cтандартное отклонеие на графике для тарифа ультра\n",
        "plt.show()"
      ]
    },
    {
      "cell_type": "code",
      "execution_count": 80,
      "metadata": {
        "colab": {
          "base_uri": "https://localhost:8080/"
        },
        "id": "F_wUyZrfGWMq",
        "outputId": "90df6845-7844-4142-8866-b6a552d830cc"
      },
      "outputs": [
        {
          "output_type": "execute_result",
          "data": {
            "text/plain": [
              "duration     36219.315784\n",
              "sent_mess      796.812958\n",
              "gb_used         33.028705\n",
              "dtype: float64"
            ]
          },
          "metadata": {},
          "execution_count": 80
        }
      ],
      "source": [
        "np.var(smart, ddof=1) #получаем дисперсию для тарифа смарт # dispersion for \"smart\""
      ]
    },
    {
      "cell_type": "code",
      "execution_count": 81,
      "metadata": {
        "colab": {
          "base_uri": "https://localhost:8080/"
        },
        "id": "GocZoiRDGWMq",
        "outputId": "2732c0e0-3f4d-42f0-b85e-7f5dbed13af5"
      },
      "outputs": [
        {
          "output_type": "execute_result",
          "data": {
            "text/plain": [
              "duration     100873.633397\n",
              "sent_mess      2285.266143\n",
              "gb_used          97.091686\n",
              "dtype: float64"
            ]
          },
          "metadata": {},
          "execution_count": 81
        }
      ],
      "source": [
        "np.var(ultra, ddof=1)#получаем дисперсию для тарифа ультра / dispersion for \"ultra\""
      ]
    },
    {
      "cell_type": "code",
      "execution_count": 82,
      "metadata": {
        "id": "rTaPLXj0GWMq"
      },
      "outputs": [],
      "source": [
        "rev_smar_mean = df.query('(tariff == \"smart\")')\n",
        "rev_smar_mean = rev_smar_mean['total_revenue']\n",
        "#создаем фрейм для проверки гипотезы. Тариф смарт\n",
        "\n",
        "# create a df for checking a hyp. on \"smart\""
      ]
    },
    {
      "cell_type": "code",
      "execution_count": 83,
      "metadata": {
        "id": "jUv9V1jsGWMq"
      },
      "outputs": [],
      "source": [
        "rev_ultra_mean = df.query('(tariff == \"ultra\")')\n",
        "rev_ultra_mean = rev_ultra_mean['total_revenue']\n",
        "#создаем фрейм для проверки гипотезы. Тариф Ультра\n",
        "\n",
        "# create a df for checking a hyp. on \"ultra\""
      ]
    },
    {
      "cell_type": "markdown",
      "metadata": {
        "id": "DfY9fQdlGWMr"
      },
      "source": [
        "Н0 - средняя выручка смарт и ультра равны / mean revenue 'smart' and 'ultra' equals\n",
        "\n",
        "H1 - cредняя выручка смарт и ультра НЕ равны / mean revenue 'smart' and 'ultra' unequals "
      ]
    },
    {
      "cell_type": "code",
      "execution_count": 123,
      "metadata": {
        "colab": {
          "base_uri": "https://localhost:8080/"
        },
        "id": "DVOh8wrUGWMr",
        "outputId": "8aa11ba1-75e3-4825-e742-88ce1dfe5c6f"
      },
      "outputs": [
        {
          "output_type": "stream",
          "name": "stdout",
          "text": [
            "p-значение: 1.4229814360764067e-160\n",
            "Отвергаем нулевую гипотезу / reject H0\n"
          ]
        }
      ],
      "source": [
        "alpha = 0.05  \n",
        "results = st.ttest_ind(rev_smar_mean , rev_ultra_mean)\n",
        "\n",
        "print('p-значение:', results.pvalue)\n",
        "\n",
        "if results.pvalue < alpha:\n",
        "    print('Отвергаем нулевую гипотезу / reject H0')\n",
        "else:\n",
        "    print('Не получилось отвергнуть нулевую гипотезу / couldnt reject H0')\n",
        "#проверка гипотезы"
      ]
    },
    {
      "cell_type": "code",
      "execution_count": 85,
      "metadata": {
        "id": "zGigxTQ6GWMr"
      },
      "outputs": [],
      "source": [
        "moscow = df.query('(city == \"Москва\")') #cоздаем фрейм по г. Москва / create a df with clients from Moscow"
      ]
    },
    {
      "cell_type": "code",
      "execution_count": 86,
      "metadata": {
        "colab": {
          "base_uri": "https://localhost:8080/"
        },
        "id": "QJKH6GyRGWMs",
        "outputId": "feede8da-996f-40a4-d352-f2f4cde93d46"
      },
      "outputs": [
        {
          "output_type": "execute_result",
          "data": {
            "text/plain": [
              "array(['Москва'], dtype=object)"
            ]
          },
          "metadata": {},
          "execution_count": 86
        }
      ],
      "source": [
        "moscow['city'].unique()"
      ]
    },
    {
      "cell_type": "code",
      "execution_count": 87,
      "metadata": {
        "id": "V57_umQcGWMs"
      },
      "outputs": [],
      "source": [
        "moscow = moscow['total_revenue']"
      ]
    },
    {
      "cell_type": "code",
      "execution_count": 88,
      "metadata": {
        "id": "9vxmjunfGWMs"
      },
      "outputs": [],
      "source": [
        "other_cities = df.query('(city != \"Москва\")') #создаем фрейм с другими городами (кроме Мск) /  create a df with clients from other cities"
      ]
    },
    {
      "cell_type": "code",
      "execution_count": 89,
      "metadata": {
        "scrolled": false,
        "colab": {
          "base_uri": "https://localhost:8080/"
        },
        "id": "48_rSwmtGWMs",
        "outputId": "a0d17861-94d0-4b92-f1bd-b4d5f89fdaee"
      },
      "outputs": [
        {
          "output_type": "execute_result",
          "data": {
            "text/plain": [
              "array(['Краснодар', 'Стерлитамак', 'Новокузнецк', 'Набережные Челны',\n",
              "       'Ульяновск', 'Челябинск', 'Пермь', 'Тюмень', 'Самара',\n",
              "       'Санкт-Петербург', 'Иваново', 'Чебоксары', 'Омск', 'Уфа', 'Томск',\n",
              "       'Чита', 'Мурманск', 'Петрозаводск', 'Тверь', 'Екатеринбург',\n",
              "       'Махачкала', 'Вологда', 'Череповец', 'Ярославль', 'Сочи',\n",
              "       'Хабаровск', 'Ставрополь', 'Рязань', 'Улан-Удэ', 'Тула', 'Саратов',\n",
              "       'Ростов-на-Дону', 'Казань', 'Иркутск', 'Курск', 'Калуга', 'Якутск',\n",
              "       'Астрахань', 'Химки', 'Владикавказ', 'Волгоград', 'Саранск',\n",
              "       'Ижевск', 'Новосибирск', 'Брянск', 'Тольятти', 'Нижний Тагил',\n",
              "       'Орёл', 'Белгород', 'Воронеж', 'Курган', 'Барнаул', 'Красноярск',\n",
              "       'Архангельск', 'Липецк', 'Кемерово', 'Киров', 'Сургут', 'Пенза',\n",
              "       'Волжский', 'Магнитогорск', 'Нижний Новгород', 'Кострома',\n",
              "       'Владивосток', 'Тамбов', 'Балашиха', 'Севастополь', 'Калининград',\n",
              "       'Оренбург', 'Смоленск', 'Нижневартовск', 'Владимир',\n",
              "       'Новороссийск', 'Грозный', 'Подольск'], dtype=object)"
            ]
          },
          "metadata": {},
          "execution_count": 89
        }
      ],
      "source": [
        "other_cities['city'].unique()"
      ]
    },
    {
      "cell_type": "code",
      "execution_count": 90,
      "metadata": {
        "id": "XAOh1XlUGWMs"
      },
      "outputs": [],
      "source": [
        "other_cities = other_cities['total_revenue']"
      ]
    },
    {
      "cell_type": "markdown",
      "metadata": {
        "id": "BUIjbg6TGWMs"
      },
      "source": [
        "Н0 - средняя выручка московских пользователей равна средней выручке по другим городам / mean revenue between Moscow and other cities equal\n",
        "\n",
        "H1 - средняя выручка московских пользователей НЕ равна средней выручке по другим городам / mean revenue between Moscow and other cities unequal"
      ]
    },
    {
      "cell_type": "code",
      "execution_count": 125,
      "metadata": {
        "colab": {
          "base_uri": "https://localhost:8080/"
        },
        "id": "lMMaJqDPGWMt",
        "outputId": "9fde7d16-c552-45ce-e78f-0b4c8d16c0c6"
      },
      "outputs": [
        {
          "output_type": "stream",
          "name": "stdout",
          "text": [
            "p-значение: 0.5440152911670224\n",
            "Не получилось отвергнуть нулевую гипотезу / couldnt reject H0\n"
          ]
        }
      ],
      "source": [
        "alpha = 0.05  \n",
        "results = st.ttest_ind(moscow , other_cities)\n",
        "\n",
        "print('p-значение:', results.pvalue)\n",
        "\n",
        "if results.pvalue < alpha:\n",
        "    print('Отвергаем нулевую гипотезу / reject H0')\n",
        "else:\n",
        "    print('Не получилось отвергнуть нулевую гипотезу / couldnt reject H0') "
      ]
    },
    {
      "cell_type": "markdown",
      "metadata": {
        "id": "vkyUd2HmGWMt"
      },
      "source": [
        "# Общий вывод / Conclusion\n",
        "<a id=\"final\"></a>"
      ]
    },
    {
      "cell_type": "markdown",
      "source": [
        "1. SMS isn't a popular option in both tariffs. Actually, people prefer the internet, and we know that a lot of people use social media and messengers like what's up, telegram etc\n",
        "2. Mean showed us that users \"ultra\" more activity than users \"smart\". However, std dispersion has a difference in both tariffs in duration calls. \"smart\" showed std = 190, \"ultra\" = 317. We couldn't believe to mean counts\n",
        "3. Graphics for \"smart\" and \"ultra\" looks like a normal distribution\n",
        "4. The first hypothesis about the mean difference between \"ultra\" and \"smart\" was rejected. Mean count from \"smart\" gave us 1290 rur, \"ultra\" - 2070 rur\n",
        "The Second hypothesis about mean revenue between users from Moscow and other regions wasn't rejected\n",
        "5. The optimal tariff for the operator is \"ultra\""
      ],
      "metadata": {
        "id": "1JT2sojHGDbl"
      }
    },
    {
      "cell_type": "markdown",
      "metadata": {
        "id": "TwWx9nkaGWMt"
      },
      "source": [
        "1. При проверке данных ошибок мы не обнаружили. Нулевые значения в таблице звонков - входящие звонки, проверяили дубликаты по ФИ пользователей, проверили уникальные значения городов\n",
        "2. СМС сообщения. Кажется, эпоха СМС проходит, судя по средним значениям, люди практически перестали пользоваться этой услугой.Это логично, сейчас почти все используют мессенджеры, такие как: WhatsApp, Telegram, Viber и пр. С точки зрения пользователя, было бы логично сократить пакет с СМС и добавить интернет-трафик\n",
        "3. Среднее значение и стандартное отклонение. Среднее значение явно показывает нам то, что пользователи тарифа \"Ультра\" активнее по всем фронтам: звонки, смс, интернет. Однако, стандартное отклонение довольно сильно отличается от среднего в обоих тарифах в плане длительности звонков. Чем ближе значение к нулю, тем меньше разброс, а у нас в тарифе \"Смарт\" стд = 190, а у тарифа \"Ультра\" = 317. То есть положиться на среднее мы явно не можем. Точно также можем сказать про интернет и СМС\n",
        "4. Графики по тарифу \"Смарт\". Звонки и интернет косвенно похожи на нормальное распределение, однако у СМС идет подъем с углом 90 градусов, что явно не похоже на нормальное распределение. У Тарифа \"Ультра\" ситуация абсолютна идентичная. График стандартного отклонения в обоих тарифам похож на нормальное распредедение\n",
        "5. Проверка гипотезы \"Средняя выручка тарифов смарт и ультра равны и не равны\". Нулевой гипотезой у нас была \"средняя выручка смарт и ультра равны\" - мы её отвергли. Проверив цифры, мы убедились, что пользователи \"Смарт\" приносят в среднем 1290, а \"Ультра\" - 2070\n",
        "6. Проверка гипотезы \"средняя выручка московских пользователей равна или не равна средней выручке по другим городам\". Нулевой гипотезой было \"равна\", гипотезу отвергнуть не получилось. Проверив цифры, мы получили примерно одинаковое значение, в районе 1530\n",
        "7. Компании \"Мегалайн\" однозначно нужно продвигать тариф \"Ультра\". Возможно, что есть опция переделать лимиты в каждом тарифе, но для этого нам нужна большая выборка, а также очистка от выбросов"
      ]
    }
  ],
  "metadata": {
    "ExecuteTimeLog": [
      {
        "duration": 766,
        "start_time": "2021-09-27T14:35:32.950Z"
      },
      {
        "duration": 2192,
        "start_time": "2021-09-27T14:35:38.120Z"
      },
      {
        "duration": 1392,
        "start_time": "2021-09-29T16:19:36.295Z"
      },
      {
        "duration": 519,
        "start_time": "2021-09-29T16:19:37.689Z"
      },
      {
        "duration": 18,
        "start_time": "2021-09-29T16:19:43.806Z"
      },
      {
        "duration": 12,
        "start_time": "2021-09-29T16:19:51.773Z"
      },
      {
        "duration": 30,
        "start_time": "2021-09-29T16:20:08.014Z"
      },
      {
        "duration": 39,
        "start_time": "2021-09-29T16:20:51.988Z"
      },
      {
        "duration": 1352,
        "start_time": "2021-09-29T16:20:52.030Z"
      },
      {
        "duration": 19,
        "start_time": "2021-09-29T16:20:53.384Z"
      },
      {
        "duration": 31,
        "start_time": "2021-09-29T16:21:02.383Z"
      },
      {
        "duration": 13,
        "start_time": "2021-09-29T16:21:08.005Z"
      },
      {
        "duration": 6,
        "start_time": "2021-09-29T16:21:15.725Z"
      },
      {
        "duration": 30,
        "start_time": "2021-09-29T16:21:22.901Z"
      },
      {
        "duration": 12,
        "start_time": "2021-09-29T16:21:27.710Z"
      },
      {
        "duration": 18,
        "start_time": "2021-09-29T16:21:36.005Z"
      },
      {
        "duration": 13,
        "start_time": "2021-09-29T16:23:38.610Z"
      },
      {
        "duration": 25,
        "start_time": "2021-09-29T16:23:44.942Z"
      },
      {
        "duration": 10,
        "start_time": "2021-09-29T16:23:50.526Z"
      },
      {
        "duration": 25,
        "start_time": "2021-09-29T16:23:57.269Z"
      },
      {
        "duration": 25052,
        "start_time": "2021-09-29T16:24:02.581Z"
      },
      {
        "duration": 11,
        "start_time": "2021-09-29T16:24:27.635Z"
      },
      {
        "duration": 35,
        "start_time": "2021-09-29T16:24:27.649Z"
      },
      {
        "duration": 13,
        "start_time": "2021-09-29T16:24:27.686Z"
      },
      {
        "duration": 11,
        "start_time": "2021-09-29T16:24:45.685Z"
      },
      {
        "duration": 10,
        "start_time": "2021-09-29T16:25:00.740Z"
      },
      {
        "duration": 14,
        "start_time": "2021-09-29T16:25:06.093Z"
      },
      {
        "duration": 14,
        "start_time": "2021-09-29T16:25:14.237Z"
      },
      {
        "duration": 24,
        "start_time": "2021-09-29T16:25:20.556Z"
      },
      {
        "duration": 6,
        "start_time": "2021-09-29T16:25:48.822Z"
      },
      {
        "duration": 6,
        "start_time": "2021-09-29T16:25:56.773Z"
      },
      {
        "duration": 7,
        "start_time": "2021-09-29T16:26:02.012Z"
      },
      {
        "duration": 10,
        "start_time": "2021-09-29T16:26:08.564Z"
      },
      {
        "duration": 22,
        "start_time": "2021-09-29T16:26:14.087Z"
      },
      {
        "duration": 11,
        "start_time": "2021-09-29T16:26:21.997Z"
      },
      {
        "duration": 16,
        "start_time": "2021-09-29T16:26:28.405Z"
      },
      {
        "duration": 20477,
        "start_time": "2021-09-29T16:26:35.965Z"
      },
      {
        "duration": 30,
        "start_time": "2021-09-29T16:26:56.445Z"
      },
      {
        "duration": 19,
        "start_time": "2021-09-29T16:26:56.479Z"
      },
      {
        "duration": 75,
        "start_time": "2021-09-29T16:26:56.501Z"
      },
      {
        "duration": 54,
        "start_time": "2021-09-29T16:28:09.260Z"
      },
      {
        "duration": 26,
        "start_time": "2021-09-29T16:28:13.973Z"
      },
      {
        "duration": 54,
        "start_time": "2021-09-29T16:28:21.773Z"
      },
      {
        "duration": 26,
        "start_time": "2021-09-29T16:28:25.909Z"
      },
      {
        "duration": 40,
        "start_time": "2021-09-29T16:28:33.797Z"
      },
      {
        "duration": 21,
        "start_time": "2021-09-29T16:28:38.420Z"
      },
      {
        "duration": 6,
        "start_time": "2021-09-29T16:28:45.132Z"
      },
      {
        "duration": 6,
        "start_time": "2021-09-29T16:28:51.147Z"
      },
      {
        "duration": 27,
        "start_time": "2021-09-29T16:29:01.012Z"
      },
      {
        "duration": 6,
        "start_time": "2021-09-29T16:29:10.044Z"
      },
      {
        "duration": 18,
        "start_time": "2021-09-29T16:29:32.332Z"
      },
      {
        "duration": 30,
        "start_time": "2021-09-29T16:29:37.812Z"
      },
      {
        "duration": 16,
        "start_time": "2021-09-29T16:29:45.748Z"
      },
      {
        "duration": 23,
        "start_time": "2021-09-29T16:29:50.940Z"
      },
      {
        "duration": 662,
        "start_time": "2021-09-29T16:30:16.981Z"
      },
      {
        "duration": 444,
        "start_time": "2021-09-29T16:30:25.117Z"
      },
      {
        "duration": 13,
        "start_time": "2021-09-29T16:30:32.996Z"
      },
      {
        "duration": 4,
        "start_time": "2021-09-29T16:30:40.501Z"
      },
      {
        "duration": 12,
        "start_time": "2021-09-29T16:30:49.476Z"
      },
      {
        "duration": 3,
        "start_time": "2021-09-29T16:30:50.252Z"
      },
      {
        "duration": 12,
        "start_time": "2021-09-29T16:31:13.212Z"
      },
      {
        "duration": 6,
        "start_time": "2021-09-29T16:31:18.411Z"
      },
      {
        "duration": 11,
        "start_time": "2021-09-29T16:31:22.836Z"
      },
      {
        "duration": 380,
        "start_time": "2021-09-29T16:31:34.117Z"
      },
      {
        "duration": 387,
        "start_time": "2021-09-29T16:31:57.566Z"
      },
      {
        "duration": 369,
        "start_time": "2021-09-29T16:32:06.397Z"
      },
      {
        "duration": 359,
        "start_time": "2021-09-29T16:32:14.108Z"
      },
      {
        "duration": 14,
        "start_time": "2021-09-29T16:32:22.354Z"
      },
      {
        "duration": 4,
        "start_time": "2021-09-29T16:32:23.690Z"
      },
      {
        "duration": 13,
        "start_time": "2021-09-29T16:32:42.028Z"
      },
      {
        "duration": 3,
        "start_time": "2021-09-29T16:32:44.708Z"
      },
      {
        "duration": 340,
        "start_time": "2021-09-29T16:32:52.949Z"
      },
      {
        "duration": 371,
        "start_time": "2021-09-29T16:33:00.923Z"
      },
      {
        "duration": 3,
        "start_time": "2021-09-29T16:33:07.254Z"
      },
      {
        "duration": 1370,
        "start_time": "2021-09-29T16:33:17.383Z"
      },
      {
        "duration": 518,
        "start_time": "2021-09-29T16:33:18.756Z"
      },
      {
        "duration": 17,
        "start_time": "2021-09-29T16:33:19.277Z"
      },
      {
        "duration": 33,
        "start_time": "2021-09-29T16:33:19.296Z"
      },
      {
        "duration": 32155,
        "start_time": "2021-09-29T16:33:19.331Z"
      },
      {
        "duration": 19,
        "start_time": "2021-09-29T16:33:51.488Z"
      },
      {
        "duration": 69,
        "start_time": "2021-09-29T16:33:51.510Z"
      },
      {
        "duration": 13,
        "start_time": "2021-09-29T16:33:51.582Z"
      },
      {
        "duration": 8,
        "start_time": "2021-09-29T16:33:51.598Z"
      },
      {
        "duration": 74,
        "start_time": "2021-09-29T16:33:51.609Z"
      },
      {
        "duration": 18,
        "start_time": "2021-09-29T16:33:51.686Z"
      },
      {
        "duration": 30,
        "start_time": "2021-09-29T16:33:51.706Z"
      },
      {
        "duration": 16,
        "start_time": "2021-09-29T16:33:51.763Z"
      },
      {
        "duration": 27,
        "start_time": "2021-09-29T16:33:51.782Z"
      },
      {
        "duration": 10,
        "start_time": "2021-09-29T16:33:51.811Z"
      },
      {
        "duration": 23,
        "start_time": "2021-09-29T16:33:51.863Z"
      },
      {
        "duration": 23101,
        "start_time": "2021-09-29T16:33:51.889Z"
      },
      {
        "duration": 14,
        "start_time": "2021-09-29T16:34:14.993Z"
      },
      {
        "duration": 60,
        "start_time": "2021-09-29T16:34:15.009Z"
      },
      {
        "duration": 13,
        "start_time": "2021-09-29T16:34:15.071Z"
      },
      {
        "duration": 15,
        "start_time": "2021-09-29T16:34:15.087Z"
      },
      {
        "duration": 11,
        "start_time": "2021-09-29T16:34:15.105Z"
      },
      {
        "duration": 15,
        "start_time": "2021-09-29T16:34:15.162Z"
      },
      {
        "duration": 11,
        "start_time": "2021-09-29T16:34:15.180Z"
      },
      {
        "duration": 6,
        "start_time": "2021-09-29T16:34:15.194Z"
      },
      {
        "duration": 9,
        "start_time": "2021-09-29T16:34:15.203Z"
      },
      {
        "duration": 51,
        "start_time": "2021-09-29T16:34:15.215Z"
      },
      {
        "duration": 11,
        "start_time": "2021-09-29T16:34:15.269Z"
      },
      {
        "duration": 20,
        "start_time": "2021-09-29T16:34:15.282Z"
      },
      {
        "duration": 63,
        "start_time": "2021-09-29T16:34:15.304Z"
      },
      {
        "duration": 11,
        "start_time": "2021-09-29T16:34:15.369Z"
      },
      {
        "duration": 19617,
        "start_time": "2021-09-29T16:34:15.383Z"
      },
      {
        "duration": 22,
        "start_time": "2021-09-29T16:34:35.002Z"
      },
      {
        "duration": 43,
        "start_time": "2021-09-29T16:34:35.026Z"
      },
      {
        "duration": 35,
        "start_time": "2021-09-29T16:34:35.072Z"
      },
      {
        "duration": 73,
        "start_time": "2021-09-29T16:34:35.109Z"
      },
      {
        "duration": 19,
        "start_time": "2021-09-29T16:34:35.184Z"
      },
      {
        "duration": 87,
        "start_time": "2021-09-29T16:34:35.205Z"
      },
      {
        "duration": 19,
        "start_time": "2021-09-29T16:34:35.294Z"
      },
      {
        "duration": 63,
        "start_time": "2021-09-29T16:34:35.316Z"
      },
      {
        "duration": 18,
        "start_time": "2021-09-29T16:34:35.381Z"
      },
      {
        "duration": 10,
        "start_time": "2021-09-29T16:34:35.401Z"
      },
      {
        "duration": 51,
        "start_time": "2021-09-29T16:34:35.413Z"
      },
      {
        "duration": 21,
        "start_time": "2021-09-29T16:34:35.466Z"
      },
      {
        "duration": 9,
        "start_time": "2021-09-29T16:34:35.489Z"
      },
      {
        "duration": 61,
        "start_time": "2021-09-29T16:34:35.501Z"
      },
      {
        "duration": 25,
        "start_time": "2021-09-29T16:34:35.565Z"
      },
      {
        "duration": 18,
        "start_time": "2021-09-29T16:34:35.593Z"
      },
      {
        "duration": 65,
        "start_time": "2021-09-29T16:34:35.613Z"
      },
      {
        "duration": 17,
        "start_time": "2021-09-29T16:34:35.681Z"
      },
      {
        "duration": 3,
        "start_time": "2021-09-29T16:34:35.700Z"
      },
      {
        "duration": 58,
        "start_time": "2021-09-29T16:34:35.706Z"
      },
      {
        "duration": 6,
        "start_time": "2021-09-29T16:34:35.766Z"
      },
      {
        "duration": 15,
        "start_time": "2021-09-29T16:34:35.774Z"
      },
      {
        "duration": 656,
        "start_time": "2021-09-29T16:34:35.792Z"
      },
      {
        "duration": 12,
        "start_time": "2021-09-29T16:34:55.636Z"
      },
      {
        "duration": 35,
        "start_time": "2021-09-29T16:34:56.779Z"
      },
      {
        "duration": 13,
        "start_time": "2021-09-29T16:35:20.116Z"
      },
      {
        "duration": 4,
        "start_time": "2021-09-29T16:35:21.283Z"
      },
      {
        "duration": 390,
        "start_time": "2021-09-29T16:35:27.699Z"
      },
      {
        "duration": 4,
        "start_time": "2021-09-29T16:35:28.676Z"
      },
      {
        "duration": 393,
        "start_time": "2021-09-29T16:35:31.596Z"
      },
      {
        "duration": 4,
        "start_time": "2021-09-29T16:35:32.298Z"
      },
      {
        "duration": 14,
        "start_time": "2021-09-29T16:35:35.669Z"
      },
      {
        "duration": 29,
        "start_time": "2021-09-29T16:35:36.347Z"
      },
      {
        "duration": 12,
        "start_time": "2021-09-29T16:36:20.274Z"
      },
      {
        "duration": 11,
        "start_time": "2021-09-29T16:36:42.636Z"
      },
      {
        "duration": 3,
        "start_time": "2021-09-29T16:36:44.692Z"
      },
      {
        "duration": 4,
        "start_time": "2021-09-29T16:36:48.091Z"
      },
      {
        "duration": 13,
        "start_time": "2021-09-29T16:36:51.602Z"
      },
      {
        "duration": 27,
        "start_time": "2021-09-29T16:36:53.875Z"
      },
      {
        "duration": 401,
        "start_time": "2021-09-30T09:13:30.928Z"
      },
      {
        "duration": 328,
        "start_time": "2021-09-30T09:13:31.385Z"
      },
      {
        "duration": 1500,
        "start_time": "2021-09-30T09:13:40.976Z"
      },
      {
        "duration": 553,
        "start_time": "2021-09-30T09:13:42.478Z"
      },
      {
        "duration": 18,
        "start_time": "2021-09-30T09:13:43.034Z"
      },
      {
        "duration": 61,
        "start_time": "2021-09-30T09:13:43.055Z"
      },
      {
        "duration": 31629,
        "start_time": "2021-09-30T09:13:43.120Z"
      },
      {
        "duration": 25,
        "start_time": "2021-09-30T09:14:14.751Z"
      },
      {
        "duration": 63,
        "start_time": "2021-09-30T09:14:14.779Z"
      },
      {
        "duration": 13,
        "start_time": "2021-09-30T09:14:14.846Z"
      },
      {
        "duration": 22,
        "start_time": "2021-09-30T09:14:14.863Z"
      },
      {
        "duration": 60,
        "start_time": "2021-09-30T09:14:14.888Z"
      },
      {
        "duration": 25,
        "start_time": "2021-09-30T09:14:14.951Z"
      },
      {
        "duration": 50,
        "start_time": "2021-09-30T09:14:14.979Z"
      },
      {
        "duration": 75,
        "start_time": "2021-09-30T09:14:15.032Z"
      },
      {
        "duration": 33,
        "start_time": "2021-09-30T09:14:15.109Z"
      },
      {
        "duration": 10,
        "start_time": "2021-09-30T09:14:15.145Z"
      },
      {
        "duration": 62,
        "start_time": "2021-09-30T09:14:15.158Z"
      },
      {
        "duration": 23843,
        "start_time": "2021-09-30T09:14:15.222Z"
      },
      {
        "duration": 11,
        "start_time": "2021-09-30T09:14:39.067Z"
      },
      {
        "duration": 52,
        "start_time": "2021-09-30T09:14:39.080Z"
      },
      {
        "duration": 13,
        "start_time": "2021-09-30T09:14:39.134Z"
      },
      {
        "duration": 18,
        "start_time": "2021-09-30T09:14:39.149Z"
      },
      {
        "duration": 51,
        "start_time": "2021-09-30T09:14:39.169Z"
      },
      {
        "duration": 26,
        "start_time": "2021-09-30T09:14:39.226Z"
      },
      {
        "duration": 25,
        "start_time": "2021-09-30T09:14:39.255Z"
      },
      {
        "duration": 9,
        "start_time": "2021-09-30T09:14:39.282Z"
      },
      {
        "duration": 24,
        "start_time": "2021-09-30T09:14:39.293Z"
      },
      {
        "duration": 15,
        "start_time": "2021-09-30T09:14:39.320Z"
      },
      {
        "duration": 12,
        "start_time": "2021-09-30T09:14:39.337Z"
      },
      {
        "duration": 23,
        "start_time": "2021-09-30T09:14:39.351Z"
      },
      {
        "duration": 10,
        "start_time": "2021-09-30T09:14:39.418Z"
      },
      {
        "duration": 16,
        "start_time": "2021-09-30T09:14:39.430Z"
      },
      {
        "duration": 19414,
        "start_time": "2021-09-30T09:14:39.449Z"
      },
      {
        "duration": 21,
        "start_time": "2021-09-30T09:14:58.865Z"
      },
      {
        "duration": 34,
        "start_time": "2021-09-30T09:14:58.888Z"
      },
      {
        "duration": 34,
        "start_time": "2021-09-30T09:14:58.925Z"
      },
      {
        "duration": 75,
        "start_time": "2021-09-30T09:14:58.961Z"
      },
      {
        "duration": 19,
        "start_time": "2021-09-30T09:14:59.038Z"
      },
      {
        "duration": 75,
        "start_time": "2021-09-30T09:14:59.060Z"
      },
      {
        "duration": 18,
        "start_time": "2021-09-30T09:14:59.137Z"
      },
      {
        "duration": 68,
        "start_time": "2021-09-30T09:14:59.157Z"
      },
      {
        "duration": 18,
        "start_time": "2021-09-30T09:14:59.227Z"
      },
      {
        "duration": 9,
        "start_time": "2021-09-30T09:14:59.248Z"
      },
      {
        "duration": 8,
        "start_time": "2021-09-30T09:14:59.260Z"
      },
      {
        "duration": 56,
        "start_time": "2021-09-30T09:14:59.271Z"
      },
      {
        "duration": 5,
        "start_time": "2021-09-30T09:14:59.330Z"
      },
      {
        "duration": 19,
        "start_time": "2021-09-30T09:14:59.337Z"
      },
      {
        "duration": 61,
        "start_time": "2021-09-30T09:14:59.358Z"
      },
      {
        "duration": 15,
        "start_time": "2021-09-30T09:14:59.422Z"
      },
      {
        "duration": 22,
        "start_time": "2021-09-30T09:14:59.440Z"
      },
      {
        "duration": 60,
        "start_time": "2021-09-30T09:14:59.465Z"
      },
      {
        "duration": 559,
        "start_time": "2021-09-30T09:14:59.528Z"
      },
      {
        "duration": -1470,
        "start_time": "2021-09-30T09:15:01.560Z"
      },
      {
        "duration": -1477,
        "start_time": "2021-09-30T09:15:01.568Z"
      },
      {
        "duration": -1478,
        "start_time": "2021-09-30T09:15:01.570Z"
      },
      {
        "duration": -1479,
        "start_time": "2021-09-30T09:15:01.573Z"
      },
      {
        "duration": 28,
        "start_time": "2021-09-30T09:15:21.558Z"
      },
      {
        "duration": 12,
        "start_time": "2021-09-30T09:15:42.974Z"
      },
      {
        "duration": 6,
        "start_time": "2021-09-30T09:15:45.182Z"
      },
      {
        "duration": 11,
        "start_time": "2021-09-30T09:15:47.950Z"
      },
      {
        "duration": 11,
        "start_time": "2021-09-30T09:16:17.086Z"
      },
      {
        "duration": 35,
        "start_time": "2021-09-30T09:16:29.886Z"
      },
      {
        "duration": 11,
        "start_time": "2021-09-30T09:19:24.709Z"
      },
      {
        "duration": 6,
        "start_time": "2021-09-30T09:20:37.085Z"
      },
      {
        "duration": 12,
        "start_time": "2021-09-30T09:20:45.567Z"
      },
      {
        "duration": 7,
        "start_time": "2021-09-30T09:21:36.111Z"
      },
      {
        "duration": 15,
        "start_time": "2021-09-30T09:21:39.580Z"
      },
      {
        "duration": 5,
        "start_time": "2021-09-30T09:22:41.724Z"
      },
      {
        "duration": 7,
        "start_time": "2021-09-30T09:22:48.275Z"
      },
      {
        "duration": 20,
        "start_time": "2021-09-30T09:23:19.726Z"
      },
      {
        "duration": 9,
        "start_time": "2021-09-30T09:24:38.284Z"
      },
      {
        "duration": 583,
        "start_time": "2021-09-30T09:25:20.838Z"
      },
      {
        "duration": 44,
        "start_time": "2021-09-30T09:26:01.220Z"
      },
      {
        "duration": 7896,
        "start_time": "2021-09-30T09:26:50.812Z"
      },
      {
        "duration": -1495,
        "start_time": "2021-09-30T09:27:00.206Z"
      },
      {
        "duration": 8197,
        "start_time": "2021-09-30T09:27:35.676Z"
      },
      {
        "duration": -1478,
        "start_time": "2021-09-30T09:27:45.354Z"
      },
      {
        "duration": 5,
        "start_time": "2021-09-30T09:28:52.774Z"
      },
      {
        "duration": 63,
        "start_time": "2021-09-30T09:28:53.514Z"
      },
      {
        "duration": 26,
        "start_time": "2021-09-30T09:29:12.490Z"
      },
      {
        "duration": 23,
        "start_time": "2021-09-30T09:29:56.114Z"
      },
      {
        "duration": 15,
        "start_time": "2021-09-30T09:30:01.826Z"
      },
      {
        "duration": 335,
        "start_time": "2021-09-30T09:34:18.969Z"
      },
      {
        "duration": 6,
        "start_time": "2021-09-30T09:34:31.817Z"
      },
      {
        "duration": 6,
        "start_time": "2021-09-30T09:34:36.617Z"
      },
      {
        "duration": 9,
        "start_time": "2021-09-30T09:34:42.688Z"
      },
      {
        "duration": 286,
        "start_time": "2021-09-30T09:35:40.025Z"
      },
      {
        "duration": 1173,
        "start_time": "2021-09-30T09:36:05.097Z"
      },
      {
        "duration": 7,
        "start_time": "2021-09-30T09:37:03.313Z"
      },
      {
        "duration": 1237,
        "start_time": "2021-09-30T09:37:23.704Z"
      },
      {
        "duration": 281,
        "start_time": "2021-09-30T09:38:47.344Z"
      },
      {
        "duration": 7,
        "start_time": "2021-09-30T09:39:12.632Z"
      },
      {
        "duration": 8,
        "start_time": "2021-09-30T09:39:17.487Z"
      },
      {
        "duration": 441,
        "start_time": "2021-09-30T09:42:12.959Z"
      },
      {
        "duration": 620,
        "start_time": "2021-09-30T09:43:20.442Z"
      },
      {
        "duration": 13,
        "start_time": "2021-09-30T09:44:13.077Z"
      },
      {
        "duration": 73,
        "start_time": "2021-09-30T09:44:31.638Z"
      },
      {
        "duration": 10,
        "start_time": "2021-09-30T09:44:33.702Z"
      },
      {
        "duration": 9,
        "start_time": "2021-09-30T09:44:34.086Z"
      },
      {
        "duration": 7,
        "start_time": "2021-09-30T09:44:34.526Z"
      },
      {
        "duration": 8,
        "start_time": "2021-09-30T09:49:55.652Z"
      },
      {
        "duration": 424,
        "start_time": "2021-09-30T09:50:30.789Z"
      },
      {
        "duration": 8,
        "start_time": "2021-09-30T09:50:37.428Z"
      },
      {
        "duration": 6,
        "start_time": "2021-09-30T09:50:44.231Z"
      },
      {
        "duration": 337,
        "start_time": "2021-09-30T09:51:06.971Z"
      },
      {
        "duration": 9,
        "start_time": "2021-09-30T09:51:12.228Z"
      },
      {
        "duration": 6,
        "start_time": "2021-09-30T09:51:17.524Z"
      },
      {
        "duration": 759,
        "start_time": "2021-09-30T09:52:26.116Z"
      },
      {
        "duration": 10,
        "start_time": "2021-09-30T09:52:54.348Z"
      },
      {
        "duration": 7,
        "start_time": "2021-09-30T09:52:54.652Z"
      },
      {
        "duration": 8,
        "start_time": "2021-09-30T09:52:55.084Z"
      },
      {
        "duration": 6,
        "start_time": "2021-09-30T09:52:55.452Z"
      },
      {
        "duration": 555,
        "start_time": "2021-09-30T09:52:56.444Z"
      },
      {
        "duration": 4,
        "start_time": "2021-09-30T09:53:43.844Z"
      },
      {
        "duration": 8,
        "start_time": "2021-09-30T09:53:44.451Z"
      },
      {
        "duration": 8,
        "start_time": "2021-09-30T09:53:44.867Z"
      },
      {
        "duration": 14,
        "start_time": "2021-09-30T09:53:56.093Z"
      },
      {
        "duration": 8,
        "start_time": "2021-09-30T09:53:58.198Z"
      },
      {
        "duration": 1061,
        "start_time": "2021-09-30T16:32:39.956Z"
      },
      {
        "duration": 405,
        "start_time": "2021-09-30T16:32:41.021Z"
      },
      {
        "duration": 13,
        "start_time": "2021-09-30T16:32:41.428Z"
      },
      {
        "duration": 22,
        "start_time": "2021-09-30T16:32:41.443Z"
      },
      {
        "duration": 16242,
        "start_time": "2021-09-30T16:32:41.466Z"
      },
      {
        "duration": 15,
        "start_time": "2021-09-30T16:32:57.710Z"
      },
      {
        "duration": 26,
        "start_time": "2021-09-30T16:32:57.726Z"
      },
      {
        "duration": 9,
        "start_time": "2021-09-30T16:32:57.755Z"
      },
      {
        "duration": 8,
        "start_time": "2021-09-30T16:32:57.766Z"
      },
      {
        "duration": 44,
        "start_time": "2021-09-30T16:32:57.775Z"
      },
      {
        "duration": 13,
        "start_time": "2021-09-30T16:32:57.821Z"
      },
      {
        "duration": 16,
        "start_time": "2021-09-30T16:32:57.835Z"
      },
      {
        "duration": 8,
        "start_time": "2021-09-30T16:32:57.853Z"
      },
      {
        "duration": 41,
        "start_time": "2021-09-30T16:32:57.863Z"
      },
      {
        "duration": 6,
        "start_time": "2021-09-30T16:32:57.905Z"
      },
      {
        "duration": 29,
        "start_time": "2021-09-30T16:32:57.913Z"
      },
      {
        "duration": 11817,
        "start_time": "2021-09-30T16:32:57.943Z"
      },
      {
        "duration": 10,
        "start_time": "2021-09-30T16:33:09.762Z"
      },
      {
        "duration": 35,
        "start_time": "2021-09-30T16:33:09.773Z"
      },
      {
        "duration": 10,
        "start_time": "2021-09-30T16:33:09.810Z"
      },
      {
        "duration": 8,
        "start_time": "2021-09-30T16:33:09.822Z"
      },
      {
        "duration": 11,
        "start_time": "2021-09-30T16:33:09.832Z"
      },
      {
        "duration": 17,
        "start_time": "2021-09-30T16:33:09.844Z"
      },
      {
        "duration": 10,
        "start_time": "2021-09-30T16:33:09.862Z"
      },
      {
        "duration": 26,
        "start_time": "2021-09-30T16:33:09.875Z"
      },
      {
        "duration": 3,
        "start_time": "2021-09-30T16:33:09.905Z"
      },
      {
        "duration": 11,
        "start_time": "2021-09-30T16:33:09.911Z"
      },
      {
        "duration": 18,
        "start_time": "2021-09-30T16:33:09.924Z"
      },
      {
        "duration": 18,
        "start_time": "2021-09-30T16:33:09.943Z"
      },
      {
        "duration": 14,
        "start_time": "2021-09-30T16:33:09.962Z"
      },
      {
        "duration": 19,
        "start_time": "2021-09-30T16:33:09.978Z"
      },
      {
        "duration": 9793,
        "start_time": "2021-09-30T16:33:09.999Z"
      },
      {
        "duration": 15,
        "start_time": "2021-09-30T16:33:19.793Z"
      },
      {
        "duration": 14,
        "start_time": "2021-09-30T16:33:19.809Z"
      },
      {
        "duration": 23,
        "start_time": "2021-09-30T16:33:19.825Z"
      },
      {
        "duration": 51,
        "start_time": "2021-09-30T16:33:19.849Z"
      },
      {
        "duration": 12,
        "start_time": "2021-09-30T16:33:19.901Z"
      },
      {
        "duration": 27,
        "start_time": "2021-09-30T16:33:19.914Z"
      },
      {
        "duration": 10,
        "start_time": "2021-09-30T16:33:19.943Z"
      },
      {
        "duration": 44,
        "start_time": "2021-09-30T16:33:19.955Z"
      },
      {
        "duration": 13,
        "start_time": "2021-09-30T16:33:20.001Z"
      },
      {
        "duration": 5,
        "start_time": "2021-09-30T16:33:20.016Z"
      },
      {
        "duration": 13,
        "start_time": "2021-09-30T16:33:20.023Z"
      },
      {
        "duration": 19,
        "start_time": "2021-09-30T16:33:20.038Z"
      },
      {
        "duration": 11,
        "start_time": "2021-09-30T16:33:20.059Z"
      },
      {
        "duration": 24,
        "start_time": "2021-09-30T16:33:20.072Z"
      },
      {
        "duration": 16,
        "start_time": "2021-09-30T16:33:20.098Z"
      },
      {
        "duration": 13,
        "start_time": "2021-09-30T16:33:20.116Z"
      },
      {
        "duration": 17,
        "start_time": "2021-09-30T16:33:20.131Z"
      },
      {
        "duration": 9,
        "start_time": "2021-09-30T16:33:20.149Z"
      },
      {
        "duration": 62,
        "start_time": "2021-09-30T16:33:20.160Z"
      },
      {
        "duration": 10,
        "start_time": "2021-09-30T16:33:20.224Z"
      },
      {
        "duration": 6,
        "start_time": "2021-09-30T16:33:20.236Z"
      },
      {
        "duration": 10,
        "start_time": "2021-09-30T16:33:20.244Z"
      },
      {
        "duration": 11,
        "start_time": "2021-09-30T16:33:20.256Z"
      },
      {
        "duration": 39,
        "start_time": "2021-09-30T16:33:20.268Z"
      },
      {
        "duration": 5,
        "start_time": "2021-09-30T16:33:20.309Z"
      },
      {
        "duration": 8,
        "start_time": "2021-09-30T16:33:20.316Z"
      },
      {
        "duration": 4,
        "start_time": "2021-09-30T16:33:20.326Z"
      },
      {
        "duration": 8,
        "start_time": "2021-09-30T16:33:20.332Z"
      },
      {
        "duration": 3,
        "start_time": "2021-09-30T16:33:20.343Z"
      },
      {
        "duration": 5,
        "start_time": "2021-09-30T16:33:20.348Z"
      },
      {
        "duration": 46,
        "start_time": "2021-09-30T16:33:20.355Z"
      },
      {
        "duration": 7,
        "start_time": "2021-09-30T16:33:20.402Z"
      },
      {
        "duration": 323,
        "start_time": "2021-09-30T16:33:20.411Z"
      },
      {
        "duration": 28,
        "start_time": "2021-09-30T16:33:20.735Z"
      },
      {
        "duration": 7,
        "start_time": "2021-09-30T16:33:20.765Z"
      },
      {
        "duration": 52,
        "start_time": "2021-09-30T16:33:20.773Z"
      },
      {
        "duration": 15,
        "start_time": "2021-09-30T16:33:20.826Z"
      },
      {
        "duration": 9,
        "start_time": "2021-09-30T16:33:20.843Z"
      },
      {
        "duration": 5,
        "start_time": "2021-09-30T16:33:20.854Z"
      },
      {
        "duration": 4,
        "start_time": "2021-09-30T16:33:20.861Z"
      },
      {
        "duration": 8,
        "start_time": "2021-09-30T16:33:20.867Z"
      },
      {
        "duration": 192,
        "start_time": "2021-09-30T16:33:20.899Z"
      },
      {
        "duration": 646,
        "start_time": "2021-09-30T16:33:21.093Z"
      },
      {
        "duration": 7,
        "start_time": "2021-09-30T16:33:21.741Z"
      },
      {
        "duration": 610,
        "start_time": "2021-09-30T16:33:21.750Z"
      },
      {
        "duration": 190,
        "start_time": "2021-09-30T16:33:22.362Z"
      },
      {
        "duration": 6,
        "start_time": "2021-09-30T16:33:22.554Z"
      },
      {
        "duration": 5,
        "start_time": "2021-09-30T16:33:22.566Z"
      },
      {
        "duration": 9,
        "start_time": "2021-09-30T16:33:22.573Z"
      },
      {
        "duration": 8,
        "start_time": "2021-09-30T16:33:22.583Z"
      },
      {
        "duration": 9,
        "start_time": "2021-09-30T16:33:22.593Z"
      },
      {
        "duration": 10,
        "start_time": "2021-09-30T16:33:22.604Z"
      },
      {
        "duration": 106,
        "start_time": "2021-09-30T16:33:22.616Z"
      },
      {
        "duration": 4,
        "start_time": "2021-09-30T16:33:22.724Z"
      },
      {
        "duration": 10,
        "start_time": "2021-09-30T16:33:22.730Z"
      },
      {
        "duration": 7,
        "start_time": "2021-09-30T16:33:22.742Z"
      },
      {
        "duration": 4,
        "start_time": "2021-09-30T16:33:22.751Z"
      },
      {
        "duration": 44,
        "start_time": "2021-09-30T16:33:22.757Z"
      },
      {
        "duration": 1419,
        "start_time": "2021-10-02T09:48:11.451Z"
      },
      {
        "duration": 507,
        "start_time": "2021-10-02T09:48:12.872Z"
      },
      {
        "duration": 17,
        "start_time": "2021-10-02T09:48:13.382Z"
      },
      {
        "duration": 43,
        "start_time": "2021-10-02T09:48:13.402Z"
      },
      {
        "duration": 31686,
        "start_time": "2021-10-02T09:48:13.448Z"
      },
      {
        "duration": 18,
        "start_time": "2021-10-02T09:48:45.136Z"
      },
      {
        "duration": 48,
        "start_time": "2021-10-02T09:48:45.157Z"
      },
      {
        "duration": 21,
        "start_time": "2021-10-02T09:48:45.209Z"
      },
      {
        "duration": 21,
        "start_time": "2021-10-02T09:48:45.233Z"
      },
      {
        "duration": 55,
        "start_time": "2021-10-02T09:48:45.256Z"
      },
      {
        "duration": 36,
        "start_time": "2021-10-02T09:48:45.314Z"
      },
      {
        "duration": 38,
        "start_time": "2021-10-02T09:48:45.353Z"
      },
      {
        "duration": 17,
        "start_time": "2021-10-02T09:48:45.394Z"
      },
      {
        "duration": 48,
        "start_time": "2021-10-02T09:48:45.414Z"
      },
      {
        "duration": 11,
        "start_time": "2021-10-02T09:48:45.465Z"
      },
      {
        "duration": 32,
        "start_time": "2021-10-02T09:48:45.479Z"
      },
      {
        "duration": 23131,
        "start_time": "2021-10-02T09:48:45.514Z"
      },
      {
        "duration": 15,
        "start_time": "2021-10-02T09:49:08.648Z"
      },
      {
        "duration": 50,
        "start_time": "2021-10-02T09:49:08.666Z"
      },
      {
        "duration": 13,
        "start_time": "2021-10-02T09:49:08.718Z"
      },
      {
        "duration": 41,
        "start_time": "2021-10-02T09:49:08.733Z"
      },
      {
        "duration": 27,
        "start_time": "2021-10-02T09:49:08.776Z"
      },
      {
        "duration": 33,
        "start_time": "2021-10-02T09:49:08.809Z"
      },
      {
        "duration": 33,
        "start_time": "2021-10-02T09:49:08.846Z"
      },
      {
        "duration": 24,
        "start_time": "2021-10-02T09:49:08.881Z"
      },
      {
        "duration": 32,
        "start_time": "2021-10-02T09:49:08.907Z"
      },
      {
        "duration": 42,
        "start_time": "2021-10-02T09:49:08.941Z"
      },
      {
        "duration": 32,
        "start_time": "2021-10-02T09:49:08.985Z"
      },
      {
        "duration": 31,
        "start_time": "2021-10-02T09:49:09.019Z"
      },
      {
        "duration": 25,
        "start_time": "2021-10-02T09:49:09.052Z"
      },
      {
        "duration": 24,
        "start_time": "2021-10-02T09:49:09.079Z"
      },
      {
        "duration": 19464,
        "start_time": "2021-10-02T09:49:09.105Z"
      },
      {
        "duration": 20,
        "start_time": "2021-10-02T09:49:28.572Z"
      },
      {
        "duration": 34,
        "start_time": "2021-10-02T09:49:28.595Z"
      },
      {
        "duration": 32,
        "start_time": "2021-10-02T09:49:28.632Z"
      },
      {
        "duration": 60,
        "start_time": "2021-10-02T09:49:28.666Z"
      },
      {
        "duration": 17,
        "start_time": "2021-10-02T09:49:28.729Z"
      },
      {
        "duration": 55,
        "start_time": "2021-10-02T09:49:28.748Z"
      },
      {
        "duration": 23,
        "start_time": "2021-10-02T09:49:28.805Z"
      },
      {
        "duration": 55,
        "start_time": "2021-10-02T09:49:28.830Z"
      },
      {
        "duration": 21,
        "start_time": "2021-10-02T09:49:28.888Z"
      },
      {
        "duration": 21,
        "start_time": "2021-10-02T09:49:28.911Z"
      },
      {
        "duration": 34,
        "start_time": "2021-10-02T09:49:28.935Z"
      },
      {
        "duration": 34,
        "start_time": "2021-10-02T09:49:28.971Z"
      },
      {
        "duration": 24,
        "start_time": "2021-10-02T09:49:29.007Z"
      },
      {
        "duration": 19,
        "start_time": "2021-10-02T09:49:29.034Z"
      },
      {
        "duration": 31,
        "start_time": "2021-10-02T09:49:29.055Z"
      },
      {
        "duration": 20,
        "start_time": "2021-10-02T09:49:29.089Z"
      },
      {
        "duration": 24,
        "start_time": "2021-10-02T09:49:29.111Z"
      },
      {
        "duration": 21,
        "start_time": "2021-10-02T09:49:29.137Z"
      },
      {
        "duration": 42,
        "start_time": "2021-10-02T09:49:29.160Z"
      },
      {
        "duration": 24,
        "start_time": "2021-10-02T09:49:29.205Z"
      },
      {
        "duration": 19,
        "start_time": "2021-10-02T09:49:29.231Z"
      },
      {
        "duration": 25,
        "start_time": "2021-10-02T09:49:29.253Z"
      },
      {
        "duration": 12,
        "start_time": "2021-10-02T09:49:29.280Z"
      },
      {
        "duration": 40,
        "start_time": "2021-10-02T09:49:29.294Z"
      },
      {
        "duration": 6,
        "start_time": "2021-10-02T09:49:29.336Z"
      },
      {
        "duration": 15,
        "start_time": "2021-10-02T09:49:29.344Z"
      },
      {
        "duration": 21,
        "start_time": "2021-10-02T09:49:29.361Z"
      },
      {
        "duration": 20,
        "start_time": "2021-10-02T09:49:29.385Z"
      },
      {
        "duration": 15,
        "start_time": "2021-10-02T09:49:29.408Z"
      },
      {
        "duration": 6,
        "start_time": "2021-10-02T09:49:29.425Z"
      },
      {
        "duration": 22,
        "start_time": "2021-10-02T09:49:29.433Z"
      },
      {
        "duration": 16,
        "start_time": "2021-10-02T09:49:29.457Z"
      },
      {
        "duration": 605,
        "start_time": "2021-10-02T09:49:29.475Z"
      },
      {
        "duration": 58,
        "start_time": "2021-10-02T09:49:30.082Z"
      },
      {
        "duration": 17,
        "start_time": "2021-10-02T09:49:30.142Z"
      },
      {
        "duration": 63,
        "start_time": "2021-10-02T09:49:30.166Z"
      },
      {
        "duration": 24,
        "start_time": "2021-10-02T09:49:30.232Z"
      },
      {
        "duration": 24,
        "start_time": "2021-10-02T09:49:30.259Z"
      },
      {
        "duration": 13,
        "start_time": "2021-10-02T09:49:30.285Z"
      },
      {
        "duration": 14,
        "start_time": "2021-10-02T09:49:30.301Z"
      },
      {
        "duration": 28,
        "start_time": "2021-10-02T09:49:30.323Z"
      },
      {
        "duration": 290,
        "start_time": "2021-10-02T09:49:30.353Z"
      },
      {
        "duration": 1054,
        "start_time": "2021-10-02T09:49:30.645Z"
      },
      {
        "duration": 22,
        "start_time": "2021-10-02T09:49:31.701Z"
      },
      {
        "duration": 1005,
        "start_time": "2021-10-02T09:49:31.726Z"
      },
      {
        "duration": 360,
        "start_time": "2021-10-02T09:49:32.733Z"
      },
      {
        "duration": 7,
        "start_time": "2021-10-02T09:49:33.096Z"
      },
      {
        "duration": 21,
        "start_time": "2021-10-02T09:49:33.106Z"
      },
      {
        "duration": 15,
        "start_time": "2021-10-02T09:49:33.129Z"
      },
      {
        "duration": 10,
        "start_time": "2021-10-02T09:49:33.146Z"
      },
      {
        "duration": 9,
        "start_time": "2021-10-02T09:49:33.158Z"
      },
      {
        "duration": 15,
        "start_time": "2021-10-02T09:49:33.169Z"
      },
      {
        "duration": 37,
        "start_time": "2021-10-02T09:49:33.186Z"
      },
      {
        "duration": 3,
        "start_time": "2021-10-02T09:49:33.226Z"
      },
      {
        "duration": 18,
        "start_time": "2021-10-02T09:49:33.231Z"
      },
      {
        "duration": 14,
        "start_time": "2021-10-02T09:49:33.251Z"
      },
      {
        "duration": 13,
        "start_time": "2021-10-02T09:49:33.268Z"
      },
      {
        "duration": 19,
        "start_time": "2021-10-02T09:49:33.283Z"
      },
      {
        "duration": 4,
        "start_time": "2021-10-02T10:03:08.166Z"
      },
      {
        "duration": 34,
        "start_time": "2021-10-02T11:03:49.061Z"
      },
      {
        "duration": 33,
        "start_time": "2021-10-02T11:03:52.085Z"
      },
      {
        "duration": 18,
        "start_time": "2021-10-02T11:03:52.582Z"
      },
      {
        "duration": 972,
        "start_time": "2021-10-02T11:07:06.997Z"
      },
      {
        "duration": 949,
        "start_time": "2021-10-02T11:07:33.590Z"
      },
      {
        "duration": 791,
        "start_time": "2021-10-02T11:07:47.829Z"
      },
      {
        "duration": 98,
        "start_time": "2021-10-02T11:08:11.043Z"
      },
      {
        "duration": 100,
        "start_time": "2021-10-02T11:08:15.419Z"
      },
      {
        "duration": 1326,
        "start_time": "2021-10-02T11:08:21.001Z"
      },
      {
        "duration": 134,
        "start_time": "2021-10-02T11:08:37.478Z"
      },
      {
        "duration": 494,
        "start_time": "2021-10-02T11:08:40.228Z"
      },
      {
        "duration": 985,
        "start_time": "2021-10-02T11:15:23.354Z"
      },
      {
        "duration": 1001,
        "start_time": "2021-10-02T11:15:33.394Z"
      },
      {
        "duration": 23,
        "start_time": "2021-10-02T11:16:45.440Z"
      },
      {
        "duration": 92,
        "start_time": "2021-10-02T11:18:11.505Z"
      },
      {
        "duration": 94,
        "start_time": "2021-10-02T11:18:16.225Z"
      },
      {
        "duration": 106,
        "start_time": "2021-10-02T11:18:23.320Z"
      },
      {
        "duration": 91,
        "start_time": "2021-10-02T11:18:33.728Z"
      },
      {
        "duration": 101,
        "start_time": "2021-10-02T11:18:46.912Z"
      },
      {
        "duration": 101,
        "start_time": "2021-10-02T11:19:07.768Z"
      },
      {
        "duration": 93,
        "start_time": "2021-10-02T11:19:13.448Z"
      },
      {
        "duration": 99,
        "start_time": "2021-10-02T11:19:38.759Z"
      },
      {
        "duration": 1509,
        "start_time": "2021-10-02T13:03:08.289Z"
      },
      {
        "duration": 626,
        "start_time": "2021-10-02T13:03:09.800Z"
      },
      {
        "duration": 17,
        "start_time": "2021-10-02T13:03:10.430Z"
      },
      {
        "duration": 36,
        "start_time": "2021-10-02T13:03:10.450Z"
      },
      {
        "duration": 32732,
        "start_time": "2021-10-02T13:03:10.489Z"
      },
      {
        "duration": 19,
        "start_time": "2021-10-02T13:03:43.223Z"
      },
      {
        "duration": 31,
        "start_time": "2021-10-02T13:03:43.245Z"
      },
      {
        "duration": 38,
        "start_time": "2021-10-02T13:03:43.280Z"
      },
      {
        "duration": 11,
        "start_time": "2021-10-02T13:03:43.321Z"
      },
      {
        "duration": 35,
        "start_time": "2021-10-02T13:03:43.334Z"
      },
      {
        "duration": 19,
        "start_time": "2021-10-02T13:03:43.372Z"
      },
      {
        "duration": 44,
        "start_time": "2021-10-02T13:03:43.393Z"
      },
      {
        "duration": 12,
        "start_time": "2021-10-02T13:03:43.440Z"
      },
      {
        "duration": 31,
        "start_time": "2021-10-02T13:03:43.455Z"
      },
      {
        "duration": 31,
        "start_time": "2021-10-02T13:03:43.489Z"
      },
      {
        "duration": 31,
        "start_time": "2021-10-02T13:03:43.523Z"
      },
      {
        "duration": 23909,
        "start_time": "2021-10-02T13:03:43.556Z"
      },
      {
        "duration": 12,
        "start_time": "2021-10-02T13:04:07.467Z"
      },
      {
        "duration": 42,
        "start_time": "2021-10-02T13:04:07.481Z"
      },
      {
        "duration": 13,
        "start_time": "2021-10-02T13:04:07.526Z"
      },
      {
        "duration": 20,
        "start_time": "2021-10-02T13:04:07.541Z"
      },
      {
        "duration": 11,
        "start_time": "2021-10-02T13:04:07.563Z"
      },
      {
        "duration": 40,
        "start_time": "2021-10-02T13:04:07.580Z"
      },
      {
        "duration": 13,
        "start_time": "2021-10-02T13:04:07.624Z"
      },
      {
        "duration": 6,
        "start_time": "2021-10-02T13:04:07.639Z"
      },
      {
        "duration": 10,
        "start_time": "2021-10-02T13:04:07.647Z"
      },
      {
        "duration": 6,
        "start_time": "2021-10-02T13:04:07.660Z"
      },
      {
        "duration": 9,
        "start_time": "2021-10-02T13:04:07.668Z"
      },
      {
        "duration": 51,
        "start_time": "2021-10-02T13:04:07.679Z"
      },
      {
        "duration": 11,
        "start_time": "2021-10-02T13:04:07.733Z"
      },
      {
        "duration": 13,
        "start_time": "2021-10-02T13:04:07.746Z"
      },
      {
        "duration": 19954,
        "start_time": "2021-10-02T13:04:07.762Z"
      },
      {
        "duration": 21,
        "start_time": "2021-10-02T13:04:27.718Z"
      },
      {
        "duration": 26,
        "start_time": "2021-10-02T13:04:27.741Z"
      },
      {
        "duration": 54,
        "start_time": "2021-10-02T13:04:27.769Z"
      },
      {
        "duration": 38,
        "start_time": "2021-10-02T13:04:27.826Z"
      },
      {
        "duration": 17,
        "start_time": "2021-10-02T13:04:27.866Z"
      },
      {
        "duration": 65,
        "start_time": "2021-10-02T13:04:27.886Z"
      },
      {
        "duration": 17,
        "start_time": "2021-10-02T13:04:27.953Z"
      },
      {
        "duration": 55,
        "start_time": "2021-10-02T13:04:27.972Z"
      },
      {
        "duration": 18,
        "start_time": "2021-10-02T13:04:28.029Z"
      },
      {
        "duration": 12,
        "start_time": "2021-10-02T13:04:28.049Z"
      },
      {
        "duration": 8,
        "start_time": "2021-10-02T13:04:28.064Z"
      },
      {
        "duration": 42,
        "start_time": "2021-10-02T13:04:28.074Z"
      },
      {
        "duration": 6,
        "start_time": "2021-10-02T13:04:28.119Z"
      },
      {
        "duration": 22,
        "start_time": "2021-10-02T13:04:28.127Z"
      },
      {
        "duration": 29,
        "start_time": "2021-10-02T13:04:28.152Z"
      },
      {
        "duration": 33,
        "start_time": "2021-10-02T13:04:28.183Z"
      },
      {
        "duration": 23,
        "start_time": "2021-10-02T13:04:28.218Z"
      },
      {
        "duration": 23,
        "start_time": "2021-10-02T13:04:28.243Z"
      },
      {
        "duration": 32,
        "start_time": "2021-10-02T13:04:28.268Z"
      },
      {
        "duration": 19,
        "start_time": "2021-10-02T13:04:28.302Z"
      },
      {
        "duration": 12,
        "start_time": "2021-10-02T13:04:28.323Z"
      },
      {
        "duration": 24,
        "start_time": "2021-10-02T13:04:28.337Z"
      },
      {
        "duration": 11,
        "start_time": "2021-10-02T13:04:28.363Z"
      },
      {
        "duration": 52,
        "start_time": "2021-10-02T13:04:28.377Z"
      },
      {
        "duration": 6,
        "start_time": "2021-10-02T13:04:28.431Z"
      },
      {
        "duration": 24,
        "start_time": "2021-10-02T13:04:28.439Z"
      },
      {
        "duration": 20,
        "start_time": "2021-10-02T13:04:28.466Z"
      },
      {
        "duration": 21,
        "start_time": "2021-10-02T13:04:28.488Z"
      },
      {
        "duration": 9,
        "start_time": "2021-10-02T13:04:28.511Z"
      },
      {
        "duration": 17,
        "start_time": "2021-10-02T13:04:28.522Z"
      },
      {
        "duration": 29,
        "start_time": "2021-10-02T13:04:28.541Z"
      },
      {
        "duration": 12,
        "start_time": "2021-10-02T13:04:28.573Z"
      },
      {
        "duration": 584,
        "start_time": "2021-10-02T13:04:28.588Z"
      },
      {
        "duration": 54,
        "start_time": "2021-10-02T13:04:29.175Z"
      },
      {
        "duration": 5,
        "start_time": "2021-10-02T13:04:29.231Z"
      },
      {
        "duration": 62,
        "start_time": "2021-10-02T13:04:29.243Z"
      },
      {
        "duration": 37,
        "start_time": "2021-10-02T13:04:29.308Z"
      },
      {
        "duration": 19,
        "start_time": "2021-10-02T13:04:29.347Z"
      },
      {
        "duration": 7,
        "start_time": "2021-10-02T13:04:29.369Z"
      },
      {
        "duration": 38,
        "start_time": "2021-10-02T13:04:29.378Z"
      },
      {
        "duration": 9,
        "start_time": "2021-10-02T13:04:29.418Z"
      },
      {
        "duration": 377,
        "start_time": "2021-10-02T13:04:29.430Z"
      },
      {
        "duration": 1063,
        "start_time": "2021-10-02T13:04:29.816Z"
      },
      {
        "duration": 8,
        "start_time": "2021-10-02T13:04:30.881Z"
      },
      {
        "duration": 986,
        "start_time": "2021-10-02T13:04:30.891Z"
      },
      {
        "duration": 367,
        "start_time": "2021-10-02T13:04:31.880Z"
      },
      {
        "duration": 8,
        "start_time": "2021-10-02T13:04:32.249Z"
      },
      {
        "duration": 13,
        "start_time": "2021-10-02T13:04:32.260Z"
      },
      {
        "duration": 23,
        "start_time": "2021-10-02T13:04:32.275Z"
      },
      {
        "duration": 23,
        "start_time": "2021-10-02T13:04:32.300Z"
      },
      {
        "duration": 10,
        "start_time": "2021-10-02T13:04:32.325Z"
      },
      {
        "duration": 21,
        "start_time": "2021-10-02T13:04:32.337Z"
      },
      {
        "duration": 21,
        "start_time": "2021-10-02T13:04:32.360Z"
      },
      {
        "duration": 18,
        "start_time": "2021-10-02T13:04:32.383Z"
      },
      {
        "duration": 24,
        "start_time": "2021-10-02T13:04:32.403Z"
      },
      {
        "duration": 30,
        "start_time": "2021-10-02T13:04:32.429Z"
      },
      {
        "duration": 16,
        "start_time": "2021-10-02T13:04:32.462Z"
      },
      {
        "duration": 18,
        "start_time": "2021-10-02T13:04:32.480Z"
      }
    ],
    "kernelspec": {
      "display_name": "Python 3 (ipykernel)",
      "language": "python",
      "name": "python3"
    },
    "language_info": {
      "codemirror_mode": {
        "name": "ipython",
        "version": 3
      },
      "file_extension": ".py",
      "mimetype": "text/x-python",
      "name": "python",
      "nbconvert_exporter": "python",
      "pygments_lexer": "ipython3",
      "version": "3.9.5"
    },
    "toc": {
      "base_numbering": 1,
      "nav_menu": {
        "height": "86px",
        "width": "160px"
      },
      "number_sections": true,
      "sideBar": true,
      "skip_h1_title": true,
      "title_cell": "Table of Contents",
      "title_sidebar": "Contents",
      "toc_cell": false,
      "toc_position": {},
      "toc_section_display": true,
      "toc_window_display": false
    },
    "colab": {
      "name": "telecom-optimal_tariff.ipynb",
      "provenance": [],
      "include_colab_link": true
    }
  },
  "nbformat": 4,
  "nbformat_minor": 0
}
