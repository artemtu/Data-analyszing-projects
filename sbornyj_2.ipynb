{
  "cells": [
    {
      "cell_type": "markdown",
      "metadata": {
        "id": "view-in-github",
        "colab_type": "text"
      },
      "source": [
        "<a href=\"https://colab.research.google.com/github/artemtu/projects-by-artemtu/blob/main/sbornyj_2.ipynb\" target=\"_parent\"><img src=\"https://colab.research.google.com/assets/colab-badge.svg\" alt=\"Open In Colab\"/></a>"
      ]
    },
    {
      "cell_type": "markdown",
      "metadata": {
        "id": "ZFtQ561WssCg"
      },
      "source": [
        "# Исследование поведения пользователей мобильного приложения по заказу продуктов питания"
      ]
    },
    {
      "cell_type": "markdown",
      "metadata": {
        "id": "TZb8WtJXssCg"
      },
      "source": [
        "**Описание данных** \n",
        "logs_exp.csv\n",
        "\n",
        "- EventName — название события;\n",
        "- DeviceIDHash — уникальный идентификатор пользователя;\n",
        "- EventTimestamp — время события;\n",
        "- ExpId — номер эксперимента: 246 и 247 — контрольные группы, а 248 — экспериментальная\n",
        "\n",
        "**Задачи проекта:**\n",
        "\n",
        "\n",
        "### [Подготовка данных](#start)\n",
        "\n",
        "- проверить названия столбцов и заменить их (при необходимости)\n",
        "- проверить пропуски и типы данных\n",
        "- добавить столбец даты и времени, а также отдельный столбец дат\n",
        "\n",
        "### [Изучение и проверка данных](#discover_data)\n",
        "\n",
        "- сколько событий в логе?\n",
        "- сколько пользователей в логе?\n",
        "- сколько в среднем событий приходится на пользователя?\n",
        "- данными за какой период мы располагаем? Найти максимальную и минимальную дату. Построить гистограмму по дате и времени. Можно ли быть уверенным, что у нас одинаково полные данные за весь период? Технически в логи новых дней по некоторым пользователям могут «доезжать» события из прошлого — это может «перекашивать данные». Определить, с какого момента данные полные и отбросить более старые. Данными за какой период времени мы располагаем на самом деле?\n",
        "- много ли событий и пользователей мы потеряли, отбросив старые данные?\n",
        "- проверить, что у нас есть пользователи из всех трёх экспериментальных групп\n",
        "\n",
        "### [Изучение воронки событий](#pipeline)\n",
        "\n",
        "- посмотреть какие события есть в логах, как часто они встречаются. Отсортировать события по частоте\n",
        "- посчитать сколько пользователей совершали каждое из этих событий. Отсортировать события по числу пользователей. Посчитать долю пользователей, которые хоть раз совершали событие\n",
        "- предположить в каком порядке происходят события. Все ли они выстраиваются в последовательную цепочку? Их не нужно учитывать при расчёте воронки\n",
        "- по воронке событий посчитать какая доля пользователей проходит на следующий шаг воронки (от числа пользователей на предыдущем). То есть для последовательности событий A → B → C посчитать отношение числа пользователей с событием B к количеству пользователей с событием A, а также отношение числа пользователей с событием C к количеству пользователей с событием B\n",
        "- на каком шаге теряете больше всего пользователей?\n",
        "- какая доля пользователей доходит от первого события до оплаты?\n",
        "\n",
        "### [Изучение результатов эксперимента](#a/b)\n",
        "\n",
        "- сколько пользователей в каждой экспериментальной группе?\n",
        "- есть 2 контрольные группы для А/А-эксперимента, чтобы проверить корректность всех механизмов и расчётов. Проверить, находят ли статистические критерии разницу между выборками 246 и 247.\n",
        "- выбрать самое популярное событие. Посчитать число пользователей, совершивших это событие в каждой из контрольных групп. Посчитать долю пользователей, совершивших это событие. Проверить, будет ли отличие между группами статистически достоверным. Проделать то же самое для всех других событий (удобно обернуть проверку в отдельную функцию). Можно ли сказать, что разбиение на группы работает корректно?\n",
        "- аналогично поступить с группой с изменённым шрифтом. Сравнить результаты с каждой из контрольных групп в отдельности по каждому событию. Сравнить результаты с объединённой контрольной группой. Какие выводы из эксперимента можно сделать?\n",
        "- Какой уровень значимости вы выбрали при проверке статистических гипотез выше? Посчитать сколько проверок статистических гипотез вы сделали. При уровне значимости 0.1 каждый десятый раз можно получать ложный результат. Какой уровень значимости стоит применить? "
      ]
    },
    {
      "cell_type": "markdown",
      "metadata": {
        "id": "ASKG5chbssCi"
      },
      "source": [
        "# Открытие и подготовка данных\n",
        "<a id=\"start\"></a>\n"
      ]
    },
    {
      "cell_type": "code",
      "execution_count": 1,
      "metadata": {
        "id": "NM976WGmssCj"
      },
      "outputs": [],
      "source": [
        "import pandas as pd\n",
        "import numpy as np\n",
        "from matplotlib import pyplot as plt\n",
        "from math import factorial\n",
        "import math\n",
        "from scipy import stats as st\n",
        "from IPython.display import display_html\n",
        "from itertools import chain,cycle\n",
        "import seaborn as sns\n",
        "import datetime as dt\n",
        "import scipy.stats as stats\n",
        "import datetime\n",
        "from plotly import graph_objects as go\n",
        "from plotly.subplots import make_subplots\n",
        "from scipy import stats as st\n",
        "import numpy as np\n",
        "import math as mth\n",
        "import warnings"
      ]
    },
    {
      "cell_type": "code",
      "source": [
        "  warnings.filterwarnings(\"ignore\")"
      ],
      "metadata": {
        "id": "YRhz664FtiT1"
      },
      "execution_count": 2,
      "outputs": []
    },
    {
      "cell_type": "code",
      "execution_count": 80,
      "metadata": {
        "id": "_ng6v0V0ssCm"
      },
      "outputs": [],
      "source": [
        "logs = pd.read_csv('/content/drive/MyDrive/Pandas_files/resume/logs_exp.csv', sep='\\t') # read csv"
      ]
    },
    {
      "cell_type": "code",
      "execution_count": 81,
      "metadata": {
        "scrolled": true,
        "id": "iv4T4BfnssCn",
        "outputId": "784ab3e9-a2ba-440a-e8fb-c8091f8e59f6",
        "colab": {
          "base_uri": "https://localhost:8080/",
          "height": 143
        }
      },
      "outputs": [
        {
          "output_type": "execute_result",
          "data": {
            "text/html": [
              "\n",
              "  <div id=\"df-3e1d23a4-cfd5-47a6-99c6-14ee96ed9488\">\n",
              "    <div class=\"colab-df-container\">\n",
              "      <div>\n",
              "<style scoped>\n",
              "    .dataframe tbody tr th:only-of-type {\n",
              "        vertical-align: middle;\n",
              "    }\n",
              "\n",
              "    .dataframe tbody tr th {\n",
              "        vertical-align: top;\n",
              "    }\n",
              "\n",
              "    .dataframe thead th {\n",
              "        text-align: right;\n",
              "    }\n",
              "</style>\n",
              "<table border=\"1\" class=\"dataframe\">\n",
              "  <thead>\n",
              "    <tr style=\"text-align: right;\">\n",
              "      <th></th>\n",
              "      <th>EventName</th>\n",
              "      <th>DeviceIDHash</th>\n",
              "      <th>EventTimestamp</th>\n",
              "      <th>ExpId</th>\n",
              "    </tr>\n",
              "  </thead>\n",
              "  <tbody>\n",
              "    <tr>\n",
              "      <th>0</th>\n",
              "      <td>MainScreenAppear</td>\n",
              "      <td>4575588528974610257</td>\n",
              "      <td>1564029816</td>\n",
              "      <td>246</td>\n",
              "    </tr>\n",
              "    <tr>\n",
              "      <th>1</th>\n",
              "      <td>MainScreenAppear</td>\n",
              "      <td>7416695313311560658</td>\n",
              "      <td>1564053102</td>\n",
              "      <td>246</td>\n",
              "    </tr>\n",
              "    <tr>\n",
              "      <th>2</th>\n",
              "      <td>PaymentScreenSuccessful</td>\n",
              "      <td>3518123091307005509</td>\n",
              "      <td>1564054127</td>\n",
              "      <td>248</td>\n",
              "    </tr>\n",
              "  </tbody>\n",
              "</table>\n",
              "</div>\n",
              "      <button class=\"colab-df-convert\" onclick=\"convertToInteractive('df-3e1d23a4-cfd5-47a6-99c6-14ee96ed9488')\"\n",
              "              title=\"Convert this dataframe to an interactive table.\"\n",
              "              style=\"display:none;\">\n",
              "        \n",
              "  <svg xmlns=\"http://www.w3.org/2000/svg\" height=\"24px\"viewBox=\"0 0 24 24\"\n",
              "       width=\"24px\">\n",
              "    <path d=\"M0 0h24v24H0V0z\" fill=\"none\"/>\n",
              "    <path d=\"M18.56 5.44l.94 2.06.94-2.06 2.06-.94-2.06-.94-.94-2.06-.94 2.06-2.06.94zm-11 1L8.5 8.5l.94-2.06 2.06-.94-2.06-.94L8.5 2.5l-.94 2.06-2.06.94zm10 10l.94 2.06.94-2.06 2.06-.94-2.06-.94-.94-2.06-.94 2.06-2.06.94z\"/><path d=\"M17.41 7.96l-1.37-1.37c-.4-.4-.92-.59-1.43-.59-.52 0-1.04.2-1.43.59L10.3 9.45l-7.72 7.72c-.78.78-.78 2.05 0 2.83L4 21.41c.39.39.9.59 1.41.59.51 0 1.02-.2 1.41-.59l7.78-7.78 2.81-2.81c.8-.78.8-2.07 0-2.86zM5.41 20L4 18.59l7.72-7.72 1.47 1.35L5.41 20z\"/>\n",
              "  </svg>\n",
              "      </button>\n",
              "      \n",
              "  <style>\n",
              "    .colab-df-container {\n",
              "      display:flex;\n",
              "      flex-wrap:wrap;\n",
              "      gap: 12px;\n",
              "    }\n",
              "\n",
              "    .colab-df-convert {\n",
              "      background-color: #E8F0FE;\n",
              "      border: none;\n",
              "      border-radius: 50%;\n",
              "      cursor: pointer;\n",
              "      display: none;\n",
              "      fill: #1967D2;\n",
              "      height: 32px;\n",
              "      padding: 0 0 0 0;\n",
              "      width: 32px;\n",
              "    }\n",
              "\n",
              "    .colab-df-convert:hover {\n",
              "      background-color: #E2EBFA;\n",
              "      box-shadow: 0px 1px 2px rgba(60, 64, 67, 0.3), 0px 1px 3px 1px rgba(60, 64, 67, 0.15);\n",
              "      fill: #174EA6;\n",
              "    }\n",
              "\n",
              "    [theme=dark] .colab-df-convert {\n",
              "      background-color: #3B4455;\n",
              "      fill: #D2E3FC;\n",
              "    }\n",
              "\n",
              "    [theme=dark] .colab-df-convert:hover {\n",
              "      background-color: #434B5C;\n",
              "      box-shadow: 0px 1px 3px 1px rgba(0, 0, 0, 0.15);\n",
              "      filter: drop-shadow(0px 1px 2px rgba(0, 0, 0, 0.3));\n",
              "      fill: #FFFFFF;\n",
              "    }\n",
              "  </style>\n",
              "\n",
              "      <script>\n",
              "        const buttonEl =\n",
              "          document.querySelector('#df-3e1d23a4-cfd5-47a6-99c6-14ee96ed9488 button.colab-df-convert');\n",
              "        buttonEl.style.display =\n",
              "          google.colab.kernel.accessAllowed ? 'block' : 'none';\n",
              "\n",
              "        async function convertToInteractive(key) {\n",
              "          const element = document.querySelector('#df-3e1d23a4-cfd5-47a6-99c6-14ee96ed9488');\n",
              "          const dataTable =\n",
              "            await google.colab.kernel.invokeFunction('convertToInteractive',\n",
              "                                                     [key], {});\n",
              "          if (!dataTable) return;\n",
              "\n",
              "          const docLinkHtml = 'Like what you see? Visit the ' +\n",
              "            '<a target=\"_blank\" href=https://colab.research.google.com/notebooks/data_table.ipynb>data table notebook</a>'\n",
              "            + ' to learn more about interactive tables.';\n",
              "          element.innerHTML = '';\n",
              "          dataTable['output_type'] = 'display_data';\n",
              "          await google.colab.output.renderOutput(dataTable, element);\n",
              "          const docLink = document.createElement('div');\n",
              "          docLink.innerHTML = docLinkHtml;\n",
              "          element.appendChild(docLink);\n",
              "        }\n",
              "      </script>\n",
              "    </div>\n",
              "  </div>\n",
              "  "
            ],
            "text/plain": [
              "                 EventName         DeviceIDHash  EventTimestamp  ExpId\n",
              "0         MainScreenAppear  4575588528974610257      1564029816    246\n",
              "1         MainScreenAppear  7416695313311560658      1564053102    246\n",
              "2  PaymentScreenSuccessful  3518123091307005509      1564054127    248"
            ]
          },
          "metadata": {},
          "execution_count": 81
        }
      ],
      "source": [
        "logs.head(3) #first view data"
      ]
    },
    {
      "cell_type": "code",
      "execution_count": 82,
      "metadata": {
        "id": "3oXweYZqssCo"
      },
      "outputs": [],
      "source": [
        "logs['EventTimestamp'] = pd.to_datetime(logs['EventTimestamp'], unit='s') #приводим к формату дата"
      ]
    },
    {
      "cell_type": "code",
      "execution_count": 83,
      "metadata": {
        "id": "Ktgxn2HfssCo",
        "outputId": "fe446be2-6674-41a2-964a-3fe001715763",
        "colab": {
          "base_uri": "https://localhost:8080/",
          "height": 424
        }
      },
      "outputs": [
        {
          "output_type": "execute_result",
          "data": {
            "text/html": [
              "\n",
              "  <div id=\"df-6b601e48-29f8-44b9-8973-164e7371ab4b\">\n",
              "    <div class=\"colab-df-container\">\n",
              "      <div>\n",
              "<style scoped>\n",
              "    .dataframe tbody tr th:only-of-type {\n",
              "        vertical-align: middle;\n",
              "    }\n",
              "\n",
              "    .dataframe tbody tr th {\n",
              "        vertical-align: top;\n",
              "    }\n",
              "\n",
              "    .dataframe thead th {\n",
              "        text-align: right;\n",
              "    }\n",
              "</style>\n",
              "<table border=\"1\" class=\"dataframe\">\n",
              "  <thead>\n",
              "    <tr style=\"text-align: right;\">\n",
              "      <th></th>\n",
              "      <th>EventName</th>\n",
              "      <th>DeviceIDHash</th>\n",
              "      <th>EventTimestamp</th>\n",
              "      <th>ExpId</th>\n",
              "    </tr>\n",
              "  </thead>\n",
              "  <tbody>\n",
              "    <tr>\n",
              "      <th>0</th>\n",
              "      <td>MainScreenAppear</td>\n",
              "      <td>4575588528974610257</td>\n",
              "      <td>2019-07-25 04:43:36</td>\n",
              "      <td>246</td>\n",
              "    </tr>\n",
              "    <tr>\n",
              "      <th>1</th>\n",
              "      <td>MainScreenAppear</td>\n",
              "      <td>7416695313311560658</td>\n",
              "      <td>2019-07-25 11:11:42</td>\n",
              "      <td>246</td>\n",
              "    </tr>\n",
              "    <tr>\n",
              "      <th>2</th>\n",
              "      <td>PaymentScreenSuccessful</td>\n",
              "      <td>3518123091307005509</td>\n",
              "      <td>2019-07-25 11:28:47</td>\n",
              "      <td>248</td>\n",
              "    </tr>\n",
              "    <tr>\n",
              "      <th>3</th>\n",
              "      <td>CartScreenAppear</td>\n",
              "      <td>3518123091307005509</td>\n",
              "      <td>2019-07-25 11:28:47</td>\n",
              "      <td>248</td>\n",
              "    </tr>\n",
              "    <tr>\n",
              "      <th>4</th>\n",
              "      <td>PaymentScreenSuccessful</td>\n",
              "      <td>6217807653094995999</td>\n",
              "      <td>2019-07-25 11:48:42</td>\n",
              "      <td>248</td>\n",
              "    </tr>\n",
              "    <tr>\n",
              "      <th>...</th>\n",
              "      <td>...</td>\n",
              "      <td>...</td>\n",
              "      <td>...</td>\n",
              "      <td>...</td>\n",
              "    </tr>\n",
              "    <tr>\n",
              "      <th>244121</th>\n",
              "      <td>MainScreenAppear</td>\n",
              "      <td>4599628364049201812</td>\n",
              "      <td>2019-08-07 21:12:25</td>\n",
              "      <td>247</td>\n",
              "    </tr>\n",
              "    <tr>\n",
              "      <th>244122</th>\n",
              "      <td>MainScreenAppear</td>\n",
              "      <td>5849806612437486590</td>\n",
              "      <td>2019-08-07 21:13:59</td>\n",
              "      <td>246</td>\n",
              "    </tr>\n",
              "    <tr>\n",
              "      <th>244123</th>\n",
              "      <td>MainScreenAppear</td>\n",
              "      <td>5746969938801999050</td>\n",
              "      <td>2019-08-07 21:14:43</td>\n",
              "      <td>246</td>\n",
              "    </tr>\n",
              "    <tr>\n",
              "      <th>244124</th>\n",
              "      <td>MainScreenAppear</td>\n",
              "      <td>5746969938801999050</td>\n",
              "      <td>2019-08-07 21:14:58</td>\n",
              "      <td>246</td>\n",
              "    </tr>\n",
              "    <tr>\n",
              "      <th>244125</th>\n",
              "      <td>OffersScreenAppear</td>\n",
              "      <td>5746969938801999050</td>\n",
              "      <td>2019-08-07 21:15:17</td>\n",
              "      <td>246</td>\n",
              "    </tr>\n",
              "  </tbody>\n",
              "</table>\n",
              "<p>244126 rows × 4 columns</p>\n",
              "</div>\n",
              "      <button class=\"colab-df-convert\" onclick=\"convertToInteractive('df-6b601e48-29f8-44b9-8973-164e7371ab4b')\"\n",
              "              title=\"Convert this dataframe to an interactive table.\"\n",
              "              style=\"display:none;\">\n",
              "        \n",
              "  <svg xmlns=\"http://www.w3.org/2000/svg\" height=\"24px\"viewBox=\"0 0 24 24\"\n",
              "       width=\"24px\">\n",
              "    <path d=\"M0 0h24v24H0V0z\" fill=\"none\"/>\n",
              "    <path d=\"M18.56 5.44l.94 2.06.94-2.06 2.06-.94-2.06-.94-.94-2.06-.94 2.06-2.06.94zm-11 1L8.5 8.5l.94-2.06 2.06-.94-2.06-.94L8.5 2.5l-.94 2.06-2.06.94zm10 10l.94 2.06.94-2.06 2.06-.94-2.06-.94-.94-2.06-.94 2.06-2.06.94z\"/><path d=\"M17.41 7.96l-1.37-1.37c-.4-.4-.92-.59-1.43-.59-.52 0-1.04.2-1.43.59L10.3 9.45l-7.72 7.72c-.78.78-.78 2.05 0 2.83L4 21.41c.39.39.9.59 1.41.59.51 0 1.02-.2 1.41-.59l7.78-7.78 2.81-2.81c.8-.78.8-2.07 0-2.86zM5.41 20L4 18.59l7.72-7.72 1.47 1.35L5.41 20z\"/>\n",
              "  </svg>\n",
              "      </button>\n",
              "      \n",
              "  <style>\n",
              "    .colab-df-container {\n",
              "      display:flex;\n",
              "      flex-wrap:wrap;\n",
              "      gap: 12px;\n",
              "    }\n",
              "\n",
              "    .colab-df-convert {\n",
              "      background-color: #E8F0FE;\n",
              "      border: none;\n",
              "      border-radius: 50%;\n",
              "      cursor: pointer;\n",
              "      display: none;\n",
              "      fill: #1967D2;\n",
              "      height: 32px;\n",
              "      padding: 0 0 0 0;\n",
              "      width: 32px;\n",
              "    }\n",
              "\n",
              "    .colab-df-convert:hover {\n",
              "      background-color: #E2EBFA;\n",
              "      box-shadow: 0px 1px 2px rgba(60, 64, 67, 0.3), 0px 1px 3px 1px rgba(60, 64, 67, 0.15);\n",
              "      fill: #174EA6;\n",
              "    }\n",
              "\n",
              "    [theme=dark] .colab-df-convert {\n",
              "      background-color: #3B4455;\n",
              "      fill: #D2E3FC;\n",
              "    }\n",
              "\n",
              "    [theme=dark] .colab-df-convert:hover {\n",
              "      background-color: #434B5C;\n",
              "      box-shadow: 0px 1px 3px 1px rgba(0, 0, 0, 0.15);\n",
              "      filter: drop-shadow(0px 1px 2px rgba(0, 0, 0, 0.3));\n",
              "      fill: #FFFFFF;\n",
              "    }\n",
              "  </style>\n",
              "\n",
              "      <script>\n",
              "        const buttonEl =\n",
              "          document.querySelector('#df-6b601e48-29f8-44b9-8973-164e7371ab4b button.colab-df-convert');\n",
              "        buttonEl.style.display =\n",
              "          google.colab.kernel.accessAllowed ? 'block' : 'none';\n",
              "\n",
              "        async function convertToInteractive(key) {\n",
              "          const element = document.querySelector('#df-6b601e48-29f8-44b9-8973-164e7371ab4b');\n",
              "          const dataTable =\n",
              "            await google.colab.kernel.invokeFunction('convertToInteractive',\n",
              "                                                     [key], {});\n",
              "          if (!dataTable) return;\n",
              "\n",
              "          const docLinkHtml = 'Like what you see? Visit the ' +\n",
              "            '<a target=\"_blank\" href=https://colab.research.google.com/notebooks/data_table.ipynb>data table notebook</a>'\n",
              "            + ' to learn more about interactive tables.';\n",
              "          element.innerHTML = '';\n",
              "          dataTable['output_type'] = 'display_data';\n",
              "          await google.colab.output.renderOutput(dataTable, element);\n",
              "          const docLink = document.createElement('div');\n",
              "          docLink.innerHTML = docLinkHtml;\n",
              "          element.appendChild(docLink);\n",
              "        }\n",
              "      </script>\n",
              "    </div>\n",
              "  </div>\n",
              "  "
            ],
            "text/plain": [
              "                      EventName         DeviceIDHash      EventTimestamp  ExpId\n",
              "0              MainScreenAppear  4575588528974610257 2019-07-25 04:43:36    246\n",
              "1              MainScreenAppear  7416695313311560658 2019-07-25 11:11:42    246\n",
              "2       PaymentScreenSuccessful  3518123091307005509 2019-07-25 11:28:47    248\n",
              "3              CartScreenAppear  3518123091307005509 2019-07-25 11:28:47    248\n",
              "4       PaymentScreenSuccessful  6217807653094995999 2019-07-25 11:48:42    248\n",
              "...                         ...                  ...                 ...    ...\n",
              "244121         MainScreenAppear  4599628364049201812 2019-08-07 21:12:25    247\n",
              "244122         MainScreenAppear  5849806612437486590 2019-08-07 21:13:59    246\n",
              "244123         MainScreenAppear  5746969938801999050 2019-08-07 21:14:43    246\n",
              "244124         MainScreenAppear  5746969938801999050 2019-08-07 21:14:58    246\n",
              "244125       OffersScreenAppear  5746969938801999050 2019-08-07 21:15:17    246\n",
              "\n",
              "[244126 rows x 4 columns]"
            ]
          },
          "metadata": {},
          "execution_count": 83
        }
      ],
      "source": [
        "logs"
      ]
    },
    {
      "cell_type": "code",
      "execution_count": 84,
      "metadata": {
        "scrolled": true,
        "id": "p2mDWDGQssCp"
      },
      "outputs": [],
      "source": [
        "logs.set_axis(['event', 'user_id', 'datetime', 'expld'], axis=1, inplace=True) #переименовываем столбцы"
      ]
    },
    {
      "cell_type": "code",
      "execution_count": 85,
      "metadata": {
        "scrolled": false,
        "id": "NhrhcqstssCp",
        "outputId": "e4b3563c-db5d-4cd9-ecf5-cd8538c440e0",
        "colab": {
          "base_uri": "https://localhost:8080/",
          "height": 143
        }
      },
      "outputs": [
        {
          "output_type": "execute_result",
          "data": {
            "text/html": [
              "\n",
              "  <div id=\"df-a90ec4be-88f2-403d-98f6-e969bc34e014\">\n",
              "    <div class=\"colab-df-container\">\n",
              "      <div>\n",
              "<style scoped>\n",
              "    .dataframe tbody tr th:only-of-type {\n",
              "        vertical-align: middle;\n",
              "    }\n",
              "\n",
              "    .dataframe tbody tr th {\n",
              "        vertical-align: top;\n",
              "    }\n",
              "\n",
              "    .dataframe thead th {\n",
              "        text-align: right;\n",
              "    }\n",
              "</style>\n",
              "<table border=\"1\" class=\"dataframe\">\n",
              "  <thead>\n",
              "    <tr style=\"text-align: right;\">\n",
              "      <th></th>\n",
              "      <th>event</th>\n",
              "      <th>user_id</th>\n",
              "      <th>datetime</th>\n",
              "      <th>expld</th>\n",
              "    </tr>\n",
              "  </thead>\n",
              "  <tbody>\n",
              "    <tr>\n",
              "      <th>0</th>\n",
              "      <td>MainScreenAppear</td>\n",
              "      <td>4575588528974610257</td>\n",
              "      <td>2019-07-25 04:43:36</td>\n",
              "      <td>246</td>\n",
              "    </tr>\n",
              "    <tr>\n",
              "      <th>1</th>\n",
              "      <td>MainScreenAppear</td>\n",
              "      <td>7416695313311560658</td>\n",
              "      <td>2019-07-25 11:11:42</td>\n",
              "      <td>246</td>\n",
              "    </tr>\n",
              "    <tr>\n",
              "      <th>2</th>\n",
              "      <td>PaymentScreenSuccessful</td>\n",
              "      <td>3518123091307005509</td>\n",
              "      <td>2019-07-25 11:28:47</td>\n",
              "      <td>248</td>\n",
              "    </tr>\n",
              "  </tbody>\n",
              "</table>\n",
              "</div>\n",
              "      <button class=\"colab-df-convert\" onclick=\"convertToInteractive('df-a90ec4be-88f2-403d-98f6-e969bc34e014')\"\n",
              "              title=\"Convert this dataframe to an interactive table.\"\n",
              "              style=\"display:none;\">\n",
              "        \n",
              "  <svg xmlns=\"http://www.w3.org/2000/svg\" height=\"24px\"viewBox=\"0 0 24 24\"\n",
              "       width=\"24px\">\n",
              "    <path d=\"M0 0h24v24H0V0z\" fill=\"none\"/>\n",
              "    <path d=\"M18.56 5.44l.94 2.06.94-2.06 2.06-.94-2.06-.94-.94-2.06-.94 2.06-2.06.94zm-11 1L8.5 8.5l.94-2.06 2.06-.94-2.06-.94L8.5 2.5l-.94 2.06-2.06.94zm10 10l.94 2.06.94-2.06 2.06-.94-2.06-.94-.94-2.06-.94 2.06-2.06.94z\"/><path d=\"M17.41 7.96l-1.37-1.37c-.4-.4-.92-.59-1.43-.59-.52 0-1.04.2-1.43.59L10.3 9.45l-7.72 7.72c-.78.78-.78 2.05 0 2.83L4 21.41c.39.39.9.59 1.41.59.51 0 1.02-.2 1.41-.59l7.78-7.78 2.81-2.81c.8-.78.8-2.07 0-2.86zM5.41 20L4 18.59l7.72-7.72 1.47 1.35L5.41 20z\"/>\n",
              "  </svg>\n",
              "      </button>\n",
              "      \n",
              "  <style>\n",
              "    .colab-df-container {\n",
              "      display:flex;\n",
              "      flex-wrap:wrap;\n",
              "      gap: 12px;\n",
              "    }\n",
              "\n",
              "    .colab-df-convert {\n",
              "      background-color: #E8F0FE;\n",
              "      border: none;\n",
              "      border-radius: 50%;\n",
              "      cursor: pointer;\n",
              "      display: none;\n",
              "      fill: #1967D2;\n",
              "      height: 32px;\n",
              "      padding: 0 0 0 0;\n",
              "      width: 32px;\n",
              "    }\n",
              "\n",
              "    .colab-df-convert:hover {\n",
              "      background-color: #E2EBFA;\n",
              "      box-shadow: 0px 1px 2px rgba(60, 64, 67, 0.3), 0px 1px 3px 1px rgba(60, 64, 67, 0.15);\n",
              "      fill: #174EA6;\n",
              "    }\n",
              "\n",
              "    [theme=dark] .colab-df-convert {\n",
              "      background-color: #3B4455;\n",
              "      fill: #D2E3FC;\n",
              "    }\n",
              "\n",
              "    [theme=dark] .colab-df-convert:hover {\n",
              "      background-color: #434B5C;\n",
              "      box-shadow: 0px 1px 3px 1px rgba(0, 0, 0, 0.15);\n",
              "      filter: drop-shadow(0px 1px 2px rgba(0, 0, 0, 0.3));\n",
              "      fill: #FFFFFF;\n",
              "    }\n",
              "  </style>\n",
              "\n",
              "      <script>\n",
              "        const buttonEl =\n",
              "          document.querySelector('#df-a90ec4be-88f2-403d-98f6-e969bc34e014 button.colab-df-convert');\n",
              "        buttonEl.style.display =\n",
              "          google.colab.kernel.accessAllowed ? 'block' : 'none';\n",
              "\n",
              "        async function convertToInteractive(key) {\n",
              "          const element = document.querySelector('#df-a90ec4be-88f2-403d-98f6-e969bc34e014');\n",
              "          const dataTable =\n",
              "            await google.colab.kernel.invokeFunction('convertToInteractive',\n",
              "                                                     [key], {});\n",
              "          if (!dataTable) return;\n",
              "\n",
              "          const docLinkHtml = 'Like what you see? Visit the ' +\n",
              "            '<a target=\"_blank\" href=https://colab.research.google.com/notebooks/data_table.ipynb>data table notebook</a>'\n",
              "            + ' to learn more about interactive tables.';\n",
              "          element.innerHTML = '';\n",
              "          dataTable['output_type'] = 'display_data';\n",
              "          await google.colab.output.renderOutput(dataTable, element);\n",
              "          const docLink = document.createElement('div');\n",
              "          docLink.innerHTML = docLinkHtml;\n",
              "          element.appendChild(docLink);\n",
              "        }\n",
              "      </script>\n",
              "    </div>\n",
              "  </div>\n",
              "  "
            ],
            "text/plain": [
              "                     event              user_id            datetime  expld\n",
              "0         MainScreenAppear  4575588528974610257 2019-07-25 04:43:36    246\n",
              "1         MainScreenAppear  7416695313311560658 2019-07-25 11:11:42    246\n",
              "2  PaymentScreenSuccessful  3518123091307005509 2019-07-25 11:28:47    248"
            ]
          },
          "metadata": {},
          "execution_count": 85
        }
      ],
      "source": [
        "logs.head(3)"
      ]
    },
    {
      "cell_type": "code",
      "execution_count": 86,
      "metadata": {
        "id": "JZ6kDH1tssCq",
        "outputId": "2df7c886-ee20-44fb-f717-842aaa93d61e",
        "colab": {
          "base_uri": "https://localhost:8080/"
        }
      },
      "outputs": [
        {
          "output_type": "stream",
          "name": "stdout",
          "text": [
            "<class 'pandas.core.frame.DataFrame'>\n",
            "RangeIndex: 244126 entries, 0 to 244125\n",
            "Data columns (total 4 columns):\n",
            " #   Column    Non-Null Count   Dtype         \n",
            "---  ------    --------------   -----         \n",
            " 0   event     244126 non-null  object        \n",
            " 1   user_id   244126 non-null  int64         \n",
            " 2   datetime  244126 non-null  datetime64[ns]\n",
            " 3   expld     244126 non-null  int64         \n",
            "dtypes: datetime64[ns](1), int64(2), object(1)\n",
            "memory usage: 7.5+ MB\n"
          ]
        }
      ],
      "source": [
        "logs.info()"
      ]
    },
    {
      "cell_type": "code",
      "execution_count": 87,
      "metadata": {
        "id": "fL1AgbmgssCq",
        "outputId": "dbe0b4e1-d38b-4382-adcd-baf585069fde",
        "colab": {
          "base_uri": "https://localhost:8080/"
        }
      },
      "outputs": [
        {
          "output_type": "execute_result",
          "data": {
            "text/plain": [
              "413"
            ]
          },
          "metadata": {},
          "execution_count": 87
        }
      ],
      "source": [
        "logs.duplicated().sum() #получаем кол-во дубликатов"
      ]
    },
    {
      "cell_type": "code",
      "execution_count": 88,
      "metadata": {
        "scrolled": true,
        "id": "TfrcX6RdssCr",
        "outputId": "f146e083-9003-455c-ffa3-3ab6fee87e70",
        "colab": {
          "base_uri": "https://localhost:8080/",
          "height": 363
        }
      },
      "outputs": [
        {
          "output_type": "execute_result",
          "data": {
            "text/html": [
              "\n",
              "  <div id=\"df-cdbf4846-10e1-431c-a2df-2fcf1f6fde62\">\n",
              "    <div class=\"colab-df-container\">\n",
              "      <div>\n",
              "<style scoped>\n",
              "    .dataframe tbody tr th:only-of-type {\n",
              "        vertical-align: middle;\n",
              "    }\n",
              "\n",
              "    .dataframe tbody tr th {\n",
              "        vertical-align: top;\n",
              "    }\n",
              "\n",
              "    .dataframe thead th {\n",
              "        text-align: right;\n",
              "    }\n",
              "</style>\n",
              "<table border=\"1\" class=\"dataframe\">\n",
              "  <thead>\n",
              "    <tr style=\"text-align: right;\">\n",
              "      <th></th>\n",
              "      <th>event</th>\n",
              "      <th>user_id</th>\n",
              "      <th>datetime</th>\n",
              "      <th>expld</th>\n",
              "    </tr>\n",
              "  </thead>\n",
              "  <tbody>\n",
              "    <tr>\n",
              "      <th>452</th>\n",
              "      <td>MainScreenAppear</td>\n",
              "      <td>5613408041324010552</td>\n",
              "      <td>2019-07-30 08:19:44</td>\n",
              "      <td>248</td>\n",
              "    </tr>\n",
              "    <tr>\n",
              "      <th>453</th>\n",
              "      <td>MainScreenAppear</td>\n",
              "      <td>5613408041324010552</td>\n",
              "      <td>2019-07-30 08:19:44</td>\n",
              "      <td>248</td>\n",
              "    </tr>\n",
              "    <tr>\n",
              "      <th>2348</th>\n",
              "      <td>CartScreenAppear</td>\n",
              "      <td>1694940645335807244</td>\n",
              "      <td>2019-07-31 21:51:39</td>\n",
              "      <td>248</td>\n",
              "    </tr>\n",
              "    <tr>\n",
              "      <th>2350</th>\n",
              "      <td>CartScreenAppear</td>\n",
              "      <td>1694940645335807244</td>\n",
              "      <td>2019-07-31 21:51:39</td>\n",
              "      <td>248</td>\n",
              "    </tr>\n",
              "    <tr>\n",
              "      <th>3572</th>\n",
              "      <td>MainScreenAppear</td>\n",
              "      <td>434103746454591587</td>\n",
              "      <td>2019-08-01 02:59:37</td>\n",
              "      <td>248</td>\n",
              "    </tr>\n",
              "    <tr>\n",
              "      <th>3573</th>\n",
              "      <td>MainScreenAppear</td>\n",
              "      <td>434103746454591587</td>\n",
              "      <td>2019-08-01 02:59:37</td>\n",
              "      <td>248</td>\n",
              "    </tr>\n",
              "    <tr>\n",
              "      <th>4075</th>\n",
              "      <td>MainScreenAppear</td>\n",
              "      <td>3761373764179762633</td>\n",
              "      <td>2019-08-01 03:47:46</td>\n",
              "      <td>247</td>\n",
              "    </tr>\n",
              "    <tr>\n",
              "      <th>4076</th>\n",
              "      <td>MainScreenAppear</td>\n",
              "      <td>3761373764179762633</td>\n",
              "      <td>2019-08-01 03:47:46</td>\n",
              "      <td>247</td>\n",
              "    </tr>\n",
              "    <tr>\n",
              "      <th>4801</th>\n",
              "      <td>MainScreenAppear</td>\n",
              "      <td>2835328739789306622</td>\n",
              "      <td>2019-08-01 04:44:01</td>\n",
              "      <td>248</td>\n",
              "    </tr>\n",
              "    <tr>\n",
              "      <th>4803</th>\n",
              "      <td>MainScreenAppear</td>\n",
              "      <td>2835328739789306622</td>\n",
              "      <td>2019-08-01 04:44:01</td>\n",
              "      <td>248</td>\n",
              "    </tr>\n",
              "  </tbody>\n",
              "</table>\n",
              "</div>\n",
              "      <button class=\"colab-df-convert\" onclick=\"convertToInteractive('df-cdbf4846-10e1-431c-a2df-2fcf1f6fde62')\"\n",
              "              title=\"Convert this dataframe to an interactive table.\"\n",
              "              style=\"display:none;\">\n",
              "        \n",
              "  <svg xmlns=\"http://www.w3.org/2000/svg\" height=\"24px\"viewBox=\"0 0 24 24\"\n",
              "       width=\"24px\">\n",
              "    <path d=\"M0 0h24v24H0V0z\" fill=\"none\"/>\n",
              "    <path d=\"M18.56 5.44l.94 2.06.94-2.06 2.06-.94-2.06-.94-.94-2.06-.94 2.06-2.06.94zm-11 1L8.5 8.5l.94-2.06 2.06-.94-2.06-.94L8.5 2.5l-.94 2.06-2.06.94zm10 10l.94 2.06.94-2.06 2.06-.94-2.06-.94-.94-2.06-.94 2.06-2.06.94z\"/><path d=\"M17.41 7.96l-1.37-1.37c-.4-.4-.92-.59-1.43-.59-.52 0-1.04.2-1.43.59L10.3 9.45l-7.72 7.72c-.78.78-.78 2.05 0 2.83L4 21.41c.39.39.9.59 1.41.59.51 0 1.02-.2 1.41-.59l7.78-7.78 2.81-2.81c.8-.78.8-2.07 0-2.86zM5.41 20L4 18.59l7.72-7.72 1.47 1.35L5.41 20z\"/>\n",
              "  </svg>\n",
              "      </button>\n",
              "      \n",
              "  <style>\n",
              "    .colab-df-container {\n",
              "      display:flex;\n",
              "      flex-wrap:wrap;\n",
              "      gap: 12px;\n",
              "    }\n",
              "\n",
              "    .colab-df-convert {\n",
              "      background-color: #E8F0FE;\n",
              "      border: none;\n",
              "      border-radius: 50%;\n",
              "      cursor: pointer;\n",
              "      display: none;\n",
              "      fill: #1967D2;\n",
              "      height: 32px;\n",
              "      padding: 0 0 0 0;\n",
              "      width: 32px;\n",
              "    }\n",
              "\n",
              "    .colab-df-convert:hover {\n",
              "      background-color: #E2EBFA;\n",
              "      box-shadow: 0px 1px 2px rgba(60, 64, 67, 0.3), 0px 1px 3px 1px rgba(60, 64, 67, 0.15);\n",
              "      fill: #174EA6;\n",
              "    }\n",
              "\n",
              "    [theme=dark] .colab-df-convert {\n",
              "      background-color: #3B4455;\n",
              "      fill: #D2E3FC;\n",
              "    }\n",
              "\n",
              "    [theme=dark] .colab-df-convert:hover {\n",
              "      background-color: #434B5C;\n",
              "      box-shadow: 0px 1px 3px 1px rgba(0, 0, 0, 0.15);\n",
              "      filter: drop-shadow(0px 1px 2px rgba(0, 0, 0, 0.3));\n",
              "      fill: #FFFFFF;\n",
              "    }\n",
              "  </style>\n",
              "\n",
              "      <script>\n",
              "        const buttonEl =\n",
              "          document.querySelector('#df-cdbf4846-10e1-431c-a2df-2fcf1f6fde62 button.colab-df-convert');\n",
              "        buttonEl.style.display =\n",
              "          google.colab.kernel.accessAllowed ? 'block' : 'none';\n",
              "\n",
              "        async function convertToInteractive(key) {\n",
              "          const element = document.querySelector('#df-cdbf4846-10e1-431c-a2df-2fcf1f6fde62');\n",
              "          const dataTable =\n",
              "            await google.colab.kernel.invokeFunction('convertToInteractive',\n",
              "                                                     [key], {});\n",
              "          if (!dataTable) return;\n",
              "\n",
              "          const docLinkHtml = 'Like what you see? Visit the ' +\n",
              "            '<a target=\"_blank\" href=https://colab.research.google.com/notebooks/data_table.ipynb>data table notebook</a>'\n",
              "            + ' to learn more about interactive tables.';\n",
              "          element.innerHTML = '';\n",
              "          dataTable['output_type'] = 'display_data';\n",
              "          await google.colab.output.renderOutput(dataTable, element);\n",
              "          const docLink = document.createElement('div');\n",
              "          docLink.innerHTML = docLinkHtml;\n",
              "          element.appendChild(docLink);\n",
              "        }\n",
              "      </script>\n",
              "    </div>\n",
              "  </div>\n",
              "  "
            ],
            "text/plain": [
              "                 event              user_id            datetime  expld\n",
              "452   MainScreenAppear  5613408041324010552 2019-07-30 08:19:44    248\n",
              "453   MainScreenAppear  5613408041324010552 2019-07-30 08:19:44    248\n",
              "2348  CartScreenAppear  1694940645335807244 2019-07-31 21:51:39    248\n",
              "2350  CartScreenAppear  1694940645335807244 2019-07-31 21:51:39    248\n",
              "3572  MainScreenAppear   434103746454591587 2019-08-01 02:59:37    248\n",
              "3573  MainScreenAppear   434103746454591587 2019-08-01 02:59:37    248\n",
              "4075  MainScreenAppear  3761373764179762633 2019-08-01 03:47:46    247\n",
              "4076  MainScreenAppear  3761373764179762633 2019-08-01 03:47:46    247\n",
              "4801  MainScreenAppear  2835328739789306622 2019-08-01 04:44:01    248\n",
              "4803  MainScreenAppear  2835328739789306622 2019-08-01 04:44:01    248"
            ]
          },
          "metadata": {},
          "execution_count": 88
        }
      ],
      "source": [
        "logs[logs.duplicated(keep=False)].head(10) # получаем дубликаты"
      ]
    },
    {
      "cell_type": "code",
      "execution_count": 89,
      "metadata": {
        "id": "JR9JnK37ssCr"
      },
      "outputs": [],
      "source": [
        "logs.drop_duplicates(inplace=True) #удаляем дубликаты"
      ]
    },
    {
      "cell_type": "code",
      "execution_count": 90,
      "metadata": {
        "id": "7iRLe0PAssCr",
        "outputId": "582b1dba-598b-4dcb-d1f1-50d23f9f5074",
        "colab": {
          "base_uri": "https://localhost:8080/"
        }
      },
      "outputs": [
        {
          "output_type": "stream",
          "name": "stdout",
          "text": [
            "<class 'pandas.core.frame.DataFrame'>\n",
            "Int64Index: 243713 entries, 0 to 244125\n",
            "Data columns (total 4 columns):\n",
            " #   Column    Non-Null Count   Dtype         \n",
            "---  ------    --------------   -----         \n",
            " 0   event     243713 non-null  object        \n",
            " 1   user_id   243713 non-null  int64         \n",
            " 2   datetime  243713 non-null  datetime64[ns]\n",
            " 3   expld     243713 non-null  int64         \n",
            "dtypes: datetime64[ns](1), int64(2), object(1)\n",
            "memory usage: 9.3+ MB\n"
          ]
        }
      ],
      "source": [
        "logs.info() "
      ]
    },
    {
      "cell_type": "code",
      "execution_count": 91,
      "metadata": {
        "id": "iaJfKItnssCs"
      },
      "outputs": [],
      "source": [
        "logs['date'] = logs['datetime'].dt.date #добавляем столбец с датой"
      ]
    },
    {
      "cell_type": "code",
      "execution_count": 92,
      "metadata": {
        "id": "GJFgAujZssCs"
      },
      "outputs": [],
      "source": [
        "logs['date'] = pd.to_datetime(logs['date']) # приводим к формату \"дата\""
      ]
    },
    {
      "cell_type": "code",
      "execution_count": 93,
      "metadata": {
        "id": "i8uIBV4VssCs",
        "outputId": "f59a8912-fdb7-4c0f-861b-2c0e224512d2",
        "colab": {
          "base_uri": "https://localhost:8080/"
        }
      },
      "outputs": [
        {
          "output_type": "stream",
          "name": "stdout",
          "text": [
            "<class 'pandas.core.frame.DataFrame'>\n",
            "Int64Index: 243713 entries, 0 to 244125\n",
            "Data columns (total 5 columns):\n",
            " #   Column    Non-Null Count   Dtype         \n",
            "---  ------    --------------   -----         \n",
            " 0   event     243713 non-null  object        \n",
            " 1   user_id   243713 non-null  int64         \n",
            " 2   datetime  243713 non-null  datetime64[ns]\n",
            " 3   expld     243713 non-null  int64         \n",
            " 4   date      243713 non-null  datetime64[ns]\n",
            "dtypes: datetime64[ns](2), int64(2), object(1)\n",
            "memory usage: 11.2+ MB\n"
          ]
        }
      ],
      "source": [
        "logs.info() #проверяем внесенные изменения"
      ]
    },
    {
      "cell_type": "code",
      "execution_count": 94,
      "metadata": {
        "id": "MYzyLBN9ssCt",
        "outputId": "cf86c2bd-617a-48cf-a69a-94b9164a0ff3",
        "colab": {
          "base_uri": "https://localhost:8080/",
          "height": 206
        }
      },
      "outputs": [
        {
          "output_type": "execute_result",
          "data": {
            "text/html": [
              "\n",
              "  <div id=\"df-e44590c4-1ae5-4b41-9e68-23473f29a846\">\n",
              "    <div class=\"colab-df-container\">\n",
              "      <div>\n",
              "<style scoped>\n",
              "    .dataframe tbody tr th:only-of-type {\n",
              "        vertical-align: middle;\n",
              "    }\n",
              "\n",
              "    .dataframe tbody tr th {\n",
              "        vertical-align: top;\n",
              "    }\n",
              "\n",
              "    .dataframe thead th {\n",
              "        text-align: right;\n",
              "    }\n",
              "</style>\n",
              "<table border=\"1\" class=\"dataframe\">\n",
              "  <thead>\n",
              "    <tr style=\"text-align: right;\">\n",
              "      <th></th>\n",
              "      <th>event</th>\n",
              "      <th>user_id</th>\n",
              "      <th>datetime</th>\n",
              "      <th>expld</th>\n",
              "      <th>date</th>\n",
              "    </tr>\n",
              "  </thead>\n",
              "  <tbody>\n",
              "    <tr>\n",
              "      <th>0</th>\n",
              "      <td>MainScreenAppear</td>\n",
              "      <td>4575588528974610257</td>\n",
              "      <td>2019-07-25 04:43:36</td>\n",
              "      <td>246</td>\n",
              "      <td>2019-07-25</td>\n",
              "    </tr>\n",
              "    <tr>\n",
              "      <th>1</th>\n",
              "      <td>MainScreenAppear</td>\n",
              "      <td>7416695313311560658</td>\n",
              "      <td>2019-07-25 11:11:42</td>\n",
              "      <td>246</td>\n",
              "      <td>2019-07-25</td>\n",
              "    </tr>\n",
              "    <tr>\n",
              "      <th>2</th>\n",
              "      <td>PaymentScreenSuccessful</td>\n",
              "      <td>3518123091307005509</td>\n",
              "      <td>2019-07-25 11:28:47</td>\n",
              "      <td>248</td>\n",
              "      <td>2019-07-25</td>\n",
              "    </tr>\n",
              "    <tr>\n",
              "      <th>3</th>\n",
              "      <td>CartScreenAppear</td>\n",
              "      <td>3518123091307005509</td>\n",
              "      <td>2019-07-25 11:28:47</td>\n",
              "      <td>248</td>\n",
              "      <td>2019-07-25</td>\n",
              "    </tr>\n",
              "    <tr>\n",
              "      <th>4</th>\n",
              "      <td>PaymentScreenSuccessful</td>\n",
              "      <td>6217807653094995999</td>\n",
              "      <td>2019-07-25 11:48:42</td>\n",
              "      <td>248</td>\n",
              "      <td>2019-07-25</td>\n",
              "    </tr>\n",
              "  </tbody>\n",
              "</table>\n",
              "</div>\n",
              "      <button class=\"colab-df-convert\" onclick=\"convertToInteractive('df-e44590c4-1ae5-4b41-9e68-23473f29a846')\"\n",
              "              title=\"Convert this dataframe to an interactive table.\"\n",
              "              style=\"display:none;\">\n",
              "        \n",
              "  <svg xmlns=\"http://www.w3.org/2000/svg\" height=\"24px\"viewBox=\"0 0 24 24\"\n",
              "       width=\"24px\">\n",
              "    <path d=\"M0 0h24v24H0V0z\" fill=\"none\"/>\n",
              "    <path d=\"M18.56 5.44l.94 2.06.94-2.06 2.06-.94-2.06-.94-.94-2.06-.94 2.06-2.06.94zm-11 1L8.5 8.5l.94-2.06 2.06-.94-2.06-.94L8.5 2.5l-.94 2.06-2.06.94zm10 10l.94 2.06.94-2.06 2.06-.94-2.06-.94-.94-2.06-.94 2.06-2.06.94z\"/><path d=\"M17.41 7.96l-1.37-1.37c-.4-.4-.92-.59-1.43-.59-.52 0-1.04.2-1.43.59L10.3 9.45l-7.72 7.72c-.78.78-.78 2.05 0 2.83L4 21.41c.39.39.9.59 1.41.59.51 0 1.02-.2 1.41-.59l7.78-7.78 2.81-2.81c.8-.78.8-2.07 0-2.86zM5.41 20L4 18.59l7.72-7.72 1.47 1.35L5.41 20z\"/>\n",
              "  </svg>\n",
              "      </button>\n",
              "      \n",
              "  <style>\n",
              "    .colab-df-container {\n",
              "      display:flex;\n",
              "      flex-wrap:wrap;\n",
              "      gap: 12px;\n",
              "    }\n",
              "\n",
              "    .colab-df-convert {\n",
              "      background-color: #E8F0FE;\n",
              "      border: none;\n",
              "      border-radius: 50%;\n",
              "      cursor: pointer;\n",
              "      display: none;\n",
              "      fill: #1967D2;\n",
              "      height: 32px;\n",
              "      padding: 0 0 0 0;\n",
              "      width: 32px;\n",
              "    }\n",
              "\n",
              "    .colab-df-convert:hover {\n",
              "      background-color: #E2EBFA;\n",
              "      box-shadow: 0px 1px 2px rgba(60, 64, 67, 0.3), 0px 1px 3px 1px rgba(60, 64, 67, 0.15);\n",
              "      fill: #174EA6;\n",
              "    }\n",
              "\n",
              "    [theme=dark] .colab-df-convert {\n",
              "      background-color: #3B4455;\n",
              "      fill: #D2E3FC;\n",
              "    }\n",
              "\n",
              "    [theme=dark] .colab-df-convert:hover {\n",
              "      background-color: #434B5C;\n",
              "      box-shadow: 0px 1px 3px 1px rgba(0, 0, 0, 0.15);\n",
              "      filter: drop-shadow(0px 1px 2px rgba(0, 0, 0, 0.3));\n",
              "      fill: #FFFFFF;\n",
              "    }\n",
              "  </style>\n",
              "\n",
              "      <script>\n",
              "        const buttonEl =\n",
              "          document.querySelector('#df-e44590c4-1ae5-4b41-9e68-23473f29a846 button.colab-df-convert');\n",
              "        buttonEl.style.display =\n",
              "          google.colab.kernel.accessAllowed ? 'block' : 'none';\n",
              "\n",
              "        async function convertToInteractive(key) {\n",
              "          const element = document.querySelector('#df-e44590c4-1ae5-4b41-9e68-23473f29a846');\n",
              "          const dataTable =\n",
              "            await google.colab.kernel.invokeFunction('convertToInteractive',\n",
              "                                                     [key], {});\n",
              "          if (!dataTable) return;\n",
              "\n",
              "          const docLinkHtml = 'Like what you see? Visit the ' +\n",
              "            '<a target=\"_blank\" href=https://colab.research.google.com/notebooks/data_table.ipynb>data table notebook</a>'\n",
              "            + ' to learn more about interactive tables.';\n",
              "          element.innerHTML = '';\n",
              "          dataTable['output_type'] = 'display_data';\n",
              "          await google.colab.output.renderOutput(dataTable, element);\n",
              "          const docLink = document.createElement('div');\n",
              "          docLink.innerHTML = docLinkHtml;\n",
              "          element.appendChild(docLink);\n",
              "        }\n",
              "      </script>\n",
              "    </div>\n",
              "  </div>\n",
              "  "
            ],
            "text/plain": [
              "                     event              user_id  ... expld       date\n",
              "0         MainScreenAppear  4575588528974610257  ...   246 2019-07-25\n",
              "1         MainScreenAppear  7416695313311560658  ...   246 2019-07-25\n",
              "2  PaymentScreenSuccessful  3518123091307005509  ...   248 2019-07-25\n",
              "3         CartScreenAppear  3518123091307005509  ...   248 2019-07-25\n",
              "4  PaymentScreenSuccessful  6217807653094995999  ...   248 2019-07-25\n",
              "\n",
              "[5 rows x 5 columns]"
            ]
          },
          "metadata": {},
          "execution_count": 94
        }
      ],
      "source": [
        "logs.head(5)"
      ]
    },
    {
      "cell_type": "code",
      "execution_count": 95,
      "metadata": {
        "scrolled": true,
        "id": "oB2gcDAWssCt",
        "outputId": "dc06db0a-58da-460c-f7ec-b0aa05792b53",
        "colab": {
          "base_uri": "https://localhost:8080/"
        }
      },
      "outputs": [
        {
          "output_type": "execute_result",
          "data": {
            "text/plain": [
              "array(['MainScreenAppear', 'PaymentScreenSuccessful', 'CartScreenAppear',\n",
              "       'OffersScreenAppear', 'Tutorial'], dtype=object)"
            ]
          },
          "metadata": {},
          "execution_count": 95
        }
      ],
      "source": [
        "logs['event'].unique() #получаем уникальные шаги воронки"
      ]
    },
    {
      "cell_type": "code",
      "execution_count": 96,
      "metadata": {
        "scrolled": true,
        "id": "uu6Uq8WFssCu",
        "outputId": "8900a2e4-3bd6-4052-e1f7-837aa35f649b",
        "colab": {
          "base_uri": "https://localhost:8080/"
        }
      },
      "outputs": [
        {
          "output_type": "execute_result",
          "data": {
            "text/plain": [
              "user_id\n",
              "9222603179720523844    1\n",
              "3184294769293286652    1\n",
              "3167390091686880227    1\n",
              "3167974726645136146    1\n",
              "3170212200647575044    1\n",
              "                      ..\n",
              "6213626876710715478    1\n",
              "6215162890135937308    1\n",
              "6215559225876063378    1\n",
              "6216080220799726690    1\n",
              "6888746892508752       1\n",
              "Name: expld, Length: 7551, dtype: int64"
            ]
          },
          "metadata": {},
          "execution_count": 96
        }
      ],
      "source": [
        "logs.groupby('user_id')['expld'].nunique().sort_values(ascending = False) # проверяем нет ли одного и того же пользователя в нескольких группах"
      ]
    },
    {
      "cell_type": "markdown",
      "metadata": {
        "id": "qBjW08uhssCu"
      },
      "source": [
        "**Вывод**\n",
        "\n",
        "подготовили данные, проверили и удалили дубликаты, осуществили проверку на вхождение одного пользователеля во множество групп, переименовали столбцы и привели данные к нужным типам. Всё готово для проверки"
      ]
    },
    {
      "cell_type": "markdown",
      "metadata": {
        "id": "GPrhYLxPssCv"
      },
      "source": [
        "# Изучение и проверка данных\n",
        "<a id=\"discover_data\"></a>"
      ]
    },
    {
      "cell_type": "code",
      "execution_count": 97,
      "metadata": {
        "scrolled": false,
        "id": "2NR4guYrssCv",
        "outputId": "db67c103-bd50-4580-a751-1ae2ea7d640d",
        "colab": {
          "base_uri": "https://localhost:8080/"
        }
      },
      "outputs": [
        {
          "output_type": "execute_result",
          "data": {
            "text/plain": [
              "243713"
            ]
          },
          "metadata": {},
          "execution_count": 97
        }
      ],
      "source": [
        "len(logs) #количество записей"
      ]
    },
    {
      "cell_type": "code",
      "execution_count": 98,
      "metadata": {
        "id": "zY5NWWFNssCv",
        "outputId": "c181606e-61df-4590-9dec-c563c32620fc",
        "colab": {
          "base_uri": "https://localhost:8080/"
        }
      },
      "outputs": [
        {
          "output_type": "execute_result",
          "data": {
            "text/plain": [
              "7551"
            ]
          },
          "metadata": {},
          "execution_count": 98
        }
      ],
      "source": [
        "logs['user_id'].nunique() #кол-во уникальных пользователей"
      ]
    },
    {
      "cell_type": "code",
      "execution_count": 99,
      "metadata": {
        "id": "NJbf9sBjssCv",
        "outputId": "1fb3d0f2-6c50-4cd0-aff2-c1c8609ea147",
        "colab": {
          "base_uri": "https://localhost:8080/"
        }
      },
      "outputs": [
        {
          "output_type": "execute_result",
          "data": {
            "text/plain": [
              "32.27559263673685"
            ]
          },
          "metadata": {},
          "execution_count": 99
        }
      ],
      "source": [
        "243713 / 7551 #соотношение событий к пользователям"
      ]
    },
    {
      "cell_type": "code",
      "execution_count": 23,
      "metadata": {
        "id": "5dzw_gBCssCw",
        "outputId": "25c86ba5-6866-40be-b918-385c4f5d65cb",
        "colab": {
          "base_uri": "https://localhost:8080/"
        }
      },
      "outputs": [
        {
          "output_type": "execute_result",
          "data": {
            "text/plain": [
              "Timestamp('2019-07-25 00:00:00')"
            ]
          },
          "metadata": {},
          "execution_count": 23
        }
      ],
      "source": [
        "logs['date'].min()"
      ]
    },
    {
      "cell_type": "code",
      "execution_count": 24,
      "metadata": {
        "id": "l0LIOypTssCw",
        "outputId": "f934a9da-2340-4a32-99d4-afdb7fa3b50a",
        "colab": {
          "base_uri": "https://localhost:8080/"
        }
      },
      "outputs": [
        {
          "output_type": "execute_result",
          "data": {
            "text/plain": [
              "Timestamp('2019-08-07 00:00:00')"
            ]
          },
          "metadata": {},
          "execution_count": 24
        }
      ],
      "source": [
        "logs['date'].max()"
      ]
    },
    {
      "cell_type": "code",
      "execution_count": 100,
      "metadata": {
        "scrolled": true,
        "id": "yg_ui4MjssCw",
        "outputId": "2da27876-e212-484c-83a7-4e58d8a10ec7",
        "colab": {
          "base_uri": "https://localhost:8080/",
          "height": 884
        }
      },
      "outputs": [
        {
          "output_type": "execute_result",
          "data": {
            "text/plain": [
              "(0.0, 40000.0)"
            ]
          },
          "metadata": {},
          "execution_count": 100
        },
        {
          "output_type": "display_data",
          "data": {
            "image/png": "[encoded data removed]",
            "text/plain": [
              "<Figure size 1080x1080 with 1 Axes>"
            ]
          },
          "metadata": {
            "needs_background": "light"
          }
        }
      ],
      "source": [
        "plt.figure(figsize=(15, 15))\n",
        "plt.hist(logs['date'])\n",
        "plt.ylim((0, 40000))\n",
        "\n",
        "#график, который помогает найти данные к удалению"
      ]
    },
    {
      "cell_type": "code",
      "execution_count": 101,
      "metadata": {
        "id": "WiP5R0D1ssCx",
        "outputId": "a68794d0-3c84-4413-de25-abbdc0c9341e",
        "colab": {
          "base_uri": "https://localhost:8080/"
        }
      },
      "outputs": [
        {
          "output_type": "stream",
          "name": "stdout",
          "text": [
            "<class 'pandas.core.frame.DataFrame'>\n",
            "Int64Index: 243713 entries, 0 to 244125\n",
            "Data columns (total 5 columns):\n",
            " #   Column    Non-Null Count   Dtype         \n",
            "---  ------    --------------   -----         \n",
            " 0   event     243713 non-null  object        \n",
            " 1   user_id   243713 non-null  int64         \n",
            " 2   datetime  243713 non-null  datetime64[ns]\n",
            " 3   expld     243713 non-null  int64         \n",
            " 4   date      243713 non-null  datetime64[ns]\n",
            "dtypes: datetime64[ns](2), int64(2), object(1)\n",
            "memory usage: 11.2+ MB\n"
          ]
        }
      ],
      "source": [
        "logs.info()"
      ]
    },
    {
      "cell_type": "code",
      "execution_count": 102,
      "metadata": {
        "id": "Te2mKyDlssCx"
      },
      "outputs": [],
      "source": [
        "logs = logs.query('(date >= \"2019-08-01\")') #отсекаем данные по опр.дате"
      ]
    },
    {
      "cell_type": "code",
      "execution_count": 103,
      "metadata": {
        "id": "gnf-luVEssCx",
        "outputId": "1d5824cd-526f-45ee-8be2-7c10d6ddd271",
        "colab": {
          "base_uri": "https://localhost:8080/",
          "height": 424
        }
      },
      "outputs": [
        {
          "output_type": "execute_result",
          "data": {
            "text/html": [
              "\n",
              "  <div id=\"df-942a2f85-55d0-4f97-a84a-743ea1b6a663\">\n",
              "    <div class=\"colab-df-container\">\n",
              "      <div>\n",
              "<style scoped>\n",
              "    .dataframe tbody tr th:only-of-type {\n",
              "        vertical-align: middle;\n",
              "    }\n",
              "\n",
              "    .dataframe tbody tr th {\n",
              "        vertical-align: top;\n",
              "    }\n",
              "\n",
              "    .dataframe thead th {\n",
              "        text-align: right;\n",
              "    }\n",
              "</style>\n",
              "<table border=\"1\" class=\"dataframe\">\n",
              "  <thead>\n",
              "    <tr style=\"text-align: right;\">\n",
              "      <th></th>\n",
              "      <th>event</th>\n",
              "      <th>user_id</th>\n",
              "      <th>datetime</th>\n",
              "      <th>expld</th>\n",
              "      <th>date</th>\n",
              "    </tr>\n",
              "  </thead>\n",
              "  <tbody>\n",
              "    <tr>\n",
              "      <th>2828</th>\n",
              "      <td>Tutorial</td>\n",
              "      <td>3737462046622621720</td>\n",
              "      <td>2019-08-01 00:07:28</td>\n",
              "      <td>246</td>\n",
              "      <td>2019-08-01</td>\n",
              "    </tr>\n",
              "    <tr>\n",
              "      <th>2829</th>\n",
              "      <td>MainScreenAppear</td>\n",
              "      <td>3737462046622621720</td>\n",
              "      <td>2019-08-01 00:08:00</td>\n",
              "      <td>246</td>\n",
              "      <td>2019-08-01</td>\n",
              "    </tr>\n",
              "    <tr>\n",
              "      <th>2830</th>\n",
              "      <td>MainScreenAppear</td>\n",
              "      <td>3737462046622621720</td>\n",
              "      <td>2019-08-01 00:08:55</td>\n",
              "      <td>246</td>\n",
              "      <td>2019-08-01</td>\n",
              "    </tr>\n",
              "    <tr>\n",
              "      <th>2831</th>\n",
              "      <td>OffersScreenAppear</td>\n",
              "      <td>3737462046622621720</td>\n",
              "      <td>2019-08-01 00:08:58</td>\n",
              "      <td>246</td>\n",
              "      <td>2019-08-01</td>\n",
              "    </tr>\n",
              "    <tr>\n",
              "      <th>2832</th>\n",
              "      <td>MainScreenAppear</td>\n",
              "      <td>1433840883824088890</td>\n",
              "      <td>2019-08-01 00:08:59</td>\n",
              "      <td>247</td>\n",
              "      <td>2019-08-01</td>\n",
              "    </tr>\n",
              "    <tr>\n",
              "      <th>...</th>\n",
              "      <td>...</td>\n",
              "      <td>...</td>\n",
              "      <td>...</td>\n",
              "      <td>...</td>\n",
              "      <td>...</td>\n",
              "    </tr>\n",
              "    <tr>\n",
              "      <th>244121</th>\n",
              "      <td>MainScreenAppear</td>\n",
              "      <td>4599628364049201812</td>\n",
              "      <td>2019-08-07 21:12:25</td>\n",
              "      <td>247</td>\n",
              "      <td>2019-08-07</td>\n",
              "    </tr>\n",
              "    <tr>\n",
              "      <th>244122</th>\n",
              "      <td>MainScreenAppear</td>\n",
              "      <td>5849806612437486590</td>\n",
              "      <td>2019-08-07 21:13:59</td>\n",
              "      <td>246</td>\n",
              "      <td>2019-08-07</td>\n",
              "    </tr>\n",
              "    <tr>\n",
              "      <th>244123</th>\n",
              "      <td>MainScreenAppear</td>\n",
              "      <td>5746969938801999050</td>\n",
              "      <td>2019-08-07 21:14:43</td>\n",
              "      <td>246</td>\n",
              "      <td>2019-08-07</td>\n",
              "    </tr>\n",
              "    <tr>\n",
              "      <th>244124</th>\n",
              "      <td>MainScreenAppear</td>\n",
              "      <td>5746969938801999050</td>\n",
              "      <td>2019-08-07 21:14:58</td>\n",
              "      <td>246</td>\n",
              "      <td>2019-08-07</td>\n",
              "    </tr>\n",
              "    <tr>\n",
              "      <th>244125</th>\n",
              "      <td>OffersScreenAppear</td>\n",
              "      <td>5746969938801999050</td>\n",
              "      <td>2019-08-07 21:15:17</td>\n",
              "      <td>246</td>\n",
              "      <td>2019-08-07</td>\n",
              "    </tr>\n",
              "  </tbody>\n",
              "</table>\n",
              "<p>240887 rows × 5 columns</p>\n",
              "</div>\n",
              "      <button class=\"colab-df-convert\" onclick=\"convertToInteractive('df-942a2f85-55d0-4f97-a84a-743ea1b6a663')\"\n",
              "              title=\"Convert this dataframe to an interactive table.\"\n",
              "              style=\"display:none;\">\n",
              "        \n",
              "  <svg xmlns=\"http://www.w3.org/2000/svg\" height=\"24px\"viewBox=\"0 0 24 24\"\n",
              "       width=\"24px\">\n",
              "    <path d=\"M0 0h24v24H0V0z\" fill=\"none\"/>\n",
              "    <path d=\"M18.56 5.44l.94 2.06.94-2.06 2.06-.94-2.06-.94-.94-2.06-.94 2.06-2.06.94zm-11 1L8.5 8.5l.94-2.06 2.06-.94-2.06-.94L8.5 2.5l-.94 2.06-2.06.94zm10 10l.94 2.06.94-2.06 2.06-.94-2.06-.94-.94-2.06-.94 2.06-2.06.94z\"/><path d=\"M17.41 7.96l-1.37-1.37c-.4-.4-.92-.59-1.43-.59-.52 0-1.04.2-1.43.59L10.3 9.45l-7.72 7.72c-.78.78-.78 2.05 0 2.83L4 21.41c.39.39.9.59 1.41.59.51 0 1.02-.2 1.41-.59l7.78-7.78 2.81-2.81c.8-.78.8-2.07 0-2.86zM5.41 20L4 18.59l7.72-7.72 1.47 1.35L5.41 20z\"/>\n",
              "  </svg>\n",
              "      </button>\n",
              "      \n",
              "  <style>\n",
              "    .colab-df-container {\n",
              "      display:flex;\n",
              "      flex-wrap:wrap;\n",
              "      gap: 12px;\n",
              "    }\n",
              "\n",
              "    .colab-df-convert {\n",
              "      background-color: #E8F0FE;\n",
              "      border: none;\n",
              "      border-radius: 50%;\n",
              "      cursor: pointer;\n",
              "      display: none;\n",
              "      fill: #1967D2;\n",
              "      height: 32px;\n",
              "      padding: 0 0 0 0;\n",
              "      width: 32px;\n",
              "    }\n",
              "\n",
              "    .colab-df-convert:hover {\n",
              "      background-color: #E2EBFA;\n",
              "      box-shadow: 0px 1px 2px rgba(60, 64, 67, 0.3), 0px 1px 3px 1px rgba(60, 64, 67, 0.15);\n",
              "      fill: #174EA6;\n",
              "    }\n",
              "\n",
              "    [theme=dark] .colab-df-convert {\n",
              "      background-color: #3B4455;\n",
              "      fill: #D2E3FC;\n",
              "    }\n",
              "\n",
              "    [theme=dark] .colab-df-convert:hover {\n",
              "      background-color: #434B5C;\n",
              "      box-shadow: 0px 1px 3px 1px rgba(0, 0, 0, 0.15);\n",
              "      filter: drop-shadow(0px 1px 2px rgba(0, 0, 0, 0.3));\n",
              "      fill: #FFFFFF;\n",
              "    }\n",
              "  </style>\n",
              "\n",
              "      <script>\n",
              "        const buttonEl =\n",
              "          document.querySelector('#df-942a2f85-55d0-4f97-a84a-743ea1b6a663 button.colab-df-convert');\n",
              "        buttonEl.style.display =\n",
              "          google.colab.kernel.accessAllowed ? 'block' : 'none';\n",
              "\n",
              "        async function convertToInteractive(key) {\n",
              "          const element = document.querySelector('#df-942a2f85-55d0-4f97-a84a-743ea1b6a663');\n",
              "          const dataTable =\n",
              "            await google.colab.kernel.invokeFunction('convertToInteractive',\n",
              "                                                     [key], {});\n",
              "          if (!dataTable) return;\n",
              "\n",
              "          const docLinkHtml = 'Like what you see? Visit the ' +\n",
              "            '<a target=\"_blank\" href=https://colab.research.google.com/notebooks/data_table.ipynb>data table notebook</a>'\n",
              "            + ' to learn more about interactive tables.';\n",
              "          element.innerHTML = '';\n",
              "          dataTable['output_type'] = 'display_data';\n",
              "          await google.colab.output.renderOutput(dataTable, element);\n",
              "          const docLink = document.createElement('div');\n",
              "          docLink.innerHTML = docLinkHtml;\n",
              "          element.appendChild(docLink);\n",
              "        }\n",
              "      </script>\n",
              "    </div>\n",
              "  </div>\n",
              "  "
            ],
            "text/plain": [
              "                     event              user_id  ... expld       date\n",
              "2828              Tutorial  3737462046622621720  ...   246 2019-08-01\n",
              "2829      MainScreenAppear  3737462046622621720  ...   246 2019-08-01\n",
              "2830      MainScreenAppear  3737462046622621720  ...   246 2019-08-01\n",
              "2831    OffersScreenAppear  3737462046622621720  ...   246 2019-08-01\n",
              "2832      MainScreenAppear  1433840883824088890  ...   247 2019-08-01\n",
              "...                    ...                  ...  ...   ...        ...\n",
              "244121    MainScreenAppear  4599628364049201812  ...   247 2019-08-07\n",
              "244122    MainScreenAppear  5849806612437486590  ...   246 2019-08-07\n",
              "244123    MainScreenAppear  5746969938801999050  ...   246 2019-08-07\n",
              "244124    MainScreenAppear  5746969938801999050  ...   246 2019-08-07\n",
              "244125  OffersScreenAppear  5746969938801999050  ...   246 2019-08-07\n",
              "\n",
              "[240887 rows x 5 columns]"
            ]
          },
          "metadata": {},
          "execution_count": 103
        }
      ],
      "source": [
        "logs"
      ]
    },
    {
      "cell_type": "code",
      "execution_count": 104,
      "metadata": {
        "scrolled": true,
        "id": "DXiZGp2hssCy",
        "outputId": "e7f165e3-aa7e-4959-b0ec-17d134ac5df7",
        "colab": {
          "base_uri": "https://localhost:8080/",
          "height": 613
        }
      },
      "outputs": [
        {
          "output_type": "execute_result",
          "data": {
            "text/plain": [
              "(0.0, 40000.0)"
            ]
          },
          "metadata": {},
          "execution_count": 104
        },
        {
          "output_type": "display_data",
          "data": {
            "image/png": "[encoded data removed]",
            "text/plain": [
              "<Figure size 720x720 with 1 Axes>"
            ]
          },
          "metadata": {
            "needs_background": "light"
          }
        }
      ],
      "source": [
        "plt.figure(figsize=(10, 10))\n",
        "plt.hist(logs['date'])\n",
        "plt.ylim((0, 40000))"
      ]
    },
    {
      "cell_type": "code",
      "execution_count": 105,
      "metadata": {
        "id": "X_19VU46ssCy",
        "outputId": "6d000766-d28e-4f36-a8fc-6c88cb715f73",
        "colab": {
          "base_uri": "https://localhost:8080/"
        }
      },
      "outputs": [
        {
          "output_type": "execute_result",
          "data": {
            "text/plain": [
              "Timestamp('2019-08-01 00:00:00')"
            ]
          },
          "metadata": {},
          "execution_count": 105
        }
      ],
      "source": [
        "logs['date'].min()"
      ]
    },
    {
      "cell_type": "code",
      "execution_count": 106,
      "metadata": {
        "id": "khViB9lgssCy",
        "outputId": "ed05dd97-62ea-4f06-f98a-e97db4e98957",
        "colab": {
          "base_uri": "https://localhost:8080/"
        }
      },
      "outputs": [
        {
          "output_type": "execute_result",
          "data": {
            "text/plain": [
              "Timestamp('2019-08-07 00:00:00')"
            ]
          },
          "metadata": {},
          "execution_count": 106
        }
      ],
      "source": [
        "logs['date'].max()"
      ]
    },
    {
      "cell_type": "code",
      "execution_count": 107,
      "metadata": {
        "scrolled": true,
        "id": "ktv6BBRIssCy",
        "outputId": "a03d9a5a-2dee-4831-dc91-95225c62a7eb",
        "colab": {
          "base_uri": "https://localhost:8080/"
        }
      },
      "outputs": [
        {
          "output_type": "stream",
          "name": "stdout",
          "text": [
            "<class 'pandas.core.frame.DataFrame'>\n",
            "Int64Index: 240887 entries, 2828 to 244125\n",
            "Data columns (total 5 columns):\n",
            " #   Column    Non-Null Count   Dtype         \n",
            "---  ------    --------------   -----         \n",
            " 0   event     240887 non-null  object        \n",
            " 1   user_id   240887 non-null  int64         \n",
            " 2   datetime  240887 non-null  datetime64[ns]\n",
            " 3   expld     240887 non-null  int64         \n",
            " 4   date      240887 non-null  datetime64[ns]\n",
            "dtypes: datetime64[ns](2), int64(2), object(1)\n",
            "memory usage: 11.0+ MB\n"
          ]
        }
      ],
      "source": [
        "logs.info()"
      ]
    },
    {
      "cell_type": "code",
      "execution_count": 108,
      "metadata": {
        "id": "81oBCkLKssCz",
        "outputId": "6528241d-bcbb-425c-c487-5aeb332da07c",
        "colab": {
          "base_uri": "https://localhost:8080/"
        }
      },
      "outputs": [
        {
          "output_type": "execute_result",
          "data": {
            "text/plain": [
              "7534"
            ]
          },
          "metadata": {},
          "execution_count": 108
        }
      ],
      "source": [
        "logs['user_id'].nunique()"
      ]
    },
    {
      "cell_type": "code",
      "execution_count": 109,
      "metadata": {
        "id": "MON06YnissCz",
        "outputId": "8bd4db23-2735-4c30-8f34-df29847c8afa",
        "colab": {
          "base_uri": "https://localhost:8080/"
        }
      },
      "outputs": [
        {
          "output_type": "execute_result",
          "data": {
            "text/plain": [
              "38967"
            ]
          },
          "metadata": {},
          "execution_count": 109
        }
      ],
      "source": [
        "243713 - 204746 #количество потерянных данных"
      ]
    },
    {
      "cell_type": "code",
      "execution_count": 110,
      "metadata": {
        "id": "MKKGFyZUssCz",
        "outputId": "d24b2013-3a33-4407-d12c-66929131ea22",
        "colab": {
          "base_uri": "https://localhost:8080/"
        }
      },
      "outputs": [
        {
          "output_type": "execute_result",
          "data": {
            "text/plain": [
              "265"
            ]
          },
          "metadata": {},
          "execution_count": 110
        }
      ],
      "source": [
        "7551 - 7286 #количество потерянных пользователей"
      ]
    },
    {
      "cell_type": "markdown",
      "metadata": {
        "id": "LUWRsRvIssC0"
      },
      "source": [
        "<div class=\"alert alert-block alert-warning\">\n",
        "<b>Комментарий от ревьюера</b>\n",
        "\n",
        "Тут лучше работать с переменными. Если не знаешь о чем речь,сложно будет понять что это за цифры. :)  \n",
        "</div>"
      ]
    },
    {
      "cell_type": "code",
      "execution_count": 111,
      "metadata": {
        "scrolled": true,
        "id": "UFyVHs9-ssC0",
        "outputId": "59853202-76e4-49f5-fdc8-725e604ac9d6",
        "colab": {
          "base_uri": "https://localhost:8080/",
          "height": 175
        }
      },
      "outputs": [
        {
          "output_type": "execute_result",
          "data": {
            "text/html": [
              "\n",
              "  <div id=\"df-9a83c2f3-7dc0-4368-a633-87240e26561a\">\n",
              "    <div class=\"colab-df-container\">\n",
              "      <div>\n",
              "<style scoped>\n",
              "    .dataframe tbody tr th:only-of-type {\n",
              "        vertical-align: middle;\n",
              "    }\n",
              "\n",
              "    .dataframe tbody tr th {\n",
              "        vertical-align: top;\n",
              "    }\n",
              "\n",
              "    .dataframe thead th {\n",
              "        text-align: right;\n",
              "    }\n",
              "</style>\n",
              "<table border=\"1\" class=\"dataframe\">\n",
              "  <thead>\n",
              "    <tr style=\"text-align: right;\">\n",
              "      <th></th>\n",
              "      <th>nunique</th>\n",
              "    </tr>\n",
              "    <tr>\n",
              "      <th>expld</th>\n",
              "      <th></th>\n",
              "    </tr>\n",
              "  </thead>\n",
              "  <tbody>\n",
              "    <tr>\n",
              "      <th>246</th>\n",
              "      <td>2484</td>\n",
              "    </tr>\n",
              "    <tr>\n",
              "      <th>247</th>\n",
              "      <td>2513</td>\n",
              "    </tr>\n",
              "    <tr>\n",
              "      <th>248</th>\n",
              "      <td>2537</td>\n",
              "    </tr>\n",
              "  </tbody>\n",
              "</table>\n",
              "</div>\n",
              "      <button class=\"colab-df-convert\" onclick=\"convertToInteractive('df-9a83c2f3-7dc0-4368-a633-87240e26561a')\"\n",
              "              title=\"Convert this dataframe to an interactive table.\"\n",
              "              style=\"display:none;\">\n",
              "        \n",
              "  <svg xmlns=\"http://www.w3.org/2000/svg\" height=\"24px\"viewBox=\"0 0 24 24\"\n",
              "       width=\"24px\">\n",
              "    <path d=\"M0 0h24v24H0V0z\" fill=\"none\"/>\n",
              "    <path d=\"M18.56 5.44l.94 2.06.94-2.06 2.06-.94-2.06-.94-.94-2.06-.94 2.06-2.06.94zm-11 1L8.5 8.5l.94-2.06 2.06-.94-2.06-.94L8.5 2.5l-.94 2.06-2.06.94zm10 10l.94 2.06.94-2.06 2.06-.94-2.06-.94-.94-2.06-.94 2.06-2.06.94z\"/><path d=\"M17.41 7.96l-1.37-1.37c-.4-.4-.92-.59-1.43-.59-.52 0-1.04.2-1.43.59L10.3 9.45l-7.72 7.72c-.78.78-.78 2.05 0 2.83L4 21.41c.39.39.9.59 1.41.59.51 0 1.02-.2 1.41-.59l7.78-7.78 2.81-2.81c.8-.78.8-2.07 0-2.86zM5.41 20L4 18.59l7.72-7.72 1.47 1.35L5.41 20z\"/>\n",
              "  </svg>\n",
              "      </button>\n",
              "      \n",
              "  <style>\n",
              "    .colab-df-container {\n",
              "      display:flex;\n",
              "      flex-wrap:wrap;\n",
              "      gap: 12px;\n",
              "    }\n",
              "\n",
              "    .colab-df-convert {\n",
              "      background-color: #E8F0FE;\n",
              "      border: none;\n",
              "      border-radius: 50%;\n",
              "      cursor: pointer;\n",
              "      display: none;\n",
              "      fill: #1967D2;\n",
              "      height: 32px;\n",
              "      padding: 0 0 0 0;\n",
              "      width: 32px;\n",
              "    }\n",
              "\n",
              "    .colab-df-convert:hover {\n",
              "      background-color: #E2EBFA;\n",
              "      box-shadow: 0px 1px 2px rgba(60, 64, 67, 0.3), 0px 1px 3px 1px rgba(60, 64, 67, 0.15);\n",
              "      fill: #174EA6;\n",
              "    }\n",
              "\n",
              "    [theme=dark] .colab-df-convert {\n",
              "      background-color: #3B4455;\n",
              "      fill: #D2E3FC;\n",
              "    }\n",
              "\n",
              "    [theme=dark] .colab-df-convert:hover {\n",
              "      background-color: #434B5C;\n",
              "      box-shadow: 0px 1px 3px 1px rgba(0, 0, 0, 0.15);\n",
              "      filter: drop-shadow(0px 1px 2px rgba(0, 0, 0, 0.3));\n",
              "      fill: #FFFFFF;\n",
              "    }\n",
              "  </style>\n",
              "\n",
              "      <script>\n",
              "        const buttonEl =\n",
              "          document.querySelector('#df-9a83c2f3-7dc0-4368-a633-87240e26561a button.colab-df-convert');\n",
              "        buttonEl.style.display =\n",
              "          google.colab.kernel.accessAllowed ? 'block' : 'none';\n",
              "\n",
              "        async function convertToInteractive(key) {\n",
              "          const element = document.querySelector('#df-9a83c2f3-7dc0-4368-a633-87240e26561a');\n",
              "          const dataTable =\n",
              "            await google.colab.kernel.invokeFunction('convertToInteractive',\n",
              "                                                     [key], {});\n",
              "          if (!dataTable) return;\n",
              "\n",
              "          const docLinkHtml = 'Like what you see? Visit the ' +\n",
              "            '<a target=\"_blank\" href=https://colab.research.google.com/notebooks/data_table.ipynb>data table notebook</a>'\n",
              "            + ' to learn more about interactive tables.';\n",
              "          element.innerHTML = '';\n",
              "          dataTable['output_type'] = 'display_data';\n",
              "          await google.colab.output.renderOutput(dataTable, element);\n",
              "          const docLink = document.createElement('div');\n",
              "          docLink.innerHTML = docLinkHtml;\n",
              "          element.appendChild(docLink);\n",
              "        }\n",
              "      </script>\n",
              "    </div>\n",
              "  </div>\n",
              "  "
            ],
            "text/plain": [
              "       nunique\n",
              "expld         \n",
              "246       2484\n",
              "247       2513\n",
              "248       2537"
            ]
          },
          "metadata": {},
          "execution_count": 111
        }
      ],
      "source": [
        "logs.groupby('expld')['user_id'].agg(['nunique']) #распределение пользователей по группам"
      ]
    },
    {
      "cell_type": "markdown",
      "metadata": {
        "id": "xk7QQwO1ssC0"
      },
      "source": [
        "**Вывод**\n",
        "1. После чистки от дубликатов событий в логе осталось 243713, количество пользователей:7551\n",
        "2. В среднем на одного пользователя приходится 32 события\n",
        "3. Более полные данные с 2019-08-01\n",
        "4. Отбросив старые данные мы потеряли 38967 событий и 265 уникальных пользователей"
      ]
    },
    {
      "cell_type": "markdown",
      "metadata": {
        "id": "ZujNO4ZKssC0"
      },
      "source": [
        "# Изучение воронки событий\n",
        "<a id=\"pipeline\"></a>"
      ]
    },
    {
      "cell_type": "code",
      "execution_count": 112,
      "metadata": {
        "scrolled": true,
        "id": "8oCZhmlZssC1",
        "outputId": "7908ab86-9945-4a82-ae03-a7688ff5dd6f",
        "colab": {
          "base_uri": "https://localhost:8080/",
          "height": 143
        }
      },
      "outputs": [
        {
          "output_type": "execute_result",
          "data": {
            "text/html": [
              "\n",
              "  <div id=\"df-1b489fa2-7876-48ac-8e00-086c3ebcc0b2\">\n",
              "    <div class=\"colab-df-container\">\n",
              "      <div>\n",
              "<style scoped>\n",
              "    .dataframe tbody tr th:only-of-type {\n",
              "        vertical-align: middle;\n",
              "    }\n",
              "\n",
              "    .dataframe tbody tr th {\n",
              "        vertical-align: top;\n",
              "    }\n",
              "\n",
              "    .dataframe thead th {\n",
              "        text-align: right;\n",
              "    }\n",
              "</style>\n",
              "<table border=\"1\" class=\"dataframe\">\n",
              "  <thead>\n",
              "    <tr style=\"text-align: right;\">\n",
              "      <th></th>\n",
              "      <th>event</th>\n",
              "      <th>user_id</th>\n",
              "      <th>datetime</th>\n",
              "      <th>expld</th>\n",
              "      <th>date</th>\n",
              "    </tr>\n",
              "  </thead>\n",
              "  <tbody>\n",
              "    <tr>\n",
              "      <th>2828</th>\n",
              "      <td>Tutorial</td>\n",
              "      <td>3737462046622621720</td>\n",
              "      <td>2019-08-01 00:07:28</td>\n",
              "      <td>246</td>\n",
              "      <td>2019-08-01</td>\n",
              "    </tr>\n",
              "    <tr>\n",
              "      <th>2829</th>\n",
              "      <td>MainScreenAppear</td>\n",
              "      <td>3737462046622621720</td>\n",
              "      <td>2019-08-01 00:08:00</td>\n",
              "      <td>246</td>\n",
              "      <td>2019-08-01</td>\n",
              "    </tr>\n",
              "    <tr>\n",
              "      <th>2830</th>\n",
              "      <td>MainScreenAppear</td>\n",
              "      <td>3737462046622621720</td>\n",
              "      <td>2019-08-01 00:08:55</td>\n",
              "      <td>246</td>\n",
              "      <td>2019-08-01</td>\n",
              "    </tr>\n",
              "  </tbody>\n",
              "</table>\n",
              "</div>\n",
              "      <button class=\"colab-df-convert\" onclick=\"convertToInteractive('df-1b489fa2-7876-48ac-8e00-086c3ebcc0b2')\"\n",
              "              title=\"Convert this dataframe to an interactive table.\"\n",
              "              style=\"display:none;\">\n",
              "        \n",
              "  <svg xmlns=\"http://www.w3.org/2000/svg\" height=\"24px\"viewBox=\"0 0 24 24\"\n",
              "       width=\"24px\">\n",
              "    <path d=\"M0 0h24v24H0V0z\" fill=\"none\"/>\n",
              "    <path d=\"M18.56 5.44l.94 2.06.94-2.06 2.06-.94-2.06-.94-.94-2.06-.94 2.06-2.06.94zm-11 1L8.5 8.5l.94-2.06 2.06-.94-2.06-.94L8.5 2.5l-.94 2.06-2.06.94zm10 10l.94 2.06.94-2.06 2.06-.94-2.06-.94-.94-2.06-.94 2.06-2.06.94z\"/><path d=\"M17.41 7.96l-1.37-1.37c-.4-.4-.92-.59-1.43-.59-.52 0-1.04.2-1.43.59L10.3 9.45l-7.72 7.72c-.78.78-.78 2.05 0 2.83L4 21.41c.39.39.9.59 1.41.59.51 0 1.02-.2 1.41-.59l7.78-7.78 2.81-2.81c.8-.78.8-2.07 0-2.86zM5.41 20L4 18.59l7.72-7.72 1.47 1.35L5.41 20z\"/>\n",
              "  </svg>\n",
              "      </button>\n",
              "      \n",
              "  <style>\n",
              "    .colab-df-container {\n",
              "      display:flex;\n",
              "      flex-wrap:wrap;\n",
              "      gap: 12px;\n",
              "    }\n",
              "\n",
              "    .colab-df-convert {\n",
              "      background-color: #E8F0FE;\n",
              "      border: none;\n",
              "      border-radius: 50%;\n",
              "      cursor: pointer;\n",
              "      display: none;\n",
              "      fill: #1967D2;\n",
              "      height: 32px;\n",
              "      padding: 0 0 0 0;\n",
              "      width: 32px;\n",
              "    }\n",
              "\n",
              "    .colab-df-convert:hover {\n",
              "      background-color: #E2EBFA;\n",
              "      box-shadow: 0px 1px 2px rgba(60, 64, 67, 0.3), 0px 1px 3px 1px rgba(60, 64, 67, 0.15);\n",
              "      fill: #174EA6;\n",
              "    }\n",
              "\n",
              "    [theme=dark] .colab-df-convert {\n",
              "      background-color: #3B4455;\n",
              "      fill: #D2E3FC;\n",
              "    }\n",
              "\n",
              "    [theme=dark] .colab-df-convert:hover {\n",
              "      background-color: #434B5C;\n",
              "      box-shadow: 0px 1px 3px 1px rgba(0, 0, 0, 0.15);\n",
              "      filter: drop-shadow(0px 1px 2px rgba(0, 0, 0, 0.3));\n",
              "      fill: #FFFFFF;\n",
              "    }\n",
              "  </style>\n",
              "\n",
              "      <script>\n",
              "        const buttonEl =\n",
              "          document.querySelector('#df-1b489fa2-7876-48ac-8e00-086c3ebcc0b2 button.colab-df-convert');\n",
              "        buttonEl.style.display =\n",
              "          google.colab.kernel.accessAllowed ? 'block' : 'none';\n",
              "\n",
              "        async function convertToInteractive(key) {\n",
              "          const element = document.querySelector('#df-1b489fa2-7876-48ac-8e00-086c3ebcc0b2');\n",
              "          const dataTable =\n",
              "            await google.colab.kernel.invokeFunction('convertToInteractive',\n",
              "                                                     [key], {});\n",
              "          if (!dataTable) return;\n",
              "\n",
              "          const docLinkHtml = 'Like what you see? Visit the ' +\n",
              "            '<a target=\"_blank\" href=https://colab.research.google.com/notebooks/data_table.ipynb>data table notebook</a>'\n",
              "            + ' to learn more about interactive tables.';\n",
              "          element.innerHTML = '';\n",
              "          dataTable['output_type'] = 'display_data';\n",
              "          await google.colab.output.renderOutput(dataTable, element);\n",
              "          const docLink = document.createElement('div');\n",
              "          docLink.innerHTML = docLinkHtml;\n",
              "          element.appendChild(docLink);\n",
              "        }\n",
              "      </script>\n",
              "    </div>\n",
              "  </div>\n",
              "  "
            ],
            "text/plain": [
              "                 event              user_id  ... expld       date\n",
              "2828          Tutorial  3737462046622621720  ...   246 2019-08-01\n",
              "2829  MainScreenAppear  3737462046622621720  ...   246 2019-08-01\n",
              "2830  MainScreenAppear  3737462046622621720  ...   246 2019-08-01\n",
              "\n",
              "[3 rows x 5 columns]"
            ]
          },
          "metadata": {},
          "execution_count": 112
        }
      ],
      "source": [
        "logs.head(3)"
      ]
    },
    {
      "cell_type": "code",
      "execution_count": 113,
      "metadata": {
        "scrolled": true,
        "id": "pHc60jarssC1",
        "outputId": "6e9ecacc-70c5-4f1c-aa3d-e3848768ebf4",
        "colab": {
          "base_uri": "https://localhost:8080/",
          "height": 238
        }
      },
      "outputs": [
        {
          "output_type": "execute_result",
          "data": {
            "text/html": [
              "\n",
              "  <div id=\"df-a645a797-a819-49e0-84cd-066f05c7960c\">\n",
              "    <div class=\"colab-df-container\">\n",
              "      <div>\n",
              "<style scoped>\n",
              "    .dataframe tbody tr th:only-of-type {\n",
              "        vertical-align: middle;\n",
              "    }\n",
              "\n",
              "    .dataframe tbody tr th {\n",
              "        vertical-align: top;\n",
              "    }\n",
              "\n",
              "    .dataframe thead th {\n",
              "        text-align: right;\n",
              "    }\n",
              "</style>\n",
              "<table border=\"1\" class=\"dataframe\">\n",
              "  <thead>\n",
              "    <tr style=\"text-align: right;\">\n",
              "      <th></th>\n",
              "      <th>user_id</th>\n",
              "    </tr>\n",
              "    <tr>\n",
              "      <th>event</th>\n",
              "      <th></th>\n",
              "    </tr>\n",
              "  </thead>\n",
              "  <tbody>\n",
              "    <tr>\n",
              "      <th>MainScreenAppear</th>\n",
              "      <td>117328</td>\n",
              "    </tr>\n",
              "    <tr>\n",
              "      <th>OffersScreenAppear</th>\n",
              "      <td>46333</td>\n",
              "    </tr>\n",
              "    <tr>\n",
              "      <th>CartScreenAppear</th>\n",
              "      <td>42303</td>\n",
              "    </tr>\n",
              "    <tr>\n",
              "      <th>PaymentScreenSuccessful</th>\n",
              "      <td>33918</td>\n",
              "    </tr>\n",
              "    <tr>\n",
              "      <th>Tutorial</th>\n",
              "      <td>1005</td>\n",
              "    </tr>\n",
              "  </tbody>\n",
              "</table>\n",
              "</div>\n",
              "      <button class=\"colab-df-convert\" onclick=\"convertToInteractive('df-a645a797-a819-49e0-84cd-066f05c7960c')\"\n",
              "              title=\"Convert this dataframe to an interactive table.\"\n",
              "              style=\"display:none;\">\n",
              "        \n",
              "  <svg xmlns=\"http://www.w3.org/2000/svg\" height=\"24px\"viewBox=\"0 0 24 24\"\n",
              "       width=\"24px\">\n",
              "    <path d=\"M0 0h24v24H0V0z\" fill=\"none\"/>\n",
              "    <path d=\"M18.56 5.44l.94 2.06.94-2.06 2.06-.94-2.06-.94-.94-2.06-.94 2.06-2.06.94zm-11 1L8.5 8.5l.94-2.06 2.06-.94-2.06-.94L8.5 2.5l-.94 2.06-2.06.94zm10 10l.94 2.06.94-2.06 2.06-.94-2.06-.94-.94-2.06-.94 2.06-2.06.94z\"/><path d=\"M17.41 7.96l-1.37-1.37c-.4-.4-.92-.59-1.43-.59-.52 0-1.04.2-1.43.59L10.3 9.45l-7.72 7.72c-.78.78-.78 2.05 0 2.83L4 21.41c.39.39.9.59 1.41.59.51 0 1.02-.2 1.41-.59l7.78-7.78 2.81-2.81c.8-.78.8-2.07 0-2.86zM5.41 20L4 18.59l7.72-7.72 1.47 1.35L5.41 20z\"/>\n",
              "  </svg>\n",
              "      </button>\n",
              "      \n",
              "  <style>\n",
              "    .colab-df-container {\n",
              "      display:flex;\n",
              "      flex-wrap:wrap;\n",
              "      gap: 12px;\n",
              "    }\n",
              "\n",
              "    .colab-df-convert {\n",
              "      background-color: #E8F0FE;\n",
              "      border: none;\n",
              "      border-radius: 50%;\n",
              "      cursor: pointer;\n",
              "      display: none;\n",
              "      fill: #1967D2;\n",
              "      height: 32px;\n",
              "      padding: 0 0 0 0;\n",
              "      width: 32px;\n",
              "    }\n",
              "\n",
              "    .colab-df-convert:hover {\n",
              "      background-color: #E2EBFA;\n",
              "      box-shadow: 0px 1px 2px rgba(60, 64, 67, 0.3), 0px 1px 3px 1px rgba(60, 64, 67, 0.15);\n",
              "      fill: #174EA6;\n",
              "    }\n",
              "\n",
              "    [theme=dark] .colab-df-convert {\n",
              "      background-color: #3B4455;\n",
              "      fill: #D2E3FC;\n",
              "    }\n",
              "\n",
              "    [theme=dark] .colab-df-convert:hover {\n",
              "      background-color: #434B5C;\n",
              "      box-shadow: 0px 1px 3px 1px rgba(0, 0, 0, 0.15);\n",
              "      filter: drop-shadow(0px 1px 2px rgba(0, 0, 0, 0.3));\n",
              "      fill: #FFFFFF;\n",
              "    }\n",
              "  </style>\n",
              "\n",
              "      <script>\n",
              "        const buttonEl =\n",
              "          document.querySelector('#df-a645a797-a819-49e0-84cd-066f05c7960c button.colab-df-convert');\n",
              "        buttonEl.style.display =\n",
              "          google.colab.kernel.accessAllowed ? 'block' : 'none';\n",
              "\n",
              "        async function convertToInteractive(key) {\n",
              "          const element = document.querySelector('#df-a645a797-a819-49e0-84cd-066f05c7960c');\n",
              "          const dataTable =\n",
              "            await google.colab.kernel.invokeFunction('convertToInteractive',\n",
              "                                                     [key], {});\n",
              "          if (!dataTable) return;\n",
              "\n",
              "          const docLinkHtml = 'Like what you see? Visit the ' +\n",
              "            '<a target=\"_blank\" href=https://colab.research.google.com/notebooks/data_table.ipynb>data table notebook</a>'\n",
              "            + ' to learn more about interactive tables.';\n",
              "          element.innerHTML = '';\n",
              "          dataTable['output_type'] = 'display_data';\n",
              "          await google.colab.output.renderOutput(dataTable, element);\n",
              "          const docLink = document.createElement('div');\n",
              "          docLink.innerHTML = docLinkHtml;\n",
              "          element.appendChild(docLink);\n",
              "        }\n",
              "      </script>\n",
              "    </div>\n",
              "  </div>\n",
              "  "
            ],
            "text/plain": [
              "                         user_id\n",
              "event                           \n",
              "MainScreenAppear          117328\n",
              "OffersScreenAppear         46333\n",
              "CartScreenAppear           42303\n",
              "PaymentScreenSuccessful    33918\n",
              "Tutorial                    1005"
            ]
          },
          "metadata": {},
          "execution_count": 113
        }
      ],
      "source": [
        "logs.pivot_table(index='event', values='user_id', aggfunc='count').sort_values(by='user_id', ascending=False) # сводная таблица, в которой получаем кол-во событий по шагам"
      ]
    },
    {
      "cell_type": "markdown",
      "metadata": {
        "id": "P4yetnTsssC1"
      },
      "source": [
        "Main Screen Appear - главный экран\n",
        "\n",
        "Offers Screen Appear - экран предложения\n",
        "\n",
        "Cart Screen Appear - экран корзины\n",
        "\n",
        "Payment Screen Successful - успешная оплата\n",
        "\n",
        "Tutorial - инструкция"
      ]
    },
    {
      "cell_type": "code",
      "execution_count": 114,
      "metadata": {
        "id": "X-I0JuSZssC1"
      },
      "outputs": [],
      "source": [
        "user_activity = logs.groupby('event').agg({'user_id':'nunique'}).sort_values(by='user_id', ascending=False).reset_index() #количество пользователей в каждом событии"
      ]
    },
    {
      "cell_type": "code",
      "execution_count": 115,
      "metadata": {
        "id": "ZWp0B6P4ssC2",
        "outputId": "0a4f200c-5ee7-45c2-ffab-3c0ff103f77c",
        "colab": {
          "base_uri": "https://localhost:8080/",
          "height": 206
        }
      },
      "outputs": [
        {
          "output_type": "execute_result",
          "data": {
            "text/html": [
              "\n",
              "  <div id=\"df-7c637dda-9f6f-4eae-bdbf-ec7f3e123e48\">\n",
              "    <div class=\"colab-df-container\">\n",
              "      <div>\n",
              "<style scoped>\n",
              "    .dataframe tbody tr th:only-of-type {\n",
              "        vertical-align: middle;\n",
              "    }\n",
              "\n",
              "    .dataframe tbody tr th {\n",
              "        vertical-align: top;\n",
              "    }\n",
              "\n",
              "    .dataframe thead th {\n",
              "        text-align: right;\n",
              "    }\n",
              "</style>\n",
              "<table border=\"1\" class=\"dataframe\">\n",
              "  <thead>\n",
              "    <tr style=\"text-align: right;\">\n",
              "      <th></th>\n",
              "      <th>event</th>\n",
              "      <th>user_id</th>\n",
              "    </tr>\n",
              "  </thead>\n",
              "  <tbody>\n",
              "    <tr>\n",
              "      <th>0</th>\n",
              "      <td>MainScreenAppear</td>\n",
              "      <td>7419</td>\n",
              "    </tr>\n",
              "    <tr>\n",
              "      <th>1</th>\n",
              "      <td>OffersScreenAppear</td>\n",
              "      <td>4593</td>\n",
              "    </tr>\n",
              "    <tr>\n",
              "      <th>2</th>\n",
              "      <td>CartScreenAppear</td>\n",
              "      <td>3734</td>\n",
              "    </tr>\n",
              "    <tr>\n",
              "      <th>3</th>\n",
              "      <td>PaymentScreenSuccessful</td>\n",
              "      <td>3539</td>\n",
              "    </tr>\n",
              "    <tr>\n",
              "      <th>4</th>\n",
              "      <td>Tutorial</td>\n",
              "      <td>840</td>\n",
              "    </tr>\n",
              "  </tbody>\n",
              "</table>\n",
              "</div>\n",
              "      <button class=\"colab-df-convert\" onclick=\"convertToInteractive('df-7c637dda-9f6f-4eae-bdbf-ec7f3e123e48')\"\n",
              "              title=\"Convert this dataframe to an interactive table.\"\n",
              "              style=\"display:none;\">\n",
              "        \n",
              "  <svg xmlns=\"http://www.w3.org/2000/svg\" height=\"24px\"viewBox=\"0 0 24 24\"\n",
              "       width=\"24px\">\n",
              "    <path d=\"M0 0h24v24H0V0z\" fill=\"none\"/>\n",
              "    <path d=\"M18.56 5.44l.94 2.06.94-2.06 2.06-.94-2.06-.94-.94-2.06-.94 2.06-2.06.94zm-11 1L8.5 8.5l.94-2.06 2.06-.94-2.06-.94L8.5 2.5l-.94 2.06-2.06.94zm10 10l.94 2.06.94-2.06 2.06-.94-2.06-.94-.94-2.06-.94 2.06-2.06.94z\"/><path d=\"M17.41 7.96l-1.37-1.37c-.4-.4-.92-.59-1.43-.59-.52 0-1.04.2-1.43.59L10.3 9.45l-7.72 7.72c-.78.78-.78 2.05 0 2.83L4 21.41c.39.39.9.59 1.41.59.51 0 1.02-.2 1.41-.59l7.78-7.78 2.81-2.81c.8-.78.8-2.07 0-2.86zM5.41 20L4 18.59l7.72-7.72 1.47 1.35L5.41 20z\"/>\n",
              "  </svg>\n",
              "      </button>\n",
              "      \n",
              "  <style>\n",
              "    .colab-df-container {\n",
              "      display:flex;\n",
              "      flex-wrap:wrap;\n",
              "      gap: 12px;\n",
              "    }\n",
              "\n",
              "    .colab-df-convert {\n",
              "      background-color: #E8F0FE;\n",
              "      border: none;\n",
              "      border-radius: 50%;\n",
              "      cursor: pointer;\n",
              "      display: none;\n",
              "      fill: #1967D2;\n",
              "      height: 32px;\n",
              "      padding: 0 0 0 0;\n",
              "      width: 32px;\n",
              "    }\n",
              "\n",
              "    .colab-df-convert:hover {\n",
              "      background-color: #E2EBFA;\n",
              "      box-shadow: 0px 1px 2px rgba(60, 64, 67, 0.3), 0px 1px 3px 1px rgba(60, 64, 67, 0.15);\n",
              "      fill: #174EA6;\n",
              "    }\n",
              "\n",
              "    [theme=dark] .colab-df-convert {\n",
              "      background-color: #3B4455;\n",
              "      fill: #D2E3FC;\n",
              "    }\n",
              "\n",
              "    [theme=dark] .colab-df-convert:hover {\n",
              "      background-color: #434B5C;\n",
              "      box-shadow: 0px 1px 3px 1px rgba(0, 0, 0, 0.15);\n",
              "      filter: drop-shadow(0px 1px 2px rgba(0, 0, 0, 0.3));\n",
              "      fill: #FFFFFF;\n",
              "    }\n",
              "  </style>\n",
              "\n",
              "      <script>\n",
              "        const buttonEl =\n",
              "          document.querySelector('#df-7c637dda-9f6f-4eae-bdbf-ec7f3e123e48 button.colab-df-convert');\n",
              "        buttonEl.style.display =\n",
              "          google.colab.kernel.accessAllowed ? 'block' : 'none';\n",
              "\n",
              "        async function convertToInteractive(key) {\n",
              "          const element = document.querySelector('#df-7c637dda-9f6f-4eae-bdbf-ec7f3e123e48');\n",
              "          const dataTable =\n",
              "            await google.colab.kernel.invokeFunction('convertToInteractive',\n",
              "                                                     [key], {});\n",
              "          if (!dataTable) return;\n",
              "\n",
              "          const docLinkHtml = 'Like what you see? Visit the ' +\n",
              "            '<a target=\"_blank\" href=https://colab.research.google.com/notebooks/data_table.ipynb>data table notebook</a>'\n",
              "            + ' to learn more about interactive tables.';\n",
              "          element.innerHTML = '';\n",
              "          dataTable['output_type'] = 'display_data';\n",
              "          await google.colab.output.renderOutput(dataTable, element);\n",
              "          const docLink = document.createElement('div');\n",
              "          docLink.innerHTML = docLinkHtml;\n",
              "          element.appendChild(docLink);\n",
              "        }\n",
              "      </script>\n",
              "    </div>\n",
              "  </div>\n",
              "  "
            ],
            "text/plain": [
              "                     event  user_id\n",
              "0         MainScreenAppear     7419\n",
              "1       OffersScreenAppear     4593\n",
              "2         CartScreenAppear     3734\n",
              "3  PaymentScreenSuccessful     3539\n",
              "4                 Tutorial      840"
            ]
          },
          "metadata": {},
          "execution_count": 115
        }
      ],
      "source": [
        "user_activity"
      ]
    },
    {
      "cell_type": "code",
      "execution_count": 116,
      "metadata": {
        "id": "muV5ZZ0MssC2",
        "outputId": "0011aafa-7a5c-4e2b-90d7-fe70e506cb04",
        "colab": {
          "base_uri": "https://localhost:8080/"
        }
      },
      "outputs": [
        {
          "output_type": "stream",
          "name": "stdout",
          "text": [
            "<class 'pandas.core.frame.DataFrame'>\n",
            "RangeIndex: 5 entries, 0 to 4\n",
            "Data columns (total 2 columns):\n",
            " #   Column   Non-Null Count  Dtype \n",
            "---  ------   --------------  ----- \n",
            " 0   event    5 non-null      object\n",
            " 1   user_id  5 non-null      int64 \n",
            "dtypes: int64(1), object(1)\n",
            "memory usage: 208.0+ bytes\n"
          ]
        }
      ],
      "source": [
        "user_activity.info()"
      ]
    },
    {
      "cell_type": "code",
      "execution_count": 117,
      "metadata": {
        "id": "1gb-DiUsssC2"
      },
      "outputs": [],
      "source": [
        "fig = go.Figure(data=[go.Funnel(y=user_activity.event, x=user_activity.user_id, textposition='inside', textinfo='value + percent previous', marker_color='#12aadc')])\n",
        "# воронка продаж"
      ]
    },
    {
      "cell_type": "code",
      "execution_count": 118,
      "metadata": {
        "scrolled": true,
        "id": "W2i8rTKNssC2",
        "outputId": "daf280ec-4e9c-4bc8-8600-5ee957a6b74d",
        "colab": {
          "base_uri": "https://localhost:8080/",
          "height": 542
        }
      },
      "outputs": [
        {
          "output_type": "display_data",
          "data": {
            "text/html": [
              "<html>\n",
              "<head><meta charset=\"utf-8\" /></head>\n",
              "<body>\n",
              "    <div>\n",
              "            <script src=\"https://cdnjs.cloudflare.com/ajax/libs/mathjax/2.7.5/MathJax.js?config=TeX-AMS-MML_SVG\"></script><script type=\"text/javascript\">if (window.MathJax) {MathJax.Hub.Config({SVG: {font: \"STIX-Web\"}});}</script>\n",
              "                <script type=\"text/javascript\">window.PlotlyConfig = {MathJaxConfig: 'local'};</script>\n",
              "        <script src=\"https://cdn.plot.ly/plotly-latest.min.js\"></script>    \n",
              "            <div id=\"d538dc2e-821a-47c1-99df-2037f6b5f0cd\" class=\"plotly-graph-div\" style=\"height:525px; width:100%;\"></div>\n",
              "            <script type=\"text/javascript\">\n",
              "                \n",
              "                    window.PLOTLYENV=window.PLOTLYENV || {};\n",
              "                    \n",
              "                if (document.getElementById(\"d538dc2e-821a-47c1-99df-2037f6b5f0cd\")) {\n",
              "                    Plotly.newPlot(\n",
              "                        'd538dc2e-821a-47c1-99df-2037f6b5f0cd',\n",
              "                        [{\"marker\": {\"color\": \"#12aadc\"}, \"textinfo\": \"value+percent previous\", \"textposition\": \"inside\", \"type\": \"funnel\", \"x\": [7419, 4593, 3734, 3539, 840], \"y\": [\"MainScreenAppear\", \"OffersScreenAppear\", \"CartScreenAppear\", \"PaymentScreenSuccessful\", \"Tutorial\"]}],\n",
              "                        {\"template\": {\"data\": {\"bar\": [{\"error_x\": {\"color\": \"#2a3f5f\"}, \"error_y\": {\"color\": \"#2a3f5f\"}, \"marker\": {\"line\": {\"color\": \"#E5ECF6\", \"width\": 0.5}}, \"type\": \"bar\"}], \"barpolar\": [{\"marker\": {\"line\": {\"color\": \"#E5ECF6\", \"width\": 0.5}}, \"type\": \"barpolar\"}], \"carpet\": [{\"aaxis\": {\"endlinecolor\": \"#2a3f5f\", \"gridcolor\": \"white\", \"linecolor\": \"white\", \"minorgridcolor\": \"white\", \"startlinecolor\": \"#2a3f5f\"}, \"baxis\": {\"endlinecolor\": \"#2a3f5f\", \"gridcolor\": \"white\", \"linecolor\": \"white\", \"minorgridcolor\": \"white\", \"startlinecolor\": \"#2a3f5f\"}, \"type\": \"carpet\"}], \"choropleth\": [{\"colorbar\": {\"outlinewidth\": 0, \"ticks\": \"\"}, \"type\": \"choropleth\"}], \"contour\": [{\"colorbar\": {\"outlinewidth\": 0, \"ticks\": \"\"}, \"colorscale\": [[0.0, \"#0d0887\"], [0.1111111111111111, \"#46039f\"], [0.2222222222222222, \"#7201a8\"], [0.3333333333333333, \"#9c179e\"], [0.4444444444444444, \"#bd3786\"], [0.5555555555555556, \"#d8576b\"], [0.6666666666666666, \"#ed7953\"], [0.7777777777777778, \"#fb9f3a\"], [0.8888888888888888, \"#fdca26\"], [1.0, \"#f0f921\"]], \"type\": \"contour\"}], \"contourcarpet\": [{\"colorbar\": {\"outlinewidth\": 0, \"ticks\": \"\"}, \"type\": \"contourcarpet\"}], \"heatmap\": [{\"colorbar\": {\"outlinewidth\": 0, \"ticks\": \"\"}, \"colorscale\": [[0.0, \"#0d0887\"], [0.1111111111111111, \"#46039f\"], [0.2222222222222222, \"#7201a8\"], [0.3333333333333333, \"#9c179e\"], [0.4444444444444444, \"#bd3786\"], [0.5555555555555556, \"#d8576b\"], [0.6666666666666666, \"#ed7953\"], [0.7777777777777778, \"#fb9f3a\"], [0.8888888888888888, \"#fdca26\"], [1.0, \"#f0f921\"]], \"type\": \"heatmap\"}], \"heatmapgl\": [{\"colorbar\": {\"outlinewidth\": 0, \"ticks\": \"\"}, \"colorscale\": [[0.0, \"#0d0887\"], [0.1111111111111111, \"#46039f\"], [0.2222222222222222, \"#7201a8\"], [0.3333333333333333, \"#9c179e\"], [0.4444444444444444, \"#bd3786\"], [0.5555555555555556, \"#d8576b\"], [0.6666666666666666, \"#ed7953\"], [0.7777777777777778, \"#fb9f3a\"], [0.8888888888888888, \"#fdca26\"], [1.0, \"#f0f921\"]], \"type\": \"heatmapgl\"}], \"histogram\": [{\"marker\": {\"colorbar\": {\"outlinewidth\": 0, \"ticks\": \"\"}}, \"type\": \"histogram\"}], \"histogram2d\": [{\"colorbar\": {\"outlinewidth\": 0, \"ticks\": \"\"}, \"colorscale\": [[0.0, \"#0d0887\"], [0.1111111111111111, \"#46039f\"], [0.2222222222222222, \"#7201a8\"], [0.3333333333333333, \"#9c179e\"], [0.4444444444444444, \"#bd3786\"], [0.5555555555555556, \"#d8576b\"], [0.6666666666666666, \"#ed7953\"], [0.7777777777777778, \"#fb9f3a\"], [0.8888888888888888, \"#fdca26\"], [1.0, \"#f0f921\"]], \"type\": \"histogram2d\"}], \"histogram2dcontour\": [{\"colorbar\": {\"outlinewidth\": 0, \"ticks\": \"\"}, \"colorscale\": [[0.0, \"#0d0887\"], [0.1111111111111111, \"#46039f\"], [0.2222222222222222, \"#7201a8\"], [0.3333333333333333, \"#9c179e\"], [0.4444444444444444, \"#bd3786\"], [0.5555555555555556, \"#d8576b\"], [0.6666666666666666, \"#ed7953\"], [0.7777777777777778, \"#fb9f3a\"], [0.8888888888888888, \"#fdca26\"], [1.0, \"#f0f921\"]], \"type\": \"histogram2dcontour\"}], \"mesh3d\": [{\"colorbar\": {\"outlinewidth\": 0, \"ticks\": \"\"}, \"type\": \"mesh3d\"}], \"parcoords\": [{\"line\": {\"colorbar\": {\"outlinewidth\": 0, \"ticks\": \"\"}}, \"type\": \"parcoords\"}], \"pie\": [{\"automargin\": true, \"type\": \"pie\"}], \"scatter\": [{\"marker\": {\"colorbar\": {\"outlinewidth\": 0, \"ticks\": \"\"}}, \"type\": \"scatter\"}], \"scatter3d\": [{\"line\": {\"colorbar\": {\"outlinewidth\": 0, \"ticks\": \"\"}}, \"marker\": {\"colorbar\": {\"outlinewidth\": 0, \"ticks\": \"\"}}, \"type\": \"scatter3d\"}], \"scattercarpet\": [{\"marker\": {\"colorbar\": {\"outlinewidth\": 0, \"ticks\": \"\"}}, \"type\": \"scattercarpet\"}], \"scattergeo\": [{\"marker\": {\"colorbar\": {\"outlinewidth\": 0, \"ticks\": \"\"}}, \"type\": \"scattergeo\"}], \"scattergl\": [{\"marker\": {\"colorbar\": {\"outlinewidth\": 0, \"ticks\": \"\"}}, \"type\": \"scattergl\"}], \"scattermapbox\": [{\"marker\": {\"colorbar\": {\"outlinewidth\": 0, \"ticks\": \"\"}}, \"type\": \"scattermapbox\"}], \"scatterpolar\": [{\"marker\": {\"colorbar\": {\"outlinewidth\": 0, \"ticks\": \"\"}}, \"type\": \"scatterpolar\"}], \"scatterpolargl\": [{\"marker\": {\"colorbar\": {\"outlinewidth\": 0, \"ticks\": \"\"}}, \"type\": \"scatterpolargl\"}], \"scatterternary\": [{\"marker\": {\"colorbar\": {\"outlinewidth\": 0, \"ticks\": \"\"}}, \"type\": \"scatterternary\"}], \"surface\": [{\"colorbar\": {\"outlinewidth\": 0, \"ticks\": \"\"}, \"colorscale\": [[0.0, \"#0d0887\"], [0.1111111111111111, \"#46039f\"], [0.2222222222222222, \"#7201a8\"], [0.3333333333333333, \"#9c179e\"], [0.4444444444444444, \"#bd3786\"], [0.5555555555555556, \"#d8576b\"], [0.6666666666666666, \"#ed7953\"], [0.7777777777777778, \"#fb9f3a\"], [0.8888888888888888, \"#fdca26\"], [1.0, \"#f0f921\"]], \"type\": \"surface\"}], \"table\": [{\"cells\": {\"fill\": {\"color\": \"#EBF0F8\"}, \"line\": {\"color\": \"white\"}}, \"header\": {\"fill\": {\"color\": \"#C8D4E3\"}, \"line\": {\"color\": \"white\"}}, \"type\": \"table\"}]}, \"layout\": {\"annotationdefaults\": {\"arrowcolor\": \"#2a3f5f\", \"arrowhead\": 0, \"arrowwidth\": 1}, \"coloraxis\": {\"colorbar\": {\"outlinewidth\": 0, \"ticks\": \"\"}}, \"colorscale\": {\"diverging\": [[0, \"#8e0152\"], [0.1, \"#c51b7d\"], [0.2, \"#de77ae\"], [0.3, \"#f1b6da\"], [0.4, \"#fde0ef\"], [0.5, \"#f7f7f7\"], [0.6, \"#e6f5d0\"], [0.7, \"#b8e186\"], [0.8, \"#7fbc41\"], [0.9, \"#4d9221\"], [1, \"#276419\"]], \"sequential\": [[0.0, \"#0d0887\"], [0.1111111111111111, \"#46039f\"], [0.2222222222222222, \"#7201a8\"], [0.3333333333333333, \"#9c179e\"], [0.4444444444444444, \"#bd3786\"], [0.5555555555555556, \"#d8576b\"], [0.6666666666666666, \"#ed7953\"], [0.7777777777777778, \"#fb9f3a\"], [0.8888888888888888, \"#fdca26\"], [1.0, \"#f0f921\"]], \"sequentialminus\": [[0.0, \"#0d0887\"], [0.1111111111111111, \"#46039f\"], [0.2222222222222222, \"#7201a8\"], [0.3333333333333333, \"#9c179e\"], [0.4444444444444444, \"#bd3786\"], [0.5555555555555556, \"#d8576b\"], [0.6666666666666666, \"#ed7953\"], [0.7777777777777778, \"#fb9f3a\"], [0.8888888888888888, \"#fdca26\"], [1.0, \"#f0f921\"]]}, \"colorway\": [\"#636efa\", \"#EF553B\", \"#00cc96\", \"#ab63fa\", \"#FFA15A\", \"#19d3f3\", \"#FF6692\", \"#B6E880\", \"#FF97FF\", \"#FECB52\"], \"font\": {\"color\": \"#2a3f5f\"}, \"geo\": {\"bgcolor\": \"white\", \"lakecolor\": \"white\", \"landcolor\": \"#E5ECF6\", \"showlakes\": true, \"showland\": true, \"subunitcolor\": \"white\"}, \"hoverlabel\": {\"align\": \"left\"}, \"hovermode\": \"closest\", \"mapbox\": {\"style\": \"light\"}, \"paper_bgcolor\": \"white\", \"plot_bgcolor\": \"#E5ECF6\", \"polar\": {\"angularaxis\": {\"gridcolor\": \"white\", \"linecolor\": \"white\", \"ticks\": \"\"}, \"bgcolor\": \"#E5ECF6\", \"radialaxis\": {\"gridcolor\": \"white\", \"linecolor\": \"white\", \"ticks\": \"\"}}, \"scene\": {\"xaxis\": {\"backgroundcolor\": \"#E5ECF6\", \"gridcolor\": \"white\", \"gridwidth\": 2, \"linecolor\": \"white\", \"showbackground\": true, \"ticks\": \"\", \"zerolinecolor\": \"white\"}, \"yaxis\": {\"backgroundcolor\": \"#E5ECF6\", \"gridcolor\": \"white\", \"gridwidth\": 2, \"linecolor\": \"white\", \"showbackground\": true, \"ticks\": \"\", \"zerolinecolor\": \"white\"}, \"zaxis\": {\"backgroundcolor\": \"#E5ECF6\", \"gridcolor\": \"white\", \"gridwidth\": 2, \"linecolor\": \"white\", \"showbackground\": true, \"ticks\": \"\", \"zerolinecolor\": \"white\"}}, \"shapedefaults\": {\"line\": {\"color\": \"#2a3f5f\"}}, \"ternary\": {\"aaxis\": {\"gridcolor\": \"white\", \"linecolor\": \"white\", \"ticks\": \"\"}, \"baxis\": {\"gridcolor\": \"white\", \"linecolor\": \"white\", \"ticks\": \"\"}, \"bgcolor\": \"#E5ECF6\", \"caxis\": {\"gridcolor\": \"white\", \"linecolor\": \"white\", \"ticks\": \"\"}}, \"title\": {\"x\": 0.05}, \"xaxis\": {\"automargin\": true, \"gridcolor\": \"white\", \"linecolor\": \"white\", \"ticks\": \"\", \"title\": {\"standoff\": 15}, \"zerolinecolor\": \"white\", \"zerolinewidth\": 2}, \"yaxis\": {\"automargin\": true, \"gridcolor\": \"white\", \"linecolor\": \"white\", \"ticks\": \"\", \"title\": {\"standoff\": 15}, \"zerolinecolor\": \"white\", \"zerolinewidth\": 2}}}},\n",
              "                        {\"responsive\": true}\n",
              "                    ).then(function(){\n",
              "                            \n",
              "var gd = document.getElementById('d538dc2e-821a-47c1-99df-2037f6b5f0cd');\n",
              "var x = new MutationObserver(function (mutations, observer) {{\n",
              "        var display = window.getComputedStyle(gd).display;\n",
              "        if (!display || display === 'none') {{\n",
              "            console.log([gd, 'removed!']);\n",
              "            Plotly.purge(gd);\n",
              "            observer.disconnect();\n",
              "        }}\n",
              "}});\n",
              "\n",
              "// Listen for the removal of the full notebook cells\n",
              "var notebookContainer = gd.closest('#notebook-container');\n",
              "if (notebookContainer) {{\n",
              "    x.observe(notebookContainer, {childList: true});\n",
              "}}\n",
              "\n",
              "// Listen for the clearing of the current output cell\n",
              "var outputEl = gd.closest('.output');\n",
              "if (outputEl) {{\n",
              "    x.observe(outputEl, {childList: true});\n",
              "}}\n",
              "\n",
              "                        })\n",
              "                };\n",
              "                \n",
              "            </script>\n",
              "        </div>\n",
              "</body>\n",
              "</html>"
            ]
          },
          "metadata": {}
        }
      ],
      "source": [
        "fig"
      ]
    },
    {
      "cell_type": "markdown",
      "metadata": {
        "id": "G_uFAcJhssC3"
      },
      "source": [
        "**Вывод**\n",
        "1. Самое частое событие - просмотр главного экрана, далее просмотр предложений, корзина и оплата. \n",
        "2. 7419 пользователей перешли на главный экран, просмотрели предложения уже 4593 пользователя (именно на этом этапе мы больше всего теряем пользователей), в корзину перешли 3734 пользователя, а провели оплату 3539! Также у нас есть событие \"инструкция\". Кажется, оно не совсем логично в воронке или вовсе не требуется пользователям. В некоторых современных приложениях \"инструкция\" открывается после первого открытия приложения, а далее можно пройти обучение, а можно просто пропустить. В нашем исследовании я принял решение не учитывать этот шаг при подсчетах результатов эксперимента\n",
        "3. Благодаря воронке, нам удалось выяснить , что при переходе на второй шаг мы теряем 38% пользователей, а далее конверсия растёт. Предлоежние - корзина = 81% и корзина - оплата = 94,8%. Общая конверсия (переход из меню в покупку = 17,6%), есть над чем поработать."
      ]
    },
    {
      "cell_type": "markdown",
      "metadata": {
        "id": "5I9nxmhJssC3"
      },
      "source": [
        "# Изучение результатов эксперимента\n",
        "<a id=\"a/b\"></a>"
      ]
    },
    {
      "cell_type": "code",
      "execution_count": 119,
      "metadata": {
        "id": "JYrN7VEAssC3",
        "outputId": "b9f63775-0bbf-4089-ae8b-5351c9be97be",
        "colab": {
          "base_uri": "https://localhost:8080/"
        }
      },
      "outputs": [
        {
          "output_type": "execute_result",
          "data": {
            "text/plain": [
              "array([246, 247, 248])"
            ]
          },
          "metadata": {},
          "execution_count": 119
        }
      ],
      "source": [
        "logs['expld'].unique()"
      ]
    },
    {
      "cell_type": "code",
      "execution_count": 120,
      "metadata": {
        "id": "722TRR0FssC3"
      },
      "outputs": [],
      "source": [
        "users_246 = logs.query('(expld == 246)')"
      ]
    },
    {
      "cell_type": "code",
      "execution_count": 121,
      "metadata": {
        "scrolled": true,
        "id": "wMfCimaIssC4",
        "outputId": "fee21ce7-d6b1-4a0c-e2c4-4de5e096bee6",
        "colab": {
          "base_uri": "https://localhost:8080/",
          "height": 424
        }
      },
      "outputs": [
        {
          "output_type": "execute_result",
          "data": {
            "text/html": [
              "\n",
              "  <div id=\"df-9774897a-a2be-42bc-b9d2-b6d3c28b02c8\">\n",
              "    <div class=\"colab-df-container\">\n",
              "      <div>\n",
              "<style scoped>\n",
              "    .dataframe tbody tr th:only-of-type {\n",
              "        vertical-align: middle;\n",
              "    }\n",
              "\n",
              "    .dataframe tbody tr th {\n",
              "        vertical-align: top;\n",
              "    }\n",
              "\n",
              "    .dataframe thead th {\n",
              "        text-align: right;\n",
              "    }\n",
              "</style>\n",
              "<table border=\"1\" class=\"dataframe\">\n",
              "  <thead>\n",
              "    <tr style=\"text-align: right;\">\n",
              "      <th></th>\n",
              "      <th>event</th>\n",
              "      <th>user_id</th>\n",
              "      <th>datetime</th>\n",
              "      <th>expld</th>\n",
              "      <th>date</th>\n",
              "    </tr>\n",
              "  </thead>\n",
              "  <tbody>\n",
              "    <tr>\n",
              "      <th>2828</th>\n",
              "      <td>Tutorial</td>\n",
              "      <td>3737462046622621720</td>\n",
              "      <td>2019-08-01 00:07:28</td>\n",
              "      <td>246</td>\n",
              "      <td>2019-08-01</td>\n",
              "    </tr>\n",
              "    <tr>\n",
              "      <th>2829</th>\n",
              "      <td>MainScreenAppear</td>\n",
              "      <td>3737462046622621720</td>\n",
              "      <td>2019-08-01 00:08:00</td>\n",
              "      <td>246</td>\n",
              "      <td>2019-08-01</td>\n",
              "    </tr>\n",
              "    <tr>\n",
              "      <th>2830</th>\n",
              "      <td>MainScreenAppear</td>\n",
              "      <td>3737462046622621720</td>\n",
              "      <td>2019-08-01 00:08:55</td>\n",
              "      <td>246</td>\n",
              "      <td>2019-08-01</td>\n",
              "    </tr>\n",
              "    <tr>\n",
              "      <th>2831</th>\n",
              "      <td>OffersScreenAppear</td>\n",
              "      <td>3737462046622621720</td>\n",
              "      <td>2019-08-01 00:08:58</td>\n",
              "      <td>246</td>\n",
              "      <td>2019-08-01</td>\n",
              "    </tr>\n",
              "    <tr>\n",
              "      <th>2834</th>\n",
              "      <td>OffersScreenAppear</td>\n",
              "      <td>3737462046622621720</td>\n",
              "      <td>2019-08-01 00:10:26</td>\n",
              "      <td>246</td>\n",
              "      <td>2019-08-01</td>\n",
              "    </tr>\n",
              "    <tr>\n",
              "      <th>...</th>\n",
              "      <td>...</td>\n",
              "      <td>...</td>\n",
              "      <td>...</td>\n",
              "      <td>...</td>\n",
              "      <td>...</td>\n",
              "    </tr>\n",
              "    <tr>\n",
              "      <th>244120</th>\n",
              "      <td>MainScreenAppear</td>\n",
              "      <td>5746969938801999050</td>\n",
              "      <td>2019-08-07 21:12:11</td>\n",
              "      <td>246</td>\n",
              "      <td>2019-08-07</td>\n",
              "    </tr>\n",
              "    <tr>\n",
              "      <th>244122</th>\n",
              "      <td>MainScreenAppear</td>\n",
              "      <td>5849806612437486590</td>\n",
              "      <td>2019-08-07 21:13:59</td>\n",
              "      <td>246</td>\n",
              "      <td>2019-08-07</td>\n",
              "    </tr>\n",
              "    <tr>\n",
              "      <th>244123</th>\n",
              "      <td>MainScreenAppear</td>\n",
              "      <td>5746969938801999050</td>\n",
              "      <td>2019-08-07 21:14:43</td>\n",
              "      <td>246</td>\n",
              "      <td>2019-08-07</td>\n",
              "    </tr>\n",
              "    <tr>\n",
              "      <th>244124</th>\n",
              "      <td>MainScreenAppear</td>\n",
              "      <td>5746969938801999050</td>\n",
              "      <td>2019-08-07 21:14:58</td>\n",
              "      <td>246</td>\n",
              "      <td>2019-08-07</td>\n",
              "    </tr>\n",
              "    <tr>\n",
              "      <th>244125</th>\n",
              "      <td>OffersScreenAppear</td>\n",
              "      <td>5746969938801999050</td>\n",
              "      <td>2019-08-07 21:15:17</td>\n",
              "      <td>246</td>\n",
              "      <td>2019-08-07</td>\n",
              "    </tr>\n",
              "  </tbody>\n",
              "</table>\n",
              "<p>79302 rows × 5 columns</p>\n",
              "</div>\n",
              "      <button class=\"colab-df-convert\" onclick=\"convertToInteractive('df-9774897a-a2be-42bc-b9d2-b6d3c28b02c8')\"\n",
              "              title=\"Convert this dataframe to an interactive table.\"\n",
              "              style=\"display:none;\">\n",
              "        \n",
              "  <svg xmlns=\"http://www.w3.org/2000/svg\" height=\"24px\"viewBox=\"0 0 24 24\"\n",
              "       width=\"24px\">\n",
              "    <path d=\"M0 0h24v24H0V0z\" fill=\"none\"/>\n",
              "    <path d=\"M18.56 5.44l.94 2.06.94-2.06 2.06-.94-2.06-.94-.94-2.06-.94 2.06-2.06.94zm-11 1L8.5 8.5l.94-2.06 2.06-.94-2.06-.94L8.5 2.5l-.94 2.06-2.06.94zm10 10l.94 2.06.94-2.06 2.06-.94-2.06-.94-.94-2.06-.94 2.06-2.06.94z\"/><path d=\"M17.41 7.96l-1.37-1.37c-.4-.4-.92-.59-1.43-.59-.52 0-1.04.2-1.43.59L10.3 9.45l-7.72 7.72c-.78.78-.78 2.05 0 2.83L4 21.41c.39.39.9.59 1.41.59.51 0 1.02-.2 1.41-.59l7.78-7.78 2.81-2.81c.8-.78.8-2.07 0-2.86zM5.41 20L4 18.59l7.72-7.72 1.47 1.35L5.41 20z\"/>\n",
              "  </svg>\n",
              "      </button>\n",
              "      \n",
              "  <style>\n",
              "    .colab-df-container {\n",
              "      display:flex;\n",
              "      flex-wrap:wrap;\n",
              "      gap: 12px;\n",
              "    }\n",
              "\n",
              "    .colab-df-convert {\n",
              "      background-color: #E8F0FE;\n",
              "      border: none;\n",
              "      border-radius: 50%;\n",
              "      cursor: pointer;\n",
              "      display: none;\n",
              "      fill: #1967D2;\n",
              "      height: 32px;\n",
              "      padding: 0 0 0 0;\n",
              "      width: 32px;\n",
              "    }\n",
              "\n",
              "    .colab-df-convert:hover {\n",
              "      background-color: #E2EBFA;\n",
              "      box-shadow: 0px 1px 2px rgba(60, 64, 67, 0.3), 0px 1px 3px 1px rgba(60, 64, 67, 0.15);\n",
              "      fill: #174EA6;\n",
              "    }\n",
              "\n",
              "    [theme=dark] .colab-df-convert {\n",
              "      background-color: #3B4455;\n",
              "      fill: #D2E3FC;\n",
              "    }\n",
              "\n",
              "    [theme=dark] .colab-df-convert:hover {\n",
              "      background-color: #434B5C;\n",
              "      box-shadow: 0px 1px 3px 1px rgba(0, 0, 0, 0.15);\n",
              "      filter: drop-shadow(0px 1px 2px rgba(0, 0, 0, 0.3));\n",
              "      fill: #FFFFFF;\n",
              "    }\n",
              "  </style>\n",
              "\n",
              "      <script>\n",
              "        const buttonEl =\n",
              "          document.querySelector('#df-9774897a-a2be-42bc-b9d2-b6d3c28b02c8 button.colab-df-convert');\n",
              "        buttonEl.style.display =\n",
              "          google.colab.kernel.accessAllowed ? 'block' : 'none';\n",
              "\n",
              "        async function convertToInteractive(key) {\n",
              "          const element = document.querySelector('#df-9774897a-a2be-42bc-b9d2-b6d3c28b02c8');\n",
              "          const dataTable =\n",
              "            await google.colab.kernel.invokeFunction('convertToInteractive',\n",
              "                                                     [key], {});\n",
              "          if (!dataTable) return;\n",
              "\n",
              "          const docLinkHtml = 'Like what you see? Visit the ' +\n",
              "            '<a target=\"_blank\" href=https://colab.research.google.com/notebooks/data_table.ipynb>data table notebook</a>'\n",
              "            + ' to learn more about interactive tables.';\n",
              "          element.innerHTML = '';\n",
              "          dataTable['output_type'] = 'display_data';\n",
              "          await google.colab.output.renderOutput(dataTable, element);\n",
              "          const docLink = document.createElement('div');\n",
              "          docLink.innerHTML = docLinkHtml;\n",
              "          element.appendChild(docLink);\n",
              "        }\n",
              "      </script>\n",
              "    </div>\n",
              "  </div>\n",
              "  "
            ],
            "text/plain": [
              "                     event              user_id  ... expld       date\n",
              "2828              Tutorial  3737462046622621720  ...   246 2019-08-01\n",
              "2829      MainScreenAppear  3737462046622621720  ...   246 2019-08-01\n",
              "2830      MainScreenAppear  3737462046622621720  ...   246 2019-08-01\n",
              "2831    OffersScreenAppear  3737462046622621720  ...   246 2019-08-01\n",
              "2834    OffersScreenAppear  3737462046622621720  ...   246 2019-08-01\n",
              "...                    ...                  ...  ...   ...        ...\n",
              "244120    MainScreenAppear  5746969938801999050  ...   246 2019-08-07\n",
              "244122    MainScreenAppear  5849806612437486590  ...   246 2019-08-07\n",
              "244123    MainScreenAppear  5746969938801999050  ...   246 2019-08-07\n",
              "244124    MainScreenAppear  5746969938801999050  ...   246 2019-08-07\n",
              "244125  OffersScreenAppear  5746969938801999050  ...   246 2019-08-07\n",
              "\n",
              "[79302 rows x 5 columns]"
            ]
          },
          "metadata": {},
          "execution_count": 121
        }
      ],
      "source": [
        "users_246"
      ]
    },
    {
      "cell_type": "code",
      "execution_count": 122,
      "metadata": {
        "id": "n7tY9xuHssC4",
        "outputId": "64379bb3-63dd-48df-f362-74afe96c5478",
        "colab": {
          "base_uri": "https://localhost:8080/"
        }
      },
      "outputs": [
        {
          "output_type": "stream",
          "name": "stdout",
          "text": [
            "<class 'pandas.core.frame.DataFrame'>\n",
            "Int64Index: 79302 entries, 2828 to 244125\n",
            "Data columns (total 5 columns):\n",
            " #   Column    Non-Null Count  Dtype         \n",
            "---  ------    --------------  -----         \n",
            " 0   event     79302 non-null  object        \n",
            " 1   user_id   79302 non-null  int64         \n",
            " 2   datetime  79302 non-null  datetime64[ns]\n",
            " 3   expld     79302 non-null  int64         \n",
            " 4   date      79302 non-null  datetime64[ns]\n",
            "dtypes: datetime64[ns](2), int64(2), object(1)\n",
            "memory usage: 3.6+ MB\n"
          ]
        }
      ],
      "source": [
        "users_246.info()"
      ]
    },
    {
      "cell_type": "code",
      "execution_count": 123,
      "metadata": {
        "id": "x3fHTyN3ssC4"
      },
      "outputs": [],
      "source": [
        "users_247 = logs.query('(expld == 247)')\n",
        "#users_247 = users_247['user_id'].nunique()"
      ]
    },
    {
      "cell_type": "code",
      "execution_count": 124,
      "metadata": {
        "id": "Rjhcne4sssC4",
        "outputId": "12d2287b-ed61-46b7-a294-b96e32e265a2",
        "colab": {
          "base_uri": "https://localhost:8080/",
          "height": 424
        }
      },
      "outputs": [
        {
          "output_type": "execute_result",
          "data": {
            "text/html": [
              "\n",
              "  <div id=\"df-000dfe38-de56-46d4-84eb-5f2355c17287\">\n",
              "    <div class=\"colab-df-container\">\n",
              "      <div>\n",
              "<style scoped>\n",
              "    .dataframe tbody tr th:only-of-type {\n",
              "        vertical-align: middle;\n",
              "    }\n",
              "\n",
              "    .dataframe tbody tr th {\n",
              "        vertical-align: top;\n",
              "    }\n",
              "\n",
              "    .dataframe thead th {\n",
              "        text-align: right;\n",
              "    }\n",
              "</style>\n",
              "<table border=\"1\" class=\"dataframe\">\n",
              "  <thead>\n",
              "    <tr style=\"text-align: right;\">\n",
              "      <th></th>\n",
              "      <th>event</th>\n",
              "      <th>user_id</th>\n",
              "      <th>datetime</th>\n",
              "      <th>expld</th>\n",
              "      <th>date</th>\n",
              "    </tr>\n",
              "  </thead>\n",
              "  <tbody>\n",
              "    <tr>\n",
              "      <th>2832</th>\n",
              "      <td>MainScreenAppear</td>\n",
              "      <td>1433840883824088890</td>\n",
              "      <td>2019-08-01 00:08:59</td>\n",
              "      <td>247</td>\n",
              "      <td>2019-08-01</td>\n",
              "    </tr>\n",
              "    <tr>\n",
              "      <th>2833</th>\n",
              "      <td>MainScreenAppear</td>\n",
              "      <td>4899590676214355127</td>\n",
              "      <td>2019-08-01 00:10:15</td>\n",
              "      <td>247</td>\n",
              "      <td>2019-08-01</td>\n",
              "    </tr>\n",
              "    <tr>\n",
              "      <th>2838</th>\n",
              "      <td>MainScreenAppear</td>\n",
              "      <td>4899590676214355127</td>\n",
              "      <td>2019-08-01 00:11:28</td>\n",
              "      <td>247</td>\n",
              "      <td>2019-08-01</td>\n",
              "    </tr>\n",
              "    <tr>\n",
              "      <th>2839</th>\n",
              "      <td>OffersScreenAppear</td>\n",
              "      <td>4899590676214355127</td>\n",
              "      <td>2019-08-01 00:11:30</td>\n",
              "      <td>247</td>\n",
              "      <td>2019-08-01</td>\n",
              "    </tr>\n",
              "    <tr>\n",
              "      <th>2843</th>\n",
              "      <td>OffersScreenAppear</td>\n",
              "      <td>4899590676214355127</td>\n",
              "      <td>2019-08-01 00:12:36</td>\n",
              "      <td>247</td>\n",
              "      <td>2019-08-01</td>\n",
              "    </tr>\n",
              "    <tr>\n",
              "      <th>...</th>\n",
              "      <td>...</td>\n",
              "      <td>...</td>\n",
              "      <td>...</td>\n",
              "      <td>...</td>\n",
              "      <td>...</td>\n",
              "    </tr>\n",
              "    <tr>\n",
              "      <th>244088</th>\n",
              "      <td>MainScreenAppear</td>\n",
              "      <td>2300292234025330845</td>\n",
              "      <td>2019-08-07 21:05:37</td>\n",
              "      <td>247</td>\n",
              "      <td>2019-08-07</td>\n",
              "    </tr>\n",
              "    <tr>\n",
              "      <th>244089</th>\n",
              "      <td>OffersScreenAppear</td>\n",
              "      <td>2300292234025330845</td>\n",
              "      <td>2019-08-07 21:05:43</td>\n",
              "      <td>247</td>\n",
              "      <td>2019-08-07</td>\n",
              "    </tr>\n",
              "    <tr>\n",
              "      <th>244090</th>\n",
              "      <td>OffersScreenAppear</td>\n",
              "      <td>2300292234025330845</td>\n",
              "      <td>2019-08-07 21:05:54</td>\n",
              "      <td>247</td>\n",
              "      <td>2019-08-07</td>\n",
              "    </tr>\n",
              "    <tr>\n",
              "      <th>244091</th>\n",
              "      <td>MainScreenAppear</td>\n",
              "      <td>2300292234025330845</td>\n",
              "      <td>2019-08-07 21:05:57</td>\n",
              "      <td>247</td>\n",
              "      <td>2019-08-07</td>\n",
              "    </tr>\n",
              "    <tr>\n",
              "      <th>244121</th>\n",
              "      <td>MainScreenAppear</td>\n",
              "      <td>4599628364049201812</td>\n",
              "      <td>2019-08-07 21:12:25</td>\n",
              "      <td>247</td>\n",
              "      <td>2019-08-07</td>\n",
              "    </tr>\n",
              "  </tbody>\n",
              "</table>\n",
              "<p>77022 rows × 5 columns</p>\n",
              "</div>\n",
              "      <button class=\"colab-df-convert\" onclick=\"convertToInteractive('df-000dfe38-de56-46d4-84eb-5f2355c17287')\"\n",
              "              title=\"Convert this dataframe to an interactive table.\"\n",
              "              style=\"display:none;\">\n",
              "        \n",
              "  <svg xmlns=\"http://www.w3.org/2000/svg\" height=\"24px\"viewBox=\"0 0 24 24\"\n",
              "       width=\"24px\">\n",
              "    <path d=\"M0 0h24v24H0V0z\" fill=\"none\"/>\n",
              "    <path d=\"M18.56 5.44l.94 2.06.94-2.06 2.06-.94-2.06-.94-.94-2.06-.94 2.06-2.06.94zm-11 1L8.5 8.5l.94-2.06 2.06-.94-2.06-.94L8.5 2.5l-.94 2.06-2.06.94zm10 10l.94 2.06.94-2.06 2.06-.94-2.06-.94-.94-2.06-.94 2.06-2.06.94z\"/><path d=\"M17.41 7.96l-1.37-1.37c-.4-.4-.92-.59-1.43-.59-.52 0-1.04.2-1.43.59L10.3 9.45l-7.72 7.72c-.78.78-.78 2.05 0 2.83L4 21.41c.39.39.9.59 1.41.59.51 0 1.02-.2 1.41-.59l7.78-7.78 2.81-2.81c.8-.78.8-2.07 0-2.86zM5.41 20L4 18.59l7.72-7.72 1.47 1.35L5.41 20z\"/>\n",
              "  </svg>\n",
              "      </button>\n",
              "      \n",
              "  <style>\n",
              "    .colab-df-container {\n",
              "      display:flex;\n",
              "      flex-wrap:wrap;\n",
              "      gap: 12px;\n",
              "    }\n",
              "\n",
              "    .colab-df-convert {\n",
              "      background-color: #E8F0FE;\n",
              "      border: none;\n",
              "      border-radius: 50%;\n",
              "      cursor: pointer;\n",
              "      display: none;\n",
              "      fill: #1967D2;\n",
              "      height: 32px;\n",
              "      padding: 0 0 0 0;\n",
              "      width: 32px;\n",
              "    }\n",
              "\n",
              "    .colab-df-convert:hover {\n",
              "      background-color: #E2EBFA;\n",
              "      box-shadow: 0px 1px 2px rgba(60, 64, 67, 0.3), 0px 1px 3px 1px rgba(60, 64, 67, 0.15);\n",
              "      fill: #174EA6;\n",
              "    }\n",
              "\n",
              "    [theme=dark] .colab-df-convert {\n",
              "      background-color: #3B4455;\n",
              "      fill: #D2E3FC;\n",
              "    }\n",
              "\n",
              "    [theme=dark] .colab-df-convert:hover {\n",
              "      background-color: #434B5C;\n",
              "      box-shadow: 0px 1px 3px 1px rgba(0, 0, 0, 0.15);\n",
              "      filter: drop-shadow(0px 1px 2px rgba(0, 0, 0, 0.3));\n",
              "      fill: #FFFFFF;\n",
              "    }\n",
              "  </style>\n",
              "\n",
              "      <script>\n",
              "        const buttonEl =\n",
              "          document.querySelector('#df-000dfe38-de56-46d4-84eb-5f2355c17287 button.colab-df-convert');\n",
              "        buttonEl.style.display =\n",
              "          google.colab.kernel.accessAllowed ? 'block' : 'none';\n",
              "\n",
              "        async function convertToInteractive(key) {\n",
              "          const element = document.querySelector('#df-000dfe38-de56-46d4-84eb-5f2355c17287');\n",
              "          const dataTable =\n",
              "            await google.colab.kernel.invokeFunction('convertToInteractive',\n",
              "                                                     [key], {});\n",
              "          if (!dataTable) return;\n",
              "\n",
              "          const docLinkHtml = 'Like what you see? Visit the ' +\n",
              "            '<a target=\"_blank\" href=https://colab.research.google.com/notebooks/data_table.ipynb>data table notebook</a>'\n",
              "            + ' to learn more about interactive tables.';\n",
              "          element.innerHTML = '';\n",
              "          dataTable['output_type'] = 'display_data';\n",
              "          await google.colab.output.renderOutput(dataTable, element);\n",
              "          const docLink = document.createElement('div');\n",
              "          docLink.innerHTML = docLinkHtml;\n",
              "          element.appendChild(docLink);\n",
              "        }\n",
              "      </script>\n",
              "    </div>\n",
              "  </div>\n",
              "  "
            ],
            "text/plain": [
              "                     event              user_id  ... expld       date\n",
              "2832      MainScreenAppear  1433840883824088890  ...   247 2019-08-01\n",
              "2833      MainScreenAppear  4899590676214355127  ...   247 2019-08-01\n",
              "2838      MainScreenAppear  4899590676214355127  ...   247 2019-08-01\n",
              "2839    OffersScreenAppear  4899590676214355127  ...   247 2019-08-01\n",
              "2843    OffersScreenAppear  4899590676214355127  ...   247 2019-08-01\n",
              "...                    ...                  ...  ...   ...        ...\n",
              "244088    MainScreenAppear  2300292234025330845  ...   247 2019-08-07\n",
              "244089  OffersScreenAppear  2300292234025330845  ...   247 2019-08-07\n",
              "244090  OffersScreenAppear  2300292234025330845  ...   247 2019-08-07\n",
              "244091    MainScreenAppear  2300292234025330845  ...   247 2019-08-07\n",
              "244121    MainScreenAppear  4599628364049201812  ...   247 2019-08-07\n",
              "\n",
              "[77022 rows x 5 columns]"
            ]
          },
          "metadata": {},
          "execution_count": 124
        }
      ],
      "source": [
        "users_247"
      ]
    },
    {
      "cell_type": "code",
      "execution_count": 125,
      "metadata": {
        "id": "3C9DB8aVssC5"
      },
      "outputs": [],
      "source": [
        "users_248 = logs.query('(expld == 248)')\n",
        "#users_248 = users_248['user_id'].nunique()"
      ]
    },
    {
      "cell_type": "code",
      "execution_count": 126,
      "metadata": {
        "scrolled": true,
        "id": "O7Kz2wuCssC5",
        "outputId": "22a53c38-f0be-4788-ae08-e212b5c9b8a6",
        "colab": {
          "base_uri": "https://localhost:8080/",
          "height": 424
        }
      },
      "outputs": [
        {
          "output_type": "execute_result",
          "data": {
            "text/html": [
              "\n",
              "  <div id=\"df-0fddab73-e155-4f40-9a3e-5d2511649e59\">\n",
              "    <div class=\"colab-df-container\">\n",
              "      <div>\n",
              "<style scoped>\n",
              "    .dataframe tbody tr th:only-of-type {\n",
              "        vertical-align: middle;\n",
              "    }\n",
              "\n",
              "    .dataframe tbody tr th {\n",
              "        vertical-align: top;\n",
              "    }\n",
              "\n",
              "    .dataframe thead th {\n",
              "        text-align: right;\n",
              "    }\n",
              "</style>\n",
              "<table border=\"1\" class=\"dataframe\">\n",
              "  <thead>\n",
              "    <tr style=\"text-align: right;\">\n",
              "      <th></th>\n",
              "      <th>event</th>\n",
              "      <th>user_id</th>\n",
              "      <th>datetime</th>\n",
              "      <th>expld</th>\n",
              "      <th>date</th>\n",
              "    </tr>\n",
              "  </thead>\n",
              "  <tbody>\n",
              "    <tr>\n",
              "      <th>2844</th>\n",
              "      <td>MainScreenAppear</td>\n",
              "      <td>4613461174774205834</td>\n",
              "      <td>2019-08-01 00:14:31</td>\n",
              "      <td>248</td>\n",
              "      <td>2019-08-01</td>\n",
              "    </tr>\n",
              "    <tr>\n",
              "      <th>2845</th>\n",
              "      <td>MainScreenAppear</td>\n",
              "      <td>4613461174774205834</td>\n",
              "      <td>2019-08-01 00:14:34</td>\n",
              "      <td>248</td>\n",
              "      <td>2019-08-01</td>\n",
              "    </tr>\n",
              "    <tr>\n",
              "      <th>2846</th>\n",
              "      <td>CartScreenAppear</td>\n",
              "      <td>4613461174774205834</td>\n",
              "      <td>2019-08-01 00:14:34</td>\n",
              "      <td>248</td>\n",
              "      <td>2019-08-01</td>\n",
              "    </tr>\n",
              "    <tr>\n",
              "      <th>2847</th>\n",
              "      <td>PaymentScreenSuccessful</td>\n",
              "      <td>4613461174774205834</td>\n",
              "      <td>2019-08-01 00:14:43</td>\n",
              "      <td>248</td>\n",
              "      <td>2019-08-01</td>\n",
              "    </tr>\n",
              "    <tr>\n",
              "      <th>2848</th>\n",
              "      <td>OffersScreenAppear</td>\n",
              "      <td>4613461174774205834</td>\n",
              "      <td>2019-08-01 00:14:51</td>\n",
              "      <td>248</td>\n",
              "      <td>2019-08-01</td>\n",
              "    </tr>\n",
              "    <tr>\n",
              "      <th>...</th>\n",
              "      <td>...</td>\n",
              "      <td>...</td>\n",
              "      <td>...</td>\n",
              "      <td>...</td>\n",
              "      <td>...</td>\n",
              "    </tr>\n",
              "    <tr>\n",
              "      <th>244082</th>\n",
              "      <td>MainScreenAppear</td>\n",
              "      <td>8249271441488197538</td>\n",
              "      <td>2019-08-07 21:03:33</td>\n",
              "      <td>248</td>\n",
              "      <td>2019-08-07</td>\n",
              "    </tr>\n",
              "    <tr>\n",
              "      <th>244084</th>\n",
              "      <td>OffersScreenAppear</td>\n",
              "      <td>8249271441488197538</td>\n",
              "      <td>2019-08-07 21:03:43</td>\n",
              "      <td>248</td>\n",
              "      <td>2019-08-07</td>\n",
              "    </tr>\n",
              "    <tr>\n",
              "      <th>244109</th>\n",
              "      <td>MainScreenAppear</td>\n",
              "      <td>5317814261427487562</td>\n",
              "      <td>2019-08-07 21:09:22</td>\n",
              "      <td>248</td>\n",
              "      <td>2019-08-07</td>\n",
              "    </tr>\n",
              "    <tr>\n",
              "      <th>244110</th>\n",
              "      <td>OffersScreenAppear</td>\n",
              "      <td>5317814261427487562</td>\n",
              "      <td>2019-08-07 21:09:27</td>\n",
              "      <td>248</td>\n",
              "      <td>2019-08-07</td>\n",
              "    </tr>\n",
              "    <tr>\n",
              "      <th>244115</th>\n",
              "      <td>OffersScreenAppear</td>\n",
              "      <td>5317814261427487562</td>\n",
              "      <td>2019-08-07 21:10:08</td>\n",
              "      <td>248</td>\n",
              "      <td>2019-08-07</td>\n",
              "    </tr>\n",
              "  </tbody>\n",
              "</table>\n",
              "<p>84563 rows × 5 columns</p>\n",
              "</div>\n",
              "      <button class=\"colab-df-convert\" onclick=\"convertToInteractive('df-0fddab73-e155-4f40-9a3e-5d2511649e59')\"\n",
              "              title=\"Convert this dataframe to an interactive table.\"\n",
              "              style=\"display:none;\">\n",
              "        \n",
              "  <svg xmlns=\"http://www.w3.org/2000/svg\" height=\"24px\"viewBox=\"0 0 24 24\"\n",
              "       width=\"24px\">\n",
              "    <path d=\"M0 0h24v24H0V0z\" fill=\"none\"/>\n",
              "    <path d=\"M18.56 5.44l.94 2.06.94-2.06 2.06-.94-2.06-.94-.94-2.06-.94 2.06-2.06.94zm-11 1L8.5 8.5l.94-2.06 2.06-.94-2.06-.94L8.5 2.5l-.94 2.06-2.06.94zm10 10l.94 2.06.94-2.06 2.06-.94-2.06-.94-.94-2.06-.94 2.06-2.06.94z\"/><path d=\"M17.41 7.96l-1.37-1.37c-.4-.4-.92-.59-1.43-.59-.52 0-1.04.2-1.43.59L10.3 9.45l-7.72 7.72c-.78.78-.78 2.05 0 2.83L4 21.41c.39.39.9.59 1.41.59.51 0 1.02-.2 1.41-.59l7.78-7.78 2.81-2.81c.8-.78.8-2.07 0-2.86zM5.41 20L4 18.59l7.72-7.72 1.47 1.35L5.41 20z\"/>\n",
              "  </svg>\n",
              "      </button>\n",
              "      \n",
              "  <style>\n",
              "    .colab-df-container {\n",
              "      display:flex;\n",
              "      flex-wrap:wrap;\n",
              "      gap: 12px;\n",
              "    }\n",
              "\n",
              "    .colab-df-convert {\n",
              "      background-color: #E8F0FE;\n",
              "      border: none;\n",
              "      border-radius: 50%;\n",
              "      cursor: pointer;\n",
              "      display: none;\n",
              "      fill: #1967D2;\n",
              "      height: 32px;\n",
              "      padding: 0 0 0 0;\n",
              "      width: 32px;\n",
              "    }\n",
              "\n",
              "    .colab-df-convert:hover {\n",
              "      background-color: #E2EBFA;\n",
              "      box-shadow: 0px 1px 2px rgba(60, 64, 67, 0.3), 0px 1px 3px 1px rgba(60, 64, 67, 0.15);\n",
              "      fill: #174EA6;\n",
              "    }\n",
              "\n",
              "    [theme=dark] .colab-df-convert {\n",
              "      background-color: #3B4455;\n",
              "      fill: #D2E3FC;\n",
              "    }\n",
              "\n",
              "    [theme=dark] .colab-df-convert:hover {\n",
              "      background-color: #434B5C;\n",
              "      box-shadow: 0px 1px 3px 1px rgba(0, 0, 0, 0.15);\n",
              "      filter: drop-shadow(0px 1px 2px rgba(0, 0, 0, 0.3));\n",
              "      fill: #FFFFFF;\n",
              "    }\n",
              "  </style>\n",
              "\n",
              "      <script>\n",
              "        const buttonEl =\n",
              "          document.querySelector('#df-0fddab73-e155-4f40-9a3e-5d2511649e59 button.colab-df-convert');\n",
              "        buttonEl.style.display =\n",
              "          google.colab.kernel.accessAllowed ? 'block' : 'none';\n",
              "\n",
              "        async function convertToInteractive(key) {\n",
              "          const element = document.querySelector('#df-0fddab73-e155-4f40-9a3e-5d2511649e59');\n",
              "          const dataTable =\n",
              "            await google.colab.kernel.invokeFunction('convertToInteractive',\n",
              "                                                     [key], {});\n",
              "          if (!dataTable) return;\n",
              "\n",
              "          const docLinkHtml = 'Like what you see? Visit the ' +\n",
              "            '<a target=\"_blank\" href=https://colab.research.google.com/notebooks/data_table.ipynb>data table notebook</a>'\n",
              "            + ' to learn more about interactive tables.';\n",
              "          element.innerHTML = '';\n",
              "          dataTable['output_type'] = 'display_data';\n",
              "          await google.colab.output.renderOutput(dataTable, element);\n",
              "          const docLink = document.createElement('div');\n",
              "          docLink.innerHTML = docLinkHtml;\n",
              "          element.appendChild(docLink);\n",
              "        }\n",
              "      </script>\n",
              "    </div>\n",
              "  </div>\n",
              "  "
            ],
            "text/plain": [
              "                          event              user_id  ... expld       date\n",
              "2844           MainScreenAppear  4613461174774205834  ...   248 2019-08-01\n",
              "2845           MainScreenAppear  4613461174774205834  ...   248 2019-08-01\n",
              "2846           CartScreenAppear  4613461174774205834  ...   248 2019-08-01\n",
              "2847    PaymentScreenSuccessful  4613461174774205834  ...   248 2019-08-01\n",
              "2848         OffersScreenAppear  4613461174774205834  ...   248 2019-08-01\n",
              "...                         ...                  ...  ...   ...        ...\n",
              "244082         MainScreenAppear  8249271441488197538  ...   248 2019-08-07\n",
              "244084       OffersScreenAppear  8249271441488197538  ...   248 2019-08-07\n",
              "244109         MainScreenAppear  5317814261427487562  ...   248 2019-08-07\n",
              "244110       OffersScreenAppear  5317814261427487562  ...   248 2019-08-07\n",
              "244115       OffersScreenAppear  5317814261427487562  ...   248 2019-08-07\n",
              "\n",
              "[84563 rows x 5 columns]"
            ]
          },
          "metadata": {},
          "execution_count": 126
        }
      ],
      "source": [
        "users_248"
      ]
    },
    {
      "cell_type": "code",
      "execution_count": 127,
      "metadata": {
        "id": "henaayV-ssC5",
        "outputId": "07aac9f2-51bb-4e63-9845-82e97d6ea227",
        "colab": {
          "base_uri": "https://localhost:8080/"
        }
      },
      "outputs": [
        {
          "output_type": "stream",
          "name": "stdout",
          "text": [
            "в группе 246 всего пользователей: 2484\n",
            "в группе 247 всего пользователей: 2513\n",
            "в группе 248 всего пользователей: 2537\n"
          ]
        }
      ],
      "source": [
        "print('в группе 246 всего пользователей:',users_246['user_id'].nunique() )  \n",
        "   \n",
        "print('в группе 247 всего пользователей:',users_247['user_id'].nunique())\n",
        "       \n",
        "print('в группе 248 всего пользователей:',users_248['user_id'].nunique() )\n"
      ]
    },
    {
      "cell_type": "markdown",
      "metadata": {
        "id": "61z4c_PessC5"
      },
      "source": [
        "Есть 2 контрольные группы для А/А-эксперимента, чтобы проверить корректность всех механизмов и расчётов. Проверьте, находят ли статистические критерии разницу между выборками 246 и 247."
      ]
    },
    {
      "cell_type": "code",
      "execution_count": 128,
      "metadata": {
        "id": "EQAoZn0JssC5"
      },
      "outputs": [],
      "source": [
        "group_248 = users_248.groupby('event').agg({'user_id':'nunique'}).sort_values(by='user_id', ascending=False).reset_index()"
      ]
    },
    {
      "cell_type": "code",
      "execution_count": 129,
      "metadata": {
        "id": "fF9KLWp4ssC6"
      },
      "outputs": [],
      "source": [
        "group_248.set_axis(['event', 'users_248'], axis=1, inplace=True)"
      ]
    },
    {
      "cell_type": "code",
      "execution_count": 130,
      "metadata": {
        "id": "Oma3pwcassC6",
        "outputId": "03837aea-c93a-464d-d6ba-029db708c4e0",
        "colab": {
          "base_uri": "https://localhost:8080/",
          "height": 206
        }
      },
      "outputs": [
        {
          "output_type": "execute_result",
          "data": {
            "text/html": [
              "\n",
              "  <div id=\"df-3d6139d1-2cf6-4d15-a301-1c25d3e1394f\">\n",
              "    <div class=\"colab-df-container\">\n",
              "      <div>\n",
              "<style scoped>\n",
              "    .dataframe tbody tr th:only-of-type {\n",
              "        vertical-align: middle;\n",
              "    }\n",
              "\n",
              "    .dataframe tbody tr th {\n",
              "        vertical-align: top;\n",
              "    }\n",
              "\n",
              "    .dataframe thead th {\n",
              "        text-align: right;\n",
              "    }\n",
              "</style>\n",
              "<table border=\"1\" class=\"dataframe\">\n",
              "  <thead>\n",
              "    <tr style=\"text-align: right;\">\n",
              "      <th></th>\n",
              "      <th>event</th>\n",
              "      <th>users_248</th>\n",
              "    </tr>\n",
              "  </thead>\n",
              "  <tbody>\n",
              "    <tr>\n",
              "      <th>0</th>\n",
              "      <td>MainScreenAppear</td>\n",
              "      <td>2493</td>\n",
              "    </tr>\n",
              "    <tr>\n",
              "      <th>1</th>\n",
              "      <td>OffersScreenAppear</td>\n",
              "      <td>1531</td>\n",
              "    </tr>\n",
              "    <tr>\n",
              "      <th>2</th>\n",
              "      <td>CartScreenAppear</td>\n",
              "      <td>1230</td>\n",
              "    </tr>\n",
              "    <tr>\n",
              "      <th>3</th>\n",
              "      <td>PaymentScreenSuccessful</td>\n",
              "      <td>1181</td>\n",
              "    </tr>\n",
              "    <tr>\n",
              "      <th>4</th>\n",
              "      <td>Tutorial</td>\n",
              "      <td>279</td>\n",
              "    </tr>\n",
              "  </tbody>\n",
              "</table>\n",
              "</div>\n",
              "      <button class=\"colab-df-convert\" onclick=\"convertToInteractive('df-3d6139d1-2cf6-4d15-a301-1c25d3e1394f')\"\n",
              "              title=\"Convert this dataframe to an interactive table.\"\n",
              "              style=\"display:none;\">\n",
              "        \n",
              "  <svg xmlns=\"http://www.w3.org/2000/svg\" height=\"24px\"viewBox=\"0 0 24 24\"\n",
              "       width=\"24px\">\n",
              "    <path d=\"M0 0h24v24H0V0z\" fill=\"none\"/>\n",
              "    <path d=\"M18.56 5.44l.94 2.06.94-2.06 2.06-.94-2.06-.94-.94-2.06-.94 2.06-2.06.94zm-11 1L8.5 8.5l.94-2.06 2.06-.94-2.06-.94L8.5 2.5l-.94 2.06-2.06.94zm10 10l.94 2.06.94-2.06 2.06-.94-2.06-.94-.94-2.06-.94 2.06-2.06.94z\"/><path d=\"M17.41 7.96l-1.37-1.37c-.4-.4-.92-.59-1.43-.59-.52 0-1.04.2-1.43.59L10.3 9.45l-7.72 7.72c-.78.78-.78 2.05 0 2.83L4 21.41c.39.39.9.59 1.41.59.51 0 1.02-.2 1.41-.59l7.78-7.78 2.81-2.81c.8-.78.8-2.07 0-2.86zM5.41 20L4 18.59l7.72-7.72 1.47 1.35L5.41 20z\"/>\n",
              "  </svg>\n",
              "      </button>\n",
              "      \n",
              "  <style>\n",
              "    .colab-df-container {\n",
              "      display:flex;\n",
              "      flex-wrap:wrap;\n",
              "      gap: 12px;\n",
              "    }\n",
              "\n",
              "    .colab-df-convert {\n",
              "      background-color: #E8F0FE;\n",
              "      border: none;\n",
              "      border-radius: 50%;\n",
              "      cursor: pointer;\n",
              "      display: none;\n",
              "      fill: #1967D2;\n",
              "      height: 32px;\n",
              "      padding: 0 0 0 0;\n",
              "      width: 32px;\n",
              "    }\n",
              "\n",
              "    .colab-df-convert:hover {\n",
              "      background-color: #E2EBFA;\n",
              "      box-shadow: 0px 1px 2px rgba(60, 64, 67, 0.3), 0px 1px 3px 1px rgba(60, 64, 67, 0.15);\n",
              "      fill: #174EA6;\n",
              "    }\n",
              "\n",
              "    [theme=dark] .colab-df-convert {\n",
              "      background-color: #3B4455;\n",
              "      fill: #D2E3FC;\n",
              "    }\n",
              "\n",
              "    [theme=dark] .colab-df-convert:hover {\n",
              "      background-color: #434B5C;\n",
              "      box-shadow: 0px 1px 3px 1px rgba(0, 0, 0, 0.15);\n",
              "      filter: drop-shadow(0px 1px 2px rgba(0, 0, 0, 0.3));\n",
              "      fill: #FFFFFF;\n",
              "    }\n",
              "  </style>\n",
              "\n",
              "      <script>\n",
              "        const buttonEl =\n",
              "          document.querySelector('#df-3d6139d1-2cf6-4d15-a301-1c25d3e1394f button.colab-df-convert');\n",
              "        buttonEl.style.display =\n",
              "          google.colab.kernel.accessAllowed ? 'block' : 'none';\n",
              "\n",
              "        async function convertToInteractive(key) {\n",
              "          const element = document.querySelector('#df-3d6139d1-2cf6-4d15-a301-1c25d3e1394f');\n",
              "          const dataTable =\n",
              "            await google.colab.kernel.invokeFunction('convertToInteractive',\n",
              "                                                     [key], {});\n",
              "          if (!dataTable) return;\n",
              "\n",
              "          const docLinkHtml = 'Like what you see? Visit the ' +\n",
              "            '<a target=\"_blank\" href=https://colab.research.google.com/notebooks/data_table.ipynb>data table notebook</a>'\n",
              "            + ' to learn more about interactive tables.';\n",
              "          element.innerHTML = '';\n",
              "          dataTable['output_type'] = 'display_data';\n",
              "          await google.colab.output.renderOutput(dataTable, element);\n",
              "          const docLink = document.createElement('div');\n",
              "          docLink.innerHTML = docLinkHtml;\n",
              "          element.appendChild(docLink);\n",
              "        }\n",
              "      </script>\n",
              "    </div>\n",
              "  </div>\n",
              "  "
            ],
            "text/plain": [
              "                     event  users_248\n",
              "0         MainScreenAppear       2493\n",
              "1       OffersScreenAppear       1531\n",
              "2         CartScreenAppear       1230\n",
              "3  PaymentScreenSuccessful       1181\n",
              "4                 Tutorial        279"
            ]
          },
          "metadata": {},
          "execution_count": 130
        }
      ],
      "source": [
        "group_248\n"
      ]
    },
    {
      "cell_type": "code",
      "execution_count": 131,
      "metadata": {
        "id": "HwDeaef8ssC6"
      },
      "outputs": [],
      "source": [
        "group_246 = users_246.groupby('event').agg({'user_id':'nunique'}).sort_values(by='user_id', ascending=False).reset_index()\n",
        "group_246.set_axis(['event', 'users_246'], axis=1, inplace=True)"
      ]
    },
    {
      "cell_type": "code",
      "execution_count": 132,
      "metadata": {
        "id": "UvN-_wRkssC6",
        "outputId": "996357e0-5dde-4e16-b0fb-4fa1bb40af0e",
        "colab": {
          "base_uri": "https://localhost:8080/",
          "height": 206
        }
      },
      "outputs": [
        {
          "output_type": "execute_result",
          "data": {
            "text/html": [
              "\n",
              "  <div id=\"df-a54dcc99-9327-4339-a97c-300cbb14cd30\">\n",
              "    <div class=\"colab-df-container\">\n",
              "      <div>\n",
              "<style scoped>\n",
              "    .dataframe tbody tr th:only-of-type {\n",
              "        vertical-align: middle;\n",
              "    }\n",
              "\n",
              "    .dataframe tbody tr th {\n",
              "        vertical-align: top;\n",
              "    }\n",
              "\n",
              "    .dataframe thead th {\n",
              "        text-align: right;\n",
              "    }\n",
              "</style>\n",
              "<table border=\"1\" class=\"dataframe\">\n",
              "  <thead>\n",
              "    <tr style=\"text-align: right;\">\n",
              "      <th></th>\n",
              "      <th>event</th>\n",
              "      <th>users_246</th>\n",
              "    </tr>\n",
              "  </thead>\n",
              "  <tbody>\n",
              "    <tr>\n",
              "      <th>0</th>\n",
              "      <td>MainScreenAppear</td>\n",
              "      <td>2450</td>\n",
              "    </tr>\n",
              "    <tr>\n",
              "      <th>1</th>\n",
              "      <td>OffersScreenAppear</td>\n",
              "      <td>1542</td>\n",
              "    </tr>\n",
              "    <tr>\n",
              "      <th>2</th>\n",
              "      <td>CartScreenAppear</td>\n",
              "      <td>1266</td>\n",
              "    </tr>\n",
              "    <tr>\n",
              "      <th>3</th>\n",
              "      <td>PaymentScreenSuccessful</td>\n",
              "      <td>1200</td>\n",
              "    </tr>\n",
              "    <tr>\n",
              "      <th>4</th>\n",
              "      <td>Tutorial</td>\n",
              "      <td>278</td>\n",
              "    </tr>\n",
              "  </tbody>\n",
              "</table>\n",
              "</div>\n",
              "      <button class=\"colab-df-convert\" onclick=\"convertToInteractive('df-a54dcc99-9327-4339-a97c-300cbb14cd30')\"\n",
              "              title=\"Convert this dataframe to an interactive table.\"\n",
              "              style=\"display:none;\">\n",
              "        \n",
              "  <svg xmlns=\"http://www.w3.org/2000/svg\" height=\"24px\"viewBox=\"0 0 24 24\"\n",
              "       width=\"24px\">\n",
              "    <path d=\"M0 0h24v24H0V0z\" fill=\"none\"/>\n",
              "    <path d=\"M18.56 5.44l.94 2.06.94-2.06 2.06-.94-2.06-.94-.94-2.06-.94 2.06-2.06.94zm-11 1L8.5 8.5l.94-2.06 2.06-.94-2.06-.94L8.5 2.5l-.94 2.06-2.06.94zm10 10l.94 2.06.94-2.06 2.06-.94-2.06-.94-.94-2.06-.94 2.06-2.06.94z\"/><path d=\"M17.41 7.96l-1.37-1.37c-.4-.4-.92-.59-1.43-.59-.52 0-1.04.2-1.43.59L10.3 9.45l-7.72 7.72c-.78.78-.78 2.05 0 2.83L4 21.41c.39.39.9.59 1.41.59.51 0 1.02-.2 1.41-.59l7.78-7.78 2.81-2.81c.8-.78.8-2.07 0-2.86zM5.41 20L4 18.59l7.72-7.72 1.47 1.35L5.41 20z\"/>\n",
              "  </svg>\n",
              "      </button>\n",
              "      \n",
              "  <style>\n",
              "    .colab-df-container {\n",
              "      display:flex;\n",
              "      flex-wrap:wrap;\n",
              "      gap: 12px;\n",
              "    }\n",
              "\n",
              "    .colab-df-convert {\n",
              "      background-color: #E8F0FE;\n",
              "      border: none;\n",
              "      border-radius: 50%;\n",
              "      cursor: pointer;\n",
              "      display: none;\n",
              "      fill: #1967D2;\n",
              "      height: 32px;\n",
              "      padding: 0 0 0 0;\n",
              "      width: 32px;\n",
              "    }\n",
              "\n",
              "    .colab-df-convert:hover {\n",
              "      background-color: #E2EBFA;\n",
              "      box-shadow: 0px 1px 2px rgba(60, 64, 67, 0.3), 0px 1px 3px 1px rgba(60, 64, 67, 0.15);\n",
              "      fill: #174EA6;\n",
              "    }\n",
              "\n",
              "    [theme=dark] .colab-df-convert {\n",
              "      background-color: #3B4455;\n",
              "      fill: #D2E3FC;\n",
              "    }\n",
              "\n",
              "    [theme=dark] .colab-df-convert:hover {\n",
              "      background-color: #434B5C;\n",
              "      box-shadow: 0px 1px 3px 1px rgba(0, 0, 0, 0.15);\n",
              "      filter: drop-shadow(0px 1px 2px rgba(0, 0, 0, 0.3));\n",
              "      fill: #FFFFFF;\n",
              "    }\n",
              "  </style>\n",
              "\n",
              "      <script>\n",
              "        const buttonEl =\n",
              "          document.querySelector('#df-a54dcc99-9327-4339-a97c-300cbb14cd30 button.colab-df-convert');\n",
              "        buttonEl.style.display =\n",
              "          google.colab.kernel.accessAllowed ? 'block' : 'none';\n",
              "\n",
              "        async function convertToInteractive(key) {\n",
              "          const element = document.querySelector('#df-a54dcc99-9327-4339-a97c-300cbb14cd30');\n",
              "          const dataTable =\n",
              "            await google.colab.kernel.invokeFunction('convertToInteractive',\n",
              "                                                     [key], {});\n",
              "          if (!dataTable) return;\n",
              "\n",
              "          const docLinkHtml = 'Like what you see? Visit the ' +\n",
              "            '<a target=\"_blank\" href=https://colab.research.google.com/notebooks/data_table.ipynb>data table notebook</a>'\n",
              "            + ' to learn more about interactive tables.';\n",
              "          element.innerHTML = '';\n",
              "          dataTable['output_type'] = 'display_data';\n",
              "          await google.colab.output.renderOutput(dataTable, element);\n",
              "          const docLink = document.createElement('div');\n",
              "          docLink.innerHTML = docLinkHtml;\n",
              "          element.appendChild(docLink);\n",
              "        }\n",
              "      </script>\n",
              "    </div>\n",
              "  </div>\n",
              "  "
            ],
            "text/plain": [
              "                     event  users_246\n",
              "0         MainScreenAppear       2450\n",
              "1       OffersScreenAppear       1542\n",
              "2         CartScreenAppear       1266\n",
              "3  PaymentScreenSuccessful       1200\n",
              "4                 Tutorial        278"
            ]
          },
          "metadata": {},
          "execution_count": 132
        }
      ],
      "source": [
        "group_246"
      ]
    },
    {
      "cell_type": "code",
      "execution_count": 133,
      "metadata": {
        "id": "VruWIeI3ssC6"
      },
      "outputs": [],
      "source": [
        "group_247 = users_247.groupby('event').agg({'user_id':'nunique'}).sort_values(by='user_id', ascending=False).reset_index()\n",
        "group_247.set_axis(['event', 'users_246'], axis=1, inplace=True)"
      ]
    },
    {
      "cell_type": "code",
      "execution_count": 134,
      "metadata": {
        "id": "Tmgt8bPMssC7",
        "outputId": "e2385260-f273-4f4c-e298-b100e613a514",
        "colab": {
          "base_uri": "https://localhost:8080/",
          "height": 206
        }
      },
      "outputs": [
        {
          "output_type": "execute_result",
          "data": {
            "text/html": [
              "\n",
              "  <div id=\"df-b3b15819-6c1b-4375-b18b-5badc3215ccb\">\n",
              "    <div class=\"colab-df-container\">\n",
              "      <div>\n",
              "<style scoped>\n",
              "    .dataframe tbody tr th:only-of-type {\n",
              "        vertical-align: middle;\n",
              "    }\n",
              "\n",
              "    .dataframe tbody tr th {\n",
              "        vertical-align: top;\n",
              "    }\n",
              "\n",
              "    .dataframe thead th {\n",
              "        text-align: right;\n",
              "    }\n",
              "</style>\n",
              "<table border=\"1\" class=\"dataframe\">\n",
              "  <thead>\n",
              "    <tr style=\"text-align: right;\">\n",
              "      <th></th>\n",
              "      <th>event</th>\n",
              "      <th>users_246</th>\n",
              "    </tr>\n",
              "  </thead>\n",
              "  <tbody>\n",
              "    <tr>\n",
              "      <th>0</th>\n",
              "      <td>MainScreenAppear</td>\n",
              "      <td>2476</td>\n",
              "    </tr>\n",
              "    <tr>\n",
              "      <th>1</th>\n",
              "      <td>OffersScreenAppear</td>\n",
              "      <td>1520</td>\n",
              "    </tr>\n",
              "    <tr>\n",
              "      <th>2</th>\n",
              "      <td>CartScreenAppear</td>\n",
              "      <td>1238</td>\n",
              "    </tr>\n",
              "    <tr>\n",
              "      <th>3</th>\n",
              "      <td>PaymentScreenSuccessful</td>\n",
              "      <td>1158</td>\n",
              "    </tr>\n",
              "    <tr>\n",
              "      <th>4</th>\n",
              "      <td>Tutorial</td>\n",
              "      <td>283</td>\n",
              "    </tr>\n",
              "  </tbody>\n",
              "</table>\n",
              "</div>\n",
              "      <button class=\"colab-df-convert\" onclick=\"convertToInteractive('df-b3b15819-6c1b-4375-b18b-5badc3215ccb')\"\n",
              "              title=\"Convert this dataframe to an interactive table.\"\n",
              "              style=\"display:none;\">\n",
              "        \n",
              "  <svg xmlns=\"http://www.w3.org/2000/svg\" height=\"24px\"viewBox=\"0 0 24 24\"\n",
              "       width=\"24px\">\n",
              "    <path d=\"M0 0h24v24H0V0z\" fill=\"none\"/>\n",
              "    <path d=\"M18.56 5.44l.94 2.06.94-2.06 2.06-.94-2.06-.94-.94-2.06-.94 2.06-2.06.94zm-11 1L8.5 8.5l.94-2.06 2.06-.94-2.06-.94L8.5 2.5l-.94 2.06-2.06.94zm10 10l.94 2.06.94-2.06 2.06-.94-2.06-.94-.94-2.06-.94 2.06-2.06.94z\"/><path d=\"M17.41 7.96l-1.37-1.37c-.4-.4-.92-.59-1.43-.59-.52 0-1.04.2-1.43.59L10.3 9.45l-7.72 7.72c-.78.78-.78 2.05 0 2.83L4 21.41c.39.39.9.59 1.41.59.51 0 1.02-.2 1.41-.59l7.78-7.78 2.81-2.81c.8-.78.8-2.07 0-2.86zM5.41 20L4 18.59l7.72-7.72 1.47 1.35L5.41 20z\"/>\n",
              "  </svg>\n",
              "      </button>\n",
              "      \n",
              "  <style>\n",
              "    .colab-df-container {\n",
              "      display:flex;\n",
              "      flex-wrap:wrap;\n",
              "      gap: 12px;\n",
              "    }\n",
              "\n",
              "    .colab-df-convert {\n",
              "      background-color: #E8F0FE;\n",
              "      border: none;\n",
              "      border-radius: 50%;\n",
              "      cursor: pointer;\n",
              "      display: none;\n",
              "      fill: #1967D2;\n",
              "      height: 32px;\n",
              "      padding: 0 0 0 0;\n",
              "      width: 32px;\n",
              "    }\n",
              "\n",
              "    .colab-df-convert:hover {\n",
              "      background-color: #E2EBFA;\n",
              "      box-shadow: 0px 1px 2px rgba(60, 64, 67, 0.3), 0px 1px 3px 1px rgba(60, 64, 67, 0.15);\n",
              "      fill: #174EA6;\n",
              "    }\n",
              "\n",
              "    [theme=dark] .colab-df-convert {\n",
              "      background-color: #3B4455;\n",
              "      fill: #D2E3FC;\n",
              "    }\n",
              "\n",
              "    [theme=dark] .colab-df-convert:hover {\n",
              "      background-color: #434B5C;\n",
              "      box-shadow: 0px 1px 3px 1px rgba(0, 0, 0, 0.15);\n",
              "      filter: drop-shadow(0px 1px 2px rgba(0, 0, 0, 0.3));\n",
              "      fill: #FFFFFF;\n",
              "    }\n",
              "  </style>\n",
              "\n",
              "      <script>\n",
              "        const buttonEl =\n",
              "          document.querySelector('#df-b3b15819-6c1b-4375-b18b-5badc3215ccb button.colab-df-convert');\n",
              "        buttonEl.style.display =\n",
              "          google.colab.kernel.accessAllowed ? 'block' : 'none';\n",
              "\n",
              "        async function convertToInteractive(key) {\n",
              "          const element = document.querySelector('#df-b3b15819-6c1b-4375-b18b-5badc3215ccb');\n",
              "          const dataTable =\n",
              "            await google.colab.kernel.invokeFunction('convertToInteractive',\n",
              "                                                     [key], {});\n",
              "          if (!dataTable) return;\n",
              "\n",
              "          const docLinkHtml = 'Like what you see? Visit the ' +\n",
              "            '<a target=\"_blank\" href=https://colab.research.google.com/notebooks/data_table.ipynb>data table notebook</a>'\n",
              "            + ' to learn more about interactive tables.';\n",
              "          element.innerHTML = '';\n",
              "          dataTable['output_type'] = 'display_data';\n",
              "          await google.colab.output.renderOutput(dataTable, element);\n",
              "          const docLink = document.createElement('div');\n",
              "          docLink.innerHTML = docLinkHtml;\n",
              "          element.appendChild(docLink);\n",
              "        }\n",
              "      </script>\n",
              "    </div>\n",
              "  </div>\n",
              "  "
            ],
            "text/plain": [
              "                     event  users_246\n",
              "0         MainScreenAppear       2476\n",
              "1       OffersScreenAppear       1520\n",
              "2         CartScreenAppear       1238\n",
              "3  PaymentScreenSuccessful       1158\n",
              "4                 Tutorial        283"
            ]
          },
          "metadata": {},
          "execution_count": 134
        }
      ],
      "source": [
        "group_247"
      ]
    },
    {
      "cell_type": "code",
      "execution_count": 135,
      "metadata": {
        "id": "6crwPkNAssC7"
      },
      "outputs": [],
      "source": [
        "alpha = 0.05\n",
        "purchases = np.array([1200, 1158])\n",
        "leads = np.array([2450, 2476])"
      ]
    },
    {
      "cell_type": "code",
      "execution_count": 136,
      "metadata": {
        "id": "9HzSnBy0ssC7"
      },
      "outputs": [],
      "source": [
        "p1 = purchases[0] / leads[0]\n",
        "p2 =  purchases[1] / leads[1]"
      ]
    },
    {
      "cell_type": "code",
      "execution_count": 137,
      "metadata": {
        "id": "WCLZlpfAssC7"
      },
      "outputs": [],
      "source": [
        "p_combined =  ((purchases[0] + purchases[1]) / (leads[0] + leads[1]))\n",
        "difference = p1 - p2"
      ]
    },
    {
      "cell_type": "code",
      "execution_count": 138,
      "metadata": {
        "id": "gaI2sRH8ssC7"
      },
      "outputs": [],
      "source": [
        "z_value = difference / mth.sqrt(p_combined * (1 -p_combined ) * (1/leads[0] + 1/leads[1]))"
      ]
    },
    {
      "cell_type": "code",
      "execution_count": 139,
      "metadata": {
        "scrolled": true,
        "id": "WtkOzX5lssC8",
        "outputId": "125b8473-ec20-4ac9-e672-762728a5033d",
        "colab": {
          "base_uri": "https://localhost:8080/"
        }
      },
      "outputs": [
        {
          "output_type": "stream",
          "name": "stdout",
          "text": [
            "p-значение:  0.12044299485641763\n",
            "Не получилось отвергнуть нулевую гипотезу, нет оснований считать доли разными\n"
          ]
        }
      ],
      "source": [
        "distr = st.norm(0,1)\n",
        "\n",
        "p_value = (1-distr.cdf(abs(z_value))) * 2\n",
        "\n",
        "print('p-значение: ', p_value)\n",
        "\n",
        "if p_value < alpha:\n",
        "    print('Отвергаем нулевую гипотезу: между долями есть значимая разница')\n",
        "else:\n",
        "    print(\n",
        "        'Не получилось отвергнуть нулевую гипотезу, нет оснований считать доли разными'\n",
        "    )"
      ]
    },
    {
      "cell_type": "code",
      "execution_count": 140,
      "metadata": {
        "id": "SGEe_Xb1ssC8"
      },
      "outputs": [],
      "source": [
        "group_246.set_axis(['event', 'users'], axis=1, inplace=True)"
      ]
    },
    {
      "cell_type": "code",
      "execution_count": 141,
      "metadata": {
        "id": "PGlGFEFUssC8",
        "outputId": "532c2ad5-769c-4532-ff16-c1256b6d474c",
        "colab": {
          "base_uri": "https://localhost:8080/",
          "height": 206
        }
      },
      "outputs": [
        {
          "output_type": "execute_result",
          "data": {
            "text/html": [
              "\n",
              "  <div id=\"df-8b16d390-1148-4389-9b03-bfc27ae82e34\">\n",
              "    <div class=\"colab-df-container\">\n",
              "      <div>\n",
              "<style scoped>\n",
              "    .dataframe tbody tr th:only-of-type {\n",
              "        vertical-align: middle;\n",
              "    }\n",
              "\n",
              "    .dataframe tbody tr th {\n",
              "        vertical-align: top;\n",
              "    }\n",
              "\n",
              "    .dataframe thead th {\n",
              "        text-align: right;\n",
              "    }\n",
              "</style>\n",
              "<table border=\"1\" class=\"dataframe\">\n",
              "  <thead>\n",
              "    <tr style=\"text-align: right;\">\n",
              "      <th></th>\n",
              "      <th>event</th>\n",
              "      <th>users</th>\n",
              "    </tr>\n",
              "  </thead>\n",
              "  <tbody>\n",
              "    <tr>\n",
              "      <th>0</th>\n",
              "      <td>MainScreenAppear</td>\n",
              "      <td>2450</td>\n",
              "    </tr>\n",
              "    <tr>\n",
              "      <th>1</th>\n",
              "      <td>OffersScreenAppear</td>\n",
              "      <td>1542</td>\n",
              "    </tr>\n",
              "    <tr>\n",
              "      <th>2</th>\n",
              "      <td>CartScreenAppear</td>\n",
              "      <td>1266</td>\n",
              "    </tr>\n",
              "    <tr>\n",
              "      <th>3</th>\n",
              "      <td>PaymentScreenSuccessful</td>\n",
              "      <td>1200</td>\n",
              "    </tr>\n",
              "    <tr>\n",
              "      <th>4</th>\n",
              "      <td>Tutorial</td>\n",
              "      <td>278</td>\n",
              "    </tr>\n",
              "  </tbody>\n",
              "</table>\n",
              "</div>\n",
              "      <button class=\"colab-df-convert\" onclick=\"convertToInteractive('df-8b16d390-1148-4389-9b03-bfc27ae82e34')\"\n",
              "              title=\"Convert this dataframe to an interactive table.\"\n",
              "              style=\"display:none;\">\n",
              "        \n",
              "  <svg xmlns=\"http://www.w3.org/2000/svg\" height=\"24px\"viewBox=\"0 0 24 24\"\n",
              "       width=\"24px\">\n",
              "    <path d=\"M0 0h24v24H0V0z\" fill=\"none\"/>\n",
              "    <path d=\"M18.56 5.44l.94 2.06.94-2.06 2.06-.94-2.06-.94-.94-2.06-.94 2.06-2.06.94zm-11 1L8.5 8.5l.94-2.06 2.06-.94-2.06-.94L8.5 2.5l-.94 2.06-2.06.94zm10 10l.94 2.06.94-2.06 2.06-.94-2.06-.94-.94-2.06-.94 2.06-2.06.94z\"/><path d=\"M17.41 7.96l-1.37-1.37c-.4-.4-.92-.59-1.43-.59-.52 0-1.04.2-1.43.59L10.3 9.45l-7.72 7.72c-.78.78-.78 2.05 0 2.83L4 21.41c.39.39.9.59 1.41.59.51 0 1.02-.2 1.41-.59l7.78-7.78 2.81-2.81c.8-.78.8-2.07 0-2.86zM5.41 20L4 18.59l7.72-7.72 1.47 1.35L5.41 20z\"/>\n",
              "  </svg>\n",
              "      </button>\n",
              "      \n",
              "  <style>\n",
              "    .colab-df-container {\n",
              "      display:flex;\n",
              "      flex-wrap:wrap;\n",
              "      gap: 12px;\n",
              "    }\n",
              "\n",
              "    .colab-df-convert {\n",
              "      background-color: #E8F0FE;\n",
              "      border: none;\n",
              "      border-radius: 50%;\n",
              "      cursor: pointer;\n",
              "      display: none;\n",
              "      fill: #1967D2;\n",
              "      height: 32px;\n",
              "      padding: 0 0 0 0;\n",
              "      width: 32px;\n",
              "    }\n",
              "\n",
              "    .colab-df-convert:hover {\n",
              "      background-color: #E2EBFA;\n",
              "      box-shadow: 0px 1px 2px rgba(60, 64, 67, 0.3), 0px 1px 3px 1px rgba(60, 64, 67, 0.15);\n",
              "      fill: #174EA6;\n",
              "    }\n",
              "\n",
              "    [theme=dark] .colab-df-convert {\n",
              "      background-color: #3B4455;\n",
              "      fill: #D2E3FC;\n",
              "    }\n",
              "\n",
              "    [theme=dark] .colab-df-convert:hover {\n",
              "      background-color: #434B5C;\n",
              "      box-shadow: 0px 1px 3px 1px rgba(0, 0, 0, 0.15);\n",
              "      filter: drop-shadow(0px 1px 2px rgba(0, 0, 0, 0.3));\n",
              "      fill: #FFFFFF;\n",
              "    }\n",
              "  </style>\n",
              "\n",
              "      <script>\n",
              "        const buttonEl =\n",
              "          document.querySelector('#df-8b16d390-1148-4389-9b03-bfc27ae82e34 button.colab-df-convert');\n",
              "        buttonEl.style.display =\n",
              "          google.colab.kernel.accessAllowed ? 'block' : 'none';\n",
              "\n",
              "        async function convertToInteractive(key) {\n",
              "          const element = document.querySelector('#df-8b16d390-1148-4389-9b03-bfc27ae82e34');\n",
              "          const dataTable =\n",
              "            await google.colab.kernel.invokeFunction('convertToInteractive',\n",
              "                                                     [key], {});\n",
              "          if (!dataTable) return;\n",
              "\n",
              "          const docLinkHtml = 'Like what you see? Visit the ' +\n",
              "            '<a target=\"_blank\" href=https://colab.research.google.com/notebooks/data_table.ipynb>data table notebook</a>'\n",
              "            + ' to learn more about interactive tables.';\n",
              "          element.innerHTML = '';\n",
              "          dataTable['output_type'] = 'display_data';\n",
              "          await google.colab.output.renderOutput(dataTable, element);\n",
              "          const docLink = document.createElement('div');\n",
              "          docLink.innerHTML = docLinkHtml;\n",
              "          element.appendChild(docLink);\n",
              "        }\n",
              "      </script>\n",
              "    </div>\n",
              "  </div>\n",
              "  "
            ],
            "text/plain": [
              "                     event  users\n",
              "0         MainScreenAppear   2450\n",
              "1       OffersScreenAppear   1542\n",
              "2         CartScreenAppear   1266\n",
              "3  PaymentScreenSuccessful   1200\n",
              "4                 Tutorial    278"
            ]
          },
          "metadata": {},
          "execution_count": 141
        }
      ],
      "source": [
        "group_246"
      ]
    },
    {
      "cell_type": "code",
      "execution_count": 142,
      "metadata": {
        "id": "PZHucEiJssC8"
      },
      "outputs": [],
      "source": [
        "group_247.set_axis(['event', 'users'], axis=1, inplace=True)"
      ]
    },
    {
      "cell_type": "code",
      "execution_count": 143,
      "metadata": {
        "id": "bEaOoy96ssC8",
        "outputId": "bc50c38b-7030-4ad5-eb3c-3d77ffeea9cb",
        "colab": {
          "base_uri": "https://localhost:8080/",
          "height": 206
        }
      },
      "outputs": [
        {
          "output_type": "execute_result",
          "data": {
            "text/html": [
              "\n",
              "  <div id=\"df-1bf52a25-5211-436c-9afd-406830ba698f\">\n",
              "    <div class=\"colab-df-container\">\n",
              "      <div>\n",
              "<style scoped>\n",
              "    .dataframe tbody tr th:only-of-type {\n",
              "        vertical-align: middle;\n",
              "    }\n",
              "\n",
              "    .dataframe tbody tr th {\n",
              "        vertical-align: top;\n",
              "    }\n",
              "\n",
              "    .dataframe thead th {\n",
              "        text-align: right;\n",
              "    }\n",
              "</style>\n",
              "<table border=\"1\" class=\"dataframe\">\n",
              "  <thead>\n",
              "    <tr style=\"text-align: right;\">\n",
              "      <th></th>\n",
              "      <th>event</th>\n",
              "      <th>users</th>\n",
              "    </tr>\n",
              "  </thead>\n",
              "  <tbody>\n",
              "    <tr>\n",
              "      <th>0</th>\n",
              "      <td>MainScreenAppear</td>\n",
              "      <td>2476</td>\n",
              "    </tr>\n",
              "    <tr>\n",
              "      <th>1</th>\n",
              "      <td>OffersScreenAppear</td>\n",
              "      <td>1520</td>\n",
              "    </tr>\n",
              "    <tr>\n",
              "      <th>2</th>\n",
              "      <td>CartScreenAppear</td>\n",
              "      <td>1238</td>\n",
              "    </tr>\n",
              "    <tr>\n",
              "      <th>3</th>\n",
              "      <td>PaymentScreenSuccessful</td>\n",
              "      <td>1158</td>\n",
              "    </tr>\n",
              "    <tr>\n",
              "      <th>4</th>\n",
              "      <td>Tutorial</td>\n",
              "      <td>283</td>\n",
              "    </tr>\n",
              "  </tbody>\n",
              "</table>\n",
              "</div>\n",
              "      <button class=\"colab-df-convert\" onclick=\"convertToInteractive('df-1bf52a25-5211-436c-9afd-406830ba698f')\"\n",
              "              title=\"Convert this dataframe to an interactive table.\"\n",
              "              style=\"display:none;\">\n",
              "        \n",
              "  <svg xmlns=\"http://www.w3.org/2000/svg\" height=\"24px\"viewBox=\"0 0 24 24\"\n",
              "       width=\"24px\">\n",
              "    <path d=\"M0 0h24v24H0V0z\" fill=\"none\"/>\n",
              "    <path d=\"M18.56 5.44l.94 2.06.94-2.06 2.06-.94-2.06-.94-.94-2.06-.94 2.06-2.06.94zm-11 1L8.5 8.5l.94-2.06 2.06-.94-2.06-.94L8.5 2.5l-.94 2.06-2.06.94zm10 10l.94 2.06.94-2.06 2.06-.94-2.06-.94-.94-2.06-.94 2.06-2.06.94z\"/><path d=\"M17.41 7.96l-1.37-1.37c-.4-.4-.92-.59-1.43-.59-.52 0-1.04.2-1.43.59L10.3 9.45l-7.72 7.72c-.78.78-.78 2.05 0 2.83L4 21.41c.39.39.9.59 1.41.59.51 0 1.02-.2 1.41-.59l7.78-7.78 2.81-2.81c.8-.78.8-2.07 0-2.86zM5.41 20L4 18.59l7.72-7.72 1.47 1.35L5.41 20z\"/>\n",
              "  </svg>\n",
              "      </button>\n",
              "      \n",
              "  <style>\n",
              "    .colab-df-container {\n",
              "      display:flex;\n",
              "      flex-wrap:wrap;\n",
              "      gap: 12px;\n",
              "    }\n",
              "\n",
              "    .colab-df-convert {\n",
              "      background-color: #E8F0FE;\n",
              "      border: none;\n",
              "      border-radius: 50%;\n",
              "      cursor: pointer;\n",
              "      display: none;\n",
              "      fill: #1967D2;\n",
              "      height: 32px;\n",
              "      padding: 0 0 0 0;\n",
              "      width: 32px;\n",
              "    }\n",
              "\n",
              "    .colab-df-convert:hover {\n",
              "      background-color: #E2EBFA;\n",
              "      box-shadow: 0px 1px 2px rgba(60, 64, 67, 0.3), 0px 1px 3px 1px rgba(60, 64, 67, 0.15);\n",
              "      fill: #174EA6;\n",
              "    }\n",
              "\n",
              "    [theme=dark] .colab-df-convert {\n",
              "      background-color: #3B4455;\n",
              "      fill: #D2E3FC;\n",
              "    }\n",
              "\n",
              "    [theme=dark] .colab-df-convert:hover {\n",
              "      background-color: #434B5C;\n",
              "      box-shadow: 0px 1px 3px 1px rgba(0, 0, 0, 0.15);\n",
              "      filter: drop-shadow(0px 1px 2px rgba(0, 0, 0, 0.3));\n",
              "      fill: #FFFFFF;\n",
              "    }\n",
              "  </style>\n",
              "\n",
              "      <script>\n",
              "        const buttonEl =\n",
              "          document.querySelector('#df-1bf52a25-5211-436c-9afd-406830ba698f button.colab-df-convert');\n",
              "        buttonEl.style.display =\n",
              "          google.colab.kernel.accessAllowed ? 'block' : 'none';\n",
              "\n",
              "        async function convertToInteractive(key) {\n",
              "          const element = document.querySelector('#df-1bf52a25-5211-436c-9afd-406830ba698f');\n",
              "          const dataTable =\n",
              "            await google.colab.kernel.invokeFunction('convertToInteractive',\n",
              "                                                     [key], {});\n",
              "          if (!dataTable) return;\n",
              "\n",
              "          const docLinkHtml = 'Like what you see? Visit the ' +\n",
              "            '<a target=\"_blank\" href=https://colab.research.google.com/notebooks/data_table.ipynb>data table notebook</a>'\n",
              "            + ' to learn more about interactive tables.';\n",
              "          element.innerHTML = '';\n",
              "          dataTable['output_type'] = 'display_data';\n",
              "          await google.colab.output.renderOutput(dataTable, element);\n",
              "          const docLink = document.createElement('div');\n",
              "          docLink.innerHTML = docLinkHtml;\n",
              "          element.appendChild(docLink);\n",
              "        }\n",
              "      </script>\n",
              "    </div>\n",
              "  </div>\n",
              "  "
            ],
            "text/plain": [
              "                     event  users\n",
              "0         MainScreenAppear   2476\n",
              "1       OffersScreenAppear   1520\n",
              "2         CartScreenAppear   1238\n",
              "3  PaymentScreenSuccessful   1158\n",
              "4                 Tutorial    283"
            ]
          },
          "metadata": {},
          "execution_count": 143
        }
      ],
      "source": [
        "group_247"
      ]
    },
    {
      "cell_type": "code",
      "execution_count": 144,
      "metadata": {
        "id": "nQzSd2QxssC9",
        "outputId": "f9ba1298-1d6e-4b1d-8cfb-5ab11fefd51c",
        "colab": {
          "base_uri": "https://localhost:8080/",
          "height": 206
        }
      },
      "outputs": [
        {
          "output_type": "execute_result",
          "data": {
            "text/html": [
              "\n",
              "  <div id=\"df-d624a92a-df21-4b57-8d62-ebef609bbc7f\">\n",
              "    <div class=\"colab-df-container\">\n",
              "      <div>\n",
              "<style scoped>\n",
              "    .dataframe tbody tr th:only-of-type {\n",
              "        vertical-align: middle;\n",
              "    }\n",
              "\n",
              "    .dataframe tbody tr th {\n",
              "        vertical-align: top;\n",
              "    }\n",
              "\n",
              "    .dataframe thead th {\n",
              "        text-align: right;\n",
              "    }\n",
              "</style>\n",
              "<table border=\"1\" class=\"dataframe\">\n",
              "  <thead>\n",
              "    <tr style=\"text-align: right;\">\n",
              "      <th></th>\n",
              "      <th>event</th>\n",
              "      <th>users</th>\n",
              "    </tr>\n",
              "  </thead>\n",
              "  <tbody>\n",
              "    <tr>\n",
              "      <th>0</th>\n",
              "      <td>MainScreenAppear</td>\n",
              "      <td>2450</td>\n",
              "    </tr>\n",
              "    <tr>\n",
              "      <th>1</th>\n",
              "      <td>OffersScreenAppear</td>\n",
              "      <td>1542</td>\n",
              "    </tr>\n",
              "    <tr>\n",
              "      <th>2</th>\n",
              "      <td>CartScreenAppear</td>\n",
              "      <td>1266</td>\n",
              "    </tr>\n",
              "    <tr>\n",
              "      <th>3</th>\n",
              "      <td>PaymentScreenSuccessful</td>\n",
              "      <td>1200</td>\n",
              "    </tr>\n",
              "    <tr>\n",
              "      <th>4</th>\n",
              "      <td>Tutorial</td>\n",
              "      <td>278</td>\n",
              "    </tr>\n",
              "  </tbody>\n",
              "</table>\n",
              "</div>\n",
              "      <button class=\"colab-df-convert\" onclick=\"convertToInteractive('df-d624a92a-df21-4b57-8d62-ebef609bbc7f')\"\n",
              "              title=\"Convert this dataframe to an interactive table.\"\n",
              "              style=\"display:none;\">\n",
              "        \n",
              "  <svg xmlns=\"http://www.w3.org/2000/svg\" height=\"24px\"viewBox=\"0 0 24 24\"\n",
              "       width=\"24px\">\n",
              "    <path d=\"M0 0h24v24H0V0z\" fill=\"none\"/>\n",
              "    <path d=\"M18.56 5.44l.94 2.06.94-2.06 2.06-.94-2.06-.94-.94-2.06-.94 2.06-2.06.94zm-11 1L8.5 8.5l.94-2.06 2.06-.94-2.06-.94L8.5 2.5l-.94 2.06-2.06.94zm10 10l.94 2.06.94-2.06 2.06-.94-2.06-.94-.94-2.06-.94 2.06-2.06.94z\"/><path d=\"M17.41 7.96l-1.37-1.37c-.4-.4-.92-.59-1.43-.59-.52 0-1.04.2-1.43.59L10.3 9.45l-7.72 7.72c-.78.78-.78 2.05 0 2.83L4 21.41c.39.39.9.59 1.41.59.51 0 1.02-.2 1.41-.59l7.78-7.78 2.81-2.81c.8-.78.8-2.07 0-2.86zM5.41 20L4 18.59l7.72-7.72 1.47 1.35L5.41 20z\"/>\n",
              "  </svg>\n",
              "      </button>\n",
              "      \n",
              "  <style>\n",
              "    .colab-df-container {\n",
              "      display:flex;\n",
              "      flex-wrap:wrap;\n",
              "      gap: 12px;\n",
              "    }\n",
              "\n",
              "    .colab-df-convert {\n",
              "      background-color: #E8F0FE;\n",
              "      border: none;\n",
              "      border-radius: 50%;\n",
              "      cursor: pointer;\n",
              "      display: none;\n",
              "      fill: #1967D2;\n",
              "      height: 32px;\n",
              "      padding: 0 0 0 0;\n",
              "      width: 32px;\n",
              "    }\n",
              "\n",
              "    .colab-df-convert:hover {\n",
              "      background-color: #E2EBFA;\n",
              "      box-shadow: 0px 1px 2px rgba(60, 64, 67, 0.3), 0px 1px 3px 1px rgba(60, 64, 67, 0.15);\n",
              "      fill: #174EA6;\n",
              "    }\n",
              "\n",
              "    [theme=dark] .colab-df-convert {\n",
              "      background-color: #3B4455;\n",
              "      fill: #D2E3FC;\n",
              "    }\n",
              "\n",
              "    [theme=dark] .colab-df-convert:hover {\n",
              "      background-color: #434B5C;\n",
              "      box-shadow: 0px 1px 3px 1px rgba(0, 0, 0, 0.15);\n",
              "      filter: drop-shadow(0px 1px 2px rgba(0, 0, 0, 0.3));\n",
              "      fill: #FFFFFF;\n",
              "    }\n",
              "  </style>\n",
              "\n",
              "      <script>\n",
              "        const buttonEl =\n",
              "          document.querySelector('#df-d624a92a-df21-4b57-8d62-ebef609bbc7f button.colab-df-convert');\n",
              "        buttonEl.style.display =\n",
              "          google.colab.kernel.accessAllowed ? 'block' : 'none';\n",
              "\n",
              "        async function convertToInteractive(key) {\n",
              "          const element = document.querySelector('#df-d624a92a-df21-4b57-8d62-ebef609bbc7f');\n",
              "          const dataTable =\n",
              "            await google.colab.kernel.invokeFunction('convertToInteractive',\n",
              "                                                     [key], {});\n",
              "          if (!dataTable) return;\n",
              "\n",
              "          const docLinkHtml = 'Like what you see? Visit the ' +\n",
              "            '<a target=\"_blank\" href=https://colab.research.google.com/notebooks/data_table.ipynb>data table notebook</a>'\n",
              "            + ' to learn more about interactive tables.';\n",
              "          element.innerHTML = '';\n",
              "          dataTable['output_type'] = 'display_data';\n",
              "          await google.colab.output.renderOutput(dataTable, element);\n",
              "          const docLink = document.createElement('div');\n",
              "          docLink.innerHTML = docLinkHtml;\n",
              "          element.appendChild(docLink);\n",
              "        }\n",
              "      </script>\n",
              "    </div>\n",
              "  </div>\n",
              "  "
            ],
            "text/plain": [
              "                     event  users\n",
              "0         MainScreenAppear   2450\n",
              "1       OffersScreenAppear   1542\n",
              "2         CartScreenAppear   1266\n",
              "3  PaymentScreenSuccessful   1200\n",
              "4                 Tutorial    278"
            ]
          },
          "metadata": {},
          "execution_count": 144
        }
      ],
      "source": [
        "group_246"
      ]
    },
    {
      "cell_type": "code",
      "execution_count": 145,
      "metadata": {
        "id": "eAh8d8LDssC9",
        "outputId": "e6054e95-e23b-4ef2-d75a-6981becabcca",
        "colab": {
          "base_uri": "https://localhost:8080/",
          "height": 112
        }
      },
      "outputs": [
        {
          "output_type": "execute_result",
          "data": {
            "text/html": [
              "\n",
              "  <div id=\"df-7b4c8210-4ac3-4adc-b6dd-06e998ff6135\">\n",
              "    <div class=\"colab-df-container\">\n",
              "      <div>\n",
              "<style scoped>\n",
              "    .dataframe tbody tr th:only-of-type {\n",
              "        vertical-align: middle;\n",
              "    }\n",
              "\n",
              "    .dataframe tbody tr th {\n",
              "        vertical-align: top;\n",
              "    }\n",
              "\n",
              "    .dataframe thead th {\n",
              "        text-align: right;\n",
              "    }\n",
              "</style>\n",
              "<table border=\"1\" class=\"dataframe\">\n",
              "  <thead>\n",
              "    <tr style=\"text-align: right;\">\n",
              "      <th></th>\n",
              "      <th>event</th>\n",
              "      <th>user_id</th>\n",
              "      <th>datetime</th>\n",
              "      <th>expld</th>\n",
              "      <th>date</th>\n",
              "    </tr>\n",
              "  </thead>\n",
              "  <tbody>\n",
              "    <tr>\n",
              "      <th>2828</th>\n",
              "      <td>Tutorial</td>\n",
              "      <td>3737462046622621720</td>\n",
              "      <td>2019-08-01 00:07:28</td>\n",
              "      <td>246</td>\n",
              "      <td>2019-08-01</td>\n",
              "    </tr>\n",
              "    <tr>\n",
              "      <th>2829</th>\n",
              "      <td>MainScreenAppear</td>\n",
              "      <td>3737462046622621720</td>\n",
              "      <td>2019-08-01 00:08:00</td>\n",
              "      <td>246</td>\n",
              "      <td>2019-08-01</td>\n",
              "    </tr>\n",
              "  </tbody>\n",
              "</table>\n",
              "</div>\n",
              "      <button class=\"colab-df-convert\" onclick=\"convertToInteractive('df-7b4c8210-4ac3-4adc-b6dd-06e998ff6135')\"\n",
              "              title=\"Convert this dataframe to an interactive table.\"\n",
              "              style=\"display:none;\">\n",
              "        \n",
              "  <svg xmlns=\"http://www.w3.org/2000/svg\" height=\"24px\"viewBox=\"0 0 24 24\"\n",
              "       width=\"24px\">\n",
              "    <path d=\"M0 0h24v24H0V0z\" fill=\"none\"/>\n",
              "    <path d=\"M18.56 5.44l.94 2.06.94-2.06 2.06-.94-2.06-.94-.94-2.06-.94 2.06-2.06.94zm-11 1L8.5 8.5l.94-2.06 2.06-.94-2.06-.94L8.5 2.5l-.94 2.06-2.06.94zm10 10l.94 2.06.94-2.06 2.06-.94-2.06-.94-.94-2.06-.94 2.06-2.06.94z\"/><path d=\"M17.41 7.96l-1.37-1.37c-.4-.4-.92-.59-1.43-.59-.52 0-1.04.2-1.43.59L10.3 9.45l-7.72 7.72c-.78.78-.78 2.05 0 2.83L4 21.41c.39.39.9.59 1.41.59.51 0 1.02-.2 1.41-.59l7.78-7.78 2.81-2.81c.8-.78.8-2.07 0-2.86zM5.41 20L4 18.59l7.72-7.72 1.47 1.35L5.41 20z\"/>\n",
              "  </svg>\n",
              "      </button>\n",
              "      \n",
              "  <style>\n",
              "    .colab-df-container {\n",
              "      display:flex;\n",
              "      flex-wrap:wrap;\n",
              "      gap: 12px;\n",
              "    }\n",
              "\n",
              "    .colab-df-convert {\n",
              "      background-color: #E8F0FE;\n",
              "      border: none;\n",
              "      border-radius: 50%;\n",
              "      cursor: pointer;\n",
              "      display: none;\n",
              "      fill: #1967D2;\n",
              "      height: 32px;\n",
              "      padding: 0 0 0 0;\n",
              "      width: 32px;\n",
              "    }\n",
              "\n",
              "    .colab-df-convert:hover {\n",
              "      background-color: #E2EBFA;\n",
              "      box-shadow: 0px 1px 2px rgba(60, 64, 67, 0.3), 0px 1px 3px 1px rgba(60, 64, 67, 0.15);\n",
              "      fill: #174EA6;\n",
              "    }\n",
              "\n",
              "    [theme=dark] .colab-df-convert {\n",
              "      background-color: #3B4455;\n",
              "      fill: #D2E3FC;\n",
              "    }\n",
              "\n",
              "    [theme=dark] .colab-df-convert:hover {\n",
              "      background-color: #434B5C;\n",
              "      box-shadow: 0px 1px 3px 1px rgba(0, 0, 0, 0.15);\n",
              "      filter: drop-shadow(0px 1px 2px rgba(0, 0, 0, 0.3));\n",
              "      fill: #FFFFFF;\n",
              "    }\n",
              "  </style>\n",
              "\n",
              "      <script>\n",
              "        const buttonEl =\n",
              "          document.querySelector('#df-7b4c8210-4ac3-4adc-b6dd-06e998ff6135 button.colab-df-convert');\n",
              "        buttonEl.style.display =\n",
              "          google.colab.kernel.accessAllowed ? 'block' : 'none';\n",
              "\n",
              "        async function convertToInteractive(key) {\n",
              "          const element = document.querySelector('#df-7b4c8210-4ac3-4adc-b6dd-06e998ff6135');\n",
              "          const dataTable =\n",
              "            await google.colab.kernel.invokeFunction('convertToInteractive',\n",
              "                                                     [key], {});\n",
              "          if (!dataTable) return;\n",
              "\n",
              "          const docLinkHtml = 'Like what you see? Visit the ' +\n",
              "            '<a target=\"_blank\" href=https://colab.research.google.com/notebooks/data_table.ipynb>data table notebook</a>'\n",
              "            + ' to learn more about interactive tables.';\n",
              "          element.innerHTML = '';\n",
              "          dataTable['output_type'] = 'display_data';\n",
              "          await google.colab.output.renderOutput(dataTable, element);\n",
              "          const docLink = document.createElement('div');\n",
              "          docLink.innerHTML = docLinkHtml;\n",
              "          element.appendChild(docLink);\n",
              "        }\n",
              "      </script>\n",
              "    </div>\n",
              "  </div>\n",
              "  "
            ],
            "text/plain": [
              "                 event              user_id  ... expld       date\n",
              "2828          Tutorial  3737462046622621720  ...   246 2019-08-01\n",
              "2829  MainScreenAppear  3737462046622621720  ...   246 2019-08-01\n",
              "\n",
              "[2 rows x 5 columns]"
            ]
          },
          "metadata": {},
          "execution_count": 145
        }
      ],
      "source": [
        "logs.head(2)"
      ]
    },
    {
      "cell_type": "code",
      "execution_count": 146,
      "metadata": {
        "id": "gOwsq9VQssC9"
      },
      "outputs": [],
      "source": [
        "def z_test(data, group_1, group_2, alpha):\n",
        "    data_group1 = data[data['expld'] == group_1]\n",
        "    data_group2 = data[data['expld'] == group_2]\n",
        "   \n",
        "    successes = np.array([data_group1[data_group1['event']=='MainScreenAppear']['user_id'].nunique(), data_group2[data_group2['event']=='MainScreenAppear']['user_id'].nunique()]) # пользователи на указанном шаге\n",
        "    trials = np.array([data_group1['user_id'].nunique(), data_group2['user_id'].nunique()]) # все пользователи\n",
        "   \n",
        "    p1 = successes[0] / trials[0]\n",
        "    p2 = successes[1] / trials[1]\n",
        "    p_combined = (successes[0] + successes[1]) / (trials[0] + trials[1])\n",
        "    difference = p1 - p2\n",
        "    distr = st.norm(0, 1)\n",
        "   \n",
        "    z_value = difference / mth.sqrt(p_combined * (1 - p_combined) * (1 / trials[0] + 1 / trials[1]))\n",
        "    p_value = (1 - distr.cdf(abs(z_value))) * 2\n",
        "   \n",
        "\n",
        "   \n",
        " #   print(successes)\n",
        " #   print(trials)\n",
        "\n",
        "    print('p-значение: ', round(p_value, 10))\n",
        "    if (p_value < alpha):\n",
        "        print(\"Отвергаем нулевую гипотезу\")\n",
        "    else:\n",
        "        print(\"Не получилось отвергнуть нулевую гипотезу\")\n",
        "   \n",
        "    print('----------------------------------------------------')\n",
        "        \n",
        "    successes = np.array([data_group1[data_group1['event']=='OffersScreenAppear']['user_id'].nunique(), data_group2[data_group2['event']=='OffersScreenAppear']['user_id'].nunique()]) # пользователи на указанном шаге\n",
        "    trials = np.array([data_group1['user_id'].nunique(), data_group2['user_id'].nunique()]) # все пользователи\n",
        "   \n",
        "    p1 = successes[0] / trials[0]\n",
        "    p2 = successes[1] / trials[1]\n",
        "    p_combined = (successes[0] + successes[1]) / (trials[0] + trials[1])\n",
        "    difference = p1 - p2\n",
        "    distr = st.norm(0, 1)\n",
        "   \n",
        "    z_value = difference / mth.sqrt(p_combined * (1 - p_combined) * (1 / trials[0] + 1 / trials[1]))\n",
        "    p_value = (1 - distr.cdf(abs(z_value))) * 2\n",
        "   \n",
        "\n",
        "   \n",
        " #   print(successes)\n",
        " #   print(trials)\n",
        "\n",
        "    print('p-значение: ', round(p_value, 10))\n",
        "    if (p_value < alpha):\n",
        "        print(\"Отвергаем нулевую гипотезу\")\n",
        "    else:\n",
        "        print(\"Не получилось отвергнуть нулевую гипотезу\")\n",
        "        \n",
        "    print('----------------------------------------------------')\n",
        "        \n",
        "    successes = np.array([data_group1[data_group1['event']=='CartScreenAppear']['user_id'].nunique(), data_group2[data_group2['event']=='CartScreenAppear']['user_id'].nunique()]) # пользователи на указанном шаге\n",
        "    trials = np.array([data_group1['user_id'].nunique(), data_group2['user_id'].nunique()]) # все пользователи\n",
        "   \n",
        "    p1 = successes[0] / trials[0]\n",
        "    p2 = successes[1] / trials[1]\n",
        "    p_combined = (successes[0] + successes[1]) / (trials[0] + trials[1])\n",
        "    difference = p1 - p2\n",
        "    distr = st.norm(0, 1)\n",
        "   \n",
        "    z_value = difference / mth.sqrt(p_combined * (1 - p_combined) * (1 / trials[0] + 1 / trials[1]))\n",
        "    p_value = (1 - distr.cdf(abs(z_value))) * 2\n",
        "   \n",
        "\n",
        "   \n",
        " #   print(successes)\n",
        " #   print(trials)\n",
        "\n",
        "    print('p-значение: ', round(p_value, 10))\n",
        "    if (p_value < alpha):\n",
        "        print(\"Отвергаем нулевую гипотезу\")\n",
        "    else:\n",
        "        print(\"Не получилось отвергнуть нулевую гипотезу\")\n",
        "    \n",
        "    \n",
        "    print('----------------------------------------------------')\n",
        "        \n",
        "    successes = np.array([data_group1[data_group1['event']=='PaymentScreenSuccessful']['user_id'].nunique(), data_group2[data_group2['event']=='CartScreenAppear']['user_id'].nunique()]) # пользователи на указанном шаге\n",
        "    trials = np.array([data_group1['user_id'].nunique(), data_group2['user_id'].nunique()]) # все пользователи\n",
        "   \n",
        "    p1 = successes[0] / trials[0]\n",
        "    p2 = successes[1] / trials[1]\n",
        "    p_combined = (successes[0] + successes[1]) / (trials[0] + trials[1])\n",
        "    difference = p1 - p2\n",
        "    distr = st.norm(0, 1)\n",
        "   \n",
        "    z_value = difference / mth.sqrt(p_combined * (1 - p_combined) * (1 / trials[0] + 1 / trials[1]))\n",
        "    p_value = (1 - distr.cdf(abs(z_value))) * 2\n",
        "   \n",
        "\n",
        "   \n",
        " #   print(successes)\n",
        " #   print(trials)\n",
        "\n",
        "    print('p-значение: ', round(p_value, 10))\n",
        "    if (p_value < alpha):\n",
        "        print(\"Отвергаем нулевую гипотезу\")\n",
        "    else:\n",
        "        print(\"Не получилось отвергнуть нулевую гипотезу\")"
      ]
    },
    {
      "cell_type": "code",
      "execution_count": 147,
      "metadata": {
        "id": "RBUIM8qQssC-",
        "outputId": "ac811776-6361-4722-b9c5-1cfc6eef2115",
        "colab": {
          "base_uri": "https://localhost:8080/"
        }
      },
      "outputs": [
        {
          "output_type": "stream",
          "name": "stdout",
          "text": [
            "p-значение:  0.7570597232\n",
            "Не получилось отвергнуть нулевую гипотезу\n",
            "----------------------------------------------------\n",
            "p-значение:  0.2480954579\n",
            "Не получилось отвергнуть нулевую гипотезу\n",
            "----------------------------------------------------\n",
            "p-значение:  0.2288337224\n",
            "Не получилось отвергнуть нулевую гипотезу\n",
            "----------------------------------------------------\n",
            "p-значение:  0.4996611212\n",
            "Не получилось отвергнуть нулевую гипотезу\n"
          ]
        }
      ],
      "source": [
        "z_test(logs, 246, 247, 0.05)"
      ]
    },
    {
      "cell_type": "code",
      "execution_count": 148,
      "metadata": {
        "id": "ZK812KiBssC-",
        "outputId": "fbcae116-9111-465e-bd88-194ef61574ef",
        "colab": {
          "base_uri": "https://localhost:8080/"
        }
      },
      "outputs": [
        {
          "output_type": "stream",
          "name": "stdout",
          "text": [
            "p-значение:  0.2949721934\n",
            "Не получилось отвергнуть нулевую гипотезу\n",
            "----------------------------------------------------\n",
            "p-значение:  0.208362054\n",
            "Не получилось отвергнуть нулевую гипотезу\n",
            "----------------------------------------------------\n",
            "p-значение:  0.0784292324\n",
            "Не получилось отвергнуть нулевую гипотезу\n",
            "----------------------------------------------------\n",
            "p-значение:  0.9022326634\n",
            "Не получилось отвергнуть нулевую гипотезу\n"
          ]
        }
      ],
      "source": [
        "z_test(logs, 246, 248, 0.05)"
      ]
    },
    {
      "cell_type": "code",
      "execution_count": 149,
      "metadata": {
        "scrolled": false,
        "id": "OSUN98MKssC_",
        "outputId": "6b735624-1de0-4ace-cdfc-1e9855ed054f",
        "colab": {
          "base_uri": "https://localhost:8080/"
        }
      },
      "outputs": [
        {
          "output_type": "stream",
          "name": "stdout",
          "text": [
            "p-значение:  0.4587053617\n",
            "Не получилось отвергнуть нулевую гипотезу\n",
            "----------------------------------------------------\n",
            "p-значение:  0.9197817831\n",
            "Не получилось отвергнуть нулевую гипотезу\n",
            "----------------------------------------------------\n",
            "p-значение:  0.578619788\n",
            "Не получилось отвергнуть нулевую гипотезу\n",
            "----------------------------------------------------\n",
            "p-значение:  0.087359169\n",
            "Не получилось отвергнуть нулевую гипотезу\n"
          ]
        }
      ],
      "source": [
        "z_test(logs, 247, 248, 0.05)"
      ]
    },
    {
      "cell_type": "code",
      "execution_count": 150,
      "metadata": {
        "id": "DzEB3CI7ssC_",
        "outputId": "7f047776-29a7-4197-d39d-a3a04f326b11",
        "colab": {
          "base_uri": "https://localhost:8080/",
          "height": 424
        }
      },
      "outputs": [
        {
          "output_type": "execute_result",
          "data": {
            "text/html": [
              "\n",
              "  <div id=\"df-35dfbf04-ac76-4be0-8e55-f8be1600ef47\">\n",
              "    <div class=\"colab-df-container\">\n",
              "      <div>\n",
              "<style scoped>\n",
              "    .dataframe tbody tr th:only-of-type {\n",
              "        vertical-align: middle;\n",
              "    }\n",
              "\n",
              "    .dataframe tbody tr th {\n",
              "        vertical-align: top;\n",
              "    }\n",
              "\n",
              "    .dataframe thead th {\n",
              "        text-align: right;\n",
              "    }\n",
              "</style>\n",
              "<table border=\"1\" class=\"dataframe\">\n",
              "  <thead>\n",
              "    <tr style=\"text-align: right;\">\n",
              "      <th></th>\n",
              "      <th>event</th>\n",
              "      <th>user_id</th>\n",
              "      <th>datetime</th>\n",
              "      <th>expld</th>\n",
              "      <th>date</th>\n",
              "    </tr>\n",
              "  </thead>\n",
              "  <tbody>\n",
              "    <tr>\n",
              "      <th>2828</th>\n",
              "      <td>Tutorial</td>\n",
              "      <td>3737462046622621720</td>\n",
              "      <td>2019-08-01 00:07:28</td>\n",
              "      <td>246</td>\n",
              "      <td>2019-08-01</td>\n",
              "    </tr>\n",
              "    <tr>\n",
              "      <th>2829</th>\n",
              "      <td>MainScreenAppear</td>\n",
              "      <td>3737462046622621720</td>\n",
              "      <td>2019-08-01 00:08:00</td>\n",
              "      <td>246</td>\n",
              "      <td>2019-08-01</td>\n",
              "    </tr>\n",
              "    <tr>\n",
              "      <th>2830</th>\n",
              "      <td>MainScreenAppear</td>\n",
              "      <td>3737462046622621720</td>\n",
              "      <td>2019-08-01 00:08:55</td>\n",
              "      <td>246</td>\n",
              "      <td>2019-08-01</td>\n",
              "    </tr>\n",
              "    <tr>\n",
              "      <th>2831</th>\n",
              "      <td>OffersScreenAppear</td>\n",
              "      <td>3737462046622621720</td>\n",
              "      <td>2019-08-01 00:08:58</td>\n",
              "      <td>246</td>\n",
              "      <td>2019-08-01</td>\n",
              "    </tr>\n",
              "    <tr>\n",
              "      <th>2832</th>\n",
              "      <td>MainScreenAppear</td>\n",
              "      <td>1433840883824088890</td>\n",
              "      <td>2019-08-01 00:08:59</td>\n",
              "      <td>247</td>\n",
              "      <td>2019-08-01</td>\n",
              "    </tr>\n",
              "    <tr>\n",
              "      <th>...</th>\n",
              "      <td>...</td>\n",
              "      <td>...</td>\n",
              "      <td>...</td>\n",
              "      <td>...</td>\n",
              "      <td>...</td>\n",
              "    </tr>\n",
              "    <tr>\n",
              "      <th>244121</th>\n",
              "      <td>MainScreenAppear</td>\n",
              "      <td>4599628364049201812</td>\n",
              "      <td>2019-08-07 21:12:25</td>\n",
              "      <td>247</td>\n",
              "      <td>2019-08-07</td>\n",
              "    </tr>\n",
              "    <tr>\n",
              "      <th>244122</th>\n",
              "      <td>MainScreenAppear</td>\n",
              "      <td>5849806612437486590</td>\n",
              "      <td>2019-08-07 21:13:59</td>\n",
              "      <td>246</td>\n",
              "      <td>2019-08-07</td>\n",
              "    </tr>\n",
              "    <tr>\n",
              "      <th>244123</th>\n",
              "      <td>MainScreenAppear</td>\n",
              "      <td>5746969938801999050</td>\n",
              "      <td>2019-08-07 21:14:43</td>\n",
              "      <td>246</td>\n",
              "      <td>2019-08-07</td>\n",
              "    </tr>\n",
              "    <tr>\n",
              "      <th>244124</th>\n",
              "      <td>MainScreenAppear</td>\n",
              "      <td>5746969938801999050</td>\n",
              "      <td>2019-08-07 21:14:58</td>\n",
              "      <td>246</td>\n",
              "      <td>2019-08-07</td>\n",
              "    </tr>\n",
              "    <tr>\n",
              "      <th>244125</th>\n",
              "      <td>OffersScreenAppear</td>\n",
              "      <td>5746969938801999050</td>\n",
              "      <td>2019-08-07 21:15:17</td>\n",
              "      <td>246</td>\n",
              "      <td>2019-08-07</td>\n",
              "    </tr>\n",
              "  </tbody>\n",
              "</table>\n",
              "<p>240887 rows × 5 columns</p>\n",
              "</div>\n",
              "      <button class=\"colab-df-convert\" onclick=\"convertToInteractive('df-35dfbf04-ac76-4be0-8e55-f8be1600ef47')\"\n",
              "              title=\"Convert this dataframe to an interactive table.\"\n",
              "              style=\"display:none;\">\n",
              "        \n",
              "  <svg xmlns=\"http://www.w3.org/2000/svg\" height=\"24px\"viewBox=\"0 0 24 24\"\n",
              "       width=\"24px\">\n",
              "    <path d=\"M0 0h24v24H0V0z\" fill=\"none\"/>\n",
              "    <path d=\"M18.56 5.44l.94 2.06.94-2.06 2.06-.94-2.06-.94-.94-2.06-.94 2.06-2.06.94zm-11 1L8.5 8.5l.94-2.06 2.06-.94-2.06-.94L8.5 2.5l-.94 2.06-2.06.94zm10 10l.94 2.06.94-2.06 2.06-.94-2.06-.94-.94-2.06-.94 2.06-2.06.94z\"/><path d=\"M17.41 7.96l-1.37-1.37c-.4-.4-.92-.59-1.43-.59-.52 0-1.04.2-1.43.59L10.3 9.45l-7.72 7.72c-.78.78-.78 2.05 0 2.83L4 21.41c.39.39.9.59 1.41.59.51 0 1.02-.2 1.41-.59l7.78-7.78 2.81-2.81c.8-.78.8-2.07 0-2.86zM5.41 20L4 18.59l7.72-7.72 1.47 1.35L5.41 20z\"/>\n",
              "  </svg>\n",
              "      </button>\n",
              "      \n",
              "  <style>\n",
              "    .colab-df-container {\n",
              "      display:flex;\n",
              "      flex-wrap:wrap;\n",
              "      gap: 12px;\n",
              "    }\n",
              "\n",
              "    .colab-df-convert {\n",
              "      background-color: #E8F0FE;\n",
              "      border: none;\n",
              "      border-radius: 50%;\n",
              "      cursor: pointer;\n",
              "      display: none;\n",
              "      fill: #1967D2;\n",
              "      height: 32px;\n",
              "      padding: 0 0 0 0;\n",
              "      width: 32px;\n",
              "    }\n",
              "\n",
              "    .colab-df-convert:hover {\n",
              "      background-color: #E2EBFA;\n",
              "      box-shadow: 0px 1px 2px rgba(60, 64, 67, 0.3), 0px 1px 3px 1px rgba(60, 64, 67, 0.15);\n",
              "      fill: #174EA6;\n",
              "    }\n",
              "\n",
              "    [theme=dark] .colab-df-convert {\n",
              "      background-color: #3B4455;\n",
              "      fill: #D2E3FC;\n",
              "    }\n",
              "\n",
              "    [theme=dark] .colab-df-convert:hover {\n",
              "      background-color: #434B5C;\n",
              "      box-shadow: 0px 1px 3px 1px rgba(0, 0, 0, 0.15);\n",
              "      filter: drop-shadow(0px 1px 2px rgba(0, 0, 0, 0.3));\n",
              "      fill: #FFFFFF;\n",
              "    }\n",
              "  </style>\n",
              "\n",
              "      <script>\n",
              "        const buttonEl =\n",
              "          document.querySelector('#df-35dfbf04-ac76-4be0-8e55-f8be1600ef47 button.colab-df-convert');\n",
              "        buttonEl.style.display =\n",
              "          google.colab.kernel.accessAllowed ? 'block' : 'none';\n",
              "\n",
              "        async function convertToInteractive(key) {\n",
              "          const element = document.querySelector('#df-35dfbf04-ac76-4be0-8e55-f8be1600ef47');\n",
              "          const dataTable =\n",
              "            await google.colab.kernel.invokeFunction('convertToInteractive',\n",
              "                                                     [key], {});\n",
              "          if (!dataTable) return;\n",
              "\n",
              "          const docLinkHtml = 'Like what you see? Visit the ' +\n",
              "            '<a target=\"_blank\" href=https://colab.research.google.com/notebooks/data_table.ipynb>data table notebook</a>'\n",
              "            + ' to learn more about interactive tables.';\n",
              "          element.innerHTML = '';\n",
              "          dataTable['output_type'] = 'display_data';\n",
              "          await google.colab.output.renderOutput(dataTable, element);\n",
              "          const docLink = document.createElement('div');\n",
              "          docLink.innerHTML = docLinkHtml;\n",
              "          element.appendChild(docLink);\n",
              "        }\n",
              "      </script>\n",
              "    </div>\n",
              "  </div>\n",
              "  "
            ],
            "text/plain": [
              "                     event              user_id  ... expld       date\n",
              "2828              Tutorial  3737462046622621720  ...   246 2019-08-01\n",
              "2829      MainScreenAppear  3737462046622621720  ...   246 2019-08-01\n",
              "2830      MainScreenAppear  3737462046622621720  ...   246 2019-08-01\n",
              "2831    OffersScreenAppear  3737462046622621720  ...   246 2019-08-01\n",
              "2832      MainScreenAppear  1433840883824088890  ...   247 2019-08-01\n",
              "...                    ...                  ...  ...   ...        ...\n",
              "244121    MainScreenAppear  4599628364049201812  ...   247 2019-08-07\n",
              "244122    MainScreenAppear  5849806612437486590  ...   246 2019-08-07\n",
              "244123    MainScreenAppear  5746969938801999050  ...   246 2019-08-07\n",
              "244124    MainScreenAppear  5746969938801999050  ...   246 2019-08-07\n",
              "244125  OffersScreenAppear  5746969938801999050  ...   246 2019-08-07\n",
              "\n",
              "[240887 rows x 5 columns]"
            ]
          },
          "metadata": {},
          "execution_count": 150
        }
      ],
      "source": [
        "logs"
      ]
    },
    {
      "cell_type": "code",
      "execution_count": 151,
      "metadata": {
        "id": "As--VJqqssC_"
      },
      "outputs": [],
      "source": [
        "logs_ab_c = logs"
      ]
    },
    {
      "cell_type": "code",
      "execution_count": 152,
      "metadata": {
        "id": "zWUzVUo7ssDA"
      },
      "outputs": [],
      "source": [
        "logs_ab_c['expld'] = logs_ab_c['expld'].replace(246,247)"
      ]
    },
    {
      "cell_type": "code",
      "execution_count": 153,
      "metadata": {
        "id": "aWwz4X5rssDA",
        "outputId": "c267a40b-0dd3-4cf5-88c3-b4fdabd893b1",
        "colab": {
          "base_uri": "https://localhost:8080/"
        }
      },
      "outputs": [
        {
          "output_type": "execute_result",
          "data": {
            "text/plain": [
              "array([247, 248])"
            ]
          },
          "metadata": {},
          "execution_count": 153
        }
      ],
      "source": [
        "logs_ab_c['expld'].unique()"
      ]
    },
    {
      "cell_type": "code",
      "execution_count": 154,
      "metadata": {
        "id": "DTi4tq5LssDA",
        "outputId": "cba2abca-2943-44e1-8589-80fce1056b81",
        "colab": {
          "base_uri": "https://localhost:8080/"
        }
      },
      "outputs": [
        {
          "output_type": "stream",
          "name": "stdout",
          "text": [
            "p-значение:  0.2942452684\n",
            "Не получилось отвергнуть нулевую гипотезу\n",
            "----------------------------------------------------\n",
            "p-значение:  0.4342554966\n",
            "Не получилось отвергнуть нулевую гипотезу\n",
            "----------------------------------------------------\n",
            "p-значение:  0.1817587528\n",
            "Не получилось отвергнуть нулевую гипотезу\n",
            "----------------------------------------------------\n",
            "p-значение:  0.287811729\n",
            "Не получилось отвергнуть нулевую гипотезу\n"
          ]
        }
      ],
      "source": [
        "z_test(logs_ab_c, 247, 248, 0.05)"
      ]
    },
    {
      "cell_type": "markdown",
      "metadata": {
        "id": "-AmrFN7YssDA"
      },
      "source": [
        "**Вывод**\n",
        "1. В группе 246 всего пользователей: 2484, в группе 247 всего пользователей: 2513 и в группе 248 всего пользователей: 2537\n",
        "2. Для контрольных групп А/А не было выявлено статистически значимой разницы\n",
        "3. Сравнение между шагами по воронке проводилось без последнего шага Tutorial. В тесте сравнивали значения для груп 246 и 247, 247 и 248 , а также 246+247 и 248. Был выбран метод по конверсии от первого шага, по всем проведенным тестам статистически значимой разницы не выявлено. Получается, что шрифт абсолютно никак не влияет на конверсию, так что можно принимать решение с точки зрения эстетики: нравится он или нет"
      ]
    },
    {
      "cell_type": "markdown",
      "metadata": {
        "id": "hmsRXB2UssDB"
      },
      "source": [
        "<div class=\"alert alert-block alert-success\">\n",
        "<b>Комментарий от ревьюера</b>\n",
        "\n",
        "Верно, шрифт не оказал ожидаемого влияния. Маркетологам опять придется работать. :) \n",
        "</div>\n",
        "\n",
        "<div class=\"alert alert-block alert-warning\">\n",
        "<b>Комментарий от ревьюера</b>\n",
        "\n",
        "Стоит добавить больше информации. Мы много узнали здесь,заказчику будет интересно увидеть подробности. :)\n",
        "    \n",
        "</div>"
      ]
    }
  ],
  "metadata": {
    "ExecuteTimeLog": [
      {
        "duration": 1493,
        "start_time": "2021-12-16T13:54:22.061Z"
      },
      {
        "duration": 361,
        "start_time": "2021-12-16T13:56:06.955Z"
      },
      {
        "duration": 19,
        "start_time": "2021-12-16T13:56:12.388Z"
      },
      {
        "duration": 353,
        "start_time": "2021-12-16T13:56:34.114Z"
      },
      {
        "duration": 13,
        "start_time": "2021-12-16T13:56:36.176Z"
      },
      {
        "duration": 13,
        "start_time": "2021-12-16T13:56:37.780Z"
      },
      {
        "duration": 86,
        "start_time": "2021-12-16T13:56:45.483Z"
      },
      {
        "duration": 20,
        "start_time": "2021-12-16T13:56:49.068Z"
      },
      {
        "duration": 177,
        "start_time": "2021-12-16T13:58:08.733Z"
      },
      {
        "duration": 15,
        "start_time": "2021-12-16T13:58:10.131Z"
      },
      {
        "duration": 21,
        "start_time": "2021-12-16T13:59:05.037Z"
      },
      {
        "duration": 5,
        "start_time": "2021-12-16T14:00:26.973Z"
      },
      {
        "duration": 396,
        "start_time": "2021-12-16T14:01:59.442Z"
      },
      {
        "duration": 258,
        "start_time": "2021-12-16T14:02:09.242Z"
      },
      {
        "duration": 260,
        "start_time": "2021-12-16T14:02:18.114Z"
      },
      {
        "duration": 254,
        "start_time": "2021-12-16T14:03:07.282Z"
      },
      {
        "duration": 265,
        "start_time": "2021-12-16T14:03:11.058Z"
      },
      {
        "duration": 6,
        "start_time": "2021-12-16T14:03:25.921Z"
      },
      {
        "duration": 16,
        "start_time": "2021-12-16T14:03:28.979Z"
      },
      {
        "duration": 12,
        "start_time": "2021-12-16T14:03:39.386Z"
      },
      {
        "duration": 14,
        "start_time": "2021-12-16T14:03:43.474Z"
      },
      {
        "duration": 282,
        "start_time": "2021-12-16T14:05:11.529Z"
      },
      {
        "duration": 313,
        "start_time": "2021-12-16T14:06:01.089Z"
      },
      {
        "duration": 282,
        "start_time": "2021-12-16T14:06:16.016Z"
      },
      {
        "duration": 6686,
        "start_time": "2021-12-16T14:06:37.809Z"
      },
      {
        "duration": 173,
        "start_time": "2021-12-16T14:06:58.232Z"
      },
      {
        "duration": 10,
        "start_time": "2021-12-16T14:06:58.601Z"
      },
      {
        "duration": 5,
        "start_time": "2021-12-16T14:07:00.969Z"
      },
      {
        "duration": 15,
        "start_time": "2021-12-16T14:07:01.408Z"
      },
      {
        "duration": -997,
        "start_time": "2021-12-16T14:07:10.454Z"
      },
      {
        "duration": 14,
        "start_time": "2021-12-16T14:07:15.032Z"
      },
      {
        "duration": 274,
        "start_time": "2021-12-16T14:07:22.490Z"
      },
      {
        "duration": 16,
        "start_time": "2021-12-16T14:07:23.752Z"
      },
      {
        "duration": 175,
        "start_time": "2021-12-16T14:07:46.008Z"
      },
      {
        "duration": 12,
        "start_time": "2021-12-16T14:07:46.368Z"
      },
      {
        "duration": 14,
        "start_time": "2021-12-16T14:08:24.000Z"
      },
      {
        "duration": 14,
        "start_time": "2021-12-16T14:08:34.023Z"
      },
      {
        "duration": 10,
        "start_time": "2021-12-16T14:08:48.712Z"
      },
      {
        "duration": 16,
        "start_time": "2021-12-16T14:08:51.120Z"
      },
      {
        "duration": 10,
        "start_time": "2021-12-16T14:08:58.541Z"
      },
      {
        "duration": 23,
        "start_time": "2021-12-16T14:08:59.568Z"
      },
      {
        "duration": 178,
        "start_time": "2021-12-16T14:09:03.711Z"
      },
      {
        "duration": 12,
        "start_time": "2021-12-16T14:09:04.080Z"
      },
      {
        "duration": 10,
        "start_time": "2021-12-16T14:09:04.879Z"
      },
      {
        "duration": 19,
        "start_time": "2021-12-16T14:09:07.200Z"
      },
      {
        "duration": 174,
        "start_time": "2021-12-16T14:09:22.578Z"
      },
      {
        "duration": 12,
        "start_time": "2021-12-16T14:09:22.784Z"
      },
      {
        "duration": 12,
        "start_time": "2021-12-16T14:09:23.080Z"
      },
      {
        "duration": 21,
        "start_time": "2021-12-16T14:09:23.472Z"
      },
      {
        "duration": 5,
        "start_time": "2021-12-16T14:09:29.384Z"
      },
      {
        "duration": 13,
        "start_time": "2021-12-16T14:09:29.960Z"
      },
      {
        "duration": 13,
        "start_time": "2021-12-16T14:09:34.592Z"
      },
      {
        "duration": 1464,
        "start_time": "2021-12-16T17:15:49.886Z"
      },
      {
        "duration": 193,
        "start_time": "2021-12-16T17:15:51.353Z"
      },
      {
        "duration": 26,
        "start_time": "2021-12-16T17:15:51.550Z"
      },
      {
        "duration": 19,
        "start_time": "2021-12-16T17:15:51.579Z"
      },
      {
        "duration": 18,
        "start_time": "2021-12-16T17:15:51.601Z"
      },
      {
        "duration": 10,
        "start_time": "2021-12-16T17:15:51.622Z"
      },
      {
        "duration": 45,
        "start_time": "2021-12-16T17:15:51.635Z"
      },
      {
        "duration": 32,
        "start_time": "2021-12-16T17:16:22.551Z"
      },
      {
        "duration": 4,
        "start_time": "2021-12-16T17:16:41.942Z"
      },
      {
        "duration": 13,
        "start_time": "2021-12-16T17:16:43.102Z"
      },
      {
        "duration": 28,
        "start_time": "2021-12-16T17:16:44.550Z"
      },
      {
        "duration": 1434,
        "start_time": "2021-12-16T17:16:50.528Z"
      },
      {
        "duration": 179,
        "start_time": "2021-12-16T17:16:51.965Z"
      },
      {
        "duration": 26,
        "start_time": "2021-12-16T17:16:52.147Z"
      },
      {
        "duration": 27,
        "start_time": "2021-12-16T17:16:52.177Z"
      },
      {
        "duration": 19,
        "start_time": "2021-12-16T17:16:52.208Z"
      },
      {
        "duration": 21,
        "start_time": "2021-12-16T17:16:52.230Z"
      },
      {
        "duration": 25,
        "start_time": "2021-12-16T17:16:52.253Z"
      },
      {
        "duration": 33,
        "start_time": "2021-12-16T17:16:52.283Z"
      },
      {
        "duration": 408,
        "start_time": "2021-12-16T17:17:07.727Z"
      },
      {
        "duration": 6924,
        "start_time": "2021-12-16T17:18:45.552Z"
      },
      {
        "duration": -976,
        "start_time": "2021-12-16T17:18:53.455Z"
      },
      {
        "duration": -981,
        "start_time": "2021-12-16T17:18:53.462Z"
      },
      {
        "duration": 541,
        "start_time": "2021-12-16T17:19:00.295Z"
      },
      {
        "duration": 4,
        "start_time": "2021-12-16T17:21:01.711Z"
      },
      {
        "duration": 12,
        "start_time": "2021-12-16T17:21:04.094Z"
      },
      {
        "duration": 21,
        "start_time": "2021-12-16T17:21:06.478Z"
      },
      {
        "duration": 5,
        "start_time": "2021-12-16T17:21:14.494Z"
      },
      {
        "duration": 13,
        "start_time": "2021-12-16T17:21:16.014Z"
      },
      {
        "duration": 5,
        "start_time": "2021-12-16T17:21:20.734Z"
      },
      {
        "duration": 171,
        "start_time": "2021-12-16T17:21:21.024Z"
      },
      {
        "duration": 13,
        "start_time": "2021-12-16T17:21:21.278Z"
      },
      {
        "duration": 16,
        "start_time": "2021-12-16T17:21:21.597Z"
      },
      {
        "duration": 18,
        "start_time": "2021-12-16T17:21:22.070Z"
      },
      {
        "duration": 4,
        "start_time": "2021-12-16T17:21:22.510Z"
      },
      {
        "duration": 11,
        "start_time": "2021-12-16T17:21:23.030Z"
      },
      {
        "duration": 30,
        "start_time": "2021-12-16T17:21:25.373Z"
      },
      {
        "duration": 1013,
        "start_time": "2021-12-16T17:21:33.326Z"
      },
      {
        "duration": 4,
        "start_time": "2021-12-16T17:21:43.039Z"
      },
      {
        "duration": 13,
        "start_time": "2021-12-16T17:21:44.463Z"
      },
      {
        "duration": 87,
        "start_time": "2021-12-16T17:22:04.591Z"
      },
      {
        "duration": 5,
        "start_time": "2021-12-16T17:22:12.934Z"
      },
      {
        "duration": 14,
        "start_time": "2021-12-16T17:22:20.590Z"
      },
      {
        "duration": 6,
        "start_time": "2021-12-16T17:22:24.542Z"
      },
      {
        "duration": 179,
        "start_time": "2021-12-16T17:22:24.709Z"
      },
      {
        "duration": 10,
        "start_time": "2021-12-16T17:22:24.892Z"
      },
      {
        "duration": 18,
        "start_time": "2021-12-16T17:22:25.061Z"
      },
      {
        "duration": 18,
        "start_time": "2021-12-16T17:22:25.238Z"
      },
      {
        "duration": 5,
        "start_time": "2021-12-16T17:22:25.422Z"
      },
      {
        "duration": 13,
        "start_time": "2021-12-16T17:22:25.597Z"
      },
      {
        "duration": 24,
        "start_time": "2021-12-16T17:22:27.197Z"
      },
      {
        "duration": 318,
        "start_time": "2021-12-16T17:22:35.662Z"
      },
      {
        "duration": 4,
        "start_time": "2021-12-16T17:25:38.261Z"
      },
      {
        "duration": 11,
        "start_time": "2021-12-16T17:25:39.709Z"
      },
      {
        "duration": 29,
        "start_time": "2021-12-16T17:25:41.349Z"
      },
      {
        "duration": 22,
        "start_time": "2021-12-16T17:27:23.052Z"
      },
      {
        "duration": 106,
        "start_time": "2021-12-16T17:27:50.485Z"
      },
      {
        "duration": 98,
        "start_time": "2021-12-16T17:29:41.428Z"
      },
      {
        "duration": 103,
        "start_time": "2021-12-16T17:31:07.944Z"
      },
      {
        "duration": 269,
        "start_time": "2021-12-16T17:39:21.386Z"
      },
      {
        "duration": 108,
        "start_time": "2021-12-16T17:39:27.369Z"
      },
      {
        "duration": 22,
        "start_time": "2021-12-16T17:39:34.281Z"
      },
      {
        "duration": 4,
        "start_time": "2021-12-16T17:40:05.330Z"
      },
      {
        "duration": 11,
        "start_time": "2021-12-16T17:40:06.418Z"
      },
      {
        "duration": 22,
        "start_time": "2021-12-16T17:40:07.600Z"
      },
      {
        "duration": 84,
        "start_time": "2021-12-16T17:40:08.718Z"
      },
      {
        "duration": 105,
        "start_time": "2021-12-16T17:40:09.786Z"
      },
      {
        "duration": 6,
        "start_time": "2021-12-16T17:40:12.696Z"
      },
      {
        "duration": 180,
        "start_time": "2021-12-16T17:40:12.873Z"
      },
      {
        "duration": 25,
        "start_time": "2021-12-16T17:40:13.056Z"
      },
      {
        "duration": 13,
        "start_time": "2021-12-16T17:40:13.233Z"
      },
      {
        "duration": 20,
        "start_time": "2021-12-16T17:40:13.409Z"
      },
      {
        "duration": 5,
        "start_time": "2021-12-16T17:40:13.577Z"
      },
      {
        "duration": 10,
        "start_time": "2021-12-16T17:40:13.754Z"
      },
      {
        "duration": 21,
        "start_time": "2021-12-16T17:40:13.929Z"
      },
      {
        "duration": 83,
        "start_time": "2021-12-16T17:40:14.112Z"
      },
      {
        "duration": 95,
        "start_time": "2021-12-16T17:40:14.304Z"
      },
      {
        "duration": 84,
        "start_time": "2021-12-16T17:40:14.480Z"
      },
      {
        "duration": 24,
        "start_time": "2021-12-16T17:40:14.665Z"
      },
      {
        "duration": 124,
        "start_time": "2021-12-16T17:42:17.545Z"
      },
      {
        "duration": 23,
        "start_time": "2021-12-16T17:42:20.185Z"
      },
      {
        "duration": 13,
        "start_time": "2021-12-16T17:42:25.929Z"
      },
      {
        "duration": 268,
        "start_time": "2021-12-16T17:43:00.704Z"
      },
      {
        "duration": 22,
        "start_time": "2021-12-16T17:43:03.216Z"
      },
      {
        "duration": 5,
        "start_time": "2021-12-16T17:45:52.308Z"
      },
      {
        "duration": 9,
        "start_time": "2021-12-16T17:48:35.716Z"
      },
      {
        "duration": 6,
        "start_time": "2021-12-16T17:49:30.682Z"
      },
      {
        "duration": 27,
        "start_time": "2021-12-16T17:50:22.177Z"
      },
      {
        "duration": 25,
        "start_time": "2021-12-16T17:50:29.227Z"
      },
      {
        "duration": 415,
        "start_time": "2021-12-16T17:53:49.581Z"
      },
      {
        "duration": 394,
        "start_time": "2021-12-16T17:54:16.495Z"
      },
      {
        "duration": 708,
        "start_time": "2021-12-16T17:54:22.901Z"
      },
      {
        "duration": 3384,
        "start_time": "2021-12-16T17:54:33.814Z"
      },
      {
        "duration": 3324,
        "start_time": "2021-12-16T17:54:56.213Z"
      },
      {
        "duration": 662,
        "start_time": "2021-12-16T17:55:02.368Z"
      },
      {
        "duration": 404,
        "start_time": "2021-12-16T17:55:06.510Z"
      },
      {
        "duration": 524,
        "start_time": "2021-12-16T17:55:10.390Z"
      },
      {
        "duration": 487,
        "start_time": "2021-12-16T17:55:14.088Z"
      },
      {
        "duration": 908,
        "start_time": "2021-12-16T17:56:27.125Z"
      },
      {
        "duration": 472,
        "start_time": "2021-12-16T17:56:41.733Z"
      },
      {
        "duration": 99,
        "start_time": "2021-12-16T17:57:26.421Z"
      },
      {
        "duration": 369,
        "start_time": "2021-12-16T17:57:29.036Z"
      },
      {
        "duration": 646,
        "start_time": "2021-12-16T17:57:44.036Z"
      },
      {
        "duration": 950,
        "start_time": "2021-12-16T17:57:51.620Z"
      },
      {
        "duration": 391,
        "start_time": "2021-12-16T17:58:32.725Z"
      },
      {
        "duration": 355,
        "start_time": "2021-12-16T17:58:38.709Z"
      },
      {
        "duration": 358,
        "start_time": "2021-12-16T17:58:44.581Z"
      },
      {
        "duration": 1183,
        "start_time": "2021-12-16T17:58:54.780Z"
      },
      {
        "duration": 427,
        "start_time": "2021-12-16T17:58:58.612Z"
      },
      {
        "duration": 495,
        "start_time": "2021-12-16T17:59:01.604Z"
      },
      {
        "duration": 398,
        "start_time": "2021-12-16T17:59:04.596Z"
      },
      {
        "duration": 561,
        "start_time": "2021-12-16T17:59:14.580Z"
      },
      {
        "duration": 354,
        "start_time": "2021-12-16T17:59:20.084Z"
      },
      {
        "duration": 90,
        "start_time": "2021-12-16T17:59:35.548Z"
      },
      {
        "duration": 359,
        "start_time": "2021-12-16T17:59:44.452Z"
      },
      {
        "duration": 370,
        "start_time": "2021-12-16T17:59:49.164Z"
      },
      {
        "duration": 479,
        "start_time": "2021-12-16T17:59:53.076Z"
      },
      {
        "duration": 378,
        "start_time": "2021-12-16T18:01:03.868Z"
      },
      {
        "duration": 370,
        "start_time": "2021-12-16T18:01:10.820Z"
      },
      {
        "duration": 420,
        "start_time": "2021-12-16T18:01:14.036Z"
      },
      {
        "duration": 375,
        "start_time": "2021-12-16T18:01:30.323Z"
      },
      {
        "duration": 5,
        "start_time": "2021-12-16T18:01:42.116Z"
      },
      {
        "duration": 472,
        "start_time": "2021-12-16T18:02:35.340Z"
      },
      {
        "duration": 383,
        "start_time": "2021-12-16T18:02:43.991Z"
      },
      {
        "duration": 337,
        "start_time": "2021-12-16T18:03:46.059Z"
      },
      {
        "duration": 720,
        "start_time": "2021-12-16T18:03:50.942Z"
      },
      {
        "duration": 722,
        "start_time": "2021-12-16T18:04:01.467Z"
      },
      {
        "duration": 501,
        "start_time": "2021-12-16T18:04:11.450Z"
      },
      {
        "duration": 503,
        "start_time": "2021-12-16T18:04:22.706Z"
      },
      {
        "duration": 501,
        "start_time": "2021-12-16T18:04:26.923Z"
      },
      {
        "duration": 524,
        "start_time": "2021-12-16T18:04:31.851Z"
      },
      {
        "duration": 384,
        "start_time": "2021-12-16T18:04:41.669Z"
      },
      {
        "duration": 375,
        "start_time": "2021-12-16T18:05:08.371Z"
      },
      {
        "duration": 515,
        "start_time": "2021-12-16T18:05:13.691Z"
      },
      {
        "duration": 754,
        "start_time": "2021-12-16T18:05:23.723Z"
      },
      {
        "duration": 1169,
        "start_time": "2021-12-19T09:47:40.565Z"
      },
      {
        "duration": 119,
        "start_time": "2021-12-19T09:47:41.736Z"
      },
      {
        "duration": 9,
        "start_time": "2021-12-19T09:47:41.857Z"
      },
      {
        "duration": 27,
        "start_time": "2021-12-19T09:47:41.868Z"
      },
      {
        "duration": 11,
        "start_time": "2021-12-19T09:47:41.897Z"
      },
      {
        "duration": 4,
        "start_time": "2021-12-19T09:47:41.909Z"
      },
      {
        "duration": 10,
        "start_time": "2021-12-19T09:47:41.915Z"
      },
      {
        "duration": 17,
        "start_time": "2021-12-19T09:47:41.927Z"
      },
      {
        "duration": 75,
        "start_time": "2021-12-19T09:47:41.946Z"
      },
      {
        "duration": 57,
        "start_time": "2021-12-19T09:47:42.023Z"
      },
      {
        "duration": 53,
        "start_time": "2021-12-19T09:47:42.092Z"
      },
      {
        "duration": 14,
        "start_time": "2021-12-19T09:47:42.147Z"
      },
      {
        "duration": 82,
        "start_time": "2021-12-19T09:47:42.163Z"
      },
      {
        "duration": 20,
        "start_time": "2021-12-19T09:47:42.247Z"
      },
      {
        "duration": 22,
        "start_time": "2021-12-19T09:47:42.268Z"
      },
      {
        "duration": 8,
        "start_time": "2021-12-19T09:47:42.292Z"
      },
      {
        "duration": 24,
        "start_time": "2021-12-19T09:47:42.301Z"
      },
      {
        "duration": 8,
        "start_time": "2021-12-19T09:47:42.326Z"
      },
      {
        "duration": 23,
        "start_time": "2021-12-19T09:47:42.335Z"
      },
      {
        "duration": 23,
        "start_time": "2021-12-19T09:47:42.360Z"
      },
      {
        "duration": 436,
        "start_time": "2021-12-19T09:47:42.384Z"
      },
      {
        "duration": 587,
        "start_time": "2021-12-19T09:58:37.480Z"
      },
      {
        "duration": 44,
        "start_time": "2021-12-19T09:59:05.745Z"
      },
      {
        "duration": 45,
        "start_time": "2021-12-19T09:59:10.296Z"
      },
      {
        "duration": 710,
        "start_time": "2021-12-19T09:59:27.728Z"
      },
      {
        "duration": 37,
        "start_time": "2021-12-19T09:59:56.720Z"
      },
      {
        "duration": 1075,
        "start_time": "2021-12-19T10:00:13.862Z"
      },
      {
        "duration": 122,
        "start_time": "2021-12-19T10:00:14.938Z"
      },
      {
        "duration": 13,
        "start_time": "2021-12-19T10:00:15.065Z"
      },
      {
        "duration": 22,
        "start_time": "2021-12-19T10:00:15.080Z"
      },
      {
        "duration": 11,
        "start_time": "2021-12-19T10:00:15.103Z"
      },
      {
        "duration": 4,
        "start_time": "2021-12-19T10:00:15.116Z"
      },
      {
        "duration": 13,
        "start_time": "2021-12-19T10:00:15.123Z"
      },
      {
        "duration": 18,
        "start_time": "2021-12-19T10:00:15.138Z"
      },
      {
        "duration": 83,
        "start_time": "2021-12-19T10:00:15.158Z"
      },
      {
        "duration": 73,
        "start_time": "2021-12-19T10:00:15.243Z"
      },
      {
        "duration": 54,
        "start_time": "2021-12-19T10:00:15.318Z"
      },
      {
        "duration": 28,
        "start_time": "2021-12-19T10:00:15.374Z"
      },
      {
        "duration": 89,
        "start_time": "2021-12-19T10:00:15.404Z"
      },
      {
        "duration": 10,
        "start_time": "2021-12-19T10:00:15.494Z"
      },
      {
        "duration": 17,
        "start_time": "2021-12-19T10:00:15.506Z"
      },
      {
        "duration": 5,
        "start_time": "2021-12-19T10:00:15.525Z"
      },
      {
        "duration": 8,
        "start_time": "2021-12-19T10:00:15.532Z"
      },
      {
        "duration": 3,
        "start_time": "2021-12-19T10:00:15.542Z"
      },
      {
        "duration": 54,
        "start_time": "2021-12-19T10:00:15.546Z"
      },
      {
        "duration": 17,
        "start_time": "2021-12-19T10:00:15.602Z"
      },
      {
        "duration": 444,
        "start_time": "2021-12-19T10:00:15.621Z"
      },
      {
        "duration": 40,
        "start_time": "2021-12-19T10:00:16.068Z"
      },
      {
        "duration": 634,
        "start_time": "2021-12-19T10:00:16.110Z"
      },
      {
        "duration": 96,
        "start_time": "2021-12-19T10:00:53.896Z"
      },
      {
        "duration": 10,
        "start_time": "2021-12-19T10:00:54.057Z"
      },
      {
        "duration": 16,
        "start_time": "2021-12-19T10:00:54.688Z"
      },
      {
        "duration": 23,
        "start_time": "2021-12-19T10:01:04.037Z"
      },
      {
        "duration": 98,
        "start_time": "2021-12-19T10:01:09.298Z"
      },
      {
        "duration": 37,
        "start_time": "2021-12-19T10:01:09.800Z"
      },
      {
        "duration": 8,
        "start_time": "2021-12-19T10:01:14.072Z"
      },
      {
        "duration": 83,
        "start_time": "2021-12-19T10:01:51.424Z"
      },
      {
        "duration": 23,
        "start_time": "2021-12-19T10:01:53.744Z"
      },
      {
        "duration": 11,
        "start_time": "2021-12-19T10:01:55.344Z"
      },
      {
        "duration": 1123,
        "start_time": "2021-12-19T10:01:59.771Z"
      },
      {
        "duration": 120,
        "start_time": "2021-12-19T10:02:00.896Z"
      },
      {
        "duration": 10,
        "start_time": "2021-12-19T10:02:01.018Z"
      },
      {
        "duration": 15,
        "start_time": "2021-12-19T10:02:01.030Z"
      },
      {
        "duration": 11,
        "start_time": "2021-12-19T10:02:01.047Z"
      },
      {
        "duration": 7,
        "start_time": "2021-12-19T10:02:01.059Z"
      },
      {
        "duration": 30,
        "start_time": "2021-12-19T10:02:01.067Z"
      },
      {
        "duration": 21,
        "start_time": "2021-12-19T10:02:01.101Z"
      },
      {
        "duration": 74,
        "start_time": "2021-12-19T10:02:01.125Z"
      },
      {
        "duration": 63,
        "start_time": "2021-12-19T10:02:01.201Z"
      },
      {
        "duration": 78,
        "start_time": "2021-12-19T10:02:01.266Z"
      },
      {
        "duration": 17,
        "start_time": "2021-12-19T10:02:01.346Z"
      },
      {
        "duration": 96,
        "start_time": "2021-12-19T10:02:01.365Z"
      },
      {
        "duration": 55,
        "start_time": "2021-12-19T10:02:01.462Z"
      },
      {
        "duration": 9,
        "start_time": "2021-12-19T10:02:01.518Z"
      },
      {
        "duration": 31,
        "start_time": "2021-12-19T10:02:01.529Z"
      },
      {
        "duration": 11,
        "start_time": "2021-12-19T10:02:01.562Z"
      },
      {
        "duration": 16,
        "start_time": "2021-12-19T10:02:01.575Z"
      },
      {
        "duration": 22,
        "start_time": "2021-12-19T10:02:01.593Z"
      },
      {
        "duration": 43,
        "start_time": "2021-12-19T10:02:01.616Z"
      },
      {
        "duration": 29,
        "start_time": "2021-12-19T10:02:01.661Z"
      },
      {
        "duration": 459,
        "start_time": "2021-12-19T10:02:01.693Z"
      },
      {
        "duration": 36,
        "start_time": "2021-12-19T10:02:02.155Z"
      },
      {
        "duration": 602,
        "start_time": "2021-12-19T10:02:02.193Z"
      },
      {
        "duration": 3,
        "start_time": "2021-12-19T10:02:34.656Z"
      },
      {
        "duration": 116,
        "start_time": "2021-12-19T10:02:34.839Z"
      },
      {
        "duration": 8,
        "start_time": "2021-12-19T10:02:35.016Z"
      },
      {
        "duration": 15,
        "start_time": "2021-12-19T10:02:35.192Z"
      },
      {
        "duration": 12,
        "start_time": "2021-12-19T10:02:35.361Z"
      },
      {
        "duration": 5,
        "start_time": "2021-12-19T10:02:35.552Z"
      },
      {
        "duration": 8,
        "start_time": "2021-12-19T10:02:35.728Z"
      },
      {
        "duration": 15,
        "start_time": "2021-12-19T10:02:35.912Z"
      },
      {
        "duration": 60,
        "start_time": "2021-12-19T10:02:36.096Z"
      },
      {
        "duration": 58,
        "start_time": "2021-12-19T10:02:36.272Z"
      },
      {
        "duration": 61,
        "start_time": "2021-12-19T10:02:36.456Z"
      },
      {
        "duration": 24,
        "start_time": "2021-12-19T10:02:37.192Z"
      },
      {
        "duration": 75,
        "start_time": "2021-12-19T10:02:40.895Z"
      },
      {
        "duration": 39,
        "start_time": "2021-12-19T10:02:41.305Z"
      },
      {
        "duration": 9,
        "start_time": "2021-12-19T10:02:43.224Z"
      },
      {
        "duration": 1071,
        "start_time": "2021-12-19T10:02:49.281Z"
      },
      {
        "duration": 123,
        "start_time": "2021-12-19T10:02:50.354Z"
      },
      {
        "duration": 13,
        "start_time": "2021-12-19T10:02:50.479Z"
      },
      {
        "duration": 14,
        "start_time": "2021-12-19T10:02:50.494Z"
      },
      {
        "duration": 12,
        "start_time": "2021-12-19T10:02:50.509Z"
      },
      {
        "duration": 4,
        "start_time": "2021-12-19T10:02:50.523Z"
      },
      {
        "duration": 10,
        "start_time": "2021-12-19T10:02:50.529Z"
      },
      {
        "duration": 17,
        "start_time": "2021-12-19T10:02:50.541Z"
      },
      {
        "duration": 94,
        "start_time": "2021-12-19T10:02:50.560Z"
      },
      {
        "duration": 78,
        "start_time": "2021-12-19T10:02:50.657Z"
      },
      {
        "duration": 72,
        "start_time": "2021-12-19T10:02:50.737Z"
      },
      {
        "duration": 15,
        "start_time": "2021-12-19T10:02:50.811Z"
      },
      {
        "duration": 92,
        "start_time": "2021-12-19T10:02:50.828Z"
      },
      {
        "duration": 38,
        "start_time": "2021-12-19T10:02:50.922Z"
      },
      {
        "duration": 29,
        "start_time": "2021-12-19T10:02:50.962Z"
      },
      {
        "duration": 15,
        "start_time": "2021-12-19T10:02:50.993Z"
      },
      {
        "duration": 4,
        "start_time": "2021-12-19T10:02:51.010Z"
      },
      {
        "duration": 7,
        "start_time": "2021-12-19T10:02:51.016Z"
      },
      {
        "duration": 4,
        "start_time": "2021-12-19T10:02:51.025Z"
      },
      {
        "duration": 19,
        "start_time": "2021-12-19T10:02:51.031Z"
      },
      {
        "duration": 57,
        "start_time": "2021-12-19T10:02:51.052Z"
      },
      {
        "duration": 473,
        "start_time": "2021-12-19T10:02:51.112Z"
      },
      {
        "duration": 23,
        "start_time": "2021-12-19T10:02:51.588Z"
      },
      {
        "duration": 620,
        "start_time": "2021-12-19T10:02:51.613Z"
      },
      {
        "duration": 75,
        "start_time": "2021-12-19T10:03:42.316Z"
      },
      {
        "duration": 41,
        "start_time": "2021-12-19T10:03:42.773Z"
      },
      {
        "duration": 1169,
        "start_time": "2021-12-19T10:03:49.265Z"
      },
      {
        "duration": 123,
        "start_time": "2021-12-19T10:03:50.436Z"
      },
      {
        "duration": 10,
        "start_time": "2021-12-19T10:03:50.562Z"
      },
      {
        "duration": 23,
        "start_time": "2021-12-19T10:03:50.574Z"
      },
      {
        "duration": 11,
        "start_time": "2021-12-19T10:03:50.599Z"
      },
      {
        "duration": 5,
        "start_time": "2021-12-19T10:03:50.612Z"
      },
      {
        "duration": 12,
        "start_time": "2021-12-19T10:03:50.618Z"
      },
      {
        "duration": 21,
        "start_time": "2021-12-19T10:03:50.634Z"
      },
      {
        "duration": 105,
        "start_time": "2021-12-19T10:03:50.657Z"
      },
      {
        "duration": 81,
        "start_time": "2021-12-19T10:03:50.764Z"
      },
      {
        "duration": 74,
        "start_time": "2021-12-19T10:03:50.848Z"
      },
      {
        "duration": 16,
        "start_time": "2021-12-19T10:03:50.924Z"
      },
      {
        "duration": 88,
        "start_time": "2021-12-19T10:03:50.942Z"
      },
      {
        "duration": 40,
        "start_time": "2021-12-19T10:03:51.033Z"
      },
      {
        "duration": 26,
        "start_time": "2021-12-19T10:03:51.075Z"
      },
      {
        "duration": 25,
        "start_time": "2021-12-19T10:03:51.103Z"
      },
      {
        "duration": 4,
        "start_time": "2021-12-19T10:03:51.129Z"
      },
      {
        "duration": 9,
        "start_time": "2021-12-19T10:03:51.134Z"
      },
      {
        "duration": 4,
        "start_time": "2021-12-19T10:03:51.144Z"
      },
      {
        "duration": 53,
        "start_time": "2021-12-19T10:03:51.149Z"
      },
      {
        "duration": 24,
        "start_time": "2021-12-19T10:03:51.203Z"
      },
      {
        "duration": 477,
        "start_time": "2021-12-19T10:03:51.229Z"
      },
      {
        "duration": 28,
        "start_time": "2021-12-19T10:03:51.710Z"
      },
      {
        "duration": 599,
        "start_time": "2021-12-19T10:03:51.740Z"
      },
      {
        "duration": 73,
        "start_time": "2021-12-19T10:04:15.331Z"
      },
      {
        "duration": 57,
        "start_time": "2021-12-19T10:04:15.751Z"
      },
      {
        "duration": 4,
        "start_time": "2021-12-19T10:04:23.663Z"
      },
      {
        "duration": 131,
        "start_time": "2021-12-19T10:04:23.847Z"
      },
      {
        "duration": 7,
        "start_time": "2021-12-19T10:04:24.039Z"
      },
      {
        "duration": 8,
        "start_time": "2021-12-19T10:04:24.216Z"
      },
      {
        "duration": 16,
        "start_time": "2021-12-19T10:04:24.391Z"
      },
      {
        "duration": 5,
        "start_time": "2021-12-19T10:04:24.576Z"
      },
      {
        "duration": 8,
        "start_time": "2021-12-19T10:04:24.743Z"
      },
      {
        "duration": 25,
        "start_time": "2021-12-19T10:04:24.920Z"
      },
      {
        "duration": 68,
        "start_time": "2021-12-19T10:04:25.103Z"
      },
      {
        "duration": 58,
        "start_time": "2021-12-19T10:04:25.279Z"
      },
      {
        "duration": 62,
        "start_time": "2021-12-19T10:04:25.463Z"
      },
      {
        "duration": 17,
        "start_time": "2021-12-19T10:04:25.911Z"
      },
      {
        "duration": 68,
        "start_time": "2021-12-19T10:04:26.182Z"
      },
      {
        "duration": 39,
        "start_time": "2021-12-19T10:04:26.568Z"
      },
      {
        "duration": 9,
        "start_time": "2021-12-19T10:04:28.239Z"
      },
      {
        "duration": 86,
        "start_time": "2021-12-19T10:04:43.208Z"
      },
      {
        "duration": 54,
        "start_time": "2021-12-19T10:04:43.551Z"
      },
      {
        "duration": 10,
        "start_time": "2021-12-19T10:04:46.247Z"
      },
      {
        "duration": 32,
        "start_time": "2021-12-19T10:09:23.630Z"
      },
      {
        "duration": 76,
        "start_time": "2021-12-19T10:09:25.750Z"
      },
      {
        "duration": 30,
        "start_time": "2021-12-19T10:09:26.546Z"
      },
      {
        "duration": 34,
        "start_time": "2021-12-19T10:09:46.925Z"
      },
      {
        "duration": 29,
        "start_time": "2021-12-19T10:09:48.877Z"
      },
      {
        "duration": 9,
        "start_time": "2021-12-19T10:09:54.950Z"
      },
      {
        "duration": 15,
        "start_time": "2021-12-19T10:09:55.117Z"
      },
      {
        "duration": 4,
        "start_time": "2021-12-19T10:09:55.470Z"
      },
      {
        "duration": 6,
        "start_time": "2021-12-19T10:09:55.661Z"
      },
      {
        "duration": 5,
        "start_time": "2021-12-19T10:09:55.845Z"
      },
      {
        "duration": 5,
        "start_time": "2021-12-19T10:09:56.086Z"
      },
      {
        "duration": 6,
        "start_time": "2021-12-19T10:09:56.269Z"
      },
      {
        "duration": 401,
        "start_time": "2021-12-19T10:09:57.197Z"
      },
      {
        "duration": 23,
        "start_time": "2021-12-19T10:09:59.894Z"
      },
      {
        "duration": 33,
        "start_time": "2021-12-19T10:10:04.358Z"
      },
      {
        "duration": 20,
        "start_time": "2021-12-19T10:10:11.102Z"
      },
      {
        "duration": 15,
        "start_time": "2021-12-19T10:10:15.605Z"
      },
      {
        "duration": 1112,
        "start_time": "2021-12-19T10:10:26.197Z"
      },
      {
        "duration": 120,
        "start_time": "2021-12-19T10:10:27.311Z"
      },
      {
        "duration": 10,
        "start_time": "2021-12-19T10:10:27.433Z"
      },
      {
        "duration": 40,
        "start_time": "2021-12-19T10:10:27.444Z"
      },
      {
        "duration": 24,
        "start_time": "2021-12-19T10:10:27.486Z"
      },
      {
        "duration": 40,
        "start_time": "2021-12-19T10:10:27.512Z"
      },
      {
        "duration": 23,
        "start_time": "2021-12-19T10:10:27.553Z"
      },
      {
        "duration": 35,
        "start_time": "2021-12-19T10:10:27.579Z"
      },
      {
        "duration": 65,
        "start_time": "2021-12-19T10:10:27.616Z"
      },
      {
        "duration": 60,
        "start_time": "2021-12-19T10:10:27.683Z"
      },
      {
        "duration": 69,
        "start_time": "2021-12-19T10:10:27.744Z"
      },
      {
        "duration": 16,
        "start_time": "2021-12-19T10:10:27.815Z"
      },
      {
        "duration": 105,
        "start_time": "2021-12-19T10:10:27.833Z"
      },
      {
        "duration": 37,
        "start_time": "2021-12-19T10:10:27.940Z"
      },
      {
        "duration": 34,
        "start_time": "2021-12-19T10:10:27.978Z"
      },
      {
        "duration": 26,
        "start_time": "2021-12-19T10:10:28.014Z"
      },
      {
        "duration": 32,
        "start_time": "2021-12-19T10:10:28.041Z"
      },
      {
        "duration": 4,
        "start_time": "2021-12-19T10:10:28.075Z"
      },
      {
        "duration": 19,
        "start_time": "2021-12-19T10:10:28.080Z"
      },
      {
        "duration": 12,
        "start_time": "2021-12-19T10:10:28.101Z"
      },
      {
        "duration": 13,
        "start_time": "2021-12-19T10:10:28.115Z"
      },
      {
        "duration": 14,
        "start_time": "2021-12-19T10:10:28.130Z"
      },
      {
        "duration": 418,
        "start_time": "2021-12-19T10:10:28.149Z"
      },
      {
        "duration": 27,
        "start_time": "2021-12-19T10:10:28.569Z"
      },
      {
        "duration": 14,
        "start_time": "2021-12-19T10:10:28.598Z"
      },
      {
        "duration": 14,
        "start_time": "2021-12-19T10:10:28.614Z"
      },
      {
        "duration": 255,
        "start_time": "2021-12-19T10:10:51.375Z"
      },
      {
        "duration": 191,
        "start_time": "2021-12-19T10:11:01.366Z"
      },
      {
        "duration": 249,
        "start_time": "2021-12-19T10:11:06.374Z"
      },
      {
        "duration": 267,
        "start_time": "2021-12-19T10:11:19.142Z"
      },
      {
        "duration": 17,
        "start_time": "2021-12-19T10:11:50.709Z"
      },
      {
        "duration": 13,
        "start_time": "2021-12-19T10:11:51.751Z"
      },
      {
        "duration": 252,
        "start_time": "2021-12-19T10:11:53.726Z"
      },
      {
        "duration": 267,
        "start_time": "2021-12-19T10:11:57.390Z"
      },
      {
        "duration": 6,
        "start_time": "2021-12-19T10:13:01.126Z"
      },
      {
        "duration": 14,
        "start_time": "2021-12-19T10:13:12.733Z"
      },
      {
        "duration": 4,
        "start_time": "2021-12-19T10:13:23.181Z"
      },
      {
        "duration": 16,
        "start_time": "2021-12-19T10:14:15.356Z"
      },
      {
        "duration": 4,
        "start_time": "2021-12-19T10:14:21.941Z"
      },
      {
        "duration": 4,
        "start_time": "2021-12-19T10:14:44.613Z"
      },
      {
        "duration": 7,
        "start_time": "2021-12-19T10:15:12.509Z"
      },
      {
        "duration": 4,
        "start_time": "2021-12-19T10:15:17.229Z"
      },
      {
        "duration": 43,
        "start_time": "2021-12-19T10:21:06.875Z"
      },
      {
        "duration": 8,
        "start_time": "2021-12-19T10:28:08.274Z"
      },
      {
        "duration": 9,
        "start_time": "2021-12-19T10:28:10.754Z"
      },
      {
        "duration": 44,
        "start_time": "2021-12-19T10:28:37.290Z"
      },
      {
        "duration": 338,
        "start_time": "2021-12-19T10:29:40.521Z"
      },
      {
        "duration": 23,
        "start_time": "2021-12-19T10:29:53.833Z"
      },
      {
        "duration": 24,
        "start_time": "2021-12-19T10:30:02.408Z"
      },
      {
        "duration": 24,
        "start_time": "2021-12-19T10:30:19.913Z"
      },
      {
        "duration": 24,
        "start_time": "2021-12-19T10:30:26.169Z"
      },
      {
        "duration": 40,
        "start_time": "2021-12-19T10:55:10.908Z"
      },
      {
        "duration": 191,
        "start_time": "2021-12-19T10:55:50.826Z"
      },
      {
        "duration": 43,
        "start_time": "2021-12-19T10:55:59.483Z"
      },
      {
        "duration": 38,
        "start_time": "2021-12-19T10:57:53.017Z"
      },
      {
        "duration": 6,
        "start_time": "2021-12-19T10:57:56.609Z"
      },
      {
        "duration": 8,
        "start_time": "2021-12-19T10:58:52.993Z"
      },
      {
        "duration": 7,
        "start_time": "2021-12-19T10:58:57.011Z"
      },
      {
        "duration": 5,
        "start_time": "2021-12-19T10:59:35.297Z"
      },
      {
        "duration": 17,
        "start_time": "2021-12-19T11:03:58.984Z"
      },
      {
        "duration": 8,
        "start_time": "2021-12-19T11:04:01.602Z"
      },
      {
        "duration": 40,
        "start_time": "2021-12-19T11:04:12.336Z"
      },
      {
        "duration": 8,
        "start_time": "2021-12-19T11:04:13.824Z"
      },
      {
        "duration": 6,
        "start_time": "2021-12-19T11:04:18.168Z"
      },
      {
        "duration": 21,
        "start_time": "2021-12-19T11:06:19.967Z"
      },
      {
        "duration": 6,
        "start_time": "2021-12-19T11:06:24.136Z"
      },
      {
        "duration": 23,
        "start_time": "2021-12-19T11:08:02.311Z"
      },
      {
        "duration": 9,
        "start_time": "2021-12-19T11:08:04.262Z"
      },
      {
        "duration": 22,
        "start_time": "2021-12-19T11:09:41.952Z"
      },
      {
        "duration": 6,
        "start_time": "2021-12-19T11:09:44.407Z"
      },
      {
        "duration": 6,
        "start_time": "2021-12-19T11:09:57.567Z"
      },
      {
        "duration": 5,
        "start_time": "2021-12-19T11:10:00.016Z"
      },
      {
        "duration": 139,
        "start_time": "2021-12-19T11:10:56.998Z"
      },
      {
        "duration": 6,
        "start_time": "2021-12-19T11:10:58.342Z"
      },
      {
        "duration": 186,
        "start_time": "2021-12-19T11:11:13.283Z"
      },
      {
        "duration": 7,
        "start_time": "2021-12-19T11:11:16.021Z"
      },
      {
        "duration": 46,
        "start_time": "2021-12-19T11:11:34.761Z"
      },
      {
        "duration": 13,
        "start_time": "2021-12-19T11:11:36.901Z"
      },
      {
        "duration": 37,
        "start_time": "2021-12-19T11:12:05.526Z"
      },
      {
        "duration": 6,
        "start_time": "2021-12-19T11:12:06.942Z"
      },
      {
        "duration": 6,
        "start_time": "2021-12-19T11:12:08.974Z"
      },
      {
        "duration": 282,
        "start_time": "2021-12-19T11:15:06.486Z"
      },
      {
        "duration": 1275,
        "start_time": "2021-12-19T11:15:11.631Z"
      },
      {
        "duration": 124,
        "start_time": "2021-12-19T11:15:12.908Z"
      },
      {
        "duration": 10,
        "start_time": "2021-12-19T11:15:13.034Z"
      },
      {
        "duration": 14,
        "start_time": "2021-12-19T11:15:13.045Z"
      },
      {
        "duration": 12,
        "start_time": "2021-12-19T11:15:13.061Z"
      },
      {
        "duration": 3,
        "start_time": "2021-12-19T11:15:13.092Z"
      },
      {
        "duration": 10,
        "start_time": "2021-12-19T11:15:13.097Z"
      },
      {
        "duration": 16,
        "start_time": "2021-12-19T11:15:13.110Z"
      },
      {
        "duration": 87,
        "start_time": "2021-12-19T11:15:13.129Z"
      },
      {
        "duration": 58,
        "start_time": "2021-12-19T11:15:13.217Z"
      },
      {
        "duration": 68,
        "start_time": "2021-12-19T11:15:13.277Z"
      },
      {
        "duration": 16,
        "start_time": "2021-12-19T11:15:13.347Z"
      },
      {
        "duration": 90,
        "start_time": "2021-12-19T11:15:13.365Z"
      },
      {
        "duration": 49,
        "start_time": "2021-12-19T11:15:13.457Z"
      },
      {
        "duration": 21,
        "start_time": "2021-12-19T11:15:13.508Z"
      },
      {
        "duration": 8,
        "start_time": "2021-12-19T11:15:13.531Z"
      },
      {
        "duration": 19,
        "start_time": "2021-12-19T11:15:13.540Z"
      },
      {
        "duration": 31,
        "start_time": "2021-12-19T11:15:13.561Z"
      },
      {
        "duration": 7,
        "start_time": "2021-12-19T11:15:13.594Z"
      },
      {
        "duration": 4,
        "start_time": "2021-12-19T11:15:13.604Z"
      },
      {
        "duration": 7,
        "start_time": "2021-12-19T11:15:13.609Z"
      },
      {
        "duration": 9,
        "start_time": "2021-12-19T11:15:13.618Z"
      },
      {
        "duration": 431,
        "start_time": "2021-12-19T11:15:13.630Z"
      },
      {
        "duration": 27,
        "start_time": "2021-12-19T11:15:14.064Z"
      },
      {
        "duration": 16,
        "start_time": "2021-12-19T11:15:14.093Z"
      },
      {
        "duration": 14,
        "start_time": "2021-12-19T11:15:14.111Z"
      },
      {
        "duration": 327,
        "start_time": "2021-12-19T11:15:14.127Z"
      },
      {
        "duration": 4,
        "start_time": "2021-12-19T11:15:14.456Z"
      },
      {
        "duration": 6,
        "start_time": "2021-12-19T11:15:14.462Z"
      },
      {
        "duration": 31,
        "start_time": "2021-12-19T11:15:14.470Z"
      },
      {
        "duration": 5,
        "start_time": "2021-12-19T11:15:14.503Z"
      },
      {
        "duration": 7,
        "start_time": "2021-12-19T11:15:14.510Z"
      },
      {
        "duration": 6,
        "start_time": "2021-12-19T11:15:14.518Z"
      },
      {
        "duration": 71,
        "start_time": "2021-12-19T11:15:14.525Z"
      },
      {
        "duration": 8,
        "start_time": "2021-12-19T11:15:14.598Z"
      },
      {
        "duration": 28,
        "start_time": "2021-12-19T11:15:14.608Z"
      },
      {
        "duration": 74,
        "start_time": "2021-12-19T11:15:14.638Z"
      },
      {
        "duration": 6,
        "start_time": "2021-12-19T11:15:14.714Z"
      },
      {
        "duration": 8,
        "start_time": "2021-12-19T11:15:14.722Z"
      },
      {
        "duration": 26,
        "start_time": "2021-12-19T11:15:14.731Z"
      },
      {
        "duration": 33,
        "start_time": "2021-12-19T11:15:14.759Z"
      },
      {
        "duration": 505,
        "start_time": "2021-12-19T11:15:50.007Z"
      },
      {
        "duration": 105,
        "start_time": "2021-12-19T11:21:36.526Z"
      },
      {
        "duration": 110,
        "start_time": "2021-12-19T11:21:40.251Z"
      },
      {
        "duration": 5,
        "start_time": "2021-12-19T11:28:19.396Z"
      },
      {
        "duration": 8,
        "start_time": "2021-12-19T11:28:23.359Z"
      },
      {
        "duration": 9,
        "start_time": "2021-12-19T11:28:31.587Z"
      },
      {
        "duration": 9,
        "start_time": "2021-12-19T11:28:35.684Z"
      },
      {
        "duration": 11,
        "start_time": "2021-12-19T11:28:52.375Z"
      },
      {
        "duration": 5,
        "start_time": "2021-12-19T11:29:27.163Z"
      },
      {
        "duration": 7,
        "start_time": "2021-12-19T11:29:33.307Z"
      },
      {
        "duration": 150,
        "start_time": "2021-12-19T11:29:54.763Z"
      },
      {
        "duration": 450,
        "start_time": "2021-12-19T11:30:58.556Z"
      },
      {
        "duration": 45,
        "start_time": "2021-12-19T11:31:23.059Z"
      },
      {
        "duration": 7,
        "start_time": "2021-12-19T11:31:24.203Z"
      },
      {
        "duration": 6,
        "start_time": "2021-12-19T11:31:25.820Z"
      },
      {
        "duration": 4,
        "start_time": "2021-12-19T11:33:18.363Z"
      },
      {
        "duration": 1290,
        "start_time": "2021-12-19T11:33:22.704Z"
      },
      {
        "duration": 118,
        "start_time": "2021-12-19T11:33:23.997Z"
      },
      {
        "duration": 11,
        "start_time": "2021-12-19T11:33:24.117Z"
      },
      {
        "duration": 12,
        "start_time": "2021-12-19T11:33:24.130Z"
      },
      {
        "duration": 12,
        "start_time": "2021-12-19T11:33:24.144Z"
      },
      {
        "duration": 3,
        "start_time": "2021-12-19T11:33:24.157Z"
      },
      {
        "duration": 34,
        "start_time": "2021-12-19T11:33:24.161Z"
      },
      {
        "duration": 17,
        "start_time": "2021-12-19T11:33:24.198Z"
      },
      {
        "duration": 79,
        "start_time": "2021-12-19T11:33:24.218Z"
      },
      {
        "duration": 74,
        "start_time": "2021-12-19T11:33:24.299Z"
      },
      {
        "duration": 75,
        "start_time": "2021-12-19T11:33:24.375Z"
      },
      {
        "duration": 15,
        "start_time": "2021-12-19T11:33:24.452Z"
      },
      {
        "duration": 89,
        "start_time": "2021-12-19T11:33:24.469Z"
      },
      {
        "duration": 39,
        "start_time": "2021-12-19T11:33:24.560Z"
      },
      {
        "duration": 24,
        "start_time": "2021-12-19T11:33:24.601Z"
      },
      {
        "duration": 11,
        "start_time": "2021-12-19T11:33:24.627Z"
      },
      {
        "duration": 17,
        "start_time": "2021-12-19T11:33:24.639Z"
      },
      {
        "duration": 3,
        "start_time": "2021-12-19T11:33:24.659Z"
      },
      {
        "duration": 8,
        "start_time": "2021-12-19T11:33:24.691Z"
      },
      {
        "duration": 10,
        "start_time": "2021-12-19T11:33:24.701Z"
      },
      {
        "duration": 14,
        "start_time": "2021-12-19T11:33:24.713Z"
      },
      {
        "duration": 5,
        "start_time": "2021-12-19T11:33:24.729Z"
      },
      {
        "duration": 440,
        "start_time": "2021-12-19T11:33:24.738Z"
      },
      {
        "duration": 24,
        "start_time": "2021-12-19T11:33:25.180Z"
      },
      {
        "duration": 16,
        "start_time": "2021-12-19T11:33:25.205Z"
      },
      {
        "duration": 13,
        "start_time": "2021-12-19T11:33:25.223Z"
      },
      {
        "duration": 293,
        "start_time": "2021-12-19T11:33:25.238Z"
      },
      {
        "duration": 4,
        "start_time": "2021-12-19T11:33:25.533Z"
      },
      {
        "duration": 7,
        "start_time": "2021-12-19T11:33:25.538Z"
      },
      {
        "duration": 17,
        "start_time": "2021-12-19T11:33:25.546Z"
      },
      {
        "duration": 30,
        "start_time": "2021-12-19T11:33:25.565Z"
      },
      {
        "duration": 4,
        "start_time": "2021-12-19T11:33:25.597Z"
      },
      {
        "duration": 6,
        "start_time": "2021-12-19T11:33:25.602Z"
      },
      {
        "duration": 50,
        "start_time": "2021-12-19T11:33:25.610Z"
      },
      {
        "duration": 37,
        "start_time": "2021-12-19T11:33:25.661Z"
      },
      {
        "duration": 29,
        "start_time": "2021-12-19T11:33:25.700Z"
      },
      {
        "duration": 66,
        "start_time": "2021-12-19T11:33:25.731Z"
      },
      {
        "duration": 6,
        "start_time": "2021-12-19T11:33:25.799Z"
      },
      {
        "duration": 7,
        "start_time": "2021-12-19T11:33:25.807Z"
      },
      {
        "duration": 27,
        "start_time": "2021-12-19T11:33:25.816Z"
      },
      {
        "duration": 7,
        "start_time": "2021-12-19T11:33:25.845Z"
      },
      {
        "duration": 463,
        "start_time": "2021-12-19T11:35:20.429Z"
      },
      {
        "duration": 24,
        "start_time": "2021-12-19T11:38:43.109Z"
      },
      {
        "duration": 6,
        "start_time": "2021-12-19T11:38:44.246Z"
      },
      {
        "duration": 1260,
        "start_time": "2021-12-19T11:38:53.337Z"
      },
      {
        "duration": 118,
        "start_time": "2021-12-19T11:38:54.600Z"
      },
      {
        "duration": 11,
        "start_time": "2021-12-19T11:38:54.720Z"
      },
      {
        "duration": 11,
        "start_time": "2021-12-19T11:38:54.732Z"
      },
      {
        "duration": 11,
        "start_time": "2021-12-19T11:38:54.745Z"
      },
      {
        "duration": 3,
        "start_time": "2021-12-19T11:38:54.758Z"
      },
      {
        "duration": 30,
        "start_time": "2021-12-19T11:38:54.763Z"
      },
      {
        "duration": 16,
        "start_time": "2021-12-19T11:38:54.797Z"
      },
      {
        "duration": 77,
        "start_time": "2021-12-19T11:38:54.815Z"
      },
      {
        "duration": 57,
        "start_time": "2021-12-19T11:38:54.894Z"
      },
      {
        "duration": 77,
        "start_time": "2021-12-19T11:38:54.953Z"
      },
      {
        "duration": 15,
        "start_time": "2021-12-19T11:38:55.031Z"
      },
      {
        "duration": 85,
        "start_time": "2021-12-19T11:38:55.048Z"
      },
      {
        "duration": 36,
        "start_time": "2021-12-19T11:38:55.135Z"
      },
      {
        "duration": 32,
        "start_time": "2021-12-19T11:38:55.173Z"
      },
      {
        "duration": 9,
        "start_time": "2021-12-19T11:38:55.206Z"
      },
      {
        "duration": 22,
        "start_time": "2021-12-19T11:38:55.216Z"
      },
      {
        "duration": 4,
        "start_time": "2021-12-19T11:38:55.240Z"
      },
      {
        "duration": 7,
        "start_time": "2021-12-19T11:38:55.246Z"
      },
      {
        "duration": 4,
        "start_time": "2021-12-19T11:38:55.255Z"
      },
      {
        "duration": 37,
        "start_time": "2021-12-19T11:38:55.261Z"
      },
      {
        "duration": 5,
        "start_time": "2021-12-19T11:38:55.300Z"
      },
      {
        "duration": 429,
        "start_time": "2021-12-19T11:38:55.308Z"
      },
      {
        "duration": 17,
        "start_time": "2021-12-19T11:38:55.739Z"
      },
      {
        "duration": 33,
        "start_time": "2021-12-19T11:38:55.758Z"
      },
      {
        "duration": 15,
        "start_time": "2021-12-19T11:38:55.793Z"
      },
      {
        "duration": 296,
        "start_time": "2021-12-19T11:38:55.810Z"
      },
      {
        "duration": 4,
        "start_time": "2021-12-19T11:38:56.108Z"
      },
      {
        "duration": 6,
        "start_time": "2021-12-19T11:38:56.114Z"
      },
      {
        "duration": 17,
        "start_time": "2021-12-19T11:38:56.122Z"
      },
      {
        "duration": 5,
        "start_time": "2021-12-19T11:38:56.141Z"
      },
      {
        "duration": 4,
        "start_time": "2021-12-19T11:38:56.148Z"
      },
      {
        "duration": 41,
        "start_time": "2021-12-19T11:38:56.153Z"
      },
      {
        "duration": 45,
        "start_time": "2021-12-19T11:38:56.196Z"
      },
      {
        "duration": 10,
        "start_time": "2021-12-19T11:38:56.242Z"
      },
      {
        "duration": 55,
        "start_time": "2021-12-19T11:38:56.254Z"
      },
      {
        "duration": 47,
        "start_time": "2021-12-19T11:38:56.310Z"
      },
      {
        "duration": 6,
        "start_time": "2021-12-19T11:38:56.359Z"
      },
      {
        "duration": 26,
        "start_time": "2021-12-19T11:38:56.366Z"
      },
      {
        "duration": 28,
        "start_time": "2021-12-19T11:38:56.394Z"
      },
      {
        "duration": 5,
        "start_time": "2021-12-19T11:38:56.424Z"
      },
      {
        "duration": 46,
        "start_time": "2021-12-19T11:41:53.717Z"
      },
      {
        "duration": 7,
        "start_time": "2021-12-19T11:41:55.429Z"
      },
      {
        "duration": 8,
        "start_time": "2021-12-19T11:41:57.271Z"
      },
      {
        "duration": 46,
        "start_time": "2021-12-19T11:42:01.693Z"
      },
      {
        "duration": 6,
        "start_time": "2021-12-19T11:42:02.750Z"
      },
      {
        "duration": 7,
        "start_time": "2021-12-19T11:42:05.773Z"
      },
      {
        "duration": 27,
        "start_time": "2021-12-19T11:49:02.949Z"
      },
      {
        "duration": 6,
        "start_time": "2021-12-19T11:49:50.284Z"
      },
      {
        "duration": 7,
        "start_time": "2021-12-19T11:49:54.755Z"
      },
      {
        "duration": 46,
        "start_time": "2021-12-19T11:53:39.596Z"
      },
      {
        "duration": 7,
        "start_time": "2021-12-19T11:53:40.906Z"
      },
      {
        "duration": 7,
        "start_time": "2021-12-19T11:53:44.866Z"
      },
      {
        "duration": 7,
        "start_time": "2021-12-19T11:53:45.900Z"
      },
      {
        "duration": 6,
        "start_time": "2021-12-19T11:53:54.667Z"
      },
      {
        "duration": 7,
        "start_time": "2021-12-19T11:53:55.960Z"
      },
      {
        "duration": 8,
        "start_time": "2021-12-19T11:54:10.547Z"
      },
      {
        "duration": 7,
        "start_time": "2021-12-19T11:54:11.780Z"
      },
      {
        "duration": 243,
        "start_time": "2021-12-19T12:04:11.714Z"
      },
      {
        "duration": 199,
        "start_time": "2021-12-19T12:04:34.172Z"
      },
      {
        "duration": 9,
        "start_time": "2021-12-19T12:06:01.754Z"
      },
      {
        "duration": 5,
        "start_time": "2021-12-19T12:06:09.378Z"
      },
      {
        "duration": 45,
        "start_time": "2021-12-19T12:06:19.560Z"
      },
      {
        "duration": 7,
        "start_time": "2021-12-19T12:06:20.825Z"
      },
      {
        "duration": 7,
        "start_time": "2021-12-19T12:06:23.033Z"
      },
      {
        "duration": 235,
        "start_time": "2021-12-19T12:06:44.241Z"
      },
      {
        "duration": 141,
        "start_time": "2021-12-19T12:06:53.401Z"
      },
      {
        "duration": 153,
        "start_time": "2021-12-19T12:07:11.337Z"
      },
      {
        "duration": 142,
        "start_time": "2021-12-19T12:08:23.673Z"
      },
      {
        "duration": 145,
        "start_time": "2021-12-19T12:10:30.690Z"
      },
      {
        "duration": 138,
        "start_time": "2021-12-19T12:10:49.296Z"
      },
      {
        "duration": 4,
        "start_time": "2021-12-19T12:11:36.776Z"
      },
      {
        "duration": 143,
        "start_time": "2021-12-19T12:11:46.896Z"
      },
      {
        "duration": 140,
        "start_time": "2021-12-19T12:12:06.624Z"
      },
      {
        "duration": 826,
        "start_time": "2021-12-19T12:15:44.671Z"
      },
      {
        "duration": 3,
        "start_time": "2021-12-19T12:16:23.552Z"
      },
      {
        "duration": 6,
        "start_time": "2021-12-19T12:16:30.391Z"
      },
      {
        "duration": 4,
        "start_time": "2021-12-19T12:17:01.803Z"
      },
      {
        "duration": 7,
        "start_time": "2021-12-19T12:17:02.784Z"
      },
      {
        "duration": 136,
        "start_time": "2021-12-19T12:17:24.015Z"
      },
      {
        "duration": 147,
        "start_time": "2021-12-19T12:17:54.296Z"
      },
      {
        "duration": 6,
        "start_time": "2021-12-19T12:18:08.678Z"
      },
      {
        "duration": 739,
        "start_time": "2021-12-19T12:18:58.881Z"
      },
      {
        "duration": 111,
        "start_time": "2021-12-19T12:19:04.351Z"
      },
      {
        "duration": 1338,
        "start_time": "2021-12-19T12:20:42.751Z"
      },
      {
        "duration": 120,
        "start_time": "2021-12-19T12:20:44.091Z"
      },
      {
        "duration": 10,
        "start_time": "2021-12-19T12:20:44.213Z"
      },
      {
        "duration": 42,
        "start_time": "2021-12-19T12:20:44.224Z"
      },
      {
        "duration": 22,
        "start_time": "2021-12-19T12:20:44.268Z"
      },
      {
        "duration": 20,
        "start_time": "2021-12-19T12:20:44.292Z"
      },
      {
        "duration": 20,
        "start_time": "2021-12-19T12:20:44.314Z"
      },
      {
        "duration": 32,
        "start_time": "2021-12-19T12:20:44.337Z"
      },
      {
        "duration": 61,
        "start_time": "2021-12-19T12:20:44.372Z"
      },
      {
        "duration": 66,
        "start_time": "2021-12-19T12:20:44.435Z"
      },
      {
        "duration": 64,
        "start_time": "2021-12-19T12:20:44.503Z"
      },
      {
        "duration": 27,
        "start_time": "2021-12-19T12:20:44.569Z"
      },
      {
        "duration": 76,
        "start_time": "2021-12-19T12:20:44.598Z"
      },
      {
        "duration": 50,
        "start_time": "2021-12-19T12:20:44.676Z"
      },
      {
        "duration": 24,
        "start_time": "2021-12-19T12:20:44.728Z"
      },
      {
        "duration": 9,
        "start_time": "2021-12-19T12:20:44.754Z"
      },
      {
        "duration": 33,
        "start_time": "2021-12-19T12:20:44.764Z"
      },
      {
        "duration": 4,
        "start_time": "2021-12-19T12:20:44.799Z"
      },
      {
        "duration": 22,
        "start_time": "2021-12-19T12:20:44.804Z"
      },
      {
        "duration": 21,
        "start_time": "2021-12-19T12:20:44.828Z"
      },
      {
        "duration": 34,
        "start_time": "2021-12-19T12:20:44.850Z"
      },
      {
        "duration": 13,
        "start_time": "2021-12-19T12:20:44.886Z"
      },
      {
        "duration": 415,
        "start_time": "2021-12-19T12:20:44.902Z"
      },
      {
        "duration": 15,
        "start_time": "2021-12-19T12:20:45.319Z"
      },
      {
        "duration": 16,
        "start_time": "2021-12-19T12:20:45.336Z"
      },
      {
        "duration": 13,
        "start_time": "2021-12-19T12:20:45.354Z"
      },
      {
        "duration": 295,
        "start_time": "2021-12-19T12:20:45.369Z"
      },
      {
        "duration": 5,
        "start_time": "2021-12-19T12:20:45.666Z"
      },
      {
        "duration": 21,
        "start_time": "2021-12-19T12:20:45.672Z"
      },
      {
        "duration": 20,
        "start_time": "2021-12-19T12:20:45.694Z"
      },
      {
        "duration": 11,
        "start_time": "2021-12-19T12:20:45.716Z"
      },
      {
        "duration": 13,
        "start_time": "2021-12-19T12:20:45.728Z"
      },
      {
        "duration": 27,
        "start_time": "2021-12-19T12:20:45.742Z"
      },
      {
        "duration": 60,
        "start_time": "2021-12-19T12:20:45.771Z"
      },
      {
        "duration": 9,
        "start_time": "2021-12-19T12:20:45.833Z"
      },
      {
        "duration": 36,
        "start_time": "2021-12-19T12:20:45.844Z"
      },
      {
        "duration": 46,
        "start_time": "2021-12-19T12:20:45.892Z"
      },
      {
        "duration": 6,
        "start_time": "2021-12-19T12:20:45.940Z"
      },
      {
        "duration": 26,
        "start_time": "2021-12-19T12:20:45.947Z"
      },
      {
        "duration": 17,
        "start_time": "2021-12-19T12:20:45.975Z"
      },
      {
        "duration": 20,
        "start_time": "2021-12-19T12:20:45.993Z"
      },
      {
        "duration": 27,
        "start_time": "2021-12-19T12:20:46.015Z"
      },
      {
        "duration": 300,
        "start_time": "2021-12-19T12:20:46.044Z"
      },
      {
        "duration": -25,
        "start_time": "2021-12-19T12:20:46.372Z"
      },
      {
        "duration": -26,
        "start_time": "2021-12-19T12:20:46.374Z"
      },
      {
        "duration": -26,
        "start_time": "2021-12-19T12:20:46.376Z"
      },
      {
        "duration": -28,
        "start_time": "2021-12-19T12:20:46.379Z"
      },
      {
        "duration": 446,
        "start_time": "2021-12-19T12:23:29.463Z"
      },
      {
        "duration": 45,
        "start_time": "2021-12-19T12:23:37.889Z"
      },
      {
        "duration": 228,
        "start_time": "2021-12-19T12:23:53.710Z"
      },
      {
        "duration": 110,
        "start_time": "2021-12-19T12:23:56.286Z"
      },
      {
        "duration": 9,
        "start_time": "2021-12-19T12:23:56.480Z"
      },
      {
        "duration": 128,
        "start_time": "2021-12-19T12:25:01.479Z"
      },
      {
        "duration": 10,
        "start_time": "2021-12-19T12:25:03.838Z"
      },
      {
        "duration": 7,
        "start_time": "2021-12-19T13:59:20.505Z"
      },
      {
        "duration": 35,
        "start_time": "2021-12-19T14:00:24.360Z"
      },
      {
        "duration": 32,
        "start_time": "2021-12-19T14:00:42.160Z"
      },
      {
        "duration": 31,
        "start_time": "2021-12-19T14:00:48.217Z"
      },
      {
        "duration": 1332,
        "start_time": "2021-12-19T14:00:54.011Z"
      },
      {
        "duration": 122,
        "start_time": "2021-12-19T14:00:55.345Z"
      },
      {
        "duration": 21,
        "start_time": "2021-12-19T14:00:55.470Z"
      },
      {
        "duration": 13,
        "start_time": "2021-12-19T14:00:55.493Z"
      },
      {
        "duration": 39,
        "start_time": "2021-12-19T14:00:55.508Z"
      },
      {
        "duration": 26,
        "start_time": "2021-12-19T14:00:55.549Z"
      },
      {
        "duration": 31,
        "start_time": "2021-12-19T14:00:55.577Z"
      },
      {
        "duration": 39,
        "start_time": "2021-12-19T14:00:55.611Z"
      },
      {
        "duration": 67,
        "start_time": "2021-12-19T14:00:55.652Z"
      },
      {
        "duration": 71,
        "start_time": "2021-12-19T14:00:55.721Z"
      },
      {
        "duration": 65,
        "start_time": "2021-12-19T14:00:55.794Z"
      },
      {
        "duration": 31,
        "start_time": "2021-12-19T14:00:55.861Z"
      },
      {
        "duration": 73,
        "start_time": "2021-12-19T14:00:55.894Z"
      },
      {
        "duration": 53,
        "start_time": "2021-12-19T14:00:55.969Z"
      },
      {
        "duration": 20,
        "start_time": "2021-12-19T14:00:56.024Z"
      },
      {
        "duration": 8,
        "start_time": "2021-12-19T14:00:56.046Z"
      },
      {
        "duration": 16,
        "start_time": "2021-12-19T14:00:56.056Z"
      },
      {
        "duration": 3,
        "start_time": "2021-12-19T14:00:56.092Z"
      },
      {
        "duration": 7,
        "start_time": "2021-12-19T14:00:56.097Z"
      },
      {
        "duration": 3,
        "start_time": "2021-12-19T14:00:56.106Z"
      },
      {
        "duration": 5,
        "start_time": "2021-12-19T14:00:56.111Z"
      },
      {
        "duration": 4,
        "start_time": "2021-12-19T14:00:56.118Z"
      },
      {
        "duration": 446,
        "start_time": "2021-12-19T14:00:56.125Z"
      },
      {
        "duration": 23,
        "start_time": "2021-12-19T14:00:56.574Z"
      },
      {
        "duration": 14,
        "start_time": "2021-12-19T14:00:56.599Z"
      },
      {
        "duration": 18,
        "start_time": "2021-12-19T14:00:56.615Z"
      },
      {
        "duration": 285,
        "start_time": "2021-12-19T14:00:56.635Z"
      },
      {
        "duration": 5,
        "start_time": "2021-12-19T14:00:56.921Z"
      },
      {
        "duration": 5,
        "start_time": "2021-12-19T14:00:56.928Z"
      },
      {
        "duration": 17,
        "start_time": "2021-12-19T14:00:56.934Z"
      },
      {
        "duration": 5,
        "start_time": "2021-12-19T14:00:56.952Z"
      },
      {
        "duration": 4,
        "start_time": "2021-12-19T14:00:56.959Z"
      },
      {
        "duration": 4,
        "start_time": "2021-12-19T14:00:56.991Z"
      },
      {
        "duration": 50,
        "start_time": "2021-12-19T14:00:56.996Z"
      },
      {
        "duration": 8,
        "start_time": "2021-12-19T14:00:57.048Z"
      },
      {
        "duration": 56,
        "start_time": "2021-12-19T14:00:57.058Z"
      },
      {
        "duration": 45,
        "start_time": "2021-12-19T14:00:57.116Z"
      },
      {
        "duration": 7,
        "start_time": "2021-12-19T14:00:57.163Z"
      },
      {
        "duration": 26,
        "start_time": "2021-12-19T14:00:57.171Z"
      },
      {
        "duration": 4,
        "start_time": "2021-12-19T14:00:57.199Z"
      },
      {
        "duration": 8,
        "start_time": "2021-12-19T14:00:57.205Z"
      },
      {
        "duration": 483,
        "start_time": "2021-12-19T14:00:57.214Z"
      },
      {
        "duration": 50,
        "start_time": "2021-12-19T14:00:57.698Z"
      },
      {
        "duration": 6,
        "start_time": "2021-12-19T14:01:08.692Z"
      },
      {
        "duration": 205,
        "start_time": "2021-12-19T14:01:22.420Z"
      },
      {
        "duration": 8,
        "start_time": "2021-12-19T14:01:22.626Z"
      },
      {
        "duration": 3467,
        "start_time": "2021-12-19T14:18:05.153Z"
      },
      {
        "duration": 9,
        "start_time": "2021-12-19T14:18:14.239Z"
      },
      {
        "duration": 5,
        "start_time": "2021-12-19T14:18:24.246Z"
      },
      {
        "duration": 10,
        "start_time": "2021-12-19T14:19:18.399Z"
      },
      {
        "duration": 18,
        "start_time": "2021-12-19T14:19:44.975Z"
      },
      {
        "duration": 4,
        "start_time": "2021-12-19T14:19:47.674Z"
      },
      {
        "duration": 15,
        "start_time": "2021-12-19T14:20:29.261Z"
      },
      {
        "duration": 4,
        "start_time": "2021-12-19T14:20:32.957Z"
      },
      {
        "duration": 17,
        "start_time": "2021-12-19T14:20:59.414Z"
      },
      {
        "duration": 4,
        "start_time": "2021-12-19T14:21:04.637Z"
      },
      {
        "duration": 3,
        "start_time": "2021-12-19T14:21:22.878Z"
      },
      {
        "duration": 13,
        "start_time": "2021-12-19T14:21:27.662Z"
      },
      {
        "duration": 18,
        "start_time": "2021-12-19T14:21:28.029Z"
      },
      {
        "duration": 6,
        "start_time": "2021-12-19T14:22:29.237Z"
      },
      {
        "duration": 5,
        "start_time": "2021-12-19T14:22:38.086Z"
      },
      {
        "duration": 13,
        "start_time": "2021-12-19T14:22:48.077Z"
      },
      {
        "duration": 6,
        "start_time": "2021-12-19T14:22:49.093Z"
      },
      {
        "duration": 4,
        "start_time": "2021-12-19T14:23:09.453Z"
      },
      {
        "duration": 4,
        "start_time": "2021-12-19T14:23:10.989Z"
      },
      {
        "duration": 13,
        "start_time": "2021-12-19T14:23:26.429Z"
      },
      {
        "duration": 10,
        "start_time": "2021-12-19T14:23:35.882Z"
      },
      {
        "duration": 4,
        "start_time": "2021-12-19T14:23:39.214Z"
      },
      {
        "duration": 6,
        "start_time": "2021-12-19T14:23:44.991Z"
      },
      {
        "duration": 13,
        "start_time": "2021-12-19T14:23:46.606Z"
      },
      {
        "duration": 4,
        "start_time": "2021-12-19T14:23:47.262Z"
      },
      {
        "duration": 4,
        "start_time": "2021-12-19T14:24:02.317Z"
      },
      {
        "duration": 11,
        "start_time": "2021-12-19T14:24:03.487Z"
      },
      {
        "duration": 4,
        "start_time": "2021-12-19T14:24:04.373Z"
      },
      {
        "duration": 1282,
        "start_time": "2021-12-19T14:24:15.541Z"
      },
      {
        "duration": 124,
        "start_time": "2021-12-19T14:24:16.825Z"
      },
      {
        "duration": 10,
        "start_time": "2021-12-19T14:24:16.954Z"
      },
      {
        "duration": 26,
        "start_time": "2021-12-19T14:24:16.966Z"
      },
      {
        "duration": 11,
        "start_time": "2021-12-19T14:24:16.994Z"
      },
      {
        "duration": 4,
        "start_time": "2021-12-19T14:24:17.007Z"
      },
      {
        "duration": 10,
        "start_time": "2021-12-19T14:24:17.012Z"
      },
      {
        "duration": 15,
        "start_time": "2021-12-19T14:24:17.025Z"
      },
      {
        "duration": 84,
        "start_time": "2021-12-19T14:24:17.042Z"
      },
      {
        "duration": 70,
        "start_time": "2021-12-19T14:24:17.129Z"
      },
      {
        "duration": 55,
        "start_time": "2021-12-19T14:24:17.201Z"
      },
      {
        "duration": 33,
        "start_time": "2021-12-19T14:24:17.258Z"
      },
      {
        "duration": 73,
        "start_time": "2021-12-19T14:24:17.293Z"
      },
      {
        "duration": 48,
        "start_time": "2021-12-19T14:24:17.367Z"
      },
      {
        "duration": 21,
        "start_time": "2021-12-19T14:24:17.417Z"
      },
      {
        "duration": 8,
        "start_time": "2021-12-19T14:24:17.440Z"
      },
      {
        "duration": 17,
        "start_time": "2021-12-19T14:24:17.449Z"
      },
      {
        "duration": 4,
        "start_time": "2021-12-19T14:24:17.491Z"
      },
      {
        "duration": 7,
        "start_time": "2021-12-19T14:24:17.497Z"
      },
      {
        "duration": 4,
        "start_time": "2021-12-19T14:24:17.506Z"
      },
      {
        "duration": 6,
        "start_time": "2021-12-19T14:24:17.512Z"
      },
      {
        "duration": 5,
        "start_time": "2021-12-19T14:24:17.519Z"
      },
      {
        "duration": 446,
        "start_time": "2021-12-19T14:24:17.525Z"
      },
      {
        "duration": 25,
        "start_time": "2021-12-19T14:24:17.972Z"
      },
      {
        "duration": 15,
        "start_time": "2021-12-19T14:24:17.998Z"
      },
      {
        "duration": 14,
        "start_time": "2021-12-19T14:24:18.017Z"
      },
      {
        "duration": 303,
        "start_time": "2021-12-19T14:24:18.033Z"
      },
      {
        "duration": 4,
        "start_time": "2021-12-19T14:24:18.337Z"
      },
      {
        "duration": 7,
        "start_time": "2021-12-19T14:24:18.343Z"
      },
      {
        "duration": 18,
        "start_time": "2021-12-19T14:24:18.351Z"
      },
      {
        "duration": 22,
        "start_time": "2021-12-19T14:24:18.371Z"
      },
      {
        "duration": 4,
        "start_time": "2021-12-19T14:24:18.395Z"
      },
      {
        "duration": 5,
        "start_time": "2021-12-19T14:24:18.401Z"
      },
      {
        "duration": 47,
        "start_time": "2021-12-19T14:24:18.408Z"
      },
      {
        "duration": 36,
        "start_time": "2021-12-19T14:24:18.457Z"
      },
      {
        "duration": 32,
        "start_time": "2021-12-19T14:24:18.495Z"
      },
      {
        "duration": 74,
        "start_time": "2021-12-19T14:24:18.529Z"
      },
      {
        "duration": 6,
        "start_time": "2021-12-19T14:24:18.605Z"
      },
      {
        "duration": 7,
        "start_time": "2021-12-19T14:24:18.613Z"
      },
      {
        "duration": 470,
        "start_time": "2021-12-19T14:24:18.622Z"
      },
      {
        "duration": 44,
        "start_time": "2021-12-19T14:24:19.094Z"
      },
      {
        "duration": 4,
        "start_time": "2021-12-19T14:24:19.140Z"
      },
      {
        "duration": 48,
        "start_time": "2021-12-19T14:24:19.145Z"
      },
      {
        "duration": 4,
        "start_time": "2021-12-19T14:24:19.196Z"
      },
      {
        "duration": 14,
        "start_time": "2021-12-19T14:24:19.202Z"
      },
      {
        "duration": 4,
        "start_time": "2021-12-19T14:24:19.218Z"
      },
      {
        "duration": 14,
        "start_time": "2021-12-19T14:24:19.224Z"
      },
      {
        "duration": 4,
        "start_time": "2021-12-19T14:24:19.292Z"
      },
      {
        "duration": 5,
        "start_time": "2021-12-19T14:34:04.162Z"
      },
      {
        "duration": 4,
        "start_time": "2021-12-19T14:34:14.475Z"
      },
      {
        "duration": 3,
        "start_time": "2021-12-19T14:34:17.866Z"
      },
      {
        "duration": 4,
        "start_time": "2021-12-19T14:34:20.889Z"
      },
      {
        "duration": 4,
        "start_time": "2021-12-19T14:34:39.426Z"
      },
      {
        "duration": 3,
        "start_time": "2021-12-19T14:34:40.853Z"
      },
      {
        "duration": 4,
        "start_time": "2021-12-19T14:35:01.195Z"
      },
      {
        "duration": 3,
        "start_time": "2021-12-19T14:36:01.451Z"
      },
      {
        "duration": 3,
        "start_time": "2021-12-19T14:36:01.874Z"
      },
      {
        "duration": 4,
        "start_time": "2021-12-19T14:36:04.539Z"
      },
      {
        "duration": 4,
        "start_time": "2021-12-19T14:36:12.361Z"
      },
      {
        "duration": 4,
        "start_time": "2021-12-19T14:36:40.898Z"
      },
      {
        "duration": 4,
        "start_time": "2021-12-19T14:39:48.441Z"
      },
      {
        "duration": 5,
        "start_time": "2021-12-19T15:10:10.737Z"
      },
      {
        "duration": 10,
        "start_time": "2021-12-19T15:10:10.904Z"
      },
      {
        "duration": 14,
        "start_time": "2021-12-19T15:10:11.080Z"
      },
      {
        "duration": 12,
        "start_time": "2021-12-19T15:10:11.264Z"
      },
      {
        "duration": 14,
        "start_time": "2021-12-19T15:10:11.449Z"
      },
      {
        "duration": 12,
        "start_time": "2021-12-19T15:10:11.624Z"
      },
      {
        "duration": 13,
        "start_time": "2021-12-19T15:10:11.826Z"
      },
      {
        "duration": 3,
        "start_time": "2021-12-19T15:10:15.223Z"
      },
      {
        "duration": 11769,
        "start_time": "2021-12-19T15:10:15.399Z"
      },
      {
        "duration": 0,
        "start_time": "2021-12-19T15:10:27.170Z"
      },
      {
        "duration": -5,
        "start_time": "2021-12-19T15:10:27.176Z"
      },
      {
        "duration": 133,
        "start_time": "2021-12-19T15:11:54.759Z"
      },
      {
        "duration": 125,
        "start_time": "2021-12-19T15:12:07.144Z"
      },
      {
        "duration": 1390,
        "start_time": "2021-12-19T15:12:13.668Z"
      },
      {
        "duration": 123,
        "start_time": "2021-12-19T15:12:15.059Z"
      },
      {
        "duration": 14,
        "start_time": "2021-12-19T15:12:15.186Z"
      },
      {
        "duration": 11,
        "start_time": "2021-12-19T15:12:15.201Z"
      },
      {
        "duration": 11,
        "start_time": "2021-12-19T15:12:15.214Z"
      },
      {
        "duration": 8,
        "start_time": "2021-12-19T15:12:15.227Z"
      },
      {
        "duration": 11,
        "start_time": "2021-12-19T15:12:15.236Z"
      },
      {
        "duration": 43,
        "start_time": "2021-12-19T15:12:15.250Z"
      },
      {
        "duration": 52,
        "start_time": "2021-12-19T15:12:15.295Z"
      },
      {
        "duration": 78,
        "start_time": "2021-12-19T15:12:15.349Z"
      },
      {
        "duration": 62,
        "start_time": "2021-12-19T15:12:15.429Z"
      },
      {
        "duration": 16,
        "start_time": "2021-12-19T15:12:15.493Z"
      },
      {
        "duration": 85,
        "start_time": "2021-12-19T15:12:15.511Z"
      },
      {
        "duration": 35,
        "start_time": "2021-12-19T15:12:15.598Z"
      },
      {
        "duration": 22,
        "start_time": "2021-12-19T15:12:15.635Z"
      },
      {
        "duration": 32,
        "start_time": "2021-12-19T15:12:15.659Z"
      },
      {
        "duration": 14,
        "start_time": "2021-12-19T15:12:15.693Z"
      },
      {
        "duration": 4,
        "start_time": "2021-12-19T15:12:15.708Z"
      },
      {
        "duration": 7,
        "start_time": "2021-12-19T15:12:15.713Z"
      },
      {
        "duration": 3,
        "start_time": "2021-12-19T15:12:15.722Z"
      },
      {
        "duration": 9,
        "start_time": "2021-12-19T15:12:15.727Z"
      },
      {
        "duration": 6,
        "start_time": "2021-12-19T15:12:15.738Z"
      },
      {
        "duration": 455,
        "start_time": "2021-12-19T15:12:15.746Z"
      },
      {
        "duration": 15,
        "start_time": "2021-12-19T15:12:16.203Z"
      },
      {
        "duration": 15,
        "start_time": "2021-12-19T15:12:16.219Z"
      },
      {
        "duration": 13,
        "start_time": "2021-12-19T15:12:16.237Z"
      },
      {
        "duration": 302,
        "start_time": "2021-12-19T15:12:16.252Z"
      },
      {
        "duration": 4,
        "start_time": "2021-12-19T15:12:16.556Z"
      },
      {
        "duration": 5,
        "start_time": "2021-12-19T15:12:16.562Z"
      },
      {
        "duration": 33,
        "start_time": "2021-12-19T15:12:16.568Z"
      },
      {
        "duration": 5,
        "start_time": "2021-12-19T15:12:16.603Z"
      },
      {
        "duration": 3,
        "start_time": "2021-12-19T15:12:16.610Z"
      },
      {
        "duration": 4,
        "start_time": "2021-12-19T15:12:16.615Z"
      },
      {
        "duration": 72,
        "start_time": "2021-12-19T15:12:16.621Z"
      },
      {
        "duration": 9,
        "start_time": "2021-12-19T15:12:16.694Z"
      },
      {
        "duration": 31,
        "start_time": "2021-12-19T15:12:16.705Z"
      },
      {
        "duration": 69,
        "start_time": "2021-12-19T15:12:16.738Z"
      },
      {
        "duration": 7,
        "start_time": "2021-12-19T15:12:16.809Z"
      },
      {
        "duration": 7,
        "start_time": "2021-12-19T15:12:16.817Z"
      },
      {
        "duration": 472,
        "start_time": "2021-12-19T15:12:16.825Z"
      },
      {
        "duration": 45,
        "start_time": "2021-12-19T15:12:17.299Z"
      },
      {
        "duration": 5,
        "start_time": "2021-12-19T15:12:17.346Z"
      },
      {
        "duration": 10,
        "start_time": "2021-12-19T15:12:17.352Z"
      },
      {
        "duration": 14,
        "start_time": "2021-12-19T15:12:17.392Z"
      },
      {
        "duration": 10,
        "start_time": "2021-12-19T15:12:17.408Z"
      },
      {
        "duration": 12,
        "start_time": "2021-12-19T15:12:17.420Z"
      },
      {
        "duration": 12,
        "start_time": "2021-12-19T15:12:17.492Z"
      },
      {
        "duration": 17,
        "start_time": "2021-12-19T15:12:17.506Z"
      },
      {
        "duration": 69,
        "start_time": "2021-12-19T15:12:17.524Z"
      },
      {
        "duration": 11892,
        "start_time": "2021-12-19T15:12:17.595Z"
      },
      {
        "duration": -8,
        "start_time": "2021-12-19T15:12:29.497Z"
      },
      {
        "duration": -10,
        "start_time": "2021-12-19T15:12:29.500Z"
      },
      {
        "duration": 134,
        "start_time": "2021-12-19T15:12:36.959Z"
      },
      {
        "duration": 15,
        "start_time": "2021-12-19T15:12:47.136Z"
      },
      {
        "duration": 133,
        "start_time": "2021-12-19T15:13:02.864Z"
      },
      {
        "duration": 10,
        "start_time": "2021-12-19T15:13:17.559Z"
      },
      {
        "duration": 132,
        "start_time": "2021-12-19T15:13:35.959Z"
      },
      {
        "duration": 20,
        "start_time": "2021-12-19T15:13:44.847Z"
      },
      {
        "duration": 41,
        "start_time": "2021-12-19T15:14:11.208Z"
      },
      {
        "duration": 19,
        "start_time": "2021-12-19T15:14:14.474Z"
      },
      {
        "duration": 21,
        "start_time": "2021-12-19T15:14:25.296Z"
      },
      {
        "duration": 3,
        "start_time": "2021-12-19T15:15:14.968Z"
      },
      {
        "duration": 3,
        "start_time": "2021-12-19T15:15:24.279Z"
      },
      {
        "duration": 3,
        "start_time": "2021-12-19T15:15:35.577Z"
      },
      {
        "duration": 135,
        "start_time": "2021-12-19T15:15:40.871Z"
      },
      {
        "duration": 5,
        "start_time": "2021-12-19T15:15:50.238Z"
      },
      {
        "duration": 1332,
        "start_time": "2021-12-19T15:15:55.156Z"
      },
      {
        "duration": 123,
        "start_time": "2021-12-19T15:15:56.489Z"
      },
      {
        "duration": 11,
        "start_time": "2021-12-19T15:15:56.614Z"
      },
      {
        "duration": 10,
        "start_time": "2021-12-19T15:15:56.627Z"
      },
      {
        "duration": 11,
        "start_time": "2021-12-19T15:15:56.639Z"
      },
      {
        "duration": 4,
        "start_time": "2021-12-19T15:15:56.651Z"
      },
      {
        "duration": 10,
        "start_time": "2021-12-19T15:15:56.657Z"
      },
      {
        "duration": 15,
        "start_time": "2021-12-19T15:15:56.693Z"
      },
      {
        "duration": 56,
        "start_time": "2021-12-19T15:15:56.711Z"
      },
      {
        "duration": 78,
        "start_time": "2021-12-19T15:15:56.769Z"
      },
      {
        "duration": 81,
        "start_time": "2021-12-19T15:15:56.848Z"
      },
      {
        "duration": 15,
        "start_time": "2021-12-19T15:15:56.930Z"
      },
      {
        "duration": 82,
        "start_time": "2021-12-19T15:15:56.947Z"
      },
      {
        "duration": 34,
        "start_time": "2021-12-19T15:15:57.030Z"
      },
      {
        "duration": 39,
        "start_time": "2021-12-19T15:15:57.066Z"
      },
      {
        "duration": 8,
        "start_time": "2021-12-19T15:15:57.107Z"
      },
      {
        "duration": 16,
        "start_time": "2021-12-19T15:15:57.116Z"
      },
      {
        "duration": 3,
        "start_time": "2021-12-19T15:15:57.134Z"
      },
      {
        "duration": 7,
        "start_time": "2021-12-19T15:15:57.138Z"
      },
      {
        "duration": 3,
        "start_time": "2021-12-19T15:15:57.147Z"
      },
      {
        "duration": 43,
        "start_time": "2021-12-19T15:15:57.151Z"
      },
      {
        "duration": 5,
        "start_time": "2021-12-19T15:15:57.196Z"
      },
      {
        "duration": 414,
        "start_time": "2021-12-19T15:15:57.205Z"
      },
      {
        "duration": 15,
        "start_time": "2021-12-19T15:15:57.622Z"
      },
      {
        "duration": 15,
        "start_time": "2021-12-19T15:15:57.639Z"
      },
      {
        "duration": 36,
        "start_time": "2021-12-19T15:15:57.656Z"
      },
      {
        "duration": 283,
        "start_time": "2021-12-19T15:15:57.694Z"
      },
      {
        "duration": 13,
        "start_time": "2021-12-19T15:15:57.979Z"
      },
      {
        "duration": 6,
        "start_time": "2021-12-19T15:15:57.993Z"
      },
      {
        "duration": 16,
        "start_time": "2021-12-19T15:15:58.001Z"
      },
      {
        "duration": 7,
        "start_time": "2021-12-19T15:15:58.019Z"
      },
      {
        "duration": 6,
        "start_time": "2021-12-19T15:15:58.028Z"
      },
      {
        "duration": 5,
        "start_time": "2021-12-19T15:15:58.036Z"
      },
      {
        "duration": 82,
        "start_time": "2021-12-19T15:15:58.042Z"
      },
      {
        "duration": 10,
        "start_time": "2021-12-19T15:15:58.126Z"
      },
      {
        "duration": 30,
        "start_time": "2021-12-19T15:15:58.137Z"
      },
      {
        "duration": 66,
        "start_time": "2021-12-19T15:15:58.169Z"
      },
      {
        "duration": 7,
        "start_time": "2021-12-19T15:15:58.237Z"
      },
      {
        "duration": 21,
        "start_time": "2021-12-19T15:15:58.246Z"
      },
      {
        "duration": 464,
        "start_time": "2021-12-19T15:15:58.269Z"
      },
      {
        "duration": 42,
        "start_time": "2021-12-19T15:15:58.735Z"
      },
      {
        "duration": 14,
        "start_time": "2021-12-19T15:15:58.778Z"
      },
      {
        "duration": 13,
        "start_time": "2021-12-19T15:15:58.794Z"
      },
      {
        "duration": 14,
        "start_time": "2021-12-19T15:15:58.808Z"
      },
      {
        "duration": 68,
        "start_time": "2021-12-19T15:15:58.824Z"
      },
      {
        "duration": 11,
        "start_time": "2021-12-19T15:15:58.894Z"
      },
      {
        "duration": 14,
        "start_time": "2021-12-19T15:15:58.907Z"
      },
      {
        "duration": 11,
        "start_time": "2021-12-19T15:15:58.922Z"
      },
      {
        "duration": 68,
        "start_time": "2021-12-19T15:15:58.935Z"
      },
      {
        "duration": 21,
        "start_time": "2021-12-19T15:15:59.005Z"
      },
      {
        "duration": 20,
        "start_time": "2021-12-19T15:15:59.028Z"
      },
      {
        "duration": 4,
        "start_time": "2021-12-19T15:15:59.092Z"
      },
      {
        "duration": 10,
        "start_time": "2021-12-19T15:15:59.097Z"
      },
      {
        "duration": 20,
        "start_time": "2021-12-19T15:15:59.108Z"
      },
      {
        "duration": 4,
        "start_time": "2021-12-19T15:15:59.130Z"
      },
      {
        "duration": 6,
        "start_time": "2021-12-19T15:16:06.670Z"
      },
      {
        "duration": 5,
        "start_time": "2021-12-19T15:59:21.703Z"
      },
      {
        "duration": 7,
        "start_time": "2021-12-19T15:59:29.413Z"
      },
      {
        "duration": 4,
        "start_time": "2021-12-19T15:59:34.821Z"
      },
      {
        "duration": 16,
        "start_time": "2021-12-19T16:00:47.029Z"
      },
      {
        "duration": 6,
        "start_time": "2021-12-19T16:00:53.158Z"
      },
      {
        "duration": 19,
        "start_time": "2021-12-19T16:01:01.613Z"
      },
      {
        "duration": 7,
        "start_time": "2021-12-19T16:01:03.220Z"
      },
      {
        "duration": 3,
        "start_time": "2021-12-19T16:01:34.205Z"
      },
      {
        "duration": 7,
        "start_time": "2021-12-19T16:01:40.199Z"
      },
      {
        "duration": 676,
        "start_time": "2021-12-19T16:02:11.948Z"
      },
      {
        "duration": 18,
        "start_time": "2021-12-19T16:02:20.341Z"
      },
      {
        "duration": 689,
        "start_time": "2021-12-19T16:02:20.862Z"
      },
      {
        "duration": 3,
        "start_time": "2021-12-19T16:02:39.341Z"
      },
      {
        "duration": 10,
        "start_time": "2021-12-19T16:02:41.685Z"
      },
      {
        "duration": 17,
        "start_time": "2021-12-19T16:03:10.880Z"
      },
      {
        "duration": 9,
        "start_time": "2021-12-19T16:03:14.484Z"
      },
      {
        "duration": 24,
        "start_time": "2021-12-19T16:03:31.853Z"
      },
      {
        "duration": 7,
        "start_time": "2021-12-19T16:03:37.804Z"
      },
      {
        "duration": 1236,
        "start_time": "2021-12-21T08:55:42.150Z"
      },
      {
        "duration": 115,
        "start_time": "2021-12-21T08:55:43.388Z"
      },
      {
        "duration": 11,
        "start_time": "2021-12-21T08:55:43.506Z"
      },
      {
        "duration": 10,
        "start_time": "2021-12-21T08:55:43.519Z"
      },
      {
        "duration": 11,
        "start_time": "2021-12-21T08:55:43.530Z"
      },
      {
        "duration": 5,
        "start_time": "2021-12-21T08:55:43.542Z"
      },
      {
        "duration": 9,
        "start_time": "2021-12-21T08:55:43.548Z"
      },
      {
        "duration": 43,
        "start_time": "2021-12-21T08:55:43.559Z"
      },
      {
        "duration": 51,
        "start_time": "2021-12-21T08:55:43.605Z"
      },
      {
        "duration": 72,
        "start_time": "2021-12-21T08:55:43.657Z"
      },
      {
        "duration": 66,
        "start_time": "2021-12-21T08:55:43.730Z"
      },
      {
        "duration": 15,
        "start_time": "2021-12-21T08:55:43.797Z"
      },
      {
        "duration": 79,
        "start_time": "2021-12-21T08:55:43.813Z"
      },
      {
        "duration": 39,
        "start_time": "2021-12-21T08:55:43.893Z"
      },
      {
        "duration": 19,
        "start_time": "2021-12-21T08:55:43.933Z"
      },
      {
        "duration": 8,
        "start_time": "2021-12-21T08:55:43.954Z"
      },
      {
        "duration": 37,
        "start_time": "2021-12-21T08:55:43.963Z"
      },
      {
        "duration": 3,
        "start_time": "2021-12-21T08:55:44.002Z"
      },
      {
        "duration": 7,
        "start_time": "2021-12-21T08:55:44.006Z"
      },
      {
        "duration": 3,
        "start_time": "2021-12-21T08:55:44.015Z"
      },
      {
        "duration": 6,
        "start_time": "2021-12-21T08:55:44.019Z"
      },
      {
        "duration": 5,
        "start_time": "2021-12-21T08:55:44.026Z"
      },
      {
        "duration": 427,
        "start_time": "2021-12-21T08:55:44.034Z"
      },
      {
        "duration": 15,
        "start_time": "2021-12-21T08:55:44.463Z"
      },
      {
        "duration": 23,
        "start_time": "2021-12-21T08:55:44.479Z"
      },
      {
        "duration": 12,
        "start_time": "2021-12-21T08:55:44.504Z"
      },
      {
        "duration": 284,
        "start_time": "2021-12-21T08:55:44.518Z"
      },
      {
        "duration": 3,
        "start_time": "2021-12-21T08:55:44.804Z"
      },
      {
        "duration": 6,
        "start_time": "2021-12-21T08:55:44.809Z"
      },
      {
        "duration": 16,
        "start_time": "2021-12-21T08:55:44.817Z"
      },
      {
        "duration": 5,
        "start_time": "2021-12-21T08:55:44.834Z"
      },
      {
        "duration": 3,
        "start_time": "2021-12-21T08:55:44.841Z"
      },
      {
        "duration": 5,
        "start_time": "2021-12-21T08:55:44.845Z"
      },
      {
        "duration": 75,
        "start_time": "2021-12-21T08:55:44.851Z"
      },
      {
        "duration": 8,
        "start_time": "2021-12-21T08:55:44.927Z"
      },
      {
        "duration": 31,
        "start_time": "2021-12-21T08:55:44.937Z"
      },
      {
        "duration": 59,
        "start_time": "2021-12-21T08:55:44.970Z"
      },
      {
        "duration": 6,
        "start_time": "2021-12-21T08:55:45.031Z"
      },
      {
        "duration": 7,
        "start_time": "2021-12-21T08:55:45.039Z"
      },
      {
        "duration": 468,
        "start_time": "2021-12-21T08:55:45.048Z"
      },
      {
        "duration": 41,
        "start_time": "2021-12-21T08:55:45.518Z"
      },
      {
        "duration": 5,
        "start_time": "2021-12-21T08:55:45.561Z"
      },
      {
        "duration": 30,
        "start_time": "2021-12-21T08:55:45.567Z"
      },
      {
        "duration": 12,
        "start_time": "2021-12-21T08:55:45.599Z"
      },
      {
        "duration": 8,
        "start_time": "2021-12-21T08:55:45.612Z"
      },
      {
        "duration": 10,
        "start_time": "2021-12-21T08:55:45.622Z"
      },
      {
        "duration": 65,
        "start_time": "2021-12-21T08:55:45.634Z"
      },
      {
        "duration": 12,
        "start_time": "2021-12-21T08:55:45.701Z"
      },
      {
        "duration": 14,
        "start_time": "2021-12-21T08:55:45.714Z"
      },
      {
        "duration": 67,
        "start_time": "2021-12-21T08:55:45.729Z"
      },
      {
        "duration": 3,
        "start_time": "2021-12-21T08:55:45.798Z"
      },
      {
        "duration": 9,
        "start_time": "2021-12-21T08:55:45.803Z"
      },
      {
        "duration": 19,
        "start_time": "2021-12-21T08:55:45.814Z"
      },
      {
        "duration": 6,
        "start_time": "2021-12-21T08:55:45.835Z"
      },
      {
        "duration": 55,
        "start_time": "2021-12-21T08:55:45.843Z"
      },
      {
        "duration": 7,
        "start_time": "2021-12-21T08:55:45.900Z"
      },
      {
        "duration": 5,
        "start_time": "2021-12-21T08:55:45.908Z"
      },
      {
        "duration": 5,
        "start_time": "2021-12-21T08:55:45.914Z"
      },
      {
        "duration": 4,
        "start_time": "2021-12-21T08:55:45.920Z"
      },
      {
        "duration": 4,
        "start_time": "2021-12-21T08:55:45.926Z"
      },
      {
        "duration": 6,
        "start_time": "2021-12-21T08:55:45.932Z"
      },
      {
        "duration": 15,
        "start_time": "2021-12-21T09:23:32.893Z"
      },
      {
        "duration": 5,
        "start_time": "2021-12-21T09:23:48.109Z"
      },
      {
        "duration": 5,
        "start_time": "2021-12-21T09:23:59.157Z"
      },
      {
        "duration": 4,
        "start_time": "2021-12-21T09:24:31.070Z"
      },
      {
        "duration": 4,
        "start_time": "2021-12-21T09:24:35.717Z"
      },
      {
        "duration": 294,
        "start_time": "2021-12-21T09:45:00.278Z"
      },
      {
        "duration": 146,
        "start_time": "2021-12-21T09:45:03.431Z"
      },
      {
        "duration": 7,
        "start_time": "2021-12-21T09:45:12.927Z"
      },
      {
        "duration": 3,
        "start_time": "2021-12-21T09:45:25.422Z"
      },
      {
        "duration": 2,
        "start_time": "2021-12-21T09:46:01.935Z"
      },
      {
        "duration": 3,
        "start_time": "2021-12-21T09:46:26.829Z"
      },
      {
        "duration": 140,
        "start_time": "2021-12-21T09:46:30.693Z"
      },
      {
        "duration": 3,
        "start_time": "2021-12-21T09:46:39.977Z"
      },
      {
        "duration": 3,
        "start_time": "2021-12-21T09:46:40.126Z"
      },
      {
        "duration": 3,
        "start_time": "2021-12-21T09:46:40.286Z"
      },
      {
        "duration": 3,
        "start_time": "2021-12-21T09:46:40.455Z"
      },
      {
        "duration": 4,
        "start_time": "2021-12-21T09:46:43.085Z"
      },
      {
        "duration": 4,
        "start_time": "2021-12-21T09:46:48.749Z"
      },
      {
        "duration": 38,
        "start_time": "2021-12-21T09:48:40.757Z"
      },
      {
        "duration": 6,
        "start_time": "2021-12-21T09:49:05.742Z"
      },
      {
        "duration": 122,
        "start_time": "2021-12-21T09:49:05.929Z"
      },
      {
        "duration": 7,
        "start_time": "2021-12-21T09:49:06.288Z"
      },
      {
        "duration": 9,
        "start_time": "2021-12-21T09:49:06.606Z"
      },
      {
        "duration": 14,
        "start_time": "2021-12-21T09:49:07.493Z"
      },
      {
        "duration": 4,
        "start_time": "2021-12-21T09:49:07.925Z"
      },
      {
        "duration": 7,
        "start_time": "2021-12-21T09:49:09.485Z"
      },
      {
        "duration": 17,
        "start_time": "2021-12-21T09:49:10.097Z"
      },
      {
        "duration": 3,
        "start_time": "2021-12-21T09:49:25.430Z"
      },
      {
        "duration": 62,
        "start_time": "2021-12-21T09:49:26.037Z"
      },
      {
        "duration": 16,
        "start_time": "2021-12-21T09:49:26.417Z"
      },
      {
        "duration": 72,
        "start_time": "2021-12-21T09:49:26.957Z"
      },
      {
        "duration": 37,
        "start_time": "2021-12-21T09:49:28.182Z"
      },
      {
        "duration": 22,
        "start_time": "2021-12-21T09:49:28.406Z"
      },
      {
        "duration": 10,
        "start_time": "2021-12-21T09:49:28.917Z"
      },
      {
        "duration": 15,
        "start_time": "2021-12-21T09:49:29.157Z"
      },
      {
        "duration": 34,
        "start_time": "2021-12-21T09:49:29.742Z"
      },
      {
        "duration": 4,
        "start_time": "2021-12-21T09:49:30.621Z"
      },
      {
        "duration": 35,
        "start_time": "2021-12-21T09:49:34.964Z"
      },
      {
        "duration": 92,
        "start_time": "2021-12-21T09:49:45.563Z"
      },
      {
        "duration": 121,
        "start_time": "2021-12-21T09:49:45.726Z"
      },
      {
        "duration": 7,
        "start_time": "2021-12-21T09:49:45.895Z"
      },
      {
        "duration": 9,
        "start_time": "2021-12-21T09:49:46.071Z"
      },
      {
        "duration": 13,
        "start_time": "2021-12-21T09:49:46.357Z"
      },
      {
        "duration": 4,
        "start_time": "2021-12-21T09:49:46.813Z"
      },
      {
        "duration": 8,
        "start_time": "2021-12-21T09:49:47.045Z"
      },
      {
        "duration": 16,
        "start_time": "2021-12-21T09:49:47.541Z"
      },
      {
        "duration": 2,
        "start_time": "2021-12-21T09:49:47.974Z"
      },
      {
        "duration": 2,
        "start_time": "2021-12-21T09:49:48.383Z"
      },
      {
        "duration": 61,
        "start_time": "2021-12-21T09:49:48.708Z"
      },
      {
        "duration": 16,
        "start_time": "2021-12-21T09:49:49.226Z"
      },
      {
        "duration": 84,
        "start_time": "2021-12-21T09:49:49.438Z"
      },
      {
        "duration": 39,
        "start_time": "2021-12-21T09:49:49.636Z"
      },
      {
        "duration": 21,
        "start_time": "2021-12-21T09:49:49.845Z"
      },
      {
        "duration": 9,
        "start_time": "2021-12-21T09:49:50.087Z"
      },
      {
        "duration": 15,
        "start_time": "2021-12-21T09:49:50.389Z"
      },
      {
        "duration": 34,
        "start_time": "2021-12-21T09:49:53.661Z"
      },
      {
        "duration": 4,
        "start_time": "2021-12-21T09:50:09.117Z"
      },
      {
        "duration": 118,
        "start_time": "2021-12-21T09:50:09.461Z"
      },
      {
        "duration": 8,
        "start_time": "2021-12-21T09:50:09.789Z"
      },
      {
        "duration": 10,
        "start_time": "2021-12-21T09:50:10.350Z"
      },
      {
        "duration": 11,
        "start_time": "2021-12-21T09:50:11.046Z"
      },
      {
        "duration": 3,
        "start_time": "2021-12-21T09:50:12.223Z"
      },
      {
        "duration": 8,
        "start_time": "2021-12-21T09:50:13.661Z"
      },
      {
        "duration": 16,
        "start_time": "2021-12-21T09:50:14.645Z"
      },
      {
        "duration": 52,
        "start_time": "2021-12-21T09:50:15.413Z"
      },
      {
        "duration": 53,
        "start_time": "2021-12-21T09:50:16.126Z"
      },
      {
        "duration": 51,
        "start_time": "2021-12-21T09:50:17.093Z"
      },
      {
        "duration": 73,
        "start_time": "2021-12-21T09:50:34.997Z"
      },
      {
        "duration": 37,
        "start_time": "2021-12-21T09:50:35.157Z"
      },
      {
        "duration": 20,
        "start_time": "2021-12-21T09:50:35.549Z"
      },
      {
        "duration": 9,
        "start_time": "2021-12-21T09:50:37.613Z"
      },
      {
        "duration": 16,
        "start_time": "2021-12-21T09:50:38.557Z"
      },
      {
        "duration": 37,
        "start_time": "2021-12-21T09:50:39.125Z"
      },
      {
        "duration": 1414,
        "start_time": "2021-12-21T09:52:24.353Z"
      },
      {
        "duration": 151,
        "start_time": "2021-12-21T09:52:25.769Z"
      },
      {
        "duration": 12,
        "start_time": "2021-12-21T09:52:25.922Z"
      },
      {
        "duration": 8,
        "start_time": "2021-12-21T09:52:25.936Z"
      },
      {
        "duration": 12,
        "start_time": "2021-12-21T09:52:25.946Z"
      },
      {
        "duration": 6,
        "start_time": "2021-12-21T09:52:25.960Z"
      },
      {
        "duration": 30,
        "start_time": "2021-12-21T09:52:25.968Z"
      },
      {
        "duration": 26,
        "start_time": "2021-12-21T09:52:26.001Z"
      },
      {
        "duration": 86,
        "start_time": "2021-12-21T09:52:26.031Z"
      },
      {
        "duration": 73,
        "start_time": "2021-12-21T09:52:26.120Z"
      },
      {
        "duration": 70,
        "start_time": "2021-12-21T09:52:26.196Z"
      },
      {
        "duration": 30,
        "start_time": "2021-12-21T09:52:26.268Z"
      },
      {
        "duration": 92,
        "start_time": "2021-12-21T09:52:26.300Z"
      },
      {
        "duration": 56,
        "start_time": "2021-12-21T09:52:26.395Z"
      },
      {
        "duration": 28,
        "start_time": "2021-12-21T09:52:26.453Z"
      },
      {
        "duration": 17,
        "start_time": "2021-12-21T09:52:26.483Z"
      },
      {
        "duration": 18,
        "start_time": "2021-12-21T09:52:26.503Z"
      },
      {
        "duration": 35,
        "start_time": "2021-12-21T09:52:26.523Z"
      },
      {
        "duration": 32,
        "start_time": "2021-12-21T09:52:26.560Z"
      },
      {
        "duration": 7,
        "start_time": "2021-12-21T09:52:26.594Z"
      },
      {
        "duration": 8,
        "start_time": "2021-12-21T09:52:26.603Z"
      },
      {
        "duration": 7,
        "start_time": "2021-12-21T09:52:26.613Z"
      },
      {
        "duration": 12,
        "start_time": "2021-12-21T09:52:26.621Z"
      },
      {
        "duration": 475,
        "start_time": "2021-12-21T09:52:26.634Z"
      },
      {
        "duration": 16,
        "start_time": "2021-12-21T09:52:27.111Z"
      },
      {
        "duration": 15,
        "start_time": "2021-12-21T09:52:27.129Z"
      },
      {
        "duration": 14,
        "start_time": "2021-12-21T09:52:27.148Z"
      },
      {
        "duration": 330,
        "start_time": "2021-12-21T09:52:27.164Z"
      },
      {
        "duration": 4,
        "start_time": "2021-12-21T09:52:27.497Z"
      },
      {
        "duration": 28,
        "start_time": "2021-12-21T09:52:27.503Z"
      },
      {
        "duration": 30,
        "start_time": "2021-12-21T09:52:27.532Z"
      },
      {
        "duration": 10,
        "start_time": "2021-12-21T09:52:27.564Z"
      },
      {
        "duration": 23,
        "start_time": "2021-12-21T09:52:27.576Z"
      },
      {
        "duration": 23,
        "start_time": "2021-12-21T09:52:27.601Z"
      },
      {
        "duration": 65,
        "start_time": "2021-12-21T09:52:27.626Z"
      },
      {
        "duration": 11,
        "start_time": "2021-12-21T09:52:27.693Z"
      },
      {
        "duration": 56,
        "start_time": "2021-12-21T09:52:27.706Z"
      },
      {
        "duration": 52,
        "start_time": "2021-12-21T09:52:27.764Z"
      },
      {
        "duration": 7,
        "start_time": "2021-12-21T09:52:27.818Z"
      },
      {
        "duration": 7,
        "start_time": "2021-12-21T09:52:27.827Z"
      },
      {
        "duration": 521,
        "start_time": "2021-12-21T09:52:27.836Z"
      },
      {
        "duration": 60,
        "start_time": "2021-12-21T09:52:28.359Z"
      },
      {
        "duration": 5,
        "start_time": "2021-12-21T09:52:28.420Z"
      },
      {
        "duration": 9,
        "start_time": "2021-12-21T09:52:28.427Z"
      },
      {
        "duration": 63,
        "start_time": "2021-12-21T09:52:28.438Z"
      },
      {
        "duration": 14,
        "start_time": "2021-12-21T09:52:28.503Z"
      },
      {
        "duration": 12,
        "start_time": "2021-12-21T09:52:28.519Z"
      },
      {
        "duration": 69,
        "start_time": "2021-12-21T09:52:28.534Z"
      },
      {
        "duration": 16,
        "start_time": "2021-12-21T09:52:28.605Z"
      },
      {
        "duration": 17,
        "start_time": "2021-12-21T09:52:28.623Z"
      },
      {
        "duration": 25,
        "start_time": "2021-12-21T09:52:28.693Z"
      },
      {
        "duration": 3,
        "start_time": "2021-12-21T09:52:28.720Z"
      },
      {
        "duration": 9,
        "start_time": "2021-12-21T09:52:28.725Z"
      },
      {
        "duration": 20,
        "start_time": "2021-12-21T09:52:28.735Z"
      },
      {
        "duration": 40,
        "start_time": "2021-12-21T09:52:28.757Z"
      },
      {
        "duration": 28,
        "start_time": "2021-12-21T09:52:28.799Z"
      },
      {
        "duration": 6,
        "start_time": "2021-12-21T09:52:28.829Z"
      },
      {
        "duration": 6,
        "start_time": "2021-12-21T09:52:28.837Z"
      },
      {
        "duration": 6,
        "start_time": "2021-12-21T09:52:28.845Z"
      },
      {
        "duration": 6,
        "start_time": "2021-12-21T09:52:28.852Z"
      },
      {
        "duration": 7,
        "start_time": "2021-12-21T09:52:28.859Z"
      },
      {
        "duration": 32,
        "start_time": "2021-12-21T09:52:28.867Z"
      },
      {
        "duration": 9,
        "start_time": "2021-12-21T09:52:28.901Z"
      },
      {
        "duration": 4,
        "start_time": "2021-12-21T09:52:28.913Z"
      },
      {
        "duration": 5,
        "start_time": "2021-12-21T09:52:28.918Z"
      },
      {
        "duration": 2,
        "start_time": "2021-12-21T09:52:28.925Z"
      },
      {
        "duration": 5,
        "start_time": "2021-12-21T09:52:28.929Z"
      },
      {
        "duration": 5,
        "start_time": "2021-12-21T09:52:28.935Z"
      },
      {
        "duration": 10,
        "start_time": "2021-12-21T09:52:28.942Z"
      },
      {
        "duration": 39,
        "start_time": "2021-12-21T09:52:28.953Z"
      },
      {
        "duration": 5,
        "start_time": "2021-12-21T09:52:28.995Z"
      },
      {
        "duration": 4048,
        "start_time": "2021-12-21T10:01:46.752Z"
      },
      {
        "duration": 3516,
        "start_time": "2021-12-21T10:01:56.996Z"
      },
      {
        "duration": 4,
        "start_time": "2021-12-21T10:02:28.021Z"
      },
      {
        "duration": 4,
        "start_time": "2021-12-21T10:02:34.803Z"
      },
      {
        "duration": 109,
        "start_time": "2021-12-21T10:23:02.583Z"
      },
      {
        "duration": 140,
        "start_time": "2021-12-21T10:23:33.467Z"
      },
      {
        "duration": 3520,
        "start_time": "2021-12-21T10:24:26.475Z"
      },
      {
        "duration": 3681,
        "start_time": "2021-12-21T10:24:58.756Z"
      },
      {
        "duration": 4,
        "start_time": "2021-12-21T10:39:54.064Z"
      },
      {
        "duration": 4,
        "start_time": "2021-12-21T10:39:58.527Z"
      },
      {
        "duration": 6,
        "start_time": "2021-12-21T10:41:36.068Z"
      },
      {
        "duration": 10608,
        "start_time": "2021-12-21T10:41:57.212Z"
      },
      {
        "duration": 6,
        "start_time": "2021-12-21T10:42:25.035Z"
      },
      {
        "duration": 4,
        "start_time": "2021-12-21T10:42:56.083Z"
      },
      {
        "duration": 4,
        "start_time": "2021-12-21T10:43:05.035Z"
      },
      {
        "duration": 6,
        "start_time": "2021-12-21T10:43:40.955Z"
      },
      {
        "duration": 4,
        "start_time": "2021-12-21T10:44:34.379Z"
      },
      {
        "duration": 6,
        "start_time": "2021-12-21T10:44:38.378Z"
      },
      {
        "duration": 4,
        "start_time": "2021-12-21T10:44:47.062Z"
      },
      {
        "duration": 4,
        "start_time": "2021-12-21T10:44:49.411Z"
      },
      {
        "duration": 10,
        "start_time": "2021-12-21T10:44:49.579Z"
      },
      {
        "duration": 5,
        "start_time": "2021-12-21T10:44:49.747Z"
      },
      {
        "duration": 6,
        "start_time": "2021-12-21T10:44:49.923Z"
      },
      {
        "duration": 3657,
        "start_time": "2021-12-21T10:44:50.531Z"
      },
      {
        "duration": 6,
        "start_time": "2021-12-21T10:45:29.731Z"
      },
      {
        "duration": 3625,
        "start_time": "2021-12-21T10:45:32.211Z"
      },
      {
        "duration": 6,
        "start_time": "2021-12-21T10:46:15.970Z"
      },
      {
        "duration": 278,
        "start_time": "2021-12-21T10:46:17.769Z"
      },
      {
        "duration": 6,
        "start_time": "2021-12-21T10:46:38.123Z"
      },
      {
        "duration": 260,
        "start_time": "2021-12-21T10:46:38.298Z"
      },
      {
        "duration": 5,
        "start_time": "2021-12-21T10:46:58.146Z"
      },
      {
        "duration": 277,
        "start_time": "2021-12-21T10:46:59.892Z"
      },
      {
        "duration": 5,
        "start_time": "2021-12-21T10:47:23.898Z"
      },
      {
        "duration": 5,
        "start_time": "2021-12-21T10:47:25.611Z"
      },
      {
        "duration": 260,
        "start_time": "2021-12-21T10:47:26.139Z"
      },
      {
        "duration": 5,
        "start_time": "2021-12-21T10:52:56.975Z"
      },
      {
        "duration": 10,
        "start_time": "2021-12-21T10:55:49.998Z"
      },
      {
        "duration": 7,
        "start_time": "2021-12-21T10:56:38.488Z"
      },
      {
        "duration": 3447,
        "start_time": "2021-12-21T10:56:39.599Z"
      },
      {
        "duration": 10,
        "start_time": "2021-12-21T10:58:51.141Z"
      },
      {
        "duration": 18,
        "start_time": "2021-12-21T10:59:02.598Z"
      },
      {
        "duration": 7,
        "start_time": "2021-12-21T11:03:20.940Z"
      },
      {
        "duration": 6,
        "start_time": "2021-12-21T11:03:28.198Z"
      },
      {
        "duration": 4,
        "start_time": "2021-12-21T11:04:12.873Z"
      },
      {
        "duration": 4,
        "start_time": "2021-12-21T11:04:20.172Z"
      },
      {
        "duration": 6,
        "start_time": "2021-12-21T11:05:23.300Z"
      },
      {
        "duration": 270,
        "start_time": "2021-12-21T11:05:40.173Z"
      },
      {
        "duration": 4,
        "start_time": "2021-12-21T11:05:42.828Z"
      },
      {
        "duration": 5,
        "start_time": "2021-12-21T11:05:56.086Z"
      },
      {
        "duration": 5,
        "start_time": "2021-12-21T11:05:57.524Z"
      },
      {
        "duration": 5,
        "start_time": "2021-12-21T11:06:14.197Z"
      },
      {
        "duration": 260,
        "start_time": "2021-12-21T11:06:14.210Z"
      },
      {
        "duration": 5,
        "start_time": "2021-12-21T11:06:21.364Z"
      },
      {
        "duration": 6,
        "start_time": "2021-12-21T11:06:23.595Z"
      },
      {
        "duration": 8,
        "start_time": "2021-12-21T11:06:28.500Z"
      },
      {
        "duration": 5,
        "start_time": "2021-12-21T11:06:29.899Z"
      },
      {
        "duration": 5,
        "start_time": "2021-12-21T11:25:30.828Z"
      },
      {
        "duration": 273,
        "start_time": "2021-12-21T11:25:31.683Z"
      },
      {
        "duration": 6,
        "start_time": "2021-12-21T11:25:55.355Z"
      },
      {
        "duration": 5,
        "start_time": "2021-12-21T11:25:59.468Z"
      },
      {
        "duration": 286,
        "start_time": "2021-12-21T11:26:01.339Z"
      },
      {
        "duration": 4,
        "start_time": "2021-12-21T11:26:31.345Z"
      },
      {
        "duration": 5,
        "start_time": "2021-12-21T11:26:38.803Z"
      },
      {
        "duration": 8,
        "start_time": "2021-12-21T11:27:07.766Z"
      },
      {
        "duration": 182,
        "start_time": "2021-12-21T11:27:13.926Z"
      },
      {
        "duration": 5,
        "start_time": "2021-12-21T11:27:17.940Z"
      },
      {
        "duration": 272,
        "start_time": "2021-12-21T11:27:20.739Z"
      },
      {
        "duration": 5,
        "start_time": "2021-12-21T11:27:33.444Z"
      },
      {
        "duration": 275,
        "start_time": "2021-12-21T11:27:35.083Z"
      },
      {
        "duration": 5,
        "start_time": "2021-12-21T11:28:16.163Z"
      },
      {
        "duration": 276,
        "start_time": "2021-12-21T11:28:19.106Z"
      },
      {
        "duration": 7,
        "start_time": "2021-12-21T11:30:36.228Z"
      },
      {
        "duration": 295,
        "start_time": "2021-12-21T11:33:57.857Z"
      },
      {
        "duration": -2206,
        "start_time": "2021-12-21T11:34:00.360Z"
      },
      {
        "duration": 17,
        "start_time": "2021-12-21T11:33:58.337Z"
      },
      {
        "duration": 348,
        "start_time": "2021-12-21T11:33:58.529Z"
      },
      {
        "duration": 5,
        "start_time": "2021-12-21T11:34:08.826Z"
      },
      {
        "duration": 1279,
        "start_time": "2021-12-21T11:34:09.153Z"
      },
      {
        "duration": 3,
        "start_time": "2021-12-21T11:34:17.083Z"
      },
      {
        "duration": 8,
        "start_time": "2021-12-21T11:34:22.753Z"
      },
      {
        "duration": 6,
        "start_time": "2021-12-21T11:34:26.584Z"
      },
      {
        "duration": 15,
        "start_time": "2021-12-21T11:36:21.183Z"
      },
      {
        "duration": 176,
        "start_time": "2021-12-21T11:37:35.992Z"
      },
      {
        "duration": 11,
        "start_time": "2021-12-21T11:38:57.094Z"
      },
      {
        "duration": 162,
        "start_time": "2021-12-21T11:40:08.118Z"
      },
      {
        "duration": 10,
        "start_time": "2021-12-21T11:40:16.631Z"
      },
      {
        "duration": 4284,
        "start_time": "2021-12-21T11:40:24.150Z"
      },
      {
        "duration": 25,
        "start_time": "2021-12-21T11:41:12.437Z"
      },
      {
        "duration": 6,
        "start_time": "2021-12-21T11:42:13.829Z"
      },
      {
        "duration": 30,
        "start_time": "2021-12-21T11:42:15.245Z"
      },
      {
        "duration": 11,
        "start_time": "2021-12-21T11:43:53.341Z"
      },
      {
        "duration": 47,
        "start_time": "2021-12-21T11:43:53.781Z"
      },
      {
        "duration": 9,
        "start_time": "2021-12-21T11:44:47.861Z"
      },
      {
        "duration": 47,
        "start_time": "2021-12-21T11:44:50.187Z"
      },
      {
        "duration": 12,
        "start_time": "2021-12-21T11:47:01.734Z"
      },
      {
        "duration": 61,
        "start_time": "2021-12-21T11:47:03.420Z"
      },
      {
        "duration": 15,
        "start_time": "2021-12-21T11:47:36.477Z"
      },
      {
        "duration": 17,
        "start_time": "2021-12-21T11:47:37.957Z"
      },
      {
        "duration": 72,
        "start_time": "2021-12-21T11:47:38.284Z"
      },
      {
        "duration": 1313,
        "start_time": "2021-12-21T11:47:59.428Z"
      },
      {
        "duration": 128,
        "start_time": "2021-12-21T11:48:00.743Z"
      },
      {
        "duration": 19,
        "start_time": "2021-12-21T11:48:00.873Z"
      },
      {
        "duration": 26,
        "start_time": "2021-12-21T11:48:00.894Z"
      },
      {
        "duration": 39,
        "start_time": "2021-12-21T11:48:00.922Z"
      },
      {
        "duration": 24,
        "start_time": "2021-12-21T11:48:00.963Z"
      },
      {
        "duration": 33,
        "start_time": "2021-12-21T11:48:00.988Z"
      },
      {
        "duration": 33,
        "start_time": "2021-12-21T11:48:01.023Z"
      },
      {
        "duration": 60,
        "start_time": "2021-12-21T11:48:01.058Z"
      },
      {
        "duration": 62,
        "start_time": "2021-12-21T11:48:01.119Z"
      },
      {
        "duration": 69,
        "start_time": "2021-12-21T11:48:01.183Z"
      },
      {
        "duration": 17,
        "start_time": "2021-12-21T11:48:01.254Z"
      },
      {
        "duration": 80,
        "start_time": "2021-12-21T11:48:01.291Z"
      },
      {
        "duration": 54,
        "start_time": "2021-12-21T11:48:01.372Z"
      },
      {
        "duration": 31,
        "start_time": "2021-12-21T11:48:01.428Z"
      },
      {
        "duration": 9,
        "start_time": "2021-12-21T11:48:01.461Z"
      },
      {
        "duration": 38,
        "start_time": "2021-12-21T11:48:01.471Z"
      },
      {
        "duration": 46,
        "start_time": "2021-12-21T11:48:01.510Z"
      },
      {
        "duration": 4,
        "start_time": "2021-12-21T11:48:01.558Z"
      },
      {
        "duration": 23,
        "start_time": "2021-12-21T11:48:01.563Z"
      },
      {
        "duration": 20,
        "start_time": "2021-12-21T11:48:01.588Z"
      },
      {
        "duration": 8,
        "start_time": "2021-12-21T11:48:01.610Z"
      },
      {
        "duration": 15,
        "start_time": "2021-12-21T11:48:01.623Z"
      },
      {
        "duration": 420,
        "start_time": "2021-12-21T11:48:01.640Z"
      },
      {
        "duration": 17,
        "start_time": "2021-12-21T11:48:02.061Z"
      },
      {
        "duration": 16,
        "start_time": "2021-12-21T11:48:02.092Z"
      },
      {
        "duration": 15,
        "start_time": "2021-12-21T11:48:02.109Z"
      },
      {
        "duration": 301,
        "start_time": "2021-12-21T11:48:02.126Z"
      },
      {
        "duration": 4,
        "start_time": "2021-12-21T11:48:02.429Z"
      },
      {
        "duration": 7,
        "start_time": "2021-12-21T11:48:02.434Z"
      },
      {
        "duration": 15,
        "start_time": "2021-12-21T11:48:02.443Z"
      },
      {
        "duration": 33,
        "start_time": "2021-12-21T11:48:02.460Z"
      },
      {
        "duration": 4,
        "start_time": "2021-12-21T11:48:02.495Z"
      },
      {
        "duration": 11,
        "start_time": "2021-12-21T11:48:02.500Z"
      },
      {
        "duration": 48,
        "start_time": "2021-12-21T11:48:02.513Z"
      },
      {
        "duration": 8,
        "start_time": "2021-12-21T11:48:02.562Z"
      },
      {
        "duration": 45,
        "start_time": "2021-12-21T11:48:02.572Z"
      },
      {
        "duration": 47,
        "start_time": "2021-12-21T11:48:02.620Z"
      },
      {
        "duration": 23,
        "start_time": "2021-12-21T11:48:02.669Z"
      },
      {
        "duration": 10,
        "start_time": "2021-12-21T11:48:02.694Z"
      },
      {
        "duration": 486,
        "start_time": "2021-12-21T11:48:02.705Z"
      },
      {
        "duration": 51,
        "start_time": "2021-12-21T11:48:03.193Z"
      },
      {
        "duration": 6,
        "start_time": "2021-12-21T11:48:03.246Z"
      },
      {
        "duration": 44,
        "start_time": "2021-12-21T11:48:03.254Z"
      },
      {
        "duration": 20,
        "start_time": "2021-12-21T11:48:03.301Z"
      },
      {
        "duration": 70,
        "start_time": "2021-12-21T11:48:03.323Z"
      },
      {
        "duration": 14,
        "start_time": "2021-12-21T11:48:03.395Z"
      },
      {
        "duration": 19,
        "start_time": "2021-12-21T11:48:03.411Z"
      },
      {
        "duration": 69,
        "start_time": "2021-12-21T11:48:03.432Z"
      },
      {
        "duration": 15,
        "start_time": "2021-12-21T11:48:03.503Z"
      },
      {
        "duration": 71,
        "start_time": "2021-12-21T11:48:03.520Z"
      },
      {
        "duration": 3,
        "start_time": "2021-12-21T11:48:03.593Z"
      },
      {
        "duration": 9,
        "start_time": "2021-12-21T11:48:03.598Z"
      },
      {
        "duration": 18,
        "start_time": "2021-12-21T11:48:03.608Z"
      },
      {
        "duration": 5,
        "start_time": "2021-12-21T11:48:03.628Z"
      },
      {
        "duration": 19,
        "start_time": "2021-12-21T11:48:03.635Z"
      },
      {
        "duration": 7,
        "start_time": "2021-12-21T11:48:03.655Z"
      },
      {
        "duration": 28,
        "start_time": "2021-12-21T11:48:03.663Z"
      },
      {
        "duration": 3,
        "start_time": "2021-12-21T11:48:03.693Z"
      },
      {
        "duration": 5,
        "start_time": "2021-12-21T11:48:03.697Z"
      },
      {
        "duration": 5,
        "start_time": "2021-12-21T11:48:03.703Z"
      },
      {
        "duration": 7,
        "start_time": "2021-12-21T11:48:03.710Z"
      },
      {
        "duration": 9,
        "start_time": "2021-12-21T11:48:03.719Z"
      },
      {
        "duration": 9,
        "start_time": "2021-12-21T11:48:03.729Z"
      },
      {
        "duration": 5,
        "start_time": "2021-12-21T11:48:03.739Z"
      },
      {
        "duration": 10,
        "start_time": "2021-12-21T11:48:03.745Z"
      },
      {
        "duration": 7,
        "start_time": "2021-12-21T11:48:03.757Z"
      },
      {
        "duration": 9,
        "start_time": "2021-12-21T11:48:03.795Z"
      },
      {
        "duration": 121,
        "start_time": "2021-12-21T11:48:03.806Z"
      },
      {
        "duration": 82,
        "start_time": "2021-12-21T11:48:03.928Z"
      },
      {
        "duration": 26,
        "start_time": "2021-12-21T11:48:04.012Z"
      },
      {
        "duration": 71,
        "start_time": "2021-12-21T11:49:51.793Z"
      },
      {
        "duration": 73,
        "start_time": "2021-12-21T11:50:53.668Z"
      },
      {
        "duration": 74,
        "start_time": "2021-12-21T11:50:54.595Z"
      },
      {
        "duration": 14,
        "start_time": "2021-12-21T12:01:29.391Z"
      },
      {
        "duration": 7,
        "start_time": "2021-12-21T12:05:55.446Z"
      },
      {
        "duration": 5,
        "start_time": "2021-12-21T12:06:01.630Z"
      },
      {
        "duration": 325,
        "start_time": "2021-12-21T12:06:14.486Z"
      },
      {
        "duration": 178,
        "start_time": "2021-12-21T12:06:23.933Z"
      },
      {
        "duration": 302,
        "start_time": "2021-12-21T12:06:34.045Z"
      },
      {
        "duration": 51,
        "start_time": "2021-12-21T12:06:44.477Z"
      },
      {
        "duration": 184,
        "start_time": "2021-12-21T12:06:46.733Z"
      },
      {
        "duration": 5,
        "start_time": "2021-12-21T12:07:02.117Z"
      },
      {
        "duration": 274,
        "start_time": "2021-12-21T12:07:55.085Z"
      },
      {
        "duration": 210,
        "start_time": "2021-12-21T12:08:03.638Z"
      },
      {
        "duration": 164,
        "start_time": "2021-12-21T12:08:09.509Z"
      },
      {
        "duration": 637,
        "start_time": "2021-12-21T12:08:14.564Z"
      },
      {
        "duration": 47,
        "start_time": "2021-12-21T12:08:23.965Z"
      },
      {
        "duration": 5,
        "start_time": "2021-12-21T12:08:25.581Z"
      },
      {
        "duration": 5,
        "start_time": "2021-12-21T12:08:34.333Z"
      },
      {
        "duration": 5,
        "start_time": "2021-12-21T12:08:35.636Z"
      },
      {
        "duration": 192,
        "start_time": "2021-12-21T12:09:06.575Z"
      },
      {
        "duration": 49,
        "start_time": "2021-12-21T12:11:37.245Z"
      },
      {
        "duration": 95,
        "start_time": "2021-12-21T12:12:13.818Z"
      },
      {
        "duration": 46,
        "start_time": "2021-12-21T12:12:28.540Z"
      },
      {
        "duration": 45,
        "start_time": "2021-12-21T12:12:31.501Z"
      },
      {
        "duration": 68,
        "start_time": "2021-12-21T12:12:38.739Z"
      },
      {
        "duration": 7,
        "start_time": "2021-12-21T12:12:57.875Z"
      },
      {
        "duration": 3,
        "start_time": "2021-12-21T12:13:00.611Z"
      },
      {
        "duration": 3,
        "start_time": "2021-12-21T12:13:13.725Z"
      },
      {
        "duration": 5,
        "start_time": "2021-12-21T12:13:14.400Z"
      },
      {
        "duration": 133,
        "start_time": "2021-12-21T12:13:16.539Z"
      },
      {
        "duration": 3,
        "start_time": "2021-12-21T12:13:16.717Z"
      },
      {
        "duration": 5,
        "start_time": "2021-12-21T12:13:24.267Z"
      },
      {
        "duration": 2,
        "start_time": "2021-12-21T12:13:27.291Z"
      },
      {
        "duration": 5,
        "start_time": "2021-12-21T12:14:43.995Z"
      },
      {
        "duration": 3,
        "start_time": "2021-12-21T12:14:47.364Z"
      },
      {
        "duration": 5,
        "start_time": "2021-12-21T12:15:17.762Z"
      },
      {
        "duration": 5,
        "start_time": "2021-12-21T12:15:19.492Z"
      },
      {
        "duration": 6,
        "start_time": "2021-12-21T12:15:35.259Z"
      },
      {
        "duration": 8,
        "start_time": "2021-12-21T12:15:36.923Z"
      },
      {
        "duration": 156,
        "start_time": "2021-12-21T12:15:48.467Z"
      },
      {
        "duration": 165,
        "start_time": "2021-12-21T12:15:54.411Z"
      },
      {
        "duration": 5,
        "start_time": "2021-12-21T12:16:02.629Z"
      },
      {
        "duration": 7,
        "start_time": "2021-12-21T12:16:04.691Z"
      },
      {
        "duration": 3,
        "start_time": "2021-12-21T12:17:21.387Z"
      },
      {
        "duration": 15,
        "start_time": "2021-12-21T12:17:31.738Z"
      },
      {
        "duration": 6,
        "start_time": "2021-12-21T12:17:56.627Z"
      },
      {
        "duration": 22,
        "start_time": "2021-12-21T12:18:01.164Z"
      },
      {
        "duration": 5,
        "start_time": "2021-12-21T12:18:18.910Z"
      },
      {
        "duration": 99,
        "start_time": "2021-12-21T12:18:46.602Z"
      },
      {
        "duration": 17,
        "start_time": "2021-12-21T12:22:33.810Z"
      },
      {
        "duration": 15,
        "start_time": "2021-12-21T12:22:35.411Z"
      },
      {
        "duration": 67,
        "start_time": "2021-12-21T12:22:35.601Z"
      },
      {
        "duration": 16,
        "start_time": "2021-12-21T12:22:48.242Z"
      },
      {
        "duration": 16,
        "start_time": "2021-12-21T12:22:49.610Z"
      },
      {
        "duration": 68,
        "start_time": "2021-12-21T12:22:50.082Z"
      },
      {
        "duration": 46,
        "start_time": "2021-12-21T12:22:50.850Z"
      },
      {
        "duration": 1362,
        "start_time": "2021-12-21T12:23:04.349Z"
      },
      {
        "duration": 135,
        "start_time": "2021-12-21T12:23:05.713Z"
      },
      {
        "duration": 11,
        "start_time": "2021-12-21T12:23:05.850Z"
      },
      {
        "duration": 13,
        "start_time": "2021-12-21T12:23:05.863Z"
      },
      {
        "duration": 24,
        "start_time": "2021-12-21T12:23:05.877Z"
      },
      {
        "duration": 4,
        "start_time": "2021-12-21T12:23:05.902Z"
      },
      {
        "duration": 17,
        "start_time": "2021-12-21T12:23:05.907Z"
      },
      {
        "duration": 17,
        "start_time": "2021-12-21T12:23:05.927Z"
      },
      {
        "duration": 74,
        "start_time": "2021-12-21T12:23:05.946Z"
      },
      {
        "duration": 70,
        "start_time": "2021-12-21T12:23:06.022Z"
      },
      {
        "duration": 63,
        "start_time": "2021-12-21T12:23:06.094Z"
      },
      {
        "duration": 32,
        "start_time": "2021-12-21T12:23:06.159Z"
      },
      {
        "duration": 73,
        "start_time": "2021-12-21T12:23:06.193Z"
      },
      {
        "duration": 48,
        "start_time": "2021-12-21T12:23:06.268Z"
      },
      {
        "duration": 21,
        "start_time": "2021-12-21T12:23:06.318Z"
      },
      {
        "duration": 8,
        "start_time": "2021-12-21T12:23:06.341Z"
      },
      {
        "duration": 16,
        "start_time": "2021-12-21T12:23:06.351Z"
      },
      {
        "duration": 55,
        "start_time": "2021-12-21T12:23:06.369Z"
      },
      {
        "duration": 4,
        "start_time": "2021-12-21T12:23:06.425Z"
      },
      {
        "duration": 9,
        "start_time": "2021-12-21T12:23:06.430Z"
      },
      {
        "duration": 3,
        "start_time": "2021-12-21T12:23:06.441Z"
      },
      {
        "duration": 6,
        "start_time": "2021-12-21T12:23:06.445Z"
      },
      {
        "duration": 4,
        "start_time": "2021-12-21T12:23:06.456Z"
      },
      {
        "duration": 409,
        "start_time": "2021-12-21T12:23:06.493Z"
      },
      {
        "duration": 15,
        "start_time": "2021-12-21T12:23:06.904Z"
      },
      {
        "duration": 16,
        "start_time": "2021-12-21T12:23:06.921Z"
      },
      {
        "duration": 14,
        "start_time": "2021-12-21T12:23:06.939Z"
      },
      {
        "duration": 308,
        "start_time": "2021-12-21T12:23:06.954Z"
      },
      {
        "duration": 4,
        "start_time": "2021-12-21T12:23:07.264Z"
      },
      {
        "duration": 7,
        "start_time": "2021-12-21T12:23:07.270Z"
      },
      {
        "duration": 25,
        "start_time": "2021-12-21T12:23:07.292Z"
      },
      {
        "duration": 5,
        "start_time": "2021-12-21T12:23:07.319Z"
      },
      {
        "duration": 3,
        "start_time": "2021-12-21T12:23:07.326Z"
      },
      {
        "duration": 6,
        "start_time": "2021-12-21T12:23:07.331Z"
      },
      {
        "duration": 80,
        "start_time": "2021-12-21T12:23:07.338Z"
      },
      {
        "duration": 8,
        "start_time": "2021-12-21T12:23:07.420Z"
      },
      {
        "duration": 42,
        "start_time": "2021-12-21T12:23:07.430Z"
      },
      {
        "duration": 88,
        "start_time": "2021-12-21T12:23:07.474Z"
      },
      {
        "duration": 7,
        "start_time": "2021-12-21T12:23:07.577Z"
      },
      {
        "duration": 17,
        "start_time": "2021-12-21T12:23:07.586Z"
      },
      {
        "duration": 530,
        "start_time": "2021-12-21T12:23:07.606Z"
      },
      {
        "duration": 56,
        "start_time": "2021-12-21T12:23:08.137Z"
      },
      {
        "duration": 5,
        "start_time": "2021-12-21T12:23:08.197Z"
      },
      {
        "duration": 14,
        "start_time": "2021-12-21T12:23:08.206Z"
      },
      {
        "duration": 69,
        "start_time": "2021-12-21T12:23:08.222Z"
      },
      {
        "duration": 10,
        "start_time": "2021-12-21T12:23:08.293Z"
      },
      {
        "duration": 10,
        "start_time": "2021-12-21T12:23:08.305Z"
      },
      {
        "duration": 15,
        "start_time": "2021-12-21T12:23:08.317Z"
      },
      {
        "duration": 65,
        "start_time": "2021-12-21T12:23:08.333Z"
      },
      {
        "duration": 23,
        "start_time": "2021-12-21T12:23:08.400Z"
      },
      {
        "duration": 78,
        "start_time": "2021-12-21T12:23:08.427Z"
      },
      {
        "duration": 4,
        "start_time": "2021-12-21T12:23:08.507Z"
      },
      {
        "duration": 15,
        "start_time": "2021-12-21T12:23:08.512Z"
      },
      {
        "duration": 74,
        "start_time": "2021-12-21T12:23:08.528Z"
      },
      {
        "duration": 9,
        "start_time": "2021-12-21T12:23:08.605Z"
      },
      {
        "duration": 21,
        "start_time": "2021-12-21T12:23:08.616Z"
      },
      {
        "duration": 6,
        "start_time": "2021-12-21T12:23:08.639Z"
      },
      {
        "duration": 4,
        "start_time": "2021-12-21T12:23:08.648Z"
      },
      {
        "duration": 5,
        "start_time": "2021-12-21T12:23:08.654Z"
      },
      {
        "duration": 32,
        "start_time": "2021-12-21T12:23:08.661Z"
      },
      {
        "duration": 6,
        "start_time": "2021-12-21T12:23:08.695Z"
      },
      {
        "duration": 8,
        "start_time": "2021-12-21T12:23:08.703Z"
      },
      {
        "duration": 7,
        "start_time": "2021-12-21T12:23:08.714Z"
      },
      {
        "duration": 13,
        "start_time": "2021-12-21T12:23:08.723Z"
      },
      {
        "duration": 5,
        "start_time": "2021-12-21T12:23:08.738Z"
      },
      {
        "duration": 11,
        "start_time": "2021-12-21T12:23:08.745Z"
      },
      {
        "duration": 38,
        "start_time": "2021-12-21T12:23:08.758Z"
      },
      {
        "duration": 9,
        "start_time": "2021-12-21T12:23:08.803Z"
      },
      {
        "duration": 132,
        "start_time": "2021-12-21T12:23:08.814Z"
      },
      {
        "duration": 80,
        "start_time": "2021-12-21T12:23:08.948Z"
      },
      {
        "duration": 94,
        "start_time": "2021-12-21T12:23:09.031Z"
      },
      {
        "duration": 91,
        "start_time": "2021-12-21T12:23:09.127Z"
      },
      {
        "duration": 14,
        "start_time": "2021-12-21T12:23:09.220Z"
      },
      {
        "duration": 2,
        "start_time": "2021-12-21T12:23:09.236Z"
      },
      {
        "duration": 10,
        "start_time": "2021-12-21T12:23:09.240Z"
      },
      {
        "duration": 5,
        "start_time": "2021-12-21T12:23:09.252Z"
      },
      {
        "duration": 144,
        "start_time": "2021-12-21T12:23:09.258Z"
      },
      {
        "duration": 37,
        "start_time": "2021-12-21T12:31:57.010Z"
      },
      {
        "duration": 111,
        "start_time": "2021-12-21T12:48:56.084Z"
      },
      {
        "duration": 5,
        "start_time": "2021-12-21T12:55:57.179Z"
      },
      {
        "duration": 15,
        "start_time": "2021-12-21T13:44:04.667Z"
      },
      {
        "duration": 4,
        "start_time": "2021-12-21T13:44:56.908Z"
      },
      {
        "duration": 123,
        "start_time": "2021-12-21T13:44:57.082Z"
      },
      {
        "duration": 7,
        "start_time": "2021-12-21T13:44:57.258Z"
      },
      {
        "duration": 8,
        "start_time": "2021-12-21T13:44:57.443Z"
      },
      {
        "duration": 12,
        "start_time": "2021-12-21T13:44:57.626Z"
      },
      {
        "duration": 4,
        "start_time": "2021-12-21T13:44:57.801Z"
      },
      {
        "duration": 9,
        "start_time": "2021-12-21T13:44:57.994Z"
      },
      {
        "duration": 17,
        "start_time": "2021-12-21T13:44:58.177Z"
      },
      {
        "duration": 55,
        "start_time": "2021-12-21T13:44:58.361Z"
      },
      {
        "duration": 64,
        "start_time": "2021-12-21T13:44:58.546Z"
      },
      {
        "duration": 68,
        "start_time": "2021-12-21T13:44:58.714Z"
      },
      {
        "duration": 17,
        "start_time": "2021-12-21T13:44:58.897Z"
      },
      {
        "duration": 75,
        "start_time": "2021-12-21T13:44:59.073Z"
      },
      {
        "duration": 37,
        "start_time": "2021-12-21T13:44:59.259Z"
      },
      {
        "duration": 22,
        "start_time": "2021-12-21T13:44:59.442Z"
      },
      {
        "duration": 9,
        "start_time": "2021-12-21T13:44:59.610Z"
      },
      {
        "duration": 15,
        "start_time": "2021-12-21T13:44:59.794Z"
      },
      {
        "duration": 38,
        "start_time": "2021-12-21T13:44:59.970Z"
      },
      {
        "duration": 5,
        "start_time": "2021-12-21T13:45:00.497Z"
      },
      {
        "duration": 6,
        "start_time": "2021-12-21T13:45:00.682Z"
      },
      {
        "duration": 4,
        "start_time": "2021-12-21T13:45:00.882Z"
      },
      {
        "duration": 4,
        "start_time": "2021-12-21T13:45:01.075Z"
      },
      {
        "duration": 4,
        "start_time": "2021-12-21T13:45:01.307Z"
      },
      {
        "duration": 428,
        "start_time": "2021-12-21T13:45:01.490Z"
      },
      {
        "duration": 16,
        "start_time": "2021-12-21T13:45:02.082Z"
      },
      {
        "duration": 16,
        "start_time": "2021-12-21T13:45:02.338Z"
      },
      {
        "duration": 14,
        "start_time": "2021-12-21T13:45:02.810Z"
      },
      {
        "duration": 270,
        "start_time": "2021-12-21T13:45:03.577Z"
      },
      {
        "duration": 4,
        "start_time": "2021-12-21T13:45:04.106Z"
      },
      {
        "duration": 5,
        "start_time": "2021-12-21T13:45:04.530Z"
      },
      {
        "duration": 16,
        "start_time": "2021-12-21T13:45:04.971Z"
      },
      {
        "duration": 6,
        "start_time": "2021-12-21T13:45:05.450Z"
      },
      {
        "duration": 4,
        "start_time": "2021-12-21T13:45:06.866Z"
      },
      {
        "duration": 3,
        "start_time": "2021-12-21T13:45:07.059Z"
      },
      {
        "duration": 62,
        "start_time": "2021-12-21T13:45:07.659Z"
      },
      {
        "duration": 9,
        "start_time": "2021-12-21T13:45:10.057Z"
      },
      {
        "duration": 31,
        "start_time": "2021-12-21T13:45:10.234Z"
      },
      {
        "duration": 49,
        "start_time": "2021-12-21T13:45:10.578Z"
      },
      {
        "duration": 7,
        "start_time": "2021-12-21T13:45:10.753Z"
      },
      {
        "duration": 6,
        "start_time": "2021-12-21T13:45:10.954Z"
      },
      {
        "duration": 112,
        "start_time": "2021-12-21T13:45:11.354Z"
      },
      {
        "duration": 10,
        "start_time": "2021-12-21T13:45:11.702Z"
      },
      {
        "duration": 5,
        "start_time": "2021-12-21T13:45:15.902Z"
      },
      {
        "duration": 17,
        "start_time": "2021-12-21T13:45:15.909Z"
      },
      {
        "duration": 13,
        "start_time": "2021-12-21T13:45:15.928Z"
      },
      {
        "duration": 10,
        "start_time": "2021-12-21T13:45:16.514Z"
      },
      {
        "duration": 10,
        "start_time": "2021-12-21T13:45:17.857Z"
      },
      {
        "duration": 14,
        "start_time": "2021-12-21T13:45:18.993Z"
      },
      {
        "duration": 10,
        "start_time": "2021-12-21T13:45:19.417Z"
      },
      {
        "duration": 14,
        "start_time": "2021-12-21T13:45:20.290Z"
      },
      {
        "duration": 7,
        "start_time": "2021-12-21T13:45:20.828Z"
      },
      {
        "duration": 48,
        "start_time": "2021-12-21T13:46:01.034Z"
      },
      {
        "duration": 44,
        "start_time": "2021-12-21T13:46:05.412Z"
      },
      {
        "duration": 4,
        "start_time": "2021-12-21T13:46:11.842Z"
      },
      {
        "duration": 6,
        "start_time": "2021-12-21T13:46:46.457Z"
      },
      {
        "duration": 6,
        "start_time": "2021-12-21T13:46:51.401Z"
      },
      {
        "duration": 7,
        "start_time": "2021-12-21T13:47:02.704Z"
      },
      {
        "duration": 7,
        "start_time": "2021-12-21T13:47:43.561Z"
      },
      {
        "duration": 7,
        "start_time": "2021-12-21T13:47:51.873Z"
      },
      {
        "duration": 4081,
        "start_time": "2021-12-21T21:48:09.664Z"
      },
      {
        "duration": 478,
        "start_time": "2021-12-21T21:48:13.748Z"
      },
      {
        "duration": 15,
        "start_time": "2021-12-21T21:48:14.229Z"
      },
      {
        "duration": 76,
        "start_time": "2021-12-21T21:48:14.248Z"
      },
      {
        "duration": 17,
        "start_time": "2021-12-21T21:48:14.326Z"
      },
      {
        "duration": 5,
        "start_time": "2021-12-21T21:48:14.346Z"
      },
      {
        "duration": 10,
        "start_time": "2021-12-21T21:48:14.418Z"
      },
      {
        "duration": 21,
        "start_time": "2021-12-21T21:48:14.433Z"
      },
      {
        "duration": 192,
        "start_time": "2021-12-21T21:48:14.457Z"
      },
      {
        "duration": 199,
        "start_time": "2021-12-21T21:48:14.651Z"
      },
      {
        "duration": 211,
        "start_time": "2021-12-21T21:48:14.852Z"
      },
      {
        "duration": 20,
        "start_time": "2021-12-21T21:48:15.118Z"
      },
      {
        "duration": 277,
        "start_time": "2021-12-21T21:48:15.140Z"
      },
      {
        "duration": 105,
        "start_time": "2021-12-21T21:48:15.419Z"
      },
      {
        "duration": 27,
        "start_time": "2021-12-21T21:48:15.526Z"
      },
      {
        "duration": 75,
        "start_time": "2021-12-21T21:48:15.555Z"
      },
      {
        "duration": 83,
        "start_time": "2021-12-21T21:48:15.633Z"
      },
      {
        "duration": 102,
        "start_time": "2021-12-21T21:48:15.718Z"
      },
      {
        "duration": 4,
        "start_time": "2021-12-21T21:48:15.823Z"
      },
      {
        "duration": 8,
        "start_time": "2021-12-21T21:48:15.830Z"
      },
      {
        "duration": 5,
        "start_time": "2021-12-21T21:48:15.840Z"
      },
      {
        "duration": 74,
        "start_time": "2021-12-21T21:48:15.847Z"
      },
      {
        "duration": 6,
        "start_time": "2021-12-21T21:48:15.928Z"
      },
      {
        "duration": 1300,
        "start_time": "2021-12-21T21:48:15.937Z"
      },
      {
        "duration": 79,
        "start_time": "2021-12-21T21:48:17.239Z"
      },
      {
        "duration": 25,
        "start_time": "2021-12-21T21:48:17.321Z"
      },
      {
        "duration": 76,
        "start_time": "2021-12-21T21:48:17.349Z"
      },
      {
        "duration": 1121,
        "start_time": "2021-12-21T21:48:17.427Z"
      },
      {
        "duration": 6,
        "start_time": "2021-12-21T21:48:18.551Z"
      },
      {
        "duration": 64,
        "start_time": "2021-12-21T21:48:18.559Z"
      },
      {
        "duration": 92,
        "start_time": "2021-12-21T21:48:18.625Z"
      },
      {
        "duration": 11,
        "start_time": "2021-12-21T21:48:18.720Z"
      },
      {
        "duration": 5,
        "start_time": "2021-12-21T21:48:18.733Z"
      },
      {
        "duration": 6,
        "start_time": "2021-12-21T21:48:18.740Z"
      },
      {
        "duration": 189,
        "start_time": "2021-12-21T21:48:18.748Z"
      },
      {
        "duration": 12,
        "start_time": "2021-12-21T21:48:18.940Z"
      },
      {
        "duration": 163,
        "start_time": "2021-12-21T21:48:18.955Z"
      },
      {
        "duration": 116,
        "start_time": "2021-12-21T21:48:19.121Z"
      },
      {
        "duration": 9,
        "start_time": "2021-12-21T21:48:19.240Z"
      },
      {
        "duration": 66,
        "start_time": "2021-12-21T21:48:19.252Z"
      },
      {
        "duration": 1496,
        "start_time": "2021-12-21T21:48:19.322Z"
      },
      {
        "duration": 110,
        "start_time": "2021-12-21T21:48:20.820Z"
      },
      {
        "duration": 8,
        "start_time": "2021-12-21T21:48:20.935Z"
      },
      {
        "duration": 85,
        "start_time": "2021-12-21T21:48:20.946Z"
      },
      {
        "duration": 91,
        "start_time": "2021-12-21T21:48:21.033Z"
      },
      {
        "duration": 15,
        "start_time": "2021-12-21T21:48:21.127Z"
      },
      {
        "duration": 84,
        "start_time": "2021-12-21T21:48:21.145Z"
      },
      {
        "duration": 94,
        "start_time": "2021-12-21T21:48:21.231Z"
      },
      {
        "duration": 19,
        "start_time": "2021-12-21T21:48:21.327Z"
      },
      {
        "duration": 25,
        "start_time": "2021-12-21T21:48:21.418Z"
      },
      {
        "duration": 78,
        "start_time": "2021-12-21T21:48:21.446Z"
      },
      {
        "duration": 27,
        "start_time": "2021-12-21T21:48:21.526Z"
      },
      {
        "duration": 62,
        "start_time": "2021-12-21T21:48:21.556Z"
      },
      {
        "duration": 10,
        "start_time": "2021-12-21T21:48:21.621Z"
      },
      {
        "duration": 87,
        "start_time": "2021-12-21T21:48:21.634Z"
      },
      {
        "duration": 9,
        "start_time": "2021-12-21T21:48:21.723Z"
      },
      {
        "duration": 82,
        "start_time": "2021-12-21T21:48:21.735Z"
      },
      {
        "duration": 11,
        "start_time": "2021-12-21T21:48:21.819Z"
      },
      {
        "duration": 5,
        "start_time": "2021-12-21T21:48:21.833Z"
      },
      {
        "duration": 4,
        "start_time": "2021-12-21T21:48:21.841Z"
      },
      {
        "duration": 5,
        "start_time": "2021-12-21T21:48:21.916Z"
      },
      {
        "duration": 7,
        "start_time": "2021-12-21T21:48:21.923Z"
      },
      {
        "duration": 12,
        "start_time": "2021-12-21T21:48:21.932Z"
      },
      {
        "duration": 70,
        "start_time": "2021-12-21T21:48:21.947Z"
      },
      {
        "duration": 10,
        "start_time": "2021-12-21T21:48:22.021Z"
      },
      {
        "duration": 8,
        "start_time": "2021-12-21T21:48:22.034Z"
      },
      {
        "duration": 74,
        "start_time": "2021-12-21T21:48:22.045Z"
      },
      {
        "duration": 9,
        "start_time": "2021-12-21T21:48:22.128Z"
      },
      {
        "duration": 78,
        "start_time": "2021-12-21T21:48:22.141Z"
      },
      {
        "duration": 237,
        "start_time": "2021-12-21T21:48:22.222Z"
      },
      {
        "duration": 256,
        "start_time": "2021-12-21T21:48:22.462Z"
      },
      {
        "duration": 214,
        "start_time": "2021-12-21T21:48:22.721Z"
      },
      {
        "duration": 209,
        "start_time": "2021-12-21T21:48:22.938Z"
      },
      {
        "duration": 82,
        "start_time": "2021-12-21T21:48:23.150Z"
      },
      {
        "duration": 3,
        "start_time": "2021-12-21T21:48:23.235Z"
      },
      {
        "duration": 76,
        "start_time": "2021-12-21T21:48:23.241Z"
      },
      {
        "duration": 9,
        "start_time": "2021-12-21T21:48:23.321Z"
      },
      {
        "duration": 485,
        "start_time": "2021-12-21T21:48:23.333Z"
      }
    ],
    "kernelspec": {
      "display_name": "Python 3",
      "language": "python",
      "name": "python3"
    },
    "language_info": {
      "codemirror_mode": {
        "name": "ipython",
        "version": 3
      },
      "file_extension": ".py",
      "mimetype": "text/x-python",
      "name": "python",
      "nbconvert_exporter": "python",
      "pygments_lexer": "ipython3",
      "version": "3.7.8"
    },
    "toc": {
      "base_numbering": 1,
      "nav_menu": {},
      "number_sections": true,
      "sideBar": true,
      "skip_h1_title": true,
      "title_cell": "Table of Contents",
      "title_sidebar": "Contents",
      "toc_cell": false,
      "toc_position": {},
      "toc_section_display": true,
      "toc_window_display": false
    },
    "colab": {
      "name": "sbornyj_2.ipynb",
      "provenance": [],
      "include_colab_link": true
    }
  },
  "nbformat": 4,
  "nbformat_minor": 0
}