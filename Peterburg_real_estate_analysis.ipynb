{
  "cells": [
    {
      "cell_type": "markdown",
      "metadata": {
        "id": "view-in-github",
        "colab_type": "text"
      },
      "source": [
        "<a href=\"https://colab.research.google.com/github/artemtu/projects-by-artemtu/blob/main/Peterburg_real_estate_analysis.ipynb\" target=\"_parent\"><img src=\"https://colab.research.google.com/assets/colab-badge.svg\" alt=\"Open In Colab\"/></a>"
      ]
    },
    {
      "cell_type": "code",
      "source": [
        "from google.colab import drive\n",
        "drive.mount('/content/drive')"
      ],
      "metadata": {
        "colab": {
          "base_uri": "https://localhost:8080/"
        },
        "id": "kLxLLgLGaVy3",
        "outputId": "36095c24-0037-4e2b-9e4b-66a8e8764d26"
      },
      "execution_count": 1,
      "outputs": [
        {
          "output_type": "stream",
          "name": "stdout",
          "text": [
            "Mounted at /content/drive\n"
          ]
        }
      ]
    },
    {
      "cell_type": "code",
      "execution_count": 2,
      "metadata": {
        "id": "BrzLQ6JGY2wC"
      },
      "outputs": [],
      "source": [
        "import pandas as pd\n",
        "import numpy as np\n",
        "import matplotlib.pyplot as plt\n",
        "import seaborn as sns"
      ]
    },
    {
      "cell_type": "code",
      "source": [
        "df = pd.read_csv('/content/drive/MyDrive/Pandas_files/my_projects/real_estate_data.csv', sep='\\t')"
      ],
      "metadata": {
        "id": "Di262L0eaPpw"
      },
      "execution_count": 3,
      "outputs": []
    },
    {
      "cell_type": "markdown",
      "metadata": {
        "id": "y38j1KzWY2wE"
      },
      "source": [
        "## Open the data"
      ]
    },
    {
      "cell_type": "code",
      "execution_count": 4,
      "metadata": {
        "colab": {
          "base_uri": "https://localhost:8080/",
          "height": 860
        },
        "id": "v4K2IFADY2wE",
        "outputId": "a0ab84d5-4df7-416c-fed2-f96e17ab474f"
      },
      "outputs": [
        {
          "output_type": "stream",
          "name": "stdout",
          "text": [
            "<class 'pandas.core.frame.DataFrame'>\n",
            "RangeIndex: 23699 entries, 0 to 23698\n",
            "Data columns (total 22 columns):\n",
            " #   Column                Non-Null Count  Dtype  \n",
            "---  ------                --------------  -----  \n",
            " 0   total_images          23699 non-null  int64  \n",
            " 1   last_price            23699 non-null  float64\n",
            " 2   total_area            23699 non-null  float64\n",
            " 3   first_day_exposition  23699 non-null  object \n",
            " 4   rooms                 23699 non-null  int64  \n",
            " 5   ceiling_height        14504 non-null  float64\n",
            " 6   floors_total          23613 non-null  float64\n",
            " 7   living_area           21796 non-null  float64\n",
            " 8   floor                 23699 non-null  int64  \n",
            " 9   is_apartment          2775 non-null   object \n",
            " 10  studio                23699 non-null  bool   \n",
            " 11  open_plan             23699 non-null  bool   \n",
            " 12  kitchen_area          21421 non-null  float64\n",
            " 13  balcony               12180 non-null  float64\n",
            " 14  locality_name         23650 non-null  object \n",
            " 15  airports_nearest      18157 non-null  float64\n",
            " 16  cityCenters_nearest   18180 non-null  float64\n",
            " 17  parks_around3000      18181 non-null  float64\n",
            " 18  parks_nearest         8079 non-null   float64\n",
            " 19  ponds_around3000      18181 non-null  float64\n",
            " 20  ponds_nearest         9110 non-null   float64\n",
            " 21  days_exposition       20518 non-null  float64\n",
            "dtypes: bool(2), float64(14), int64(3), object(3)\n",
            "memory usage: 3.7+ MB\n"
          ]
        },
        {
          "output_type": "execute_result",
          "data": {
            "text/html": [
              "\n",
              "  <div id=\"df-e2d7b4ee-44f1-4e7c-982c-9207711160ca\">\n",
              "    <div class=\"colab-df-container\">\n",
              "      <div>\n",
              "<style scoped>\n",
              "    .dataframe tbody tr th:only-of-type {\n",
              "        vertical-align: middle;\n",
              "    }\n",
              "\n",
              "    .dataframe tbody tr th {\n",
              "        vertical-align: top;\n",
              "    }\n",
              "\n",
              "    .dataframe thead th {\n",
              "        text-align: right;\n",
              "    }\n",
              "</style>\n",
              "<table border=\"1\" class=\"dataframe\">\n",
              "  <thead>\n",
              "    <tr style=\"text-align: right;\">\n",
              "      <th></th>\n",
              "      <th>total_images</th>\n",
              "      <th>last_price</th>\n",
              "      <th>total_area</th>\n",
              "      <th>first_day_exposition</th>\n",
              "      <th>rooms</th>\n",
              "      <th>ceiling_height</th>\n",
              "      <th>floors_total</th>\n",
              "      <th>living_area</th>\n",
              "      <th>floor</th>\n",
              "      <th>is_apartment</th>\n",
              "      <th>studio</th>\n",
              "      <th>open_plan</th>\n",
              "      <th>kitchen_area</th>\n",
              "      <th>balcony</th>\n",
              "      <th>locality_name</th>\n",
              "      <th>airports_nearest</th>\n",
              "      <th>cityCenters_nearest</th>\n",
              "      <th>parks_around3000</th>\n",
              "      <th>parks_nearest</th>\n",
              "      <th>ponds_around3000</th>\n",
              "      <th>ponds_nearest</th>\n",
              "      <th>days_exposition</th>\n",
              "    </tr>\n",
              "  </thead>\n",
              "  <tbody>\n",
              "    <tr>\n",
              "      <th>0</th>\n",
              "      <td>20</td>\n",
              "      <td>13000000.0</td>\n",
              "      <td>108.0</td>\n",
              "      <td>2019-03-07T00:00:00</td>\n",
              "      <td>3</td>\n",
              "      <td>2.70</td>\n",
              "      <td>16.0</td>\n",
              "      <td>51.0</td>\n",
              "      <td>8</td>\n",
              "      <td>NaN</td>\n",
              "      <td>False</td>\n",
              "      <td>False</td>\n",
              "      <td>25.0</td>\n",
              "      <td>NaN</td>\n",
              "      <td>Санкт-Петербург</td>\n",
              "      <td>18863.0</td>\n",
              "      <td>16028.0</td>\n",
              "      <td>1.0</td>\n",
              "      <td>482.0</td>\n",
              "      <td>2.0</td>\n",
              "      <td>755.0</td>\n",
              "      <td>NaN</td>\n",
              "    </tr>\n",
              "    <tr>\n",
              "      <th>1</th>\n",
              "      <td>7</td>\n",
              "      <td>3350000.0</td>\n",
              "      <td>40.4</td>\n",
              "      <td>2018-12-04T00:00:00</td>\n",
              "      <td>1</td>\n",
              "      <td>NaN</td>\n",
              "      <td>11.0</td>\n",
              "      <td>18.6</td>\n",
              "      <td>1</td>\n",
              "      <td>NaN</td>\n",
              "      <td>False</td>\n",
              "      <td>False</td>\n",
              "      <td>11.0</td>\n",
              "      <td>2.0</td>\n",
              "      <td>посёлок Шушары</td>\n",
              "      <td>12817.0</td>\n",
              "      <td>18603.0</td>\n",
              "      <td>0.0</td>\n",
              "      <td>NaN</td>\n",
              "      <td>0.0</td>\n",
              "      <td>NaN</td>\n",
              "      <td>81.0</td>\n",
              "    </tr>\n",
              "    <tr>\n",
              "      <th>2</th>\n",
              "      <td>10</td>\n",
              "      <td>5196000.0</td>\n",
              "      <td>56.0</td>\n",
              "      <td>2015-08-20T00:00:00</td>\n",
              "      <td>2</td>\n",
              "      <td>NaN</td>\n",
              "      <td>5.0</td>\n",
              "      <td>34.3</td>\n",
              "      <td>4</td>\n",
              "      <td>NaN</td>\n",
              "      <td>False</td>\n",
              "      <td>False</td>\n",
              "      <td>8.3</td>\n",
              "      <td>0.0</td>\n",
              "      <td>Санкт-Петербург</td>\n",
              "      <td>21741.0</td>\n",
              "      <td>13933.0</td>\n",
              "      <td>1.0</td>\n",
              "      <td>90.0</td>\n",
              "      <td>2.0</td>\n",
              "      <td>574.0</td>\n",
              "      <td>558.0</td>\n",
              "    </tr>\n",
              "    <tr>\n",
              "      <th>3</th>\n",
              "      <td>0</td>\n",
              "      <td>64900000.0</td>\n",
              "      <td>159.0</td>\n",
              "      <td>2015-07-24T00:00:00</td>\n",
              "      <td>3</td>\n",
              "      <td>NaN</td>\n",
              "      <td>14.0</td>\n",
              "      <td>NaN</td>\n",
              "      <td>9</td>\n",
              "      <td>NaN</td>\n",
              "      <td>False</td>\n",
              "      <td>False</td>\n",
              "      <td>NaN</td>\n",
              "      <td>0.0</td>\n",
              "      <td>Санкт-Петербург</td>\n",
              "      <td>28098.0</td>\n",
              "      <td>6800.0</td>\n",
              "      <td>2.0</td>\n",
              "      <td>84.0</td>\n",
              "      <td>3.0</td>\n",
              "      <td>234.0</td>\n",
              "      <td>424.0</td>\n",
              "    </tr>\n",
              "    <tr>\n",
              "      <th>4</th>\n",
              "      <td>2</td>\n",
              "      <td>10000000.0</td>\n",
              "      <td>100.0</td>\n",
              "      <td>2018-06-19T00:00:00</td>\n",
              "      <td>2</td>\n",
              "      <td>3.03</td>\n",
              "      <td>14.0</td>\n",
              "      <td>32.0</td>\n",
              "      <td>13</td>\n",
              "      <td>NaN</td>\n",
              "      <td>False</td>\n",
              "      <td>False</td>\n",
              "      <td>41.0</td>\n",
              "      <td>NaN</td>\n",
              "      <td>Санкт-Петербург</td>\n",
              "      <td>31856.0</td>\n",
              "      <td>8098.0</td>\n",
              "      <td>2.0</td>\n",
              "      <td>112.0</td>\n",
              "      <td>1.0</td>\n",
              "      <td>48.0</td>\n",
              "      <td>121.0</td>\n",
              "    </tr>\n",
              "  </tbody>\n",
              "</table>\n",
              "</div>\n",
              "      <button class=\"colab-df-convert\" onclick=\"convertToInteractive('df-e2d7b4ee-44f1-4e7c-982c-9207711160ca')\"\n",
              "              title=\"Convert this dataframe to an interactive table.\"\n",
              "              style=\"display:none;\">\n",
              "        \n",
              "  <svg xmlns=\"http://www.w3.org/2000/svg\" height=\"24px\"viewBox=\"0 0 24 24\"\n",
              "       width=\"24px\">\n",
              "    <path d=\"M0 0h24v24H0V0z\" fill=\"none\"/>\n",
              "    <path d=\"M18.56 5.44l.94 2.06.94-2.06 2.06-.94-2.06-.94-.94-2.06-.94 2.06-2.06.94zm-11 1L8.5 8.5l.94-2.06 2.06-.94-2.06-.94L8.5 2.5l-.94 2.06-2.06.94zm10 10l.94 2.06.94-2.06 2.06-.94-2.06-.94-.94-2.06-.94 2.06-2.06.94z\"/><path d=\"M17.41 7.96l-1.37-1.37c-.4-.4-.92-.59-1.43-.59-.52 0-1.04.2-1.43.59L10.3 9.45l-7.72 7.72c-.78.78-.78 2.05 0 2.83L4 21.41c.39.39.9.59 1.41.59.51 0 1.02-.2 1.41-.59l7.78-7.78 2.81-2.81c.8-.78.8-2.07 0-2.86zM5.41 20L4 18.59l7.72-7.72 1.47 1.35L5.41 20z\"/>\n",
              "  </svg>\n",
              "      </button>\n",
              "      \n",
              "  <style>\n",
              "    .colab-df-container {\n",
              "      display:flex;\n",
              "      flex-wrap:wrap;\n",
              "      gap: 12px;\n",
              "    }\n",
              "\n",
              "    .colab-df-convert {\n",
              "      background-color: #E8F0FE;\n",
              "      border: none;\n",
              "      border-radius: 50%;\n",
              "      cursor: pointer;\n",
              "      display: none;\n",
              "      fill: #1967D2;\n",
              "      height: 32px;\n",
              "      padding: 0 0 0 0;\n",
              "      width: 32px;\n",
              "    }\n",
              "\n",
              "    .colab-df-convert:hover {\n",
              "      background-color: #E2EBFA;\n",
              "      box-shadow: 0px 1px 2px rgba(60, 64, 67, 0.3), 0px 1px 3px 1px rgba(60, 64, 67, 0.15);\n",
              "      fill: #174EA6;\n",
              "    }\n",
              "\n",
              "    [theme=dark] .colab-df-convert {\n",
              "      background-color: #3B4455;\n",
              "      fill: #D2E3FC;\n",
              "    }\n",
              "\n",
              "    [theme=dark] .colab-df-convert:hover {\n",
              "      background-color: #434B5C;\n",
              "      box-shadow: 0px 1px 3px 1px rgba(0, 0, 0, 0.15);\n",
              "      filter: drop-shadow(0px 1px 2px rgba(0, 0, 0, 0.3));\n",
              "      fill: #FFFFFF;\n",
              "    }\n",
              "  </style>\n",
              "\n",
              "      <script>\n",
              "        const buttonEl =\n",
              "          document.querySelector('#df-e2d7b4ee-44f1-4e7c-982c-9207711160ca button.colab-df-convert');\n",
              "        buttonEl.style.display =\n",
              "          google.colab.kernel.accessAllowed ? 'block' : 'none';\n",
              "\n",
              "        async function convertToInteractive(key) {\n",
              "          const element = document.querySelector('#df-e2d7b4ee-44f1-4e7c-982c-9207711160ca');\n",
              "          const dataTable =\n",
              "            await google.colab.kernel.invokeFunction('convertToInteractive',\n",
              "                                                     [key], {});\n",
              "          if (!dataTable) return;\n",
              "\n",
              "          const docLinkHtml = 'Like what you see? Visit the ' +\n",
              "            '<a target=\"_blank\" href=https://colab.research.google.com/notebooks/data_table.ipynb>data table notebook</a>'\n",
              "            + ' to learn more about interactive tables.';\n",
              "          element.innerHTML = '';\n",
              "          dataTable['output_type'] = 'display_data';\n",
              "          await google.colab.output.renderOutput(dataTable, element);\n",
              "          const docLink = document.createElement('div');\n",
              "          docLink.innerHTML = docLinkHtml;\n",
              "          element.appendChild(docLink);\n",
              "        }\n",
              "      </script>\n",
              "    </div>\n",
              "  </div>\n",
              "  "
            ],
            "text/plain": [
              "   total_images  last_price  ...  ponds_nearest days_exposition\n",
              "0            20  13000000.0  ...          755.0             NaN\n",
              "1             7   3350000.0  ...            NaN            81.0\n",
              "2            10   5196000.0  ...          574.0           558.0\n",
              "3             0  64900000.0  ...          234.0           424.0\n",
              "4             2  10000000.0  ...           48.0           121.0\n",
              "\n",
              "[5 rows x 22 columns]"
            ]
          },
          "metadata": {},
          "execution_count": 4
        }
      ],
      "source": [
        "df.info()\n",
        "\n",
        "df.head(5)"
      ]
    },
    {
      "cell_type": "code",
      "execution_count": 5,
      "metadata": {
        "colab": {
          "base_uri": "https://localhost:8080/",
          "height": 364
        },
        "id": "YGtfdXRGY2wF",
        "outputId": "89fe673f-411e-4da9-d828-bb85cef5a601"
      },
      "outputs": [
        {
          "output_type": "execute_result",
          "data": {
            "text/html": [
              "\n",
              "  <div id=\"df-39da1cb8-ee48-4ce8-b0c4-970f9016c52d\">\n",
              "    <div class=\"colab-df-container\">\n",
              "      <div>\n",
              "<style scoped>\n",
              "    .dataframe tbody tr th:only-of-type {\n",
              "        vertical-align: middle;\n",
              "    }\n",
              "\n",
              "    .dataframe tbody tr th {\n",
              "        vertical-align: top;\n",
              "    }\n",
              "\n",
              "    .dataframe thead th {\n",
              "        text-align: right;\n",
              "    }\n",
              "</style>\n",
              "<table border=\"1\" class=\"dataframe\">\n",
              "  <thead>\n",
              "    <tr style=\"text-align: right;\">\n",
              "      <th></th>\n",
              "      <th>total_images</th>\n",
              "      <th>last_price</th>\n",
              "      <th>total_area</th>\n",
              "      <th>rooms</th>\n",
              "      <th>ceiling_height</th>\n",
              "      <th>floors_total</th>\n",
              "      <th>living_area</th>\n",
              "      <th>floor</th>\n",
              "      <th>kitchen_area</th>\n",
              "      <th>balcony</th>\n",
              "      <th>airports_nearest</th>\n",
              "      <th>cityCenters_nearest</th>\n",
              "      <th>parks_around3000</th>\n",
              "      <th>parks_nearest</th>\n",
              "      <th>ponds_around3000</th>\n",
              "      <th>ponds_nearest</th>\n",
              "      <th>days_exposition</th>\n",
              "    </tr>\n",
              "  </thead>\n",
              "  <tbody>\n",
              "    <tr>\n",
              "      <th>count</th>\n",
              "      <td>23699.000000</td>\n",
              "      <td>2.369900e+04</td>\n",
              "      <td>23699.000000</td>\n",
              "      <td>23699.000000</td>\n",
              "      <td>14504.000000</td>\n",
              "      <td>23613.000000</td>\n",
              "      <td>21796.000000</td>\n",
              "      <td>23699.000000</td>\n",
              "      <td>21421.000000</td>\n",
              "      <td>12180.000000</td>\n",
              "      <td>18157.000000</td>\n",
              "      <td>18180.000000</td>\n",
              "      <td>18181.000000</td>\n",
              "      <td>8079.000000</td>\n",
              "      <td>18181.000000</td>\n",
              "      <td>9110.000000</td>\n",
              "      <td>20518.000000</td>\n",
              "    </tr>\n",
              "    <tr>\n",
              "      <th>mean</th>\n",
              "      <td>9.858475</td>\n",
              "      <td>6.541549e+06</td>\n",
              "      <td>60.348651</td>\n",
              "      <td>2.070636</td>\n",
              "      <td>2.771499</td>\n",
              "      <td>10.673824</td>\n",
              "      <td>34.457852</td>\n",
              "      <td>5.892358</td>\n",
              "      <td>10.569807</td>\n",
              "      <td>1.150082</td>\n",
              "      <td>28793.672193</td>\n",
              "      <td>14191.277833</td>\n",
              "      <td>0.611408</td>\n",
              "      <td>490.804555</td>\n",
              "      <td>0.770255</td>\n",
              "      <td>517.980900</td>\n",
              "      <td>180.888634</td>\n",
              "    </tr>\n",
              "    <tr>\n",
              "      <th>std</th>\n",
              "      <td>5.682529</td>\n",
              "      <td>1.088701e+07</td>\n",
              "      <td>35.654083</td>\n",
              "      <td>1.078405</td>\n",
              "      <td>1.261056</td>\n",
              "      <td>6.597173</td>\n",
              "      <td>22.030445</td>\n",
              "      <td>4.885249</td>\n",
              "      <td>5.905438</td>\n",
              "      <td>1.071300</td>\n",
              "      <td>12630.880622</td>\n",
              "      <td>8608.386210</td>\n",
              "      <td>0.802074</td>\n",
              "      <td>342.317995</td>\n",
              "      <td>0.938346</td>\n",
              "      <td>277.720643</td>\n",
              "      <td>219.727988</td>\n",
              "    </tr>\n",
              "    <tr>\n",
              "      <th>min</th>\n",
              "      <td>0.000000</td>\n",
              "      <td>1.219000e+04</td>\n",
              "      <td>12.000000</td>\n",
              "      <td>0.000000</td>\n",
              "      <td>1.000000</td>\n",
              "      <td>1.000000</td>\n",
              "      <td>2.000000</td>\n",
              "      <td>1.000000</td>\n",
              "      <td>1.300000</td>\n",
              "      <td>0.000000</td>\n",
              "      <td>0.000000</td>\n",
              "      <td>181.000000</td>\n",
              "      <td>0.000000</td>\n",
              "      <td>1.000000</td>\n",
              "      <td>0.000000</td>\n",
              "      <td>13.000000</td>\n",
              "      <td>1.000000</td>\n",
              "    </tr>\n",
              "    <tr>\n",
              "      <th>25%</th>\n",
              "      <td>6.000000</td>\n",
              "      <td>3.400000e+06</td>\n",
              "      <td>40.000000</td>\n",
              "      <td>1.000000</td>\n",
              "      <td>2.520000</td>\n",
              "      <td>5.000000</td>\n",
              "      <td>18.600000</td>\n",
              "      <td>2.000000</td>\n",
              "      <td>7.000000</td>\n",
              "      <td>0.000000</td>\n",
              "      <td>18585.000000</td>\n",
              "      <td>9238.000000</td>\n",
              "      <td>0.000000</td>\n",
              "      <td>288.000000</td>\n",
              "      <td>0.000000</td>\n",
              "      <td>294.000000</td>\n",
              "      <td>45.000000</td>\n",
              "    </tr>\n",
              "    <tr>\n",
              "      <th>50%</th>\n",
              "      <td>9.000000</td>\n",
              "      <td>4.650000e+06</td>\n",
              "      <td>52.000000</td>\n",
              "      <td>2.000000</td>\n",
              "      <td>2.650000</td>\n",
              "      <td>9.000000</td>\n",
              "      <td>30.000000</td>\n",
              "      <td>4.000000</td>\n",
              "      <td>9.100000</td>\n",
              "      <td>1.000000</td>\n",
              "      <td>26726.000000</td>\n",
              "      <td>13098.500000</td>\n",
              "      <td>0.000000</td>\n",
              "      <td>455.000000</td>\n",
              "      <td>1.000000</td>\n",
              "      <td>502.000000</td>\n",
              "      <td>95.000000</td>\n",
              "    </tr>\n",
              "    <tr>\n",
              "      <th>75%</th>\n",
              "      <td>14.000000</td>\n",
              "      <td>6.800000e+06</td>\n",
              "      <td>69.900000</td>\n",
              "      <td>3.000000</td>\n",
              "      <td>2.800000</td>\n",
              "      <td>16.000000</td>\n",
              "      <td>42.300000</td>\n",
              "      <td>8.000000</td>\n",
              "      <td>12.000000</td>\n",
              "      <td>2.000000</td>\n",
              "      <td>37273.000000</td>\n",
              "      <td>16293.000000</td>\n",
              "      <td>1.000000</td>\n",
              "      <td>612.000000</td>\n",
              "      <td>1.000000</td>\n",
              "      <td>729.000000</td>\n",
              "      <td>232.000000</td>\n",
              "    </tr>\n",
              "    <tr>\n",
              "      <th>max</th>\n",
              "      <td>50.000000</td>\n",
              "      <td>7.630000e+08</td>\n",
              "      <td>900.000000</td>\n",
              "      <td>19.000000</td>\n",
              "      <td>100.000000</td>\n",
              "      <td>60.000000</td>\n",
              "      <td>409.700000</td>\n",
              "      <td>33.000000</td>\n",
              "      <td>112.000000</td>\n",
              "      <td>5.000000</td>\n",
              "      <td>84869.000000</td>\n",
              "      <td>65968.000000</td>\n",
              "      <td>3.000000</td>\n",
              "      <td>3190.000000</td>\n",
              "      <td>3.000000</td>\n",
              "      <td>1344.000000</td>\n",
              "      <td>1580.000000</td>\n",
              "    </tr>\n",
              "  </tbody>\n",
              "</table>\n",
              "</div>\n",
              "      <button class=\"colab-df-convert\" onclick=\"convertToInteractive('df-39da1cb8-ee48-4ce8-b0c4-970f9016c52d')\"\n",
              "              title=\"Convert this dataframe to an interactive table.\"\n",
              "              style=\"display:none;\">\n",
              "        \n",
              "  <svg xmlns=\"http://www.w3.org/2000/svg\" height=\"24px\"viewBox=\"0 0 24 24\"\n",
              "       width=\"24px\">\n",
              "    <path d=\"M0 0h24v24H0V0z\" fill=\"none\"/>\n",
              "    <path d=\"M18.56 5.44l.94 2.06.94-2.06 2.06-.94-2.06-.94-.94-2.06-.94 2.06-2.06.94zm-11 1L8.5 8.5l.94-2.06 2.06-.94-2.06-.94L8.5 2.5l-.94 2.06-2.06.94zm10 10l.94 2.06.94-2.06 2.06-.94-2.06-.94-.94-2.06-.94 2.06-2.06.94z\"/><path d=\"M17.41 7.96l-1.37-1.37c-.4-.4-.92-.59-1.43-.59-.52 0-1.04.2-1.43.59L10.3 9.45l-7.72 7.72c-.78.78-.78 2.05 0 2.83L4 21.41c.39.39.9.59 1.41.59.51 0 1.02-.2 1.41-.59l7.78-7.78 2.81-2.81c.8-.78.8-2.07 0-2.86zM5.41 20L4 18.59l7.72-7.72 1.47 1.35L5.41 20z\"/>\n",
              "  </svg>\n",
              "      </button>\n",
              "      \n",
              "  <style>\n",
              "    .colab-df-container {\n",
              "      display:flex;\n",
              "      flex-wrap:wrap;\n",
              "      gap: 12px;\n",
              "    }\n",
              "\n",
              "    .colab-df-convert {\n",
              "      background-color: #E8F0FE;\n",
              "      border: none;\n",
              "      border-radius: 50%;\n",
              "      cursor: pointer;\n",
              "      display: none;\n",
              "      fill: #1967D2;\n",
              "      height: 32px;\n",
              "      padding: 0 0 0 0;\n",
              "      width: 32px;\n",
              "    }\n",
              "\n",
              "    .colab-df-convert:hover {\n",
              "      background-color: #E2EBFA;\n",
              "      box-shadow: 0px 1px 2px rgba(60, 64, 67, 0.3), 0px 1px 3px 1px rgba(60, 64, 67, 0.15);\n",
              "      fill: #174EA6;\n",
              "    }\n",
              "\n",
              "    [theme=dark] .colab-df-convert {\n",
              "      background-color: #3B4455;\n",
              "      fill: #D2E3FC;\n",
              "    }\n",
              "\n",
              "    [theme=dark] .colab-df-convert:hover {\n",
              "      background-color: #434B5C;\n",
              "      box-shadow: 0px 1px 3px 1px rgba(0, 0, 0, 0.15);\n",
              "      filter: drop-shadow(0px 1px 2px rgba(0, 0, 0, 0.3));\n",
              "      fill: #FFFFFF;\n",
              "    }\n",
              "  </style>\n",
              "\n",
              "      <script>\n",
              "        const buttonEl =\n",
              "          document.querySelector('#df-39da1cb8-ee48-4ce8-b0c4-970f9016c52d button.colab-df-convert');\n",
              "        buttonEl.style.display =\n",
              "          google.colab.kernel.accessAllowed ? 'block' : 'none';\n",
              "\n",
              "        async function convertToInteractive(key) {\n",
              "          const element = document.querySelector('#df-39da1cb8-ee48-4ce8-b0c4-970f9016c52d');\n",
              "          const dataTable =\n",
              "            await google.colab.kernel.invokeFunction('convertToInteractive',\n",
              "                                                     [key], {});\n",
              "          if (!dataTable) return;\n",
              "\n",
              "          const docLinkHtml = 'Like what you see? Visit the ' +\n",
              "            '<a target=\"_blank\" href=https://colab.research.google.com/notebooks/data_table.ipynb>data table notebook</a>'\n",
              "            + ' to learn more about interactive tables.';\n",
              "          element.innerHTML = '';\n",
              "          dataTable['output_type'] = 'display_data';\n",
              "          await google.colab.output.renderOutput(dataTable, element);\n",
              "          const docLink = document.createElement('div');\n",
              "          docLink.innerHTML = docLinkHtml;\n",
              "          element.appendChild(docLink);\n",
              "        }\n",
              "      </script>\n",
              "    </div>\n",
              "  </div>\n",
              "  "
            ],
            "text/plain": [
              "       total_images    last_price  ...  ponds_nearest  days_exposition\n",
              "count  23699.000000  2.369900e+04  ...    9110.000000     20518.000000\n",
              "mean       9.858475  6.541549e+06  ...     517.980900       180.888634\n",
              "std        5.682529  1.088701e+07  ...     277.720643       219.727988\n",
              "min        0.000000  1.219000e+04  ...      13.000000         1.000000\n",
              "25%        6.000000  3.400000e+06  ...     294.000000        45.000000\n",
              "50%        9.000000  4.650000e+06  ...     502.000000        95.000000\n",
              "75%       14.000000  6.800000e+06  ...     729.000000       232.000000\n",
              "max       50.000000  7.630000e+08  ...    1344.000000      1580.000000\n",
              "\n",
              "[8 rows x 17 columns]"
            ]
          },
          "metadata": {},
          "execution_count": 5
        }
      ],
      "source": [
        "df.describe()"
      ]
    },
    {
      "cell_type": "code",
      "execution_count": 6,
      "metadata": {
        "colab": {
          "base_uri": "https://localhost:8080/",
          "height": 739
        },
        "id": "banrlENfY2wF",
        "outputId": "93363e51-2045-4213-a240-4dacdc2623e8"
      },
      "outputs": [
        {
          "output_type": "execute_result",
          "data": {
            "text/html": [
              "<style type=\"text/css\">\n",
              "#T_32c20_row0_col0, #T_32c20_row1_col0, #T_32c20_row2_col0, #T_32c20_row3_col0, #T_32c20_row4_col0, #T_32c20_row8_col0, #T_32c20_row10_col0, #T_32c20_row11_col0, #T_32c20_row14_col0 {\n",
              "  background-color: #3b4cc0;\n",
              "  color: #f1f1f1;\n",
              "}\n",
              "#T_32c20_row5_col0 {\n",
              "  background-color: #ccd9ed;\n",
              "  color: #000000;\n",
              "}\n",
              "#T_32c20_row6_col0 {\n",
              "  background-color: #3c4ec2;\n",
              "  color: #f1f1f1;\n",
              "}\n",
              "#T_32c20_row7_col0 {\n",
              "  background-color: #5673e0;\n",
              "  color: #f1f1f1;\n",
              "}\n",
              "#T_32c20_row9_col0 {\n",
              "  background-color: #b40426;\n",
              "  color: #f1f1f1;\n",
              "}\n",
              "#T_32c20_row12_col0 {\n",
              "  background-color: #5b7ae5;\n",
              "  color: #f1f1f1;\n",
              "}\n",
              "#T_32c20_row13_col0 {\n",
              "  background-color: #e9d5cb;\n",
              "  color: #000000;\n",
              "}\n",
              "#T_32c20_row15_col0, #T_32c20_row16_col0, #T_32c20_row17_col0, #T_32c20_row19_col0 {\n",
              "  background-color: #92b4fe;\n",
              "  color: #000000;\n",
              "}\n",
              "#T_32c20_row18_col0 {\n",
              "  background-color: #f49a7b;\n",
              "  color: #000000;\n",
              "}\n",
              "#T_32c20_row20_col0 {\n",
              "  background-color: #f7ad90;\n",
              "  color: #000000;\n",
              "}\n",
              "#T_32c20_row21_col0 {\n",
              "  background-color: #6a8bef;\n",
              "  color: #f1f1f1;\n",
              "}\n",
              "</style>\n",
              "<table id=\"T_32c20_\" class=\"dataframe\">\n",
              "  <thead>\n",
              "    <tr>\n",
              "      <th class=\"blank level0\" >&nbsp;</th>\n",
              "      <th class=\"col_heading level0 col0\" >0</th>\n",
              "    </tr>\n",
              "  </thead>\n",
              "  <tbody>\n",
              "    <tr>\n",
              "      <th id=\"T_32c20_level0_row0\" class=\"row_heading level0 row0\" >total_images</th>\n",
              "      <td id=\"T_32c20_row0_col0\" class=\"data row0 col0\" >0.000000</td>\n",
              "    </tr>\n",
              "    <tr>\n",
              "      <th id=\"T_32c20_level0_row1\" class=\"row_heading level0 row1\" >last_price</th>\n",
              "      <td id=\"T_32c20_row1_col0\" class=\"data row1 col0\" >0.000000</td>\n",
              "    </tr>\n",
              "    <tr>\n",
              "      <th id=\"T_32c20_level0_row2\" class=\"row_heading level0 row2\" >total_area</th>\n",
              "      <td id=\"T_32c20_row2_col0\" class=\"data row2 col0\" >0.000000</td>\n",
              "    </tr>\n",
              "    <tr>\n",
              "      <th id=\"T_32c20_level0_row3\" class=\"row_heading level0 row3\" >first_day_exposition</th>\n",
              "      <td id=\"T_32c20_row3_col0\" class=\"data row3 col0\" >0.000000</td>\n",
              "    </tr>\n",
              "    <tr>\n",
              "      <th id=\"T_32c20_level0_row4\" class=\"row_heading level0 row4\" >rooms</th>\n",
              "      <td id=\"T_32c20_row4_col0\" class=\"data row4 col0\" >0.000000</td>\n",
              "    </tr>\n",
              "    <tr>\n",
              "      <th id=\"T_32c20_level0_row5\" class=\"row_heading level0 row5\" >ceiling_height</th>\n",
              "      <td id=\"T_32c20_row5_col0\" class=\"data row5 col0\" >38.800000</td>\n",
              "    </tr>\n",
              "    <tr>\n",
              "      <th id=\"T_32c20_level0_row6\" class=\"row_heading level0 row6\" >floors_total</th>\n",
              "      <td id=\"T_32c20_row6_col0\" class=\"data row6 col0\" >0.360000</td>\n",
              "    </tr>\n",
              "    <tr>\n",
              "      <th id=\"T_32c20_level0_row7\" class=\"row_heading level0 row7\" >living_area</th>\n",
              "      <td id=\"T_32c20_row7_col0\" class=\"data row7 col0\" >8.030000</td>\n",
              "    </tr>\n",
              "    <tr>\n",
              "      <th id=\"T_32c20_level0_row8\" class=\"row_heading level0 row8\" >floor</th>\n",
              "      <td id=\"T_32c20_row8_col0\" class=\"data row8 col0\" >0.000000</td>\n",
              "    </tr>\n",
              "    <tr>\n",
              "      <th id=\"T_32c20_level0_row9\" class=\"row_heading level0 row9\" >is_apartment</th>\n",
              "      <td id=\"T_32c20_row9_col0\" class=\"data row9 col0\" >88.290000</td>\n",
              "    </tr>\n",
              "    <tr>\n",
              "      <th id=\"T_32c20_level0_row10\" class=\"row_heading level0 row10\" >studio</th>\n",
              "      <td id=\"T_32c20_row10_col0\" class=\"data row10 col0\" >0.000000</td>\n",
              "    </tr>\n",
              "    <tr>\n",
              "      <th id=\"T_32c20_level0_row11\" class=\"row_heading level0 row11\" >open_plan</th>\n",
              "      <td id=\"T_32c20_row11_col0\" class=\"data row11 col0\" >0.000000</td>\n",
              "    </tr>\n",
              "    <tr>\n",
              "      <th id=\"T_32c20_level0_row12\" class=\"row_heading level0 row12\" >kitchen_area</th>\n",
              "      <td id=\"T_32c20_row12_col0\" class=\"data row12 col0\" >9.610000</td>\n",
              "    </tr>\n",
              "    <tr>\n",
              "      <th id=\"T_32c20_level0_row13\" class=\"row_heading level0 row13\" >balcony</th>\n",
              "      <td id=\"T_32c20_row13_col0\" class=\"data row13 col0\" >48.610000</td>\n",
              "    </tr>\n",
              "    <tr>\n",
              "      <th id=\"T_32c20_level0_row14\" class=\"row_heading level0 row14\" >locality_name</th>\n",
              "      <td id=\"T_32c20_row14_col0\" class=\"data row14 col0\" >0.210000</td>\n",
              "    </tr>\n",
              "    <tr>\n",
              "      <th id=\"T_32c20_level0_row15\" class=\"row_heading level0 row15\" >airports_nearest</th>\n",
              "      <td id=\"T_32c20_row15_col0\" class=\"data row15 col0\" >23.380000</td>\n",
              "    </tr>\n",
              "    <tr>\n",
              "      <th id=\"T_32c20_level0_row16\" class=\"row_heading level0 row16\" >cityCenters_nearest</th>\n",
              "      <td id=\"T_32c20_row16_col0\" class=\"data row16 col0\" >23.290000</td>\n",
              "    </tr>\n",
              "    <tr>\n",
              "      <th id=\"T_32c20_level0_row17\" class=\"row_heading level0 row17\" >parks_around3000</th>\n",
              "      <td id=\"T_32c20_row17_col0\" class=\"data row17 col0\" >23.280000</td>\n",
              "    </tr>\n",
              "    <tr>\n",
              "      <th id=\"T_32c20_level0_row18\" class=\"row_heading level0 row18\" >parks_nearest</th>\n",
              "      <td id=\"T_32c20_row18_col0\" class=\"data row18 col0\" >65.910000</td>\n",
              "    </tr>\n",
              "    <tr>\n",
              "      <th id=\"T_32c20_level0_row19\" class=\"row_heading level0 row19\" >ponds_around3000</th>\n",
              "      <td id=\"T_32c20_row19_col0\" class=\"data row19 col0\" >23.280000</td>\n",
              "    </tr>\n",
              "    <tr>\n",
              "      <th id=\"T_32c20_level0_row20\" class=\"row_heading level0 row20\" >ponds_nearest</th>\n",
              "      <td id=\"T_32c20_row20_col0\" class=\"data row20 col0\" >61.560000</td>\n",
              "    </tr>\n",
              "    <tr>\n",
              "      <th id=\"T_32c20_level0_row21\" class=\"row_heading level0 row21\" >days_exposition</th>\n",
              "      <td id=\"T_32c20_row21_col0\" class=\"data row21 col0\" >13.420000</td>\n",
              "    </tr>\n",
              "  </tbody>\n",
              "</table>\n"
            ],
            "text/plain": [
              "<pandas.io.formats.style.Styler at 0x7f85e7fccf10>"
            ]
          },
          "metadata": {},
          "execution_count": 6
        }
      ],
      "source": [
        "pd.DataFrame(round((df.isna().mean()*100),2)).style.background_gradient('coolwarm')"
      ]
    },
    {
      "cell_type": "markdown",
      "metadata": {
        "id": "UeV-qrLcY2wG"
      },
      "source": [
        "### Вывод"
      ]
    },
    {
      "cell_type": "markdown",
      "metadata": {
        "id": "CgA1jqSCY2wG"
      },
      "source": [
        "Изучили данные. Выявили следующие пропуски:\n",
        "1. Высота потолков. Пропущено 38,8% значений. Игнорировать не можем, будем заполнять пропуски по медиане.\n",
        "2. Количество этажей. Пропущено 0,36% значений. От этих пропусков можем избавиться. На конечный результат это не повлияет\n",
        "3. Жилая площадь. Пропущено 8,03% значений. Для нас это очень важный параметр, будем заполнять пропуски с помощью коэффициентов по соотнешию жилой площади к общей\n",
        "4. Площадь кухни. Пропущено 9,61% значений. Для нас это очень важный параметр, будем заполнять пропуски с помощью коэффициентов по соотнешию площади кухни к общей\n",
        "5. Апартаменты. Скорее всего, человек не поставил галочку при формировании объявления. Заменим все пропуски на False\n",
        "6. Балконы. Пропущено 48,61% значений. Если человек не указал кол-во балконов, наверное их нет. Балкон - это своеобразный приятный бонус в квартире, вряд ли кто-то умышленно бы отказался от заполнения этого пункта в объявлении. На сайте Яндекс.Недвижимость можно отфильтровать предложения по квартирам с опцией \"Балкон\"\n",
        "7. Название населённого пункта. Пропущено 0,21% значений. От таких пропусков мы можем избавиться\n",
        "8. Данные, которые были добавлены картографическим способом: расстояние до центра, аэропорта, парка, водоёма. Здесь пропущено от 23 до 65% значений. Мы заполним то, что сможем по медиане в соответствии с населённым пунктом, а оставшиеся пропуски проигнорируем\n",
        "9. days_exposition. Пропущено 13,42% значений. Заполнять пропуски не будем, так как мы не знаем, была ли продана квартира в момент выгрузки данных или нет"
      ]
    },
    {
      "cell_type": "markdown",
      "source": [
        "1. ceiling_height - we have no 38.8 per cent of values. I'm going to fill gaps in the median\n",
        "2. floors_total - we have no 0.36 per cent of values. I'll drop it\n",
        "3. living_area - we have no 8.03 per cent of values. This column is so important for us. I'm going to fill gaps with a special coefficient\n",
        "4. kitchen_area - we have no 9.61 per cent of values. This column is so important for us. I'm going to fill gaps with a special coefficient\n",
        "5. is_apartment - we have a gap because users didn't use the checkbox on a website\n",
        "6. balcony - we have no 48.6 per cent of values. I guess that person didn't use the especially checkbox on the web version because he hasn't a balcony\n",
        "7. locality_name - only 0.21 per cent gaped. I'll drop it\n",
        "8. The data in columns from airports_nearest to ponds_nearest was added automatically, Yandex maps added this data to every announcement. I'll fill gaps on a median value\n",
        "9. days_exposition - we have no 13.4 per cent of values. I won't fill gaps because we don't know how many days/weeks ago announcements were added"
      ],
      "metadata": {
        "id": "uxF8Jo69eFk0"
      }
    },
    {
      "cell_type": "markdown",
      "metadata": {
        "id": "jXoO6aEdY2wH"
      },
      "source": [
        "## Data preprocessing"
      ]
    },
    {
      "cell_type": "code",
      "execution_count": 7,
      "metadata": {
        "id": "4oZuL8geY2wH"
      },
      "outputs": [],
      "source": [
        "df['live_coef'] = df['living_area'] / df['total_area'] # coefficient living area to total area\n",
        "df['kitchen_coef']  = df['kitchen_area'] / df['total_area'] # coefficient kitchen area to total area"
      ]
    },
    {
      "cell_type": "code",
      "execution_count": 8,
      "metadata": {
        "id": "uBWWq2g5Y2wH"
      },
      "outputs": [],
      "source": [
        "liv_coef_dict = df.groupby('rooms')['live_coef'].median().to_dict() # create a dictionary with median values on rooms\n",
        "kit_coef_dict = df.groupby('rooms')['kitchen_coef'].median().to_dict() "
      ]
    },
    {
      "cell_type": "code",
      "execution_count": 9,
      "metadata": {
        "id": "pemBzzksY2wI"
      },
      "outputs": [],
      "source": [
        "df['live_coef'] = df['live_coef'].fillna(df['rooms'].map(liv_coef_dict)) # filling gaps in live_coef on the dictionary\n",
        "df['kitchen_coef'] = df['kitchen_coef'].fillna(df['rooms'].map(kit_coef_dict))\n",
        "df['kitchen_coef'] = df['kitchen_coef'].fillna(0)"
      ]
    },
    {
      "cell_type": "code",
      "execution_count": 10,
      "metadata": {
        "colab": {
          "base_uri": "https://localhost:8080/",
          "height": 802
        },
        "id": "cahsE8rlY2wI",
        "outputId": "fc57505e-ed18-4af0-d37b-24e5d476a035"
      },
      "outputs": [
        {
          "output_type": "execute_result",
          "data": {
            "text/html": [
              "<style type=\"text/css\">\n",
              "#T_4b698_row0_col0, #T_4b698_row1_col0, #T_4b698_row2_col0, #T_4b698_row3_col0, #T_4b698_row4_col0, #T_4b698_row8_col0, #T_4b698_row10_col0, #T_4b698_row11_col0, #T_4b698_row14_col0, #T_4b698_row22_col0, #T_4b698_row23_col0 {\n",
              "  background-color: #3b4cc0;\n",
              "  color: #f1f1f1;\n",
              "}\n",
              "#T_4b698_row5_col0 {\n",
              "  background-color: #ccd9ed;\n",
              "  color: #000000;\n",
              "}\n",
              "#T_4b698_row6_col0 {\n",
              "  background-color: #3c4ec2;\n",
              "  color: #f1f1f1;\n",
              "}\n",
              "#T_4b698_row7_col0 {\n",
              "  background-color: #5673e0;\n",
              "  color: #f1f1f1;\n",
              "}\n",
              "#T_4b698_row9_col0 {\n",
              "  background-color: #b40426;\n",
              "  color: #f1f1f1;\n",
              "}\n",
              "#T_4b698_row12_col0 {\n",
              "  background-color: #5b7ae5;\n",
              "  color: #f1f1f1;\n",
              "}\n",
              "#T_4b698_row13_col0 {\n",
              "  background-color: #e9d5cb;\n",
              "  color: #000000;\n",
              "}\n",
              "#T_4b698_row15_col0, #T_4b698_row16_col0, #T_4b698_row17_col0, #T_4b698_row19_col0 {\n",
              "  background-color: #92b4fe;\n",
              "  color: #000000;\n",
              "}\n",
              "#T_4b698_row18_col0 {\n",
              "  background-color: #f49a7b;\n",
              "  color: #000000;\n",
              "}\n",
              "#T_4b698_row20_col0 {\n",
              "  background-color: #f7ad90;\n",
              "  color: #000000;\n",
              "}\n",
              "#T_4b698_row21_col0 {\n",
              "  background-color: #6a8bef;\n",
              "  color: #f1f1f1;\n",
              "}\n",
              "</style>\n",
              "<table id=\"T_4b698_\" class=\"dataframe\">\n",
              "  <thead>\n",
              "    <tr>\n",
              "      <th class=\"blank level0\" >&nbsp;</th>\n",
              "      <th class=\"col_heading level0 col0\" >0</th>\n",
              "    </tr>\n",
              "  </thead>\n",
              "  <tbody>\n",
              "    <tr>\n",
              "      <th id=\"T_4b698_level0_row0\" class=\"row_heading level0 row0\" >total_images</th>\n",
              "      <td id=\"T_4b698_row0_col0\" class=\"data row0 col0\" >0.000000</td>\n",
              "    </tr>\n",
              "    <tr>\n",
              "      <th id=\"T_4b698_level0_row1\" class=\"row_heading level0 row1\" >last_price</th>\n",
              "      <td id=\"T_4b698_row1_col0\" class=\"data row1 col0\" >0.000000</td>\n",
              "    </tr>\n",
              "    <tr>\n",
              "      <th id=\"T_4b698_level0_row2\" class=\"row_heading level0 row2\" >total_area</th>\n",
              "      <td id=\"T_4b698_row2_col0\" class=\"data row2 col0\" >0.000000</td>\n",
              "    </tr>\n",
              "    <tr>\n",
              "      <th id=\"T_4b698_level0_row3\" class=\"row_heading level0 row3\" >first_day_exposition</th>\n",
              "      <td id=\"T_4b698_row3_col0\" class=\"data row3 col0\" >0.000000</td>\n",
              "    </tr>\n",
              "    <tr>\n",
              "      <th id=\"T_4b698_level0_row4\" class=\"row_heading level0 row4\" >rooms</th>\n",
              "      <td id=\"T_4b698_row4_col0\" class=\"data row4 col0\" >0.000000</td>\n",
              "    </tr>\n",
              "    <tr>\n",
              "      <th id=\"T_4b698_level0_row5\" class=\"row_heading level0 row5\" >ceiling_height</th>\n",
              "      <td id=\"T_4b698_row5_col0\" class=\"data row5 col0\" >38.800000</td>\n",
              "    </tr>\n",
              "    <tr>\n",
              "      <th id=\"T_4b698_level0_row6\" class=\"row_heading level0 row6\" >floors_total</th>\n",
              "      <td id=\"T_4b698_row6_col0\" class=\"data row6 col0\" >0.360000</td>\n",
              "    </tr>\n",
              "    <tr>\n",
              "      <th id=\"T_4b698_level0_row7\" class=\"row_heading level0 row7\" >living_area</th>\n",
              "      <td id=\"T_4b698_row7_col0\" class=\"data row7 col0\" >8.030000</td>\n",
              "    </tr>\n",
              "    <tr>\n",
              "      <th id=\"T_4b698_level0_row8\" class=\"row_heading level0 row8\" >floor</th>\n",
              "      <td id=\"T_4b698_row8_col0\" class=\"data row8 col0\" >0.000000</td>\n",
              "    </tr>\n",
              "    <tr>\n",
              "      <th id=\"T_4b698_level0_row9\" class=\"row_heading level0 row9\" >is_apartment</th>\n",
              "      <td id=\"T_4b698_row9_col0\" class=\"data row9 col0\" >88.290000</td>\n",
              "    </tr>\n",
              "    <tr>\n",
              "      <th id=\"T_4b698_level0_row10\" class=\"row_heading level0 row10\" >studio</th>\n",
              "      <td id=\"T_4b698_row10_col0\" class=\"data row10 col0\" >0.000000</td>\n",
              "    </tr>\n",
              "    <tr>\n",
              "      <th id=\"T_4b698_level0_row11\" class=\"row_heading level0 row11\" >open_plan</th>\n",
              "      <td id=\"T_4b698_row11_col0\" class=\"data row11 col0\" >0.000000</td>\n",
              "    </tr>\n",
              "    <tr>\n",
              "      <th id=\"T_4b698_level0_row12\" class=\"row_heading level0 row12\" >kitchen_area</th>\n",
              "      <td id=\"T_4b698_row12_col0\" class=\"data row12 col0\" >9.610000</td>\n",
              "    </tr>\n",
              "    <tr>\n",
              "      <th id=\"T_4b698_level0_row13\" class=\"row_heading level0 row13\" >balcony</th>\n",
              "      <td id=\"T_4b698_row13_col0\" class=\"data row13 col0\" >48.610000</td>\n",
              "    </tr>\n",
              "    <tr>\n",
              "      <th id=\"T_4b698_level0_row14\" class=\"row_heading level0 row14\" >locality_name</th>\n",
              "      <td id=\"T_4b698_row14_col0\" class=\"data row14 col0\" >0.210000</td>\n",
              "    </tr>\n",
              "    <tr>\n",
              "      <th id=\"T_4b698_level0_row15\" class=\"row_heading level0 row15\" >airports_nearest</th>\n",
              "      <td id=\"T_4b698_row15_col0\" class=\"data row15 col0\" >23.380000</td>\n",
              "    </tr>\n",
              "    <tr>\n",
              "      <th id=\"T_4b698_level0_row16\" class=\"row_heading level0 row16\" >cityCenters_nearest</th>\n",
              "      <td id=\"T_4b698_row16_col0\" class=\"data row16 col0\" >23.290000</td>\n",
              "    </tr>\n",
              "    <tr>\n",
              "      <th id=\"T_4b698_level0_row17\" class=\"row_heading level0 row17\" >parks_around3000</th>\n",
              "      <td id=\"T_4b698_row17_col0\" class=\"data row17 col0\" >23.280000</td>\n",
              "    </tr>\n",
              "    <tr>\n",
              "      <th id=\"T_4b698_level0_row18\" class=\"row_heading level0 row18\" >parks_nearest</th>\n",
              "      <td id=\"T_4b698_row18_col0\" class=\"data row18 col0\" >65.910000</td>\n",
              "    </tr>\n",
              "    <tr>\n",
              "      <th id=\"T_4b698_level0_row19\" class=\"row_heading level0 row19\" >ponds_around3000</th>\n",
              "      <td id=\"T_4b698_row19_col0\" class=\"data row19 col0\" >23.280000</td>\n",
              "    </tr>\n",
              "    <tr>\n",
              "      <th id=\"T_4b698_level0_row20\" class=\"row_heading level0 row20\" >ponds_nearest</th>\n",
              "      <td id=\"T_4b698_row20_col0\" class=\"data row20 col0\" >61.560000</td>\n",
              "    </tr>\n",
              "    <tr>\n",
              "      <th id=\"T_4b698_level0_row21\" class=\"row_heading level0 row21\" >days_exposition</th>\n",
              "      <td id=\"T_4b698_row21_col0\" class=\"data row21 col0\" >13.420000</td>\n",
              "    </tr>\n",
              "    <tr>\n",
              "      <th id=\"T_4b698_level0_row22\" class=\"row_heading level0 row22\" >live_coef</th>\n",
              "      <td id=\"T_4b698_row22_col0\" class=\"data row22 col0\" >0.000000</td>\n",
              "    </tr>\n",
              "    <tr>\n",
              "      <th id=\"T_4b698_level0_row23\" class=\"row_heading level0 row23\" >kitchen_coef</th>\n",
              "      <td id=\"T_4b698_row23_col0\" class=\"data row23 col0\" >0.000000</td>\n",
              "    </tr>\n",
              "  </tbody>\n",
              "</table>\n"
            ],
            "text/plain": [
              "<pandas.io.formats.style.Styler at 0x7f85e7ffc490>"
            ]
          },
          "metadata": {},
          "execution_count": 10
        }
      ],
      "source": [
        "pd.DataFrame(round((df.isna().mean()*100),2)).style.background_gradient('coolwarm')"
      ]
    },
    {
      "cell_type": "code",
      "execution_count": 11,
      "metadata": {
        "id": "__Skwxi9Y2wI"
      },
      "outputs": [],
      "source": [
        "df['living_area'] = df['living_area'].fillna(df['total_area']*df['live_coef']) # filling gaps in living_area\n",
        "df['kitchen_area'] = df['kitchen_area'].fillna(df['total_area']*df['kitchen_coef']) # filling gaps in kithen_area"
      ]
    },
    {
      "cell_type": "code",
      "execution_count": 12,
      "metadata": {
        "colab": {
          "base_uri": "https://localhost:8080/",
          "height": 802
        },
        "id": "3H9NIYomY2wJ",
        "outputId": "953804bb-3ec3-4fd8-af95-0b1ed8882dd2"
      },
      "outputs": [
        {
          "output_type": "execute_result",
          "data": {
            "text/html": [
              "<style type=\"text/css\">\n",
              "#T_61525_row0_col0, #T_61525_row1_col0, #T_61525_row2_col0, #T_61525_row3_col0, #T_61525_row4_col0, #T_61525_row7_col0, #T_61525_row8_col0, #T_61525_row10_col0, #T_61525_row11_col0, #T_61525_row12_col0, #T_61525_row14_col0, #T_61525_row22_col0, #T_61525_row23_col0 {\n",
              "  background-color: #3b4cc0;\n",
              "  color: #f1f1f1;\n",
              "}\n",
              "#T_61525_row5_col0 {\n",
              "  background-color: #ccd9ed;\n",
              "  color: #000000;\n",
              "}\n",
              "#T_61525_row6_col0 {\n",
              "  background-color: #3c4ec2;\n",
              "  color: #f1f1f1;\n",
              "}\n",
              "#T_61525_row9_col0 {\n",
              "  background-color: #b40426;\n",
              "  color: #f1f1f1;\n",
              "}\n",
              "#T_61525_row13_col0 {\n",
              "  background-color: #e9d5cb;\n",
              "  color: #000000;\n",
              "}\n",
              "#T_61525_row15_col0, #T_61525_row16_col0, #T_61525_row17_col0, #T_61525_row19_col0 {\n",
              "  background-color: #92b4fe;\n",
              "  color: #000000;\n",
              "}\n",
              "#T_61525_row18_col0 {\n",
              "  background-color: #f49a7b;\n",
              "  color: #000000;\n",
              "}\n",
              "#T_61525_row20_col0 {\n",
              "  background-color: #f7ad90;\n",
              "  color: #000000;\n",
              "}\n",
              "#T_61525_row21_col0 {\n",
              "  background-color: #6a8bef;\n",
              "  color: #f1f1f1;\n",
              "}\n",
              "</style>\n",
              "<table id=\"T_61525_\" class=\"dataframe\">\n",
              "  <thead>\n",
              "    <tr>\n",
              "      <th class=\"blank level0\" >&nbsp;</th>\n",
              "      <th class=\"col_heading level0 col0\" >0</th>\n",
              "    </tr>\n",
              "  </thead>\n",
              "  <tbody>\n",
              "    <tr>\n",
              "      <th id=\"T_61525_level0_row0\" class=\"row_heading level0 row0\" >total_images</th>\n",
              "      <td id=\"T_61525_row0_col0\" class=\"data row0 col0\" >0.000000</td>\n",
              "    </tr>\n",
              "    <tr>\n",
              "      <th id=\"T_61525_level0_row1\" class=\"row_heading level0 row1\" >last_price</th>\n",
              "      <td id=\"T_61525_row1_col0\" class=\"data row1 col0\" >0.000000</td>\n",
              "    </tr>\n",
              "    <tr>\n",
              "      <th id=\"T_61525_level0_row2\" class=\"row_heading level0 row2\" >total_area</th>\n",
              "      <td id=\"T_61525_row2_col0\" class=\"data row2 col0\" >0.000000</td>\n",
              "    </tr>\n",
              "    <tr>\n",
              "      <th id=\"T_61525_level0_row3\" class=\"row_heading level0 row3\" >first_day_exposition</th>\n",
              "      <td id=\"T_61525_row3_col0\" class=\"data row3 col0\" >0.000000</td>\n",
              "    </tr>\n",
              "    <tr>\n",
              "      <th id=\"T_61525_level0_row4\" class=\"row_heading level0 row4\" >rooms</th>\n",
              "      <td id=\"T_61525_row4_col0\" class=\"data row4 col0\" >0.000000</td>\n",
              "    </tr>\n",
              "    <tr>\n",
              "      <th id=\"T_61525_level0_row5\" class=\"row_heading level0 row5\" >ceiling_height</th>\n",
              "      <td id=\"T_61525_row5_col0\" class=\"data row5 col0\" >38.800000</td>\n",
              "    </tr>\n",
              "    <tr>\n",
              "      <th id=\"T_61525_level0_row6\" class=\"row_heading level0 row6\" >floors_total</th>\n",
              "      <td id=\"T_61525_row6_col0\" class=\"data row6 col0\" >0.360000</td>\n",
              "    </tr>\n",
              "    <tr>\n",
              "      <th id=\"T_61525_level0_row7\" class=\"row_heading level0 row7\" >living_area</th>\n",
              "      <td id=\"T_61525_row7_col0\" class=\"data row7 col0\" >0.000000</td>\n",
              "    </tr>\n",
              "    <tr>\n",
              "      <th id=\"T_61525_level0_row8\" class=\"row_heading level0 row8\" >floor</th>\n",
              "      <td id=\"T_61525_row8_col0\" class=\"data row8 col0\" >0.000000</td>\n",
              "    </tr>\n",
              "    <tr>\n",
              "      <th id=\"T_61525_level0_row9\" class=\"row_heading level0 row9\" >is_apartment</th>\n",
              "      <td id=\"T_61525_row9_col0\" class=\"data row9 col0\" >88.290000</td>\n",
              "    </tr>\n",
              "    <tr>\n",
              "      <th id=\"T_61525_level0_row10\" class=\"row_heading level0 row10\" >studio</th>\n",
              "      <td id=\"T_61525_row10_col0\" class=\"data row10 col0\" >0.000000</td>\n",
              "    </tr>\n",
              "    <tr>\n",
              "      <th id=\"T_61525_level0_row11\" class=\"row_heading level0 row11\" >open_plan</th>\n",
              "      <td id=\"T_61525_row11_col0\" class=\"data row11 col0\" >0.000000</td>\n",
              "    </tr>\n",
              "    <tr>\n",
              "      <th id=\"T_61525_level0_row12\" class=\"row_heading level0 row12\" >kitchen_area</th>\n",
              "      <td id=\"T_61525_row12_col0\" class=\"data row12 col0\" >0.000000</td>\n",
              "    </tr>\n",
              "    <tr>\n",
              "      <th id=\"T_61525_level0_row13\" class=\"row_heading level0 row13\" >balcony</th>\n",
              "      <td id=\"T_61525_row13_col0\" class=\"data row13 col0\" >48.610000</td>\n",
              "    </tr>\n",
              "    <tr>\n",
              "      <th id=\"T_61525_level0_row14\" class=\"row_heading level0 row14\" >locality_name</th>\n",
              "      <td id=\"T_61525_row14_col0\" class=\"data row14 col0\" >0.210000</td>\n",
              "    </tr>\n",
              "    <tr>\n",
              "      <th id=\"T_61525_level0_row15\" class=\"row_heading level0 row15\" >airports_nearest</th>\n",
              "      <td id=\"T_61525_row15_col0\" class=\"data row15 col0\" >23.380000</td>\n",
              "    </tr>\n",
              "    <tr>\n",
              "      <th id=\"T_61525_level0_row16\" class=\"row_heading level0 row16\" >cityCenters_nearest</th>\n",
              "      <td id=\"T_61525_row16_col0\" class=\"data row16 col0\" >23.290000</td>\n",
              "    </tr>\n",
              "    <tr>\n",
              "      <th id=\"T_61525_level0_row17\" class=\"row_heading level0 row17\" >parks_around3000</th>\n",
              "      <td id=\"T_61525_row17_col0\" class=\"data row17 col0\" >23.280000</td>\n",
              "    </tr>\n",
              "    <tr>\n",
              "      <th id=\"T_61525_level0_row18\" class=\"row_heading level0 row18\" >parks_nearest</th>\n",
              "      <td id=\"T_61525_row18_col0\" class=\"data row18 col0\" >65.910000</td>\n",
              "    </tr>\n",
              "    <tr>\n",
              "      <th id=\"T_61525_level0_row19\" class=\"row_heading level0 row19\" >ponds_around3000</th>\n",
              "      <td id=\"T_61525_row19_col0\" class=\"data row19 col0\" >23.280000</td>\n",
              "    </tr>\n",
              "    <tr>\n",
              "      <th id=\"T_61525_level0_row20\" class=\"row_heading level0 row20\" >ponds_nearest</th>\n",
              "      <td id=\"T_61525_row20_col0\" class=\"data row20 col0\" >61.560000</td>\n",
              "    </tr>\n",
              "    <tr>\n",
              "      <th id=\"T_61525_level0_row21\" class=\"row_heading level0 row21\" >days_exposition</th>\n",
              "      <td id=\"T_61525_row21_col0\" class=\"data row21 col0\" >13.420000</td>\n",
              "    </tr>\n",
              "    <tr>\n",
              "      <th id=\"T_61525_level0_row22\" class=\"row_heading level0 row22\" >live_coef</th>\n",
              "      <td id=\"T_61525_row22_col0\" class=\"data row22 col0\" >0.000000</td>\n",
              "    </tr>\n",
              "    <tr>\n",
              "      <th id=\"T_61525_level0_row23\" class=\"row_heading level0 row23\" >kitchen_coef</th>\n",
              "      <td id=\"T_61525_row23_col0\" class=\"data row23 col0\" >0.000000</td>\n",
              "    </tr>\n",
              "  </tbody>\n",
              "</table>\n"
            ],
            "text/plain": [
              "<pandas.io.formats.style.Styler at 0x7f85e7c8ba90>"
            ]
          },
          "metadata": {},
          "execution_count": 12
        }
      ],
      "source": [
        "pd.DataFrame(round((df.isna().mean()*100),2)).style.background_gradient('coolwarm')"
      ]
    },
    {
      "cell_type": "code",
      "execution_count": 13,
      "metadata": {
        "id": "MB8b3PIqY2wJ"
      },
      "outputs": [],
      "source": [
        "df['is_apartment'] = df['is_apartment'].fillna(False) "
      ]
    },
    {
      "cell_type": "code",
      "execution_count": 14,
      "metadata": {
        "id": "9-AfFTKvY2wJ"
      },
      "outputs": [],
      "source": [
        "df.dropna(subset=['floors_total', 'locality_name'], inplace=True)"
      ]
    },
    {
      "cell_type": "code",
      "execution_count": 15,
      "metadata": {
        "colab": {
          "base_uri": "https://localhost:8080/",
          "height": 802
        },
        "id": "efT4gDpYY2wK",
        "outputId": "08a49c41-720b-41ce-94c6-2c4f931e2138"
      },
      "outputs": [
        {
          "output_type": "execute_result",
          "data": {
            "text/html": [
              "<style type=\"text/css\">\n",
              "#T_fe359_row0_col0, #T_fe359_row1_col0, #T_fe359_row2_col0, #T_fe359_row3_col0, #T_fe359_row4_col0, #T_fe359_row6_col0, #T_fe359_row7_col0, #T_fe359_row8_col0, #T_fe359_row9_col0, #T_fe359_row10_col0, #T_fe359_row11_col0, #T_fe359_row12_col0, #T_fe359_row14_col0, #T_fe359_row22_col0, #T_fe359_row23_col0 {\n",
              "  background-color: #3b4cc0;\n",
              "  color: #f1f1f1;\n",
              "}\n",
              "#T_fe359_row5_col0 {\n",
              "  background-color: #efcebd;\n",
              "  color: #000000;\n",
              "}\n",
              "#T_fe359_row13_col0 {\n",
              "  background-color: #f59d7e;\n",
              "  color: #000000;\n",
              "}\n",
              "#T_fe359_row15_col0 {\n",
              "  background-color: #b2ccfb;\n",
              "  color: #000000;\n",
              "}\n",
              "#T_fe359_row16_col0, #T_fe359_row17_col0, #T_fe359_row19_col0 {\n",
              "  background-color: #b1cbfc;\n",
              "  color: #000000;\n",
              "}\n",
              "#T_fe359_row18_col0 {\n",
              "  background-color: #b40426;\n",
              "  color: #f1f1f1;\n",
              "}\n",
              "#T_fe359_row20_col0 {\n",
              "  background-color: #cb3e38;\n",
              "  color: #f1f1f1;\n",
              "}\n",
              "#T_fe359_row21_col0 {\n",
              "  background-color: #7da0f9;\n",
              "  color: #f1f1f1;\n",
              "}\n",
              "</style>\n",
              "<table id=\"T_fe359_\" class=\"dataframe\">\n",
              "  <thead>\n",
              "    <tr>\n",
              "      <th class=\"blank level0\" >&nbsp;</th>\n",
              "      <th class=\"col_heading level0 col0\" >0</th>\n",
              "    </tr>\n",
              "  </thead>\n",
              "  <tbody>\n",
              "    <tr>\n",
              "      <th id=\"T_fe359_level0_row0\" class=\"row_heading level0 row0\" >total_images</th>\n",
              "      <td id=\"T_fe359_row0_col0\" class=\"data row0 col0\" >0.000000</td>\n",
              "    </tr>\n",
              "    <tr>\n",
              "      <th id=\"T_fe359_level0_row1\" class=\"row_heading level0 row1\" >last_price</th>\n",
              "      <td id=\"T_fe359_row1_col0\" class=\"data row1 col0\" >0.000000</td>\n",
              "    </tr>\n",
              "    <tr>\n",
              "      <th id=\"T_fe359_level0_row2\" class=\"row_heading level0 row2\" >total_area</th>\n",
              "      <td id=\"T_fe359_row2_col0\" class=\"data row2 col0\" >0.000000</td>\n",
              "    </tr>\n",
              "    <tr>\n",
              "      <th id=\"T_fe359_level0_row3\" class=\"row_heading level0 row3\" >first_day_exposition</th>\n",
              "      <td id=\"T_fe359_row3_col0\" class=\"data row3 col0\" >0.000000</td>\n",
              "    </tr>\n",
              "    <tr>\n",
              "      <th id=\"T_fe359_level0_row4\" class=\"row_heading level0 row4\" >rooms</th>\n",
              "      <td id=\"T_fe359_row4_col0\" class=\"data row4 col0\" >0.000000</td>\n",
              "    </tr>\n",
              "    <tr>\n",
              "      <th id=\"T_fe359_level0_row5\" class=\"row_heading level0 row5\" >ceiling_height</th>\n",
              "      <td id=\"T_fe359_row5_col0\" class=\"data row5 col0\" >38.550000</td>\n",
              "    </tr>\n",
              "    <tr>\n",
              "      <th id=\"T_fe359_level0_row6\" class=\"row_heading level0 row6\" >floors_total</th>\n",
              "      <td id=\"T_fe359_row6_col0\" class=\"data row6 col0\" >0.000000</td>\n",
              "    </tr>\n",
              "    <tr>\n",
              "      <th id=\"T_fe359_level0_row7\" class=\"row_heading level0 row7\" >living_area</th>\n",
              "      <td id=\"T_fe359_row7_col0\" class=\"data row7 col0\" >0.000000</td>\n",
              "    </tr>\n",
              "    <tr>\n",
              "      <th id=\"T_fe359_level0_row8\" class=\"row_heading level0 row8\" >floor</th>\n",
              "      <td id=\"T_fe359_row8_col0\" class=\"data row8 col0\" >0.000000</td>\n",
              "    </tr>\n",
              "    <tr>\n",
              "      <th id=\"T_fe359_level0_row9\" class=\"row_heading level0 row9\" >is_apartment</th>\n",
              "      <td id=\"T_fe359_row9_col0\" class=\"data row9 col0\" >0.000000</td>\n",
              "    </tr>\n",
              "    <tr>\n",
              "      <th id=\"T_fe359_level0_row10\" class=\"row_heading level0 row10\" >studio</th>\n",
              "      <td id=\"T_fe359_row10_col0\" class=\"data row10 col0\" >0.000000</td>\n",
              "    </tr>\n",
              "    <tr>\n",
              "      <th id=\"T_fe359_level0_row11\" class=\"row_heading level0 row11\" >open_plan</th>\n",
              "      <td id=\"T_fe359_row11_col0\" class=\"data row11 col0\" >0.000000</td>\n",
              "    </tr>\n",
              "    <tr>\n",
              "      <th id=\"T_fe359_level0_row12\" class=\"row_heading level0 row12\" >kitchen_area</th>\n",
              "      <td id=\"T_fe359_row12_col0\" class=\"data row12 col0\" >0.000000</td>\n",
              "    </tr>\n",
              "    <tr>\n",
              "      <th id=\"T_fe359_level0_row13\" class=\"row_heading level0 row13\" >balcony</th>\n",
              "      <td id=\"T_fe359_row13_col0\" class=\"data row13 col0\" >48.700000</td>\n",
              "    </tr>\n",
              "    <tr>\n",
              "      <th id=\"T_fe359_level0_row14\" class=\"row_heading level0 row14\" >locality_name</th>\n",
              "      <td id=\"T_fe359_row14_col0\" class=\"data row14 col0\" >0.000000</td>\n",
              "    </tr>\n",
              "    <tr>\n",
              "      <th id=\"T_fe359_level0_row15\" class=\"row_heading level0 row15\" >airports_nearest</th>\n",
              "      <td id=\"T_fe359_row15_col0\" class=\"data row15 col0\" >23.440000</td>\n",
              "    </tr>\n",
              "    <tr>\n",
              "      <th id=\"T_fe359_level0_row16\" class=\"row_heading level0 row16\" >cityCenters_nearest</th>\n",
              "      <td id=\"T_fe359_row16_col0\" class=\"data row16 col0\" >23.340000</td>\n",
              "    </tr>\n",
              "    <tr>\n",
              "      <th id=\"T_fe359_level0_row17\" class=\"row_heading level0 row17\" >parks_around3000</th>\n",
              "      <td id=\"T_fe359_row17_col0\" class=\"data row17 col0\" >23.340000</td>\n",
              "    </tr>\n",
              "    <tr>\n",
              "      <th id=\"T_fe359_level0_row18\" class=\"row_heading level0 row18\" >parks_nearest</th>\n",
              "      <td id=\"T_fe359_row18_col0\" class=\"data row18 col0\" >65.920000</td>\n",
              "    </tr>\n",
              "    <tr>\n",
              "      <th id=\"T_fe359_level0_row19\" class=\"row_heading level0 row19\" >ponds_around3000</th>\n",
              "      <td id=\"T_fe359_row19_col0\" class=\"data row19 col0\" >23.340000</td>\n",
              "    </tr>\n",
              "    <tr>\n",
              "      <th id=\"T_fe359_level0_row20\" class=\"row_heading level0 row20\" >ponds_nearest</th>\n",
              "      <td id=\"T_fe359_row20_col0\" class=\"data row20 col0\" >61.650000</td>\n",
              "    </tr>\n",
              "    <tr>\n",
              "      <th id=\"T_fe359_level0_row21\" class=\"row_heading level0 row21\" >days_exposition</th>\n",
              "      <td id=\"T_fe359_row21_col0\" class=\"data row21 col0\" >13.460000</td>\n",
              "    </tr>\n",
              "    <tr>\n",
              "      <th id=\"T_fe359_level0_row22\" class=\"row_heading level0 row22\" >live_coef</th>\n",
              "      <td id=\"T_fe359_row22_col0\" class=\"data row22 col0\" >0.000000</td>\n",
              "    </tr>\n",
              "    <tr>\n",
              "      <th id=\"T_fe359_level0_row23\" class=\"row_heading level0 row23\" >kitchen_coef</th>\n",
              "      <td id=\"T_fe359_row23_col0\" class=\"data row23 col0\" >0.000000</td>\n",
              "    </tr>\n",
              "  </tbody>\n",
              "</table>\n"
            ],
            "text/plain": [
              "<pandas.io.formats.style.Styler at 0x7f85e7ca1990>"
            ]
          },
          "metadata": {},
          "execution_count": 15
        }
      ],
      "source": [
        "pd.DataFrame(round((df.isna().mean()*100),2)).style.background_gradient('coolwarm')"
      ]
    },
    {
      "cell_type": "code",
      "execution_count": 16,
      "metadata": {
        "colab": {
          "base_uri": "https://localhost:8080/"
        },
        "id": "PkB9iXv3Y2wK",
        "outputId": "e39168bf-4905-4513-8243-daed87dbf60f"
      },
      "outputs": [
        {
          "output_type": "execute_result",
          "data": {
            "text/plain": [
              "array(['Санкт-Петербург', 'посёлок Шушары', 'городской посёлок Янино-1',\n",
              "       'посёлок Парголово', 'посёлок Мурино', 'Ломоносов', 'Сертолово',\n",
              "       'Петергоф', 'Пушкин', 'деревня Кудрово', 'Коммунар', 'Колпино',\n",
              "       'поселок городского типа Красный Бор', 'Гатчина', 'поселок Мурино',\n",
              "       'деревня Фёдоровское', 'Выборг', 'Кронштадт', 'Кировск',\n",
              "       'деревня Новое Девяткино', 'посёлок Металлострой',\n",
              "       'посёлок городского типа Лебяжье',\n",
              "       'посёлок городского типа Сиверский', 'поселок Молодцово',\n",
              "       'поселок городского типа Кузьмоловский',\n",
              "       'садовое товарищество Новая Ропша', 'Павловск',\n",
              "       'деревня Пикколово', 'Всеволожск', 'Волхов', 'Кингисепп',\n",
              "       'Приозерск', 'Сестрорецк', 'деревня Куттузи', 'посёлок Аннино',\n",
              "       'поселок городского типа Ефимовский', 'посёлок Плодовое',\n",
              "       'деревня Заклинье', 'поселок Торковичи', 'поселок Первомайское',\n",
              "       'Красное Село', 'посёлок Понтонный', 'Сясьстрой', 'деревня Старая',\n",
              "       'деревня Лесколово', 'посёлок Новый Свет', 'Сланцы',\n",
              "       'село Путилово', 'Ивангород', 'Мурино', 'Шлиссельбург',\n",
              "       'Никольское', 'Зеленогорск', 'Сосновый Бор', 'поселок Новый Свет',\n",
              "       'деревня Оржицы', 'деревня Кальтино', 'Кудрово',\n",
              "       'поселок Романовка', 'посёлок Бугры', 'поселок Бугры',\n",
              "       'поселок городского типа Рощино', 'Кириши', 'Луга', 'Волосово',\n",
              "       'Отрадное', 'село Павлово', 'поселок Оредеж', 'село Копорье',\n",
              "       'посёлок городского типа Красный Бор', 'посёлок Молодёжное',\n",
              "       'Тихвин', 'посёлок Победа', 'деревня Нурма',\n",
              "       'поселок городского типа Синявино', 'Тосно',\n",
              "       'посёлок городского типа Кузьмоловский', 'посёлок Стрельна',\n",
              "       'Бокситогорск', 'посёлок Александровская', 'деревня Лопухинка',\n",
              "       'Пикалёво', 'поселок Терволово',\n",
              "       'поселок городского типа Советский', 'Подпорожье',\n",
              "       'посёлок Петровское', 'посёлок городского типа Токсово',\n",
              "       'поселок Сельцо', 'посёлок городского типа Вырица',\n",
              "       'деревня Кипень', 'деревня Келози', 'деревня Вартемяги',\n",
              "       'посёлок Тельмана', 'поселок Севастьяново',\n",
              "       'городской поселок Большая Ижора', 'городской посёлок Павлово',\n",
              "       'деревня Агалатово', 'посёлок Новогорелово',\n",
              "       'городской посёлок Лесогорский', 'деревня Лаголово',\n",
              "       'поселок Цвелодубово', 'поселок городского типа Рахья',\n",
              "       'поселок городского типа Вырица', 'деревня Белогорка',\n",
              "       'поселок Заводской', 'городской посёлок Новоселье',\n",
              "       'деревня Большие Колпаны', 'деревня Горбунки', 'деревня Батово',\n",
              "       'деревня Заневка', 'деревня Иссад', 'Приморск',\n",
              "       'городской посёлок Фёдоровское', 'деревня Мистолово',\n",
              "       'Новая Ладога', 'поселок Зимитицы', 'поселок Барышево',\n",
              "       'деревня Разметелево', 'поселок городского типа имени Свердлова',\n",
              "       'деревня Пеники', 'поселок Рябово', 'деревня Пудомяги',\n",
              "       'поселок станции Корнево', 'деревня Низино', 'деревня Бегуницы',\n",
              "       'посёлок Поляны', 'городской посёлок Мга', 'поселок Елизаветино',\n",
              "       'посёлок городского типа Кузнечное', 'деревня Колтуши',\n",
              "       'поселок Запорожское', 'посёлок городского типа Рощино',\n",
              "       'деревня Гостилицы', 'деревня Малое Карлино',\n",
              "       'посёлок Мичуринское', 'посёлок городского типа имени Морозова',\n",
              "       'посёлок Песочный', 'посёлок Сосново', 'деревня Аро',\n",
              "       'поселок Ильичёво', 'посёлок городского типа Тайцы',\n",
              "       'деревня Малое Верево', 'деревня Извара', 'поселок станции Вещево',\n",
              "       'село Паша', 'деревня Калитино',\n",
              "       'посёлок городского типа Ульяновка', 'деревня Чудской Бор',\n",
              "       'поселок городского типа Дубровка', 'деревня Мины',\n",
              "       'поселок Войсковицы', 'посёлок городского типа имени Свердлова',\n",
              "       'деревня Коркино', 'посёлок Ропша',\n",
              "       'поселок городского типа Приладожский', 'посёлок Щеглово',\n",
              "       'посёлок Гаврилово', 'Лодейное Поле', 'деревня Рабитицы',\n",
              "       'поселок городского типа Никольский', 'деревня Кузьмолово',\n",
              "       'деревня Малые Колпаны', 'поселок Тельмана',\n",
              "       'посёлок Петро-Славянка', 'городской посёлок Назия',\n",
              "       'посёлок Репино', 'посёлок Ильичёво', 'поселок Углово',\n",
              "       'поселок Старая Малукса', 'садовое товарищество Рахья',\n",
              "       'поселок Аннино', 'поселок Победа', 'деревня Меньково',\n",
              "       'деревня Старые Бегуницы', 'посёлок Сапёрный', 'поселок Семрино',\n",
              "       'поселок Гаврилово', 'поселок Глажево', 'поселок Кобринское',\n",
              "       'деревня Гарболово', 'деревня Юкки',\n",
              "       'поселок станции Приветнинское', 'деревня Мануйлово',\n",
              "       'деревня Пчева', 'поселок Поляны', 'поселок Цвылёво',\n",
              "       'поселок Мельниково', 'посёлок Пудость', 'посёлок Усть-Луга',\n",
              "       'Светогорск', 'Любань', 'поселок Селезнёво',\n",
              "       'поселок городского типа Рябово', 'Каменногорск', 'деревня Кривко',\n",
              "       'поселок Глебычево', 'деревня Парицы', 'поселок Жилпосёлок',\n",
              "       'посёлок городского типа Мга', 'городской поселок Янино-1',\n",
              "       'посёлок Войскорово', 'село Никольское', 'посёлок Терволово',\n",
              "       'поселок Стеклянный', 'посёлок городского типа Важины',\n",
              "       'посёлок Мыза-Ивановка', 'село Русско-Высоцкое',\n",
              "       'поселок городского типа Лебяжье',\n",
              "       'поселок городского типа Форносово', 'село Старая Ладога',\n",
              "       'поселок Житково', 'городской посёлок Виллози', 'деревня Лампово',\n",
              "       'деревня Шпаньково', 'деревня Лаврики', 'посёлок Сумино',\n",
              "       'посёлок Возрождение', 'деревня Старосиверская',\n",
              "       'посёлок Кикерино', 'поселок Возрождение',\n",
              "       'деревня Старое Хинколово', 'посёлок Пригородный',\n",
              "       'посёлок Торфяное', 'городской посёлок Будогощь',\n",
              "       'поселок Суходолье', 'поселок Красная Долина', 'деревня Хапо-Ое',\n",
              "       'поселок городского типа Дружная Горка', 'поселок Лисий Нос',\n",
              "       'деревня Яльгелево', 'посёлок Стеклянный', 'село Рождествено',\n",
              "       'деревня Старополье', 'посёлок Левашово', 'деревня Сяськелево',\n",
              "       'деревня Камышовка',\n",
              "       'садоводческое некоммерческое товарищество Лесная Поляна',\n",
              "       'деревня Хязельки', 'поселок Жилгородок',\n",
              "       'посёлок городского типа Павлово', 'деревня Ялгино',\n",
              "       'поселок Новый Учхоз', 'городской посёлок Рощино',\n",
              "       'поселок Гончарово', 'поселок Почап', 'посёлок Сапёрное',\n",
              "       'посёлок Платформа 69-й километр', 'поселок Каложицы',\n",
              "       'деревня Фалилеево', 'деревня Пельгора',\n",
              "       'поселок городского типа Лесогорский', 'деревня Торошковичи',\n",
              "       'посёлок Белоостров', 'посёлок Алексеевка', 'поселок Серебрянский',\n",
              "       'поселок Лукаши', 'поселок Петровское', 'деревня Щеглово',\n",
              "       'поселок Мичуринское', 'деревня Тарасово', 'поселок Кингисеппский',\n",
              "       'посёлок при железнодорожной станции Вещево', 'поселок Ушаки',\n",
              "       'деревня Котлы', 'деревня Сижно', 'деревня Торосово',\n",
              "       'посёлок Форт Красная Горка', 'деревня Новолисино',\n",
              "       'посёлок станции Громово', 'деревня Глинка', 'посёлок Мельниково',\n",
              "       'поселок городского типа Назия', 'деревня Старая Пустошь',\n",
              "       'поселок Коммунары', 'поселок Починок',\n",
              "       'посёлок городского типа Вознесенье', 'деревня Разбегаево',\n",
              "       'посёлок городского типа Рябово', 'поселок Гладкое',\n",
              "       'посёлок при железнодорожной станции Приветнинское',\n",
              "       'поселок Тёсово-4', 'посёлок Жилгородок', 'деревня Бор',\n",
              "       'посёлок Коробицыно', 'деревня Большая Вруда', 'деревня Курковицы',\n",
              "       'посёлок Лисий Нос', 'городской посёлок Советский',\n",
              "       'посёлок Кобралово', 'деревня Суоранда', 'поселок Кобралово',\n",
              "       'поселок городского типа Кондратьево',\n",
              "       'коттеджный поселок Счастье', 'поселок Любань', 'деревня Реброво',\n",
              "       'деревня Зимитицы', 'деревня Тойворово', 'поселок Семиозерье',\n",
              "       'поселок Лесное', 'поселок Совхозный', 'поселок Усть-Луга',\n",
              "       'посёлок Ленинское', 'посёлок Суйда',\n",
              "       'посёлок городского типа Форносово', 'деревня Нижние Осельки',\n",
              "       'посёлок станции Свирь', 'поселок Перово', 'Высоцк',\n",
              "       'поселок Гарболово', 'село Шум', 'поселок Котельский',\n",
              "       'поселок станции Лужайка', 'деревня Большая Пустомержа',\n",
              "       'поселок Красносельское', 'деревня Вахнова Кара', 'деревня Пижма',\n",
              "       'коттеджный поселок Кивеннапа Север', 'поселок Коробицыно',\n",
              "       'поселок Ромашки', 'посёлок Перово', 'деревня Каськово',\n",
              "       'деревня Куровицы', 'посёлок Плоское', 'поселок Сумино',\n",
              "       'поселок городского типа Большая Ижора', 'поселок Кирпичное',\n",
              "       'деревня Ям-Тесово', 'деревня Раздолье', 'деревня Терпилицы',\n",
              "       'поселок городского типа Токсово', 'посёлок Шугозеро',\n",
              "       'деревня Ваганово', 'поселок Пушное', 'садовое товарищество Садко',\n",
              "       'посёлок Усть-Ижора', 'деревня Выскатка',\n",
              "       'городской посёлок Свирьстрой', 'поселок Громово',\n",
              "       'деревня Кисельня', 'посёлок Старая Малукса',\n",
              "       'деревня Трубников Бор', 'поселок Калитино',\n",
              "       'посёлок Высокоключевой', 'садовое товарищество Приладожский',\n",
              "       'посёлок Пансионат Зелёный Бор', 'деревня Ненимяки',\n",
              "       'поселок Пансионат Зелёный Бор', 'деревня Снегирёвка',\n",
              "       'деревня Рапполово', 'деревня Пустынка', 'поселок Рабитицы',\n",
              "       'деревня Большой Сабск', 'деревня Русско', 'деревня Лупполово',\n",
              "       'деревня Большое Рейзино', 'деревня Малая Романовка',\n",
              "       'поселок Дружноселье', 'поселок Пчевжа', 'поселок Володарское',\n",
              "       'деревня Нижняя', 'коттеджный посёлок Лесное', 'деревня Тихковицы',\n",
              "       'деревня Борисова Грива', 'посёлок Дзержинского'], dtype=object)"
            ]
          },
          "metadata": {},
          "execution_count": 16
        }
      ],
      "source": [
        "df['locality_name'].unique()"
      ]
    },
    {
      "cell_type": "code",
      "execution_count": 17,
      "metadata": {
        "id": "WKl3rf7YY2wK"
      },
      "outputs": [],
      "source": [
        "def no_upper(string):                   \n",
        "  for i in range(len(string)):\n",
        "    if string[i].isupper():\n",
        "        return string[i: len(string)]\n",
        "# thankfully this function, we dropped the first part of the name of city, etc "
      ]
    },
    {
      "cell_type": "code",
      "execution_count": 18,
      "metadata": {
        "id": "xOgr5j4WY2wL"
      },
      "outputs": [],
      "source": [
        "df['locality_name'] = df['locality_name'].apply(no_upper) # changing name of cities"
      ]
    },
    {
      "cell_type": "code",
      "execution_count": 19,
      "metadata": {
        "colab": {
          "base_uri": "https://localhost:8080/"
        },
        "id": "QQJV5AAcY2wL",
        "outputId": "e4c7b445-907d-4ba5-d6af-b15e8841bc39"
      },
      "outputs": [
        {
          "output_type": "execute_result",
          "data": {
            "text/plain": [
              "array(['Санкт-Петербург', 'Шушары', 'Янино-1', 'Парголово', 'Мурино',\n",
              "       'Ломоносов', 'Сертолово', 'Петергоф', 'Пушкин', 'Кудрово',\n",
              "       'Коммунар', 'Колпино', 'Красный Бор', 'Гатчина', 'Фёдоровское',\n",
              "       'Выборг', 'Кронштадт', 'Кировск', 'Новое Девяткино',\n",
              "       'Металлострой', 'Лебяжье', 'Сиверский', 'Молодцово',\n",
              "       'Кузьмоловский', 'Новая Ропша', 'Павловск', 'Пикколово',\n",
              "       'Всеволожск', 'Волхов', 'Кингисепп', 'Приозерск', 'Сестрорецк',\n",
              "       'Куттузи', 'Аннино', 'Ефимовский', 'Плодовое', 'Заклинье',\n",
              "       'Торковичи', 'Первомайское', 'Красное Село', 'Понтонный',\n",
              "       'Сясьстрой', 'Старая', 'Лесколово', 'Новый Свет', 'Сланцы',\n",
              "       'Путилово', 'Ивангород', 'Шлиссельбург', 'Никольское',\n",
              "       'Зеленогорск', 'Сосновый Бор', 'Оржицы', 'Кальтино', 'Романовка',\n",
              "       'Бугры', 'Рощино', 'Кириши', 'Луга', 'Волосово', 'Отрадное',\n",
              "       'Павлово', 'Оредеж', 'Копорье', 'Молодёжное', 'Тихвин', 'Победа',\n",
              "       'Нурма', 'Синявино', 'Тосно', 'Стрельна', 'Бокситогорск',\n",
              "       'Александровская', 'Лопухинка', 'Пикалёво', 'Терволово',\n",
              "       'Советский', 'Подпорожье', 'Петровское', 'Токсово', 'Сельцо',\n",
              "       'Вырица', 'Кипень', 'Келози', 'Вартемяги', 'Тельмана',\n",
              "       'Севастьяново', 'Большая Ижора', 'Агалатово', 'Новогорелово',\n",
              "       'Лесогорский', 'Лаголово', 'Цвелодубово', 'Рахья', 'Белогорка',\n",
              "       'Заводской', 'Новоселье', 'Большие Колпаны', 'Горбунки', 'Батово',\n",
              "       'Заневка', 'Иссад', 'Приморск', 'Мистолово', 'Новая Ладога',\n",
              "       'Зимитицы', 'Барышево', 'Разметелево', 'Свердлова', 'Пеники',\n",
              "       'Рябово', 'Пудомяги', 'Корнево', 'Низино', 'Бегуницы', 'Поляны',\n",
              "       'Мга', 'Елизаветино', 'Кузнечное', 'Колтуши', 'Запорожское',\n",
              "       'Гостилицы', 'Малое Карлино', 'Мичуринское', 'Морозова',\n",
              "       'Песочный', 'Сосново', 'Аро', 'Ильичёво', 'Тайцы', 'Малое Верево',\n",
              "       'Извара', 'Вещево', 'Паша', 'Калитино', 'Ульяновка', 'Чудской Бор',\n",
              "       'Дубровка', 'Мины', 'Войсковицы', 'Коркино', 'Ропша',\n",
              "       'Приладожский', 'Щеглово', 'Гаврилово', 'Лодейное Поле',\n",
              "       'Рабитицы', 'Никольский', 'Кузьмолово', 'Малые Колпаны',\n",
              "       'Петро-Славянка', 'Назия', 'Репино', 'Углово', 'Старая Малукса',\n",
              "       'Меньково', 'Старые Бегуницы', 'Сапёрный', 'Семрино', 'Глажево',\n",
              "       'Кобринское', 'Гарболово', 'Юкки', 'Приветнинское', 'Мануйлово',\n",
              "       'Пчева', 'Цвылёво', 'Мельниково', 'Пудость', 'Усть-Луга',\n",
              "       'Светогорск', 'Любань', 'Селезнёво', 'Каменногорск', 'Кривко',\n",
              "       'Глебычево', 'Парицы', 'Жилпосёлок', 'Войскорово', 'Стеклянный',\n",
              "       'Важины', 'Мыза-Ивановка', 'Русско-Высоцкое', 'Форносово',\n",
              "       'Старая Ладога', 'Житково', 'Виллози', 'Лампово', 'Шпаньково',\n",
              "       'Лаврики', 'Сумино', 'Возрождение', 'Старосиверская', 'Кикерино',\n",
              "       'Старое Хинколово', 'Пригородный', 'Торфяное', 'Будогощь',\n",
              "       'Суходолье', 'Красная Долина', 'Хапо-Ое', 'Дружная Горка',\n",
              "       'Лисий Нос', 'Яльгелево', 'Рождествено', 'Старополье', 'Левашово',\n",
              "       'Сяськелево', 'Камышовка', 'Лесная Поляна', 'Хязельки',\n",
              "       'Жилгородок', 'Ялгино', 'Новый Учхоз', 'Гончарово', 'Почап',\n",
              "       'Сапёрное', 'Платформа 69-й километр', 'Каложицы', 'Фалилеево',\n",
              "       'Пельгора', 'Торошковичи', 'Белоостров', 'Алексеевка',\n",
              "       'Серебрянский', 'Лукаши', 'Тарасово', 'Кингисеппский', 'Ушаки',\n",
              "       'Котлы', 'Сижно', 'Торосово', 'Форт Красная Горка', 'Новолисино',\n",
              "       'Громово', 'Глинка', 'Старая Пустошь', 'Коммунары', 'Починок',\n",
              "       'Вознесенье', 'Разбегаево', 'Гладкое', 'Тёсово-4', 'Бор',\n",
              "       'Коробицыно', 'Большая Вруда', 'Курковицы', 'Кобралово',\n",
              "       'Суоранда', 'Кондратьево', 'Счастье', 'Реброво', 'Тойворово',\n",
              "       'Семиозерье', 'Лесное', 'Совхозный', 'Ленинское', 'Суйда',\n",
              "       'Нижние Осельки', 'Свирь', 'Перово', 'Высоцк', 'Шум', 'Котельский',\n",
              "       'Лужайка', 'Большая Пустомержа', 'Красносельское', 'Вахнова Кара',\n",
              "       'Пижма', 'Кивеннапа Север', 'Ромашки', 'Каськово', 'Куровицы',\n",
              "       'Плоское', 'Кирпичное', 'Ям-Тесово', 'Раздолье', 'Терпилицы',\n",
              "       'Шугозеро', 'Ваганово', 'Пушное', 'Садко', 'Усть-Ижора',\n",
              "       'Выскатка', 'Свирьстрой', 'Кисельня', 'Трубников Бор',\n",
              "       'Высокоключевой', 'Пансионат Зелёный Бор', 'Ненимяки',\n",
              "       'Снегирёвка', 'Рапполово', 'Пустынка', 'Большой Сабск', 'Русско',\n",
              "       'Лупполово', 'Большое Рейзино', 'Малая Романовка', 'Дружноселье',\n",
              "       'Пчевжа', 'Володарское', 'Нижняя', 'Тихковицы', 'Борисова Грива',\n",
              "       'Дзержинского'], dtype=object)"
            ]
          },
          "metadata": {},
          "execution_count": 19
        }
      ],
      "source": [
        "df['locality_name'].unique() # check out the column"
      ]
    },
    {
      "cell_type": "code",
      "execution_count": 20,
      "metadata": {
        "colab": {
          "base_uri": "https://localhost:8080/",
          "height": 242
        },
        "id": "AVFMIsphY2wL",
        "outputId": "7b082e48-0fb5-463e-9a24-6f94ab1fb665"
      },
      "outputs": [
        {
          "output_type": "execute_result",
          "data": {
            "text/html": [
              "\n",
              "  <div id=\"df-faac4b6a-91c0-4d3a-a5c9-71a30eb9f62f\">\n",
              "    <div class=\"colab-df-container\">\n",
              "      <div>\n",
              "<style scoped>\n",
              "    .dataframe tbody tr th:only-of-type {\n",
              "        vertical-align: middle;\n",
              "    }\n",
              "\n",
              "    .dataframe tbody tr th {\n",
              "        vertical-align: top;\n",
              "    }\n",
              "\n",
              "    .dataframe thead th {\n",
              "        text-align: right;\n",
              "    }\n",
              "</style>\n",
              "<table border=\"1\" class=\"dataframe\">\n",
              "  <thead>\n",
              "    <tr style=\"text-align: right;\">\n",
              "      <th></th>\n",
              "      <th>total_images</th>\n",
              "      <th>last_price</th>\n",
              "      <th>total_area</th>\n",
              "      <th>first_day_exposition</th>\n",
              "      <th>rooms</th>\n",
              "      <th>ceiling_height</th>\n",
              "      <th>floors_total</th>\n",
              "      <th>living_area</th>\n",
              "      <th>floor</th>\n",
              "      <th>is_apartment</th>\n",
              "      <th>studio</th>\n",
              "      <th>open_plan</th>\n",
              "      <th>kitchen_area</th>\n",
              "      <th>balcony</th>\n",
              "      <th>locality_name</th>\n",
              "      <th>airports_nearest</th>\n",
              "      <th>cityCenters_nearest</th>\n",
              "      <th>parks_around3000</th>\n",
              "      <th>parks_nearest</th>\n",
              "      <th>ponds_around3000</th>\n",
              "      <th>ponds_nearest</th>\n",
              "      <th>days_exposition</th>\n",
              "      <th>live_coef</th>\n",
              "      <th>kitchen_coef</th>\n",
              "    </tr>\n",
              "  </thead>\n",
              "  <tbody>\n",
              "    <tr>\n",
              "      <th>0</th>\n",
              "      <td>20</td>\n",
              "      <td>13000000.0</td>\n",
              "      <td>108.0</td>\n",
              "      <td>2019-03-07T00:00:00</td>\n",
              "      <td>3</td>\n",
              "      <td>2.7</td>\n",
              "      <td>16.0</td>\n",
              "      <td>51.0</td>\n",
              "      <td>8</td>\n",
              "      <td>False</td>\n",
              "      <td>False</td>\n",
              "      <td>False</td>\n",
              "      <td>25.0</td>\n",
              "      <td>NaN</td>\n",
              "      <td>Санкт-Петербург</td>\n",
              "      <td>18863.0</td>\n",
              "      <td>16028.0</td>\n",
              "      <td>1.0</td>\n",
              "      <td>482.0</td>\n",
              "      <td>2.0</td>\n",
              "      <td>755.0</td>\n",
              "      <td>NaN</td>\n",
              "      <td>0.472222</td>\n",
              "      <td>0.231481</td>\n",
              "    </tr>\n",
              "    <tr>\n",
              "      <th>1</th>\n",
              "      <td>7</td>\n",
              "      <td>3350000.0</td>\n",
              "      <td>40.4</td>\n",
              "      <td>2018-12-04T00:00:00</td>\n",
              "      <td>1</td>\n",
              "      <td>NaN</td>\n",
              "      <td>11.0</td>\n",
              "      <td>18.6</td>\n",
              "      <td>1</td>\n",
              "      <td>False</td>\n",
              "      <td>False</td>\n",
              "      <td>False</td>\n",
              "      <td>11.0</td>\n",
              "      <td>2.0</td>\n",
              "      <td>Шушары</td>\n",
              "      <td>12817.0</td>\n",
              "      <td>18603.0</td>\n",
              "      <td>0.0</td>\n",
              "      <td>NaN</td>\n",
              "      <td>0.0</td>\n",
              "      <td>NaN</td>\n",
              "      <td>81.0</td>\n",
              "      <td>0.460396</td>\n",
              "      <td>0.272277</td>\n",
              "    </tr>\n",
              "    <tr>\n",
              "      <th>2</th>\n",
              "      <td>10</td>\n",
              "      <td>5196000.0</td>\n",
              "      <td>56.0</td>\n",
              "      <td>2015-08-20T00:00:00</td>\n",
              "      <td>2</td>\n",
              "      <td>NaN</td>\n",
              "      <td>5.0</td>\n",
              "      <td>34.3</td>\n",
              "      <td>4</td>\n",
              "      <td>False</td>\n",
              "      <td>False</td>\n",
              "      <td>False</td>\n",
              "      <td>8.3</td>\n",
              "      <td>0.0</td>\n",
              "      <td>Санкт-Петербург</td>\n",
              "      <td>21741.0</td>\n",
              "      <td>13933.0</td>\n",
              "      <td>1.0</td>\n",
              "      <td>90.0</td>\n",
              "      <td>2.0</td>\n",
              "      <td>574.0</td>\n",
              "      <td>558.0</td>\n",
              "      <td>0.612500</td>\n",
              "      <td>0.148214</td>\n",
              "    </tr>\n",
              "  </tbody>\n",
              "</table>\n",
              "</div>\n",
              "      <button class=\"colab-df-convert\" onclick=\"convertToInteractive('df-faac4b6a-91c0-4d3a-a5c9-71a30eb9f62f')\"\n",
              "              title=\"Convert this dataframe to an interactive table.\"\n",
              "              style=\"display:none;\">\n",
              "        \n",
              "  <svg xmlns=\"http://www.w3.org/2000/svg\" height=\"24px\"viewBox=\"0 0 24 24\"\n",
              "       width=\"24px\">\n",
              "    <path d=\"M0 0h24v24H0V0z\" fill=\"none\"/>\n",
              "    <path d=\"M18.56 5.44l.94 2.06.94-2.06 2.06-.94-2.06-.94-.94-2.06-.94 2.06-2.06.94zm-11 1L8.5 8.5l.94-2.06 2.06-.94-2.06-.94L8.5 2.5l-.94 2.06-2.06.94zm10 10l.94 2.06.94-2.06 2.06-.94-2.06-.94-.94-2.06-.94 2.06-2.06.94z\"/><path d=\"M17.41 7.96l-1.37-1.37c-.4-.4-.92-.59-1.43-.59-.52 0-1.04.2-1.43.59L10.3 9.45l-7.72 7.72c-.78.78-.78 2.05 0 2.83L4 21.41c.39.39.9.59 1.41.59.51 0 1.02-.2 1.41-.59l7.78-7.78 2.81-2.81c.8-.78.8-2.07 0-2.86zM5.41 20L4 18.59l7.72-7.72 1.47 1.35L5.41 20z\"/>\n",
              "  </svg>\n",
              "      </button>\n",
              "      \n",
              "  <style>\n",
              "    .colab-df-container {\n",
              "      display:flex;\n",
              "      flex-wrap:wrap;\n",
              "      gap: 12px;\n",
              "    }\n",
              "\n",
              "    .colab-df-convert {\n",
              "      background-color: #E8F0FE;\n",
              "      border: none;\n",
              "      border-radius: 50%;\n",
              "      cursor: pointer;\n",
              "      display: none;\n",
              "      fill: #1967D2;\n",
              "      height: 32px;\n",
              "      padding: 0 0 0 0;\n",
              "      width: 32px;\n",
              "    }\n",
              "\n",
              "    .colab-df-convert:hover {\n",
              "      background-color: #E2EBFA;\n",
              "      box-shadow: 0px 1px 2px rgba(60, 64, 67, 0.3), 0px 1px 3px 1px rgba(60, 64, 67, 0.15);\n",
              "      fill: #174EA6;\n",
              "    }\n",
              "\n",
              "    [theme=dark] .colab-df-convert {\n",
              "      background-color: #3B4455;\n",
              "      fill: #D2E3FC;\n",
              "    }\n",
              "\n",
              "    [theme=dark] .colab-df-convert:hover {\n",
              "      background-color: #434B5C;\n",
              "      box-shadow: 0px 1px 3px 1px rgba(0, 0, 0, 0.15);\n",
              "      filter: drop-shadow(0px 1px 2px rgba(0, 0, 0, 0.3));\n",
              "      fill: #FFFFFF;\n",
              "    }\n",
              "  </style>\n",
              "\n",
              "      <script>\n",
              "        const buttonEl =\n",
              "          document.querySelector('#df-faac4b6a-91c0-4d3a-a5c9-71a30eb9f62f button.colab-df-convert');\n",
              "        buttonEl.style.display =\n",
              "          google.colab.kernel.accessAllowed ? 'block' : 'none';\n",
              "\n",
              "        async function convertToInteractive(key) {\n",
              "          const element = document.querySelector('#df-faac4b6a-91c0-4d3a-a5c9-71a30eb9f62f');\n",
              "          const dataTable =\n",
              "            await google.colab.kernel.invokeFunction('convertToInteractive',\n",
              "                                                     [key], {});\n",
              "          if (!dataTable) return;\n",
              "\n",
              "          const docLinkHtml = 'Like what you see? Visit the ' +\n",
              "            '<a target=\"_blank\" href=https://colab.research.google.com/notebooks/data_table.ipynb>data table notebook</a>'\n",
              "            + ' to learn more about interactive tables.';\n",
              "          element.innerHTML = '';\n",
              "          dataTable['output_type'] = 'display_data';\n",
              "          await google.colab.output.renderOutput(dataTable, element);\n",
              "          const docLink = document.createElement('div');\n",
              "          docLink.innerHTML = docLinkHtml;\n",
              "          element.appendChild(docLink);\n",
              "        }\n",
              "      </script>\n",
              "    </div>\n",
              "  </div>\n",
              "  "
            ],
            "text/plain": [
              "   total_images  last_price  ...  live_coef kitchen_coef\n",
              "0            20  13000000.0  ...   0.472222     0.231481\n",
              "1             7   3350000.0  ...   0.460396     0.272277\n",
              "2            10   5196000.0  ...   0.612500     0.148214\n",
              "\n",
              "[3 rows x 24 columns]"
            ]
          },
          "metadata": {},
          "execution_count": 20
        }
      ],
      "source": [
        "df.head(3)"
      ]
    },
    {
      "cell_type": "code",
      "execution_count": 21,
      "metadata": {
        "id": "_Ts7z-WOY2wM"
      },
      "outputs": [],
      "source": [
        "df['ceiling_height'] = df['ceiling_height'].fillna(df['ceiling_height'].median()) # filling gaps on median"
      ]
    },
    {
      "cell_type": "code",
      "execution_count": 22,
      "metadata": {
        "colab": {
          "base_uri": "https://localhost:8080/",
          "height": 802
        },
        "id": "lOE3C8ypY2wM",
        "outputId": "170f5a23-91a0-4e00-e1eb-f95d716c8241"
      },
      "outputs": [
        {
          "output_type": "execute_result",
          "data": {
            "text/html": [
              "<style type=\"text/css\">\n",
              "#T_d87ff_row0_col0, #T_d87ff_row1_col0, #T_d87ff_row2_col0, #T_d87ff_row3_col0, #T_d87ff_row4_col0, #T_d87ff_row5_col0, #T_d87ff_row6_col0, #T_d87ff_row7_col0, #T_d87ff_row8_col0, #T_d87ff_row9_col0, #T_d87ff_row10_col0, #T_d87ff_row11_col0, #T_d87ff_row12_col0, #T_d87ff_row14_col0, #T_d87ff_row22_col0, #T_d87ff_row23_col0 {\n",
              "  background-color: #3b4cc0;\n",
              "  color: #f1f1f1;\n",
              "}\n",
              "#T_d87ff_row13_col0 {\n",
              "  background-color: #f59d7e;\n",
              "  color: #000000;\n",
              "}\n",
              "#T_d87ff_row15_col0 {\n",
              "  background-color: #b2ccfb;\n",
              "  color: #000000;\n",
              "}\n",
              "#T_d87ff_row16_col0, #T_d87ff_row17_col0, #T_d87ff_row19_col0 {\n",
              "  background-color: #b1cbfc;\n",
              "  color: #000000;\n",
              "}\n",
              "#T_d87ff_row18_col0 {\n",
              "  background-color: #b40426;\n",
              "  color: #f1f1f1;\n",
              "}\n",
              "#T_d87ff_row20_col0 {\n",
              "  background-color: #cb3e38;\n",
              "  color: #f1f1f1;\n",
              "}\n",
              "#T_d87ff_row21_col0 {\n",
              "  background-color: #7da0f9;\n",
              "  color: #f1f1f1;\n",
              "}\n",
              "</style>\n",
              "<table id=\"T_d87ff_\" class=\"dataframe\">\n",
              "  <thead>\n",
              "    <tr>\n",
              "      <th class=\"blank level0\" >&nbsp;</th>\n",
              "      <th class=\"col_heading level0 col0\" >0</th>\n",
              "    </tr>\n",
              "  </thead>\n",
              "  <tbody>\n",
              "    <tr>\n",
              "      <th id=\"T_d87ff_level0_row0\" class=\"row_heading level0 row0\" >total_images</th>\n",
              "      <td id=\"T_d87ff_row0_col0\" class=\"data row0 col0\" >0.000000</td>\n",
              "    </tr>\n",
              "    <tr>\n",
              "      <th id=\"T_d87ff_level0_row1\" class=\"row_heading level0 row1\" >last_price</th>\n",
              "      <td id=\"T_d87ff_row1_col0\" class=\"data row1 col0\" >0.000000</td>\n",
              "    </tr>\n",
              "    <tr>\n",
              "      <th id=\"T_d87ff_level0_row2\" class=\"row_heading level0 row2\" >total_area</th>\n",
              "      <td id=\"T_d87ff_row2_col0\" class=\"data row2 col0\" >0.000000</td>\n",
              "    </tr>\n",
              "    <tr>\n",
              "      <th id=\"T_d87ff_level0_row3\" class=\"row_heading level0 row3\" >first_day_exposition</th>\n",
              "      <td id=\"T_d87ff_row3_col0\" class=\"data row3 col0\" >0.000000</td>\n",
              "    </tr>\n",
              "    <tr>\n",
              "      <th id=\"T_d87ff_level0_row4\" class=\"row_heading level0 row4\" >rooms</th>\n",
              "      <td id=\"T_d87ff_row4_col0\" class=\"data row4 col0\" >0.000000</td>\n",
              "    </tr>\n",
              "    <tr>\n",
              "      <th id=\"T_d87ff_level0_row5\" class=\"row_heading level0 row5\" >ceiling_height</th>\n",
              "      <td id=\"T_d87ff_row5_col0\" class=\"data row5 col0\" >0.000000</td>\n",
              "    </tr>\n",
              "    <tr>\n",
              "      <th id=\"T_d87ff_level0_row6\" class=\"row_heading level0 row6\" >floors_total</th>\n",
              "      <td id=\"T_d87ff_row6_col0\" class=\"data row6 col0\" >0.000000</td>\n",
              "    </tr>\n",
              "    <tr>\n",
              "      <th id=\"T_d87ff_level0_row7\" class=\"row_heading level0 row7\" >living_area</th>\n",
              "      <td id=\"T_d87ff_row7_col0\" class=\"data row7 col0\" >0.000000</td>\n",
              "    </tr>\n",
              "    <tr>\n",
              "      <th id=\"T_d87ff_level0_row8\" class=\"row_heading level0 row8\" >floor</th>\n",
              "      <td id=\"T_d87ff_row8_col0\" class=\"data row8 col0\" >0.000000</td>\n",
              "    </tr>\n",
              "    <tr>\n",
              "      <th id=\"T_d87ff_level0_row9\" class=\"row_heading level0 row9\" >is_apartment</th>\n",
              "      <td id=\"T_d87ff_row9_col0\" class=\"data row9 col0\" >0.000000</td>\n",
              "    </tr>\n",
              "    <tr>\n",
              "      <th id=\"T_d87ff_level0_row10\" class=\"row_heading level0 row10\" >studio</th>\n",
              "      <td id=\"T_d87ff_row10_col0\" class=\"data row10 col0\" >0.000000</td>\n",
              "    </tr>\n",
              "    <tr>\n",
              "      <th id=\"T_d87ff_level0_row11\" class=\"row_heading level0 row11\" >open_plan</th>\n",
              "      <td id=\"T_d87ff_row11_col0\" class=\"data row11 col0\" >0.000000</td>\n",
              "    </tr>\n",
              "    <tr>\n",
              "      <th id=\"T_d87ff_level0_row12\" class=\"row_heading level0 row12\" >kitchen_area</th>\n",
              "      <td id=\"T_d87ff_row12_col0\" class=\"data row12 col0\" >0.000000</td>\n",
              "    </tr>\n",
              "    <tr>\n",
              "      <th id=\"T_d87ff_level0_row13\" class=\"row_heading level0 row13\" >balcony</th>\n",
              "      <td id=\"T_d87ff_row13_col0\" class=\"data row13 col0\" >48.700000</td>\n",
              "    </tr>\n",
              "    <tr>\n",
              "      <th id=\"T_d87ff_level0_row14\" class=\"row_heading level0 row14\" >locality_name</th>\n",
              "      <td id=\"T_d87ff_row14_col0\" class=\"data row14 col0\" >0.000000</td>\n",
              "    </tr>\n",
              "    <tr>\n",
              "      <th id=\"T_d87ff_level0_row15\" class=\"row_heading level0 row15\" >airports_nearest</th>\n",
              "      <td id=\"T_d87ff_row15_col0\" class=\"data row15 col0\" >23.440000</td>\n",
              "    </tr>\n",
              "    <tr>\n",
              "      <th id=\"T_d87ff_level0_row16\" class=\"row_heading level0 row16\" >cityCenters_nearest</th>\n",
              "      <td id=\"T_d87ff_row16_col0\" class=\"data row16 col0\" >23.340000</td>\n",
              "    </tr>\n",
              "    <tr>\n",
              "      <th id=\"T_d87ff_level0_row17\" class=\"row_heading level0 row17\" >parks_around3000</th>\n",
              "      <td id=\"T_d87ff_row17_col0\" class=\"data row17 col0\" >23.340000</td>\n",
              "    </tr>\n",
              "    <tr>\n",
              "      <th id=\"T_d87ff_level0_row18\" class=\"row_heading level0 row18\" >parks_nearest</th>\n",
              "      <td id=\"T_d87ff_row18_col0\" class=\"data row18 col0\" >65.920000</td>\n",
              "    </tr>\n",
              "    <tr>\n",
              "      <th id=\"T_d87ff_level0_row19\" class=\"row_heading level0 row19\" >ponds_around3000</th>\n",
              "      <td id=\"T_d87ff_row19_col0\" class=\"data row19 col0\" >23.340000</td>\n",
              "    </tr>\n",
              "    <tr>\n",
              "      <th id=\"T_d87ff_level0_row20\" class=\"row_heading level0 row20\" >ponds_nearest</th>\n",
              "      <td id=\"T_d87ff_row20_col0\" class=\"data row20 col0\" >61.650000</td>\n",
              "    </tr>\n",
              "    <tr>\n",
              "      <th id=\"T_d87ff_level0_row21\" class=\"row_heading level0 row21\" >days_exposition</th>\n",
              "      <td id=\"T_d87ff_row21_col0\" class=\"data row21 col0\" >13.460000</td>\n",
              "    </tr>\n",
              "    <tr>\n",
              "      <th id=\"T_d87ff_level0_row22\" class=\"row_heading level0 row22\" >live_coef</th>\n",
              "      <td id=\"T_d87ff_row22_col0\" class=\"data row22 col0\" >0.000000</td>\n",
              "    </tr>\n",
              "    <tr>\n",
              "      <th id=\"T_d87ff_level0_row23\" class=\"row_heading level0 row23\" >kitchen_coef</th>\n",
              "      <td id=\"T_d87ff_row23_col0\" class=\"data row23 col0\" >0.000000</td>\n",
              "    </tr>\n",
              "  </tbody>\n",
              "</table>\n"
            ],
            "text/plain": [
              "<pandas.io.formats.style.Styler at 0x7f85e7ca1210>"
            ]
          },
          "metadata": {},
          "execution_count": 22
        }
      ],
      "source": [
        "pd.DataFrame(round((df.isna().mean()*100),2)).style.background_gradient('coolwarm')"
      ]
    },
    {
      "cell_type": "code",
      "execution_count": 23,
      "metadata": {
        "id": "HAUc-K4gY2wN"
      },
      "outputs": [],
      "source": [
        "df['balcony'] = df['balcony'].fillna(0)"
      ]
    },
    {
      "cell_type": "code",
      "execution_count": 24,
      "metadata": {
        "id": "aL1FybvAY2wN"
      },
      "outputs": [],
      "source": [
        "df['airports_nearest'] = df['airports_nearest'].fillna(df.groupby('locality_name')['airports_nearest'].transform('median'))\n",
        "\n",
        "df['cityCenters_nearest'] = df['cityCenters_nearest'].fillna(df.groupby('locality_name')['cityCenters_nearest'].transform('median'))\n",
        "\n",
        "df['parks_around3000'] = df['parks_around3000'].fillna(df.groupby('locality_name')['parks_around3000'].transform('median'))\n",
        "\n",
        "df['parks_nearest'] = df['parks_nearest'].fillna(df.groupby('locality_name')['parks_nearest'].transform('median'))\n",
        "\n",
        "df['ponds_nearest'] = df['ponds_nearest'].fillna(df.groupby('locality_name')['ponds_nearest'].transform('median'))\n"
      ]
    },
    {
      "cell_type": "code",
      "execution_count": 25,
      "metadata": {
        "colab": {
          "base_uri": "https://localhost:8080/",
          "height": 802
        },
        "id": "gx5e9JyDY2wN",
        "outputId": "781eba91-0792-461b-dcb3-ab420faa2e6d"
      },
      "outputs": [
        {
          "output_type": "execute_result",
          "data": {
            "text/html": [
              "<style type=\"text/css\">\n",
              "#T_c74e4_row0_col0, #T_c74e4_row1_col0, #T_c74e4_row2_col0, #T_c74e4_row3_col0, #T_c74e4_row4_col0, #T_c74e4_row5_col0, #T_c74e4_row6_col0, #T_c74e4_row7_col0, #T_c74e4_row8_col0, #T_c74e4_row9_col0, #T_c74e4_row10_col0, #T_c74e4_row11_col0, #T_c74e4_row12_col0, #T_c74e4_row13_col0, #T_c74e4_row14_col0, #T_c74e4_row22_col0, #T_c74e4_row23_col0 {\n",
              "  background-color: #3b4cc0;\n",
              "  color: #f1f1f1;\n",
              "}\n",
              "#T_c74e4_row15_col0, #T_c74e4_row16_col0, #T_c74e4_row17_col0 {\n",
              "  background-color: #d44e41;\n",
              "  color: #f1f1f1;\n",
              "}\n",
              "#T_c74e4_row18_col0 {\n",
              "  background-color: #b40426;\n",
              "  color: #f1f1f1;\n",
              "}\n",
              "#T_c74e4_row19_col0, #T_c74e4_row20_col0 {\n",
              "  background-color: #d0473d;\n",
              "  color: #f1f1f1;\n",
              "}\n",
              "#T_c74e4_row21_col0 {\n",
              "  background-color: #e4d9d2;\n",
              "  color: #000000;\n",
              "}\n",
              "</style>\n",
              "<table id=\"T_c74e4_\" class=\"dataframe\">\n",
              "  <thead>\n",
              "    <tr>\n",
              "      <th class=\"blank level0\" >&nbsp;</th>\n",
              "      <th class=\"col_heading level0 col0\" >0</th>\n",
              "    </tr>\n",
              "  </thead>\n",
              "  <tbody>\n",
              "    <tr>\n",
              "      <th id=\"T_c74e4_level0_row0\" class=\"row_heading level0 row0\" >total_images</th>\n",
              "      <td id=\"T_c74e4_row0_col0\" class=\"data row0 col0\" >0.000000</td>\n",
              "    </tr>\n",
              "    <tr>\n",
              "      <th id=\"T_c74e4_level0_row1\" class=\"row_heading level0 row1\" >last_price</th>\n",
              "      <td id=\"T_c74e4_row1_col0\" class=\"data row1 col0\" >0.000000</td>\n",
              "    </tr>\n",
              "    <tr>\n",
              "      <th id=\"T_c74e4_level0_row2\" class=\"row_heading level0 row2\" >total_area</th>\n",
              "      <td id=\"T_c74e4_row2_col0\" class=\"data row2 col0\" >0.000000</td>\n",
              "    </tr>\n",
              "    <tr>\n",
              "      <th id=\"T_c74e4_level0_row3\" class=\"row_heading level0 row3\" >first_day_exposition</th>\n",
              "      <td id=\"T_c74e4_row3_col0\" class=\"data row3 col0\" >0.000000</td>\n",
              "    </tr>\n",
              "    <tr>\n",
              "      <th id=\"T_c74e4_level0_row4\" class=\"row_heading level0 row4\" >rooms</th>\n",
              "      <td id=\"T_c74e4_row4_col0\" class=\"data row4 col0\" >0.000000</td>\n",
              "    </tr>\n",
              "    <tr>\n",
              "      <th id=\"T_c74e4_level0_row5\" class=\"row_heading level0 row5\" >ceiling_height</th>\n",
              "      <td id=\"T_c74e4_row5_col0\" class=\"data row5 col0\" >0.000000</td>\n",
              "    </tr>\n",
              "    <tr>\n",
              "      <th id=\"T_c74e4_level0_row6\" class=\"row_heading level0 row6\" >floors_total</th>\n",
              "      <td id=\"T_c74e4_row6_col0\" class=\"data row6 col0\" >0.000000</td>\n",
              "    </tr>\n",
              "    <tr>\n",
              "      <th id=\"T_c74e4_level0_row7\" class=\"row_heading level0 row7\" >living_area</th>\n",
              "      <td id=\"T_c74e4_row7_col0\" class=\"data row7 col0\" >0.000000</td>\n",
              "    </tr>\n",
              "    <tr>\n",
              "      <th id=\"T_c74e4_level0_row8\" class=\"row_heading level0 row8\" >floor</th>\n",
              "      <td id=\"T_c74e4_row8_col0\" class=\"data row8 col0\" >0.000000</td>\n",
              "    </tr>\n",
              "    <tr>\n",
              "      <th id=\"T_c74e4_level0_row9\" class=\"row_heading level0 row9\" >is_apartment</th>\n",
              "      <td id=\"T_c74e4_row9_col0\" class=\"data row9 col0\" >0.000000</td>\n",
              "    </tr>\n",
              "    <tr>\n",
              "      <th id=\"T_c74e4_level0_row10\" class=\"row_heading level0 row10\" >studio</th>\n",
              "      <td id=\"T_c74e4_row10_col0\" class=\"data row10 col0\" >0.000000</td>\n",
              "    </tr>\n",
              "    <tr>\n",
              "      <th id=\"T_c74e4_level0_row11\" class=\"row_heading level0 row11\" >open_plan</th>\n",
              "      <td id=\"T_c74e4_row11_col0\" class=\"data row11 col0\" >0.000000</td>\n",
              "    </tr>\n",
              "    <tr>\n",
              "      <th id=\"T_c74e4_level0_row12\" class=\"row_heading level0 row12\" >kitchen_area</th>\n",
              "      <td id=\"T_c74e4_row12_col0\" class=\"data row12 col0\" >0.000000</td>\n",
              "    </tr>\n",
              "    <tr>\n",
              "      <th id=\"T_c74e4_level0_row13\" class=\"row_heading level0 row13\" >balcony</th>\n",
              "      <td id=\"T_c74e4_row13_col0\" class=\"data row13 col0\" >0.000000</td>\n",
              "    </tr>\n",
              "    <tr>\n",
              "      <th id=\"T_c74e4_level0_row14\" class=\"row_heading level0 row14\" >locality_name</th>\n",
              "      <td id=\"T_c74e4_row14_col0\" class=\"data row14 col0\" >0.000000</td>\n",
              "    </tr>\n",
              "    <tr>\n",
              "      <th id=\"T_c74e4_level0_row15\" class=\"row_heading level0 row15\" >airports_nearest</th>\n",
              "      <td id=\"T_c74e4_row15_col0\" class=\"data row15 col0\" >23.050000</td>\n",
              "    </tr>\n",
              "    <tr>\n",
              "      <th id=\"T_c74e4_level0_row16\" class=\"row_heading level0 row16\" >cityCenters_nearest</th>\n",
              "      <td id=\"T_c74e4_row16_col0\" class=\"data row16 col0\" >23.050000</td>\n",
              "    </tr>\n",
              "    <tr>\n",
              "      <th id=\"T_c74e4_level0_row17\" class=\"row_heading level0 row17\" >parks_around3000</th>\n",
              "      <td id=\"T_c74e4_row17_col0\" class=\"data row17 col0\" >23.050000</td>\n",
              "    </tr>\n",
              "    <tr>\n",
              "      <th id=\"T_c74e4_level0_row18\" class=\"row_heading level0 row18\" >parks_nearest</th>\n",
              "      <td id=\"T_c74e4_row18_col0\" class=\"data row18 col0\" >25.400000</td>\n",
              "    </tr>\n",
              "    <tr>\n",
              "      <th id=\"T_c74e4_level0_row19\" class=\"row_heading level0 row19\" >ponds_around3000</th>\n",
              "      <td id=\"T_c74e4_row19_col0\" class=\"data row19 col0\" >23.340000</td>\n",
              "    </tr>\n",
              "    <tr>\n",
              "      <th id=\"T_c74e4_level0_row20\" class=\"row_heading level0 row20\" >ponds_nearest</th>\n",
              "      <td id=\"T_c74e4_row20_col0\" class=\"data row20 col0\" >23.410000</td>\n",
              "    </tr>\n",
              "    <tr>\n",
              "      <th id=\"T_c74e4_level0_row21\" class=\"row_heading level0 row21\" >days_exposition</th>\n",
              "      <td id=\"T_c74e4_row21_col0\" class=\"data row21 col0\" >13.460000</td>\n",
              "    </tr>\n",
              "    <tr>\n",
              "      <th id=\"T_c74e4_level0_row22\" class=\"row_heading level0 row22\" >live_coef</th>\n",
              "      <td id=\"T_c74e4_row22_col0\" class=\"data row22 col0\" >0.000000</td>\n",
              "    </tr>\n",
              "    <tr>\n",
              "      <th id=\"T_c74e4_level0_row23\" class=\"row_heading level0 row23\" >kitchen_coef</th>\n",
              "      <td id=\"T_c74e4_row23_col0\" class=\"data row23 col0\" >0.000000</td>\n",
              "    </tr>\n",
              "  </tbody>\n",
              "</table>\n"
            ],
            "text/plain": [
              "<pandas.io.formats.style.Styler at 0x7f85e7beab90>"
            ]
          },
          "metadata": {},
          "execution_count": 25
        }
      ],
      "source": [
        "pd.DataFrame(round((df.isna().mean()*100),2)).style.background_gradient('coolwarm')"
      ]
    },
    {
      "cell_type": "code",
      "execution_count": 26,
      "metadata": {
        "id": "DRZuhCgjY2wO"
      },
      "outputs": [],
      "source": [
        "df['first_day_exposition'] = pd.to_datetime(df['first_day_exposition']) "
      ]
    },
    {
      "cell_type": "code",
      "execution_count": 27,
      "metadata": {
        "colab": {
          "base_uri": "https://localhost:8080/"
        },
        "id": "r17U3aJ0Y2wO",
        "outputId": "e57c6c36-ed1f-41a2-fb83-ae92d6f0fc95"
      },
      "outputs": [
        {
          "output_type": "stream",
          "name": "stdout",
          "text": [
            "<class 'pandas.core.frame.DataFrame'>\n",
            "Int64Index: 23565 entries, 0 to 23698\n",
            "Data columns (total 24 columns):\n",
            " #   Column                Non-Null Count  Dtype         \n",
            "---  ------                --------------  -----         \n",
            " 0   total_images          23565 non-null  int64         \n",
            " 1   last_price            23565 non-null  float64       \n",
            " 2   total_area            23565 non-null  float64       \n",
            " 3   first_day_exposition  23565 non-null  datetime64[ns]\n",
            " 4   rooms                 23565 non-null  int64         \n",
            " 5   ceiling_height        23565 non-null  float64       \n",
            " 6   floors_total          23565 non-null  float64       \n",
            " 7   living_area           23565 non-null  float64       \n",
            " 8   floor                 23565 non-null  int64         \n",
            " 9   is_apartment          23565 non-null  bool          \n",
            " 10  studio                23565 non-null  bool          \n",
            " 11  open_plan             23565 non-null  bool          \n",
            " 12  kitchen_area          23565 non-null  float64       \n",
            " 13  balcony               23565 non-null  float64       \n",
            " 14  locality_name         23565 non-null  object        \n",
            " 15  airports_nearest      18133 non-null  float64       \n",
            " 16  cityCenters_nearest   18133 non-null  float64       \n",
            " 17  parks_around3000      18133 non-null  float64       \n",
            " 18  parks_nearest         17579 non-null  float64       \n",
            " 19  ponds_around3000      18065 non-null  float64       \n",
            " 20  ponds_nearest         18048 non-null  float64       \n",
            " 21  days_exposition       20394 non-null  float64       \n",
            " 22  live_coef             23565 non-null  float64       \n",
            " 23  kitchen_coef          23565 non-null  float64       \n",
            "dtypes: bool(3), datetime64[ns](1), float64(16), int64(3), object(1)\n",
            "memory usage: 4.0+ MB\n"
          ]
        }
      ],
      "source": [
        "df.info()"
      ]
    },
    {
      "cell_type": "markdown",
      "metadata": {
        "id": "KGdU7ifvY2wO"
      },
      "source": [
        "## Make calculations and add it in the table"
      ]
    },
    {
      "cell_type": "code",
      "execution_count": 28,
      "metadata": {
        "id": "2A3fJ28kY2wP"
      },
      "outputs": [],
      "source": [
        "df['weekday'] = pd.DatetimeIndex(df['first_day_exposition']).weekday # add a new column with weekday"
      ]
    },
    {
      "cell_type": "code",
      "execution_count": 29,
      "metadata": {
        "colab": {
          "base_uri": "https://localhost:8080/",
          "height": 242
        },
        "id": "_r0nXZr8Y2wP",
        "outputId": "27f8f69b-9b7b-4113-b294-80b6a9b6dcef"
      },
      "outputs": [
        {
          "output_type": "execute_result",
          "data": {
            "text/html": [
              "\n",
              "  <div id=\"df-6f6a33f3-824a-4aba-8dfe-3d5a9f4c7916\">\n",
              "    <div class=\"colab-df-container\">\n",
              "      <div>\n",
              "<style scoped>\n",
              "    .dataframe tbody tr th:only-of-type {\n",
              "        vertical-align: middle;\n",
              "    }\n",
              "\n",
              "    .dataframe tbody tr th {\n",
              "        vertical-align: top;\n",
              "    }\n",
              "\n",
              "    .dataframe thead th {\n",
              "        text-align: right;\n",
              "    }\n",
              "</style>\n",
              "<table border=\"1\" class=\"dataframe\">\n",
              "  <thead>\n",
              "    <tr style=\"text-align: right;\">\n",
              "      <th></th>\n",
              "      <th>total_images</th>\n",
              "      <th>last_price</th>\n",
              "      <th>total_area</th>\n",
              "      <th>first_day_exposition</th>\n",
              "      <th>rooms</th>\n",
              "      <th>ceiling_height</th>\n",
              "      <th>floors_total</th>\n",
              "      <th>living_area</th>\n",
              "      <th>floor</th>\n",
              "      <th>is_apartment</th>\n",
              "      <th>studio</th>\n",
              "      <th>open_plan</th>\n",
              "      <th>kitchen_area</th>\n",
              "      <th>balcony</th>\n",
              "      <th>locality_name</th>\n",
              "      <th>airports_nearest</th>\n",
              "      <th>cityCenters_nearest</th>\n",
              "      <th>parks_around3000</th>\n",
              "      <th>parks_nearest</th>\n",
              "      <th>ponds_around3000</th>\n",
              "      <th>ponds_nearest</th>\n",
              "      <th>days_exposition</th>\n",
              "      <th>live_coef</th>\n",
              "      <th>kitchen_coef</th>\n",
              "      <th>weekday</th>\n",
              "    </tr>\n",
              "  </thead>\n",
              "  <tbody>\n",
              "    <tr>\n",
              "      <th>0</th>\n",
              "      <td>20</td>\n",
              "      <td>13000000.0</td>\n",
              "      <td>108.0</td>\n",
              "      <td>2019-03-07</td>\n",
              "      <td>3</td>\n",
              "      <td>2.70</td>\n",
              "      <td>16.0</td>\n",
              "      <td>51.0</td>\n",
              "      <td>8</td>\n",
              "      <td>False</td>\n",
              "      <td>False</td>\n",
              "      <td>False</td>\n",
              "      <td>25.0</td>\n",
              "      <td>0.0</td>\n",
              "      <td>Санкт-Петербург</td>\n",
              "      <td>18863.0</td>\n",
              "      <td>16028.0</td>\n",
              "      <td>1.0</td>\n",
              "      <td>482.0</td>\n",
              "      <td>2.0</td>\n",
              "      <td>755.0</td>\n",
              "      <td>NaN</td>\n",
              "      <td>0.472222</td>\n",
              "      <td>0.231481</td>\n",
              "      <td>3</td>\n",
              "    </tr>\n",
              "    <tr>\n",
              "      <th>1</th>\n",
              "      <td>7</td>\n",
              "      <td>3350000.0</td>\n",
              "      <td>40.4</td>\n",
              "      <td>2018-12-04</td>\n",
              "      <td>1</td>\n",
              "      <td>2.65</td>\n",
              "      <td>11.0</td>\n",
              "      <td>18.6</td>\n",
              "      <td>1</td>\n",
              "      <td>False</td>\n",
              "      <td>False</td>\n",
              "      <td>False</td>\n",
              "      <td>11.0</td>\n",
              "      <td>2.0</td>\n",
              "      <td>Шушары</td>\n",
              "      <td>12817.0</td>\n",
              "      <td>18603.0</td>\n",
              "      <td>0.0</td>\n",
              "      <td>NaN</td>\n",
              "      <td>0.0</td>\n",
              "      <td>584.5</td>\n",
              "      <td>81.0</td>\n",
              "      <td>0.460396</td>\n",
              "      <td>0.272277</td>\n",
              "      <td>1</td>\n",
              "    </tr>\n",
              "    <tr>\n",
              "      <th>2</th>\n",
              "      <td>10</td>\n",
              "      <td>5196000.0</td>\n",
              "      <td>56.0</td>\n",
              "      <td>2015-08-20</td>\n",
              "      <td>2</td>\n",
              "      <td>2.65</td>\n",
              "      <td>5.0</td>\n",
              "      <td>34.3</td>\n",
              "      <td>4</td>\n",
              "      <td>False</td>\n",
              "      <td>False</td>\n",
              "      <td>False</td>\n",
              "      <td>8.3</td>\n",
              "      <td>0.0</td>\n",
              "      <td>Санкт-Петербург</td>\n",
              "      <td>21741.0</td>\n",
              "      <td>13933.0</td>\n",
              "      <td>1.0</td>\n",
              "      <td>90.0</td>\n",
              "      <td>2.0</td>\n",
              "      <td>574.0</td>\n",
              "      <td>558.0</td>\n",
              "      <td>0.612500</td>\n",
              "      <td>0.148214</td>\n",
              "      <td>3</td>\n",
              "    </tr>\n",
              "  </tbody>\n",
              "</table>\n",
              "</div>\n",
              "      <button class=\"colab-df-convert\" onclick=\"convertToInteractive('df-6f6a33f3-824a-4aba-8dfe-3d5a9f4c7916')\"\n",
              "              title=\"Convert this dataframe to an interactive table.\"\n",
              "              style=\"display:none;\">\n",
              "        \n",
              "  <svg xmlns=\"http://www.w3.org/2000/svg\" height=\"24px\"viewBox=\"0 0 24 24\"\n",
              "       width=\"24px\">\n",
              "    <path d=\"M0 0h24v24H0V0z\" fill=\"none\"/>\n",
              "    <path d=\"M18.56 5.44l.94 2.06.94-2.06 2.06-.94-2.06-.94-.94-2.06-.94 2.06-2.06.94zm-11 1L8.5 8.5l.94-2.06 2.06-.94-2.06-.94L8.5 2.5l-.94 2.06-2.06.94zm10 10l.94 2.06.94-2.06 2.06-.94-2.06-.94-.94-2.06-.94 2.06-2.06.94z\"/><path d=\"M17.41 7.96l-1.37-1.37c-.4-.4-.92-.59-1.43-.59-.52 0-1.04.2-1.43.59L10.3 9.45l-7.72 7.72c-.78.78-.78 2.05 0 2.83L4 21.41c.39.39.9.59 1.41.59.51 0 1.02-.2 1.41-.59l7.78-7.78 2.81-2.81c.8-.78.8-2.07 0-2.86zM5.41 20L4 18.59l7.72-7.72 1.47 1.35L5.41 20z\"/>\n",
              "  </svg>\n",
              "      </button>\n",
              "      \n",
              "  <style>\n",
              "    .colab-df-container {\n",
              "      display:flex;\n",
              "      flex-wrap:wrap;\n",
              "      gap: 12px;\n",
              "    }\n",
              "\n",
              "    .colab-df-convert {\n",
              "      background-color: #E8F0FE;\n",
              "      border: none;\n",
              "      border-radius: 50%;\n",
              "      cursor: pointer;\n",
              "      display: none;\n",
              "      fill: #1967D2;\n",
              "      height: 32px;\n",
              "      padding: 0 0 0 0;\n",
              "      width: 32px;\n",
              "    }\n",
              "\n",
              "    .colab-df-convert:hover {\n",
              "      background-color: #E2EBFA;\n",
              "      box-shadow: 0px 1px 2px rgba(60, 64, 67, 0.3), 0px 1px 3px 1px rgba(60, 64, 67, 0.15);\n",
              "      fill: #174EA6;\n",
              "    }\n",
              "\n",
              "    [theme=dark] .colab-df-convert {\n",
              "      background-color: #3B4455;\n",
              "      fill: #D2E3FC;\n",
              "    }\n",
              "\n",
              "    [theme=dark] .colab-df-convert:hover {\n",
              "      background-color: #434B5C;\n",
              "      box-shadow: 0px 1px 3px 1px rgba(0, 0, 0, 0.15);\n",
              "      filter: drop-shadow(0px 1px 2px rgba(0, 0, 0, 0.3));\n",
              "      fill: #FFFFFF;\n",
              "    }\n",
              "  </style>\n",
              "\n",
              "      <script>\n",
              "        const buttonEl =\n",
              "          document.querySelector('#df-6f6a33f3-824a-4aba-8dfe-3d5a9f4c7916 button.colab-df-convert');\n",
              "        buttonEl.style.display =\n",
              "          google.colab.kernel.accessAllowed ? 'block' : 'none';\n",
              "\n",
              "        async function convertToInteractive(key) {\n",
              "          const element = document.querySelector('#df-6f6a33f3-824a-4aba-8dfe-3d5a9f4c7916');\n",
              "          const dataTable =\n",
              "            await google.colab.kernel.invokeFunction('convertToInteractive',\n",
              "                                                     [key], {});\n",
              "          if (!dataTable) return;\n",
              "\n",
              "          const docLinkHtml = 'Like what you see? Visit the ' +\n",
              "            '<a target=\"_blank\" href=https://colab.research.google.com/notebooks/data_table.ipynb>data table notebook</a>'\n",
              "            + ' to learn more about interactive tables.';\n",
              "          element.innerHTML = '';\n",
              "          dataTable['output_type'] = 'display_data';\n",
              "          await google.colab.output.renderOutput(dataTable, element);\n",
              "          const docLink = document.createElement('div');\n",
              "          docLink.innerHTML = docLinkHtml;\n",
              "          element.appendChild(docLink);\n",
              "        }\n",
              "      </script>\n",
              "    </div>\n",
              "  </div>\n",
              "  "
            ],
            "text/plain": [
              "   total_images  last_price  total_area  ... live_coef  kitchen_coef  weekday\n",
              "0            20  13000000.0       108.0  ...  0.472222      0.231481        3\n",
              "1             7   3350000.0        40.4  ...  0.460396      0.272277        1\n",
              "2            10   5196000.0        56.0  ...  0.612500      0.148214        3\n",
              "\n",
              "[3 rows x 25 columns]"
            ]
          },
          "metadata": {},
          "execution_count": 29
        }
      ],
      "source": [
        "df.head(3)"
      ]
    },
    {
      "cell_type": "code",
      "execution_count": 30,
      "metadata": {
        "id": "dtik9AECY2wP"
      },
      "outputs": [],
      "source": [
        "df['month'] = pd.DatetimeIndex(df['first_day_exposition']).month"
      ]
    },
    {
      "cell_type": "code",
      "execution_count": 31,
      "metadata": {
        "colab": {
          "base_uri": "https://localhost:8080/",
          "height": 242
        },
        "id": "C5CR0-0UY2wP",
        "outputId": "7add279e-107a-4b32-eef1-082beb35fdc8"
      },
      "outputs": [
        {
          "output_type": "execute_result",
          "data": {
            "text/html": [
              "\n",
              "  <div id=\"df-960c59cb-fdc1-432a-a10a-49216eb361b1\">\n",
              "    <div class=\"colab-df-container\">\n",
              "      <div>\n",
              "<style scoped>\n",
              "    .dataframe tbody tr th:only-of-type {\n",
              "        vertical-align: middle;\n",
              "    }\n",
              "\n",
              "    .dataframe tbody tr th {\n",
              "        vertical-align: top;\n",
              "    }\n",
              "\n",
              "    .dataframe thead th {\n",
              "        text-align: right;\n",
              "    }\n",
              "</style>\n",
              "<table border=\"1\" class=\"dataframe\">\n",
              "  <thead>\n",
              "    <tr style=\"text-align: right;\">\n",
              "      <th></th>\n",
              "      <th>total_images</th>\n",
              "      <th>last_price</th>\n",
              "      <th>total_area</th>\n",
              "      <th>first_day_exposition</th>\n",
              "      <th>rooms</th>\n",
              "      <th>ceiling_height</th>\n",
              "      <th>floors_total</th>\n",
              "      <th>living_area</th>\n",
              "      <th>floor</th>\n",
              "      <th>is_apartment</th>\n",
              "      <th>studio</th>\n",
              "      <th>open_plan</th>\n",
              "      <th>kitchen_area</th>\n",
              "      <th>balcony</th>\n",
              "      <th>locality_name</th>\n",
              "      <th>airports_nearest</th>\n",
              "      <th>cityCenters_nearest</th>\n",
              "      <th>parks_around3000</th>\n",
              "      <th>parks_nearest</th>\n",
              "      <th>ponds_around3000</th>\n",
              "      <th>ponds_nearest</th>\n",
              "      <th>days_exposition</th>\n",
              "      <th>live_coef</th>\n",
              "      <th>kitchen_coef</th>\n",
              "      <th>weekday</th>\n",
              "      <th>month</th>\n",
              "    </tr>\n",
              "  </thead>\n",
              "  <tbody>\n",
              "    <tr>\n",
              "      <th>0</th>\n",
              "      <td>20</td>\n",
              "      <td>13000000.0</td>\n",
              "      <td>108.0</td>\n",
              "      <td>2019-03-07</td>\n",
              "      <td>3</td>\n",
              "      <td>2.70</td>\n",
              "      <td>16.0</td>\n",
              "      <td>51.0</td>\n",
              "      <td>8</td>\n",
              "      <td>False</td>\n",
              "      <td>False</td>\n",
              "      <td>False</td>\n",
              "      <td>25.0</td>\n",
              "      <td>0.0</td>\n",
              "      <td>Санкт-Петербург</td>\n",
              "      <td>18863.0</td>\n",
              "      <td>16028.0</td>\n",
              "      <td>1.0</td>\n",
              "      <td>482.0</td>\n",
              "      <td>2.0</td>\n",
              "      <td>755.0</td>\n",
              "      <td>NaN</td>\n",
              "      <td>0.472222</td>\n",
              "      <td>0.231481</td>\n",
              "      <td>3</td>\n",
              "      <td>3</td>\n",
              "    </tr>\n",
              "    <tr>\n",
              "      <th>1</th>\n",
              "      <td>7</td>\n",
              "      <td>3350000.0</td>\n",
              "      <td>40.4</td>\n",
              "      <td>2018-12-04</td>\n",
              "      <td>1</td>\n",
              "      <td>2.65</td>\n",
              "      <td>11.0</td>\n",
              "      <td>18.6</td>\n",
              "      <td>1</td>\n",
              "      <td>False</td>\n",
              "      <td>False</td>\n",
              "      <td>False</td>\n",
              "      <td>11.0</td>\n",
              "      <td>2.0</td>\n",
              "      <td>Шушары</td>\n",
              "      <td>12817.0</td>\n",
              "      <td>18603.0</td>\n",
              "      <td>0.0</td>\n",
              "      <td>NaN</td>\n",
              "      <td>0.0</td>\n",
              "      <td>584.5</td>\n",
              "      <td>81.0</td>\n",
              "      <td>0.460396</td>\n",
              "      <td>0.272277</td>\n",
              "      <td>1</td>\n",
              "      <td>12</td>\n",
              "    </tr>\n",
              "    <tr>\n",
              "      <th>2</th>\n",
              "      <td>10</td>\n",
              "      <td>5196000.0</td>\n",
              "      <td>56.0</td>\n",
              "      <td>2015-08-20</td>\n",
              "      <td>2</td>\n",
              "      <td>2.65</td>\n",
              "      <td>5.0</td>\n",
              "      <td>34.3</td>\n",
              "      <td>4</td>\n",
              "      <td>False</td>\n",
              "      <td>False</td>\n",
              "      <td>False</td>\n",
              "      <td>8.3</td>\n",
              "      <td>0.0</td>\n",
              "      <td>Санкт-Петербург</td>\n",
              "      <td>21741.0</td>\n",
              "      <td>13933.0</td>\n",
              "      <td>1.0</td>\n",
              "      <td>90.0</td>\n",
              "      <td>2.0</td>\n",
              "      <td>574.0</td>\n",
              "      <td>558.0</td>\n",
              "      <td>0.612500</td>\n",
              "      <td>0.148214</td>\n",
              "      <td>3</td>\n",
              "      <td>8</td>\n",
              "    </tr>\n",
              "  </tbody>\n",
              "</table>\n",
              "</div>\n",
              "      <button class=\"colab-df-convert\" onclick=\"convertToInteractive('df-960c59cb-fdc1-432a-a10a-49216eb361b1')\"\n",
              "              title=\"Convert this dataframe to an interactive table.\"\n",
              "              style=\"display:none;\">\n",
              "        \n",
              "  <svg xmlns=\"http://www.w3.org/2000/svg\" height=\"24px\"viewBox=\"0 0 24 24\"\n",
              "       width=\"24px\">\n",
              "    <path d=\"M0 0h24v24H0V0z\" fill=\"none\"/>\n",
              "    <path d=\"M18.56 5.44l.94 2.06.94-2.06 2.06-.94-2.06-.94-.94-2.06-.94 2.06-2.06.94zm-11 1L8.5 8.5l.94-2.06 2.06-.94-2.06-.94L8.5 2.5l-.94 2.06-2.06.94zm10 10l.94 2.06.94-2.06 2.06-.94-2.06-.94-.94-2.06-.94 2.06-2.06.94z\"/><path d=\"M17.41 7.96l-1.37-1.37c-.4-.4-.92-.59-1.43-.59-.52 0-1.04.2-1.43.59L10.3 9.45l-7.72 7.72c-.78.78-.78 2.05 0 2.83L4 21.41c.39.39.9.59 1.41.59.51 0 1.02-.2 1.41-.59l7.78-7.78 2.81-2.81c.8-.78.8-2.07 0-2.86zM5.41 20L4 18.59l7.72-7.72 1.47 1.35L5.41 20z\"/>\n",
              "  </svg>\n",
              "      </button>\n",
              "      \n",
              "  <style>\n",
              "    .colab-df-container {\n",
              "      display:flex;\n",
              "      flex-wrap:wrap;\n",
              "      gap: 12px;\n",
              "    }\n",
              "\n",
              "    .colab-df-convert {\n",
              "      background-color: #E8F0FE;\n",
              "      border: none;\n",
              "      border-radius: 50%;\n",
              "      cursor: pointer;\n",
              "      display: none;\n",
              "      fill: #1967D2;\n",
              "      height: 32px;\n",
              "      padding: 0 0 0 0;\n",
              "      width: 32px;\n",
              "    }\n",
              "\n",
              "    .colab-df-convert:hover {\n",
              "      background-color: #E2EBFA;\n",
              "      box-shadow: 0px 1px 2px rgba(60, 64, 67, 0.3), 0px 1px 3px 1px rgba(60, 64, 67, 0.15);\n",
              "      fill: #174EA6;\n",
              "    }\n",
              "\n",
              "    [theme=dark] .colab-df-convert {\n",
              "      background-color: #3B4455;\n",
              "      fill: #D2E3FC;\n",
              "    }\n",
              "\n",
              "    [theme=dark] .colab-df-convert:hover {\n",
              "      background-color: #434B5C;\n",
              "      box-shadow: 0px 1px 3px 1px rgba(0, 0, 0, 0.15);\n",
              "      filter: drop-shadow(0px 1px 2px rgba(0, 0, 0, 0.3));\n",
              "      fill: #FFFFFF;\n",
              "    }\n",
              "  </style>\n",
              "\n",
              "      <script>\n",
              "        const buttonEl =\n",
              "          document.querySelector('#df-960c59cb-fdc1-432a-a10a-49216eb361b1 button.colab-df-convert');\n",
              "        buttonEl.style.display =\n",
              "          google.colab.kernel.accessAllowed ? 'block' : 'none';\n",
              "\n",
              "        async function convertToInteractive(key) {\n",
              "          const element = document.querySelector('#df-960c59cb-fdc1-432a-a10a-49216eb361b1');\n",
              "          const dataTable =\n",
              "            await google.colab.kernel.invokeFunction('convertToInteractive',\n",
              "                                                     [key], {});\n",
              "          if (!dataTable) return;\n",
              "\n",
              "          const docLinkHtml = 'Like what you see? Visit the ' +\n",
              "            '<a target=\"_blank\" href=https://colab.research.google.com/notebooks/data_table.ipynb>data table notebook</a>'\n",
              "            + ' to learn more about interactive tables.';\n",
              "          element.innerHTML = '';\n",
              "          dataTable['output_type'] = 'display_data';\n",
              "          await google.colab.output.renderOutput(dataTable, element);\n",
              "          const docLink = document.createElement('div');\n",
              "          docLink.innerHTML = docLinkHtml;\n",
              "          element.appendChild(docLink);\n",
              "        }\n",
              "      </script>\n",
              "    </div>\n",
              "  </div>\n",
              "  "
            ],
            "text/plain": [
              "   total_images  last_price  total_area  ... kitchen_coef  weekday  month\n",
              "0            20  13000000.0       108.0  ...     0.231481        3      3\n",
              "1             7   3350000.0        40.4  ...     0.272277        1     12\n",
              "2            10   5196000.0        56.0  ...     0.148214        3      8\n",
              "\n",
              "[3 rows x 26 columns]"
            ]
          },
          "metadata": {},
          "execution_count": 31
        }
      ],
      "source": [
        "df.head(3)"
      ]
    },
    {
      "cell_type": "code",
      "execution_count": 32,
      "metadata": {
        "id": "ksd78sFTY2wP"
      },
      "outputs": [],
      "source": [
        "df['year'] = pd.DatetimeIndex(df['first_day_exposition']).year"
      ]
    },
    {
      "cell_type": "code",
      "execution_count": 33,
      "metadata": {
        "colab": {
          "base_uri": "https://localhost:8080/",
          "height": 242
        },
        "id": "H2iS15ZnY2wQ",
        "outputId": "6bd332dc-eac0-448d-afc7-eec1b64a9723"
      },
      "outputs": [
        {
          "output_type": "execute_result",
          "data": {
            "text/html": [
              "\n",
              "  <div id=\"df-27adc4e3-9009-4c12-9c05-f19f3dfaa996\">\n",
              "    <div class=\"colab-df-container\">\n",
              "      <div>\n",
              "<style scoped>\n",
              "    .dataframe tbody tr th:only-of-type {\n",
              "        vertical-align: middle;\n",
              "    }\n",
              "\n",
              "    .dataframe tbody tr th {\n",
              "        vertical-align: top;\n",
              "    }\n",
              "\n",
              "    .dataframe thead th {\n",
              "        text-align: right;\n",
              "    }\n",
              "</style>\n",
              "<table border=\"1\" class=\"dataframe\">\n",
              "  <thead>\n",
              "    <tr style=\"text-align: right;\">\n",
              "      <th></th>\n",
              "      <th>total_images</th>\n",
              "      <th>last_price</th>\n",
              "      <th>total_area</th>\n",
              "      <th>first_day_exposition</th>\n",
              "      <th>rooms</th>\n",
              "      <th>ceiling_height</th>\n",
              "      <th>floors_total</th>\n",
              "      <th>living_area</th>\n",
              "      <th>floor</th>\n",
              "      <th>is_apartment</th>\n",
              "      <th>studio</th>\n",
              "      <th>open_plan</th>\n",
              "      <th>kitchen_area</th>\n",
              "      <th>balcony</th>\n",
              "      <th>locality_name</th>\n",
              "      <th>airports_nearest</th>\n",
              "      <th>cityCenters_nearest</th>\n",
              "      <th>parks_around3000</th>\n",
              "      <th>parks_nearest</th>\n",
              "      <th>ponds_around3000</th>\n",
              "      <th>ponds_nearest</th>\n",
              "      <th>days_exposition</th>\n",
              "      <th>live_coef</th>\n",
              "      <th>kitchen_coef</th>\n",
              "      <th>weekday</th>\n",
              "      <th>month</th>\n",
              "      <th>year</th>\n",
              "    </tr>\n",
              "  </thead>\n",
              "  <tbody>\n",
              "    <tr>\n",
              "      <th>0</th>\n",
              "      <td>20</td>\n",
              "      <td>13000000.0</td>\n",
              "      <td>108.0</td>\n",
              "      <td>2019-03-07</td>\n",
              "      <td>3</td>\n",
              "      <td>2.70</td>\n",
              "      <td>16.0</td>\n",
              "      <td>51.0</td>\n",
              "      <td>8</td>\n",
              "      <td>False</td>\n",
              "      <td>False</td>\n",
              "      <td>False</td>\n",
              "      <td>25.0</td>\n",
              "      <td>0.0</td>\n",
              "      <td>Санкт-Петербург</td>\n",
              "      <td>18863.0</td>\n",
              "      <td>16028.0</td>\n",
              "      <td>1.0</td>\n",
              "      <td>482.0</td>\n",
              "      <td>2.0</td>\n",
              "      <td>755.0</td>\n",
              "      <td>NaN</td>\n",
              "      <td>0.472222</td>\n",
              "      <td>0.231481</td>\n",
              "      <td>3</td>\n",
              "      <td>3</td>\n",
              "      <td>2019</td>\n",
              "    </tr>\n",
              "    <tr>\n",
              "      <th>1</th>\n",
              "      <td>7</td>\n",
              "      <td>3350000.0</td>\n",
              "      <td>40.4</td>\n",
              "      <td>2018-12-04</td>\n",
              "      <td>1</td>\n",
              "      <td>2.65</td>\n",
              "      <td>11.0</td>\n",
              "      <td>18.6</td>\n",
              "      <td>1</td>\n",
              "      <td>False</td>\n",
              "      <td>False</td>\n",
              "      <td>False</td>\n",
              "      <td>11.0</td>\n",
              "      <td>2.0</td>\n",
              "      <td>Шушары</td>\n",
              "      <td>12817.0</td>\n",
              "      <td>18603.0</td>\n",
              "      <td>0.0</td>\n",
              "      <td>NaN</td>\n",
              "      <td>0.0</td>\n",
              "      <td>584.5</td>\n",
              "      <td>81.0</td>\n",
              "      <td>0.460396</td>\n",
              "      <td>0.272277</td>\n",
              "      <td>1</td>\n",
              "      <td>12</td>\n",
              "      <td>2018</td>\n",
              "    </tr>\n",
              "    <tr>\n",
              "      <th>2</th>\n",
              "      <td>10</td>\n",
              "      <td>5196000.0</td>\n",
              "      <td>56.0</td>\n",
              "      <td>2015-08-20</td>\n",
              "      <td>2</td>\n",
              "      <td>2.65</td>\n",
              "      <td>5.0</td>\n",
              "      <td>34.3</td>\n",
              "      <td>4</td>\n",
              "      <td>False</td>\n",
              "      <td>False</td>\n",
              "      <td>False</td>\n",
              "      <td>8.3</td>\n",
              "      <td>0.0</td>\n",
              "      <td>Санкт-Петербург</td>\n",
              "      <td>21741.0</td>\n",
              "      <td>13933.0</td>\n",
              "      <td>1.0</td>\n",
              "      <td>90.0</td>\n",
              "      <td>2.0</td>\n",
              "      <td>574.0</td>\n",
              "      <td>558.0</td>\n",
              "      <td>0.612500</td>\n",
              "      <td>0.148214</td>\n",
              "      <td>3</td>\n",
              "      <td>8</td>\n",
              "      <td>2015</td>\n",
              "    </tr>\n",
              "  </tbody>\n",
              "</table>\n",
              "</div>\n",
              "      <button class=\"colab-df-convert\" onclick=\"convertToInteractive('df-27adc4e3-9009-4c12-9c05-f19f3dfaa996')\"\n",
              "              title=\"Convert this dataframe to an interactive table.\"\n",
              "              style=\"display:none;\">\n",
              "        \n",
              "  <svg xmlns=\"http://www.w3.org/2000/svg\" height=\"24px\"viewBox=\"0 0 24 24\"\n",
              "       width=\"24px\">\n",
              "    <path d=\"M0 0h24v24H0V0z\" fill=\"none\"/>\n",
              "    <path d=\"M18.56 5.44l.94 2.06.94-2.06 2.06-.94-2.06-.94-.94-2.06-.94 2.06-2.06.94zm-11 1L8.5 8.5l.94-2.06 2.06-.94-2.06-.94L8.5 2.5l-.94 2.06-2.06.94zm10 10l.94 2.06.94-2.06 2.06-.94-2.06-.94-.94-2.06-.94 2.06-2.06.94z\"/><path d=\"M17.41 7.96l-1.37-1.37c-.4-.4-.92-.59-1.43-.59-.52 0-1.04.2-1.43.59L10.3 9.45l-7.72 7.72c-.78.78-.78 2.05 0 2.83L4 21.41c.39.39.9.59 1.41.59.51 0 1.02-.2 1.41-.59l7.78-7.78 2.81-2.81c.8-.78.8-2.07 0-2.86zM5.41 20L4 18.59l7.72-7.72 1.47 1.35L5.41 20z\"/>\n",
              "  </svg>\n",
              "      </button>\n",
              "      \n",
              "  <style>\n",
              "    .colab-df-container {\n",
              "      display:flex;\n",
              "      flex-wrap:wrap;\n",
              "      gap: 12px;\n",
              "    }\n",
              "\n",
              "    .colab-df-convert {\n",
              "      background-color: #E8F0FE;\n",
              "      border: none;\n",
              "      border-radius: 50%;\n",
              "      cursor: pointer;\n",
              "      display: none;\n",
              "      fill: #1967D2;\n",
              "      height: 32px;\n",
              "      padding: 0 0 0 0;\n",
              "      width: 32px;\n",
              "    }\n",
              "\n",
              "    .colab-df-convert:hover {\n",
              "      background-color: #E2EBFA;\n",
              "      box-shadow: 0px 1px 2px rgba(60, 64, 67, 0.3), 0px 1px 3px 1px rgba(60, 64, 67, 0.15);\n",
              "      fill: #174EA6;\n",
              "    }\n",
              "\n",
              "    [theme=dark] .colab-df-convert {\n",
              "      background-color: #3B4455;\n",
              "      fill: #D2E3FC;\n",
              "    }\n",
              "\n",
              "    [theme=dark] .colab-df-convert:hover {\n",
              "      background-color: #434B5C;\n",
              "      box-shadow: 0px 1px 3px 1px rgba(0, 0, 0, 0.15);\n",
              "      filter: drop-shadow(0px 1px 2px rgba(0, 0, 0, 0.3));\n",
              "      fill: #FFFFFF;\n",
              "    }\n",
              "  </style>\n",
              "\n",
              "      <script>\n",
              "        const buttonEl =\n",
              "          document.querySelector('#df-27adc4e3-9009-4c12-9c05-f19f3dfaa996 button.colab-df-convert');\n",
              "        buttonEl.style.display =\n",
              "          google.colab.kernel.accessAllowed ? 'block' : 'none';\n",
              "\n",
              "        async function convertToInteractive(key) {\n",
              "          const element = document.querySelector('#df-27adc4e3-9009-4c12-9c05-f19f3dfaa996');\n",
              "          const dataTable =\n",
              "            await google.colab.kernel.invokeFunction('convertToInteractive',\n",
              "                                                     [key], {});\n",
              "          if (!dataTable) return;\n",
              "\n",
              "          const docLinkHtml = 'Like what you see? Visit the ' +\n",
              "            '<a target=\"_blank\" href=https://colab.research.google.com/notebooks/data_table.ipynb>data table notebook</a>'\n",
              "            + ' to learn more about interactive tables.';\n",
              "          element.innerHTML = '';\n",
              "          dataTable['output_type'] = 'display_data';\n",
              "          await google.colab.output.renderOutput(dataTable, element);\n",
              "          const docLink = document.createElement('div');\n",
              "          docLink.innerHTML = docLinkHtml;\n",
              "          element.appendChild(docLink);\n",
              "        }\n",
              "      </script>\n",
              "    </div>\n",
              "  </div>\n",
              "  "
            ],
            "text/plain": [
              "   total_images  last_price  total_area  ... weekday  month  year\n",
              "0            20  13000000.0       108.0  ...       3      3  2019\n",
              "1             7   3350000.0        40.4  ...       1     12  2018\n",
              "2            10   5196000.0        56.0  ...       3      8  2015\n",
              "\n",
              "[3 rows x 27 columns]"
            ]
          },
          "metadata": {},
          "execution_count": 33
        }
      ],
      "source": [
        "df.head(3)"
      ]
    },
    {
      "cell_type": "code",
      "execution_count": 34,
      "metadata": {
        "id": "4xy1eeAfY2wQ"
      },
      "outputs": [],
      "source": [
        "df['price_per_square_meter'] = df['last_price'] / df['total_area']"
      ]
    },
    {
      "cell_type": "code",
      "execution_count": 35,
      "metadata": {
        "colab": {
          "base_uri": "https://localhost:8080/",
          "height": 242
        },
        "id": "fxg1MgjvY2wQ",
        "outputId": "dc51cb7c-69c2-4cdb-a86e-ea38a7983065"
      },
      "outputs": [
        {
          "output_type": "execute_result",
          "data": {
            "text/html": [
              "\n",
              "  <div id=\"df-e29a033e-86c6-4ceb-9d0b-0e33b451aa3d\">\n",
              "    <div class=\"colab-df-container\">\n",
              "      <div>\n",
              "<style scoped>\n",
              "    .dataframe tbody tr th:only-of-type {\n",
              "        vertical-align: middle;\n",
              "    }\n",
              "\n",
              "    .dataframe tbody tr th {\n",
              "        vertical-align: top;\n",
              "    }\n",
              "\n",
              "    .dataframe thead th {\n",
              "        text-align: right;\n",
              "    }\n",
              "</style>\n",
              "<table border=\"1\" class=\"dataframe\">\n",
              "  <thead>\n",
              "    <tr style=\"text-align: right;\">\n",
              "      <th></th>\n",
              "      <th>total_images</th>\n",
              "      <th>last_price</th>\n",
              "      <th>total_area</th>\n",
              "      <th>first_day_exposition</th>\n",
              "      <th>rooms</th>\n",
              "      <th>ceiling_height</th>\n",
              "      <th>floors_total</th>\n",
              "      <th>living_area</th>\n",
              "      <th>floor</th>\n",
              "      <th>is_apartment</th>\n",
              "      <th>studio</th>\n",
              "      <th>open_plan</th>\n",
              "      <th>kitchen_area</th>\n",
              "      <th>balcony</th>\n",
              "      <th>locality_name</th>\n",
              "      <th>airports_nearest</th>\n",
              "      <th>cityCenters_nearest</th>\n",
              "      <th>parks_around3000</th>\n",
              "      <th>parks_nearest</th>\n",
              "      <th>ponds_around3000</th>\n",
              "      <th>ponds_nearest</th>\n",
              "      <th>days_exposition</th>\n",
              "      <th>live_coef</th>\n",
              "      <th>kitchen_coef</th>\n",
              "      <th>weekday</th>\n",
              "      <th>month</th>\n",
              "      <th>year</th>\n",
              "      <th>price_per_square_meter</th>\n",
              "    </tr>\n",
              "  </thead>\n",
              "  <tbody>\n",
              "    <tr>\n",
              "      <th>0</th>\n",
              "      <td>20</td>\n",
              "      <td>13000000.0</td>\n",
              "      <td>108.0</td>\n",
              "      <td>2019-03-07</td>\n",
              "      <td>3</td>\n",
              "      <td>2.70</td>\n",
              "      <td>16.0</td>\n",
              "      <td>51.0</td>\n",
              "      <td>8</td>\n",
              "      <td>False</td>\n",
              "      <td>False</td>\n",
              "      <td>False</td>\n",
              "      <td>25.0</td>\n",
              "      <td>0.0</td>\n",
              "      <td>Санкт-Петербург</td>\n",
              "      <td>18863.0</td>\n",
              "      <td>16028.0</td>\n",
              "      <td>1.0</td>\n",
              "      <td>482.0</td>\n",
              "      <td>2.0</td>\n",
              "      <td>755.0</td>\n",
              "      <td>NaN</td>\n",
              "      <td>0.472222</td>\n",
              "      <td>0.231481</td>\n",
              "      <td>3</td>\n",
              "      <td>3</td>\n",
              "      <td>2019</td>\n",
              "      <td>120370.370370</td>\n",
              "    </tr>\n",
              "    <tr>\n",
              "      <th>1</th>\n",
              "      <td>7</td>\n",
              "      <td>3350000.0</td>\n",
              "      <td>40.4</td>\n",
              "      <td>2018-12-04</td>\n",
              "      <td>1</td>\n",
              "      <td>2.65</td>\n",
              "      <td>11.0</td>\n",
              "      <td>18.6</td>\n",
              "      <td>1</td>\n",
              "      <td>False</td>\n",
              "      <td>False</td>\n",
              "      <td>False</td>\n",
              "      <td>11.0</td>\n",
              "      <td>2.0</td>\n",
              "      <td>Шушары</td>\n",
              "      <td>12817.0</td>\n",
              "      <td>18603.0</td>\n",
              "      <td>0.0</td>\n",
              "      <td>NaN</td>\n",
              "      <td>0.0</td>\n",
              "      <td>584.5</td>\n",
              "      <td>81.0</td>\n",
              "      <td>0.460396</td>\n",
              "      <td>0.272277</td>\n",
              "      <td>1</td>\n",
              "      <td>12</td>\n",
              "      <td>2018</td>\n",
              "      <td>82920.792079</td>\n",
              "    </tr>\n",
              "    <tr>\n",
              "      <th>2</th>\n",
              "      <td>10</td>\n",
              "      <td>5196000.0</td>\n",
              "      <td>56.0</td>\n",
              "      <td>2015-08-20</td>\n",
              "      <td>2</td>\n",
              "      <td>2.65</td>\n",
              "      <td>5.0</td>\n",
              "      <td>34.3</td>\n",
              "      <td>4</td>\n",
              "      <td>False</td>\n",
              "      <td>False</td>\n",
              "      <td>False</td>\n",
              "      <td>8.3</td>\n",
              "      <td>0.0</td>\n",
              "      <td>Санкт-Петербург</td>\n",
              "      <td>21741.0</td>\n",
              "      <td>13933.0</td>\n",
              "      <td>1.0</td>\n",
              "      <td>90.0</td>\n",
              "      <td>2.0</td>\n",
              "      <td>574.0</td>\n",
              "      <td>558.0</td>\n",
              "      <td>0.612500</td>\n",
              "      <td>0.148214</td>\n",
              "      <td>3</td>\n",
              "      <td>8</td>\n",
              "      <td>2015</td>\n",
              "      <td>92785.714286</td>\n",
              "    </tr>\n",
              "  </tbody>\n",
              "</table>\n",
              "</div>\n",
              "      <button class=\"colab-df-convert\" onclick=\"convertToInteractive('df-e29a033e-86c6-4ceb-9d0b-0e33b451aa3d')\"\n",
              "              title=\"Convert this dataframe to an interactive table.\"\n",
              "              style=\"display:none;\">\n",
              "        \n",
              "  <svg xmlns=\"http://www.w3.org/2000/svg\" height=\"24px\"viewBox=\"0 0 24 24\"\n",
              "       width=\"24px\">\n",
              "    <path d=\"M0 0h24v24H0V0z\" fill=\"none\"/>\n",
              "    <path d=\"M18.56 5.44l.94 2.06.94-2.06 2.06-.94-2.06-.94-.94-2.06-.94 2.06-2.06.94zm-11 1L8.5 8.5l.94-2.06 2.06-.94-2.06-.94L8.5 2.5l-.94 2.06-2.06.94zm10 10l.94 2.06.94-2.06 2.06-.94-2.06-.94-.94-2.06-.94 2.06-2.06.94z\"/><path d=\"M17.41 7.96l-1.37-1.37c-.4-.4-.92-.59-1.43-.59-.52 0-1.04.2-1.43.59L10.3 9.45l-7.72 7.72c-.78.78-.78 2.05 0 2.83L4 21.41c.39.39.9.59 1.41.59.51 0 1.02-.2 1.41-.59l7.78-7.78 2.81-2.81c.8-.78.8-2.07 0-2.86zM5.41 20L4 18.59l7.72-7.72 1.47 1.35L5.41 20z\"/>\n",
              "  </svg>\n",
              "      </button>\n",
              "      \n",
              "  <style>\n",
              "    .colab-df-container {\n",
              "      display:flex;\n",
              "      flex-wrap:wrap;\n",
              "      gap: 12px;\n",
              "    }\n",
              "\n",
              "    .colab-df-convert {\n",
              "      background-color: #E8F0FE;\n",
              "      border: none;\n",
              "      border-radius: 50%;\n",
              "      cursor: pointer;\n",
              "      display: none;\n",
              "      fill: #1967D2;\n",
              "      height: 32px;\n",
              "      padding: 0 0 0 0;\n",
              "      width: 32px;\n",
              "    }\n",
              "\n",
              "    .colab-df-convert:hover {\n",
              "      background-color: #E2EBFA;\n",
              "      box-shadow: 0px 1px 2px rgba(60, 64, 67, 0.3), 0px 1px 3px 1px rgba(60, 64, 67, 0.15);\n",
              "      fill: #174EA6;\n",
              "    }\n",
              "\n",
              "    [theme=dark] .colab-df-convert {\n",
              "      background-color: #3B4455;\n",
              "      fill: #D2E3FC;\n",
              "    }\n",
              "\n",
              "    [theme=dark] .colab-df-convert:hover {\n",
              "      background-color: #434B5C;\n",
              "      box-shadow: 0px 1px 3px 1px rgba(0, 0, 0, 0.15);\n",
              "      filter: drop-shadow(0px 1px 2px rgba(0, 0, 0, 0.3));\n",
              "      fill: #FFFFFF;\n",
              "    }\n",
              "  </style>\n",
              "\n",
              "      <script>\n",
              "        const buttonEl =\n",
              "          document.querySelector('#df-e29a033e-86c6-4ceb-9d0b-0e33b451aa3d button.colab-df-convert');\n",
              "        buttonEl.style.display =\n",
              "          google.colab.kernel.accessAllowed ? 'block' : 'none';\n",
              "\n",
              "        async function convertToInteractive(key) {\n",
              "          const element = document.querySelector('#df-e29a033e-86c6-4ceb-9d0b-0e33b451aa3d');\n",
              "          const dataTable =\n",
              "            await google.colab.kernel.invokeFunction('convertToInteractive',\n",
              "                                                     [key], {});\n",
              "          if (!dataTable) return;\n",
              "\n",
              "          const docLinkHtml = 'Like what you see? Visit the ' +\n",
              "            '<a target=\"_blank\" href=https://colab.research.google.com/notebooks/data_table.ipynb>data table notebook</a>'\n",
              "            + ' to learn more about interactive tables.';\n",
              "          element.innerHTML = '';\n",
              "          dataTable['output_type'] = 'display_data';\n",
              "          await google.colab.output.renderOutput(dataTable, element);\n",
              "          const docLink = document.createElement('div');\n",
              "          docLink.innerHTML = docLinkHtml;\n",
              "          element.appendChild(docLink);\n",
              "        }\n",
              "      </script>\n",
              "    </div>\n",
              "  </div>\n",
              "  "
            ],
            "text/plain": [
              "   total_images  last_price  total_area  ... month  year  price_per_square_meter\n",
              "0            20  13000000.0       108.0  ...     3  2019           120370.370370\n",
              "1             7   3350000.0        40.4  ...    12  2018            82920.792079\n",
              "2            10   5196000.0        56.0  ...     8  2015            92785.714286\n",
              "\n",
              "[3 rows x 28 columns]"
            ]
          },
          "metadata": {},
          "execution_count": 35
        }
      ],
      "source": [
        "df.head(3)"
      ]
    },
    {
      "cell_type": "code",
      "execution_count": 36,
      "metadata": {
        "id": "UN7j4IHXY2wQ"
      },
      "outputs": [],
      "source": [
        "df['proportion_living_to_total_area'] = df['living_area'] / df['total_area']\n",
        "\n",
        "df['proportion_kitchen_to_total_area'] = df['kitchen_area'] / df['total_area']"
      ]
    },
    {
      "cell_type": "code",
      "execution_count": 37,
      "metadata": {
        "colab": {
          "base_uri": "https://localhost:8080/",
          "height": 242
        },
        "id": "24nHwGJRY2wR",
        "outputId": "539d06a5-feb7-4b3b-b597-5a066f667299"
      },
      "outputs": [
        {
          "output_type": "execute_result",
          "data": {
            "text/html": [
              "\n",
              "  <div id=\"df-cbab246c-d132-4588-b2de-bb124f0191d0\">\n",
              "    <div class=\"colab-df-container\">\n",
              "      <div>\n",
              "<style scoped>\n",
              "    .dataframe tbody tr th:only-of-type {\n",
              "        vertical-align: middle;\n",
              "    }\n",
              "\n",
              "    .dataframe tbody tr th {\n",
              "        vertical-align: top;\n",
              "    }\n",
              "\n",
              "    .dataframe thead th {\n",
              "        text-align: right;\n",
              "    }\n",
              "</style>\n",
              "<table border=\"1\" class=\"dataframe\">\n",
              "  <thead>\n",
              "    <tr style=\"text-align: right;\">\n",
              "      <th></th>\n",
              "      <th>total_images</th>\n",
              "      <th>last_price</th>\n",
              "      <th>total_area</th>\n",
              "      <th>first_day_exposition</th>\n",
              "      <th>rooms</th>\n",
              "      <th>ceiling_height</th>\n",
              "      <th>floors_total</th>\n",
              "      <th>living_area</th>\n",
              "      <th>floor</th>\n",
              "      <th>is_apartment</th>\n",
              "      <th>studio</th>\n",
              "      <th>open_plan</th>\n",
              "      <th>kitchen_area</th>\n",
              "      <th>balcony</th>\n",
              "      <th>locality_name</th>\n",
              "      <th>airports_nearest</th>\n",
              "      <th>cityCenters_nearest</th>\n",
              "      <th>parks_around3000</th>\n",
              "      <th>parks_nearest</th>\n",
              "      <th>ponds_around3000</th>\n",
              "      <th>ponds_nearest</th>\n",
              "      <th>days_exposition</th>\n",
              "      <th>live_coef</th>\n",
              "      <th>kitchen_coef</th>\n",
              "      <th>weekday</th>\n",
              "      <th>month</th>\n",
              "      <th>year</th>\n",
              "      <th>price_per_square_meter</th>\n",
              "      <th>proportion_living_to_total_area</th>\n",
              "      <th>proportion_kitchen_to_total_area</th>\n",
              "    </tr>\n",
              "  </thead>\n",
              "  <tbody>\n",
              "    <tr>\n",
              "      <th>0</th>\n",
              "      <td>20</td>\n",
              "      <td>13000000.0</td>\n",
              "      <td>108.0</td>\n",
              "      <td>2019-03-07</td>\n",
              "      <td>3</td>\n",
              "      <td>2.70</td>\n",
              "      <td>16.0</td>\n",
              "      <td>51.0</td>\n",
              "      <td>8</td>\n",
              "      <td>False</td>\n",
              "      <td>False</td>\n",
              "      <td>False</td>\n",
              "      <td>25.0</td>\n",
              "      <td>0.0</td>\n",
              "      <td>Санкт-Петербург</td>\n",
              "      <td>18863.0</td>\n",
              "      <td>16028.0</td>\n",
              "      <td>1.0</td>\n",
              "      <td>482.0</td>\n",
              "      <td>2.0</td>\n",
              "      <td>755.0</td>\n",
              "      <td>NaN</td>\n",
              "      <td>0.472222</td>\n",
              "      <td>0.231481</td>\n",
              "      <td>3</td>\n",
              "      <td>3</td>\n",
              "      <td>2019</td>\n",
              "      <td>120370.370370</td>\n",
              "      <td>0.472222</td>\n",
              "      <td>0.231481</td>\n",
              "    </tr>\n",
              "    <tr>\n",
              "      <th>1</th>\n",
              "      <td>7</td>\n",
              "      <td>3350000.0</td>\n",
              "      <td>40.4</td>\n",
              "      <td>2018-12-04</td>\n",
              "      <td>1</td>\n",
              "      <td>2.65</td>\n",
              "      <td>11.0</td>\n",
              "      <td>18.6</td>\n",
              "      <td>1</td>\n",
              "      <td>False</td>\n",
              "      <td>False</td>\n",
              "      <td>False</td>\n",
              "      <td>11.0</td>\n",
              "      <td>2.0</td>\n",
              "      <td>Шушары</td>\n",
              "      <td>12817.0</td>\n",
              "      <td>18603.0</td>\n",
              "      <td>0.0</td>\n",
              "      <td>NaN</td>\n",
              "      <td>0.0</td>\n",
              "      <td>584.5</td>\n",
              "      <td>81.0</td>\n",
              "      <td>0.460396</td>\n",
              "      <td>0.272277</td>\n",
              "      <td>1</td>\n",
              "      <td>12</td>\n",
              "      <td>2018</td>\n",
              "      <td>82920.792079</td>\n",
              "      <td>0.460396</td>\n",
              "      <td>0.272277</td>\n",
              "    </tr>\n",
              "    <tr>\n",
              "      <th>2</th>\n",
              "      <td>10</td>\n",
              "      <td>5196000.0</td>\n",
              "      <td>56.0</td>\n",
              "      <td>2015-08-20</td>\n",
              "      <td>2</td>\n",
              "      <td>2.65</td>\n",
              "      <td>5.0</td>\n",
              "      <td>34.3</td>\n",
              "      <td>4</td>\n",
              "      <td>False</td>\n",
              "      <td>False</td>\n",
              "      <td>False</td>\n",
              "      <td>8.3</td>\n",
              "      <td>0.0</td>\n",
              "      <td>Санкт-Петербург</td>\n",
              "      <td>21741.0</td>\n",
              "      <td>13933.0</td>\n",
              "      <td>1.0</td>\n",
              "      <td>90.0</td>\n",
              "      <td>2.0</td>\n",
              "      <td>574.0</td>\n",
              "      <td>558.0</td>\n",
              "      <td>0.612500</td>\n",
              "      <td>0.148214</td>\n",
              "      <td>3</td>\n",
              "      <td>8</td>\n",
              "      <td>2015</td>\n",
              "      <td>92785.714286</td>\n",
              "      <td>0.612500</td>\n",
              "      <td>0.148214</td>\n",
              "    </tr>\n",
              "  </tbody>\n",
              "</table>\n",
              "</div>\n",
              "      <button class=\"colab-df-convert\" onclick=\"convertToInteractive('df-cbab246c-d132-4588-b2de-bb124f0191d0')\"\n",
              "              title=\"Convert this dataframe to an interactive table.\"\n",
              "              style=\"display:none;\">\n",
              "        \n",
              "  <svg xmlns=\"http://www.w3.org/2000/svg\" height=\"24px\"viewBox=\"0 0 24 24\"\n",
              "       width=\"24px\">\n",
              "    <path d=\"M0 0h24v24H0V0z\" fill=\"none\"/>\n",
              "    <path d=\"M18.56 5.44l.94 2.06.94-2.06 2.06-.94-2.06-.94-.94-2.06-.94 2.06-2.06.94zm-11 1L8.5 8.5l.94-2.06 2.06-.94-2.06-.94L8.5 2.5l-.94 2.06-2.06.94zm10 10l.94 2.06.94-2.06 2.06-.94-2.06-.94-.94-2.06-.94 2.06-2.06.94z\"/><path d=\"M17.41 7.96l-1.37-1.37c-.4-.4-.92-.59-1.43-.59-.52 0-1.04.2-1.43.59L10.3 9.45l-7.72 7.72c-.78.78-.78 2.05 0 2.83L4 21.41c.39.39.9.59 1.41.59.51 0 1.02-.2 1.41-.59l7.78-7.78 2.81-2.81c.8-.78.8-2.07 0-2.86zM5.41 20L4 18.59l7.72-7.72 1.47 1.35L5.41 20z\"/>\n",
              "  </svg>\n",
              "      </button>\n",
              "      \n",
              "  <style>\n",
              "    .colab-df-container {\n",
              "      display:flex;\n",
              "      flex-wrap:wrap;\n",
              "      gap: 12px;\n",
              "    }\n",
              "\n",
              "    .colab-df-convert {\n",
              "      background-color: #E8F0FE;\n",
              "      border: none;\n",
              "      border-radius: 50%;\n",
              "      cursor: pointer;\n",
              "      display: none;\n",
              "      fill: #1967D2;\n",
              "      height: 32px;\n",
              "      padding: 0 0 0 0;\n",
              "      width: 32px;\n",
              "    }\n",
              "\n",
              "    .colab-df-convert:hover {\n",
              "      background-color: #E2EBFA;\n",
              "      box-shadow: 0px 1px 2px rgba(60, 64, 67, 0.3), 0px 1px 3px 1px rgba(60, 64, 67, 0.15);\n",
              "      fill: #174EA6;\n",
              "    }\n",
              "\n",
              "    [theme=dark] .colab-df-convert {\n",
              "      background-color: #3B4455;\n",
              "      fill: #D2E3FC;\n",
              "    }\n",
              "\n",
              "    [theme=dark] .colab-df-convert:hover {\n",
              "      background-color: #434B5C;\n",
              "      box-shadow: 0px 1px 3px 1px rgba(0, 0, 0, 0.15);\n",
              "      filter: drop-shadow(0px 1px 2px rgba(0, 0, 0, 0.3));\n",
              "      fill: #FFFFFF;\n",
              "    }\n",
              "  </style>\n",
              "\n",
              "      <script>\n",
              "        const buttonEl =\n",
              "          document.querySelector('#df-cbab246c-d132-4588-b2de-bb124f0191d0 button.colab-df-convert');\n",
              "        buttonEl.style.display =\n",
              "          google.colab.kernel.accessAllowed ? 'block' : 'none';\n",
              "\n",
              "        async function convertToInteractive(key) {\n",
              "          const element = document.querySelector('#df-cbab246c-d132-4588-b2de-bb124f0191d0');\n",
              "          const dataTable =\n",
              "            await google.colab.kernel.invokeFunction('convertToInteractive',\n",
              "                                                     [key], {});\n",
              "          if (!dataTable) return;\n",
              "\n",
              "          const docLinkHtml = 'Like what you see? Visit the ' +\n",
              "            '<a target=\"_blank\" href=https://colab.research.google.com/notebooks/data_table.ipynb>data table notebook</a>'\n",
              "            + ' to learn more about interactive tables.';\n",
              "          element.innerHTML = '';\n",
              "          dataTable['output_type'] = 'display_data';\n",
              "          await google.colab.output.renderOutput(dataTable, element);\n",
              "          const docLink = document.createElement('div');\n",
              "          docLink.innerHTML = docLinkHtml;\n",
              "          element.appendChild(docLink);\n",
              "        }\n",
              "      </script>\n",
              "    </div>\n",
              "  </div>\n",
              "  "
            ],
            "text/plain": [
              "   total_images  ...  proportion_kitchen_to_total_area\n",
              "0            20  ...                          0.231481\n",
              "1             7  ...                          0.272277\n",
              "2            10  ...                          0.148214\n",
              "\n",
              "[3 rows x 30 columns]"
            ]
          },
          "metadata": {},
          "execution_count": 37
        }
      ],
      "source": [
        "df.head(3)"
      ]
    },
    {
      "cell_type": "code",
      "execution_count": 38,
      "metadata": {
        "id": "RB1kUUPPY2wR"
      },
      "outputs": [],
      "source": [
        "def floor_category(row): # function for adding a nubmer of floor: first, last or other. It will add in a new column\n",
        "    if row['floor'] == 1:\n",
        "        return 'первый'\n",
        "    elif row['floor'] == row['floors_total']:\n",
        "        return 'последний'\n",
        "    else:\n",
        "        return 'другой'\n",
        "df['floor_category'] = df.apply(floor_category, axis=1)"
      ]
    },
    {
      "cell_type": "code",
      "execution_count": 39,
      "metadata": {
        "colab": {
          "base_uri": "https://localhost:8080/",
          "height": 242
        },
        "id": "UXqN9gtRY2wR",
        "outputId": "3e88995d-9c70-4553-ce0e-881c685892f8"
      },
      "outputs": [
        {
          "output_type": "execute_result",
          "data": {
            "text/html": [
              "\n",
              "  <div id=\"df-4f033ea3-5542-4b89-b0c1-abdd09d55db7\">\n",
              "    <div class=\"colab-df-container\">\n",
              "      <div>\n",
              "<style scoped>\n",
              "    .dataframe tbody tr th:only-of-type {\n",
              "        vertical-align: middle;\n",
              "    }\n",
              "\n",
              "    .dataframe tbody tr th {\n",
              "        vertical-align: top;\n",
              "    }\n",
              "\n",
              "    .dataframe thead th {\n",
              "        text-align: right;\n",
              "    }\n",
              "</style>\n",
              "<table border=\"1\" class=\"dataframe\">\n",
              "  <thead>\n",
              "    <tr style=\"text-align: right;\">\n",
              "      <th></th>\n",
              "      <th>total_images</th>\n",
              "      <th>last_price</th>\n",
              "      <th>total_area</th>\n",
              "      <th>first_day_exposition</th>\n",
              "      <th>rooms</th>\n",
              "      <th>ceiling_height</th>\n",
              "      <th>floors_total</th>\n",
              "      <th>living_area</th>\n",
              "      <th>floor</th>\n",
              "      <th>is_apartment</th>\n",
              "      <th>studio</th>\n",
              "      <th>open_plan</th>\n",
              "      <th>kitchen_area</th>\n",
              "      <th>balcony</th>\n",
              "      <th>locality_name</th>\n",
              "      <th>airports_nearest</th>\n",
              "      <th>cityCenters_nearest</th>\n",
              "      <th>parks_around3000</th>\n",
              "      <th>parks_nearest</th>\n",
              "      <th>ponds_around3000</th>\n",
              "      <th>ponds_nearest</th>\n",
              "      <th>days_exposition</th>\n",
              "      <th>live_coef</th>\n",
              "      <th>kitchen_coef</th>\n",
              "      <th>weekday</th>\n",
              "      <th>month</th>\n",
              "      <th>year</th>\n",
              "      <th>price_per_square_meter</th>\n",
              "      <th>proportion_living_to_total_area</th>\n",
              "      <th>proportion_kitchen_to_total_area</th>\n",
              "      <th>floor_category</th>\n",
              "    </tr>\n",
              "  </thead>\n",
              "  <tbody>\n",
              "    <tr>\n",
              "      <th>0</th>\n",
              "      <td>20</td>\n",
              "      <td>13000000.0</td>\n",
              "      <td>108.0</td>\n",
              "      <td>2019-03-07</td>\n",
              "      <td>3</td>\n",
              "      <td>2.70</td>\n",
              "      <td>16.0</td>\n",
              "      <td>51.0</td>\n",
              "      <td>8</td>\n",
              "      <td>False</td>\n",
              "      <td>False</td>\n",
              "      <td>False</td>\n",
              "      <td>25.0</td>\n",
              "      <td>0.0</td>\n",
              "      <td>Санкт-Петербург</td>\n",
              "      <td>18863.0</td>\n",
              "      <td>16028.0</td>\n",
              "      <td>1.0</td>\n",
              "      <td>482.0</td>\n",
              "      <td>2.0</td>\n",
              "      <td>755.0</td>\n",
              "      <td>NaN</td>\n",
              "      <td>0.472222</td>\n",
              "      <td>0.231481</td>\n",
              "      <td>3</td>\n",
              "      <td>3</td>\n",
              "      <td>2019</td>\n",
              "      <td>120370.370370</td>\n",
              "      <td>0.472222</td>\n",
              "      <td>0.231481</td>\n",
              "      <td>другой</td>\n",
              "    </tr>\n",
              "    <tr>\n",
              "      <th>1</th>\n",
              "      <td>7</td>\n",
              "      <td>3350000.0</td>\n",
              "      <td>40.4</td>\n",
              "      <td>2018-12-04</td>\n",
              "      <td>1</td>\n",
              "      <td>2.65</td>\n",
              "      <td>11.0</td>\n",
              "      <td>18.6</td>\n",
              "      <td>1</td>\n",
              "      <td>False</td>\n",
              "      <td>False</td>\n",
              "      <td>False</td>\n",
              "      <td>11.0</td>\n",
              "      <td>2.0</td>\n",
              "      <td>Шушары</td>\n",
              "      <td>12817.0</td>\n",
              "      <td>18603.0</td>\n",
              "      <td>0.0</td>\n",
              "      <td>NaN</td>\n",
              "      <td>0.0</td>\n",
              "      <td>584.5</td>\n",
              "      <td>81.0</td>\n",
              "      <td>0.460396</td>\n",
              "      <td>0.272277</td>\n",
              "      <td>1</td>\n",
              "      <td>12</td>\n",
              "      <td>2018</td>\n",
              "      <td>82920.792079</td>\n",
              "      <td>0.460396</td>\n",
              "      <td>0.272277</td>\n",
              "      <td>первый</td>\n",
              "    </tr>\n",
              "    <tr>\n",
              "      <th>2</th>\n",
              "      <td>10</td>\n",
              "      <td>5196000.0</td>\n",
              "      <td>56.0</td>\n",
              "      <td>2015-08-20</td>\n",
              "      <td>2</td>\n",
              "      <td>2.65</td>\n",
              "      <td>5.0</td>\n",
              "      <td>34.3</td>\n",
              "      <td>4</td>\n",
              "      <td>False</td>\n",
              "      <td>False</td>\n",
              "      <td>False</td>\n",
              "      <td>8.3</td>\n",
              "      <td>0.0</td>\n",
              "      <td>Санкт-Петербург</td>\n",
              "      <td>21741.0</td>\n",
              "      <td>13933.0</td>\n",
              "      <td>1.0</td>\n",
              "      <td>90.0</td>\n",
              "      <td>2.0</td>\n",
              "      <td>574.0</td>\n",
              "      <td>558.0</td>\n",
              "      <td>0.612500</td>\n",
              "      <td>0.148214</td>\n",
              "      <td>3</td>\n",
              "      <td>8</td>\n",
              "      <td>2015</td>\n",
              "      <td>92785.714286</td>\n",
              "      <td>0.612500</td>\n",
              "      <td>0.148214</td>\n",
              "      <td>другой</td>\n",
              "    </tr>\n",
              "  </tbody>\n",
              "</table>\n",
              "</div>\n",
              "      <button class=\"colab-df-convert\" onclick=\"convertToInteractive('df-4f033ea3-5542-4b89-b0c1-abdd09d55db7')\"\n",
              "              title=\"Convert this dataframe to an interactive table.\"\n",
              "              style=\"display:none;\">\n",
              "        \n",
              "  <svg xmlns=\"http://www.w3.org/2000/svg\" height=\"24px\"viewBox=\"0 0 24 24\"\n",
              "       width=\"24px\">\n",
              "    <path d=\"M0 0h24v24H0V0z\" fill=\"none\"/>\n",
              "    <path d=\"M18.56 5.44l.94 2.06.94-2.06 2.06-.94-2.06-.94-.94-2.06-.94 2.06-2.06.94zm-11 1L8.5 8.5l.94-2.06 2.06-.94-2.06-.94L8.5 2.5l-.94 2.06-2.06.94zm10 10l.94 2.06.94-2.06 2.06-.94-2.06-.94-.94-2.06-.94 2.06-2.06.94z\"/><path d=\"M17.41 7.96l-1.37-1.37c-.4-.4-.92-.59-1.43-.59-.52 0-1.04.2-1.43.59L10.3 9.45l-7.72 7.72c-.78.78-.78 2.05 0 2.83L4 21.41c.39.39.9.59 1.41.59.51 0 1.02-.2 1.41-.59l7.78-7.78 2.81-2.81c.8-.78.8-2.07 0-2.86zM5.41 20L4 18.59l7.72-7.72 1.47 1.35L5.41 20z\"/>\n",
              "  </svg>\n",
              "      </button>\n",
              "      \n",
              "  <style>\n",
              "    .colab-df-container {\n",
              "      display:flex;\n",
              "      flex-wrap:wrap;\n",
              "      gap: 12px;\n",
              "    }\n",
              "\n",
              "    .colab-df-convert {\n",
              "      background-color: #E8F0FE;\n",
              "      border: none;\n",
              "      border-radius: 50%;\n",
              "      cursor: pointer;\n",
              "      display: none;\n",
              "      fill: #1967D2;\n",
              "      height: 32px;\n",
              "      padding: 0 0 0 0;\n",
              "      width: 32px;\n",
              "    }\n",
              "\n",
              "    .colab-df-convert:hover {\n",
              "      background-color: #E2EBFA;\n",
              "      box-shadow: 0px 1px 2px rgba(60, 64, 67, 0.3), 0px 1px 3px 1px rgba(60, 64, 67, 0.15);\n",
              "      fill: #174EA6;\n",
              "    }\n",
              "\n",
              "    [theme=dark] .colab-df-convert {\n",
              "      background-color: #3B4455;\n",
              "      fill: #D2E3FC;\n",
              "    }\n",
              "\n",
              "    [theme=dark] .colab-df-convert:hover {\n",
              "      background-color: #434B5C;\n",
              "      box-shadow: 0px 1px 3px 1px rgba(0, 0, 0, 0.15);\n",
              "      filter: drop-shadow(0px 1px 2px rgba(0, 0, 0, 0.3));\n",
              "      fill: #FFFFFF;\n",
              "    }\n",
              "  </style>\n",
              "\n",
              "      <script>\n",
              "        const buttonEl =\n",
              "          document.querySelector('#df-4f033ea3-5542-4b89-b0c1-abdd09d55db7 button.colab-df-convert');\n",
              "        buttonEl.style.display =\n",
              "          google.colab.kernel.accessAllowed ? 'block' : 'none';\n",
              "\n",
              "        async function convertToInteractive(key) {\n",
              "          const element = document.querySelector('#df-4f033ea3-5542-4b89-b0c1-abdd09d55db7');\n",
              "          const dataTable =\n",
              "            await google.colab.kernel.invokeFunction('convertToInteractive',\n",
              "                                                     [key], {});\n",
              "          if (!dataTable) return;\n",
              "\n",
              "          const docLinkHtml = 'Like what you see? Visit the ' +\n",
              "            '<a target=\"_blank\" href=https://colab.research.google.com/notebooks/data_table.ipynb>data table notebook</a>'\n",
              "            + ' to learn more about interactive tables.';\n",
              "          element.innerHTML = '';\n",
              "          dataTable['output_type'] = 'display_data';\n",
              "          await google.colab.output.renderOutput(dataTable, element);\n",
              "          const docLink = document.createElement('div');\n",
              "          docLink.innerHTML = docLinkHtml;\n",
              "          element.appendChild(docLink);\n",
              "        }\n",
              "      </script>\n",
              "    </div>\n",
              "  </div>\n",
              "  "
            ],
            "text/plain": [
              "   total_images  last_price  ...  proportion_kitchen_to_total_area floor_category\n",
              "0            20  13000000.0  ...                          0.231481         другой\n",
              "1             7   3350000.0  ...                          0.272277         первый\n",
              "2            10   5196000.0  ...                          0.148214         другой\n",
              "\n",
              "[3 rows x 31 columns]"
            ]
          },
          "metadata": {},
          "execution_count": 39
        }
      ],
      "source": [
        "df.head(3)"
      ]
    },
    {
      "cell_type": "code",
      "execution_count": 40,
      "metadata": {
        "colab": {
          "base_uri": "https://localhost:8080/"
        },
        "id": "oXWIF7ERY2wR",
        "outputId": "b9f65f74-ed89-4313-c9f3-0db0e671ef98"
      },
      "outputs": [
        {
          "output_type": "stream",
          "name": "stdout",
          "text": [
            "<class 'pandas.core.frame.DataFrame'>\n",
            "Int64Index: 23565 entries, 0 to 23698\n",
            "Data columns (total 31 columns):\n",
            " #   Column                            Non-Null Count  Dtype         \n",
            "---  ------                            --------------  -----         \n",
            " 0   total_images                      23565 non-null  int64         \n",
            " 1   last_price                        23565 non-null  float64       \n",
            " 2   total_area                        23565 non-null  float64       \n",
            " 3   first_day_exposition              23565 non-null  datetime64[ns]\n",
            " 4   rooms                             23565 non-null  int64         \n",
            " 5   ceiling_height                    23565 non-null  float64       \n",
            " 6   floors_total                      23565 non-null  float64       \n",
            " 7   living_area                       23565 non-null  float64       \n",
            " 8   floor                             23565 non-null  int64         \n",
            " 9   is_apartment                      23565 non-null  bool          \n",
            " 10  studio                            23565 non-null  bool          \n",
            " 11  open_plan                         23565 non-null  bool          \n",
            " 12  kitchen_area                      23565 non-null  float64       \n",
            " 13  balcony                           23565 non-null  float64       \n",
            " 14  locality_name                     23565 non-null  object        \n",
            " 15  airports_nearest                  18133 non-null  float64       \n",
            " 16  cityCenters_nearest               18133 non-null  float64       \n",
            " 17  parks_around3000                  18133 non-null  float64       \n",
            " 18  parks_nearest                     17579 non-null  float64       \n",
            " 19  ponds_around3000                  18065 non-null  float64       \n",
            " 20  ponds_nearest                     18048 non-null  float64       \n",
            " 21  days_exposition                   20394 non-null  float64       \n",
            " 22  live_coef                         23565 non-null  float64       \n",
            " 23  kitchen_coef                      23565 non-null  float64       \n",
            " 24  weekday                           23565 non-null  int64         \n",
            " 25  month                             23565 non-null  int64         \n",
            " 26  year                              23565 non-null  int64         \n",
            " 27  price_per_square_meter            23565 non-null  float64       \n",
            " 28  proportion_living_to_total_area   23565 non-null  float64       \n",
            " 29  proportion_kitchen_to_total_area  23565 non-null  float64       \n",
            " 30  floor_category                    23565 non-null  object        \n",
            "dtypes: bool(3), datetime64[ns](1), float64(19), int64(6), object(2)\n",
            "memory usage: 5.3+ MB\n"
          ]
        }
      ],
      "source": [
        "df.info()"
      ]
    },
    {
      "cell_type": "code",
      "execution_count": 41,
      "metadata": {
        "id": "-rNj-3lfY2wS"
      },
      "outputs": [],
      "source": [
        "df[['total_area', 'ceiling_height', 'living_area', 'kitchen_area', 'price_per_square_meter']] = df[['total_area', 'ceiling_height', 'living_area', 'kitchen_area', 'price_per_square_meter']].astype(int)"
      ]
    },
    {
      "cell_type": "code",
      "execution_count": 42,
      "metadata": {
        "colab": {
          "base_uri": "https://localhost:8080/"
        },
        "id": "gBSIVw7hY2wS",
        "outputId": "68e53b03-c310-4736-d96f-14497857d594"
      },
      "outputs": [
        {
          "output_type": "stream",
          "name": "stdout",
          "text": [
            "<class 'pandas.core.frame.DataFrame'>\n",
            "Int64Index: 23565 entries, 0 to 23698\n",
            "Data columns (total 31 columns):\n",
            " #   Column                            Non-Null Count  Dtype         \n",
            "---  ------                            --------------  -----         \n",
            " 0   total_images                      23565 non-null  int64         \n",
            " 1   last_price                        23565 non-null  float64       \n",
            " 2   total_area                        23565 non-null  int64         \n",
            " 3   first_day_exposition              23565 non-null  datetime64[ns]\n",
            " 4   rooms                             23565 non-null  int64         \n",
            " 5   ceiling_height                    23565 non-null  int64         \n",
            " 6   floors_total                      23565 non-null  float64       \n",
            " 7   living_area                       23565 non-null  int64         \n",
            " 8   floor                             23565 non-null  int64         \n",
            " 9   is_apartment                      23565 non-null  bool          \n",
            " 10  studio                            23565 non-null  bool          \n",
            " 11  open_plan                         23565 non-null  bool          \n",
            " 12  kitchen_area                      23565 non-null  int64         \n",
            " 13  balcony                           23565 non-null  float64       \n",
            " 14  locality_name                     23565 non-null  object        \n",
            " 15  airports_nearest                  18133 non-null  float64       \n",
            " 16  cityCenters_nearest               18133 non-null  float64       \n",
            " 17  parks_around3000                  18133 non-null  float64       \n",
            " 18  parks_nearest                     17579 non-null  float64       \n",
            " 19  ponds_around3000                  18065 non-null  float64       \n",
            " 20  ponds_nearest                     18048 non-null  float64       \n",
            " 21  days_exposition                   20394 non-null  float64       \n",
            " 22  live_coef                         23565 non-null  float64       \n",
            " 23  kitchen_coef                      23565 non-null  float64       \n",
            " 24  weekday                           23565 non-null  int64         \n",
            " 25  month                             23565 non-null  int64         \n",
            " 26  year                              23565 non-null  int64         \n",
            " 27  price_per_square_meter            23565 non-null  int64         \n",
            " 28  proportion_living_to_total_area   23565 non-null  float64       \n",
            " 29  proportion_kitchen_to_total_area  23565 non-null  float64       \n",
            " 30  floor_category                    23565 non-null  object        \n",
            "dtypes: bool(3), datetime64[ns](1), float64(14), int64(11), object(2)\n",
            "memory usage: 5.3+ MB\n"
          ]
        }
      ],
      "source": [
        "df.info()"
      ]
    },
    {
      "cell_type": "markdown",
      "metadata": {
        "id": "oX81NQzAY2wT"
      },
      "source": [
        "## Exploratory data analysis"
      ]
    },
    {
      "cell_type": "code",
      "execution_count": 43,
      "metadata": {
        "colab": {
          "base_uri": "https://localhost:8080/",
          "height": 1000
        },
        "id": "Xl88MbesY2wT",
        "outputId": "05f1c24e-6b14-4f79-9e31-cbd9a49af582"
      },
      "outputs": [
        {
          "output_type": "display_data",
          "data": {
            "image/png": "[encoded data removed]",
            "text/plain": [
              "<Figure size 432x288 with 1 Axes>"
            ]
          },
          "metadata": {
            "needs_background": "light"
          }
        },
        {
          "output_type": "display_data",
          "data": {
            "image/png": "[encoded data removed]",
            "text/plain": [
              "<Figure size 432x288 with 1 Axes>"
            ]
          },
          "metadata": {
            "needs_background": "light"
          }
        },
        {
          "output_type": "display_data",
          "data": {
            "image/png": "[encoded data removed]",
            "text/plain": [
              "<Figure size 432x288 with 1 Axes>"
            ]
          },
          "metadata": {
            "needs_background": "light"
          }
        },
        {
          "output_type": "display_data",
          "data": {
            "image/png": "[encoded data removed]",
            "text/plain": [
              "<Figure size 432x288 with 1 Axes>"
            ]
          },
          "metadata": {
            "needs_background": "light"
          }
        },
        {
          "output_type": "display_data",
          "data": {
            "image/png": "[encoded data removed]",
            "text/plain": [
              "<Figure size 432x288 with 1 Axes>"
            ]
          },
          "metadata": {
            "needs_background": "light"
          }
        },
        {
          "output_type": "display_data",
          "data": {
            "image/png": "[encoded data removed]",
            "text/plain": [
              "<Figure size 432x288 with 1 Axes>"
            ]
          },
          "metadata": {
            "needs_background": "light"
          }
        },
        {
          "output_type": "display_data",
          "data": {
            "image/png": "[encoded data removed]",
            "text/plain": [
              "<Figure size 432x288 with 1 Axes>"
            ]
          },
          "metadata": {
            "needs_background": "light"
          }
        }
      ],
      "source": [
        "hist_list = ['rooms', 'total_area' , 'ceiling_height', 'last_price', 'living_area', 'kitchen_area', 'price_per_square_meter']\n",
        "for column in hist_list:\n",
        "  df[column].plot(\n",
        "      kind = \"hist\",\n",
        "      bins = 25,\n",
        "     )\n",
        "  plt.title(\"Гистограмма по \" + str(column))\n",
        "  plt.show()\n",
        "hist_list\n",
        "plt.show()"
      ]
    },
    {
      "cell_type": "code",
      "execution_count": 44,
      "metadata": {
        "colab": {
          "base_uri": "https://localhost:8080/"
        },
        "id": "r_y0aV0tY2wT",
        "outputId": "a4d4d66f-bd61-427d-d24b-2bce27ca438d"
      },
      "outputs": [
        {
          "output_type": "execute_result",
          "data": {
            "text/plain": [
              "Index(['total_images', 'last_price', 'total_area', 'first_day_exposition',\n",
              "       'rooms', 'ceiling_height', 'floors_total', 'living_area', 'floor',\n",
              "       'is_apartment', 'studio', 'open_plan', 'kitchen_area', 'balcony',\n",
              "       'locality_name', 'airports_nearest', 'cityCenters_nearest',\n",
              "       'parks_around3000', 'parks_nearest', 'ponds_around3000',\n",
              "       'ponds_nearest', 'days_exposition', 'live_coef', 'kitchen_coef',\n",
              "       'weekday', 'month', 'year', 'price_per_square_meter',\n",
              "       'proportion_living_to_total_area', 'proportion_kitchen_to_total_area',\n",
              "       'floor_category'],\n",
              "      dtype='object')"
            ]
          },
          "metadata": {},
          "execution_count": 44
        }
      ],
      "source": [
        "df.columns"
      ]
    },
    {
      "cell_type": "code",
      "execution_count": 45,
      "metadata": {
        "colab": {
          "base_uri": "https://localhost:8080/"
        },
        "id": "qCa4I7z2Y2wU",
        "outputId": "cd12693c-4b9f-457a-a784-f92bdfc58407"
      },
      "outputs": [
        {
          "output_type": "execute_result",
          "data": {
            "text/plain": [
              "count    20394.000000\n",
              "mean       180.741395\n",
              "std        219.732782\n",
              "min          1.000000\n",
              "25%         45.000000\n",
              "50%         95.000000\n",
              "75%        231.000000\n",
              "max       1580.000000\n",
              "Name: days_exposition, dtype: float64"
            ]
          },
          "metadata": {},
          "execution_count": 45
        }
      ],
      "source": [
        "df['days_exposition'].describe()"
      ]
    },
    {
      "cell_type": "code",
      "execution_count": 46,
      "metadata": {
        "colab": {
          "base_uri": "https://localhost:8080/",
          "height": 294
        },
        "id": "0j10d6YqY2wU",
        "outputId": "2bcc946d-2ab3-46da-e5e0-352095e1a472"
      },
      "outputs": [
        {
          "output_type": "display_data",
          "data": {
            "image/png": "[encoded data removed]",
            "text/plain": [
              "<Figure size 432x288 with 1 Axes>"
            ]
          },
          "metadata": {
            "needs_background": "light"
          }
        }
      ],
      "source": [
        "df['days_exposition'].plot(kind='hist', range=(0, 1500), subplots=True,sharex=True,sharey=True,title='Гистограмма по срокам продажи квартир (дн)')\n",
        "plt.show()"
      ]
    },
    {
      "cell_type": "code",
      "execution_count": 47,
      "metadata": {
        "colab": {
          "base_uri": "https://localhost:8080/",
          "height": 266
        },
        "id": "uju34Dm9Y2wU",
        "outputId": "b4d1e283-3f9a-40f2-e662-1d837ec2a037"
      },
      "outputs": [
        {
          "output_type": "display_data",
          "data": {
            "image/png": "[encoded data removed]",
            "text/plain": [
              "<Figure size 432x288 with 1 Axes>"
            ]
          },
          "metadata": {
            "needs_background": "light"
          }
        }
      ],
      "source": [
        "days_expos = df['days_exposition']\n",
        "days_expos = days_expos.to_frame()\n",
        "days_expos.boxplot()\n",
        "plt.show()"
      ]
    },
    {
      "cell_type": "code",
      "execution_count": 48,
      "metadata": {
        "id": "hAc_PhD2Y2wV"
      },
      "outputs": [],
      "source": [
        "rooms = df['rooms']\n",
        "rooms = rooms.to_frame()\n",
        "plt.show()"
      ]
    },
    {
      "cell_type": "code",
      "execution_count": 49,
      "metadata": {
        "colab": {
          "base_uri": "https://localhost:8080/",
          "height": 270
        },
        "id": "Mwyu-naKY2wV",
        "outputId": "cbb826d0-db5c-4059-a0e3-8a01014319eb"
      },
      "outputs": [
        {
          "output_type": "display_data",
          "data": {
            "image/png": "[encoded data removed]",
            "text/plain": [
              "<Figure size 432x288 with 1 Axes>"
            ]
          },
          "metadata": {
            "needs_background": "light"
          }
        }
      ],
      "source": [
        "total_area = df['living_area']\n",
        "total_area = total_area.to_frame()\n",
        "total_area.boxplot()\n",
        "plt.ylim(0, 100)\n",
        "plt.show()"
      ]
    },
    {
      "cell_type": "code",
      "execution_count": 50,
      "metadata": {
        "colab": {
          "base_uri": "https://localhost:8080/",
          "height": 270
        },
        "id": "OLLuvAF1Y2wV",
        "outputId": "3c1a3739-4c52-4a82-c36c-50cc32837c5c"
      },
      "outputs": [
        {
          "output_type": "display_data",
          "data": {
            "image/png": "[encoded data removed]",
            "text/plain": [
              "<Figure size 432x288 with 1 Axes>"
            ]
          },
          "metadata": {
            "needs_background": "light"
          }
        }
      ],
      "source": [
        "price_sq_meter = df['price_per_square_meter']\n",
        "price_sq_meter = price_sq_meter.to_frame()\n",
        "price_sq_meter.boxplot()\n",
        "plt.ylim(0, 250000)\n",
        "plt.show()"
      ]
    },
    {
      "cell_type": "code",
      "execution_count": 51,
      "metadata": {
        "colab": {
          "base_uri": "https://localhost:8080/",
          "height": 270
        },
        "id": "T8HFS2VZY2wV",
        "outputId": "37129388-fe4d-4064-c10e-9bd592e0b390"
      },
      "outputs": [
        {
          "output_type": "display_data",
          "data": {
            "image/png": "[encoded data removed]",
            "text/plain": [
              "<Figure size 432x288 with 1 Axes>"
            ]
          },
          "metadata": {
            "needs_background": "light"
          }
        }
      ],
      "source": [
        "kitchen = df['kitchen_area']\n",
        "kitchen = kitchen.to_frame()\n",
        "kitchen.boxplot()\n",
        "plt.ylim(0, 30)\n",
        "plt.show()"
      ]
    },
    {
      "cell_type": "code",
      "execution_count": 86,
      "metadata": {
        "id": "uWy5UusVY2wW"
      },
      "outputs": [],
      "source": [
        "df1 = df.query('(living_area < 80 ) and (days_exposition > 601) and(price_per_square_meter < 175000) and (rooms < 8) and (kitchen_area < 20)') # drop outlier from the data"
      ]
    },
    {
      "cell_type": "code",
      "execution_count": 53,
      "metadata": {
        "colab": {
          "base_uri": "https://localhost:8080/",
          "height": 300
        },
        "id": "FMe10Hv5Y2wX",
        "outputId": "faaf6fe4-5bec-4f0c-89e2-286db18c046c"
      },
      "outputs": [
        {
          "output_type": "execute_result",
          "data": {
            "text/html": [
              "\n",
              "  <div id=\"df-1b9f1b4f-f662-4cd9-9b4f-52108c90eba1\">\n",
              "    <div class=\"colab-df-container\">\n",
              "      <div>\n",
              "<style scoped>\n",
              "    .dataframe tbody tr th:only-of-type {\n",
              "        vertical-align: middle;\n",
              "    }\n",
              "\n",
              "    .dataframe tbody tr th {\n",
              "        vertical-align: top;\n",
              "    }\n",
              "\n",
              "    .dataframe thead th {\n",
              "        text-align: right;\n",
              "    }\n",
              "</style>\n",
              "<table border=\"1\" class=\"dataframe\">\n",
              "  <thead>\n",
              "    <tr style=\"text-align: right;\">\n",
              "      <th></th>\n",
              "      <th>rooms</th>\n",
              "      <th>total_area</th>\n",
              "      <th>ceiling_height</th>\n",
              "      <th>last_price</th>\n",
              "      <th>living_area</th>\n",
              "      <th>days_exposition</th>\n",
              "      <th>price_per_square_meter</th>\n",
              "      <th>kitchen_area</th>\n",
              "    </tr>\n",
              "  </thead>\n",
              "  <tbody>\n",
              "    <tr>\n",
              "      <th>count</th>\n",
              "      <td>1010.000000</td>\n",
              "      <td>1010.000000</td>\n",
              "      <td>1010.000000</td>\n",
              "      <td>1.010000e+03</td>\n",
              "      <td>1010.000000</td>\n",
              "      <td>1010.000000</td>\n",
              "      <td>1010.000000</td>\n",
              "      <td>1010.000000</td>\n",
              "    </tr>\n",
              "    <tr>\n",
              "      <th>mean</th>\n",
              "      <td>2.118812</td>\n",
              "      <td>59.142574</td>\n",
              "      <td>2.117822</td>\n",
              "      <td>5.635903e+06</td>\n",
              "      <td>33.995050</td>\n",
              "      <td>847.689109</td>\n",
              "      <td>93813.608911</td>\n",
              "      <td>9.576238</td>\n",
              "    </tr>\n",
              "    <tr>\n",
              "      <th>std</th>\n",
              "      <td>0.981364</td>\n",
              "      <td>22.949625</td>\n",
              "      <td>0.325615</td>\n",
              "      <td>3.125496e+06</td>\n",
              "      <td>15.808535</td>\n",
              "      <td>203.974727</td>\n",
              "      <td>30561.620144</td>\n",
              "      <td>3.342466</td>\n",
              "    </tr>\n",
              "    <tr>\n",
              "      <th>min</th>\n",
              "      <td>0.000000</td>\n",
              "      <td>18.000000</td>\n",
              "      <td>2.000000</td>\n",
              "      <td>4.900000e+05</td>\n",
              "      <td>9.000000</td>\n",
              "      <td>602.000000</td>\n",
              "      <td>12542.000000</td>\n",
              "      <td>0.000000</td>\n",
              "    </tr>\n",
              "    <tr>\n",
              "      <th>25%</th>\n",
              "      <td>1.000000</td>\n",
              "      <td>41.000000</td>\n",
              "      <td>2.000000</td>\n",
              "      <td>3.500000e+06</td>\n",
              "      <td>19.000000</td>\n",
              "      <td>681.250000</td>\n",
              "      <td>73805.500000</td>\n",
              "      <td>7.000000</td>\n",
              "    </tr>\n",
              "    <tr>\n",
              "      <th>50%</th>\n",
              "      <td>2.000000</td>\n",
              "      <td>55.000000</td>\n",
              "      <td>2.000000</td>\n",
              "      <td>4.850000e+06</td>\n",
              "      <td>31.000000</td>\n",
              "      <td>792.000000</td>\n",
              "      <td>93240.000000</td>\n",
              "      <td>9.000000</td>\n",
              "    </tr>\n",
              "    <tr>\n",
              "      <th>75%</th>\n",
              "      <td>3.000000</td>\n",
              "      <td>73.000000</td>\n",
              "      <td>2.000000</td>\n",
              "      <td>6.837500e+06</td>\n",
              "      <td>44.000000</td>\n",
              "      <td>969.750000</td>\n",
              "      <td>113046.000000</td>\n",
              "      <td>11.750000</td>\n",
              "    </tr>\n",
              "    <tr>\n",
              "      <th>max</th>\n",
              "      <td>6.000000</td>\n",
              "      <td>156.000000</td>\n",
              "      <td>4.000000</td>\n",
              "      <td>1.850000e+07</td>\n",
              "      <td>79.000000</td>\n",
              "      <td>1580.000000</td>\n",
              "      <td>174583.000000</td>\n",
              "      <td>19.000000</td>\n",
              "    </tr>\n",
              "  </tbody>\n",
              "</table>\n",
              "</div>\n",
              "      <button class=\"colab-df-convert\" onclick=\"convertToInteractive('df-1b9f1b4f-f662-4cd9-9b4f-52108c90eba1')\"\n",
              "              title=\"Convert this dataframe to an interactive table.\"\n",
              "              style=\"display:none;\">\n",
              "        \n",
              "  <svg xmlns=\"http://www.w3.org/2000/svg\" height=\"24px\"viewBox=\"0 0 24 24\"\n",
              "       width=\"24px\">\n",
              "    <path d=\"M0 0h24v24H0V0z\" fill=\"none\"/>\n",
              "    <path d=\"M18.56 5.44l.94 2.06.94-2.06 2.06-.94-2.06-.94-.94-2.06-.94 2.06-2.06.94zm-11 1L8.5 8.5l.94-2.06 2.06-.94-2.06-.94L8.5 2.5l-.94 2.06-2.06.94zm10 10l.94 2.06.94-2.06 2.06-.94-2.06-.94-.94-2.06-.94 2.06-2.06.94z\"/><path d=\"M17.41 7.96l-1.37-1.37c-.4-.4-.92-.59-1.43-.59-.52 0-1.04.2-1.43.59L10.3 9.45l-7.72 7.72c-.78.78-.78 2.05 0 2.83L4 21.41c.39.39.9.59 1.41.59.51 0 1.02-.2 1.41-.59l7.78-7.78 2.81-2.81c.8-.78.8-2.07 0-2.86zM5.41 20L4 18.59l7.72-7.72 1.47 1.35L5.41 20z\"/>\n",
              "  </svg>\n",
              "      </button>\n",
              "      \n",
              "  <style>\n",
              "    .colab-df-container {\n",
              "      display:flex;\n",
              "      flex-wrap:wrap;\n",
              "      gap: 12px;\n",
              "    }\n",
              "\n",
              "    .colab-df-convert {\n",
              "      background-color: #E8F0FE;\n",
              "      border: none;\n",
              "      border-radius: 50%;\n",
              "      cursor: pointer;\n",
              "      display: none;\n",
              "      fill: #1967D2;\n",
              "      height: 32px;\n",
              "      padding: 0 0 0 0;\n",
              "      width: 32px;\n",
              "    }\n",
              "\n",
              "    .colab-df-convert:hover {\n",
              "      background-color: #E2EBFA;\n",
              "      box-shadow: 0px 1px 2px rgba(60, 64, 67, 0.3), 0px 1px 3px 1px rgba(60, 64, 67, 0.15);\n",
              "      fill: #174EA6;\n",
              "    }\n",
              "\n",
              "    [theme=dark] .colab-df-convert {\n",
              "      background-color: #3B4455;\n",
              "      fill: #D2E3FC;\n",
              "    }\n",
              "\n",
              "    [theme=dark] .colab-df-convert:hover {\n",
              "      background-color: #434B5C;\n",
              "      box-shadow: 0px 1px 3px 1px rgba(0, 0, 0, 0.15);\n",
              "      filter: drop-shadow(0px 1px 2px rgba(0, 0, 0, 0.3));\n",
              "      fill: #FFFFFF;\n",
              "    }\n",
              "  </style>\n",
              "\n",
              "      <script>\n",
              "        const buttonEl =\n",
              "          document.querySelector('#df-1b9f1b4f-f662-4cd9-9b4f-52108c90eba1 button.colab-df-convert');\n",
              "        buttonEl.style.display =\n",
              "          google.colab.kernel.accessAllowed ? 'block' : 'none';\n",
              "\n",
              "        async function convertToInteractive(key) {\n",
              "          const element = document.querySelector('#df-1b9f1b4f-f662-4cd9-9b4f-52108c90eba1');\n",
              "          const dataTable =\n",
              "            await google.colab.kernel.invokeFunction('convertToInteractive',\n",
              "                                                     [key], {});\n",
              "          if (!dataTable) return;\n",
              "\n",
              "          const docLinkHtml = 'Like what you see? Visit the ' +\n",
              "            '<a target=\"_blank\" href=https://colab.research.google.com/notebooks/data_table.ipynb>data table notebook</a>'\n",
              "            + ' to learn more about interactive tables.';\n",
              "          element.innerHTML = '';\n",
              "          dataTable['output_type'] = 'display_data';\n",
              "          await google.colab.output.renderOutput(dataTable, element);\n",
              "          const docLink = document.createElement('div');\n",
              "          docLink.innerHTML = docLinkHtml;\n",
              "          element.appendChild(docLink);\n",
              "        }\n",
              "      </script>\n",
              "    </div>\n",
              "  </div>\n",
              "  "
            ],
            "text/plain": [
              "             rooms   total_area  ...  price_per_square_meter  kitchen_area\n",
              "count  1010.000000  1010.000000  ...             1010.000000   1010.000000\n",
              "mean      2.118812    59.142574  ...            93813.608911      9.576238\n",
              "std       0.981364    22.949625  ...            30561.620144      3.342466\n",
              "min       0.000000    18.000000  ...            12542.000000      0.000000\n",
              "25%       1.000000    41.000000  ...            73805.500000      7.000000\n",
              "50%       2.000000    55.000000  ...            93240.000000      9.000000\n",
              "75%       3.000000    73.000000  ...           113046.000000     11.750000\n",
              "max       6.000000   156.000000  ...           174583.000000     19.000000\n",
              "\n",
              "[8 rows x 8 columns]"
            ]
          },
          "metadata": {},
          "execution_count": 53
        }
      ],
      "source": [
        "df1[['rooms', 'total_area', 'ceiling_height', 'last_price', 'living_area', 'days_exposition', 'price_per_square_meter', 'kitchen_area' ]].describe() "
      ]
    },
    {
      "cell_type": "code",
      "execution_count": 54,
      "metadata": {
        "scrolled": false,
        "colab": {
          "base_uri": "https://localhost:8080/",
          "height": 300
        },
        "id": "QP-hiRB7Y2wY",
        "outputId": "b77d6a39-d8c8-4964-a695-02513cb2d6ed"
      },
      "outputs": [
        {
          "output_type": "execute_result",
          "data": {
            "text/html": [
              "<style type=\"text/css\">\n",
              "#T_60d37_row0_col0, #T_60d37_row1_col1 {\n",
              "  background-color: #b40426;\n",
              "  color: #f1f1f1;\n",
              "}\n",
              "#T_60d37_row0_col1, #T_60d37_row1_col0 {\n",
              "  background-color: #f39778;\n",
              "  color: #000000;\n",
              "}\n",
              "#T_60d37_row2_col0 {\n",
              "  background-color: #e46e56;\n",
              "  color: #f1f1f1;\n",
              "}\n",
              "#T_60d37_row2_col1 {\n",
              "  background-color: #b3cdfb;\n",
              "  color: #000000;\n",
              "}\n",
              "#T_60d37_row3_col0 {\n",
              "  background-color: #f5c0a7;\n",
              "  color: #000000;\n",
              "}\n",
              "#T_60d37_row3_col1 {\n",
              "  background-color: #779af7;\n",
              "  color: #f1f1f1;\n",
              "}\n",
              "#T_60d37_row4_col0 {\n",
              "  background-color: #f29274;\n",
              "  color: #f1f1f1;\n",
              "}\n",
              "#T_60d37_row4_col1 {\n",
              "  background-color: #98b9ff;\n",
              "  color: #000000;\n",
              "}\n",
              "#T_60d37_row5_col0 {\n",
              "  background-color: #f6a586;\n",
              "  color: #000000;\n",
              "}\n",
              "#T_60d37_row5_col1 {\n",
              "  background-color: #ebd3c6;\n",
              "  color: #000000;\n",
              "}\n",
              "#T_60d37_row6_col0 {\n",
              "  background-color: #e7d7ce;\n",
              "  color: #000000;\n",
              "}\n",
              "#T_60d37_row6_col1 {\n",
              "  background-color: #c9d7f0;\n",
              "  color: #000000;\n",
              "}\n",
              "#T_60d37_row7_col0, #T_60d37_row7_col1 {\n",
              "  background-color: #3b4cc0;\n",
              "  color: #f1f1f1;\n",
              "}\n",
              "</style>\n",
              "<table id=\"T_60d37_\" class=\"dataframe\">\n",
              "  <thead>\n",
              "    <tr>\n",
              "      <th class=\"blank level0\" >&nbsp;</th>\n",
              "      <th class=\"col_heading level0 col0\" >last_price</th>\n",
              "      <th class=\"col_heading level0 col1\" >price_per_square_meter</th>\n",
              "    </tr>\n",
              "  </thead>\n",
              "  <tbody>\n",
              "    <tr>\n",
              "      <th id=\"T_60d37_level0_row0\" class=\"row_heading level0 row0\" >last_price</th>\n",
              "      <td id=\"T_60d37_row0_col0\" class=\"data row0 col0\" >1.000000</td>\n",
              "      <td id=\"T_60d37_row0_col1\" class=\"data row0 col1\" >0.655762</td>\n",
              "    </tr>\n",
              "    <tr>\n",
              "      <th id=\"T_60d37_level0_row1\" class=\"row_heading level0 row1\" >price_per_square_meter</th>\n",
              "      <td id=\"T_60d37_row1_col0\" class=\"data row1 col0\" >0.655762</td>\n",
              "      <td id=\"T_60d37_row1_col1\" class=\"data row1 col1\" >1.000000</td>\n",
              "    </tr>\n",
              "    <tr>\n",
              "      <th id=\"T_60d37_level0_row2\" class=\"row_heading level0 row2\" >total_area</th>\n",
              "      <td id=\"T_60d37_row2_col0\" class=\"data row2 col0\" >0.781592</td>\n",
              "      <td id=\"T_60d37_row2_col1\" class=\"data row2 col1\" >0.094245</td>\n",
              "    </tr>\n",
              "    <tr>\n",
              "      <th id=\"T_60d37_level0_row3\" class=\"row_heading level0 row3\" >rooms</th>\n",
              "      <td id=\"T_60d37_row3_col0\" class=\"data row3 col0\" >0.489539</td>\n",
              "      <td id=\"T_60d37_row3_col1\" class=\"data row3 col1\" >-0.149777</td>\n",
              "    </tr>\n",
              "    <tr>\n",
              "      <th id=\"T_60d37_level0_row4\" class=\"row_heading level0 row4\" >living_area</th>\n",
              "      <td id=\"T_60d37_row4_col0\" class=\"data row4 col0\" >0.672624</td>\n",
              "      <td id=\"T_60d37_row4_col1\" class=\"data row4 col1\" >-0.015089</td>\n",
              "    </tr>\n",
              "    <tr>\n",
              "      <th id=\"T_60d37_level0_row5\" class=\"row_heading level0 row5\" >kitchen_area</th>\n",
              "      <td id=\"T_60d37_row5_col0\" class=\"data row5 col0\" >0.605639</td>\n",
              "      <td id=\"T_60d37_row5_col1\" class=\"data row5 col1\" >0.379921</td>\n",
              "    </tr>\n",
              "    <tr>\n",
              "      <th id=\"T_60d37_level0_row6\" class=\"row_heading level0 row6\" >ceiling_height</th>\n",
              "      <td id=\"T_60d37_row6_col0\" class=\"data row6 col0\" >0.348417</td>\n",
              "      <td id=\"T_60d37_row6_col1\" class=\"data row6 col1\" >0.188693</td>\n",
              "    </tr>\n",
              "    <tr>\n",
              "      <th id=\"T_60d37_level0_row7\" class=\"row_heading level0 row7\" >cityCenters_nearest</th>\n",
              "      <td id=\"T_60d37_row7_col0\" class=\"data row7 col0\" >-0.419336</td>\n",
              "      <td id=\"T_60d37_row7_col1\" class=\"data row7 col1\" >-0.416465</td>\n",
              "    </tr>\n",
              "  </tbody>\n",
              "</table>\n"
            ],
            "text/plain": [
              "<pandas.io.formats.style.Styler at 0x7f85e7ade3d0>"
            ]
          },
          "metadata": {},
          "execution_count": 54
        }
      ],
      "source": [
        "df1[['last_price', 'price_per_square_meter', 'total_area', 'rooms', 'living_area', 'kitchen_area', 'ceiling_height', 'cityCenters_nearest']].corr()[['last_price', 'price_per_square_meter']].style.background_gradient('coolwarm')"
      ]
    },
    {
      "cell_type": "code",
      "execution_count": 55,
      "metadata": {
        "colab": {
          "base_uri": "https://localhost:8080/",
          "height": 296
        },
        "id": "wVbLKokdY2wZ",
        "outputId": "c6a3a5c8-390d-4057-a4a2-5bb03fcbe55b"
      },
      "outputs": [
        {
          "output_type": "display_data",
          "data": {
            "image/png": "[encoded data removed]",
            "text/plain": [
              "<Figure size 432x288 with 1 Axes>"
            ]
          },
          "metadata": {
            "needs_background": "light"
          }
        }
      ],
      "source": [
        "sns.barplot(x=\"floor_category\", y=\"last_price\", data=df1) # получаем график по группировке типа \"этаж\"\n",
        "plt.title('Стоимость квартиры в зависимости от этажа')\n",
        "plt.show()"
      ]
    },
    {
      "cell_type": "code",
      "execution_count": 56,
      "metadata": {
        "colab": {
          "base_uri": "https://localhost:8080/",
          "height": 295
        },
        "id": "Nc2Kt9upY2wZ",
        "outputId": "92150bd0-0707-40c2-b20c-1fca267ecff1"
      },
      "outputs": [
        {
          "output_type": "display_data",
          "data": {
            "image/png": "[encoded data removed]",
            "text/plain": [
              "<Figure size 432x288 with 1 Axes>"
            ]
          },
          "metadata": {
            "needs_background": "light"
          }
        }
      ],
      "source": [
        "sns.barplot(x=\"weekday\", y=\"last_price\", data=df1) # график продаж по дням недели\n",
        "plt.title('График продаж по дням недели')\n",
        "plt.show()"
      ]
    },
    {
      "cell_type": "code",
      "execution_count": 57,
      "metadata": {
        "colab": {
          "base_uri": "https://localhost:8080/",
          "height": 295
        },
        "id": "psvVxJx8Y2wZ",
        "outputId": "a0be933b-a7e3-4d86-86c9-e090f84aeb3c"
      },
      "outputs": [
        {
          "output_type": "display_data",
          "data": {
            "image/png": "[encoded data removed]",
            "text/plain": [
              "<Figure size 432x288 with 1 Axes>"
            ]
          },
          "metadata": {
            "needs_background": "light"
          }
        }
      ],
      "source": [
        "sns.barplot(x=\"year\", y=\"last_price\", data=df1) # график продаж по году\n",
        "plt.title('График продаж по годам')\n",
        "plt.show()"
      ]
    },
    {
      "cell_type": "code",
      "execution_count": 58,
      "metadata": {
        "colab": {
          "base_uri": "https://localhost:8080/",
          "height": 295
        },
        "id": "5exwSWzNY2wa",
        "outputId": "ccbe0c8b-f0e6-440a-e70e-6917f622f3a1"
      },
      "outputs": [
        {
          "output_type": "display_data",
          "data": {
            "image/png": "[encoded data removed]",
            "text/plain": [
              "<Figure size 432x288 with 1 Axes>"
            ]
          },
          "metadata": {
            "needs_background": "light"
          }
        }
      ],
      "source": [
        "sns.barplot(x=\"month\", y=\"last_price\", data=df1) # график продаж по месяцам\n",
        "plt.title('График продаж по дням месяцам')\n",
        "plt.show()"
      ]
    },
    {
      "cell_type": "code",
      "execution_count": 59,
      "metadata": {
        "colab": {
          "base_uri": "https://localhost:8080/",
          "height": 274
        },
        "id": "UgrRvBOxY2wa",
        "outputId": "9d4ff699-46ca-443c-96f6-cdad7d51604c"
      },
      "outputs": [
        {
          "output_type": "execute_result",
          "data": {
            "text/html": [
              "\n",
              "  <div id=\"df-e348cc35-ae53-4401-ade8-5e617314b7dd\">\n",
              "    <div class=\"colab-df-container\">\n",
              "      <div>\n",
              "<style scoped>\n",
              "    .dataframe tbody tr th:only-of-type {\n",
              "        vertical-align: middle;\n",
              "    }\n",
              "\n",
              "    .dataframe tbody tr th {\n",
              "        vertical-align: top;\n",
              "    }\n",
              "\n",
              "    .dataframe thead th {\n",
              "        text-align: right;\n",
              "    }\n",
              "</style>\n",
              "<table border=\"1\" class=\"dataframe\">\n",
              "  <thead>\n",
              "    <tr style=\"text-align: right;\">\n",
              "      <th></th>\n",
              "      <th>total_images</th>\n",
              "      <th>last_price</th>\n",
              "      <th>total_area</th>\n",
              "      <th>first_day_exposition</th>\n",
              "      <th>rooms</th>\n",
              "      <th>ceiling_height</th>\n",
              "      <th>floors_total</th>\n",
              "      <th>living_area</th>\n",
              "      <th>floor</th>\n",
              "      <th>is_apartment</th>\n",
              "      <th>studio</th>\n",
              "      <th>open_plan</th>\n",
              "      <th>kitchen_area</th>\n",
              "      <th>balcony</th>\n",
              "      <th>locality_name</th>\n",
              "      <th>airports_nearest</th>\n",
              "      <th>cityCenters_nearest</th>\n",
              "      <th>parks_around3000</th>\n",
              "      <th>parks_nearest</th>\n",
              "      <th>ponds_around3000</th>\n",
              "      <th>ponds_nearest</th>\n",
              "      <th>days_exposition</th>\n",
              "      <th>live_coef</th>\n",
              "      <th>kitchen_coef</th>\n",
              "      <th>weekday</th>\n",
              "      <th>month</th>\n",
              "      <th>year</th>\n",
              "      <th>price_per_square_meter</th>\n",
              "      <th>proportion_living_to_total_area</th>\n",
              "      <th>proportion_kitchen_to_total_area</th>\n",
              "      <th>floor_category</th>\n",
              "    </tr>\n",
              "  </thead>\n",
              "  <tbody>\n",
              "    <tr>\n",
              "      <th>23</th>\n",
              "      <td>11</td>\n",
              "      <td>2950000.0</td>\n",
              "      <td>32</td>\n",
              "      <td>2016-10-29</td>\n",
              "      <td>1</td>\n",
              "      <td>2</td>\n",
              "      <td>9.0</td>\n",
              "      <td>17</td>\n",
              "      <td>9</td>\n",
              "      <td>False</td>\n",
              "      <td>False</td>\n",
              "      <td>False</td>\n",
              "      <td>6</td>\n",
              "      <td>0.0</td>\n",
              "      <td>Санкт-Петербург</td>\n",
              "      <td>15414.0</td>\n",
              "      <td>14211.0</td>\n",
              "      <td>2.0</td>\n",
              "      <td>517.0</td>\n",
              "      <td>1.0</td>\n",
              "      <td>190.0</td>\n",
              "      <td>615.0</td>\n",
              "      <td>0.553125</td>\n",
              "      <td>0.190625</td>\n",
              "      <td>5</td>\n",
              "      <td>10</td>\n",
              "      <td>2016</td>\n",
              "      <td>92187</td>\n",
              "      <td>0.553125</td>\n",
              "      <td>0.190625</td>\n",
              "      <td>последний</td>\n",
              "    </tr>\n",
              "    <tr>\n",
              "      <th>76</th>\n",
              "      <td>12</td>\n",
              "      <td>2800000.0</td>\n",
              "      <td>55</td>\n",
              "      <td>2016-05-14</td>\n",
              "      <td>3</td>\n",
              "      <td>2</td>\n",
              "      <td>5.0</td>\n",
              "      <td>38</td>\n",
              "      <td>1</td>\n",
              "      <td>False</td>\n",
              "      <td>False</td>\n",
              "      <td>False</td>\n",
              "      <td>4</td>\n",
              "      <td>0.0</td>\n",
              "      <td>Кировск</td>\n",
              "      <td>NaN</td>\n",
              "      <td>NaN</td>\n",
              "      <td>NaN</td>\n",
              "      <td>NaN</td>\n",
              "      <td>NaN</td>\n",
              "      <td>NaN</td>\n",
              "      <td>606.0</td>\n",
              "      <td>0.696915</td>\n",
              "      <td>0.088929</td>\n",
              "      <td>5</td>\n",
              "      <td>5</td>\n",
              "      <td>2016</td>\n",
              "      <td>50816</td>\n",
              "      <td>0.696915</td>\n",
              "      <td>0.088929</td>\n",
              "      <td>первый</td>\n",
              "    </tr>\n",
              "    <tr>\n",
              "      <th>98</th>\n",
              "      <td>11</td>\n",
              "      <td>11700000.0</td>\n",
              "      <td>80</td>\n",
              "      <td>2014-12-10</td>\n",
              "      <td>3</td>\n",
              "      <td>2</td>\n",
              "      <td>5.0</td>\n",
              "      <td>55</td>\n",
              "      <td>3</td>\n",
              "      <td>False</td>\n",
              "      <td>False</td>\n",
              "      <td>False</td>\n",
              "      <td>11</td>\n",
              "      <td>0.0</td>\n",
              "      <td>Санкт-Петербург</td>\n",
              "      <td>11248.0</td>\n",
              "      <td>8767.0</td>\n",
              "      <td>1.0</td>\n",
              "      <td>666.0</td>\n",
              "      <td>0.0</td>\n",
              "      <td>504.0</td>\n",
              "      <td>831.0</td>\n",
              "      <td>0.688750</td>\n",
              "      <td>0.137500</td>\n",
              "      <td>2</td>\n",
              "      <td>12</td>\n",
              "      <td>2014</td>\n",
              "      <td>146250</td>\n",
              "      <td>0.688750</td>\n",
              "      <td>0.137500</td>\n",
              "      <td>другой</td>\n",
              "    </tr>\n",
              "    <tr>\n",
              "      <th>109</th>\n",
              "      <td>2</td>\n",
              "      <td>7497600.0</td>\n",
              "      <td>62</td>\n",
              "      <td>2015-12-08</td>\n",
              "      <td>2</td>\n",
              "      <td>2</td>\n",
              "      <td>5.0</td>\n",
              "      <td>35</td>\n",
              "      <td>5</td>\n",
              "      <td>False</td>\n",
              "      <td>False</td>\n",
              "      <td>False</td>\n",
              "      <td>9</td>\n",
              "      <td>0.0</td>\n",
              "      <td>Пушкин</td>\n",
              "      <td>14517.0</td>\n",
              "      <td>26670.0</td>\n",
              "      <td>1.0</td>\n",
              "      <td>517.0</td>\n",
              "      <td>0.0</td>\n",
              "      <td>444.0</td>\n",
              "      <td>1048.0</td>\n",
              "      <td>0.568000</td>\n",
              "      <td>0.152000</td>\n",
              "      <td>1</td>\n",
              "      <td>12</td>\n",
              "      <td>2015</td>\n",
              "      <td>119961</td>\n",
              "      <td>0.568000</td>\n",
              "      <td>0.152000</td>\n",
              "      <td>последний</td>\n",
              "    </tr>\n",
              "  </tbody>\n",
              "</table>\n",
              "</div>\n",
              "      <button class=\"colab-df-convert\" onclick=\"convertToInteractive('df-e348cc35-ae53-4401-ade8-5e617314b7dd')\"\n",
              "              title=\"Convert this dataframe to an interactive table.\"\n",
              "              style=\"display:none;\">\n",
              "        \n",
              "  <svg xmlns=\"http://www.w3.org/2000/svg\" height=\"24px\"viewBox=\"0 0 24 24\"\n",
              "       width=\"24px\">\n",
              "    <path d=\"M0 0h24v24H0V0z\" fill=\"none\"/>\n",
              "    <path d=\"M18.56 5.44l.94 2.06.94-2.06 2.06-.94-2.06-.94-.94-2.06-.94 2.06-2.06.94zm-11 1L8.5 8.5l.94-2.06 2.06-.94-2.06-.94L8.5 2.5l-.94 2.06-2.06.94zm10 10l.94 2.06.94-2.06 2.06-.94-2.06-.94-.94-2.06-.94 2.06-2.06.94z\"/><path d=\"M17.41 7.96l-1.37-1.37c-.4-.4-.92-.59-1.43-.59-.52 0-1.04.2-1.43.59L10.3 9.45l-7.72 7.72c-.78.78-.78 2.05 0 2.83L4 21.41c.39.39.9.59 1.41.59.51 0 1.02-.2 1.41-.59l7.78-7.78 2.81-2.81c.8-.78.8-2.07 0-2.86zM5.41 20L4 18.59l7.72-7.72 1.47 1.35L5.41 20z\"/>\n",
              "  </svg>\n",
              "      </button>\n",
              "      \n",
              "  <style>\n",
              "    .colab-df-container {\n",
              "      display:flex;\n",
              "      flex-wrap:wrap;\n",
              "      gap: 12px;\n",
              "    }\n",
              "\n",
              "    .colab-df-convert {\n",
              "      background-color: #E8F0FE;\n",
              "      border: none;\n",
              "      border-radius: 50%;\n",
              "      cursor: pointer;\n",
              "      display: none;\n",
              "      fill: #1967D2;\n",
              "      height: 32px;\n",
              "      padding: 0 0 0 0;\n",
              "      width: 32px;\n",
              "    }\n",
              "\n",
              "    .colab-df-convert:hover {\n",
              "      background-color: #E2EBFA;\n",
              "      box-shadow: 0px 1px 2px rgba(60, 64, 67, 0.3), 0px 1px 3px 1px rgba(60, 64, 67, 0.15);\n",
              "      fill: #174EA6;\n",
              "    }\n",
              "\n",
              "    [theme=dark] .colab-df-convert {\n",
              "      background-color: #3B4455;\n",
              "      fill: #D2E3FC;\n",
              "    }\n",
              "\n",
              "    [theme=dark] .colab-df-convert:hover {\n",
              "      background-color: #434B5C;\n",
              "      box-shadow: 0px 1px 3px 1px rgba(0, 0, 0, 0.15);\n",
              "      filter: drop-shadow(0px 1px 2px rgba(0, 0, 0, 0.3));\n",
              "      fill: #FFFFFF;\n",
              "    }\n",
              "  </style>\n",
              "\n",
              "      <script>\n",
              "        const buttonEl =\n",
              "          document.querySelector('#df-e348cc35-ae53-4401-ade8-5e617314b7dd button.colab-df-convert');\n",
              "        buttonEl.style.display =\n",
              "          google.colab.kernel.accessAllowed ? 'block' : 'none';\n",
              "\n",
              "        async function convertToInteractive(key) {\n",
              "          const element = document.querySelector('#df-e348cc35-ae53-4401-ade8-5e617314b7dd');\n",
              "          const dataTable =\n",
              "            await google.colab.kernel.invokeFunction('convertToInteractive',\n",
              "                                                     [key], {});\n",
              "          if (!dataTable) return;\n",
              "\n",
              "          const docLinkHtml = 'Like what you see? Visit the ' +\n",
              "            '<a target=\"_blank\" href=https://colab.research.google.com/notebooks/data_table.ipynb>data table notebook</a>'\n",
              "            + ' to learn more about interactive tables.';\n",
              "          element.innerHTML = '';\n",
              "          dataTable['output_type'] = 'display_data';\n",
              "          await google.colab.output.renderOutput(dataTable, element);\n",
              "          const docLink = document.createElement('div');\n",
              "          docLink.innerHTML = docLinkHtml;\n",
              "          element.appendChild(docLink);\n",
              "        }\n",
              "      </script>\n",
              "    </div>\n",
              "  </div>\n",
              "  "
            ],
            "text/plain": [
              "     total_images  last_price  ...  proportion_kitchen_to_total_area floor_category\n",
              "23             11   2950000.0  ...                          0.190625      последний\n",
              "76             12   2800000.0  ...                          0.088929         первый\n",
              "98             11  11700000.0  ...                          0.137500         другой\n",
              "109             2   7497600.0  ...                          0.152000      последний\n",
              "\n",
              "[4 rows x 31 columns]"
            ]
          },
          "metadata": {},
          "execution_count": 59
        }
      ],
      "source": [
        "df1.head(4)"
      ]
    },
    {
      "cell_type": "code",
      "execution_count": 60,
      "metadata": {
        "id": "mDzkFeOVY2wb"
      },
      "outputs": [],
      "source": [
        "ratio = df1.pivot_table(index='locality_name', values='price_per_square_meter', aggfunc=['mean', 'count'])"
      ]
    },
    {
      "cell_type": "code",
      "execution_count": 61,
      "metadata": {
        "id": "ZZwUDavVY2wb"
      },
      "outputs": [],
      "source": [
        "ratio.columns = ['mean', 'count']"
      ]
    },
    {
      "cell_type": "code",
      "execution_count": 62,
      "metadata": {
        "id": "yKafiXieY2wb"
      },
      "outputs": [],
      "source": [
        "ratio_by_ad = ratio.sort_values(by='count', ascending=False).head(10)"
      ]
    },
    {
      "cell_type": "code",
      "execution_count": 63,
      "metadata": {
        "colab": {
          "base_uri": "https://localhost:8080/",
          "height": 394
        },
        "id": "7yQPEBMWY2wb",
        "outputId": "f98a9bbf-a61a-4d53-9463-b65723ba5ea1"
      },
      "outputs": [
        {
          "output_type": "execute_result",
          "data": {
            "text/html": [
              "\n",
              "  <div id=\"df-5a56fa93-3286-4bf1-afb5-907fd6177555\">\n",
              "    <div class=\"colab-df-container\">\n",
              "      <div>\n",
              "<style scoped>\n",
              "    .dataframe tbody tr th:only-of-type {\n",
              "        vertical-align: middle;\n",
              "    }\n",
              "\n",
              "    .dataframe tbody tr th {\n",
              "        vertical-align: top;\n",
              "    }\n",
              "\n",
              "    .dataframe thead th {\n",
              "        text-align: right;\n",
              "    }\n",
              "</style>\n",
              "<table border=\"1\" class=\"dataframe\">\n",
              "  <thead>\n",
              "    <tr style=\"text-align: right;\">\n",
              "      <th></th>\n",
              "      <th>mean</th>\n",
              "      <th>count</th>\n",
              "    </tr>\n",
              "    <tr>\n",
              "      <th>locality_name</th>\n",
              "      <th></th>\n",
              "      <th></th>\n",
              "    </tr>\n",
              "  </thead>\n",
              "  <tbody>\n",
              "    <tr>\n",
              "      <th>Санкт-Петербург</th>\n",
              "      <td>107272.655689</td>\n",
              "      <td>668</td>\n",
              "    </tr>\n",
              "    <tr>\n",
              "      <th>Кудрово</th>\n",
              "      <td>90629.130435</td>\n",
              "      <td>23</td>\n",
              "    </tr>\n",
              "    <tr>\n",
              "      <th>Мурино</th>\n",
              "      <td>82121.550000</td>\n",
              "      <td>20</td>\n",
              "    </tr>\n",
              "    <tr>\n",
              "      <th>Всеволожск</th>\n",
              "      <td>66997.350000</td>\n",
              "      <td>20</td>\n",
              "    </tr>\n",
              "    <tr>\n",
              "      <th>Гатчина</th>\n",
              "      <td>65177.000000</td>\n",
              "      <td>18</td>\n",
              "    </tr>\n",
              "    <tr>\n",
              "      <th>Пушкин</th>\n",
              "      <td>105999.388889</td>\n",
              "      <td>18</td>\n",
              "    </tr>\n",
              "    <tr>\n",
              "      <th>Петергоф</th>\n",
              "      <td>80752.214286</td>\n",
              "      <td>14</td>\n",
              "    </tr>\n",
              "    <tr>\n",
              "      <th>Шушары</th>\n",
              "      <td>80930.461538</td>\n",
              "      <td>13</td>\n",
              "    </tr>\n",
              "    <tr>\n",
              "      <th>Выборг</th>\n",
              "      <td>56665.272727</td>\n",
              "      <td>11</td>\n",
              "    </tr>\n",
              "    <tr>\n",
              "      <th>Никольское</th>\n",
              "      <td>55270.555556</td>\n",
              "      <td>9</td>\n",
              "    </tr>\n",
              "  </tbody>\n",
              "</table>\n",
              "</div>\n",
              "      <button class=\"colab-df-convert\" onclick=\"convertToInteractive('df-5a56fa93-3286-4bf1-afb5-907fd6177555')\"\n",
              "              title=\"Convert this dataframe to an interactive table.\"\n",
              "              style=\"display:none;\">\n",
              "        \n",
              "  <svg xmlns=\"http://www.w3.org/2000/svg\" height=\"24px\"viewBox=\"0 0 24 24\"\n",
              "       width=\"24px\">\n",
              "    <path d=\"M0 0h24v24H0V0z\" fill=\"none\"/>\n",
              "    <path d=\"M18.56 5.44l.94 2.06.94-2.06 2.06-.94-2.06-.94-.94-2.06-.94 2.06-2.06.94zm-11 1L8.5 8.5l.94-2.06 2.06-.94-2.06-.94L8.5 2.5l-.94 2.06-2.06.94zm10 10l.94 2.06.94-2.06 2.06-.94-2.06-.94-.94-2.06-.94 2.06-2.06.94z\"/><path d=\"M17.41 7.96l-1.37-1.37c-.4-.4-.92-.59-1.43-.59-.52 0-1.04.2-1.43.59L10.3 9.45l-7.72 7.72c-.78.78-.78 2.05 0 2.83L4 21.41c.39.39.9.59 1.41.59.51 0 1.02-.2 1.41-.59l7.78-7.78 2.81-2.81c.8-.78.8-2.07 0-2.86zM5.41 20L4 18.59l7.72-7.72 1.47 1.35L5.41 20z\"/>\n",
              "  </svg>\n",
              "      </button>\n",
              "      \n",
              "  <style>\n",
              "    .colab-df-container {\n",
              "      display:flex;\n",
              "      flex-wrap:wrap;\n",
              "      gap: 12px;\n",
              "    }\n",
              "\n",
              "    .colab-df-convert {\n",
              "      background-color: #E8F0FE;\n",
              "      border: none;\n",
              "      border-radius: 50%;\n",
              "      cursor: pointer;\n",
              "      display: none;\n",
              "      fill: #1967D2;\n",
              "      height: 32px;\n",
              "      padding: 0 0 0 0;\n",
              "      width: 32px;\n",
              "    }\n",
              "\n",
              "    .colab-df-convert:hover {\n",
              "      background-color: #E2EBFA;\n",
              "      box-shadow: 0px 1px 2px rgba(60, 64, 67, 0.3), 0px 1px 3px 1px rgba(60, 64, 67, 0.15);\n",
              "      fill: #174EA6;\n",
              "    }\n",
              "\n",
              "    [theme=dark] .colab-df-convert {\n",
              "      background-color: #3B4455;\n",
              "      fill: #D2E3FC;\n",
              "    }\n",
              "\n",
              "    [theme=dark] .colab-df-convert:hover {\n",
              "      background-color: #434B5C;\n",
              "      box-shadow: 0px 1px 3px 1px rgba(0, 0, 0, 0.15);\n",
              "      filter: drop-shadow(0px 1px 2px rgba(0, 0, 0, 0.3));\n",
              "      fill: #FFFFFF;\n",
              "    }\n",
              "  </style>\n",
              "\n",
              "      <script>\n",
              "        const buttonEl =\n",
              "          document.querySelector('#df-5a56fa93-3286-4bf1-afb5-907fd6177555 button.colab-df-convert');\n",
              "        buttonEl.style.display =\n",
              "          google.colab.kernel.accessAllowed ? 'block' : 'none';\n",
              "\n",
              "        async function convertToInteractive(key) {\n",
              "          const element = document.querySelector('#df-5a56fa93-3286-4bf1-afb5-907fd6177555');\n",
              "          const dataTable =\n",
              "            await google.colab.kernel.invokeFunction('convertToInteractive',\n",
              "                                                     [key], {});\n",
              "          if (!dataTable) return;\n",
              "\n",
              "          const docLinkHtml = 'Like what you see? Visit the ' +\n",
              "            '<a target=\"_blank\" href=https://colab.research.google.com/notebooks/data_table.ipynb>data table notebook</a>'\n",
              "            + ' to learn more about interactive tables.';\n",
              "          element.innerHTML = '';\n",
              "          dataTable['output_type'] = 'display_data';\n",
              "          await google.colab.output.renderOutput(dataTable, element);\n",
              "          const docLink = document.createElement('div');\n",
              "          docLink.innerHTML = docLinkHtml;\n",
              "          element.appendChild(docLink);\n",
              "        }\n",
              "      </script>\n",
              "    </div>\n",
              "  </div>\n",
              "  "
            ],
            "text/plain": [
              "                          mean  count\n",
              "locality_name                        \n",
              "Санкт-Петербург  107272.655689    668\n",
              "Кудрово           90629.130435     23\n",
              "Мурино            82121.550000     20\n",
              "Всеволожск        66997.350000     20\n",
              "Гатчина           65177.000000     18\n",
              "Пушкин           105999.388889     18\n",
              "Петергоф          80752.214286     14\n",
              "Шушары            80930.461538     13\n",
              "Выборг            56665.272727     11\n",
              "Никольское        55270.555556      9"
            ]
          },
          "metadata": {},
          "execution_count": 63
        }
      ],
      "source": [
        "ratio_by_ad"
      ]
    },
    {
      "cell_type": "code",
      "execution_count": 64,
      "metadata": {
        "colab": {
          "base_uri": "https://localhost:8080/",
          "height": 394
        },
        "id": "xE7a0XMSY2wb",
        "outputId": "7563d635-54af-4324-8df9-72d47c3d13c9"
      },
      "outputs": [
        {
          "output_type": "execute_result",
          "data": {
            "text/html": [
              "\n",
              "  <div id=\"df-fc67d13b-1c79-4b9a-aad8-ac60578157d4\">\n",
              "    <div class=\"colab-df-container\">\n",
              "      <div>\n",
              "<style scoped>\n",
              "    .dataframe tbody tr th:only-of-type {\n",
              "        vertical-align: middle;\n",
              "    }\n",
              "\n",
              "    .dataframe tbody tr th {\n",
              "        vertical-align: top;\n",
              "    }\n",
              "\n",
              "    .dataframe thead th {\n",
              "        text-align: right;\n",
              "    }\n",
              "</style>\n",
              "<table border=\"1\" class=\"dataframe\">\n",
              "  <thead>\n",
              "    <tr style=\"text-align: right;\">\n",
              "      <th></th>\n",
              "      <th>mean</th>\n",
              "      <th>count</th>\n",
              "    </tr>\n",
              "    <tr>\n",
              "      <th>locality_name</th>\n",
              "      <th></th>\n",
              "      <th></th>\n",
              "    </tr>\n",
              "  </thead>\n",
              "  <tbody>\n",
              "    <tr>\n",
              "      <th>Санкт-Петербург</th>\n",
              "      <td>107272.655689</td>\n",
              "      <td>668</td>\n",
              "    </tr>\n",
              "    <tr>\n",
              "      <th>Пушкин</th>\n",
              "      <td>105999.388889</td>\n",
              "      <td>18</td>\n",
              "    </tr>\n",
              "    <tr>\n",
              "      <th>Кудрово</th>\n",
              "      <td>90629.130435</td>\n",
              "      <td>23</td>\n",
              "    </tr>\n",
              "    <tr>\n",
              "      <th>Мурино</th>\n",
              "      <td>82121.550000</td>\n",
              "      <td>20</td>\n",
              "    </tr>\n",
              "    <tr>\n",
              "      <th>Шушары</th>\n",
              "      <td>80930.461538</td>\n",
              "      <td>13</td>\n",
              "    </tr>\n",
              "    <tr>\n",
              "      <th>Петергоф</th>\n",
              "      <td>80752.214286</td>\n",
              "      <td>14</td>\n",
              "    </tr>\n",
              "    <tr>\n",
              "      <th>Всеволожск</th>\n",
              "      <td>66997.350000</td>\n",
              "      <td>20</td>\n",
              "    </tr>\n",
              "    <tr>\n",
              "      <th>Гатчина</th>\n",
              "      <td>65177.000000</td>\n",
              "      <td>18</td>\n",
              "    </tr>\n",
              "    <tr>\n",
              "      <th>Выборг</th>\n",
              "      <td>56665.272727</td>\n",
              "      <td>11</td>\n",
              "    </tr>\n",
              "    <tr>\n",
              "      <th>Никольское</th>\n",
              "      <td>55270.555556</td>\n",
              "      <td>9</td>\n",
              "    </tr>\n",
              "  </tbody>\n",
              "</table>\n",
              "</div>\n",
              "      <button class=\"colab-df-convert\" onclick=\"convertToInteractive('df-fc67d13b-1c79-4b9a-aad8-ac60578157d4')\"\n",
              "              title=\"Convert this dataframe to an interactive table.\"\n",
              "              style=\"display:none;\">\n",
              "        \n",
              "  <svg xmlns=\"http://www.w3.org/2000/svg\" height=\"24px\"viewBox=\"0 0 24 24\"\n",
              "       width=\"24px\">\n",
              "    <path d=\"M0 0h24v24H0V0z\" fill=\"none\"/>\n",
              "    <path d=\"M18.56 5.44l.94 2.06.94-2.06 2.06-.94-2.06-.94-.94-2.06-.94 2.06-2.06.94zm-11 1L8.5 8.5l.94-2.06 2.06-.94-2.06-.94L8.5 2.5l-.94 2.06-2.06.94zm10 10l.94 2.06.94-2.06 2.06-.94-2.06-.94-.94-2.06-.94 2.06-2.06.94z\"/><path d=\"M17.41 7.96l-1.37-1.37c-.4-.4-.92-.59-1.43-.59-.52 0-1.04.2-1.43.59L10.3 9.45l-7.72 7.72c-.78.78-.78 2.05 0 2.83L4 21.41c.39.39.9.59 1.41.59.51 0 1.02-.2 1.41-.59l7.78-7.78 2.81-2.81c.8-.78.8-2.07 0-2.86zM5.41 20L4 18.59l7.72-7.72 1.47 1.35L5.41 20z\"/>\n",
              "  </svg>\n",
              "      </button>\n",
              "      \n",
              "  <style>\n",
              "    .colab-df-container {\n",
              "      display:flex;\n",
              "      flex-wrap:wrap;\n",
              "      gap: 12px;\n",
              "    }\n",
              "\n",
              "    .colab-df-convert {\n",
              "      background-color: #E8F0FE;\n",
              "      border: none;\n",
              "      border-radius: 50%;\n",
              "      cursor: pointer;\n",
              "      display: none;\n",
              "      fill: #1967D2;\n",
              "      height: 32px;\n",
              "      padding: 0 0 0 0;\n",
              "      width: 32px;\n",
              "    }\n",
              "\n",
              "    .colab-df-convert:hover {\n",
              "      background-color: #E2EBFA;\n",
              "      box-shadow: 0px 1px 2px rgba(60, 64, 67, 0.3), 0px 1px 3px 1px rgba(60, 64, 67, 0.15);\n",
              "      fill: #174EA6;\n",
              "    }\n",
              "\n",
              "    [theme=dark] .colab-df-convert {\n",
              "      background-color: #3B4455;\n",
              "      fill: #D2E3FC;\n",
              "    }\n",
              "\n",
              "    [theme=dark] .colab-df-convert:hover {\n",
              "      background-color: #434B5C;\n",
              "      box-shadow: 0px 1px 3px 1px rgba(0, 0, 0, 0.15);\n",
              "      filter: drop-shadow(0px 1px 2px rgba(0, 0, 0, 0.3));\n",
              "      fill: #FFFFFF;\n",
              "    }\n",
              "  </style>\n",
              "\n",
              "      <script>\n",
              "        const buttonEl =\n",
              "          document.querySelector('#df-fc67d13b-1c79-4b9a-aad8-ac60578157d4 button.colab-df-convert');\n",
              "        buttonEl.style.display =\n",
              "          google.colab.kernel.accessAllowed ? 'block' : 'none';\n",
              "\n",
              "        async function convertToInteractive(key) {\n",
              "          const element = document.querySelector('#df-fc67d13b-1c79-4b9a-aad8-ac60578157d4');\n",
              "          const dataTable =\n",
              "            await google.colab.kernel.invokeFunction('convertToInteractive',\n",
              "                                                     [key], {});\n",
              "          if (!dataTable) return;\n",
              "\n",
              "          const docLinkHtml = 'Like what you see? Visit the ' +\n",
              "            '<a target=\"_blank\" href=https://colab.research.google.com/notebooks/data_table.ipynb>data table notebook</a>'\n",
              "            + ' to learn more about interactive tables.';\n",
              "          element.innerHTML = '';\n",
              "          dataTable['output_type'] = 'display_data';\n",
              "          await google.colab.output.renderOutput(dataTable, element);\n",
              "          const docLink = document.createElement('div');\n",
              "          docLink.innerHTML = docLinkHtml;\n",
              "          element.appendChild(docLink);\n",
              "        }\n",
              "      </script>\n",
              "    </div>\n",
              "  </div>\n",
              "  "
            ],
            "text/plain": [
              "                          mean  count\n",
              "locality_name                        \n",
              "Санкт-Петербург  107272.655689    668\n",
              "Пушкин           105999.388889     18\n",
              "Кудрово           90629.130435     23\n",
              "Мурино            82121.550000     20\n",
              "Шушары            80930.461538     13\n",
              "Петергоф          80752.214286     14\n",
              "Всеволожск        66997.350000     20\n",
              "Гатчина           65177.000000     18\n",
              "Выборг            56665.272727     11\n",
              "Никольское        55270.555556      9"
            ]
          },
          "metadata": {},
          "execution_count": 64
        }
      ],
      "source": [
        "ratio_by_ad.sort_values(by='mean', ascending=False)"
      ]
    },
    {
      "cell_type": "code",
      "execution_count": 65,
      "metadata": {
        "id": "caVZdWNgY2wc"
      },
      "outputs": [],
      "source": [
        "saint_p = df1.query('(locality_name == \"Санкт-Петербург\")')"
      ]
    },
    {
      "cell_type": "code",
      "execution_count": 66,
      "metadata": {
        "colab": {
          "base_uri": "https://localhost:8080/",
          "height": 661
        },
        "id": "KEgE2vMKY2wc",
        "outputId": "2f167158-0570-4943-ca00-8cdb63597801"
      },
      "outputs": [
        {
          "output_type": "execute_result",
          "data": {
            "text/html": [
              "\n",
              "  <div id=\"df-9a95027e-3ae4-4566-a39b-4698a3ab65eb\">\n",
              "    <div class=\"colab-df-container\">\n",
              "      <div>\n",
              "<style scoped>\n",
              "    .dataframe tbody tr th:only-of-type {\n",
              "        vertical-align: middle;\n",
              "    }\n",
              "\n",
              "    .dataframe tbody tr th {\n",
              "        vertical-align: top;\n",
              "    }\n",
              "\n",
              "    .dataframe thead th {\n",
              "        text-align: right;\n",
              "    }\n",
              "</style>\n",
              "<table border=\"1\" class=\"dataframe\">\n",
              "  <thead>\n",
              "    <tr style=\"text-align: right;\">\n",
              "      <th></th>\n",
              "      <th>total_images</th>\n",
              "      <th>last_price</th>\n",
              "      <th>total_area</th>\n",
              "      <th>first_day_exposition</th>\n",
              "      <th>rooms</th>\n",
              "      <th>ceiling_height</th>\n",
              "      <th>floors_total</th>\n",
              "      <th>living_area</th>\n",
              "      <th>floor</th>\n",
              "      <th>is_apartment</th>\n",
              "      <th>studio</th>\n",
              "      <th>open_plan</th>\n",
              "      <th>kitchen_area</th>\n",
              "      <th>balcony</th>\n",
              "      <th>locality_name</th>\n",
              "      <th>airports_nearest</th>\n",
              "      <th>cityCenters_nearest</th>\n",
              "      <th>parks_around3000</th>\n",
              "      <th>parks_nearest</th>\n",
              "      <th>ponds_around3000</th>\n",
              "      <th>ponds_nearest</th>\n",
              "      <th>days_exposition</th>\n",
              "      <th>live_coef</th>\n",
              "      <th>kitchen_coef</th>\n",
              "      <th>weekday</th>\n",
              "      <th>month</th>\n",
              "      <th>year</th>\n",
              "      <th>price_per_square_meter</th>\n",
              "      <th>proportion_living_to_total_area</th>\n",
              "      <th>proportion_kitchen_to_total_area</th>\n",
              "      <th>floor_category</th>\n",
              "    </tr>\n",
              "  </thead>\n",
              "  <tbody>\n",
              "    <tr>\n",
              "      <th>23</th>\n",
              "      <td>11</td>\n",
              "      <td>2950000.0</td>\n",
              "      <td>32</td>\n",
              "      <td>2016-10-29</td>\n",
              "      <td>1</td>\n",
              "      <td>2</td>\n",
              "      <td>9.0</td>\n",
              "      <td>17</td>\n",
              "      <td>9</td>\n",
              "      <td>False</td>\n",
              "      <td>False</td>\n",
              "      <td>False</td>\n",
              "      <td>6</td>\n",
              "      <td>0.0</td>\n",
              "      <td>Санкт-Петербург</td>\n",
              "      <td>15414.0</td>\n",
              "      <td>14211.0</td>\n",
              "      <td>2.0</td>\n",
              "      <td>517.0</td>\n",
              "      <td>1.0</td>\n",
              "      <td>190.0</td>\n",
              "      <td>615.0</td>\n",
              "      <td>0.553125</td>\n",
              "      <td>0.190625</td>\n",
              "      <td>5</td>\n",
              "      <td>10</td>\n",
              "      <td>2016</td>\n",
              "      <td>92187</td>\n",
              "      <td>0.553125</td>\n",
              "      <td>0.190625</td>\n",
              "      <td>последний</td>\n",
              "    </tr>\n",
              "    <tr>\n",
              "      <th>98</th>\n",
              "      <td>11</td>\n",
              "      <td>11700000.0</td>\n",
              "      <td>80</td>\n",
              "      <td>2014-12-10</td>\n",
              "      <td>3</td>\n",
              "      <td>2</td>\n",
              "      <td>5.0</td>\n",
              "      <td>55</td>\n",
              "      <td>3</td>\n",
              "      <td>False</td>\n",
              "      <td>False</td>\n",
              "      <td>False</td>\n",
              "      <td>11</td>\n",
              "      <td>0.0</td>\n",
              "      <td>Санкт-Петербург</td>\n",
              "      <td>11248.0</td>\n",
              "      <td>8767.0</td>\n",
              "      <td>1.0</td>\n",
              "      <td>666.0</td>\n",
              "      <td>0.0</td>\n",
              "      <td>504.0</td>\n",
              "      <td>831.0</td>\n",
              "      <td>0.688750</td>\n",
              "      <td>0.137500</td>\n",
              "      <td>2</td>\n",
              "      <td>12</td>\n",
              "      <td>2014</td>\n",
              "      <td>146250</td>\n",
              "      <td>0.688750</td>\n",
              "      <td>0.137500</td>\n",
              "      <td>другой</td>\n",
              "    </tr>\n",
              "    <tr>\n",
              "      <th>145</th>\n",
              "      <td>6</td>\n",
              "      <td>8290000.0</td>\n",
              "      <td>77</td>\n",
              "      <td>2015-09-21</td>\n",
              "      <td>2</td>\n",
              "      <td>2</td>\n",
              "      <td>16.0</td>\n",
              "      <td>40</td>\n",
              "      <td>5</td>\n",
              "      <td>False</td>\n",
              "      <td>False</td>\n",
              "      <td>False</td>\n",
              "      <td>10</td>\n",
              "      <td>1.0</td>\n",
              "      <td>Санкт-Петербург</td>\n",
              "      <td>30012.0</td>\n",
              "      <td>7384.0</td>\n",
              "      <td>0.0</td>\n",
              "      <td>460.0</td>\n",
              "      <td>1.0</td>\n",
              "      <td>260.0</td>\n",
              "      <td>807.0</td>\n",
              "      <td>0.519481</td>\n",
              "      <td>0.129870</td>\n",
              "      <td>0</td>\n",
              "      <td>9</td>\n",
              "      <td>2015</td>\n",
              "      <td>107662</td>\n",
              "      <td>0.519481</td>\n",
              "      <td>0.129870</td>\n",
              "      <td>другой</td>\n",
              "    </tr>\n",
              "    <tr>\n",
              "      <th>213</th>\n",
              "      <td>11</td>\n",
              "      <td>8700000.0</td>\n",
              "      <td>111</td>\n",
              "      <td>2016-10-10</td>\n",
              "      <td>4</td>\n",
              "      <td>3</td>\n",
              "      <td>4.0</td>\n",
              "      <td>73</td>\n",
              "      <td>2</td>\n",
              "      <td>False</td>\n",
              "      <td>False</td>\n",
              "      <td>False</td>\n",
              "      <td>14</td>\n",
              "      <td>0.0</td>\n",
              "      <td>Санкт-Петербург</td>\n",
              "      <td>20936.0</td>\n",
              "      <td>1218.0</td>\n",
              "      <td>1.0</td>\n",
              "      <td>463.0</td>\n",
              "      <td>3.0</td>\n",
              "      <td>55.0</td>\n",
              "      <td>791.0</td>\n",
              "      <td>0.657092</td>\n",
              "      <td>0.126571</td>\n",
              "      <td>0</td>\n",
              "      <td>10</td>\n",
              "      <td>2016</td>\n",
              "      <td>78096</td>\n",
              "      <td>0.657092</td>\n",
              "      <td>0.126571</td>\n",
              "      <td>другой</td>\n",
              "    </tr>\n",
              "    <tr>\n",
              "      <th>248</th>\n",
              "      <td>7</td>\n",
              "      <td>4100000.0</td>\n",
              "      <td>31</td>\n",
              "      <td>2015-08-02</td>\n",
              "      <td>1</td>\n",
              "      <td>3</td>\n",
              "      <td>17.0</td>\n",
              "      <td>10</td>\n",
              "      <td>6</td>\n",
              "      <td>False</td>\n",
              "      <td>False</td>\n",
              "      <td>False</td>\n",
              "      <td>7</td>\n",
              "      <td>0.0</td>\n",
              "      <td>Санкт-Петербург</td>\n",
              "      <td>39771.0</td>\n",
              "      <td>8672.0</td>\n",
              "      <td>1.0</td>\n",
              "      <td>139.0</td>\n",
              "      <td>0.0</td>\n",
              "      <td>504.0</td>\n",
              "      <td>637.0</td>\n",
              "      <td>0.322581</td>\n",
              "      <td>0.247839</td>\n",
              "      <td>6</td>\n",
              "      <td>8</td>\n",
              "      <td>2015</td>\n",
              "      <td>132258</td>\n",
              "      <td>0.322581</td>\n",
              "      <td>0.247839</td>\n",
              "      <td>другой</td>\n",
              "    </tr>\n",
              "    <tr>\n",
              "      <th>...</th>\n",
              "      <td>...</td>\n",
              "      <td>...</td>\n",
              "      <td>...</td>\n",
              "      <td>...</td>\n",
              "      <td>...</td>\n",
              "      <td>...</td>\n",
              "      <td>...</td>\n",
              "      <td>...</td>\n",
              "      <td>...</td>\n",
              "      <td>...</td>\n",
              "      <td>...</td>\n",
              "      <td>...</td>\n",
              "      <td>...</td>\n",
              "      <td>...</td>\n",
              "      <td>...</td>\n",
              "      <td>...</td>\n",
              "      <td>...</td>\n",
              "      <td>...</td>\n",
              "      <td>...</td>\n",
              "      <td>...</td>\n",
              "      <td>...</td>\n",
              "      <td>...</td>\n",
              "      <td>...</td>\n",
              "      <td>...</td>\n",
              "      <td>...</td>\n",
              "      <td>...</td>\n",
              "      <td>...</td>\n",
              "      <td>...</td>\n",
              "      <td>...</td>\n",
              "      <td>...</td>\n",
              "      <td>...</td>\n",
              "    </tr>\n",
              "    <tr>\n",
              "      <th>23627</th>\n",
              "      <td>11</td>\n",
              "      <td>6300000.0</td>\n",
              "      <td>42</td>\n",
              "      <td>2017-01-27</td>\n",
              "      <td>1</td>\n",
              "      <td>2</td>\n",
              "      <td>10.0</td>\n",
              "      <td>16</td>\n",
              "      <td>4</td>\n",
              "      <td>False</td>\n",
              "      <td>False</td>\n",
              "      <td>False</td>\n",
              "      <td>12</td>\n",
              "      <td>2.0</td>\n",
              "      <td>Санкт-Петербург</td>\n",
              "      <td>17313.0</td>\n",
              "      <td>7963.0</td>\n",
              "      <td>0.0</td>\n",
              "      <td>460.0</td>\n",
              "      <td>0.0</td>\n",
              "      <td>504.0</td>\n",
              "      <td>616.0</td>\n",
              "      <td>0.385343</td>\n",
              "      <td>0.283688</td>\n",
              "      <td>4</td>\n",
              "      <td>1</td>\n",
              "      <td>2017</td>\n",
              "      <td>148936</td>\n",
              "      <td>0.385343</td>\n",
              "      <td>0.283688</td>\n",
              "      <td>другой</td>\n",
              "    </tr>\n",
              "    <tr>\n",
              "      <th>23648</th>\n",
              "      <td>14</td>\n",
              "      <td>10100000.0</td>\n",
              "      <td>78</td>\n",
              "      <td>2017-05-12</td>\n",
              "      <td>3</td>\n",
              "      <td>3</td>\n",
              "      <td>5.0</td>\n",
              "      <td>48</td>\n",
              "      <td>5</td>\n",
              "      <td>False</td>\n",
              "      <td>False</td>\n",
              "      <td>False</td>\n",
              "      <td>8</td>\n",
              "      <td>0.0</td>\n",
              "      <td>Санкт-Петербург</td>\n",
              "      <td>20933.0</td>\n",
              "      <td>1113.0</td>\n",
              "      <td>1.0</td>\n",
              "      <td>621.0</td>\n",
              "      <td>2.0</td>\n",
              "      <td>117.0</td>\n",
              "      <td>621.0</td>\n",
              "      <td>0.623077</td>\n",
              "      <td>0.105128</td>\n",
              "      <td>4</td>\n",
              "      <td>5</td>\n",
              "      <td>2017</td>\n",
              "      <td>129487</td>\n",
              "      <td>0.623077</td>\n",
              "      <td>0.105128</td>\n",
              "      <td>последний</td>\n",
              "    </tr>\n",
              "    <tr>\n",
              "      <th>23664</th>\n",
              "      <td>5</td>\n",
              "      <td>9000000.0</td>\n",
              "      <td>110</td>\n",
              "      <td>2015-12-10</td>\n",
              "      <td>4</td>\n",
              "      <td>3</td>\n",
              "      <td>7.0</td>\n",
              "      <td>64</td>\n",
              "      <td>5</td>\n",
              "      <td>False</td>\n",
              "      <td>False</td>\n",
              "      <td>False</td>\n",
              "      <td>15</td>\n",
              "      <td>0.0</td>\n",
              "      <td>Санкт-Петербург</td>\n",
              "      <td>26313.0</td>\n",
              "      <td>5016.0</td>\n",
              "      <td>3.0</td>\n",
              "      <td>417.0</td>\n",
              "      <td>1.0</td>\n",
              "      <td>118.0</td>\n",
              "      <td>816.0</td>\n",
              "      <td>0.587273</td>\n",
              "      <td>0.143636</td>\n",
              "      <td>3</td>\n",
              "      <td>12</td>\n",
              "      <td>2015</td>\n",
              "      <td>81818</td>\n",
              "      <td>0.587273</td>\n",
              "      <td>0.143636</td>\n",
              "      <td>другой</td>\n",
              "    </tr>\n",
              "    <tr>\n",
              "      <th>23672</th>\n",
              "      <td>5</td>\n",
              "      <td>3000000.0</td>\n",
              "      <td>30</td>\n",
              "      <td>2016-06-08</td>\n",
              "      <td>1</td>\n",
              "      <td>2</td>\n",
              "      <td>5.0</td>\n",
              "      <td>16</td>\n",
              "      <td>3</td>\n",
              "      <td>False</td>\n",
              "      <td>False</td>\n",
              "      <td>False</td>\n",
              "      <td>6</td>\n",
              "      <td>0.0</td>\n",
              "      <td>Санкт-Петербург</td>\n",
              "      <td>44614.0</td>\n",
              "      <td>14193.0</td>\n",
              "      <td>2.0</td>\n",
              "      <td>258.0</td>\n",
              "      <td>0.0</td>\n",
              "      <td>504.0</td>\n",
              "      <td>808.0</td>\n",
              "      <td>0.522727</td>\n",
              "      <td>0.204545</td>\n",
              "      <td>2</td>\n",
              "      <td>6</td>\n",
              "      <td>2016</td>\n",
              "      <td>97402</td>\n",
              "      <td>0.522727</td>\n",
              "      <td>0.204545</td>\n",
              "      <td>другой</td>\n",
              "    </tr>\n",
              "    <tr>\n",
              "      <th>23675</th>\n",
              "      <td>8</td>\n",
              "      <td>3550000.0</td>\n",
              "      <td>39</td>\n",
              "      <td>2016-10-03</td>\n",
              "      <td>1</td>\n",
              "      <td>2</td>\n",
              "      <td>16.0</td>\n",
              "      <td>19</td>\n",
              "      <td>13</td>\n",
              "      <td>False</td>\n",
              "      <td>False</td>\n",
              "      <td>False</td>\n",
              "      <td>8</td>\n",
              "      <td>0.0</td>\n",
              "      <td>Санкт-Петербург</td>\n",
              "      <td>25740.0</td>\n",
              "      <td>14951.0</td>\n",
              "      <td>0.0</td>\n",
              "      <td>460.0</td>\n",
              "      <td>0.0</td>\n",
              "      <td>504.0</td>\n",
              "      <td>721.0</td>\n",
              "      <td>0.481013</td>\n",
              "      <td>0.215190</td>\n",
              "      <td>0</td>\n",
              "      <td>10</td>\n",
              "      <td>2016</td>\n",
              "      <td>89873</td>\n",
              "      <td>0.481013</td>\n",
              "      <td>0.215190</td>\n",
              "      <td>другой</td>\n",
              "    </tr>\n",
              "  </tbody>\n",
              "</table>\n",
              "<p>668 rows × 31 columns</p>\n",
              "</div>\n",
              "      <button class=\"colab-df-convert\" onclick=\"convertToInteractive('df-9a95027e-3ae4-4566-a39b-4698a3ab65eb')\"\n",
              "              title=\"Convert this dataframe to an interactive table.\"\n",
              "              style=\"display:none;\">\n",
              "        \n",
              "  <svg xmlns=\"http://www.w3.org/2000/svg\" height=\"24px\"viewBox=\"0 0 24 24\"\n",
              "       width=\"24px\">\n",
              "    <path d=\"M0 0h24v24H0V0z\" fill=\"none\"/>\n",
              "    <path d=\"M18.56 5.44l.94 2.06.94-2.06 2.06-.94-2.06-.94-.94-2.06-.94 2.06-2.06.94zm-11 1L8.5 8.5l.94-2.06 2.06-.94-2.06-.94L8.5 2.5l-.94 2.06-2.06.94zm10 10l.94 2.06.94-2.06 2.06-.94-2.06-.94-.94-2.06-.94 2.06-2.06.94z\"/><path d=\"M17.41 7.96l-1.37-1.37c-.4-.4-.92-.59-1.43-.59-.52 0-1.04.2-1.43.59L10.3 9.45l-7.72 7.72c-.78.78-.78 2.05 0 2.83L4 21.41c.39.39.9.59 1.41.59.51 0 1.02-.2 1.41-.59l7.78-7.78 2.81-2.81c.8-.78.8-2.07 0-2.86zM5.41 20L4 18.59l7.72-7.72 1.47 1.35L5.41 20z\"/>\n",
              "  </svg>\n",
              "      </button>\n",
              "      \n",
              "  <style>\n",
              "    .colab-df-container {\n",
              "      display:flex;\n",
              "      flex-wrap:wrap;\n",
              "      gap: 12px;\n",
              "    }\n",
              "\n",
              "    .colab-df-convert {\n",
              "      background-color: #E8F0FE;\n",
              "      border: none;\n",
              "      border-radius: 50%;\n",
              "      cursor: pointer;\n",
              "      display: none;\n",
              "      fill: #1967D2;\n",
              "      height: 32px;\n",
              "      padding: 0 0 0 0;\n",
              "      width: 32px;\n",
              "    }\n",
              "\n",
              "    .colab-df-convert:hover {\n",
              "      background-color: #E2EBFA;\n",
              "      box-shadow: 0px 1px 2px rgba(60, 64, 67, 0.3), 0px 1px 3px 1px rgba(60, 64, 67, 0.15);\n",
              "      fill: #174EA6;\n",
              "    }\n",
              "\n",
              "    [theme=dark] .colab-df-convert {\n",
              "      background-color: #3B4455;\n",
              "      fill: #D2E3FC;\n",
              "    }\n",
              "\n",
              "    [theme=dark] .colab-df-convert:hover {\n",
              "      background-color: #434B5C;\n",
              "      box-shadow: 0px 1px 3px 1px rgba(0, 0, 0, 0.15);\n",
              "      filter: drop-shadow(0px 1px 2px rgba(0, 0, 0, 0.3));\n",
              "      fill: #FFFFFF;\n",
              "    }\n",
              "  </style>\n",
              "\n",
              "      <script>\n",
              "        const buttonEl =\n",
              "          document.querySelector('#df-9a95027e-3ae4-4566-a39b-4698a3ab65eb button.colab-df-convert');\n",
              "        buttonEl.style.display =\n",
              "          google.colab.kernel.accessAllowed ? 'block' : 'none';\n",
              "\n",
              "        async function convertToInteractive(key) {\n",
              "          const element = document.querySelector('#df-9a95027e-3ae4-4566-a39b-4698a3ab65eb');\n",
              "          const dataTable =\n",
              "            await google.colab.kernel.invokeFunction('convertToInteractive',\n",
              "                                                     [key], {});\n",
              "          if (!dataTable) return;\n",
              "\n",
              "          const docLinkHtml = 'Like what you see? Visit the ' +\n",
              "            '<a target=\"_blank\" href=https://colab.research.google.com/notebooks/data_table.ipynb>data table notebook</a>'\n",
              "            + ' to learn more about interactive tables.';\n",
              "          element.innerHTML = '';\n",
              "          dataTable['output_type'] = 'display_data';\n",
              "          await google.colab.output.renderOutput(dataTable, element);\n",
              "          const docLink = document.createElement('div');\n",
              "          docLink.innerHTML = docLinkHtml;\n",
              "          element.appendChild(docLink);\n",
              "        }\n",
              "      </script>\n",
              "    </div>\n",
              "  </div>\n",
              "  "
            ],
            "text/plain": [
              "       total_images  ...  floor_category\n",
              "23               11  ...       последний\n",
              "98               11  ...          другой\n",
              "145               6  ...          другой\n",
              "213              11  ...          другой\n",
              "248               7  ...          другой\n",
              "...             ...  ...             ...\n",
              "23627            11  ...          другой\n",
              "23648            14  ...       последний\n",
              "23664             5  ...          другой\n",
              "23672             5  ...          другой\n",
              "23675             8  ...          другой\n",
              "\n",
              "[668 rows x 31 columns]"
            ]
          },
          "metadata": {},
          "execution_count": 66
        }
      ],
      "source": [
        "saint_p"
      ]
    },
    {
      "cell_type": "code",
      "execution_count": 67,
      "metadata": {
        "colab": {
          "base_uri": "https://localhost:8080/"
        },
        "id": "aUFH79rhY2wc",
        "outputId": "ac20ba01-5815-4411-c103-a1b003e061d0"
      },
      "outputs": [
        {
          "output_type": "stream",
          "name": "stderr",
          "text": [
            "/usr/local/lib/python3.7/dist-packages/ipykernel_launcher.py:1: SettingWithCopyWarning: \n",
            "A value is trying to be set on a copy of a slice from a DataFrame.\n",
            "Try using .loc[row_indexer,col_indexer] = value instead\n",
            "\n",
            "See the caveats in the documentation: https://pandas.pydata.org/pandas-docs/stable/user_guide/indexing.html#returning-a-view-versus-a-copy\n",
            "  \"\"\"Entry point for launching an IPython kernel.\n",
            "/usr/local/lib/python3.7/dist-packages/ipykernel_launcher.py:2: SettingWithCopyWarning: \n",
            "A value is trying to be set on a copy of a slice from a DataFrame.\n",
            "Try using .loc[row_indexer,col_indexer] = value instead\n",
            "\n",
            "See the caveats in the documentation: https://pandas.pydata.org/pandas-docs/stable/user_guide/indexing.html#returning-a-view-versus-a-copy\n",
            "  \n"
          ]
        }
      ],
      "source": [
        "saint_p['city_center_km'] = saint_p['cityCenters_nearest'] / 1000\n",
        "saint_p['city_center_km'] = saint_p['city_center_km'].astype(int)"
      ]
    },
    {
      "cell_type": "code",
      "execution_count": 68,
      "metadata": {
        "colab": {
          "base_uri": "https://localhost:8080/",
          "height": 308
        },
        "id": "zo5ieoX7Y2wc",
        "outputId": "a1dbf45b-cbb1-4265-db1a-0d7b8cec40db"
      },
      "outputs": [
        {
          "output_type": "execute_result",
          "data": {
            "text/html": [
              "\n",
              "  <div id=\"df-93b65c7a-67ab-43d1-aa93-65cd5cc015ef\">\n",
              "    <div class=\"colab-df-container\">\n",
              "      <div>\n",
              "<style scoped>\n",
              "    .dataframe tbody tr th:only-of-type {\n",
              "        vertical-align: middle;\n",
              "    }\n",
              "\n",
              "    .dataframe tbody tr th {\n",
              "        vertical-align: top;\n",
              "    }\n",
              "\n",
              "    .dataframe thead th {\n",
              "        text-align: right;\n",
              "    }\n",
              "</style>\n",
              "<table border=\"1\" class=\"dataframe\">\n",
              "  <thead>\n",
              "    <tr style=\"text-align: right;\">\n",
              "      <th></th>\n",
              "      <th>total_images</th>\n",
              "      <th>last_price</th>\n",
              "      <th>total_area</th>\n",
              "      <th>first_day_exposition</th>\n",
              "      <th>rooms</th>\n",
              "      <th>ceiling_height</th>\n",
              "      <th>floors_total</th>\n",
              "      <th>living_area</th>\n",
              "      <th>floor</th>\n",
              "      <th>is_apartment</th>\n",
              "      <th>studio</th>\n",
              "      <th>open_plan</th>\n",
              "      <th>kitchen_area</th>\n",
              "      <th>balcony</th>\n",
              "      <th>locality_name</th>\n",
              "      <th>airports_nearest</th>\n",
              "      <th>cityCenters_nearest</th>\n",
              "      <th>parks_around3000</th>\n",
              "      <th>parks_nearest</th>\n",
              "      <th>ponds_around3000</th>\n",
              "      <th>ponds_nearest</th>\n",
              "      <th>days_exposition</th>\n",
              "      <th>live_coef</th>\n",
              "      <th>kitchen_coef</th>\n",
              "      <th>weekday</th>\n",
              "      <th>month</th>\n",
              "      <th>year</th>\n",
              "      <th>price_per_square_meter</th>\n",
              "      <th>proportion_living_to_total_area</th>\n",
              "      <th>proportion_kitchen_to_total_area</th>\n",
              "      <th>floor_category</th>\n",
              "      <th>city_center_km</th>\n",
              "    </tr>\n",
              "  </thead>\n",
              "  <tbody>\n",
              "    <tr>\n",
              "      <th>23</th>\n",
              "      <td>11</td>\n",
              "      <td>2950000.0</td>\n",
              "      <td>32</td>\n",
              "      <td>2016-10-29</td>\n",
              "      <td>1</td>\n",
              "      <td>2</td>\n",
              "      <td>9.0</td>\n",
              "      <td>17</td>\n",
              "      <td>9</td>\n",
              "      <td>False</td>\n",
              "      <td>False</td>\n",
              "      <td>False</td>\n",
              "      <td>6</td>\n",
              "      <td>0.0</td>\n",
              "      <td>Санкт-Петербург</td>\n",
              "      <td>15414.0</td>\n",
              "      <td>14211.0</td>\n",
              "      <td>2.0</td>\n",
              "      <td>517.0</td>\n",
              "      <td>1.0</td>\n",
              "      <td>190.0</td>\n",
              "      <td>615.0</td>\n",
              "      <td>0.553125</td>\n",
              "      <td>0.190625</td>\n",
              "      <td>5</td>\n",
              "      <td>10</td>\n",
              "      <td>2016</td>\n",
              "      <td>92187</td>\n",
              "      <td>0.553125</td>\n",
              "      <td>0.190625</td>\n",
              "      <td>последний</td>\n",
              "      <td>14</td>\n",
              "    </tr>\n",
              "    <tr>\n",
              "      <th>98</th>\n",
              "      <td>11</td>\n",
              "      <td>11700000.0</td>\n",
              "      <td>80</td>\n",
              "      <td>2014-12-10</td>\n",
              "      <td>3</td>\n",
              "      <td>2</td>\n",
              "      <td>5.0</td>\n",
              "      <td>55</td>\n",
              "      <td>3</td>\n",
              "      <td>False</td>\n",
              "      <td>False</td>\n",
              "      <td>False</td>\n",
              "      <td>11</td>\n",
              "      <td>0.0</td>\n",
              "      <td>Санкт-Петербург</td>\n",
              "      <td>11248.0</td>\n",
              "      <td>8767.0</td>\n",
              "      <td>1.0</td>\n",
              "      <td>666.0</td>\n",
              "      <td>0.0</td>\n",
              "      <td>504.0</td>\n",
              "      <td>831.0</td>\n",
              "      <td>0.688750</td>\n",
              "      <td>0.137500</td>\n",
              "      <td>2</td>\n",
              "      <td>12</td>\n",
              "      <td>2014</td>\n",
              "      <td>146250</td>\n",
              "      <td>0.688750</td>\n",
              "      <td>0.137500</td>\n",
              "      <td>другой</td>\n",
              "      <td>8</td>\n",
              "    </tr>\n",
              "    <tr>\n",
              "      <th>145</th>\n",
              "      <td>6</td>\n",
              "      <td>8290000.0</td>\n",
              "      <td>77</td>\n",
              "      <td>2015-09-21</td>\n",
              "      <td>2</td>\n",
              "      <td>2</td>\n",
              "      <td>16.0</td>\n",
              "      <td>40</td>\n",
              "      <td>5</td>\n",
              "      <td>False</td>\n",
              "      <td>False</td>\n",
              "      <td>False</td>\n",
              "      <td>10</td>\n",
              "      <td>1.0</td>\n",
              "      <td>Санкт-Петербург</td>\n",
              "      <td>30012.0</td>\n",
              "      <td>7384.0</td>\n",
              "      <td>0.0</td>\n",
              "      <td>460.0</td>\n",
              "      <td>1.0</td>\n",
              "      <td>260.0</td>\n",
              "      <td>807.0</td>\n",
              "      <td>0.519481</td>\n",
              "      <td>0.129870</td>\n",
              "      <td>0</td>\n",
              "      <td>9</td>\n",
              "      <td>2015</td>\n",
              "      <td>107662</td>\n",
              "      <td>0.519481</td>\n",
              "      <td>0.129870</td>\n",
              "      <td>другой</td>\n",
              "      <td>7</td>\n",
              "    </tr>\n",
              "    <tr>\n",
              "      <th>213</th>\n",
              "      <td>11</td>\n",
              "      <td>8700000.0</td>\n",
              "      <td>111</td>\n",
              "      <td>2016-10-10</td>\n",
              "      <td>4</td>\n",
              "      <td>3</td>\n",
              "      <td>4.0</td>\n",
              "      <td>73</td>\n",
              "      <td>2</td>\n",
              "      <td>False</td>\n",
              "      <td>False</td>\n",
              "      <td>False</td>\n",
              "      <td>14</td>\n",
              "      <td>0.0</td>\n",
              "      <td>Санкт-Петербург</td>\n",
              "      <td>20936.0</td>\n",
              "      <td>1218.0</td>\n",
              "      <td>1.0</td>\n",
              "      <td>463.0</td>\n",
              "      <td>3.0</td>\n",
              "      <td>55.0</td>\n",
              "      <td>791.0</td>\n",
              "      <td>0.657092</td>\n",
              "      <td>0.126571</td>\n",
              "      <td>0</td>\n",
              "      <td>10</td>\n",
              "      <td>2016</td>\n",
              "      <td>78096</td>\n",
              "      <td>0.657092</td>\n",
              "      <td>0.126571</td>\n",
              "      <td>другой</td>\n",
              "      <td>1</td>\n",
              "    </tr>\n",
              "  </tbody>\n",
              "</table>\n",
              "</div>\n",
              "      <button class=\"colab-df-convert\" onclick=\"convertToInteractive('df-93b65c7a-67ab-43d1-aa93-65cd5cc015ef')\"\n",
              "              title=\"Convert this dataframe to an interactive table.\"\n",
              "              style=\"display:none;\">\n",
              "        \n",
              "  <svg xmlns=\"http://www.w3.org/2000/svg\" height=\"24px\"viewBox=\"0 0 24 24\"\n",
              "       width=\"24px\">\n",
              "    <path d=\"M0 0h24v24H0V0z\" fill=\"none\"/>\n",
              "    <path d=\"M18.56 5.44l.94 2.06.94-2.06 2.06-.94-2.06-.94-.94-2.06-.94 2.06-2.06.94zm-11 1L8.5 8.5l.94-2.06 2.06-.94-2.06-.94L8.5 2.5l-.94 2.06-2.06.94zm10 10l.94 2.06.94-2.06 2.06-.94-2.06-.94-.94-2.06-.94 2.06-2.06.94z\"/><path d=\"M17.41 7.96l-1.37-1.37c-.4-.4-.92-.59-1.43-.59-.52 0-1.04.2-1.43.59L10.3 9.45l-7.72 7.72c-.78.78-.78 2.05 0 2.83L4 21.41c.39.39.9.59 1.41.59.51 0 1.02-.2 1.41-.59l7.78-7.78 2.81-2.81c.8-.78.8-2.07 0-2.86zM5.41 20L4 18.59l7.72-7.72 1.47 1.35L5.41 20z\"/>\n",
              "  </svg>\n",
              "      </button>\n",
              "      \n",
              "  <style>\n",
              "    .colab-df-container {\n",
              "      display:flex;\n",
              "      flex-wrap:wrap;\n",
              "      gap: 12px;\n",
              "    }\n",
              "\n",
              "    .colab-df-convert {\n",
              "      background-color: #E8F0FE;\n",
              "      border: none;\n",
              "      border-radius: 50%;\n",
              "      cursor: pointer;\n",
              "      display: none;\n",
              "      fill: #1967D2;\n",
              "      height: 32px;\n",
              "      padding: 0 0 0 0;\n",
              "      width: 32px;\n",
              "    }\n",
              "\n",
              "    .colab-df-convert:hover {\n",
              "      background-color: #E2EBFA;\n",
              "      box-shadow: 0px 1px 2px rgba(60, 64, 67, 0.3), 0px 1px 3px 1px rgba(60, 64, 67, 0.15);\n",
              "      fill: #174EA6;\n",
              "    }\n",
              "\n",
              "    [theme=dark] .colab-df-convert {\n",
              "      background-color: #3B4455;\n",
              "      fill: #D2E3FC;\n",
              "    }\n",
              "\n",
              "    [theme=dark] .colab-df-convert:hover {\n",
              "      background-color: #434B5C;\n",
              "      box-shadow: 0px 1px 3px 1px rgba(0, 0, 0, 0.15);\n",
              "      filter: drop-shadow(0px 1px 2px rgba(0, 0, 0, 0.3));\n",
              "      fill: #FFFFFF;\n",
              "    }\n",
              "  </style>\n",
              "\n",
              "      <script>\n",
              "        const buttonEl =\n",
              "          document.querySelector('#df-93b65c7a-67ab-43d1-aa93-65cd5cc015ef button.colab-df-convert');\n",
              "        buttonEl.style.display =\n",
              "          google.colab.kernel.accessAllowed ? 'block' : 'none';\n",
              "\n",
              "        async function convertToInteractive(key) {\n",
              "          const element = document.querySelector('#df-93b65c7a-67ab-43d1-aa93-65cd5cc015ef');\n",
              "          const dataTable =\n",
              "            await google.colab.kernel.invokeFunction('convertToInteractive',\n",
              "                                                     [key], {});\n",
              "          if (!dataTable) return;\n",
              "\n",
              "          const docLinkHtml = 'Like what you see? Visit the ' +\n",
              "            '<a target=\"_blank\" href=https://colab.research.google.com/notebooks/data_table.ipynb>data table notebook</a>'\n",
              "            + ' to learn more about interactive tables.';\n",
              "          element.innerHTML = '';\n",
              "          dataTable['output_type'] = 'display_data';\n",
              "          await google.colab.output.renderOutput(dataTable, element);\n",
              "          const docLink = document.createElement('div');\n",
              "          docLink.innerHTML = docLinkHtml;\n",
              "          element.appendChild(docLink);\n",
              "        }\n",
              "      </script>\n",
              "    </div>\n",
              "  </div>\n",
              "  "
            ],
            "text/plain": [
              "     total_images  last_price  ...  floor_category city_center_km\n",
              "23             11   2950000.0  ...       последний             14\n",
              "98             11  11700000.0  ...          другой              8\n",
              "145             6   8290000.0  ...          другой              7\n",
              "213            11   8700000.0  ...          другой              1\n",
              "\n",
              "[4 rows x 32 columns]"
            ]
          },
          "metadata": {},
          "execution_count": 68
        }
      ],
      "source": [
        "saint_p.head(4)"
      ]
    },
    {
      "cell_type": "code",
      "execution_count": 69,
      "metadata": {
        "colab": {
          "base_uri": "https://localhost:8080/"
        },
        "id": "o59L0cqgY2wd",
        "outputId": "958126c5-a069-4fff-b9cd-69314ca70b50"
      },
      "outputs": [
        {
          "output_type": "stream",
          "name": "stderr",
          "text": [
            "/usr/local/lib/python3.7/dist-packages/ipykernel_launcher.py:1: SettingWithCopyWarning: \n",
            "A value is trying to be set on a copy of a slice from a DataFrame.\n",
            "Try using .loc[row_indexer,col_indexer] = value instead\n",
            "\n",
            "See the caveats in the documentation: https://pandas.pydata.org/pandas-docs/stable/user_guide/indexing.html#returning-a-view-versus-a-copy\n",
            "  \"\"\"Entry point for launching an IPython kernel.\n"
          ]
        }
      ],
      "source": [
        "saint_p['price_per_km'] = saint_p['last_price'] / saint_p['city_center_km']"
      ]
    },
    {
      "cell_type": "code",
      "execution_count": 70,
      "metadata": {
        "colab": {
          "base_uri": "https://localhost:8080/",
          "height": 242
        },
        "id": "-CDRpdhZY2wd",
        "outputId": "035c1c3c-b6c3-44c6-cb57-717a7bc282a9"
      },
      "outputs": [
        {
          "output_type": "display_data",
          "data": {
            "image/png": "[encoded data removed]",
            "text/plain": [
              "<Figure size 576x216 with 1 Axes>"
            ]
          },
          "metadata": {
            "needs_background": "light"
          }
        }
      ],
      "source": [
        "saint_p.plot(kind='scatter' , x='city_center_km', y='price_per_km', figsize=(8,3))\n",
        "plt.title('Стоимость кв.м. в зависимости от удаленности от центра')\n",
        "plt.show()"
      ]
    },
    {
      "cell_type": "code",
      "execution_count": 71,
      "metadata": {
        "id": "VZ6z0ELtY2wd"
      },
      "outputs": [],
      "source": [
        "saint_p_center = saint_p.query('(city_center_km <= 6)')"
      ]
    },
    {
      "cell_type": "code",
      "execution_count": 72,
      "metadata": {
        "id": "qdXDdGHqY2we"
      },
      "outputs": [],
      "source": [
        "saint_p_not_center = saint_p.query('(city_center_km > 6)')"
      ]
    },
    {
      "cell_type": "code",
      "execution_count": 73,
      "metadata": {
        "colab": {
          "base_uri": "https://localhost:8080/"
        },
        "id": "2B5jOKY-Y2we",
        "outputId": "123cc1e1-2988-4c8c-8848-ad8cdbebcee1"
      },
      "outputs": [
        {
          "output_type": "execute_result",
          "data": {
            "text/plain": [
              "Index(['total_images', 'last_price', 'total_area', 'first_day_exposition',\n",
              "       'rooms', 'ceiling_height', 'floors_total', 'living_area', 'floor',\n",
              "       'is_apartment', 'studio', 'open_plan', 'kitchen_area', 'balcony',\n",
              "       'locality_name', 'airports_nearest', 'cityCenters_nearest',\n",
              "       'parks_around3000', 'parks_nearest', 'ponds_around3000',\n",
              "       'ponds_nearest', 'days_exposition', 'live_coef', 'kitchen_coef',\n",
              "       'weekday', 'month', 'year', 'price_per_square_meter',\n",
              "       'proportion_living_to_total_area', 'proportion_kitchen_to_total_area',\n",
              "       'floor_category', 'city_center_km', 'price_per_km'],\n",
              "      dtype='object')"
            ]
          },
          "metadata": {},
          "execution_count": 73
        }
      ],
      "source": [
        "saint_p_center.columns"
      ]
    },
    {
      "cell_type": "code",
      "execution_count": 74,
      "metadata": {
        "colab": {
          "base_uri": "https://localhost:8080/",
          "height": 390
        },
        "id": "Qr62ELbUY2we",
        "outputId": "a109195e-7a26-4119-8b74-d4df197093bf"
      },
      "outputs": [
        {
          "output_type": "display_data",
          "data": {
            "image/png": "[encoded data removed]",
            "text/plain": [
              "<Figure size 720x432 with 4 Axes>"
            ]
          },
          "metadata": {
            "needs_background": "light"
          }
        }
      ],
      "source": [
        "saint_p_center.hist(column=[\"last_price\", \"total_area\", \"rooms\"], bins =20, figsize=(10, 6),color='orange')\n",
        "plt.show()"
      ]
    },
    {
      "cell_type": "code",
      "execution_count": 75,
      "metadata": {
        "scrolled": true,
        "colab": {
          "base_uri": "https://localhost:8080/",
          "height": 390
        },
        "id": "D-WIL7U6Y2we",
        "outputId": "7fd8e4c3-3fc6-4527-fbf1-5ac531c1e8e2"
      },
      "outputs": [
        {
          "output_type": "display_data",
          "data": {
            "image/png": "[encoded data removed]",
            "text/plain": [
              "<Figure size 720x432 with 4 Axes>"
            ]
          },
          "metadata": {
            "needs_background": "light"
          }
        }
      ],
      "source": [
        "saint_p_not_center.hist(column=[\"last_price\", \"total_area\", \"rooms\"], bins =20, figsize=(10, 6))\n",
        "plt.show()"
      ]
    },
    {
      "cell_type": "code",
      "execution_count": 76,
      "metadata": {
        "colab": {
          "base_uri": "https://localhost:8080/",
          "height": 403
        },
        "id": "A9ygQv1KY2wf",
        "outputId": "e695541c-e079-43c2-b39f-3bad40641e82"
      },
      "outputs": [
        {
          "output_type": "display_data",
          "data": {
            "image/png": "[encoded data removed]",
            "text/plain": [
              "<Figure size 720x432 with 1 Axes>"
            ]
          },
          "metadata": {
            "needs_background": "light"
          }
        }
      ],
      "source": [
        "saint_p_not_center['last_price'].hist(bins =20, figsize=(10, 6),alpha=0.7)\n",
        "saint_p_center['last_price'].hist(bins =20, figsize=(10, 6),alpha=0.7)\n",
        "plt.title('Цена квартиры в центре и за его пределами')\n",
        "plt.show()"
      ]
    },
    {
      "cell_type": "code",
      "execution_count": 77,
      "metadata": {
        "colab": {
          "base_uri": "https://localhost:8080/",
          "height": 390
        },
        "id": "U3YoGRtbY2wf",
        "outputId": "44e56cfe-b91e-47be-ef28-916004eafabd"
      },
      "outputs": [
        {
          "output_type": "display_data",
          "data": {
            "image/png": "[encoded data removed]",
            "text/plain": [
              "<Figure size 720x432 with 1 Axes>"
            ]
          },
          "metadata": {
            "needs_background": "light"
          }
        }
      ],
      "source": [
        "saint_p_not_center['living_area'].hist(bins =20, figsize=(10, 6),alpha=0.7)\n",
        "saint_p_center['living_area'].hist(bins =20, figsize=(10, 6),alpha=0.7)\n",
        "plt.title('Размер жилой площади в центре и за его пределами')\n",
        "plt.show()"
      ]
    },
    {
      "cell_type": "code",
      "execution_count": 78,
      "metadata": {
        "colab": {
          "base_uri": "https://localhost:8080/",
          "height": 390
        },
        "id": "t8nZ04FBY2wf",
        "outputId": "e1cfba3b-6564-497f-8f62-e1bd33ab6c2c"
      },
      "outputs": [
        {
          "output_type": "display_data",
          "data": {
            "image/png": "[encoded data removed]",
            "text/plain": [
              "<Figure size 720x432 with 1 Axes>"
            ]
          },
          "metadata": {
            "needs_background": "light"
          }
        }
      ],
      "source": [
        "saint_p_not_center['price_per_square_meter'].hist(bins =20, figsize=(10, 6),alpha=0.7)\n",
        "saint_p_center['price_per_square_meter'].hist(bins =20, figsize=(10, 6),alpha=0.7)\n",
        "plt.title('Цена кв.м. в центре и за его пределами')\n",
        "plt.show()"
      ]
    },
    {
      "cell_type": "code",
      "execution_count": 79,
      "metadata": {
        "colab": {
          "base_uri": "https://localhost:8080/",
          "height": 390
        },
        "id": "FAswAgPRY2wf",
        "outputId": "927f3bcc-27a5-4f21-9737-aa6a0c12687d"
      },
      "outputs": [
        {
          "output_type": "display_data",
          "data": {
            "image/png": "[encoded data removed]",
            "text/plain": [
              "<Figure size 720x432 with 1 Axes>"
            ]
          },
          "metadata": {
            "needs_background": "light"
          }
        }
      ],
      "source": [
        "saint_p_not_center['kitchen_area'].hist(bins =20, figsize=(10, 6),alpha=0.7)\n",
        "saint_p_center['kitchen_area'].hist(bins =20, figsize=(10, 6),alpha=0.7)\n",
        "plt.title('Размер кухни в центре и за его пределами')\n",
        "plt.show()"
      ]
    },
    {
      "cell_type": "code",
      "execution_count": 80,
      "metadata": {
        "colab": {
          "base_uri": "https://localhost:8080/",
          "height": 390
        },
        "id": "Qeu6CRV-Y2wg",
        "outputId": "038ec965-64c4-4cba-fc42-6bd19badbc07"
      },
      "outputs": [
        {
          "output_type": "display_data",
          "data": {
            "image/png": "[encoded data removed]",
            "text/plain": [
              "<Figure size 720x432 with 1 Axes>"
            ]
          },
          "metadata": {
            "needs_background": "light"
          }
        }
      ],
      "source": [
        "saint_p_not_center['total_area'].hist(bins =20, figsize=(10, 6),alpha=0.7)\n",
        "saint_p_center['total_area'].hist(bins =20, figsize=(10, 6),alpha=0.7)\n",
        "plt.title('Общая площадь квартиры в центре и за его пределами')\n",
        "plt.show()"
      ]
    },
    {
      "cell_type": "code",
      "execution_count": 81,
      "metadata": {
        "colab": {
          "base_uri": "https://localhost:8080/",
          "height": 390
        },
        "id": "aGb_OfC9Y2wg",
        "outputId": "e09ff42c-7b67-40a9-e388-f0a8ee6fb65b"
      },
      "outputs": [
        {
          "output_type": "display_data",
          "data": {
            "image/png": "[encoded data removed]",
            "text/plain": [
              "<Figure size 720x432 with 1 Axes>"
            ]
          },
          "metadata": {
            "needs_background": "light"
          }
        }
      ],
      "source": [
        "saint_p_not_center['rooms'].hist(bins =20, figsize=(10, 6),alpha=0.7)\n",
        "saint_p_center['rooms'].hist(bins =20, figsize=(10, 6),alpha=0.7)\n",
        "plt.title('Количество комнат в центре и за его пределами')\n",
        "plt.show()"
      ]
    },
    {
      "cell_type": "code",
      "execution_count": 82,
      "metadata": {
        "colab": {
          "base_uri": "https://localhost:8080/",
          "height": 355
        },
        "id": "Nj1cQL3qY2wh",
        "outputId": "478c10fe-06dd-489f-bbb0-3a7323ffe0ac"
      },
      "outputs": [
        {
          "output_type": "display_data",
          "data": {
            "image/png": "[encoded data removed]",
            "text/plain": [
              "<Figure size 576x360 with 1 Axes>"
            ]
          },
          "metadata": {}
        }
      ],
      "source": [
        "sns.set(rc={'figure.figsize':(8,5)})\n",
        "sns.barplot(x=\"floor_category\", y=\"last_price\", data=saint_p_center) \n",
        "plt.title('Стоимость квартиры в зависимости от этажа (центр города)')\n",
        "plt.show()"
      ]
    },
    {
      "cell_type": "code",
      "execution_count": 83,
      "metadata": {
        "colab": {
          "base_uri": "https://localhost:8080/",
          "height": 355
        },
        "id": "_BS8KuIcY2wh",
        "outputId": "e1f8ca37-fe06-4617-862e-b36f11479d49"
      },
      "outputs": [
        {
          "output_type": "display_data",
          "data": {
            "image/png": "[encoded data removed]",
            "text/plain": [
              "<Figure size 576x360 with 1 Axes>"
            ]
          },
          "metadata": {}
        }
      ],
      "source": [
        "sns.barplot(x=\"month\", y=\"last_price\", data=saint_p_center) \n",
        "plt.title('Цена по месяцам (центр города)')\n",
        "plt.show()"
      ]
    },
    {
      "cell_type": "code",
      "execution_count": 84,
      "metadata": {
        "colab": {
          "base_uri": "https://localhost:8080/",
          "height": 355
        },
        "id": "w8t3sbtqY2wi",
        "outputId": "1b38b750-2d04-44bb-8af7-5b8629fd694b"
      },
      "outputs": [
        {
          "output_type": "display_data",
          "data": {
            "image/png": "[encoded data removed]",
            "text/plain": [
              "<Figure size 576x360 with 1 Axes>"
            ]
          },
          "metadata": {}
        }
      ],
      "source": [
        "sns.barplot(x=\"year\", y=\"last_price\", data=saint_p_center) \n",
        "plt.title('Цена по годам (центр города)')\n",
        "plt.show()"
      ]
    },
    {
      "cell_type": "code",
      "execution_count": 85,
      "metadata": {
        "colab": {
          "base_uri": "https://localhost:8080/",
          "height": 355
        },
        "id": "UTcbbs5gY2wi",
        "outputId": "bbb6f008-77c7-4387-93be-4645f928ea9b"
      },
      "outputs": [
        {
          "output_type": "display_data",
          "data": {
            "image/png": "[encoded data removed]",
            "text/plain": [
              "<Figure size 504x360 with 1 Axes>"
            ]
          },
          "metadata": {}
        }
      ],
      "source": [
        "sns.set(rc={'figure.figsize':(7,5)})\n",
        "sns.barplot(x=\"weekday\", y=\"last_price\", data=saint_p_center) \n",
        "plt.title('Цена квартиры по дням недели в центре города')\n",
        "plt.show()"
      ]
    },
    {
      "cell_type": "markdown",
      "metadata": {
        "id": "rQv75k9jY2wi"
      },
      "source": [
        "## Conclusion\n",
        "1. На стоимость квартиры в Санкт-Петербурге влияют: стоимость квадратного метра, удаленность от центра, количество комнат, общая площадь\n",
        "2. В центре города квартиры гораздо дороже, чем за его пределами\n",
        "3. Количество комнат в квартирах центрального округа больше, чем за его пределами\n",
        "4. Площадь квартир в центре города больше, чем за его пределами\n",
        "5. В центре Питера люди предпочитают квартиры не на 1-ом и не на последнем этажах"
      ]
    },
    {
      "cell_type": "markdown",
      "metadata": {
        "id": "v4ALefrfY2wj"
      },
      "source": [
        "Нам удалось выяснить, что больше всего объявлений по продаже квартир было в Санкт-Петербурге, а также в этом городе самые дорогие квартиры.\n",
        "Если говорить в общих чертах, то мы убедились, что на стоимость квартиры  влияют: общая площадь, жилая площадь, площадь кухни, этаж (высоко ценится последний этаж), удалённость от центра.\n",
        "\n",
        "Лучше всего квартиры продавались в 2014 г, а вот в центре Питера - в 2017\n",
        "\n",
        "На примере Питера мы убедились, что жильё в центре (и его окрестностях) ценится гораздо дороже спальных районов."
      ]
    },
    {
      "cell_type": "markdown",
      "source": [
        "1. Price for square meter, quantity of rooms and how many km from a flat to downtown impact the last price in Saint-Petersburg\n",
        "2. In downtown flat more expensive than in different areas\n",
        "3. Count of rooms in the downtown more than in different areas\n",
        "4. In downtown total area bigger than in different areas\n",
        "5. In downtown, people prefer flats, not on the first or last floor\n",
        "\n",
        "We understood that the most popular city announcing flats is Sant Petersburg. In this city, apartments are more expensive than in different cities. The best year for sale was 2014, but in downtown - 2017\n"
      ],
      "metadata": {
        "id": "ExVa53_6x7pL"
      }
    }
  ],
  "metadata": {
    "ExecuteTimeLog": [
      {
        "duration": 4,
        "start_time": "2021-09-14T13:35:05.256Z"
      },
      {
        "duration": 320,
        "start_time": "2021-09-14T13:35:18.390Z"
      },
      {
        "duration": 282,
        "start_time": "2021-09-14T13:35:39.041Z"
      },
      {
        "duration": 761,
        "start_time": "2021-09-14T13:35:45.064Z"
      },
      {
        "duration": 32,
        "start_time": "2021-09-14T13:35:47.913Z"
      },
      {
        "duration": 727,
        "start_time": "2021-09-14T13:35:55.271Z"
      },
      {
        "duration": 30,
        "start_time": "2021-09-14T13:35:56.000Z"
      },
      {
        "duration": 71,
        "start_time": "2021-09-14T13:35:56.032Z"
      },
      {
        "duration": 781,
        "start_time": "2021-09-14T13:35:56.105Z"
      },
      {
        "duration": 6,
        "start_time": "2021-09-14T13:35:56.888Z"
      },
      {
        "duration": 18,
        "start_time": "2021-09-14T13:35:56.895Z"
      },
      {
        "duration": 6,
        "start_time": "2021-09-14T13:35:56.915Z"
      },
      {
        "duration": 22,
        "start_time": "2021-09-14T13:35:56.923Z"
      },
      {
        "duration": 6,
        "start_time": "2021-09-14T13:35:56.947Z"
      },
      {
        "duration": 42,
        "start_time": "2021-09-14T13:35:56.955Z"
      },
      {
        "duration": 5,
        "start_time": "2021-09-14T13:35:56.999Z"
      },
      {
        "duration": 13,
        "start_time": "2021-09-14T13:35:57.006Z"
      },
      {
        "duration": 19,
        "start_time": "2021-09-14T13:35:57.021Z"
      },
      {
        "duration": 3,
        "start_time": "2021-09-14T13:35:57.041Z"
      },
      {
        "duration": 21,
        "start_time": "2021-09-14T13:35:57.046Z"
      },
      {
        "duration": 6,
        "start_time": "2021-09-14T13:36:20.993Z"
      },
      {
        "duration": 912,
        "start_time": "2021-09-19T10:56:34.749Z"
      },
      {
        "duration": 56,
        "start_time": "2021-09-19T10:56:37.149Z"
      },
      {
        "duration": 104,
        "start_time": "2021-09-19T10:56:40.508Z"
      },
      {
        "duration": 727,
        "start_time": "2021-09-19T10:56:43.172Z"
      },
      {
        "duration": 8,
        "start_time": "2021-09-19T11:01:55.075Z"
      },
      {
        "duration": 15,
        "start_time": "2021-09-19T11:01:55.540Z"
      },
      {
        "duration": 10,
        "start_time": "2021-09-19T11:01:55.946Z"
      },
      {
        "duration": 34,
        "start_time": "2021-09-19T11:01:56.643Z"
      },
      {
        "duration": 7,
        "start_time": "2021-09-19T11:02:07.259Z"
      },
      {
        "duration": 33,
        "start_time": "2021-09-19T11:02:07.899Z"
      },
      {
        "duration": 8,
        "start_time": "2021-09-19T11:02:15.476Z"
      },
      {
        "duration": 16,
        "start_time": "2021-09-19T11:02:16.098Z"
      },
      {
        "duration": 33,
        "start_time": "2021-09-19T11:02:16.826Z"
      },
      {
        "duration": 5,
        "start_time": "2021-09-19T11:02:31.506Z"
      },
      {
        "duration": 30,
        "start_time": "2021-09-19T11:02:31.954Z"
      },
      {
        "duration": 9,
        "start_time": "2021-09-19T11:02:32.482Z"
      },
      {
        "duration": 33,
        "start_time": "2021-09-19T11:03:12.346Z"
      },
      {
        "duration": 7,
        "start_time": "2021-09-19T11:04:04.449Z"
      },
      {
        "duration": 33,
        "start_time": "2021-09-19T11:04:17.793Z"
      },
      {
        "duration": 15,
        "start_time": "2021-09-19T11:05:01.642Z"
      },
      {
        "duration": 16,
        "start_time": "2021-09-19T11:05:54.995Z"
      },
      {
        "duration": 18,
        "start_time": "2021-09-19T11:06:04.185Z"
      },
      {
        "duration": 33,
        "start_time": "2021-09-19T11:06:16.106Z"
      },
      {
        "duration": 5,
        "start_time": "2021-09-19T12:00:22.019Z"
      },
      {
        "duration": 39,
        "start_time": "2021-09-19T12:00:32.626Z"
      },
      {
        "duration": 33,
        "start_time": "2021-09-19T12:00:43.722Z"
      },
      {
        "duration": 37,
        "start_time": "2021-09-19T12:00:55.714Z"
      },
      {
        "duration": 33,
        "start_time": "2021-09-19T12:00:58.082Z"
      },
      {
        "duration": 985,
        "start_time": "2021-09-19T12:01:24.867Z"
      },
      {
        "duration": 65,
        "start_time": "2021-09-19T12:01:25.855Z"
      },
      {
        "duration": 118,
        "start_time": "2021-09-19T12:01:25.923Z"
      },
      {
        "duration": 721,
        "start_time": "2021-09-19T12:01:26.044Z"
      },
      {
        "duration": 8,
        "start_time": "2021-09-19T12:01:26.767Z"
      },
      {
        "duration": 19,
        "start_time": "2021-09-19T12:01:26.778Z"
      },
      {
        "duration": 23,
        "start_time": "2021-09-19T12:01:26.799Z"
      },
      {
        "duration": 41,
        "start_time": "2021-09-19T12:01:26.826Z"
      },
      {
        "duration": 8,
        "start_time": "2021-09-19T12:01:26.870Z"
      },
      {
        "duration": 62,
        "start_time": "2021-09-19T12:01:26.880Z"
      },
      {
        "duration": 7,
        "start_time": "2021-09-19T12:01:26.945Z"
      },
      {
        "duration": 19,
        "start_time": "2021-09-19T12:01:26.954Z"
      },
      {
        "duration": 60,
        "start_time": "2021-09-19T12:01:26.976Z"
      },
      {
        "duration": 4,
        "start_time": "2021-09-19T12:01:27.039Z"
      },
      {
        "duration": 34,
        "start_time": "2021-09-19T12:01:27.045Z"
      },
      {
        "duration": 35,
        "start_time": "2021-09-19T12:01:27.081Z"
      },
      {
        "duration": 33,
        "start_time": "2021-09-19T12:01:27.119Z"
      },
      {
        "duration": 5,
        "start_time": "2021-09-19T12:01:27.155Z"
      },
      {
        "duration": 63,
        "start_time": "2021-09-19T12:01:27.163Z"
      },
      {
        "duration": 5,
        "start_time": "2021-09-19T12:01:27.228Z"
      },
      {
        "duration": 43,
        "start_time": "2021-09-19T12:01:27.236Z"
      },
      {
        "duration": 54,
        "start_time": "2021-09-19T12:01:27.282Z"
      },
      {
        "duration": 11,
        "start_time": "2021-09-19T12:01:27.340Z"
      },
      {
        "duration": 55,
        "start_time": "2021-09-19T12:01:27.353Z"
      },
      {
        "duration": 15,
        "start_time": "2021-09-19T12:04:01.005Z"
      },
      {
        "duration": 13,
        "start_time": "2021-09-19T12:37:55.237Z"
      },
      {
        "duration": 920,
        "start_time": "2021-09-19T12:38:07.457Z"
      },
      {
        "duration": 52,
        "start_time": "2021-09-19T12:38:08.946Z"
      },
      {
        "duration": 129,
        "start_time": "2021-09-19T12:38:09.194Z"
      },
      {
        "duration": 682,
        "start_time": "2021-09-19T12:38:10.514Z"
      },
      {
        "duration": 17,
        "start_time": "2021-09-19T12:38:11.199Z"
      },
      {
        "duration": 19,
        "start_time": "2021-09-19T12:38:11.219Z"
      },
      {
        "duration": 11,
        "start_time": "2021-09-19T12:38:11.337Z"
      },
      {
        "duration": 38,
        "start_time": "2021-09-19T12:38:11.689Z"
      },
      {
        "duration": 8,
        "start_time": "2021-09-19T12:38:12.153Z"
      },
      {
        "duration": 37,
        "start_time": "2021-09-19T12:38:12.569Z"
      },
      {
        "duration": 8,
        "start_time": "2021-09-19T12:38:13.001Z"
      },
      {
        "duration": 17,
        "start_time": "2021-09-19T12:38:13.440Z"
      },
      {
        "duration": 33,
        "start_time": "2021-09-19T12:38:13.866Z"
      },
      {
        "duration": 9,
        "start_time": "2021-09-19T12:38:14.593Z"
      },
      {
        "duration": 4,
        "start_time": "2021-09-19T12:38:33.121Z"
      },
      {
        "duration": 35,
        "start_time": "2021-09-19T12:38:35.097Z"
      },
      {
        "duration": 10,
        "start_time": "2021-09-19T12:38:35.784Z"
      },
      {
        "duration": 24,
        "start_time": "2021-09-19T12:58:14.590Z"
      },
      {
        "duration": 36,
        "start_time": "2021-09-19T12:58:23.914Z"
      },
      {
        "duration": 404,
        "start_time": "2021-09-19T12:59:26.771Z"
      },
      {
        "duration": 324,
        "start_time": "2021-09-19T13:00:54.885Z"
      },
      {
        "duration": 13,
        "start_time": "2021-09-19T13:01:20.204Z"
      },
      {
        "duration": 34,
        "start_time": "2021-09-19T13:01:28.755Z"
      },
      {
        "duration": 14,
        "start_time": "2021-09-19T13:01:49.882Z"
      },
      {
        "duration": 31,
        "start_time": "2021-09-19T13:01:56.891Z"
      },
      {
        "duration": 8,
        "start_time": "2021-09-19T13:03:46.642Z"
      },
      {
        "duration": 34,
        "start_time": "2021-09-19T13:03:56.441Z"
      },
      {
        "duration": 8,
        "start_time": "2021-09-19T13:06:00.145Z"
      },
      {
        "duration": 52,
        "start_time": "2021-09-19T13:06:07.769Z"
      },
      {
        "duration": 1074,
        "start_time": "2021-09-20T12:07:32.948Z"
      },
      {
        "duration": 64,
        "start_time": "2021-09-20T12:07:34.025Z"
      },
      {
        "duration": 131,
        "start_time": "2021-09-20T12:07:34.093Z"
      },
      {
        "duration": 784,
        "start_time": "2021-09-20T12:07:34.227Z"
      },
      {
        "duration": 9,
        "start_time": "2021-09-20T12:07:35.014Z"
      },
      {
        "duration": 37,
        "start_time": "2021-09-20T12:07:35.025Z"
      },
      {
        "duration": 10,
        "start_time": "2021-09-20T12:07:35.065Z"
      },
      {
        "duration": 37,
        "start_time": "2021-09-20T12:07:35.083Z"
      },
      {
        "duration": 8,
        "start_time": "2021-09-20T12:07:35.124Z"
      },
      {
        "duration": 36,
        "start_time": "2021-09-20T12:07:35.163Z"
      },
      {
        "duration": 9,
        "start_time": "2021-09-20T12:07:35.201Z"
      },
      {
        "duration": 20,
        "start_time": "2021-09-20T12:07:35.212Z"
      },
      {
        "duration": 60,
        "start_time": "2021-09-20T12:07:35.235Z"
      },
      {
        "duration": 10,
        "start_time": "2021-09-20T12:07:35.297Z"
      },
      {
        "duration": 15,
        "start_time": "2021-09-20T12:07:35.310Z"
      },
      {
        "duration": 60,
        "start_time": "2021-09-20T12:07:35.327Z"
      },
      {
        "duration": 16,
        "start_time": "2021-09-20T12:07:35.389Z"
      },
      {
        "duration": 35,
        "start_time": "2021-09-20T12:07:35.408Z"
      },
      {
        "duration": 6,
        "start_time": "2021-09-20T12:07:35.463Z"
      },
      {
        "duration": 52,
        "start_time": "2021-09-20T12:07:35.471Z"
      },
      {
        "duration": 6,
        "start_time": "2021-09-20T12:07:35.526Z"
      },
      {
        "duration": 66,
        "start_time": "2021-09-20T12:07:35.534Z"
      },
      {
        "duration": 34,
        "start_time": "2021-09-20T12:07:35.605Z"
      },
      {
        "duration": 13,
        "start_time": "2021-09-20T12:07:35.663Z"
      },
      {
        "duration": 19,
        "start_time": "2021-09-20T12:07:35.678Z"
      },
      {
        "duration": 18,
        "start_time": "2021-09-20T12:07:35.700Z"
      },
      {
        "duration": 69,
        "start_time": "2021-09-20T12:07:35.721Z"
      },
      {
        "duration": 9,
        "start_time": "2021-09-20T12:07:35.792Z"
      },
      {
        "duration": 36,
        "start_time": "2021-09-20T12:07:35.803Z"
      },
      {
        "duration": 24,
        "start_time": "2021-09-20T12:07:35.842Z"
      },
      {
        "duration": 36,
        "start_time": "2021-09-20T12:07:35.869Z"
      },
      {
        "duration": 6,
        "start_time": "2021-09-20T12:07:35.907Z"
      },
      {
        "duration": 75,
        "start_time": "2021-09-20T12:07:35.915Z"
      },
      {
        "duration": 7,
        "start_time": "2021-09-20T12:07:35.993Z"
      },
      {
        "duration": 44,
        "start_time": "2021-09-20T12:07:36.003Z"
      },
      {
        "duration": 1077,
        "start_time": "2021-09-20T12:16:59.009Z"
      },
      {
        "duration": 41,
        "start_time": "2021-09-20T12:17:09.119Z"
      },
      {
        "duration": 1767,
        "start_time": "2021-09-20T13:40:39.529Z"
      },
      {
        "duration": 1416,
        "start_time": "2021-09-20T13:40:52.552Z"
      },
      {
        "duration": 16,
        "start_time": "2021-09-20T13:42:42.631Z"
      },
      {
        "duration": -1143,
        "start_time": "2021-09-20T13:44:00.499Z"
      },
      {
        "duration": 356,
        "start_time": "2021-09-20T13:44:05.783Z"
      },
      {
        "duration": -1141,
        "start_time": "2021-09-20T13:44:30.677Z"
      },
      {
        "duration": -1147,
        "start_time": "2021-09-20T13:44:30.684Z"
      },
      {
        "duration": -1149,
        "start_time": "2021-09-20T13:44:30.687Z"
      },
      {
        "duration": 408,
        "start_time": "2021-09-20T13:44:30.007Z"
      },
      {
        "duration": 1235,
        "start_time": "2021-09-20T13:44:38.541Z"
      },
      {
        "duration": 64,
        "start_time": "2021-09-20T13:44:39.780Z"
      },
      {
        "duration": 151,
        "start_time": "2021-09-20T13:44:39.864Z"
      },
      {
        "duration": 1148,
        "start_time": "2021-09-20T13:44:40.018Z"
      },
      {
        "duration": 9,
        "start_time": "2021-09-20T13:44:41.169Z"
      },
      {
        "duration": 53,
        "start_time": "2021-09-20T13:44:41.180Z"
      },
      {
        "duration": 27,
        "start_time": "2021-09-20T13:44:41.236Z"
      },
      {
        "duration": 63,
        "start_time": "2021-09-20T13:44:41.269Z"
      },
      {
        "duration": 35,
        "start_time": "2021-09-20T13:44:41.336Z"
      },
      {
        "duration": 50,
        "start_time": "2021-09-20T13:44:41.374Z"
      },
      {
        "duration": 36,
        "start_time": "2021-09-20T13:44:41.426Z"
      },
      {
        "duration": 22,
        "start_time": "2021-09-20T13:44:41.466Z"
      },
      {
        "duration": 76,
        "start_time": "2021-09-20T13:44:41.492Z"
      },
      {
        "duration": 11,
        "start_time": "2021-09-20T13:44:41.571Z"
      },
      {
        "duration": 7,
        "start_time": "2021-09-20T13:44:41.585Z"
      },
      {
        "duration": 93,
        "start_time": "2021-09-20T13:44:41.595Z"
      },
      {
        "duration": 10,
        "start_time": "2021-09-20T13:44:41.694Z"
      },
      {
        "duration": 70,
        "start_time": "2021-09-20T13:44:41.707Z"
      },
      {
        "duration": 14,
        "start_time": "2021-09-20T13:44:41.780Z"
      },
      {
        "duration": 70,
        "start_time": "2021-09-20T13:44:41.797Z"
      },
      {
        "duration": 5,
        "start_time": "2021-09-20T13:44:41.869Z"
      },
      {
        "duration": 58,
        "start_time": "2021-09-20T13:44:41.878Z"
      },
      {
        "duration": 34,
        "start_time": "2021-09-20T13:44:41.961Z"
      },
      {
        "duration": 13,
        "start_time": "2021-09-20T13:44:42.000Z"
      },
      {
        "duration": 58,
        "start_time": "2021-09-20T13:44:42.016Z"
      },
      {
        "duration": 25,
        "start_time": "2021-09-20T13:44:42.077Z"
      },
      {
        "duration": 70,
        "start_time": "2021-09-20T13:44:42.105Z"
      },
      {
        "duration": 10,
        "start_time": "2021-09-20T13:44:42.178Z"
      },
      {
        "duration": 77,
        "start_time": "2021-09-20T13:44:42.192Z"
      },
      {
        "duration": 11,
        "start_time": "2021-09-20T13:44:42.271Z"
      },
      {
        "duration": 82,
        "start_time": "2021-09-20T13:44:42.286Z"
      },
      {
        "duration": 6,
        "start_time": "2021-09-20T13:44:42.371Z"
      },
      {
        "duration": 61,
        "start_time": "2021-09-20T13:44:42.383Z"
      },
      {
        "duration": 14,
        "start_time": "2021-09-20T13:44:42.448Z"
      },
      {
        "duration": 71,
        "start_time": "2021-09-20T13:44:42.466Z"
      },
      {
        "duration": 1335,
        "start_time": "2021-09-20T13:44:42.540Z"
      },
      {
        "duration": 62,
        "start_time": "2021-09-20T13:44:43.879Z"
      },
      {
        "duration": 1601,
        "start_time": "2021-09-20T13:44:43.944Z"
      },
      {
        "duration": 27,
        "start_time": "2021-09-20T13:44:45.548Z"
      },
      {
        "duration": 10054,
        "start_time": "2021-09-20T13:44:45.578Z"
      },
      {
        "duration": -1161,
        "start_time": "2021-09-20T13:44:56.797Z"
      },
      {
        "duration": 3,
        "start_time": "2021-09-20T13:45:19.438Z"
      },
      {
        "duration": 2154,
        "start_time": "2021-09-20T13:45:21.710Z"
      },
      {
        "duration": 19,
        "start_time": "2021-09-20T13:45:33.101Z"
      },
      {
        "duration": 643,
        "start_time": "2021-09-20T13:45:36.301Z"
      },
      {
        "duration": 6,
        "start_time": "2021-09-20T13:45:47.021Z"
      },
      {
        "duration": 255,
        "start_time": "2021-09-20T13:45:49.118Z"
      },
      {
        "duration": 246,
        "start_time": "2021-09-20T13:46:11.022Z"
      },
      {
        "duration": 157,
        "start_time": "2021-09-20T13:57:33.611Z"
      },
      {
        "duration": 486,
        "start_time": "2021-09-20T14:04:08.336Z"
      },
      {
        "duration": 19,
        "start_time": "2021-09-20T14:21:55.459Z"
      },
      {
        "duration": 136,
        "start_time": "2021-09-20T14:22:13.123Z"
      },
      {
        "duration": 38,
        "start_time": "2021-09-20T14:22:52.934Z"
      },
      {
        "duration": 1816,
        "start_time": "2021-09-20T14:23:31.236Z"
      },
      {
        "duration": 358,
        "start_time": "2021-09-20T14:24:04.476Z"
      },
      {
        "duration": 643,
        "start_time": "2021-09-20T14:24:10.978Z"
      },
      {
        "duration": 356,
        "start_time": "2021-09-20T14:24:18.317Z"
      },
      {
        "duration": 122,
        "start_time": "2021-09-20T14:25:15.156Z"
      },
      {
        "duration": 441,
        "start_time": "2021-09-20T14:25:34.509Z"
      },
      {
        "duration": 398,
        "start_time": "2021-09-20T14:26:50.078Z"
      },
      {
        "duration": 374,
        "start_time": "2021-09-20T14:37:08.919Z"
      },
      {
        "duration": 38,
        "start_time": "2021-09-20T14:37:11.431Z"
      },
      {
        "duration": 9,
        "start_time": "2021-09-20T14:37:31.064Z"
      },
      {
        "duration": 38,
        "start_time": "2021-09-20T14:37:31.846Z"
      },
      {
        "duration": 1007,
        "start_time": "2021-09-20T14:37:38.888Z"
      },
      {
        "duration": 68,
        "start_time": "2021-09-20T14:37:39.898Z"
      },
      {
        "duration": 128,
        "start_time": "2021-09-20T14:37:39.970Z"
      },
      {
        "duration": 1579,
        "start_time": "2021-09-20T14:37:40.101Z"
      },
      {
        "duration": 10,
        "start_time": "2021-09-20T14:37:41.683Z"
      },
      {
        "duration": 20,
        "start_time": "2021-09-20T14:37:41.696Z"
      },
      {
        "duration": 44,
        "start_time": "2021-09-20T14:37:41.718Z"
      },
      {
        "duration": 35,
        "start_time": "2021-09-20T14:37:41.766Z"
      },
      {
        "duration": 7,
        "start_time": "2021-09-20T14:37:41.804Z"
      },
      {
        "duration": 64,
        "start_time": "2021-09-20T14:37:41.814Z"
      },
      {
        "duration": 8,
        "start_time": "2021-09-20T14:37:41.881Z"
      },
      {
        "duration": 20,
        "start_time": "2021-09-20T14:37:41.891Z"
      },
      {
        "duration": 63,
        "start_time": "2021-09-20T14:37:41.914Z"
      },
      {
        "duration": 10,
        "start_time": "2021-09-20T14:37:41.979Z"
      },
      {
        "duration": 4,
        "start_time": "2021-09-20T14:37:41.992Z"
      },
      {
        "duration": 31,
        "start_time": "2021-09-20T14:37:41.999Z"
      },
      {
        "duration": 9,
        "start_time": "2021-09-20T14:37:42.063Z"
      },
      {
        "duration": 35,
        "start_time": "2021-09-20T14:37:42.074Z"
      },
      {
        "duration": 5,
        "start_time": "2021-09-20T14:37:42.111Z"
      },
      {
        "duration": 74,
        "start_time": "2021-09-20T14:37:42.118Z"
      },
      {
        "duration": 5,
        "start_time": "2021-09-20T14:37:42.195Z"
      },
      {
        "duration": 65,
        "start_time": "2021-09-20T14:37:42.203Z"
      },
      {
        "duration": 34,
        "start_time": "2021-09-20T14:37:42.274Z"
      },
      {
        "duration": 12,
        "start_time": "2021-09-20T14:37:42.311Z"
      },
      {
        "duration": 47,
        "start_time": "2021-09-20T14:37:42.326Z"
      },
      {
        "duration": 9,
        "start_time": "2021-09-20T14:37:42.376Z"
      },
      {
        "duration": 35,
        "start_time": "2021-09-20T14:37:42.389Z"
      },
      {
        "duration": 35,
        "start_time": "2021-09-20T14:37:42.427Z"
      },
      {
        "duration": 34,
        "start_time": "2021-09-20T14:37:42.466Z"
      },
      {
        "duration": 9,
        "start_time": "2021-09-20T14:37:42.503Z"
      },
      {
        "duration": 76,
        "start_time": "2021-09-20T14:37:42.514Z"
      },
      {
        "duration": 6,
        "start_time": "2021-09-20T14:37:42.593Z"
      },
      {
        "duration": 62,
        "start_time": "2021-09-20T14:37:42.602Z"
      },
      {
        "duration": 7,
        "start_time": "2021-09-20T14:37:42.666Z"
      },
      {
        "duration": 38,
        "start_time": "2021-09-20T14:37:42.677Z"
      },
      {
        "duration": 1180,
        "start_time": "2021-09-20T14:37:42.718Z"
      },
      {
        "duration": 39,
        "start_time": "2021-09-20T14:37:43.900Z"
      },
      {
        "duration": 1483,
        "start_time": "2021-09-20T14:37:43.941Z"
      },
      {
        "duration": 14,
        "start_time": "2021-09-20T14:37:45.427Z"
      },
      {
        "duration": 409,
        "start_time": "2021-09-20T14:37:45.463Z"
      },
      {
        "duration": 272,
        "start_time": "2021-09-20T14:37:45.876Z"
      },
      {
        "duration": 26,
        "start_time": "2021-09-20T14:37:46.150Z"
      },
      {
        "duration": 44,
        "start_time": "2021-09-20T14:37:46.179Z"
      },
      {
        "duration": 408,
        "start_time": "2021-09-20T14:37:46.226Z"
      },
      {
        "duration": 436,
        "start_time": "2021-09-20T14:37:46.637Z"
      },
      {
        "duration": 767,
        "start_time": "2021-09-20T14:51:09.070Z"
      },
      {
        "duration": 1271,
        "start_time": "2021-09-20T14:51:31.336Z"
      },
      {
        "duration": 509,
        "start_time": "2021-09-20T14:55:19.342Z"
      },
      {
        "duration": 2289,
        "start_time": "2021-09-20T14:55:34.646Z"
      },
      {
        "duration": 2292,
        "start_time": "2021-09-20T14:55:44.190Z"
      },
      {
        "duration": 15,
        "start_time": "2021-09-20T15:00:18.052Z"
      },
      {
        "duration": 16,
        "start_time": "2021-09-20T15:00:20.595Z"
      },
      {
        "duration": 40,
        "start_time": "2021-09-20T15:00:21.084Z"
      },
      {
        "duration": 2180,
        "start_time": "2021-09-20T15:00:32.573Z"
      },
      {
        "duration": 1763,
        "start_time": "2021-09-20T15:00:49.231Z"
      },
      {
        "duration": 66,
        "start_time": "2021-09-20T15:00:50.997Z"
      },
      {
        "duration": 131,
        "start_time": "2021-09-20T15:00:51.066Z"
      },
      {
        "duration": 718,
        "start_time": "2021-09-20T15:00:51.200Z"
      },
      {
        "duration": 9,
        "start_time": "2021-09-20T15:00:51.921Z"
      },
      {
        "duration": 42,
        "start_time": "2021-09-20T15:00:51.932Z"
      },
      {
        "duration": 10,
        "start_time": "2021-09-20T15:00:51.976Z"
      },
      {
        "duration": 41,
        "start_time": "2021-09-20T15:00:51.989Z"
      },
      {
        "duration": 33,
        "start_time": "2021-09-20T15:00:52.035Z"
      },
      {
        "duration": 37,
        "start_time": "2021-09-20T15:00:52.072Z"
      },
      {
        "duration": 9,
        "start_time": "2021-09-20T15:00:52.112Z"
      },
      {
        "duration": 19,
        "start_time": "2021-09-20T15:00:52.162Z"
      },
      {
        "duration": 38,
        "start_time": "2021-09-20T15:00:52.183Z"
      },
      {
        "duration": 45,
        "start_time": "2021-09-20T15:00:52.225Z"
      },
      {
        "duration": 5,
        "start_time": "2021-09-20T15:00:52.274Z"
      },
      {
        "duration": 42,
        "start_time": "2021-09-20T15:00:52.282Z"
      },
      {
        "duration": 37,
        "start_time": "2021-09-20T15:00:52.326Z"
      },
      {
        "duration": 48,
        "start_time": "2021-09-20T15:00:52.365Z"
      },
      {
        "duration": 8,
        "start_time": "2021-09-20T15:00:52.416Z"
      },
      {
        "duration": 62,
        "start_time": "2021-09-20T15:00:52.427Z"
      },
      {
        "duration": 6,
        "start_time": "2021-09-20T15:00:52.493Z"
      },
      {
        "duration": 70,
        "start_time": "2021-09-20T15:00:52.502Z"
      },
      {
        "duration": 37,
        "start_time": "2021-09-20T15:00:52.575Z"
      },
      {
        "duration": 47,
        "start_time": "2021-09-20T15:00:52.615Z"
      },
      {
        "duration": 20,
        "start_time": "2021-09-20T15:00:52.665Z"
      },
      {
        "duration": 11,
        "start_time": "2021-09-20T15:00:52.688Z"
      },
      {
        "duration": 66,
        "start_time": "2021-09-20T15:00:52.707Z"
      },
      {
        "duration": 9,
        "start_time": "2021-09-20T15:00:52.777Z"
      },
      {
        "duration": 37,
        "start_time": "2021-09-20T15:00:52.788Z"
      },
      {
        "duration": 37,
        "start_time": "2021-09-20T15:00:52.828Z"
      },
      {
        "duration": 35,
        "start_time": "2021-09-20T15:00:52.867Z"
      },
      {
        "duration": 6,
        "start_time": "2021-09-20T15:00:52.904Z"
      },
      {
        "duration": 71,
        "start_time": "2021-09-20T15:00:52.913Z"
      },
      {
        "duration": 8,
        "start_time": "2021-09-20T15:00:52.987Z"
      },
      {
        "duration": 64,
        "start_time": "2021-09-20T15:00:52.998Z"
      },
      {
        "duration": 1031,
        "start_time": "2021-09-20T15:00:53.065Z"
      },
      {
        "duration": 38,
        "start_time": "2021-09-20T15:00:54.099Z"
      },
      {
        "duration": 1514,
        "start_time": "2021-09-20T15:00:54.139Z"
      },
      {
        "duration": 13,
        "start_time": "2021-09-20T15:00:55.661Z"
      },
      {
        "duration": 411,
        "start_time": "2021-09-20T15:00:55.677Z"
      },
      {
        "duration": 275,
        "start_time": "2021-09-20T15:00:56.090Z"
      },
      {
        "duration": 20,
        "start_time": "2021-09-20T15:00:56.367Z"
      },
      {
        "duration": 38,
        "start_time": "2021-09-20T15:00:56.390Z"
      },
      {
        "duration": 401,
        "start_time": "2021-09-20T15:00:56.462Z"
      },
      {
        "duration": 444,
        "start_time": "2021-09-20T15:00:56.865Z"
      },
      {
        "duration": 790,
        "start_time": "2021-09-20T15:00:57.311Z"
      },
      {
        "duration": 1011,
        "start_time": "2021-09-20T15:00:58.104Z"
      },
      {
        "duration": 885,
        "start_time": "2021-09-20T15:01:12.058Z"
      },
      {
        "duration": 29,
        "start_time": "2021-09-20T15:09:36.220Z"
      },
      {
        "duration": 662,
        "start_time": "2021-09-20T15:10:19.019Z"
      },
      {
        "duration": 1503,
        "start_time": "2021-09-21T10:07:19.675Z"
      },
      {
        "duration": 57,
        "start_time": "2021-09-21T10:07:21.181Z"
      },
      {
        "duration": 120,
        "start_time": "2021-09-21T10:07:21.241Z"
      },
      {
        "duration": 605,
        "start_time": "2021-09-21T10:07:21.363Z"
      },
      {
        "duration": 8,
        "start_time": "2021-09-21T10:07:21.971Z"
      },
      {
        "duration": 22,
        "start_time": "2021-09-21T10:07:21.981Z"
      },
      {
        "duration": 23,
        "start_time": "2021-09-21T10:07:22.005Z"
      },
      {
        "duration": 38,
        "start_time": "2021-09-21T10:07:22.032Z"
      },
      {
        "duration": 7,
        "start_time": "2021-09-21T10:07:22.074Z"
      },
      {
        "duration": 65,
        "start_time": "2021-09-21T10:07:22.083Z"
      },
      {
        "duration": 8,
        "start_time": "2021-09-21T10:07:22.150Z"
      },
      {
        "duration": 30,
        "start_time": "2021-09-21T10:07:22.160Z"
      },
      {
        "duration": 48,
        "start_time": "2021-09-21T10:07:22.192Z"
      },
      {
        "duration": 9,
        "start_time": "2021-09-21T10:07:22.243Z"
      },
      {
        "duration": 6,
        "start_time": "2021-09-21T10:07:22.254Z"
      },
      {
        "duration": 41,
        "start_time": "2021-09-21T10:07:22.263Z"
      },
      {
        "duration": 22,
        "start_time": "2021-09-21T10:07:22.306Z"
      },
      {
        "duration": 32,
        "start_time": "2021-09-21T10:07:22.331Z"
      },
      {
        "duration": 5,
        "start_time": "2021-09-21T10:07:22.366Z"
      },
      {
        "duration": 68,
        "start_time": "2021-09-21T10:07:22.374Z"
      },
      {
        "duration": 5,
        "start_time": "2021-09-21T10:07:22.445Z"
      },
      {
        "duration": 38,
        "start_time": "2021-09-21T10:07:22.453Z"
      },
      {
        "duration": 55,
        "start_time": "2021-09-21T10:07:22.497Z"
      },
      {
        "duration": 10,
        "start_time": "2021-09-21T10:07:22.555Z"
      },
      {
        "duration": 16,
        "start_time": "2021-09-21T10:07:22.568Z"
      },
      {
        "duration": 36,
        "start_time": "2021-09-21T10:07:22.586Z"
      },
      {
        "duration": 33,
        "start_time": "2021-09-21T10:07:22.625Z"
      },
      {
        "duration": 8,
        "start_time": "2021-09-21T10:07:22.661Z"
      },
      {
        "duration": 60,
        "start_time": "2021-09-21T10:07:22.672Z"
      },
      {
        "duration": 9,
        "start_time": "2021-09-21T10:07:22.734Z"
      },
      {
        "duration": 39,
        "start_time": "2021-09-21T10:07:22.745Z"
      },
      {
        "duration": 5,
        "start_time": "2021-09-21T10:07:22.787Z"
      },
      {
        "duration": 59,
        "start_time": "2021-09-21T10:07:22.794Z"
      },
      {
        "duration": 7,
        "start_time": "2021-09-21T10:07:22.855Z"
      },
      {
        "duration": 62,
        "start_time": "2021-09-21T10:07:22.864Z"
      },
      {
        "duration": 987,
        "start_time": "2021-09-21T10:07:22.928Z"
      },
      {
        "duration": 35,
        "start_time": "2021-09-21T10:07:23.917Z"
      },
      {
        "duration": 1626,
        "start_time": "2021-09-21T10:07:23.955Z"
      },
      {
        "duration": 12,
        "start_time": "2021-09-21T10:07:25.583Z"
      },
      {
        "duration": 377,
        "start_time": "2021-09-21T10:07:25.597Z"
      },
      {
        "duration": 256,
        "start_time": "2021-09-21T10:07:25.977Z"
      },
      {
        "duration": 16,
        "start_time": "2021-09-21T10:07:26.235Z"
      },
      {
        "duration": 33,
        "start_time": "2021-09-21T10:07:26.254Z"
      },
      {
        "duration": 416,
        "start_time": "2021-09-21T10:07:26.290Z"
      },
      {
        "duration": 496,
        "start_time": "2021-09-21T10:07:26.708Z"
      },
      {
        "duration": 715,
        "start_time": "2021-09-21T10:07:27.207Z"
      },
      {
        "duration": 929,
        "start_time": "2021-09-21T10:07:27.925Z"
      },
      {
        "duration": 944,
        "start_time": "2021-09-21T10:07:28.857Z"
      },
      {
        "duration": 35,
        "start_time": "2021-09-21T10:11:13.510Z"
      },
      {
        "duration": 436,
        "start_time": "2021-09-21T13:17:30.251Z"
      },
      {
        "duration": 26,
        "start_time": "2021-09-21T13:17:53.683Z"
      },
      {
        "duration": 4,
        "start_time": "2021-09-21T13:18:18.129Z"
      },
      {
        "duration": 12,
        "start_time": "2021-09-21T13:18:33.593Z"
      },
      {
        "duration": 12,
        "start_time": "2021-09-21T13:19:41.929Z"
      },
      {
        "duration": 5,
        "start_time": "2021-09-21T13:22:35.825Z"
      },
      {
        "duration": 13,
        "start_time": "2021-09-21T13:22:42.097Z"
      },
      {
        "duration": 15,
        "start_time": "2021-09-21T13:23:09.225Z"
      },
      {
        "duration": 27,
        "start_time": "2021-09-21T13:40:23.412Z"
      },
      {
        "duration": 4,
        "start_time": "2021-09-21T13:40:24.067Z"
      },
      {
        "duration": 6,
        "start_time": "2021-09-21T13:40:24.595Z"
      },
      {
        "duration": 10,
        "start_time": "2021-09-21T13:40:25.051Z"
      },
      {
        "duration": 11,
        "start_time": "2021-09-21T13:40:26.203Z"
      },
      {
        "duration": 11,
        "start_time": "2021-09-21T14:01:21.511Z"
      },
      {
        "duration": 9,
        "start_time": "2021-09-21T14:01:36.262Z"
      },
      {
        "duration": 51,
        "start_time": "2021-09-21T14:01:40.262Z"
      },
      {
        "duration": 259,
        "start_time": "2021-09-21T14:02:15.574Z"
      },
      {
        "duration": 8,
        "start_time": "2021-09-21T14:02:22.966Z"
      },
      {
        "duration": 51,
        "start_time": "2021-09-21T14:02:36.381Z"
      },
      {
        "duration": -825,
        "start_time": "2021-09-21T14:03:32.463Z"
      },
      {
        "duration": -831,
        "start_time": "2021-09-21T14:03:32.471Z"
      },
      {
        "duration": 1537,
        "start_time": "2021-09-21T14:03:47.030Z"
      },
      {
        "duration": 53,
        "start_time": "2021-09-21T14:03:48.570Z"
      },
      {
        "duration": 119,
        "start_time": "2021-09-21T14:03:48.626Z"
      },
      {
        "duration": 600,
        "start_time": "2021-09-21T14:03:48.748Z"
      },
      {
        "duration": 8,
        "start_time": "2021-09-21T14:03:49.350Z"
      },
      {
        "duration": 21,
        "start_time": "2021-09-21T14:03:49.360Z"
      },
      {
        "duration": 41,
        "start_time": "2021-09-21T14:03:49.383Z"
      },
      {
        "duration": 34,
        "start_time": "2021-09-21T14:03:49.428Z"
      },
      {
        "duration": 7,
        "start_time": "2021-09-21T14:03:49.465Z"
      },
      {
        "duration": 68,
        "start_time": "2021-09-21T14:03:49.474Z"
      },
      {
        "duration": 9,
        "start_time": "2021-09-21T14:03:49.545Z"
      },
      {
        "duration": 21,
        "start_time": "2021-09-21T14:03:49.557Z"
      },
      {
        "duration": 66,
        "start_time": "2021-09-21T14:03:49.580Z"
      },
      {
        "duration": 12,
        "start_time": "2021-09-21T14:03:49.649Z"
      },
      {
        "duration": 7,
        "start_time": "2021-09-21T14:03:49.664Z"
      },
      {
        "duration": 70,
        "start_time": "2021-09-21T14:03:49.674Z"
      },
      {
        "duration": 10,
        "start_time": "2021-09-21T14:03:49.747Z"
      },
      {
        "duration": 67,
        "start_time": "2021-09-21T14:03:49.759Z"
      },
      {
        "duration": 6,
        "start_time": "2021-09-21T14:03:49.828Z"
      },
      {
        "duration": 38,
        "start_time": "2021-09-21T14:03:49.836Z"
      },
      {
        "duration": 5,
        "start_time": "2021-09-21T14:03:49.876Z"
      },
      {
        "duration": 70,
        "start_time": "2021-09-21T14:03:49.883Z"
      },
      {
        "duration": 31,
        "start_time": "2021-09-21T14:03:49.959Z"
      },
      {
        "duration": 34,
        "start_time": "2021-09-21T14:03:49.993Z"
      },
      {
        "duration": 25,
        "start_time": "2021-09-21T14:03:50.030Z"
      },
      {
        "duration": 11,
        "start_time": "2021-09-21T14:03:50.057Z"
      },
      {
        "duration": 65,
        "start_time": "2021-09-21T14:03:50.071Z"
      },
      {
        "duration": 8,
        "start_time": "2021-09-21T14:03:50.138Z"
      },
      {
        "duration": 32,
        "start_time": "2021-09-21T14:03:50.148Z"
      },
      {
        "duration": 44,
        "start_time": "2021-09-21T14:03:50.182Z"
      },
      {
        "duration": 33,
        "start_time": "2021-09-21T14:03:50.229Z"
      },
      {
        "duration": 5,
        "start_time": "2021-09-21T14:03:50.264Z"
      },
      {
        "duration": 69,
        "start_time": "2021-09-21T14:03:50.272Z"
      },
      {
        "duration": 8,
        "start_time": "2021-09-21T14:03:50.343Z"
      },
      {
        "duration": 46,
        "start_time": "2021-09-21T14:03:50.353Z"
      },
      {
        "duration": 939,
        "start_time": "2021-09-21T14:03:50.402Z"
      },
      {
        "duration": 32,
        "start_time": "2021-09-21T14:03:51.344Z"
      },
      {
        "duration": 1410,
        "start_time": "2021-09-21T14:03:51.379Z"
      },
      {
        "duration": 33,
        "start_time": "2021-09-21T14:03:52.792Z"
      },
      {
        "duration": 400,
        "start_time": "2021-09-21T14:03:52.828Z"
      },
      {
        "duration": 260,
        "start_time": "2021-09-21T14:03:53.232Z"
      },
      {
        "duration": 33,
        "start_time": "2021-09-21T14:03:53.495Z"
      },
      {
        "duration": 52,
        "start_time": "2021-09-21T14:03:53.530Z"
      },
      {
        "duration": 359,
        "start_time": "2021-09-21T14:03:53.585Z"
      },
      {
        "duration": 431,
        "start_time": "2021-09-21T14:03:53.946Z"
      },
      {
        "duration": 764,
        "start_time": "2021-09-21T14:03:54.380Z"
      },
      {
        "duration": 932,
        "start_time": "2021-09-21T14:03:55.146Z"
      },
      {
        "duration": 827,
        "start_time": "2021-09-21T14:03:56.080Z"
      },
      {
        "duration": 37,
        "start_time": "2021-09-21T14:03:56.910Z"
      },
      {
        "duration": 32,
        "start_time": "2021-09-21T14:03:56.950Z"
      },
      {
        "duration": 4,
        "start_time": "2021-09-21T14:03:56.984Z"
      },
      {
        "duration": 34,
        "start_time": "2021-09-21T14:03:56.990Z"
      },
      {
        "duration": 10,
        "start_time": "2021-09-21T14:03:57.026Z"
      },
      {
        "duration": 23,
        "start_time": "2021-09-21T14:03:57.039Z"
      },
      {
        "duration": 27,
        "start_time": "2021-09-21T14:03:57.065Z"
      },
      {
        "duration": 75,
        "start_time": "2021-09-21T14:03:57.094Z"
      },
      {
        "duration": 7,
        "start_time": "2021-09-21T14:03:57.172Z"
      },
      {
        "duration": 57,
        "start_time": "2021-09-21T14:03:57.181Z"
      },
      {
        "duration": 6,
        "start_time": "2021-09-21T14:03:57.240Z"
      },
      {
        "duration": 604,
        "start_time": "2021-09-21T14:03:57.249Z"
      },
      {
        "duration": 478,
        "start_time": "2021-09-21T16:26:56.170Z"
      },
      {
        "duration": 9,
        "start_time": "2021-09-21T16:27:08.273Z"
      },
      {
        "duration": 503,
        "start_time": "2021-09-21T16:27:35.072Z"
      },
      {
        "duration": 351,
        "start_time": "2021-09-21T16:28:09.744Z"
      },
      {
        "duration": 4970,
        "start_time": "2021-09-21T16:28:50.824Z"
      },
      {
        "duration": 273,
        "start_time": "2021-09-21T16:29:15.352Z"
      },
      {
        "duration": 336,
        "start_time": "2021-09-21T16:29:33.090Z"
      },
      {
        "duration": 327,
        "start_time": "2021-09-21T16:29:37.456Z"
      },
      {
        "duration": 425,
        "start_time": "2021-09-21T16:29:41.336Z"
      },
      {
        "duration": 320,
        "start_time": "2021-09-21T16:29:45.160Z"
      },
      {
        "duration": 1526,
        "start_time": "2021-09-21T16:32:07.142Z"
      },
      {
        "duration": 52,
        "start_time": "2021-09-21T16:32:08.671Z"
      },
      {
        "duration": 116,
        "start_time": "2021-09-21T16:32:08.726Z"
      },
      {
        "duration": 641,
        "start_time": "2021-09-21T16:32:08.844Z"
      },
      {
        "duration": 8,
        "start_time": "2021-09-21T16:32:09.487Z"
      },
      {
        "duration": 38,
        "start_time": "2021-09-21T16:32:09.498Z"
      },
      {
        "duration": 14,
        "start_time": "2021-09-21T16:32:09.538Z"
      },
      {
        "duration": 48,
        "start_time": "2021-09-21T16:32:09.556Z"
      },
      {
        "duration": 7,
        "start_time": "2021-09-21T16:32:09.607Z"
      },
      {
        "duration": 64,
        "start_time": "2021-09-21T16:32:09.617Z"
      },
      {
        "duration": 7,
        "start_time": "2021-09-21T16:32:09.683Z"
      },
      {
        "duration": 40,
        "start_time": "2021-09-21T16:32:09.693Z"
      },
      {
        "duration": 50,
        "start_time": "2021-09-21T16:32:09.735Z"
      },
      {
        "duration": 9,
        "start_time": "2021-09-21T16:32:09.788Z"
      },
      {
        "duration": 17,
        "start_time": "2021-09-21T16:32:09.800Z"
      },
      {
        "duration": 38,
        "start_time": "2021-09-21T16:32:09.819Z"
      },
      {
        "duration": 8,
        "start_time": "2021-09-21T16:32:09.860Z"
      },
      {
        "duration": 31,
        "start_time": "2021-09-21T16:32:09.870Z"
      },
      {
        "duration": 21,
        "start_time": "2021-09-21T16:32:09.903Z"
      },
      {
        "duration": 37,
        "start_time": "2021-09-21T16:32:09.926Z"
      },
      {
        "duration": 5,
        "start_time": "2021-09-21T16:32:09.965Z"
      },
      {
        "duration": 73,
        "start_time": "2021-09-21T16:32:09.972Z"
      },
      {
        "duration": 33,
        "start_time": "2021-09-21T16:32:10.052Z"
      },
      {
        "duration": 11,
        "start_time": "2021-09-21T16:32:10.089Z"
      },
      {
        "duration": 17,
        "start_time": "2021-09-21T16:32:10.124Z"
      },
      {
        "duration": 8,
        "start_time": "2021-09-21T16:32:10.144Z"
      },
      {
        "duration": 31,
        "start_time": "2021-09-21T16:32:10.155Z"
      },
      {
        "duration": 8,
        "start_time": "2021-09-21T16:32:10.222Z"
      },
      {
        "duration": 40,
        "start_time": "2021-09-21T16:32:10.232Z"
      },
      {
        "duration": 7,
        "start_time": "2021-09-21T16:32:10.275Z"
      },
      {
        "duration": 50,
        "start_time": "2021-09-21T16:32:10.285Z"
      },
      {
        "duration": 5,
        "start_time": "2021-09-21T16:32:10.337Z"
      },
      {
        "duration": 45,
        "start_time": "2021-09-21T16:32:10.345Z"
      },
      {
        "duration": 11,
        "start_time": "2021-09-21T16:32:10.393Z"
      },
      {
        "duration": 49,
        "start_time": "2021-09-21T16:32:10.407Z"
      },
      {
        "duration": 978,
        "start_time": "2021-09-21T16:32:10.459Z"
      },
      {
        "duration": 35,
        "start_time": "2021-09-21T16:32:11.439Z"
      },
      {
        "duration": 1491,
        "start_time": "2021-09-21T16:32:11.476Z"
      },
      {
        "duration": 12,
        "start_time": "2021-09-21T16:32:12.969Z"
      },
      {
        "duration": 493,
        "start_time": "2021-09-21T16:32:12.984Z"
      },
      {
        "duration": 271,
        "start_time": "2021-09-21T16:32:13.479Z"
      },
      {
        "duration": 19,
        "start_time": "2021-09-21T16:32:13.752Z"
      },
      {
        "duration": 54,
        "start_time": "2021-09-21T16:32:13.773Z"
      },
      {
        "duration": 359,
        "start_time": "2021-09-21T16:32:13.830Z"
      },
      {
        "duration": 396,
        "start_time": "2021-09-21T16:32:14.192Z"
      },
      {
        "duration": 731,
        "start_time": "2021-09-21T16:32:14.591Z"
      },
      {
        "duration": 935,
        "start_time": "2021-09-21T16:32:15.324Z"
      },
      {
        "duration": 837,
        "start_time": "2021-09-21T16:32:16.261Z"
      },
      {
        "duration": 43,
        "start_time": "2021-09-21T16:32:17.101Z"
      },
      {
        "duration": 39,
        "start_time": "2021-09-21T16:32:17.147Z"
      },
      {
        "duration": 4,
        "start_time": "2021-09-21T16:32:17.189Z"
      },
      {
        "duration": 16,
        "start_time": "2021-09-21T16:32:17.195Z"
      },
      {
        "duration": 31,
        "start_time": "2021-09-21T16:32:17.213Z"
      },
      {
        "duration": 31,
        "start_time": "2021-09-21T16:32:17.247Z"
      },
      {
        "duration": 18,
        "start_time": "2021-09-21T16:32:17.280Z"
      },
      {
        "duration": 54,
        "start_time": "2021-09-21T16:32:17.300Z"
      },
      {
        "duration": 10,
        "start_time": "2021-09-21T16:32:17.357Z"
      },
      {
        "duration": 58,
        "start_time": "2021-09-21T16:32:17.370Z"
      },
      {
        "duration": 7,
        "start_time": "2021-09-21T16:32:17.431Z"
      },
      {
        "duration": 609,
        "start_time": "2021-09-21T16:32:17.441Z"
      },
      {
        "duration": 12,
        "start_time": "2021-09-21T16:32:18.053Z"
      },
      {
        "duration": 471,
        "start_time": "2021-09-21T16:32:18.068Z"
      },
      {
        "duration": 400,
        "start_time": "2021-09-21T16:32:18.541Z"
      },
      {
        "duration": 5307,
        "start_time": "2021-09-21T16:32:42.074Z"
      },
      {
        "duration": 6120,
        "start_time": "2021-09-21T16:33:06.049Z"
      },
      {
        "duration": 5,
        "start_time": "2021-09-21T16:35:43.816Z"
      },
      {
        "duration": 650,
        "start_time": "2021-09-21T16:36:16.372Z"
      },
      {
        "duration": 858,
        "start_time": "2021-09-21T16:36:30.727Z"
      },
      {
        "duration": 729,
        "start_time": "2021-09-21T16:36:35.503Z"
      },
      {
        "duration": 1025,
        "start_time": "2021-09-21T16:36:50.335Z"
      },
      {
        "duration": 785,
        "start_time": "2021-09-21T16:37:01.815Z"
      },
      {
        "duration": 867,
        "start_time": "2021-09-21T16:37:07.036Z"
      },
      {
        "duration": 864,
        "start_time": "2021-09-21T16:37:36.295Z"
      },
      {
        "duration": 334,
        "start_time": "2021-09-21T16:38:36.126Z"
      },
      {
        "duration": 11,
        "start_time": "2021-09-21T16:39:11.744Z"
      },
      {
        "duration": 6,
        "start_time": "2021-09-21T16:39:12.399Z"
      },
      {
        "duration": 872,
        "start_time": "2021-09-21T16:39:12.960Z"
      },
      {
        "duration": 1040,
        "start_time": "2021-09-21T16:39:14.768Z"
      },
      {
        "duration": 786,
        "start_time": "2021-09-21T16:40:29.118Z"
      },
      {
        "duration": 948,
        "start_time": "2021-09-21T16:40:42.401Z"
      },
      {
        "duration": 878,
        "start_time": "2021-09-21T16:40:48.838Z"
      },
      {
        "duration": 943,
        "start_time": "2021-09-21T16:40:53.918Z"
      },
      {
        "duration": 6,
        "start_time": "2021-09-21T16:46:10.942Z"
      },
      {
        "duration": 1066,
        "start_time": "2021-09-22T11:14:25.154Z"
      },
      {
        "duration": 33,
        "start_time": "2021-09-22T11:14:26.222Z"
      },
      {
        "duration": 87,
        "start_time": "2021-09-22T11:14:26.258Z"
      },
      {
        "duration": 944,
        "start_time": "2021-09-22T11:14:26.347Z"
      },
      {
        "duration": 6,
        "start_time": "2021-09-22T11:14:27.294Z"
      },
      {
        "duration": 14,
        "start_time": "2021-09-22T11:14:27.302Z"
      },
      {
        "duration": 8,
        "start_time": "2021-09-22T11:14:27.318Z"
      },
      {
        "duration": 22,
        "start_time": "2021-09-22T11:14:27.329Z"
      },
      {
        "duration": 6,
        "start_time": "2021-09-22T11:14:27.354Z"
      },
      {
        "duration": 54,
        "start_time": "2021-09-22T11:14:27.361Z"
      },
      {
        "duration": 6,
        "start_time": "2021-09-22T11:14:27.417Z"
      },
      {
        "duration": 13,
        "start_time": "2021-09-22T11:14:27.424Z"
      },
      {
        "duration": 20,
        "start_time": "2021-09-22T11:14:27.439Z"
      },
      {
        "duration": 7,
        "start_time": "2021-09-22T11:14:27.461Z"
      },
      {
        "duration": 4,
        "start_time": "2021-09-22T11:14:27.500Z"
      },
      {
        "duration": 19,
        "start_time": "2021-09-22T11:14:27.506Z"
      },
      {
        "duration": 6,
        "start_time": "2021-09-22T11:14:27.527Z"
      },
      {
        "duration": 21,
        "start_time": "2021-09-22T11:14:27.535Z"
      },
      {
        "duration": 4,
        "start_time": "2021-09-22T11:14:27.558Z"
      },
      {
        "duration": 53,
        "start_time": "2021-09-22T11:14:27.564Z"
      },
      {
        "duration": 4,
        "start_time": "2021-09-22T11:14:27.619Z"
      },
      {
        "duration": 29,
        "start_time": "2021-09-22T11:14:27.625Z"
      },
      {
        "duration": 44,
        "start_time": "2021-09-22T11:14:27.658Z"
      },
      {
        "duration": 7,
        "start_time": "2021-09-22T11:14:27.704Z"
      },
      {
        "duration": 12,
        "start_time": "2021-09-22T11:14:27.713Z"
      },
      {
        "duration": 6,
        "start_time": "2021-09-22T11:14:27.726Z"
      },
      {
        "duration": 21,
        "start_time": "2021-09-22T11:14:27.733Z"
      },
      {
        "duration": 5,
        "start_time": "2021-09-22T11:14:27.755Z"
      },
      {
        "duration": 48,
        "start_time": "2021-09-22T11:14:27.762Z"
      },
      {
        "duration": 6,
        "start_time": "2021-09-22T11:14:27.812Z"
      },
      {
        "duration": 22,
        "start_time": "2021-09-22T11:14:27.819Z"
      },
      {
        "duration": 3,
        "start_time": "2021-09-22T11:14:27.843Z"
      },
      {
        "duration": 25,
        "start_time": "2021-09-22T11:14:27.847Z"
      },
      {
        "duration": 28,
        "start_time": "2021-09-22T11:14:27.874Z"
      },
      {
        "duration": 20,
        "start_time": "2021-09-22T11:14:27.903Z"
      },
      {
        "duration": 566,
        "start_time": "2021-09-22T11:14:27.924Z"
      },
      {
        "duration": 24,
        "start_time": "2021-09-22T11:14:28.492Z"
      },
      {
        "duration": 11,
        "start_time": "2021-09-22T11:14:35.407Z"
      },
      {
        "duration": 1535,
        "start_time": "2021-09-23T08:55:51.564Z"
      },
      {
        "duration": 56,
        "start_time": "2021-09-23T08:55:53.102Z"
      },
      {
        "duration": 118,
        "start_time": "2021-09-23T08:55:53.162Z"
      },
      {
        "duration": 656,
        "start_time": "2021-09-23T08:55:53.283Z"
      },
      {
        "duration": 14,
        "start_time": "2021-09-23T08:55:53.942Z"
      },
      {
        "duration": 15,
        "start_time": "2021-09-23T08:55:53.958Z"
      },
      {
        "duration": 9,
        "start_time": "2021-09-23T08:55:53.976Z"
      },
      {
        "duration": 34,
        "start_time": "2021-09-23T08:55:53.989Z"
      },
      {
        "duration": 7,
        "start_time": "2021-09-23T08:55:54.057Z"
      },
      {
        "duration": 34,
        "start_time": "2021-09-23T08:55:54.067Z"
      },
      {
        "duration": 7,
        "start_time": "2021-09-23T08:55:54.104Z"
      },
      {
        "duration": 49,
        "start_time": "2021-09-23T08:55:54.113Z"
      },
      {
        "duration": 32,
        "start_time": "2021-09-23T08:55:54.164Z"
      },
      {
        "duration": 9,
        "start_time": "2021-09-23T08:55:54.198Z"
      },
      {
        "duration": 5,
        "start_time": "2021-09-23T08:55:54.209Z"
      },
      {
        "duration": 62,
        "start_time": "2021-09-23T08:55:54.216Z"
      },
      {
        "duration": 8,
        "start_time": "2021-09-23T08:55:54.281Z"
      },
      {
        "duration": 31,
        "start_time": "2021-09-23T08:55:54.292Z"
      },
      {
        "duration": 35,
        "start_time": "2021-09-23T08:55:54.325Z"
      },
      {
        "duration": 35,
        "start_time": "2021-09-23T08:55:54.363Z"
      },
      {
        "duration": 4,
        "start_time": "2021-09-23T08:55:54.400Z"
      },
      {
        "duration": 66,
        "start_time": "2021-09-23T08:55:54.407Z"
      },
      {
        "duration": 31,
        "start_time": "2021-09-23T08:55:54.479Z"
      },
      {
        "duration": 11,
        "start_time": "2021-09-23T08:55:54.514Z"
      },
      {
        "duration": 37,
        "start_time": "2021-09-23T08:55:54.528Z"
      },
      {
        "duration": 8,
        "start_time": "2021-09-23T08:55:54.567Z"
      },
      {
        "duration": 31,
        "start_time": "2021-09-23T08:55:54.578Z"
      },
      {
        "duration": 8,
        "start_time": "2021-09-23T08:55:54.611Z"
      },
      {
        "duration": 33,
        "start_time": "2021-09-23T08:55:54.656Z"
      },
      {
        "duration": 8,
        "start_time": "2021-09-23T08:55:54.692Z"
      },
      {
        "duration": 56,
        "start_time": "2021-09-23T08:55:54.702Z"
      },
      {
        "duration": 5,
        "start_time": "2021-09-23T08:55:54.761Z"
      },
      {
        "duration": 39,
        "start_time": "2021-09-23T08:55:54.768Z"
      },
      {
        "duration": 6,
        "start_time": "2021-09-23T08:55:54.809Z"
      },
      {
        "duration": 54,
        "start_time": "2021-09-23T08:55:54.818Z"
      },
      {
        "duration": 1000,
        "start_time": "2021-09-23T08:55:54.875Z"
      },
      {
        "duration": 33,
        "start_time": "2021-09-23T08:55:55.878Z"
      },
      {
        "duration": 38,
        "start_time": "2021-09-23T08:55:55.913Z"
      },
      {
        "duration": 1387,
        "start_time": "2021-09-23T08:55:55.954Z"
      },
      {
        "duration": 22,
        "start_time": "2021-09-23T08:55:57.343Z"
      },
      {
        "duration": 372,
        "start_time": "2021-09-23T08:55:57.367Z"
      },
      {
        "duration": 251,
        "start_time": "2021-09-23T08:55:57.742Z"
      },
      {
        "duration": 14,
        "start_time": "2021-09-23T08:55:57.995Z"
      },
      {
        "duration": 53,
        "start_time": "2021-09-23T08:55:58.011Z"
      },
      {
        "duration": 354,
        "start_time": "2021-09-23T08:55:58.067Z"
      },
      {
        "duration": 389,
        "start_time": "2021-09-23T08:55:58.423Z"
      },
      {
        "duration": 719,
        "start_time": "2021-09-23T08:55:58.814Z"
      },
      {
        "duration": 949,
        "start_time": "2021-09-23T08:55:59.536Z"
      },
      {
        "duration": 856,
        "start_time": "2021-09-23T08:56:00.488Z"
      },
      {
        "duration": 38,
        "start_time": "2021-09-23T08:56:01.347Z"
      },
      {
        "duration": 48,
        "start_time": "2021-09-23T08:56:01.388Z"
      },
      {
        "duration": 10,
        "start_time": "2021-09-23T08:56:01.439Z"
      },
      {
        "duration": 53,
        "start_time": "2021-09-23T08:56:01.457Z"
      },
      {
        "duration": 26,
        "start_time": "2021-09-23T08:56:01.512Z"
      },
      {
        "duration": 32,
        "start_time": "2021-09-23T08:56:01.540Z"
      },
      {
        "duration": 25,
        "start_time": "2021-09-23T08:56:01.574Z"
      },
      {
        "duration": 64,
        "start_time": "2021-09-23T08:56:01.601Z"
      },
      {
        "duration": 8,
        "start_time": "2021-09-23T08:56:01.667Z"
      },
      {
        "duration": 60,
        "start_time": "2021-09-23T08:56:01.677Z"
      },
      {
        "duration": 18,
        "start_time": "2021-09-23T08:56:01.740Z"
      },
      {
        "duration": 642,
        "start_time": "2021-09-23T08:56:01.761Z"
      },
      {
        "duration": 10,
        "start_time": "2021-09-23T08:56:02.406Z"
      },
      {
        "duration": 66,
        "start_time": "2021-09-23T08:56:02.419Z"
      },
      {
        "duration": 7,
        "start_time": "2021-09-23T08:56:02.488Z"
      },
      {
        "duration": 986,
        "start_time": "2021-09-23T08:56:02.498Z"
      },
      {
        "duration": 913,
        "start_time": "2021-09-23T08:56:03.487Z"
      },
      {
        "duration": 389,
        "start_time": "2021-09-23T08:56:04.402Z"
      },
      {
        "duration": 490,
        "start_time": "2021-09-23T08:56:04.801Z"
      },
      {
        "duration": 6,
        "start_time": "2021-09-23T08:59:48.110Z"
      },
      {
        "duration": 37,
        "start_time": "2021-09-23T08:59:50.117Z"
      },
      {
        "duration": 5,
        "start_time": "2021-09-23T08:59:52.981Z"
      },
      {
        "duration": 39,
        "start_time": "2021-09-23T09:00:03.448Z"
      },
      {
        "duration": 37,
        "start_time": "2021-09-23T09:00:04.885Z"
      },
      {
        "duration": 5,
        "start_time": "2021-09-23T09:00:05.534Z"
      },
      {
        "duration": 17,
        "start_time": "2021-09-23T09:00:08.332Z"
      },
      {
        "duration": 1675,
        "start_time": "2021-09-23T09:00:16.521Z"
      },
      {
        "duration": 57,
        "start_time": "2021-09-23T09:00:18.199Z"
      },
      {
        "duration": 115,
        "start_time": "2021-09-23T09:00:18.259Z"
      },
      {
        "duration": 651,
        "start_time": "2021-09-23T09:00:18.377Z"
      },
      {
        "duration": 8,
        "start_time": "2021-09-23T09:00:19.031Z"
      },
      {
        "duration": 29,
        "start_time": "2021-09-23T09:00:19.042Z"
      },
      {
        "duration": 9,
        "start_time": "2021-09-23T09:00:19.074Z"
      },
      {
        "duration": 35,
        "start_time": "2021-09-23T09:00:19.088Z"
      },
      {
        "duration": 8,
        "start_time": "2021-09-23T09:00:19.155Z"
      },
      {
        "duration": 33,
        "start_time": "2021-09-23T09:00:19.165Z"
      },
      {
        "duration": 7,
        "start_time": "2021-09-23T09:00:19.201Z"
      },
      {
        "duration": 46,
        "start_time": "2021-09-23T09:00:19.211Z"
      },
      {
        "duration": 33,
        "start_time": "2021-09-23T09:00:19.259Z"
      },
      {
        "duration": 8,
        "start_time": "2021-09-23T09:00:19.295Z"
      },
      {
        "duration": 6,
        "start_time": "2021-09-23T09:00:19.306Z"
      },
      {
        "duration": 65,
        "start_time": "2021-09-23T09:00:19.314Z"
      },
      {
        "duration": 22,
        "start_time": "2021-09-23T09:00:19.381Z"
      },
      {
        "duration": 38,
        "start_time": "2021-09-23T09:00:19.406Z"
      },
      {
        "duration": 12,
        "start_time": "2021-09-23T09:00:19.447Z"
      },
      {
        "duration": 41,
        "start_time": "2021-09-23T09:00:19.461Z"
      },
      {
        "duration": 4,
        "start_time": "2021-09-23T09:00:19.505Z"
      },
      {
        "duration": 60,
        "start_time": "2021-09-23T09:00:19.512Z"
      },
      {
        "duration": 31,
        "start_time": "2021-09-23T09:00:19.577Z"
      },
      {
        "duration": 11,
        "start_time": "2021-09-23T09:00:19.612Z"
      },
      {
        "duration": 38,
        "start_time": "2021-09-23T09:00:19.625Z"
      },
      {
        "duration": 7,
        "start_time": "2021-09-23T09:00:19.666Z"
      },
      {
        "duration": 43,
        "start_time": "2021-09-23T09:00:19.675Z"
      },
      {
        "duration": 7,
        "start_time": "2021-09-23T09:00:19.721Z"
      },
      {
        "duration": 51,
        "start_time": "2021-09-23T09:00:19.731Z"
      },
      {
        "duration": 8,
        "start_time": "2021-09-23T09:00:19.784Z"
      },
      {
        "duration": 31,
        "start_time": "2021-09-23T09:00:19.794Z"
      },
      {
        "duration": 5,
        "start_time": "2021-09-23T09:00:19.855Z"
      },
      {
        "duration": 40,
        "start_time": "2021-09-23T09:00:19.862Z"
      },
      {
        "duration": 9,
        "start_time": "2021-09-23T09:00:19.905Z"
      },
      {
        "duration": 57,
        "start_time": "2021-09-23T09:00:19.916Z"
      },
      {
        "duration": 1034,
        "start_time": "2021-09-23T09:00:19.976Z"
      },
      {
        "duration": 31,
        "start_time": "2021-09-23T09:00:21.012Z"
      },
      {
        "duration": 17,
        "start_time": "2021-09-23T09:00:21.056Z"
      },
      {
        "duration": 1412,
        "start_time": "2021-09-23T09:00:21.075Z"
      },
      {
        "duration": 14,
        "start_time": "2021-09-23T09:00:22.490Z"
      },
      {
        "duration": 376,
        "start_time": "2021-09-23T09:00:22.507Z"
      },
      {
        "duration": 238,
        "start_time": "2021-09-23T09:00:22.886Z"
      },
      {
        "duration": 14,
        "start_time": "2021-09-23T09:00:23.126Z"
      },
      {
        "duration": 46,
        "start_time": "2021-09-23T09:00:23.142Z"
      },
      {
        "duration": 374,
        "start_time": "2021-09-23T09:00:23.190Z"
      },
      {
        "duration": 392,
        "start_time": "2021-09-23T09:00:23.566Z"
      },
      {
        "duration": 731,
        "start_time": "2021-09-23T09:00:23.960Z"
      },
      {
        "duration": 951,
        "start_time": "2021-09-23T09:00:24.694Z"
      },
      {
        "duration": 860,
        "start_time": "2021-09-23T09:00:25.648Z"
      },
      {
        "duration": 32,
        "start_time": "2021-09-23T09:00:26.510Z"
      },
      {
        "duration": 37,
        "start_time": "2021-09-23T09:00:26.544Z"
      },
      {
        "duration": 4,
        "start_time": "2021-09-23T09:00:26.583Z"
      },
      {
        "duration": 30,
        "start_time": "2021-09-23T09:00:26.589Z"
      },
      {
        "duration": 32,
        "start_time": "2021-09-23T09:00:26.621Z"
      },
      {
        "duration": 32,
        "start_time": "2021-09-23T09:00:26.656Z"
      },
      {
        "duration": 22,
        "start_time": "2021-09-23T09:00:26.691Z"
      },
      {
        "duration": 71,
        "start_time": "2021-09-23T09:00:26.716Z"
      },
      {
        "duration": 7,
        "start_time": "2021-09-23T09:00:26.789Z"
      },
      {
        "duration": 49,
        "start_time": "2021-09-23T09:00:26.799Z"
      },
      {
        "duration": 6,
        "start_time": "2021-09-23T09:00:26.856Z"
      },
      {
        "duration": 663,
        "start_time": "2021-09-23T09:00:26.864Z"
      },
      {
        "duration": 10,
        "start_time": "2021-09-23T09:00:27.529Z"
      },
      {
        "duration": 25,
        "start_time": "2021-09-23T09:00:27.541Z"
      },
      {
        "duration": 25,
        "start_time": "2021-09-23T09:00:27.569Z"
      },
      {
        "duration": 1139,
        "start_time": "2021-09-23T09:00:27.597Z"
      },
      {
        "duration": 994,
        "start_time": "2021-09-23T09:00:28.738Z"
      },
      {
        "duration": 377,
        "start_time": "2021-09-23T09:00:29.734Z"
      },
      {
        "duration": 406,
        "start_time": "2021-09-23T09:00:30.118Z"
      },
      {
        "duration": 304,
        "start_time": "2021-09-23T09:09:05.854Z"
      },
      {
        "duration": 234,
        "start_time": "2021-09-23T11:48:14.963Z"
      },
      {
        "duration": 217,
        "start_time": "2021-09-23T11:48:45.098Z"
      },
      {
        "duration": 338,
        "start_time": "2021-09-23T11:48:51.620Z"
      },
      {
        "duration": 529,
        "start_time": "2021-09-23T11:49:24.962Z"
      },
      {
        "duration": 321,
        "start_time": "2021-09-23T11:49:29.882Z"
      },
      {
        "duration": 215,
        "start_time": "2021-09-23T11:49:38.170Z"
      },
      {
        "duration": 217,
        "start_time": "2021-09-23T11:50:21.131Z"
      },
      {
        "duration": 301,
        "start_time": "2021-09-23T11:50:40.531Z"
      },
      {
        "duration": 7,
        "start_time": "2021-09-23T11:53:15.209Z"
      },
      {
        "duration": 3534,
        "start_time": "2021-09-23T11:53:31.193Z"
      },
      {
        "duration": 8,
        "start_time": "2021-09-23T11:55:18.090Z"
      },
      {
        "duration": 10,
        "start_time": "2021-09-23T11:55:26.273Z"
      },
      {
        "duration": -1410,
        "start_time": "2021-09-23T11:55:53.234Z"
      },
      {
        "duration": -1416,
        "start_time": "2021-09-23T11:55:53.242Z"
      },
      {
        "duration": 363,
        "start_time": "2021-09-23T11:59:10.304Z"
      },
      {
        "duration": 10,
        "start_time": "2021-09-23T11:59:17.440Z"
      },
      {
        "duration": 1887,
        "start_time": "2021-09-23T11:59:37.971Z"
      },
      {
        "duration": 54,
        "start_time": "2021-09-23T11:59:39.861Z"
      },
      {
        "duration": 124,
        "start_time": "2021-09-23T11:59:39.918Z"
      },
      {
        "duration": 743,
        "start_time": "2021-09-23T11:59:40.044Z"
      },
      {
        "duration": 10,
        "start_time": "2021-09-23T11:59:40.794Z"
      },
      {
        "duration": 22,
        "start_time": "2021-09-23T11:59:40.807Z"
      },
      {
        "duration": 40,
        "start_time": "2021-09-23T11:59:40.832Z"
      },
      {
        "duration": 51,
        "start_time": "2021-09-23T11:59:40.877Z"
      },
      {
        "duration": 29,
        "start_time": "2021-09-23T11:59:40.932Z"
      },
      {
        "duration": 39,
        "start_time": "2021-09-23T11:59:40.964Z"
      },
      {
        "duration": 8,
        "start_time": "2021-09-23T11:59:41.006Z"
      },
      {
        "duration": 45,
        "start_time": "2021-09-23T11:59:41.017Z"
      },
      {
        "duration": 33,
        "start_time": "2021-09-23T11:59:41.066Z"
      },
      {
        "duration": 11,
        "start_time": "2021-09-23T11:59:41.102Z"
      },
      {
        "duration": 5,
        "start_time": "2021-09-23T11:59:41.116Z"
      },
      {
        "duration": 30,
        "start_time": "2021-09-23T11:59:41.157Z"
      },
      {
        "duration": 10,
        "start_time": "2021-09-23T11:59:41.190Z"
      },
      {
        "duration": 70,
        "start_time": "2021-09-23T11:59:41.203Z"
      },
      {
        "duration": 6,
        "start_time": "2021-09-23T11:59:41.276Z"
      },
      {
        "duration": 39,
        "start_time": "2021-09-23T11:59:41.284Z"
      },
      {
        "duration": 5,
        "start_time": "2021-09-23T11:59:41.325Z"
      },
      {
        "duration": 38,
        "start_time": "2021-09-23T11:59:41.356Z"
      },
      {
        "duration": 30,
        "start_time": "2021-09-23T11:59:41.400Z"
      },
      {
        "duration": 31,
        "start_time": "2021-09-23T11:59:41.434Z"
      },
      {
        "duration": 32,
        "start_time": "2021-09-23T11:59:41.468Z"
      },
      {
        "duration": 9,
        "start_time": "2021-09-23T11:59:41.502Z"
      },
      {
        "duration": 45,
        "start_time": "2021-09-23T11:59:41.514Z"
      },
      {
        "duration": 8,
        "start_time": "2021-09-23T11:59:41.561Z"
      },
      {
        "duration": 32,
        "start_time": "2021-09-23T11:59:41.571Z"
      },
      {
        "duration": 8,
        "start_time": "2021-09-23T11:59:41.605Z"
      },
      {
        "duration": 67,
        "start_time": "2021-09-23T11:59:41.616Z"
      },
      {
        "duration": 5,
        "start_time": "2021-09-23T11:59:41.686Z"
      },
      {
        "duration": 36,
        "start_time": "2021-09-23T11:59:41.693Z"
      },
      {
        "duration": 28,
        "start_time": "2021-09-23T11:59:41.731Z"
      },
      {
        "duration": 35,
        "start_time": "2021-09-23T11:59:41.762Z"
      },
      {
        "duration": 998,
        "start_time": "2021-09-23T11:59:41.800Z"
      },
      {
        "duration": 32,
        "start_time": "2021-09-23T11:59:42.800Z"
      },
      {
        "duration": 32,
        "start_time": "2021-09-23T11:59:42.835Z"
      },
      {
        "duration": 17,
        "start_time": "2021-09-23T11:59:42.870Z"
      },
      {
        "duration": 23,
        "start_time": "2021-09-23T11:59:42.890Z"
      },
      {
        "duration": 3479,
        "start_time": "2021-09-23T11:59:42.916Z"
      },
      {
        "duration": 7,
        "start_time": "2021-09-23T11:59:46.397Z"
      },
      {
        "duration": 22,
        "start_time": "2021-09-23T11:59:46.407Z"
      },
      {
        "duration": 427,
        "start_time": "2021-09-23T11:59:46.432Z"
      },
      {
        "duration": 331,
        "start_time": "2021-09-23T11:59:46.862Z"
      },
      {
        "duration": 263,
        "start_time": "2021-09-23T11:59:47.196Z"
      },
      {
        "duration": 225,
        "start_time": "2021-09-23T11:59:47.462Z"
      },
      {
        "duration": 14,
        "start_time": "2021-09-23T11:59:47.690Z"
      },
      {
        "duration": 54,
        "start_time": "2021-09-23T11:59:47.707Z"
      },
      {
        "duration": 356,
        "start_time": "2021-09-23T11:59:47.764Z"
      },
      {
        "duration": 488,
        "start_time": "2021-09-23T11:59:48.123Z"
      },
      {
        "duration": 748,
        "start_time": "2021-09-23T11:59:48.613Z"
      },
      {
        "duration": 945,
        "start_time": "2021-09-23T11:59:49.364Z"
      },
      {
        "duration": 828,
        "start_time": "2021-09-23T11:59:50.311Z"
      },
      {
        "duration": 38,
        "start_time": "2021-09-23T11:59:51.142Z"
      },
      {
        "duration": 43,
        "start_time": "2021-09-23T11:59:51.184Z"
      },
      {
        "duration": 5,
        "start_time": "2021-09-23T11:59:51.229Z"
      },
      {
        "duration": 9,
        "start_time": "2021-09-23T11:59:51.255Z"
      },
      {
        "duration": 16,
        "start_time": "2021-09-23T11:59:51.266Z"
      },
      {
        "duration": 21,
        "start_time": "2021-09-23T11:59:51.285Z"
      },
      {
        "duration": 19,
        "start_time": "2021-09-23T11:59:51.308Z"
      },
      {
        "duration": 62,
        "start_time": "2021-09-23T11:59:51.330Z"
      },
      {
        "duration": 9,
        "start_time": "2021-09-23T11:59:51.394Z"
      },
      {
        "duration": 65,
        "start_time": "2021-09-23T11:59:51.405Z"
      },
      {
        "duration": 6,
        "start_time": "2021-09-23T11:59:51.473Z"
      },
      {
        "duration": 581,
        "start_time": "2021-09-23T11:59:51.482Z"
      },
      {
        "duration": 11,
        "start_time": "2021-09-23T11:59:52.066Z"
      },
      {
        "duration": 8,
        "start_time": "2021-09-23T11:59:52.085Z"
      },
      {
        "duration": 20,
        "start_time": "2021-09-23T11:59:52.095Z"
      },
      {
        "duration": 901,
        "start_time": "2021-09-23T11:59:52.118Z"
      },
      {
        "duration": 966,
        "start_time": "2021-09-23T11:59:53.022Z"
      },
      {
        "duration": 475,
        "start_time": "2021-09-23T11:59:53.990Z"
      },
      {
        "duration": 390,
        "start_time": "2021-09-23T11:59:54.468Z"
      },
      {
        "duration": 437,
        "start_time": "2021-09-23T12:00:24.652Z"
      },
      {
        "duration": 321,
        "start_time": "2021-09-23T12:00:29.142Z"
      },
      {
        "duration": 17,
        "start_time": "2021-09-23T12:00:30.254Z"
      },
      {
        "duration": 8,
        "start_time": "2021-09-23T12:00:54.262Z"
      },
      {
        "duration": 16,
        "start_time": "2021-09-23T12:00:55.286Z"
      },
      {
        "duration": 2445,
        "start_time": "2021-09-23T12:01:01.598Z"
      },
      {
        "duration": 254,
        "start_time": "2021-09-23T12:04:14.380Z"
      },
      {
        "duration": 392,
        "start_time": "2021-09-23T12:07:27.476Z"
      },
      {
        "duration": 291,
        "start_time": "2021-09-23T12:07:32.922Z"
      },
      {
        "duration": -1404,
        "start_time": "2021-09-23T12:07:49.602Z"
      },
      {
        "duration": 97,
        "start_time": "2021-09-23T12:08:16.155Z"
      },
      {
        "duration": 221,
        "start_time": "2021-09-23T12:08:18.730Z"
      },
      {
        "duration": 222,
        "start_time": "2021-09-23T12:08:26.010Z"
      },
      {
        "duration": 199,
        "start_time": "2021-09-23T12:08:47.490Z"
      },
      {
        "duration": 361,
        "start_time": "2021-09-23T12:09:22.194Z"
      },
      {
        "duration": 206,
        "start_time": "2021-09-23T12:09:26.490Z"
      },
      {
        "duration": 221,
        "start_time": "2021-09-23T12:09:33.451Z"
      },
      {
        "duration": 211,
        "start_time": "2021-09-23T12:10:08.676Z"
      },
      {
        "duration": 300,
        "start_time": "2021-09-23T12:10:19.604Z"
      },
      {
        "duration": 288,
        "start_time": "2021-09-23T12:10:28.378Z"
      },
      {
        "duration": 357,
        "start_time": "2021-09-23T12:41:51.138Z"
      },
      {
        "duration": 14,
        "start_time": "2021-09-23T12:42:06.668Z"
      },
      {
        "duration": 42,
        "start_time": "2021-09-23T12:42:42.875Z"
      },
      {
        "duration": 5,
        "start_time": "2021-09-23T12:43:38.619Z"
      },
      {
        "duration": 1523,
        "start_time": "2021-09-23T12:43:44.883Z"
      },
      {
        "duration": 63,
        "start_time": "2021-09-23T12:43:46.408Z"
      },
      {
        "duration": 116,
        "start_time": "2021-09-23T12:43:46.474Z"
      },
      {
        "duration": 680,
        "start_time": "2021-09-23T12:43:46.592Z"
      },
      {
        "duration": 9,
        "start_time": "2021-09-23T12:43:47.276Z"
      },
      {
        "duration": 21,
        "start_time": "2021-09-23T12:43:47.288Z"
      },
      {
        "duration": 12,
        "start_time": "2021-09-23T12:43:47.311Z"
      },
      {
        "duration": 35,
        "start_time": "2021-09-23T12:43:47.360Z"
      },
      {
        "duration": 8,
        "start_time": "2021-09-23T12:43:47.400Z"
      },
      {
        "duration": 66,
        "start_time": "2021-09-23T12:43:47.411Z"
      },
      {
        "duration": 9,
        "start_time": "2021-09-23T12:43:47.480Z"
      },
      {
        "duration": 20,
        "start_time": "2021-09-23T12:43:47.492Z"
      },
      {
        "duration": 65,
        "start_time": "2021-09-23T12:43:47.514Z"
      },
      {
        "duration": 12,
        "start_time": "2021-09-23T12:43:47.582Z"
      },
      {
        "duration": 6,
        "start_time": "2021-09-23T12:43:47.596Z"
      },
      {
        "duration": 71,
        "start_time": "2021-09-23T12:43:47.606Z"
      },
      {
        "duration": 9,
        "start_time": "2021-09-23T12:43:47.679Z"
      },
      {
        "duration": 33,
        "start_time": "2021-09-23T12:43:47.691Z"
      },
      {
        "duration": 31,
        "start_time": "2021-09-23T12:43:47.726Z"
      },
      {
        "duration": 38,
        "start_time": "2021-09-23T12:43:47.759Z"
      },
      {
        "duration": 5,
        "start_time": "2021-09-23T12:43:47.800Z"
      },
      {
        "duration": 72,
        "start_time": "2021-09-23T12:43:47.807Z"
      },
      {
        "duration": 32,
        "start_time": "2021-09-23T12:43:47.885Z"
      },
      {
        "duration": 11,
        "start_time": "2021-09-23T12:43:47.921Z"
      },
      {
        "duration": 15,
        "start_time": "2021-09-23T12:43:47.955Z"
      },
      {
        "duration": 9,
        "start_time": "2021-09-23T12:43:47.973Z"
      },
      {
        "duration": 35,
        "start_time": "2021-09-23T12:43:47.984Z"
      },
      {
        "duration": 42,
        "start_time": "2021-09-23T12:43:48.021Z"
      },
      {
        "duration": 39,
        "start_time": "2021-09-23T12:43:48.066Z"
      },
      {
        "duration": 9,
        "start_time": "2021-09-23T12:43:48.108Z"
      },
      {
        "duration": 68,
        "start_time": "2021-09-23T12:43:48.120Z"
      },
      {
        "duration": 7,
        "start_time": "2021-09-23T12:43:48.191Z"
      },
      {
        "duration": 60,
        "start_time": "2021-09-23T12:43:48.201Z"
      },
      {
        "duration": 9,
        "start_time": "2021-09-23T12:43:48.264Z"
      },
      {
        "duration": 63,
        "start_time": "2021-09-23T12:43:48.275Z"
      },
      {
        "duration": 1527,
        "start_time": "2021-09-23T12:43:48.341Z"
      },
      {
        "duration": 110,
        "start_time": "2021-09-23T12:43:49.873Z"
      },
      {
        "duration": 29,
        "start_time": "2021-09-23T12:43:49.985Z"
      },
      {
        "duration": 50,
        "start_time": "2021-09-23T12:43:50.017Z"
      },
      {
        "duration": 37,
        "start_time": "2021-09-23T12:43:50.070Z"
      },
      {
        "duration": 3726,
        "start_time": "2021-09-23T12:43:50.109Z"
      },
      {
        "duration": 18,
        "start_time": "2021-09-23T12:43:53.838Z"
      },
      {
        "duration": 19,
        "start_time": "2021-09-23T12:43:53.858Z"
      },
      {
        "duration": 445,
        "start_time": "2021-09-23T12:43:53.880Z"
      },
      {
        "duration": 342,
        "start_time": "2021-09-23T12:43:54.328Z"
      },
      {
        "duration": 328,
        "start_time": "2021-09-23T12:43:54.673Z"
      },
      {
        "duration": 304,
        "start_time": "2021-09-23T12:43:55.004Z"
      },
      {
        "duration": 303,
        "start_time": "2021-09-23T12:43:55.311Z"
      },
      {
        "duration": 418,
        "start_time": "2021-09-23T12:43:55.617Z"
      },
      {
        "duration": 23,
        "start_time": "2021-09-23T12:43:56.038Z"
      },
      {
        "duration": 46,
        "start_time": "2021-09-23T12:43:56.063Z"
      },
      {
        "duration": 373,
        "start_time": "2021-09-23T12:43:56.111Z"
      },
      {
        "duration": 336,
        "start_time": "2021-09-23T12:43:56.487Z"
      },
      {
        "duration": 398,
        "start_time": "2021-09-23T12:43:56.825Z"
      },
      {
        "duration": 545,
        "start_time": "2021-09-23T12:43:57.225Z"
      },
      {
        "duration": 410,
        "start_time": "2021-09-23T12:43:57.773Z"
      },
      {
        "duration": 33,
        "start_time": "2021-09-23T12:43:58.186Z"
      },
      {
        "duration": 52,
        "start_time": "2021-09-23T12:43:58.221Z"
      },
      {
        "duration": 4,
        "start_time": "2021-09-23T12:43:58.275Z"
      },
      {
        "duration": 14,
        "start_time": "2021-09-23T12:43:58.281Z"
      },
      {
        "duration": 21,
        "start_time": "2021-09-23T12:43:58.298Z"
      },
      {
        "duration": 37,
        "start_time": "2021-09-23T12:43:58.321Z"
      },
      {
        "duration": 10,
        "start_time": "2021-09-23T12:43:58.361Z"
      },
      {
        "duration": 54,
        "start_time": "2021-09-23T12:43:58.373Z"
      },
      {
        "duration": 31,
        "start_time": "2021-09-23T12:43:58.429Z"
      },
      {
        "duration": 36,
        "start_time": "2021-09-23T12:43:58.462Z"
      },
      {
        "duration": 6,
        "start_time": "2021-09-23T12:43:58.500Z"
      },
      {
        "duration": 486,
        "start_time": "2021-09-23T12:43:58.513Z"
      },
      {
        "duration": 9,
        "start_time": "2021-09-23T12:43:59.001Z"
      },
      {
        "duration": 12,
        "start_time": "2021-09-23T12:43:59.012Z"
      },
      {
        "duration": 12,
        "start_time": "2021-09-23T12:43:59.026Z"
      },
      {
        "duration": 901,
        "start_time": "2021-09-23T12:43:59.057Z"
      },
      {
        "duration": 1418,
        "start_time": "2021-09-23T12:43:59.960Z"
      },
      {
        "duration": 599,
        "start_time": "2021-09-23T12:44:01.380Z"
      },
      {
        "duration": 486,
        "start_time": "2021-09-23T12:44:01.982Z"
      },
      {
        "duration": 47,
        "start_time": "2021-09-23T12:44:18.018Z"
      },
      {
        "duration": 527,
        "start_time": "2021-09-23T12:45:19.966Z"
      },
      {
        "duration": 557,
        "start_time": "2021-09-23T12:45:47.639Z"
      },
      {
        "duration": 380,
        "start_time": "2021-09-23T12:45:55.596Z"
      },
      {
        "duration": 523,
        "start_time": "2021-09-23T12:46:05.354Z"
      },
      {
        "duration": 449,
        "start_time": "2021-09-23T12:46:10.049Z"
      },
      {
        "duration": 757,
        "start_time": "2021-09-23T12:46:30.761Z"
      },
      {
        "duration": 33,
        "start_time": "2021-09-23T12:46:49.451Z"
      },
      {
        "duration": 26,
        "start_time": "2021-09-23T12:46:49.962Z"
      },
      {
        "duration": 4,
        "start_time": "2021-09-23T12:46:50.434Z"
      },
      {
        "duration": 7,
        "start_time": "2021-09-23T12:46:51.018Z"
      },
      {
        "duration": 14,
        "start_time": "2021-09-23T12:46:51.546Z"
      },
      {
        "duration": 14,
        "start_time": "2021-09-23T12:46:53.530Z"
      },
      {
        "duration": 8,
        "start_time": "2021-09-23T12:47:09.977Z"
      },
      {
        "duration": 49,
        "start_time": "2021-09-23T12:47:10.155Z"
      },
      {
        "duration": 7,
        "start_time": "2021-09-23T12:47:10.889Z"
      },
      {
        "duration": 33,
        "start_time": "2021-09-23T12:47:11.474Z"
      },
      {
        "duration": 6,
        "start_time": "2021-09-23T12:47:11.913Z"
      },
      {
        "duration": 392,
        "start_time": "2021-09-23T12:47:12.457Z"
      },
      {
        "duration": 9,
        "start_time": "2021-09-23T12:47:28.697Z"
      },
      {
        "duration": 7,
        "start_time": "2021-09-23T12:47:29.169Z"
      },
      {
        "duration": 6,
        "start_time": "2021-09-23T12:47:30.321Z"
      },
      {
        "duration": 1012,
        "start_time": "2021-09-23T12:47:31.178Z"
      },
      {
        "duration": 946,
        "start_time": "2021-09-23T12:47:39.531Z"
      },
      {
        "duration": 366,
        "start_time": "2021-09-23T12:47:43.218Z"
      },
      {
        "duration": 312,
        "start_time": "2021-09-23T12:47:43.905Z"
      },
      {
        "duration": 112,
        "start_time": "2021-09-23T13:02:49.445Z"
      },
      {
        "duration": 1898,
        "start_time": "2021-09-23T13:02:55.020Z"
      },
      {
        "duration": 463,
        "start_time": "2021-09-23T13:04:35.965Z"
      },
      {
        "duration": 596,
        "start_time": "2021-09-23T13:04:59.478Z"
      },
      {
        "duration": 455,
        "start_time": "2021-09-23T13:05:07.925Z"
      },
      {
        "duration": 462,
        "start_time": "2021-09-23T13:05:18.133Z"
      },
      {
        "duration": 603,
        "start_time": "2021-09-23T13:06:19.068Z"
      },
      {
        "duration": 446,
        "start_time": "2021-09-23T13:08:23.696Z"
      },
      {
        "duration": 454,
        "start_time": "2021-09-23T13:09:42.660Z"
      },
      {
        "duration": 7,
        "start_time": "2021-09-23T13:10:32.523Z"
      },
      {
        "duration": 8,
        "start_time": "2021-09-23T13:10:32.691Z"
      },
      {
        "duration": 6,
        "start_time": "2021-09-23T13:10:33.348Z"
      },
      {
        "duration": 904,
        "start_time": "2021-09-23T13:10:33.539Z"
      },
      {
        "duration": 1259,
        "start_time": "2021-09-23T13:10:34.457Z"
      },
      {
        "duration": 962,
        "start_time": "2021-09-23T13:10:35.720Z"
      },
      {
        "duration": 653,
        "start_time": "2021-09-23T13:10:36.685Z"
      },
      {
        "duration": 639,
        "start_time": "2021-09-23T13:10:37.341Z"
      },
      {
        "duration": 626,
        "start_time": "2021-09-23T13:10:37.983Z"
      },
      {
        "duration": 609,
        "start_time": "2021-09-23T13:10:38.612Z"
      },
      {
        "duration": 481,
        "start_time": "2021-09-23T13:10:39.225Z"
      },
      {
        "duration": 9,
        "start_time": "2021-09-23T13:11:14.716Z"
      },
      {
        "duration": 9,
        "start_time": "2021-09-23T13:11:14.884Z"
      },
      {
        "duration": 7,
        "start_time": "2021-09-23T13:11:15.940Z"
      },
      {
        "duration": 899,
        "start_time": "2021-09-23T13:11:16.307Z"
      },
      {
        "duration": 915,
        "start_time": "2021-09-23T13:11:17.209Z"
      },
      {
        "duration": 456,
        "start_time": "2021-09-23T13:11:18.126Z"
      },
      {
        "duration": 467,
        "start_time": "2021-09-23T13:11:18.585Z"
      },
      {
        "duration": 468,
        "start_time": "2021-09-23T13:11:19.054Z"
      },
      {
        "duration": 567,
        "start_time": "2021-09-23T13:11:19.525Z"
      },
      {
        "duration": 575,
        "start_time": "2021-09-23T13:11:20.095Z"
      },
      {
        "duration": 358,
        "start_time": "2021-09-23T13:11:20.673Z"
      },
      {
        "duration": 7,
        "start_time": "2021-09-23T13:13:07.002Z"
      },
      {
        "duration": 7,
        "start_time": "2021-09-23T13:13:09.928Z"
      },
      {
        "duration": 7,
        "start_time": "2021-09-23T13:13:10.194Z"
      },
      {
        "duration": 6,
        "start_time": "2021-09-23T13:13:10.940Z"
      },
      {
        "duration": 1236,
        "start_time": "2021-09-23T13:13:11.235Z"
      },
      {
        "duration": 1284,
        "start_time": "2021-09-23T13:13:12.475Z"
      },
      {
        "duration": 626,
        "start_time": "2021-09-23T13:13:13.763Z"
      },
      {
        "duration": 622,
        "start_time": "2021-09-23T13:13:14.393Z"
      },
      {
        "duration": 632,
        "start_time": "2021-09-23T13:13:15.018Z"
      },
      {
        "duration": 476,
        "start_time": "2021-09-23T13:13:15.656Z"
      },
      {
        "duration": 374,
        "start_time": "2021-09-23T13:13:16.135Z"
      },
      {
        "duration": 457,
        "start_time": "2021-09-23T13:13:41.798Z"
      },
      {
        "duration": 436,
        "start_time": "2021-09-23T13:13:48.195Z"
      },
      {
        "duration": 439,
        "start_time": "2021-09-23T13:14:01.978Z"
      },
      {
        "duration": 437,
        "start_time": "2021-09-23T13:14:07.788Z"
      },
      {
        "duration": 430,
        "start_time": "2021-09-23T13:14:09.002Z"
      },
      {
        "duration": 509,
        "start_time": "2021-09-23T13:14:10.109Z"
      },
      {
        "duration": 454,
        "start_time": "2021-09-23T13:14:12.435Z"
      },
      {
        "duration": 1444,
        "start_time": "2021-09-23T13:17:04.593Z"
      },
      {
        "duration": 549,
        "start_time": "2021-09-23T13:17:20.649Z"
      },
      {
        "duration": 697,
        "start_time": "2021-09-23T13:17:32.777Z"
      },
      {
        "duration": 663,
        "start_time": "2021-09-23T13:46:55.633Z"
      },
      {
        "duration": 120,
        "start_time": "2021-09-23T13:50:54.721Z"
      },
      {
        "duration": 117,
        "start_time": "2021-09-23T13:51:08.134Z"
      },
      {
        "duration": 558,
        "start_time": "2021-09-23T13:52:01.758Z"
      },
      {
        "duration": 1575,
        "start_time": "2021-09-24T08:17:10.385Z"
      },
      {
        "duration": 54,
        "start_time": "2021-09-24T08:17:11.963Z"
      },
      {
        "duration": 135,
        "start_time": "2021-09-24T08:17:12.022Z"
      },
      {
        "duration": 70079,
        "start_time": "2021-09-24T08:17:12.168Z"
      },
      {
        "duration": 20,
        "start_time": "2021-09-24T08:18:22.249Z"
      },
      {
        "duration": 23,
        "start_time": "2021-09-24T08:18:22.272Z"
      },
      {
        "duration": 12,
        "start_time": "2021-09-24T08:18:22.298Z"
      },
      {
        "duration": 61,
        "start_time": "2021-09-24T08:18:22.313Z"
      },
      {
        "duration": 7,
        "start_time": "2021-09-24T08:18:22.378Z"
      },
      {
        "duration": 32,
        "start_time": "2021-09-24T08:18:22.388Z"
      },
      {
        "duration": 7,
        "start_time": "2021-09-24T08:18:22.422Z"
      },
      {
        "duration": 48,
        "start_time": "2021-09-24T08:18:22.431Z"
      },
      {
        "duration": 34,
        "start_time": "2021-09-24T08:18:22.481Z"
      },
      {
        "duration": 9,
        "start_time": "2021-09-24T08:18:22.517Z"
      },
      {
        "duration": 7,
        "start_time": "2021-09-24T08:18:22.528Z"
      },
      {
        "duration": 46,
        "start_time": "2021-09-24T08:18:22.568Z"
      },
      {
        "duration": 10,
        "start_time": "2021-09-24T08:18:22.616Z"
      },
      {
        "duration": 49,
        "start_time": "2021-09-24T08:18:22.628Z"
      },
      {
        "duration": 12,
        "start_time": "2021-09-24T08:18:22.679Z"
      },
      {
        "duration": 38,
        "start_time": "2021-09-24T08:18:22.694Z"
      },
      {
        "duration": 5,
        "start_time": "2021-09-24T08:18:22.734Z"
      },
      {
        "duration": 61,
        "start_time": "2021-09-24T08:18:22.742Z"
      },
      {
        "duration": 32,
        "start_time": "2021-09-24T08:18:22.806Z"
      },
      {
        "duration": 36,
        "start_time": "2021-09-24T08:18:22.840Z"
      },
      {
        "duration": 25,
        "start_time": "2021-09-24T08:18:22.878Z"
      },
      {
        "duration": 9,
        "start_time": "2021-09-24T08:18:22.905Z"
      },
      {
        "duration": 61,
        "start_time": "2021-09-24T08:18:22.922Z"
      },
      {
        "duration": 9,
        "start_time": "2021-09-24T08:18:22.987Z"
      },
      {
        "duration": 33,
        "start_time": "2021-09-24T08:18:22.999Z"
      },
      {
        "duration": 38,
        "start_time": "2021-09-24T08:18:23.035Z"
      },
      {
        "duration": 34,
        "start_time": "2021-09-24T08:18:23.076Z"
      },
      {
        "duration": 6,
        "start_time": "2021-09-24T08:18:23.113Z"
      },
      {
        "duration": 73,
        "start_time": "2021-09-24T08:18:23.122Z"
      },
      {
        "duration": 8,
        "start_time": "2021-09-24T08:18:23.198Z"
      },
      {
        "duration": 59,
        "start_time": "2021-09-24T08:18:23.209Z"
      },
      {
        "duration": 1010,
        "start_time": "2021-09-24T08:18:23.271Z"
      },
      {
        "duration": 37,
        "start_time": "2021-09-24T08:18:24.284Z"
      },
      {
        "duration": 45,
        "start_time": "2021-09-24T08:18:24.324Z"
      },
      {
        "duration": 15,
        "start_time": "2021-09-24T08:18:24.372Z"
      },
      {
        "duration": 20,
        "start_time": "2021-09-24T08:18:24.390Z"
      },
      {
        "duration": 2481,
        "start_time": "2021-09-24T08:18:24.413Z"
      },
      {
        "duration": 6,
        "start_time": "2021-09-24T08:18:26.897Z"
      },
      {
        "duration": 15,
        "start_time": "2021-09-24T08:18:26.906Z"
      },
      {
        "duration": 371,
        "start_time": "2021-09-24T08:18:26.923Z"
      },
      {
        "duration": 255,
        "start_time": "2021-09-24T08:18:27.298Z"
      },
      {
        "duration": 240,
        "start_time": "2021-09-24T08:18:27.556Z"
      },
      {
        "duration": 234,
        "start_time": "2021-09-24T08:18:27.799Z"
      },
      {
        "duration": 248,
        "start_time": "2021-09-24T08:18:28.036Z"
      },
      {
        "duration": 327,
        "start_time": "2021-09-24T08:18:28.286Z"
      },
      {
        "duration": 15,
        "start_time": "2021-09-24T08:18:28.616Z"
      },
      {
        "duration": 63,
        "start_time": "2021-09-24T08:18:28.633Z"
      },
      {
        "duration": 15,
        "start_time": "2021-09-24T08:19:12.195Z"
      },
      {
        "duration": 44,
        "start_time": "2021-09-24T08:19:13.785Z"
      },
      {
        "duration": 1593,
        "start_time": "2021-09-24T08:19:47.239Z"
      },
      {
        "duration": 67,
        "start_time": "2021-09-24T08:19:48.835Z"
      },
      {
        "duration": 129,
        "start_time": "2021-09-24T08:19:48.905Z"
      },
      {
        "duration": 72055,
        "start_time": "2021-09-24T08:19:49.037Z"
      },
      {
        "duration": 9,
        "start_time": "2021-09-24T08:21:01.096Z"
      },
      {
        "duration": 54,
        "start_time": "2021-09-24T08:21:01.107Z"
      },
      {
        "duration": 20,
        "start_time": "2021-09-24T08:21:01.165Z"
      },
      {
        "duration": 61,
        "start_time": "2021-09-24T08:21:01.188Z"
      },
      {
        "duration": 8,
        "start_time": "2021-09-24T08:21:01.252Z"
      },
      {
        "duration": 65,
        "start_time": "2021-09-24T08:21:01.262Z"
      },
      {
        "duration": 46,
        "start_time": "2021-09-24T08:21:01.329Z"
      },
      {
        "duration": 48,
        "start_time": "2021-09-24T08:21:01.377Z"
      },
      {
        "duration": 70,
        "start_time": "2021-09-24T08:21:01.427Z"
      },
      {
        "duration": 10,
        "start_time": "2021-09-24T08:21:01.499Z"
      },
      {
        "duration": 16,
        "start_time": "2021-09-24T08:21:01.511Z"
      },
      {
        "duration": 47,
        "start_time": "2021-09-24T08:21:01.529Z"
      },
      {
        "duration": 11,
        "start_time": "2021-09-24T08:21:01.579Z"
      },
      {
        "duration": 46,
        "start_time": "2021-09-24T08:21:01.594Z"
      },
      {
        "duration": 29,
        "start_time": "2021-09-24T08:21:01.643Z"
      },
      {
        "duration": 71,
        "start_time": "2021-09-24T08:21:01.675Z"
      },
      {
        "duration": 6,
        "start_time": "2021-09-24T08:21:01.749Z"
      },
      {
        "duration": 94,
        "start_time": "2021-09-24T08:21:01.758Z"
      },
      {
        "duration": 40,
        "start_time": "2021-09-24T08:21:01.855Z"
      },
      {
        "duration": 12,
        "start_time": "2021-09-24T08:21:01.897Z"
      },
      {
        "duration": 38,
        "start_time": "2021-09-24T08:21:01.915Z"
      },
      {
        "duration": 21,
        "start_time": "2021-09-24T08:21:01.957Z"
      },
      {
        "duration": 40,
        "start_time": "2021-09-24T08:21:01.980Z"
      },
      {
        "duration": 8,
        "start_time": "2021-09-24T08:21:02.022Z"
      },
      {
        "duration": 49,
        "start_time": "2021-09-24T08:21:02.033Z"
      },
      {
        "duration": 38,
        "start_time": "2021-09-24T08:21:02.085Z"
      },
      {
        "duration": 51,
        "start_time": "2021-09-24T08:21:02.125Z"
      },
      {
        "duration": 31,
        "start_time": "2021-09-24T08:21:02.178Z"
      },
      {
        "duration": 49,
        "start_time": "2021-09-24T08:21:02.212Z"
      },
      {
        "duration": 8,
        "start_time": "2021-09-24T08:21:02.263Z"
      },
      {
        "duration": 44,
        "start_time": "2021-09-24T08:21:02.274Z"
      },
      {
        "duration": 1026,
        "start_time": "2021-09-24T08:21:02.320Z"
      },
      {
        "duration": 42,
        "start_time": "2021-09-24T08:21:03.349Z"
      },
      {
        "duration": 18,
        "start_time": "2021-09-24T08:21:03.394Z"
      },
      {
        "duration": 14,
        "start_time": "2021-09-24T08:21:03.414Z"
      },
      {
        "duration": 49,
        "start_time": "2021-09-24T08:21:03.431Z"
      },
      {
        "duration": 2627,
        "start_time": "2021-09-24T08:21:03.483Z"
      },
      {
        "duration": 7,
        "start_time": "2021-09-24T08:21:06.113Z"
      },
      {
        "duration": 15,
        "start_time": "2021-09-24T08:21:06.123Z"
      },
      {
        "duration": 363,
        "start_time": "2021-09-24T08:21:06.140Z"
      },
      {
        "duration": 264,
        "start_time": "2021-09-24T08:21:06.505Z"
      },
      {
        "duration": 248,
        "start_time": "2021-09-24T08:21:06.772Z"
      },
      {
        "duration": 236,
        "start_time": "2021-09-24T08:21:07.022Z"
      },
      {
        "duration": 240,
        "start_time": "2021-09-24T08:21:07.261Z"
      },
      {
        "duration": 338,
        "start_time": "2021-09-24T08:21:07.503Z"
      },
      {
        "duration": 24,
        "start_time": "2021-09-24T08:21:07.843Z"
      },
      {
        "duration": 42,
        "start_time": "2021-09-24T08:21:07.869Z"
      },
      {
        "duration": 13,
        "start_time": "2021-09-24T08:21:30.227Z"
      },
      {
        "duration": 48,
        "start_time": "2021-09-24T08:21:31.904Z"
      },
      {
        "duration": 8,
        "start_time": "2021-09-24T08:22:05.992Z"
      },
      {
        "duration": 98,
        "start_time": "2021-09-24T08:22:14.421Z"
      },
      {
        "duration": 12,
        "start_time": "2021-09-24T08:22:27.241Z"
      },
      {
        "duration": 605,
        "start_time": "2021-09-24T08:24:20.414Z"
      },
      {
        "duration": 50,
        "start_time": "2021-09-24T08:24:39.510Z"
      },
      {
        "duration": 30,
        "start_time": "2021-09-24T08:25:43.753Z"
      }
    ],
    "kernelspec": {
      "display_name": "Python 3",
      "language": "python",
      "name": "python3"
    },
    "language_info": {
      "codemirror_mode": {
        "name": "ipython",
        "version": 3
      },
      "file_extension": ".py",
      "mimetype": "text/x-python",
      "name": "python",
      "nbconvert_exporter": "python",
      "pygments_lexer": "ipython3",
      "version": "3.7.8"
    },
    "toc": {
      "base_numbering": 1,
      "nav_menu": {},
      "number_sections": true,
      "sideBar": true,
      "skip_h1_title": true,
      "title_cell": "Содержание",
      "title_sidebar": "Contents",
      "toc_cell": true,
      "toc_position": {
        "height": "calc(100% - 180px)",
        "left": "10px",
        "top": "150px",
        "width": "165px"
      },
      "toc_section_display": true,
      "toc_window_display": true
    },
    "colab": {
      "name": "Peterburg_real_estate_analysis.ipynb",
      "provenance": [],
      "include_colab_link": true
    }
  },
  "nbformat": 4,
  "nbformat_minor": 0
}