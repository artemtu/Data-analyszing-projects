{
  "cells": [
    {
      "cell_type": "markdown",
      "metadata": {
        "id": "F3_6GVcUXaFY"
      },
      "source": [
        "# Исследование надёжности заёмщиков\n",
        "\n",
        "Заказчик — кредитный отдел банка. Нужно разобраться, влияет ли семейное положение и количество детей клиента на факт погашения кредита в срок. Входные данные от банка — статистика о платёжеспособности клиентов.\n",
        "\n",
        "Результаты исследования будут учтены при построении модели **кредитного скоринга** — специальной системы, которая оценивает способность потенциального заёмщика вернуть кредит банку."
      ]
    },
    {
      "cell_type": "markdown",
      "metadata": {
        "id": "TLHYqjqZXaFf"
      },
      "source": [
        "\n",
        "<div class=\"alert alert-info\">\n",
        "Никита, привет! Рад познакомиться :).\n",
        "Большое спасибо за подсказки и за замечания. Я закомментировал некоторые поля, чтобы ты видел старый код и оценил мощь нового :))\n",
        " \n",
        "Постарался исправить все недочёты, которые ты указал. Приятного просмотра!"
      ]
    },
    {
      "cell_type": "markdown",
      "metadata": {
        "id": "JNM20EtEXaFg"
      },
      "source": [
        "## Шаг 1. Откройте файл с данными и изучите общую информацию"
      ]
    },
    {
      "cell_type": "code",
      "execution_count": null,
      "metadata": {
        "scrolled": true,
        "id": "cKIXtJ6XXaFh"
      },
      "outputs": [],
      "source": [
        "import pandas as pd\n",
        "from pymystem3 import Mystem \n",
        "m = Mystem()\n",
        "from collections import Counter \n",
        "\n",
        "\n",
        "\n",
        "df = pd.read_csv('/datasets/data.csv')"
      ]
    },
    {
      "cell_type": "code",
      "execution_count": null,
      "metadata": {
        "scrolled": true,
        "id": "BhbvHcMWXaFi",
        "outputId": "64afb3d2-cea1-4587-92d3-2e9fffd2ba5d"
      },
      "outputs": [
        {
          "data": {
            "text/plain": [
              "Index(['children', 'days_employed', 'dob_years', 'education', 'education_id',\n",
              "       'family_status', 'family_status_id', 'gender', 'income_type', 'debt',\n",
              "       'total_income', 'purpose'],\n",
              "      dtype='object')"
            ]
          },
          "execution_count": 2,
          "metadata": {},
          "output_type": "execute_result"
        }
      ],
      "source": [
        "df.columns #Проверяем корректность названия столбцов. Пробелов и ошибок не обнаружено"
      ]
    },
    {
      "cell_type": "code",
      "execution_count": null,
      "metadata": {
        "id": "jQkGqpnJXaFk",
        "outputId": "4c2831cd-b80d-4d96-9885-d01deb0638eb"
      },
      "outputs": [
        {
          "data": {
            "text/html": [
              "<div>\n",
              "<style scoped>\n",
              "    .dataframe tbody tr th:only-of-type {\n",
              "        vertical-align: middle;\n",
              "    }\n",
              "\n",
              "    .dataframe tbody tr th {\n",
              "        vertical-align: top;\n",
              "    }\n",
              "\n",
              "    .dataframe thead th {\n",
              "        text-align: right;\n",
              "    }\n",
              "</style>\n",
              "<table border=\"1\" class=\"dataframe\">\n",
              "  <thead>\n",
              "    <tr style=\"text-align: right;\">\n",
              "      <th></th>\n",
              "      <th>children</th>\n",
              "      <th>days_employed</th>\n",
              "      <th>dob_years</th>\n",
              "      <th>education</th>\n",
              "      <th>education_id</th>\n",
              "      <th>family_status</th>\n",
              "      <th>family_status_id</th>\n",
              "      <th>gender</th>\n",
              "      <th>income_type</th>\n",
              "      <th>debt</th>\n",
              "      <th>total_income</th>\n",
              "      <th>purpose</th>\n",
              "    </tr>\n",
              "  </thead>\n",
              "  <tbody>\n",
              "    <tr>\n",
              "      <td>0</td>\n",
              "      <td>1</td>\n",
              "      <td>-8437.673028</td>\n",
              "      <td>42</td>\n",
              "      <td>высшее</td>\n",
              "      <td>0</td>\n",
              "      <td>женат / замужем</td>\n",
              "      <td>0</td>\n",
              "      <td>F</td>\n",
              "      <td>сотрудник</td>\n",
              "      <td>0</td>\n",
              "      <td>253875.639453</td>\n",
              "      <td>покупка жилья</td>\n",
              "    </tr>\n",
              "    <tr>\n",
              "      <td>1</td>\n",
              "      <td>1</td>\n",
              "      <td>-4024.803754</td>\n",
              "      <td>36</td>\n",
              "      <td>среднее</td>\n",
              "      <td>1</td>\n",
              "      <td>женат / замужем</td>\n",
              "      <td>0</td>\n",
              "      <td>F</td>\n",
              "      <td>сотрудник</td>\n",
              "      <td>0</td>\n",
              "      <td>112080.014102</td>\n",
              "      <td>приобретение автомобиля</td>\n",
              "    </tr>\n",
              "    <tr>\n",
              "      <td>2</td>\n",
              "      <td>0</td>\n",
              "      <td>-5623.422610</td>\n",
              "      <td>33</td>\n",
              "      <td>Среднее</td>\n",
              "      <td>1</td>\n",
              "      <td>женат / замужем</td>\n",
              "      <td>0</td>\n",
              "      <td>M</td>\n",
              "      <td>сотрудник</td>\n",
              "      <td>0</td>\n",
              "      <td>145885.952297</td>\n",
              "      <td>покупка жилья</td>\n",
              "    </tr>\n",
              "    <tr>\n",
              "      <td>3</td>\n",
              "      <td>3</td>\n",
              "      <td>-4124.747207</td>\n",
              "      <td>32</td>\n",
              "      <td>среднее</td>\n",
              "      <td>1</td>\n",
              "      <td>женат / замужем</td>\n",
              "      <td>0</td>\n",
              "      <td>M</td>\n",
              "      <td>сотрудник</td>\n",
              "      <td>0</td>\n",
              "      <td>267628.550329</td>\n",
              "      <td>дополнительное образование</td>\n",
              "    </tr>\n",
              "    <tr>\n",
              "      <td>4</td>\n",
              "      <td>0</td>\n",
              "      <td>340266.072047</td>\n",
              "      <td>53</td>\n",
              "      <td>среднее</td>\n",
              "      <td>1</td>\n",
              "      <td>гражданский брак</td>\n",
              "      <td>1</td>\n",
              "      <td>F</td>\n",
              "      <td>пенсионер</td>\n",
              "      <td>0</td>\n",
              "      <td>158616.077870</td>\n",
              "      <td>сыграть свадьбу</td>\n",
              "    </tr>\n",
              "    <tr>\n",
              "      <td>5</td>\n",
              "      <td>0</td>\n",
              "      <td>-926.185831</td>\n",
              "      <td>27</td>\n",
              "      <td>высшее</td>\n",
              "      <td>0</td>\n",
              "      <td>гражданский брак</td>\n",
              "      <td>1</td>\n",
              "      <td>M</td>\n",
              "      <td>компаньон</td>\n",
              "      <td>0</td>\n",
              "      <td>255763.565419</td>\n",
              "      <td>покупка жилья</td>\n",
              "    </tr>\n",
              "    <tr>\n",
              "      <td>6</td>\n",
              "      <td>0</td>\n",
              "      <td>-2879.202052</td>\n",
              "      <td>43</td>\n",
              "      <td>высшее</td>\n",
              "      <td>0</td>\n",
              "      <td>женат / замужем</td>\n",
              "      <td>0</td>\n",
              "      <td>F</td>\n",
              "      <td>компаньон</td>\n",
              "      <td>0</td>\n",
              "      <td>240525.971920</td>\n",
              "      <td>операции с жильем</td>\n",
              "    </tr>\n",
              "    <tr>\n",
              "      <td>7</td>\n",
              "      <td>0</td>\n",
              "      <td>-152.779569</td>\n",
              "      <td>50</td>\n",
              "      <td>СРЕДНЕЕ</td>\n",
              "      <td>1</td>\n",
              "      <td>женат / замужем</td>\n",
              "      <td>0</td>\n",
              "      <td>M</td>\n",
              "      <td>сотрудник</td>\n",
              "      <td>0</td>\n",
              "      <td>135823.934197</td>\n",
              "      <td>образование</td>\n",
              "    </tr>\n",
              "    <tr>\n",
              "      <td>8</td>\n",
              "      <td>2</td>\n",
              "      <td>-6929.865299</td>\n",
              "      <td>35</td>\n",
              "      <td>ВЫСШЕЕ</td>\n",
              "      <td>0</td>\n",
              "      <td>гражданский брак</td>\n",
              "      <td>1</td>\n",
              "      <td>F</td>\n",
              "      <td>сотрудник</td>\n",
              "      <td>0</td>\n",
              "      <td>95856.832424</td>\n",
              "      <td>на проведение свадьбы</td>\n",
              "    </tr>\n",
              "    <tr>\n",
              "      <td>9</td>\n",
              "      <td>0</td>\n",
              "      <td>-2188.756445</td>\n",
              "      <td>41</td>\n",
              "      <td>среднее</td>\n",
              "      <td>1</td>\n",
              "      <td>женат / замужем</td>\n",
              "      <td>0</td>\n",
              "      <td>M</td>\n",
              "      <td>сотрудник</td>\n",
              "      <td>0</td>\n",
              "      <td>144425.938277</td>\n",
              "      <td>покупка жилья для семьи</td>\n",
              "    </tr>\n",
              "  </tbody>\n",
              "</table>\n",
              "</div>"
            ],
            "text/plain": [
              "   children  days_employed  dob_years education  education_id  \\\n",
              "0         1   -8437.673028         42    высшее             0   \n",
              "1         1   -4024.803754         36   среднее             1   \n",
              "2         0   -5623.422610         33   Среднее             1   \n",
              "3         3   -4124.747207         32   среднее             1   \n",
              "4         0  340266.072047         53   среднее             1   \n",
              "5         0    -926.185831         27    высшее             0   \n",
              "6         0   -2879.202052         43    высшее             0   \n",
              "7         0    -152.779569         50   СРЕДНЕЕ             1   \n",
              "8         2   -6929.865299         35    ВЫСШЕЕ             0   \n",
              "9         0   -2188.756445         41   среднее             1   \n",
              "\n",
              "      family_status  family_status_id gender income_type  debt   total_income  \\\n",
              "0   женат / замужем                 0      F   сотрудник     0  253875.639453   \n",
              "1   женат / замужем                 0      F   сотрудник     0  112080.014102   \n",
              "2   женат / замужем                 0      M   сотрудник     0  145885.952297   \n",
              "3   женат / замужем                 0      M   сотрудник     0  267628.550329   \n",
              "4  гражданский брак                 1      F   пенсионер     0  158616.077870   \n",
              "5  гражданский брак                 1      M   компаньон     0  255763.565419   \n",
              "6   женат / замужем                 0      F   компаньон     0  240525.971920   \n",
              "7   женат / замужем                 0      M   сотрудник     0  135823.934197   \n",
              "8  гражданский брак                 1      F   сотрудник     0   95856.832424   \n",
              "9   женат / замужем                 0      M   сотрудник     0  144425.938277   \n",
              "\n",
              "                      purpose  \n",
              "0               покупка жилья  \n",
              "1     приобретение автомобиля  \n",
              "2               покупка жилья  \n",
              "3  дополнительное образование  \n",
              "4             сыграть свадьбу  \n",
              "5               покупка жилья  \n",
              "6           операции с жильем  \n",
              "7                 образование  \n",
              "8       на проведение свадьбы  \n",
              "9     покупка жилья для семьи  "
            ]
          },
          "metadata": {},
          "output_type": "display_data"
        }
      ],
      "source": [
        "display(df.head(10))"
      ]
    },
    {
      "cell_type": "code",
      "execution_count": null,
      "metadata": {
        "scrolled": true,
        "id": "Q1_q5SACXaFl",
        "outputId": "e331047d-df83-4358-c824-f814868a99fe"
      },
      "outputs": [
        {
          "name": "stdout",
          "output_type": "stream",
          "text": [
            "<class 'pandas.core.frame.DataFrame'>\n",
            "RangeIndex: 21525 entries, 0 to 21524\n",
            "Data columns (total 12 columns):\n",
            "children            21525 non-null int64\n",
            "days_employed       19351 non-null float64\n",
            "dob_years           21525 non-null int64\n",
            "education           21525 non-null object\n",
            "education_id        21525 non-null int64\n",
            "family_status       21525 non-null object\n",
            "family_status_id    21525 non-null int64\n",
            "gender              21525 non-null object\n",
            "income_type         21525 non-null object\n",
            "debt                21525 non-null int64\n",
            "total_income        19351 non-null float64\n",
            "purpose             21525 non-null object\n",
            "dtypes: float64(2), int64(5), object(5)\n",
            "memory usage: 2.0+ MB\n"
          ]
        },
        {
          "data": {
            "text/plain": [
              "children               0\n",
              "days_employed       2174\n",
              "dob_years              0\n",
              "education              0\n",
              "education_id           0\n",
              "family_status          0\n",
              "family_status_id       0\n",
              "gender                 0\n",
              "income_type            0\n",
              "debt                   0\n",
              "total_income        2174\n",
              "purpose                0\n",
              "dtype: int64"
            ]
          },
          "execution_count": 4,
          "metadata": {},
          "output_type": "execute_result"
        }
      ],
      "source": [
        "df.info() #Получаем общую информацию о таблице, типах данных\n",
        "df.isnull().sum() #Вычисляем количество пропусков"
      ]
    },
    {
      "cell_type": "code",
      "execution_count": null,
      "metadata": {
        "id": "CFBiVVJ6XaFm",
        "outputId": "9ecb5a57-6e0f-4cce-824a-fe5e8e7a5298"
      },
      "outputs": [
        {
          "data": {
            "text/html": [
              "<div>\n",
              "<style scoped>\n",
              "    .dataframe tbody tr th:only-of-type {\n",
              "        vertical-align: middle;\n",
              "    }\n",
              "\n",
              "    .dataframe tbody tr th {\n",
              "        vertical-align: top;\n",
              "    }\n",
              "\n",
              "    .dataframe thead th {\n",
              "        text-align: right;\n",
              "    }\n",
              "</style>\n",
              "<table border=\"1\" class=\"dataframe\">\n",
              "  <thead>\n",
              "    <tr style=\"text-align: right;\">\n",
              "      <th></th>\n",
              "      <th>children</th>\n",
              "      <th>days_employed</th>\n",
              "      <th>dob_years</th>\n",
              "      <th>education_id</th>\n",
              "      <th>family_status_id</th>\n",
              "      <th>debt</th>\n",
              "      <th>total_income</th>\n",
              "    </tr>\n",
              "  </thead>\n",
              "  <tbody>\n",
              "    <tr>\n",
              "      <td>count</td>\n",
              "      <td>21525.000000</td>\n",
              "      <td>19351.000000</td>\n",
              "      <td>21525.000000</td>\n",
              "      <td>21525.000000</td>\n",
              "      <td>21525.000000</td>\n",
              "      <td>21525.000000</td>\n",
              "      <td>1.935100e+04</td>\n",
              "    </tr>\n",
              "    <tr>\n",
              "      <td>mean</td>\n",
              "      <td>0.538908</td>\n",
              "      <td>63046.497661</td>\n",
              "      <td>43.293380</td>\n",
              "      <td>0.817236</td>\n",
              "      <td>0.972544</td>\n",
              "      <td>0.080883</td>\n",
              "      <td>1.674223e+05</td>\n",
              "    </tr>\n",
              "    <tr>\n",
              "      <td>std</td>\n",
              "      <td>1.381587</td>\n",
              "      <td>140827.311974</td>\n",
              "      <td>12.574584</td>\n",
              "      <td>0.548138</td>\n",
              "      <td>1.420324</td>\n",
              "      <td>0.272661</td>\n",
              "      <td>1.029716e+05</td>\n",
              "    </tr>\n",
              "    <tr>\n",
              "      <td>min</td>\n",
              "      <td>-1.000000</td>\n",
              "      <td>-18388.949901</td>\n",
              "      <td>0.000000</td>\n",
              "      <td>0.000000</td>\n",
              "      <td>0.000000</td>\n",
              "      <td>0.000000</td>\n",
              "      <td>2.066726e+04</td>\n",
              "    </tr>\n",
              "    <tr>\n",
              "      <td>25%</td>\n",
              "      <td>0.000000</td>\n",
              "      <td>-2747.423625</td>\n",
              "      <td>33.000000</td>\n",
              "      <td>1.000000</td>\n",
              "      <td>0.000000</td>\n",
              "      <td>0.000000</td>\n",
              "      <td>1.030532e+05</td>\n",
              "    </tr>\n",
              "    <tr>\n",
              "      <td>50%</td>\n",
              "      <td>0.000000</td>\n",
              "      <td>-1203.369529</td>\n",
              "      <td>42.000000</td>\n",
              "      <td>1.000000</td>\n",
              "      <td>0.000000</td>\n",
              "      <td>0.000000</td>\n",
              "      <td>1.450179e+05</td>\n",
              "    </tr>\n",
              "    <tr>\n",
              "      <td>75%</td>\n",
              "      <td>1.000000</td>\n",
              "      <td>-291.095954</td>\n",
              "      <td>53.000000</td>\n",
              "      <td>1.000000</td>\n",
              "      <td>1.000000</td>\n",
              "      <td>0.000000</td>\n",
              "      <td>2.034351e+05</td>\n",
              "    </tr>\n",
              "    <tr>\n",
              "      <td>max</td>\n",
              "      <td>20.000000</td>\n",
              "      <td>401755.400475</td>\n",
              "      <td>75.000000</td>\n",
              "      <td>4.000000</td>\n",
              "      <td>4.000000</td>\n",
              "      <td>1.000000</td>\n",
              "      <td>2.265604e+06</td>\n",
              "    </tr>\n",
              "  </tbody>\n",
              "</table>\n",
              "</div>"
            ],
            "text/plain": [
              "           children  days_employed     dob_years  education_id  \\\n",
              "count  21525.000000   19351.000000  21525.000000  21525.000000   \n",
              "mean       0.538908   63046.497661     43.293380      0.817236   \n",
              "std        1.381587  140827.311974     12.574584      0.548138   \n",
              "min       -1.000000  -18388.949901      0.000000      0.000000   \n",
              "25%        0.000000   -2747.423625     33.000000      1.000000   \n",
              "50%        0.000000   -1203.369529     42.000000      1.000000   \n",
              "75%        1.000000    -291.095954     53.000000      1.000000   \n",
              "max       20.000000  401755.400475     75.000000      4.000000   \n",
              "\n",
              "       family_status_id          debt  total_income  \n",
              "count      21525.000000  21525.000000  1.935100e+04  \n",
              "mean           0.972544      0.080883  1.674223e+05  \n",
              "std            1.420324      0.272661  1.029716e+05  \n",
              "min            0.000000      0.000000  2.066726e+04  \n",
              "25%            0.000000      0.000000  1.030532e+05  \n",
              "50%            0.000000      0.000000  1.450179e+05  \n",
              "75%            1.000000      0.000000  2.034351e+05  \n",
              "max            4.000000      1.000000  2.265604e+06  "
            ]
          },
          "execution_count": 5,
          "metadata": {},
          "output_type": "execute_result"
        }
      ],
      "source": [
        "df.describe()"
      ]
    },
    {
      "cell_type": "code",
      "execution_count": null,
      "metadata": {
        "id": "kgmUptKrXaFn",
        "outputId": "d98e2aec-f1fb-43a8-ef10-7f41ed72a20d"
      },
      "outputs": [
        {
          "name": "stdout",
          "output_type": "stream",
          "text": [
            "12844\n"
          ]
        }
      ],
      "source": [
        "days_employed_real_numb = (70 - 18) * 247\n",
        "print(days_employed_real_numb)"
      ]
    },
    {
      "cell_type": "markdown",
      "metadata": {
        "id": "Pb6sflj7XaFo"
      },
      "source": [
        "Где:\n",
        "    70 - возраст, до которого человек работает (с запасом к пенисонному)\n",
        "    18 - возраст зачисления на работу \n",
        "    247 - среднее количество рабочих дней в году\n",
        "Таким образом, мы получили более-менее реалистичную цифру. Однако в нашей таблице мы увидели значения, которые намного превышают это число.\n"
      ]
    },
    {
      "cell_type": "markdown",
      "metadata": {
        "id": "fEXINFCpXaFp"
      },
      "source": [
        "**Вывод** \n",
        "\n"
      ]
    },
    {
      "cell_type": "markdown",
      "metadata": {
        "id": "T7xKhd1RXaFp"
      },
      "source": [
        "В прочитанном нами файле обнаружены следующие недочёты:\n",
        "1. В столбце 'days_employed' во множестве случаев представлено число отработанных дней со знаком минус. Также имеется артефакт с данными отработанных дней у людей, которые старше 50 лет.\n",
        "2. В столбце 'education' сведения об образовании заполнены везде по-разному: заглавными, строчными, заглавными и строчными буквами.\n",
        "3. В столбце 'purpose' имеются одинаковые цели получения кредита, которые написанные разными словами\n",
        "\n",
        "Вызвав метод info() , были обнаружены пропуски в столбцах:\n",
        "1. days_employed (NaN) -float64\n",
        "2. total_income (NaN) -float64\n",
        "\n",
        "Вызвав метод describe() , мы обнаружили аномалии в столбце days_employed.Показатель mean гласит, что якобы в среднем люди работали по 66 000 дней, что никак невозможно. Относительно реальное количество рабочих дней составляет порядка 13 тысяч. В следующее наше действие - более детально изучить эти данные и принять решение каким способом их заменить."
      ]
    },
    {
      "cell_type": "markdown",
      "metadata": {
        "id": "HSxpluqlXaFq"
      },
      "source": [
        "## Шаг 2. Предобработка данных"
      ]
    },
    {
      "cell_type": "markdown",
      "metadata": {
        "id": "JV-y7FKhXaFq"
      },
      "source": [
        "### Обработка пропусков"
      ]
    },
    {
      "cell_type": "code",
      "execution_count": null,
      "metadata": {
        "id": "RdZVeIaNXaFr",
        "outputId": "c8cc04a4-51bf-456e-866b-e78c6cc3f8c6"
      },
      "outputs": [
        {
          "data": {
            "text/html": [
              "<div>\n",
              "<style scoped>\n",
              "    .dataframe tbody tr th:only-of-type {\n",
              "        vertical-align: middle;\n",
              "    }\n",
              "\n",
              "    .dataframe tbody tr th {\n",
              "        vertical-align: top;\n",
              "    }\n",
              "\n",
              "    .dataframe thead th {\n",
              "        text-align: right;\n",
              "    }\n",
              "</style>\n",
              "<table border=\"1\" class=\"dataframe\">\n",
              "  <thead>\n",
              "    <tr style=\"text-align: right;\">\n",
              "      <th></th>\n",
              "      <th>children</th>\n",
              "      <th>days_employed</th>\n",
              "      <th>dob_years</th>\n",
              "      <th>education</th>\n",
              "      <th>education_id</th>\n",
              "      <th>family_status</th>\n",
              "      <th>family_status_id</th>\n",
              "      <th>gender</th>\n",
              "      <th>income_type</th>\n",
              "      <th>debt</th>\n",
              "      <th>total_income</th>\n",
              "      <th>purpose</th>\n",
              "    </tr>\n",
              "  </thead>\n",
              "  <tbody>\n",
              "    <tr>\n",
              "      <td>0</td>\n",
              "      <td>1</td>\n",
              "      <td>8437.673028</td>\n",
              "      <td>42</td>\n",
              "      <td>высшее</td>\n",
              "      <td>0</td>\n",
              "      <td>женат / замужем</td>\n",
              "      <td>0</td>\n",
              "      <td>F</td>\n",
              "      <td>сотрудник</td>\n",
              "      <td>0</td>\n",
              "      <td>253875.639453</td>\n",
              "      <td>покупка жилья</td>\n",
              "    </tr>\n",
              "    <tr>\n",
              "      <td>1</td>\n",
              "      <td>1</td>\n",
              "      <td>4024.803754</td>\n",
              "      <td>36</td>\n",
              "      <td>среднее</td>\n",
              "      <td>1</td>\n",
              "      <td>женат / замужем</td>\n",
              "      <td>0</td>\n",
              "      <td>F</td>\n",
              "      <td>сотрудник</td>\n",
              "      <td>0</td>\n",
              "      <td>112080.014102</td>\n",
              "      <td>приобретение автомобиля</td>\n",
              "    </tr>\n",
              "    <tr>\n",
              "      <td>2</td>\n",
              "      <td>0</td>\n",
              "      <td>5623.422610</td>\n",
              "      <td>33</td>\n",
              "      <td>Среднее</td>\n",
              "      <td>1</td>\n",
              "      <td>женат / замужем</td>\n",
              "      <td>0</td>\n",
              "      <td>M</td>\n",
              "      <td>сотрудник</td>\n",
              "      <td>0</td>\n",
              "      <td>145885.952297</td>\n",
              "      <td>покупка жилья</td>\n",
              "    </tr>\n",
              "    <tr>\n",
              "      <td>3</td>\n",
              "      <td>3</td>\n",
              "      <td>4124.747207</td>\n",
              "      <td>32</td>\n",
              "      <td>среднее</td>\n",
              "      <td>1</td>\n",
              "      <td>женат / замужем</td>\n",
              "      <td>0</td>\n",
              "      <td>M</td>\n",
              "      <td>сотрудник</td>\n",
              "      <td>0</td>\n",
              "      <td>267628.550329</td>\n",
              "      <td>дополнительное образование</td>\n",
              "    </tr>\n",
              "    <tr>\n",
              "      <td>4</td>\n",
              "      <td>0</td>\n",
              "      <td>340266.072047</td>\n",
              "      <td>53</td>\n",
              "      <td>среднее</td>\n",
              "      <td>1</td>\n",
              "      <td>гражданский брак</td>\n",
              "      <td>1</td>\n",
              "      <td>F</td>\n",
              "      <td>пенсионер</td>\n",
              "      <td>0</td>\n",
              "      <td>158616.077870</td>\n",
              "      <td>сыграть свадьбу</td>\n",
              "    </tr>\n",
              "    <tr>\n",
              "      <td>5</td>\n",
              "      <td>0</td>\n",
              "      <td>926.185831</td>\n",
              "      <td>27</td>\n",
              "      <td>высшее</td>\n",
              "      <td>0</td>\n",
              "      <td>гражданский брак</td>\n",
              "      <td>1</td>\n",
              "      <td>M</td>\n",
              "      <td>компаньон</td>\n",
              "      <td>0</td>\n",
              "      <td>255763.565419</td>\n",
              "      <td>покупка жилья</td>\n",
              "    </tr>\n",
              "    <tr>\n",
              "      <td>6</td>\n",
              "      <td>0</td>\n",
              "      <td>2879.202052</td>\n",
              "      <td>43</td>\n",
              "      <td>высшее</td>\n",
              "      <td>0</td>\n",
              "      <td>женат / замужем</td>\n",
              "      <td>0</td>\n",
              "      <td>F</td>\n",
              "      <td>компаньон</td>\n",
              "      <td>0</td>\n",
              "      <td>240525.971920</td>\n",
              "      <td>операции с жильем</td>\n",
              "    </tr>\n",
              "    <tr>\n",
              "      <td>7</td>\n",
              "      <td>0</td>\n",
              "      <td>152.779569</td>\n",
              "      <td>50</td>\n",
              "      <td>СРЕДНЕЕ</td>\n",
              "      <td>1</td>\n",
              "      <td>женат / замужем</td>\n",
              "      <td>0</td>\n",
              "      <td>M</td>\n",
              "      <td>сотрудник</td>\n",
              "      <td>0</td>\n",
              "      <td>135823.934197</td>\n",
              "      <td>образование</td>\n",
              "    </tr>\n",
              "    <tr>\n",
              "      <td>8</td>\n",
              "      <td>2</td>\n",
              "      <td>6929.865299</td>\n",
              "      <td>35</td>\n",
              "      <td>ВЫСШЕЕ</td>\n",
              "      <td>0</td>\n",
              "      <td>гражданский брак</td>\n",
              "      <td>1</td>\n",
              "      <td>F</td>\n",
              "      <td>сотрудник</td>\n",
              "      <td>0</td>\n",
              "      <td>95856.832424</td>\n",
              "      <td>на проведение свадьбы</td>\n",
              "    </tr>\n",
              "    <tr>\n",
              "      <td>9</td>\n",
              "      <td>0</td>\n",
              "      <td>2188.756445</td>\n",
              "      <td>41</td>\n",
              "      <td>среднее</td>\n",
              "      <td>1</td>\n",
              "      <td>женат / замужем</td>\n",
              "      <td>0</td>\n",
              "      <td>M</td>\n",
              "      <td>сотрудник</td>\n",
              "      <td>0</td>\n",
              "      <td>144425.938277</td>\n",
              "      <td>покупка жилья для семьи</td>\n",
              "    </tr>\n",
              "  </tbody>\n",
              "</table>\n",
              "</div>"
            ],
            "text/plain": [
              "   children  days_employed  dob_years education  education_id  \\\n",
              "0         1    8437.673028         42    высшее             0   \n",
              "1         1    4024.803754         36   среднее             1   \n",
              "2         0    5623.422610         33   Среднее             1   \n",
              "3         3    4124.747207         32   среднее             1   \n",
              "4         0  340266.072047         53   среднее             1   \n",
              "5         0     926.185831         27    высшее             0   \n",
              "6         0    2879.202052         43    высшее             0   \n",
              "7         0     152.779569         50   СРЕДНЕЕ             1   \n",
              "8         2    6929.865299         35    ВЫСШЕЕ             0   \n",
              "9         0    2188.756445         41   среднее             1   \n",
              "\n",
              "      family_status  family_status_id gender income_type  debt   total_income  \\\n",
              "0   женат / замужем                 0      F   сотрудник     0  253875.639453   \n",
              "1   женат / замужем                 0      F   сотрудник     0  112080.014102   \n",
              "2   женат / замужем                 0      M   сотрудник     0  145885.952297   \n",
              "3   женат / замужем                 0      M   сотрудник     0  267628.550329   \n",
              "4  гражданский брак                 1      F   пенсионер     0  158616.077870   \n",
              "5  гражданский брак                 1      M   компаньон     0  255763.565419   \n",
              "6   женат / замужем                 0      F   компаньон     0  240525.971920   \n",
              "7   женат / замужем                 0      M   сотрудник     0  135823.934197   \n",
              "8  гражданский брак                 1      F   сотрудник     0   95856.832424   \n",
              "9   женат / замужем                 0      M   сотрудник     0  144425.938277   \n",
              "\n",
              "                      purpose  \n",
              "0               покупка жилья  \n",
              "1     приобретение автомобиля  \n",
              "2               покупка жилья  \n",
              "3  дополнительное образование  \n",
              "4             сыграть свадьбу  \n",
              "5               покупка жилья  \n",
              "6           операции с жильем  \n",
              "7                 образование  \n",
              "8       на проведение свадьбы  \n",
              "9     покупка жилья для семьи  "
            ]
          },
          "metadata": {},
          "output_type": "display_data"
        }
      ],
      "source": [
        "df['days_employed'] = df['days_employed'].abs()\n",
        "display(df.head(10))\n"
      ]
    },
    {
      "cell_type": "code",
      "execution_count": null,
      "metadata": {
        "id": "QxjP2SwaXaFr"
      },
      "outputs": [],
      "source": [
        "#df.loc[df.isnull().any(axis=1)] #Запрашиваем строки с пропущенными значениями"
      ]
    },
    {
      "cell_type": "code",
      "execution_count": null,
      "metadata": {
        "id": "RosL8k6NXaFr"
      },
      "outputs": [],
      "source": [
        "days_empl_median = df['days_employed'].median()"
      ]
    },
    {
      "cell_type": "code",
      "execution_count": null,
      "metadata": {
        "id": "NUJdIJjHXaFs",
        "outputId": "97fd3c2b-72b6-4f2f-ba51-74206172b500"
      },
      "outputs": [
        {
          "data": {
            "text/plain": [
              "array(['сотрудник', 'пенсионер', 'компаньон', 'госслужащий',\n",
              "       'безработный', 'предприниматель', 'студент', 'в декрете'],\n",
              "      dtype=object)"
            ]
          },
          "execution_count": 10,
          "metadata": {},
          "output_type": "execute_result"
        }
      ],
      "source": [
        "df['income_type'].unique()"
      ]
    },
    {
      "cell_type": "code",
      "execution_count": null,
      "metadata": {
        "scrolled": true,
        "id": "2IM87qboXaFs",
        "outputId": "f245d7ed-72a7-4d5a-f6bc-730c0a8c48a5"
      },
      "outputs": [
        {
          "data": {
            "text/plain": [
              "children            3504\n",
              "days_employed       3504\n",
              "dob_years           3504\n",
              "education           3504\n",
              "education_id        3504\n",
              "family_status       3504\n",
              "family_status_id    3504\n",
              "gender              3504\n",
              "income_type         3504\n",
              "debt                3504\n",
              "total_income        3504\n",
              "purpose             3504\n",
              "dtype: int64"
            ]
          },
          "execution_count": 11,
          "metadata": {},
          "output_type": "execute_result"
        }
      ],
      "source": [
        "#df['total_income'] > days_employed_real_numb\n",
        "df.loc[(df['days_employed'] > days_employed_real_numb)].count()"
      ]
    },
    {
      "cell_type": "code",
      "execution_count": null,
      "metadata": {
        "scrolled": true,
        "id": "egeF9HjJXaFt",
        "outputId": "f3f7c051-d9c2-433e-c2f4-9707ed683a81"
      },
      "outputs": [
        {
          "data": {
            "text/plain": [
              "66914.72890682236"
            ]
          },
          "execution_count": 12,
          "metadata": {},
          "output_type": "execute_result"
        }
      ],
      "source": [
        "df['days_employed'].mean()"
      ]
    },
    {
      "cell_type": "code",
      "execution_count": null,
      "metadata": {
        "id": "SfmIONb9XaFt",
        "outputId": "0db3a8f0-9bb0-4a29-8779-b94e1c16a92b"
      },
      "outputs": [
        {
          "data": {
            "text/plain": [
              "children            9675\n",
              "days_employed       9675\n",
              "dob_years           9675\n",
              "education           9675\n",
              "education_id        9675\n",
              "family_status       9675\n",
              "family_status_id    9675\n",
              "gender              9675\n",
              "income_type         9675\n",
              "debt                9675\n",
              "total_income        9675\n",
              "purpose             9675\n",
              "dtype: int64"
            ]
          },
          "execution_count": 13,
          "metadata": {},
          "output_type": "execute_result"
        }
      ],
      "source": [
        "df.loc[(df['days_employed'] > days_empl_median)].count()"
      ]
    },
    {
      "cell_type": "code",
      "execution_count": null,
      "metadata": {
        "id": "Xm4w70bgXaFu",
        "outputId": "e7c9a9d5-f947-44ae-c814-6048da04e4ef"
      },
      "outputs": [
        {
          "data": {
            "text/html": [
              "<div>\n",
              "<style scoped>\n",
              "    .dataframe tbody tr th:only-of-type {\n",
              "        vertical-align: middle;\n",
              "    }\n",
              "\n",
              "    .dataframe tbody tr th {\n",
              "        vertical-align: top;\n",
              "    }\n",
              "\n",
              "    .dataframe thead th {\n",
              "        text-align: right;\n",
              "    }\n",
              "</style>\n",
              "<table border=\"1\" class=\"dataframe\">\n",
              "  <thead>\n",
              "    <tr style=\"text-align: right;\">\n",
              "      <th></th>\n",
              "      <th>days_employed</th>\n",
              "      <th>dob_years</th>\n",
              "    </tr>\n",
              "    <tr>\n",
              "      <th>income_type</th>\n",
              "      <th></th>\n",
              "      <th></th>\n",
              "    </tr>\n",
              "  </thead>\n",
              "  <tbody>\n",
              "    <tr>\n",
              "      <td>безработный</td>\n",
              "      <td>366413.652744</td>\n",
              "      <td>38.0</td>\n",
              "    </tr>\n",
              "    <tr>\n",
              "      <td>в декрете</td>\n",
              "      <td>3296.759962</td>\n",
              "      <td>39.0</td>\n",
              "    </tr>\n",
              "    <tr>\n",
              "      <td>госслужащий</td>\n",
              "      <td>2689.368353</td>\n",
              "      <td>40.0</td>\n",
              "    </tr>\n",
              "    <tr>\n",
              "      <td>компаньон</td>\n",
              "      <td>1547.382223</td>\n",
              "      <td>39.0</td>\n",
              "    </tr>\n",
              "    <tr>\n",
              "      <td>пенсионер</td>\n",
              "      <td>365213.306266</td>\n",
              "      <td>60.0</td>\n",
              "    </tr>\n",
              "    <tr>\n",
              "      <td>предприниматель</td>\n",
              "      <td>520.848083</td>\n",
              "      <td>42.5</td>\n",
              "    </tr>\n",
              "    <tr>\n",
              "      <td>сотрудник</td>\n",
              "      <td>1574.202821</td>\n",
              "      <td>39.0</td>\n",
              "    </tr>\n",
              "    <tr>\n",
              "      <td>студент</td>\n",
              "      <td>578.751554</td>\n",
              "      <td>22.0</td>\n",
              "    </tr>\n",
              "  </tbody>\n",
              "</table>\n",
              "</div>"
            ],
            "text/plain": [
              "                 days_employed  dob_years\n",
              "income_type                              \n",
              "безработный      366413.652744       38.0\n",
              "в декрете          3296.759962       39.0\n",
              "госслужащий        2689.368353       40.0\n",
              "компаньон          1547.382223       39.0\n",
              "пенсионер        365213.306266       60.0\n",
              "предприниматель     520.848083       42.5\n",
              "сотрудник          1574.202821       39.0\n",
              "студент             578.751554       22.0"
            ]
          },
          "execution_count": 14,
          "metadata": {},
          "output_type": "execute_result"
        }
      ],
      "source": [
        "df.pivot_table(index='income_type', values=['days_employed', 'dob_years'], aggfunc='median')"
      ]
    },
    {
      "cell_type": "markdown",
      "metadata": {
        "id": "107cHhggXaFu"
      },
      "source": [
        "При выгрузке некоторых данных явно произошла какая-то ошибка, либо данные в систему были внесены некорректно. Человек с типом занятости \"Сотрудник\" и медианным возрастом 39 лет отработал всего 1574 дня, что составляет порядка 6 лет стажа, то есть получается, что сотрудник якобы устроился на работу в 33 года, ну или до этого примерно 10 лет работал неофициально. Допустим, это возможно, это значение мы оставим.\n",
        "Люди с типом занятости \"Пенсионер\" и \"Безработный\" выглядят абсолютно неправдоподобно. Была допущена ошибка. Вполне возможно, что сотрудник внёс данные об отработанных часах, в таком случае, это похоже на правду для пенсионера, но никак не похоже на безработного (если ещё учесть, что медианный возраст 38 лет)\n",
        "Данные по остальным группам выглядят правдоподобно.\n",
        "\n",
        "Что делаем:\n",
        "1. В пропусках для категорий \"Сотрудник\", \"В декрете\", \"Студент\", \"Госслужащий\", \"Предприниматель\", \"Компаньон\" заменяем данные по медиане этих категорий\n",
        "2. В пропусках для категории \"Пенсионер\" заменяем данные по медиане, разделенной на 24 (ч)\n",
        "3. В пропусках для категории \"Безработный\" заменяем данные по общей медиане. Такое решение я принял в связи с тем, что какое-то минимальное количество рабочих дней так или иначе было отработано этими людьми, поэтому я взял самое минимальное медианное число из всех представленных.\n"
      ]
    },
    {
      "cell_type": "code",
      "execution_count": null,
      "metadata": {
        "id": "m84-Vf8mXaFu"
      },
      "outputs": [],
      "source": [
        "especially_group = 'сотрудник', 'компаньон', 'госслужащий','предприниматель', 'студент', 'в декрете'"
      ]
    },
    {
      "cell_type": "code",
      "execution_count": null,
      "metadata": {
        "id": "5ERlJiinXaFv",
        "outputId": "62dfa064-c715-4536-a2bb-e4036b0f31b5"
      },
      "outputs": [
        {
          "name": "stdout",
          "output_type": "stream",
          "text": [
            "('сотрудник', 'компаньон', 'госслужащий', 'предприниматель', 'студент', 'в декрете')\n"
          ]
        }
      ],
      "source": [
        "print(especially_group)"
      ]
    },
    {
      "cell_type": "code",
      "execution_count": null,
      "metadata": {
        "id": "9RFOHwqEXaFv",
        "outputId": "a3a6de9a-fa41-48dd-aa4d-0a447a871c89"
      },
      "outputs": [
        {
          "name": "stdout",
          "output_type": "stream",
          "text": [
            "children                 0.000000\n",
            "days_employed        15217.221094\n",
            "dob_years               60.000000\n",
            "education_id             1.000000\n",
            "family_status_id         0.000000\n",
            "debt                     0.000000\n",
            "total_income        118514.486412\n",
            "dtype: float64\n"
          ]
        }
      ],
      "source": [
        "df.loc[df['income_type']=='пенсионер', 'days_employed'] /= 24\n",
        "\n",
        "pens_median = df.loc[(df['income_type'] =='пенсионер') & (df['days_employed'])].median()\n",
        "\n",
        "print(pens_median)"
      ]
    },
    {
      "cell_type": "code",
      "execution_count": null,
      "metadata": {
        "id": "6FNntNraXaFv"
      },
      "outputs": [],
      "source": [
        "df.loc[(df['days_employed'].isna())&(df['income_type']=='пенсионер'), 'days_employed' ] = 15217"
      ]
    },
    {
      "cell_type": "code",
      "execution_count": null,
      "metadata": {
        "id": "YBl6g0hVXaFw",
        "outputId": "95ac1eee-46ad-414c-909c-4afb72543ff1"
      },
      "outputs": [
        {
          "data": {
            "text/plain": [
              "children              0\n",
              "days_employed         0\n",
              "dob_years             0\n",
              "education             0\n",
              "education_id          0\n",
              "family_status         0\n",
              "family_status_id      0\n",
              "gender                0\n",
              "income_type           0\n",
              "debt                  0\n",
              "total_income        413\n",
              "purpose               0\n",
              "dtype: int64"
            ]
          },
          "execution_count": 19,
          "metadata": {},
          "output_type": "execute_result"
        }
      ],
      "source": [
        "df.loc[(df['income_type'] =='пенсионер')].isna().sum()"
      ]
    },
    {
      "cell_type": "code",
      "execution_count": null,
      "metadata": {
        "id": "22qSBxshXaFw",
        "outputId": "1d63823a-d137-45b5-bd7a-d5400e1dc0dd"
      },
      "outputs": [
        {
          "data": {
            "text/plain": [
              "children            2\n",
              "days_employed       2\n",
              "dob_years           2\n",
              "education           2\n",
              "education_id        2\n",
              "family_status       2\n",
              "family_status_id    2\n",
              "gender              2\n",
              "income_type         2\n",
              "debt                2\n",
              "total_income        2\n",
              "purpose             2\n",
              "dtype: int64"
            ]
          },
          "execution_count": 20,
          "metadata": {},
          "output_type": "execute_result"
        }
      ],
      "source": [
        "df.loc[(df['income_type'] =='безработный')].count()"
      ]
    },
    {
      "cell_type": "code",
      "execution_count": null,
      "metadata": {
        "id": "usyMewm2XaFw"
      },
      "outputs": [],
      "source": [
        "df.loc[df['income_type']=='безработный', 'days_employed'] = df['days_employed'].median()"
      ]
    },
    {
      "cell_type": "code",
      "execution_count": null,
      "metadata": {
        "id": "jpgQaVE2XaFw",
        "outputId": "63a62f67-1a10-47eb-d136-4aef6812205c"
      },
      "outputs": [
        {
          "data": {
            "text/html": [
              "<div>\n",
              "<style scoped>\n",
              "    .dataframe tbody tr th:only-of-type {\n",
              "        vertical-align: middle;\n",
              "    }\n",
              "\n",
              "    .dataframe tbody tr th {\n",
              "        vertical-align: top;\n",
              "    }\n",
              "\n",
              "    .dataframe thead th {\n",
              "        text-align: right;\n",
              "    }\n",
              "</style>\n",
              "<table border=\"1\" class=\"dataframe\">\n",
              "  <thead>\n",
              "    <tr style=\"text-align: right;\">\n",
              "      <th></th>\n",
              "      <th>children</th>\n",
              "      <th>days_employed</th>\n",
              "      <th>dob_years</th>\n",
              "      <th>education</th>\n",
              "      <th>education_id</th>\n",
              "      <th>family_status</th>\n",
              "      <th>family_status_id</th>\n",
              "      <th>gender</th>\n",
              "      <th>income_type</th>\n",
              "      <th>debt</th>\n",
              "      <th>total_income</th>\n",
              "      <th>purpose</th>\n",
              "    </tr>\n",
              "  </thead>\n",
              "  <tbody>\n",
              "    <tr>\n",
              "      <td>3133</td>\n",
              "      <td>1</td>\n",
              "      <td>2269.733207</td>\n",
              "      <td>31</td>\n",
              "      <td>среднее</td>\n",
              "      <td>1</td>\n",
              "      <td>женат / замужем</td>\n",
              "      <td>0</td>\n",
              "      <td>M</td>\n",
              "      <td>безработный</td>\n",
              "      <td>1</td>\n",
              "      <td>59956.991984</td>\n",
              "      <td>покупка жилья для сдачи</td>\n",
              "    </tr>\n",
              "    <tr>\n",
              "      <td>14798</td>\n",
              "      <td>0</td>\n",
              "      <td>2269.733207</td>\n",
              "      <td>45</td>\n",
              "      <td>Высшее</td>\n",
              "      <td>0</td>\n",
              "      <td>гражданский брак</td>\n",
              "      <td>1</td>\n",
              "      <td>F</td>\n",
              "      <td>безработный</td>\n",
              "      <td>0</td>\n",
              "      <td>202722.511368</td>\n",
              "      <td>ремонт жилью</td>\n",
              "    </tr>\n",
              "  </tbody>\n",
              "</table>\n",
              "</div>"
            ],
            "text/plain": [
              "       children  days_employed  dob_years education  education_id  \\\n",
              "3133          1    2269.733207         31   среднее             1   \n",
              "14798         0    2269.733207         45    Высшее             0   \n",
              "\n",
              "          family_status  family_status_id gender  income_type  debt  \\\n",
              "3133    женат / замужем                 0      M  безработный     1   \n",
              "14798  гражданский брак                 1      F  безработный     0   \n",
              "\n",
              "        total_income                  purpose  \n",
              "3133    59956.991984  покупка жилья для сдачи  \n",
              "14798  202722.511368             ремонт жилью  "
            ]
          },
          "execution_count": 22,
          "metadata": {},
          "output_type": "execute_result"
        }
      ],
      "source": [
        "df.loc[(df['income_type'] =='безработный')]"
      ]
    },
    {
      "cell_type": "code",
      "execution_count": null,
      "metadata": {
        "id": "032rKRsaXaFx"
      },
      "outputs": [],
      "source": [
        ""
      ]
    },
    {
      "cell_type": "code",
      "execution_count": null,
      "metadata": {
        "id": "YoH0OUnJXaFx"
      },
      "outputs": [],
      "source": [
        "def change_nan(data, category, value):\n",
        "  for type in especially_group:\n",
        "    data.loc[(data[value].isna())&(data[category]==type), value ] =\\\n",
        "data.loc[data[category]==type, value].median()"
      ]
    },
    {
      "cell_type": "code",
      "execution_count": null,
      "metadata": {
        "id": "Qpr8gXykXaFx"
      },
      "outputs": [],
      "source": [
        "change_nan(df, 'income_type', 'days_employed')"
      ]
    },
    {
      "cell_type": "code",
      "execution_count": null,
      "metadata": {
        "id": "UKoJJSzUXaFx",
        "outputId": "1d51928b-b8b0-4766-af15-fd55d7cfd80b"
      },
      "outputs": [
        {
          "name": "stdout",
          "output_type": "stream",
          "text": [
            "<class 'pandas.core.frame.DataFrame'>\n",
            "RangeIndex: 21525 entries, 0 to 21524\n",
            "Data columns (total 12 columns):\n",
            "children            21525 non-null int64\n",
            "days_employed       21525 non-null float64\n",
            "dob_years           21525 non-null int64\n",
            "education           21525 non-null object\n",
            "education_id        21525 non-null int64\n",
            "family_status       21525 non-null object\n",
            "family_status_id    21525 non-null int64\n",
            "gender              21525 non-null object\n",
            "income_type         21525 non-null object\n",
            "debt                21525 non-null int64\n",
            "total_income        19351 non-null float64\n",
            "purpose             21525 non-null object\n",
            "dtypes: float64(2), int64(5), object(5)\n",
            "memory usage: 2.0+ MB\n"
          ]
        }
      ],
      "source": [
        "df.info()\n",
        "\n",
        "#df.loc[(df['total_income'].isnull())&(df['income_type'].count()\n",
        "\n",
        "#df.pivot_table(index='income_type', values='days_employed', aggfunc='mean')\n",
        "                                      \n",
        "\n",
        "#df.loc[df.isnull().any(axis=1)]\n"
      ]
    },
    {
      "cell_type": "code",
      "execution_count": null,
      "metadata": {
        "id": "oI2CVuVAXaFy",
        "outputId": "50963685-db84-4186-e455-a1e34bd7562c"
      },
      "outputs": [
        {
          "data": {
            "text/plain": [
              "0"
            ]
          },
          "execution_count": 26,
          "metadata": {},
          "output_type": "execute_result"
        }
      ],
      "source": [
        "df['days_employed'].isna().sum()"
      ]
    },
    {
      "cell_type": "code",
      "execution_count": null,
      "metadata": {
        "id": "P6T9np0JXaFy"
      },
      "outputs": [],
      "source": [
        "def change_nan(dataset, category, value):\n",
        "    for type in dataset[category].unique():\n",
        "        dataset.loc[(dataset[value].isna())&(dataset[category]==type), value ] =\\\n",
        "dataset.loc[dataset[category]==type, value].median()"
      ]
    },
    {
      "cell_type": "markdown",
      "metadata": {
        "id": "GDNvun9DXaFy"
      },
      "source": [
        "\n",
        "<div class=\"alert alert-success\">\n",
        "<h1>Комментарий ревьюера v2 <a class=\"tocSkip\"></a></h1>\n",
        "Молодец, что поправил замечание:)</div>"
      ]
    },
    {
      "cell_type": "code",
      "execution_count": null,
      "metadata": {
        "id": "0GDGlMpiXaFy"
      },
      "outputs": [],
      "source": [
        "change_nan(df, 'income_type', 'total_income')"
      ]
    },
    {
      "cell_type": "code",
      "execution_count": null,
      "metadata": {
        "id": "kPTf561uXaFz",
        "outputId": "b340b70f-0e79-4a35-c3a0-156d3ade40dd"
      },
      "outputs": [
        {
          "data": {
            "text/plain": [
              "0"
            ]
          },
          "execution_count": 29,
          "metadata": {},
          "output_type": "execute_result"
        }
      ],
      "source": [
        "df['total_income'].isna().sum()"
      ]
    },
    {
      "cell_type": "code",
      "execution_count": null,
      "metadata": {
        "id": "nGjKkpLTXaFz",
        "outputId": "eeedabfa-68e6-4a50-91f7-ffad5e53e464"
      },
      "outputs": [
        {
          "name": "stdout",
          "output_type": "stream",
          "text": [
            "<class 'pandas.core.frame.DataFrame'>\n",
            "RangeIndex: 21525 entries, 0 to 21524\n",
            "Data columns (total 12 columns):\n",
            "children            21525 non-null int64\n",
            "days_employed       21525 non-null float64\n",
            "dob_years           21525 non-null int64\n",
            "education           21525 non-null object\n",
            "education_id        21525 non-null int64\n",
            "family_status       21525 non-null object\n",
            "family_status_id    21525 non-null int64\n",
            "gender              21525 non-null object\n",
            "income_type         21525 non-null object\n",
            "debt                21525 non-null int64\n",
            "total_income        21525 non-null float64\n",
            "purpose             21525 non-null object\n",
            "dtypes: float64(2), int64(5), object(5)\n",
            "memory usage: 2.0+ MB\n"
          ]
        }
      ],
      "source": [
        "df.info()"
      ]
    },
    {
      "cell_type": "markdown",
      "metadata": {
        "id": "xwIYXnXsXaFz"
      },
      "source": [
        "**Вывод**\n",
        "Обнаруженные аномальные значения в столбце days_employed были вычислены и заменены, также мы обработали все пропуски.\n",
        "С помощью функции были обработаны все пропуски в столбце total_income."
      ]
    },
    {
      "cell_type": "code",
      "execution_count": null,
      "metadata": {
        "id": "XSH7eFjkXaF0"
      },
      "outputs": [],
      "source": [
        "#df.dropna(subset=['days_employed', 'total_income'], inplace=True) #удаляем все строки, где есть пропущенные значения"
      ]
    },
    {
      "cell_type": "code",
      "execution_count": null,
      "metadata": {
        "scrolled": true,
        "id": "QYH-LXkDXaF0"
      },
      "outputs": [],
      "source": [
        "#df.info() #проверяем удалились ли дубликаты"
      ]
    },
    {
      "cell_type": "markdown",
      "metadata": {
        "id": "DFK56YkpXaF0"
      },
      "source": [
        "### Замена типа данных"
      ]
    },
    {
      "cell_type": "code",
      "execution_count": null,
      "metadata": {
        "id": "n5MToGcxXaF0",
        "outputId": "bde3d6fe-ab32-4c79-dcff-269faebe8fa5"
      },
      "outputs": [
        {
          "name": "stdout",
          "output_type": "stream",
          "text": [
            "<class 'pandas.core.frame.DataFrame'>\n",
            "RangeIndex: 21525 entries, 0 to 21524\n",
            "Data columns (total 12 columns):\n",
            "children            21525 non-null int64\n",
            "days_employed       21525 non-null int64\n",
            "dob_years           21525 non-null int64\n",
            "education           21525 non-null object\n",
            "education_id        21525 non-null int64\n",
            "family_status       21525 non-null object\n",
            "family_status_id    21525 non-null int64\n",
            "gender              21525 non-null object\n",
            "income_type         21525 non-null object\n",
            "debt                21525 non-null int64\n",
            "total_income        21525 non-null int64\n",
            "purpose             21525 non-null object\n",
            "dtypes: int64(7), object(5)\n",
            "memory usage: 2.0+ MB\n"
          ]
        }
      ],
      "source": [
        "df['days_employed'] = df['days_employed'].astype(int) # заменяем тип данных float64 на int в столбце days_employed\n",
        "df['total_income'] = df['total_income'].astype(int)# заменяем тип данных float64 на int в столбце total_income\n",
        "df.info()"
      ]
    },
    {
      "cell_type": "markdown",
      "metadata": {
        "id": "dd5drJU5XaF0"
      },
      "source": [
        "**Вывод**\n",
        "Заменены значения на целочисленные"
      ]
    },
    {
      "cell_type": "markdown",
      "metadata": {
        "id": "L9g1NJE-XaF1"
      },
      "source": [
        "### Обработка дубликатов"
      ]
    },
    {
      "cell_type": "code",
      "execution_count": null,
      "metadata": {
        "id": "3VTERxG-XaF1",
        "outputId": "4584dd39-aca8-4f78-b117-5b13f4e7a656"
      },
      "outputs": [
        {
          "data": {
            "text/plain": [
              "54"
            ]
          },
          "execution_count": 34,
          "metadata": {},
          "output_type": "execute_result"
        }
      ],
      "source": [
        "df.duplicated().sum() #вычисляем сумму дубликатов в df"
      ]
    },
    {
      "cell_type": "code",
      "execution_count": null,
      "metadata": {
        "id": "PiLPougJXaF1",
        "outputId": "0a4ba8c5-42b7-43fb-9767-3b48d1bf628c"
      },
      "outputs": [
        {
          "data": {
            "text/html": [
              "<div>\n",
              "<style scoped>\n",
              "    .dataframe tbody tr th:only-of-type {\n",
              "        vertical-align: middle;\n",
              "    }\n",
              "\n",
              "    .dataframe tbody tr th {\n",
              "        vertical-align: top;\n",
              "    }\n",
              "\n",
              "    .dataframe thead th {\n",
              "        text-align: right;\n",
              "    }\n",
              "</style>\n",
              "<table border=\"1\" class=\"dataframe\">\n",
              "  <thead>\n",
              "    <tr style=\"text-align: right;\">\n",
              "      <th></th>\n",
              "      <th>children</th>\n",
              "      <th>days_employed</th>\n",
              "      <th>dob_years</th>\n",
              "      <th>education</th>\n",
              "      <th>education_id</th>\n",
              "      <th>family_status</th>\n",
              "      <th>family_status_id</th>\n",
              "      <th>gender</th>\n",
              "      <th>income_type</th>\n",
              "      <th>debt</th>\n",
              "      <th>total_income</th>\n",
              "      <th>purpose</th>\n",
              "    </tr>\n",
              "  </thead>\n",
              "  <tbody>\n",
              "    <tr>\n",
              "      <td>2849</td>\n",
              "      <td>0</td>\n",
              "      <td>1574</td>\n",
              "      <td>41</td>\n",
              "      <td>среднее</td>\n",
              "      <td>1</td>\n",
              "      <td>женат / замужем</td>\n",
              "      <td>0</td>\n",
              "      <td>F</td>\n",
              "      <td>сотрудник</td>\n",
              "      <td>0</td>\n",
              "      <td>142594</td>\n",
              "      <td>покупка жилья для семьи</td>\n",
              "    </tr>\n",
              "    <tr>\n",
              "      <td>4182</td>\n",
              "      <td>1</td>\n",
              "      <td>1574</td>\n",
              "      <td>34</td>\n",
              "      <td>ВЫСШЕЕ</td>\n",
              "      <td>0</td>\n",
              "      <td>гражданский брак</td>\n",
              "      <td>1</td>\n",
              "      <td>F</td>\n",
              "      <td>сотрудник</td>\n",
              "      <td>0</td>\n",
              "      <td>142594</td>\n",
              "      <td>свадьба</td>\n",
              "    </tr>\n",
              "    <tr>\n",
              "      <td>4851</td>\n",
              "      <td>0</td>\n",
              "      <td>15217</td>\n",
              "      <td>60</td>\n",
              "      <td>среднее</td>\n",
              "      <td>1</td>\n",
              "      <td>гражданский брак</td>\n",
              "      <td>1</td>\n",
              "      <td>F</td>\n",
              "      <td>пенсионер</td>\n",
              "      <td>0</td>\n",
              "      <td>118514</td>\n",
              "      <td>свадьба</td>\n",
              "    </tr>\n",
              "    <tr>\n",
              "      <td>5557</td>\n",
              "      <td>0</td>\n",
              "      <td>15217</td>\n",
              "      <td>58</td>\n",
              "      <td>среднее</td>\n",
              "      <td>1</td>\n",
              "      <td>гражданский брак</td>\n",
              "      <td>1</td>\n",
              "      <td>F</td>\n",
              "      <td>пенсионер</td>\n",
              "      <td>0</td>\n",
              "      <td>118514</td>\n",
              "      <td>сыграть свадьбу</td>\n",
              "    </tr>\n",
              "    <tr>\n",
              "      <td>7808</td>\n",
              "      <td>0</td>\n",
              "      <td>15217</td>\n",
              "      <td>57</td>\n",
              "      <td>среднее</td>\n",
              "      <td>1</td>\n",
              "      <td>гражданский брак</td>\n",
              "      <td>1</td>\n",
              "      <td>F</td>\n",
              "      <td>пенсионер</td>\n",
              "      <td>0</td>\n",
              "      <td>118514</td>\n",
              "      <td>на проведение свадьбы</td>\n",
              "    </tr>\n",
              "    <tr>\n",
              "      <td>8583</td>\n",
              "      <td>0</td>\n",
              "      <td>15217</td>\n",
              "      <td>58</td>\n",
              "      <td>высшее</td>\n",
              "      <td>0</td>\n",
              "      <td>Не женат / не замужем</td>\n",
              "      <td>4</td>\n",
              "      <td>F</td>\n",
              "      <td>пенсионер</td>\n",
              "      <td>0</td>\n",
              "      <td>118514</td>\n",
              "      <td>дополнительное образование</td>\n",
              "    </tr>\n",
              "    <tr>\n",
              "      <td>9238</td>\n",
              "      <td>2</td>\n",
              "      <td>1574</td>\n",
              "      <td>34</td>\n",
              "      <td>среднее</td>\n",
              "      <td>1</td>\n",
              "      <td>женат / замужем</td>\n",
              "      <td>0</td>\n",
              "      <td>F</td>\n",
              "      <td>сотрудник</td>\n",
              "      <td>0</td>\n",
              "      <td>142594</td>\n",
              "      <td>покупка жилья для сдачи</td>\n",
              "    </tr>\n",
              "    <tr>\n",
              "      <td>9528</td>\n",
              "      <td>0</td>\n",
              "      <td>15217</td>\n",
              "      <td>66</td>\n",
              "      <td>среднее</td>\n",
              "      <td>1</td>\n",
              "      <td>вдовец / вдова</td>\n",
              "      <td>2</td>\n",
              "      <td>F</td>\n",
              "      <td>пенсионер</td>\n",
              "      <td>0</td>\n",
              "      <td>118514</td>\n",
              "      <td>операции со своей недвижимостью</td>\n",
              "    </tr>\n",
              "    <tr>\n",
              "      <td>9627</td>\n",
              "      <td>0</td>\n",
              "      <td>15217</td>\n",
              "      <td>56</td>\n",
              "      <td>среднее</td>\n",
              "      <td>1</td>\n",
              "      <td>женат / замужем</td>\n",
              "      <td>0</td>\n",
              "      <td>F</td>\n",
              "      <td>пенсионер</td>\n",
              "      <td>0</td>\n",
              "      <td>118514</td>\n",
              "      <td>операции со своей недвижимостью</td>\n",
              "    </tr>\n",
              "    <tr>\n",
              "      <td>10462</td>\n",
              "      <td>0</td>\n",
              "      <td>15217</td>\n",
              "      <td>62</td>\n",
              "      <td>среднее</td>\n",
              "      <td>1</td>\n",
              "      <td>женат / замужем</td>\n",
              "      <td>0</td>\n",
              "      <td>F</td>\n",
              "      <td>пенсионер</td>\n",
              "      <td>0</td>\n",
              "      <td>118514</td>\n",
              "      <td>покупка коммерческой недвижимости</td>\n",
              "    </tr>\n",
              "    <tr>\n",
              "      <td>10697</td>\n",
              "      <td>0</td>\n",
              "      <td>1547</td>\n",
              "      <td>40</td>\n",
              "      <td>среднее</td>\n",
              "      <td>1</td>\n",
              "      <td>гражданский брак</td>\n",
              "      <td>1</td>\n",
              "      <td>F</td>\n",
              "      <td>компаньон</td>\n",
              "      <td>0</td>\n",
              "      <td>172357</td>\n",
              "      <td>сыграть свадьбу</td>\n",
              "    </tr>\n",
              "    <tr>\n",
              "      <td>10864</td>\n",
              "      <td>0</td>\n",
              "      <td>15217</td>\n",
              "      <td>62</td>\n",
              "      <td>среднее</td>\n",
              "      <td>1</td>\n",
              "      <td>женат / замужем</td>\n",
              "      <td>0</td>\n",
              "      <td>F</td>\n",
              "      <td>пенсионер</td>\n",
              "      <td>0</td>\n",
              "      <td>118514</td>\n",
              "      <td>ремонт жилью</td>\n",
              "    </tr>\n",
              "    <tr>\n",
              "      <td>10994</td>\n",
              "      <td>0</td>\n",
              "      <td>15217</td>\n",
              "      <td>62</td>\n",
              "      <td>среднее</td>\n",
              "      <td>1</td>\n",
              "      <td>женат / замужем</td>\n",
              "      <td>0</td>\n",
              "      <td>F</td>\n",
              "      <td>пенсионер</td>\n",
              "      <td>0</td>\n",
              "      <td>118514</td>\n",
              "      <td>ремонт жилью</td>\n",
              "    </tr>\n",
              "    <tr>\n",
              "      <td>11791</td>\n",
              "      <td>0</td>\n",
              "      <td>1574</td>\n",
              "      <td>47</td>\n",
              "      <td>среднее</td>\n",
              "      <td>1</td>\n",
              "      <td>женат / замужем</td>\n",
              "      <td>0</td>\n",
              "      <td>F</td>\n",
              "      <td>сотрудник</td>\n",
              "      <td>0</td>\n",
              "      <td>142594</td>\n",
              "      <td>строительство недвижимости</td>\n",
              "    </tr>\n",
              "    <tr>\n",
              "      <td>12373</td>\n",
              "      <td>0</td>\n",
              "      <td>1574</td>\n",
              "      <td>58</td>\n",
              "      <td>среднее</td>\n",
              "      <td>1</td>\n",
              "      <td>женат / замужем</td>\n",
              "      <td>0</td>\n",
              "      <td>M</td>\n",
              "      <td>сотрудник</td>\n",
              "      <td>0</td>\n",
              "      <td>142594</td>\n",
              "      <td>покупка недвижимости</td>\n",
              "    </tr>\n",
              "    <tr>\n",
              "      <td>12375</td>\n",
              "      <td>1</td>\n",
              "      <td>1574</td>\n",
              "      <td>37</td>\n",
              "      <td>среднее</td>\n",
              "      <td>1</td>\n",
              "      <td>женат / замужем</td>\n",
              "      <td>0</td>\n",
              "      <td>F</td>\n",
              "      <td>сотрудник</td>\n",
              "      <td>0</td>\n",
              "      <td>142594</td>\n",
              "      <td>покупка недвижимости</td>\n",
              "    </tr>\n",
              "    <tr>\n",
              "      <td>12736</td>\n",
              "      <td>0</td>\n",
              "      <td>15217</td>\n",
              "      <td>59</td>\n",
              "      <td>среднее</td>\n",
              "      <td>1</td>\n",
              "      <td>женат / замужем</td>\n",
              "      <td>0</td>\n",
              "      <td>F</td>\n",
              "      <td>пенсионер</td>\n",
              "      <td>0</td>\n",
              "      <td>118514</td>\n",
              "      <td>заняться образованием</td>\n",
              "    </tr>\n",
              "    <tr>\n",
              "      <td>13025</td>\n",
              "      <td>1</td>\n",
              "      <td>1574</td>\n",
              "      <td>44</td>\n",
              "      <td>среднее</td>\n",
              "      <td>1</td>\n",
              "      <td>женат / замужем</td>\n",
              "      <td>0</td>\n",
              "      <td>F</td>\n",
              "      <td>сотрудник</td>\n",
              "      <td>0</td>\n",
              "      <td>142594</td>\n",
              "      <td>сделка с подержанным автомобилем</td>\n",
              "    </tr>\n",
              "    <tr>\n",
              "      <td>13639</td>\n",
              "      <td>0</td>\n",
              "      <td>15217</td>\n",
              "      <td>64</td>\n",
              "      <td>среднее</td>\n",
              "      <td>1</td>\n",
              "      <td>женат / замужем</td>\n",
              "      <td>0</td>\n",
              "      <td>F</td>\n",
              "      <td>пенсионер</td>\n",
              "      <td>0</td>\n",
              "      <td>118514</td>\n",
              "      <td>автомобиль</td>\n",
              "    </tr>\n",
              "    <tr>\n",
              "      <td>13773</td>\n",
              "      <td>0</td>\n",
              "      <td>1574</td>\n",
              "      <td>35</td>\n",
              "      <td>среднее</td>\n",
              "      <td>1</td>\n",
              "      <td>гражданский брак</td>\n",
              "      <td>1</td>\n",
              "      <td>F</td>\n",
              "      <td>сотрудник</td>\n",
              "      <td>0</td>\n",
              "      <td>142594</td>\n",
              "      <td>сыграть свадьбу</td>\n",
              "    </tr>\n",
              "    <tr>\n",
              "      <td>13878</td>\n",
              "      <td>1</td>\n",
              "      <td>1547</td>\n",
              "      <td>31</td>\n",
              "      <td>среднее</td>\n",
              "      <td>1</td>\n",
              "      <td>женат / замужем</td>\n",
              "      <td>0</td>\n",
              "      <td>F</td>\n",
              "      <td>компаньон</td>\n",
              "      <td>0</td>\n",
              "      <td>172357</td>\n",
              "      <td>покупка жилья</td>\n",
              "    </tr>\n",
              "    <tr>\n",
              "      <td>13942</td>\n",
              "      <td>0</td>\n",
              "      <td>1574</td>\n",
              "      <td>44</td>\n",
              "      <td>среднее</td>\n",
              "      <td>1</td>\n",
              "      <td>женат / замужем</td>\n",
              "      <td>0</td>\n",
              "      <td>F</td>\n",
              "      <td>сотрудник</td>\n",
              "      <td>0</td>\n",
              "      <td>142594</td>\n",
              "      <td>приобретение автомобиля</td>\n",
              "    </tr>\n",
              "    <tr>\n",
              "      <td>14432</td>\n",
              "      <td>2</td>\n",
              "      <td>2689</td>\n",
              "      <td>36</td>\n",
              "      <td>высшее</td>\n",
              "      <td>0</td>\n",
              "      <td>женат / замужем</td>\n",
              "      <td>0</td>\n",
              "      <td>F</td>\n",
              "      <td>госслужащий</td>\n",
              "      <td>0</td>\n",
              "      <td>150447</td>\n",
              "      <td>получение образования</td>\n",
              "    </tr>\n",
              "    <tr>\n",
              "      <td>14832</td>\n",
              "      <td>0</td>\n",
              "      <td>1574</td>\n",
              "      <td>50</td>\n",
              "      <td>среднее</td>\n",
              "      <td>1</td>\n",
              "      <td>Не женат / не замужем</td>\n",
              "      <td>4</td>\n",
              "      <td>F</td>\n",
              "      <td>сотрудник</td>\n",
              "      <td>0</td>\n",
              "      <td>142594</td>\n",
              "      <td>недвижимость</td>\n",
              "    </tr>\n",
              "    <tr>\n",
              "      <td>15091</td>\n",
              "      <td>0</td>\n",
              "      <td>1574</td>\n",
              "      <td>58</td>\n",
              "      <td>среднее</td>\n",
              "      <td>1</td>\n",
              "      <td>гражданский брак</td>\n",
              "      <td>1</td>\n",
              "      <td>M</td>\n",
              "      <td>сотрудник</td>\n",
              "      <td>0</td>\n",
              "      <td>142594</td>\n",
              "      <td>на проведение свадьбы</td>\n",
              "    </tr>\n",
              "    <tr>\n",
              "      <td>15188</td>\n",
              "      <td>0</td>\n",
              "      <td>1574</td>\n",
              "      <td>60</td>\n",
              "      <td>среднее</td>\n",
              "      <td>1</td>\n",
              "      <td>женат / замужем</td>\n",
              "      <td>0</td>\n",
              "      <td>M</td>\n",
              "      <td>сотрудник</td>\n",
              "      <td>0</td>\n",
              "      <td>142594</td>\n",
              "      <td>покупка недвижимости</td>\n",
              "    </tr>\n",
              "    <tr>\n",
              "      <td>15273</td>\n",
              "      <td>0</td>\n",
              "      <td>15217</td>\n",
              "      <td>57</td>\n",
              "      <td>среднее</td>\n",
              "      <td>1</td>\n",
              "      <td>гражданский брак</td>\n",
              "      <td>1</td>\n",
              "      <td>F</td>\n",
              "      <td>пенсионер</td>\n",
              "      <td>0</td>\n",
              "      <td>118514</td>\n",
              "      <td>свадьба</td>\n",
              "    </tr>\n",
              "    <tr>\n",
              "      <td>16176</td>\n",
              "      <td>0</td>\n",
              "      <td>1574</td>\n",
              "      <td>47</td>\n",
              "      <td>среднее</td>\n",
              "      <td>1</td>\n",
              "      <td>женат / замужем</td>\n",
              "      <td>0</td>\n",
              "      <td>F</td>\n",
              "      <td>сотрудник</td>\n",
              "      <td>0</td>\n",
              "      <td>142594</td>\n",
              "      <td>ремонт жилью</td>\n",
              "    </tr>\n",
              "    <tr>\n",
              "      <td>16378</td>\n",
              "      <td>0</td>\n",
              "      <td>1574</td>\n",
              "      <td>46</td>\n",
              "      <td>среднее</td>\n",
              "      <td>1</td>\n",
              "      <td>женат / замужем</td>\n",
              "      <td>0</td>\n",
              "      <td>F</td>\n",
              "      <td>сотрудник</td>\n",
              "      <td>0</td>\n",
              "      <td>142594</td>\n",
              "      <td>высшее образование</td>\n",
              "    </tr>\n",
              "    <tr>\n",
              "      <td>16902</td>\n",
              "      <td>2</td>\n",
              "      <td>1574</td>\n",
              "      <td>39</td>\n",
              "      <td>среднее</td>\n",
              "      <td>1</td>\n",
              "      <td>гражданский брак</td>\n",
              "      <td>1</td>\n",
              "      <td>F</td>\n",
              "      <td>сотрудник</td>\n",
              "      <td>0</td>\n",
              "      <td>142594</td>\n",
              "      <td>сыграть свадьбу</td>\n",
              "    </tr>\n",
              "    <tr>\n",
              "      <td>16904</td>\n",
              "      <td>1</td>\n",
              "      <td>1574</td>\n",
              "      <td>32</td>\n",
              "      <td>высшее</td>\n",
              "      <td>0</td>\n",
              "      <td>женат / замужем</td>\n",
              "      <td>0</td>\n",
              "      <td>F</td>\n",
              "      <td>сотрудник</td>\n",
              "      <td>0</td>\n",
              "      <td>142594</td>\n",
              "      <td>на покупку подержанного автомобиля</td>\n",
              "    </tr>\n",
              "    <tr>\n",
              "      <td>17379</td>\n",
              "      <td>0</td>\n",
              "      <td>1547</td>\n",
              "      <td>54</td>\n",
              "      <td>высшее</td>\n",
              "      <td>0</td>\n",
              "      <td>женат / замужем</td>\n",
              "      <td>0</td>\n",
              "      <td>M</td>\n",
              "      <td>компаньон</td>\n",
              "      <td>0</td>\n",
              "      <td>172357</td>\n",
              "      <td>операции с коммерческой недвижимостью</td>\n",
              "    </tr>\n",
              "    <tr>\n",
              "      <td>17755</td>\n",
              "      <td>1</td>\n",
              "      <td>1574</td>\n",
              "      <td>43</td>\n",
              "      <td>среднее</td>\n",
              "      <td>1</td>\n",
              "      <td>женат / замужем</td>\n",
              "      <td>0</td>\n",
              "      <td>M</td>\n",
              "      <td>сотрудник</td>\n",
              "      <td>0</td>\n",
              "      <td>142594</td>\n",
              "      <td>заняться образованием</td>\n",
              "    </tr>\n",
              "    <tr>\n",
              "      <td>17774</td>\n",
              "      <td>1</td>\n",
              "      <td>1547</td>\n",
              "      <td>40</td>\n",
              "      <td>среднее</td>\n",
              "      <td>1</td>\n",
              "      <td>гражданский брак</td>\n",
              "      <td>1</td>\n",
              "      <td>F</td>\n",
              "      <td>компаньон</td>\n",
              "      <td>0</td>\n",
              "      <td>172357</td>\n",
              "      <td>строительство жилой недвижимости</td>\n",
              "    </tr>\n",
              "    <tr>\n",
              "      <td>18328</td>\n",
              "      <td>0</td>\n",
              "      <td>1574</td>\n",
              "      <td>29</td>\n",
              "      <td>высшее</td>\n",
              "      <td>0</td>\n",
              "      <td>женат / замужем</td>\n",
              "      <td>0</td>\n",
              "      <td>M</td>\n",
              "      <td>сотрудник</td>\n",
              "      <td>0</td>\n",
              "      <td>142594</td>\n",
              "      <td>покупка жилой недвижимости</td>\n",
              "    </tr>\n",
              "    <tr>\n",
              "      <td>18349</td>\n",
              "      <td>1</td>\n",
              "      <td>2689</td>\n",
              "      <td>30</td>\n",
              "      <td>высшее</td>\n",
              "      <td>0</td>\n",
              "      <td>женат / замужем</td>\n",
              "      <td>0</td>\n",
              "      <td>F</td>\n",
              "      <td>госслужащий</td>\n",
              "      <td>0</td>\n",
              "      <td>150447</td>\n",
              "      <td>покупка жилья для семьи</td>\n",
              "    </tr>\n",
              "    <tr>\n",
              "      <td>18428</td>\n",
              "      <td>0</td>\n",
              "      <td>15217</td>\n",
              "      <td>64</td>\n",
              "      <td>среднее</td>\n",
              "      <td>1</td>\n",
              "      <td>женат / замужем</td>\n",
              "      <td>0</td>\n",
              "      <td>F</td>\n",
              "      <td>пенсионер</td>\n",
              "      <td>0</td>\n",
              "      <td>118514</td>\n",
              "      <td>жилье</td>\n",
              "    </tr>\n",
              "    <tr>\n",
              "      <td>18521</td>\n",
              "      <td>0</td>\n",
              "      <td>1574</td>\n",
              "      <td>56</td>\n",
              "      <td>среднее</td>\n",
              "      <td>1</td>\n",
              "      <td>гражданский брак</td>\n",
              "      <td>1</td>\n",
              "      <td>F</td>\n",
              "      <td>сотрудник</td>\n",
              "      <td>0</td>\n",
              "      <td>142594</td>\n",
              "      <td>сыграть свадьбу</td>\n",
              "    </tr>\n",
              "    <tr>\n",
              "      <td>18563</td>\n",
              "      <td>0</td>\n",
              "      <td>1574</td>\n",
              "      <td>54</td>\n",
              "      <td>среднее</td>\n",
              "      <td>1</td>\n",
              "      <td>женат / замужем</td>\n",
              "      <td>0</td>\n",
              "      <td>F</td>\n",
              "      <td>сотрудник</td>\n",
              "      <td>0</td>\n",
              "      <td>142594</td>\n",
              "      <td>операции со своей недвижимостью</td>\n",
              "    </tr>\n",
              "    <tr>\n",
              "      <td>18755</td>\n",
              "      <td>0</td>\n",
              "      <td>15217</td>\n",
              "      <td>58</td>\n",
              "      <td>среднее</td>\n",
              "      <td>1</td>\n",
              "      <td>женат / замужем</td>\n",
              "      <td>0</td>\n",
              "      <td>F</td>\n",
              "      <td>пенсионер</td>\n",
              "      <td>0</td>\n",
              "      <td>118514</td>\n",
              "      <td>заняться образованием</td>\n",
              "    </tr>\n",
              "    <tr>\n",
              "      <td>19041</td>\n",
              "      <td>0</td>\n",
              "      <td>1574</td>\n",
              "      <td>56</td>\n",
              "      <td>среднее</td>\n",
              "      <td>1</td>\n",
              "      <td>гражданский брак</td>\n",
              "      <td>1</td>\n",
              "      <td>F</td>\n",
              "      <td>сотрудник</td>\n",
              "      <td>0</td>\n",
              "      <td>142594</td>\n",
              "      <td>на проведение свадьбы</td>\n",
              "    </tr>\n",
              "    <tr>\n",
              "      <td>19184</td>\n",
              "      <td>0</td>\n",
              "      <td>1574</td>\n",
              "      <td>46</td>\n",
              "      <td>среднее</td>\n",
              "      <td>1</td>\n",
              "      <td>женат / замужем</td>\n",
              "      <td>0</td>\n",
              "      <td>F</td>\n",
              "      <td>сотрудник</td>\n",
              "      <td>0</td>\n",
              "      <td>142594</td>\n",
              "      <td>свой автомобиль</td>\n",
              "    </tr>\n",
              "    <tr>\n",
              "      <td>19321</td>\n",
              "      <td>0</td>\n",
              "      <td>1574</td>\n",
              "      <td>23</td>\n",
              "      <td>среднее</td>\n",
              "      <td>1</td>\n",
              "      <td>Не женат / не замужем</td>\n",
              "      <td>4</td>\n",
              "      <td>F</td>\n",
              "      <td>сотрудник</td>\n",
              "      <td>0</td>\n",
              "      <td>142594</td>\n",
              "      <td>сделка с подержанным автомобилем</td>\n",
              "    </tr>\n",
              "    <tr>\n",
              "      <td>19387</td>\n",
              "      <td>0</td>\n",
              "      <td>1547</td>\n",
              "      <td>38</td>\n",
              "      <td>высшее</td>\n",
              "      <td>0</td>\n",
              "      <td>гражданский брак</td>\n",
              "      <td>1</td>\n",
              "      <td>F</td>\n",
              "      <td>компаньон</td>\n",
              "      <td>0</td>\n",
              "      <td>172357</td>\n",
              "      <td>на проведение свадьбы</td>\n",
              "    </tr>\n",
              "    <tr>\n",
              "      <td>19688</td>\n",
              "      <td>0</td>\n",
              "      <td>15217</td>\n",
              "      <td>61</td>\n",
              "      <td>среднее</td>\n",
              "      <td>1</td>\n",
              "      <td>женат / замужем</td>\n",
              "      <td>0</td>\n",
              "      <td>F</td>\n",
              "      <td>пенсионер</td>\n",
              "      <td>0</td>\n",
              "      <td>118514</td>\n",
              "      <td>операции с недвижимостью</td>\n",
              "    </tr>\n",
              "    <tr>\n",
              "      <td>19832</td>\n",
              "      <td>0</td>\n",
              "      <td>1574</td>\n",
              "      <td>48</td>\n",
              "      <td>среднее</td>\n",
              "      <td>1</td>\n",
              "      <td>женат / замужем</td>\n",
              "      <td>0</td>\n",
              "      <td>F</td>\n",
              "      <td>сотрудник</td>\n",
              "      <td>0</td>\n",
              "      <td>142594</td>\n",
              "      <td>ремонт жилью</td>\n",
              "    </tr>\n",
              "    <tr>\n",
              "      <td>19946</td>\n",
              "      <td>0</td>\n",
              "      <td>1574</td>\n",
              "      <td>57</td>\n",
              "      <td>среднее</td>\n",
              "      <td>1</td>\n",
              "      <td>женат / замужем</td>\n",
              "      <td>0</td>\n",
              "      <td>F</td>\n",
              "      <td>сотрудник</td>\n",
              "      <td>0</td>\n",
              "      <td>142594</td>\n",
              "      <td>сделка с подержанным автомобилем</td>\n",
              "    </tr>\n",
              "    <tr>\n",
              "      <td>20116</td>\n",
              "      <td>0</td>\n",
              "      <td>15217</td>\n",
              "      <td>57</td>\n",
              "      <td>среднее</td>\n",
              "      <td>1</td>\n",
              "      <td>гражданский брак</td>\n",
              "      <td>1</td>\n",
              "      <td>M</td>\n",
              "      <td>пенсионер</td>\n",
              "      <td>0</td>\n",
              "      <td>118514</td>\n",
              "      <td>свадьба</td>\n",
              "    </tr>\n",
              "    <tr>\n",
              "      <td>20165</td>\n",
              "      <td>0</td>\n",
              "      <td>1574</td>\n",
              "      <td>42</td>\n",
              "      <td>среднее</td>\n",
              "      <td>1</td>\n",
              "      <td>женат / замужем</td>\n",
              "      <td>0</td>\n",
              "      <td>F</td>\n",
              "      <td>сотрудник</td>\n",
              "      <td>0</td>\n",
              "      <td>142594</td>\n",
              "      <td>покупка жилья для семьи</td>\n",
              "    </tr>\n",
              "    <tr>\n",
              "      <td>20702</td>\n",
              "      <td>0</td>\n",
              "      <td>15217</td>\n",
              "      <td>64</td>\n",
              "      <td>среднее</td>\n",
              "      <td>1</td>\n",
              "      <td>женат / замужем</td>\n",
              "      <td>0</td>\n",
              "      <td>F</td>\n",
              "      <td>пенсионер</td>\n",
              "      <td>0</td>\n",
              "      <td>118514</td>\n",
              "      <td>дополнительное образование</td>\n",
              "    </tr>\n",
              "    <tr>\n",
              "      <td>21032</td>\n",
              "      <td>0</td>\n",
              "      <td>15217</td>\n",
              "      <td>60</td>\n",
              "      <td>среднее</td>\n",
              "      <td>1</td>\n",
              "      <td>женат / замужем</td>\n",
              "      <td>0</td>\n",
              "      <td>F</td>\n",
              "      <td>пенсионер</td>\n",
              "      <td>0</td>\n",
              "      <td>118514</td>\n",
              "      <td>заняться образованием</td>\n",
              "    </tr>\n",
              "    <tr>\n",
              "      <td>21132</td>\n",
              "      <td>0</td>\n",
              "      <td>1574</td>\n",
              "      <td>47</td>\n",
              "      <td>среднее</td>\n",
              "      <td>1</td>\n",
              "      <td>женат / замужем</td>\n",
              "      <td>0</td>\n",
              "      <td>F</td>\n",
              "      <td>сотрудник</td>\n",
              "      <td>0</td>\n",
              "      <td>142594</td>\n",
              "      <td>ремонт жилью</td>\n",
              "    </tr>\n",
              "    <tr>\n",
              "      <td>21281</td>\n",
              "      <td>1</td>\n",
              "      <td>1574</td>\n",
              "      <td>30</td>\n",
              "      <td>высшее</td>\n",
              "      <td>0</td>\n",
              "      <td>женат / замужем</td>\n",
              "      <td>0</td>\n",
              "      <td>F</td>\n",
              "      <td>сотрудник</td>\n",
              "      <td>0</td>\n",
              "      <td>142594</td>\n",
              "      <td>покупка коммерческой недвижимости</td>\n",
              "    </tr>\n",
              "    <tr>\n",
              "      <td>21415</td>\n",
              "      <td>0</td>\n",
              "      <td>15217</td>\n",
              "      <td>54</td>\n",
              "      <td>среднее</td>\n",
              "      <td>1</td>\n",
              "      <td>женат / замужем</td>\n",
              "      <td>0</td>\n",
              "      <td>F</td>\n",
              "      <td>пенсионер</td>\n",
              "      <td>0</td>\n",
              "      <td>118514</td>\n",
              "      <td>операции с жильем</td>\n",
              "    </tr>\n",
              "  </tbody>\n",
              "</table>\n",
              "</div>"
            ],
            "text/plain": [
              "       children  days_employed  dob_years education  education_id  \\\n",
              "2849          0           1574         41   среднее             1   \n",
              "4182          1           1574         34    ВЫСШЕЕ             0   \n",
              "4851          0          15217         60   среднее             1   \n",
              "5557          0          15217         58   среднее             1   \n",
              "7808          0          15217         57   среднее             1   \n",
              "8583          0          15217         58    высшее             0   \n",
              "9238          2           1574         34   среднее             1   \n",
              "9528          0          15217         66   среднее             1   \n",
              "9627          0          15217         56   среднее             1   \n",
              "10462         0          15217         62   среднее             1   \n",
              "10697         0           1547         40   среднее             1   \n",
              "10864         0          15217         62   среднее             1   \n",
              "10994         0          15217         62   среднее             1   \n",
              "11791         0           1574         47   среднее             1   \n",
              "12373         0           1574         58   среднее             1   \n",
              "12375         1           1574         37   среднее             1   \n",
              "12736         0          15217         59   среднее             1   \n",
              "13025         1           1574         44   среднее             1   \n",
              "13639         0          15217         64   среднее             1   \n",
              "13773         0           1574         35   среднее             1   \n",
              "13878         1           1547         31   среднее             1   \n",
              "13942         0           1574         44   среднее             1   \n",
              "14432         2           2689         36    высшее             0   \n",
              "14832         0           1574         50   среднее             1   \n",
              "15091         0           1574         58   среднее             1   \n",
              "15188         0           1574         60   среднее             1   \n",
              "15273         0          15217         57   среднее             1   \n",
              "16176         0           1574         47   среднее             1   \n",
              "16378         0           1574         46   среднее             1   \n",
              "16902         2           1574         39   среднее             1   \n",
              "16904         1           1574         32    высшее             0   \n",
              "17379         0           1547         54    высшее             0   \n",
              "17755         1           1574         43   среднее             1   \n",
              "17774         1           1547         40   среднее             1   \n",
              "18328         0           1574         29    высшее             0   \n",
              "18349         1           2689         30    высшее             0   \n",
              "18428         0          15217         64   среднее             1   \n",
              "18521         0           1574         56   среднее             1   \n",
              "18563         0           1574         54   среднее             1   \n",
              "18755         0          15217         58   среднее             1   \n",
              "19041         0           1574         56   среднее             1   \n",
              "19184         0           1574         46   среднее             1   \n",
              "19321         0           1574         23   среднее             1   \n",
              "19387         0           1547         38    высшее             0   \n",
              "19688         0          15217         61   среднее             1   \n",
              "19832         0           1574         48   среднее             1   \n",
              "19946         0           1574         57   среднее             1   \n",
              "20116         0          15217         57   среднее             1   \n",
              "20165         0           1574         42   среднее             1   \n",
              "20702         0          15217         64   среднее             1   \n",
              "21032         0          15217         60   среднее             1   \n",
              "21132         0           1574         47   среднее             1   \n",
              "21281         1           1574         30    высшее             0   \n",
              "21415         0          15217         54   среднее             1   \n",
              "\n",
              "               family_status  family_status_id gender  income_type  debt  \\\n",
              "2849         женат / замужем                 0      F    сотрудник     0   \n",
              "4182        гражданский брак                 1      F    сотрудник     0   \n",
              "4851        гражданский брак                 1      F    пенсионер     0   \n",
              "5557        гражданский брак                 1      F    пенсионер     0   \n",
              "7808        гражданский брак                 1      F    пенсионер     0   \n",
              "8583   Не женат / не замужем                 4      F    пенсионер     0   \n",
              "9238         женат / замужем                 0      F    сотрудник     0   \n",
              "9528          вдовец / вдова                 2      F    пенсионер     0   \n",
              "9627         женат / замужем                 0      F    пенсионер     0   \n",
              "10462        женат / замужем                 0      F    пенсионер     0   \n",
              "10697       гражданский брак                 1      F    компаньон     0   \n",
              "10864        женат / замужем                 0      F    пенсионер     0   \n",
              "10994        женат / замужем                 0      F    пенсионер     0   \n",
              "11791        женат / замужем                 0      F    сотрудник     0   \n",
              "12373        женат / замужем                 0      M    сотрудник     0   \n",
              "12375        женат / замужем                 0      F    сотрудник     0   \n",
              "12736        женат / замужем                 0      F    пенсионер     0   \n",
              "13025        женат / замужем                 0      F    сотрудник     0   \n",
              "13639        женат / замужем                 0      F    пенсионер     0   \n",
              "13773       гражданский брак                 1      F    сотрудник     0   \n",
              "13878        женат / замужем                 0      F    компаньон     0   \n",
              "13942        женат / замужем                 0      F    сотрудник     0   \n",
              "14432        женат / замужем                 0      F  госслужащий     0   \n",
              "14832  Не женат / не замужем                 4      F    сотрудник     0   \n",
              "15091       гражданский брак                 1      M    сотрудник     0   \n",
              "15188        женат / замужем                 0      M    сотрудник     0   \n",
              "15273       гражданский брак                 1      F    пенсионер     0   \n",
              "16176        женат / замужем                 0      F    сотрудник     0   \n",
              "16378        женат / замужем                 0      F    сотрудник     0   \n",
              "16902       гражданский брак                 1      F    сотрудник     0   \n",
              "16904        женат / замужем                 0      F    сотрудник     0   \n",
              "17379        женат / замужем                 0      M    компаньон     0   \n",
              "17755        женат / замужем                 0      M    сотрудник     0   \n",
              "17774       гражданский брак                 1      F    компаньон     0   \n",
              "18328        женат / замужем                 0      M    сотрудник     0   \n",
              "18349        женат / замужем                 0      F  госслужащий     0   \n",
              "18428        женат / замужем                 0      F    пенсионер     0   \n",
              "18521       гражданский брак                 1      F    сотрудник     0   \n",
              "18563        женат / замужем                 0      F    сотрудник     0   \n",
              "18755        женат / замужем                 0      F    пенсионер     0   \n",
              "19041       гражданский брак                 1      F    сотрудник     0   \n",
              "19184        женат / замужем                 0      F    сотрудник     0   \n",
              "19321  Не женат / не замужем                 4      F    сотрудник     0   \n",
              "19387       гражданский брак                 1      F    компаньон     0   \n",
              "19688        женат / замужем                 0      F    пенсионер     0   \n",
              "19832        женат / замужем                 0      F    сотрудник     0   \n",
              "19946        женат / замужем                 0      F    сотрудник     0   \n",
              "20116       гражданский брак                 1      M    пенсионер     0   \n",
              "20165        женат / замужем                 0      F    сотрудник     0   \n",
              "20702        женат / замужем                 0      F    пенсионер     0   \n",
              "21032        женат / замужем                 0      F    пенсионер     0   \n",
              "21132        женат / замужем                 0      F    сотрудник     0   \n",
              "21281        женат / замужем                 0      F    сотрудник     0   \n",
              "21415        женат / замужем                 0      F    пенсионер     0   \n",
              "\n",
              "       total_income                                purpose  \n",
              "2849         142594                покупка жилья для семьи  \n",
              "4182         142594                                свадьба  \n",
              "4851         118514                                свадьба  \n",
              "5557         118514                        сыграть свадьбу  \n",
              "7808         118514                  на проведение свадьбы  \n",
              "8583         118514             дополнительное образование  \n",
              "9238         142594                покупка жилья для сдачи  \n",
              "9528         118514        операции со своей недвижимостью  \n",
              "9627         118514        операции со своей недвижимостью  \n",
              "10462        118514      покупка коммерческой недвижимости  \n",
              "10697        172357                        сыграть свадьбу  \n",
              "10864        118514                           ремонт жилью  \n",
              "10994        118514                           ремонт жилью  \n",
              "11791        142594             строительство недвижимости  \n",
              "12373        142594                   покупка недвижимости  \n",
              "12375        142594                   покупка недвижимости  \n",
              "12736        118514                  заняться образованием  \n",
              "13025        142594       сделка с подержанным автомобилем  \n",
              "13639        118514                             автомобиль  \n",
              "13773        142594                        сыграть свадьбу  \n",
              "13878        172357                          покупка жилья  \n",
              "13942        142594                приобретение автомобиля  \n",
              "14432        150447                  получение образования  \n",
              "14832        142594                           недвижимость  \n",
              "15091        142594                  на проведение свадьбы  \n",
              "15188        142594                   покупка недвижимости  \n",
              "15273        118514                                свадьба  \n",
              "16176        142594                           ремонт жилью  \n",
              "16378        142594                     высшее образование  \n",
              "16902        142594                        сыграть свадьбу  \n",
              "16904        142594     на покупку подержанного автомобиля  \n",
              "17379        172357  операции с коммерческой недвижимостью  \n",
              "17755        142594                  заняться образованием  \n",
              "17774        172357       строительство жилой недвижимости  \n",
              "18328        142594             покупка жилой недвижимости  \n",
              "18349        150447                покупка жилья для семьи  \n",
              "18428        118514                                  жилье  \n",
              "18521        142594                        сыграть свадьбу  \n",
              "18563        142594        операции со своей недвижимостью  \n",
              "18755        118514                  заняться образованием  \n",
              "19041        142594                  на проведение свадьбы  \n",
              "19184        142594                        свой автомобиль  \n",
              "19321        142594       сделка с подержанным автомобилем  \n",
              "19387        172357                  на проведение свадьбы  \n",
              "19688        118514               операции с недвижимостью  \n",
              "19832        142594                           ремонт жилью  \n",
              "19946        142594       сделка с подержанным автомобилем  \n",
              "20116        118514                                свадьба  \n",
              "20165        142594                покупка жилья для семьи  \n",
              "20702        118514             дополнительное образование  \n",
              "21032        118514                  заняться образованием  \n",
              "21132        142594                           ремонт жилью  \n",
              "21281        142594      покупка коммерческой недвижимости  \n",
              "21415        118514                      операции с жильем  "
            ]
          },
          "execution_count": 35,
          "metadata": {},
          "output_type": "execute_result"
        }
      ],
      "source": [
        "df.loc[df.duplicated()]"
      ]
    },
    {
      "cell_type": "code",
      "execution_count": null,
      "metadata": {
        "id": "TzedDmxNXaF2",
        "outputId": "e418be6c-e8bd-460b-8209-79f7b20e41ef"
      },
      "outputs": [
        {
          "data": {
            "text/plain": [
              "array(['высшее', 'среднее', 'Среднее', 'СРЕДНЕЕ', 'ВЫСШЕЕ',\n",
              "       'неоконченное высшее', 'начальное', 'Высшее',\n",
              "       'НЕОКОНЧЕННОЕ ВЫСШЕЕ', 'Неоконченное высшее', 'НАЧАЛЬНОЕ',\n",
              "       'Начальное', 'Ученая степень', 'УЧЕНАЯ СТЕПЕНЬ', 'ученая степень'],\n",
              "      dtype=object)"
            ]
          },
          "execution_count": 36,
          "metadata": {},
          "output_type": "execute_result"
        }
      ],
      "source": [
        "df['education'].unique() #посмотрим на количество уникальных значений в столбце education"
      ]
    },
    {
      "cell_type": "code",
      "execution_count": null,
      "metadata": {
        "id": "FTch-dO0XaF2",
        "outputId": "d0ddd41e-457f-4de6-9f43-055d01da6c51"
      },
      "outputs": [
        {
          "data": {
            "text/plain": [
              "array(['высшее', 'среднее', 'неоконченное высшее', 'начальное',\n",
              "       'ученая степень'], dtype=object)"
            ]
          },
          "execution_count": 37,
          "metadata": {},
          "output_type": "execute_result"
        }
      ],
      "source": [
        "df['education'] = df['education'].str.lower() #сделаем все буквы строчными, чтобы избавиться от дубликатов\n",
        "\n",
        "df['education'].unique() #проверяем результат замены"
      ]
    },
    {
      "cell_type": "code",
      "execution_count": null,
      "metadata": {
        "id": "1yTTijlGXaF2",
        "outputId": "8d33fc06-2a19-4451-d626-6108c309bdfd"
      },
      "outputs": [
        {
          "data": {
            "text/html": [
              "<div>\n",
              "<style scoped>\n",
              "    .dataframe tbody tr th:only-of-type {\n",
              "        vertical-align: middle;\n",
              "    }\n",
              "\n",
              "    .dataframe tbody tr th {\n",
              "        vertical-align: top;\n",
              "    }\n",
              "\n",
              "    .dataframe thead th {\n",
              "        text-align: right;\n",
              "    }\n",
              "</style>\n",
              "<table border=\"1\" class=\"dataframe\">\n",
              "  <thead>\n",
              "    <tr style=\"text-align: right;\">\n",
              "      <th></th>\n",
              "      <th>children</th>\n",
              "      <th>days_employed</th>\n",
              "      <th>dob_years</th>\n",
              "      <th>education</th>\n",
              "      <th>education_id</th>\n",
              "      <th>family_status</th>\n",
              "      <th>family_status_id</th>\n",
              "      <th>gender</th>\n",
              "      <th>income_type</th>\n",
              "      <th>debt</th>\n",
              "      <th>total_income</th>\n",
              "      <th>purpose</th>\n",
              "    </tr>\n",
              "  </thead>\n",
              "  <tbody>\n",
              "    <tr>\n",
              "      <td>2849</td>\n",
              "      <td>0</td>\n",
              "      <td>1574</td>\n",
              "      <td>41</td>\n",
              "      <td>среднее</td>\n",
              "      <td>1</td>\n",
              "      <td>женат / замужем</td>\n",
              "      <td>0</td>\n",
              "      <td>F</td>\n",
              "      <td>сотрудник</td>\n",
              "      <td>0</td>\n",
              "      <td>142594</td>\n",
              "      <td>покупка жилья для семьи</td>\n",
              "    </tr>\n",
              "    <tr>\n",
              "      <td>3290</td>\n",
              "      <td>0</td>\n",
              "      <td>15217</td>\n",
              "      <td>58</td>\n",
              "      <td>среднее</td>\n",
              "      <td>1</td>\n",
              "      <td>гражданский брак</td>\n",
              "      <td>1</td>\n",
              "      <td>F</td>\n",
              "      <td>пенсионер</td>\n",
              "      <td>0</td>\n",
              "      <td>118514</td>\n",
              "      <td>сыграть свадьбу</td>\n",
              "    </tr>\n",
              "    <tr>\n",
              "      <td>4182</td>\n",
              "      <td>1</td>\n",
              "      <td>1574</td>\n",
              "      <td>34</td>\n",
              "      <td>высшее</td>\n",
              "      <td>0</td>\n",
              "      <td>гражданский брак</td>\n",
              "      <td>1</td>\n",
              "      <td>F</td>\n",
              "      <td>сотрудник</td>\n",
              "      <td>0</td>\n",
              "      <td>142594</td>\n",
              "      <td>свадьба</td>\n",
              "    </tr>\n",
              "    <tr>\n",
              "      <td>4851</td>\n",
              "      <td>0</td>\n",
              "      <td>15217</td>\n",
              "      <td>60</td>\n",
              "      <td>среднее</td>\n",
              "      <td>1</td>\n",
              "      <td>гражданский брак</td>\n",
              "      <td>1</td>\n",
              "      <td>F</td>\n",
              "      <td>пенсионер</td>\n",
              "      <td>0</td>\n",
              "      <td>118514</td>\n",
              "      <td>свадьба</td>\n",
              "    </tr>\n",
              "    <tr>\n",
              "      <td>5557</td>\n",
              "      <td>0</td>\n",
              "      <td>15217</td>\n",
              "      <td>58</td>\n",
              "      <td>среднее</td>\n",
              "      <td>1</td>\n",
              "      <td>гражданский брак</td>\n",
              "      <td>1</td>\n",
              "      <td>F</td>\n",
              "      <td>пенсионер</td>\n",
              "      <td>0</td>\n",
              "      <td>118514</td>\n",
              "      <td>сыграть свадьбу</td>\n",
              "    </tr>\n",
              "    <tr>\n",
              "      <td>...</td>\n",
              "      <td>...</td>\n",
              "      <td>...</td>\n",
              "      <td>...</td>\n",
              "      <td>...</td>\n",
              "      <td>...</td>\n",
              "      <td>...</td>\n",
              "      <td>...</td>\n",
              "      <td>...</td>\n",
              "      <td>...</td>\n",
              "      <td>...</td>\n",
              "      <td>...</td>\n",
              "      <td>...</td>\n",
              "    </tr>\n",
              "    <tr>\n",
              "      <td>20702</td>\n",
              "      <td>0</td>\n",
              "      <td>15217</td>\n",
              "      <td>64</td>\n",
              "      <td>среднее</td>\n",
              "      <td>1</td>\n",
              "      <td>женат / замужем</td>\n",
              "      <td>0</td>\n",
              "      <td>F</td>\n",
              "      <td>пенсионер</td>\n",
              "      <td>0</td>\n",
              "      <td>118514</td>\n",
              "      <td>дополнительное образование</td>\n",
              "    </tr>\n",
              "    <tr>\n",
              "      <td>21032</td>\n",
              "      <td>0</td>\n",
              "      <td>15217</td>\n",
              "      <td>60</td>\n",
              "      <td>среднее</td>\n",
              "      <td>1</td>\n",
              "      <td>женат / замужем</td>\n",
              "      <td>0</td>\n",
              "      <td>F</td>\n",
              "      <td>пенсионер</td>\n",
              "      <td>0</td>\n",
              "      <td>118514</td>\n",
              "      <td>заняться образованием</td>\n",
              "    </tr>\n",
              "    <tr>\n",
              "      <td>21132</td>\n",
              "      <td>0</td>\n",
              "      <td>1574</td>\n",
              "      <td>47</td>\n",
              "      <td>среднее</td>\n",
              "      <td>1</td>\n",
              "      <td>женат / замужем</td>\n",
              "      <td>0</td>\n",
              "      <td>F</td>\n",
              "      <td>сотрудник</td>\n",
              "      <td>0</td>\n",
              "      <td>142594</td>\n",
              "      <td>ремонт жилью</td>\n",
              "    </tr>\n",
              "    <tr>\n",
              "      <td>21281</td>\n",
              "      <td>1</td>\n",
              "      <td>1574</td>\n",
              "      <td>30</td>\n",
              "      <td>высшее</td>\n",
              "      <td>0</td>\n",
              "      <td>женат / замужем</td>\n",
              "      <td>0</td>\n",
              "      <td>F</td>\n",
              "      <td>сотрудник</td>\n",
              "      <td>0</td>\n",
              "      <td>142594</td>\n",
              "      <td>покупка коммерческой недвижимости</td>\n",
              "    </tr>\n",
              "    <tr>\n",
              "      <td>21415</td>\n",
              "      <td>0</td>\n",
              "      <td>15217</td>\n",
              "      <td>54</td>\n",
              "      <td>среднее</td>\n",
              "      <td>1</td>\n",
              "      <td>женат / замужем</td>\n",
              "      <td>0</td>\n",
              "      <td>F</td>\n",
              "      <td>пенсионер</td>\n",
              "      <td>0</td>\n",
              "      <td>118514</td>\n",
              "      <td>операции с жильем</td>\n",
              "    </tr>\n",
              "  </tbody>\n",
              "</table>\n",
              "<p>71 rows × 12 columns</p>\n",
              "</div>"
            ],
            "text/plain": [
              "       children  days_employed  dob_years education  education_id  \\\n",
              "2849          0           1574         41   среднее             1   \n",
              "3290          0          15217         58   среднее             1   \n",
              "4182          1           1574         34    высшее             0   \n",
              "4851          0          15217         60   среднее             1   \n",
              "5557          0          15217         58   среднее             1   \n",
              "...         ...            ...        ...       ...           ...   \n",
              "20702         0          15217         64   среднее             1   \n",
              "21032         0          15217         60   среднее             1   \n",
              "21132         0           1574         47   среднее             1   \n",
              "21281         1           1574         30    высшее             0   \n",
              "21415         0          15217         54   среднее             1   \n",
              "\n",
              "          family_status  family_status_id gender income_type  debt  \\\n",
              "2849    женат / замужем                 0      F   сотрудник     0   \n",
              "3290   гражданский брак                 1      F   пенсионер     0   \n",
              "4182   гражданский брак                 1      F   сотрудник     0   \n",
              "4851   гражданский брак                 1      F   пенсионер     0   \n",
              "5557   гражданский брак                 1      F   пенсионер     0   \n",
              "...                 ...               ...    ...         ...   ...   \n",
              "20702   женат / замужем                 0      F   пенсионер     0   \n",
              "21032   женат / замужем                 0      F   пенсионер     0   \n",
              "21132   женат / замужем                 0      F   сотрудник     0   \n",
              "21281   женат / замужем                 0      F   сотрудник     0   \n",
              "21415   женат / замужем                 0      F   пенсионер     0   \n",
              "\n",
              "       total_income                            purpose  \n",
              "2849         142594            покупка жилья для семьи  \n",
              "3290         118514                    сыграть свадьбу  \n",
              "4182         142594                            свадьба  \n",
              "4851         118514                            свадьба  \n",
              "5557         118514                    сыграть свадьбу  \n",
              "...             ...                                ...  \n",
              "20702        118514         дополнительное образование  \n",
              "21032        118514              заняться образованием  \n",
              "21132        142594                       ремонт жилью  \n",
              "21281        142594  покупка коммерческой недвижимости  \n",
              "21415        118514                  операции с жильем  \n",
              "\n",
              "[71 rows x 12 columns]"
            ]
          },
          "execution_count": 38,
          "metadata": {},
          "output_type": "execute_result"
        }
      ],
      "source": [
        "df.loc[df.duplicated()]"
      ]
    },
    {
      "cell_type": "code",
      "execution_count": null,
      "metadata": {
        "id": "vthmihrKXaF3",
        "outputId": "96c14e3e-883e-49d7-a1bc-ed4b29ad369f"
      },
      "outputs": [
        {
          "data": {
            "text/plain": [
              "свадьба                                   797\n",
              "на проведение свадьбы                     777\n",
              "сыграть свадьбу                           774\n",
              "операции с недвижимостью                  676\n",
              "покупка коммерческой недвижимости         664\n",
              "покупка жилья для сдачи                   653\n",
              "операции с жильем                         653\n",
              "операции с коммерческой недвижимостью     651\n",
              "жилье                                     647\n",
              "покупка жилья                             647\n",
              "покупка жилья для семьи                   641\n",
              "строительство собственной недвижимости    635\n",
              "недвижимость                              634\n",
              "операции со своей недвижимостью           630\n",
              "строительство жилой недвижимости          626\n",
              "покупка недвижимости                      624\n",
              "покупка своего жилья                      620\n",
              "строительство недвижимости                620\n",
              "ремонт жилью                              612\n",
              "покупка жилой недвижимости                607\n",
              "на покупку своего автомобиля              505\n",
              "заняться высшим образованием              496\n",
              "автомобиль                                495\n",
              "сделка с подержанным автомобилем          489\n",
              "свой автомобиль                           480\n",
              "на покупку подержанного автомобиля        479\n",
              "автомобили                                478\n",
              "на покупку автомобиля                     472\n",
              "приобретение автомобиля                   462\n",
              "дополнительное образование                462\n",
              "сделка с автомобилем                      455\n",
              "высшее образование                        453\n",
              "получение дополнительного образования     447\n",
              "образование                               447\n",
              "получение образования                     443\n",
              "профильное образование                    436\n",
              "получение высшего образования             426\n",
              "заняться образованием                     412\n",
              "Name: purpose, dtype: int64"
            ]
          },
          "execution_count": 39,
          "metadata": {},
          "output_type": "execute_result"
        }
      ],
      "source": [
        "df['purpose'].value_counts() #проверяем наличие дубликатов в столбце purpose"
      ]
    },
    {
      "cell_type": "markdown",
      "metadata": {
        "id": "VXXnww15XaF3"
      },
      "source": [
        "**Вывод**\n",
        "Ручным способом были обнаружены дубликаты в столбце purpose. Похожие слова, измененный порядок слов."
      ]
    },
    {
      "cell_type": "markdown",
      "metadata": {
        "id": "6ymCINsyXaF4"
      },
      "source": [
        "### Лемматизация"
      ]
    },
    {
      "cell_type": "code",
      "execution_count": null,
      "metadata": {
        "id": "rW_G3GuvXaF4",
        "outputId": "1e08df47-9abb-4a6a-fe22-fc0039044702"
      },
      "outputs": [
        {
          "name": "stdout",
          "output_type": "stream",
          "text": [
            "Counter({' ': 33677, '\\n': 21525, 'недвижимость': 6367, 'покупка': 5912, 'жилье': 4473, 'автомобиль': 4315, 'образование': 4022, 'с': 2924, 'операция': 2610, 'свадьба': 2348, 'свой': 2235, 'на': 2233, 'строительство': 1881, 'высокий': 1375, 'получение': 1316, 'коммерческий': 1315, 'для': 1294, 'жилой': 1233, 'сделка': 944, 'дополнительный': 909, 'заниматься': 908, 'проведение': 777, 'сыграть': 774, 'сдача': 653, 'семья': 641, 'собственный': 635, 'со': 630, 'ремонт': 612, 'подержанный': 489, 'подержать': 479, 'приобретение': 462, 'профильный': 436})\n"
          ]
        }
      ],
      "source": [
        "\n",
        "df['purpose_new'] = df['purpose'].apply(m.lemmatize) #создаем новый столбец с лемматизированными словами\n",
        "\n",
        "\n",
        "print(Counter(df['purpose_new'].sum())) #получаем часто используемые цели кредита. Выделили 4 категории: недвижимость, образование, автомобиль, свадьба\n",
        "\n",
        "\n"
      ]
    },
    {
      "cell_type": "markdown",
      "metadata": {
        "id": "uF42ZUlZXaF4"
      },
      "source": [
        "\n",
        "<div class=\"alert alert-info\">\n",
        "<h1>Комментарий ревьюера <a class=\"tocSkip\"></a></h1>\n",
        "Все импорты лучше располагать в начале проекта</div>"
      ]
    },
    {
      "cell_type": "code",
      "execution_count": null,
      "metadata": {
        "id": "u4ynFYCLXaF4",
        "outputId": "6e484bc9-645e-4801-cb44-6cefea641268"
      },
      "outputs": [
        {
          "name": "stdout",
          "output_type": "stream",
          "text": [
            "       children  days_employed  dob_years       education  education_id  \\\n",
            "21515         1            467         28         среднее             1   \n",
            "21516         0            914         42          высшее             0   \n",
            "21517         0            404         42          высшее             0   \n",
            "21518         0          15583         59         среднее             1   \n",
            "21519         1           2351         37  ученая степень             4   \n",
            "21520         1           4529         43         среднее             1   \n",
            "21521         0          14330         67         среднее             1   \n",
            "21522         1           2113         38         среднее             1   \n",
            "21523         3           3112         38         среднее             1   \n",
            "21524         2           1984         40         среднее             1   \n",
            "\n",
            "          family_status  family_status_id gender income_type  debt  \\\n",
            "21515   женат / замужем                 0      F   сотрудник     1   \n",
            "21516   женат / замужем                 0      F   компаньон     0   \n",
            "21517  гражданский брак                 1      F   компаньон     0   \n",
            "21518   женат / замужем                 0      F   пенсионер     0   \n",
            "21519         в разводе                 3      M   сотрудник     0   \n",
            "21520  гражданский брак                 1      F   компаньон     0   \n",
            "21521   женат / замужем                 0      F   пенсионер     0   \n",
            "21522  гражданский брак                 1      M   сотрудник     1   \n",
            "21523   женат / замужем                 0      M   сотрудник     1   \n",
            "21524   женат / замужем                 0      F   сотрудник     0   \n",
            "\n",
            "       total_income                            purpose  \\\n",
            "21515        109486              заняться образованием   \n",
            "21516        322807               покупка своего жилья   \n",
            "21517        178059       на покупку своего автомобиля   \n",
            "21518        153864               сделка с автомобилем   \n",
            "21519        115949  покупка коммерческой недвижимости   \n",
            "21520        224791                  операции с жильем   \n",
            "21521        155999               сделка с автомобилем   \n",
            "21522         89672                       недвижимость   \n",
            "21523        244093       на покупку своего автомобиля   \n",
            "21524         82047              на покупку автомобиля   \n",
            "\n",
            "                                           purpose_new  purpose_aggr  \n",
            "21515                 [заниматься,  , образование, \\n]   образование  \n",
            "21516                 [покупка,  , свой,  , жилье, \\n]  недвижимость  \n",
            "21517     [на,  , покупка,  , свой,  , автомобиль, \\n]    автомобиль  \n",
            "21518                [сделка,  , с,  , автомобиль, \\n]    автомобиль  \n",
            "21519  [покупка,  , коммерческий,  , недвижимость, \\n]  недвижимость  \n",
            "21520                   [операция,  , с,  , жилье, \\n]  недвижимость  \n",
            "21521                [сделка,  , с,  , автомобиль, \\n]    автомобиль  \n",
            "21522                               [недвижимость, \\n]  недвижимость  \n",
            "21523     [на,  , покупка,  , свой,  , автомобиль, \\n]    автомобиль  \n",
            "21524              [на,  , покупка,  , автомобиль, \\n]    автомобиль  \n"
          ]
        }
      ],
      "source": [
        "def change_purpose(purpose):\n",
        "    if 'жилье'  in purpose:\n",
        "        return 'недвижимость'\n",
        "    if 'автомобиль' in purpose:\n",
        "        return 'автомобиль'\n",
        "    if 'образование' in purpose:\n",
        "        return 'образование'\n",
        "    if 'свадьба' in purpose:\n",
        "        return 'свадьба'\n",
        "    if 'недвижимость' in purpose:\n",
        "        return 'недвижимость'\n",
        "\n",
        "df['purpose_aggr'] = df['purpose_new'].apply(change_purpose) #создали новый столбец с измененной целью кредита\n",
        "print(df.tail(10))"
      ]
    },
    {
      "cell_type": "markdown",
      "metadata": {
        "id": "9VR-ylDdXaF5"
      },
      "source": [
        "**Вывод**"
      ]
    },
    {
      "cell_type": "markdown",
      "metadata": {
        "id": "L5PHJ3RcXaF5"
      },
      "source": [
        "С помощью лемматизации выделили 4 основные цели кредита"
      ]
    },
    {
      "cell_type": "markdown",
      "metadata": {
        "id": "slwRQD8TXaF5"
      },
      "source": [
        "### Категоризация данных"
      ]
    },
    {
      "cell_type": "code",
      "execution_count": null,
      "metadata": {
        "id": "tRJGdBEgXaF5",
        "outputId": "e9cd2259-e714-4885-d47b-ae94e49c4987"
      },
      "outputs": [
        {
          "name": "stdout",
          "output_type": "stream",
          "text": [
            "       children  days_employed  dob_years education  education_id  \\\n",
            "0             1           8437         42    высшее             0   \n",
            "1             1           4024         36   среднее             1   \n",
            "2             0           5623         33   среднее             1   \n",
            "3             3           4124         32   среднее             1   \n",
            "4             0          14177         53   среднее             1   \n",
            "...         ...            ...        ...       ...           ...   \n",
            "21520         1           4529         43   среднее             1   \n",
            "21521         0          14330         67   среднее             1   \n",
            "21522         1           2113         38   среднее             1   \n",
            "21523         3           3112         38   среднее             1   \n",
            "21524         2           1984         40   среднее             1   \n",
            "\n",
            "          family_status  family_status_id gender income_type  debt  \\\n",
            "0       женат / замужем                 0      F   сотрудник     0   \n",
            "1       женат / замужем                 0      F   сотрудник     0   \n",
            "2       женат / замужем                 0      M   сотрудник     0   \n",
            "3       женат / замужем                 0      M   сотрудник     0   \n",
            "4      гражданский брак                 1      F   пенсионер     0   \n",
            "...                 ...               ...    ...         ...   ...   \n",
            "21520  гражданский брак                 1      F   компаньон     0   \n",
            "21521   женат / замужем                 0      F   пенсионер     0   \n",
            "21522  гражданский брак                 1      M   сотрудник     1   \n",
            "21523   женат / замужем                 0      M   сотрудник     1   \n",
            "21524   женат / замужем                 0      F   сотрудник     0   \n",
            "\n",
            "       total_income                       purpose  \\\n",
            "0            253875                 покупка жилья   \n",
            "1            112080       приобретение автомобиля   \n",
            "2            145885                 покупка жилья   \n",
            "3            267628    дополнительное образование   \n",
            "4            158616               сыграть свадьбу   \n",
            "...             ...                           ...   \n",
            "21520        224791             операции с жильем   \n",
            "21521        155999          сделка с автомобилем   \n",
            "21522         89672                  недвижимость   \n",
            "21523        244093  на покупку своего автомобиля   \n",
            "21524         82047         на покупку автомобиля   \n",
            "\n",
            "                                        purpose_new  purpose_aggr  \\\n",
            "0                           [покупка,  , жилье, \\n]  недвижимость   \n",
            "1                 [приобретение,  , автомобиль, \\n]    автомобиль   \n",
            "2                           [покупка,  , жилье, \\n]  недвижимость   \n",
            "3              [дополнительный,  , образование, \\n]   образование   \n",
            "4                         [сыграть,  , свадьба, \\n]       свадьба   \n",
            "...                                             ...           ...   \n",
            "21520                [операция,  , с,  , жилье, \\n]  недвижимость   \n",
            "21521             [сделка,  , с,  , автомобиль, \\n]    автомобиль   \n",
            "21522                            [недвижимость, \\n]  недвижимость   \n",
            "21523  [на,  , покупка,  , свой,  , автомобиль, \\n]    автомобиль   \n",
            "21524           [на,  , покупка,  , автомобиль, \\n]    автомобиль   \n",
            "\n",
            "      category_income  \n",
            "0             высокий  \n",
            "1             средний  \n",
            "2             высокий  \n",
            "3             высокий  \n",
            "4             высокий  \n",
            "...               ...  \n",
            "21520         высокий  \n",
            "21521         высокий  \n",
            "21522         средний  \n",
            "21523         высокий  \n",
            "21524         средний  \n",
            "\n",
            "[21525 rows x 15 columns]\n"
          ]
        }
      ],
      "source": [
        "#разобьём наших заемщиков на категории по уровню ЗП\n",
        "\n",
        "def category_income(total_income):\n",
        "    if total_income < 30000:\n",
        "        return('низкий')\n",
        "    if total_income < 70000:\n",
        "        return('ниже среднего')\n",
        "    if total_income < 120000:\n",
        "        return('средний')\n",
        "    if total_income > 120000:\n",
        "        return('высокий')\n",
        "#print(category_income(1000000)) # проверка работоспособности функции\n",
        "\n",
        "df['category_income'] = df['total_income'].apply(category_income) #добавляем новый столбец с уровнем дохода, согласно нашему правилу\n",
        "\n",
        "print(df)"
      ]
    },
    {
      "cell_type": "markdown",
      "metadata": {
        "id": "syndSmc6XaF6"
      },
      "source": [
        "**Вывод**"
      ]
    },
    {
      "cell_type": "markdown",
      "metadata": {
        "id": "ZTe-usmuXaF6"
      },
      "source": [
        "Провели категоризацию по уровню дохода, чтобы решить одну из поставленных задач."
      ]
    },
    {
      "cell_type": "markdown",
      "metadata": {
        "id": "u1_YlcG-XaF6"
      },
      "source": [
        "## Шаг 3. Ответьте на вопросы"
      ]
    },
    {
      "cell_type": "markdown",
      "metadata": {
        "id": "ObTowVujXaF6"
      },
      "source": [
        "- Есть ли зависимость между наличием детей и возвратом кредита в срок?"
      ]
    },
    {
      "cell_type": "code",
      "execution_count": null,
      "metadata": {
        "id": "Xu1FIykYXaF6",
        "outputId": "eba437af-314c-4cd0-9f3a-d58a7bbed04a"
      },
      "outputs": [
        {
          "name": "stdout",
          "output_type": "stream",
          "text": [
            "13086\n",
            "21478\n",
            "Количество бездетных не имеющих задолженности: 13086\n",
            "Количество бездетных с задолженностью: 1063 , Доля от числа бездетных: 8.1%\n",
            "Кол-во родителей не имеющих задолженности: 6652\n",
            "Количество родителей с задолженностью: 677 , Доля от числа родителей: 10.2%\n"
          ]
        }
      ],
      "source": [
        "#childfree = df.loc[(df['children']==0)&(df['debt']==0), 'debt'].count()\n",
        "#print(childfree)\n",
        "\n",
        "#parents = df.loc[(df['children']>0)&(df['debt']==0), 'debt'].count()\n",
        "\n",
        "#debt_parents = df.loc[(df['children']>0)&(df['debt']==1), 'debt'].count()\n",
        "\n",
        "#debt_childfree = df.loc[(df['children']==0)&(df['debt']==1), 'debt'].count()\n",
        "\n",
        "#total = childfree + parents + debt_parents + debt_childfree\n",
        "#print(total)\n",
        "#part_childfree_debt = debt_childfree / childfree\n",
        "#part_parents_debt = debt_parents / parents\n",
        "\n",
        "\n",
        "#print('Количество бездетных не имеющих задолженности:', childfree)\n",
        "#print('Количество бездетных с задолженностью:', debt_childfree,', ' 'Доля от числа бездетных: {:.1%}'.format(part_childfree_debt))\n",
        "#print('Кол-во родителей не имеющих задолженности:', parents)\n",
        "#print('Количество родителей с задолженностью:', debt_parents, ', ' 'Доля от числа родителей: {:.1%}'.format(part_parents_debt))"
      ]
    },
    {
      "cell_type": "code",
      "execution_count": null,
      "metadata": {
        "id": "ZE663vM0XaF7",
        "outputId": "21f72172-34ae-4812-8528-c15ce197de6e"
      },
      "outputs": [
        {
          "data": {
            "text/html": [
              "<div>\n",
              "<style scoped>\n",
              "    .dataframe tbody tr th:only-of-type {\n",
              "        vertical-align: middle;\n",
              "    }\n",
              "\n",
              "    .dataframe tbody tr th {\n",
              "        vertical-align: top;\n",
              "    }\n",
              "\n",
              "    .dataframe thead tr th {\n",
              "        text-align: left;\n",
              "    }\n",
              "\n",
              "    .dataframe thead tr:last-of-type th {\n",
              "        text-align: right;\n",
              "    }\n",
              "</style>\n",
              "<table border=\"1\" class=\"dataframe\">\n",
              "  <thead>\n",
              "    <tr>\n",
              "      <th></th>\n",
              "      <th colspan=\"8\" halign=\"left\">category_income</th>\n",
              "      <th colspan=\"2\" halign=\"left\">days_employed</th>\n",
              "      <th>...</th>\n",
              "      <th colspan=\"2\" halign=\"left\">purpose_new</th>\n",
              "      <th colspan=\"8\" halign=\"left\">total_income</th>\n",
              "    </tr>\n",
              "    <tr>\n",
              "      <th>children</th>\n",
              "      <th>-1</th>\n",
              "      <th>0</th>\n",
              "      <th>1</th>\n",
              "      <th>2</th>\n",
              "      <th>3</th>\n",
              "      <th>4</th>\n",
              "      <th>5</th>\n",
              "      <th>20</th>\n",
              "      <th>-1</th>\n",
              "      <th>0</th>\n",
              "      <th>...</th>\n",
              "      <th>5</th>\n",
              "      <th>20</th>\n",
              "      <th>-1</th>\n",
              "      <th>0</th>\n",
              "      <th>1</th>\n",
              "      <th>2</th>\n",
              "      <th>3</th>\n",
              "      <th>4</th>\n",
              "      <th>5</th>\n",
              "      <th>20</th>\n",
              "    </tr>\n",
              "    <tr>\n",
              "      <th>debt</th>\n",
              "      <th></th>\n",
              "      <th></th>\n",
              "      <th></th>\n",
              "      <th></th>\n",
              "      <th></th>\n",
              "      <th></th>\n",
              "      <th></th>\n",
              "      <th></th>\n",
              "      <th></th>\n",
              "      <th></th>\n",
              "      <th></th>\n",
              "      <th></th>\n",
              "      <th></th>\n",
              "      <th></th>\n",
              "      <th></th>\n",
              "      <th></th>\n",
              "      <th></th>\n",
              "      <th></th>\n",
              "      <th></th>\n",
              "      <th></th>\n",
              "      <th></th>\n",
              "    </tr>\n",
              "  </thead>\n",
              "  <tbody>\n",
              "    <tr>\n",
              "      <td>0</td>\n",
              "      <td>46.0</td>\n",
              "      <td>13086.0</td>\n",
              "      <td>4374.0</td>\n",
              "      <td>1861.0</td>\n",
              "      <td>303.0</td>\n",
              "      <td>37.0</td>\n",
              "      <td>9.0</td>\n",
              "      <td>68.0</td>\n",
              "      <td>46.0</td>\n",
              "      <td>13086.0</td>\n",
              "      <td>...</td>\n",
              "      <td>9.0</td>\n",
              "      <td>68.0</td>\n",
              "      <td>46.0</td>\n",
              "      <td>13086.0</td>\n",
              "      <td>4374.0</td>\n",
              "      <td>1861.0</td>\n",
              "      <td>303.0</td>\n",
              "      <td>37.0</td>\n",
              "      <td>9.0</td>\n",
              "      <td>68.0</td>\n",
              "    </tr>\n",
              "    <tr>\n",
              "      <td>1</td>\n",
              "      <td>1.0</td>\n",
              "      <td>1063.0</td>\n",
              "      <td>444.0</td>\n",
              "      <td>194.0</td>\n",
              "      <td>27.0</td>\n",
              "      <td>4.0</td>\n",
              "      <td>NaN</td>\n",
              "      <td>8.0</td>\n",
              "      <td>1.0</td>\n",
              "      <td>1063.0</td>\n",
              "      <td>...</td>\n",
              "      <td>NaN</td>\n",
              "      <td>8.0</td>\n",
              "      <td>1.0</td>\n",
              "      <td>1063.0</td>\n",
              "      <td>444.0</td>\n",
              "      <td>194.0</td>\n",
              "      <td>27.0</td>\n",
              "      <td>4.0</td>\n",
              "      <td>NaN</td>\n",
              "      <td>8.0</td>\n",
              "    </tr>\n",
              "  </tbody>\n",
              "</table>\n",
              "<p>2 rows × 104 columns</p>\n",
              "</div>"
            ],
            "text/plain": [
              "         category_income                                                   \\\n",
              "children             -1        0       1       2      3     4    5     20   \n",
              "debt                                                                        \n",
              "0                   46.0  13086.0  4374.0  1861.0  303.0  37.0  9.0  68.0   \n",
              "1                    1.0   1063.0   444.0   194.0   27.0   4.0  NaN   8.0   \n",
              "\n",
              "         days_employed           ... purpose_new       total_income           \\\n",
              "children           -1        0   ...          5     20          -1        0    \n",
              "debt                             ...                                           \n",
              "0                 46.0  13086.0  ...         9.0  68.0         46.0  13086.0   \n",
              "1                  1.0   1063.0  ...         NaN   8.0          1.0   1063.0   \n",
              "\n",
              "                                                  \n",
              "children      1       2      3     4    5     20  \n",
              "debt                                              \n",
              "0         4374.0  1861.0  303.0  37.0  9.0  68.0  \n",
              "1          444.0   194.0   27.0   4.0  NaN   8.0  \n",
              "\n",
              "[2 rows x 104 columns]"
            ]
          },
          "execution_count": 68,
          "metadata": {},
          "output_type": "execute_result"
        }
      ],
      "source": [
        "df.pivot_table(index='debt', columns='children', aggfunc='count')\n"
      ]
    },
    {
      "cell_type": "code",
      "execution_count": null,
      "metadata": {
        "id": "TzSbZpb9XaF7",
        "outputId": "0a7f59bf-229d-4e0d-b2b4-53efe9e0a687"
      },
      "outputs": [
        {
          "data": {
            "text/plain": [
              "children\n",
              "-1     0.021277\n",
              " 0     0.075129\n",
              " 1     0.092154\n",
              " 2     0.094404\n",
              " 3     0.081818\n",
              " 4     0.097561\n",
              " 5     0.000000\n",
              " 20    0.105263\n",
              "Name: debt, dtype: float64"
            ]
          },
          "execution_count": 69,
          "metadata": {},
          "output_type": "execute_result"
        }
      ],
      "source": [
        "df.groupby('children')['debt'].mean()"
      ]
    },
    {
      "cell_type": "markdown",
      "metadata": {
        "id": "WY3yYN83XaF7"
      },
      "source": [
        "**Вывод**"
      ]
    },
    {
      "cell_type": "markdown",
      "metadata": {
        "id": "fCONsyodXaF8"
      },
      "source": [
        "Если судить по цифрам, то есть незначительная зависимость между наличием детей и возвратом кредита в срок. Но разница небольшая: порядка 2%. Если ещё учесть тот факт, что родителям нужно явно больше средств, чем бездетным, то эту разницу между этими категорями можно не принимать во внимание. Скажем, если бы разница была от 10% и более, то да, могли бы увеличить ставку по кредиту для родителей, но вместе с этим пришлось бы увеличить срок погашения кредита."
      ]
    },
    {
      "cell_type": "markdown",
      "metadata": {
        "id": "yzPeTusEXaF8"
      },
      "source": [
        "- Есть ли зависимость между семейным положением и возвратом кредита в срок?"
      ]
    },
    {
      "cell_type": "code",
      "execution_count": null,
      "metadata": {
        "id": "FNvy5zxPXaF8",
        "outputId": "a02b397b-0db4-4a25-f679-7338fe1e60e0"
      },
      "outputs": [
        {
          "name": "stdout",
          "output_type": "stream",
          "text": [
            "family_status          debt\n",
            "Не женат / не замужем  0        2271\n",
            "                       1         254\n",
            "в разводе              0        1007\n",
            "                       1          76\n",
            "вдовец / вдова         0         809\n",
            "                       1          56\n",
            "гражданский брак       0        3396\n",
            "                       1         339\n",
            "женат / замужем        0       10297\n",
            "                       1         846\n",
            "Name: debt, dtype: int64\n",
            "Доля должников среди женатых составляет: 7.6%\n",
            "Доля должников среди неженатых / незамужних составляет: 10.1%\n",
            "Доля должников среди вдов  составляет: 6.5%\n",
            "Доля должников среди сожителей в гражданском браке составляет: 9.1%\n"
          ]
        }
      ],
      "source": [
        "print(df.groupby('family_status')['debt'].value_counts())\n",
        "\n",
        "married = df[df['family_status'] == 'женат / замужем']['family_status'].count()\n",
        "debt_married = df.loc[(df['family_status']=='женат / замужем')&(df['debt']==1), 'debt'].count()\n",
        "debt_to_married = debt_married / married\n",
        "\n",
        "unmarried = df[df['family_status'] == 'Не женат / не замужем']['family_status'].count()\n",
        "debt_unmarried = df.loc[(df['family_status']=='Не женат / не замужем')&(df['debt']==1), 'debt'].count()\n",
        "debt_to_unmarried = debt_unmarried / unmarried\n",
        "\n",
        "wid = df[df['family_status'] == 'вдовец / вдова']['family_status'].count()\n",
        "debt_wid = df.loc[(df['family_status']=='вдовец / вдова')&(df['debt']==1), 'debt'].count()\n",
        "debt_to_wed = debt_wid / wid\n",
        "\n",
        "roommates = df[df['family_status'] == 'гражданский брак']['family_status'].count()\n",
        "debt_roommates = df.loc[(df['family_status']=='гражданский брак')&(df['debt']==1), 'debt'].count()\n",
        "debt_to_roommates = debt_roommates / roommates\n",
        "\n",
        "print('Доля должников среди женатых составляет: {:.1%}'.format(debt_to_married))\n",
        "print('Доля должников среди неженатых / незамужних составляет: {:.1%}'.format(debt_to_unmarried))\n",
        "print('Доля должников среди вдов  составляет: {:.1%}'.format(debt_to_wed))\n",
        "print('Доля должников среди сожителей в гражданском браке составляет: {:.1%}'.format(debt_to_roommates))"
      ]
    },
    {
      "cell_type": "code",
      "execution_count": null,
      "metadata": {
        "id": "QtI-wHU4XaF8"
      },
      "outputs": [],
      "source": [
        ""
      ]
    },
    {
      "cell_type": "markdown",
      "metadata": {
        "id": "x1dhHpMKXaF9"
      },
      "source": [
        "**Вывод**"
      ]
    },
    {
      "cell_type": "markdown",
      "metadata": {
        "id": "623GwepPXaF9"
      },
      "source": [
        "Есть определенная зависимость. Чем старше человек, тем меньше вероятность появления задолженности. "
      ]
    },
    {
      "cell_type": "markdown",
      "metadata": {
        "id": "KY0_E53DXaF9"
      },
      "source": [
        "- Есть ли зависимость между уровнем дохода и возвратом кредита в срок?"
      ]
    },
    {
      "cell_type": "code",
      "execution_count": null,
      "metadata": {
        "id": "56OsHCqSXaF9",
        "outputId": "a2cc7f0e-afc2-498f-f8da-74adce2910db"
      },
      "outputs": [
        {
          "name": "stdout",
          "output_type": "stream",
          "text": [
            "category_income  debt\n",
            "высокий          0       11486\n",
            "                 1        1020\n",
            "ниже среднего    0        1353\n",
            "                 1          99\n",
            "низкий           0          20\n",
            "                 1           2\n",
            "средний          0        4921\n",
            "                 1         450\n",
            "Name: debt, dtype: int64\n",
            "Доля должников среди обеспеченных составляет: 8.2%\n",
            "Доля должников среди среднего класса составляет: 8.4%\n",
            "Доля должников среди ниже среднего класса  составляет: 6.8%\n",
            "Доля должников среди низкого класса составляет: 9.1%\n"
          ]
        }
      ],
      "source": [
        "print(df.groupby('category_income')['debt'].value_counts())\n",
        "\n",
        "total_hight = df[df['category_income'] == 'высокий']['category_income'].count()\n",
        "debt_hight = df.loc[(df['category_income']=='высокий')&(df['debt']==1), 'debt'].count()\n",
        "debt_to_hight = debt_hight / total_hight\n",
        "\n",
        "total_middle = df[df['category_income'] == 'средний']['category_income'].count()\n",
        "debt_middle = df.loc[(df['category_income']=='средний')&(df['debt']==1), 'debt'].count()\n",
        "debt_to_middle = debt_middle / total_middle\n",
        "\n",
        "total_lower_mid = df[df['category_income'] == 'ниже среднего']['category_income'].count()\n",
        "debt_lower_mid = df.loc[(df['category_income']=='ниже среднего')&(df['debt']==1), 'debt'].count()\n",
        "debt_to_lower_mid = debt_lower_mid / total_lower_mid\n",
        "\n",
        "total_low = df[df['category_income'] == 'низкий']['category_income'].count()\n",
        "debt_low = df.loc[(df['category_income']=='низкий')&(df['debt']==1), 'debt'].count()\n",
        "debt_to_low = debt_low / total_low \n",
        "\n",
        "print('Доля должников среди обеспеченных составляет: {:.1%}'.format(debt_to_hight))\n",
        "print('Доля должников среди среднего класса составляет: {:.1%}'.format(debt_to_middle))\n",
        "print('Доля должников среди ниже среднего класса  составляет: {:.1%}'.format(debt_to_lower_mid))\n",
        "print('Доля должников среди низкого класса составляет: {:.1%}'.format(debt_to_low))\n"
      ]
    },
    {
      "cell_type": "code",
      "execution_count": null,
      "metadata": {
        "id": "4tddoGamXaF-",
        "outputId": "7af34490-68f8-4a27-8322-f536e5a6fa84"
      },
      "outputs": [
        {
          "data": {
            "text/plain": [
              "category_income\n",
              "высокий          0.080956\n",
              "ниже среднего    0.068182\n",
              "низкий           0.090909\n",
              "средний          0.083852\n",
              "Name: debt, dtype: float64"
            ]
          },
          "execution_count": 70,
          "metadata": {},
          "output_type": "execute_result"
        }
      ],
      "source": [
        "df.groupby('category_income')['debt'].mean()"
      ]
    },
    {
      "cell_type": "markdown",
      "metadata": {
        "id": "GrdBKT74XaF-"
      },
      "source": [
        "**Вывод**"
      ]
    },
    {
      "cell_type": "markdown",
      "metadata": {
        "id": "Pg4E9izvXaF-"
      },
      "source": [
        "Те, кто зарабатывают меньше всего имеют более высокий процент просрочек. Самые расчётливые - люди ниже среднего класса"
      ]
    },
    {
      "cell_type": "markdown",
      "metadata": {
        "id": "_bQkzDHsXaF-"
      },
      "source": [
        "- Как разные цели кредита влияют на его возврат в срок?"
      ]
    },
    {
      "cell_type": "code",
      "execution_count": null,
      "metadata": {
        "id": "1TFhdLbvXaF-",
        "outputId": "1e7f2a62-c4aa-4f10-8467-24170085dc8f"
      },
      "outputs": [
        {
          "name": "stdout",
          "output_type": "stream",
          "text": [
            "purpose_aggr  debt\n",
            "автомобиль    0       3530\n",
            "              1        367\n",
            "недвижимость  0       9043\n",
            "              1        715\n",
            "образование   0       3266\n",
            "              1        331\n",
            "свадьба       0       1941\n",
            "              1        158\n",
            "Name: debt, dtype: int64\n",
            "Доля должников среди владельцев авто составляет: 9.4%\n",
            "Доля должников среди владельцев недвижимости составляет: 7.3%\n",
            "Доля должников среди обучающихся  составляет: 9.2%\n",
            "Доля должников среди женатых составляет: 7.5%\n"
          ]
        }
      ],
      "source": [
        "print(df.groupby('purpose_aggr')['debt'].value_counts())\n",
        "\n",
        "total_cars = df[df['purpose_aggr'] == 'автомобиль']['purpose_aggr'].count()\n",
        "debt_cars = df.loc[(df['purpose_aggr']=='автомобиль')&(df['debt']==1), 'debt'].count()\n",
        "debt_to_cars = debt_cars / total_cars\n",
        "\n",
        "total_flats = df[df['purpose_aggr'] == 'недвижимость']['purpose_aggr'].count()\n",
        "debt_flats = df.loc[(df['purpose_aggr']=='недвижимость')&(df['debt']==1), 'debt'].count()\n",
        "debt_to_flats = debt_flats / total_flats\n",
        "\n",
        "total_lower_ed = df[df['purpose_aggr'] == 'образование']['purpose_aggr'].count()\n",
        "debt_lower_ed = df.loc[(df['purpose_aggr']=='образование')&(df['debt']==1), 'debt'].count()\n",
        "debt_to_lower_ed = debt_lower_ed / total_lower_ed\n",
        "\n",
        "total_wedding = df[df['purpose_aggr'] == 'свадьба']['purpose_aggr'].count()\n",
        "debt_wedding = df.loc[(df['purpose_aggr']=='свадьба')&(df['debt']==1), 'debt'].count()\n",
        "debt_to_wedding = debt_wedding / total_wedding \n",
        "\n",
        "print('Доля должников среди владельцев авто составляет: {:.1%}'.format(debt_to_cars))\n",
        "print('Доля должников среди владельцев недвижимости составляет: {:.1%}'.format(debt_to_flats))\n",
        "print('Доля должников среди обучающихся  составляет: {:.1%}'.format(debt_to_lower_ed))\n",
        "print('Доля должников среди женатых составляет: {:.1%}'.format(debt_to_wedding))\n"
      ]
    },
    {
      "cell_type": "code",
      "execution_count": null,
      "metadata": {
        "id": "j039zfHjXaF_",
        "outputId": "8e8fc2fe-3839-4892-8ed2-cac27ba87902"
      },
      "outputs": [
        {
          "data": {
            "text/plain": [
              "purpose_aggr\n",
              "автомобиль      0.093395\n",
              "недвижимость    0.072140\n",
              "образование     0.091994\n",
              "свадьба         0.079216\n",
              "Name: debt, dtype: float64"
            ]
          },
          "execution_count": 62,
          "metadata": {},
          "output_type": "execute_result"
        }
      ],
      "source": [
        "df.groupby('purpose_aggr')['debt'].mean()"
      ]
    },
    {
      "cell_type": "markdown",
      "metadata": {
        "id": "r-lB6fk4XaF_"
      },
      "source": [
        "\n",
        "<div class=\"alert alert-warning\">\n",
        "<h1>Комментарий ревьюера <a class=\"tocSkip\"></a></h1>\n",
        "Очень много кода, тут можно через groupby:\n",
        "    df.groupby('purpose_aggr')['debt'].mean() --- процент должников\n",
        "    \n",
        " </div>"
      ]
    },
    {
      "cell_type": "markdown",
      "metadata": {
        "id": "AVGMOYy-XaF_"
      },
      "source": [
        "**Вывод**"
      ]
    },
    {
      "cell_type": "markdown",
      "metadata": {
        "id": "nIYUkIR_XaF_"
      },
      "source": [
        "Получается, что самые исправные плательщики - владельцы недвижимости. Можно предположить, что эти люди как минимум погашают задолженность вдвоём, а также у них есть стабильная работа в отличие от студентов, например. Следующая категория - молодожены. Вероятно, сумма платежа небольшая, плюс какая-то часть средств может быть подарена родственниками, поэтому нет больших просрочек. Второе место занимают студенты. Можем предположить, что у них ещё нет работы или низкооплачиваемая работа и денег едва хватает на бытовые расходы. На первом месте владельцы авто, можем предположить, что эта категория людей довольно много денег тратит на обслуживание автомобиля (особенно, если это б/у), страховку и прочие расходы."
      ]
    },
    {
      "cell_type": "markdown",
      "metadata": {
        "id": "j8LxUlVuXaGA"
      },
      "source": [
        "## Шаг 4. Общий вывод"
      ]
    },
    {
      "cell_type": "markdown",
      "metadata": {
        "id": "M3EXWyW2XaGA"
      },
      "source": [
        "На основании проанализированных данных можно выделить самые предпочтительные категории людей и цели кредита:\n",
        "1. Молодоженам на свадьбу\n",
        "2. Людям, которые ближе к среднему и обеспеченному классу\n",
        "3. Вдовцы / вдовы\n",
        "4. Недвижимость\n",
        "\n",
        "На наличие / отсутствие детей можно не обращать внимание - разница между задолженностью небольшая. Самые небезопасные цели кредита - это автомобиль и обучение. Также высока доля должников среди низкооплачиваемых людей\n"
      ]
    }
  ],
  "metadata": {
    "kernelspec": {
      "display_name": "Python 3",
      "language": "python",
      "name": "python3"
    },
    "language_info": {
      "codemirror_mode": {
        "name": "ipython",
        "version": 3
      },
      "file_extension": ".py",
      "mimetype": "text/x-python",
      "name": "python",
      "nbconvert_exporter": "python",
      "pygments_lexer": "ipython3",
      "version": "3.7.8"
    },
    "toc": {
      "base_numbering": 1,
      "nav_menu": {},
      "number_sections": true,
      "sideBar": true,
      "skip_h1_title": true,
      "title_cell": "Table of Contents",
      "title_sidebar": "Contents",
      "toc_cell": false,
      "toc_position": {},
      "toc_section_display": true,
      "toc_window_display": false
    },
    "colab": {
      "name": "1b8d39be-3845-4530-98bc-5fbcede32611 (1).ipynb",
      "provenance": []
    }
  },
  "nbformat": 4,
  "nbformat_minor": 0
}